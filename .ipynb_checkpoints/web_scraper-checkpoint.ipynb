{
 "cells": [
  {
   "cell_type": "code",
   "execution_count": 1,
   "id": "34f7791f",
   "metadata": {},
   "outputs": [],
   "source": [
    "import undetected_chromedriver as webdriver\n",
    "from selenium.webdriver.chrome.service import Service\n",
    "from selenium.webdriver.common.by import By\n",
    "from selenium.webdriver.chrome.options import Options\n",
    "from selenium.common.exceptions import TimeoutException\n",
    "from selenium.common.exceptions import ElementClickInterceptedException\n",
    "from selenium.common.exceptions import NoSuchElementException\n",
    "from selenium.webdriver.common.keys import Keys\n",
    "import time\n",
    "import pandas as pd\n",
    "import numpy as np\n",
    "import pymysql"
   ]
  },
  {
   "cell_type": "code",
   "execution_count": null,
   "id": "1592ab06",
   "metadata": {},
   "outputs": [],
   "source": [
    "# brighton_postcodes = ['BN1', 'BN13', 'BN17', 'BN21', 'BN25', 'BN41', 'BN45', 'BN8', 'BN10', 'BN14', 'BN18', 'BN22',\n",
    "#              'BN26', 'BN42', 'BN5', 'BN9', 'BN11', 'BN15', 'BN2', 'BN23', 'BN27', 'BN43', 'BN6', 'BN12',\n",
    "#              'BN16', 'BN20', 'BN24', 'BN3', 'BN44', 'BN7']\n",
    "\n",
    "london_postcodes = pd.read_csv('./Data/London postcode districts.csv', header=0)\n",
    "all_postcodes = london_postcodes['Postcode district'].tolist()\n",
    "gotten_postcodes = pd.read_csv('./Data/gotten_postcodes_london.csv')['postcode'].tolist()\n",
    "gotten_postcodes\n",
    "\n",
    "postcodes = []\n",
    "for post in all_postcodes:\n",
    "    if post not in gotten_postcodes:\n",
    "        postcodes.append(post)\n",
    "print(len(postcodes))\n",
    "postcodes"
   ]
  },
  {
   "cell_type": "code",
   "execution_count": 2,
   "id": "70e99e63",
   "metadata": {},
   "outputs": [],
   "source": [
    "conn = pymysql.connect(\n",
    "            host=\"localhost\",          # Your host name\n",
    "            user=\"root\",      # Your username\n",
    "            password=\"admin\",  # Your password\n",
    "            database=\"property_info_db\"   # Your database name\n",
    "        )\n",
    "cur = conn.cursor()"
   ]
  },
  {
   "cell_type": "code",
   "execution_count": 3,
   "id": "2eb9f35f",
   "metadata": {},
   "outputs": [],
   "source": [
    "def save_property_links_to_db(data, db_name):\n",
    "    \"\"\"\n",
    "    Saves postcode and propert link to database\n",
    "    \"\"\"\n",
    "    cur.execute(f\"\"\"INSERT INTO {db_name} (\n",
    "        postcode, url) VALUES (%s, %s)\"\"\", (\n",
    "        data['postcode'],\n",
    "        data['url']\n",
    "    ))\n",
    "    \n",
    "    conn.commit()\n",
    "    print(\"Saved data to db successfully\")"
   ]
  },
  {
   "cell_type": "code",
   "execution_count": null,
   "id": "cfaf7870",
   "metadata": {},
   "outputs": [],
   "source": [
    "def get_property_links(postcode):\n",
    "    \"\"\"\n",
    "    retrieves the property links from the zoopla website\n",
    "    :param postcodes: a list containing string representation of a postcode district\n",
    "    :return: None\n",
    "    \"\"\"\n",
    "#     urls_list = []\n",
    "#     df = pd.DataFrame()\n",
    "    data = {\n",
    "        'url': \"\",\n",
    "        'postcode': \"\"\n",
    "    }\n",
    "    \n",
    "    try:\n",
    "        s = Service(\"C:\\\\Users\\\\user\\\\Downloads\\\\Drivers\\\\chromedriver_win32\\\\chromedriver.exe\")\n",
    "        url = 'https://www.zoopla.co.uk/'\n",
    "        \n",
    "        chrome_options = Options()\n",
    "        chrome_options.add_argument('--headless')\n",
    "        chrome_options.add_argument('--disable-gpu') \n",
    "\n",
    "        driver = webdriver.Chrome(service=s, options=chrome_options)\n",
    "        driver.get(url)\n",
    "\n",
    "        # Maximize the window\n",
    "        driver.maximize_window()\n",
    "\n",
    "        time.sleep(5)\n",
    "        consent_id = \"gdpr-consent-notice\"\n",
    "\n",
    "        iframe = driver.find_element(By.ID, consent_id)\n",
    "\n",
    "        # Switch to the iframe\n",
    "        driver.switch_to.frame(iframe)\n",
    "\n",
    "        # Click the accept button\n",
    "        time.sleep(2)\n",
    "        accept_cookies_btn = driver.find_element(By.XPATH, \"//button[@id='save']\")\n",
    "        accept_cookies_btn.click()\n",
    "\n",
    "        # switch back to main content\n",
    "        driver.switch_to.default_content()\n",
    "\n",
    "        # Find the search bar\n",
    "        time.sleep(2)\n",
    "        search = driver.find_element(By.XPATH, \"//input[contains(@id,'downshift')]\")\n",
    "        search.send_keys(postcode)\n",
    "\n",
    "        # Click the search button\n",
    "        time.sleep(2)\n",
    "        driver.find_element(By.XPATH, \"//button[@class='x8jo560 x8jo562 x8jo56a _16fktr8']\").click()\n",
    "\n",
    "        # Saving data\n",
    "        time.sleep(5)\n",
    "        # get total number of properties in postcode\n",
    "        total_properties = (\n",
    "            int(driver.find_element(By.XPATH, '//p[@data-testid=\"total-results\"]').text.strip('results').strip('')))\n",
    "        print(f'There are {total_properties} properties in {postcode}')\n",
    "\n",
    "        # # page index\n",
    "        count = 0\n",
    "        number_of_pages = (total_properties // 25) + 1\n",
    "        i = 1\n",
    "\n",
    "        while i <= number_of_pages:\n",
    "            listings = driver.find_elements(By.XPATH, '//a[@class=\"_1maljyt1\"]')\n",
    "#             print(f'The length is {len(listings)}')\n",
    "            print(f'Scrapping page {i} of {number_of_pages} from postcode {postcode}')\n",
    "            for property_link in listings:\n",
    "                count += 1\n",
    "                link = property_link.get_attribute('href')\n",
    "                data['postcode'] = postcode\n",
    "                data['url'] = link or \"\"\n",
    "                save_property_links_to_db(data, \"london_properties_links\")\n",
    "                data['postcode'] = \"\"\n",
    "                data['url'] = \"\"\n",
    "                print(f\"link {count}: {link}\")\n",
    "            i += 1\n",
    "            url = f'https://www.zoopla.co.uk/for-sale/property/{postcode}/?q={postcode}&search_source=home&pn={i}'\n",
    "            driver.get(url)\n",
    "            time.sleep(3)\n",
    "        print(f'Scraping completed for {postcode}')\n",
    "    except ElementClickInterceptedException:\n",
    "        print(f'code failing for postcode {postcode} due to element being intercepted')\n",
    "    except TimeoutException:\n",
    "        print(f'code failing for postcode {postcode} due to timeout')\n",
    "    except NoSuchElementException:\n",
    "        print(f'code failing for postcode {postcode} due to element not being found')\n",
    "    finally:\n",
    "        driver.quit()"
   ]
  },
  {
   "cell_type": "code",
   "execution_count": null,
   "id": "041b215a",
   "metadata": {},
   "outputs": [],
   "source": [
    "for postcode in postcodes:\n",
    "    try:\n",
    "        get_property_links(postcode)\n",
    "    except Exception as ex:\n",
    "        print(f\"Error occurred : {ex}\")\n",
    "        continue\n",
    "print('Done with all postcodes')"
   ]
  },
  {
   "cell_type": "code",
   "execution_count": null,
   "id": "c4287fe2",
   "metadata": {},
   "outputs": [],
   "source": [
    "bad_postcodes_list = []\n",
    "postcodes = pd.read_csv('./Data/bad_postcodes.csv', index_col=[0])\n",
    "# print(postcodes.head())\n",
    "df_existing = pd.read_csv('./Data/property_urls.csv', index_col=[0])\n",
    "# print(df_existing.head())\n",
    "\n",
    "for postcode in postcodes['bad_postcodes'].values:\n",
    "    try:\n",
    "        df_postcode = get_property_links(postcode)\n",
    "        df_existing = pd.concat([df_existing, df_postcode], ignore_index=True)\n",
    "    except ElementClickInterceptedException:\n",
    "        continue\n",
    "    except TimeoutException:\n",
    "        continue\n",
    "    except NoSuchElementException:\n",
    "        continue\n",
    "    finally:\n",
    "        df_existing.to_csv('./Data/property_urls_updated.csv')\n",
    "        pd.DataFrame({'bad_postcodes':bad_postcodes_list}).to_csv('./Data/bad_postcodes_2.csv')\n",
    "print('Done with all postcodes')"
   ]
  },
  {
   "cell_type": "code",
   "execution_count": 3,
   "id": "e454a200",
   "metadata": {},
   "outputs": [],
   "source": [
    "def get_property_info(property_link, postcode) -> dict:\n",
    "    \"\"\"\n",
    "    Retrieves the information of a property\n",
    "    :param property_link: a string representing the property page\n",
    "    :param postcode: a string representing the property's postcode\n",
    "    :return: data_dict: A dictionary containing the property data\n",
    "    \"\"\"\n",
    "    data_dict = {\n",
    "        \"Price\": \"\",\n",
    "        \"Address\": \"\",\n",
    "        \"House Type\": \"\",\n",
    "        \"Number of Bedrooms\": \"\",\n",
    "        \"Number of Bathrooms\": \"\",\n",
    "        \"Number of Receptions\": \"\",\n",
    "        \"Other Features\": \"\",\n",
    "        \"Tenure\": \"\",\n",
    "        \"Lease Time\": \"\",\n",
    "        \"Service Charge\": \"\",\n",
    "        \"Tax Band\": \"\",\n",
    "        \"Ground Rent\": \"\",\n",
    "        \"Commonhold Details\": \"\",\n",
    "        \"Points of Interest\": \"\",\n",
    "        \"Listing Features\": \"\",\n",
    "        \"Description\": \"\",\n",
    "        \"Property Link\": property_link,\n",
    "        \"Postcode\": postcode\n",
    "    }\n",
    "    \n",
    "    try:\n",
    "        s = Service(\"C:\\\\Users\\\\user\\\\Downloads\\\\Drivers\\\\chromedriver_win32\\\\chromedriver.exe\")\n",
    "        chrome_options = Options()\n",
    "        chrome_options.add_argument('--headless')\n",
    "        chrome_options.add_argument('--disable-gpu') \n",
    "\n",
    "        driver = webdriver.Chrome(service=s, options=chrome_options)\n",
    "        driver.get(property_link)\n",
    "\n",
    "        # Maximize the window\n",
    "        # time.sleep(2)\n",
    "        driver.maximize_window()\n",
    "\n",
    "        time.sleep(5)\n",
    "        consent_id = \"gdpr-consent-notice\"\n",
    "\n",
    "        iframe = driver.find_element(By.ID, consent_id)\n",
    "\n",
    "        # Switch to the iframe\n",
    "        driver.switch_to.frame(iframe)\n",
    "\n",
    "        # Click the accept button\n",
    "        time.sleep(2)\n",
    "        accept_cookies_btn = driver.find_element(By.XPATH, \"//button[@id='save']\")\n",
    "        accept_cookies_btn.click()\n",
    "\n",
    "        # switch back to main content\n",
    "        driver.switch_to.default_content()\n",
    "\n",
    "        # time.sleep(2)\n",
    "\n",
    "        # get price\n",
    "        data_dict[\"Price\"] = driver.find_element(By.XPATH, '//p[@data-testid=\"price\"]').text or np.nan\n",
    "\n",
    "        # address\n",
    "        data_dict[\"Address\"] = driver.find_element(By.XPATH, '//address[@data-testid=\"address-label\"]').text or np.nan\n",
    "\n",
    "        # house type\n",
    "        data_dict[\"House Type\"] = (driver.find_element(By.XPATH, '//p[@data-testid=\"title-label\"]').text.lower()\n",
    "                      .replace('for sale', \"\").strip() or np.nan)\n",
    "\n",
    "        # features\n",
    "        for feature in driver.find_elements(By.XPATH, '//div[@class=\"_1fuu7p80 _1fuu7p85 _1dgm2fc8 \"]'):\n",
    "            # Number of Bedrooms\n",
    "            if 'bed' in feature.text.lower():\n",
    "                data_dict[\"Number of Bedrooms\"] = feature.text or np.nan\n",
    "            # Number of Bathrooms\n",
    "            elif 'bath' in feature.text.lower(): \n",
    "                data_dict[\"Number of Bathrooms\"] = feature.text or np.nan\n",
    "            # Number of Receptions\n",
    "            elif 'reception' in feature.text.lower():\n",
    "                data_dict[\"Number of Receptions\"] = feature.text or np.nan\n",
    "            # Other Features\n",
    "            else:\n",
    "                data_dict[\"Other Features\"] = data_dict.get(\"Other Features\", \"\") + str(feature.text) + ','\n",
    "        data_dict[\"Other Features\"] = data_dict.get(\"Other Features\", \"\").rstrip(',')\n",
    "\n",
    "        # contract info\n",
    "        for info in driver.find_elements(By.XPATH, '//div[@class=\"_1k66bqh0\"]'):\n",
    "            # Tenure\n",
    "            if 'tenure' in info.text.lower():\n",
    "                data_dict[\"Tenure\"] = info.find_element(By.XPATH, \"following-sibling::*[1]\").text or np.nan\n",
    "            # Least Time\n",
    "            elif 'lease' in info.text.lower():\n",
    "                data_dict[\"Lease Time\"] = info.find_element(By.XPATH, 'following-sibling::*[1]').text or np.nan\n",
    "            # Service Charge\n",
    "            elif 'service' in info.text.lower():\n",
    "                data_dict[\"Service Charge\"] = info.find_element(By.XPATH, 'following-sibling::*[1]').text or np.nan\n",
    "            # Tax Band\n",
    "            elif 'tax' in info.text.lower():\n",
    "                data_dict[\"Tax Band\"] = info.find_element(By.XPATH, 'following-sibling::*[1]').text or np.nan\n",
    "            # Ground Rent\n",
    "            elif 'rent' in info.text.lower():\n",
    "                data_dict[\"Ground Rent\"] = info.find_element(By.XPATH, 'following-sibling::*[1]').text or np.nan\n",
    "            # Commonhold\n",
    "            elif 'commonhold' in info.text.lower():\n",
    "                data_dict[\"Commonhold Details\"] = info.find_element(By.XPATH, 'following-sibling::*[1]').text or np.nan\n",
    "\n",
    "        # points of interest\n",
    "        for interest in driver.find_elements(By.XPATH, '//li[@class=\"cx0jbd2\"]'):\n",
    "            data_dict[\"Points of Interest\"] = data_dict.get(\"Points of Interest\", \"\") + str(interest.text) + ','\n",
    "        data_dict[\"Points of Interest\"] = data_dict.get(\"Points of Interest\", \"\").rstrip(',')\n",
    "\n",
    "        # listing features\n",
    "        for listing_feature in driver.find_elements(By.XPATH, '//li[@class=\"swbww71\"]'):\n",
    "            data_dict[\"Listing Features\"] = data_dict.get(\"Listing Features\", \"\") + listing_feature.text + '\\n'\n",
    "\n",
    "        # description\n",
    "        data_dict[\"Description\"] = driver.find_element(By.XPATH, '//div[@class=\"ru2q7m3\"]').text or np.nan\n",
    "        \n",
    "    except Exception as ex:\n",
    "        print(f'An error occurred for link in get_data_func: {property_link}: {ex}')\n",
    "#         bad_link = {'Link':property_link, 'postcode': postcode}\n",
    "#         bad_links.append(bad_link)\n",
    "    finally:\n",
    "        driver.quit()\n",
    "        time.sleep(2)\n",
    "    return data_dict"
   ]
  },
  {
   "cell_type": "code",
   "execution_count": 4,
   "id": "73503eb7",
   "metadata": {},
   "outputs": [],
   "source": [
    "def save_to_db(data):\n",
    "    \"\"\"\n",
    "    Saves extracted data to an sql database\n",
    "    :param data\n",
    "    \"\"\"\n",
    "    cur.execute(\"\"\"INSERT INTO london_properties (\n",
    "        price, address, house_type, number_of_bedrooms, number_of_bathrooms, number_of_receptions, other_features, tenure, \n",
    "        lease_time, service_charge, tax_band, ground_rent, commonhold_details, points_of_interest, listing_features, \n",
    "        description_text, property_link, postcode) \n",
    "        VALUES (%s, %s, %s, %s, %s, %s, %s, %s, %s, %s, %s, %s, %s, %s, %s, %s, %s, %s)\n",
    "        \"\"\", (\n",
    "    data['Price'],\n",
    "    data['Address'],\n",
    "    data['House Type'],\n",
    "    data['Number of Bedrooms'],\n",
    "    data['Number of Bathrooms'],\n",
    "    data['Number of Receptions'],\n",
    "    data['Other Features'],\n",
    "    data['Tenure'],\n",
    "    data['Lease Time'],\n",
    "    data['Service Charge'],\n",
    "    data['Tax Band'],\n",
    "    data['Ground Rent'],\n",
    "    data['Commonhold Details'],\n",
    "    data['Points of Interest'],\n",
    "    data['Listing Features'],\n",
    "    data['Description'],\n",
    "    data['Property Link'],\n",
    "    data['Postcode']))\n",
    "    \n",
    "    conn.commit()\n",
    "    print(\"Saved to db successfully\")"
   ]
  },
  {
   "cell_type": "code",
   "execution_count": 10,
   "id": "ab220608",
   "metadata": {},
   "outputs": [
    {
     "data": {
      "text/html": [
       "<div>\n",
       "<style scoped>\n",
       "    .dataframe tbody tr th:only-of-type {\n",
       "        vertical-align: middle;\n",
       "    }\n",
       "\n",
       "    .dataframe tbody tr th {\n",
       "        vertical-align: top;\n",
       "    }\n",
       "\n",
       "    .dataframe thead th {\n",
       "        text-align: right;\n",
       "    }\n",
       "</style>\n",
       "<table border=\"1\" class=\"dataframe\">\n",
       "  <thead>\n",
       "    <tr style=\"text-align: right;\">\n",
       "      <th></th>\n",
       "      <th>postcode</th>\n",
       "      <th>url</th>\n",
       "    </tr>\n",
       "    <tr>\n",
       "      <th>0</th>\n",
       "      <th></th>\n",
       "      <th></th>\n",
       "    </tr>\n",
       "  </thead>\n",
       "  <tbody>\n",
       "  </tbody>\n",
       "</table>\n",
       "</div>"
      ],
      "text/plain": [
       "Empty DataFrame\n",
       "Columns: [postcode, url]\n",
       "Index: []"
      ]
     },
     "execution_count": 10,
     "metadata": {},
     "output_type": "execute_result"
    }
   ],
   "source": [
    "property_data = pd.read_csv('./Data/property_urls_london.csv', index_col = [0], skiprows=45378, header=None)\n",
    "property_data.columns = ['postcode', 'url']\n",
    "lk = \"https://www.zoopla.co.uk/for-sale/details/62768575/?search_identifier=013feed887b342cadf9c137c11b3bf8d4b66f4f6cfccf62b21a137da0b38fb5a\"\n",
    "property_data[property_data['url'] == lk]\n",
    "# property_data"
   ]
  },
  {
   "cell_type": "code",
   "execution_count": 11,
   "id": "5b4d9baf",
   "metadata": {
    "scrolled": true
   },
   "outputs": [
    {
     "name": "stderr",
     "output_type": "stream",
     "text": [
      "could not detect version_main.therefore, we are assuming it is chrome 108 or higher\n"
     ]
    },
    {
     "name": "stdout",
     "output_type": "stream",
     "text": [
      "Starting extraction for link 45378: https://www.zoopla.co.uk/for-sale/details/62727343/?search_identifier=013feed887b342cadf9c137c11b3bf8d4b66f4f6cfccf62b21a137da0b38fb5a\n"
     ]
    },
    {
     "name": "stderr",
     "output_type": "stream",
     "text": [
      "could not detect version_main.therefore, we are assuming it is chrome 108 or higher\n"
     ]
    },
    {
     "name": "stdout",
     "output_type": "stream",
     "text": [
      "Saved to db successfully\n",
      "Done with link 45378: https://www.zoopla.co.uk/for-sale/details/62727343/?search_identifier=013feed887b342cadf9c137c11b3bf8d4b66f4f6cfccf62b21a137da0b38fb5a\n",
      "Starting extraction for link 45379: https://www.zoopla.co.uk/for-sale/details/62705610/?search_identifier=013feed887b342cadf9c137c11b3bf8d4b66f4f6cfccf62b21a137da0b38fb5a\n"
     ]
    },
    {
     "name": "stderr",
     "output_type": "stream",
     "text": [
      "could not detect version_main.therefore, we are assuming it is chrome 108 or higher\n"
     ]
    },
    {
     "name": "stdout",
     "output_type": "stream",
     "text": [
      "Saved to db successfully\n",
      "Done with link 45379: https://www.zoopla.co.uk/for-sale/details/62705610/?search_identifier=013feed887b342cadf9c137c11b3bf8d4b66f4f6cfccf62b21a137da0b38fb5a\n",
      "Starting extraction for link 45380: https://www.zoopla.co.uk/for-sale/details/62545657/?search_identifier=013feed887b342cadf9c137c11b3bf8d4b66f4f6cfccf62b21a137da0b38fb5a\n",
      "An error occurred for link in get_data_func: https://www.zoopla.co.uk/for-sale/details/62545657/?search_identifier=013feed887b342cadf9c137c11b3bf8d4b66f4f6cfccf62b21a137da0b38fb5a: Message: no such element: Unable to locate element: {\"method\":\"xpath\",\"selector\":\"//p[@data-testid=\"price\"]\"}\n",
      "  (Session info: chrome=115.0.5790.171); For documentation on this error, please visit: https://www.selenium.dev/documentation/webdriver/troubleshooting/errors#no-such-element-exception\n",
      "Stacktrace:\n",
      "Backtrace:\n",
      "\tGetHandleVerifier [0x0073A813+48355]\n",
      "\t(No symbol) [0x006CC4B1]\n",
      "\t(No symbol) [0x005D5358]\n",
      "\t(No symbol) [0x006009A5]\n",
      "\t(No symbol) [0x00600B3B]\n",
      "\t(No symbol) [0x0062E232]\n",
      "\t(No symbol) [0x0061A784]\n",
      "\t(No symbol) [0x0062C922]\n",
      "\t(No symbol) [0x0061A536]\n",
      "\t(No symbol) [0x005F82DC]\n",
      "\t(No symbol) [0x005F93DD]\n",
      "\tGetHandleVerifier [0x0099AABD+2539405]\n",
      "\tGetHandleVerifier [0x009DA78F+2800735]\n",
      "\tGetHandleVerifier [0x009D456C+2775612]\n",
      "\tGetHandleVerifier [0x007C51E0+616112]\n",
      "\t(No symbol) [0x006D5F8C]\n",
      "\t(No symbol) [0x006D2328]\n",
      "\t(No symbol) [0x006D240B]\n",
      "\t(No symbol) [0x006C4FF7]\n",
      "\tBaseThreadInitThunk [0x761E7D59+25]\n",
      "\tRtlInitializeExceptionChain [0x773DB79B+107]\n",
      "\tRtlClearBits [0x773DB71F+191]\n",
      "\n"
     ]
    },
    {
     "name": "stderr",
     "output_type": "stream",
     "text": [
      "could not detect version_main.therefore, we are assuming it is chrome 108 or higher\n"
     ]
    },
    {
     "name": "stdout",
     "output_type": "stream",
     "text": [
      "Saved to db successfully\n",
      "Done with link 45380: https://www.zoopla.co.uk/for-sale/details/62545657/?search_identifier=013feed887b342cadf9c137c11b3bf8d4b66f4f6cfccf62b21a137da0b38fb5a\n",
      "Starting extraction for link 45381: https://www.zoopla.co.uk/for-sale/details/62511141/?search_identifier=013feed887b342cadf9c137c11b3bf8d4b66f4f6cfccf62b21a137da0b38fb5a\n"
     ]
    },
    {
     "name": "stderr",
     "output_type": "stream",
     "text": [
      "could not detect version_main.therefore, we are assuming it is chrome 108 or higher\n"
     ]
    },
    {
     "name": "stdout",
     "output_type": "stream",
     "text": [
      "Saved to db successfully\n",
      "Done with link 45381: https://www.zoopla.co.uk/for-sale/details/62511141/?search_identifier=013feed887b342cadf9c137c11b3bf8d4b66f4f6cfccf62b21a137da0b38fb5a\n",
      "Starting extraction for link 45382: https://www.zoopla.co.uk/for-sale/details/62448879/?search_identifier=013feed887b342cadf9c137c11b3bf8d4b66f4f6cfccf62b21a137da0b38fb5a\n"
     ]
    },
    {
     "name": "stderr",
     "output_type": "stream",
     "text": [
      "could not detect version_main.therefore, we are assuming it is chrome 108 or higher\n"
     ]
    },
    {
     "name": "stdout",
     "output_type": "stream",
     "text": [
      "Saved to db successfully\n",
      "Done with link 45382: https://www.zoopla.co.uk/for-sale/details/62448879/?search_identifier=013feed887b342cadf9c137c11b3bf8d4b66f4f6cfccf62b21a137da0b38fb5a\n",
      "Starting extraction for link 45383: https://www.zoopla.co.uk/for-sale/details/62438867/?search_identifier=013feed887b342cadf9c137c11b3bf8d4b66f4f6cfccf62b21a137da0b38fb5a\n"
     ]
    },
    {
     "name": "stderr",
     "output_type": "stream",
     "text": [
      "could not detect version_main.therefore, we are assuming it is chrome 108 or higher\n"
     ]
    },
    {
     "name": "stdout",
     "output_type": "stream",
     "text": [
      "Saved to db successfully\n",
      "Done with link 45383: https://www.zoopla.co.uk/for-sale/details/62438867/?search_identifier=013feed887b342cadf9c137c11b3bf8d4b66f4f6cfccf62b21a137da0b38fb5a\n",
      "Starting extraction for link 45384: https://www.zoopla.co.uk/for-sale/details/62423687/?search_identifier=013feed887b342cadf9c137c11b3bf8d4b66f4f6cfccf62b21a137da0b38fb5a\n"
     ]
    },
    {
     "name": "stderr",
     "output_type": "stream",
     "text": [
      "could not detect version_main.therefore, we are assuming it is chrome 108 or higher\n"
     ]
    },
    {
     "name": "stdout",
     "output_type": "stream",
     "text": [
      "Saved to db successfully\n",
      "Done with link 45384: https://www.zoopla.co.uk/for-sale/details/62423687/?search_identifier=013feed887b342cadf9c137c11b3bf8d4b66f4f6cfccf62b21a137da0b38fb5a\n",
      "Starting extraction for link 45385: https://www.zoopla.co.uk/for-sale/details/62406284/?search_identifier=013feed887b342cadf9c137c11b3bf8d4b66f4f6cfccf62b21a137da0b38fb5a\n"
     ]
    },
    {
     "name": "stderr",
     "output_type": "stream",
     "text": [
      "could not detect version_main.therefore, we are assuming it is chrome 108 or higher\n"
     ]
    },
    {
     "name": "stdout",
     "output_type": "stream",
     "text": [
      "Saved to db successfully\n",
      "Done with link 45385: https://www.zoopla.co.uk/for-sale/details/62406284/?search_identifier=013feed887b342cadf9c137c11b3bf8d4b66f4f6cfccf62b21a137da0b38fb5a\n",
      "Starting extraction for link 45386: https://www.zoopla.co.uk/for-sale/details/62266745/?search_identifier=013feed887b342cadf9c137c11b3bf8d4b66f4f6cfccf62b21a137da0b38fb5a\n"
     ]
    },
    {
     "name": "stderr",
     "output_type": "stream",
     "text": [
      "could not detect version_main.therefore, we are assuming it is chrome 108 or higher\n"
     ]
    },
    {
     "name": "stdout",
     "output_type": "stream",
     "text": [
      "Saved to db successfully\n",
      "Done with link 45386: https://www.zoopla.co.uk/for-sale/details/62266745/?search_identifier=013feed887b342cadf9c137c11b3bf8d4b66f4f6cfccf62b21a137da0b38fb5a\n",
      "Starting extraction for link 45387: https://www.zoopla.co.uk/for-sale/details/62123941/?search_identifier=df79a1994c688dba1e119be7393695a28bba6497e3e4eae3e3c8a12e955812f2\n"
     ]
    },
    {
     "name": "stderr",
     "output_type": "stream",
     "text": [
      "could not detect version_main.therefore, we are assuming it is chrome 108 or higher\n"
     ]
    },
    {
     "name": "stdout",
     "output_type": "stream",
     "text": [
      "Saved to db successfully\n",
      "Done with link 45387: https://www.zoopla.co.uk/for-sale/details/62123941/?search_identifier=df79a1994c688dba1e119be7393695a28bba6497e3e4eae3e3c8a12e955812f2\n",
      "Starting extraction for link 45388: https://www.zoopla.co.uk/for-sale/details/62095346/?search_identifier=df79a1994c688dba1e119be7393695a28bba6497e3e4eae3e3c8a12e955812f2\n"
     ]
    },
    {
     "name": "stderr",
     "output_type": "stream",
     "text": [
      "could not detect version_main.therefore, we are assuming it is chrome 108 or higher\n"
     ]
    },
    {
     "name": "stdout",
     "output_type": "stream",
     "text": [
      "Saved to db successfully\n",
      "Done with link 45388: https://www.zoopla.co.uk/for-sale/details/62095346/?search_identifier=df79a1994c688dba1e119be7393695a28bba6497e3e4eae3e3c8a12e955812f2\n",
      "Starting extraction for link 45389: https://www.zoopla.co.uk/for-sale/details/61994326/?search_identifier=df79a1994c688dba1e119be7393695a28bba6497e3e4eae3e3c8a12e955812f2\n",
      "An error occurred for link in get_data_func: https://www.zoopla.co.uk/for-sale/details/61994326/?search_identifier=df79a1994c688dba1e119be7393695a28bba6497e3e4eae3e3c8a12e955812f2: Message: no such element: Unable to locate element: {\"method\":\"xpath\",\"selector\":\"//p[@data-testid=\"price\"]\"}\n",
      "  (Session info: chrome=115.0.5790.171); For documentation on this error, please visit: https://www.selenium.dev/documentation/webdriver/troubleshooting/errors#no-such-element-exception\n",
      "Stacktrace:\n",
      "Backtrace:\n",
      "\tGetHandleVerifier [0x0073A813+48355]\n",
      "\t(No symbol) [0x006CC4B1]\n",
      "\t(No symbol) [0x005D5358]\n",
      "\t(No symbol) [0x006009A5]\n",
      "\t(No symbol) [0x00600B3B]\n",
      "\t(No symbol) [0x0062E232]\n",
      "\t(No symbol) [0x0061A784]\n",
      "\t(No symbol) [0x0062C922]\n",
      "\t(No symbol) [0x0061A536]\n",
      "\t(No symbol) [0x005F82DC]\n",
      "\t(No symbol) [0x005F93DD]\n",
      "\tGetHandleVerifier [0x0099AABD+2539405]\n",
      "\tGetHandleVerifier [0x009DA78F+2800735]\n",
      "\tGetHandleVerifier [0x009D456C+2775612]\n",
      "\tGetHandleVerifier [0x007C51E0+616112]\n",
      "\t(No symbol) [0x006D5F8C]\n",
      "\t(No symbol) [0x006D2328]\n",
      "\t(No symbol) [0x006D240B]\n",
      "\t(No symbol) [0x006C4FF7]\n",
      "\tBaseThreadInitThunk [0x761E7D59+25]\n",
      "\tRtlInitializeExceptionChain [0x773DB79B+107]\n",
      "\tRtlClearBits [0x773DB71F+191]\n",
      "\n"
     ]
    },
    {
     "name": "stderr",
     "output_type": "stream",
     "text": [
      "could not detect version_main.therefore, we are assuming it is chrome 108 or higher\n"
     ]
    },
    {
     "name": "stdout",
     "output_type": "stream",
     "text": [
      "Saved to db successfully\n",
      "Done with link 45389: https://www.zoopla.co.uk/for-sale/details/61994326/?search_identifier=df79a1994c688dba1e119be7393695a28bba6497e3e4eae3e3c8a12e955812f2\n",
      "Starting extraction for link 45390: https://www.zoopla.co.uk/for-sale/details/61972460/?search_identifier=df79a1994c688dba1e119be7393695a28bba6497e3e4eae3e3c8a12e955812f2\n"
     ]
    },
    {
     "name": "stderr",
     "output_type": "stream",
     "text": [
      "could not detect version_main.therefore, we are assuming it is chrome 108 or higher\n"
     ]
    },
    {
     "name": "stdout",
     "output_type": "stream",
     "text": [
      "Saved to db successfully\n",
      "Done with link 45390: https://www.zoopla.co.uk/for-sale/details/61972460/?search_identifier=df79a1994c688dba1e119be7393695a28bba6497e3e4eae3e3c8a12e955812f2\n",
      "Starting extraction for link 45391: https://www.zoopla.co.uk/for-sale/details/61721097/?search_identifier=df79a1994c688dba1e119be7393695a28bba6497e3e4eae3e3c8a12e955812f2\n"
     ]
    },
    {
     "name": "stderr",
     "output_type": "stream",
     "text": [
      "could not detect version_main.therefore, we are assuming it is chrome 108 or higher\n"
     ]
    },
    {
     "name": "stdout",
     "output_type": "stream",
     "text": [
      "Saved to db successfully\n",
      "Done with link 45391: https://www.zoopla.co.uk/for-sale/details/61721097/?search_identifier=df79a1994c688dba1e119be7393695a28bba6497e3e4eae3e3c8a12e955812f2\n",
      "Starting extraction for link 45392: https://www.zoopla.co.uk/for-sale/details/60693664/?search_identifier=df79a1994c688dba1e119be7393695a28bba6497e3e4eae3e3c8a12e955812f2\n"
     ]
    },
    {
     "name": "stderr",
     "output_type": "stream",
     "text": [
      "could not detect version_main.therefore, we are assuming it is chrome 108 or higher\n"
     ]
    },
    {
     "name": "stdout",
     "output_type": "stream",
     "text": [
      "Saved to db successfully\n",
      "Done with link 45392: https://www.zoopla.co.uk/for-sale/details/60693664/?search_identifier=df79a1994c688dba1e119be7393695a28bba6497e3e4eae3e3c8a12e955812f2\n",
      "Starting extraction for link 45393: https://www.zoopla.co.uk/for-sale/details/60313958/?search_identifier=df79a1994c688dba1e119be7393695a28bba6497e3e4eae3e3c8a12e955812f2\n"
     ]
    },
    {
     "name": "stderr",
     "output_type": "stream",
     "text": [
      "could not detect version_main.therefore, we are assuming it is chrome 108 or higher\n"
     ]
    },
    {
     "name": "stdout",
     "output_type": "stream",
     "text": [
      "Saved to db successfully\n",
      "Done with link 45393: https://www.zoopla.co.uk/for-sale/details/60313958/?search_identifier=df79a1994c688dba1e119be7393695a28bba6497e3e4eae3e3c8a12e955812f2\n",
      "Starting extraction for link 45394: https://www.zoopla.co.uk/for-sale/details/54121095/?search_identifier=df79a1994c688dba1e119be7393695a28bba6497e3e4eae3e3c8a12e955812f2\n"
     ]
    },
    {
     "name": "stderr",
     "output_type": "stream",
     "text": [
      "could not detect version_main.therefore, we are assuming it is chrome 108 or higher\n"
     ]
    },
    {
     "name": "stdout",
     "output_type": "stream",
     "text": [
      "Saved to db successfully\n",
      "Done with link 45394: https://www.zoopla.co.uk/for-sale/details/54121095/?search_identifier=df79a1994c688dba1e119be7393695a28bba6497e3e4eae3e3c8a12e955812f2\n",
      "Starting extraction for link 45395: https://www.zoopla.co.uk/for-sale/details/55686721/?search_identifier=df79a1994c688dba1e119be7393695a28bba6497e3e4eae3e3c8a12e955812f2\n"
     ]
    },
    {
     "name": "stderr",
     "output_type": "stream",
     "text": [
      "could not detect version_main.therefore, we are assuming it is chrome 108 or higher\n"
     ]
    },
    {
     "name": "stdout",
     "output_type": "stream",
     "text": [
      "Saved to db successfully\n",
      "Done with link 45395: https://www.zoopla.co.uk/for-sale/details/55686721/?search_identifier=df79a1994c688dba1e119be7393695a28bba6497e3e4eae3e3c8a12e955812f2\n",
      "Starting extraction for link 45396: https://www.zoopla.co.uk/for-sale/details/65215823/?search_identifier=1d9ae7caaf441912b16cb01be365d224a1c899ca0d490f28a6be202a5a5c9dc9\n"
     ]
    },
    {
     "name": "stderr",
     "output_type": "stream",
     "text": [
      "could not detect version_main.therefore, we are assuming it is chrome 108 or higher\n"
     ]
    },
    {
     "name": "stdout",
     "output_type": "stream",
     "text": [
      "Saved to db successfully\n",
      "Done with link 45396: https://www.zoopla.co.uk/for-sale/details/65215823/?search_identifier=1d9ae7caaf441912b16cb01be365d224a1c899ca0d490f28a6be202a5a5c9dc9\n",
      "Starting extraction for link 45397: https://www.zoopla.co.uk/for-sale/details/65204308/?search_identifier=1d9ae7caaf441912b16cb01be365d224a1c899ca0d490f28a6be202a5a5c9dc9\n"
     ]
    },
    {
     "name": "stderr",
     "output_type": "stream",
     "text": [
      "could not detect version_main.therefore, we are assuming it is chrome 108 or higher\n"
     ]
    },
    {
     "name": "stdout",
     "output_type": "stream",
     "text": [
      "Saved to db successfully\n",
      "Done with link 45397: https://www.zoopla.co.uk/for-sale/details/65204308/?search_identifier=1d9ae7caaf441912b16cb01be365d224a1c899ca0d490f28a6be202a5a5c9dc9\n",
      "Starting extraction for link 45398: https://www.zoopla.co.uk/for-sale/details/65198451/?search_identifier=1d9ae7caaf441912b16cb01be365d224a1c899ca0d490f28a6be202a5a5c9dc9\n"
     ]
    },
    {
     "name": "stderr",
     "output_type": "stream",
     "text": [
      "could not detect version_main.therefore, we are assuming it is chrome 108 or higher\n"
     ]
    },
    {
     "name": "stdout",
     "output_type": "stream",
     "text": [
      "Saved to db successfully\n",
      "Done with link 45398: https://www.zoopla.co.uk/for-sale/details/65198451/?search_identifier=1d9ae7caaf441912b16cb01be365d224a1c899ca0d490f28a6be202a5a5c9dc9\n",
      "Starting extraction for link 45399: https://www.zoopla.co.uk/for-sale/details/65195234/?search_identifier=1d9ae7caaf441912b16cb01be365d224a1c899ca0d490f28a6be202a5a5c9dc9\n"
     ]
    },
    {
     "name": "stderr",
     "output_type": "stream",
     "text": [
      "could not detect version_main.therefore, we are assuming it is chrome 108 or higher\n"
     ]
    },
    {
     "name": "stdout",
     "output_type": "stream",
     "text": [
      "Saved to db successfully\n",
      "Done with link 45399: https://www.zoopla.co.uk/for-sale/details/65195234/?search_identifier=1d9ae7caaf441912b16cb01be365d224a1c899ca0d490f28a6be202a5a5c9dc9\n",
      "Starting extraction for link 45400: https://www.zoopla.co.uk/for-sale/details/65184507/?search_identifier=1d9ae7caaf441912b16cb01be365d224a1c899ca0d490f28a6be202a5a5c9dc9\n"
     ]
    },
    {
     "name": "stderr",
     "output_type": "stream",
     "text": [
      "could not detect version_main.therefore, we are assuming it is chrome 108 or higher\n"
     ]
    },
    {
     "name": "stdout",
     "output_type": "stream",
     "text": [
      "Saved to db successfully\n",
      "Done with link 45400: https://www.zoopla.co.uk/for-sale/details/65184507/?search_identifier=1d9ae7caaf441912b16cb01be365d224a1c899ca0d490f28a6be202a5a5c9dc9\n",
      "Starting extraction for link 45401: https://www.zoopla.co.uk/for-sale/details/60712158/?search_identifier=1d9ae7caaf441912b16cb01be365d224a1c899ca0d490f28a6be202a5a5c9dc9\n"
     ]
    },
    {
     "name": "stderr",
     "output_type": "stream",
     "text": [
      "could not detect version_main.therefore, we are assuming it is chrome 108 or higher\n"
     ]
    },
    {
     "name": "stdout",
     "output_type": "stream",
     "text": [
      "Saved to db successfully\n",
      "Done with link 45401: https://www.zoopla.co.uk/for-sale/details/60712158/?search_identifier=1d9ae7caaf441912b16cb01be365d224a1c899ca0d490f28a6be202a5a5c9dc9\n",
      "Starting extraction for link 45402: https://www.zoopla.co.uk/for-sale/details/65180773/?search_identifier=1d9ae7caaf441912b16cb01be365d224a1c899ca0d490f28a6be202a5a5c9dc9\n"
     ]
    },
    {
     "name": "stderr",
     "output_type": "stream",
     "text": [
      "could not detect version_main.therefore, we are assuming it is chrome 108 or higher\n"
     ]
    },
    {
     "name": "stdout",
     "output_type": "stream",
     "text": [
      "Saved to db successfully\n",
      "Done with link 45402: https://www.zoopla.co.uk/for-sale/details/65180773/?search_identifier=1d9ae7caaf441912b16cb01be365d224a1c899ca0d490f28a6be202a5a5c9dc9\n",
      "Starting extraction for link 45403: https://www.zoopla.co.uk/for-sale/details/65177418/?search_identifier=1d9ae7caaf441912b16cb01be365d224a1c899ca0d490f28a6be202a5a5c9dc9\n"
     ]
    },
    {
     "name": "stderr",
     "output_type": "stream",
     "text": [
      "could not detect version_main.therefore, we are assuming it is chrome 108 or higher\n"
     ]
    },
    {
     "name": "stdout",
     "output_type": "stream",
     "text": [
      "Saved to db successfully\n",
      "Done with link 45403: https://www.zoopla.co.uk/for-sale/details/65177418/?search_identifier=1d9ae7caaf441912b16cb01be365d224a1c899ca0d490f28a6be202a5a5c9dc9\n",
      "Starting extraction for link 45404: https://www.zoopla.co.uk/for-sale/details/65174524/?search_identifier=1d9ae7caaf441912b16cb01be365d224a1c899ca0d490f28a6be202a5a5c9dc9\n"
     ]
    },
    {
     "name": "stderr",
     "output_type": "stream",
     "text": [
      "could not detect version_main.therefore, we are assuming it is chrome 108 or higher\n"
     ]
    },
    {
     "name": "stdout",
     "output_type": "stream",
     "text": [
      "Saved to db successfully\n",
      "Done with link 45404: https://www.zoopla.co.uk/for-sale/details/65174524/?search_identifier=1d9ae7caaf441912b16cb01be365d224a1c899ca0d490f28a6be202a5a5c9dc9\n",
      "Starting extraction for link 45405: https://www.zoopla.co.uk/for-sale/details/65155983/?search_identifier=1d9ae7caaf441912b16cb01be365d224a1c899ca0d490f28a6be202a5a5c9dc9\n",
      "An error occurred for link in get_data_func: https://www.zoopla.co.uk/for-sale/details/65155983/?search_identifier=1d9ae7caaf441912b16cb01be365d224a1c899ca0d490f28a6be202a5a5c9dc9: Message: no such element: Unable to locate element: {\"method\":\"xpath\",\"selector\":\"//p[@data-testid=\"price\"]\"}\n",
      "  (Session info: chrome=115.0.5790.171); For documentation on this error, please visit: https://www.selenium.dev/documentation/webdriver/troubleshooting/errors#no-such-element-exception\n",
      "Stacktrace:\n",
      "Backtrace:\n",
      "\tGetHandleVerifier [0x0073A813+48355]\n",
      "\t(No symbol) [0x006CC4B1]\n",
      "\t(No symbol) [0x005D5358]\n",
      "\t(No symbol) [0x006009A5]\n",
      "\t(No symbol) [0x00600B3B]\n",
      "\t(No symbol) [0x0062E232]\n",
      "\t(No symbol) [0x0061A784]\n",
      "\t(No symbol) [0x0062C922]\n",
      "\t(No symbol) [0x0061A536]\n",
      "\t(No symbol) [0x005F82DC]\n",
      "\t(No symbol) [0x005F93DD]\n",
      "\tGetHandleVerifier [0x0099AABD+2539405]\n",
      "\tGetHandleVerifier [0x009DA78F+2800735]\n",
      "\tGetHandleVerifier [0x009D456C+2775612]\n",
      "\tGetHandleVerifier [0x007C51E0+616112]\n",
      "\t(No symbol) [0x006D5F8C]\n",
      "\t(No symbol) [0x006D2328]\n",
      "\t(No symbol) [0x006D240B]\n",
      "\t(No symbol) [0x006C4FF7]\n",
      "\tBaseThreadInitThunk [0x761E7D59+25]\n",
      "\tRtlInitializeExceptionChain [0x773DB79B+107]\n",
      "\tRtlClearBits [0x773DB71F+191]\n",
      "\n"
     ]
    },
    {
     "name": "stderr",
     "output_type": "stream",
     "text": [
      "could not detect version_main.therefore, we are assuming it is chrome 108 or higher\n"
     ]
    },
    {
     "name": "stdout",
     "output_type": "stream",
     "text": [
      "Saved to db successfully\n",
      "Done with link 45405: https://www.zoopla.co.uk/for-sale/details/65155983/?search_identifier=1d9ae7caaf441912b16cb01be365d224a1c899ca0d490f28a6be202a5a5c9dc9\n",
      "Starting extraction for link 45406: https://www.zoopla.co.uk/for-sale/details/65155952/?search_identifier=1d9ae7caaf441912b16cb01be365d224a1c899ca0d490f28a6be202a5a5c9dc9\n"
     ]
    },
    {
     "name": "stderr",
     "output_type": "stream",
     "text": [
      "could not detect version_main.therefore, we are assuming it is chrome 108 or higher\n"
     ]
    },
    {
     "name": "stdout",
     "output_type": "stream",
     "text": [
      "Saved to db successfully\n",
      "Done with link 45406: https://www.zoopla.co.uk/for-sale/details/65155952/?search_identifier=1d9ae7caaf441912b16cb01be365d224a1c899ca0d490f28a6be202a5a5c9dc9\n",
      "Starting extraction for link 45407: https://www.zoopla.co.uk/for-sale/details/65136684/?search_identifier=1d9ae7caaf441912b16cb01be365d224a1c899ca0d490f28a6be202a5a5c9dc9\n"
     ]
    },
    {
     "name": "stderr",
     "output_type": "stream",
     "text": [
      "could not detect version_main.therefore, we are assuming it is chrome 108 or higher\n"
     ]
    },
    {
     "name": "stdout",
     "output_type": "stream",
     "text": [
      "Saved to db successfully\n",
      "Done with link 45407: https://www.zoopla.co.uk/for-sale/details/65136684/?search_identifier=1d9ae7caaf441912b16cb01be365d224a1c899ca0d490f28a6be202a5a5c9dc9\n",
      "Starting extraction for link 45408: https://www.zoopla.co.uk/for-sale/details/65128996/?search_identifier=1d9ae7caaf441912b16cb01be365d224a1c899ca0d490f28a6be202a5a5c9dc9\n",
      "An error occurred for link in get_data_func: https://www.zoopla.co.uk/for-sale/details/65128996/?search_identifier=1d9ae7caaf441912b16cb01be365d224a1c899ca0d490f28a6be202a5a5c9dc9: Message: no such element: Unable to locate element: {\"method\":\"xpath\",\"selector\":\"//p[@data-testid=\"price\"]\"}\n",
      "  (Session info: chrome=115.0.5790.171); For documentation on this error, please visit: https://www.selenium.dev/documentation/webdriver/troubleshooting/errors#no-such-element-exception\n",
      "Stacktrace:\n",
      "Backtrace:\n",
      "\tGetHandleVerifier [0x0073A813+48355]\n",
      "\t(No symbol) [0x006CC4B1]\n",
      "\t(No symbol) [0x005D5358]\n",
      "\t(No symbol) [0x006009A5]\n",
      "\t(No symbol) [0x00600B3B]\n",
      "\t(No symbol) [0x0062E232]\n",
      "\t(No symbol) [0x0061A784]\n",
      "\t(No symbol) [0x0062C922]\n",
      "\t(No symbol) [0x0061A536]\n",
      "\t(No symbol) [0x005F82DC]\n",
      "\t(No symbol) [0x005F93DD]\n",
      "\tGetHandleVerifier [0x0099AABD+2539405]\n",
      "\tGetHandleVerifier [0x009DA78F+2800735]\n",
      "\tGetHandleVerifier [0x009D456C+2775612]\n",
      "\tGetHandleVerifier [0x007C51E0+616112]\n",
      "\t(No symbol) [0x006D5F8C]\n",
      "\t(No symbol) [0x006D2328]\n",
      "\t(No symbol) [0x006D240B]\n",
      "\t(No symbol) [0x006C4FF7]\n",
      "\tBaseThreadInitThunk [0x761E7D59+25]\n",
      "\tRtlInitializeExceptionChain [0x773DB79B+107]\n",
      "\tRtlClearBits [0x773DB71F+191]\n",
      "\n"
     ]
    },
    {
     "name": "stderr",
     "output_type": "stream",
     "text": [
      "could not detect version_main.therefore, we are assuming it is chrome 108 or higher\n"
     ]
    },
    {
     "name": "stdout",
     "output_type": "stream",
     "text": [
      "Saved to db successfully\n",
      "Done with link 45408: https://www.zoopla.co.uk/for-sale/details/65128996/?search_identifier=1d9ae7caaf441912b16cb01be365d224a1c899ca0d490f28a6be202a5a5c9dc9\n",
      "Starting extraction for link 45409: https://www.zoopla.co.uk/for-sale/details/65121945/?search_identifier=1d9ae7caaf441912b16cb01be365d224a1c899ca0d490f28a6be202a5a5c9dc9\n"
     ]
    },
    {
     "name": "stderr",
     "output_type": "stream",
     "text": [
      "could not detect version_main.therefore, we are assuming it is chrome 108 or higher\n"
     ]
    },
    {
     "name": "stdout",
     "output_type": "stream",
     "text": [
      "Saved to db successfully\n",
      "Done with link 45409: https://www.zoopla.co.uk/for-sale/details/65121945/?search_identifier=1d9ae7caaf441912b16cb01be365d224a1c899ca0d490f28a6be202a5a5c9dc9\n",
      "Starting extraction for link 45410: https://www.zoopla.co.uk/for-sale/details/65121030/?search_identifier=1d9ae7caaf441912b16cb01be365d224a1c899ca0d490f28a6be202a5a5c9dc9\n"
     ]
    },
    {
     "name": "stderr",
     "output_type": "stream",
     "text": [
      "could not detect version_main.therefore, we are assuming it is chrome 108 or higher\n"
     ]
    },
    {
     "name": "stdout",
     "output_type": "stream",
     "text": [
      "Saved to db successfully\n",
      "Done with link 45410: https://www.zoopla.co.uk/for-sale/details/65121030/?search_identifier=1d9ae7caaf441912b16cb01be365d224a1c899ca0d490f28a6be202a5a5c9dc9\n",
      "Starting extraction for link 45411: https://www.zoopla.co.uk/for-sale/details/65116056/?search_identifier=1d9ae7caaf441912b16cb01be365d224a1c899ca0d490f28a6be202a5a5c9dc9\n"
     ]
    },
    {
     "name": "stderr",
     "output_type": "stream",
     "text": [
      "could not detect version_main.therefore, we are assuming it is chrome 108 or higher\n"
     ]
    },
    {
     "name": "stdout",
     "output_type": "stream",
     "text": [
      "Saved to db successfully\n",
      "Done with link 45411: https://www.zoopla.co.uk/for-sale/details/65116056/?search_identifier=1d9ae7caaf441912b16cb01be365d224a1c899ca0d490f28a6be202a5a5c9dc9\n",
      "Starting extraction for link 45412: https://www.zoopla.co.uk/for-sale/details/65106750/?search_identifier=1d9ae7caaf441912b16cb01be365d224a1c899ca0d490f28a6be202a5a5c9dc9\n"
     ]
    },
    {
     "name": "stderr",
     "output_type": "stream",
     "text": [
      "could not detect version_main.therefore, we are assuming it is chrome 108 or higher\n"
     ]
    },
    {
     "name": "stdout",
     "output_type": "stream",
     "text": [
      "Saved to db successfully\n",
      "Done with link 45412: https://www.zoopla.co.uk/for-sale/details/65106750/?search_identifier=1d9ae7caaf441912b16cb01be365d224a1c899ca0d490f28a6be202a5a5c9dc9\n",
      "Starting extraction for link 45413: https://www.zoopla.co.uk/for-sale/details/65091285/?search_identifier=1d9ae7caaf441912b16cb01be365d224a1c899ca0d490f28a6be202a5a5c9dc9\n"
     ]
    },
    {
     "name": "stderr",
     "output_type": "stream",
     "text": [
      "could not detect version_main.therefore, we are assuming it is chrome 108 or higher\n"
     ]
    },
    {
     "name": "stdout",
     "output_type": "stream",
     "text": [
      "Saved to db successfully\n",
      "Done with link 45413: https://www.zoopla.co.uk/for-sale/details/65091285/?search_identifier=1d9ae7caaf441912b16cb01be365d224a1c899ca0d490f28a6be202a5a5c9dc9\n",
      "Starting extraction for link 45414: https://www.zoopla.co.uk/for-sale/details/61433429/?search_identifier=1d9ae7caaf441912b16cb01be365d224a1c899ca0d490f28a6be202a5a5c9dc9\n"
     ]
    },
    {
     "name": "stderr",
     "output_type": "stream",
     "text": [
      "could not detect version_main.therefore, we are assuming it is chrome 108 or higher\n"
     ]
    },
    {
     "name": "stdout",
     "output_type": "stream",
     "text": [
      "Saved to db successfully\n",
      "Done with link 45414: https://www.zoopla.co.uk/for-sale/details/61433429/?search_identifier=1d9ae7caaf441912b16cb01be365d224a1c899ca0d490f28a6be202a5a5c9dc9\n",
      "Starting extraction for link 45415: https://www.zoopla.co.uk/for-sale/details/65081357/?search_identifier=1d9ae7caaf441912b16cb01be365d224a1c899ca0d490f28a6be202a5a5c9dc9\n"
     ]
    },
    {
     "name": "stderr",
     "output_type": "stream",
     "text": [
      "could not detect version_main.therefore, we are assuming it is chrome 108 or higher\n"
     ]
    },
    {
     "name": "stdout",
     "output_type": "stream",
     "text": [
      "Saved to db successfully\n",
      "Done with link 45415: https://www.zoopla.co.uk/for-sale/details/65081357/?search_identifier=1d9ae7caaf441912b16cb01be365d224a1c899ca0d490f28a6be202a5a5c9dc9\n",
      "Starting extraction for link 45416: https://www.zoopla.co.uk/for-sale/details/65081006/?search_identifier=1d9ae7caaf441912b16cb01be365d224a1c899ca0d490f28a6be202a5a5c9dc9\n",
      "An error occurred for link in get_data_func: https://www.zoopla.co.uk/for-sale/details/65081006/?search_identifier=1d9ae7caaf441912b16cb01be365d224a1c899ca0d490f28a6be202a5a5c9dc9: Message: no such element: Unable to locate element: {\"method\":\"xpath\",\"selector\":\"//p[@data-testid=\"price\"]\"}\n",
      "  (Session info: chrome=115.0.5790.171); For documentation on this error, please visit: https://www.selenium.dev/documentation/webdriver/troubleshooting/errors#no-such-element-exception\n",
      "Stacktrace:\n",
      "Backtrace:\n",
      "\tGetHandleVerifier [0x0073A813+48355]\n",
      "\t(No symbol) [0x006CC4B1]\n",
      "\t(No symbol) [0x005D5358]\n",
      "\t(No symbol) [0x006009A5]\n",
      "\t(No symbol) [0x00600B3B]\n",
      "\t(No symbol) [0x0062E232]\n",
      "\t(No symbol) [0x0061A784]\n",
      "\t(No symbol) [0x0062C922]\n",
      "\t(No symbol) [0x0061A536]\n",
      "\t(No symbol) [0x005F82DC]\n",
      "\t(No symbol) [0x005F93DD]\n",
      "\tGetHandleVerifier [0x0099AABD+2539405]\n",
      "\tGetHandleVerifier [0x009DA78F+2800735]\n",
      "\tGetHandleVerifier [0x009D456C+2775612]\n",
      "\tGetHandleVerifier [0x007C51E0+616112]\n",
      "\t(No symbol) [0x006D5F8C]\n",
      "\t(No symbol) [0x006D2328]\n",
      "\t(No symbol) [0x006D240B]\n",
      "\t(No symbol) [0x006C4FF7]\n",
      "\tBaseThreadInitThunk [0x761E7D59+25]\n",
      "\tRtlInitializeExceptionChain [0x773DB79B+107]\n",
      "\tRtlClearBits [0x773DB71F+191]\n",
      "\n"
     ]
    },
    {
     "name": "stderr",
     "output_type": "stream",
     "text": [
      "could not detect version_main.therefore, we are assuming it is chrome 108 or higher\n"
     ]
    },
    {
     "name": "stdout",
     "output_type": "stream",
     "text": [
      "Saved to db successfully\n",
      "Done with link 45416: https://www.zoopla.co.uk/for-sale/details/65081006/?search_identifier=1d9ae7caaf441912b16cb01be365d224a1c899ca0d490f28a6be202a5a5c9dc9\n",
      "Starting extraction for link 45417: https://www.zoopla.co.uk/for-sale/details/65066688/?search_identifier=1d9ae7caaf441912b16cb01be365d224a1c899ca0d490f28a6be202a5a5c9dc9\n"
     ]
    },
    {
     "name": "stderr",
     "output_type": "stream",
     "text": [
      "could not detect version_main.therefore, we are assuming it is chrome 108 or higher\n"
     ]
    },
    {
     "name": "stdout",
     "output_type": "stream",
     "text": [
      "Saved to db successfully\n",
      "Done with link 45417: https://www.zoopla.co.uk/for-sale/details/65066688/?search_identifier=1d9ae7caaf441912b16cb01be365d224a1c899ca0d490f28a6be202a5a5c9dc9\n",
      "Starting extraction for link 45418: https://www.zoopla.co.uk/for-sale/details/65035490/?search_identifier=1d9ae7caaf441912b16cb01be365d224a1c899ca0d490f28a6be202a5a5c9dc9\n"
     ]
    },
    {
     "name": "stderr",
     "output_type": "stream",
     "text": [
      "could not detect version_main.therefore, we are assuming it is chrome 108 or higher\n"
     ]
    },
    {
     "name": "stdout",
     "output_type": "stream",
     "text": [
      "Saved to db successfully\n",
      "Done with link 45418: https://www.zoopla.co.uk/for-sale/details/65035490/?search_identifier=1d9ae7caaf441912b16cb01be365d224a1c899ca0d490f28a6be202a5a5c9dc9\n",
      "Starting extraction for link 45419: https://www.zoopla.co.uk/for-sale/details/65025400/?search_identifier=1d9ae7caaf441912b16cb01be365d224a1c899ca0d490f28a6be202a5a5c9dc9\n"
     ]
    },
    {
     "name": "stderr",
     "output_type": "stream",
     "text": [
      "could not detect version_main.therefore, we are assuming it is chrome 108 or higher\n"
     ]
    },
    {
     "name": "stdout",
     "output_type": "stream",
     "text": [
      "Saved to db successfully\n",
      "Done with link 45419: https://www.zoopla.co.uk/for-sale/details/65025400/?search_identifier=1d9ae7caaf441912b16cb01be365d224a1c899ca0d490f28a6be202a5a5c9dc9\n",
      "Starting extraction for link 45420: https://www.zoopla.co.uk/for-sale/details/65023732/?search_identifier=1d9ae7caaf441912b16cb01be365d224a1c899ca0d490f28a6be202a5a5c9dc9\n"
     ]
    },
    {
     "name": "stderr",
     "output_type": "stream",
     "text": [
      "could not detect version_main.therefore, we are assuming it is chrome 108 or higher\n"
     ]
    },
    {
     "name": "stdout",
     "output_type": "stream",
     "text": [
      "Saved to db successfully\n",
      "Done with link 45420: https://www.zoopla.co.uk/for-sale/details/65023732/?search_identifier=1d9ae7caaf441912b16cb01be365d224a1c899ca0d490f28a6be202a5a5c9dc9\n",
      "Starting extraction for link 45421: https://www.zoopla.co.uk/for-sale/details/65007805/?search_identifier=bac583ccd277d498ce24d7cdb4d2273d0439a7a6a88aa31022d4e77503ef1722\n"
     ]
    },
    {
     "name": "stderr",
     "output_type": "stream",
     "text": [
      "could not detect version_main.therefore, we are assuming it is chrome 108 or higher\n"
     ]
    },
    {
     "name": "stdout",
     "output_type": "stream",
     "text": [
      "Saved to db successfully\n",
      "Done with link 45421: https://www.zoopla.co.uk/for-sale/details/65007805/?search_identifier=bac583ccd277d498ce24d7cdb4d2273d0439a7a6a88aa31022d4e77503ef1722\n",
      "Starting extraction for link 45422: https://www.zoopla.co.uk/for-sale/details/64987331/?search_identifier=bac583ccd277d498ce24d7cdb4d2273d0439a7a6a88aa31022d4e77503ef1722\n"
     ]
    },
    {
     "name": "stderr",
     "output_type": "stream",
     "text": [
      "could not detect version_main.therefore, we are assuming it is chrome 108 or higher\n"
     ]
    },
    {
     "name": "stdout",
     "output_type": "stream",
     "text": [
      "Saved to db successfully\n",
      "Done with link 45422: https://www.zoopla.co.uk/for-sale/details/64987331/?search_identifier=bac583ccd277d498ce24d7cdb4d2273d0439a7a6a88aa31022d4e77503ef1722\n",
      "Starting extraction for link 45423: https://www.zoopla.co.uk/for-sale/details/58095941/?search_identifier=bac583ccd277d498ce24d7cdb4d2273d0439a7a6a88aa31022d4e77503ef1722\n"
     ]
    },
    {
     "name": "stderr",
     "output_type": "stream",
     "text": [
      "could not detect version_main.therefore, we are assuming it is chrome 108 or higher\n"
     ]
    },
    {
     "name": "stdout",
     "output_type": "stream",
     "text": [
      "Saved to db successfully\n",
      "Done with link 45423: https://www.zoopla.co.uk/for-sale/details/58095941/?search_identifier=bac583ccd277d498ce24d7cdb4d2273d0439a7a6a88aa31022d4e77503ef1722\n",
      "Starting extraction for link 45424: https://www.zoopla.co.uk/for-sale/details/64962025/?search_identifier=bac583ccd277d498ce24d7cdb4d2273d0439a7a6a88aa31022d4e77503ef1722\n"
     ]
    },
    {
     "name": "stderr",
     "output_type": "stream",
     "text": [
      "could not detect version_main.therefore, we are assuming it is chrome 108 or higher\n"
     ]
    },
    {
     "name": "stdout",
     "output_type": "stream",
     "text": [
      "Saved to db successfully\n",
      "Done with link 45424: https://www.zoopla.co.uk/for-sale/details/64962025/?search_identifier=bac583ccd277d498ce24d7cdb4d2273d0439a7a6a88aa31022d4e77503ef1722\n",
      "Starting extraction for link 45425: https://www.zoopla.co.uk/for-sale/details/64959845/?search_identifier=bac583ccd277d498ce24d7cdb4d2273d0439a7a6a88aa31022d4e77503ef1722\n"
     ]
    },
    {
     "name": "stderr",
     "output_type": "stream",
     "text": [
      "could not detect version_main.therefore, we are assuming it is chrome 108 or higher\n"
     ]
    },
    {
     "name": "stdout",
     "output_type": "stream",
     "text": [
      "Saved to db successfully\n",
      "Done with link 45425: https://www.zoopla.co.uk/for-sale/details/64959845/?search_identifier=bac583ccd277d498ce24d7cdb4d2273d0439a7a6a88aa31022d4e77503ef1722\n",
      "Starting extraction for link 45426: https://www.zoopla.co.uk/for-sale/details/64944904/?search_identifier=bac583ccd277d498ce24d7cdb4d2273d0439a7a6a88aa31022d4e77503ef1722\n"
     ]
    },
    {
     "name": "stderr",
     "output_type": "stream",
     "text": [
      "could not detect version_main.therefore, we are assuming it is chrome 108 or higher\n"
     ]
    },
    {
     "name": "stdout",
     "output_type": "stream",
     "text": [
      "Saved to db successfully\n",
      "Done with link 45426: https://www.zoopla.co.uk/for-sale/details/64944904/?search_identifier=bac583ccd277d498ce24d7cdb4d2273d0439a7a6a88aa31022d4e77503ef1722\n",
      "Starting extraction for link 45427: https://www.zoopla.co.uk/for-sale/details/64933428/?search_identifier=bac583ccd277d498ce24d7cdb4d2273d0439a7a6a88aa31022d4e77503ef1722\n"
     ]
    },
    {
     "name": "stderr",
     "output_type": "stream",
     "text": [
      "could not detect version_main.therefore, we are assuming it is chrome 108 or higher\n"
     ]
    },
    {
     "name": "stdout",
     "output_type": "stream",
     "text": [
      "Saved to db successfully\n",
      "Done with link 45427: https://www.zoopla.co.uk/for-sale/details/64933428/?search_identifier=bac583ccd277d498ce24d7cdb4d2273d0439a7a6a88aa31022d4e77503ef1722\n",
      "Starting extraction for link 45428: https://www.zoopla.co.uk/for-sale/details/64918956/?search_identifier=bac583ccd277d498ce24d7cdb4d2273d0439a7a6a88aa31022d4e77503ef1722\n"
     ]
    },
    {
     "name": "stderr",
     "output_type": "stream",
     "text": [
      "could not detect version_main.therefore, we are assuming it is chrome 108 or higher\n"
     ]
    },
    {
     "name": "stdout",
     "output_type": "stream",
     "text": [
      "Saved to db successfully\n",
      "Done with link 45428: https://www.zoopla.co.uk/for-sale/details/64918956/?search_identifier=bac583ccd277d498ce24d7cdb4d2273d0439a7a6a88aa31022d4e77503ef1722\n",
      "Starting extraction for link 45429: https://www.zoopla.co.uk/for-sale/details/64910289/?search_identifier=bac583ccd277d498ce24d7cdb4d2273d0439a7a6a88aa31022d4e77503ef1722\n"
     ]
    },
    {
     "name": "stderr",
     "output_type": "stream",
     "text": [
      "could not detect version_main.therefore, we are assuming it is chrome 108 or higher\n"
     ]
    },
    {
     "name": "stdout",
     "output_type": "stream",
     "text": [
      "Saved to db successfully\n",
      "Done with link 45429: https://www.zoopla.co.uk/for-sale/details/64910289/?search_identifier=bac583ccd277d498ce24d7cdb4d2273d0439a7a6a88aa31022d4e77503ef1722\n",
      "Starting extraction for link 45430: https://www.zoopla.co.uk/for-sale/details/64899933/?search_identifier=bac583ccd277d498ce24d7cdb4d2273d0439a7a6a88aa31022d4e77503ef1722\n"
     ]
    },
    {
     "name": "stderr",
     "output_type": "stream",
     "text": [
      "could not detect version_main.therefore, we are assuming it is chrome 108 or higher\n"
     ]
    },
    {
     "name": "stdout",
     "output_type": "stream",
     "text": [
      "Saved to db successfully\n",
      "Done with link 45430: https://www.zoopla.co.uk/for-sale/details/64899933/?search_identifier=bac583ccd277d498ce24d7cdb4d2273d0439a7a6a88aa31022d4e77503ef1722\n",
      "Starting extraction for link 45431: https://www.zoopla.co.uk/for-sale/details/64896196/?search_identifier=bac583ccd277d498ce24d7cdb4d2273d0439a7a6a88aa31022d4e77503ef1722\n"
     ]
    },
    {
     "name": "stderr",
     "output_type": "stream",
     "text": [
      "could not detect version_main.therefore, we are assuming it is chrome 108 or higher\n"
     ]
    },
    {
     "name": "stdout",
     "output_type": "stream",
     "text": [
      "Saved to db successfully\n",
      "Done with link 45431: https://www.zoopla.co.uk/for-sale/details/64896196/?search_identifier=bac583ccd277d498ce24d7cdb4d2273d0439a7a6a88aa31022d4e77503ef1722\n",
      "Starting extraction for link 45432: https://www.zoopla.co.uk/for-sale/details/64894332/?search_identifier=bac583ccd277d498ce24d7cdb4d2273d0439a7a6a88aa31022d4e77503ef1722\n"
     ]
    },
    {
     "name": "stderr",
     "output_type": "stream",
     "text": [
      "could not detect version_main.therefore, we are assuming it is chrome 108 or higher\n"
     ]
    },
    {
     "name": "stdout",
     "output_type": "stream",
     "text": [
      "Saved to db successfully\n",
      "Done with link 45432: https://www.zoopla.co.uk/for-sale/details/64894332/?search_identifier=bac583ccd277d498ce24d7cdb4d2273d0439a7a6a88aa31022d4e77503ef1722\n",
      "Starting extraction for link 45433: https://www.zoopla.co.uk/for-sale/details/64839970/?search_identifier=bac583ccd277d498ce24d7cdb4d2273d0439a7a6a88aa31022d4e77503ef1722\n"
     ]
    },
    {
     "name": "stderr",
     "output_type": "stream",
     "text": [
      "could not detect version_main.therefore, we are assuming it is chrome 108 or higher\n"
     ]
    },
    {
     "name": "stdout",
     "output_type": "stream",
     "text": [
      "Saved to db successfully\n",
      "Done with link 45433: https://www.zoopla.co.uk/for-sale/details/64839970/?search_identifier=bac583ccd277d498ce24d7cdb4d2273d0439a7a6a88aa31022d4e77503ef1722\n",
      "Starting extraction for link 45434: https://www.zoopla.co.uk/for-sale/details/64835490/?search_identifier=bac583ccd277d498ce24d7cdb4d2273d0439a7a6a88aa31022d4e77503ef1722\n"
     ]
    },
    {
     "name": "stderr",
     "output_type": "stream",
     "text": [
      "could not detect version_main.therefore, we are assuming it is chrome 108 or higher\n"
     ]
    },
    {
     "name": "stdout",
     "output_type": "stream",
     "text": [
      "Saved to db successfully\n",
      "Done with link 45434: https://www.zoopla.co.uk/for-sale/details/64835490/?search_identifier=bac583ccd277d498ce24d7cdb4d2273d0439a7a6a88aa31022d4e77503ef1722\n",
      "Starting extraction for link 45435: https://www.zoopla.co.uk/for-sale/details/64816923/?search_identifier=bac583ccd277d498ce24d7cdb4d2273d0439a7a6a88aa31022d4e77503ef1722\n"
     ]
    },
    {
     "name": "stderr",
     "output_type": "stream",
     "text": [
      "could not detect version_main.therefore, we are assuming it is chrome 108 or higher\n"
     ]
    },
    {
     "name": "stdout",
     "output_type": "stream",
     "text": [
      "Saved to db successfully\n",
      "Done with link 45435: https://www.zoopla.co.uk/for-sale/details/64816923/?search_identifier=bac583ccd277d498ce24d7cdb4d2273d0439a7a6a88aa31022d4e77503ef1722\n",
      "Starting extraction for link 45436: https://www.zoopla.co.uk/for-sale/details/64816904/?search_identifier=bac583ccd277d498ce24d7cdb4d2273d0439a7a6a88aa31022d4e77503ef1722\n",
      "An error occurred for link in get_data_func: https://www.zoopla.co.uk/for-sale/details/64816904/?search_identifier=bac583ccd277d498ce24d7cdb4d2273d0439a7a6a88aa31022d4e77503ef1722: Message: no such element: Unable to locate element: {\"method\":\"xpath\",\"selector\":\"//p[@data-testid=\"price\"]\"}\n",
      "  (Session info: chrome=115.0.5790.171); For documentation on this error, please visit: https://www.selenium.dev/documentation/webdriver/troubleshooting/errors#no-such-element-exception\n",
      "Stacktrace:\n",
      "Backtrace:\n",
      "\tGetHandleVerifier [0x0073A813+48355]\n",
      "\t(No symbol) [0x006CC4B1]\n",
      "\t(No symbol) [0x005D5358]\n",
      "\t(No symbol) [0x006009A5]\n",
      "\t(No symbol) [0x00600B3B]\n",
      "\t(No symbol) [0x0062E232]\n",
      "\t(No symbol) [0x0061A784]\n",
      "\t(No symbol) [0x0062C922]\n",
      "\t(No symbol) [0x0061A536]\n",
      "\t(No symbol) [0x005F82DC]\n",
      "\t(No symbol) [0x005F93DD]\n",
      "\tGetHandleVerifier [0x0099AABD+2539405]\n",
      "\tGetHandleVerifier [0x009DA78F+2800735]\n",
      "\tGetHandleVerifier [0x009D456C+2775612]\n",
      "\tGetHandleVerifier [0x007C51E0+616112]\n",
      "\t(No symbol) [0x006D5F8C]\n",
      "\t(No symbol) [0x006D2328]\n",
      "\t(No symbol) [0x006D240B]\n",
      "\t(No symbol) [0x006C4FF7]\n",
      "\tBaseThreadInitThunk [0x761E7D59+25]\n",
      "\tRtlInitializeExceptionChain [0x773DB79B+107]\n",
      "\tRtlClearBits [0x773DB71F+191]\n",
      "\n"
     ]
    },
    {
     "name": "stderr",
     "output_type": "stream",
     "text": [
      "could not detect version_main.therefore, we are assuming it is chrome 108 or higher\n"
     ]
    },
    {
     "name": "stdout",
     "output_type": "stream",
     "text": [
      "Saved to db successfully\n",
      "Done with link 45436: https://www.zoopla.co.uk/for-sale/details/64816904/?search_identifier=bac583ccd277d498ce24d7cdb4d2273d0439a7a6a88aa31022d4e77503ef1722\n",
      "Starting extraction for link 45437: https://www.zoopla.co.uk/for-sale/details/64811575/?search_identifier=bac583ccd277d498ce24d7cdb4d2273d0439a7a6a88aa31022d4e77503ef1722\n"
     ]
    },
    {
     "name": "stderr",
     "output_type": "stream",
     "text": [
      "could not detect version_main.therefore, we are assuming it is chrome 108 or higher\n"
     ]
    },
    {
     "name": "stdout",
     "output_type": "stream",
     "text": [
      "Saved to db successfully\n",
      "Done with link 45437: https://www.zoopla.co.uk/for-sale/details/64811575/?search_identifier=bac583ccd277d498ce24d7cdb4d2273d0439a7a6a88aa31022d4e77503ef1722\n",
      "Starting extraction for link 45438: https://www.zoopla.co.uk/for-sale/details/64800363/?search_identifier=bac583ccd277d498ce24d7cdb4d2273d0439a7a6a88aa31022d4e77503ef1722\n"
     ]
    },
    {
     "name": "stderr",
     "output_type": "stream",
     "text": [
      "could not detect version_main.therefore, we are assuming it is chrome 108 or higher\n"
     ]
    },
    {
     "name": "stdout",
     "output_type": "stream",
     "text": [
      "Saved to db successfully\n",
      "Done with link 45438: https://www.zoopla.co.uk/for-sale/details/64800363/?search_identifier=bac583ccd277d498ce24d7cdb4d2273d0439a7a6a88aa31022d4e77503ef1722\n",
      "Starting extraction for link 45439: https://www.zoopla.co.uk/for-sale/details/64796633/?search_identifier=bac583ccd277d498ce24d7cdb4d2273d0439a7a6a88aa31022d4e77503ef1722\n"
     ]
    },
    {
     "name": "stderr",
     "output_type": "stream",
     "text": [
      "could not detect version_main.therefore, we are assuming it is chrome 108 or higher\n"
     ]
    },
    {
     "name": "stdout",
     "output_type": "stream",
     "text": [
      "Saved to db successfully\n",
      "Done with link 45439: https://www.zoopla.co.uk/for-sale/details/64796633/?search_identifier=bac583ccd277d498ce24d7cdb4d2273d0439a7a6a88aa31022d4e77503ef1722\n",
      "Starting extraction for link 45440: https://www.zoopla.co.uk/for-sale/details/64795434/?search_identifier=bac583ccd277d498ce24d7cdb4d2273d0439a7a6a88aa31022d4e77503ef1722\n"
     ]
    },
    {
     "name": "stderr",
     "output_type": "stream",
     "text": [
      "could not detect version_main.therefore, we are assuming it is chrome 108 or higher\n"
     ]
    },
    {
     "name": "stdout",
     "output_type": "stream",
     "text": [
      "Saved to db successfully\n",
      "Done with link 45440: https://www.zoopla.co.uk/for-sale/details/64795434/?search_identifier=bac583ccd277d498ce24d7cdb4d2273d0439a7a6a88aa31022d4e77503ef1722\n",
      "Starting extraction for link 45441: https://www.zoopla.co.uk/for-sale/details/64790096/?search_identifier=bac583ccd277d498ce24d7cdb4d2273d0439a7a6a88aa31022d4e77503ef1722\n"
     ]
    },
    {
     "name": "stderr",
     "output_type": "stream",
     "text": [
      "could not detect version_main.therefore, we are assuming it is chrome 108 or higher\n"
     ]
    },
    {
     "name": "stdout",
     "output_type": "stream",
     "text": [
      "Saved to db successfully\n",
      "Done with link 45441: https://www.zoopla.co.uk/for-sale/details/64790096/?search_identifier=bac583ccd277d498ce24d7cdb4d2273d0439a7a6a88aa31022d4e77503ef1722\n",
      "Starting extraction for link 45442: https://www.zoopla.co.uk/for-sale/details/64780308/?search_identifier=bac583ccd277d498ce24d7cdb4d2273d0439a7a6a88aa31022d4e77503ef1722\n"
     ]
    },
    {
     "name": "stderr",
     "output_type": "stream",
     "text": [
      "could not detect version_main.therefore, we are assuming it is chrome 108 or higher\n"
     ]
    },
    {
     "name": "stdout",
     "output_type": "stream",
     "text": [
      "Saved to db successfully\n",
      "Done with link 45442: https://www.zoopla.co.uk/for-sale/details/64780308/?search_identifier=bac583ccd277d498ce24d7cdb4d2273d0439a7a6a88aa31022d4e77503ef1722\n",
      "Starting extraction for link 45443: https://www.zoopla.co.uk/for-sale/details/54184085/?search_identifier=bac583ccd277d498ce24d7cdb4d2273d0439a7a6a88aa31022d4e77503ef1722\n"
     ]
    },
    {
     "name": "stderr",
     "output_type": "stream",
     "text": [
      "could not detect version_main.therefore, we are assuming it is chrome 108 or higher\n"
     ]
    },
    {
     "name": "stdout",
     "output_type": "stream",
     "text": [
      "Saved to db successfully\n",
      "Done with link 45443: https://www.zoopla.co.uk/for-sale/details/54184085/?search_identifier=bac583ccd277d498ce24d7cdb4d2273d0439a7a6a88aa31022d4e77503ef1722\n",
      "Starting extraction for link 45444: https://www.zoopla.co.uk/for-sale/details/64754426/?search_identifier=bac583ccd277d498ce24d7cdb4d2273d0439a7a6a88aa31022d4e77503ef1722\n"
     ]
    },
    {
     "name": "stderr",
     "output_type": "stream",
     "text": [
      "could not detect version_main.therefore, we are assuming it is chrome 108 or higher\n"
     ]
    },
    {
     "name": "stdout",
     "output_type": "stream",
     "text": [
      "Saved to db successfully\n",
      "Done with link 45444: https://www.zoopla.co.uk/for-sale/details/64754426/?search_identifier=bac583ccd277d498ce24d7cdb4d2273d0439a7a6a88aa31022d4e77503ef1722\n",
      "Starting extraction for link 45445: https://www.zoopla.co.uk/for-sale/details/64728725/?search_identifier=bac583ccd277d498ce24d7cdb4d2273d0439a7a6a88aa31022d4e77503ef1722\n"
     ]
    },
    {
     "name": "stderr",
     "output_type": "stream",
     "text": [
      "could not detect version_main.therefore, we are assuming it is chrome 108 or higher\n"
     ]
    },
    {
     "name": "stdout",
     "output_type": "stream",
     "text": [
      "Saved to db successfully\n",
      "Done with link 45445: https://www.zoopla.co.uk/for-sale/details/64728725/?search_identifier=bac583ccd277d498ce24d7cdb4d2273d0439a7a6a88aa31022d4e77503ef1722\n",
      "Starting extraction for link 45446: https://www.zoopla.co.uk/for-sale/details/64723824/?search_identifier=e57a90a9ca6ef40a9ff10fd17e1c60d7c4ac01c0e8d8d84c4ff1a36e6592e686\n"
     ]
    },
    {
     "name": "stderr",
     "output_type": "stream",
     "text": [
      "could not detect version_main.therefore, we are assuming it is chrome 108 or higher\n"
     ]
    },
    {
     "name": "stdout",
     "output_type": "stream",
     "text": [
      "Saved to db successfully\n",
      "Done with link 45446: https://www.zoopla.co.uk/for-sale/details/64723824/?search_identifier=e57a90a9ca6ef40a9ff10fd17e1c60d7c4ac01c0e8d8d84c4ff1a36e6592e686\n",
      "Starting extraction for link 45447: https://www.zoopla.co.uk/for-sale/details/64722900/?search_identifier=e57a90a9ca6ef40a9ff10fd17e1c60d7c4ac01c0e8d8d84c4ff1a36e6592e686\n"
     ]
    },
    {
     "name": "stderr",
     "output_type": "stream",
     "text": [
      "could not detect version_main.therefore, we are assuming it is chrome 108 or higher\n"
     ]
    },
    {
     "name": "stdout",
     "output_type": "stream",
     "text": [
      "Saved to db successfully\n",
      "Done with link 45447: https://www.zoopla.co.uk/for-sale/details/64722900/?search_identifier=e57a90a9ca6ef40a9ff10fd17e1c60d7c4ac01c0e8d8d84c4ff1a36e6592e686\n",
      "Starting extraction for link 45448: https://www.zoopla.co.uk/for-sale/details/64709897/?search_identifier=e57a90a9ca6ef40a9ff10fd17e1c60d7c4ac01c0e8d8d84c4ff1a36e6592e686\n"
     ]
    },
    {
     "name": "stderr",
     "output_type": "stream",
     "text": [
      "could not detect version_main.therefore, we are assuming it is chrome 108 or higher\n"
     ]
    },
    {
     "name": "stdout",
     "output_type": "stream",
     "text": [
      "Saved to db successfully\n",
      "Done with link 45448: https://www.zoopla.co.uk/for-sale/details/64709897/?search_identifier=e57a90a9ca6ef40a9ff10fd17e1c60d7c4ac01c0e8d8d84c4ff1a36e6592e686\n",
      "Starting extraction for link 45449: https://www.zoopla.co.uk/for-sale/details/64702197/?search_identifier=e57a90a9ca6ef40a9ff10fd17e1c60d7c4ac01c0e8d8d84c4ff1a36e6592e686\n"
     ]
    },
    {
     "name": "stderr",
     "output_type": "stream",
     "text": [
      "could not detect version_main.therefore, we are assuming it is chrome 108 or higher\n"
     ]
    },
    {
     "name": "stdout",
     "output_type": "stream",
     "text": [
      "Saved to db successfully\n",
      "Done with link 45449: https://www.zoopla.co.uk/for-sale/details/64702197/?search_identifier=e57a90a9ca6ef40a9ff10fd17e1c60d7c4ac01c0e8d8d84c4ff1a36e6592e686\n",
      "Starting extraction for link 45450: https://www.zoopla.co.uk/for-sale/details/64689292/?search_identifier=e57a90a9ca6ef40a9ff10fd17e1c60d7c4ac01c0e8d8d84c4ff1a36e6592e686\n"
     ]
    },
    {
     "name": "stderr",
     "output_type": "stream",
     "text": [
      "could not detect version_main.therefore, we are assuming it is chrome 108 or higher\n"
     ]
    },
    {
     "name": "stdout",
     "output_type": "stream",
     "text": [
      "Saved to db successfully\n",
      "Done with link 45450: https://www.zoopla.co.uk/for-sale/details/64689292/?search_identifier=e57a90a9ca6ef40a9ff10fd17e1c60d7c4ac01c0e8d8d84c4ff1a36e6592e686\n",
      "Starting extraction for link 45451: https://www.zoopla.co.uk/for-sale/details/64674051/?search_identifier=e57a90a9ca6ef40a9ff10fd17e1c60d7c4ac01c0e8d8d84c4ff1a36e6592e686\n"
     ]
    },
    {
     "name": "stderr",
     "output_type": "stream",
     "text": [
      "could not detect version_main.therefore, we are assuming it is chrome 108 or higher\n"
     ]
    },
    {
     "name": "stdout",
     "output_type": "stream",
     "text": [
      "Saved to db successfully\n",
      "Done with link 45451: https://www.zoopla.co.uk/for-sale/details/64674051/?search_identifier=e57a90a9ca6ef40a9ff10fd17e1c60d7c4ac01c0e8d8d84c4ff1a36e6592e686\n",
      "Starting extraction for link 45452: https://www.zoopla.co.uk/for-sale/details/64664729/?search_identifier=e57a90a9ca6ef40a9ff10fd17e1c60d7c4ac01c0e8d8d84c4ff1a36e6592e686\n"
     ]
    },
    {
     "name": "stderr",
     "output_type": "stream",
     "text": [
      "could not detect version_main.therefore, we are assuming it is chrome 108 or higher\n"
     ]
    },
    {
     "name": "stdout",
     "output_type": "stream",
     "text": [
      "Saved to db successfully\n",
      "Done with link 45452: https://www.zoopla.co.uk/for-sale/details/64664729/?search_identifier=e57a90a9ca6ef40a9ff10fd17e1c60d7c4ac01c0e8d8d84c4ff1a36e6592e686\n",
      "Starting extraction for link 45453: https://www.zoopla.co.uk/for-sale/details/64661179/?search_identifier=e57a90a9ca6ef40a9ff10fd17e1c60d7c4ac01c0e8d8d84c4ff1a36e6592e686\n",
      "An error occurred for link in get_data_func: https://www.zoopla.co.uk/for-sale/details/64661179/?search_identifier=e57a90a9ca6ef40a9ff10fd17e1c60d7c4ac01c0e8d8d84c4ff1a36e6592e686: Message: no such element: Unable to locate element: {\"method\":\"xpath\",\"selector\":\"//p[@data-testid=\"price\"]\"}\n",
      "  (Session info: chrome=115.0.5790.171); For documentation on this error, please visit: https://www.selenium.dev/documentation/webdriver/troubleshooting/errors#no-such-element-exception\n",
      "Stacktrace:\n",
      "Backtrace:\n",
      "\tGetHandleVerifier [0x0073A813+48355]\n",
      "\t(No symbol) [0x006CC4B1]\n",
      "\t(No symbol) [0x005D5358]\n",
      "\t(No symbol) [0x006009A5]\n",
      "\t(No symbol) [0x00600B3B]\n",
      "\t(No symbol) [0x0062E232]\n",
      "\t(No symbol) [0x0061A784]\n",
      "\t(No symbol) [0x0062C922]\n",
      "\t(No symbol) [0x0061A536]\n",
      "\t(No symbol) [0x005F82DC]\n",
      "\t(No symbol) [0x005F93DD]\n",
      "\tGetHandleVerifier [0x0099AABD+2539405]\n",
      "\tGetHandleVerifier [0x009DA78F+2800735]\n",
      "\tGetHandleVerifier [0x009D456C+2775612]\n",
      "\tGetHandleVerifier [0x007C51E0+616112]\n",
      "\t(No symbol) [0x006D5F8C]\n",
      "\t(No symbol) [0x006D2328]\n",
      "\t(No symbol) [0x006D240B]\n",
      "\t(No symbol) [0x006C4FF7]\n",
      "\tBaseThreadInitThunk [0x761E7D59+25]\n",
      "\tRtlInitializeExceptionChain [0x773DB79B+107]\n",
      "\tRtlClearBits [0x773DB71F+191]\n",
      "\n"
     ]
    },
    {
     "name": "stderr",
     "output_type": "stream",
     "text": [
      "could not detect version_main.therefore, we are assuming it is chrome 108 or higher\n"
     ]
    },
    {
     "name": "stdout",
     "output_type": "stream",
     "text": [
      "Saved to db successfully\n",
      "Done with link 45453: https://www.zoopla.co.uk/for-sale/details/64661179/?search_identifier=e57a90a9ca6ef40a9ff10fd17e1c60d7c4ac01c0e8d8d84c4ff1a36e6592e686\n",
      "Starting extraction for link 45454: https://www.zoopla.co.uk/for-sale/details/64656422/?search_identifier=e57a90a9ca6ef40a9ff10fd17e1c60d7c4ac01c0e8d8d84c4ff1a36e6592e686\n",
      "An error occurred for link in get_data_func: https://www.zoopla.co.uk/for-sale/details/64656422/?search_identifier=e57a90a9ca6ef40a9ff10fd17e1c60d7c4ac01c0e8d8d84c4ff1a36e6592e686: Message: no such element: Unable to locate element: {\"method\":\"xpath\",\"selector\":\"//p[@data-testid=\"price\"]\"}\n",
      "  (Session info: chrome=115.0.5790.171); For documentation on this error, please visit: https://www.selenium.dev/documentation/webdriver/troubleshooting/errors#no-such-element-exception\n",
      "Stacktrace:\n",
      "Backtrace:\n",
      "\tGetHandleVerifier [0x0073A813+48355]\n",
      "\t(No symbol) [0x006CC4B1]\n",
      "\t(No symbol) [0x005D5358]\n",
      "\t(No symbol) [0x006009A5]\n",
      "\t(No symbol) [0x00600B3B]\n",
      "\t(No symbol) [0x0062E232]\n",
      "\t(No symbol) [0x0061A784]\n",
      "\t(No symbol) [0x0062C922]\n",
      "\t(No symbol) [0x0061A536]\n",
      "\t(No symbol) [0x005F82DC]\n",
      "\t(No symbol) [0x005F93DD]\n",
      "\tGetHandleVerifier [0x0099AABD+2539405]\n",
      "\tGetHandleVerifier [0x009DA78F+2800735]\n",
      "\tGetHandleVerifier [0x009D456C+2775612]\n",
      "\tGetHandleVerifier [0x007C51E0+616112]\n",
      "\t(No symbol) [0x006D5F8C]\n",
      "\t(No symbol) [0x006D2328]\n",
      "\t(No symbol) [0x006D240B]\n",
      "\t(No symbol) [0x006C4FF7]\n",
      "\tBaseThreadInitThunk [0x761E7D59+25]\n",
      "\tRtlInitializeExceptionChain [0x773DB79B+107]\n",
      "\tRtlClearBits [0x773DB71F+191]\n",
      "\n"
     ]
    },
    {
     "name": "stderr",
     "output_type": "stream",
     "text": [
      "could not detect version_main.therefore, we are assuming it is chrome 108 or higher\n"
     ]
    },
    {
     "name": "stdout",
     "output_type": "stream",
     "text": [
      "Saved to db successfully\n",
      "Done with link 45454: https://www.zoopla.co.uk/for-sale/details/64656422/?search_identifier=e57a90a9ca6ef40a9ff10fd17e1c60d7c4ac01c0e8d8d84c4ff1a36e6592e686\n",
      "Starting extraction for link 45455: https://www.zoopla.co.uk/for-sale/details/64643861/?search_identifier=e57a90a9ca6ef40a9ff10fd17e1c60d7c4ac01c0e8d8d84c4ff1a36e6592e686\n",
      "An error occurred for link in get_data_func: https://www.zoopla.co.uk/for-sale/details/64643861/?search_identifier=e57a90a9ca6ef40a9ff10fd17e1c60d7c4ac01c0e8d8d84c4ff1a36e6592e686: Message: no such element: Unable to locate element: {\"method\":\"xpath\",\"selector\":\"//p[@data-testid=\"price\"]\"}\n",
      "  (Session info: chrome=115.0.5790.171); For documentation on this error, please visit: https://www.selenium.dev/documentation/webdriver/troubleshooting/errors#no-such-element-exception\n",
      "Stacktrace:\n",
      "Backtrace:\n",
      "\tGetHandleVerifier [0x0073A813+48355]\n",
      "\t(No symbol) [0x006CC4B1]\n",
      "\t(No symbol) [0x005D5358]\n",
      "\t(No symbol) [0x006009A5]\n",
      "\t(No symbol) [0x00600B3B]\n",
      "\t(No symbol) [0x0062E232]\n",
      "\t(No symbol) [0x0061A784]\n",
      "\t(No symbol) [0x0062C922]\n",
      "\t(No symbol) [0x0061A536]\n",
      "\t(No symbol) [0x005F82DC]\n",
      "\t(No symbol) [0x005F93DD]\n",
      "\tGetHandleVerifier [0x0099AABD+2539405]\n",
      "\tGetHandleVerifier [0x009DA78F+2800735]\n",
      "\tGetHandleVerifier [0x009D456C+2775612]\n",
      "\tGetHandleVerifier [0x007C51E0+616112]\n",
      "\t(No symbol) [0x006D5F8C]\n",
      "\t(No symbol) [0x006D2328]\n",
      "\t(No symbol) [0x006D240B]\n",
      "\t(No symbol) [0x006C4FF7]\n",
      "\tBaseThreadInitThunk [0x761E7D59+25]\n",
      "\tRtlInitializeExceptionChain [0x773DB79B+107]\n",
      "\tRtlClearBits [0x773DB71F+191]\n",
      "\n"
     ]
    },
    {
     "name": "stderr",
     "output_type": "stream",
     "text": [
      "could not detect version_main.therefore, we are assuming it is chrome 108 or higher\n"
     ]
    },
    {
     "name": "stdout",
     "output_type": "stream",
     "text": [
      "Saved to db successfully\n",
      "Done with link 45455: https://www.zoopla.co.uk/for-sale/details/64643861/?search_identifier=e57a90a9ca6ef40a9ff10fd17e1c60d7c4ac01c0e8d8d84c4ff1a36e6592e686\n",
      "Starting extraction for link 45456: https://www.zoopla.co.uk/for-sale/details/64642814/?search_identifier=e57a90a9ca6ef40a9ff10fd17e1c60d7c4ac01c0e8d8d84c4ff1a36e6592e686\n"
     ]
    },
    {
     "name": "stderr",
     "output_type": "stream",
     "text": [
      "could not detect version_main.therefore, we are assuming it is chrome 108 or higher\n"
     ]
    },
    {
     "name": "stdout",
     "output_type": "stream",
     "text": [
      "Saved to db successfully\n",
      "Done with link 45456: https://www.zoopla.co.uk/for-sale/details/64642814/?search_identifier=e57a90a9ca6ef40a9ff10fd17e1c60d7c4ac01c0e8d8d84c4ff1a36e6592e686\n",
      "Starting extraction for link 45457: https://www.zoopla.co.uk/for-sale/details/64621655/?search_identifier=e57a90a9ca6ef40a9ff10fd17e1c60d7c4ac01c0e8d8d84c4ff1a36e6592e686\n"
     ]
    },
    {
     "name": "stderr",
     "output_type": "stream",
     "text": [
      "could not detect version_main.therefore, we are assuming it is chrome 108 or higher\n"
     ]
    },
    {
     "name": "stdout",
     "output_type": "stream",
     "text": [
      "Saved to db successfully\n",
      "Done with link 45457: https://www.zoopla.co.uk/for-sale/details/64621655/?search_identifier=e57a90a9ca6ef40a9ff10fd17e1c60d7c4ac01c0e8d8d84c4ff1a36e6592e686\n",
      "Starting extraction for link 45458: https://www.zoopla.co.uk/for-sale/details/64608363/?search_identifier=e57a90a9ca6ef40a9ff10fd17e1c60d7c4ac01c0e8d8d84c4ff1a36e6592e686\n",
      "An error occurred for link in get_data_func: https://www.zoopla.co.uk/for-sale/details/64608363/?search_identifier=e57a90a9ca6ef40a9ff10fd17e1c60d7c4ac01c0e8d8d84c4ff1a36e6592e686: Message: no such element: Unable to locate element: {\"method\":\"xpath\",\"selector\":\"//p[@data-testid=\"price\"]\"}\n",
      "  (Session info: chrome=115.0.5790.171); For documentation on this error, please visit: https://www.selenium.dev/documentation/webdriver/troubleshooting/errors#no-such-element-exception\n",
      "Stacktrace:\n",
      "Backtrace:\n",
      "\tGetHandleVerifier [0x0073A813+48355]\n",
      "\t(No symbol) [0x006CC4B1]\n",
      "\t(No symbol) [0x005D5358]\n",
      "\t(No symbol) [0x006009A5]\n",
      "\t(No symbol) [0x00600B3B]\n",
      "\t(No symbol) [0x0062E232]\n",
      "\t(No symbol) [0x0061A784]\n",
      "\t(No symbol) [0x0062C922]\n",
      "\t(No symbol) [0x0061A536]\n",
      "\t(No symbol) [0x005F82DC]\n",
      "\t(No symbol) [0x005F93DD]\n",
      "\tGetHandleVerifier [0x0099AABD+2539405]\n",
      "\tGetHandleVerifier [0x009DA78F+2800735]\n",
      "\tGetHandleVerifier [0x009D456C+2775612]\n",
      "\tGetHandleVerifier [0x007C51E0+616112]\n",
      "\t(No symbol) [0x006D5F8C]\n",
      "\t(No symbol) [0x006D2328]\n",
      "\t(No symbol) [0x006D240B]\n",
      "\t(No symbol) [0x006C4FF7]\n",
      "\tBaseThreadInitThunk [0x761E7D59+25]\n",
      "\tRtlInitializeExceptionChain [0x773DB79B+107]\n",
      "\tRtlClearBits [0x773DB71F+191]\n",
      "\n"
     ]
    },
    {
     "name": "stderr",
     "output_type": "stream",
     "text": [
      "could not detect version_main.therefore, we are assuming it is chrome 108 or higher\n"
     ]
    },
    {
     "name": "stdout",
     "output_type": "stream",
     "text": [
      "Saved to db successfully\n",
      "Done with link 45458: https://www.zoopla.co.uk/for-sale/details/64608363/?search_identifier=e57a90a9ca6ef40a9ff10fd17e1c60d7c4ac01c0e8d8d84c4ff1a36e6592e686\n",
      "Starting extraction for link 45459: https://www.zoopla.co.uk/for-sale/details/64601714/?search_identifier=e57a90a9ca6ef40a9ff10fd17e1c60d7c4ac01c0e8d8d84c4ff1a36e6592e686\n"
     ]
    },
    {
     "name": "stderr",
     "output_type": "stream",
     "text": [
      "could not detect version_main.therefore, we are assuming it is chrome 108 or higher\n"
     ]
    },
    {
     "name": "stdout",
     "output_type": "stream",
     "text": [
      "Saved to db successfully\n",
      "Done with link 45459: https://www.zoopla.co.uk/for-sale/details/64601714/?search_identifier=e57a90a9ca6ef40a9ff10fd17e1c60d7c4ac01c0e8d8d84c4ff1a36e6592e686\n",
      "Starting extraction for link 45460: https://www.zoopla.co.uk/for-sale/details/64559209/?search_identifier=e57a90a9ca6ef40a9ff10fd17e1c60d7c4ac01c0e8d8d84c4ff1a36e6592e686\n",
      "An error occurred for link in get_data_func: https://www.zoopla.co.uk/for-sale/details/64559209/?search_identifier=e57a90a9ca6ef40a9ff10fd17e1c60d7c4ac01c0e8d8d84c4ff1a36e6592e686: Message: no such element: Unable to locate element: {\"method\":\"xpath\",\"selector\":\"//p[@data-testid=\"price\"]\"}\n",
      "  (Session info: chrome=115.0.5790.171); For documentation on this error, please visit: https://www.selenium.dev/documentation/webdriver/troubleshooting/errors#no-such-element-exception\n",
      "Stacktrace:\n",
      "Backtrace:\n",
      "\tGetHandleVerifier [0x0073A813+48355]\n",
      "\t(No symbol) [0x006CC4B1]\n",
      "\t(No symbol) [0x005D5358]\n",
      "\t(No symbol) [0x006009A5]\n",
      "\t(No symbol) [0x00600B3B]\n",
      "\t(No symbol) [0x0062E232]\n",
      "\t(No symbol) [0x0061A784]\n",
      "\t(No symbol) [0x0062C922]\n",
      "\t(No symbol) [0x0061A536]\n",
      "\t(No symbol) [0x005F82DC]\n",
      "\t(No symbol) [0x005F93DD]\n",
      "\tGetHandleVerifier [0x0099AABD+2539405]\n",
      "\tGetHandleVerifier [0x009DA78F+2800735]\n",
      "\tGetHandleVerifier [0x009D456C+2775612]\n",
      "\tGetHandleVerifier [0x007C51E0+616112]\n",
      "\t(No symbol) [0x006D5F8C]\n",
      "\t(No symbol) [0x006D2328]\n",
      "\t(No symbol) [0x006D240B]\n",
      "\t(No symbol) [0x006C4FF7]\n",
      "\tBaseThreadInitThunk [0x761E7D59+25]\n",
      "\tRtlInitializeExceptionChain [0x773DB79B+107]\n",
      "\tRtlClearBits [0x773DB71F+191]\n",
      "\n"
     ]
    },
    {
     "name": "stderr",
     "output_type": "stream",
     "text": [
      "could not detect version_main.therefore, we are assuming it is chrome 108 or higher\n"
     ]
    },
    {
     "name": "stdout",
     "output_type": "stream",
     "text": [
      "Saved to db successfully\n",
      "Done with link 45460: https://www.zoopla.co.uk/for-sale/details/64559209/?search_identifier=e57a90a9ca6ef40a9ff10fd17e1c60d7c4ac01c0e8d8d84c4ff1a36e6592e686\n",
      "Starting extraction for link 45461: https://www.zoopla.co.uk/for-sale/details/64543752/?search_identifier=e57a90a9ca6ef40a9ff10fd17e1c60d7c4ac01c0e8d8d84c4ff1a36e6592e686\n"
     ]
    },
    {
     "name": "stderr",
     "output_type": "stream",
     "text": [
      "could not detect version_main.therefore, we are assuming it is chrome 108 or higher\n"
     ]
    },
    {
     "name": "stdout",
     "output_type": "stream",
     "text": [
      "Saved to db successfully\n",
      "Done with link 45461: https://www.zoopla.co.uk/for-sale/details/64543752/?search_identifier=e57a90a9ca6ef40a9ff10fd17e1c60d7c4ac01c0e8d8d84c4ff1a36e6592e686\n",
      "Starting extraction for link 45462: https://www.zoopla.co.uk/for-sale/details/64526098/?search_identifier=e57a90a9ca6ef40a9ff10fd17e1c60d7c4ac01c0e8d8d84c4ff1a36e6592e686\n"
     ]
    },
    {
     "name": "stderr",
     "output_type": "stream",
     "text": [
      "could not detect version_main.therefore, we are assuming it is chrome 108 or higher\n"
     ]
    },
    {
     "name": "stdout",
     "output_type": "stream",
     "text": [
      "Saved to db successfully\n",
      "Done with link 45462: https://www.zoopla.co.uk/for-sale/details/64526098/?search_identifier=e57a90a9ca6ef40a9ff10fd17e1c60d7c4ac01c0e8d8d84c4ff1a36e6592e686\n",
      "Starting extraction for link 45463: https://www.zoopla.co.uk/for-sale/details/64521294/?search_identifier=e57a90a9ca6ef40a9ff10fd17e1c60d7c4ac01c0e8d8d84c4ff1a36e6592e686\n"
     ]
    },
    {
     "name": "stderr",
     "output_type": "stream",
     "text": [
      "could not detect version_main.therefore, we are assuming it is chrome 108 or higher\n"
     ]
    },
    {
     "name": "stdout",
     "output_type": "stream",
     "text": [
      "Saved to db successfully\n",
      "Done with link 45463: https://www.zoopla.co.uk/for-sale/details/64521294/?search_identifier=e57a90a9ca6ef40a9ff10fd17e1c60d7c4ac01c0e8d8d84c4ff1a36e6592e686\n",
      "Starting extraction for link 45464: https://www.zoopla.co.uk/for-sale/details/64512185/?search_identifier=e57a90a9ca6ef40a9ff10fd17e1c60d7c4ac01c0e8d8d84c4ff1a36e6592e686\n"
     ]
    },
    {
     "name": "stderr",
     "output_type": "stream",
     "text": [
      "could not detect version_main.therefore, we are assuming it is chrome 108 or higher\n"
     ]
    },
    {
     "name": "stdout",
     "output_type": "stream",
     "text": [
      "Saved to db successfully\n",
      "Done with link 45464: https://www.zoopla.co.uk/for-sale/details/64512185/?search_identifier=e57a90a9ca6ef40a9ff10fd17e1c60d7c4ac01c0e8d8d84c4ff1a36e6592e686\n",
      "Starting extraction for link 45465: https://www.zoopla.co.uk/for-sale/details/64505437/?search_identifier=e57a90a9ca6ef40a9ff10fd17e1c60d7c4ac01c0e8d8d84c4ff1a36e6592e686\n"
     ]
    },
    {
     "name": "stderr",
     "output_type": "stream",
     "text": [
      "could not detect version_main.therefore, we are assuming it is chrome 108 or higher\n"
     ]
    },
    {
     "name": "stdout",
     "output_type": "stream",
     "text": [
      "Saved to db successfully\n",
      "Done with link 45465: https://www.zoopla.co.uk/for-sale/details/64505437/?search_identifier=e57a90a9ca6ef40a9ff10fd17e1c60d7c4ac01c0e8d8d84c4ff1a36e6592e686\n",
      "Starting extraction for link 45466: https://www.zoopla.co.uk/for-sale/details/64485531/?search_identifier=e57a90a9ca6ef40a9ff10fd17e1c60d7c4ac01c0e8d8d84c4ff1a36e6592e686\n",
      "An error occurred for link in get_data_func: https://www.zoopla.co.uk/for-sale/details/64485531/?search_identifier=e57a90a9ca6ef40a9ff10fd17e1c60d7c4ac01c0e8d8d84c4ff1a36e6592e686: Message: no such element: Unable to locate element: {\"method\":\"xpath\",\"selector\":\"//p[@data-testid=\"price\"]\"}\n",
      "  (Session info: chrome=115.0.5790.171); For documentation on this error, please visit: https://www.selenium.dev/documentation/webdriver/troubleshooting/errors#no-such-element-exception\n",
      "Stacktrace:\n",
      "Backtrace:\n",
      "\tGetHandleVerifier [0x0073A813+48355]\n",
      "\t(No symbol) [0x006CC4B1]\n",
      "\t(No symbol) [0x005D5358]\n",
      "\t(No symbol) [0x006009A5]\n",
      "\t(No symbol) [0x00600B3B]\n",
      "\t(No symbol) [0x0062E232]\n",
      "\t(No symbol) [0x0061A784]\n",
      "\t(No symbol) [0x0062C922]\n",
      "\t(No symbol) [0x0061A536]\n",
      "\t(No symbol) [0x005F82DC]\n",
      "\t(No symbol) [0x005F93DD]\n",
      "\tGetHandleVerifier [0x0099AABD+2539405]\n",
      "\tGetHandleVerifier [0x009DA78F+2800735]\n",
      "\tGetHandleVerifier [0x009D456C+2775612]\n",
      "\tGetHandleVerifier [0x007C51E0+616112]\n",
      "\t(No symbol) [0x006D5F8C]\n",
      "\t(No symbol) [0x006D2328]\n",
      "\t(No symbol) [0x006D240B]\n",
      "\t(No symbol) [0x006C4FF7]\n",
      "\tBaseThreadInitThunk [0x761E7D59+25]\n",
      "\tRtlInitializeExceptionChain [0x773DB79B+107]\n",
      "\tRtlClearBits [0x773DB71F+191]\n",
      "\n"
     ]
    },
    {
     "name": "stderr",
     "output_type": "stream",
     "text": [
      "could not detect version_main.therefore, we are assuming it is chrome 108 or higher\n"
     ]
    },
    {
     "name": "stdout",
     "output_type": "stream",
     "text": [
      "Saved to db successfully\n",
      "Done with link 45466: https://www.zoopla.co.uk/for-sale/details/64485531/?search_identifier=e57a90a9ca6ef40a9ff10fd17e1c60d7c4ac01c0e8d8d84c4ff1a36e6592e686\n",
      "Starting extraction for link 45467: https://www.zoopla.co.uk/for-sale/details/64482389/?search_identifier=e57a90a9ca6ef40a9ff10fd17e1c60d7c4ac01c0e8d8d84c4ff1a36e6592e686\n"
     ]
    },
    {
     "name": "stderr",
     "output_type": "stream",
     "text": [
      "could not detect version_main.therefore, we are assuming it is chrome 108 or higher\n"
     ]
    },
    {
     "name": "stdout",
     "output_type": "stream",
     "text": [
      "Saved to db successfully\n",
      "Done with link 45467: https://www.zoopla.co.uk/for-sale/details/64482389/?search_identifier=e57a90a9ca6ef40a9ff10fd17e1c60d7c4ac01c0e8d8d84c4ff1a36e6592e686\n",
      "Starting extraction for link 45468: https://www.zoopla.co.uk/for-sale/details/64470253/?search_identifier=e57a90a9ca6ef40a9ff10fd17e1c60d7c4ac01c0e8d8d84c4ff1a36e6592e686\n"
     ]
    },
    {
     "name": "stderr",
     "output_type": "stream",
     "text": [
      "could not detect version_main.therefore, we are assuming it is chrome 108 or higher\n"
     ]
    },
    {
     "name": "stdout",
     "output_type": "stream",
     "text": [
      "Saved to db successfully\n",
      "Done with link 45468: https://www.zoopla.co.uk/for-sale/details/64470253/?search_identifier=e57a90a9ca6ef40a9ff10fd17e1c60d7c4ac01c0e8d8d84c4ff1a36e6592e686\n",
      "Starting extraction for link 45469: https://www.zoopla.co.uk/for-sale/details/64468063/?search_identifier=e57a90a9ca6ef40a9ff10fd17e1c60d7c4ac01c0e8d8d84c4ff1a36e6592e686\n"
     ]
    },
    {
     "name": "stderr",
     "output_type": "stream",
     "text": [
      "could not detect version_main.therefore, we are assuming it is chrome 108 or higher\n"
     ]
    },
    {
     "name": "stdout",
     "output_type": "stream",
     "text": [
      "Saved to db successfully\n",
      "Done with link 45469: https://www.zoopla.co.uk/for-sale/details/64468063/?search_identifier=e57a90a9ca6ef40a9ff10fd17e1c60d7c4ac01c0e8d8d84c4ff1a36e6592e686\n",
      "Starting extraction for link 45470: https://www.zoopla.co.uk/for-sale/details/64459225/?search_identifier=e57a90a9ca6ef40a9ff10fd17e1c60d7c4ac01c0e8d8d84c4ff1a36e6592e686\n"
     ]
    },
    {
     "name": "stderr",
     "output_type": "stream",
     "text": [
      "could not detect version_main.therefore, we are assuming it is chrome 108 or higher\n"
     ]
    },
    {
     "name": "stdout",
     "output_type": "stream",
     "text": [
      "Saved to db successfully\n",
      "Done with link 45470: https://www.zoopla.co.uk/for-sale/details/64459225/?search_identifier=e57a90a9ca6ef40a9ff10fd17e1c60d7c4ac01c0e8d8d84c4ff1a36e6592e686\n",
      "Starting extraction for link 45471: https://www.zoopla.co.uk/for-sale/details/64440275/?search_identifier=3cd24d1a2cc318ac5d930d49e8c164db4f896916a9b2938b35d7af3bc536328f\n"
     ]
    },
    {
     "name": "stderr",
     "output_type": "stream",
     "text": [
      "could not detect version_main.therefore, we are assuming it is chrome 108 or higher\n"
     ]
    },
    {
     "name": "stdout",
     "output_type": "stream",
     "text": [
      "Saved to db successfully\n",
      "Done with link 45471: https://www.zoopla.co.uk/for-sale/details/64440275/?search_identifier=3cd24d1a2cc318ac5d930d49e8c164db4f896916a9b2938b35d7af3bc536328f\n",
      "Starting extraction for link 45472: https://www.zoopla.co.uk/for-sale/details/64417417/?search_identifier=3cd24d1a2cc318ac5d930d49e8c164db4f896916a9b2938b35d7af3bc536328f\n",
      "An error occurred for link in get_data_func: https://www.zoopla.co.uk/for-sale/details/64417417/?search_identifier=3cd24d1a2cc318ac5d930d49e8c164db4f896916a9b2938b35d7af3bc536328f: Message: no such element: Unable to locate element: {\"method\":\"xpath\",\"selector\":\"//p[@data-testid=\"price\"]\"}\n",
      "  (Session info: chrome=115.0.5790.171); For documentation on this error, please visit: https://www.selenium.dev/documentation/webdriver/troubleshooting/errors#no-such-element-exception\n",
      "Stacktrace:\n",
      "Backtrace:\n",
      "\tGetHandleVerifier [0x0073A813+48355]\n",
      "\t(No symbol) [0x006CC4B1]\n",
      "\t(No symbol) [0x005D5358]\n",
      "\t(No symbol) [0x006009A5]\n",
      "\t(No symbol) [0x00600B3B]\n",
      "\t(No symbol) [0x0062E232]\n",
      "\t(No symbol) [0x0061A784]\n",
      "\t(No symbol) [0x0062C922]\n",
      "\t(No symbol) [0x0061A536]\n",
      "\t(No symbol) [0x005F82DC]\n",
      "\t(No symbol) [0x005F93DD]\n",
      "\tGetHandleVerifier [0x0099AABD+2539405]\n",
      "\tGetHandleVerifier [0x009DA78F+2800735]\n",
      "\tGetHandleVerifier [0x009D456C+2775612]\n",
      "\tGetHandleVerifier [0x007C51E0+616112]\n",
      "\t(No symbol) [0x006D5F8C]\n",
      "\t(No symbol) [0x006D2328]\n",
      "\t(No symbol) [0x006D240B]\n",
      "\t(No symbol) [0x006C4FF7]\n",
      "\tBaseThreadInitThunk [0x761E7D59+25]\n",
      "\tRtlInitializeExceptionChain [0x773DB79B+107]\n",
      "\tRtlClearBits [0x773DB71F+191]\n",
      "\n"
     ]
    },
    {
     "name": "stderr",
     "output_type": "stream",
     "text": [
      "could not detect version_main.therefore, we are assuming it is chrome 108 or higher\n"
     ]
    },
    {
     "name": "stdout",
     "output_type": "stream",
     "text": [
      "Saved to db successfully\n",
      "Done with link 45472: https://www.zoopla.co.uk/for-sale/details/64417417/?search_identifier=3cd24d1a2cc318ac5d930d49e8c164db4f896916a9b2938b35d7af3bc536328f\n",
      "Starting extraction for link 45473: https://www.zoopla.co.uk/for-sale/details/64393732/?search_identifier=3cd24d1a2cc318ac5d930d49e8c164db4f896916a9b2938b35d7af3bc536328f\n"
     ]
    },
    {
     "name": "stderr",
     "output_type": "stream",
     "text": [
      "could not detect version_main.therefore, we are assuming it is chrome 108 or higher\n"
     ]
    },
    {
     "name": "stdout",
     "output_type": "stream",
     "text": [
      "Saved to db successfully\n",
      "Done with link 45473: https://www.zoopla.co.uk/for-sale/details/64393732/?search_identifier=3cd24d1a2cc318ac5d930d49e8c164db4f896916a9b2938b35d7af3bc536328f\n",
      "Starting extraction for link 45474: https://www.zoopla.co.uk/for-sale/details/64385811/?search_identifier=3cd24d1a2cc318ac5d930d49e8c164db4f896916a9b2938b35d7af3bc536328f\n"
     ]
    },
    {
     "name": "stderr",
     "output_type": "stream",
     "text": [
      "could not detect version_main.therefore, we are assuming it is chrome 108 or higher\n"
     ]
    },
    {
     "name": "stdout",
     "output_type": "stream",
     "text": [
      "Saved to db successfully\n",
      "Done with link 45474: https://www.zoopla.co.uk/for-sale/details/64385811/?search_identifier=3cd24d1a2cc318ac5d930d49e8c164db4f896916a9b2938b35d7af3bc536328f\n",
      "Starting extraction for link 45475: https://www.zoopla.co.uk/for-sale/details/64374441/?search_identifier=3cd24d1a2cc318ac5d930d49e8c164db4f896916a9b2938b35d7af3bc536328f\n"
     ]
    },
    {
     "name": "stderr",
     "output_type": "stream",
     "text": [
      "could not detect version_main.therefore, we are assuming it is chrome 108 or higher\n"
     ]
    },
    {
     "name": "stdout",
     "output_type": "stream",
     "text": [
      "Saved to db successfully\n",
      "Done with link 45475: https://www.zoopla.co.uk/for-sale/details/64374441/?search_identifier=3cd24d1a2cc318ac5d930d49e8c164db4f896916a9b2938b35d7af3bc536328f\n",
      "Starting extraction for link 45476: https://www.zoopla.co.uk/for-sale/details/64373710/?search_identifier=3cd24d1a2cc318ac5d930d49e8c164db4f896916a9b2938b35d7af3bc536328f\n"
     ]
    },
    {
     "name": "stderr",
     "output_type": "stream",
     "text": [
      "could not detect version_main.therefore, we are assuming it is chrome 108 or higher\n"
     ]
    },
    {
     "name": "stdout",
     "output_type": "stream",
     "text": [
      "Saved to db successfully\n",
      "Done with link 45476: https://www.zoopla.co.uk/for-sale/details/64373710/?search_identifier=3cd24d1a2cc318ac5d930d49e8c164db4f896916a9b2938b35d7af3bc536328f\n",
      "Starting extraction for link 45477: https://www.zoopla.co.uk/for-sale/details/64314484/?search_identifier=3cd24d1a2cc318ac5d930d49e8c164db4f896916a9b2938b35d7af3bc536328f\n"
     ]
    },
    {
     "name": "stderr",
     "output_type": "stream",
     "text": [
      "could not detect version_main.therefore, we are assuming it is chrome 108 or higher\n"
     ]
    },
    {
     "name": "stdout",
     "output_type": "stream",
     "text": [
      "Saved to db successfully\n",
      "Done with link 45477: https://www.zoopla.co.uk/for-sale/details/64314484/?search_identifier=3cd24d1a2cc318ac5d930d49e8c164db4f896916a9b2938b35d7af3bc536328f\n",
      "Starting extraction for link 45478: https://www.zoopla.co.uk/for-sale/details/64309159/?search_identifier=3cd24d1a2cc318ac5d930d49e8c164db4f896916a9b2938b35d7af3bc536328f\n"
     ]
    },
    {
     "name": "stderr",
     "output_type": "stream",
     "text": [
      "could not detect version_main.therefore, we are assuming it is chrome 108 or higher\n"
     ]
    },
    {
     "name": "stdout",
     "output_type": "stream",
     "text": [
      "Saved to db successfully\n",
      "Done with link 45478: https://www.zoopla.co.uk/for-sale/details/64309159/?search_identifier=3cd24d1a2cc318ac5d930d49e8c164db4f896916a9b2938b35d7af3bc536328f\n",
      "Starting extraction for link 45479: https://www.zoopla.co.uk/for-sale/details/64306403/?search_identifier=3cd24d1a2cc318ac5d930d49e8c164db4f896916a9b2938b35d7af3bc536328f\n"
     ]
    },
    {
     "name": "stderr",
     "output_type": "stream",
     "text": [
      "could not detect version_main.therefore, we are assuming it is chrome 108 or higher\n"
     ]
    },
    {
     "name": "stdout",
     "output_type": "stream",
     "text": [
      "Saved to db successfully\n",
      "Done with link 45479: https://www.zoopla.co.uk/for-sale/details/64306403/?search_identifier=3cd24d1a2cc318ac5d930d49e8c164db4f896916a9b2938b35d7af3bc536328f\n",
      "Starting extraction for link 45480: https://www.zoopla.co.uk/for-sale/details/64289224/?search_identifier=3cd24d1a2cc318ac5d930d49e8c164db4f896916a9b2938b35d7af3bc536328f\n"
     ]
    },
    {
     "name": "stderr",
     "output_type": "stream",
     "text": [
      "could not detect version_main.therefore, we are assuming it is chrome 108 or higher\n"
     ]
    },
    {
     "name": "stdout",
     "output_type": "stream",
     "text": [
      "Saved to db successfully\n",
      "Done with link 45480: https://www.zoopla.co.uk/for-sale/details/64289224/?search_identifier=3cd24d1a2cc318ac5d930d49e8c164db4f896916a9b2938b35d7af3bc536328f\n",
      "Starting extraction for link 45481: https://www.zoopla.co.uk/for-sale/details/64283240/?search_identifier=3cd24d1a2cc318ac5d930d49e8c164db4f896916a9b2938b35d7af3bc536328f\n"
     ]
    },
    {
     "name": "stderr",
     "output_type": "stream",
     "text": [
      "could not detect version_main.therefore, we are assuming it is chrome 108 or higher\n"
     ]
    },
    {
     "name": "stdout",
     "output_type": "stream",
     "text": [
      "Saved to db successfully\n",
      "Done with link 45481: https://www.zoopla.co.uk/for-sale/details/64283240/?search_identifier=3cd24d1a2cc318ac5d930d49e8c164db4f896916a9b2938b35d7af3bc536328f\n",
      "Starting extraction for link 45482: https://www.zoopla.co.uk/for-sale/details/64281149/?search_identifier=3cd24d1a2cc318ac5d930d49e8c164db4f896916a9b2938b35d7af3bc536328f\n"
     ]
    },
    {
     "name": "stderr",
     "output_type": "stream",
     "text": [
      "could not detect version_main.therefore, we are assuming it is chrome 108 or higher\n"
     ]
    },
    {
     "name": "stdout",
     "output_type": "stream",
     "text": [
      "Saved to db successfully\n",
      "Done with link 45482: https://www.zoopla.co.uk/for-sale/details/64281149/?search_identifier=3cd24d1a2cc318ac5d930d49e8c164db4f896916a9b2938b35d7af3bc536328f\n",
      "Starting extraction for link 45483: https://www.zoopla.co.uk/for-sale/details/64280725/?search_identifier=3cd24d1a2cc318ac5d930d49e8c164db4f896916a9b2938b35d7af3bc536328f\n"
     ]
    },
    {
     "name": "stderr",
     "output_type": "stream",
     "text": [
      "could not detect version_main.therefore, we are assuming it is chrome 108 or higher\n"
     ]
    },
    {
     "name": "stdout",
     "output_type": "stream",
     "text": [
      "Saved to db successfully\n",
      "Done with link 45483: https://www.zoopla.co.uk/for-sale/details/64280725/?search_identifier=3cd24d1a2cc318ac5d930d49e8c164db4f896916a9b2938b35d7af3bc536328f\n",
      "Starting extraction for link 45484: https://www.zoopla.co.uk/for-sale/details/64227975/?search_identifier=3cd24d1a2cc318ac5d930d49e8c164db4f896916a9b2938b35d7af3bc536328f\n"
     ]
    },
    {
     "name": "stderr",
     "output_type": "stream",
     "text": [
      "could not detect version_main.therefore, we are assuming it is chrome 108 or higher\n"
     ]
    },
    {
     "name": "stdout",
     "output_type": "stream",
     "text": [
      "Saved to db successfully\n",
      "Done with link 45484: https://www.zoopla.co.uk/for-sale/details/64227975/?search_identifier=3cd24d1a2cc318ac5d930d49e8c164db4f896916a9b2938b35d7af3bc536328f\n",
      "Starting extraction for link 45485: https://www.zoopla.co.uk/for-sale/details/64202536/?search_identifier=3cd24d1a2cc318ac5d930d49e8c164db4f896916a9b2938b35d7af3bc536328f\n"
     ]
    },
    {
     "name": "stderr",
     "output_type": "stream",
     "text": [
      "could not detect version_main.therefore, we are assuming it is chrome 108 or higher\n"
     ]
    },
    {
     "name": "stdout",
     "output_type": "stream",
     "text": [
      "Saved to db successfully\n",
      "Done with link 45485: https://www.zoopla.co.uk/for-sale/details/64202536/?search_identifier=3cd24d1a2cc318ac5d930d49e8c164db4f896916a9b2938b35d7af3bc536328f\n",
      "Starting extraction for link 45486: https://www.zoopla.co.uk/for-sale/details/64201922/?search_identifier=3cd24d1a2cc318ac5d930d49e8c164db4f896916a9b2938b35d7af3bc536328f\n"
     ]
    },
    {
     "name": "stderr",
     "output_type": "stream",
     "text": [
      "could not detect version_main.therefore, we are assuming it is chrome 108 or higher\n"
     ]
    },
    {
     "name": "stdout",
     "output_type": "stream",
     "text": [
      "Saved to db successfully\n",
      "Done with link 45486: https://www.zoopla.co.uk/for-sale/details/64201922/?search_identifier=3cd24d1a2cc318ac5d930d49e8c164db4f896916a9b2938b35d7af3bc536328f\n",
      "Starting extraction for link 45487: https://www.zoopla.co.uk/for-sale/details/64170243/?search_identifier=3cd24d1a2cc318ac5d930d49e8c164db4f896916a9b2938b35d7af3bc536328f\n",
      "An error occurred for link in get_data_func: https://www.zoopla.co.uk/for-sale/details/64170243/?search_identifier=3cd24d1a2cc318ac5d930d49e8c164db4f896916a9b2938b35d7af3bc536328f: Message: no such element: Unable to locate element: {\"method\":\"xpath\",\"selector\":\"//p[@data-testid=\"price\"]\"}\n",
      "  (Session info: chrome=115.0.5790.171); For documentation on this error, please visit: https://www.selenium.dev/documentation/webdriver/troubleshooting/errors#no-such-element-exception\n",
      "Stacktrace:\n",
      "Backtrace:\n",
      "\tGetHandleVerifier [0x0073A813+48355]\n",
      "\t(No symbol) [0x006CC4B1]\n",
      "\t(No symbol) [0x005D5358]\n",
      "\t(No symbol) [0x006009A5]\n",
      "\t(No symbol) [0x00600B3B]\n",
      "\t(No symbol) [0x0062E232]\n",
      "\t(No symbol) [0x0061A784]\n",
      "\t(No symbol) [0x0062C922]\n",
      "\t(No symbol) [0x0061A536]\n",
      "\t(No symbol) [0x005F82DC]\n",
      "\t(No symbol) [0x005F93DD]\n",
      "\tGetHandleVerifier [0x0099AABD+2539405]\n",
      "\tGetHandleVerifier [0x009DA78F+2800735]\n",
      "\tGetHandleVerifier [0x009D456C+2775612]\n",
      "\tGetHandleVerifier [0x007C51E0+616112]\n",
      "\t(No symbol) [0x006D5F8C]\n",
      "\t(No symbol) [0x006D2328]\n",
      "\t(No symbol) [0x006D240B]\n",
      "\t(No symbol) [0x006C4FF7]\n",
      "\tBaseThreadInitThunk [0x761E7D59+25]\n",
      "\tRtlInitializeExceptionChain [0x773DB79B+107]\n",
      "\tRtlClearBits [0x773DB71F+191]\n",
      "\n"
     ]
    },
    {
     "name": "stderr",
     "output_type": "stream",
     "text": [
      "could not detect version_main.therefore, we are assuming it is chrome 108 or higher\n"
     ]
    },
    {
     "name": "stdout",
     "output_type": "stream",
     "text": [
      "Saved to db successfully\n",
      "Done with link 45487: https://www.zoopla.co.uk/for-sale/details/64170243/?search_identifier=3cd24d1a2cc318ac5d930d49e8c164db4f896916a9b2938b35d7af3bc536328f\n",
      "Starting extraction for link 45488: https://www.zoopla.co.uk/for-sale/details/64148770/?search_identifier=3cd24d1a2cc318ac5d930d49e8c164db4f896916a9b2938b35d7af3bc536328f\n"
     ]
    },
    {
     "name": "stderr",
     "output_type": "stream",
     "text": [
      "could not detect version_main.therefore, we are assuming it is chrome 108 or higher\n"
     ]
    },
    {
     "name": "stdout",
     "output_type": "stream",
     "text": [
      "Saved to db successfully\n",
      "Done with link 45488: https://www.zoopla.co.uk/for-sale/details/64148770/?search_identifier=3cd24d1a2cc318ac5d930d49e8c164db4f896916a9b2938b35d7af3bc536328f\n",
      "Starting extraction for link 45489: https://www.zoopla.co.uk/for-sale/details/64147101/?search_identifier=3cd24d1a2cc318ac5d930d49e8c164db4f896916a9b2938b35d7af3bc536328f\n"
     ]
    },
    {
     "name": "stderr",
     "output_type": "stream",
     "text": [
      "could not detect version_main.therefore, we are assuming it is chrome 108 or higher\n"
     ]
    },
    {
     "name": "stdout",
     "output_type": "stream",
     "text": [
      "Saved to db successfully\n",
      "Done with link 45489: https://www.zoopla.co.uk/for-sale/details/64147101/?search_identifier=3cd24d1a2cc318ac5d930d49e8c164db4f896916a9b2938b35d7af3bc536328f\n",
      "Starting extraction for link 45490: https://www.zoopla.co.uk/for-sale/details/64063639/?search_identifier=3cd24d1a2cc318ac5d930d49e8c164db4f896916a9b2938b35d7af3bc536328f\n"
     ]
    },
    {
     "name": "stderr",
     "output_type": "stream",
     "text": [
      "could not detect version_main.therefore, we are assuming it is chrome 108 or higher\n"
     ]
    },
    {
     "name": "stdout",
     "output_type": "stream",
     "text": [
      "Saved to db successfully\n",
      "Done with link 45490: https://www.zoopla.co.uk/for-sale/details/64063639/?search_identifier=3cd24d1a2cc318ac5d930d49e8c164db4f896916a9b2938b35d7af3bc536328f\n",
      "Starting extraction for link 45491: https://www.zoopla.co.uk/for-sale/details/64048326/?search_identifier=3cd24d1a2cc318ac5d930d49e8c164db4f896916a9b2938b35d7af3bc536328f\n"
     ]
    },
    {
     "name": "stderr",
     "output_type": "stream",
     "text": [
      "could not detect version_main.therefore, we are assuming it is chrome 108 or higher\n"
     ]
    },
    {
     "name": "stdout",
     "output_type": "stream",
     "text": [
      "Saved to db successfully\n",
      "Done with link 45491: https://www.zoopla.co.uk/for-sale/details/64048326/?search_identifier=3cd24d1a2cc318ac5d930d49e8c164db4f896916a9b2938b35d7af3bc536328f\n",
      "Starting extraction for link 45492: https://www.zoopla.co.uk/for-sale/details/63993443/?search_identifier=3cd24d1a2cc318ac5d930d49e8c164db4f896916a9b2938b35d7af3bc536328f\n"
     ]
    },
    {
     "name": "stderr",
     "output_type": "stream",
     "text": [
      "could not detect version_main.therefore, we are assuming it is chrome 108 or higher\n"
     ]
    },
    {
     "name": "stdout",
     "output_type": "stream",
     "text": [
      "Saved to db successfully\n",
      "Done with link 45492: https://www.zoopla.co.uk/for-sale/details/63993443/?search_identifier=3cd24d1a2cc318ac5d930d49e8c164db4f896916a9b2938b35d7af3bc536328f\n",
      "Starting extraction for link 45493: https://www.zoopla.co.uk/for-sale/details/63902707/?search_identifier=3cd24d1a2cc318ac5d930d49e8c164db4f896916a9b2938b35d7af3bc536328f\n"
     ]
    },
    {
     "name": "stderr",
     "output_type": "stream",
     "text": [
      "could not detect version_main.therefore, we are assuming it is chrome 108 or higher\n"
     ]
    },
    {
     "name": "stdout",
     "output_type": "stream",
     "text": [
      "Saved to db successfully\n",
      "Done with link 45493: https://www.zoopla.co.uk/for-sale/details/63902707/?search_identifier=3cd24d1a2cc318ac5d930d49e8c164db4f896916a9b2938b35d7af3bc536328f\n",
      "Starting extraction for link 45494: https://www.zoopla.co.uk/for-sale/details/63884345/?search_identifier=3cd24d1a2cc318ac5d930d49e8c164db4f896916a9b2938b35d7af3bc536328f\n"
     ]
    },
    {
     "name": "stderr",
     "output_type": "stream",
     "text": [
      "could not detect version_main.therefore, we are assuming it is chrome 108 or higher\n"
     ]
    },
    {
     "name": "stdout",
     "output_type": "stream",
     "text": [
      "Saved to db successfully\n",
      "Done with link 45494: https://www.zoopla.co.uk/for-sale/details/63884345/?search_identifier=3cd24d1a2cc318ac5d930d49e8c164db4f896916a9b2938b35d7af3bc536328f\n",
      "Starting extraction for link 45495: https://www.zoopla.co.uk/for-sale/details/63849619/?search_identifier=3cd24d1a2cc318ac5d930d49e8c164db4f896916a9b2938b35d7af3bc536328f\n"
     ]
    },
    {
     "name": "stderr",
     "output_type": "stream",
     "text": [
      "could not detect version_main.therefore, we are assuming it is chrome 108 or higher\n"
     ]
    },
    {
     "name": "stdout",
     "output_type": "stream",
     "text": [
      "Saved to db successfully\n",
      "Done with link 45495: https://www.zoopla.co.uk/for-sale/details/63849619/?search_identifier=3cd24d1a2cc318ac5d930d49e8c164db4f896916a9b2938b35d7af3bc536328f\n",
      "Starting extraction for link 45496: https://www.zoopla.co.uk/for-sale/details/63792025/?search_identifier=f29814ebf1bd317f33baf8fc645cf357d807cf8c4a136affaf1dfe5e99172059\n"
     ]
    },
    {
     "name": "stderr",
     "output_type": "stream",
     "text": [
      "could not detect version_main.therefore, we are assuming it is chrome 108 or higher\n"
     ]
    },
    {
     "name": "stdout",
     "output_type": "stream",
     "text": [
      "Saved to db successfully\n",
      "Done with link 45496: https://www.zoopla.co.uk/for-sale/details/63792025/?search_identifier=f29814ebf1bd317f33baf8fc645cf357d807cf8c4a136affaf1dfe5e99172059\n",
      "Starting extraction for link 45497: https://www.zoopla.co.uk/for-sale/details/63786988/?search_identifier=f29814ebf1bd317f33baf8fc645cf357d807cf8c4a136affaf1dfe5e99172059\n"
     ]
    },
    {
     "name": "stderr",
     "output_type": "stream",
     "text": [
      "could not detect version_main.therefore, we are assuming it is chrome 108 or higher\n"
     ]
    },
    {
     "name": "stdout",
     "output_type": "stream",
     "text": [
      "Saved to db successfully\n",
      "Done with link 45497: https://www.zoopla.co.uk/for-sale/details/63786988/?search_identifier=f29814ebf1bd317f33baf8fc645cf357d807cf8c4a136affaf1dfe5e99172059\n",
      "Starting extraction for link 45498: https://www.zoopla.co.uk/new-homes/details/63734056/?search_identifier=f29814ebf1bd317f33baf8fc645cf357d807cf8c4a136affaf1dfe5e99172059\n"
     ]
    },
    {
     "name": "stderr",
     "output_type": "stream",
     "text": [
      "could not detect version_main.therefore, we are assuming it is chrome 108 or higher\n"
     ]
    },
    {
     "name": "stdout",
     "output_type": "stream",
     "text": [
      "Saved to db successfully\n",
      "Done with link 45498: https://www.zoopla.co.uk/new-homes/details/63734056/?search_identifier=f29814ebf1bd317f33baf8fc645cf357d807cf8c4a136affaf1dfe5e99172059\n",
      "Starting extraction for link 45499: https://www.zoopla.co.uk/for-sale/details/63722149/?search_identifier=f29814ebf1bd317f33baf8fc645cf357d807cf8c4a136affaf1dfe5e99172059\n"
     ]
    },
    {
     "name": "stderr",
     "output_type": "stream",
     "text": [
      "could not detect version_main.therefore, we are assuming it is chrome 108 or higher\n"
     ]
    },
    {
     "name": "stdout",
     "output_type": "stream",
     "text": [
      "Saved to db successfully\n",
      "Done with link 45499: https://www.zoopla.co.uk/for-sale/details/63722149/?search_identifier=f29814ebf1bd317f33baf8fc645cf357d807cf8c4a136affaf1dfe5e99172059\n",
      "Starting extraction for link 45500: https://www.zoopla.co.uk/for-sale/details/63623925/?search_identifier=f29814ebf1bd317f33baf8fc645cf357d807cf8c4a136affaf1dfe5e99172059\n"
     ]
    },
    {
     "name": "stderr",
     "output_type": "stream",
     "text": [
      "could not detect version_main.therefore, we are assuming it is chrome 108 or higher\n"
     ]
    },
    {
     "name": "stdout",
     "output_type": "stream",
     "text": [
      "Saved to db successfully\n",
      "Done with link 45500: https://www.zoopla.co.uk/for-sale/details/63623925/?search_identifier=f29814ebf1bd317f33baf8fc645cf357d807cf8c4a136affaf1dfe5e99172059\n",
      "Starting extraction for link 45501: https://www.zoopla.co.uk/for-sale/details/63285229/?search_identifier=f29814ebf1bd317f33baf8fc645cf357d807cf8c4a136affaf1dfe5e99172059\n"
     ]
    },
    {
     "name": "stderr",
     "output_type": "stream",
     "text": [
      "could not detect version_main.therefore, we are assuming it is chrome 108 or higher\n"
     ]
    },
    {
     "name": "stdout",
     "output_type": "stream",
     "text": [
      "Saved to db successfully\n",
      "Done with link 45501: https://www.zoopla.co.uk/for-sale/details/63285229/?search_identifier=f29814ebf1bd317f33baf8fc645cf357d807cf8c4a136affaf1dfe5e99172059\n",
      "Starting extraction for link 45502: https://www.zoopla.co.uk/for-sale/details/62776178/?search_identifier=f29814ebf1bd317f33baf8fc645cf357d807cf8c4a136affaf1dfe5e99172059\n"
     ]
    },
    {
     "name": "stderr",
     "output_type": "stream",
     "text": [
      "could not detect version_main.therefore, we are assuming it is chrome 108 or higher\n"
     ]
    },
    {
     "name": "stdout",
     "output_type": "stream",
     "text": [
      "Saved to db successfully\n",
      "Done with link 45502: https://www.zoopla.co.uk/for-sale/details/62776178/?search_identifier=f29814ebf1bd317f33baf8fc645cf357d807cf8c4a136affaf1dfe5e99172059\n",
      "Starting extraction for link 45503: https://www.zoopla.co.uk/for-sale/details/62729174/?search_identifier=f29814ebf1bd317f33baf8fc645cf357d807cf8c4a136affaf1dfe5e99172059\n"
     ]
    },
    {
     "name": "stderr",
     "output_type": "stream",
     "text": [
      "could not detect version_main.therefore, we are assuming it is chrome 108 or higher\n"
     ]
    },
    {
     "name": "stdout",
     "output_type": "stream",
     "text": [
      "Saved to db successfully\n",
      "Done with link 45503: https://www.zoopla.co.uk/for-sale/details/62729174/?search_identifier=f29814ebf1bd317f33baf8fc645cf357d807cf8c4a136affaf1dfe5e99172059\n",
      "Starting extraction for link 45504: https://www.zoopla.co.uk/for-sale/details/60228776/?search_identifier=f29814ebf1bd317f33baf8fc645cf357d807cf8c4a136affaf1dfe5e99172059\n"
     ]
    },
    {
     "name": "stderr",
     "output_type": "stream",
     "text": [
      "could not detect version_main.therefore, we are assuming it is chrome 108 or higher\n"
     ]
    },
    {
     "name": "stdout",
     "output_type": "stream",
     "text": [
      "Saved to db successfully\n",
      "Done with link 45504: https://www.zoopla.co.uk/for-sale/details/60228776/?search_identifier=f29814ebf1bd317f33baf8fc645cf357d807cf8c4a136affaf1dfe5e99172059\n",
      "Starting extraction for link 45505: https://www.zoopla.co.uk/for-sale/details/62238871/?search_identifier=f29814ebf1bd317f33baf8fc645cf357d807cf8c4a136affaf1dfe5e99172059\n"
     ]
    },
    {
     "name": "stderr",
     "output_type": "stream",
     "text": [
      "could not detect version_main.therefore, we are assuming it is chrome 108 or higher\n"
     ]
    },
    {
     "name": "stdout",
     "output_type": "stream",
     "text": [
      "Saved to db successfully\n",
      "Done with link 45505: https://www.zoopla.co.uk/for-sale/details/62238871/?search_identifier=f29814ebf1bd317f33baf8fc645cf357d807cf8c4a136affaf1dfe5e99172059\n",
      "Starting extraction for link 45506: https://www.zoopla.co.uk/for-sale/details/62632404/?search_identifier=f29814ebf1bd317f33baf8fc645cf357d807cf8c4a136affaf1dfe5e99172059\n"
     ]
    },
    {
     "name": "stderr",
     "output_type": "stream",
     "text": [
      "could not detect version_main.therefore, we are assuming it is chrome 108 or higher\n"
     ]
    },
    {
     "name": "stdout",
     "output_type": "stream",
     "text": [
      "Saved to db successfully\n",
      "Done with link 45506: https://www.zoopla.co.uk/for-sale/details/62632404/?search_identifier=f29814ebf1bd317f33baf8fc645cf357d807cf8c4a136affaf1dfe5e99172059\n",
      "Starting extraction for link 45507: https://www.zoopla.co.uk/for-sale/details/62560447/?search_identifier=f29814ebf1bd317f33baf8fc645cf357d807cf8c4a136affaf1dfe5e99172059\n",
      "An error occurred for link in get_data_func: https://www.zoopla.co.uk/for-sale/details/62560447/?search_identifier=f29814ebf1bd317f33baf8fc645cf357d807cf8c4a136affaf1dfe5e99172059: Message: no such element: Unable to locate element: {\"method\":\"xpath\",\"selector\":\"//p[@data-testid=\"price\"]\"}\n",
      "  (Session info: chrome=115.0.5790.171); For documentation on this error, please visit: https://www.selenium.dev/documentation/webdriver/troubleshooting/errors#no-such-element-exception\n",
      "Stacktrace:\n",
      "Backtrace:\n",
      "\tGetHandleVerifier [0x0073A813+48355]\n",
      "\t(No symbol) [0x006CC4B1]\n",
      "\t(No symbol) [0x005D5358]\n",
      "\t(No symbol) [0x006009A5]\n",
      "\t(No symbol) [0x00600B3B]\n",
      "\t(No symbol) [0x0062E232]\n",
      "\t(No symbol) [0x0061A784]\n",
      "\t(No symbol) [0x0062C922]\n",
      "\t(No symbol) [0x0061A536]\n",
      "\t(No symbol) [0x005F82DC]\n",
      "\t(No symbol) [0x005F93DD]\n",
      "\tGetHandleVerifier [0x0099AABD+2539405]\n",
      "\tGetHandleVerifier [0x009DA78F+2800735]\n",
      "\tGetHandleVerifier [0x009D456C+2775612]\n",
      "\tGetHandleVerifier [0x007C51E0+616112]\n",
      "\t(No symbol) [0x006D5F8C]\n",
      "\t(No symbol) [0x006D2328]\n",
      "\t(No symbol) [0x006D240B]\n",
      "\t(No symbol) [0x006C4FF7]\n",
      "\tBaseThreadInitThunk [0x761E7D59+25]\n",
      "\tRtlInitializeExceptionChain [0x773DB79B+107]\n",
      "\tRtlClearBits [0x773DB71F+191]\n",
      "\n"
     ]
    },
    {
     "name": "stderr",
     "output_type": "stream",
     "text": [
      "could not detect version_main.therefore, we are assuming it is chrome 108 or higher\n"
     ]
    },
    {
     "name": "stdout",
     "output_type": "stream",
     "text": [
      "Saved to db successfully\n",
      "Done with link 45507: https://www.zoopla.co.uk/for-sale/details/62560447/?search_identifier=f29814ebf1bd317f33baf8fc645cf357d807cf8c4a136affaf1dfe5e99172059\n",
      "Starting extraction for link 45508: https://www.zoopla.co.uk/for-sale/details/61126333/?search_identifier=f29814ebf1bd317f33baf8fc645cf357d807cf8c4a136affaf1dfe5e99172059\n"
     ]
    },
    {
     "name": "stderr",
     "output_type": "stream",
     "text": [
      "could not detect version_main.therefore, we are assuming it is chrome 108 or higher\n"
     ]
    },
    {
     "name": "stdout",
     "output_type": "stream",
     "text": [
      "Saved to db successfully\n",
      "Done with link 45508: https://www.zoopla.co.uk/for-sale/details/61126333/?search_identifier=f29814ebf1bd317f33baf8fc645cf357d807cf8c4a136affaf1dfe5e99172059\n",
      "Starting extraction for link 45509: https://www.zoopla.co.uk/for-sale/details/62342823/?search_identifier=f29814ebf1bd317f33baf8fc645cf357d807cf8c4a136affaf1dfe5e99172059\n"
     ]
    },
    {
     "name": "stderr",
     "output_type": "stream",
     "text": [
      "could not detect version_main.therefore, we are assuming it is chrome 108 or higher\n"
     ]
    },
    {
     "name": "stdout",
     "output_type": "stream",
     "text": [
      "Saved to db successfully\n",
      "Done with link 45509: https://www.zoopla.co.uk/for-sale/details/62342823/?search_identifier=f29814ebf1bd317f33baf8fc645cf357d807cf8c4a136affaf1dfe5e99172059\n",
      "Starting extraction for link 45510: https://www.zoopla.co.uk/for-sale/details/62311104/?search_identifier=f29814ebf1bd317f33baf8fc645cf357d807cf8c4a136affaf1dfe5e99172059\n"
     ]
    },
    {
     "name": "stderr",
     "output_type": "stream",
     "text": [
      "could not detect version_main.therefore, we are assuming it is chrome 108 or higher\n"
     ]
    },
    {
     "name": "stdout",
     "output_type": "stream",
     "text": [
      "Saved to db successfully\n",
      "Done with link 45510: https://www.zoopla.co.uk/for-sale/details/62311104/?search_identifier=f29814ebf1bd317f33baf8fc645cf357d807cf8c4a136affaf1dfe5e99172059\n",
      "Starting extraction for link 45511: https://www.zoopla.co.uk/for-sale/details/62308524/?search_identifier=f29814ebf1bd317f33baf8fc645cf357d807cf8c4a136affaf1dfe5e99172059\n"
     ]
    },
    {
     "name": "stderr",
     "output_type": "stream",
     "text": [
      "could not detect version_main.therefore, we are assuming it is chrome 108 or higher\n"
     ]
    },
    {
     "name": "stdout",
     "output_type": "stream",
     "text": [
      "Saved to db successfully\n",
      "Done with link 45511: https://www.zoopla.co.uk/for-sale/details/62308524/?search_identifier=f29814ebf1bd317f33baf8fc645cf357d807cf8c4a136affaf1dfe5e99172059\n",
      "Starting extraction for link 45512: https://www.zoopla.co.uk/for-sale/details/62311921/?search_identifier=f29814ebf1bd317f33baf8fc645cf357d807cf8c4a136affaf1dfe5e99172059\n"
     ]
    },
    {
     "name": "stderr",
     "output_type": "stream",
     "text": [
      "could not detect version_main.therefore, we are assuming it is chrome 108 or higher\n"
     ]
    },
    {
     "name": "stdout",
     "output_type": "stream",
     "text": [
      "Saved to db successfully\n",
      "Done with link 45512: https://www.zoopla.co.uk/for-sale/details/62311921/?search_identifier=f29814ebf1bd317f33baf8fc645cf357d807cf8c4a136affaf1dfe5e99172059\n",
      "Starting extraction for link 45513: https://www.zoopla.co.uk/for-sale/details/62306485/?search_identifier=f29814ebf1bd317f33baf8fc645cf357d807cf8c4a136affaf1dfe5e99172059\n"
     ]
    },
    {
     "name": "stderr",
     "output_type": "stream",
     "text": [
      "could not detect version_main.therefore, we are assuming it is chrome 108 or higher\n"
     ]
    },
    {
     "name": "stdout",
     "output_type": "stream",
     "text": [
      "Saved to db successfully\n",
      "Done with link 45513: https://www.zoopla.co.uk/for-sale/details/62306485/?search_identifier=f29814ebf1bd317f33baf8fc645cf357d807cf8c4a136affaf1dfe5e99172059\n",
      "Starting extraction for link 45514: https://www.zoopla.co.uk/for-sale/details/61833225/?search_identifier=f29814ebf1bd317f33baf8fc645cf357d807cf8c4a136affaf1dfe5e99172059\n"
     ]
    },
    {
     "name": "stderr",
     "output_type": "stream",
     "text": [
      "could not detect version_main.therefore, we are assuming it is chrome 108 or higher\n"
     ]
    },
    {
     "name": "stdout",
     "output_type": "stream",
     "text": [
      "Saved to db successfully\n",
      "Done with link 45514: https://www.zoopla.co.uk/for-sale/details/61833225/?search_identifier=f29814ebf1bd317f33baf8fc645cf357d807cf8c4a136affaf1dfe5e99172059\n",
      "Starting extraction for link 45515: https://www.zoopla.co.uk/for-sale/details/61636524/?search_identifier=f29814ebf1bd317f33baf8fc645cf357d807cf8c4a136affaf1dfe5e99172059\n"
     ]
    },
    {
     "name": "stderr",
     "output_type": "stream",
     "text": [
      "could not detect version_main.therefore, we are assuming it is chrome 108 or higher\n"
     ]
    },
    {
     "name": "stdout",
     "output_type": "stream",
     "text": [
      "Saved to db successfully\n",
      "Done with link 45515: https://www.zoopla.co.uk/for-sale/details/61636524/?search_identifier=f29814ebf1bd317f33baf8fc645cf357d807cf8c4a136affaf1dfe5e99172059\n",
      "Starting extraction for link 45516: https://www.zoopla.co.uk/for-sale/details/60713589/?search_identifier=f29814ebf1bd317f33baf8fc645cf357d807cf8c4a136affaf1dfe5e99172059\n"
     ]
    },
    {
     "name": "stderr",
     "output_type": "stream",
     "text": [
      "could not detect version_main.therefore, we are assuming it is chrome 108 or higher\n"
     ]
    },
    {
     "name": "stdout",
     "output_type": "stream",
     "text": [
      "Saved to db successfully\n",
      "Done with link 45516: https://www.zoopla.co.uk/for-sale/details/60713589/?search_identifier=f29814ebf1bd317f33baf8fc645cf357d807cf8c4a136affaf1dfe5e99172059\n",
      "Starting extraction for link 45517: https://www.zoopla.co.uk/for-sale/details/60016088/?search_identifier=f29814ebf1bd317f33baf8fc645cf357d807cf8c4a136affaf1dfe5e99172059\n"
     ]
    },
    {
     "name": "stderr",
     "output_type": "stream",
     "text": [
      "could not detect version_main.therefore, we are assuming it is chrome 108 or higher\n"
     ]
    },
    {
     "name": "stdout",
     "output_type": "stream",
     "text": [
      "Saved to db successfully\n",
      "Done with link 45517: https://www.zoopla.co.uk/for-sale/details/60016088/?search_identifier=f29814ebf1bd317f33baf8fc645cf357d807cf8c4a136affaf1dfe5e99172059\n",
      "Starting extraction for link 45518: https://www.zoopla.co.uk/for-sale/details/58803935/?search_identifier=f29814ebf1bd317f33baf8fc645cf357d807cf8c4a136affaf1dfe5e99172059\n"
     ]
    },
    {
     "name": "stderr",
     "output_type": "stream",
     "text": [
      "could not detect version_main.therefore, we are assuming it is chrome 108 or higher\n"
     ]
    },
    {
     "name": "stdout",
     "output_type": "stream",
     "text": [
      "Saved to db successfully\n",
      "Done with link 45518: https://www.zoopla.co.uk/for-sale/details/58803935/?search_identifier=f29814ebf1bd317f33baf8fc645cf357d807cf8c4a136affaf1dfe5e99172059\n",
      "Starting extraction for link 45519: https://www.zoopla.co.uk/for-sale/details/65228018/?search_identifier=e90e17b84febdc8c74496a8a8e945051017fcb0a4dfcdad3a7863d38043bca13\n"
     ]
    },
    {
     "name": "stderr",
     "output_type": "stream",
     "text": [
      "could not detect version_main.therefore, we are assuming it is chrome 108 or higher\n"
     ]
    },
    {
     "name": "stdout",
     "output_type": "stream",
     "text": [
      "Saved to db successfully\n",
      "Done with link 45519: https://www.zoopla.co.uk/for-sale/details/65228018/?search_identifier=e90e17b84febdc8c74496a8a8e945051017fcb0a4dfcdad3a7863d38043bca13\n",
      "Starting extraction for link 45520: https://www.zoopla.co.uk/for-sale/details/65197896/?search_identifier=e90e17b84febdc8c74496a8a8e945051017fcb0a4dfcdad3a7863d38043bca13\n"
     ]
    },
    {
     "name": "stderr",
     "output_type": "stream",
     "text": [
      "could not detect version_main.therefore, we are assuming it is chrome 108 or higher\n"
     ]
    },
    {
     "name": "stdout",
     "output_type": "stream",
     "text": [
      "Saved to db successfully\n",
      "Done with link 45520: https://www.zoopla.co.uk/for-sale/details/65197896/?search_identifier=e90e17b84febdc8c74496a8a8e945051017fcb0a4dfcdad3a7863d38043bca13\n",
      "Starting extraction for link 45521: https://www.zoopla.co.uk/for-sale/details/65189492/?search_identifier=e90e17b84febdc8c74496a8a8e945051017fcb0a4dfcdad3a7863d38043bca13\n"
     ]
    },
    {
     "name": "stderr",
     "output_type": "stream",
     "text": [
      "could not detect version_main.therefore, we are assuming it is chrome 108 or higher\n"
     ]
    },
    {
     "name": "stdout",
     "output_type": "stream",
     "text": [
      "Saved to db successfully\n",
      "Done with link 45521: https://www.zoopla.co.uk/for-sale/details/65189492/?search_identifier=e90e17b84febdc8c74496a8a8e945051017fcb0a4dfcdad3a7863d38043bca13\n",
      "Starting extraction for link 45522: https://www.zoopla.co.uk/for-sale/details/65184752/?search_identifier=e90e17b84febdc8c74496a8a8e945051017fcb0a4dfcdad3a7863d38043bca13\n"
     ]
    },
    {
     "name": "stderr",
     "output_type": "stream",
     "text": [
      "could not detect version_main.therefore, we are assuming it is chrome 108 or higher\n"
     ]
    },
    {
     "name": "stdout",
     "output_type": "stream",
     "text": [
      "Saved to db successfully\n",
      "Done with link 45522: https://www.zoopla.co.uk/for-sale/details/65184752/?search_identifier=e90e17b84febdc8c74496a8a8e945051017fcb0a4dfcdad3a7863d38043bca13\n",
      "Starting extraction for link 45523: https://www.zoopla.co.uk/for-sale/details/65166625/?search_identifier=e90e17b84febdc8c74496a8a8e945051017fcb0a4dfcdad3a7863d38043bca13\n"
     ]
    },
    {
     "name": "stderr",
     "output_type": "stream",
     "text": [
      "could not detect version_main.therefore, we are assuming it is chrome 108 or higher\n"
     ]
    },
    {
     "name": "stdout",
     "output_type": "stream",
     "text": [
      "Saved to db successfully\n",
      "Done with link 45523: https://www.zoopla.co.uk/for-sale/details/65166625/?search_identifier=e90e17b84febdc8c74496a8a8e945051017fcb0a4dfcdad3a7863d38043bca13\n",
      "Starting extraction for link 45524: https://www.zoopla.co.uk/new-homes/details/65161307/?search_identifier=e90e17b84febdc8c74496a8a8e945051017fcb0a4dfcdad3a7863d38043bca13\n"
     ]
    },
    {
     "name": "stderr",
     "output_type": "stream",
     "text": [
      "could not detect version_main.therefore, we are assuming it is chrome 108 or higher\n"
     ]
    },
    {
     "name": "stdout",
     "output_type": "stream",
     "text": [
      "Saved to db successfully\n",
      "Done with link 45524: https://www.zoopla.co.uk/new-homes/details/65161307/?search_identifier=e90e17b84febdc8c74496a8a8e945051017fcb0a4dfcdad3a7863d38043bca13\n",
      "Starting extraction for link 45525: https://www.zoopla.co.uk/new-homes/details/65161315/?search_identifier=e90e17b84febdc8c74496a8a8e945051017fcb0a4dfcdad3a7863d38043bca13\n"
     ]
    },
    {
     "name": "stderr",
     "output_type": "stream",
     "text": [
      "could not detect version_main.therefore, we are assuming it is chrome 108 or higher\n"
     ]
    },
    {
     "name": "stdout",
     "output_type": "stream",
     "text": [
      "Saved to db successfully\n",
      "Done with link 45525: https://www.zoopla.co.uk/new-homes/details/65161315/?search_identifier=e90e17b84febdc8c74496a8a8e945051017fcb0a4dfcdad3a7863d38043bca13\n",
      "Starting extraction for link 45526: https://www.zoopla.co.uk/new-homes/details/65161159/?search_identifier=e90e17b84febdc8c74496a8a8e945051017fcb0a4dfcdad3a7863d38043bca13\n"
     ]
    },
    {
     "name": "stderr",
     "output_type": "stream",
     "text": [
      "could not detect version_main.therefore, we are assuming it is chrome 108 or higher\n"
     ]
    },
    {
     "name": "stdout",
     "output_type": "stream",
     "text": [
      "Saved to db successfully\n",
      "Done with link 45526: https://www.zoopla.co.uk/new-homes/details/65161159/?search_identifier=e90e17b84febdc8c74496a8a8e945051017fcb0a4dfcdad3a7863d38043bca13\n",
      "Starting extraction for link 45527: https://www.zoopla.co.uk/for-sale/details/65160854/?search_identifier=e90e17b84febdc8c74496a8a8e945051017fcb0a4dfcdad3a7863d38043bca13\n"
     ]
    },
    {
     "name": "stderr",
     "output_type": "stream",
     "text": [
      "could not detect version_main.therefore, we are assuming it is chrome 108 or higher\n"
     ]
    },
    {
     "name": "stdout",
     "output_type": "stream",
     "text": [
      "Saved to db successfully\n",
      "Done with link 45527: https://www.zoopla.co.uk/for-sale/details/65160854/?search_identifier=e90e17b84febdc8c74496a8a8e945051017fcb0a4dfcdad3a7863d38043bca13\n",
      "Starting extraction for link 45528: https://www.zoopla.co.uk/for-sale/details/65160730/?search_identifier=e90e17b84febdc8c74496a8a8e945051017fcb0a4dfcdad3a7863d38043bca13\n"
     ]
    },
    {
     "name": "stderr",
     "output_type": "stream",
     "text": [
      "could not detect version_main.therefore, we are assuming it is chrome 108 or higher\n"
     ]
    },
    {
     "name": "stdout",
     "output_type": "stream",
     "text": [
      "Saved to db successfully\n",
      "Done with link 45528: https://www.zoopla.co.uk/for-sale/details/65160730/?search_identifier=e90e17b84febdc8c74496a8a8e945051017fcb0a4dfcdad3a7863d38043bca13\n",
      "Starting extraction for link 45529: https://www.zoopla.co.uk/for-sale/details/58875192/?search_identifier=e90e17b84febdc8c74496a8a8e945051017fcb0a4dfcdad3a7863d38043bca13\n"
     ]
    },
    {
     "name": "stderr",
     "output_type": "stream",
     "text": [
      "could not detect version_main.therefore, we are assuming it is chrome 108 or higher\n"
     ]
    },
    {
     "name": "stdout",
     "output_type": "stream",
     "text": [
      "Saved to db successfully\n",
      "Done with link 45529: https://www.zoopla.co.uk/for-sale/details/58875192/?search_identifier=e90e17b84febdc8c74496a8a8e945051017fcb0a4dfcdad3a7863d38043bca13\n",
      "Starting extraction for link 45530: https://www.zoopla.co.uk/for-sale/details/61786540/?search_identifier=e90e17b84febdc8c74496a8a8e945051017fcb0a4dfcdad3a7863d38043bca13\n"
     ]
    },
    {
     "name": "stderr",
     "output_type": "stream",
     "text": [
      "could not detect version_main.therefore, we are assuming it is chrome 108 or higher\n"
     ]
    },
    {
     "name": "stdout",
     "output_type": "stream",
     "text": [
      "Saved to db successfully\n",
      "Done with link 45530: https://www.zoopla.co.uk/for-sale/details/61786540/?search_identifier=e90e17b84febdc8c74496a8a8e945051017fcb0a4dfcdad3a7863d38043bca13\n",
      "Starting extraction for link 45531: https://www.zoopla.co.uk/for-sale/details/65148240/?search_identifier=e90e17b84febdc8c74496a8a8e945051017fcb0a4dfcdad3a7863d38043bca13\n"
     ]
    },
    {
     "name": "stderr",
     "output_type": "stream",
     "text": [
      "could not detect version_main.therefore, we are assuming it is chrome 108 or higher\n"
     ]
    },
    {
     "name": "stdout",
     "output_type": "stream",
     "text": [
      "Saved to db successfully\n",
      "Done with link 45531: https://www.zoopla.co.uk/for-sale/details/65148240/?search_identifier=e90e17b84febdc8c74496a8a8e945051017fcb0a4dfcdad3a7863d38043bca13\n",
      "Starting extraction for link 45532: https://www.zoopla.co.uk/for-sale/details/65147535/?search_identifier=e90e17b84febdc8c74496a8a8e945051017fcb0a4dfcdad3a7863d38043bca13\n"
     ]
    },
    {
     "name": "stderr",
     "output_type": "stream",
     "text": [
      "could not detect version_main.therefore, we are assuming it is chrome 108 or higher\n"
     ]
    },
    {
     "name": "stdout",
     "output_type": "stream",
     "text": [
      "Saved to db successfully\n",
      "Done with link 45532: https://www.zoopla.co.uk/for-sale/details/65147535/?search_identifier=e90e17b84febdc8c74496a8a8e945051017fcb0a4dfcdad3a7863d38043bca13\n",
      "Starting extraction for link 45533: https://www.zoopla.co.uk/for-sale/details/65147480/?search_identifier=e90e17b84febdc8c74496a8a8e945051017fcb0a4dfcdad3a7863d38043bca13\n"
     ]
    },
    {
     "name": "stderr",
     "output_type": "stream",
     "text": [
      "could not detect version_main.therefore, we are assuming it is chrome 108 or higher\n"
     ]
    },
    {
     "name": "stdout",
     "output_type": "stream",
     "text": [
      "Saved to db successfully\n",
      "Done with link 45533: https://www.zoopla.co.uk/for-sale/details/65147480/?search_identifier=e90e17b84febdc8c74496a8a8e945051017fcb0a4dfcdad3a7863d38043bca13\n",
      "Starting extraction for link 45534: https://www.zoopla.co.uk/for-sale/details/65145754/?search_identifier=e90e17b84febdc8c74496a8a8e945051017fcb0a4dfcdad3a7863d38043bca13\n"
     ]
    },
    {
     "name": "stderr",
     "output_type": "stream",
     "text": [
      "could not detect version_main.therefore, we are assuming it is chrome 108 or higher\n"
     ]
    },
    {
     "name": "stdout",
     "output_type": "stream",
     "text": [
      "Saved to db successfully\n",
      "Done with link 45534: https://www.zoopla.co.uk/for-sale/details/65145754/?search_identifier=e90e17b84febdc8c74496a8a8e945051017fcb0a4dfcdad3a7863d38043bca13\n",
      "Starting extraction for link 45535: https://www.zoopla.co.uk/for-sale/details/65143915/?search_identifier=e90e17b84febdc8c74496a8a8e945051017fcb0a4dfcdad3a7863d38043bca13\n"
     ]
    },
    {
     "name": "stderr",
     "output_type": "stream",
     "text": [
      "could not detect version_main.therefore, we are assuming it is chrome 108 or higher\n"
     ]
    },
    {
     "name": "stdout",
     "output_type": "stream",
     "text": [
      "Saved to db successfully\n",
      "Done with link 45535: https://www.zoopla.co.uk/for-sale/details/65143915/?search_identifier=e90e17b84febdc8c74496a8a8e945051017fcb0a4dfcdad3a7863d38043bca13\n",
      "Starting extraction for link 45536: https://www.zoopla.co.uk/for-sale/details/65134716/?search_identifier=e90e17b84febdc8c74496a8a8e945051017fcb0a4dfcdad3a7863d38043bca13\n"
     ]
    },
    {
     "name": "stderr",
     "output_type": "stream",
     "text": [
      "could not detect version_main.therefore, we are assuming it is chrome 108 or higher\n"
     ]
    },
    {
     "name": "stdout",
     "output_type": "stream",
     "text": [
      "Saved to db successfully\n",
      "Done with link 45536: https://www.zoopla.co.uk/for-sale/details/65134716/?search_identifier=e90e17b84febdc8c74496a8a8e945051017fcb0a4dfcdad3a7863d38043bca13\n",
      "Starting extraction for link 45537: https://www.zoopla.co.uk/for-sale/details/65128862/?search_identifier=e90e17b84febdc8c74496a8a8e945051017fcb0a4dfcdad3a7863d38043bca13\n"
     ]
    },
    {
     "name": "stderr",
     "output_type": "stream",
     "text": [
      "could not detect version_main.therefore, we are assuming it is chrome 108 or higher\n"
     ]
    },
    {
     "name": "stdout",
     "output_type": "stream",
     "text": [
      "Saved to db successfully\n",
      "Done with link 45537: https://www.zoopla.co.uk/for-sale/details/65128862/?search_identifier=e90e17b84febdc8c74496a8a8e945051017fcb0a4dfcdad3a7863d38043bca13\n",
      "Starting extraction for link 45538: https://www.zoopla.co.uk/for-sale/details/65124269/?search_identifier=e90e17b84febdc8c74496a8a8e945051017fcb0a4dfcdad3a7863d38043bca13\n"
     ]
    },
    {
     "name": "stderr",
     "output_type": "stream",
     "text": [
      "could not detect version_main.therefore, we are assuming it is chrome 108 or higher\n"
     ]
    },
    {
     "name": "stdout",
     "output_type": "stream",
     "text": [
      "Saved to db successfully\n",
      "Done with link 45538: https://www.zoopla.co.uk/for-sale/details/65124269/?search_identifier=e90e17b84febdc8c74496a8a8e945051017fcb0a4dfcdad3a7863d38043bca13\n",
      "Starting extraction for link 45539: https://www.zoopla.co.uk/for-sale/details/65123013/?search_identifier=e90e17b84febdc8c74496a8a8e945051017fcb0a4dfcdad3a7863d38043bca13\n"
     ]
    },
    {
     "name": "stderr",
     "output_type": "stream",
     "text": [
      "could not detect version_main.therefore, we are assuming it is chrome 108 or higher\n"
     ]
    },
    {
     "name": "stdout",
     "output_type": "stream",
     "text": [
      "Saved to db successfully\n",
      "Done with link 45539: https://www.zoopla.co.uk/for-sale/details/65123013/?search_identifier=e90e17b84febdc8c74496a8a8e945051017fcb0a4dfcdad3a7863d38043bca13\n",
      "Starting extraction for link 45540: https://www.zoopla.co.uk/for-sale/details/65115291/?search_identifier=e90e17b84febdc8c74496a8a8e945051017fcb0a4dfcdad3a7863d38043bca13\n"
     ]
    },
    {
     "name": "stderr",
     "output_type": "stream",
     "text": [
      "could not detect version_main.therefore, we are assuming it is chrome 108 or higher\n"
     ]
    },
    {
     "name": "stdout",
     "output_type": "stream",
     "text": [
      "Saved to db successfully\n",
      "Done with link 45540: https://www.zoopla.co.uk/for-sale/details/65115291/?search_identifier=e90e17b84febdc8c74496a8a8e945051017fcb0a4dfcdad3a7863d38043bca13\n",
      "Starting extraction for link 45541: https://www.zoopla.co.uk/for-sale/details/65114000/?search_identifier=e90e17b84febdc8c74496a8a8e945051017fcb0a4dfcdad3a7863d38043bca13\n"
     ]
    },
    {
     "name": "stderr",
     "output_type": "stream",
     "text": [
      "could not detect version_main.therefore, we are assuming it is chrome 108 or higher\n"
     ]
    },
    {
     "name": "stdout",
     "output_type": "stream",
     "text": [
      "Saved to db successfully\n",
      "Done with link 45541: https://www.zoopla.co.uk/for-sale/details/65114000/?search_identifier=e90e17b84febdc8c74496a8a8e945051017fcb0a4dfcdad3a7863d38043bca13\n",
      "Starting extraction for link 45542: https://www.zoopla.co.uk/for-sale/details/65109252/?search_identifier=e90e17b84febdc8c74496a8a8e945051017fcb0a4dfcdad3a7863d38043bca13\n"
     ]
    },
    {
     "name": "stderr",
     "output_type": "stream",
     "text": [
      "could not detect version_main.therefore, we are assuming it is chrome 108 or higher\n"
     ]
    },
    {
     "name": "stdout",
     "output_type": "stream",
     "text": [
      "Saved to db successfully\n",
      "Done with link 45542: https://www.zoopla.co.uk/for-sale/details/65109252/?search_identifier=e90e17b84febdc8c74496a8a8e945051017fcb0a4dfcdad3a7863d38043bca13\n",
      "Starting extraction for link 45543: https://www.zoopla.co.uk/for-sale/details/61475882/?search_identifier=e90e17b84febdc8c74496a8a8e945051017fcb0a4dfcdad3a7863d38043bca13\n"
     ]
    },
    {
     "name": "stderr",
     "output_type": "stream",
     "text": [
      "could not detect version_main.therefore, we are assuming it is chrome 108 or higher\n"
     ]
    },
    {
     "name": "stdout",
     "output_type": "stream",
     "text": [
      "Saved to db successfully\n",
      "Done with link 45543: https://www.zoopla.co.uk/for-sale/details/61475882/?search_identifier=e90e17b84febdc8c74496a8a8e945051017fcb0a4dfcdad3a7863d38043bca13\n",
      "Starting extraction for link 45544: https://www.zoopla.co.uk/for-sale/details/65103115/?search_identifier=634db4f2fcd100106e3108d705eae1c23b76a7084f299fa7a79c3c3e7813afc7\n"
     ]
    },
    {
     "name": "stderr",
     "output_type": "stream",
     "text": [
      "could not detect version_main.therefore, we are assuming it is chrome 108 or higher\n"
     ]
    },
    {
     "name": "stdout",
     "output_type": "stream",
     "text": [
      "Saved to db successfully\n",
      "Done with link 45544: https://www.zoopla.co.uk/for-sale/details/65103115/?search_identifier=634db4f2fcd100106e3108d705eae1c23b76a7084f299fa7a79c3c3e7813afc7\n",
      "Starting extraction for link 45545: https://www.zoopla.co.uk/for-sale/details/62568948/?search_identifier=634db4f2fcd100106e3108d705eae1c23b76a7084f299fa7a79c3c3e7813afc7\n"
     ]
    },
    {
     "name": "stderr",
     "output_type": "stream",
     "text": [
      "could not detect version_main.therefore, we are assuming it is chrome 108 or higher\n"
     ]
    },
    {
     "name": "stdout",
     "output_type": "stream",
     "text": [
      "Saved to db successfully\n",
      "Done with link 45545: https://www.zoopla.co.uk/for-sale/details/62568948/?search_identifier=634db4f2fcd100106e3108d705eae1c23b76a7084f299fa7a79c3c3e7813afc7\n",
      "Starting extraction for link 45546: https://www.zoopla.co.uk/for-sale/details/65087597/?search_identifier=634db4f2fcd100106e3108d705eae1c23b76a7084f299fa7a79c3c3e7813afc7\n"
     ]
    },
    {
     "name": "stderr",
     "output_type": "stream",
     "text": [
      "could not detect version_main.therefore, we are assuming it is chrome 108 or higher\n"
     ]
    },
    {
     "name": "stdout",
     "output_type": "stream",
     "text": [
      "Saved to db successfully\n",
      "Done with link 45546: https://www.zoopla.co.uk/for-sale/details/65087597/?search_identifier=634db4f2fcd100106e3108d705eae1c23b76a7084f299fa7a79c3c3e7813afc7\n",
      "Starting extraction for link 45547: https://www.zoopla.co.uk/for-sale/details/65082373/?search_identifier=634db4f2fcd100106e3108d705eae1c23b76a7084f299fa7a79c3c3e7813afc7\n"
     ]
    },
    {
     "name": "stderr",
     "output_type": "stream",
     "text": [
      "could not detect version_main.therefore, we are assuming it is chrome 108 or higher\n"
     ]
    },
    {
     "name": "stdout",
     "output_type": "stream",
     "text": [
      "Saved to db successfully\n",
      "Done with link 45547: https://www.zoopla.co.uk/for-sale/details/65082373/?search_identifier=634db4f2fcd100106e3108d705eae1c23b76a7084f299fa7a79c3c3e7813afc7\n",
      "Starting extraction for link 45548: https://www.zoopla.co.uk/for-sale/details/65081455/?search_identifier=634db4f2fcd100106e3108d705eae1c23b76a7084f299fa7a79c3c3e7813afc7\n"
     ]
    },
    {
     "name": "stderr",
     "output_type": "stream",
     "text": [
      "could not detect version_main.therefore, we are assuming it is chrome 108 or higher\n"
     ]
    },
    {
     "name": "stdout",
     "output_type": "stream",
     "text": [
      "Saved to db successfully\n",
      "Done with link 45548: https://www.zoopla.co.uk/for-sale/details/65081455/?search_identifier=634db4f2fcd100106e3108d705eae1c23b76a7084f299fa7a79c3c3e7813afc7\n",
      "Starting extraction for link 45549: https://www.zoopla.co.uk/for-sale/details/65080250/?search_identifier=634db4f2fcd100106e3108d705eae1c23b76a7084f299fa7a79c3c3e7813afc7\n"
     ]
    },
    {
     "name": "stderr",
     "output_type": "stream",
     "text": [
      "could not detect version_main.therefore, we are assuming it is chrome 108 or higher\n"
     ]
    },
    {
     "name": "stdout",
     "output_type": "stream",
     "text": [
      "Saved to db successfully\n",
      "Done with link 45549: https://www.zoopla.co.uk/for-sale/details/65080250/?search_identifier=634db4f2fcd100106e3108d705eae1c23b76a7084f299fa7a79c3c3e7813afc7\n",
      "Starting extraction for link 45550: https://www.zoopla.co.uk/for-sale/details/65080186/?search_identifier=634db4f2fcd100106e3108d705eae1c23b76a7084f299fa7a79c3c3e7813afc7\n"
     ]
    },
    {
     "name": "stderr",
     "output_type": "stream",
     "text": [
      "could not detect version_main.therefore, we are assuming it is chrome 108 or higher\n"
     ]
    },
    {
     "name": "stdout",
     "output_type": "stream",
     "text": [
      "Saved to db successfully\n",
      "Done with link 45550: https://www.zoopla.co.uk/for-sale/details/65080186/?search_identifier=634db4f2fcd100106e3108d705eae1c23b76a7084f299fa7a79c3c3e7813afc7\n",
      "Starting extraction for link 45551: https://www.zoopla.co.uk/for-sale/details/65080135/?search_identifier=634db4f2fcd100106e3108d705eae1c23b76a7084f299fa7a79c3c3e7813afc7\n"
     ]
    },
    {
     "name": "stderr",
     "output_type": "stream",
     "text": [
      "could not detect version_main.therefore, we are assuming it is chrome 108 or higher\n"
     ]
    },
    {
     "name": "stdout",
     "output_type": "stream",
     "text": [
      "Saved to db successfully\n",
      "Done with link 45551: https://www.zoopla.co.uk/for-sale/details/65080135/?search_identifier=634db4f2fcd100106e3108d705eae1c23b76a7084f299fa7a79c3c3e7813afc7\n",
      "Starting extraction for link 45552: https://www.zoopla.co.uk/for-sale/details/65074536/?search_identifier=634db4f2fcd100106e3108d705eae1c23b76a7084f299fa7a79c3c3e7813afc7\n"
     ]
    },
    {
     "name": "stderr",
     "output_type": "stream",
     "text": [
      "could not detect version_main.therefore, we are assuming it is chrome 108 or higher\n"
     ]
    },
    {
     "name": "stdout",
     "output_type": "stream",
     "text": [
      "Saved to db successfully\n",
      "Done with link 45552: https://www.zoopla.co.uk/for-sale/details/65074536/?search_identifier=634db4f2fcd100106e3108d705eae1c23b76a7084f299fa7a79c3c3e7813afc7\n",
      "Starting extraction for link 45553: https://www.zoopla.co.uk/for-sale/details/65068603/?search_identifier=634db4f2fcd100106e3108d705eae1c23b76a7084f299fa7a79c3c3e7813afc7\n"
     ]
    },
    {
     "name": "stderr",
     "output_type": "stream",
     "text": [
      "could not detect version_main.therefore, we are assuming it is chrome 108 or higher\n"
     ]
    },
    {
     "name": "stdout",
     "output_type": "stream",
     "text": [
      "Saved to db successfully\n",
      "Done with link 45553: https://www.zoopla.co.uk/for-sale/details/65068603/?search_identifier=634db4f2fcd100106e3108d705eae1c23b76a7084f299fa7a79c3c3e7813afc7\n",
      "Starting extraction for link 45554: https://www.zoopla.co.uk/for-sale/details/65067475/?search_identifier=634db4f2fcd100106e3108d705eae1c23b76a7084f299fa7a79c3c3e7813afc7\n"
     ]
    },
    {
     "name": "stderr",
     "output_type": "stream",
     "text": [
      "could not detect version_main.therefore, we are assuming it is chrome 108 or higher\n"
     ]
    },
    {
     "name": "stdout",
     "output_type": "stream",
     "text": [
      "Saved to db successfully\n",
      "Done with link 45554: https://www.zoopla.co.uk/for-sale/details/65067475/?search_identifier=634db4f2fcd100106e3108d705eae1c23b76a7084f299fa7a79c3c3e7813afc7\n",
      "Starting extraction for link 45555: https://www.zoopla.co.uk/for-sale/details/65066237/?search_identifier=634db4f2fcd100106e3108d705eae1c23b76a7084f299fa7a79c3c3e7813afc7\n"
     ]
    },
    {
     "name": "stderr",
     "output_type": "stream",
     "text": [
      "could not detect version_main.therefore, we are assuming it is chrome 108 or higher\n"
     ]
    },
    {
     "name": "stdout",
     "output_type": "stream",
     "text": [
      "Saved to db successfully\n",
      "Done with link 45555: https://www.zoopla.co.uk/for-sale/details/65066237/?search_identifier=634db4f2fcd100106e3108d705eae1c23b76a7084f299fa7a79c3c3e7813afc7\n",
      "Starting extraction for link 45556: https://www.zoopla.co.uk/for-sale/details/65060671/?search_identifier=634db4f2fcd100106e3108d705eae1c23b76a7084f299fa7a79c3c3e7813afc7\n"
     ]
    },
    {
     "name": "stderr",
     "output_type": "stream",
     "text": [
      "could not detect version_main.therefore, we are assuming it is chrome 108 or higher\n"
     ]
    },
    {
     "name": "stdout",
     "output_type": "stream",
     "text": [
      "Saved to db successfully\n",
      "Done with link 45556: https://www.zoopla.co.uk/for-sale/details/65060671/?search_identifier=634db4f2fcd100106e3108d705eae1c23b76a7084f299fa7a79c3c3e7813afc7\n",
      "Starting extraction for link 45557: https://www.zoopla.co.uk/for-sale/details/65056857/?search_identifier=634db4f2fcd100106e3108d705eae1c23b76a7084f299fa7a79c3c3e7813afc7\n"
     ]
    },
    {
     "name": "stderr",
     "output_type": "stream",
     "text": [
      "could not detect version_main.therefore, we are assuming it is chrome 108 or higher\n"
     ]
    },
    {
     "name": "stdout",
     "output_type": "stream",
     "text": [
      "Saved to db successfully\n",
      "Done with link 45557: https://www.zoopla.co.uk/for-sale/details/65056857/?search_identifier=634db4f2fcd100106e3108d705eae1c23b76a7084f299fa7a79c3c3e7813afc7\n",
      "Starting extraction for link 45558: https://www.zoopla.co.uk/for-sale/details/65055238/?search_identifier=634db4f2fcd100106e3108d705eae1c23b76a7084f299fa7a79c3c3e7813afc7\n"
     ]
    },
    {
     "name": "stderr",
     "output_type": "stream",
     "text": [
      "could not detect version_main.therefore, we are assuming it is chrome 108 or higher\n"
     ]
    },
    {
     "name": "stdout",
     "output_type": "stream",
     "text": [
      "Saved to db successfully\n",
      "Done with link 45558: https://www.zoopla.co.uk/for-sale/details/65055238/?search_identifier=634db4f2fcd100106e3108d705eae1c23b76a7084f299fa7a79c3c3e7813afc7\n",
      "Starting extraction for link 45559: https://www.zoopla.co.uk/new-homes/details/65050120/?search_identifier=634db4f2fcd100106e3108d705eae1c23b76a7084f299fa7a79c3c3e7813afc7\n"
     ]
    },
    {
     "name": "stderr",
     "output_type": "stream",
     "text": [
      "could not detect version_main.therefore, we are assuming it is chrome 108 or higher\n"
     ]
    },
    {
     "name": "stdout",
     "output_type": "stream",
     "text": [
      "Saved to db successfully\n",
      "Done with link 45559: https://www.zoopla.co.uk/new-homes/details/65050120/?search_identifier=634db4f2fcd100106e3108d705eae1c23b76a7084f299fa7a79c3c3e7813afc7\n",
      "Starting extraction for link 45560: https://www.zoopla.co.uk/for-sale/details/65044574/?search_identifier=634db4f2fcd100106e3108d705eae1c23b76a7084f299fa7a79c3c3e7813afc7\n"
     ]
    },
    {
     "name": "stderr",
     "output_type": "stream",
     "text": [
      "could not detect version_main.therefore, we are assuming it is chrome 108 or higher\n"
     ]
    },
    {
     "name": "stdout",
     "output_type": "stream",
     "text": [
      "Saved to db successfully\n",
      "Done with link 45560: https://www.zoopla.co.uk/for-sale/details/65044574/?search_identifier=634db4f2fcd100106e3108d705eae1c23b76a7084f299fa7a79c3c3e7813afc7\n",
      "Starting extraction for link 45561: https://www.zoopla.co.uk/for-sale/details/65043887/?search_identifier=634db4f2fcd100106e3108d705eae1c23b76a7084f299fa7a79c3c3e7813afc7\n"
     ]
    },
    {
     "name": "stderr",
     "output_type": "stream",
     "text": [
      "could not detect version_main.therefore, we are assuming it is chrome 108 or higher\n"
     ]
    },
    {
     "name": "stdout",
     "output_type": "stream",
     "text": [
      "Saved to db successfully\n",
      "Done with link 45561: https://www.zoopla.co.uk/for-sale/details/65043887/?search_identifier=634db4f2fcd100106e3108d705eae1c23b76a7084f299fa7a79c3c3e7813afc7\n",
      "Starting extraction for link 45562: https://www.zoopla.co.uk/for-sale/details/58268338/?search_identifier=634db4f2fcd100106e3108d705eae1c23b76a7084f299fa7a79c3c3e7813afc7\n"
     ]
    },
    {
     "name": "stderr",
     "output_type": "stream",
     "text": [
      "could not detect version_main.therefore, we are assuming it is chrome 108 or higher\n"
     ]
    },
    {
     "name": "stdout",
     "output_type": "stream",
     "text": [
      "Saved to db successfully\n",
      "Done with link 45562: https://www.zoopla.co.uk/for-sale/details/58268338/?search_identifier=634db4f2fcd100106e3108d705eae1c23b76a7084f299fa7a79c3c3e7813afc7\n",
      "Starting extraction for link 45563: https://www.zoopla.co.uk/for-sale/details/65018019/?search_identifier=634db4f2fcd100106e3108d705eae1c23b76a7084f299fa7a79c3c3e7813afc7\n"
     ]
    },
    {
     "name": "stderr",
     "output_type": "stream",
     "text": [
      "could not detect version_main.therefore, we are assuming it is chrome 108 or higher\n"
     ]
    },
    {
     "name": "stdout",
     "output_type": "stream",
     "text": [
      "Saved to db successfully\n",
      "Done with link 45563: https://www.zoopla.co.uk/for-sale/details/65018019/?search_identifier=634db4f2fcd100106e3108d705eae1c23b76a7084f299fa7a79c3c3e7813afc7\n",
      "Starting extraction for link 45564: https://www.zoopla.co.uk/for-sale/details/65018070/?search_identifier=634db4f2fcd100106e3108d705eae1c23b76a7084f299fa7a79c3c3e7813afc7\n"
     ]
    },
    {
     "name": "stderr",
     "output_type": "stream",
     "text": [
      "could not detect version_main.therefore, we are assuming it is chrome 108 or higher\n"
     ]
    },
    {
     "name": "stdout",
     "output_type": "stream",
     "text": [
      "Saved to db successfully\n",
      "Done with link 45564: https://www.zoopla.co.uk/for-sale/details/65018070/?search_identifier=634db4f2fcd100106e3108d705eae1c23b76a7084f299fa7a79c3c3e7813afc7\n",
      "Starting extraction for link 45565: https://www.zoopla.co.uk/for-sale/details/65015274/?search_identifier=634db4f2fcd100106e3108d705eae1c23b76a7084f299fa7a79c3c3e7813afc7\n",
      "An error occurred for link in get_data_func: https://www.zoopla.co.uk/for-sale/details/65015274/?search_identifier=634db4f2fcd100106e3108d705eae1c23b76a7084f299fa7a79c3c3e7813afc7: Message: no such element: Unable to locate element: {\"method\":\"xpath\",\"selector\":\"//p[@data-testid=\"price\"]\"}\n",
      "  (Session info: chrome=115.0.5790.171); For documentation on this error, please visit: https://www.selenium.dev/documentation/webdriver/troubleshooting/errors#no-such-element-exception\n",
      "Stacktrace:\n",
      "Backtrace:\n",
      "\tGetHandleVerifier [0x0073A813+48355]\n",
      "\t(No symbol) [0x006CC4B1]\n",
      "\t(No symbol) [0x005D5358]\n",
      "\t(No symbol) [0x006009A5]\n",
      "\t(No symbol) [0x00600B3B]\n",
      "\t(No symbol) [0x0062E232]\n",
      "\t(No symbol) [0x0061A784]\n",
      "\t(No symbol) [0x0062C922]\n",
      "\t(No symbol) [0x0061A536]\n",
      "\t(No symbol) [0x005F82DC]\n",
      "\t(No symbol) [0x005F93DD]\n",
      "\tGetHandleVerifier [0x0099AABD+2539405]\n",
      "\tGetHandleVerifier [0x009DA78F+2800735]\n",
      "\tGetHandleVerifier [0x009D456C+2775612]\n",
      "\tGetHandleVerifier [0x007C51E0+616112]\n",
      "\t(No symbol) [0x006D5F8C]\n",
      "\t(No symbol) [0x006D2328]\n",
      "\t(No symbol) [0x006D240B]\n",
      "\t(No symbol) [0x006C4FF7]\n",
      "\tBaseThreadInitThunk [0x761E7D59+25]\n",
      "\tRtlInitializeExceptionChain [0x773DB79B+107]\n",
      "\tRtlClearBits [0x773DB71F+191]\n",
      "\n"
     ]
    },
    {
     "name": "stderr",
     "output_type": "stream",
     "text": [
      "could not detect version_main.therefore, we are assuming it is chrome 108 or higher\n"
     ]
    },
    {
     "name": "stdout",
     "output_type": "stream",
     "text": [
      "Saved to db successfully\n",
      "Done with link 45565: https://www.zoopla.co.uk/for-sale/details/65015274/?search_identifier=634db4f2fcd100106e3108d705eae1c23b76a7084f299fa7a79c3c3e7813afc7\n",
      "Starting extraction for link 45566: https://www.zoopla.co.uk/for-sale/details/65012778/?search_identifier=634db4f2fcd100106e3108d705eae1c23b76a7084f299fa7a79c3c3e7813afc7\n"
     ]
    },
    {
     "name": "stderr",
     "output_type": "stream",
     "text": [
      "could not detect version_main.therefore, we are assuming it is chrome 108 or higher\n"
     ]
    },
    {
     "name": "stdout",
     "output_type": "stream",
     "text": [
      "Saved to db successfully\n",
      "Done with link 45566: https://www.zoopla.co.uk/for-sale/details/65012778/?search_identifier=634db4f2fcd100106e3108d705eae1c23b76a7084f299fa7a79c3c3e7813afc7\n",
      "Starting extraction for link 45567: https://www.zoopla.co.uk/for-sale/details/65009921/?search_identifier=634db4f2fcd100106e3108d705eae1c23b76a7084f299fa7a79c3c3e7813afc7\n"
     ]
    },
    {
     "name": "stderr",
     "output_type": "stream",
     "text": [
      "could not detect version_main.therefore, we are assuming it is chrome 108 or higher\n"
     ]
    },
    {
     "name": "stdout",
     "output_type": "stream",
     "text": [
      "Saved to db successfully\n",
      "Done with link 45567: https://www.zoopla.co.uk/for-sale/details/65009921/?search_identifier=634db4f2fcd100106e3108d705eae1c23b76a7084f299fa7a79c3c3e7813afc7\n",
      "Starting extraction for link 45568: https://www.zoopla.co.uk/for-sale/details/64996772/?search_identifier=634db4f2fcd100106e3108d705eae1c23b76a7084f299fa7a79c3c3e7813afc7\n"
     ]
    },
    {
     "name": "stderr",
     "output_type": "stream",
     "text": [
      "could not detect version_main.therefore, we are assuming it is chrome 108 or higher\n"
     ]
    },
    {
     "name": "stdout",
     "output_type": "stream",
     "text": [
      "Saved to db successfully\n",
      "Done with link 45568: https://www.zoopla.co.uk/for-sale/details/64996772/?search_identifier=634db4f2fcd100106e3108d705eae1c23b76a7084f299fa7a79c3c3e7813afc7\n",
      "Starting extraction for link 45569: https://www.zoopla.co.uk/new-homes/details/61154842/?search_identifier=dddfd3c5506c1997deec9f3ff43c9479f2e7cbebf1e011232c795870c6b608fa\n"
     ]
    },
    {
     "name": "stderr",
     "output_type": "stream",
     "text": [
      "could not detect version_main.therefore, we are assuming it is chrome 108 or higher\n"
     ]
    },
    {
     "name": "stdout",
     "output_type": "stream",
     "text": [
      "Saved to db successfully\n",
      "Done with link 45569: https://www.zoopla.co.uk/new-homes/details/61154842/?search_identifier=dddfd3c5506c1997deec9f3ff43c9479f2e7cbebf1e011232c795870c6b608fa\n",
      "Starting extraction for link 45570: https://www.zoopla.co.uk/for-sale/details/64988117/?search_identifier=dddfd3c5506c1997deec9f3ff43c9479f2e7cbebf1e011232c795870c6b608fa\n"
     ]
    },
    {
     "name": "stderr",
     "output_type": "stream",
     "text": [
      "could not detect version_main.therefore, we are assuming it is chrome 108 or higher\n"
     ]
    },
    {
     "name": "stdout",
     "output_type": "stream",
     "text": [
      "Saved to db successfully\n",
      "Done with link 45570: https://www.zoopla.co.uk/for-sale/details/64988117/?search_identifier=dddfd3c5506c1997deec9f3ff43c9479f2e7cbebf1e011232c795870c6b608fa\n",
      "Starting extraction for link 45571: https://www.zoopla.co.uk/for-sale/details/64980491/?search_identifier=dddfd3c5506c1997deec9f3ff43c9479f2e7cbebf1e011232c795870c6b608fa\n"
     ]
    },
    {
     "name": "stderr",
     "output_type": "stream",
     "text": [
      "could not detect version_main.therefore, we are assuming it is chrome 108 or higher\n"
     ]
    },
    {
     "name": "stdout",
     "output_type": "stream",
     "text": [
      "Saved to db successfully\n",
      "Done with link 45571: https://www.zoopla.co.uk/for-sale/details/64980491/?search_identifier=dddfd3c5506c1997deec9f3ff43c9479f2e7cbebf1e011232c795870c6b608fa\n",
      "Starting extraction for link 45572: https://www.zoopla.co.uk/for-sale/details/64980437/?search_identifier=dddfd3c5506c1997deec9f3ff43c9479f2e7cbebf1e011232c795870c6b608fa\n"
     ]
    },
    {
     "name": "stderr",
     "output_type": "stream",
     "text": [
      "could not detect version_main.therefore, we are assuming it is chrome 108 or higher\n"
     ]
    },
    {
     "name": "stdout",
     "output_type": "stream",
     "text": [
      "Saved to db successfully\n",
      "Done with link 45572: https://www.zoopla.co.uk/for-sale/details/64980437/?search_identifier=dddfd3c5506c1997deec9f3ff43c9479f2e7cbebf1e011232c795870c6b608fa\n",
      "Starting extraction for link 45573: https://www.zoopla.co.uk/for-sale/details/64976850/?search_identifier=dddfd3c5506c1997deec9f3ff43c9479f2e7cbebf1e011232c795870c6b608fa\n"
     ]
    },
    {
     "name": "stderr",
     "output_type": "stream",
     "text": [
      "could not detect version_main.therefore, we are assuming it is chrome 108 or higher\n"
     ]
    },
    {
     "name": "stdout",
     "output_type": "stream",
     "text": [
      "Saved to db successfully\n",
      "Done with link 45573: https://www.zoopla.co.uk/for-sale/details/64976850/?search_identifier=dddfd3c5506c1997deec9f3ff43c9479f2e7cbebf1e011232c795870c6b608fa\n",
      "Starting extraction for link 45574: https://www.zoopla.co.uk/for-sale/details/64971336/?search_identifier=dddfd3c5506c1997deec9f3ff43c9479f2e7cbebf1e011232c795870c6b608fa\n"
     ]
    },
    {
     "name": "stderr",
     "output_type": "stream",
     "text": [
      "could not detect version_main.therefore, we are assuming it is chrome 108 or higher\n"
     ]
    },
    {
     "name": "stdout",
     "output_type": "stream",
     "text": [
      "Saved to db successfully\n",
      "Done with link 45574: https://www.zoopla.co.uk/for-sale/details/64971336/?search_identifier=dddfd3c5506c1997deec9f3ff43c9479f2e7cbebf1e011232c795870c6b608fa\n",
      "Starting extraction for link 45575: https://www.zoopla.co.uk/for-sale/details/64967844/?search_identifier=dddfd3c5506c1997deec9f3ff43c9479f2e7cbebf1e011232c795870c6b608fa\n"
     ]
    },
    {
     "name": "stderr",
     "output_type": "stream",
     "text": [
      "could not detect version_main.therefore, we are assuming it is chrome 108 or higher\n"
     ]
    },
    {
     "name": "stdout",
     "output_type": "stream",
     "text": [
      "Saved to db successfully\n",
      "Done with link 45575: https://www.zoopla.co.uk/for-sale/details/64967844/?search_identifier=dddfd3c5506c1997deec9f3ff43c9479f2e7cbebf1e011232c795870c6b608fa\n",
      "Starting extraction for link 45576: https://www.zoopla.co.uk/for-sale/details/64961492/?search_identifier=dddfd3c5506c1997deec9f3ff43c9479f2e7cbebf1e011232c795870c6b608fa\n"
     ]
    },
    {
     "name": "stderr",
     "output_type": "stream",
     "text": [
      "could not detect version_main.therefore, we are assuming it is chrome 108 or higher\n"
     ]
    },
    {
     "name": "stdout",
     "output_type": "stream",
     "text": [
      "Saved to db successfully\n",
      "Done with link 45576: https://www.zoopla.co.uk/for-sale/details/64961492/?search_identifier=dddfd3c5506c1997deec9f3ff43c9479f2e7cbebf1e011232c795870c6b608fa\n",
      "Starting extraction for link 45577: https://www.zoopla.co.uk/for-sale/details/64958119/?search_identifier=dddfd3c5506c1997deec9f3ff43c9479f2e7cbebf1e011232c795870c6b608fa\n"
     ]
    },
    {
     "name": "stderr",
     "output_type": "stream",
     "text": [
      "could not detect version_main.therefore, we are assuming it is chrome 108 or higher\n"
     ]
    },
    {
     "name": "stdout",
     "output_type": "stream",
     "text": [
      "Saved to db successfully\n",
      "Done with link 45577: https://www.zoopla.co.uk/for-sale/details/64958119/?search_identifier=dddfd3c5506c1997deec9f3ff43c9479f2e7cbebf1e011232c795870c6b608fa\n",
      "Starting extraction for link 45578: https://www.zoopla.co.uk/new-homes/details/64956233/?search_identifier=dddfd3c5506c1997deec9f3ff43c9479f2e7cbebf1e011232c795870c6b608fa\n"
     ]
    },
    {
     "name": "stderr",
     "output_type": "stream",
     "text": [
      "could not detect version_main.therefore, we are assuming it is chrome 108 or higher\n"
     ]
    },
    {
     "name": "stdout",
     "output_type": "stream",
     "text": [
      "Saved to db successfully\n",
      "Done with link 45578: https://www.zoopla.co.uk/new-homes/details/64956233/?search_identifier=dddfd3c5506c1997deec9f3ff43c9479f2e7cbebf1e011232c795870c6b608fa\n",
      "Starting extraction for link 45579: https://www.zoopla.co.uk/for-sale/details/64954863/?search_identifier=dddfd3c5506c1997deec9f3ff43c9479f2e7cbebf1e011232c795870c6b608fa\n"
     ]
    },
    {
     "name": "stderr",
     "output_type": "stream",
     "text": [
      "could not detect version_main.therefore, we are assuming it is chrome 108 or higher\n"
     ]
    },
    {
     "name": "stdout",
     "output_type": "stream",
     "text": [
      "Saved to db successfully\n",
      "Done with link 45579: https://www.zoopla.co.uk/for-sale/details/64954863/?search_identifier=dddfd3c5506c1997deec9f3ff43c9479f2e7cbebf1e011232c795870c6b608fa\n",
      "Starting extraction for link 45580: https://www.zoopla.co.uk/for-sale/details/64946691/?search_identifier=dddfd3c5506c1997deec9f3ff43c9479f2e7cbebf1e011232c795870c6b608fa\n"
     ]
    },
    {
     "name": "stderr",
     "output_type": "stream",
     "text": [
      "could not detect version_main.therefore, we are assuming it is chrome 108 or higher\n"
     ]
    },
    {
     "name": "stdout",
     "output_type": "stream",
     "text": [
      "Saved to db successfully\n",
      "Done with link 45580: https://www.zoopla.co.uk/for-sale/details/64946691/?search_identifier=dddfd3c5506c1997deec9f3ff43c9479f2e7cbebf1e011232c795870c6b608fa\n",
      "Starting extraction for link 45581: https://www.zoopla.co.uk/for-sale/details/64944338/?search_identifier=dddfd3c5506c1997deec9f3ff43c9479f2e7cbebf1e011232c795870c6b608fa\n",
      "An error occurred for link in get_data_func: https://www.zoopla.co.uk/for-sale/details/64944338/?search_identifier=dddfd3c5506c1997deec9f3ff43c9479f2e7cbebf1e011232c795870c6b608fa: Message: no such element: Unable to locate element: {\"method\":\"xpath\",\"selector\":\"//p[@data-testid=\"price\"]\"}\n",
      "  (Session info: chrome=115.0.5790.171); For documentation on this error, please visit: https://www.selenium.dev/documentation/webdriver/troubleshooting/errors#no-such-element-exception\n",
      "Stacktrace:\n",
      "Backtrace:\n",
      "\tGetHandleVerifier [0x0073A813+48355]\n",
      "\t(No symbol) [0x006CC4B1]\n",
      "\t(No symbol) [0x005D5358]\n",
      "\t(No symbol) [0x006009A5]\n",
      "\t(No symbol) [0x00600B3B]\n",
      "\t(No symbol) [0x0062E232]\n",
      "\t(No symbol) [0x0061A784]\n",
      "\t(No symbol) [0x0062C922]\n",
      "\t(No symbol) [0x0061A536]\n",
      "\t(No symbol) [0x005F82DC]\n",
      "\t(No symbol) [0x005F93DD]\n",
      "\tGetHandleVerifier [0x0099AABD+2539405]\n",
      "\tGetHandleVerifier [0x009DA78F+2800735]\n",
      "\tGetHandleVerifier [0x009D456C+2775612]\n",
      "\tGetHandleVerifier [0x007C51E0+616112]\n",
      "\t(No symbol) [0x006D5F8C]\n",
      "\t(No symbol) [0x006D2328]\n",
      "\t(No symbol) [0x006D240B]\n",
      "\t(No symbol) [0x006C4FF7]\n",
      "\tBaseThreadInitThunk [0x761E7D59+25]\n",
      "\tRtlInitializeExceptionChain [0x773DB79B+107]\n",
      "\tRtlClearBits [0x773DB71F+191]\n",
      "\n"
     ]
    },
    {
     "name": "stderr",
     "output_type": "stream",
     "text": [
      "could not detect version_main.therefore, we are assuming it is chrome 108 or higher\n"
     ]
    },
    {
     "name": "stdout",
     "output_type": "stream",
     "text": [
      "Saved to db successfully\n",
      "Done with link 45581: https://www.zoopla.co.uk/for-sale/details/64944338/?search_identifier=dddfd3c5506c1997deec9f3ff43c9479f2e7cbebf1e011232c795870c6b608fa\n",
      "Starting extraction for link 45582: https://www.zoopla.co.uk/for-sale/details/64941354/?search_identifier=dddfd3c5506c1997deec9f3ff43c9479f2e7cbebf1e011232c795870c6b608fa\n"
     ]
    },
    {
     "name": "stderr",
     "output_type": "stream",
     "text": [
      "could not detect version_main.therefore, we are assuming it is chrome 108 or higher\n"
     ]
    },
    {
     "name": "stdout",
     "output_type": "stream",
     "text": [
      "Saved to db successfully\n",
      "Done with link 45582: https://www.zoopla.co.uk/for-sale/details/64941354/?search_identifier=dddfd3c5506c1997deec9f3ff43c9479f2e7cbebf1e011232c795870c6b608fa\n",
      "Starting extraction for link 45583: https://www.zoopla.co.uk/for-sale/details/64932178/?search_identifier=dddfd3c5506c1997deec9f3ff43c9479f2e7cbebf1e011232c795870c6b608fa\n"
     ]
    },
    {
     "name": "stderr",
     "output_type": "stream",
     "text": [
      "could not detect version_main.therefore, we are assuming it is chrome 108 or higher\n"
     ]
    },
    {
     "name": "stdout",
     "output_type": "stream",
     "text": [
      "Saved to db successfully\n",
      "Done with link 45583: https://www.zoopla.co.uk/for-sale/details/64932178/?search_identifier=dddfd3c5506c1997deec9f3ff43c9479f2e7cbebf1e011232c795870c6b608fa\n",
      "Starting extraction for link 45584: https://www.zoopla.co.uk/for-sale/details/64920952/?search_identifier=dddfd3c5506c1997deec9f3ff43c9479f2e7cbebf1e011232c795870c6b608fa\n"
     ]
    },
    {
     "name": "stderr",
     "output_type": "stream",
     "text": [
      "could not detect version_main.therefore, we are assuming it is chrome 108 or higher\n"
     ]
    },
    {
     "name": "stdout",
     "output_type": "stream",
     "text": [
      "Saved to db successfully\n",
      "Done with link 45584: https://www.zoopla.co.uk/for-sale/details/64920952/?search_identifier=dddfd3c5506c1997deec9f3ff43c9479f2e7cbebf1e011232c795870c6b608fa\n",
      "Starting extraction for link 45585: https://www.zoopla.co.uk/for-sale/details/64904530/?search_identifier=dddfd3c5506c1997deec9f3ff43c9479f2e7cbebf1e011232c795870c6b608fa\n"
     ]
    },
    {
     "name": "stderr",
     "output_type": "stream",
     "text": [
      "could not detect version_main.therefore, we are assuming it is chrome 108 or higher\n"
     ]
    },
    {
     "name": "stdout",
     "output_type": "stream",
     "text": [
      "Saved to db successfully\n",
      "Done with link 45585: https://www.zoopla.co.uk/for-sale/details/64904530/?search_identifier=dddfd3c5506c1997deec9f3ff43c9479f2e7cbebf1e011232c795870c6b608fa\n",
      "Starting extraction for link 45586: https://www.zoopla.co.uk/for-sale/details/64897843/?search_identifier=dddfd3c5506c1997deec9f3ff43c9479f2e7cbebf1e011232c795870c6b608fa\n"
     ]
    },
    {
     "name": "stderr",
     "output_type": "stream",
     "text": [
      "could not detect version_main.therefore, we are assuming it is chrome 108 or higher\n"
     ]
    },
    {
     "name": "stdout",
     "output_type": "stream",
     "text": [
      "Saved to db successfully\n",
      "Done with link 45586: https://www.zoopla.co.uk/for-sale/details/64897843/?search_identifier=dddfd3c5506c1997deec9f3ff43c9479f2e7cbebf1e011232c795870c6b608fa\n",
      "Starting extraction for link 45587: https://www.zoopla.co.uk/for-sale/details/65217764/?search_identifier=dddfd3c5506c1997deec9f3ff43c9479f2e7cbebf1e011232c795870c6b608fa\n"
     ]
    },
    {
     "name": "stderr",
     "output_type": "stream",
     "text": [
      "could not detect version_main.therefore, we are assuming it is chrome 108 or higher\n"
     ]
    },
    {
     "name": "stdout",
     "output_type": "stream",
     "text": [
      "Saved to db successfully\n",
      "Done with link 45587: https://www.zoopla.co.uk/for-sale/details/65217764/?search_identifier=dddfd3c5506c1997deec9f3ff43c9479f2e7cbebf1e011232c795870c6b608fa\n",
      "Starting extraction for link 45588: https://www.zoopla.co.uk/for-sale/details/64883329/?search_identifier=dddfd3c5506c1997deec9f3ff43c9479f2e7cbebf1e011232c795870c6b608fa\n"
     ]
    },
    {
     "name": "stderr",
     "output_type": "stream",
     "text": [
      "could not detect version_main.therefore, we are assuming it is chrome 108 or higher\n"
     ]
    },
    {
     "name": "stdout",
     "output_type": "stream",
     "text": [
      "Saved to db successfully\n",
      "Done with link 45588: https://www.zoopla.co.uk/for-sale/details/64883329/?search_identifier=dddfd3c5506c1997deec9f3ff43c9479f2e7cbebf1e011232c795870c6b608fa\n",
      "Starting extraction for link 45589: https://www.zoopla.co.uk/for-sale/details/64881114/?search_identifier=dddfd3c5506c1997deec9f3ff43c9479f2e7cbebf1e011232c795870c6b608fa\n"
     ]
    },
    {
     "name": "stderr",
     "output_type": "stream",
     "text": [
      "could not detect version_main.therefore, we are assuming it is chrome 108 or higher\n"
     ]
    },
    {
     "name": "stdout",
     "output_type": "stream",
     "text": [
      "Saved to db successfully\n",
      "Done with link 45589: https://www.zoopla.co.uk/for-sale/details/64881114/?search_identifier=dddfd3c5506c1997deec9f3ff43c9479f2e7cbebf1e011232c795870c6b608fa\n",
      "Starting extraction for link 45590: https://www.zoopla.co.uk/for-sale/details/64878009/?search_identifier=dddfd3c5506c1997deec9f3ff43c9479f2e7cbebf1e011232c795870c6b608fa\n"
     ]
    },
    {
     "name": "stderr",
     "output_type": "stream",
     "text": [
      "could not detect version_main.therefore, we are assuming it is chrome 108 or higher\n"
     ]
    },
    {
     "name": "stdout",
     "output_type": "stream",
     "text": [
      "Saved to db successfully\n",
      "Done with link 45590: https://www.zoopla.co.uk/for-sale/details/64878009/?search_identifier=dddfd3c5506c1997deec9f3ff43c9479f2e7cbebf1e011232c795870c6b608fa\n",
      "Starting extraction for link 45591: https://www.zoopla.co.uk/for-sale/details/64874599/?search_identifier=dddfd3c5506c1997deec9f3ff43c9479f2e7cbebf1e011232c795870c6b608fa\n"
     ]
    },
    {
     "name": "stderr",
     "output_type": "stream",
     "text": [
      "could not detect version_main.therefore, we are assuming it is chrome 108 or higher\n"
     ]
    },
    {
     "name": "stdout",
     "output_type": "stream",
     "text": [
      "Saved to db successfully\n",
      "Done with link 45591: https://www.zoopla.co.uk/for-sale/details/64874599/?search_identifier=dddfd3c5506c1997deec9f3ff43c9479f2e7cbebf1e011232c795870c6b608fa\n",
      "Starting extraction for link 45592: https://www.zoopla.co.uk/for-sale/details/64873668/?search_identifier=dddfd3c5506c1997deec9f3ff43c9479f2e7cbebf1e011232c795870c6b608fa\n"
     ]
    },
    {
     "name": "stderr",
     "output_type": "stream",
     "text": [
      "could not detect version_main.therefore, we are assuming it is chrome 108 or higher\n"
     ]
    },
    {
     "name": "stdout",
     "output_type": "stream",
     "text": [
      "Saved to db successfully\n",
      "Done with link 45592: https://www.zoopla.co.uk/for-sale/details/64873668/?search_identifier=dddfd3c5506c1997deec9f3ff43c9479f2e7cbebf1e011232c795870c6b608fa\n",
      "Starting extraction for link 45593: https://www.zoopla.co.uk/new-homes/details/64872235/?search_identifier=dddfd3c5506c1997deec9f3ff43c9479f2e7cbebf1e011232c795870c6b608fa\n"
     ]
    },
    {
     "name": "stderr",
     "output_type": "stream",
     "text": [
      "could not detect version_main.therefore, we are assuming it is chrome 108 or higher\n"
     ]
    },
    {
     "name": "stdout",
     "output_type": "stream",
     "text": [
      "Saved to db successfully\n",
      "Done with link 45593: https://www.zoopla.co.uk/new-homes/details/64872235/?search_identifier=dddfd3c5506c1997deec9f3ff43c9479f2e7cbebf1e011232c795870c6b608fa\n",
      "Starting extraction for link 45594: https://www.zoopla.co.uk/for-sale/details/64868209/?search_identifier=0f7750833c798c00f5f8612c29004c4d7c9fe5bf2216cddb10aa98a47a4b2885\n"
     ]
    },
    {
     "name": "stderr",
     "output_type": "stream",
     "text": [
      "could not detect version_main.therefore, we are assuming it is chrome 108 or higher\n"
     ]
    },
    {
     "name": "stdout",
     "output_type": "stream",
     "text": [
      "Saved to db successfully\n",
      "Done with link 45594: https://www.zoopla.co.uk/for-sale/details/64868209/?search_identifier=0f7750833c798c00f5f8612c29004c4d7c9fe5bf2216cddb10aa98a47a4b2885\n",
      "Starting extraction for link 45595: https://www.zoopla.co.uk/for-sale/details/64851877/?search_identifier=0f7750833c798c00f5f8612c29004c4d7c9fe5bf2216cddb10aa98a47a4b2885\n"
     ]
    },
    {
     "name": "stderr",
     "output_type": "stream",
     "text": [
      "could not detect version_main.therefore, we are assuming it is chrome 108 or higher\n"
     ]
    },
    {
     "name": "stdout",
     "output_type": "stream",
     "text": [
      "Saved to db successfully\n",
      "Done with link 45595: https://www.zoopla.co.uk/for-sale/details/64851877/?search_identifier=0f7750833c798c00f5f8612c29004c4d7c9fe5bf2216cddb10aa98a47a4b2885\n",
      "Starting extraction for link 45596: https://www.zoopla.co.uk/for-sale/details/64851003/?search_identifier=0f7750833c798c00f5f8612c29004c4d7c9fe5bf2216cddb10aa98a47a4b2885\n"
     ]
    },
    {
     "name": "stderr",
     "output_type": "stream",
     "text": [
      "could not detect version_main.therefore, we are assuming it is chrome 108 or higher\n"
     ]
    },
    {
     "name": "stdout",
     "output_type": "stream",
     "text": [
      "Saved to db successfully\n",
      "Done with link 45596: https://www.zoopla.co.uk/for-sale/details/64851003/?search_identifier=0f7750833c798c00f5f8612c29004c4d7c9fe5bf2216cddb10aa98a47a4b2885\n",
      "Starting extraction for link 45597: https://www.zoopla.co.uk/for-sale/details/64850704/?search_identifier=0f7750833c798c00f5f8612c29004c4d7c9fe5bf2216cddb10aa98a47a4b2885\n"
     ]
    },
    {
     "name": "stderr",
     "output_type": "stream",
     "text": [
      "could not detect version_main.therefore, we are assuming it is chrome 108 or higher\n"
     ]
    },
    {
     "name": "stdout",
     "output_type": "stream",
     "text": [
      "Saved to db successfully\n",
      "Done with link 45597: https://www.zoopla.co.uk/for-sale/details/64850704/?search_identifier=0f7750833c798c00f5f8612c29004c4d7c9fe5bf2216cddb10aa98a47a4b2885\n",
      "Starting extraction for link 45598: https://www.zoopla.co.uk/for-sale/details/64842622/?search_identifier=0f7750833c798c00f5f8612c29004c4d7c9fe5bf2216cddb10aa98a47a4b2885\n"
     ]
    },
    {
     "name": "stderr",
     "output_type": "stream",
     "text": [
      "could not detect version_main.therefore, we are assuming it is chrome 108 or higher\n"
     ]
    },
    {
     "name": "stdout",
     "output_type": "stream",
     "text": [
      "Saved to db successfully\n",
      "Done with link 45598: https://www.zoopla.co.uk/for-sale/details/64842622/?search_identifier=0f7750833c798c00f5f8612c29004c4d7c9fe5bf2216cddb10aa98a47a4b2885\n",
      "Starting extraction for link 45599: https://www.zoopla.co.uk/for-sale/details/64839629/?search_identifier=0f7750833c798c00f5f8612c29004c4d7c9fe5bf2216cddb10aa98a47a4b2885\n"
     ]
    },
    {
     "name": "stderr",
     "output_type": "stream",
     "text": [
      "could not detect version_main.therefore, we are assuming it is chrome 108 or higher\n"
     ]
    },
    {
     "name": "stdout",
     "output_type": "stream",
     "text": [
      "Saved to db successfully\n",
      "Done with link 45599: https://www.zoopla.co.uk/for-sale/details/64839629/?search_identifier=0f7750833c798c00f5f8612c29004c4d7c9fe5bf2216cddb10aa98a47a4b2885\n",
      "Starting extraction for link 45600: https://www.zoopla.co.uk/new-homes/details/65040118/?search_identifier=0f7750833c798c00f5f8612c29004c4d7c9fe5bf2216cddb10aa98a47a4b2885\n"
     ]
    },
    {
     "name": "stderr",
     "output_type": "stream",
     "text": [
      "could not detect version_main.therefore, we are assuming it is chrome 108 or higher\n"
     ]
    },
    {
     "name": "stdout",
     "output_type": "stream",
     "text": [
      "Saved to db successfully\n",
      "Done with link 45600: https://www.zoopla.co.uk/new-homes/details/65040118/?search_identifier=0f7750833c798c00f5f8612c29004c4d7c9fe5bf2216cddb10aa98a47a4b2885\n",
      "Starting extraction for link 45601: https://www.zoopla.co.uk/for-sale/details/64829027/?search_identifier=0f7750833c798c00f5f8612c29004c4d7c9fe5bf2216cddb10aa98a47a4b2885\n"
     ]
    },
    {
     "name": "stderr",
     "output_type": "stream",
     "text": [
      "could not detect version_main.therefore, we are assuming it is chrome 108 or higher\n"
     ]
    },
    {
     "name": "stdout",
     "output_type": "stream",
     "text": [
      "Saved to db successfully\n",
      "Done with link 45601: https://www.zoopla.co.uk/for-sale/details/64829027/?search_identifier=0f7750833c798c00f5f8612c29004c4d7c9fe5bf2216cddb10aa98a47a4b2885\n",
      "Starting extraction for link 45602: https://www.zoopla.co.uk/for-sale/details/64822965/?search_identifier=0f7750833c798c00f5f8612c29004c4d7c9fe5bf2216cddb10aa98a47a4b2885\n"
     ]
    },
    {
     "name": "stderr",
     "output_type": "stream",
     "text": [
      "could not detect version_main.therefore, we are assuming it is chrome 108 or higher\n"
     ]
    },
    {
     "name": "stdout",
     "output_type": "stream",
     "text": [
      "Saved to db successfully\n",
      "Done with link 45602: https://www.zoopla.co.uk/for-sale/details/64822965/?search_identifier=0f7750833c798c00f5f8612c29004c4d7c9fe5bf2216cddb10aa98a47a4b2885\n",
      "Starting extraction for link 45603: https://www.zoopla.co.uk/for-sale/details/64820643/?search_identifier=0f7750833c798c00f5f8612c29004c4d7c9fe5bf2216cddb10aa98a47a4b2885\n"
     ]
    },
    {
     "name": "stderr",
     "output_type": "stream",
     "text": [
      "could not detect version_main.therefore, we are assuming it is chrome 108 or higher\n"
     ]
    },
    {
     "name": "stdout",
     "output_type": "stream",
     "text": [
      "Saved to db successfully\n",
      "Done with link 45603: https://www.zoopla.co.uk/for-sale/details/64820643/?search_identifier=0f7750833c798c00f5f8612c29004c4d7c9fe5bf2216cddb10aa98a47a4b2885\n",
      "Starting extraction for link 45604: https://www.zoopla.co.uk/for-sale/details/64820532/?search_identifier=0f7750833c798c00f5f8612c29004c4d7c9fe5bf2216cddb10aa98a47a4b2885\n"
     ]
    },
    {
     "name": "stderr",
     "output_type": "stream",
     "text": [
      "could not detect version_main.therefore, we are assuming it is chrome 108 or higher\n"
     ]
    },
    {
     "name": "stdout",
     "output_type": "stream",
     "text": [
      "Saved to db successfully\n",
      "Done with link 45604: https://www.zoopla.co.uk/for-sale/details/64820532/?search_identifier=0f7750833c798c00f5f8612c29004c4d7c9fe5bf2216cddb10aa98a47a4b2885\n",
      "Starting extraction for link 45605: https://www.zoopla.co.uk/for-sale/details/64806163/?search_identifier=0f7750833c798c00f5f8612c29004c4d7c9fe5bf2216cddb10aa98a47a4b2885\n"
     ]
    },
    {
     "name": "stderr",
     "output_type": "stream",
     "text": [
      "could not detect version_main.therefore, we are assuming it is chrome 108 or higher\n"
     ]
    },
    {
     "name": "stdout",
     "output_type": "stream",
     "text": [
      "Saved to db successfully\n",
      "Done with link 45605: https://www.zoopla.co.uk/for-sale/details/64806163/?search_identifier=0f7750833c798c00f5f8612c29004c4d7c9fe5bf2216cddb10aa98a47a4b2885\n",
      "Starting extraction for link 45606: https://www.zoopla.co.uk/for-sale/details/64802408/?search_identifier=0f7750833c798c00f5f8612c29004c4d7c9fe5bf2216cddb10aa98a47a4b2885\n"
     ]
    },
    {
     "name": "stderr",
     "output_type": "stream",
     "text": [
      "could not detect version_main.therefore, we are assuming it is chrome 108 or higher\n"
     ]
    },
    {
     "name": "stdout",
     "output_type": "stream",
     "text": [
      "Saved to db successfully\n",
      "Done with link 45606: https://www.zoopla.co.uk/for-sale/details/64802408/?search_identifier=0f7750833c798c00f5f8612c29004c4d7c9fe5bf2216cddb10aa98a47a4b2885\n",
      "Starting extraction for link 45607: https://www.zoopla.co.uk/for-sale/details/64788513/?search_identifier=0f7750833c798c00f5f8612c29004c4d7c9fe5bf2216cddb10aa98a47a4b2885\n"
     ]
    },
    {
     "name": "stderr",
     "output_type": "stream",
     "text": [
      "could not detect version_main.therefore, we are assuming it is chrome 108 or higher\n"
     ]
    },
    {
     "name": "stdout",
     "output_type": "stream",
     "text": [
      "Saved to db successfully\n",
      "Done with link 45607: https://www.zoopla.co.uk/for-sale/details/64788513/?search_identifier=0f7750833c798c00f5f8612c29004c4d7c9fe5bf2216cddb10aa98a47a4b2885\n",
      "Starting extraction for link 45608: https://www.zoopla.co.uk/for-sale/details/64788017/?search_identifier=0f7750833c798c00f5f8612c29004c4d7c9fe5bf2216cddb10aa98a47a4b2885\n"
     ]
    },
    {
     "name": "stderr",
     "output_type": "stream",
     "text": [
      "could not detect version_main.therefore, we are assuming it is chrome 108 or higher\n"
     ]
    },
    {
     "name": "stdout",
     "output_type": "stream",
     "text": [
      "Saved to db successfully\n",
      "Done with link 45608: https://www.zoopla.co.uk/for-sale/details/64788017/?search_identifier=0f7750833c798c00f5f8612c29004c4d7c9fe5bf2216cddb10aa98a47a4b2885\n",
      "Starting extraction for link 45609: https://www.zoopla.co.uk/for-sale/details/64787968/?search_identifier=0f7750833c798c00f5f8612c29004c4d7c9fe5bf2216cddb10aa98a47a4b2885\n"
     ]
    },
    {
     "name": "stderr",
     "output_type": "stream",
     "text": [
      "could not detect version_main.therefore, we are assuming it is chrome 108 or higher\n"
     ]
    },
    {
     "name": "stdout",
     "output_type": "stream",
     "text": [
      "Saved to db successfully\n",
      "Done with link 45609: https://www.zoopla.co.uk/for-sale/details/64787968/?search_identifier=0f7750833c798c00f5f8612c29004c4d7c9fe5bf2216cddb10aa98a47a4b2885\n",
      "Starting extraction for link 45610: https://www.zoopla.co.uk/for-sale/details/64786522/?search_identifier=0f7750833c798c00f5f8612c29004c4d7c9fe5bf2216cddb10aa98a47a4b2885\n"
     ]
    },
    {
     "name": "stderr",
     "output_type": "stream",
     "text": [
      "could not detect version_main.therefore, we are assuming it is chrome 108 or higher\n"
     ]
    },
    {
     "name": "stdout",
     "output_type": "stream",
     "text": [
      "Saved to db successfully\n",
      "Done with link 45610: https://www.zoopla.co.uk/for-sale/details/64786522/?search_identifier=0f7750833c798c00f5f8612c29004c4d7c9fe5bf2216cddb10aa98a47a4b2885\n",
      "Starting extraction for link 45611: https://www.zoopla.co.uk/for-sale/details/64772823/?search_identifier=0f7750833c798c00f5f8612c29004c4d7c9fe5bf2216cddb10aa98a47a4b2885\n"
     ]
    },
    {
     "name": "stderr",
     "output_type": "stream",
     "text": [
      "could not detect version_main.therefore, we are assuming it is chrome 108 or higher\n"
     ]
    },
    {
     "name": "stdout",
     "output_type": "stream",
     "text": [
      "Saved to db successfully\n",
      "Done with link 45611: https://www.zoopla.co.uk/for-sale/details/64772823/?search_identifier=0f7750833c798c00f5f8612c29004c4d7c9fe5bf2216cddb10aa98a47a4b2885\n",
      "Starting extraction for link 45612: https://www.zoopla.co.uk/for-sale/details/64754168/?search_identifier=0f7750833c798c00f5f8612c29004c4d7c9fe5bf2216cddb10aa98a47a4b2885\n"
     ]
    },
    {
     "name": "stderr",
     "output_type": "stream",
     "text": [
      "could not detect version_main.therefore, we are assuming it is chrome 108 or higher\n"
     ]
    },
    {
     "name": "stdout",
     "output_type": "stream",
     "text": [
      "Saved to db successfully\n",
      "Done with link 45612: https://www.zoopla.co.uk/for-sale/details/64754168/?search_identifier=0f7750833c798c00f5f8612c29004c4d7c9fe5bf2216cddb10aa98a47a4b2885\n",
      "Starting extraction for link 45613: https://www.zoopla.co.uk/for-sale/details/64748502/?search_identifier=0f7750833c798c00f5f8612c29004c4d7c9fe5bf2216cddb10aa98a47a4b2885\n"
     ]
    },
    {
     "name": "stderr",
     "output_type": "stream",
     "text": [
      "could not detect version_main.therefore, we are assuming it is chrome 108 or higher\n"
     ]
    },
    {
     "name": "stdout",
     "output_type": "stream",
     "text": [
      "Saved to db successfully\n",
      "Done with link 45613: https://www.zoopla.co.uk/for-sale/details/64748502/?search_identifier=0f7750833c798c00f5f8612c29004c4d7c9fe5bf2216cddb10aa98a47a4b2885\n",
      "Starting extraction for link 45614: https://www.zoopla.co.uk/for-sale/details/64744127/?search_identifier=0f7750833c798c00f5f8612c29004c4d7c9fe5bf2216cddb10aa98a47a4b2885\n"
     ]
    },
    {
     "name": "stderr",
     "output_type": "stream",
     "text": [
      "could not detect version_main.therefore, we are assuming it is chrome 108 or higher\n"
     ]
    },
    {
     "name": "stdout",
     "output_type": "stream",
     "text": [
      "Saved to db successfully\n",
      "Done with link 45614: https://www.zoopla.co.uk/for-sale/details/64744127/?search_identifier=0f7750833c798c00f5f8612c29004c4d7c9fe5bf2216cddb10aa98a47a4b2885\n",
      "Starting extraction for link 45615: https://www.zoopla.co.uk/for-sale/details/64723675/?search_identifier=0f7750833c798c00f5f8612c29004c4d7c9fe5bf2216cddb10aa98a47a4b2885\n"
     ]
    },
    {
     "name": "stderr",
     "output_type": "stream",
     "text": [
      "could not detect version_main.therefore, we are assuming it is chrome 108 or higher\n"
     ]
    },
    {
     "name": "stdout",
     "output_type": "stream",
     "text": [
      "Saved to db successfully\n",
      "Done with link 45615: https://www.zoopla.co.uk/for-sale/details/64723675/?search_identifier=0f7750833c798c00f5f8612c29004c4d7c9fe5bf2216cddb10aa98a47a4b2885\n",
      "Starting extraction for link 45616: https://www.zoopla.co.uk/for-sale/details/64715405/?search_identifier=0f7750833c798c00f5f8612c29004c4d7c9fe5bf2216cddb10aa98a47a4b2885\n",
      "An error occurred for link in get_data_func: https://www.zoopla.co.uk/for-sale/details/64715405/?search_identifier=0f7750833c798c00f5f8612c29004c4d7c9fe5bf2216cddb10aa98a47a4b2885: Message: no such element: Unable to locate element: {\"method\":\"xpath\",\"selector\":\"//p[@data-testid=\"price\"]\"}\n",
      "  (Session info: chrome=115.0.5790.171); For documentation on this error, please visit: https://www.selenium.dev/documentation/webdriver/troubleshooting/errors#no-such-element-exception\n",
      "Stacktrace:\n",
      "Backtrace:\n",
      "\tGetHandleVerifier [0x0073A813+48355]\n",
      "\t(No symbol) [0x006CC4B1]\n",
      "\t(No symbol) [0x005D5358]\n",
      "\t(No symbol) [0x006009A5]\n",
      "\t(No symbol) [0x00600B3B]\n",
      "\t(No symbol) [0x0062E232]\n",
      "\t(No symbol) [0x0061A784]\n",
      "\t(No symbol) [0x0062C922]\n",
      "\t(No symbol) [0x0061A536]\n",
      "\t(No symbol) [0x005F82DC]\n",
      "\t(No symbol) [0x005F93DD]\n",
      "\tGetHandleVerifier [0x0099AABD+2539405]\n",
      "\tGetHandleVerifier [0x009DA78F+2800735]\n",
      "\tGetHandleVerifier [0x009D456C+2775612]\n",
      "\tGetHandleVerifier [0x007C51E0+616112]\n",
      "\t(No symbol) [0x006D5F8C]\n",
      "\t(No symbol) [0x006D2328]\n",
      "\t(No symbol) [0x006D240B]\n",
      "\t(No symbol) [0x006C4FF7]\n",
      "\tBaseThreadInitThunk [0x761E7D59+25]\n",
      "\tRtlInitializeExceptionChain [0x773DB79B+107]\n",
      "\tRtlClearBits [0x773DB71F+191]\n",
      "\n"
     ]
    },
    {
     "name": "stderr",
     "output_type": "stream",
     "text": [
      "could not detect version_main.therefore, we are assuming it is chrome 108 or higher\n"
     ]
    },
    {
     "name": "stdout",
     "output_type": "stream",
     "text": [
      "Saved to db successfully\n",
      "Done with link 45616: https://www.zoopla.co.uk/for-sale/details/64715405/?search_identifier=0f7750833c798c00f5f8612c29004c4d7c9fe5bf2216cddb10aa98a47a4b2885\n",
      "Starting extraction for link 45617: https://www.zoopla.co.uk/for-sale/details/64709491/?search_identifier=0f7750833c798c00f5f8612c29004c4d7c9fe5bf2216cddb10aa98a47a4b2885\n"
     ]
    },
    {
     "name": "stderr",
     "output_type": "stream",
     "text": [
      "could not detect version_main.therefore, we are assuming it is chrome 108 or higher\n"
     ]
    },
    {
     "name": "stdout",
     "output_type": "stream",
     "text": [
      "Saved to db successfully\n",
      "Done with link 45617: https://www.zoopla.co.uk/for-sale/details/64709491/?search_identifier=0f7750833c798c00f5f8612c29004c4d7c9fe5bf2216cddb10aa98a47a4b2885\n",
      "Starting extraction for link 45618: https://www.zoopla.co.uk/for-sale/details/64709223/?search_identifier=0f7750833c798c00f5f8612c29004c4d7c9fe5bf2216cddb10aa98a47a4b2885\n"
     ]
    },
    {
     "name": "stderr",
     "output_type": "stream",
     "text": [
      "could not detect version_main.therefore, we are assuming it is chrome 108 or higher\n"
     ]
    },
    {
     "name": "stdout",
     "output_type": "stream",
     "text": [
      "Saved to db successfully\n",
      "Done with link 45618: https://www.zoopla.co.uk/for-sale/details/64709223/?search_identifier=0f7750833c798c00f5f8612c29004c4d7c9fe5bf2216cddb10aa98a47a4b2885\n",
      "Starting extraction for link 45619: https://www.zoopla.co.uk/for-sale/details/64694958/?search_identifier=427e1cf6abe168806cb8deaad7555190be8d52aa550821c8dc5629584004f589\n"
     ]
    },
    {
     "name": "stderr",
     "output_type": "stream",
     "text": [
      "could not detect version_main.therefore, we are assuming it is chrome 108 or higher\n"
     ]
    },
    {
     "name": "stdout",
     "output_type": "stream",
     "text": [
      "Saved to db successfully\n",
      "Done with link 45619: https://www.zoopla.co.uk/for-sale/details/64694958/?search_identifier=427e1cf6abe168806cb8deaad7555190be8d52aa550821c8dc5629584004f589\n",
      "Starting extraction for link 45620: https://www.zoopla.co.uk/for-sale/details/64676150/?search_identifier=427e1cf6abe168806cb8deaad7555190be8d52aa550821c8dc5629584004f589\n"
     ]
    },
    {
     "name": "stderr",
     "output_type": "stream",
     "text": [
      "could not detect version_main.therefore, we are assuming it is chrome 108 or higher\n"
     ]
    },
    {
     "name": "stdout",
     "output_type": "stream",
     "text": [
      "Saved to db successfully\n",
      "Done with link 45620: https://www.zoopla.co.uk/for-sale/details/64676150/?search_identifier=427e1cf6abe168806cb8deaad7555190be8d52aa550821c8dc5629584004f589\n",
      "Starting extraction for link 45621: https://www.zoopla.co.uk/for-sale/details/65203111/?search_identifier=427e1cf6abe168806cb8deaad7555190be8d52aa550821c8dc5629584004f589\n",
      "An error occurred for link in get_data_func: https://www.zoopla.co.uk/for-sale/details/65203111/?search_identifier=427e1cf6abe168806cb8deaad7555190be8d52aa550821c8dc5629584004f589: Message: no such element: Unable to locate element: {\"method\":\"xpath\",\"selector\":\"//p[@data-testid=\"price\"]\"}\n",
      "  (Session info: chrome=115.0.5790.171); For documentation on this error, please visit: https://www.selenium.dev/documentation/webdriver/troubleshooting/errors#no-such-element-exception\n",
      "Stacktrace:\n",
      "Backtrace:\n",
      "\tGetHandleVerifier [0x0073A813+48355]\n",
      "\t(No symbol) [0x006CC4B1]\n",
      "\t(No symbol) [0x005D5358]\n",
      "\t(No symbol) [0x006009A5]\n",
      "\t(No symbol) [0x00600B3B]\n",
      "\t(No symbol) [0x0062E232]\n",
      "\t(No symbol) [0x0061A784]\n",
      "\t(No symbol) [0x0062C922]\n",
      "\t(No symbol) [0x0061A536]\n",
      "\t(No symbol) [0x005F82DC]\n",
      "\t(No symbol) [0x005F93DD]\n",
      "\tGetHandleVerifier [0x0099AABD+2539405]\n",
      "\tGetHandleVerifier [0x009DA78F+2800735]\n",
      "\tGetHandleVerifier [0x009D456C+2775612]\n",
      "\tGetHandleVerifier [0x007C51E0+616112]\n",
      "\t(No symbol) [0x006D5F8C]\n",
      "\t(No symbol) [0x006D2328]\n",
      "\t(No symbol) [0x006D240B]\n",
      "\t(No symbol) [0x006C4FF7]\n",
      "\tBaseThreadInitThunk [0x761E7D59+25]\n",
      "\tRtlInitializeExceptionChain [0x773DB79B+107]\n",
      "\tRtlClearBits [0x773DB71F+191]\n",
      "\n"
     ]
    },
    {
     "name": "stderr",
     "output_type": "stream",
     "text": [
      "could not detect version_main.therefore, we are assuming it is chrome 108 or higher\n"
     ]
    },
    {
     "name": "stdout",
     "output_type": "stream",
     "text": [
      "Saved to db successfully\n",
      "Done with link 45621: https://www.zoopla.co.uk/for-sale/details/65203111/?search_identifier=427e1cf6abe168806cb8deaad7555190be8d52aa550821c8dc5629584004f589\n",
      "Starting extraction for link 45622: https://www.zoopla.co.uk/for-sale/details/64659629/?search_identifier=427e1cf6abe168806cb8deaad7555190be8d52aa550821c8dc5629584004f589\n"
     ]
    },
    {
     "name": "stderr",
     "output_type": "stream",
     "text": [
      "could not detect version_main.therefore, we are assuming it is chrome 108 or higher\n"
     ]
    },
    {
     "name": "stdout",
     "output_type": "stream",
     "text": [
      "Saved to db successfully\n",
      "Done with link 45622: https://www.zoopla.co.uk/for-sale/details/64659629/?search_identifier=427e1cf6abe168806cb8deaad7555190be8d52aa550821c8dc5629584004f589\n",
      "Starting extraction for link 45623: https://www.zoopla.co.uk/for-sale/details/64659151/?search_identifier=427e1cf6abe168806cb8deaad7555190be8d52aa550821c8dc5629584004f589\n"
     ]
    },
    {
     "name": "stderr",
     "output_type": "stream",
     "text": [
      "could not detect version_main.therefore, we are assuming it is chrome 108 or higher\n"
     ]
    },
    {
     "name": "stdout",
     "output_type": "stream",
     "text": [
      "Saved to db successfully\n",
      "Done with link 45623: https://www.zoopla.co.uk/for-sale/details/64659151/?search_identifier=427e1cf6abe168806cb8deaad7555190be8d52aa550821c8dc5629584004f589\n",
      "Starting extraction for link 45624: https://www.zoopla.co.uk/for-sale/details/64655353/?search_identifier=427e1cf6abe168806cb8deaad7555190be8d52aa550821c8dc5629584004f589\n"
     ]
    },
    {
     "name": "stderr",
     "output_type": "stream",
     "text": [
      "could not detect version_main.therefore, we are assuming it is chrome 108 or higher\n"
     ]
    },
    {
     "name": "stdout",
     "output_type": "stream",
     "text": [
      "Saved to db successfully\n",
      "Done with link 45624: https://www.zoopla.co.uk/for-sale/details/64655353/?search_identifier=427e1cf6abe168806cb8deaad7555190be8d52aa550821c8dc5629584004f589\n",
      "Starting extraction for link 45625: https://www.zoopla.co.uk/for-sale/details/64633578/?search_identifier=427e1cf6abe168806cb8deaad7555190be8d52aa550821c8dc5629584004f589\n"
     ]
    },
    {
     "name": "stderr",
     "output_type": "stream",
     "text": [
      "could not detect version_main.therefore, we are assuming it is chrome 108 or higher\n"
     ]
    },
    {
     "name": "stdout",
     "output_type": "stream",
     "text": [
      "Saved to db successfully\n",
      "Done with link 45625: https://www.zoopla.co.uk/for-sale/details/64633578/?search_identifier=427e1cf6abe168806cb8deaad7555190be8d52aa550821c8dc5629584004f589\n",
      "Starting extraction for link 45626: https://www.zoopla.co.uk/for-sale/details/64633558/?search_identifier=427e1cf6abe168806cb8deaad7555190be8d52aa550821c8dc5629584004f589\n"
     ]
    },
    {
     "name": "stderr",
     "output_type": "stream",
     "text": [
      "could not detect version_main.therefore, we are assuming it is chrome 108 or higher\n"
     ]
    },
    {
     "name": "stdout",
     "output_type": "stream",
     "text": [
      "Saved to db successfully\n",
      "Done with link 45626: https://www.zoopla.co.uk/for-sale/details/64633558/?search_identifier=427e1cf6abe168806cb8deaad7555190be8d52aa550821c8dc5629584004f589\n",
      "Starting extraction for link 45627: https://www.zoopla.co.uk/for-sale/details/64628365/?search_identifier=427e1cf6abe168806cb8deaad7555190be8d52aa550821c8dc5629584004f589\n"
     ]
    },
    {
     "name": "stderr",
     "output_type": "stream",
     "text": [
      "could not detect version_main.therefore, we are assuming it is chrome 108 or higher\n"
     ]
    },
    {
     "name": "stdout",
     "output_type": "stream",
     "text": [
      "Saved to db successfully\n",
      "Done with link 45627: https://www.zoopla.co.uk/for-sale/details/64628365/?search_identifier=427e1cf6abe168806cb8deaad7555190be8d52aa550821c8dc5629584004f589\n",
      "Starting extraction for link 45628: https://www.zoopla.co.uk/for-sale/details/64611416/?search_identifier=427e1cf6abe168806cb8deaad7555190be8d52aa550821c8dc5629584004f589\n"
     ]
    },
    {
     "name": "stderr",
     "output_type": "stream",
     "text": [
      "could not detect version_main.therefore, we are assuming it is chrome 108 or higher\n"
     ]
    },
    {
     "name": "stdout",
     "output_type": "stream",
     "text": [
      "Saved to db successfully\n",
      "Done with link 45628: https://www.zoopla.co.uk/for-sale/details/64611416/?search_identifier=427e1cf6abe168806cb8deaad7555190be8d52aa550821c8dc5629584004f589\n",
      "Starting extraction for link 45629: https://www.zoopla.co.uk/for-sale/details/64608985/?search_identifier=427e1cf6abe168806cb8deaad7555190be8d52aa550821c8dc5629584004f589\n"
     ]
    },
    {
     "name": "stderr",
     "output_type": "stream",
     "text": [
      "could not detect version_main.therefore, we are assuming it is chrome 108 or higher\n"
     ]
    },
    {
     "name": "stdout",
     "output_type": "stream",
     "text": [
      "Saved to db successfully\n",
      "Done with link 45629: https://www.zoopla.co.uk/for-sale/details/64608985/?search_identifier=427e1cf6abe168806cb8deaad7555190be8d52aa550821c8dc5629584004f589\n",
      "Starting extraction for link 45630: https://www.zoopla.co.uk/for-sale/details/61784239/?search_identifier=427e1cf6abe168806cb8deaad7555190be8d52aa550821c8dc5629584004f589\n"
     ]
    },
    {
     "name": "stderr",
     "output_type": "stream",
     "text": [
      "could not detect version_main.therefore, we are assuming it is chrome 108 or higher\n"
     ]
    },
    {
     "name": "stdout",
     "output_type": "stream",
     "text": [
      "Saved to db successfully\n",
      "Done with link 45630: https://www.zoopla.co.uk/for-sale/details/61784239/?search_identifier=427e1cf6abe168806cb8deaad7555190be8d52aa550821c8dc5629584004f589\n",
      "Starting extraction for link 45631: https://www.zoopla.co.uk/for-sale/details/64607489/?search_identifier=427e1cf6abe168806cb8deaad7555190be8d52aa550821c8dc5629584004f589\n"
     ]
    },
    {
     "name": "stderr",
     "output_type": "stream",
     "text": [
      "could not detect version_main.therefore, we are assuming it is chrome 108 or higher\n"
     ]
    },
    {
     "name": "stdout",
     "output_type": "stream",
     "text": [
      "Saved to db successfully\n",
      "Done with link 45631: https://www.zoopla.co.uk/for-sale/details/64607489/?search_identifier=427e1cf6abe168806cb8deaad7555190be8d52aa550821c8dc5629584004f589\n",
      "Starting extraction for link 45632: https://www.zoopla.co.uk/for-sale/details/64550885/?search_identifier=427e1cf6abe168806cb8deaad7555190be8d52aa550821c8dc5629584004f589\n"
     ]
    },
    {
     "name": "stderr",
     "output_type": "stream",
     "text": [
      "could not detect version_main.therefore, we are assuming it is chrome 108 or higher\n"
     ]
    },
    {
     "name": "stdout",
     "output_type": "stream",
     "text": [
      "Saved to db successfully\n",
      "Done with link 45632: https://www.zoopla.co.uk/for-sale/details/64550885/?search_identifier=427e1cf6abe168806cb8deaad7555190be8d52aa550821c8dc5629584004f589\n",
      "Starting extraction for link 45633: https://www.zoopla.co.uk/for-sale/details/64576836/?search_identifier=427e1cf6abe168806cb8deaad7555190be8d52aa550821c8dc5629584004f589\n"
     ]
    },
    {
     "name": "stderr",
     "output_type": "stream",
     "text": [
      "could not detect version_main.therefore, we are assuming it is chrome 108 or higher\n"
     ]
    },
    {
     "name": "stdout",
     "output_type": "stream",
     "text": [
      "Saved to db successfully\n",
      "Done with link 45633: https://www.zoopla.co.uk/for-sale/details/64576836/?search_identifier=427e1cf6abe168806cb8deaad7555190be8d52aa550821c8dc5629584004f589\n",
      "Starting extraction for link 45634: https://www.zoopla.co.uk/for-sale/details/64576242/?search_identifier=427e1cf6abe168806cb8deaad7555190be8d52aa550821c8dc5629584004f589\n"
     ]
    },
    {
     "name": "stderr",
     "output_type": "stream",
     "text": [
      "could not detect version_main.therefore, we are assuming it is chrome 108 or higher\n"
     ]
    },
    {
     "name": "stdout",
     "output_type": "stream",
     "text": [
      "Saved to db successfully\n",
      "Done with link 45634: https://www.zoopla.co.uk/for-sale/details/64576242/?search_identifier=427e1cf6abe168806cb8deaad7555190be8d52aa550821c8dc5629584004f589\n",
      "Starting extraction for link 45635: https://www.zoopla.co.uk/for-sale/details/64576157/?search_identifier=427e1cf6abe168806cb8deaad7555190be8d52aa550821c8dc5629584004f589\n"
     ]
    },
    {
     "name": "stderr",
     "output_type": "stream",
     "text": [
      "could not detect version_main.therefore, we are assuming it is chrome 108 or higher\n"
     ]
    },
    {
     "name": "stdout",
     "output_type": "stream",
     "text": [
      "Saved to db successfully\n",
      "Done with link 45635: https://www.zoopla.co.uk/for-sale/details/64576157/?search_identifier=427e1cf6abe168806cb8deaad7555190be8d52aa550821c8dc5629584004f589\n",
      "Starting extraction for link 45636: https://www.zoopla.co.uk/for-sale/details/64574183/?search_identifier=427e1cf6abe168806cb8deaad7555190be8d52aa550821c8dc5629584004f589\n",
      "An error occurred for link in get_data_func: https://www.zoopla.co.uk/for-sale/details/64574183/?search_identifier=427e1cf6abe168806cb8deaad7555190be8d52aa550821c8dc5629584004f589: Message: no such element: Unable to locate element: {\"method\":\"xpath\",\"selector\":\"//p[@data-testid=\"price\"]\"}\n",
      "  (Session info: chrome=115.0.5790.171); For documentation on this error, please visit: https://www.selenium.dev/documentation/webdriver/troubleshooting/errors#no-such-element-exception\n",
      "Stacktrace:\n",
      "Backtrace:\n",
      "\tGetHandleVerifier [0x0073A813+48355]\n",
      "\t(No symbol) [0x006CC4B1]\n",
      "\t(No symbol) [0x005D5358]\n",
      "\t(No symbol) [0x006009A5]\n",
      "\t(No symbol) [0x00600B3B]\n",
      "\t(No symbol) [0x0062E232]\n",
      "\t(No symbol) [0x0061A784]\n",
      "\t(No symbol) [0x0062C922]\n",
      "\t(No symbol) [0x0061A536]\n",
      "\t(No symbol) [0x005F82DC]\n",
      "\t(No symbol) [0x005F93DD]\n",
      "\tGetHandleVerifier [0x0099AABD+2539405]\n",
      "\tGetHandleVerifier [0x009DA78F+2800735]\n",
      "\tGetHandleVerifier [0x009D456C+2775612]\n",
      "\tGetHandleVerifier [0x007C51E0+616112]\n",
      "\t(No symbol) [0x006D5F8C]\n",
      "\t(No symbol) [0x006D2328]\n",
      "\t(No symbol) [0x006D240B]\n",
      "\t(No symbol) [0x006C4FF7]\n",
      "\tBaseThreadInitThunk [0x761E7D59+25]\n",
      "\tRtlInitializeExceptionChain [0x773DB79B+107]\n",
      "\tRtlClearBits [0x773DB71F+191]\n",
      "\n"
     ]
    },
    {
     "name": "stderr",
     "output_type": "stream",
     "text": [
      "could not detect version_main.therefore, we are assuming it is chrome 108 or higher\n"
     ]
    },
    {
     "name": "stdout",
     "output_type": "stream",
     "text": [
      "Saved to db successfully\n",
      "Done with link 45636: https://www.zoopla.co.uk/for-sale/details/64574183/?search_identifier=427e1cf6abe168806cb8deaad7555190be8d52aa550821c8dc5629584004f589\n",
      "Starting extraction for link 45637: https://www.zoopla.co.uk/for-sale/details/64555639/?search_identifier=427e1cf6abe168806cb8deaad7555190be8d52aa550821c8dc5629584004f589\n"
     ]
    },
    {
     "name": "stderr",
     "output_type": "stream",
     "text": [
      "could not detect version_main.therefore, we are assuming it is chrome 108 or higher\n"
     ]
    },
    {
     "name": "stdout",
     "output_type": "stream",
     "text": [
      "Saved to db successfully\n",
      "Done with link 45637: https://www.zoopla.co.uk/for-sale/details/64555639/?search_identifier=427e1cf6abe168806cb8deaad7555190be8d52aa550821c8dc5629584004f589\n",
      "Starting extraction for link 45638: https://www.zoopla.co.uk/for-sale/details/64544971/?search_identifier=427e1cf6abe168806cb8deaad7555190be8d52aa550821c8dc5629584004f589\n"
     ]
    },
    {
     "name": "stderr",
     "output_type": "stream",
     "text": [
      "could not detect version_main.therefore, we are assuming it is chrome 108 or higher\n"
     ]
    },
    {
     "name": "stdout",
     "output_type": "stream",
     "text": [
      "Saved to db successfully\n",
      "Done with link 45638: https://www.zoopla.co.uk/for-sale/details/64544971/?search_identifier=427e1cf6abe168806cb8deaad7555190be8d52aa550821c8dc5629584004f589\n",
      "Starting extraction for link 45639: https://www.zoopla.co.uk/for-sale/details/64537287/?search_identifier=427e1cf6abe168806cb8deaad7555190be8d52aa550821c8dc5629584004f589\n",
      "An error occurred for link in get_data_func: https://www.zoopla.co.uk/for-sale/details/64537287/?search_identifier=427e1cf6abe168806cb8deaad7555190be8d52aa550821c8dc5629584004f589: Message: no such element: Unable to locate element: {\"method\":\"xpath\",\"selector\":\"//p[@data-testid=\"price\"]\"}\n",
      "  (Session info: chrome=115.0.5790.171); For documentation on this error, please visit: https://www.selenium.dev/documentation/webdriver/troubleshooting/errors#no-such-element-exception\n",
      "Stacktrace:\n",
      "Backtrace:\n",
      "\tGetHandleVerifier [0x0073A813+48355]\n",
      "\t(No symbol) [0x006CC4B1]\n",
      "\t(No symbol) [0x005D5358]\n",
      "\t(No symbol) [0x006009A5]\n",
      "\t(No symbol) [0x00600B3B]\n",
      "\t(No symbol) [0x0062E232]\n",
      "\t(No symbol) [0x0061A784]\n",
      "\t(No symbol) [0x0062C922]\n",
      "\t(No symbol) [0x0061A536]\n",
      "\t(No symbol) [0x005F82DC]\n",
      "\t(No symbol) [0x005F93DD]\n",
      "\tGetHandleVerifier [0x0099AABD+2539405]\n",
      "\tGetHandleVerifier [0x009DA78F+2800735]\n",
      "\tGetHandleVerifier [0x009D456C+2775612]\n",
      "\tGetHandleVerifier [0x007C51E0+616112]\n",
      "\t(No symbol) [0x006D5F8C]\n",
      "\t(No symbol) [0x006D2328]\n",
      "\t(No symbol) [0x006D240B]\n",
      "\t(No symbol) [0x006C4FF7]\n",
      "\tBaseThreadInitThunk [0x761E7D59+25]\n",
      "\tRtlInitializeExceptionChain [0x773DB79B+107]\n",
      "\tRtlClearBits [0x773DB71F+191]\n",
      "\n"
     ]
    },
    {
     "name": "stderr",
     "output_type": "stream",
     "text": [
      "could not detect version_main.therefore, we are assuming it is chrome 108 or higher\n"
     ]
    },
    {
     "name": "stdout",
     "output_type": "stream",
     "text": [
      "Saved to db successfully\n",
      "Done with link 45639: https://www.zoopla.co.uk/for-sale/details/64537287/?search_identifier=427e1cf6abe168806cb8deaad7555190be8d52aa550821c8dc5629584004f589\n",
      "Starting extraction for link 45640: https://www.zoopla.co.uk/for-sale/details/64536754/?search_identifier=427e1cf6abe168806cb8deaad7555190be8d52aa550821c8dc5629584004f589\n",
      "An error occurred for link in get_data_func: https://www.zoopla.co.uk/for-sale/details/64536754/?search_identifier=427e1cf6abe168806cb8deaad7555190be8d52aa550821c8dc5629584004f589: Message: no such element: Unable to locate element: {\"method\":\"xpath\",\"selector\":\"//p[@data-testid=\"price\"]\"}\n",
      "  (Session info: chrome=115.0.5790.171); For documentation on this error, please visit: https://www.selenium.dev/documentation/webdriver/troubleshooting/errors#no-such-element-exception\n",
      "Stacktrace:\n",
      "Backtrace:\n",
      "\tGetHandleVerifier [0x0073A813+48355]\n",
      "\t(No symbol) [0x006CC4B1]\n",
      "\t(No symbol) [0x005D5358]\n",
      "\t(No symbol) [0x006009A5]\n",
      "\t(No symbol) [0x00600B3B]\n",
      "\t(No symbol) [0x0062E232]\n",
      "\t(No symbol) [0x0061A784]\n",
      "\t(No symbol) [0x0062C922]\n",
      "\t(No symbol) [0x0061A536]\n",
      "\t(No symbol) [0x005F82DC]\n",
      "\t(No symbol) [0x005F93DD]\n",
      "\tGetHandleVerifier [0x0099AABD+2539405]\n",
      "\tGetHandleVerifier [0x009DA78F+2800735]\n",
      "\tGetHandleVerifier [0x009D456C+2775612]\n",
      "\tGetHandleVerifier [0x007C51E0+616112]\n",
      "\t(No symbol) [0x006D5F8C]\n",
      "\t(No symbol) [0x006D2328]\n",
      "\t(No symbol) [0x006D240B]\n",
      "\t(No symbol) [0x006C4FF7]\n",
      "\tBaseThreadInitThunk [0x761E7D59+25]\n",
      "\tRtlInitializeExceptionChain [0x773DB79B+107]\n",
      "\tRtlClearBits [0x773DB71F+191]\n",
      "\n"
     ]
    },
    {
     "name": "stderr",
     "output_type": "stream",
     "text": [
      "could not detect version_main.therefore, we are assuming it is chrome 108 or higher\n"
     ]
    },
    {
     "name": "stdout",
     "output_type": "stream",
     "text": [
      "Saved to db successfully\n",
      "Done with link 45640: https://www.zoopla.co.uk/for-sale/details/64536754/?search_identifier=427e1cf6abe168806cb8deaad7555190be8d52aa550821c8dc5629584004f589\n",
      "Starting extraction for link 45641: https://www.zoopla.co.uk/for-sale/details/64510846/?search_identifier=427e1cf6abe168806cb8deaad7555190be8d52aa550821c8dc5629584004f589\n"
     ]
    },
    {
     "name": "stderr",
     "output_type": "stream",
     "text": [
      "could not detect version_main.therefore, we are assuming it is chrome 108 or higher\n"
     ]
    },
    {
     "name": "stdout",
     "output_type": "stream",
     "text": [
      "Saved to db successfully\n",
      "Done with link 45641: https://www.zoopla.co.uk/for-sale/details/64510846/?search_identifier=427e1cf6abe168806cb8deaad7555190be8d52aa550821c8dc5629584004f589\n",
      "Starting extraction for link 45642: https://www.zoopla.co.uk/for-sale/details/64507809/?search_identifier=427e1cf6abe168806cb8deaad7555190be8d52aa550821c8dc5629584004f589\n"
     ]
    },
    {
     "name": "stderr",
     "output_type": "stream",
     "text": [
      "could not detect version_main.therefore, we are assuming it is chrome 108 or higher\n"
     ]
    },
    {
     "name": "stdout",
     "output_type": "stream",
     "text": [
      "Saved to db successfully\n",
      "Done with link 45642: https://www.zoopla.co.uk/for-sale/details/64507809/?search_identifier=427e1cf6abe168806cb8deaad7555190be8d52aa550821c8dc5629584004f589\n",
      "Starting extraction for link 45643: https://www.zoopla.co.uk/for-sale/details/64500268/?search_identifier=427e1cf6abe168806cb8deaad7555190be8d52aa550821c8dc5629584004f589\n"
     ]
    },
    {
     "name": "stderr",
     "output_type": "stream",
     "text": [
      "could not detect version_main.therefore, we are assuming it is chrome 108 or higher\n"
     ]
    },
    {
     "name": "stdout",
     "output_type": "stream",
     "text": [
      "Saved to db successfully\n",
      "Done with link 45643: https://www.zoopla.co.uk/for-sale/details/64500268/?search_identifier=427e1cf6abe168806cb8deaad7555190be8d52aa550821c8dc5629584004f589\n",
      "Starting extraction for link 45644: https://www.zoopla.co.uk/for-sale/details/64486413/?search_identifier=95ab275511ba6be5870900427d43b237584bc8e2caed7d222980169042862378\n"
     ]
    },
    {
     "name": "stderr",
     "output_type": "stream",
     "text": [
      "could not detect version_main.therefore, we are assuming it is chrome 108 or higher\n"
     ]
    },
    {
     "name": "stdout",
     "output_type": "stream",
     "text": [
      "Saved to db successfully\n",
      "Done with link 45644: https://www.zoopla.co.uk/for-sale/details/64486413/?search_identifier=95ab275511ba6be5870900427d43b237584bc8e2caed7d222980169042862378\n",
      "Starting extraction for link 45645: https://www.zoopla.co.uk/for-sale/details/64486051/?search_identifier=95ab275511ba6be5870900427d43b237584bc8e2caed7d222980169042862378\n"
     ]
    },
    {
     "name": "stderr",
     "output_type": "stream",
     "text": [
      "could not detect version_main.therefore, we are assuming it is chrome 108 or higher\n"
     ]
    },
    {
     "name": "stdout",
     "output_type": "stream",
     "text": [
      "Saved to db successfully\n",
      "Done with link 45645: https://www.zoopla.co.uk/for-sale/details/64486051/?search_identifier=95ab275511ba6be5870900427d43b237584bc8e2caed7d222980169042862378\n",
      "Starting extraction for link 45646: https://www.zoopla.co.uk/for-sale/details/64468124/?search_identifier=95ab275511ba6be5870900427d43b237584bc8e2caed7d222980169042862378\n"
     ]
    },
    {
     "name": "stderr",
     "output_type": "stream",
     "text": [
      "could not detect version_main.therefore, we are assuming it is chrome 108 or higher\n"
     ]
    },
    {
     "name": "stdout",
     "output_type": "stream",
     "text": [
      "Saved to db successfully\n",
      "Done with link 45646: https://www.zoopla.co.uk/for-sale/details/64468124/?search_identifier=95ab275511ba6be5870900427d43b237584bc8e2caed7d222980169042862378\n",
      "Starting extraction for link 45647: https://www.zoopla.co.uk/for-sale/details/64432290/?search_identifier=95ab275511ba6be5870900427d43b237584bc8e2caed7d222980169042862378\n"
     ]
    },
    {
     "name": "stderr",
     "output_type": "stream",
     "text": [
      "could not detect version_main.therefore, we are assuming it is chrome 108 or higher\n"
     ]
    },
    {
     "name": "stdout",
     "output_type": "stream",
     "text": [
      "Saved to db successfully\n",
      "Done with link 45647: https://www.zoopla.co.uk/for-sale/details/64432290/?search_identifier=95ab275511ba6be5870900427d43b237584bc8e2caed7d222980169042862378\n",
      "Starting extraction for link 45648: https://www.zoopla.co.uk/for-sale/details/64422394/?search_identifier=95ab275511ba6be5870900427d43b237584bc8e2caed7d222980169042862378\n"
     ]
    },
    {
     "name": "stderr",
     "output_type": "stream",
     "text": [
      "could not detect version_main.therefore, we are assuming it is chrome 108 or higher\n"
     ]
    },
    {
     "name": "stdout",
     "output_type": "stream",
     "text": [
      "Saved to db successfully\n",
      "Done with link 45648: https://www.zoopla.co.uk/for-sale/details/64422394/?search_identifier=95ab275511ba6be5870900427d43b237584bc8e2caed7d222980169042862378\n",
      "Starting extraction for link 45649: https://www.zoopla.co.uk/for-sale/details/64416865/?search_identifier=95ab275511ba6be5870900427d43b237584bc8e2caed7d222980169042862378\n"
     ]
    },
    {
     "name": "stderr",
     "output_type": "stream",
     "text": [
      "could not detect version_main.therefore, we are assuming it is chrome 108 or higher\n"
     ]
    },
    {
     "name": "stdout",
     "output_type": "stream",
     "text": [
      "Saved to db successfully\n",
      "Done with link 45649: https://www.zoopla.co.uk/for-sale/details/64416865/?search_identifier=95ab275511ba6be5870900427d43b237584bc8e2caed7d222980169042862378\n",
      "Starting extraction for link 45650: https://www.zoopla.co.uk/for-sale/details/64375877/?search_identifier=95ab275511ba6be5870900427d43b237584bc8e2caed7d222980169042862378\n"
     ]
    },
    {
     "name": "stderr",
     "output_type": "stream",
     "text": [
      "could not detect version_main.therefore, we are assuming it is chrome 108 or higher\n"
     ]
    },
    {
     "name": "stdout",
     "output_type": "stream",
     "text": [
      "Saved to db successfully\n",
      "Done with link 45650: https://www.zoopla.co.uk/for-sale/details/64375877/?search_identifier=95ab275511ba6be5870900427d43b237584bc8e2caed7d222980169042862378\n",
      "Starting extraction for link 45651: https://www.zoopla.co.uk/for-sale/details/64374005/?search_identifier=95ab275511ba6be5870900427d43b237584bc8e2caed7d222980169042862378\n"
     ]
    },
    {
     "name": "stderr",
     "output_type": "stream",
     "text": [
      "could not detect version_main.therefore, we are assuming it is chrome 108 or higher\n"
     ]
    },
    {
     "name": "stdout",
     "output_type": "stream",
     "text": [
      "Saved to db successfully\n",
      "Done with link 45651: https://www.zoopla.co.uk/for-sale/details/64374005/?search_identifier=95ab275511ba6be5870900427d43b237584bc8e2caed7d222980169042862378\n",
      "Starting extraction for link 45652: https://www.zoopla.co.uk/for-sale/details/64365919/?search_identifier=95ab275511ba6be5870900427d43b237584bc8e2caed7d222980169042862378\n",
      "An error occurred for link in get_data_func: https://www.zoopla.co.uk/for-sale/details/64365919/?search_identifier=95ab275511ba6be5870900427d43b237584bc8e2caed7d222980169042862378: Message: no such element: Unable to locate element: {\"method\":\"xpath\",\"selector\":\"//p[@data-testid=\"price\"]\"}\n",
      "  (Session info: chrome=115.0.5790.171); For documentation on this error, please visit: https://www.selenium.dev/documentation/webdriver/troubleshooting/errors#no-such-element-exception\n",
      "Stacktrace:\n",
      "Backtrace:\n",
      "\tGetHandleVerifier [0x0073A813+48355]\n",
      "\t(No symbol) [0x006CC4B1]\n",
      "\t(No symbol) [0x005D5358]\n",
      "\t(No symbol) [0x006009A5]\n",
      "\t(No symbol) [0x00600B3B]\n",
      "\t(No symbol) [0x0062E232]\n",
      "\t(No symbol) [0x0061A784]\n",
      "\t(No symbol) [0x0062C922]\n",
      "\t(No symbol) [0x0061A536]\n",
      "\t(No symbol) [0x005F82DC]\n",
      "\t(No symbol) [0x005F93DD]\n",
      "\tGetHandleVerifier [0x0099AABD+2539405]\n",
      "\tGetHandleVerifier [0x009DA78F+2800735]\n",
      "\tGetHandleVerifier [0x009D456C+2775612]\n",
      "\tGetHandleVerifier [0x007C51E0+616112]\n",
      "\t(No symbol) [0x006D5F8C]\n",
      "\t(No symbol) [0x006D2328]\n",
      "\t(No symbol) [0x006D240B]\n",
      "\t(No symbol) [0x006C4FF7]\n",
      "\tBaseThreadInitThunk [0x761E7D59+25]\n",
      "\tRtlInitializeExceptionChain [0x773DB79B+107]\n",
      "\tRtlClearBits [0x773DB71F+191]\n",
      "\n"
     ]
    },
    {
     "name": "stderr",
     "output_type": "stream",
     "text": [
      "could not detect version_main.therefore, we are assuming it is chrome 108 or higher\n"
     ]
    },
    {
     "name": "stdout",
     "output_type": "stream",
     "text": [
      "Saved to db successfully\n",
      "Done with link 45652: https://www.zoopla.co.uk/for-sale/details/64365919/?search_identifier=95ab275511ba6be5870900427d43b237584bc8e2caed7d222980169042862378\n",
      "Starting extraction for link 45653: https://www.zoopla.co.uk/for-sale/details/64361173/?search_identifier=95ab275511ba6be5870900427d43b237584bc8e2caed7d222980169042862378\n",
      "An error occurred for link in get_data_func: https://www.zoopla.co.uk/for-sale/details/64361173/?search_identifier=95ab275511ba6be5870900427d43b237584bc8e2caed7d222980169042862378: Message: no such element: Unable to locate element: {\"method\":\"xpath\",\"selector\":\"//p[@data-testid=\"price\"]\"}\n",
      "  (Session info: chrome=115.0.5790.171); For documentation on this error, please visit: https://www.selenium.dev/documentation/webdriver/troubleshooting/errors#no-such-element-exception\n",
      "Stacktrace:\n",
      "Backtrace:\n",
      "\tGetHandleVerifier [0x0073A813+48355]\n",
      "\t(No symbol) [0x006CC4B1]\n",
      "\t(No symbol) [0x005D5358]\n",
      "\t(No symbol) [0x006009A5]\n",
      "\t(No symbol) [0x00600B3B]\n",
      "\t(No symbol) [0x0062E232]\n",
      "\t(No symbol) [0x0061A784]\n",
      "\t(No symbol) [0x0062C922]\n",
      "\t(No symbol) [0x0061A536]\n",
      "\t(No symbol) [0x005F82DC]\n",
      "\t(No symbol) [0x005F93DD]\n",
      "\tGetHandleVerifier [0x0099AABD+2539405]\n",
      "\tGetHandleVerifier [0x009DA78F+2800735]\n",
      "\tGetHandleVerifier [0x009D456C+2775612]\n",
      "\tGetHandleVerifier [0x007C51E0+616112]\n",
      "\t(No symbol) [0x006D5F8C]\n",
      "\t(No symbol) [0x006D2328]\n",
      "\t(No symbol) [0x006D240B]\n",
      "\t(No symbol) [0x006C4FF7]\n",
      "\tBaseThreadInitThunk [0x761E7D59+25]\n",
      "\tRtlInitializeExceptionChain [0x773DB79B+107]\n",
      "\tRtlClearBits [0x773DB71F+191]\n",
      "\n"
     ]
    },
    {
     "name": "stderr",
     "output_type": "stream",
     "text": [
      "could not detect version_main.therefore, we are assuming it is chrome 108 or higher\n"
     ]
    },
    {
     "name": "stdout",
     "output_type": "stream",
     "text": [
      "Saved to db successfully\n",
      "Done with link 45653: https://www.zoopla.co.uk/for-sale/details/64361173/?search_identifier=95ab275511ba6be5870900427d43b237584bc8e2caed7d222980169042862378\n",
      "Starting extraction for link 45654: https://www.zoopla.co.uk/for-sale/details/64350351/?search_identifier=95ab275511ba6be5870900427d43b237584bc8e2caed7d222980169042862378\n"
     ]
    },
    {
     "name": "stderr",
     "output_type": "stream",
     "text": [
      "could not detect version_main.therefore, we are assuming it is chrome 108 or higher\n"
     ]
    },
    {
     "name": "stdout",
     "output_type": "stream",
     "text": [
      "Saved to db successfully\n",
      "Done with link 45654: https://www.zoopla.co.uk/for-sale/details/64350351/?search_identifier=95ab275511ba6be5870900427d43b237584bc8e2caed7d222980169042862378\n",
      "Starting extraction for link 45655: https://www.zoopla.co.uk/for-sale/details/64319466/?search_identifier=95ab275511ba6be5870900427d43b237584bc8e2caed7d222980169042862378\n"
     ]
    },
    {
     "name": "stderr",
     "output_type": "stream",
     "text": [
      "could not detect version_main.therefore, we are assuming it is chrome 108 or higher\n"
     ]
    },
    {
     "name": "stdout",
     "output_type": "stream",
     "text": [
      "Saved to db successfully\n",
      "Done with link 45655: https://www.zoopla.co.uk/for-sale/details/64319466/?search_identifier=95ab275511ba6be5870900427d43b237584bc8e2caed7d222980169042862378\n",
      "Starting extraction for link 45656: https://www.zoopla.co.uk/for-sale/details/64319436/?search_identifier=95ab275511ba6be5870900427d43b237584bc8e2caed7d222980169042862378\n"
     ]
    },
    {
     "name": "stderr",
     "output_type": "stream",
     "text": [
      "could not detect version_main.therefore, we are assuming it is chrome 108 or higher\n"
     ]
    },
    {
     "name": "stdout",
     "output_type": "stream",
     "text": [
      "Saved to db successfully\n",
      "Done with link 45656: https://www.zoopla.co.uk/for-sale/details/64319436/?search_identifier=95ab275511ba6be5870900427d43b237584bc8e2caed7d222980169042862378\n",
      "Starting extraction for link 45657: https://www.zoopla.co.uk/for-sale/details/64295585/?search_identifier=95ab275511ba6be5870900427d43b237584bc8e2caed7d222980169042862378\n"
     ]
    },
    {
     "name": "stderr",
     "output_type": "stream",
     "text": [
      "could not detect version_main.therefore, we are assuming it is chrome 108 or higher\n"
     ]
    },
    {
     "name": "stdout",
     "output_type": "stream",
     "text": [
      "Saved to db successfully\n",
      "Done with link 45657: https://www.zoopla.co.uk/for-sale/details/64295585/?search_identifier=95ab275511ba6be5870900427d43b237584bc8e2caed7d222980169042862378\n",
      "Starting extraction for link 45658: https://www.zoopla.co.uk/for-sale/details/64284235/?search_identifier=95ab275511ba6be5870900427d43b237584bc8e2caed7d222980169042862378\n"
     ]
    },
    {
     "name": "stderr",
     "output_type": "stream",
     "text": [
      "could not detect version_main.therefore, we are assuming it is chrome 108 or higher\n"
     ]
    },
    {
     "name": "stdout",
     "output_type": "stream",
     "text": [
      "Saved to db successfully\n",
      "Done with link 45658: https://www.zoopla.co.uk/for-sale/details/64284235/?search_identifier=95ab275511ba6be5870900427d43b237584bc8e2caed7d222980169042862378\n",
      "Starting extraction for link 45659: https://www.zoopla.co.uk/for-sale/details/64224606/?search_identifier=95ab275511ba6be5870900427d43b237584bc8e2caed7d222980169042862378\n"
     ]
    },
    {
     "name": "stderr",
     "output_type": "stream",
     "text": [
      "could not detect version_main.therefore, we are assuming it is chrome 108 or higher\n"
     ]
    },
    {
     "name": "stdout",
     "output_type": "stream",
     "text": [
      "Saved to db successfully\n",
      "Done with link 45659: https://www.zoopla.co.uk/for-sale/details/64224606/?search_identifier=95ab275511ba6be5870900427d43b237584bc8e2caed7d222980169042862378\n",
      "Starting extraction for link 45660: https://www.zoopla.co.uk/for-sale/details/64193299/?search_identifier=95ab275511ba6be5870900427d43b237584bc8e2caed7d222980169042862378\n"
     ]
    },
    {
     "name": "stderr",
     "output_type": "stream",
     "text": [
      "could not detect version_main.therefore, we are assuming it is chrome 108 or higher\n"
     ]
    },
    {
     "name": "stdout",
     "output_type": "stream",
     "text": [
      "Saved to db successfully\n",
      "Done with link 45660: https://www.zoopla.co.uk/for-sale/details/64193299/?search_identifier=95ab275511ba6be5870900427d43b237584bc8e2caed7d222980169042862378\n",
      "Starting extraction for link 45661: https://www.zoopla.co.uk/for-sale/details/64190906/?search_identifier=95ab275511ba6be5870900427d43b237584bc8e2caed7d222980169042862378\n"
     ]
    },
    {
     "name": "stderr",
     "output_type": "stream",
     "text": [
      "could not detect version_main.therefore, we are assuming it is chrome 108 or higher\n"
     ]
    },
    {
     "name": "stdout",
     "output_type": "stream",
     "text": [
      "Saved to db successfully\n",
      "Done with link 45661: https://www.zoopla.co.uk/for-sale/details/64190906/?search_identifier=95ab275511ba6be5870900427d43b237584bc8e2caed7d222980169042862378\n",
      "Starting extraction for link 45662: https://www.zoopla.co.uk/for-sale/details/64166509/?search_identifier=95ab275511ba6be5870900427d43b237584bc8e2caed7d222980169042862378\n"
     ]
    },
    {
     "name": "stderr",
     "output_type": "stream",
     "text": [
      "could not detect version_main.therefore, we are assuming it is chrome 108 or higher\n"
     ]
    },
    {
     "name": "stdout",
     "output_type": "stream",
     "text": [
      "Saved to db successfully\n",
      "Done with link 45662: https://www.zoopla.co.uk/for-sale/details/64166509/?search_identifier=95ab275511ba6be5870900427d43b237584bc8e2caed7d222980169042862378\n",
      "Starting extraction for link 45663: https://www.zoopla.co.uk/for-sale/details/64146919/?search_identifier=95ab275511ba6be5870900427d43b237584bc8e2caed7d222980169042862378\n"
     ]
    },
    {
     "name": "stderr",
     "output_type": "stream",
     "text": [
      "could not detect version_main.therefore, we are assuming it is chrome 108 or higher\n"
     ]
    },
    {
     "name": "stdout",
     "output_type": "stream",
     "text": [
      "Saved to db successfully\n",
      "Done with link 45663: https://www.zoopla.co.uk/for-sale/details/64146919/?search_identifier=95ab275511ba6be5870900427d43b237584bc8e2caed7d222980169042862378\n",
      "Starting extraction for link 45664: https://www.zoopla.co.uk/for-sale/details/64130312/?search_identifier=95ab275511ba6be5870900427d43b237584bc8e2caed7d222980169042862378\n"
     ]
    },
    {
     "name": "stderr",
     "output_type": "stream",
     "text": [
      "could not detect version_main.therefore, we are assuming it is chrome 108 or higher\n"
     ]
    },
    {
     "name": "stdout",
     "output_type": "stream",
     "text": [
      "Saved to db successfully\n",
      "Done with link 45664: https://www.zoopla.co.uk/for-sale/details/64130312/?search_identifier=95ab275511ba6be5870900427d43b237584bc8e2caed7d222980169042862378\n",
      "Starting extraction for link 45665: https://www.zoopla.co.uk/for-sale/details/64116436/?search_identifier=95ab275511ba6be5870900427d43b237584bc8e2caed7d222980169042862378\n"
     ]
    },
    {
     "name": "stderr",
     "output_type": "stream",
     "text": [
      "could not detect version_main.therefore, we are assuming it is chrome 108 or higher\n"
     ]
    },
    {
     "name": "stdout",
     "output_type": "stream",
     "text": [
      "Saved to db successfully\n",
      "Done with link 45665: https://www.zoopla.co.uk/for-sale/details/64116436/?search_identifier=95ab275511ba6be5870900427d43b237584bc8e2caed7d222980169042862378\n",
      "Starting extraction for link 45666: https://www.zoopla.co.uk/for-sale/details/64081365/?search_identifier=95ab275511ba6be5870900427d43b237584bc8e2caed7d222980169042862378\n"
     ]
    },
    {
     "name": "stderr",
     "output_type": "stream",
     "text": [
      "could not detect version_main.therefore, we are assuming it is chrome 108 or higher\n"
     ]
    },
    {
     "name": "stdout",
     "output_type": "stream",
     "text": [
      "Saved to db successfully\n",
      "Done with link 45666: https://www.zoopla.co.uk/for-sale/details/64081365/?search_identifier=95ab275511ba6be5870900427d43b237584bc8e2caed7d222980169042862378\n",
      "Starting extraction for link 45667: https://www.zoopla.co.uk/for-sale/details/64076792/?search_identifier=95ab275511ba6be5870900427d43b237584bc8e2caed7d222980169042862378\n"
     ]
    },
    {
     "name": "stderr",
     "output_type": "stream",
     "text": [
      "could not detect version_main.therefore, we are assuming it is chrome 108 or higher\n"
     ]
    },
    {
     "name": "stdout",
     "output_type": "stream",
     "text": [
      "Saved to db successfully\n",
      "Done with link 45667: https://www.zoopla.co.uk/for-sale/details/64076792/?search_identifier=95ab275511ba6be5870900427d43b237584bc8e2caed7d222980169042862378\n",
      "Starting extraction for link 45668: https://www.zoopla.co.uk/for-sale/details/64074916/?search_identifier=95ab275511ba6be5870900427d43b237584bc8e2caed7d222980169042862378\n"
     ]
    },
    {
     "name": "stderr",
     "output_type": "stream",
     "text": [
      "could not detect version_main.therefore, we are assuming it is chrome 108 or higher\n"
     ]
    },
    {
     "name": "stdout",
     "output_type": "stream",
     "text": [
      "Saved to db successfully\n",
      "Done with link 45668: https://www.zoopla.co.uk/for-sale/details/64074916/?search_identifier=95ab275511ba6be5870900427d43b237584bc8e2caed7d222980169042862378\n",
      "Starting extraction for link 45669: https://www.zoopla.co.uk/for-sale/details/64056536/?search_identifier=d4bcfe31e72abc1f2c067f1394ae77125b3ff9fad5ac81ad047c1612e7b079d2\n"
     ]
    },
    {
     "name": "stderr",
     "output_type": "stream",
     "text": [
      "could not detect version_main.therefore, we are assuming it is chrome 108 or higher\n"
     ]
    },
    {
     "name": "stdout",
     "output_type": "stream",
     "text": [
      "Saved to db successfully\n",
      "Done with link 45669: https://www.zoopla.co.uk/for-sale/details/64056536/?search_identifier=d4bcfe31e72abc1f2c067f1394ae77125b3ff9fad5ac81ad047c1612e7b079d2\n",
      "Starting extraction for link 45670: https://www.zoopla.co.uk/for-sale/details/64051853/?search_identifier=d4bcfe31e72abc1f2c067f1394ae77125b3ff9fad5ac81ad047c1612e7b079d2\n"
     ]
    },
    {
     "name": "stderr",
     "output_type": "stream",
     "text": [
      "could not detect version_main.therefore, we are assuming it is chrome 108 or higher\n"
     ]
    },
    {
     "name": "stdout",
     "output_type": "stream",
     "text": [
      "Saved to db successfully\n",
      "Done with link 45670: https://www.zoopla.co.uk/for-sale/details/64051853/?search_identifier=d4bcfe31e72abc1f2c067f1394ae77125b3ff9fad5ac81ad047c1612e7b079d2\n",
      "Starting extraction for link 45671: https://www.zoopla.co.uk/for-sale/details/64042991/?search_identifier=d4bcfe31e72abc1f2c067f1394ae77125b3ff9fad5ac81ad047c1612e7b079d2\n"
     ]
    },
    {
     "name": "stderr",
     "output_type": "stream",
     "text": [
      "could not detect version_main.therefore, we are assuming it is chrome 108 or higher\n"
     ]
    },
    {
     "name": "stdout",
     "output_type": "stream",
     "text": [
      "Saved to db successfully\n",
      "Done with link 45671: https://www.zoopla.co.uk/for-sale/details/64042991/?search_identifier=d4bcfe31e72abc1f2c067f1394ae77125b3ff9fad5ac81ad047c1612e7b079d2\n",
      "Starting extraction for link 45672: https://www.zoopla.co.uk/for-sale/details/61683706/?search_identifier=d4bcfe31e72abc1f2c067f1394ae77125b3ff9fad5ac81ad047c1612e7b079d2\n"
     ]
    },
    {
     "name": "stderr",
     "output_type": "stream",
     "text": [
      "could not detect version_main.therefore, we are assuming it is chrome 108 or higher\n"
     ]
    },
    {
     "name": "stdout",
     "output_type": "stream",
     "text": [
      "Saved to db successfully\n",
      "Done with link 45672: https://www.zoopla.co.uk/for-sale/details/61683706/?search_identifier=d4bcfe31e72abc1f2c067f1394ae77125b3ff9fad5ac81ad047c1612e7b079d2\n",
      "Starting extraction for link 45673: https://www.zoopla.co.uk/for-sale/details/63994564/?search_identifier=d4bcfe31e72abc1f2c067f1394ae77125b3ff9fad5ac81ad047c1612e7b079d2\n"
     ]
    },
    {
     "name": "stderr",
     "output_type": "stream",
     "text": [
      "could not detect version_main.therefore, we are assuming it is chrome 108 or higher\n"
     ]
    },
    {
     "name": "stdout",
     "output_type": "stream",
     "text": [
      "Saved to db successfully\n",
      "Done with link 45673: https://www.zoopla.co.uk/for-sale/details/63994564/?search_identifier=d4bcfe31e72abc1f2c067f1394ae77125b3ff9fad5ac81ad047c1612e7b079d2\n",
      "Starting extraction for link 45674: https://www.zoopla.co.uk/for-sale/details/63993982/?search_identifier=d4bcfe31e72abc1f2c067f1394ae77125b3ff9fad5ac81ad047c1612e7b079d2\n",
      "An error occurred for link in get_data_func: https://www.zoopla.co.uk/for-sale/details/63993982/?search_identifier=d4bcfe31e72abc1f2c067f1394ae77125b3ff9fad5ac81ad047c1612e7b079d2: Message: no such element: Unable to locate element: {\"method\":\"xpath\",\"selector\":\"//p[@data-testid=\"price\"]\"}\n",
      "  (Session info: chrome=115.0.5790.171); For documentation on this error, please visit: https://www.selenium.dev/documentation/webdriver/troubleshooting/errors#no-such-element-exception\n",
      "Stacktrace:\n",
      "Backtrace:\n",
      "\tGetHandleVerifier [0x0073A813+48355]\n",
      "\t(No symbol) [0x006CC4B1]\n",
      "\t(No symbol) [0x005D5358]\n",
      "\t(No symbol) [0x006009A5]\n",
      "\t(No symbol) [0x00600B3B]\n",
      "\t(No symbol) [0x0062E232]\n",
      "\t(No symbol) [0x0061A784]\n",
      "\t(No symbol) [0x0062C922]\n",
      "\t(No symbol) [0x0061A536]\n",
      "\t(No symbol) [0x005F82DC]\n",
      "\t(No symbol) [0x005F93DD]\n",
      "\tGetHandleVerifier [0x0099AABD+2539405]\n",
      "\tGetHandleVerifier [0x009DA78F+2800735]\n",
      "\tGetHandleVerifier [0x009D456C+2775612]\n",
      "\tGetHandleVerifier [0x007C51E0+616112]\n",
      "\t(No symbol) [0x006D5F8C]\n",
      "\t(No symbol) [0x006D2328]\n",
      "\t(No symbol) [0x006D240B]\n",
      "\t(No symbol) [0x006C4FF7]\n",
      "\tBaseThreadInitThunk [0x761E7D59+25]\n",
      "\tRtlInitializeExceptionChain [0x773DB79B+107]\n",
      "\tRtlClearBits [0x773DB71F+191]\n",
      "\n"
     ]
    },
    {
     "name": "stderr",
     "output_type": "stream",
     "text": [
      "could not detect version_main.therefore, we are assuming it is chrome 108 or higher\n"
     ]
    },
    {
     "name": "stdout",
     "output_type": "stream",
     "text": [
      "Saved to db successfully\n",
      "Done with link 45674: https://www.zoopla.co.uk/for-sale/details/63993982/?search_identifier=d4bcfe31e72abc1f2c067f1394ae77125b3ff9fad5ac81ad047c1612e7b079d2\n",
      "Starting extraction for link 45675: https://www.zoopla.co.uk/for-sale/details/58122794/?search_identifier=d4bcfe31e72abc1f2c067f1394ae77125b3ff9fad5ac81ad047c1612e7b079d2\n"
     ]
    },
    {
     "name": "stderr",
     "output_type": "stream",
     "text": [
      "could not detect version_main.therefore, we are assuming it is chrome 108 or higher\n"
     ]
    },
    {
     "name": "stdout",
     "output_type": "stream",
     "text": [
      "Saved to db successfully\n",
      "Done with link 45675: https://www.zoopla.co.uk/for-sale/details/58122794/?search_identifier=d4bcfe31e72abc1f2c067f1394ae77125b3ff9fad5ac81ad047c1612e7b079d2\n",
      "Starting extraction for link 45676: https://www.zoopla.co.uk/for-sale/details/63966955/?search_identifier=d4bcfe31e72abc1f2c067f1394ae77125b3ff9fad5ac81ad047c1612e7b079d2\n"
     ]
    },
    {
     "name": "stderr",
     "output_type": "stream",
     "text": [
      "could not detect version_main.therefore, we are assuming it is chrome 108 or higher\n"
     ]
    },
    {
     "name": "stdout",
     "output_type": "stream",
     "text": [
      "Saved to db successfully\n",
      "Done with link 45676: https://www.zoopla.co.uk/for-sale/details/63966955/?search_identifier=d4bcfe31e72abc1f2c067f1394ae77125b3ff9fad5ac81ad047c1612e7b079d2\n",
      "Starting extraction for link 45677: https://www.zoopla.co.uk/for-sale/details/63966338/?search_identifier=d4bcfe31e72abc1f2c067f1394ae77125b3ff9fad5ac81ad047c1612e7b079d2\n"
     ]
    },
    {
     "name": "stderr",
     "output_type": "stream",
     "text": [
      "could not detect version_main.therefore, we are assuming it is chrome 108 or higher\n"
     ]
    },
    {
     "name": "stdout",
     "output_type": "stream",
     "text": [
      "Saved to db successfully\n",
      "Done with link 45677: https://www.zoopla.co.uk/for-sale/details/63966338/?search_identifier=d4bcfe31e72abc1f2c067f1394ae77125b3ff9fad5ac81ad047c1612e7b079d2\n",
      "Starting extraction for link 45678: https://www.zoopla.co.uk/for-sale/details/63929059/?search_identifier=d4bcfe31e72abc1f2c067f1394ae77125b3ff9fad5ac81ad047c1612e7b079d2\n"
     ]
    },
    {
     "name": "stderr",
     "output_type": "stream",
     "text": [
      "could not detect version_main.therefore, we are assuming it is chrome 108 or higher\n"
     ]
    },
    {
     "name": "stdout",
     "output_type": "stream",
     "text": [
      "Saved to db successfully\n",
      "Done with link 45678: https://www.zoopla.co.uk/for-sale/details/63929059/?search_identifier=d4bcfe31e72abc1f2c067f1394ae77125b3ff9fad5ac81ad047c1612e7b079d2\n",
      "Starting extraction for link 45679: https://www.zoopla.co.uk/for-sale/details/63921298/?search_identifier=d4bcfe31e72abc1f2c067f1394ae77125b3ff9fad5ac81ad047c1612e7b079d2\n"
     ]
    },
    {
     "name": "stderr",
     "output_type": "stream",
     "text": [
      "could not detect version_main.therefore, we are assuming it is chrome 108 or higher\n"
     ]
    },
    {
     "name": "stdout",
     "output_type": "stream",
     "text": [
      "Saved to db successfully\n",
      "Done with link 45679: https://www.zoopla.co.uk/for-sale/details/63921298/?search_identifier=d4bcfe31e72abc1f2c067f1394ae77125b3ff9fad5ac81ad047c1612e7b079d2\n",
      "Starting extraction for link 45680: https://www.zoopla.co.uk/for-sale/details/63918776/?search_identifier=d4bcfe31e72abc1f2c067f1394ae77125b3ff9fad5ac81ad047c1612e7b079d2\n",
      "An error occurred for link in get_data_func: https://www.zoopla.co.uk/for-sale/details/63918776/?search_identifier=d4bcfe31e72abc1f2c067f1394ae77125b3ff9fad5ac81ad047c1612e7b079d2: Message: no such element: Unable to locate element: {\"method\":\"xpath\",\"selector\":\"//p[@data-testid=\"price\"]\"}\n",
      "  (Session info: chrome=115.0.5790.171); For documentation on this error, please visit: https://www.selenium.dev/documentation/webdriver/troubleshooting/errors#no-such-element-exception\n",
      "Stacktrace:\n",
      "Backtrace:\n",
      "\tGetHandleVerifier [0x0073A813+48355]\n",
      "\t(No symbol) [0x006CC4B1]\n",
      "\t(No symbol) [0x005D5358]\n",
      "\t(No symbol) [0x006009A5]\n",
      "\t(No symbol) [0x00600B3B]\n",
      "\t(No symbol) [0x0062E232]\n",
      "\t(No symbol) [0x0061A784]\n",
      "\t(No symbol) [0x0062C922]\n",
      "\t(No symbol) [0x0061A536]\n",
      "\t(No symbol) [0x005F82DC]\n",
      "\t(No symbol) [0x005F93DD]\n",
      "\tGetHandleVerifier [0x0099AABD+2539405]\n",
      "\tGetHandleVerifier [0x009DA78F+2800735]\n",
      "\tGetHandleVerifier [0x009D456C+2775612]\n",
      "\tGetHandleVerifier [0x007C51E0+616112]\n",
      "\t(No symbol) [0x006D5F8C]\n",
      "\t(No symbol) [0x006D2328]\n",
      "\t(No symbol) [0x006D240B]\n",
      "\t(No symbol) [0x006C4FF7]\n",
      "\tBaseThreadInitThunk [0x761E7D59+25]\n",
      "\tRtlInitializeExceptionChain [0x773DB79B+107]\n",
      "\tRtlClearBits [0x773DB71F+191]\n",
      "\n"
     ]
    },
    {
     "name": "stderr",
     "output_type": "stream",
     "text": [
      "could not detect version_main.therefore, we are assuming it is chrome 108 or higher\n"
     ]
    },
    {
     "name": "stdout",
     "output_type": "stream",
     "text": [
      "Saved to db successfully\n",
      "Done with link 45680: https://www.zoopla.co.uk/for-sale/details/63918776/?search_identifier=d4bcfe31e72abc1f2c067f1394ae77125b3ff9fad5ac81ad047c1612e7b079d2\n",
      "Starting extraction for link 45681: https://www.zoopla.co.uk/for-sale/details/63905948/?search_identifier=d4bcfe31e72abc1f2c067f1394ae77125b3ff9fad5ac81ad047c1612e7b079d2\n"
     ]
    },
    {
     "name": "stderr",
     "output_type": "stream",
     "text": [
      "could not detect version_main.therefore, we are assuming it is chrome 108 or higher\n"
     ]
    },
    {
     "name": "stdout",
     "output_type": "stream",
     "text": [
      "Saved to db successfully\n",
      "Done with link 45681: https://www.zoopla.co.uk/for-sale/details/63905948/?search_identifier=d4bcfe31e72abc1f2c067f1394ae77125b3ff9fad5ac81ad047c1612e7b079d2\n",
      "Starting extraction for link 45682: https://www.zoopla.co.uk/for-sale/details/63893838/?search_identifier=d4bcfe31e72abc1f2c067f1394ae77125b3ff9fad5ac81ad047c1612e7b079d2\n"
     ]
    },
    {
     "name": "stderr",
     "output_type": "stream",
     "text": [
      "could not detect version_main.therefore, we are assuming it is chrome 108 or higher\n"
     ]
    },
    {
     "name": "stdout",
     "output_type": "stream",
     "text": [
      "Saved to db successfully\n",
      "Done with link 45682: https://www.zoopla.co.uk/for-sale/details/63893838/?search_identifier=d4bcfe31e72abc1f2c067f1394ae77125b3ff9fad5ac81ad047c1612e7b079d2\n",
      "Starting extraction for link 45683: https://www.zoopla.co.uk/for-sale/details/63868934/?search_identifier=d4bcfe31e72abc1f2c067f1394ae77125b3ff9fad5ac81ad047c1612e7b079d2\n"
     ]
    },
    {
     "name": "stderr",
     "output_type": "stream",
     "text": [
      "could not detect version_main.therefore, we are assuming it is chrome 108 or higher\n"
     ]
    },
    {
     "name": "stdout",
     "output_type": "stream",
     "text": [
      "Saved to db successfully\n",
      "Done with link 45683: https://www.zoopla.co.uk/for-sale/details/63868934/?search_identifier=d4bcfe31e72abc1f2c067f1394ae77125b3ff9fad5ac81ad047c1612e7b079d2\n",
      "Starting extraction for link 45684: https://www.zoopla.co.uk/for-sale/details/63864460/?search_identifier=d4bcfe31e72abc1f2c067f1394ae77125b3ff9fad5ac81ad047c1612e7b079d2\n"
     ]
    },
    {
     "name": "stderr",
     "output_type": "stream",
     "text": [
      "could not detect version_main.therefore, we are assuming it is chrome 108 or higher\n"
     ]
    },
    {
     "name": "stdout",
     "output_type": "stream",
     "text": [
      "Saved to db successfully\n",
      "Done with link 45684: https://www.zoopla.co.uk/for-sale/details/63864460/?search_identifier=d4bcfe31e72abc1f2c067f1394ae77125b3ff9fad5ac81ad047c1612e7b079d2\n",
      "Starting extraction for link 45685: https://www.zoopla.co.uk/for-sale/details/63852502/?search_identifier=d4bcfe31e72abc1f2c067f1394ae77125b3ff9fad5ac81ad047c1612e7b079d2\n"
     ]
    },
    {
     "name": "stderr",
     "output_type": "stream",
     "text": [
      "could not detect version_main.therefore, we are assuming it is chrome 108 or higher\n"
     ]
    },
    {
     "name": "stdout",
     "output_type": "stream",
     "text": [
      "Saved to db successfully\n",
      "Done with link 45685: https://www.zoopla.co.uk/for-sale/details/63852502/?search_identifier=d4bcfe31e72abc1f2c067f1394ae77125b3ff9fad5ac81ad047c1612e7b079d2\n",
      "Starting extraction for link 45686: https://www.zoopla.co.uk/for-sale/details/63787964/?search_identifier=d4bcfe31e72abc1f2c067f1394ae77125b3ff9fad5ac81ad047c1612e7b079d2\n"
     ]
    },
    {
     "name": "stderr",
     "output_type": "stream",
     "text": [
      "could not detect version_main.therefore, we are assuming it is chrome 108 or higher\n"
     ]
    },
    {
     "name": "stdout",
     "output_type": "stream",
     "text": [
      "Saved to db successfully\n",
      "Done with link 45686: https://www.zoopla.co.uk/for-sale/details/63787964/?search_identifier=d4bcfe31e72abc1f2c067f1394ae77125b3ff9fad5ac81ad047c1612e7b079d2\n",
      "Starting extraction for link 45687: https://www.zoopla.co.uk/for-sale/details/63756327/?search_identifier=d4bcfe31e72abc1f2c067f1394ae77125b3ff9fad5ac81ad047c1612e7b079d2\n"
     ]
    },
    {
     "name": "stderr",
     "output_type": "stream",
     "text": [
      "could not detect version_main.therefore, we are assuming it is chrome 108 or higher\n"
     ]
    },
    {
     "name": "stdout",
     "output_type": "stream",
     "text": [
      "Saved to db successfully\n",
      "Done with link 45687: https://www.zoopla.co.uk/for-sale/details/63756327/?search_identifier=d4bcfe31e72abc1f2c067f1394ae77125b3ff9fad5ac81ad047c1612e7b079d2\n",
      "Starting extraction for link 45688: https://www.zoopla.co.uk/for-sale/details/63739577/?search_identifier=d4bcfe31e72abc1f2c067f1394ae77125b3ff9fad5ac81ad047c1612e7b079d2\n"
     ]
    },
    {
     "name": "stderr",
     "output_type": "stream",
     "text": [
      "could not detect version_main.therefore, we are assuming it is chrome 108 or higher\n"
     ]
    },
    {
     "name": "stdout",
     "output_type": "stream",
     "text": [
      "Saved to db successfully\n",
      "Done with link 45688: https://www.zoopla.co.uk/for-sale/details/63739577/?search_identifier=d4bcfe31e72abc1f2c067f1394ae77125b3ff9fad5ac81ad047c1612e7b079d2\n",
      "Starting extraction for link 45689: https://www.zoopla.co.uk/for-sale/details/63716204/?search_identifier=d4bcfe31e72abc1f2c067f1394ae77125b3ff9fad5ac81ad047c1612e7b079d2\n"
     ]
    },
    {
     "name": "stderr",
     "output_type": "stream",
     "text": [
      "could not detect version_main.therefore, we are assuming it is chrome 108 or higher\n"
     ]
    },
    {
     "name": "stdout",
     "output_type": "stream",
     "text": [
      "Saved to db successfully\n",
      "Done with link 45689: https://www.zoopla.co.uk/for-sale/details/63716204/?search_identifier=d4bcfe31e72abc1f2c067f1394ae77125b3ff9fad5ac81ad047c1612e7b079d2\n",
      "Starting extraction for link 45690: https://www.zoopla.co.uk/for-sale/details/63420711/?search_identifier=d4bcfe31e72abc1f2c067f1394ae77125b3ff9fad5ac81ad047c1612e7b079d2\n"
     ]
    },
    {
     "name": "stderr",
     "output_type": "stream",
     "text": [
      "could not detect version_main.therefore, we are assuming it is chrome 108 or higher\n"
     ]
    },
    {
     "name": "stdout",
     "output_type": "stream",
     "text": [
      "Saved to db successfully\n",
      "Done with link 45690: https://www.zoopla.co.uk/for-sale/details/63420711/?search_identifier=d4bcfe31e72abc1f2c067f1394ae77125b3ff9fad5ac81ad047c1612e7b079d2\n",
      "Starting extraction for link 45691: https://www.zoopla.co.uk/for-sale/details/60823357/?search_identifier=d4bcfe31e72abc1f2c067f1394ae77125b3ff9fad5ac81ad047c1612e7b079d2\n"
     ]
    },
    {
     "name": "stderr",
     "output_type": "stream",
     "text": [
      "could not detect version_main.therefore, we are assuming it is chrome 108 or higher\n"
     ]
    },
    {
     "name": "stdout",
     "output_type": "stream",
     "text": [
      "Saved to db successfully\n",
      "Done with link 45691: https://www.zoopla.co.uk/for-sale/details/60823357/?search_identifier=d4bcfe31e72abc1f2c067f1394ae77125b3ff9fad5ac81ad047c1612e7b079d2\n",
      "Starting extraction for link 45692: https://www.zoopla.co.uk/for-sale/details/63140465/?search_identifier=d4bcfe31e72abc1f2c067f1394ae77125b3ff9fad5ac81ad047c1612e7b079d2\n"
     ]
    },
    {
     "name": "stderr",
     "output_type": "stream",
     "text": [
      "could not detect version_main.therefore, we are assuming it is chrome 108 or higher\n"
     ]
    },
    {
     "name": "stdout",
     "output_type": "stream",
     "text": [
      "Saved to db successfully\n",
      "Done with link 45692: https://www.zoopla.co.uk/for-sale/details/63140465/?search_identifier=d4bcfe31e72abc1f2c067f1394ae77125b3ff9fad5ac81ad047c1612e7b079d2\n",
      "Starting extraction for link 45693: https://www.zoopla.co.uk/for-sale/details/62985355/?search_identifier=d4bcfe31e72abc1f2c067f1394ae77125b3ff9fad5ac81ad047c1612e7b079d2\n"
     ]
    },
    {
     "name": "stderr",
     "output_type": "stream",
     "text": [
      "could not detect version_main.therefore, we are assuming it is chrome 108 or higher\n"
     ]
    },
    {
     "name": "stdout",
     "output_type": "stream",
     "text": [
      "Saved to db successfully\n",
      "Done with link 45693: https://www.zoopla.co.uk/for-sale/details/62985355/?search_identifier=d4bcfe31e72abc1f2c067f1394ae77125b3ff9fad5ac81ad047c1612e7b079d2\n",
      "Starting extraction for link 45694: https://www.zoopla.co.uk/for-sale/details/61608022/?search_identifier=3fbc35d9393540b864b56c25414fe8470fba5261ae30ef6dbd7fd7e5dda0ada2\n"
     ]
    },
    {
     "name": "stderr",
     "output_type": "stream",
     "text": [
      "could not detect version_main.therefore, we are assuming it is chrome 108 or higher\n"
     ]
    },
    {
     "name": "stdout",
     "output_type": "stream",
     "text": [
      "Saved to db successfully\n",
      "Done with link 45694: https://www.zoopla.co.uk/for-sale/details/61608022/?search_identifier=3fbc35d9393540b864b56c25414fe8470fba5261ae30ef6dbd7fd7e5dda0ada2\n",
      "Starting extraction for link 45695: https://www.zoopla.co.uk/for-sale/details/62861094/?search_identifier=3fbc35d9393540b864b56c25414fe8470fba5261ae30ef6dbd7fd7e5dda0ada2\n"
     ]
    },
    {
     "name": "stderr",
     "output_type": "stream",
     "text": [
      "could not detect version_main.therefore, we are assuming it is chrome 108 or higher\n"
     ]
    },
    {
     "name": "stdout",
     "output_type": "stream",
     "text": [
      "Saved to db successfully\n",
      "Done with link 45695: https://www.zoopla.co.uk/for-sale/details/62861094/?search_identifier=3fbc35d9393540b864b56c25414fe8470fba5261ae30ef6dbd7fd7e5dda0ada2\n",
      "Starting extraction for link 45696: https://www.zoopla.co.uk/for-sale/details/62822491/?search_identifier=3fbc35d9393540b864b56c25414fe8470fba5261ae30ef6dbd7fd7e5dda0ada2\n"
     ]
    },
    {
     "name": "stderr",
     "output_type": "stream",
     "text": [
      "could not detect version_main.therefore, we are assuming it is chrome 108 or higher\n"
     ]
    },
    {
     "name": "stdout",
     "output_type": "stream",
     "text": [
      "Saved to db successfully\n",
      "Done with link 45696: https://www.zoopla.co.uk/for-sale/details/62822491/?search_identifier=3fbc35d9393540b864b56c25414fe8470fba5261ae30ef6dbd7fd7e5dda0ada2\n",
      "Starting extraction for link 45697: https://www.zoopla.co.uk/for-sale/details/62794643/?search_identifier=3fbc35d9393540b864b56c25414fe8470fba5261ae30ef6dbd7fd7e5dda0ada2\n"
     ]
    },
    {
     "name": "stderr",
     "output_type": "stream",
     "text": [
      "could not detect version_main.therefore, we are assuming it is chrome 108 or higher\n"
     ]
    },
    {
     "name": "stdout",
     "output_type": "stream",
     "text": [
      "Saved to db successfully\n",
      "Done with link 45697: https://www.zoopla.co.uk/for-sale/details/62794643/?search_identifier=3fbc35d9393540b864b56c25414fe8470fba5261ae30ef6dbd7fd7e5dda0ada2\n",
      "Starting extraction for link 45698: https://www.zoopla.co.uk/for-sale/details/62777089/?search_identifier=3fbc35d9393540b864b56c25414fe8470fba5261ae30ef6dbd7fd7e5dda0ada2\n"
     ]
    },
    {
     "name": "stderr",
     "output_type": "stream",
     "text": [
      "could not detect version_main.therefore, we are assuming it is chrome 108 or higher\n"
     ]
    },
    {
     "name": "stdout",
     "output_type": "stream",
     "text": [
      "Saved to db successfully\n",
      "Done with link 45698: https://www.zoopla.co.uk/for-sale/details/62777089/?search_identifier=3fbc35d9393540b864b56c25414fe8470fba5261ae30ef6dbd7fd7e5dda0ada2\n",
      "Starting extraction for link 45699: https://www.zoopla.co.uk/for-sale/details/62678883/?search_identifier=3fbc35d9393540b864b56c25414fe8470fba5261ae30ef6dbd7fd7e5dda0ada2\n"
     ]
    },
    {
     "name": "stderr",
     "output_type": "stream",
     "text": [
      "could not detect version_main.therefore, we are assuming it is chrome 108 or higher\n"
     ]
    },
    {
     "name": "stdout",
     "output_type": "stream",
     "text": [
      "Saved to db successfully\n",
      "Done with link 45699: https://www.zoopla.co.uk/for-sale/details/62678883/?search_identifier=3fbc35d9393540b864b56c25414fe8470fba5261ae30ef6dbd7fd7e5dda0ada2\n",
      "Starting extraction for link 45700: https://www.zoopla.co.uk/for-sale/details/62669445/?search_identifier=3fbc35d9393540b864b56c25414fe8470fba5261ae30ef6dbd7fd7e5dda0ada2\n"
     ]
    },
    {
     "name": "stderr",
     "output_type": "stream",
     "text": [
      "could not detect version_main.therefore, we are assuming it is chrome 108 or higher\n"
     ]
    },
    {
     "name": "stdout",
     "output_type": "stream",
     "text": [
      "Saved to db successfully\n",
      "Done with link 45700: https://www.zoopla.co.uk/for-sale/details/62669445/?search_identifier=3fbc35d9393540b864b56c25414fe8470fba5261ae30ef6dbd7fd7e5dda0ada2\n",
      "Starting extraction for link 45701: https://www.zoopla.co.uk/for-sale/details/62634461/?search_identifier=3fbc35d9393540b864b56c25414fe8470fba5261ae30ef6dbd7fd7e5dda0ada2\n"
     ]
    },
    {
     "name": "stderr",
     "output_type": "stream",
     "text": [
      "could not detect version_main.therefore, we are assuming it is chrome 108 or higher\n"
     ]
    },
    {
     "name": "stdout",
     "output_type": "stream",
     "text": [
      "Saved to db successfully\n",
      "Done with link 45701: https://www.zoopla.co.uk/for-sale/details/62634461/?search_identifier=3fbc35d9393540b864b56c25414fe8470fba5261ae30ef6dbd7fd7e5dda0ada2\n",
      "Starting extraction for link 45702: https://www.zoopla.co.uk/for-sale/details/62633079/?search_identifier=3fbc35d9393540b864b56c25414fe8470fba5261ae30ef6dbd7fd7e5dda0ada2\n"
     ]
    },
    {
     "name": "stderr",
     "output_type": "stream",
     "text": [
      "could not detect version_main.therefore, we are assuming it is chrome 108 or higher\n"
     ]
    },
    {
     "name": "stdout",
     "output_type": "stream",
     "text": [
      "Saved to db successfully\n",
      "Done with link 45702: https://www.zoopla.co.uk/for-sale/details/62633079/?search_identifier=3fbc35d9393540b864b56c25414fe8470fba5261ae30ef6dbd7fd7e5dda0ada2\n",
      "Starting extraction for link 45703: https://www.zoopla.co.uk/for-sale/details/62611156/?search_identifier=3fbc35d9393540b864b56c25414fe8470fba5261ae30ef6dbd7fd7e5dda0ada2\n"
     ]
    },
    {
     "name": "stderr",
     "output_type": "stream",
     "text": [
      "could not detect version_main.therefore, we are assuming it is chrome 108 or higher\n"
     ]
    },
    {
     "name": "stdout",
     "output_type": "stream",
     "text": [
      "Saved to db successfully\n",
      "Done with link 45703: https://www.zoopla.co.uk/for-sale/details/62611156/?search_identifier=3fbc35d9393540b864b56c25414fe8470fba5261ae30ef6dbd7fd7e5dda0ada2\n",
      "Starting extraction for link 45704: https://www.zoopla.co.uk/for-sale/details/62548749/?search_identifier=3fbc35d9393540b864b56c25414fe8470fba5261ae30ef6dbd7fd7e5dda0ada2\n"
     ]
    },
    {
     "name": "stderr",
     "output_type": "stream",
     "text": [
      "could not detect version_main.therefore, we are assuming it is chrome 108 or higher\n"
     ]
    },
    {
     "name": "stdout",
     "output_type": "stream",
     "text": [
      "Saved to db successfully\n",
      "Done with link 45704: https://www.zoopla.co.uk/for-sale/details/62548749/?search_identifier=3fbc35d9393540b864b56c25414fe8470fba5261ae30ef6dbd7fd7e5dda0ada2\n",
      "Starting extraction for link 45705: https://www.zoopla.co.uk/for-sale/details/62354535/?search_identifier=3fbc35d9393540b864b56c25414fe8470fba5261ae30ef6dbd7fd7e5dda0ada2\n"
     ]
    },
    {
     "name": "stderr",
     "output_type": "stream",
     "text": [
      "could not detect version_main.therefore, we are assuming it is chrome 108 or higher\n"
     ]
    },
    {
     "name": "stdout",
     "output_type": "stream",
     "text": [
      "Saved to db successfully\n",
      "Done with link 45705: https://www.zoopla.co.uk/for-sale/details/62354535/?search_identifier=3fbc35d9393540b864b56c25414fe8470fba5261ae30ef6dbd7fd7e5dda0ada2\n",
      "Starting extraction for link 45706: https://www.zoopla.co.uk/for-sale/details/61371277/?search_identifier=3fbc35d9393540b864b56c25414fe8470fba5261ae30ef6dbd7fd7e5dda0ada2\n",
      "An error occurred for link in get_data_func: https://www.zoopla.co.uk/for-sale/details/61371277/?search_identifier=3fbc35d9393540b864b56c25414fe8470fba5261ae30ef6dbd7fd7e5dda0ada2: Message: no such element: Unable to locate element: {\"method\":\"xpath\",\"selector\":\"//p[@data-testid=\"price\"]\"}\n",
      "  (Session info: chrome=115.0.5790.171); For documentation on this error, please visit: https://www.selenium.dev/documentation/webdriver/troubleshooting/errors#no-such-element-exception\n",
      "Stacktrace:\n",
      "Backtrace:\n",
      "\tGetHandleVerifier [0x0073A813+48355]\n",
      "\t(No symbol) [0x006CC4B1]\n",
      "\t(No symbol) [0x005D5358]\n",
      "\t(No symbol) [0x006009A5]\n",
      "\t(No symbol) [0x00600B3B]\n",
      "\t(No symbol) [0x0062E232]\n",
      "\t(No symbol) [0x0061A784]\n",
      "\t(No symbol) [0x0062C922]\n",
      "\t(No symbol) [0x0061A536]\n",
      "\t(No symbol) [0x005F82DC]\n",
      "\t(No symbol) [0x005F93DD]\n",
      "\tGetHandleVerifier [0x0099AABD+2539405]\n",
      "\tGetHandleVerifier [0x009DA78F+2800735]\n",
      "\tGetHandleVerifier [0x009D456C+2775612]\n",
      "\tGetHandleVerifier [0x007C51E0+616112]\n",
      "\t(No symbol) [0x006D5F8C]\n",
      "\t(No symbol) [0x006D2328]\n",
      "\t(No symbol) [0x006D240B]\n",
      "\t(No symbol) [0x006C4FF7]\n",
      "\tBaseThreadInitThunk [0x761E7D59+25]\n",
      "\tRtlInitializeExceptionChain [0x773DB79B+107]\n",
      "\tRtlClearBits [0x773DB71F+191]\n",
      "\n"
     ]
    },
    {
     "name": "stderr",
     "output_type": "stream",
     "text": [
      "could not detect version_main.therefore, we are assuming it is chrome 108 or higher\n"
     ]
    },
    {
     "name": "stdout",
     "output_type": "stream",
     "text": [
      "Saved to db successfully\n",
      "Done with link 45706: https://www.zoopla.co.uk/for-sale/details/61371277/?search_identifier=3fbc35d9393540b864b56c25414fe8470fba5261ae30ef6dbd7fd7e5dda0ada2\n",
      "Starting extraction for link 45707: https://www.zoopla.co.uk/for-sale/details/61111263/?search_identifier=3fbc35d9393540b864b56c25414fe8470fba5261ae30ef6dbd7fd7e5dda0ada2\n"
     ]
    },
    {
     "name": "stderr",
     "output_type": "stream",
     "text": [
      "could not detect version_main.therefore, we are assuming it is chrome 108 or higher\n"
     ]
    },
    {
     "name": "stdout",
     "output_type": "stream",
     "text": [
      "Saved to db successfully\n",
      "Done with link 45707: https://www.zoopla.co.uk/for-sale/details/61111263/?search_identifier=3fbc35d9393540b864b56c25414fe8470fba5261ae30ef6dbd7fd7e5dda0ada2\n",
      "Starting extraction for link 45708: https://www.zoopla.co.uk/for-sale/details/65227768/?search_identifier=9c4ee57597de4c73b2537cb6f87e9e4ccfad34b86e84eeb50c0fca96193f2c59\n"
     ]
    },
    {
     "name": "stderr",
     "output_type": "stream",
     "text": [
      "could not detect version_main.therefore, we are assuming it is chrome 108 or higher\n"
     ]
    },
    {
     "name": "stdout",
     "output_type": "stream",
     "text": [
      "Saved to db successfully\n",
      "Done with link 45708: https://www.zoopla.co.uk/for-sale/details/65227768/?search_identifier=9c4ee57597de4c73b2537cb6f87e9e4ccfad34b86e84eeb50c0fca96193f2c59\n",
      "Starting extraction for link 45709: https://www.zoopla.co.uk/for-sale/details/65223897/?search_identifier=9c4ee57597de4c73b2537cb6f87e9e4ccfad34b86e84eeb50c0fca96193f2c59\n"
     ]
    },
    {
     "name": "stderr",
     "output_type": "stream",
     "text": [
      "could not detect version_main.therefore, we are assuming it is chrome 108 or higher\n"
     ]
    },
    {
     "name": "stdout",
     "output_type": "stream",
     "text": [
      "Saved to db successfully\n",
      "Done with link 45709: https://www.zoopla.co.uk/for-sale/details/65223897/?search_identifier=9c4ee57597de4c73b2537cb6f87e9e4ccfad34b86e84eeb50c0fca96193f2c59\n",
      "Starting extraction for link 45710: https://www.zoopla.co.uk/for-sale/details/65203263/?search_identifier=9c4ee57597de4c73b2537cb6f87e9e4ccfad34b86e84eeb50c0fca96193f2c59\n"
     ]
    },
    {
     "name": "stderr",
     "output_type": "stream",
     "text": [
      "could not detect version_main.therefore, we are assuming it is chrome 108 or higher\n"
     ]
    },
    {
     "name": "stdout",
     "output_type": "stream",
     "text": [
      "Saved to db successfully\n",
      "Done with link 45710: https://www.zoopla.co.uk/for-sale/details/65203263/?search_identifier=9c4ee57597de4c73b2537cb6f87e9e4ccfad34b86e84eeb50c0fca96193f2c59\n",
      "Starting extraction for link 45711: https://www.zoopla.co.uk/for-sale/details/65203272/?search_identifier=9c4ee57597de4c73b2537cb6f87e9e4ccfad34b86e84eeb50c0fca96193f2c59\n",
      "An error occurred for link in get_data_func: https://www.zoopla.co.uk/for-sale/details/65203272/?search_identifier=9c4ee57597de4c73b2537cb6f87e9e4ccfad34b86e84eeb50c0fca96193f2c59: Message: no such element: Unable to locate element: {\"method\":\"xpath\",\"selector\":\"//p[@data-testid=\"price\"]\"}\n",
      "  (Session info: chrome=115.0.5790.171); For documentation on this error, please visit: https://www.selenium.dev/documentation/webdriver/troubleshooting/errors#no-such-element-exception\n",
      "Stacktrace:\n",
      "Backtrace:\n",
      "\tGetHandleVerifier [0x0073A813+48355]\n",
      "\t(No symbol) [0x006CC4B1]\n",
      "\t(No symbol) [0x005D5358]\n",
      "\t(No symbol) [0x006009A5]\n",
      "\t(No symbol) [0x00600B3B]\n",
      "\t(No symbol) [0x0062E232]\n",
      "\t(No symbol) [0x0061A784]\n",
      "\t(No symbol) [0x0062C922]\n",
      "\t(No symbol) [0x0061A536]\n",
      "\t(No symbol) [0x005F82DC]\n",
      "\t(No symbol) [0x005F93DD]\n",
      "\tGetHandleVerifier [0x0099AABD+2539405]\n",
      "\tGetHandleVerifier [0x009DA78F+2800735]\n",
      "\tGetHandleVerifier [0x009D456C+2775612]\n",
      "\tGetHandleVerifier [0x007C51E0+616112]\n",
      "\t(No symbol) [0x006D5F8C]\n",
      "\t(No symbol) [0x006D2328]\n",
      "\t(No symbol) [0x006D240B]\n",
      "\t(No symbol) [0x006C4FF7]\n",
      "\tBaseThreadInitThunk [0x761E7D59+25]\n",
      "\tRtlInitializeExceptionChain [0x773DB79B+107]\n",
      "\tRtlClearBits [0x773DB71F+191]\n",
      "\n"
     ]
    },
    {
     "name": "stderr",
     "output_type": "stream",
     "text": [
      "could not detect version_main.therefore, we are assuming it is chrome 108 or higher\n"
     ]
    },
    {
     "name": "stdout",
     "output_type": "stream",
     "text": [
      "Saved to db successfully\n",
      "Done with link 45711: https://www.zoopla.co.uk/for-sale/details/65203272/?search_identifier=9c4ee57597de4c73b2537cb6f87e9e4ccfad34b86e84eeb50c0fca96193f2c59\n",
      "Starting extraction for link 45712: https://www.zoopla.co.uk/for-sale/details/65203258/?search_identifier=9c4ee57597de4c73b2537cb6f87e9e4ccfad34b86e84eeb50c0fca96193f2c59\n",
      "An error occurred for link in get_data_func: https://www.zoopla.co.uk/for-sale/details/65203258/?search_identifier=9c4ee57597de4c73b2537cb6f87e9e4ccfad34b86e84eeb50c0fca96193f2c59: Message: no such element: Unable to locate element: {\"method\":\"xpath\",\"selector\":\"//p[@data-testid=\"price\"]\"}\n",
      "  (Session info: chrome=115.0.5790.171); For documentation on this error, please visit: https://www.selenium.dev/documentation/webdriver/troubleshooting/errors#no-such-element-exception\n",
      "Stacktrace:\n",
      "Backtrace:\n",
      "\tGetHandleVerifier [0x0073A813+48355]\n",
      "\t(No symbol) [0x006CC4B1]\n",
      "\t(No symbol) [0x005D5358]\n",
      "\t(No symbol) [0x006009A5]\n",
      "\t(No symbol) [0x00600B3B]\n",
      "\t(No symbol) [0x0062E232]\n",
      "\t(No symbol) [0x0061A784]\n",
      "\t(No symbol) [0x0062C922]\n",
      "\t(No symbol) [0x0061A536]\n",
      "\t(No symbol) [0x005F82DC]\n",
      "\t(No symbol) [0x005F93DD]\n",
      "\tGetHandleVerifier [0x0099AABD+2539405]\n",
      "\tGetHandleVerifier [0x009DA78F+2800735]\n",
      "\tGetHandleVerifier [0x009D456C+2775612]\n",
      "\tGetHandleVerifier [0x007C51E0+616112]\n",
      "\t(No symbol) [0x006D5F8C]\n",
      "\t(No symbol) [0x006D2328]\n",
      "\t(No symbol) [0x006D240B]\n",
      "\t(No symbol) [0x006C4FF7]\n",
      "\tBaseThreadInitThunk [0x761E7D59+25]\n",
      "\tRtlInitializeExceptionChain [0x773DB79B+107]\n",
      "\tRtlClearBits [0x773DB71F+191]\n",
      "\n"
     ]
    },
    {
     "name": "stderr",
     "output_type": "stream",
     "text": [
      "could not detect version_main.therefore, we are assuming it is chrome 108 or higher\n"
     ]
    },
    {
     "name": "stdout",
     "output_type": "stream",
     "text": [
      "Saved to db successfully\n",
      "Done with link 45712: https://www.zoopla.co.uk/for-sale/details/65203258/?search_identifier=9c4ee57597de4c73b2537cb6f87e9e4ccfad34b86e84eeb50c0fca96193f2c59\n",
      "Starting extraction for link 45713: https://www.zoopla.co.uk/for-sale/details/65199045/?search_identifier=9c4ee57597de4c73b2537cb6f87e9e4ccfad34b86e84eeb50c0fca96193f2c59\n"
     ]
    },
    {
     "name": "stderr",
     "output_type": "stream",
     "text": [
      "could not detect version_main.therefore, we are assuming it is chrome 108 or higher\n"
     ]
    },
    {
     "name": "stdout",
     "output_type": "stream",
     "text": [
      "Saved to db successfully\n",
      "Done with link 45713: https://www.zoopla.co.uk/for-sale/details/65199045/?search_identifier=9c4ee57597de4c73b2537cb6f87e9e4ccfad34b86e84eeb50c0fca96193f2c59\n",
      "Starting extraction for link 45714: https://www.zoopla.co.uk/for-sale/details/65197951/?search_identifier=9c4ee57597de4c73b2537cb6f87e9e4ccfad34b86e84eeb50c0fca96193f2c59\n"
     ]
    },
    {
     "name": "stderr",
     "output_type": "stream",
     "text": [
      "could not detect version_main.therefore, we are assuming it is chrome 108 or higher\n"
     ]
    },
    {
     "name": "stdout",
     "output_type": "stream",
     "text": [
      "Saved to db successfully\n",
      "Done with link 45714: https://www.zoopla.co.uk/for-sale/details/65197951/?search_identifier=9c4ee57597de4c73b2537cb6f87e9e4ccfad34b86e84eeb50c0fca96193f2c59\n",
      "Starting extraction for link 45715: https://www.zoopla.co.uk/for-sale/details/65194335/?search_identifier=9c4ee57597de4c73b2537cb6f87e9e4ccfad34b86e84eeb50c0fca96193f2c59\n"
     ]
    },
    {
     "name": "stderr",
     "output_type": "stream",
     "text": [
      "could not detect version_main.therefore, we are assuming it is chrome 108 or higher\n"
     ]
    },
    {
     "name": "stdout",
     "output_type": "stream",
     "text": [
      "Saved to db successfully\n",
      "Done with link 45715: https://www.zoopla.co.uk/for-sale/details/65194335/?search_identifier=9c4ee57597de4c73b2537cb6f87e9e4ccfad34b86e84eeb50c0fca96193f2c59\n",
      "Starting extraction for link 45716: https://www.zoopla.co.uk/for-sale/details/65189675/?search_identifier=9c4ee57597de4c73b2537cb6f87e9e4ccfad34b86e84eeb50c0fca96193f2c59\n"
     ]
    },
    {
     "name": "stderr",
     "output_type": "stream",
     "text": [
      "could not detect version_main.therefore, we are assuming it is chrome 108 or higher\n"
     ]
    },
    {
     "name": "stdout",
     "output_type": "stream",
     "text": [
      "Saved to db successfully\n",
      "Done with link 45716: https://www.zoopla.co.uk/for-sale/details/65189675/?search_identifier=9c4ee57597de4c73b2537cb6f87e9e4ccfad34b86e84eeb50c0fca96193f2c59\n",
      "Starting extraction for link 45717: https://www.zoopla.co.uk/for-sale/details/65189493/?search_identifier=9c4ee57597de4c73b2537cb6f87e9e4ccfad34b86e84eeb50c0fca96193f2c59\n"
     ]
    },
    {
     "name": "stderr",
     "output_type": "stream",
     "text": [
      "could not detect version_main.therefore, we are assuming it is chrome 108 or higher\n"
     ]
    },
    {
     "name": "stdout",
     "output_type": "stream",
     "text": [
      "Saved to db successfully\n",
      "Done with link 45717: https://www.zoopla.co.uk/for-sale/details/65189493/?search_identifier=9c4ee57597de4c73b2537cb6f87e9e4ccfad34b86e84eeb50c0fca96193f2c59\n",
      "Starting extraction for link 45718: https://www.zoopla.co.uk/for-sale/details/65189081/?search_identifier=9c4ee57597de4c73b2537cb6f87e9e4ccfad34b86e84eeb50c0fca96193f2c59\n",
      "An error occurred for link in get_data_func: https://www.zoopla.co.uk/for-sale/details/65189081/?search_identifier=9c4ee57597de4c73b2537cb6f87e9e4ccfad34b86e84eeb50c0fca96193f2c59: Message: no such element: Unable to locate element: {\"method\":\"xpath\",\"selector\":\"//p[@data-testid=\"price\"]\"}\n",
      "  (Session info: chrome=115.0.5790.171); For documentation on this error, please visit: https://www.selenium.dev/documentation/webdriver/troubleshooting/errors#no-such-element-exception\n",
      "Stacktrace:\n",
      "Backtrace:\n",
      "\tGetHandleVerifier [0x0073A813+48355]\n",
      "\t(No symbol) [0x006CC4B1]\n",
      "\t(No symbol) [0x005D5358]\n",
      "\t(No symbol) [0x006009A5]\n",
      "\t(No symbol) [0x00600B3B]\n",
      "\t(No symbol) [0x0062E232]\n",
      "\t(No symbol) [0x0061A784]\n",
      "\t(No symbol) [0x0062C922]\n",
      "\t(No symbol) [0x0061A536]\n",
      "\t(No symbol) [0x005F82DC]\n",
      "\t(No symbol) [0x005F93DD]\n",
      "\tGetHandleVerifier [0x0099AABD+2539405]\n",
      "\tGetHandleVerifier [0x009DA78F+2800735]\n",
      "\tGetHandleVerifier [0x009D456C+2775612]\n",
      "\tGetHandleVerifier [0x007C51E0+616112]\n",
      "\t(No symbol) [0x006D5F8C]\n",
      "\t(No symbol) [0x006D2328]\n",
      "\t(No symbol) [0x006D240B]\n",
      "\t(No symbol) [0x006C4FF7]\n",
      "\tBaseThreadInitThunk [0x761E7D59+25]\n",
      "\tRtlInitializeExceptionChain [0x773DB79B+107]\n",
      "\tRtlClearBits [0x773DB71F+191]\n",
      "\n"
     ]
    },
    {
     "name": "stderr",
     "output_type": "stream",
     "text": [
      "could not detect version_main.therefore, we are assuming it is chrome 108 or higher\n"
     ]
    },
    {
     "name": "stdout",
     "output_type": "stream",
     "text": [
      "Saved to db successfully\n",
      "Done with link 45718: https://www.zoopla.co.uk/for-sale/details/65189081/?search_identifier=9c4ee57597de4c73b2537cb6f87e9e4ccfad34b86e84eeb50c0fca96193f2c59\n",
      "Starting extraction for link 45719: https://www.zoopla.co.uk/for-sale/details/65186728/?search_identifier=9c4ee57597de4c73b2537cb6f87e9e4ccfad34b86e84eeb50c0fca96193f2c59\n"
     ]
    },
    {
     "name": "stderr",
     "output_type": "stream",
     "text": [
      "could not detect version_main.therefore, we are assuming it is chrome 108 or higher\n"
     ]
    },
    {
     "name": "stdout",
     "output_type": "stream",
     "text": [
      "Saved to db successfully\n",
      "Done with link 45719: https://www.zoopla.co.uk/for-sale/details/65186728/?search_identifier=9c4ee57597de4c73b2537cb6f87e9e4ccfad34b86e84eeb50c0fca96193f2c59\n",
      "Starting extraction for link 45720: https://www.zoopla.co.uk/for-sale/details/65185298/?search_identifier=9c4ee57597de4c73b2537cb6f87e9e4ccfad34b86e84eeb50c0fca96193f2c59\n"
     ]
    },
    {
     "name": "stderr",
     "output_type": "stream",
     "text": [
      "could not detect version_main.therefore, we are assuming it is chrome 108 or higher\n"
     ]
    },
    {
     "name": "stdout",
     "output_type": "stream",
     "text": [
      "Saved to db successfully\n",
      "Done with link 45720: https://www.zoopla.co.uk/for-sale/details/65185298/?search_identifier=9c4ee57597de4c73b2537cb6f87e9e4ccfad34b86e84eeb50c0fca96193f2c59\n",
      "Starting extraction for link 45721: https://www.zoopla.co.uk/for-sale/details/65175510/?search_identifier=9c4ee57597de4c73b2537cb6f87e9e4ccfad34b86e84eeb50c0fca96193f2c59\n"
     ]
    },
    {
     "name": "stderr",
     "output_type": "stream",
     "text": [
      "could not detect version_main.therefore, we are assuming it is chrome 108 or higher\n"
     ]
    },
    {
     "name": "stdout",
     "output_type": "stream",
     "text": [
      "Saved to db successfully\n",
      "Done with link 45721: https://www.zoopla.co.uk/for-sale/details/65175510/?search_identifier=9c4ee57597de4c73b2537cb6f87e9e4ccfad34b86e84eeb50c0fca96193f2c59\n",
      "Starting extraction for link 45722: https://www.zoopla.co.uk/for-sale/details/65175350/?search_identifier=9c4ee57597de4c73b2537cb6f87e9e4ccfad34b86e84eeb50c0fca96193f2c59\n"
     ]
    },
    {
     "name": "stderr",
     "output_type": "stream",
     "text": [
      "could not detect version_main.therefore, we are assuming it is chrome 108 or higher\n"
     ]
    },
    {
     "name": "stdout",
     "output_type": "stream",
     "text": [
      "Saved to db successfully\n",
      "Done with link 45722: https://www.zoopla.co.uk/for-sale/details/65175350/?search_identifier=9c4ee57597de4c73b2537cb6f87e9e4ccfad34b86e84eeb50c0fca96193f2c59\n",
      "Starting extraction for link 45723: https://www.zoopla.co.uk/for-sale/details/65171884/?search_identifier=9c4ee57597de4c73b2537cb6f87e9e4ccfad34b86e84eeb50c0fca96193f2c59\n"
     ]
    },
    {
     "name": "stderr",
     "output_type": "stream",
     "text": [
      "could not detect version_main.therefore, we are assuming it is chrome 108 or higher\n"
     ]
    },
    {
     "name": "stdout",
     "output_type": "stream",
     "text": [
      "Saved to db successfully\n",
      "Done with link 45723: https://www.zoopla.co.uk/for-sale/details/65171884/?search_identifier=9c4ee57597de4c73b2537cb6f87e9e4ccfad34b86e84eeb50c0fca96193f2c59\n",
      "Starting extraction for link 45724: https://www.zoopla.co.uk/for-sale/details/65169613/?search_identifier=9c4ee57597de4c73b2537cb6f87e9e4ccfad34b86e84eeb50c0fca96193f2c59\n"
     ]
    },
    {
     "name": "stderr",
     "output_type": "stream",
     "text": [
      "could not detect version_main.therefore, we are assuming it is chrome 108 or higher\n"
     ]
    },
    {
     "name": "stdout",
     "output_type": "stream",
     "text": [
      "Saved to db successfully\n",
      "Done with link 45724: https://www.zoopla.co.uk/for-sale/details/65169613/?search_identifier=9c4ee57597de4c73b2537cb6f87e9e4ccfad34b86e84eeb50c0fca96193f2c59\n",
      "Starting extraction for link 45725: https://www.zoopla.co.uk/for-sale/details/65164559/?search_identifier=9c4ee57597de4c73b2537cb6f87e9e4ccfad34b86e84eeb50c0fca96193f2c59\n"
     ]
    },
    {
     "name": "stderr",
     "output_type": "stream",
     "text": [
      "could not detect version_main.therefore, we are assuming it is chrome 108 or higher\n"
     ]
    },
    {
     "name": "stdout",
     "output_type": "stream",
     "text": [
      "Saved to db successfully\n",
      "Done with link 45725: https://www.zoopla.co.uk/for-sale/details/65164559/?search_identifier=9c4ee57597de4c73b2537cb6f87e9e4ccfad34b86e84eeb50c0fca96193f2c59\n",
      "Starting extraction for link 45726: https://www.zoopla.co.uk/for-sale/details/65164306/?search_identifier=9c4ee57597de4c73b2537cb6f87e9e4ccfad34b86e84eeb50c0fca96193f2c59\n"
     ]
    },
    {
     "name": "stderr",
     "output_type": "stream",
     "text": [
      "could not detect version_main.therefore, we are assuming it is chrome 108 or higher\n"
     ]
    },
    {
     "name": "stdout",
     "output_type": "stream",
     "text": [
      "Saved to db successfully\n",
      "Done with link 45726: https://www.zoopla.co.uk/for-sale/details/65164306/?search_identifier=9c4ee57597de4c73b2537cb6f87e9e4ccfad34b86e84eeb50c0fca96193f2c59\n",
      "Starting extraction for link 45727: https://www.zoopla.co.uk/for-sale/details/65160524/?search_identifier=9c4ee57597de4c73b2537cb6f87e9e4ccfad34b86e84eeb50c0fca96193f2c59\n"
     ]
    },
    {
     "name": "stderr",
     "output_type": "stream",
     "text": [
      "could not detect version_main.therefore, we are assuming it is chrome 108 or higher\n"
     ]
    },
    {
     "name": "stdout",
     "output_type": "stream",
     "text": [
      "Saved to db successfully\n",
      "Done with link 45727: https://www.zoopla.co.uk/for-sale/details/65160524/?search_identifier=9c4ee57597de4c73b2537cb6f87e9e4ccfad34b86e84eeb50c0fca96193f2c59\n",
      "Starting extraction for link 45728: https://www.zoopla.co.uk/for-sale/details/65160206/?search_identifier=9c4ee57597de4c73b2537cb6f87e9e4ccfad34b86e84eeb50c0fca96193f2c59\n"
     ]
    },
    {
     "name": "stderr",
     "output_type": "stream",
     "text": [
      "could not detect version_main.therefore, we are assuming it is chrome 108 or higher\n"
     ]
    },
    {
     "name": "stdout",
     "output_type": "stream",
     "text": [
      "Saved to db successfully\n",
      "Done with link 45728: https://www.zoopla.co.uk/for-sale/details/65160206/?search_identifier=9c4ee57597de4c73b2537cb6f87e9e4ccfad34b86e84eeb50c0fca96193f2c59\n",
      "Starting extraction for link 45729: https://www.zoopla.co.uk/for-sale/details/65156219/?search_identifier=9c4ee57597de4c73b2537cb6f87e9e4ccfad34b86e84eeb50c0fca96193f2c59\n",
      "An error occurred for link in get_data_func: https://www.zoopla.co.uk/for-sale/details/65156219/?search_identifier=9c4ee57597de4c73b2537cb6f87e9e4ccfad34b86e84eeb50c0fca96193f2c59: Message: no such element: Unable to locate element: {\"method\":\"xpath\",\"selector\":\"//p[@data-testid=\"price\"]\"}\n",
      "  (Session info: chrome=115.0.5790.171); For documentation on this error, please visit: https://www.selenium.dev/documentation/webdriver/troubleshooting/errors#no-such-element-exception\n",
      "Stacktrace:\n",
      "Backtrace:\n",
      "\tGetHandleVerifier [0x0073A813+48355]\n",
      "\t(No symbol) [0x006CC4B1]\n",
      "\t(No symbol) [0x005D5358]\n",
      "\t(No symbol) [0x006009A5]\n",
      "\t(No symbol) [0x00600B3B]\n",
      "\t(No symbol) [0x0062E232]\n",
      "\t(No symbol) [0x0061A784]\n",
      "\t(No symbol) [0x0062C922]\n",
      "\t(No symbol) [0x0061A536]\n",
      "\t(No symbol) [0x005F82DC]\n",
      "\t(No symbol) [0x005F93DD]\n",
      "\tGetHandleVerifier [0x0099AABD+2539405]\n",
      "\tGetHandleVerifier [0x009DA78F+2800735]\n",
      "\tGetHandleVerifier [0x009D456C+2775612]\n",
      "\tGetHandleVerifier [0x007C51E0+616112]\n",
      "\t(No symbol) [0x006D5F8C]\n",
      "\t(No symbol) [0x006D2328]\n",
      "\t(No symbol) [0x006D240B]\n",
      "\t(No symbol) [0x006C4FF7]\n",
      "\tBaseThreadInitThunk [0x761E7D59+25]\n",
      "\tRtlInitializeExceptionChain [0x773DB79B+107]\n",
      "\tRtlClearBits [0x773DB71F+191]\n",
      "\n"
     ]
    },
    {
     "name": "stderr",
     "output_type": "stream",
     "text": [
      "could not detect version_main.therefore, we are assuming it is chrome 108 or higher\n"
     ]
    },
    {
     "name": "stdout",
     "output_type": "stream",
     "text": [
      "Saved to db successfully\n",
      "Done with link 45729: https://www.zoopla.co.uk/for-sale/details/65156219/?search_identifier=9c4ee57597de4c73b2537cb6f87e9e4ccfad34b86e84eeb50c0fca96193f2c59\n",
      "Starting extraction for link 45730: https://www.zoopla.co.uk/for-sale/details/65156091/?search_identifier=9c4ee57597de4c73b2537cb6f87e9e4ccfad34b86e84eeb50c0fca96193f2c59\n",
      "An error occurred for link in get_data_func: https://www.zoopla.co.uk/for-sale/details/65156091/?search_identifier=9c4ee57597de4c73b2537cb6f87e9e4ccfad34b86e84eeb50c0fca96193f2c59: Message: no such element: Unable to locate element: {\"method\":\"xpath\",\"selector\":\"//p[@data-testid=\"price\"]\"}\n",
      "  (Session info: chrome=115.0.5790.171); For documentation on this error, please visit: https://www.selenium.dev/documentation/webdriver/troubleshooting/errors#no-such-element-exception\n",
      "Stacktrace:\n",
      "Backtrace:\n",
      "\tGetHandleVerifier [0x0073A813+48355]\n",
      "\t(No symbol) [0x006CC4B1]\n",
      "\t(No symbol) [0x005D5358]\n",
      "\t(No symbol) [0x006009A5]\n",
      "\t(No symbol) [0x00600B3B]\n",
      "\t(No symbol) [0x0062E232]\n",
      "\t(No symbol) [0x0061A784]\n",
      "\t(No symbol) [0x0062C922]\n",
      "\t(No symbol) [0x0061A536]\n",
      "\t(No symbol) [0x005F82DC]\n",
      "\t(No symbol) [0x005F93DD]\n",
      "\tGetHandleVerifier [0x0099AABD+2539405]\n",
      "\tGetHandleVerifier [0x009DA78F+2800735]\n",
      "\tGetHandleVerifier [0x009D456C+2775612]\n",
      "\tGetHandleVerifier [0x007C51E0+616112]\n",
      "\t(No symbol) [0x006D5F8C]\n",
      "\t(No symbol) [0x006D2328]\n",
      "\t(No symbol) [0x006D240B]\n",
      "\t(No symbol) [0x006C4FF7]\n",
      "\tBaseThreadInitThunk [0x761E7D59+25]\n",
      "\tRtlInitializeExceptionChain [0x773DB79B+107]\n",
      "\tRtlClearBits [0x773DB71F+191]\n",
      "\n"
     ]
    },
    {
     "name": "stderr",
     "output_type": "stream",
     "text": [
      "could not detect version_main.therefore, we are assuming it is chrome 108 or higher\n"
     ]
    },
    {
     "name": "stdout",
     "output_type": "stream",
     "text": [
      "Saved to db successfully\n",
      "Done with link 45730: https://www.zoopla.co.uk/for-sale/details/65156091/?search_identifier=9c4ee57597de4c73b2537cb6f87e9e4ccfad34b86e84eeb50c0fca96193f2c59\n",
      "Starting extraction for link 45731: https://www.zoopla.co.uk/for-sale/details/65155148/?search_identifier=9c4ee57597de4c73b2537cb6f87e9e4ccfad34b86e84eeb50c0fca96193f2c59\n"
     ]
    },
    {
     "name": "stderr",
     "output_type": "stream",
     "text": [
      "could not detect version_main.therefore, we are assuming it is chrome 108 or higher\n"
     ]
    },
    {
     "name": "stdout",
     "output_type": "stream",
     "text": [
      "Saved to db successfully\n",
      "Done with link 45731: https://www.zoopla.co.uk/for-sale/details/65155148/?search_identifier=9c4ee57597de4c73b2537cb6f87e9e4ccfad34b86e84eeb50c0fca96193f2c59\n",
      "Starting extraction for link 45732: https://www.zoopla.co.uk/for-sale/details/65135076/?search_identifier=9c4ee57597de4c73b2537cb6f87e9e4ccfad34b86e84eeb50c0fca96193f2c59\n"
     ]
    },
    {
     "name": "stderr",
     "output_type": "stream",
     "text": [
      "could not detect version_main.therefore, we are assuming it is chrome 108 or higher\n"
     ]
    },
    {
     "name": "stdout",
     "output_type": "stream",
     "text": [
      "Saved to db successfully\n",
      "Done with link 45732: https://www.zoopla.co.uk/for-sale/details/65135076/?search_identifier=9c4ee57597de4c73b2537cb6f87e9e4ccfad34b86e84eeb50c0fca96193f2c59\n",
      "Starting extraction for link 45733: https://www.zoopla.co.uk/for-sale/details/65119226/?search_identifier=c3a4eac9560ff95e38f9aacc49a4d5d7a5994bcc8e66168b74fdeb9d35275be6\n",
      "An error occurred for link in get_data_func: https://www.zoopla.co.uk/for-sale/details/65119226/?search_identifier=c3a4eac9560ff95e38f9aacc49a4d5d7a5994bcc8e66168b74fdeb9d35275be6: Message: no such element: Unable to locate element: {\"method\":\"xpath\",\"selector\":\"//p[@data-testid=\"price\"]\"}\n",
      "  (Session info: chrome=115.0.5790.171); For documentation on this error, please visit: https://www.selenium.dev/documentation/webdriver/troubleshooting/errors#no-such-element-exception\n",
      "Stacktrace:\n",
      "Backtrace:\n",
      "\tGetHandleVerifier [0x0073A813+48355]\n",
      "\t(No symbol) [0x006CC4B1]\n",
      "\t(No symbol) [0x005D5358]\n",
      "\t(No symbol) [0x006009A5]\n",
      "\t(No symbol) [0x00600B3B]\n",
      "\t(No symbol) [0x0062E232]\n",
      "\t(No symbol) [0x0061A784]\n",
      "\t(No symbol) [0x0062C922]\n",
      "\t(No symbol) [0x0061A536]\n",
      "\t(No symbol) [0x005F82DC]\n",
      "\t(No symbol) [0x005F93DD]\n",
      "\tGetHandleVerifier [0x0099AABD+2539405]\n",
      "\tGetHandleVerifier [0x009DA78F+2800735]\n",
      "\tGetHandleVerifier [0x009D456C+2775612]\n",
      "\tGetHandleVerifier [0x007C51E0+616112]\n",
      "\t(No symbol) [0x006D5F8C]\n",
      "\t(No symbol) [0x006D2328]\n",
      "\t(No symbol) [0x006D240B]\n",
      "\t(No symbol) [0x006C4FF7]\n",
      "\tBaseThreadInitThunk [0x761E7D59+25]\n",
      "\tRtlInitializeExceptionChain [0x773DB79B+107]\n",
      "\tRtlClearBits [0x773DB71F+191]\n",
      "\n"
     ]
    },
    {
     "name": "stderr",
     "output_type": "stream",
     "text": [
      "could not detect version_main.therefore, we are assuming it is chrome 108 or higher\n"
     ]
    },
    {
     "name": "stdout",
     "output_type": "stream",
     "text": [
      "Saved to db successfully\n",
      "Done with link 45733: https://www.zoopla.co.uk/for-sale/details/65119226/?search_identifier=c3a4eac9560ff95e38f9aacc49a4d5d7a5994bcc8e66168b74fdeb9d35275be6\n",
      "Starting extraction for link 45734: https://www.zoopla.co.uk/for-sale/details/65111938/?search_identifier=c3a4eac9560ff95e38f9aacc49a4d5d7a5994bcc8e66168b74fdeb9d35275be6\n"
     ]
    },
    {
     "name": "stderr",
     "output_type": "stream",
     "text": [
      "could not detect version_main.therefore, we are assuming it is chrome 108 or higher\n"
     ]
    },
    {
     "name": "stdout",
     "output_type": "stream",
     "text": [
      "Saved to db successfully\n",
      "Done with link 45734: https://www.zoopla.co.uk/for-sale/details/65111938/?search_identifier=c3a4eac9560ff95e38f9aacc49a4d5d7a5994bcc8e66168b74fdeb9d35275be6\n",
      "Starting extraction for link 45735: https://www.zoopla.co.uk/for-sale/details/65105931/?search_identifier=c3a4eac9560ff95e38f9aacc49a4d5d7a5994bcc8e66168b74fdeb9d35275be6\n"
     ]
    },
    {
     "name": "stderr",
     "output_type": "stream",
     "text": [
      "could not detect version_main.therefore, we are assuming it is chrome 108 or higher\n"
     ]
    },
    {
     "name": "stdout",
     "output_type": "stream",
     "text": [
      "Saved to db successfully\n",
      "Done with link 45735: https://www.zoopla.co.uk/for-sale/details/65105931/?search_identifier=c3a4eac9560ff95e38f9aacc49a4d5d7a5994bcc8e66168b74fdeb9d35275be6\n",
      "Starting extraction for link 45736: https://www.zoopla.co.uk/for-sale/details/65094845/?search_identifier=c3a4eac9560ff95e38f9aacc49a4d5d7a5994bcc8e66168b74fdeb9d35275be6\n"
     ]
    },
    {
     "name": "stderr",
     "output_type": "stream",
     "text": [
      "could not detect version_main.therefore, we are assuming it is chrome 108 or higher\n"
     ]
    },
    {
     "name": "stdout",
     "output_type": "stream",
     "text": [
      "Saved to db successfully\n",
      "Done with link 45736: https://www.zoopla.co.uk/for-sale/details/65094845/?search_identifier=c3a4eac9560ff95e38f9aacc49a4d5d7a5994bcc8e66168b74fdeb9d35275be6\n",
      "Starting extraction for link 45737: https://www.zoopla.co.uk/for-sale/details/65089572/?search_identifier=c3a4eac9560ff95e38f9aacc49a4d5d7a5994bcc8e66168b74fdeb9d35275be6\n"
     ]
    },
    {
     "name": "stderr",
     "output_type": "stream",
     "text": [
      "could not detect version_main.therefore, we are assuming it is chrome 108 or higher\n"
     ]
    },
    {
     "name": "stdout",
     "output_type": "stream",
     "text": [
      "Saved to db successfully\n",
      "Done with link 45737: https://www.zoopla.co.uk/for-sale/details/65089572/?search_identifier=c3a4eac9560ff95e38f9aacc49a4d5d7a5994bcc8e66168b74fdeb9d35275be6\n",
      "Starting extraction for link 45738: https://www.zoopla.co.uk/for-sale/details/65089564/?search_identifier=c3a4eac9560ff95e38f9aacc49a4d5d7a5994bcc8e66168b74fdeb9d35275be6\n"
     ]
    },
    {
     "name": "stderr",
     "output_type": "stream",
     "text": [
      "could not detect version_main.therefore, we are assuming it is chrome 108 or higher\n"
     ]
    },
    {
     "name": "stdout",
     "output_type": "stream",
     "text": [
      "Saved to db successfully\n",
      "Done with link 45738: https://www.zoopla.co.uk/for-sale/details/65089564/?search_identifier=c3a4eac9560ff95e38f9aacc49a4d5d7a5994bcc8e66168b74fdeb9d35275be6\n",
      "Starting extraction for link 45739: https://www.zoopla.co.uk/for-sale/details/65088925/?search_identifier=c3a4eac9560ff95e38f9aacc49a4d5d7a5994bcc8e66168b74fdeb9d35275be6\n"
     ]
    },
    {
     "name": "stderr",
     "output_type": "stream",
     "text": [
      "could not detect version_main.therefore, we are assuming it is chrome 108 or higher\n"
     ]
    },
    {
     "name": "stdout",
     "output_type": "stream",
     "text": [
      "Saved to db successfully\n",
      "Done with link 45739: https://www.zoopla.co.uk/for-sale/details/65088925/?search_identifier=c3a4eac9560ff95e38f9aacc49a4d5d7a5994bcc8e66168b74fdeb9d35275be6\n",
      "Starting extraction for link 45740: https://www.zoopla.co.uk/for-sale/details/65086889/?search_identifier=c3a4eac9560ff95e38f9aacc49a4d5d7a5994bcc8e66168b74fdeb9d35275be6\n"
     ]
    },
    {
     "name": "stderr",
     "output_type": "stream",
     "text": [
      "could not detect version_main.therefore, we are assuming it is chrome 108 or higher\n"
     ]
    },
    {
     "name": "stdout",
     "output_type": "stream",
     "text": [
      "Saved to db successfully\n",
      "Done with link 45740: https://www.zoopla.co.uk/for-sale/details/65086889/?search_identifier=c3a4eac9560ff95e38f9aacc49a4d5d7a5994bcc8e66168b74fdeb9d35275be6\n",
      "Starting extraction for link 45741: https://www.zoopla.co.uk/for-sale/details/65203256/?search_identifier=c3a4eac9560ff95e38f9aacc49a4d5d7a5994bcc8e66168b74fdeb9d35275be6\n"
     ]
    },
    {
     "name": "stderr",
     "output_type": "stream",
     "text": [
      "could not detect version_main.therefore, we are assuming it is chrome 108 or higher\n"
     ]
    },
    {
     "name": "stdout",
     "output_type": "stream",
     "text": [
      "Saved to db successfully\n",
      "Done with link 45741: https://www.zoopla.co.uk/for-sale/details/65203256/?search_identifier=c3a4eac9560ff95e38f9aacc49a4d5d7a5994bcc8e66168b74fdeb9d35275be6\n",
      "Starting extraction for link 45742: https://www.zoopla.co.uk/for-sale/details/65077845/?search_identifier=c3a4eac9560ff95e38f9aacc49a4d5d7a5994bcc8e66168b74fdeb9d35275be6\n"
     ]
    },
    {
     "name": "stderr",
     "output_type": "stream",
     "text": [
      "could not detect version_main.therefore, we are assuming it is chrome 108 or higher\n"
     ]
    },
    {
     "name": "stdout",
     "output_type": "stream",
     "text": [
      "Saved to db successfully\n",
      "Done with link 45742: https://www.zoopla.co.uk/for-sale/details/65077845/?search_identifier=c3a4eac9560ff95e38f9aacc49a4d5d7a5994bcc8e66168b74fdeb9d35275be6\n",
      "Starting extraction for link 45743: https://www.zoopla.co.uk/for-sale/details/65067506/?search_identifier=c3a4eac9560ff95e38f9aacc49a4d5d7a5994bcc8e66168b74fdeb9d35275be6\n"
     ]
    },
    {
     "name": "stderr",
     "output_type": "stream",
     "text": [
      "could not detect version_main.therefore, we are assuming it is chrome 108 or higher\n"
     ]
    },
    {
     "name": "stdout",
     "output_type": "stream",
     "text": [
      "Saved to db successfully\n",
      "Done with link 45743: https://www.zoopla.co.uk/for-sale/details/65067506/?search_identifier=c3a4eac9560ff95e38f9aacc49a4d5d7a5994bcc8e66168b74fdeb9d35275be6\n",
      "Starting extraction for link 45744: https://www.zoopla.co.uk/for-sale/details/65063746/?search_identifier=c3a4eac9560ff95e38f9aacc49a4d5d7a5994bcc8e66168b74fdeb9d35275be6\n"
     ]
    },
    {
     "name": "stderr",
     "output_type": "stream",
     "text": [
      "could not detect version_main.therefore, we are assuming it is chrome 108 or higher\n"
     ]
    },
    {
     "name": "stdout",
     "output_type": "stream",
     "text": [
      "Saved to db successfully\n",
      "Done with link 45744: https://www.zoopla.co.uk/for-sale/details/65063746/?search_identifier=c3a4eac9560ff95e38f9aacc49a4d5d7a5994bcc8e66168b74fdeb9d35275be6\n",
      "Starting extraction for link 45745: https://www.zoopla.co.uk/for-sale/details/65058314/?search_identifier=c3a4eac9560ff95e38f9aacc49a4d5d7a5994bcc8e66168b74fdeb9d35275be6\n"
     ]
    },
    {
     "name": "stderr",
     "output_type": "stream",
     "text": [
      "could not detect version_main.therefore, we are assuming it is chrome 108 or higher\n"
     ]
    },
    {
     "name": "stdout",
     "output_type": "stream",
     "text": [
      "Saved to db successfully\n",
      "Done with link 45745: https://www.zoopla.co.uk/for-sale/details/65058314/?search_identifier=c3a4eac9560ff95e38f9aacc49a4d5d7a5994bcc8e66168b74fdeb9d35275be6\n",
      "Starting extraction for link 45746: https://www.zoopla.co.uk/for-sale/details/65057727/?search_identifier=c3a4eac9560ff95e38f9aacc49a4d5d7a5994bcc8e66168b74fdeb9d35275be6\n"
     ]
    },
    {
     "name": "stderr",
     "output_type": "stream",
     "text": [
      "could not detect version_main.therefore, we are assuming it is chrome 108 or higher\n"
     ]
    },
    {
     "name": "stdout",
     "output_type": "stream",
     "text": [
      "Saved to db successfully\n",
      "Done with link 45746: https://www.zoopla.co.uk/for-sale/details/65057727/?search_identifier=c3a4eac9560ff95e38f9aacc49a4d5d7a5994bcc8e66168b74fdeb9d35275be6\n",
      "Starting extraction for link 45747: https://www.zoopla.co.uk/for-sale/details/65055673/?search_identifier=c3a4eac9560ff95e38f9aacc49a4d5d7a5994bcc8e66168b74fdeb9d35275be6\n"
     ]
    },
    {
     "name": "stderr",
     "output_type": "stream",
     "text": [
      "could not detect version_main.therefore, we are assuming it is chrome 108 or higher\n"
     ]
    },
    {
     "name": "stdout",
     "output_type": "stream",
     "text": [
      "Saved to db successfully\n",
      "Done with link 45747: https://www.zoopla.co.uk/for-sale/details/65055673/?search_identifier=c3a4eac9560ff95e38f9aacc49a4d5d7a5994bcc8e66168b74fdeb9d35275be6\n",
      "Starting extraction for link 45748: https://www.zoopla.co.uk/for-sale/details/65055244/?search_identifier=c3a4eac9560ff95e38f9aacc49a4d5d7a5994bcc8e66168b74fdeb9d35275be6\n",
      "An error occurred for link in get_data_func: https://www.zoopla.co.uk/for-sale/details/65055244/?search_identifier=c3a4eac9560ff95e38f9aacc49a4d5d7a5994bcc8e66168b74fdeb9d35275be6: Message: no such element: Unable to locate element: {\"method\":\"xpath\",\"selector\":\"//p[@data-testid=\"price\"]\"}\n",
      "  (Session info: chrome=115.0.5790.171); For documentation on this error, please visit: https://www.selenium.dev/documentation/webdriver/troubleshooting/errors#no-such-element-exception\n",
      "Stacktrace:\n",
      "Backtrace:\n",
      "\tGetHandleVerifier [0x0073A813+48355]\n",
      "\t(No symbol) [0x006CC4B1]\n",
      "\t(No symbol) [0x005D5358]\n",
      "\t(No symbol) [0x006009A5]\n",
      "\t(No symbol) [0x00600B3B]\n",
      "\t(No symbol) [0x0062E232]\n",
      "\t(No symbol) [0x0061A784]\n",
      "\t(No symbol) [0x0062C922]\n",
      "\t(No symbol) [0x0061A536]\n",
      "\t(No symbol) [0x005F82DC]\n",
      "\t(No symbol) [0x005F93DD]\n",
      "\tGetHandleVerifier [0x0099AABD+2539405]\n",
      "\tGetHandleVerifier [0x009DA78F+2800735]\n",
      "\tGetHandleVerifier [0x009D456C+2775612]\n",
      "\tGetHandleVerifier [0x007C51E0+616112]\n",
      "\t(No symbol) [0x006D5F8C]\n",
      "\t(No symbol) [0x006D2328]\n",
      "\t(No symbol) [0x006D240B]\n",
      "\t(No symbol) [0x006C4FF7]\n",
      "\tBaseThreadInitThunk [0x761E7D59+25]\n",
      "\tRtlInitializeExceptionChain [0x773DB79B+107]\n",
      "\tRtlClearBits [0x773DB71F+191]\n",
      "\n"
     ]
    },
    {
     "name": "stderr",
     "output_type": "stream",
     "text": [
      "could not detect version_main.therefore, we are assuming it is chrome 108 or higher\n"
     ]
    },
    {
     "name": "stdout",
     "output_type": "stream",
     "text": [
      "Saved to db successfully\n",
      "Done with link 45748: https://www.zoopla.co.uk/for-sale/details/65055244/?search_identifier=c3a4eac9560ff95e38f9aacc49a4d5d7a5994bcc8e66168b74fdeb9d35275be6\n",
      "Starting extraction for link 45749: https://www.zoopla.co.uk/for-sale/details/65046445/?search_identifier=c3a4eac9560ff95e38f9aacc49a4d5d7a5994bcc8e66168b74fdeb9d35275be6\n"
     ]
    },
    {
     "name": "stderr",
     "output_type": "stream",
     "text": [
      "could not detect version_main.therefore, we are assuming it is chrome 108 or higher\n"
     ]
    },
    {
     "name": "stdout",
     "output_type": "stream",
     "text": [
      "Saved to db successfully\n",
      "Done with link 45749: https://www.zoopla.co.uk/for-sale/details/65046445/?search_identifier=c3a4eac9560ff95e38f9aacc49a4d5d7a5994bcc8e66168b74fdeb9d35275be6\n",
      "Starting extraction for link 45750: https://www.zoopla.co.uk/for-sale/details/65020448/?search_identifier=c3a4eac9560ff95e38f9aacc49a4d5d7a5994bcc8e66168b74fdeb9d35275be6\n"
     ]
    },
    {
     "name": "stderr",
     "output_type": "stream",
     "text": [
      "could not detect version_main.therefore, we are assuming it is chrome 108 or higher\n"
     ]
    },
    {
     "name": "stdout",
     "output_type": "stream",
     "text": [
      "Saved to db successfully\n",
      "Done with link 45750: https://www.zoopla.co.uk/for-sale/details/65020448/?search_identifier=c3a4eac9560ff95e38f9aacc49a4d5d7a5994bcc8e66168b74fdeb9d35275be6\n",
      "Starting extraction for link 45751: https://www.zoopla.co.uk/for-sale/details/65017961/?search_identifier=c3a4eac9560ff95e38f9aacc49a4d5d7a5994bcc8e66168b74fdeb9d35275be6\n"
     ]
    },
    {
     "name": "stderr",
     "output_type": "stream",
     "text": [
      "could not detect version_main.therefore, we are assuming it is chrome 108 or higher\n"
     ]
    },
    {
     "name": "stdout",
     "output_type": "stream",
     "text": [
      "Saved to db successfully\n",
      "Done with link 45751: https://www.zoopla.co.uk/for-sale/details/65017961/?search_identifier=c3a4eac9560ff95e38f9aacc49a4d5d7a5994bcc8e66168b74fdeb9d35275be6\n",
      "Starting extraction for link 45752: https://www.zoopla.co.uk/for-sale/details/65010166/?search_identifier=c3a4eac9560ff95e38f9aacc49a4d5d7a5994bcc8e66168b74fdeb9d35275be6\n",
      "An error occurred for link in get_data_func: https://www.zoopla.co.uk/for-sale/details/65010166/?search_identifier=c3a4eac9560ff95e38f9aacc49a4d5d7a5994bcc8e66168b74fdeb9d35275be6: Message: no such element: Unable to locate element: {\"method\":\"xpath\",\"selector\":\"//p[@data-testid=\"price\"]\"}\n",
      "  (Session info: chrome=115.0.5790.171); For documentation on this error, please visit: https://www.selenium.dev/documentation/webdriver/troubleshooting/errors#no-such-element-exception\n",
      "Stacktrace:\n",
      "Backtrace:\n",
      "\tGetHandleVerifier [0x0073A813+48355]\n",
      "\t(No symbol) [0x006CC4B1]\n",
      "\t(No symbol) [0x005D5358]\n",
      "\t(No symbol) [0x006009A5]\n",
      "\t(No symbol) [0x00600B3B]\n",
      "\t(No symbol) [0x0062E232]\n",
      "\t(No symbol) [0x0061A784]\n",
      "\t(No symbol) [0x0062C922]\n",
      "\t(No symbol) [0x0061A536]\n",
      "\t(No symbol) [0x005F82DC]\n",
      "\t(No symbol) [0x005F93DD]\n",
      "\tGetHandleVerifier [0x0099AABD+2539405]\n",
      "\tGetHandleVerifier [0x009DA78F+2800735]\n",
      "\tGetHandleVerifier [0x009D456C+2775612]\n",
      "\tGetHandleVerifier [0x007C51E0+616112]\n",
      "\t(No symbol) [0x006D5F8C]\n",
      "\t(No symbol) [0x006D2328]\n",
      "\t(No symbol) [0x006D240B]\n",
      "\t(No symbol) [0x006C4FF7]\n",
      "\tBaseThreadInitThunk [0x761E7D59+25]\n",
      "\tRtlInitializeExceptionChain [0x773DB79B+107]\n",
      "\tRtlClearBits [0x773DB71F+191]\n",
      "\n"
     ]
    },
    {
     "name": "stderr",
     "output_type": "stream",
     "text": [
      "could not detect version_main.therefore, we are assuming it is chrome 108 or higher\n"
     ]
    },
    {
     "name": "stdout",
     "output_type": "stream",
     "text": [
      "Saved to db successfully\n",
      "Done with link 45752: https://www.zoopla.co.uk/for-sale/details/65010166/?search_identifier=c3a4eac9560ff95e38f9aacc49a4d5d7a5994bcc8e66168b74fdeb9d35275be6\n",
      "Starting extraction for link 45753: https://www.zoopla.co.uk/for-sale/details/65008581/?search_identifier=c3a4eac9560ff95e38f9aacc49a4d5d7a5994bcc8e66168b74fdeb9d35275be6\n"
     ]
    },
    {
     "name": "stderr",
     "output_type": "stream",
     "text": [
      "could not detect version_main.therefore, we are assuming it is chrome 108 or higher\n"
     ]
    },
    {
     "name": "stdout",
     "output_type": "stream",
     "text": [
      "Saved to db successfully\n",
      "Done with link 45753: https://www.zoopla.co.uk/for-sale/details/65008581/?search_identifier=c3a4eac9560ff95e38f9aacc49a4d5d7a5994bcc8e66168b74fdeb9d35275be6\n",
      "Starting extraction for link 45754: https://www.zoopla.co.uk/for-sale/details/65007925/?search_identifier=c3a4eac9560ff95e38f9aacc49a4d5d7a5994bcc8e66168b74fdeb9d35275be6\n"
     ]
    },
    {
     "name": "stderr",
     "output_type": "stream",
     "text": [
      "could not detect version_main.therefore, we are assuming it is chrome 108 or higher\n"
     ]
    },
    {
     "name": "stdout",
     "output_type": "stream",
     "text": [
      "Saved to db successfully\n",
      "Done with link 45754: https://www.zoopla.co.uk/for-sale/details/65007925/?search_identifier=c3a4eac9560ff95e38f9aacc49a4d5d7a5994bcc8e66168b74fdeb9d35275be6\n",
      "Starting extraction for link 45755: https://www.zoopla.co.uk/for-sale/details/64998277/?search_identifier=c3a4eac9560ff95e38f9aacc49a4d5d7a5994bcc8e66168b74fdeb9d35275be6\n"
     ]
    },
    {
     "name": "stderr",
     "output_type": "stream",
     "text": [
      "could not detect version_main.therefore, we are assuming it is chrome 108 or higher\n"
     ]
    },
    {
     "name": "stdout",
     "output_type": "stream",
     "text": [
      "Saved to db successfully\n",
      "Done with link 45755: https://www.zoopla.co.uk/for-sale/details/64998277/?search_identifier=c3a4eac9560ff95e38f9aacc49a4d5d7a5994bcc8e66168b74fdeb9d35275be6\n",
      "Starting extraction for link 45756: https://www.zoopla.co.uk/for-sale/details/64987764/?search_identifier=c3a4eac9560ff95e38f9aacc49a4d5d7a5994bcc8e66168b74fdeb9d35275be6\n"
     ]
    },
    {
     "name": "stderr",
     "output_type": "stream",
     "text": [
      "could not detect version_main.therefore, we are assuming it is chrome 108 or higher\n"
     ]
    },
    {
     "name": "stdout",
     "output_type": "stream",
     "text": [
      "Saved to db successfully\n",
      "Done with link 45756: https://www.zoopla.co.uk/for-sale/details/64987764/?search_identifier=c3a4eac9560ff95e38f9aacc49a4d5d7a5994bcc8e66168b74fdeb9d35275be6\n",
      "Starting extraction for link 45757: https://www.zoopla.co.uk/for-sale/details/64986273/?search_identifier=c3a4eac9560ff95e38f9aacc49a4d5d7a5994bcc8e66168b74fdeb9d35275be6\n"
     ]
    },
    {
     "name": "stderr",
     "output_type": "stream",
     "text": [
      "could not detect version_main.therefore, we are assuming it is chrome 108 or higher\n"
     ]
    },
    {
     "name": "stdout",
     "output_type": "stream",
     "text": [
      "Saved to db successfully\n",
      "Done with link 45757: https://www.zoopla.co.uk/for-sale/details/64986273/?search_identifier=c3a4eac9560ff95e38f9aacc49a4d5d7a5994bcc8e66168b74fdeb9d35275be6\n",
      "Starting extraction for link 45758: https://www.zoopla.co.uk/for-sale/details/64976624/?search_identifier=92ca4fe980e0440297c990bd75bdff05a90b97b7d6a948243dd36a808d54d87b\n"
     ]
    },
    {
     "name": "stderr",
     "output_type": "stream",
     "text": [
      "could not detect version_main.therefore, we are assuming it is chrome 108 or higher\n"
     ]
    },
    {
     "name": "stdout",
     "output_type": "stream",
     "text": [
      "Saved to db successfully\n",
      "Done with link 45758: https://www.zoopla.co.uk/for-sale/details/64976624/?search_identifier=92ca4fe980e0440297c990bd75bdff05a90b97b7d6a948243dd36a808d54d87b\n",
      "Starting extraction for link 45759: https://www.zoopla.co.uk/for-sale/details/64870559/?search_identifier=92ca4fe980e0440297c990bd75bdff05a90b97b7d6a948243dd36a808d54d87b\n"
     ]
    },
    {
     "name": "stderr",
     "output_type": "stream",
     "text": [
      "could not detect version_main.therefore, we are assuming it is chrome 108 or higher\n"
     ]
    },
    {
     "name": "stdout",
     "output_type": "stream",
     "text": [
      "Saved to db successfully\n",
      "Done with link 45759: https://www.zoopla.co.uk/for-sale/details/64870559/?search_identifier=92ca4fe980e0440297c990bd75bdff05a90b97b7d6a948243dd36a808d54d87b\n",
      "Starting extraction for link 45760: https://www.zoopla.co.uk/for-sale/details/64965128/?search_identifier=92ca4fe980e0440297c990bd75bdff05a90b97b7d6a948243dd36a808d54d87b\n"
     ]
    },
    {
     "name": "stderr",
     "output_type": "stream",
     "text": [
      "could not detect version_main.therefore, we are assuming it is chrome 108 or higher\n"
     ]
    },
    {
     "name": "stdout",
     "output_type": "stream",
     "text": [
      "Saved to db successfully\n",
      "Done with link 45760: https://www.zoopla.co.uk/for-sale/details/64965128/?search_identifier=92ca4fe980e0440297c990bd75bdff05a90b97b7d6a948243dd36a808d54d87b\n",
      "Starting extraction for link 45761: https://www.zoopla.co.uk/for-sale/details/64961593/?search_identifier=92ca4fe980e0440297c990bd75bdff05a90b97b7d6a948243dd36a808d54d87b\n"
     ]
    },
    {
     "name": "stderr",
     "output_type": "stream",
     "text": [
      "could not detect version_main.therefore, we are assuming it is chrome 108 or higher\n"
     ]
    },
    {
     "name": "stdout",
     "output_type": "stream",
     "text": [
      "Saved to db successfully\n",
      "Done with link 45761: https://www.zoopla.co.uk/for-sale/details/64961593/?search_identifier=92ca4fe980e0440297c990bd75bdff05a90b97b7d6a948243dd36a808d54d87b\n",
      "Starting extraction for link 45762: https://www.zoopla.co.uk/for-sale/details/64961343/?search_identifier=92ca4fe980e0440297c990bd75bdff05a90b97b7d6a948243dd36a808d54d87b\n",
      "An error occurred for link in get_data_func: https://www.zoopla.co.uk/for-sale/details/64961343/?search_identifier=92ca4fe980e0440297c990bd75bdff05a90b97b7d6a948243dd36a808d54d87b: Message: no such element: Unable to locate element: {\"method\":\"xpath\",\"selector\":\"//p[@data-testid=\"price\"]\"}\n",
      "  (Session info: chrome=115.0.5790.171); For documentation on this error, please visit: https://www.selenium.dev/documentation/webdriver/troubleshooting/errors#no-such-element-exception\n",
      "Stacktrace:\n",
      "Backtrace:\n",
      "\tGetHandleVerifier [0x0073A813+48355]\n",
      "\t(No symbol) [0x006CC4B1]\n",
      "\t(No symbol) [0x005D5358]\n",
      "\t(No symbol) [0x006009A5]\n",
      "\t(No symbol) [0x00600B3B]\n",
      "\t(No symbol) [0x0062E232]\n",
      "\t(No symbol) [0x0061A784]\n",
      "\t(No symbol) [0x0062C922]\n",
      "\t(No symbol) [0x0061A536]\n",
      "\t(No symbol) [0x005F82DC]\n",
      "\t(No symbol) [0x005F93DD]\n",
      "\tGetHandleVerifier [0x0099AABD+2539405]\n",
      "\tGetHandleVerifier [0x009DA78F+2800735]\n",
      "\tGetHandleVerifier [0x009D456C+2775612]\n",
      "\tGetHandleVerifier [0x007C51E0+616112]\n",
      "\t(No symbol) [0x006D5F8C]\n",
      "\t(No symbol) [0x006D2328]\n",
      "\t(No symbol) [0x006D240B]\n",
      "\t(No symbol) [0x006C4FF7]\n",
      "\tBaseThreadInitThunk [0x761E7D59+25]\n",
      "\tRtlInitializeExceptionChain [0x773DB79B+107]\n",
      "\tRtlClearBits [0x773DB71F+191]\n",
      "\n"
     ]
    },
    {
     "name": "stderr",
     "output_type": "stream",
     "text": [
      "could not detect version_main.therefore, we are assuming it is chrome 108 or higher\n"
     ]
    },
    {
     "name": "stdout",
     "output_type": "stream",
     "text": [
      "Saved to db successfully\n",
      "Done with link 45762: https://www.zoopla.co.uk/for-sale/details/64961343/?search_identifier=92ca4fe980e0440297c990bd75bdff05a90b97b7d6a948243dd36a808d54d87b\n",
      "Starting extraction for link 45763: https://www.zoopla.co.uk/for-sale/details/64957988/?search_identifier=92ca4fe980e0440297c990bd75bdff05a90b97b7d6a948243dd36a808d54d87b\n"
     ]
    },
    {
     "name": "stderr",
     "output_type": "stream",
     "text": [
      "could not detect version_main.therefore, we are assuming it is chrome 108 or higher\n"
     ]
    },
    {
     "name": "stdout",
     "output_type": "stream",
     "text": [
      "Saved to db successfully\n",
      "Done with link 45763: https://www.zoopla.co.uk/for-sale/details/64957988/?search_identifier=92ca4fe980e0440297c990bd75bdff05a90b97b7d6a948243dd36a808d54d87b\n",
      "Starting extraction for link 45764: https://www.zoopla.co.uk/for-sale/details/64957208/?search_identifier=92ca4fe980e0440297c990bd75bdff05a90b97b7d6a948243dd36a808d54d87b\n",
      "An error occurred for link in get_data_func: https://www.zoopla.co.uk/for-sale/details/64957208/?search_identifier=92ca4fe980e0440297c990bd75bdff05a90b97b7d6a948243dd36a808d54d87b: Message: no such element: Unable to locate element: {\"method\":\"xpath\",\"selector\":\"//p[@data-testid=\"price\"]\"}\n",
      "  (Session info: chrome=115.0.5790.171); For documentation on this error, please visit: https://www.selenium.dev/documentation/webdriver/troubleshooting/errors#no-such-element-exception\n",
      "Stacktrace:\n",
      "Backtrace:\n",
      "\tGetHandleVerifier [0x0073A813+48355]\n",
      "\t(No symbol) [0x006CC4B1]\n",
      "\t(No symbol) [0x005D5358]\n",
      "\t(No symbol) [0x006009A5]\n",
      "\t(No symbol) [0x00600B3B]\n",
      "\t(No symbol) [0x0062E232]\n",
      "\t(No symbol) [0x0061A784]\n",
      "\t(No symbol) [0x0062C922]\n",
      "\t(No symbol) [0x0061A536]\n",
      "\t(No symbol) [0x005F82DC]\n",
      "\t(No symbol) [0x005F93DD]\n",
      "\tGetHandleVerifier [0x0099AABD+2539405]\n",
      "\tGetHandleVerifier [0x009DA78F+2800735]\n",
      "\tGetHandleVerifier [0x009D456C+2775612]\n",
      "\tGetHandleVerifier [0x007C51E0+616112]\n",
      "\t(No symbol) [0x006D5F8C]\n",
      "\t(No symbol) [0x006D2328]\n",
      "\t(No symbol) [0x006D240B]\n",
      "\t(No symbol) [0x006C4FF7]\n",
      "\tBaseThreadInitThunk [0x761E7D59+25]\n",
      "\tRtlInitializeExceptionChain [0x773DB79B+107]\n",
      "\tRtlClearBits [0x773DB71F+191]\n",
      "\n"
     ]
    },
    {
     "name": "stderr",
     "output_type": "stream",
     "text": [
      "could not detect version_main.therefore, we are assuming it is chrome 108 or higher\n"
     ]
    },
    {
     "name": "stdout",
     "output_type": "stream",
     "text": [
      "Saved to db successfully\n",
      "Done with link 45764: https://www.zoopla.co.uk/for-sale/details/64957208/?search_identifier=92ca4fe980e0440297c990bd75bdff05a90b97b7d6a948243dd36a808d54d87b\n",
      "Starting extraction for link 45765: https://www.zoopla.co.uk/for-sale/details/64955424/?search_identifier=92ca4fe980e0440297c990bd75bdff05a90b97b7d6a948243dd36a808d54d87b\n"
     ]
    },
    {
     "name": "stderr",
     "output_type": "stream",
     "text": [
      "could not detect version_main.therefore, we are assuming it is chrome 108 or higher\n"
     ]
    },
    {
     "name": "stdout",
     "output_type": "stream",
     "text": [
      "Saved to db successfully\n",
      "Done with link 45765: https://www.zoopla.co.uk/for-sale/details/64955424/?search_identifier=92ca4fe980e0440297c990bd75bdff05a90b97b7d6a948243dd36a808d54d87b\n",
      "Starting extraction for link 45766: https://www.zoopla.co.uk/for-sale/details/64954650/?search_identifier=92ca4fe980e0440297c990bd75bdff05a90b97b7d6a948243dd36a808d54d87b\n"
     ]
    },
    {
     "name": "stderr",
     "output_type": "stream",
     "text": [
      "could not detect version_main.therefore, we are assuming it is chrome 108 or higher\n"
     ]
    },
    {
     "name": "stdout",
     "output_type": "stream",
     "text": [
      "Saved to db successfully\n",
      "Done with link 45766: https://www.zoopla.co.uk/for-sale/details/64954650/?search_identifier=92ca4fe980e0440297c990bd75bdff05a90b97b7d6a948243dd36a808d54d87b\n",
      "Starting extraction for link 45767: https://www.zoopla.co.uk/for-sale/details/64954176/?search_identifier=92ca4fe980e0440297c990bd75bdff05a90b97b7d6a948243dd36a808d54d87b\n"
     ]
    },
    {
     "name": "stderr",
     "output_type": "stream",
     "text": [
      "could not detect version_main.therefore, we are assuming it is chrome 108 or higher\n"
     ]
    },
    {
     "name": "stdout",
     "output_type": "stream",
     "text": [
      "Saved to db successfully\n",
      "Done with link 45767: https://www.zoopla.co.uk/for-sale/details/64954176/?search_identifier=92ca4fe980e0440297c990bd75bdff05a90b97b7d6a948243dd36a808d54d87b\n",
      "Starting extraction for link 45768: https://www.zoopla.co.uk/for-sale/details/64950632/?search_identifier=92ca4fe980e0440297c990bd75bdff05a90b97b7d6a948243dd36a808d54d87b\n"
     ]
    },
    {
     "name": "stderr",
     "output_type": "stream",
     "text": [
      "could not detect version_main.therefore, we are assuming it is chrome 108 or higher\n"
     ]
    },
    {
     "name": "stdout",
     "output_type": "stream",
     "text": [
      "Saved to db successfully\n",
      "Done with link 45768: https://www.zoopla.co.uk/for-sale/details/64950632/?search_identifier=92ca4fe980e0440297c990bd75bdff05a90b97b7d6a948243dd36a808d54d87b\n",
      "Starting extraction for link 45769: https://www.zoopla.co.uk/for-sale/details/64944719/?search_identifier=92ca4fe980e0440297c990bd75bdff05a90b97b7d6a948243dd36a808d54d87b\n"
     ]
    },
    {
     "name": "stderr",
     "output_type": "stream",
     "text": [
      "could not detect version_main.therefore, we are assuming it is chrome 108 or higher\n"
     ]
    },
    {
     "name": "stdout",
     "output_type": "stream",
     "text": [
      "Saved to db successfully\n",
      "Done with link 45769: https://www.zoopla.co.uk/for-sale/details/64944719/?search_identifier=92ca4fe980e0440297c990bd75bdff05a90b97b7d6a948243dd36a808d54d87b\n",
      "Starting extraction for link 45770: https://www.zoopla.co.uk/for-sale/details/64935001/?search_identifier=92ca4fe980e0440297c990bd75bdff05a90b97b7d6a948243dd36a808d54d87b\n"
     ]
    },
    {
     "name": "stderr",
     "output_type": "stream",
     "text": [
      "could not detect version_main.therefore, we are assuming it is chrome 108 or higher\n"
     ]
    },
    {
     "name": "stdout",
     "output_type": "stream",
     "text": [
      "Saved to db successfully\n",
      "Done with link 45770: https://www.zoopla.co.uk/for-sale/details/64935001/?search_identifier=92ca4fe980e0440297c990bd75bdff05a90b97b7d6a948243dd36a808d54d87b\n",
      "Starting extraction for link 45771: https://www.zoopla.co.uk/for-sale/details/62039153/?search_identifier=92ca4fe980e0440297c990bd75bdff05a90b97b7d6a948243dd36a808d54d87b\n"
     ]
    },
    {
     "name": "stderr",
     "output_type": "stream",
     "text": [
      "could not detect version_main.therefore, we are assuming it is chrome 108 or higher\n"
     ]
    },
    {
     "name": "stdout",
     "output_type": "stream",
     "text": [
      "Saved to db successfully\n",
      "Done with link 45771: https://www.zoopla.co.uk/for-sale/details/62039153/?search_identifier=92ca4fe980e0440297c990bd75bdff05a90b97b7d6a948243dd36a808d54d87b\n",
      "Starting extraction for link 45772: https://www.zoopla.co.uk/for-sale/details/64933523/?search_identifier=92ca4fe980e0440297c990bd75bdff05a90b97b7d6a948243dd36a808d54d87b\n"
     ]
    },
    {
     "name": "stderr",
     "output_type": "stream",
     "text": [
      "could not detect version_main.therefore, we are assuming it is chrome 108 or higher\n"
     ]
    },
    {
     "name": "stdout",
     "output_type": "stream",
     "text": [
      "Saved to db successfully\n",
      "Done with link 45772: https://www.zoopla.co.uk/for-sale/details/64933523/?search_identifier=92ca4fe980e0440297c990bd75bdff05a90b97b7d6a948243dd36a808d54d87b\n",
      "Starting extraction for link 45773: https://www.zoopla.co.uk/for-sale/details/64931983/?search_identifier=92ca4fe980e0440297c990bd75bdff05a90b97b7d6a948243dd36a808d54d87b\n"
     ]
    },
    {
     "name": "stderr",
     "output_type": "stream",
     "text": [
      "could not detect version_main.therefore, we are assuming it is chrome 108 or higher\n"
     ]
    },
    {
     "name": "stdout",
     "output_type": "stream",
     "text": [
      "Saved to db successfully\n",
      "Done with link 45773: https://www.zoopla.co.uk/for-sale/details/64931983/?search_identifier=92ca4fe980e0440297c990bd75bdff05a90b97b7d6a948243dd36a808d54d87b\n",
      "Starting extraction for link 45774: https://www.zoopla.co.uk/for-sale/details/64928238/?search_identifier=92ca4fe980e0440297c990bd75bdff05a90b97b7d6a948243dd36a808d54d87b\n"
     ]
    },
    {
     "name": "stderr",
     "output_type": "stream",
     "text": [
      "could not detect version_main.therefore, we are assuming it is chrome 108 or higher\n"
     ]
    },
    {
     "name": "stdout",
     "output_type": "stream",
     "text": [
      "Saved to db successfully\n",
      "Done with link 45774: https://www.zoopla.co.uk/for-sale/details/64928238/?search_identifier=92ca4fe980e0440297c990bd75bdff05a90b97b7d6a948243dd36a808d54d87b\n",
      "Starting extraction for link 45775: https://www.zoopla.co.uk/for-sale/details/64924359/?search_identifier=92ca4fe980e0440297c990bd75bdff05a90b97b7d6a948243dd36a808d54d87b\n"
     ]
    },
    {
     "name": "stderr",
     "output_type": "stream",
     "text": [
      "could not detect version_main.therefore, we are assuming it is chrome 108 or higher\n"
     ]
    },
    {
     "name": "stdout",
     "output_type": "stream",
     "text": [
      "Saved to db successfully\n",
      "Done with link 45775: https://www.zoopla.co.uk/for-sale/details/64924359/?search_identifier=92ca4fe980e0440297c990bd75bdff05a90b97b7d6a948243dd36a808d54d87b\n",
      "Starting extraction for link 45776: https://www.zoopla.co.uk/for-sale/details/64918070/?search_identifier=92ca4fe980e0440297c990bd75bdff05a90b97b7d6a948243dd36a808d54d87b\n"
     ]
    },
    {
     "name": "stderr",
     "output_type": "stream",
     "text": [
      "could not detect version_main.therefore, we are assuming it is chrome 108 or higher\n"
     ]
    },
    {
     "name": "stdout",
     "output_type": "stream",
     "text": [
      "Saved to db successfully\n",
      "Done with link 45776: https://www.zoopla.co.uk/for-sale/details/64918070/?search_identifier=92ca4fe980e0440297c990bd75bdff05a90b97b7d6a948243dd36a808d54d87b\n",
      "Starting extraction for link 45777: https://www.zoopla.co.uk/for-sale/details/62230818/?search_identifier=92ca4fe980e0440297c990bd75bdff05a90b97b7d6a948243dd36a808d54d87b\n"
     ]
    },
    {
     "name": "stderr",
     "output_type": "stream",
     "text": [
      "could not detect version_main.therefore, we are assuming it is chrome 108 or higher\n"
     ]
    },
    {
     "name": "stdout",
     "output_type": "stream",
     "text": [
      "Saved to db successfully\n",
      "Done with link 45777: https://www.zoopla.co.uk/for-sale/details/62230818/?search_identifier=92ca4fe980e0440297c990bd75bdff05a90b97b7d6a948243dd36a808d54d87b\n",
      "Starting extraction for link 45778: https://www.zoopla.co.uk/for-sale/details/64909333/?search_identifier=92ca4fe980e0440297c990bd75bdff05a90b97b7d6a948243dd36a808d54d87b\n"
     ]
    },
    {
     "name": "stderr",
     "output_type": "stream",
     "text": [
      "could not detect version_main.therefore, we are assuming it is chrome 108 or higher\n"
     ]
    },
    {
     "name": "stdout",
     "output_type": "stream",
     "text": [
      "Saved to db successfully\n",
      "Done with link 45778: https://www.zoopla.co.uk/for-sale/details/64909333/?search_identifier=92ca4fe980e0440297c990bd75bdff05a90b97b7d6a948243dd36a808d54d87b\n",
      "Starting extraction for link 45779: https://www.zoopla.co.uk/for-sale/details/64906028/?search_identifier=92ca4fe980e0440297c990bd75bdff05a90b97b7d6a948243dd36a808d54d87b\n"
     ]
    },
    {
     "name": "stderr",
     "output_type": "stream",
     "text": [
      "could not detect version_main.therefore, we are assuming it is chrome 108 or higher\n"
     ]
    },
    {
     "name": "stdout",
     "output_type": "stream",
     "text": [
      "Saved to db successfully\n",
      "Done with link 45779: https://www.zoopla.co.uk/for-sale/details/64906028/?search_identifier=92ca4fe980e0440297c990bd75bdff05a90b97b7d6a948243dd36a808d54d87b\n",
      "Starting extraction for link 45780: https://www.zoopla.co.uk/for-sale/details/64904977/?search_identifier=92ca4fe980e0440297c990bd75bdff05a90b97b7d6a948243dd36a808d54d87b\n"
     ]
    },
    {
     "name": "stderr",
     "output_type": "stream",
     "text": [
      "could not detect version_main.therefore, we are assuming it is chrome 108 or higher\n"
     ]
    },
    {
     "name": "stdout",
     "output_type": "stream",
     "text": [
      "Saved to db successfully\n",
      "Done with link 45780: https://www.zoopla.co.uk/for-sale/details/64904977/?search_identifier=92ca4fe980e0440297c990bd75bdff05a90b97b7d6a948243dd36a808d54d87b\n",
      "Starting extraction for link 45781: https://www.zoopla.co.uk/for-sale/details/64904829/?search_identifier=92ca4fe980e0440297c990bd75bdff05a90b97b7d6a948243dd36a808d54d87b\n"
     ]
    },
    {
     "name": "stderr",
     "output_type": "stream",
     "text": [
      "could not detect version_main.therefore, we are assuming it is chrome 108 or higher\n"
     ]
    },
    {
     "name": "stdout",
     "output_type": "stream",
     "text": [
      "Saved to db successfully\n",
      "Done with link 45781: https://www.zoopla.co.uk/for-sale/details/64904829/?search_identifier=92ca4fe980e0440297c990bd75bdff05a90b97b7d6a948243dd36a808d54d87b\n",
      "Starting extraction for link 45782: https://www.zoopla.co.uk/for-sale/details/64904583/?search_identifier=92ca4fe980e0440297c990bd75bdff05a90b97b7d6a948243dd36a808d54d87b\n"
     ]
    },
    {
     "name": "stderr",
     "output_type": "stream",
     "text": [
      "could not detect version_main.therefore, we are assuming it is chrome 108 or higher\n"
     ]
    },
    {
     "name": "stdout",
     "output_type": "stream",
     "text": [
      "Saved to db successfully\n",
      "Done with link 45782: https://www.zoopla.co.uk/for-sale/details/64904583/?search_identifier=92ca4fe980e0440297c990bd75bdff05a90b97b7d6a948243dd36a808d54d87b\n",
      "Starting extraction for link 45783: https://www.zoopla.co.uk/for-sale/details/64893947/?search_identifier=0afe77282c48d51285d28e6bd07dc49b6d3dcadd910d825234c9be2db5d2f1b1\n"
     ]
    },
    {
     "name": "stderr",
     "output_type": "stream",
     "text": [
      "could not detect version_main.therefore, we are assuming it is chrome 108 or higher\n"
     ]
    },
    {
     "name": "stdout",
     "output_type": "stream",
     "text": [
      "Saved to db successfully\n",
      "Done with link 45783: https://www.zoopla.co.uk/for-sale/details/64893947/?search_identifier=0afe77282c48d51285d28e6bd07dc49b6d3dcadd910d825234c9be2db5d2f1b1\n",
      "Starting extraction for link 45784: https://www.zoopla.co.uk/for-sale/details/64900320/?search_identifier=0afe77282c48d51285d28e6bd07dc49b6d3dcadd910d825234c9be2db5d2f1b1\n"
     ]
    },
    {
     "name": "stderr",
     "output_type": "stream",
     "text": [
      "could not detect version_main.therefore, we are assuming it is chrome 108 or higher\n"
     ]
    },
    {
     "name": "stdout",
     "output_type": "stream",
     "text": [
      "Saved to db successfully\n",
      "Done with link 45784: https://www.zoopla.co.uk/for-sale/details/64900320/?search_identifier=0afe77282c48d51285d28e6bd07dc49b6d3dcadd910d825234c9be2db5d2f1b1\n",
      "Starting extraction for link 45785: https://www.zoopla.co.uk/for-sale/details/64868574/?search_identifier=0afe77282c48d51285d28e6bd07dc49b6d3dcadd910d825234c9be2db5d2f1b1\n"
     ]
    },
    {
     "name": "stderr",
     "output_type": "stream",
     "text": [
      "could not detect version_main.therefore, we are assuming it is chrome 108 or higher\n"
     ]
    },
    {
     "name": "stdout",
     "output_type": "stream",
     "text": [
      "Saved to db successfully\n",
      "Done with link 45785: https://www.zoopla.co.uk/for-sale/details/64868574/?search_identifier=0afe77282c48d51285d28e6bd07dc49b6d3dcadd910d825234c9be2db5d2f1b1\n",
      "Starting extraction for link 45786: https://www.zoopla.co.uk/for-sale/details/64864290/?search_identifier=0afe77282c48d51285d28e6bd07dc49b6d3dcadd910d825234c9be2db5d2f1b1\n"
     ]
    },
    {
     "name": "stderr",
     "output_type": "stream",
     "text": [
      "could not detect version_main.therefore, we are assuming it is chrome 108 or higher\n"
     ]
    },
    {
     "name": "stdout",
     "output_type": "stream",
     "text": [
      "Saved to db successfully\n",
      "Done with link 45786: https://www.zoopla.co.uk/for-sale/details/64864290/?search_identifier=0afe77282c48d51285d28e6bd07dc49b6d3dcadd910d825234c9be2db5d2f1b1\n",
      "Starting extraction for link 45787: https://www.zoopla.co.uk/for-sale/details/64854170/?search_identifier=0afe77282c48d51285d28e6bd07dc49b6d3dcadd910d825234c9be2db5d2f1b1\n"
     ]
    },
    {
     "name": "stderr",
     "output_type": "stream",
     "text": [
      "could not detect version_main.therefore, we are assuming it is chrome 108 or higher\n"
     ]
    },
    {
     "name": "stdout",
     "output_type": "stream",
     "text": [
      "Saved to db successfully\n",
      "Done with link 45787: https://www.zoopla.co.uk/for-sale/details/64854170/?search_identifier=0afe77282c48d51285d28e6bd07dc49b6d3dcadd910d825234c9be2db5d2f1b1\n",
      "Starting extraction for link 45788: https://www.zoopla.co.uk/for-sale/details/64835065/?search_identifier=0afe77282c48d51285d28e6bd07dc49b6d3dcadd910d825234c9be2db5d2f1b1\n"
     ]
    },
    {
     "name": "stderr",
     "output_type": "stream",
     "text": [
      "could not detect version_main.therefore, we are assuming it is chrome 108 or higher\n"
     ]
    },
    {
     "name": "stdout",
     "output_type": "stream",
     "text": [
      "Saved to db successfully\n",
      "Done with link 45788: https://www.zoopla.co.uk/for-sale/details/64835065/?search_identifier=0afe77282c48d51285d28e6bd07dc49b6d3dcadd910d825234c9be2db5d2f1b1\n",
      "Starting extraction for link 45789: https://www.zoopla.co.uk/for-sale/details/64832050/?search_identifier=0afe77282c48d51285d28e6bd07dc49b6d3dcadd910d825234c9be2db5d2f1b1\n",
      "An error occurred for link in get_data_func: https://www.zoopla.co.uk/for-sale/details/64832050/?search_identifier=0afe77282c48d51285d28e6bd07dc49b6d3dcadd910d825234c9be2db5d2f1b1: Message: no such element: Unable to locate element: {\"method\":\"xpath\",\"selector\":\"//p[@data-testid=\"price\"]\"}\n",
      "  (Session info: chrome=115.0.5790.171); For documentation on this error, please visit: https://www.selenium.dev/documentation/webdriver/troubleshooting/errors#no-such-element-exception\n",
      "Stacktrace:\n",
      "Backtrace:\n",
      "\tGetHandleVerifier [0x0073A813+48355]\n",
      "\t(No symbol) [0x006CC4B1]\n",
      "\t(No symbol) [0x005D5358]\n",
      "\t(No symbol) [0x006009A5]\n",
      "\t(No symbol) [0x00600B3B]\n",
      "\t(No symbol) [0x0062E232]\n",
      "\t(No symbol) [0x0061A784]\n",
      "\t(No symbol) [0x0062C922]\n",
      "\t(No symbol) [0x0061A536]\n",
      "\t(No symbol) [0x005F82DC]\n",
      "\t(No symbol) [0x005F93DD]\n",
      "\tGetHandleVerifier [0x0099AABD+2539405]\n",
      "\tGetHandleVerifier [0x009DA78F+2800735]\n",
      "\tGetHandleVerifier [0x009D456C+2775612]\n",
      "\tGetHandleVerifier [0x007C51E0+616112]\n",
      "\t(No symbol) [0x006D5F8C]\n",
      "\t(No symbol) [0x006D2328]\n",
      "\t(No symbol) [0x006D240B]\n",
      "\t(No symbol) [0x006C4FF7]\n",
      "\tBaseThreadInitThunk [0x761E7D59+25]\n",
      "\tRtlInitializeExceptionChain [0x773DB79B+107]\n",
      "\tRtlClearBits [0x773DB71F+191]\n",
      "\n"
     ]
    },
    {
     "name": "stderr",
     "output_type": "stream",
     "text": [
      "could not detect version_main.therefore, we are assuming it is chrome 108 or higher\n"
     ]
    },
    {
     "name": "stdout",
     "output_type": "stream",
     "text": [
      "Saved to db successfully\n",
      "Done with link 45789: https://www.zoopla.co.uk/for-sale/details/64832050/?search_identifier=0afe77282c48d51285d28e6bd07dc49b6d3dcadd910d825234c9be2db5d2f1b1\n",
      "Starting extraction for link 45790: https://www.zoopla.co.uk/for-sale/details/64820914/?search_identifier=0afe77282c48d51285d28e6bd07dc49b6d3dcadd910d825234c9be2db5d2f1b1\n"
     ]
    },
    {
     "name": "stderr",
     "output_type": "stream",
     "text": [
      "could not detect version_main.therefore, we are assuming it is chrome 108 or higher\n"
     ]
    },
    {
     "name": "stdout",
     "output_type": "stream",
     "text": [
      "Saved to db successfully\n",
      "Done with link 45790: https://www.zoopla.co.uk/for-sale/details/64820914/?search_identifier=0afe77282c48d51285d28e6bd07dc49b6d3dcadd910d825234c9be2db5d2f1b1\n",
      "Starting extraction for link 45791: https://www.zoopla.co.uk/for-sale/details/64818488/?search_identifier=0afe77282c48d51285d28e6bd07dc49b6d3dcadd910d825234c9be2db5d2f1b1\n"
     ]
    },
    {
     "name": "stderr",
     "output_type": "stream",
     "text": [
      "could not detect version_main.therefore, we are assuming it is chrome 108 or higher\n"
     ]
    },
    {
     "name": "stdout",
     "output_type": "stream",
     "text": [
      "Saved to db successfully\n",
      "Done with link 45791: https://www.zoopla.co.uk/for-sale/details/64818488/?search_identifier=0afe77282c48d51285d28e6bd07dc49b6d3dcadd910d825234c9be2db5d2f1b1\n",
      "Starting extraction for link 45792: https://www.zoopla.co.uk/for-sale/details/64814248/?search_identifier=0afe77282c48d51285d28e6bd07dc49b6d3dcadd910d825234c9be2db5d2f1b1\n",
      "An error occurred for link in get_data_func: https://www.zoopla.co.uk/for-sale/details/64814248/?search_identifier=0afe77282c48d51285d28e6bd07dc49b6d3dcadd910d825234c9be2db5d2f1b1: Message: no such element: Unable to locate element: {\"method\":\"xpath\",\"selector\":\"//p[@data-testid=\"price\"]\"}\n",
      "  (Session info: chrome=115.0.5790.171); For documentation on this error, please visit: https://www.selenium.dev/documentation/webdriver/troubleshooting/errors#no-such-element-exception\n",
      "Stacktrace:\n",
      "Backtrace:\n",
      "\tGetHandleVerifier [0x0073A813+48355]\n",
      "\t(No symbol) [0x006CC4B1]\n",
      "\t(No symbol) [0x005D5358]\n",
      "\t(No symbol) [0x006009A5]\n",
      "\t(No symbol) [0x00600B3B]\n",
      "\t(No symbol) [0x0062E232]\n",
      "\t(No symbol) [0x0061A784]\n",
      "\t(No symbol) [0x0062C922]\n",
      "\t(No symbol) [0x0061A536]\n",
      "\t(No symbol) [0x005F82DC]\n",
      "\t(No symbol) [0x005F93DD]\n",
      "\tGetHandleVerifier [0x0099AABD+2539405]\n",
      "\tGetHandleVerifier [0x009DA78F+2800735]\n",
      "\tGetHandleVerifier [0x009D456C+2775612]\n",
      "\tGetHandleVerifier [0x007C51E0+616112]\n",
      "\t(No symbol) [0x006D5F8C]\n",
      "\t(No symbol) [0x006D2328]\n",
      "\t(No symbol) [0x006D240B]\n",
      "\t(No symbol) [0x006C4FF7]\n",
      "\tBaseThreadInitThunk [0x761E7D59+25]\n",
      "\tRtlInitializeExceptionChain [0x773DB79B+107]\n",
      "\tRtlClearBits [0x773DB71F+191]\n",
      "\n"
     ]
    },
    {
     "name": "stderr",
     "output_type": "stream",
     "text": [
      "could not detect version_main.therefore, we are assuming it is chrome 108 or higher\n"
     ]
    },
    {
     "name": "stdout",
     "output_type": "stream",
     "text": [
      "Saved to db successfully\n",
      "Done with link 45792: https://www.zoopla.co.uk/for-sale/details/64814248/?search_identifier=0afe77282c48d51285d28e6bd07dc49b6d3dcadd910d825234c9be2db5d2f1b1\n",
      "Starting extraction for link 45793: https://www.zoopla.co.uk/for-sale/details/64813670/?search_identifier=0afe77282c48d51285d28e6bd07dc49b6d3dcadd910d825234c9be2db5d2f1b1\n"
     ]
    },
    {
     "name": "stderr",
     "output_type": "stream",
     "text": [
      "could not detect version_main.therefore, we are assuming it is chrome 108 or higher\n"
     ]
    },
    {
     "name": "stdout",
     "output_type": "stream",
     "text": [
      "Saved to db successfully\n",
      "Done with link 45793: https://www.zoopla.co.uk/for-sale/details/64813670/?search_identifier=0afe77282c48d51285d28e6bd07dc49b6d3dcadd910d825234c9be2db5d2f1b1\n",
      "Starting extraction for link 45794: https://www.zoopla.co.uk/for-sale/details/64804165/?search_identifier=0afe77282c48d51285d28e6bd07dc49b6d3dcadd910d825234c9be2db5d2f1b1\n"
     ]
    },
    {
     "name": "stderr",
     "output_type": "stream",
     "text": [
      "could not detect version_main.therefore, we are assuming it is chrome 108 or higher\n"
     ]
    },
    {
     "name": "stdout",
     "output_type": "stream",
     "text": [
      "Saved to db successfully\n",
      "Done with link 45794: https://www.zoopla.co.uk/for-sale/details/64804165/?search_identifier=0afe77282c48d51285d28e6bd07dc49b6d3dcadd910d825234c9be2db5d2f1b1\n",
      "Starting extraction for link 45795: https://www.zoopla.co.uk/for-sale/details/64794314/?search_identifier=0afe77282c48d51285d28e6bd07dc49b6d3dcadd910d825234c9be2db5d2f1b1\n"
     ]
    },
    {
     "name": "stderr",
     "output_type": "stream",
     "text": [
      "could not detect version_main.therefore, we are assuming it is chrome 108 or higher\n"
     ]
    },
    {
     "name": "stdout",
     "output_type": "stream",
     "text": [
      "Saved to db successfully\n",
      "Done with link 45795: https://www.zoopla.co.uk/for-sale/details/64794314/?search_identifier=0afe77282c48d51285d28e6bd07dc49b6d3dcadd910d825234c9be2db5d2f1b1\n",
      "Starting extraction for link 45796: https://www.zoopla.co.uk/for-sale/details/64786166/?search_identifier=0afe77282c48d51285d28e6bd07dc49b6d3dcadd910d825234c9be2db5d2f1b1\n"
     ]
    },
    {
     "name": "stderr",
     "output_type": "stream",
     "text": [
      "could not detect version_main.therefore, we are assuming it is chrome 108 or higher\n"
     ]
    },
    {
     "name": "stdout",
     "output_type": "stream",
     "text": [
      "Saved to db successfully\n",
      "Done with link 45796: https://www.zoopla.co.uk/for-sale/details/64786166/?search_identifier=0afe77282c48d51285d28e6bd07dc49b6d3dcadd910d825234c9be2db5d2f1b1\n",
      "Starting extraction for link 45797: https://www.zoopla.co.uk/for-sale/details/60174496/?search_identifier=0afe77282c48d51285d28e6bd07dc49b6d3dcadd910d825234c9be2db5d2f1b1\n"
     ]
    },
    {
     "name": "stderr",
     "output_type": "stream",
     "text": [
      "could not detect version_main.therefore, we are assuming it is chrome 108 or higher\n"
     ]
    },
    {
     "name": "stdout",
     "output_type": "stream",
     "text": [
      "Saved to db successfully\n",
      "Done with link 45797: https://www.zoopla.co.uk/for-sale/details/60174496/?search_identifier=0afe77282c48d51285d28e6bd07dc49b6d3dcadd910d825234c9be2db5d2f1b1\n",
      "Starting extraction for link 45798: https://www.zoopla.co.uk/for-sale/details/64775879/?search_identifier=0afe77282c48d51285d28e6bd07dc49b6d3dcadd910d825234c9be2db5d2f1b1\n"
     ]
    },
    {
     "name": "stderr",
     "output_type": "stream",
     "text": [
      "could not detect version_main.therefore, we are assuming it is chrome 108 or higher\n"
     ]
    },
    {
     "name": "stdout",
     "output_type": "stream",
     "text": [
      "Saved to db successfully\n",
      "Done with link 45798: https://www.zoopla.co.uk/for-sale/details/64775879/?search_identifier=0afe77282c48d51285d28e6bd07dc49b6d3dcadd910d825234c9be2db5d2f1b1\n",
      "Starting extraction for link 45799: https://www.zoopla.co.uk/for-sale/details/64774528/?search_identifier=0afe77282c48d51285d28e6bd07dc49b6d3dcadd910d825234c9be2db5d2f1b1\n"
     ]
    },
    {
     "name": "stderr",
     "output_type": "stream",
     "text": [
      "could not detect version_main.therefore, we are assuming it is chrome 108 or higher\n"
     ]
    },
    {
     "name": "stdout",
     "output_type": "stream",
     "text": [
      "Saved to db successfully\n",
      "Done with link 45799: https://www.zoopla.co.uk/for-sale/details/64774528/?search_identifier=0afe77282c48d51285d28e6bd07dc49b6d3dcadd910d825234c9be2db5d2f1b1\n",
      "Starting extraction for link 45800: https://www.zoopla.co.uk/for-sale/details/64766640/?search_identifier=0afe77282c48d51285d28e6bd07dc49b6d3dcadd910d825234c9be2db5d2f1b1\n"
     ]
    },
    {
     "name": "stderr",
     "output_type": "stream",
     "text": [
      "could not detect version_main.therefore, we are assuming it is chrome 108 or higher\n"
     ]
    },
    {
     "name": "stdout",
     "output_type": "stream",
     "text": [
      "Saved to db successfully\n",
      "Done with link 45800: https://www.zoopla.co.uk/for-sale/details/64766640/?search_identifier=0afe77282c48d51285d28e6bd07dc49b6d3dcadd910d825234c9be2db5d2f1b1\n",
      "Starting extraction for link 45801: https://www.zoopla.co.uk/for-sale/details/64761567/?search_identifier=0afe77282c48d51285d28e6bd07dc49b6d3dcadd910d825234c9be2db5d2f1b1\n"
     ]
    },
    {
     "name": "stderr",
     "output_type": "stream",
     "text": [
      "could not detect version_main.therefore, we are assuming it is chrome 108 or higher\n"
     ]
    },
    {
     "name": "stdout",
     "output_type": "stream",
     "text": [
      "Saved to db successfully\n",
      "Done with link 45801: https://www.zoopla.co.uk/for-sale/details/64761567/?search_identifier=0afe77282c48d51285d28e6bd07dc49b6d3dcadd910d825234c9be2db5d2f1b1\n",
      "Starting extraction for link 45802: https://www.zoopla.co.uk/for-sale/details/64760716/?search_identifier=0afe77282c48d51285d28e6bd07dc49b6d3dcadd910d825234c9be2db5d2f1b1\n"
     ]
    },
    {
     "name": "stderr",
     "output_type": "stream",
     "text": [
      "could not detect version_main.therefore, we are assuming it is chrome 108 or higher\n"
     ]
    },
    {
     "name": "stdout",
     "output_type": "stream",
     "text": [
      "Saved to db successfully\n",
      "Done with link 45802: https://www.zoopla.co.uk/for-sale/details/64760716/?search_identifier=0afe77282c48d51285d28e6bd07dc49b6d3dcadd910d825234c9be2db5d2f1b1\n",
      "Starting extraction for link 45803: https://www.zoopla.co.uk/for-sale/details/64750611/?search_identifier=0afe77282c48d51285d28e6bd07dc49b6d3dcadd910d825234c9be2db5d2f1b1\n"
     ]
    },
    {
     "name": "stderr",
     "output_type": "stream",
     "text": [
      "could not detect version_main.therefore, we are assuming it is chrome 108 or higher\n"
     ]
    },
    {
     "name": "stdout",
     "output_type": "stream",
     "text": [
      "Saved to db successfully\n",
      "Done with link 45803: https://www.zoopla.co.uk/for-sale/details/64750611/?search_identifier=0afe77282c48d51285d28e6bd07dc49b6d3dcadd910d825234c9be2db5d2f1b1\n",
      "Starting extraction for link 45804: https://www.zoopla.co.uk/for-sale/details/64749335/?search_identifier=0afe77282c48d51285d28e6bd07dc49b6d3dcadd910d825234c9be2db5d2f1b1\n"
     ]
    },
    {
     "name": "stderr",
     "output_type": "stream",
     "text": [
      "could not detect version_main.therefore, we are assuming it is chrome 108 or higher\n"
     ]
    },
    {
     "name": "stdout",
     "output_type": "stream",
     "text": [
      "Saved to db successfully\n",
      "Done with link 45804: https://www.zoopla.co.uk/for-sale/details/64749335/?search_identifier=0afe77282c48d51285d28e6bd07dc49b6d3dcadd910d825234c9be2db5d2f1b1\n",
      "Starting extraction for link 45805: https://www.zoopla.co.uk/for-sale/details/64746963/?search_identifier=0afe77282c48d51285d28e6bd07dc49b6d3dcadd910d825234c9be2db5d2f1b1\n"
     ]
    },
    {
     "name": "stderr",
     "output_type": "stream",
     "text": [
      "could not detect version_main.therefore, we are assuming it is chrome 108 or higher\n"
     ]
    },
    {
     "name": "stdout",
     "output_type": "stream",
     "text": [
      "Saved to db successfully\n",
      "Done with link 45805: https://www.zoopla.co.uk/for-sale/details/64746963/?search_identifier=0afe77282c48d51285d28e6bd07dc49b6d3dcadd910d825234c9be2db5d2f1b1\n",
      "Starting extraction for link 45806: https://www.zoopla.co.uk/for-sale/details/64739187/?search_identifier=0afe77282c48d51285d28e6bd07dc49b6d3dcadd910d825234c9be2db5d2f1b1\n"
     ]
    },
    {
     "name": "stderr",
     "output_type": "stream",
     "text": [
      "could not detect version_main.therefore, we are assuming it is chrome 108 or higher\n"
     ]
    },
    {
     "name": "stdout",
     "output_type": "stream",
     "text": [
      "Saved to db successfully\n",
      "Done with link 45806: https://www.zoopla.co.uk/for-sale/details/64739187/?search_identifier=0afe77282c48d51285d28e6bd07dc49b6d3dcadd910d825234c9be2db5d2f1b1\n",
      "Starting extraction for link 45807: https://www.zoopla.co.uk/for-sale/details/49029360/?search_identifier=0afe77282c48d51285d28e6bd07dc49b6d3dcadd910d825234c9be2db5d2f1b1\n"
     ]
    },
    {
     "name": "stderr",
     "output_type": "stream",
     "text": [
      "could not detect version_main.therefore, we are assuming it is chrome 108 or higher\n"
     ]
    },
    {
     "name": "stdout",
     "output_type": "stream",
     "text": [
      "Saved to db successfully\n",
      "Done with link 45807: https://www.zoopla.co.uk/for-sale/details/49029360/?search_identifier=0afe77282c48d51285d28e6bd07dc49b6d3dcadd910d825234c9be2db5d2f1b1\n",
      "Starting extraction for link 45808: https://www.zoopla.co.uk/for-sale/details/64725515/?search_identifier=040b3735e17951699c3ab363f9c20483495d44d259b91b8319f614ce02907483\n"
     ]
    },
    {
     "name": "stderr",
     "output_type": "stream",
     "text": [
      "could not detect version_main.therefore, we are assuming it is chrome 108 or higher\n"
     ]
    },
    {
     "name": "stdout",
     "output_type": "stream",
     "text": [
      "Saved to db successfully\n",
      "Done with link 45808: https://www.zoopla.co.uk/for-sale/details/64725515/?search_identifier=040b3735e17951699c3ab363f9c20483495d44d259b91b8319f614ce02907483\n",
      "Starting extraction for link 45809: https://www.zoopla.co.uk/for-sale/details/64724540/?search_identifier=040b3735e17951699c3ab363f9c20483495d44d259b91b8319f614ce02907483\n"
     ]
    },
    {
     "name": "stderr",
     "output_type": "stream",
     "text": [
      "could not detect version_main.therefore, we are assuming it is chrome 108 or higher\n"
     ]
    },
    {
     "name": "stdout",
     "output_type": "stream",
     "text": [
      "Saved to db successfully\n",
      "Done with link 45809: https://www.zoopla.co.uk/for-sale/details/64724540/?search_identifier=040b3735e17951699c3ab363f9c20483495d44d259b91b8319f614ce02907483\n",
      "Starting extraction for link 45810: https://www.zoopla.co.uk/for-sale/details/64724416/?search_identifier=040b3735e17951699c3ab363f9c20483495d44d259b91b8319f614ce02907483\n"
     ]
    },
    {
     "name": "stderr",
     "output_type": "stream",
     "text": [
      "could not detect version_main.therefore, we are assuming it is chrome 108 or higher\n"
     ]
    },
    {
     "name": "stdout",
     "output_type": "stream",
     "text": [
      "Saved to db successfully\n",
      "Done with link 45810: https://www.zoopla.co.uk/for-sale/details/64724416/?search_identifier=040b3735e17951699c3ab363f9c20483495d44d259b91b8319f614ce02907483\n",
      "Starting extraction for link 45811: https://www.zoopla.co.uk/for-sale/details/64719961/?search_identifier=040b3735e17951699c3ab363f9c20483495d44d259b91b8319f614ce02907483\n"
     ]
    },
    {
     "name": "stderr",
     "output_type": "stream",
     "text": [
      "could not detect version_main.therefore, we are assuming it is chrome 108 or higher\n"
     ]
    },
    {
     "name": "stdout",
     "output_type": "stream",
     "text": [
      "Saved to db successfully\n",
      "Done with link 45811: https://www.zoopla.co.uk/for-sale/details/64719961/?search_identifier=040b3735e17951699c3ab363f9c20483495d44d259b91b8319f614ce02907483\n",
      "Starting extraction for link 45812: https://www.zoopla.co.uk/for-sale/details/64690891/?search_identifier=040b3735e17951699c3ab363f9c20483495d44d259b91b8319f614ce02907483\n"
     ]
    },
    {
     "name": "stderr",
     "output_type": "stream",
     "text": [
      "could not detect version_main.therefore, we are assuming it is chrome 108 or higher\n"
     ]
    },
    {
     "name": "stdout",
     "output_type": "stream",
     "text": [
      "Saved to db successfully\n",
      "Done with link 45812: https://www.zoopla.co.uk/for-sale/details/64690891/?search_identifier=040b3735e17951699c3ab363f9c20483495d44d259b91b8319f614ce02907483\n",
      "Starting extraction for link 45813: https://www.zoopla.co.uk/for-sale/details/64667116/?search_identifier=040b3735e17951699c3ab363f9c20483495d44d259b91b8319f614ce02907483\n"
     ]
    },
    {
     "name": "stderr",
     "output_type": "stream",
     "text": [
      "could not detect version_main.therefore, we are assuming it is chrome 108 or higher\n"
     ]
    },
    {
     "name": "stdout",
     "output_type": "stream",
     "text": [
      "Saved to db successfully\n",
      "Done with link 45813: https://www.zoopla.co.uk/for-sale/details/64667116/?search_identifier=040b3735e17951699c3ab363f9c20483495d44d259b91b8319f614ce02907483\n",
      "Starting extraction for link 45814: https://www.zoopla.co.uk/for-sale/details/64663943/?search_identifier=040b3735e17951699c3ab363f9c20483495d44d259b91b8319f614ce02907483\n",
      "An error occurred for link in get_data_func: https://www.zoopla.co.uk/for-sale/details/64663943/?search_identifier=040b3735e17951699c3ab363f9c20483495d44d259b91b8319f614ce02907483: Message: no such element: Unable to locate element: {\"method\":\"xpath\",\"selector\":\"//p[@data-testid=\"price\"]\"}\n",
      "  (Session info: chrome=115.0.5790.171); For documentation on this error, please visit: https://www.selenium.dev/documentation/webdriver/troubleshooting/errors#no-such-element-exception\n",
      "Stacktrace:\n",
      "Backtrace:\n",
      "\tGetHandleVerifier [0x0073A813+48355]\n",
      "\t(No symbol) [0x006CC4B1]\n",
      "\t(No symbol) [0x005D5358]\n",
      "\t(No symbol) [0x006009A5]\n",
      "\t(No symbol) [0x00600B3B]\n",
      "\t(No symbol) [0x0062E232]\n",
      "\t(No symbol) [0x0061A784]\n",
      "\t(No symbol) [0x0062C922]\n",
      "\t(No symbol) [0x0061A536]\n",
      "\t(No symbol) [0x005F82DC]\n",
      "\t(No symbol) [0x005F93DD]\n",
      "\tGetHandleVerifier [0x0099AABD+2539405]\n",
      "\tGetHandleVerifier [0x009DA78F+2800735]\n",
      "\tGetHandleVerifier [0x009D456C+2775612]\n",
      "\tGetHandleVerifier [0x007C51E0+616112]\n",
      "\t(No symbol) [0x006D5F8C]\n",
      "\t(No symbol) [0x006D2328]\n",
      "\t(No symbol) [0x006D240B]\n",
      "\t(No symbol) [0x006C4FF7]\n",
      "\tBaseThreadInitThunk [0x761E7D59+25]\n",
      "\tRtlInitializeExceptionChain [0x773DB79B+107]\n",
      "\tRtlClearBits [0x773DB71F+191]\n",
      "\n"
     ]
    },
    {
     "name": "stderr",
     "output_type": "stream",
     "text": [
      "could not detect version_main.therefore, we are assuming it is chrome 108 or higher\n"
     ]
    },
    {
     "name": "stdout",
     "output_type": "stream",
     "text": [
      "Saved to db successfully\n",
      "Done with link 45814: https://www.zoopla.co.uk/for-sale/details/64663943/?search_identifier=040b3735e17951699c3ab363f9c20483495d44d259b91b8319f614ce02907483\n",
      "Starting extraction for link 45815: https://www.zoopla.co.uk/for-sale/details/64638656/?search_identifier=040b3735e17951699c3ab363f9c20483495d44d259b91b8319f614ce02907483\n"
     ]
    },
    {
     "name": "stderr",
     "output_type": "stream",
     "text": [
      "could not detect version_main.therefore, we are assuming it is chrome 108 or higher\n"
     ]
    },
    {
     "name": "stdout",
     "output_type": "stream",
     "text": [
      "Saved to db successfully\n",
      "Done with link 45815: https://www.zoopla.co.uk/for-sale/details/64638656/?search_identifier=040b3735e17951699c3ab363f9c20483495d44d259b91b8319f614ce02907483\n",
      "Starting extraction for link 45816: https://www.zoopla.co.uk/for-sale/details/64633292/?search_identifier=040b3735e17951699c3ab363f9c20483495d44d259b91b8319f614ce02907483\n",
      "An error occurred for link in get_data_func: https://www.zoopla.co.uk/for-sale/details/64633292/?search_identifier=040b3735e17951699c3ab363f9c20483495d44d259b91b8319f614ce02907483: Message: no such element: Unable to locate element: {\"method\":\"xpath\",\"selector\":\"//p[@data-testid=\"price\"]\"}\n",
      "  (Session info: chrome=115.0.5790.171); For documentation on this error, please visit: https://www.selenium.dev/documentation/webdriver/troubleshooting/errors#no-such-element-exception\n",
      "Stacktrace:\n",
      "Backtrace:\n",
      "\tGetHandleVerifier [0x0073A813+48355]\n",
      "\t(No symbol) [0x006CC4B1]\n",
      "\t(No symbol) [0x005D5358]\n",
      "\t(No symbol) [0x006009A5]\n",
      "\t(No symbol) [0x00600B3B]\n",
      "\t(No symbol) [0x0062E232]\n",
      "\t(No symbol) [0x0061A784]\n",
      "\t(No symbol) [0x0062C922]\n",
      "\t(No symbol) [0x0061A536]\n",
      "\t(No symbol) [0x005F82DC]\n",
      "\t(No symbol) [0x005F93DD]\n",
      "\tGetHandleVerifier [0x0099AABD+2539405]\n",
      "\tGetHandleVerifier [0x009DA78F+2800735]\n",
      "\tGetHandleVerifier [0x009D456C+2775612]\n",
      "\tGetHandleVerifier [0x007C51E0+616112]\n",
      "\t(No symbol) [0x006D5F8C]\n",
      "\t(No symbol) [0x006D2328]\n",
      "\t(No symbol) [0x006D240B]\n",
      "\t(No symbol) [0x006C4FF7]\n",
      "\tBaseThreadInitThunk [0x761E7D59+25]\n",
      "\tRtlInitializeExceptionChain [0x773DB79B+107]\n",
      "\tRtlClearBits [0x773DB71F+191]\n",
      "\n"
     ]
    },
    {
     "name": "stderr",
     "output_type": "stream",
     "text": [
      "could not detect version_main.therefore, we are assuming it is chrome 108 or higher\n"
     ]
    },
    {
     "name": "stdout",
     "output_type": "stream",
     "text": [
      "Saved to db successfully\n",
      "Done with link 45816: https://www.zoopla.co.uk/for-sale/details/64633292/?search_identifier=040b3735e17951699c3ab363f9c20483495d44d259b91b8319f614ce02907483\n",
      "Starting extraction for link 45817: https://www.zoopla.co.uk/for-sale/details/64627628/?search_identifier=040b3735e17951699c3ab363f9c20483495d44d259b91b8319f614ce02907483\n"
     ]
    },
    {
     "name": "stderr",
     "output_type": "stream",
     "text": [
      "could not detect version_main.therefore, we are assuming it is chrome 108 or higher\n"
     ]
    },
    {
     "name": "stdout",
     "output_type": "stream",
     "text": [
      "Saved to db successfully\n",
      "Done with link 45817: https://www.zoopla.co.uk/for-sale/details/64627628/?search_identifier=040b3735e17951699c3ab363f9c20483495d44d259b91b8319f614ce02907483\n",
      "Starting extraction for link 45818: https://www.zoopla.co.uk/for-sale/details/64612741/?search_identifier=040b3735e17951699c3ab363f9c20483495d44d259b91b8319f614ce02907483\n"
     ]
    },
    {
     "name": "stderr",
     "output_type": "stream",
     "text": [
      "could not detect version_main.therefore, we are assuming it is chrome 108 or higher\n"
     ]
    },
    {
     "name": "stdout",
     "output_type": "stream",
     "text": [
      "Saved to db successfully\n",
      "Done with link 45818: https://www.zoopla.co.uk/for-sale/details/64612741/?search_identifier=040b3735e17951699c3ab363f9c20483495d44d259b91b8319f614ce02907483\n",
      "Starting extraction for link 45819: https://www.zoopla.co.uk/for-sale/details/64609401/?search_identifier=040b3735e17951699c3ab363f9c20483495d44d259b91b8319f614ce02907483\n",
      "An error occurred for link in get_data_func: https://www.zoopla.co.uk/for-sale/details/64609401/?search_identifier=040b3735e17951699c3ab363f9c20483495d44d259b91b8319f614ce02907483: Message: no such element: Unable to locate element: {\"method\":\"xpath\",\"selector\":\"//p[@data-testid=\"price\"]\"}\n",
      "  (Session info: chrome=115.0.5790.171); For documentation on this error, please visit: https://www.selenium.dev/documentation/webdriver/troubleshooting/errors#no-such-element-exception\n",
      "Stacktrace:\n",
      "Backtrace:\n",
      "\tGetHandleVerifier [0x0073A813+48355]\n",
      "\t(No symbol) [0x006CC4B1]\n",
      "\t(No symbol) [0x005D5358]\n",
      "\t(No symbol) [0x006009A5]\n",
      "\t(No symbol) [0x00600B3B]\n",
      "\t(No symbol) [0x0062E232]\n",
      "\t(No symbol) [0x0061A784]\n",
      "\t(No symbol) [0x0062C922]\n",
      "\t(No symbol) [0x0061A536]\n",
      "\t(No symbol) [0x005F82DC]\n",
      "\t(No symbol) [0x005F93DD]\n",
      "\tGetHandleVerifier [0x0099AABD+2539405]\n",
      "\tGetHandleVerifier [0x009DA78F+2800735]\n",
      "\tGetHandleVerifier [0x009D456C+2775612]\n",
      "\tGetHandleVerifier [0x007C51E0+616112]\n",
      "\t(No symbol) [0x006D5F8C]\n",
      "\t(No symbol) [0x006D2328]\n",
      "\t(No symbol) [0x006D240B]\n",
      "\t(No symbol) [0x006C4FF7]\n",
      "\tBaseThreadInitThunk [0x761E7D59+25]\n",
      "\tRtlInitializeExceptionChain [0x773DB79B+107]\n",
      "\tRtlClearBits [0x773DB71F+191]\n",
      "\n"
     ]
    },
    {
     "name": "stderr",
     "output_type": "stream",
     "text": [
      "could not detect version_main.therefore, we are assuming it is chrome 108 or higher\n"
     ]
    },
    {
     "name": "stdout",
     "output_type": "stream",
     "text": [
      "Saved to db successfully\n",
      "Done with link 45819: https://www.zoopla.co.uk/for-sale/details/64609401/?search_identifier=040b3735e17951699c3ab363f9c20483495d44d259b91b8319f614ce02907483\n",
      "Starting extraction for link 45820: https://www.zoopla.co.uk/for-sale/details/64601597/?search_identifier=040b3735e17951699c3ab363f9c20483495d44d259b91b8319f614ce02907483\n"
     ]
    },
    {
     "name": "stderr",
     "output_type": "stream",
     "text": [
      "could not detect version_main.therefore, we are assuming it is chrome 108 or higher\n"
     ]
    },
    {
     "name": "stdout",
     "output_type": "stream",
     "text": [
      "Saved to db successfully\n",
      "Done with link 45820: https://www.zoopla.co.uk/for-sale/details/64601597/?search_identifier=040b3735e17951699c3ab363f9c20483495d44d259b91b8319f614ce02907483\n",
      "Starting extraction for link 45821: https://www.zoopla.co.uk/for-sale/details/64601593/?search_identifier=040b3735e17951699c3ab363f9c20483495d44d259b91b8319f614ce02907483\n"
     ]
    },
    {
     "name": "stderr",
     "output_type": "stream",
     "text": [
      "could not detect version_main.therefore, we are assuming it is chrome 108 or higher\n"
     ]
    },
    {
     "name": "stdout",
     "output_type": "stream",
     "text": [
      "Saved to db successfully\n",
      "Done with link 45821: https://www.zoopla.co.uk/for-sale/details/64601593/?search_identifier=040b3735e17951699c3ab363f9c20483495d44d259b91b8319f614ce02907483\n",
      "Starting extraction for link 45822: https://www.zoopla.co.uk/for-sale/details/64597500/?search_identifier=040b3735e17951699c3ab363f9c20483495d44d259b91b8319f614ce02907483\n"
     ]
    },
    {
     "name": "stderr",
     "output_type": "stream",
     "text": [
      "could not detect version_main.therefore, we are assuming it is chrome 108 or higher\n"
     ]
    },
    {
     "name": "stdout",
     "output_type": "stream",
     "text": [
      "Saved to db successfully\n",
      "Done with link 45822: https://www.zoopla.co.uk/for-sale/details/64597500/?search_identifier=040b3735e17951699c3ab363f9c20483495d44d259b91b8319f614ce02907483\n",
      "Starting extraction for link 45823: https://www.zoopla.co.uk/for-sale/details/64587249/?search_identifier=040b3735e17951699c3ab363f9c20483495d44d259b91b8319f614ce02907483\n"
     ]
    },
    {
     "name": "stderr",
     "output_type": "stream",
     "text": [
      "could not detect version_main.therefore, we are assuming it is chrome 108 or higher\n"
     ]
    },
    {
     "name": "stdout",
     "output_type": "stream",
     "text": [
      "Saved to db successfully\n",
      "Done with link 45823: https://www.zoopla.co.uk/for-sale/details/64587249/?search_identifier=040b3735e17951699c3ab363f9c20483495d44d259b91b8319f614ce02907483\n",
      "Starting extraction for link 45824: https://www.zoopla.co.uk/for-sale/details/64575433/?search_identifier=040b3735e17951699c3ab363f9c20483495d44d259b91b8319f614ce02907483\n"
     ]
    },
    {
     "name": "stderr",
     "output_type": "stream",
     "text": [
      "could not detect version_main.therefore, we are assuming it is chrome 108 or higher\n"
     ]
    },
    {
     "name": "stdout",
     "output_type": "stream",
     "text": [
      "Saved to db successfully\n",
      "Done with link 45824: https://www.zoopla.co.uk/for-sale/details/64575433/?search_identifier=040b3735e17951699c3ab363f9c20483495d44d259b91b8319f614ce02907483\n",
      "Starting extraction for link 45825: https://www.zoopla.co.uk/for-sale/details/64559822/?search_identifier=040b3735e17951699c3ab363f9c20483495d44d259b91b8319f614ce02907483\n"
     ]
    },
    {
     "name": "stderr",
     "output_type": "stream",
     "text": [
      "could not detect version_main.therefore, we are assuming it is chrome 108 or higher\n"
     ]
    },
    {
     "name": "stdout",
     "output_type": "stream",
     "text": [
      "Saved to db successfully\n",
      "Done with link 45825: https://www.zoopla.co.uk/for-sale/details/64559822/?search_identifier=040b3735e17951699c3ab363f9c20483495d44d259b91b8319f614ce02907483\n",
      "Starting extraction for link 45826: https://www.zoopla.co.uk/for-sale/details/64543374/?search_identifier=040b3735e17951699c3ab363f9c20483495d44d259b91b8319f614ce02907483\n"
     ]
    },
    {
     "name": "stderr",
     "output_type": "stream",
     "text": [
      "could not detect version_main.therefore, we are assuming it is chrome 108 or higher\n"
     ]
    },
    {
     "name": "stdout",
     "output_type": "stream",
     "text": [
      "Saved to db successfully\n",
      "Done with link 45826: https://www.zoopla.co.uk/for-sale/details/64543374/?search_identifier=040b3735e17951699c3ab363f9c20483495d44d259b91b8319f614ce02907483\n",
      "Starting extraction for link 45827: https://www.zoopla.co.uk/for-sale/details/64529440/?search_identifier=040b3735e17951699c3ab363f9c20483495d44d259b91b8319f614ce02907483\n"
     ]
    },
    {
     "name": "stderr",
     "output_type": "stream",
     "text": [
      "could not detect version_main.therefore, we are assuming it is chrome 108 or higher\n"
     ]
    },
    {
     "name": "stdout",
     "output_type": "stream",
     "text": [
      "Saved to db successfully\n",
      "Done with link 45827: https://www.zoopla.co.uk/for-sale/details/64529440/?search_identifier=040b3735e17951699c3ab363f9c20483495d44d259b91b8319f614ce02907483\n",
      "Starting extraction for link 45828: https://www.zoopla.co.uk/for-sale/details/64525733/?search_identifier=040b3735e17951699c3ab363f9c20483495d44d259b91b8319f614ce02907483\n"
     ]
    },
    {
     "name": "stderr",
     "output_type": "stream",
     "text": [
      "could not detect version_main.therefore, we are assuming it is chrome 108 or higher\n"
     ]
    },
    {
     "name": "stdout",
     "output_type": "stream",
     "text": [
      "Saved to db successfully\n",
      "Done with link 45828: https://www.zoopla.co.uk/for-sale/details/64525733/?search_identifier=040b3735e17951699c3ab363f9c20483495d44d259b91b8319f614ce02907483\n",
      "Starting extraction for link 45829: https://www.zoopla.co.uk/for-sale/details/64490860/?search_identifier=040b3735e17951699c3ab363f9c20483495d44d259b91b8319f614ce02907483\n"
     ]
    },
    {
     "name": "stderr",
     "output_type": "stream",
     "text": [
      "could not detect version_main.therefore, we are assuming it is chrome 108 or higher\n"
     ]
    },
    {
     "name": "stdout",
     "output_type": "stream",
     "text": [
      "Saved to db successfully\n",
      "Done with link 45829: https://www.zoopla.co.uk/for-sale/details/64490860/?search_identifier=040b3735e17951699c3ab363f9c20483495d44d259b91b8319f614ce02907483\n",
      "Starting extraction for link 45830: https://www.zoopla.co.uk/for-sale/details/64489717/?search_identifier=040b3735e17951699c3ab363f9c20483495d44d259b91b8319f614ce02907483\n"
     ]
    },
    {
     "name": "stderr",
     "output_type": "stream",
     "text": [
      "could not detect version_main.therefore, we are assuming it is chrome 108 or higher\n"
     ]
    },
    {
     "name": "stdout",
     "output_type": "stream",
     "text": [
      "Saved to db successfully\n",
      "Done with link 45830: https://www.zoopla.co.uk/for-sale/details/64489717/?search_identifier=040b3735e17951699c3ab363f9c20483495d44d259b91b8319f614ce02907483\n",
      "Starting extraction for link 45831: https://www.zoopla.co.uk/for-sale/details/64470583/?search_identifier=040b3735e17951699c3ab363f9c20483495d44d259b91b8319f614ce02907483\n"
     ]
    },
    {
     "name": "stderr",
     "output_type": "stream",
     "text": [
      "could not detect version_main.therefore, we are assuming it is chrome 108 or higher\n"
     ]
    },
    {
     "name": "stdout",
     "output_type": "stream",
     "text": [
      "Saved to db successfully\n",
      "Done with link 45831: https://www.zoopla.co.uk/for-sale/details/64470583/?search_identifier=040b3735e17951699c3ab363f9c20483495d44d259b91b8319f614ce02907483\n",
      "Starting extraction for link 45832: https://www.zoopla.co.uk/for-sale/details/64457176/?search_identifier=040b3735e17951699c3ab363f9c20483495d44d259b91b8319f614ce02907483\n"
     ]
    },
    {
     "name": "stderr",
     "output_type": "stream",
     "text": [
      "could not detect version_main.therefore, we are assuming it is chrome 108 or higher\n"
     ]
    },
    {
     "name": "stdout",
     "output_type": "stream",
     "text": [
      "Saved to db successfully\n",
      "Done with link 45832: https://www.zoopla.co.uk/for-sale/details/64457176/?search_identifier=040b3735e17951699c3ab363f9c20483495d44d259b91b8319f614ce02907483\n",
      "Starting extraction for link 45833: https://www.zoopla.co.uk/for-sale/details/64446460/?search_identifier=482d718adee13e38e21156f34b1e541c383b10b5389c0cc49e090b53eec76bb3\n"
     ]
    },
    {
     "name": "stderr",
     "output_type": "stream",
     "text": [
      "could not detect version_main.therefore, we are assuming it is chrome 108 or higher\n"
     ]
    },
    {
     "name": "stdout",
     "output_type": "stream",
     "text": [
      "Saved to db successfully\n",
      "Done with link 45833: https://www.zoopla.co.uk/for-sale/details/64446460/?search_identifier=482d718adee13e38e21156f34b1e541c383b10b5389c0cc49e090b53eec76bb3\n",
      "Starting extraction for link 45834: https://www.zoopla.co.uk/for-sale/details/64435081/?search_identifier=482d718adee13e38e21156f34b1e541c383b10b5389c0cc49e090b53eec76bb3\n"
     ]
    },
    {
     "name": "stderr",
     "output_type": "stream",
     "text": [
      "could not detect version_main.therefore, we are assuming it is chrome 108 or higher\n"
     ]
    },
    {
     "name": "stdout",
     "output_type": "stream",
     "text": [
      "Saved to db successfully\n",
      "Done with link 45834: https://www.zoopla.co.uk/for-sale/details/64435081/?search_identifier=482d718adee13e38e21156f34b1e541c383b10b5389c0cc49e090b53eec76bb3\n",
      "Starting extraction for link 45835: https://www.zoopla.co.uk/for-sale/details/64412391/?search_identifier=482d718adee13e38e21156f34b1e541c383b10b5389c0cc49e090b53eec76bb3\n",
      "An error occurred for link in get_data_func: https://www.zoopla.co.uk/for-sale/details/64412391/?search_identifier=482d718adee13e38e21156f34b1e541c383b10b5389c0cc49e090b53eec76bb3: Message: no such element: Unable to locate element: {\"method\":\"xpath\",\"selector\":\"//p[@data-testid=\"price\"]\"}\n",
      "  (Session info: chrome=115.0.5790.171); For documentation on this error, please visit: https://www.selenium.dev/documentation/webdriver/troubleshooting/errors#no-such-element-exception\n",
      "Stacktrace:\n",
      "Backtrace:\n",
      "\tGetHandleVerifier [0x0073A813+48355]\n",
      "\t(No symbol) [0x006CC4B1]\n",
      "\t(No symbol) [0x005D5358]\n",
      "\t(No symbol) [0x006009A5]\n",
      "\t(No symbol) [0x00600B3B]\n",
      "\t(No symbol) [0x0062E232]\n",
      "\t(No symbol) [0x0061A784]\n",
      "\t(No symbol) [0x0062C922]\n",
      "\t(No symbol) [0x0061A536]\n",
      "\t(No symbol) [0x005F82DC]\n",
      "\t(No symbol) [0x005F93DD]\n",
      "\tGetHandleVerifier [0x0099AABD+2539405]\n",
      "\tGetHandleVerifier [0x009DA78F+2800735]\n",
      "\tGetHandleVerifier [0x009D456C+2775612]\n",
      "\tGetHandleVerifier [0x007C51E0+616112]\n",
      "\t(No symbol) [0x006D5F8C]\n",
      "\t(No symbol) [0x006D2328]\n",
      "\t(No symbol) [0x006D240B]\n",
      "\t(No symbol) [0x006C4FF7]\n",
      "\tBaseThreadInitThunk [0x761E7D59+25]\n",
      "\tRtlInitializeExceptionChain [0x773DB79B+107]\n",
      "\tRtlClearBits [0x773DB71F+191]\n",
      "\n"
     ]
    },
    {
     "name": "stderr",
     "output_type": "stream",
     "text": [
      "could not detect version_main.therefore, we are assuming it is chrome 108 or higher\n"
     ]
    },
    {
     "name": "stdout",
     "output_type": "stream",
     "text": [
      "Saved to db successfully\n",
      "Done with link 45835: https://www.zoopla.co.uk/for-sale/details/64412391/?search_identifier=482d718adee13e38e21156f34b1e541c383b10b5389c0cc49e090b53eec76bb3\n",
      "Starting extraction for link 45836: https://www.zoopla.co.uk/for-sale/details/64401450/?search_identifier=482d718adee13e38e21156f34b1e541c383b10b5389c0cc49e090b53eec76bb3\n",
      "An error occurred for link in get_data_func: https://www.zoopla.co.uk/for-sale/details/64401450/?search_identifier=482d718adee13e38e21156f34b1e541c383b10b5389c0cc49e090b53eec76bb3: Message: no such element: Unable to locate element: {\"method\":\"xpath\",\"selector\":\"//p[@data-testid=\"price\"]\"}\n",
      "  (Session info: chrome=115.0.5790.171); For documentation on this error, please visit: https://www.selenium.dev/documentation/webdriver/troubleshooting/errors#no-such-element-exception\n",
      "Stacktrace:\n",
      "Backtrace:\n",
      "\tGetHandleVerifier [0x0073A813+48355]\n",
      "\t(No symbol) [0x006CC4B1]\n",
      "\t(No symbol) [0x005D5358]\n",
      "\t(No symbol) [0x006009A5]\n",
      "\t(No symbol) [0x00600B3B]\n",
      "\t(No symbol) [0x0062E232]\n",
      "\t(No symbol) [0x0061A784]\n",
      "\t(No symbol) [0x0062C922]\n",
      "\t(No symbol) [0x0061A536]\n",
      "\t(No symbol) [0x005F82DC]\n",
      "\t(No symbol) [0x005F93DD]\n",
      "\tGetHandleVerifier [0x0099AABD+2539405]\n",
      "\tGetHandleVerifier [0x009DA78F+2800735]\n",
      "\tGetHandleVerifier [0x009D456C+2775612]\n",
      "\tGetHandleVerifier [0x007C51E0+616112]\n",
      "\t(No symbol) [0x006D5F8C]\n",
      "\t(No symbol) [0x006D2328]\n",
      "\t(No symbol) [0x006D240B]\n",
      "\t(No symbol) [0x006C4FF7]\n",
      "\tBaseThreadInitThunk [0x761E7D59+25]\n",
      "\tRtlInitializeExceptionChain [0x773DB79B+107]\n",
      "\tRtlClearBits [0x773DB71F+191]\n",
      "\n"
     ]
    },
    {
     "name": "stderr",
     "output_type": "stream",
     "text": [
      "could not detect version_main.therefore, we are assuming it is chrome 108 or higher\n"
     ]
    },
    {
     "name": "stdout",
     "output_type": "stream",
     "text": [
      "Saved to db successfully\n",
      "Done with link 45836: https://www.zoopla.co.uk/for-sale/details/64401450/?search_identifier=482d718adee13e38e21156f34b1e541c383b10b5389c0cc49e090b53eec76bb3\n",
      "Starting extraction for link 45837: https://www.zoopla.co.uk/for-sale/details/64400192/?search_identifier=482d718adee13e38e21156f34b1e541c383b10b5389c0cc49e090b53eec76bb3\n"
     ]
    },
    {
     "name": "stderr",
     "output_type": "stream",
     "text": [
      "could not detect version_main.therefore, we are assuming it is chrome 108 or higher\n"
     ]
    },
    {
     "name": "stdout",
     "output_type": "stream",
     "text": [
      "Saved to db successfully\n",
      "Done with link 45837: https://www.zoopla.co.uk/for-sale/details/64400192/?search_identifier=482d718adee13e38e21156f34b1e541c383b10b5389c0cc49e090b53eec76bb3\n",
      "Starting extraction for link 45838: https://www.zoopla.co.uk/for-sale/details/64399942/?search_identifier=482d718adee13e38e21156f34b1e541c383b10b5389c0cc49e090b53eec76bb3\n",
      "An error occurred for link in get_data_func: https://www.zoopla.co.uk/for-sale/details/64399942/?search_identifier=482d718adee13e38e21156f34b1e541c383b10b5389c0cc49e090b53eec76bb3: Message: no such element: Unable to locate element: {\"method\":\"xpath\",\"selector\":\"//p[@data-testid=\"price\"]\"}\n",
      "  (Session info: chrome=115.0.5790.171); For documentation on this error, please visit: https://www.selenium.dev/documentation/webdriver/troubleshooting/errors#no-such-element-exception\n",
      "Stacktrace:\n",
      "Backtrace:\n",
      "\tGetHandleVerifier [0x0073A813+48355]\n",
      "\t(No symbol) [0x006CC4B1]\n",
      "\t(No symbol) [0x005D5358]\n",
      "\t(No symbol) [0x006009A5]\n",
      "\t(No symbol) [0x00600B3B]\n",
      "\t(No symbol) [0x0062E232]\n",
      "\t(No symbol) [0x0061A784]\n",
      "\t(No symbol) [0x0062C922]\n",
      "\t(No symbol) [0x0061A536]\n",
      "\t(No symbol) [0x005F82DC]\n",
      "\t(No symbol) [0x005F93DD]\n",
      "\tGetHandleVerifier [0x0099AABD+2539405]\n",
      "\tGetHandleVerifier [0x009DA78F+2800735]\n",
      "\tGetHandleVerifier [0x009D456C+2775612]\n",
      "\tGetHandleVerifier [0x007C51E0+616112]\n",
      "\t(No symbol) [0x006D5F8C]\n",
      "\t(No symbol) [0x006D2328]\n",
      "\t(No symbol) [0x006D240B]\n",
      "\t(No symbol) [0x006C4FF7]\n",
      "\tBaseThreadInitThunk [0x761E7D59+25]\n",
      "\tRtlInitializeExceptionChain [0x773DB79B+107]\n",
      "\tRtlClearBits [0x773DB71F+191]\n",
      "\n"
     ]
    },
    {
     "name": "stderr",
     "output_type": "stream",
     "text": [
      "could not detect version_main.therefore, we are assuming it is chrome 108 or higher\n"
     ]
    },
    {
     "name": "stdout",
     "output_type": "stream",
     "text": [
      "Saved to db successfully\n",
      "Done with link 45838: https://www.zoopla.co.uk/for-sale/details/64399942/?search_identifier=482d718adee13e38e21156f34b1e541c383b10b5389c0cc49e090b53eec76bb3\n",
      "Starting extraction for link 45839: https://www.zoopla.co.uk/for-sale/details/64398743/?search_identifier=482d718adee13e38e21156f34b1e541c383b10b5389c0cc49e090b53eec76bb3\n"
     ]
    },
    {
     "name": "stderr",
     "output_type": "stream",
     "text": [
      "could not detect version_main.therefore, we are assuming it is chrome 108 or higher\n"
     ]
    },
    {
     "name": "stdout",
     "output_type": "stream",
     "text": [
      "Saved to db successfully\n",
      "Done with link 45839: https://www.zoopla.co.uk/for-sale/details/64398743/?search_identifier=482d718adee13e38e21156f34b1e541c383b10b5389c0cc49e090b53eec76bb3\n",
      "Starting extraction for link 45840: https://www.zoopla.co.uk/for-sale/details/64388720/?search_identifier=482d718adee13e38e21156f34b1e541c383b10b5389c0cc49e090b53eec76bb3\n"
     ]
    },
    {
     "name": "stderr",
     "output_type": "stream",
     "text": [
      "could not detect version_main.therefore, we are assuming it is chrome 108 or higher\n"
     ]
    },
    {
     "name": "stdout",
     "output_type": "stream",
     "text": [
      "Saved to db successfully\n",
      "Done with link 45840: https://www.zoopla.co.uk/for-sale/details/64388720/?search_identifier=482d718adee13e38e21156f34b1e541c383b10b5389c0cc49e090b53eec76bb3\n",
      "Starting extraction for link 45841: https://www.zoopla.co.uk/for-sale/details/64374463/?search_identifier=482d718adee13e38e21156f34b1e541c383b10b5389c0cc49e090b53eec76bb3\n"
     ]
    },
    {
     "name": "stderr",
     "output_type": "stream",
     "text": [
      "could not detect version_main.therefore, we are assuming it is chrome 108 or higher\n"
     ]
    },
    {
     "name": "stdout",
     "output_type": "stream",
     "text": [
      "Saved to db successfully\n",
      "Done with link 45841: https://www.zoopla.co.uk/for-sale/details/64374463/?search_identifier=482d718adee13e38e21156f34b1e541c383b10b5389c0cc49e090b53eec76bb3\n",
      "Starting extraction for link 45842: https://www.zoopla.co.uk/for-sale/details/64371266/?search_identifier=482d718adee13e38e21156f34b1e541c383b10b5389c0cc49e090b53eec76bb3\n"
     ]
    },
    {
     "name": "stderr",
     "output_type": "stream",
     "text": [
      "could not detect version_main.therefore, we are assuming it is chrome 108 or higher\n"
     ]
    },
    {
     "name": "stdout",
     "output_type": "stream",
     "text": [
      "Saved to db successfully\n",
      "Done with link 45842: https://www.zoopla.co.uk/for-sale/details/64371266/?search_identifier=482d718adee13e38e21156f34b1e541c383b10b5389c0cc49e090b53eec76bb3\n",
      "Starting extraction for link 45843: https://www.zoopla.co.uk/for-sale/details/64324493/?search_identifier=482d718adee13e38e21156f34b1e541c383b10b5389c0cc49e090b53eec76bb3\n"
     ]
    },
    {
     "name": "stderr",
     "output_type": "stream",
     "text": [
      "could not detect version_main.therefore, we are assuming it is chrome 108 or higher\n"
     ]
    },
    {
     "name": "stdout",
     "output_type": "stream",
     "text": [
      "Saved to db successfully\n",
      "Done with link 45843: https://www.zoopla.co.uk/for-sale/details/64324493/?search_identifier=482d718adee13e38e21156f34b1e541c383b10b5389c0cc49e090b53eec76bb3\n",
      "Starting extraction for link 45844: https://www.zoopla.co.uk/for-sale/details/64324420/?search_identifier=482d718adee13e38e21156f34b1e541c383b10b5389c0cc49e090b53eec76bb3\n"
     ]
    },
    {
     "name": "stderr",
     "output_type": "stream",
     "text": [
      "could not detect version_main.therefore, we are assuming it is chrome 108 or higher\n"
     ]
    },
    {
     "name": "stdout",
     "output_type": "stream",
     "text": [
      "Saved to db successfully\n",
      "Done with link 45844: https://www.zoopla.co.uk/for-sale/details/64324420/?search_identifier=482d718adee13e38e21156f34b1e541c383b10b5389c0cc49e090b53eec76bb3\n",
      "Starting extraction for link 45845: https://www.zoopla.co.uk/for-sale/details/64319746/?search_identifier=482d718adee13e38e21156f34b1e541c383b10b5389c0cc49e090b53eec76bb3\n"
     ]
    },
    {
     "name": "stderr",
     "output_type": "stream",
     "text": [
      "could not detect version_main.therefore, we are assuming it is chrome 108 or higher\n"
     ]
    },
    {
     "name": "stdout",
     "output_type": "stream",
     "text": [
      "Saved to db successfully\n",
      "Done with link 45845: https://www.zoopla.co.uk/for-sale/details/64319746/?search_identifier=482d718adee13e38e21156f34b1e541c383b10b5389c0cc49e090b53eec76bb3\n",
      "Starting extraction for link 45846: https://www.zoopla.co.uk/for-sale/details/64277583/?search_identifier=482d718adee13e38e21156f34b1e541c383b10b5389c0cc49e090b53eec76bb3\n"
     ]
    },
    {
     "name": "stderr",
     "output_type": "stream",
     "text": [
      "could not detect version_main.therefore, we are assuming it is chrome 108 or higher\n"
     ]
    },
    {
     "name": "stdout",
     "output_type": "stream",
     "text": [
      "Saved to db successfully\n",
      "Done with link 45846: https://www.zoopla.co.uk/for-sale/details/64277583/?search_identifier=482d718adee13e38e21156f34b1e541c383b10b5389c0cc49e090b53eec76bb3\n",
      "Starting extraction for link 45847: https://www.zoopla.co.uk/for-sale/details/64272258/?search_identifier=482d718adee13e38e21156f34b1e541c383b10b5389c0cc49e090b53eec76bb3\n"
     ]
    },
    {
     "name": "stderr",
     "output_type": "stream",
     "text": [
      "could not detect version_main.therefore, we are assuming it is chrome 108 or higher\n"
     ]
    },
    {
     "name": "stdout",
     "output_type": "stream",
     "text": [
      "Saved to db successfully\n",
      "Done with link 45847: https://www.zoopla.co.uk/for-sale/details/64272258/?search_identifier=482d718adee13e38e21156f34b1e541c383b10b5389c0cc49e090b53eec76bb3\n",
      "Starting extraction for link 45848: https://www.zoopla.co.uk/for-sale/details/64235593/?search_identifier=482d718adee13e38e21156f34b1e541c383b10b5389c0cc49e090b53eec76bb3\n"
     ]
    },
    {
     "name": "stderr",
     "output_type": "stream",
     "text": [
      "could not detect version_main.therefore, we are assuming it is chrome 108 or higher\n"
     ]
    },
    {
     "name": "stdout",
     "output_type": "stream",
     "text": [
      "Saved to db successfully\n",
      "Done with link 45848: https://www.zoopla.co.uk/for-sale/details/64235593/?search_identifier=482d718adee13e38e21156f34b1e541c383b10b5389c0cc49e090b53eec76bb3\n",
      "Starting extraction for link 45849: https://www.zoopla.co.uk/for-sale/details/64218580/?search_identifier=482d718adee13e38e21156f34b1e541c383b10b5389c0cc49e090b53eec76bb3\n",
      "An error occurred for link in get_data_func: https://www.zoopla.co.uk/for-sale/details/64218580/?search_identifier=482d718adee13e38e21156f34b1e541c383b10b5389c0cc49e090b53eec76bb3: Message: no such element: Unable to locate element: {\"method\":\"xpath\",\"selector\":\"//p[@data-testid=\"price\"]\"}\n",
      "  (Session info: chrome=115.0.5790.171); For documentation on this error, please visit: https://www.selenium.dev/documentation/webdriver/troubleshooting/errors#no-such-element-exception\n",
      "Stacktrace:\n",
      "Backtrace:\n",
      "\tGetHandleVerifier [0x0073A813+48355]\n",
      "\t(No symbol) [0x006CC4B1]\n",
      "\t(No symbol) [0x005D5358]\n",
      "\t(No symbol) [0x006009A5]\n",
      "\t(No symbol) [0x00600B3B]\n",
      "\t(No symbol) [0x0062E232]\n",
      "\t(No symbol) [0x0061A784]\n",
      "\t(No symbol) [0x0062C922]\n",
      "\t(No symbol) [0x0061A536]\n",
      "\t(No symbol) [0x005F82DC]\n",
      "\t(No symbol) [0x005F93DD]\n",
      "\tGetHandleVerifier [0x0099AABD+2539405]\n",
      "\tGetHandleVerifier [0x009DA78F+2800735]\n",
      "\tGetHandleVerifier [0x009D456C+2775612]\n",
      "\tGetHandleVerifier [0x007C51E0+616112]\n",
      "\t(No symbol) [0x006D5F8C]\n",
      "\t(No symbol) [0x006D2328]\n",
      "\t(No symbol) [0x006D240B]\n",
      "\t(No symbol) [0x006C4FF7]\n",
      "\tBaseThreadInitThunk [0x761E7D59+25]\n",
      "\tRtlInitializeExceptionChain [0x773DB79B+107]\n",
      "\tRtlClearBits [0x773DB71F+191]\n",
      "\n"
     ]
    },
    {
     "name": "stderr",
     "output_type": "stream",
     "text": [
      "could not detect version_main.therefore, we are assuming it is chrome 108 or higher\n"
     ]
    },
    {
     "name": "stdout",
     "output_type": "stream",
     "text": [
      "Saved to db successfully\n",
      "Done with link 45849: https://www.zoopla.co.uk/for-sale/details/64218580/?search_identifier=482d718adee13e38e21156f34b1e541c383b10b5389c0cc49e090b53eec76bb3\n",
      "Starting extraction for link 45850: https://www.zoopla.co.uk/for-sale/details/64175571/?search_identifier=482d718adee13e38e21156f34b1e541c383b10b5389c0cc49e090b53eec76bb3\n"
     ]
    },
    {
     "name": "stderr",
     "output_type": "stream",
     "text": [
      "could not detect version_main.therefore, we are assuming it is chrome 108 or higher\n"
     ]
    },
    {
     "name": "stdout",
     "output_type": "stream",
     "text": [
      "Saved to db successfully\n",
      "Done with link 45850: https://www.zoopla.co.uk/for-sale/details/64175571/?search_identifier=482d718adee13e38e21156f34b1e541c383b10b5389c0cc49e090b53eec76bb3\n",
      "Starting extraction for link 45851: https://www.zoopla.co.uk/for-sale/details/64169916/?search_identifier=482d718adee13e38e21156f34b1e541c383b10b5389c0cc49e090b53eec76bb3\n"
     ]
    },
    {
     "name": "stderr",
     "output_type": "stream",
     "text": [
      "could not detect version_main.therefore, we are assuming it is chrome 108 or higher\n"
     ]
    },
    {
     "name": "stdout",
     "output_type": "stream",
     "text": [
      "Saved to db successfully\n",
      "Done with link 45851: https://www.zoopla.co.uk/for-sale/details/64169916/?search_identifier=482d718adee13e38e21156f34b1e541c383b10b5389c0cc49e090b53eec76bb3\n",
      "Starting extraction for link 45852: https://www.zoopla.co.uk/for-sale/details/64167379/?search_identifier=482d718adee13e38e21156f34b1e541c383b10b5389c0cc49e090b53eec76bb3\n"
     ]
    },
    {
     "name": "stderr",
     "output_type": "stream",
     "text": [
      "could not detect version_main.therefore, we are assuming it is chrome 108 or higher\n"
     ]
    },
    {
     "name": "stdout",
     "output_type": "stream",
     "text": [
      "Saved to db successfully\n",
      "Done with link 45852: https://www.zoopla.co.uk/for-sale/details/64167379/?search_identifier=482d718adee13e38e21156f34b1e541c383b10b5389c0cc49e090b53eec76bb3\n",
      "Starting extraction for link 45853: https://www.zoopla.co.uk/for-sale/details/64164546/?search_identifier=482d718adee13e38e21156f34b1e541c383b10b5389c0cc49e090b53eec76bb3\n"
     ]
    },
    {
     "name": "stderr",
     "output_type": "stream",
     "text": [
      "could not detect version_main.therefore, we are assuming it is chrome 108 or higher\n"
     ]
    },
    {
     "name": "stdout",
     "output_type": "stream",
     "text": [
      "Saved to db successfully\n",
      "Done with link 45853: https://www.zoopla.co.uk/for-sale/details/64164546/?search_identifier=482d718adee13e38e21156f34b1e541c383b10b5389c0cc49e090b53eec76bb3\n",
      "Starting extraction for link 45854: https://www.zoopla.co.uk/for-sale/details/64128114/?search_identifier=482d718adee13e38e21156f34b1e541c383b10b5389c0cc49e090b53eec76bb3\n"
     ]
    },
    {
     "name": "stderr",
     "output_type": "stream",
     "text": [
      "could not detect version_main.therefore, we are assuming it is chrome 108 or higher\n"
     ]
    },
    {
     "name": "stdout",
     "output_type": "stream",
     "text": [
      "Saved to db successfully\n",
      "Done with link 45854: https://www.zoopla.co.uk/for-sale/details/64128114/?search_identifier=482d718adee13e38e21156f34b1e541c383b10b5389c0cc49e090b53eec76bb3\n",
      "Starting extraction for link 45855: https://www.zoopla.co.uk/for-sale/details/64117156/?search_identifier=482d718adee13e38e21156f34b1e541c383b10b5389c0cc49e090b53eec76bb3\n"
     ]
    },
    {
     "name": "stderr",
     "output_type": "stream",
     "text": [
      "could not detect version_main.therefore, we are assuming it is chrome 108 or higher\n"
     ]
    },
    {
     "name": "stdout",
     "output_type": "stream",
     "text": [
      "Saved to db successfully\n",
      "Done with link 45855: https://www.zoopla.co.uk/for-sale/details/64117156/?search_identifier=482d718adee13e38e21156f34b1e541c383b10b5389c0cc49e090b53eec76bb3\n",
      "Starting extraction for link 45856: https://www.zoopla.co.uk/for-sale/details/64103479/?search_identifier=482d718adee13e38e21156f34b1e541c383b10b5389c0cc49e090b53eec76bb3\n"
     ]
    },
    {
     "name": "stderr",
     "output_type": "stream",
     "text": [
      "could not detect version_main.therefore, we are assuming it is chrome 108 or higher\n"
     ]
    },
    {
     "name": "stdout",
     "output_type": "stream",
     "text": [
      "Saved to db successfully\n",
      "Done with link 45856: https://www.zoopla.co.uk/for-sale/details/64103479/?search_identifier=482d718adee13e38e21156f34b1e541c383b10b5389c0cc49e090b53eec76bb3\n",
      "Starting extraction for link 45857: https://www.zoopla.co.uk/for-sale/details/64086806/?search_identifier=482d718adee13e38e21156f34b1e541c383b10b5389c0cc49e090b53eec76bb3\n"
     ]
    },
    {
     "name": "stderr",
     "output_type": "stream",
     "text": [
      "could not detect version_main.therefore, we are assuming it is chrome 108 or higher\n"
     ]
    },
    {
     "name": "stdout",
     "output_type": "stream",
     "text": [
      "Saved to db successfully\n",
      "Done with link 45857: https://www.zoopla.co.uk/for-sale/details/64086806/?search_identifier=482d718adee13e38e21156f34b1e541c383b10b5389c0cc49e090b53eec76bb3\n",
      "Starting extraction for link 45858: https://www.zoopla.co.uk/for-sale/details/64076527/?search_identifier=6392799ad000775fc0f96c588e86373585eed3a4d28a2e6c2b9e88383efcbe8e\n"
     ]
    },
    {
     "name": "stderr",
     "output_type": "stream",
     "text": [
      "could not detect version_main.therefore, we are assuming it is chrome 108 or higher\n"
     ]
    },
    {
     "name": "stdout",
     "output_type": "stream",
     "text": [
      "Saved to db successfully\n",
      "Done with link 45858: https://www.zoopla.co.uk/for-sale/details/64076527/?search_identifier=6392799ad000775fc0f96c588e86373585eed3a4d28a2e6c2b9e88383efcbe8e\n",
      "Starting extraction for link 45859: https://www.zoopla.co.uk/for-sale/details/64067952/?search_identifier=6392799ad000775fc0f96c588e86373585eed3a4d28a2e6c2b9e88383efcbe8e\n"
     ]
    },
    {
     "name": "stderr",
     "output_type": "stream",
     "text": [
      "could not detect version_main.therefore, we are assuming it is chrome 108 or higher\n"
     ]
    },
    {
     "name": "stdout",
     "output_type": "stream",
     "text": [
      "Saved to db successfully\n",
      "Done with link 45859: https://www.zoopla.co.uk/for-sale/details/64067952/?search_identifier=6392799ad000775fc0f96c588e86373585eed3a4d28a2e6c2b9e88383efcbe8e\n",
      "Starting extraction for link 45860: https://www.zoopla.co.uk/for-sale/details/64055017/?search_identifier=6392799ad000775fc0f96c588e86373585eed3a4d28a2e6c2b9e88383efcbe8e\n"
     ]
    },
    {
     "name": "stderr",
     "output_type": "stream",
     "text": [
      "could not detect version_main.therefore, we are assuming it is chrome 108 or higher\n"
     ]
    },
    {
     "name": "stdout",
     "output_type": "stream",
     "text": [
      "Saved to db successfully\n",
      "Done with link 45860: https://www.zoopla.co.uk/for-sale/details/64055017/?search_identifier=6392799ad000775fc0f96c588e86373585eed3a4d28a2e6c2b9e88383efcbe8e\n",
      "Starting extraction for link 45861: https://www.zoopla.co.uk/for-sale/details/64029747/?search_identifier=6392799ad000775fc0f96c588e86373585eed3a4d28a2e6c2b9e88383efcbe8e\n"
     ]
    },
    {
     "name": "stderr",
     "output_type": "stream",
     "text": [
      "could not detect version_main.therefore, we are assuming it is chrome 108 or higher\n"
     ]
    },
    {
     "name": "stdout",
     "output_type": "stream",
     "text": [
      "Saved to db successfully\n",
      "Done with link 45861: https://www.zoopla.co.uk/for-sale/details/64029747/?search_identifier=6392799ad000775fc0f96c588e86373585eed3a4d28a2e6c2b9e88383efcbe8e\n",
      "Starting extraction for link 45862: https://www.zoopla.co.uk/for-sale/details/64022077/?search_identifier=6392799ad000775fc0f96c588e86373585eed3a4d28a2e6c2b9e88383efcbe8e\n"
     ]
    },
    {
     "name": "stderr",
     "output_type": "stream",
     "text": [
      "could not detect version_main.therefore, we are assuming it is chrome 108 or higher\n"
     ]
    },
    {
     "name": "stdout",
     "output_type": "stream",
     "text": [
      "Saved to db successfully\n",
      "Done with link 45862: https://www.zoopla.co.uk/for-sale/details/64022077/?search_identifier=6392799ad000775fc0f96c588e86373585eed3a4d28a2e6c2b9e88383efcbe8e\n",
      "Starting extraction for link 45863: https://www.zoopla.co.uk/for-sale/details/63974609/?search_identifier=6392799ad000775fc0f96c588e86373585eed3a4d28a2e6c2b9e88383efcbe8e\n"
     ]
    },
    {
     "name": "stderr",
     "output_type": "stream",
     "text": [
      "could not detect version_main.therefore, we are assuming it is chrome 108 or higher\n"
     ]
    },
    {
     "name": "stdout",
     "output_type": "stream",
     "text": [
      "Saved to db successfully\n",
      "Done with link 45863: https://www.zoopla.co.uk/for-sale/details/63974609/?search_identifier=6392799ad000775fc0f96c588e86373585eed3a4d28a2e6c2b9e88383efcbe8e\n",
      "Starting extraction for link 45864: https://www.zoopla.co.uk/for-sale/details/63969899/?search_identifier=6392799ad000775fc0f96c588e86373585eed3a4d28a2e6c2b9e88383efcbe8e\n"
     ]
    },
    {
     "name": "stderr",
     "output_type": "stream",
     "text": [
      "could not detect version_main.therefore, we are assuming it is chrome 108 or higher\n"
     ]
    },
    {
     "name": "stdout",
     "output_type": "stream",
     "text": [
      "Saved to db successfully\n",
      "Done with link 45864: https://www.zoopla.co.uk/for-sale/details/63969899/?search_identifier=6392799ad000775fc0f96c588e86373585eed3a4d28a2e6c2b9e88383efcbe8e\n",
      "Starting extraction for link 45865: https://www.zoopla.co.uk/for-sale/details/63965616/?search_identifier=6392799ad000775fc0f96c588e86373585eed3a4d28a2e6c2b9e88383efcbe8e\n"
     ]
    },
    {
     "name": "stderr",
     "output_type": "stream",
     "text": [
      "could not detect version_main.therefore, we are assuming it is chrome 108 or higher\n"
     ]
    },
    {
     "name": "stdout",
     "output_type": "stream",
     "text": [
      "Saved to db successfully\n",
      "Done with link 45865: https://www.zoopla.co.uk/for-sale/details/63965616/?search_identifier=6392799ad000775fc0f96c588e86373585eed3a4d28a2e6c2b9e88383efcbe8e\n",
      "Starting extraction for link 45866: https://www.zoopla.co.uk/for-sale/details/63932749/?search_identifier=6392799ad000775fc0f96c588e86373585eed3a4d28a2e6c2b9e88383efcbe8e\n",
      "An error occurred for link in get_data_func: https://www.zoopla.co.uk/for-sale/details/63932749/?search_identifier=6392799ad000775fc0f96c588e86373585eed3a4d28a2e6c2b9e88383efcbe8e: Message: no such element: Unable to locate element: {\"method\":\"xpath\",\"selector\":\"//p[@data-testid=\"price\"]\"}\n",
      "  (Session info: chrome=115.0.5790.171); For documentation on this error, please visit: https://www.selenium.dev/documentation/webdriver/troubleshooting/errors#no-such-element-exception\n",
      "Stacktrace:\n",
      "Backtrace:\n",
      "\tGetHandleVerifier [0x0073A813+48355]\n",
      "\t(No symbol) [0x006CC4B1]\n",
      "\t(No symbol) [0x005D5358]\n",
      "\t(No symbol) [0x006009A5]\n",
      "\t(No symbol) [0x00600B3B]\n",
      "\t(No symbol) [0x0062E232]\n",
      "\t(No symbol) [0x0061A784]\n",
      "\t(No symbol) [0x0062C922]\n",
      "\t(No symbol) [0x0061A536]\n",
      "\t(No symbol) [0x005F82DC]\n",
      "\t(No symbol) [0x005F93DD]\n",
      "\tGetHandleVerifier [0x0099AABD+2539405]\n",
      "\tGetHandleVerifier [0x009DA78F+2800735]\n",
      "\tGetHandleVerifier [0x009D456C+2775612]\n",
      "\tGetHandleVerifier [0x007C51E0+616112]\n",
      "\t(No symbol) [0x006D5F8C]\n",
      "\t(No symbol) [0x006D2328]\n",
      "\t(No symbol) [0x006D240B]\n",
      "\t(No symbol) [0x006C4FF7]\n",
      "\tBaseThreadInitThunk [0x761E7D59+25]\n",
      "\tRtlInitializeExceptionChain [0x773DB79B+107]\n",
      "\tRtlClearBits [0x773DB71F+191]\n",
      "\n"
     ]
    },
    {
     "name": "stderr",
     "output_type": "stream",
     "text": [
      "could not detect version_main.therefore, we are assuming it is chrome 108 or higher\n"
     ]
    },
    {
     "name": "stdout",
     "output_type": "stream",
     "text": [
      "Saved to db successfully\n",
      "Done with link 45866: https://www.zoopla.co.uk/for-sale/details/63932749/?search_identifier=6392799ad000775fc0f96c588e86373585eed3a4d28a2e6c2b9e88383efcbe8e\n",
      "Starting extraction for link 45867: https://www.zoopla.co.uk/for-sale/details/63928423/?search_identifier=6392799ad000775fc0f96c588e86373585eed3a4d28a2e6c2b9e88383efcbe8e\n",
      "An error occurred for link in get_data_func: https://www.zoopla.co.uk/for-sale/details/63928423/?search_identifier=6392799ad000775fc0f96c588e86373585eed3a4d28a2e6c2b9e88383efcbe8e: Message: no such element: Unable to locate element: {\"method\":\"xpath\",\"selector\":\"//p[@data-testid=\"price\"]\"}\n",
      "  (Session info: chrome=115.0.5790.171); For documentation on this error, please visit: https://www.selenium.dev/documentation/webdriver/troubleshooting/errors#no-such-element-exception\n",
      "Stacktrace:\n",
      "Backtrace:\n",
      "\tGetHandleVerifier [0x0073A813+48355]\n",
      "\t(No symbol) [0x006CC4B1]\n",
      "\t(No symbol) [0x005D5358]\n",
      "\t(No symbol) [0x006009A5]\n",
      "\t(No symbol) [0x00600B3B]\n",
      "\t(No symbol) [0x0062E232]\n",
      "\t(No symbol) [0x0061A784]\n",
      "\t(No symbol) [0x0062C922]\n",
      "\t(No symbol) [0x0061A536]\n",
      "\t(No symbol) [0x005F82DC]\n",
      "\t(No symbol) [0x005F93DD]\n",
      "\tGetHandleVerifier [0x0099AABD+2539405]\n",
      "\tGetHandleVerifier [0x009DA78F+2800735]\n",
      "\tGetHandleVerifier [0x009D456C+2775612]\n",
      "\tGetHandleVerifier [0x007C51E0+616112]\n",
      "\t(No symbol) [0x006D5F8C]\n",
      "\t(No symbol) [0x006D2328]\n",
      "\t(No symbol) [0x006D240B]\n",
      "\t(No symbol) [0x006C4FF7]\n",
      "\tBaseThreadInitThunk [0x761E7D59+25]\n",
      "\tRtlInitializeExceptionChain [0x773DB79B+107]\n",
      "\tRtlClearBits [0x773DB71F+191]\n",
      "\n"
     ]
    },
    {
     "name": "stderr",
     "output_type": "stream",
     "text": [
      "could not detect version_main.therefore, we are assuming it is chrome 108 or higher\n"
     ]
    },
    {
     "name": "stdout",
     "output_type": "stream",
     "text": [
      "Saved to db successfully\n",
      "Done with link 45867: https://www.zoopla.co.uk/for-sale/details/63928423/?search_identifier=6392799ad000775fc0f96c588e86373585eed3a4d28a2e6c2b9e88383efcbe8e\n",
      "Starting extraction for link 45868: https://www.zoopla.co.uk/for-sale/details/63882373/?search_identifier=6392799ad000775fc0f96c588e86373585eed3a4d28a2e6c2b9e88383efcbe8e\n"
     ]
    },
    {
     "name": "stderr",
     "output_type": "stream",
     "text": [
      "could not detect version_main.therefore, we are assuming it is chrome 108 or higher\n"
     ]
    },
    {
     "name": "stdout",
     "output_type": "stream",
     "text": [
      "Saved to db successfully\n",
      "Done with link 45868: https://www.zoopla.co.uk/for-sale/details/63882373/?search_identifier=6392799ad000775fc0f96c588e86373585eed3a4d28a2e6c2b9e88383efcbe8e\n",
      "Starting extraction for link 45869: https://www.zoopla.co.uk/new-homes/details/63879503/?search_identifier=6392799ad000775fc0f96c588e86373585eed3a4d28a2e6c2b9e88383efcbe8e\n"
     ]
    },
    {
     "name": "stderr",
     "output_type": "stream",
     "text": [
      "could not detect version_main.therefore, we are assuming it is chrome 108 or higher\n"
     ]
    },
    {
     "name": "stdout",
     "output_type": "stream",
     "text": [
      "Saved to db successfully\n",
      "Done with link 45869: https://www.zoopla.co.uk/new-homes/details/63879503/?search_identifier=6392799ad000775fc0f96c588e86373585eed3a4d28a2e6c2b9e88383efcbe8e\n",
      "Starting extraction for link 45870: https://www.zoopla.co.uk/for-sale/details/63854181/?search_identifier=6392799ad000775fc0f96c588e86373585eed3a4d28a2e6c2b9e88383efcbe8e\n"
     ]
    },
    {
     "name": "stderr",
     "output_type": "stream",
     "text": [
      "could not detect version_main.therefore, we are assuming it is chrome 108 or higher\n"
     ]
    },
    {
     "name": "stdout",
     "output_type": "stream",
     "text": [
      "Saved to db successfully\n",
      "Done with link 45870: https://www.zoopla.co.uk/for-sale/details/63854181/?search_identifier=6392799ad000775fc0f96c588e86373585eed3a4d28a2e6c2b9e88383efcbe8e\n",
      "Starting extraction for link 45871: https://www.zoopla.co.uk/new-homes/details/63777577/?search_identifier=6392799ad000775fc0f96c588e86373585eed3a4d28a2e6c2b9e88383efcbe8e\n"
     ]
    },
    {
     "name": "stderr",
     "output_type": "stream",
     "text": [
      "could not detect version_main.therefore, we are assuming it is chrome 108 or higher\n"
     ]
    },
    {
     "name": "stdout",
     "output_type": "stream",
     "text": [
      "Saved to db successfully\n",
      "Done with link 45871: https://www.zoopla.co.uk/new-homes/details/63777577/?search_identifier=6392799ad000775fc0f96c588e86373585eed3a4d28a2e6c2b9e88383efcbe8e\n",
      "Starting extraction for link 45872: https://www.zoopla.co.uk/new-homes/details/60761643/?search_identifier=6392799ad000775fc0f96c588e86373585eed3a4d28a2e6c2b9e88383efcbe8e\n"
     ]
    },
    {
     "name": "stderr",
     "output_type": "stream",
     "text": [
      "could not detect version_main.therefore, we are assuming it is chrome 108 or higher\n"
     ]
    },
    {
     "name": "stdout",
     "output_type": "stream",
     "text": [
      "Saved to db successfully\n",
      "Done with link 45872: https://www.zoopla.co.uk/new-homes/details/60761643/?search_identifier=6392799ad000775fc0f96c588e86373585eed3a4d28a2e6c2b9e88383efcbe8e\n",
      "Starting extraction for link 45873: https://www.zoopla.co.uk/for-sale/details/63762068/?search_identifier=6392799ad000775fc0f96c588e86373585eed3a4d28a2e6c2b9e88383efcbe8e\n"
     ]
    },
    {
     "name": "stderr",
     "output_type": "stream",
     "text": [
      "could not detect version_main.therefore, we are assuming it is chrome 108 or higher\n"
     ]
    },
    {
     "name": "stdout",
     "output_type": "stream",
     "text": [
      "Saved to db successfully\n",
      "Done with link 45873: https://www.zoopla.co.uk/for-sale/details/63762068/?search_identifier=6392799ad000775fc0f96c588e86373585eed3a4d28a2e6c2b9e88383efcbe8e\n",
      "Starting extraction for link 45874: https://www.zoopla.co.uk/for-sale/details/63755033/?search_identifier=6392799ad000775fc0f96c588e86373585eed3a4d28a2e6c2b9e88383efcbe8e\n"
     ]
    },
    {
     "name": "stderr",
     "output_type": "stream",
     "text": [
      "could not detect version_main.therefore, we are assuming it is chrome 108 or higher\n"
     ]
    },
    {
     "name": "stdout",
     "output_type": "stream",
     "text": [
      "Saved to db successfully\n",
      "Done with link 45874: https://www.zoopla.co.uk/for-sale/details/63755033/?search_identifier=6392799ad000775fc0f96c588e86373585eed3a4d28a2e6c2b9e88383efcbe8e\n",
      "Starting extraction for link 45875: https://www.zoopla.co.uk/for-sale/details/63734731/?search_identifier=6392799ad000775fc0f96c588e86373585eed3a4d28a2e6c2b9e88383efcbe8e\n"
     ]
    },
    {
     "name": "stderr",
     "output_type": "stream",
     "text": [
      "could not detect version_main.therefore, we are assuming it is chrome 108 or higher\n"
     ]
    },
    {
     "name": "stdout",
     "output_type": "stream",
     "text": [
      "Saved to db successfully\n",
      "Done with link 45875: https://www.zoopla.co.uk/for-sale/details/63734731/?search_identifier=6392799ad000775fc0f96c588e86373585eed3a4d28a2e6c2b9e88383efcbe8e\n",
      "Starting extraction for link 45876: https://www.zoopla.co.uk/for-sale/details/63730774/?search_identifier=6392799ad000775fc0f96c588e86373585eed3a4d28a2e6c2b9e88383efcbe8e\n"
     ]
    },
    {
     "name": "stderr",
     "output_type": "stream",
     "text": [
      "could not detect version_main.therefore, we are assuming it is chrome 108 or higher\n"
     ]
    },
    {
     "name": "stdout",
     "output_type": "stream",
     "text": [
      "Saved to db successfully\n",
      "Done with link 45876: https://www.zoopla.co.uk/for-sale/details/63730774/?search_identifier=6392799ad000775fc0f96c588e86373585eed3a4d28a2e6c2b9e88383efcbe8e\n",
      "Starting extraction for link 45877: https://www.zoopla.co.uk/for-sale/details/63724748/?search_identifier=6392799ad000775fc0f96c588e86373585eed3a4d28a2e6c2b9e88383efcbe8e\n"
     ]
    },
    {
     "name": "stderr",
     "output_type": "stream",
     "text": [
      "could not detect version_main.therefore, we are assuming it is chrome 108 or higher\n"
     ]
    },
    {
     "name": "stdout",
     "output_type": "stream",
     "text": [
      "Saved to db successfully\n",
      "Done with link 45877: https://www.zoopla.co.uk/for-sale/details/63724748/?search_identifier=6392799ad000775fc0f96c588e86373585eed3a4d28a2e6c2b9e88383efcbe8e\n",
      "Starting extraction for link 45878: https://www.zoopla.co.uk/for-sale/details/63576677/?search_identifier=6392799ad000775fc0f96c588e86373585eed3a4d28a2e6c2b9e88383efcbe8e\n"
     ]
    },
    {
     "name": "stderr",
     "output_type": "stream",
     "text": [
      "could not detect version_main.therefore, we are assuming it is chrome 108 or higher\n"
     ]
    },
    {
     "name": "stdout",
     "output_type": "stream",
     "text": [
      "Saved to db successfully\n",
      "Done with link 45878: https://www.zoopla.co.uk/for-sale/details/63576677/?search_identifier=6392799ad000775fc0f96c588e86373585eed3a4d28a2e6c2b9e88383efcbe8e\n",
      "Starting extraction for link 45879: https://www.zoopla.co.uk/for-sale/details/63497722/?search_identifier=6392799ad000775fc0f96c588e86373585eed3a4d28a2e6c2b9e88383efcbe8e\n"
     ]
    },
    {
     "name": "stderr",
     "output_type": "stream",
     "text": [
      "could not detect version_main.therefore, we are assuming it is chrome 108 or higher\n"
     ]
    },
    {
     "name": "stdout",
     "output_type": "stream",
     "text": [
      "Saved to db successfully\n",
      "Done with link 45879: https://www.zoopla.co.uk/for-sale/details/63497722/?search_identifier=6392799ad000775fc0f96c588e86373585eed3a4d28a2e6c2b9e88383efcbe8e\n",
      "Starting extraction for link 45880: https://www.zoopla.co.uk/for-sale/details/63476780/?search_identifier=6392799ad000775fc0f96c588e86373585eed3a4d28a2e6c2b9e88383efcbe8e\n"
     ]
    },
    {
     "name": "stderr",
     "output_type": "stream",
     "text": [
      "could not detect version_main.therefore, we are assuming it is chrome 108 or higher\n"
     ]
    },
    {
     "name": "stdout",
     "output_type": "stream",
     "text": [
      "Saved to db successfully\n",
      "Done with link 45880: https://www.zoopla.co.uk/for-sale/details/63476780/?search_identifier=6392799ad000775fc0f96c588e86373585eed3a4d28a2e6c2b9e88383efcbe8e\n",
      "Starting extraction for link 45881: https://www.zoopla.co.uk/for-sale/details/63450656/?search_identifier=6392799ad000775fc0f96c588e86373585eed3a4d28a2e6c2b9e88383efcbe8e\n"
     ]
    },
    {
     "name": "stderr",
     "output_type": "stream",
     "text": [
      "could not detect version_main.therefore, we are assuming it is chrome 108 or higher\n"
     ]
    },
    {
     "name": "stdout",
     "output_type": "stream",
     "text": [
      "Saved to db successfully\n",
      "Done with link 45881: https://www.zoopla.co.uk/for-sale/details/63450656/?search_identifier=6392799ad000775fc0f96c588e86373585eed3a4d28a2e6c2b9e88383efcbe8e\n",
      "Starting extraction for link 45882: https://www.zoopla.co.uk/for-sale/details/63438209/?search_identifier=6392799ad000775fc0f96c588e86373585eed3a4d28a2e6c2b9e88383efcbe8e\n"
     ]
    },
    {
     "name": "stderr",
     "output_type": "stream",
     "text": [
      "could not detect version_main.therefore, we are assuming it is chrome 108 or higher\n"
     ]
    },
    {
     "name": "stdout",
     "output_type": "stream",
     "text": [
      "Saved to db successfully\n",
      "Done with link 45882: https://www.zoopla.co.uk/for-sale/details/63438209/?search_identifier=6392799ad000775fc0f96c588e86373585eed3a4d28a2e6c2b9e88383efcbe8e\n",
      "Starting extraction for link 45883: https://www.zoopla.co.uk/for-sale/details/63410475/?search_identifier=566991cee0fbf4054f64f07bfffce1f32cdfbdf6fcdc8c42c1b455b0324f791c\n"
     ]
    },
    {
     "name": "stderr",
     "output_type": "stream",
     "text": [
      "could not detect version_main.therefore, we are assuming it is chrome 108 or higher\n"
     ]
    },
    {
     "name": "stdout",
     "output_type": "stream",
     "text": [
      "Saved to db successfully\n",
      "Done with link 45883: https://www.zoopla.co.uk/for-sale/details/63410475/?search_identifier=566991cee0fbf4054f64f07bfffce1f32cdfbdf6fcdc8c42c1b455b0324f791c\n",
      "Starting extraction for link 45884: https://www.zoopla.co.uk/for-sale/details/63398171/?search_identifier=566991cee0fbf4054f64f07bfffce1f32cdfbdf6fcdc8c42c1b455b0324f791c\n"
     ]
    },
    {
     "name": "stderr",
     "output_type": "stream",
     "text": [
      "could not detect version_main.therefore, we are assuming it is chrome 108 or higher\n"
     ]
    },
    {
     "name": "stdout",
     "output_type": "stream",
     "text": [
      "Saved to db successfully\n",
      "Done with link 45884: https://www.zoopla.co.uk/for-sale/details/63398171/?search_identifier=566991cee0fbf4054f64f07bfffce1f32cdfbdf6fcdc8c42c1b455b0324f791c\n",
      "Starting extraction for link 45885: https://www.zoopla.co.uk/for-sale/details/63345129/?search_identifier=566991cee0fbf4054f64f07bfffce1f32cdfbdf6fcdc8c42c1b455b0324f791c\n"
     ]
    },
    {
     "name": "stderr",
     "output_type": "stream",
     "text": [
      "could not detect version_main.therefore, we are assuming it is chrome 108 or higher\n"
     ]
    },
    {
     "name": "stdout",
     "output_type": "stream",
     "text": [
      "Saved to db successfully\n",
      "Done with link 45885: https://www.zoopla.co.uk/for-sale/details/63345129/?search_identifier=566991cee0fbf4054f64f07bfffce1f32cdfbdf6fcdc8c42c1b455b0324f791c\n",
      "Starting extraction for link 45886: https://www.zoopla.co.uk/for-sale/details/63329143/?search_identifier=566991cee0fbf4054f64f07bfffce1f32cdfbdf6fcdc8c42c1b455b0324f791c\n"
     ]
    },
    {
     "name": "stderr",
     "output_type": "stream",
     "text": [
      "could not detect version_main.therefore, we are assuming it is chrome 108 or higher\n"
     ]
    },
    {
     "name": "stdout",
     "output_type": "stream",
     "text": [
      "Saved to db successfully\n",
      "Done with link 45886: https://www.zoopla.co.uk/for-sale/details/63329143/?search_identifier=566991cee0fbf4054f64f07bfffce1f32cdfbdf6fcdc8c42c1b455b0324f791c\n",
      "Starting extraction for link 45887: https://www.zoopla.co.uk/for-sale/details/63323862/?search_identifier=566991cee0fbf4054f64f07bfffce1f32cdfbdf6fcdc8c42c1b455b0324f791c\n",
      "An error occurred for link in get_data_func: https://www.zoopla.co.uk/for-sale/details/63323862/?search_identifier=566991cee0fbf4054f64f07bfffce1f32cdfbdf6fcdc8c42c1b455b0324f791c: Message: no such element: Unable to locate element: {\"method\":\"xpath\",\"selector\":\"//p[@data-testid=\"price\"]\"}\n",
      "  (Session info: chrome=115.0.5790.171); For documentation on this error, please visit: https://www.selenium.dev/documentation/webdriver/troubleshooting/errors#no-such-element-exception\n",
      "Stacktrace:\n",
      "Backtrace:\n",
      "\tGetHandleVerifier [0x0073A813+48355]\n",
      "\t(No symbol) [0x006CC4B1]\n",
      "\t(No symbol) [0x005D5358]\n",
      "\t(No symbol) [0x006009A5]\n",
      "\t(No symbol) [0x00600B3B]\n",
      "\t(No symbol) [0x0062E232]\n",
      "\t(No symbol) [0x0061A784]\n",
      "\t(No symbol) [0x0062C922]\n",
      "\t(No symbol) [0x0061A536]\n",
      "\t(No symbol) [0x005F82DC]\n",
      "\t(No symbol) [0x005F93DD]\n",
      "\tGetHandleVerifier [0x0099AABD+2539405]\n",
      "\tGetHandleVerifier [0x009DA78F+2800735]\n",
      "\tGetHandleVerifier [0x009D456C+2775612]\n",
      "\tGetHandleVerifier [0x007C51E0+616112]\n",
      "\t(No symbol) [0x006D5F8C]\n",
      "\t(No symbol) [0x006D2328]\n",
      "\t(No symbol) [0x006D240B]\n",
      "\t(No symbol) [0x006C4FF7]\n",
      "\tBaseThreadInitThunk [0x761E7D59+25]\n",
      "\tRtlInitializeExceptionChain [0x773DB79B+107]\n",
      "\tRtlClearBits [0x773DB71F+191]\n",
      "\n"
     ]
    },
    {
     "name": "stderr",
     "output_type": "stream",
     "text": [
      "could not detect version_main.therefore, we are assuming it is chrome 108 or higher\n"
     ]
    },
    {
     "name": "stdout",
     "output_type": "stream",
     "text": [
      "Saved to db successfully\n",
      "Done with link 45887: https://www.zoopla.co.uk/for-sale/details/63323862/?search_identifier=566991cee0fbf4054f64f07bfffce1f32cdfbdf6fcdc8c42c1b455b0324f791c\n",
      "Starting extraction for link 45888: https://www.zoopla.co.uk/for-sale/details/63032781/?search_identifier=566991cee0fbf4054f64f07bfffce1f32cdfbdf6fcdc8c42c1b455b0324f791c\n"
     ]
    },
    {
     "name": "stderr",
     "output_type": "stream",
     "text": [
      "could not detect version_main.therefore, we are assuming it is chrome 108 or higher\n"
     ]
    },
    {
     "name": "stdout",
     "output_type": "stream",
     "text": [
      "Saved to db successfully\n",
      "Done with link 45888: https://www.zoopla.co.uk/for-sale/details/63032781/?search_identifier=566991cee0fbf4054f64f07bfffce1f32cdfbdf6fcdc8c42c1b455b0324f791c\n",
      "Starting extraction for link 45889: https://www.zoopla.co.uk/for-sale/details/62862581/?search_identifier=566991cee0fbf4054f64f07bfffce1f32cdfbdf6fcdc8c42c1b455b0324f791c\n"
     ]
    },
    {
     "name": "stderr",
     "output_type": "stream",
     "text": [
      "could not detect version_main.therefore, we are assuming it is chrome 108 or higher\n"
     ]
    },
    {
     "name": "stdout",
     "output_type": "stream",
     "text": [
      "Saved to db successfully\n",
      "Done with link 45889: https://www.zoopla.co.uk/for-sale/details/62862581/?search_identifier=566991cee0fbf4054f64f07bfffce1f32cdfbdf6fcdc8c42c1b455b0324f791c\n",
      "Starting extraction for link 45890: https://www.zoopla.co.uk/for-sale/details/61351053/?search_identifier=566991cee0fbf4054f64f07bfffce1f32cdfbdf6fcdc8c42c1b455b0324f791c\n"
     ]
    },
    {
     "name": "stderr",
     "output_type": "stream",
     "text": [
      "could not detect version_main.therefore, we are assuming it is chrome 108 or higher\n"
     ]
    },
    {
     "name": "stdout",
     "output_type": "stream",
     "text": [
      "Saved to db successfully\n",
      "Done with link 45890: https://www.zoopla.co.uk/for-sale/details/61351053/?search_identifier=566991cee0fbf4054f64f07bfffce1f32cdfbdf6fcdc8c42c1b455b0324f791c\n",
      "Starting extraction for link 45891: https://www.zoopla.co.uk/for-sale/details/62734942/?search_identifier=566991cee0fbf4054f64f07bfffce1f32cdfbdf6fcdc8c42c1b455b0324f791c\n"
     ]
    },
    {
     "name": "stderr",
     "output_type": "stream",
     "text": [
      "could not detect version_main.therefore, we are assuming it is chrome 108 or higher\n"
     ]
    },
    {
     "name": "stdout",
     "output_type": "stream",
     "text": [
      "Saved to db successfully\n",
      "Done with link 45891: https://www.zoopla.co.uk/for-sale/details/62734942/?search_identifier=566991cee0fbf4054f64f07bfffce1f32cdfbdf6fcdc8c42c1b455b0324f791c\n",
      "Starting extraction for link 45892: https://www.zoopla.co.uk/for-sale/details/62719309/?search_identifier=566991cee0fbf4054f64f07bfffce1f32cdfbdf6fcdc8c42c1b455b0324f791c\n"
     ]
    },
    {
     "name": "stderr",
     "output_type": "stream",
     "text": [
      "could not detect version_main.therefore, we are assuming it is chrome 108 or higher\n"
     ]
    },
    {
     "name": "stdout",
     "output_type": "stream",
     "text": [
      "Saved to db successfully\n",
      "Done with link 45892: https://www.zoopla.co.uk/for-sale/details/62719309/?search_identifier=566991cee0fbf4054f64f07bfffce1f32cdfbdf6fcdc8c42c1b455b0324f791c\n",
      "Starting extraction for link 45893: https://www.zoopla.co.uk/for-sale/details/62717144/?search_identifier=566991cee0fbf4054f64f07bfffce1f32cdfbdf6fcdc8c42c1b455b0324f791c\n"
     ]
    },
    {
     "name": "stderr",
     "output_type": "stream",
     "text": [
      "could not detect version_main.therefore, we are assuming it is chrome 108 or higher\n"
     ]
    },
    {
     "name": "stdout",
     "output_type": "stream",
     "text": [
      "Saved to db successfully\n",
      "Done with link 45893: https://www.zoopla.co.uk/for-sale/details/62717144/?search_identifier=566991cee0fbf4054f64f07bfffce1f32cdfbdf6fcdc8c42c1b455b0324f791c\n",
      "Starting extraction for link 45894: https://www.zoopla.co.uk/for-sale/details/62689982/?search_identifier=566991cee0fbf4054f64f07bfffce1f32cdfbdf6fcdc8c42c1b455b0324f791c\n"
     ]
    },
    {
     "name": "stderr",
     "output_type": "stream",
     "text": [
      "could not detect version_main.therefore, we are assuming it is chrome 108 or higher\n"
     ]
    },
    {
     "name": "stdout",
     "output_type": "stream",
     "text": [
      "Saved to db successfully\n",
      "Done with link 45894: https://www.zoopla.co.uk/for-sale/details/62689982/?search_identifier=566991cee0fbf4054f64f07bfffce1f32cdfbdf6fcdc8c42c1b455b0324f791c\n",
      "Starting extraction for link 45895: https://www.zoopla.co.uk/for-sale/details/62674286/?search_identifier=566991cee0fbf4054f64f07bfffce1f32cdfbdf6fcdc8c42c1b455b0324f791c\n"
     ]
    },
    {
     "name": "stderr",
     "output_type": "stream",
     "text": [
      "could not detect version_main.therefore, we are assuming it is chrome 108 or higher\n"
     ]
    },
    {
     "name": "stdout",
     "output_type": "stream",
     "text": [
      "Saved to db successfully\n",
      "Done with link 45895: https://www.zoopla.co.uk/for-sale/details/62674286/?search_identifier=566991cee0fbf4054f64f07bfffce1f32cdfbdf6fcdc8c42c1b455b0324f791c\n",
      "Starting extraction for link 45896: https://www.zoopla.co.uk/for-sale/details/62650059/?search_identifier=566991cee0fbf4054f64f07bfffce1f32cdfbdf6fcdc8c42c1b455b0324f791c\n"
     ]
    },
    {
     "name": "stderr",
     "output_type": "stream",
     "text": [
      "could not detect version_main.therefore, we are assuming it is chrome 108 or higher\n"
     ]
    },
    {
     "name": "stdout",
     "output_type": "stream",
     "text": [
      "Saved to db successfully\n",
      "Done with link 45896: https://www.zoopla.co.uk/for-sale/details/62650059/?search_identifier=566991cee0fbf4054f64f07bfffce1f32cdfbdf6fcdc8c42c1b455b0324f791c\n",
      "Starting extraction for link 45897: https://www.zoopla.co.uk/for-sale/details/62585539/?search_identifier=566991cee0fbf4054f64f07bfffce1f32cdfbdf6fcdc8c42c1b455b0324f791c\n"
     ]
    },
    {
     "name": "stderr",
     "output_type": "stream",
     "text": [
      "could not detect version_main.therefore, we are assuming it is chrome 108 or higher\n"
     ]
    },
    {
     "name": "stdout",
     "output_type": "stream",
     "text": [
      "Saved to db successfully\n",
      "Done with link 45897: https://www.zoopla.co.uk/for-sale/details/62585539/?search_identifier=566991cee0fbf4054f64f07bfffce1f32cdfbdf6fcdc8c42c1b455b0324f791c\n",
      "Starting extraction for link 45898: https://www.zoopla.co.uk/new-homes/details/62573243/?search_identifier=566991cee0fbf4054f64f07bfffce1f32cdfbdf6fcdc8c42c1b455b0324f791c\n"
     ]
    },
    {
     "name": "stderr",
     "output_type": "stream",
     "text": [
      "could not detect version_main.therefore, we are assuming it is chrome 108 or higher\n"
     ]
    },
    {
     "name": "stdout",
     "output_type": "stream",
     "text": [
      "Saved to db successfully\n",
      "Done with link 45898: https://www.zoopla.co.uk/new-homes/details/62573243/?search_identifier=566991cee0fbf4054f64f07bfffce1f32cdfbdf6fcdc8c42c1b455b0324f791c\n",
      "Starting extraction for link 45899: https://www.zoopla.co.uk/new-homes/details/62573242/?search_identifier=566991cee0fbf4054f64f07bfffce1f32cdfbdf6fcdc8c42c1b455b0324f791c\n"
     ]
    },
    {
     "name": "stderr",
     "output_type": "stream",
     "text": [
      "could not detect version_main.therefore, we are assuming it is chrome 108 or higher\n"
     ]
    },
    {
     "name": "stdout",
     "output_type": "stream",
     "text": [
      "Saved to db successfully\n",
      "Done with link 45899: https://www.zoopla.co.uk/new-homes/details/62573242/?search_identifier=566991cee0fbf4054f64f07bfffce1f32cdfbdf6fcdc8c42c1b455b0324f791c\n",
      "Starting extraction for link 45900: https://www.zoopla.co.uk/for-sale/details/62509224/?search_identifier=566991cee0fbf4054f64f07bfffce1f32cdfbdf6fcdc8c42c1b455b0324f791c\n"
     ]
    },
    {
     "name": "stderr",
     "output_type": "stream",
     "text": [
      "could not detect version_main.therefore, we are assuming it is chrome 108 or higher\n"
     ]
    },
    {
     "name": "stdout",
     "output_type": "stream",
     "text": [
      "Saved to db successfully\n",
      "Done with link 45900: https://www.zoopla.co.uk/for-sale/details/62509224/?search_identifier=566991cee0fbf4054f64f07bfffce1f32cdfbdf6fcdc8c42c1b455b0324f791c\n",
      "Starting extraction for link 45901: https://www.zoopla.co.uk/for-sale/details/65203273/?search_identifier=566991cee0fbf4054f64f07bfffce1f32cdfbdf6fcdc8c42c1b455b0324f791c\n"
     ]
    },
    {
     "name": "stderr",
     "output_type": "stream",
     "text": [
      "could not detect version_main.therefore, we are assuming it is chrome 108 or higher\n"
     ]
    },
    {
     "name": "stdout",
     "output_type": "stream",
     "text": [
      "Saved to db successfully\n",
      "Done with link 45901: https://www.zoopla.co.uk/for-sale/details/65203273/?search_identifier=566991cee0fbf4054f64f07bfffce1f32cdfbdf6fcdc8c42c1b455b0324f791c\n",
      "Starting extraction for link 45902: https://www.zoopla.co.uk/for-sale/details/62424590/?search_identifier=566991cee0fbf4054f64f07bfffce1f32cdfbdf6fcdc8c42c1b455b0324f791c\n"
     ]
    },
    {
     "name": "stderr",
     "output_type": "stream",
     "text": [
      "could not detect version_main.therefore, we are assuming it is chrome 108 or higher\n"
     ]
    },
    {
     "name": "stdout",
     "output_type": "stream",
     "text": [
      "Saved to db successfully\n",
      "Done with link 45902: https://www.zoopla.co.uk/for-sale/details/62424590/?search_identifier=566991cee0fbf4054f64f07bfffce1f32cdfbdf6fcdc8c42c1b455b0324f791c\n",
      "Starting extraction for link 45903: https://www.zoopla.co.uk/for-sale/details/61508347/?search_identifier=566991cee0fbf4054f64f07bfffce1f32cdfbdf6fcdc8c42c1b455b0324f791c\n"
     ]
    },
    {
     "name": "stderr",
     "output_type": "stream",
     "text": [
      "could not detect version_main.therefore, we are assuming it is chrome 108 or higher\n"
     ]
    },
    {
     "name": "stdout",
     "output_type": "stream",
     "text": [
      "Saved to db successfully\n",
      "Done with link 45903: https://www.zoopla.co.uk/for-sale/details/61508347/?search_identifier=566991cee0fbf4054f64f07bfffce1f32cdfbdf6fcdc8c42c1b455b0324f791c\n",
      "Starting extraction for link 45904: https://www.zoopla.co.uk/for-sale/details/62343406/?search_identifier=566991cee0fbf4054f64f07bfffce1f32cdfbdf6fcdc8c42c1b455b0324f791c\n"
     ]
    },
    {
     "name": "stderr",
     "output_type": "stream",
     "text": [
      "could not detect version_main.therefore, we are assuming it is chrome 108 or higher\n"
     ]
    },
    {
     "name": "stdout",
     "output_type": "stream",
     "text": [
      "Saved to db successfully\n",
      "Done with link 45904: https://www.zoopla.co.uk/for-sale/details/62343406/?search_identifier=566991cee0fbf4054f64f07bfffce1f32cdfbdf6fcdc8c42c1b455b0324f791c\n",
      "Starting extraction for link 45905: https://www.zoopla.co.uk/for-sale/details/62526605/?search_identifier=566991cee0fbf4054f64f07bfffce1f32cdfbdf6fcdc8c42c1b455b0324f791c\n"
     ]
    },
    {
     "name": "stderr",
     "output_type": "stream",
     "text": [
      "could not detect version_main.therefore, we are assuming it is chrome 108 or higher\n"
     ]
    },
    {
     "name": "stdout",
     "output_type": "stream",
     "text": [
      "Saved to db successfully\n",
      "Done with link 45905: https://www.zoopla.co.uk/for-sale/details/62526605/?search_identifier=566991cee0fbf4054f64f07bfffce1f32cdfbdf6fcdc8c42c1b455b0324f791c\n",
      "Starting extraction for link 45906: https://www.zoopla.co.uk/for-sale/details/62214964/?search_identifier=566991cee0fbf4054f64f07bfffce1f32cdfbdf6fcdc8c42c1b455b0324f791c\n"
     ]
    },
    {
     "name": "stderr",
     "output_type": "stream",
     "text": [
      "could not detect version_main.therefore, we are assuming it is chrome 108 or higher\n"
     ]
    },
    {
     "name": "stdout",
     "output_type": "stream",
     "text": [
      "Saved to db successfully\n",
      "Done with link 45906: https://www.zoopla.co.uk/for-sale/details/62214964/?search_identifier=566991cee0fbf4054f64f07bfffce1f32cdfbdf6fcdc8c42c1b455b0324f791c\n",
      "Starting extraction for link 45907: https://www.zoopla.co.uk/for-sale/details/62162781/?search_identifier=566991cee0fbf4054f64f07bfffce1f32cdfbdf6fcdc8c42c1b455b0324f791c\n"
     ]
    },
    {
     "name": "stderr",
     "output_type": "stream",
     "text": [
      "could not detect version_main.therefore, we are assuming it is chrome 108 or higher\n"
     ]
    },
    {
     "name": "stdout",
     "output_type": "stream",
     "text": [
      "Saved to db successfully\n",
      "Done with link 45907: https://www.zoopla.co.uk/for-sale/details/62162781/?search_identifier=566991cee0fbf4054f64f07bfffce1f32cdfbdf6fcdc8c42c1b455b0324f791c\n",
      "Starting extraction for link 45908: https://www.zoopla.co.uk/for-sale/details/62022050/?search_identifier=17da791825ee8c74a9bcfdd99ed7c3a4beb17e5ff937270d738d0e3edf41b685\n"
     ]
    },
    {
     "name": "stderr",
     "output_type": "stream",
     "text": [
      "could not detect version_main.therefore, we are assuming it is chrome 108 or higher\n"
     ]
    },
    {
     "name": "stdout",
     "output_type": "stream",
     "text": [
      "Saved to db successfully\n",
      "Done with link 45908: https://www.zoopla.co.uk/for-sale/details/62022050/?search_identifier=17da791825ee8c74a9bcfdd99ed7c3a4beb17e5ff937270d738d0e3edf41b685\n",
      "Starting extraction for link 45909: https://www.zoopla.co.uk/for-sale/details/62004399/?search_identifier=17da791825ee8c74a9bcfdd99ed7c3a4beb17e5ff937270d738d0e3edf41b685\n"
     ]
    },
    {
     "name": "stderr",
     "output_type": "stream",
     "text": [
      "could not detect version_main.therefore, we are assuming it is chrome 108 or higher\n"
     ]
    },
    {
     "name": "stdout",
     "output_type": "stream",
     "text": [
      "Saved to db successfully\n",
      "Done with link 45909: https://www.zoopla.co.uk/for-sale/details/62004399/?search_identifier=17da791825ee8c74a9bcfdd99ed7c3a4beb17e5ff937270d738d0e3edf41b685\n",
      "Starting extraction for link 45910: https://www.zoopla.co.uk/for-sale/details/61993349/?search_identifier=17da791825ee8c74a9bcfdd99ed7c3a4beb17e5ff937270d738d0e3edf41b685\n"
     ]
    },
    {
     "name": "stderr",
     "output_type": "stream",
     "text": [
      "could not detect version_main.therefore, we are assuming it is chrome 108 or higher\n"
     ]
    },
    {
     "name": "stdout",
     "output_type": "stream",
     "text": [
      "Saved to db successfully\n",
      "Done with link 45910: https://www.zoopla.co.uk/for-sale/details/61993349/?search_identifier=17da791825ee8c74a9bcfdd99ed7c3a4beb17e5ff937270d738d0e3edf41b685\n",
      "Starting extraction for link 45911: https://www.zoopla.co.uk/for-sale/details/46615269/?search_identifier=17da791825ee8c74a9bcfdd99ed7c3a4beb17e5ff937270d738d0e3edf41b685\n"
     ]
    },
    {
     "name": "stderr",
     "output_type": "stream",
     "text": [
      "could not detect version_main.therefore, we are assuming it is chrome 108 or higher\n"
     ]
    },
    {
     "name": "stdout",
     "output_type": "stream",
     "text": [
      "Saved to db successfully\n",
      "Done with link 45911: https://www.zoopla.co.uk/for-sale/details/46615269/?search_identifier=17da791825ee8c74a9bcfdd99ed7c3a4beb17e5ff937270d738d0e3edf41b685\n",
      "Starting extraction for link 45912: https://www.zoopla.co.uk/new-homes/details/61942749/?search_identifier=17da791825ee8c74a9bcfdd99ed7c3a4beb17e5ff937270d738d0e3edf41b685\n"
     ]
    },
    {
     "name": "stderr",
     "output_type": "stream",
     "text": [
      "could not detect version_main.therefore, we are assuming it is chrome 108 or higher\n"
     ]
    },
    {
     "name": "stdout",
     "output_type": "stream",
     "text": [
      "Saved to db successfully\n",
      "Done with link 45912: https://www.zoopla.co.uk/new-homes/details/61942749/?search_identifier=17da791825ee8c74a9bcfdd99ed7c3a4beb17e5ff937270d738d0e3edf41b685\n",
      "Starting extraction for link 45913: https://www.zoopla.co.uk/for-sale/details/61904111/?search_identifier=17da791825ee8c74a9bcfdd99ed7c3a4beb17e5ff937270d738d0e3edf41b685\n"
     ]
    },
    {
     "name": "stderr",
     "output_type": "stream",
     "text": [
      "could not detect version_main.therefore, we are assuming it is chrome 108 or higher\n"
     ]
    },
    {
     "name": "stdout",
     "output_type": "stream",
     "text": [
      "Saved to db successfully\n",
      "Done with link 45913: https://www.zoopla.co.uk/for-sale/details/61904111/?search_identifier=17da791825ee8c74a9bcfdd99ed7c3a4beb17e5ff937270d738d0e3edf41b685\n",
      "Starting extraction for link 45914: https://www.zoopla.co.uk/for-sale/details/61867749/?search_identifier=17da791825ee8c74a9bcfdd99ed7c3a4beb17e5ff937270d738d0e3edf41b685\n"
     ]
    },
    {
     "name": "stderr",
     "output_type": "stream",
     "text": [
      "could not detect version_main.therefore, we are assuming it is chrome 108 or higher\n"
     ]
    },
    {
     "name": "stdout",
     "output_type": "stream",
     "text": [
      "Saved to db successfully\n",
      "Done with link 45914: https://www.zoopla.co.uk/for-sale/details/61867749/?search_identifier=17da791825ee8c74a9bcfdd99ed7c3a4beb17e5ff937270d738d0e3edf41b685\n",
      "Starting extraction for link 45915: https://www.zoopla.co.uk/for-sale/details/61811701/?search_identifier=17da791825ee8c74a9bcfdd99ed7c3a4beb17e5ff937270d738d0e3edf41b685\n"
     ]
    },
    {
     "name": "stderr",
     "output_type": "stream",
     "text": [
      "could not detect version_main.therefore, we are assuming it is chrome 108 or higher\n"
     ]
    },
    {
     "name": "stdout",
     "output_type": "stream",
     "text": [
      "Saved to db successfully\n",
      "Done with link 45915: https://www.zoopla.co.uk/for-sale/details/61811701/?search_identifier=17da791825ee8c74a9bcfdd99ed7c3a4beb17e5ff937270d738d0e3edf41b685\n",
      "Starting extraction for link 45916: https://www.zoopla.co.uk/for-sale/details/61723487/?search_identifier=17da791825ee8c74a9bcfdd99ed7c3a4beb17e5ff937270d738d0e3edf41b685\n"
     ]
    },
    {
     "name": "stderr",
     "output_type": "stream",
     "text": [
      "could not detect version_main.therefore, we are assuming it is chrome 108 or higher\n"
     ]
    },
    {
     "name": "stdout",
     "output_type": "stream",
     "text": [
      "Saved to db successfully\n",
      "Done with link 45916: https://www.zoopla.co.uk/for-sale/details/61723487/?search_identifier=17da791825ee8c74a9bcfdd99ed7c3a4beb17e5ff937270d738d0e3edf41b685\n",
      "Starting extraction for link 45917: https://www.zoopla.co.uk/for-sale/details/61721300/?search_identifier=17da791825ee8c74a9bcfdd99ed7c3a4beb17e5ff937270d738d0e3edf41b685\n"
     ]
    },
    {
     "name": "stderr",
     "output_type": "stream",
     "text": [
      "could not detect version_main.therefore, we are assuming it is chrome 108 or higher\n"
     ]
    },
    {
     "name": "stdout",
     "output_type": "stream",
     "text": [
      "Saved to db successfully\n",
      "Done with link 45917: https://www.zoopla.co.uk/for-sale/details/61721300/?search_identifier=17da791825ee8c74a9bcfdd99ed7c3a4beb17e5ff937270d738d0e3edf41b685\n",
      "Starting extraction for link 45918: https://www.zoopla.co.uk/for-sale/details/61702619/?search_identifier=17da791825ee8c74a9bcfdd99ed7c3a4beb17e5ff937270d738d0e3edf41b685\n"
     ]
    },
    {
     "name": "stderr",
     "output_type": "stream",
     "text": [
      "could not detect version_main.therefore, we are assuming it is chrome 108 or higher\n"
     ]
    },
    {
     "name": "stdout",
     "output_type": "stream",
     "text": [
      "Saved to db successfully\n",
      "Done with link 45918: https://www.zoopla.co.uk/for-sale/details/61702619/?search_identifier=17da791825ee8c74a9bcfdd99ed7c3a4beb17e5ff937270d738d0e3edf41b685\n",
      "Starting extraction for link 45919: https://www.zoopla.co.uk/for-sale/details/62258655/?search_identifier=17da791825ee8c74a9bcfdd99ed7c3a4beb17e5ff937270d738d0e3edf41b685\n"
     ]
    },
    {
     "name": "stderr",
     "output_type": "stream",
     "text": [
      "could not detect version_main.therefore, we are assuming it is chrome 108 or higher\n"
     ]
    },
    {
     "name": "stdout",
     "output_type": "stream",
     "text": [
      "Saved to db successfully\n",
      "Done with link 45919: https://www.zoopla.co.uk/for-sale/details/62258655/?search_identifier=17da791825ee8c74a9bcfdd99ed7c3a4beb17e5ff937270d738d0e3edf41b685\n",
      "Starting extraction for link 45920: https://www.zoopla.co.uk/for-sale/details/61456212/?search_identifier=17da791825ee8c74a9bcfdd99ed7c3a4beb17e5ff937270d738d0e3edf41b685\n"
     ]
    },
    {
     "name": "stderr",
     "output_type": "stream",
     "text": [
      "could not detect version_main.therefore, we are assuming it is chrome 108 or higher\n"
     ]
    },
    {
     "name": "stdout",
     "output_type": "stream",
     "text": [
      "Saved to db successfully\n",
      "Done with link 45920: https://www.zoopla.co.uk/for-sale/details/61456212/?search_identifier=17da791825ee8c74a9bcfdd99ed7c3a4beb17e5ff937270d738d0e3edf41b685\n",
      "Starting extraction for link 45921: https://www.zoopla.co.uk/for-sale/details/61433718/?search_identifier=17da791825ee8c74a9bcfdd99ed7c3a4beb17e5ff937270d738d0e3edf41b685\n"
     ]
    },
    {
     "name": "stderr",
     "output_type": "stream",
     "text": [
      "could not detect version_main.therefore, we are assuming it is chrome 108 or higher\n"
     ]
    },
    {
     "name": "stdout",
     "output_type": "stream",
     "text": [
      "Saved to db successfully\n",
      "Done with link 45921: https://www.zoopla.co.uk/for-sale/details/61433718/?search_identifier=17da791825ee8c74a9bcfdd99ed7c3a4beb17e5ff937270d738d0e3edf41b685\n",
      "Starting extraction for link 45922: https://www.zoopla.co.uk/for-sale/details/61400592/?search_identifier=17da791825ee8c74a9bcfdd99ed7c3a4beb17e5ff937270d738d0e3edf41b685\n"
     ]
    },
    {
     "name": "stderr",
     "output_type": "stream",
     "text": [
      "could not detect version_main.therefore, we are assuming it is chrome 108 or higher\n"
     ]
    },
    {
     "name": "stdout",
     "output_type": "stream",
     "text": [
      "Saved to db successfully\n",
      "Done with link 45922: https://www.zoopla.co.uk/for-sale/details/61400592/?search_identifier=17da791825ee8c74a9bcfdd99ed7c3a4beb17e5ff937270d738d0e3edf41b685\n",
      "Starting extraction for link 45923: https://www.zoopla.co.uk/for-sale/details/61277429/?search_identifier=17da791825ee8c74a9bcfdd99ed7c3a4beb17e5ff937270d738d0e3edf41b685\n"
     ]
    },
    {
     "name": "stderr",
     "output_type": "stream",
     "text": [
      "could not detect version_main.therefore, we are assuming it is chrome 108 or higher\n"
     ]
    },
    {
     "name": "stdout",
     "output_type": "stream",
     "text": [
      "Saved to db successfully\n",
      "Done with link 45923: https://www.zoopla.co.uk/for-sale/details/61277429/?search_identifier=17da791825ee8c74a9bcfdd99ed7c3a4beb17e5ff937270d738d0e3edf41b685\n",
      "Starting extraction for link 45924: https://www.zoopla.co.uk/new-homes/details/61240710/?search_identifier=17da791825ee8c74a9bcfdd99ed7c3a4beb17e5ff937270d738d0e3edf41b685\n"
     ]
    },
    {
     "name": "stderr",
     "output_type": "stream",
     "text": [
      "could not detect version_main.therefore, we are assuming it is chrome 108 or higher\n"
     ]
    },
    {
     "name": "stdout",
     "output_type": "stream",
     "text": [
      "Saved to db successfully\n",
      "Done with link 45924: https://www.zoopla.co.uk/new-homes/details/61240710/?search_identifier=17da791825ee8c74a9bcfdd99ed7c3a4beb17e5ff937270d738d0e3edf41b685\n",
      "Starting extraction for link 45925: https://www.zoopla.co.uk/new-homes/details/61240711/?search_identifier=17da791825ee8c74a9bcfdd99ed7c3a4beb17e5ff937270d738d0e3edf41b685\n"
     ]
    },
    {
     "name": "stderr",
     "output_type": "stream",
     "text": [
      "could not detect version_main.therefore, we are assuming it is chrome 108 or higher\n"
     ]
    },
    {
     "name": "stdout",
     "output_type": "stream",
     "text": [
      "Saved to db successfully\n",
      "Done with link 45925: https://www.zoopla.co.uk/new-homes/details/61240711/?search_identifier=17da791825ee8c74a9bcfdd99ed7c3a4beb17e5ff937270d738d0e3edf41b685\n",
      "Starting extraction for link 45926: https://www.zoopla.co.uk/for-sale/details/61112079/?search_identifier=17da791825ee8c74a9bcfdd99ed7c3a4beb17e5ff937270d738d0e3edf41b685\n"
     ]
    },
    {
     "name": "stderr",
     "output_type": "stream",
     "text": [
      "could not detect version_main.therefore, we are assuming it is chrome 108 or higher\n"
     ]
    },
    {
     "name": "stdout",
     "output_type": "stream",
     "text": [
      "Saved to db successfully\n",
      "Done with link 45926: https://www.zoopla.co.uk/for-sale/details/61112079/?search_identifier=17da791825ee8c74a9bcfdd99ed7c3a4beb17e5ff937270d738d0e3edf41b685\n",
      "Starting extraction for link 45927: https://www.zoopla.co.uk/for-sale/details/61075590/?search_identifier=17da791825ee8c74a9bcfdd99ed7c3a4beb17e5ff937270d738d0e3edf41b685\n"
     ]
    },
    {
     "name": "stderr",
     "output_type": "stream",
     "text": [
      "could not detect version_main.therefore, we are assuming it is chrome 108 or higher\n"
     ]
    },
    {
     "name": "stdout",
     "output_type": "stream",
     "text": [
      "Saved to db successfully\n",
      "Done with link 45927: https://www.zoopla.co.uk/for-sale/details/61075590/?search_identifier=17da791825ee8c74a9bcfdd99ed7c3a4beb17e5ff937270d738d0e3edf41b685\n",
      "Starting extraction for link 45928: https://www.zoopla.co.uk/for-sale/details/61054734/?search_identifier=17da791825ee8c74a9bcfdd99ed7c3a4beb17e5ff937270d738d0e3edf41b685\n",
      "An error occurred for link in get_data_func: https://www.zoopla.co.uk/for-sale/details/61054734/?search_identifier=17da791825ee8c74a9bcfdd99ed7c3a4beb17e5ff937270d738d0e3edf41b685: Message: no such element: Unable to locate element: {\"method\":\"xpath\",\"selector\":\"//p[@data-testid=\"price\"]\"}\n",
      "  (Session info: chrome=115.0.5790.171); For documentation on this error, please visit: https://www.selenium.dev/documentation/webdriver/troubleshooting/errors#no-such-element-exception\n",
      "Stacktrace:\n",
      "Backtrace:\n",
      "\tGetHandleVerifier [0x0073A813+48355]\n",
      "\t(No symbol) [0x006CC4B1]\n",
      "\t(No symbol) [0x005D5358]\n",
      "\t(No symbol) [0x006009A5]\n",
      "\t(No symbol) [0x00600B3B]\n",
      "\t(No symbol) [0x0062E232]\n",
      "\t(No symbol) [0x0061A784]\n",
      "\t(No symbol) [0x0062C922]\n",
      "\t(No symbol) [0x0061A536]\n",
      "\t(No symbol) [0x005F82DC]\n",
      "\t(No symbol) [0x005F93DD]\n",
      "\tGetHandleVerifier [0x0099AABD+2539405]\n",
      "\tGetHandleVerifier [0x009DA78F+2800735]\n",
      "\tGetHandleVerifier [0x009D456C+2775612]\n",
      "\tGetHandleVerifier [0x007C51E0+616112]\n",
      "\t(No symbol) [0x006D5F8C]\n",
      "\t(No symbol) [0x006D2328]\n",
      "\t(No symbol) [0x006D240B]\n",
      "\t(No symbol) [0x006C4FF7]\n",
      "\tBaseThreadInitThunk [0x761E7D59+25]\n",
      "\tRtlInitializeExceptionChain [0x773DB79B+107]\n",
      "\tRtlClearBits [0x773DB71F+191]\n",
      "\n"
     ]
    },
    {
     "name": "stderr",
     "output_type": "stream",
     "text": [
      "could not detect version_main.therefore, we are assuming it is chrome 108 or higher\n"
     ]
    },
    {
     "name": "stdout",
     "output_type": "stream",
     "text": [
      "Saved to db successfully\n",
      "Done with link 45928: https://www.zoopla.co.uk/for-sale/details/61054734/?search_identifier=17da791825ee8c74a9bcfdd99ed7c3a4beb17e5ff937270d738d0e3edf41b685\n",
      "Starting extraction for link 45929: https://www.zoopla.co.uk/for-sale/details/60883656/?search_identifier=17da791825ee8c74a9bcfdd99ed7c3a4beb17e5ff937270d738d0e3edf41b685\n"
     ]
    },
    {
     "name": "stderr",
     "output_type": "stream",
     "text": [
      "could not detect version_main.therefore, we are assuming it is chrome 108 or higher\n"
     ]
    },
    {
     "name": "stdout",
     "output_type": "stream",
     "text": [
      "Saved to db successfully\n",
      "Done with link 45929: https://www.zoopla.co.uk/for-sale/details/60883656/?search_identifier=17da791825ee8c74a9bcfdd99ed7c3a4beb17e5ff937270d738d0e3edf41b685\n",
      "Starting extraction for link 45930: https://www.zoopla.co.uk/for-sale/details/60851934/?search_identifier=17da791825ee8c74a9bcfdd99ed7c3a4beb17e5ff937270d738d0e3edf41b685\n"
     ]
    },
    {
     "name": "stderr",
     "output_type": "stream",
     "text": [
      "could not detect version_main.therefore, we are assuming it is chrome 108 or higher\n"
     ]
    },
    {
     "name": "stdout",
     "output_type": "stream",
     "text": [
      "Saved to db successfully\n",
      "Done with link 45930: https://www.zoopla.co.uk/for-sale/details/60851934/?search_identifier=17da791825ee8c74a9bcfdd99ed7c3a4beb17e5ff937270d738d0e3edf41b685\n",
      "Starting extraction for link 45931: https://www.zoopla.co.uk/for-sale/details/60840208/?search_identifier=17da791825ee8c74a9bcfdd99ed7c3a4beb17e5ff937270d738d0e3edf41b685\n"
     ]
    },
    {
     "name": "stderr",
     "output_type": "stream",
     "text": [
      "could not detect version_main.therefore, we are assuming it is chrome 108 or higher\n"
     ]
    },
    {
     "name": "stdout",
     "output_type": "stream",
     "text": [
      "Saved to db successfully\n",
      "Done with link 45931: https://www.zoopla.co.uk/for-sale/details/60840208/?search_identifier=17da791825ee8c74a9bcfdd99ed7c3a4beb17e5ff937270d738d0e3edf41b685\n",
      "Starting extraction for link 45932: https://www.zoopla.co.uk/for-sale/details/62258592/?search_identifier=17da791825ee8c74a9bcfdd99ed7c3a4beb17e5ff937270d738d0e3edf41b685\n"
     ]
    },
    {
     "name": "stderr",
     "output_type": "stream",
     "text": [
      "could not detect version_main.therefore, we are assuming it is chrome 108 or higher\n"
     ]
    },
    {
     "name": "stdout",
     "output_type": "stream",
     "text": [
      "Saved to db successfully\n",
      "Done with link 45932: https://www.zoopla.co.uk/for-sale/details/62258592/?search_identifier=17da791825ee8c74a9bcfdd99ed7c3a4beb17e5ff937270d738d0e3edf41b685\n",
      "Starting extraction for link 45933: https://www.zoopla.co.uk/for-sale/details/59888010/?search_identifier=89eca9c143e79f5f370540063c2ff667690d9e958c92598b90a1c18d16b2db98\n"
     ]
    },
    {
     "name": "stderr",
     "output_type": "stream",
     "text": [
      "could not detect version_main.therefore, we are assuming it is chrome 108 or higher\n"
     ]
    },
    {
     "name": "stdout",
     "output_type": "stream",
     "text": [
      "Saved to db successfully\n",
      "Done with link 45933: https://www.zoopla.co.uk/for-sale/details/59888010/?search_identifier=89eca9c143e79f5f370540063c2ff667690d9e958c92598b90a1c18d16b2db98\n",
      "Starting extraction for link 45934: https://www.zoopla.co.uk/new-homes/details/59883120/?search_identifier=89eca9c143e79f5f370540063c2ff667690d9e958c92598b90a1c18d16b2db98\n"
     ]
    },
    {
     "name": "stderr",
     "output_type": "stream",
     "text": [
      "could not detect version_main.therefore, we are assuming it is chrome 108 or higher\n"
     ]
    },
    {
     "name": "stdout",
     "output_type": "stream",
     "text": [
      "Saved to db successfully\n",
      "Done with link 45934: https://www.zoopla.co.uk/new-homes/details/59883120/?search_identifier=89eca9c143e79f5f370540063c2ff667690d9e958c92598b90a1c18d16b2db98\n",
      "Starting extraction for link 45935: https://www.zoopla.co.uk/for-sale/details/59694644/?search_identifier=89eca9c143e79f5f370540063c2ff667690d9e958c92598b90a1c18d16b2db98\n"
     ]
    },
    {
     "name": "stderr",
     "output_type": "stream",
     "text": [
      "could not detect version_main.therefore, we are assuming it is chrome 108 or higher\n"
     ]
    },
    {
     "name": "stdout",
     "output_type": "stream",
     "text": [
      "Saved to db successfully\n",
      "Done with link 45935: https://www.zoopla.co.uk/for-sale/details/59694644/?search_identifier=89eca9c143e79f5f370540063c2ff667690d9e958c92598b90a1c18d16b2db98\n",
      "Starting extraction for link 45936: https://www.zoopla.co.uk/for-sale/details/59662344/?search_identifier=89eca9c143e79f5f370540063c2ff667690d9e958c92598b90a1c18d16b2db98\n"
     ]
    },
    {
     "name": "stderr",
     "output_type": "stream",
     "text": [
      "could not detect version_main.therefore, we are assuming it is chrome 108 or higher\n"
     ]
    },
    {
     "name": "stdout",
     "output_type": "stream",
     "text": [
      "Saved to db successfully\n",
      "Done with link 45936: https://www.zoopla.co.uk/for-sale/details/59662344/?search_identifier=89eca9c143e79f5f370540063c2ff667690d9e958c92598b90a1c18d16b2db98\n",
      "Starting extraction for link 45937: https://www.zoopla.co.uk/for-sale/details/59417205/?search_identifier=89eca9c143e79f5f370540063c2ff667690d9e958c92598b90a1c18d16b2db98\n"
     ]
    },
    {
     "name": "stderr",
     "output_type": "stream",
     "text": [
      "could not detect version_main.therefore, we are assuming it is chrome 108 or higher\n"
     ]
    },
    {
     "name": "stdout",
     "output_type": "stream",
     "text": [
      "Saved to db successfully\n",
      "Done with link 45937: https://www.zoopla.co.uk/for-sale/details/59417205/?search_identifier=89eca9c143e79f5f370540063c2ff667690d9e958c92598b90a1c18d16b2db98\n",
      "Starting extraction for link 45938: https://www.zoopla.co.uk/new-homes/details/58832852/?search_identifier=89eca9c143e79f5f370540063c2ff667690d9e958c92598b90a1c18d16b2db98\n"
     ]
    },
    {
     "name": "stderr",
     "output_type": "stream",
     "text": [
      "could not detect version_main.therefore, we are assuming it is chrome 108 or higher\n"
     ]
    },
    {
     "name": "stdout",
     "output_type": "stream",
     "text": [
      "Saved to db successfully\n",
      "Done with link 45938: https://www.zoopla.co.uk/new-homes/details/58832852/?search_identifier=89eca9c143e79f5f370540063c2ff667690d9e958c92598b90a1c18d16b2db98\n",
      "Starting extraction for link 45939: https://www.zoopla.co.uk/new-homes/details/58832841/?search_identifier=89eca9c143e79f5f370540063c2ff667690d9e958c92598b90a1c18d16b2db98\n"
     ]
    },
    {
     "name": "stderr",
     "output_type": "stream",
     "text": [
      "could not detect version_main.therefore, we are assuming it is chrome 108 or higher\n"
     ]
    },
    {
     "name": "stdout",
     "output_type": "stream",
     "text": [
      "Saved to db successfully\n",
      "Done with link 45939: https://www.zoopla.co.uk/new-homes/details/58832841/?search_identifier=89eca9c143e79f5f370540063c2ff667690d9e958c92598b90a1c18d16b2db98\n",
      "Starting extraction for link 45940: https://www.zoopla.co.uk/for-sale/details/58314383/?search_identifier=89eca9c143e79f5f370540063c2ff667690d9e958c92598b90a1c18d16b2db98\n"
     ]
    },
    {
     "name": "stderr",
     "output_type": "stream",
     "text": [
      "could not detect version_main.therefore, we are assuming it is chrome 108 or higher\n"
     ]
    },
    {
     "name": "stdout",
     "output_type": "stream",
     "text": [
      "Saved to db successfully\n",
      "Done with link 45940: https://www.zoopla.co.uk/for-sale/details/58314383/?search_identifier=89eca9c143e79f5f370540063c2ff667690d9e958c92598b90a1c18d16b2db98\n",
      "Starting extraction for link 45941: https://www.zoopla.co.uk/for-sale/details/64819786/?search_identifier=89eca9c143e79f5f370540063c2ff667690d9e958c92598b90a1c18d16b2db98\n"
     ]
    },
    {
     "name": "stderr",
     "output_type": "stream",
     "text": [
      "could not detect version_main.therefore, we are assuming it is chrome 108 or higher\n"
     ]
    },
    {
     "name": "stdout",
     "output_type": "stream",
     "text": [
      "Saved to db successfully\n",
      "Done with link 45941: https://www.zoopla.co.uk/for-sale/details/64819786/?search_identifier=89eca9c143e79f5f370540063c2ff667690d9e958c92598b90a1c18d16b2db98\n",
      "Starting extraction for link 45942: https://www.zoopla.co.uk/for-sale/details/55719277/?search_identifier=89eca9c143e79f5f370540063c2ff667690d9e958c92598b90a1c18d16b2db98\n"
     ]
    },
    {
     "name": "stderr",
     "output_type": "stream",
     "text": [
      "could not detect version_main.therefore, we are assuming it is chrome 108 or higher\n"
     ]
    },
    {
     "name": "stdout",
     "output_type": "stream",
     "text": [
      "Saved to db successfully\n",
      "Done with link 45942: https://www.zoopla.co.uk/for-sale/details/55719277/?search_identifier=89eca9c143e79f5f370540063c2ff667690d9e958c92598b90a1c18d16b2db98\n",
      "Starting extraction for link 45943: https://www.zoopla.co.uk/for-sale/details/55587542/?search_identifier=89eca9c143e79f5f370540063c2ff667690d9e958c92598b90a1c18d16b2db98\n"
     ]
    },
    {
     "name": "stderr",
     "output_type": "stream",
     "text": [
      "could not detect version_main.therefore, we are assuming it is chrome 108 or higher\n"
     ]
    },
    {
     "name": "stdout",
     "output_type": "stream",
     "text": [
      "Saved to db successfully\n",
      "Done with link 45943: https://www.zoopla.co.uk/for-sale/details/55587542/?search_identifier=89eca9c143e79f5f370540063c2ff667690d9e958c92598b90a1c18d16b2db98\n",
      "Starting extraction for link 45944: https://www.zoopla.co.uk/for-sale/details/53975342/?search_identifier=89eca9c143e79f5f370540063c2ff667690d9e958c92598b90a1c18d16b2db98\n"
     ]
    },
    {
     "name": "stderr",
     "output_type": "stream",
     "text": [
      "could not detect version_main.therefore, we are assuming it is chrome 108 or higher\n"
     ]
    },
    {
     "name": "stdout",
     "output_type": "stream",
     "text": [
      "Saved to db successfully\n",
      "Done with link 45944: https://www.zoopla.co.uk/for-sale/details/53975342/?search_identifier=89eca9c143e79f5f370540063c2ff667690d9e958c92598b90a1c18d16b2db98\n",
      "Starting extraction for link 45945: https://www.zoopla.co.uk/for-sale/details/54609404/?search_identifier=89eca9c143e79f5f370540063c2ff667690d9e958c92598b90a1c18d16b2db98\n"
     ]
    },
    {
     "name": "stderr",
     "output_type": "stream",
     "text": [
      "could not detect version_main.therefore, we are assuming it is chrome 108 or higher\n"
     ]
    },
    {
     "name": "stdout",
     "output_type": "stream",
     "text": [
      "Saved to db successfully\n",
      "Done with link 45945: https://www.zoopla.co.uk/for-sale/details/54609404/?search_identifier=89eca9c143e79f5f370540063c2ff667690d9e958c92598b90a1c18d16b2db98\n",
      "Starting extraction for link 45946: https://www.zoopla.co.uk/for-sale/details/53945450/?search_identifier=89eca9c143e79f5f370540063c2ff667690d9e958c92598b90a1c18d16b2db98\n"
     ]
    },
    {
     "name": "stderr",
     "output_type": "stream",
     "text": [
      "could not detect version_main.therefore, we are assuming it is chrome 108 or higher\n"
     ]
    },
    {
     "name": "stdout",
     "output_type": "stream",
     "text": [
      "Saved to db successfully\n",
      "Done with link 45946: https://www.zoopla.co.uk/for-sale/details/53945450/?search_identifier=89eca9c143e79f5f370540063c2ff667690d9e958c92598b90a1c18d16b2db98\n",
      "Starting extraction for link 45947: https://www.zoopla.co.uk/for-sale/details/53842806/?search_identifier=89eca9c143e79f5f370540063c2ff667690d9e958c92598b90a1c18d16b2db98\n"
     ]
    },
    {
     "name": "stderr",
     "output_type": "stream",
     "text": [
      "could not detect version_main.therefore, we are assuming it is chrome 108 or higher\n"
     ]
    },
    {
     "name": "stdout",
     "output_type": "stream",
     "text": [
      "Saved to db successfully\n",
      "Done with link 45947: https://www.zoopla.co.uk/for-sale/details/53842806/?search_identifier=89eca9c143e79f5f370540063c2ff667690d9e958c92598b90a1c18d16b2db98\n",
      "Starting extraction for link 45948: https://www.zoopla.co.uk/for-sale/details/65204250/?search_identifier=d1391ad334447794dbf1037790c2ecb857d15a6f8dc3b25a8f96de46783718c4\n"
     ]
    },
    {
     "name": "stderr",
     "output_type": "stream",
     "text": [
      "could not detect version_main.therefore, we are assuming it is chrome 108 or higher\n"
     ]
    },
    {
     "name": "stdout",
     "output_type": "stream",
     "text": [
      "Saved to db successfully\n",
      "Done with link 45948: https://www.zoopla.co.uk/for-sale/details/65204250/?search_identifier=d1391ad334447794dbf1037790c2ecb857d15a6f8dc3b25a8f96de46783718c4\n",
      "Starting extraction for link 45949: https://www.zoopla.co.uk/for-sale/details/65203300/?search_identifier=d1391ad334447794dbf1037790c2ecb857d15a6f8dc3b25a8f96de46783718c4\n"
     ]
    },
    {
     "name": "stderr",
     "output_type": "stream",
     "text": [
      "could not detect version_main.therefore, we are assuming it is chrome 108 or higher\n"
     ]
    },
    {
     "name": "stdout",
     "output_type": "stream",
     "text": [
      "Saved to db successfully\n",
      "Done with link 45949: https://www.zoopla.co.uk/for-sale/details/65203300/?search_identifier=d1391ad334447794dbf1037790c2ecb857d15a6f8dc3b25a8f96de46783718c4\n",
      "Starting extraction for link 45950: https://www.zoopla.co.uk/for-sale/details/65200464/?search_identifier=d1391ad334447794dbf1037790c2ecb857d15a6f8dc3b25a8f96de46783718c4\n"
     ]
    },
    {
     "name": "stderr",
     "output_type": "stream",
     "text": [
      "could not detect version_main.therefore, we are assuming it is chrome 108 or higher\n"
     ]
    },
    {
     "name": "stdout",
     "output_type": "stream",
     "text": [
      "Saved to db successfully\n",
      "Done with link 45950: https://www.zoopla.co.uk/for-sale/details/65200464/?search_identifier=d1391ad334447794dbf1037790c2ecb857d15a6f8dc3b25a8f96de46783718c4\n",
      "Starting extraction for link 45951: https://www.zoopla.co.uk/for-sale/details/65186701/?search_identifier=d1391ad334447794dbf1037790c2ecb857d15a6f8dc3b25a8f96de46783718c4\n"
     ]
    },
    {
     "name": "stderr",
     "output_type": "stream",
     "text": [
      "could not detect version_main.therefore, we are assuming it is chrome 108 or higher\n"
     ]
    },
    {
     "name": "stdout",
     "output_type": "stream",
     "text": [
      "Saved to db successfully\n",
      "Done with link 45951: https://www.zoopla.co.uk/for-sale/details/65186701/?search_identifier=d1391ad334447794dbf1037790c2ecb857d15a6f8dc3b25a8f96de46783718c4\n",
      "Starting extraction for link 45952: https://www.zoopla.co.uk/for-sale/details/65184080/?search_identifier=d1391ad334447794dbf1037790c2ecb857d15a6f8dc3b25a8f96de46783718c4\n"
     ]
    },
    {
     "name": "stderr",
     "output_type": "stream",
     "text": [
      "could not detect version_main.therefore, we are assuming it is chrome 108 or higher\n"
     ]
    },
    {
     "name": "stdout",
     "output_type": "stream",
     "text": [
      "Saved to db successfully\n",
      "Done with link 45952: https://www.zoopla.co.uk/for-sale/details/65184080/?search_identifier=d1391ad334447794dbf1037790c2ecb857d15a6f8dc3b25a8f96de46783718c4\n",
      "Starting extraction for link 45953: https://www.zoopla.co.uk/for-sale/details/65174873/?search_identifier=d1391ad334447794dbf1037790c2ecb857d15a6f8dc3b25a8f96de46783718c4\n"
     ]
    },
    {
     "name": "stderr",
     "output_type": "stream",
     "text": [
      "could not detect version_main.therefore, we are assuming it is chrome 108 or higher\n"
     ]
    },
    {
     "name": "stdout",
     "output_type": "stream",
     "text": [
      "Saved to db successfully\n",
      "Done with link 45953: https://www.zoopla.co.uk/for-sale/details/65174873/?search_identifier=d1391ad334447794dbf1037790c2ecb857d15a6f8dc3b25a8f96de46783718c4\n",
      "Starting extraction for link 45954: https://www.zoopla.co.uk/for-sale/details/64396880/?search_identifier=d1391ad334447794dbf1037790c2ecb857d15a6f8dc3b25a8f96de46783718c4\n",
      "An error occurred for link in get_data_func: https://www.zoopla.co.uk/for-sale/details/64396880/?search_identifier=d1391ad334447794dbf1037790c2ecb857d15a6f8dc3b25a8f96de46783718c4: Message: no such element: Unable to locate element: {\"method\":\"xpath\",\"selector\":\"//p[@data-testid=\"price\"]\"}\n",
      "  (Session info: chrome=115.0.5790.171); For documentation on this error, please visit: https://www.selenium.dev/documentation/webdriver/troubleshooting/errors#no-such-element-exception\n",
      "Stacktrace:\n",
      "Backtrace:\n",
      "\tGetHandleVerifier [0x0073A813+48355]\n",
      "\t(No symbol) [0x006CC4B1]\n",
      "\t(No symbol) [0x005D5358]\n",
      "\t(No symbol) [0x006009A5]\n",
      "\t(No symbol) [0x00600B3B]\n",
      "\t(No symbol) [0x0062E232]\n",
      "\t(No symbol) [0x0061A784]\n",
      "\t(No symbol) [0x0062C922]\n",
      "\t(No symbol) [0x0061A536]\n",
      "\t(No symbol) [0x005F82DC]\n",
      "\t(No symbol) [0x005F93DD]\n",
      "\tGetHandleVerifier [0x0099AABD+2539405]\n",
      "\tGetHandleVerifier [0x009DA78F+2800735]\n",
      "\tGetHandleVerifier [0x009D456C+2775612]\n",
      "\tGetHandleVerifier [0x007C51E0+616112]\n",
      "\t(No symbol) [0x006D5F8C]\n",
      "\t(No symbol) [0x006D2328]\n",
      "\t(No symbol) [0x006D240B]\n",
      "\t(No symbol) [0x006C4FF7]\n",
      "\tBaseThreadInitThunk [0x761E7D59+25]\n",
      "\tRtlInitializeExceptionChain [0x773DB79B+107]\n",
      "\tRtlClearBits [0x773DB71F+191]\n",
      "\n"
     ]
    },
    {
     "name": "stderr",
     "output_type": "stream",
     "text": [
      "could not detect version_main.therefore, we are assuming it is chrome 108 or higher\n"
     ]
    },
    {
     "name": "stdout",
     "output_type": "stream",
     "text": [
      "Saved to db successfully\n",
      "Done with link 45954: https://www.zoopla.co.uk/for-sale/details/64396880/?search_identifier=d1391ad334447794dbf1037790c2ecb857d15a6f8dc3b25a8f96de46783718c4\n",
      "Starting extraction for link 45955: https://www.zoopla.co.uk/for-sale/details/65170330/?search_identifier=d1391ad334447794dbf1037790c2ecb857d15a6f8dc3b25a8f96de46783718c4\n"
     ]
    },
    {
     "name": "stderr",
     "output_type": "stream",
     "text": [
      "could not detect version_main.therefore, we are assuming it is chrome 108 or higher\n"
     ]
    },
    {
     "name": "stdout",
     "output_type": "stream",
     "text": [
      "Saved to db successfully\n",
      "Done with link 45955: https://www.zoopla.co.uk/for-sale/details/65170330/?search_identifier=d1391ad334447794dbf1037790c2ecb857d15a6f8dc3b25a8f96de46783718c4\n",
      "Starting extraction for link 45956: https://www.zoopla.co.uk/for-sale/details/65165101/?search_identifier=d1391ad334447794dbf1037790c2ecb857d15a6f8dc3b25a8f96de46783718c4\n",
      "An error occurred for link in get_data_func: https://www.zoopla.co.uk/for-sale/details/65165101/?search_identifier=d1391ad334447794dbf1037790c2ecb857d15a6f8dc3b25a8f96de46783718c4: Message: no such element: Unable to locate element: {\"method\":\"xpath\",\"selector\":\"//p[@data-testid=\"price\"]\"}\n",
      "  (Session info: chrome=115.0.5790.171); For documentation on this error, please visit: https://www.selenium.dev/documentation/webdriver/troubleshooting/errors#no-such-element-exception\n",
      "Stacktrace:\n",
      "Backtrace:\n",
      "\tGetHandleVerifier [0x0073A813+48355]\n",
      "\t(No symbol) [0x006CC4B1]\n",
      "\t(No symbol) [0x005D5358]\n",
      "\t(No symbol) [0x006009A5]\n",
      "\t(No symbol) [0x00600B3B]\n",
      "\t(No symbol) [0x0062E232]\n",
      "\t(No symbol) [0x0061A784]\n",
      "\t(No symbol) [0x0062C922]\n",
      "\t(No symbol) [0x0061A536]\n",
      "\t(No symbol) [0x005F82DC]\n",
      "\t(No symbol) [0x005F93DD]\n",
      "\tGetHandleVerifier [0x0099AABD+2539405]\n",
      "\tGetHandleVerifier [0x009DA78F+2800735]\n",
      "\tGetHandleVerifier [0x009D456C+2775612]\n",
      "\tGetHandleVerifier [0x007C51E0+616112]\n",
      "\t(No symbol) [0x006D5F8C]\n",
      "\t(No symbol) [0x006D2328]\n",
      "\t(No symbol) [0x006D240B]\n",
      "\t(No symbol) [0x006C4FF7]\n",
      "\tBaseThreadInitThunk [0x761E7D59+25]\n",
      "\tRtlInitializeExceptionChain [0x773DB79B+107]\n",
      "\tRtlClearBits [0x773DB71F+191]\n",
      "\n"
     ]
    },
    {
     "name": "stderr",
     "output_type": "stream",
     "text": [
      "could not detect version_main.therefore, we are assuming it is chrome 108 or higher\n"
     ]
    },
    {
     "name": "stdout",
     "output_type": "stream",
     "text": [
      "Saved to db successfully\n",
      "Done with link 45956: https://www.zoopla.co.uk/for-sale/details/65165101/?search_identifier=d1391ad334447794dbf1037790c2ecb857d15a6f8dc3b25a8f96de46783718c4\n",
      "Starting extraction for link 45957: https://www.zoopla.co.uk/for-sale/details/65158412/?search_identifier=d1391ad334447794dbf1037790c2ecb857d15a6f8dc3b25a8f96de46783718c4\n"
     ]
    },
    {
     "name": "stderr",
     "output_type": "stream",
     "text": [
      "could not detect version_main.therefore, we are assuming it is chrome 108 or higher\n"
     ]
    },
    {
     "name": "stdout",
     "output_type": "stream",
     "text": [
      "Saved to db successfully\n",
      "Done with link 45957: https://www.zoopla.co.uk/for-sale/details/65158412/?search_identifier=d1391ad334447794dbf1037790c2ecb857d15a6f8dc3b25a8f96de46783718c4\n",
      "Starting extraction for link 45958: https://www.zoopla.co.uk/for-sale/details/65144669/?search_identifier=d1391ad334447794dbf1037790c2ecb857d15a6f8dc3b25a8f96de46783718c4\n"
     ]
    },
    {
     "name": "stderr",
     "output_type": "stream",
     "text": [
      "could not detect version_main.therefore, we are assuming it is chrome 108 or higher\n"
     ]
    },
    {
     "name": "stdout",
     "output_type": "stream",
     "text": [
      "Saved to db successfully\n",
      "Done with link 45958: https://www.zoopla.co.uk/for-sale/details/65144669/?search_identifier=d1391ad334447794dbf1037790c2ecb857d15a6f8dc3b25a8f96de46783718c4\n",
      "Starting extraction for link 45959: https://www.zoopla.co.uk/for-sale/details/65139184/?search_identifier=d1391ad334447794dbf1037790c2ecb857d15a6f8dc3b25a8f96de46783718c4\n"
     ]
    },
    {
     "name": "stderr",
     "output_type": "stream",
     "text": [
      "could not detect version_main.therefore, we are assuming it is chrome 108 or higher\n"
     ]
    },
    {
     "name": "stdout",
     "output_type": "stream",
     "text": [
      "Saved to db successfully\n",
      "Done with link 45959: https://www.zoopla.co.uk/for-sale/details/65139184/?search_identifier=d1391ad334447794dbf1037790c2ecb857d15a6f8dc3b25a8f96de46783718c4\n",
      "Starting extraction for link 45960: https://www.zoopla.co.uk/for-sale/details/65112735/?search_identifier=d1391ad334447794dbf1037790c2ecb857d15a6f8dc3b25a8f96de46783718c4\n"
     ]
    },
    {
     "name": "stderr",
     "output_type": "stream",
     "text": [
      "could not detect version_main.therefore, we are assuming it is chrome 108 or higher\n"
     ]
    },
    {
     "name": "stdout",
     "output_type": "stream",
     "text": [
      "Saved to db successfully\n",
      "Done with link 45960: https://www.zoopla.co.uk/for-sale/details/65112735/?search_identifier=d1391ad334447794dbf1037790c2ecb857d15a6f8dc3b25a8f96de46783718c4\n",
      "Starting extraction for link 45961: https://www.zoopla.co.uk/for-sale/details/65109249/?search_identifier=d1391ad334447794dbf1037790c2ecb857d15a6f8dc3b25a8f96de46783718c4\n"
     ]
    },
    {
     "name": "stderr",
     "output_type": "stream",
     "text": [
      "could not detect version_main.therefore, we are assuming it is chrome 108 or higher\n"
     ]
    },
    {
     "name": "stdout",
     "output_type": "stream",
     "text": [
      "Saved to db successfully\n",
      "Done with link 45961: https://www.zoopla.co.uk/for-sale/details/65109249/?search_identifier=d1391ad334447794dbf1037790c2ecb857d15a6f8dc3b25a8f96de46783718c4\n",
      "Starting extraction for link 45962: https://www.zoopla.co.uk/for-sale/details/65108705/?search_identifier=d1391ad334447794dbf1037790c2ecb857d15a6f8dc3b25a8f96de46783718c4\n"
     ]
    },
    {
     "name": "stderr",
     "output_type": "stream",
     "text": [
      "could not detect version_main.therefore, we are assuming it is chrome 108 or higher\n"
     ]
    },
    {
     "name": "stdout",
     "output_type": "stream",
     "text": [
      "Saved to db successfully\n",
      "Done with link 45962: https://www.zoopla.co.uk/for-sale/details/65108705/?search_identifier=d1391ad334447794dbf1037790c2ecb857d15a6f8dc3b25a8f96de46783718c4\n",
      "Starting extraction for link 45963: https://www.zoopla.co.uk/for-sale/details/65107484/?search_identifier=d1391ad334447794dbf1037790c2ecb857d15a6f8dc3b25a8f96de46783718c4\n"
     ]
    },
    {
     "name": "stderr",
     "output_type": "stream",
     "text": [
      "could not detect version_main.therefore, we are assuming it is chrome 108 or higher\n"
     ]
    },
    {
     "name": "stdout",
     "output_type": "stream",
     "text": [
      "Saved to db successfully\n",
      "Done with link 45963: https://www.zoopla.co.uk/for-sale/details/65107484/?search_identifier=d1391ad334447794dbf1037790c2ecb857d15a6f8dc3b25a8f96de46783718c4\n",
      "Starting extraction for link 45964: https://www.zoopla.co.uk/for-sale/details/65104403/?search_identifier=d1391ad334447794dbf1037790c2ecb857d15a6f8dc3b25a8f96de46783718c4\n"
     ]
    },
    {
     "name": "stderr",
     "output_type": "stream",
     "text": [
      "could not detect version_main.therefore, we are assuming it is chrome 108 or higher\n"
     ]
    },
    {
     "name": "stdout",
     "output_type": "stream",
     "text": [
      "Saved to db successfully\n",
      "Done with link 45964: https://www.zoopla.co.uk/for-sale/details/65104403/?search_identifier=d1391ad334447794dbf1037790c2ecb857d15a6f8dc3b25a8f96de46783718c4\n",
      "Starting extraction for link 45965: https://www.zoopla.co.uk/for-sale/details/65090535/?search_identifier=d1391ad334447794dbf1037790c2ecb857d15a6f8dc3b25a8f96de46783718c4\n"
     ]
    },
    {
     "name": "stderr",
     "output_type": "stream",
     "text": [
      "could not detect version_main.therefore, we are assuming it is chrome 108 or higher\n"
     ]
    },
    {
     "name": "stdout",
     "output_type": "stream",
     "text": [
      "Saved to db successfully\n",
      "Done with link 45965: https://www.zoopla.co.uk/for-sale/details/65090535/?search_identifier=d1391ad334447794dbf1037790c2ecb857d15a6f8dc3b25a8f96de46783718c4\n",
      "Starting extraction for link 45966: https://www.zoopla.co.uk/for-sale/details/64577053/?search_identifier=d1391ad334447794dbf1037790c2ecb857d15a6f8dc3b25a8f96de46783718c4\n"
     ]
    },
    {
     "name": "stderr",
     "output_type": "stream",
     "text": [
      "could not detect version_main.therefore, we are assuming it is chrome 108 or higher\n"
     ]
    },
    {
     "name": "stdout",
     "output_type": "stream",
     "text": [
      "Saved to db successfully\n",
      "Done with link 45966: https://www.zoopla.co.uk/for-sale/details/64577053/?search_identifier=d1391ad334447794dbf1037790c2ecb857d15a6f8dc3b25a8f96de46783718c4\n",
      "Starting extraction for link 45967: https://www.zoopla.co.uk/new-homes/details/65057136/?search_identifier=d1391ad334447794dbf1037790c2ecb857d15a6f8dc3b25a8f96de46783718c4\n",
      "An error occurred for link in get_data_func: https://www.zoopla.co.uk/new-homes/details/65057136/?search_identifier=d1391ad334447794dbf1037790c2ecb857d15a6f8dc3b25a8f96de46783718c4: Message: no such element: Unable to locate element: {\"method\":\"xpath\",\"selector\":\"//p[@data-testid=\"price\"]\"}\n",
      "  (Session info: chrome=115.0.5790.171); For documentation on this error, please visit: https://www.selenium.dev/documentation/webdriver/troubleshooting/errors#no-such-element-exception\n",
      "Stacktrace:\n",
      "Backtrace:\n",
      "\tGetHandleVerifier [0x0073A813+48355]\n",
      "\t(No symbol) [0x006CC4B1]\n",
      "\t(No symbol) [0x005D5358]\n",
      "\t(No symbol) [0x006009A5]\n",
      "\t(No symbol) [0x00600B3B]\n",
      "\t(No symbol) [0x0062E232]\n",
      "\t(No symbol) [0x0061A784]\n",
      "\t(No symbol) [0x0062C922]\n",
      "\t(No symbol) [0x0061A536]\n",
      "\t(No symbol) [0x005F82DC]\n",
      "\t(No symbol) [0x005F93DD]\n",
      "\tGetHandleVerifier [0x0099AABD+2539405]\n",
      "\tGetHandleVerifier [0x009DA78F+2800735]\n",
      "\tGetHandleVerifier [0x009D456C+2775612]\n",
      "\tGetHandleVerifier [0x007C51E0+616112]\n",
      "\t(No symbol) [0x006D5F8C]\n",
      "\t(No symbol) [0x006D2328]\n",
      "\t(No symbol) [0x006D240B]\n",
      "\t(No symbol) [0x006C4FF7]\n",
      "\tBaseThreadInitThunk [0x761E7D59+25]\n",
      "\tRtlInitializeExceptionChain [0x773DB79B+107]\n",
      "\tRtlClearBits [0x773DB71F+191]\n",
      "\n"
     ]
    },
    {
     "name": "stderr",
     "output_type": "stream",
     "text": [
      "could not detect version_main.therefore, we are assuming it is chrome 108 or higher\n"
     ]
    },
    {
     "name": "stdout",
     "output_type": "stream",
     "text": [
      "Saved to db successfully\n",
      "Done with link 45967: https://www.zoopla.co.uk/new-homes/details/65057136/?search_identifier=d1391ad334447794dbf1037790c2ecb857d15a6f8dc3b25a8f96de46783718c4\n",
      "Starting extraction for link 45968: https://www.zoopla.co.uk/for-sale/details/65057725/?search_identifier=d1391ad334447794dbf1037790c2ecb857d15a6f8dc3b25a8f96de46783718c4\n"
     ]
    },
    {
     "name": "stderr",
     "output_type": "stream",
     "text": [
      "could not detect version_main.therefore, we are assuming it is chrome 108 or higher\n"
     ]
    },
    {
     "name": "stdout",
     "output_type": "stream",
     "text": [
      "Saved to db successfully\n",
      "Done with link 45968: https://www.zoopla.co.uk/for-sale/details/65057725/?search_identifier=d1391ad334447794dbf1037790c2ecb857d15a6f8dc3b25a8f96de46783718c4\n",
      "Starting extraction for link 45969: https://www.zoopla.co.uk/new-homes/details/65057618/?search_identifier=d1391ad334447794dbf1037790c2ecb857d15a6f8dc3b25a8f96de46783718c4\n",
      "An error occurred for link in get_data_func: https://www.zoopla.co.uk/new-homes/details/65057618/?search_identifier=d1391ad334447794dbf1037790c2ecb857d15a6f8dc3b25a8f96de46783718c4: Message: no such element: Unable to locate element: {\"method\":\"xpath\",\"selector\":\"//p[@data-testid=\"price\"]\"}\n",
      "  (Session info: chrome=115.0.5790.171); For documentation on this error, please visit: https://www.selenium.dev/documentation/webdriver/troubleshooting/errors#no-such-element-exception\n",
      "Stacktrace:\n",
      "Backtrace:\n",
      "\tGetHandleVerifier [0x0073A813+48355]\n",
      "\t(No symbol) [0x006CC4B1]\n",
      "\t(No symbol) [0x005D5358]\n",
      "\t(No symbol) [0x006009A5]\n",
      "\t(No symbol) [0x00600B3B]\n",
      "\t(No symbol) [0x0062E232]\n",
      "\t(No symbol) [0x0061A784]\n",
      "\t(No symbol) [0x0062C922]\n",
      "\t(No symbol) [0x0061A536]\n",
      "\t(No symbol) [0x005F82DC]\n",
      "\t(No symbol) [0x005F93DD]\n",
      "\tGetHandleVerifier [0x0099AABD+2539405]\n",
      "\tGetHandleVerifier [0x009DA78F+2800735]\n",
      "\tGetHandleVerifier [0x009D456C+2775612]\n",
      "\tGetHandleVerifier [0x007C51E0+616112]\n",
      "\t(No symbol) [0x006D5F8C]\n",
      "\t(No symbol) [0x006D2328]\n",
      "\t(No symbol) [0x006D240B]\n",
      "\t(No symbol) [0x006C4FF7]\n",
      "\tBaseThreadInitThunk [0x761E7D59+25]\n",
      "\tRtlInitializeExceptionChain [0x773DB79B+107]\n",
      "\tRtlClearBits [0x773DB71F+191]\n",
      "\n"
     ]
    },
    {
     "name": "stderr",
     "output_type": "stream",
     "text": [
      "could not detect version_main.therefore, we are assuming it is chrome 108 or higher\n"
     ]
    },
    {
     "name": "stdout",
     "output_type": "stream",
     "text": [
      "Saved to db successfully\n",
      "Done with link 45969: https://www.zoopla.co.uk/new-homes/details/65057618/?search_identifier=d1391ad334447794dbf1037790c2ecb857d15a6f8dc3b25a8f96de46783718c4\n",
      "Starting extraction for link 45970: https://www.zoopla.co.uk/new-homes/details/65056993/?search_identifier=d1391ad334447794dbf1037790c2ecb857d15a6f8dc3b25a8f96de46783718c4\n",
      "An error occurred for link in get_data_func: https://www.zoopla.co.uk/new-homes/details/65056993/?search_identifier=d1391ad334447794dbf1037790c2ecb857d15a6f8dc3b25a8f96de46783718c4: Message: no such element: Unable to locate element: {\"method\":\"xpath\",\"selector\":\"//p[@data-testid=\"price\"]\"}\n",
      "  (Session info: chrome=115.0.5790.171); For documentation on this error, please visit: https://www.selenium.dev/documentation/webdriver/troubleshooting/errors#no-such-element-exception\n",
      "Stacktrace:\n",
      "Backtrace:\n",
      "\tGetHandleVerifier [0x0073A813+48355]\n",
      "\t(No symbol) [0x006CC4B1]\n",
      "\t(No symbol) [0x005D5358]\n",
      "\t(No symbol) [0x006009A5]\n",
      "\t(No symbol) [0x00600B3B]\n",
      "\t(No symbol) [0x0062E232]\n",
      "\t(No symbol) [0x0061A784]\n",
      "\t(No symbol) [0x0062C922]\n",
      "\t(No symbol) [0x0061A536]\n",
      "\t(No symbol) [0x005F82DC]\n",
      "\t(No symbol) [0x005F93DD]\n",
      "\tGetHandleVerifier [0x0099AABD+2539405]\n",
      "\tGetHandleVerifier [0x009DA78F+2800735]\n",
      "\tGetHandleVerifier [0x009D456C+2775612]\n",
      "\tGetHandleVerifier [0x007C51E0+616112]\n",
      "\t(No symbol) [0x006D5F8C]\n",
      "\t(No symbol) [0x006D2328]\n",
      "\t(No symbol) [0x006D240B]\n",
      "\t(No symbol) [0x006C4FF7]\n",
      "\tBaseThreadInitThunk [0x761E7D59+25]\n",
      "\tRtlInitializeExceptionChain [0x773DB79B+107]\n",
      "\tRtlClearBits [0x773DB71F+191]\n",
      "\n"
     ]
    },
    {
     "name": "stderr",
     "output_type": "stream",
     "text": [
      "could not detect version_main.therefore, we are assuming it is chrome 108 or higher\n"
     ]
    },
    {
     "name": "stdout",
     "output_type": "stream",
     "text": [
      "Saved to db successfully\n",
      "Done with link 45970: https://www.zoopla.co.uk/new-homes/details/65056993/?search_identifier=d1391ad334447794dbf1037790c2ecb857d15a6f8dc3b25a8f96de46783718c4\n",
      "Starting extraction for link 45971: https://www.zoopla.co.uk/for-sale/details/65047465/?search_identifier=d1391ad334447794dbf1037790c2ecb857d15a6f8dc3b25a8f96de46783718c4\n"
     ]
    },
    {
     "name": "stderr",
     "output_type": "stream",
     "text": [
      "could not detect version_main.therefore, we are assuming it is chrome 108 or higher\n"
     ]
    },
    {
     "name": "stdout",
     "output_type": "stream",
     "text": [
      "Saved to db successfully\n",
      "Done with link 45971: https://www.zoopla.co.uk/for-sale/details/65047465/?search_identifier=d1391ad334447794dbf1037790c2ecb857d15a6f8dc3b25a8f96de46783718c4\n",
      "Starting extraction for link 45972: https://www.zoopla.co.uk/for-sale/details/65046662/?search_identifier=d1391ad334447794dbf1037790c2ecb857d15a6f8dc3b25a8f96de46783718c4\n"
     ]
    },
    {
     "name": "stderr",
     "output_type": "stream",
     "text": [
      "could not detect version_main.therefore, we are assuming it is chrome 108 or higher\n"
     ]
    },
    {
     "name": "stdout",
     "output_type": "stream",
     "text": [
      "Saved to db successfully\n",
      "Done with link 45972: https://www.zoopla.co.uk/for-sale/details/65046662/?search_identifier=d1391ad334447794dbf1037790c2ecb857d15a6f8dc3b25a8f96de46783718c4\n",
      "Starting extraction for link 45973: https://www.zoopla.co.uk/for-sale/details/65009902/?search_identifier=718f5232fdc252f479caae9e0b675cbb347276394ed8079df85187327dd85937\n"
     ]
    },
    {
     "name": "stderr",
     "output_type": "stream",
     "text": [
      "could not detect version_main.therefore, we are assuming it is chrome 108 or higher\n"
     ]
    },
    {
     "name": "stdout",
     "output_type": "stream",
     "text": [
      "Saved to db successfully\n",
      "Done with link 45973: https://www.zoopla.co.uk/for-sale/details/65009902/?search_identifier=718f5232fdc252f479caae9e0b675cbb347276394ed8079df85187327dd85937\n",
      "Starting extraction for link 45974: https://www.zoopla.co.uk/for-sale/details/64994927/?search_identifier=718f5232fdc252f479caae9e0b675cbb347276394ed8079df85187327dd85937\n"
     ]
    },
    {
     "name": "stderr",
     "output_type": "stream",
     "text": [
      "could not detect version_main.therefore, we are assuming it is chrome 108 or higher\n"
     ]
    },
    {
     "name": "stdout",
     "output_type": "stream",
     "text": [
      "Saved to db successfully\n",
      "Done with link 45974: https://www.zoopla.co.uk/for-sale/details/64994927/?search_identifier=718f5232fdc252f479caae9e0b675cbb347276394ed8079df85187327dd85937\n",
      "Starting extraction for link 45975: https://www.zoopla.co.uk/for-sale/details/64993734/?search_identifier=718f5232fdc252f479caae9e0b675cbb347276394ed8079df85187327dd85937\n"
     ]
    },
    {
     "name": "stderr",
     "output_type": "stream",
     "text": [
      "could not detect version_main.therefore, we are assuming it is chrome 108 or higher\n"
     ]
    },
    {
     "name": "stdout",
     "output_type": "stream",
     "text": [
      "Saved to db successfully\n",
      "Done with link 45975: https://www.zoopla.co.uk/for-sale/details/64993734/?search_identifier=718f5232fdc252f479caae9e0b675cbb347276394ed8079df85187327dd85937\n",
      "Starting extraction for link 45976: https://www.zoopla.co.uk/for-sale/details/64991927/?search_identifier=718f5232fdc252f479caae9e0b675cbb347276394ed8079df85187327dd85937\n"
     ]
    },
    {
     "name": "stderr",
     "output_type": "stream",
     "text": [
      "could not detect version_main.therefore, we are assuming it is chrome 108 or higher\n"
     ]
    },
    {
     "name": "stdout",
     "output_type": "stream",
     "text": [
      "Saved to db successfully\n",
      "Done with link 45976: https://www.zoopla.co.uk/for-sale/details/64991927/?search_identifier=718f5232fdc252f479caae9e0b675cbb347276394ed8079df85187327dd85937\n",
      "Starting extraction for link 45977: https://www.zoopla.co.uk/for-sale/details/64975979/?search_identifier=718f5232fdc252f479caae9e0b675cbb347276394ed8079df85187327dd85937\n"
     ]
    },
    {
     "name": "stderr",
     "output_type": "stream",
     "text": [
      "could not detect version_main.therefore, we are assuming it is chrome 108 or higher\n"
     ]
    },
    {
     "name": "stdout",
     "output_type": "stream",
     "text": [
      "Saved to db successfully\n",
      "Done with link 45977: https://www.zoopla.co.uk/for-sale/details/64975979/?search_identifier=718f5232fdc252f479caae9e0b675cbb347276394ed8079df85187327dd85937\n",
      "Starting extraction for link 45978: https://www.zoopla.co.uk/for-sale/details/64953312/?search_identifier=718f5232fdc252f479caae9e0b675cbb347276394ed8079df85187327dd85937\n"
     ]
    },
    {
     "name": "stderr",
     "output_type": "stream",
     "text": [
      "could not detect version_main.therefore, we are assuming it is chrome 108 or higher\n"
     ]
    },
    {
     "name": "stdout",
     "output_type": "stream",
     "text": [
      "Saved to db successfully\n",
      "Done with link 45978: https://www.zoopla.co.uk/for-sale/details/64953312/?search_identifier=718f5232fdc252f479caae9e0b675cbb347276394ed8079df85187327dd85937\n",
      "Starting extraction for link 45979: https://www.zoopla.co.uk/for-sale/details/64952724/?search_identifier=718f5232fdc252f479caae9e0b675cbb347276394ed8079df85187327dd85937\n"
     ]
    },
    {
     "name": "stderr",
     "output_type": "stream",
     "text": [
      "could not detect version_main.therefore, we are assuming it is chrome 108 or higher\n"
     ]
    },
    {
     "name": "stdout",
     "output_type": "stream",
     "text": [
      "Saved to db successfully\n",
      "Done with link 45979: https://www.zoopla.co.uk/for-sale/details/64952724/?search_identifier=718f5232fdc252f479caae9e0b675cbb347276394ed8079df85187327dd85937\n",
      "Starting extraction for link 45980: https://www.zoopla.co.uk/for-sale/details/64951681/?search_identifier=718f5232fdc252f479caae9e0b675cbb347276394ed8079df85187327dd85937\n"
     ]
    },
    {
     "name": "stderr",
     "output_type": "stream",
     "text": [
      "could not detect version_main.therefore, we are assuming it is chrome 108 or higher\n"
     ]
    },
    {
     "name": "stdout",
     "output_type": "stream",
     "text": [
      "Saved to db successfully\n",
      "Done with link 45980: https://www.zoopla.co.uk/for-sale/details/64951681/?search_identifier=718f5232fdc252f479caae9e0b675cbb347276394ed8079df85187327dd85937\n",
      "Starting extraction for link 45981: https://www.zoopla.co.uk/for-sale/details/64946058/?search_identifier=718f5232fdc252f479caae9e0b675cbb347276394ed8079df85187327dd85937\n"
     ]
    },
    {
     "name": "stderr",
     "output_type": "stream",
     "text": [
      "could not detect version_main.therefore, we are assuming it is chrome 108 or higher\n"
     ]
    },
    {
     "name": "stdout",
     "output_type": "stream",
     "text": [
      "Saved to db successfully\n",
      "Done with link 45981: https://www.zoopla.co.uk/for-sale/details/64946058/?search_identifier=718f5232fdc252f479caae9e0b675cbb347276394ed8079df85187327dd85937\n",
      "Starting extraction for link 45982: https://www.zoopla.co.uk/for-sale/details/64937063/?search_identifier=718f5232fdc252f479caae9e0b675cbb347276394ed8079df85187327dd85937\n"
     ]
    },
    {
     "name": "stderr",
     "output_type": "stream",
     "text": [
      "could not detect version_main.therefore, we are assuming it is chrome 108 or higher\n"
     ]
    },
    {
     "name": "stdout",
     "output_type": "stream",
     "text": [
      "Saved to db successfully\n",
      "Done with link 45982: https://www.zoopla.co.uk/for-sale/details/64937063/?search_identifier=718f5232fdc252f479caae9e0b675cbb347276394ed8079df85187327dd85937\n",
      "Starting extraction for link 45983: https://www.zoopla.co.uk/for-sale/details/64934385/?search_identifier=718f5232fdc252f479caae9e0b675cbb347276394ed8079df85187327dd85937\n"
     ]
    },
    {
     "name": "stderr",
     "output_type": "stream",
     "text": [
      "could not detect version_main.therefore, we are assuming it is chrome 108 or higher\n"
     ]
    },
    {
     "name": "stdout",
     "output_type": "stream",
     "text": [
      "Saved to db successfully\n",
      "Done with link 45983: https://www.zoopla.co.uk/for-sale/details/64934385/?search_identifier=718f5232fdc252f479caae9e0b675cbb347276394ed8079df85187327dd85937\n",
      "Starting extraction for link 45984: https://www.zoopla.co.uk/for-sale/details/64926644/?search_identifier=718f5232fdc252f479caae9e0b675cbb347276394ed8079df85187327dd85937\n"
     ]
    },
    {
     "name": "stderr",
     "output_type": "stream",
     "text": [
      "could not detect version_main.therefore, we are assuming it is chrome 108 or higher\n"
     ]
    },
    {
     "name": "stdout",
     "output_type": "stream",
     "text": [
      "Saved to db successfully\n",
      "Done with link 45984: https://www.zoopla.co.uk/for-sale/details/64926644/?search_identifier=718f5232fdc252f479caae9e0b675cbb347276394ed8079df85187327dd85937\n",
      "Starting extraction for link 45985: https://www.zoopla.co.uk/for-sale/details/64905191/?search_identifier=718f5232fdc252f479caae9e0b675cbb347276394ed8079df85187327dd85937\n"
     ]
    },
    {
     "name": "stderr",
     "output_type": "stream",
     "text": [
      "could not detect version_main.therefore, we are assuming it is chrome 108 or higher\n"
     ]
    },
    {
     "name": "stdout",
     "output_type": "stream",
     "text": [
      "Saved to db successfully\n",
      "Done with link 45985: https://www.zoopla.co.uk/for-sale/details/64905191/?search_identifier=718f5232fdc252f479caae9e0b675cbb347276394ed8079df85187327dd85937\n",
      "Starting extraction for link 45986: https://www.zoopla.co.uk/for-sale/details/64904333/?search_identifier=718f5232fdc252f479caae9e0b675cbb347276394ed8079df85187327dd85937\n"
     ]
    },
    {
     "name": "stderr",
     "output_type": "stream",
     "text": [
      "could not detect version_main.therefore, we are assuming it is chrome 108 or higher\n"
     ]
    },
    {
     "name": "stdout",
     "output_type": "stream",
     "text": [
      "Saved to db successfully\n",
      "Done with link 45986: https://www.zoopla.co.uk/for-sale/details/64904333/?search_identifier=718f5232fdc252f479caae9e0b675cbb347276394ed8079df85187327dd85937\n",
      "Starting extraction for link 45987: https://www.zoopla.co.uk/new-homes/details/64889790/?search_identifier=718f5232fdc252f479caae9e0b675cbb347276394ed8079df85187327dd85937\n",
      "An error occurred for link in get_data_func: https://www.zoopla.co.uk/new-homes/details/64889790/?search_identifier=718f5232fdc252f479caae9e0b675cbb347276394ed8079df85187327dd85937: Message: no such element: Unable to locate element: {\"method\":\"xpath\",\"selector\":\"//p[@data-testid=\"price\"]\"}\n",
      "  (Session info: chrome=115.0.5790.171); For documentation on this error, please visit: https://www.selenium.dev/documentation/webdriver/troubleshooting/errors#no-such-element-exception\n",
      "Stacktrace:\n",
      "Backtrace:\n",
      "\tGetHandleVerifier [0x0073A813+48355]\n",
      "\t(No symbol) [0x006CC4B1]\n",
      "\t(No symbol) [0x005D5358]\n",
      "\t(No symbol) [0x006009A5]\n",
      "\t(No symbol) [0x00600B3B]\n",
      "\t(No symbol) [0x0062E232]\n",
      "\t(No symbol) [0x0061A784]\n",
      "\t(No symbol) [0x0062C922]\n",
      "\t(No symbol) [0x0061A536]\n",
      "\t(No symbol) [0x005F82DC]\n",
      "\t(No symbol) [0x005F93DD]\n",
      "\tGetHandleVerifier [0x0099AABD+2539405]\n",
      "\tGetHandleVerifier [0x009DA78F+2800735]\n",
      "\tGetHandleVerifier [0x009D456C+2775612]\n",
      "\tGetHandleVerifier [0x007C51E0+616112]\n",
      "\t(No symbol) [0x006D5F8C]\n",
      "\t(No symbol) [0x006D2328]\n",
      "\t(No symbol) [0x006D240B]\n",
      "\t(No symbol) [0x006C4FF7]\n",
      "\tBaseThreadInitThunk [0x761E7D59+25]\n",
      "\tRtlInitializeExceptionChain [0x773DB79B+107]\n",
      "\tRtlClearBits [0x773DB71F+191]\n",
      "\n"
     ]
    },
    {
     "name": "stderr",
     "output_type": "stream",
     "text": [
      "could not detect version_main.therefore, we are assuming it is chrome 108 or higher\n"
     ]
    },
    {
     "name": "stdout",
     "output_type": "stream",
     "text": [
      "Saved to db successfully\n",
      "Done with link 45987: https://www.zoopla.co.uk/new-homes/details/64889790/?search_identifier=718f5232fdc252f479caae9e0b675cbb347276394ed8079df85187327dd85937\n",
      "Starting extraction for link 45988: https://www.zoopla.co.uk/new-homes/details/64889772/?search_identifier=718f5232fdc252f479caae9e0b675cbb347276394ed8079df85187327dd85937\n",
      "An error occurred for link in get_data_func: https://www.zoopla.co.uk/new-homes/details/64889772/?search_identifier=718f5232fdc252f479caae9e0b675cbb347276394ed8079df85187327dd85937: Message: no such element: Unable to locate element: {\"method\":\"xpath\",\"selector\":\"//p[@data-testid=\"price\"]\"}\n",
      "  (Session info: chrome=115.0.5790.171); For documentation on this error, please visit: https://www.selenium.dev/documentation/webdriver/troubleshooting/errors#no-such-element-exception\n",
      "Stacktrace:\n",
      "Backtrace:\n",
      "\tGetHandleVerifier [0x0073A813+48355]\n",
      "\t(No symbol) [0x006CC4B1]\n",
      "\t(No symbol) [0x005D5358]\n",
      "\t(No symbol) [0x006009A5]\n",
      "\t(No symbol) [0x00600B3B]\n",
      "\t(No symbol) [0x0062E232]\n",
      "\t(No symbol) [0x0061A784]\n",
      "\t(No symbol) [0x0062C922]\n",
      "\t(No symbol) [0x0061A536]\n",
      "\t(No symbol) [0x005F82DC]\n",
      "\t(No symbol) [0x005F93DD]\n",
      "\tGetHandleVerifier [0x0099AABD+2539405]\n",
      "\tGetHandleVerifier [0x009DA78F+2800735]\n",
      "\tGetHandleVerifier [0x009D456C+2775612]\n",
      "\tGetHandleVerifier [0x007C51E0+616112]\n",
      "\t(No symbol) [0x006D5F8C]\n",
      "\t(No symbol) [0x006D2328]\n",
      "\t(No symbol) [0x006D240B]\n",
      "\t(No symbol) [0x006C4FF7]\n",
      "\tBaseThreadInitThunk [0x761E7D59+25]\n",
      "\tRtlInitializeExceptionChain [0x773DB79B+107]\n",
      "\tRtlClearBits [0x773DB71F+191]\n",
      "\n"
     ]
    },
    {
     "name": "stderr",
     "output_type": "stream",
     "text": [
      "could not detect version_main.therefore, we are assuming it is chrome 108 or higher\n"
     ]
    },
    {
     "name": "stdout",
     "output_type": "stream",
     "text": [
      "Saved to db successfully\n",
      "Done with link 45988: https://www.zoopla.co.uk/new-homes/details/64889772/?search_identifier=718f5232fdc252f479caae9e0b675cbb347276394ed8079df85187327dd85937\n",
      "Starting extraction for link 45989: https://www.zoopla.co.uk/for-sale/details/64884552/?search_identifier=718f5232fdc252f479caae9e0b675cbb347276394ed8079df85187327dd85937\n"
     ]
    },
    {
     "name": "stderr",
     "output_type": "stream",
     "text": [
      "could not detect version_main.therefore, we are assuming it is chrome 108 or higher\n"
     ]
    },
    {
     "name": "stdout",
     "output_type": "stream",
     "text": [
      "Saved to db successfully\n",
      "Done with link 45989: https://www.zoopla.co.uk/for-sale/details/64884552/?search_identifier=718f5232fdc252f479caae9e0b675cbb347276394ed8079df85187327dd85937\n",
      "Starting extraction for link 45990: https://www.zoopla.co.uk/for-sale/details/64871752/?search_identifier=718f5232fdc252f479caae9e0b675cbb347276394ed8079df85187327dd85937\n"
     ]
    },
    {
     "name": "stderr",
     "output_type": "stream",
     "text": [
      "could not detect version_main.therefore, we are assuming it is chrome 108 or higher\n"
     ]
    },
    {
     "name": "stdout",
     "output_type": "stream",
     "text": [
      "Saved to db successfully\n",
      "Done with link 45990: https://www.zoopla.co.uk/for-sale/details/64871752/?search_identifier=718f5232fdc252f479caae9e0b675cbb347276394ed8079df85187327dd85937\n",
      "Starting extraction for link 45991: https://www.zoopla.co.uk/for-sale/details/64871548/?search_identifier=718f5232fdc252f479caae9e0b675cbb347276394ed8079df85187327dd85937\n",
      "An error occurred for link in get_data_func: https://www.zoopla.co.uk/for-sale/details/64871548/?search_identifier=718f5232fdc252f479caae9e0b675cbb347276394ed8079df85187327dd85937: Message: no such element: Unable to locate element: {\"method\":\"xpath\",\"selector\":\"//p[@data-testid=\"price\"]\"}\n",
      "  (Session info: chrome=115.0.5790.171); For documentation on this error, please visit: https://www.selenium.dev/documentation/webdriver/troubleshooting/errors#no-such-element-exception\n",
      "Stacktrace:\n",
      "Backtrace:\n",
      "\tGetHandleVerifier [0x0073A813+48355]\n",
      "\t(No symbol) [0x006CC4B1]\n",
      "\t(No symbol) [0x005D5358]\n",
      "\t(No symbol) [0x006009A5]\n",
      "\t(No symbol) [0x00600B3B]\n",
      "\t(No symbol) [0x0062E232]\n",
      "\t(No symbol) [0x0061A784]\n",
      "\t(No symbol) [0x0062C922]\n",
      "\t(No symbol) [0x0061A536]\n",
      "\t(No symbol) [0x005F82DC]\n",
      "\t(No symbol) [0x005F93DD]\n",
      "\tGetHandleVerifier [0x0099AABD+2539405]\n",
      "\tGetHandleVerifier [0x009DA78F+2800735]\n",
      "\tGetHandleVerifier [0x009D456C+2775612]\n",
      "\tGetHandleVerifier [0x007C51E0+616112]\n",
      "\t(No symbol) [0x006D5F8C]\n",
      "\t(No symbol) [0x006D2328]\n",
      "\t(No symbol) [0x006D240B]\n",
      "\t(No symbol) [0x006C4FF7]\n",
      "\tBaseThreadInitThunk [0x761E7D59+25]\n",
      "\tRtlInitializeExceptionChain [0x773DB79B+107]\n",
      "\tRtlClearBits [0x773DB71F+191]\n",
      "\n"
     ]
    },
    {
     "name": "stderr",
     "output_type": "stream",
     "text": [
      "could not detect version_main.therefore, we are assuming it is chrome 108 or higher\n"
     ]
    },
    {
     "name": "stdout",
     "output_type": "stream",
     "text": [
      "Saved to db successfully\n",
      "Done with link 45991: https://www.zoopla.co.uk/for-sale/details/64871548/?search_identifier=718f5232fdc252f479caae9e0b675cbb347276394ed8079df85187327dd85937\n",
      "Starting extraction for link 45992: https://www.zoopla.co.uk/for-sale/details/64856737/?search_identifier=718f5232fdc252f479caae9e0b675cbb347276394ed8079df85187327dd85937\n"
     ]
    },
    {
     "name": "stderr",
     "output_type": "stream",
     "text": [
      "could not detect version_main.therefore, we are assuming it is chrome 108 or higher\n"
     ]
    },
    {
     "name": "stdout",
     "output_type": "stream",
     "text": [
      "Saved to db successfully\n",
      "Done with link 45992: https://www.zoopla.co.uk/for-sale/details/64856737/?search_identifier=718f5232fdc252f479caae9e0b675cbb347276394ed8079df85187327dd85937\n",
      "Starting extraction for link 45993: https://www.zoopla.co.uk/for-sale/details/64820108/?search_identifier=718f5232fdc252f479caae9e0b675cbb347276394ed8079df85187327dd85937\n"
     ]
    },
    {
     "name": "stderr",
     "output_type": "stream",
     "text": [
      "could not detect version_main.therefore, we are assuming it is chrome 108 or higher\n"
     ]
    },
    {
     "name": "stdout",
     "output_type": "stream",
     "text": [
      "Saved to db successfully\n",
      "Done with link 45993: https://www.zoopla.co.uk/for-sale/details/64820108/?search_identifier=718f5232fdc252f479caae9e0b675cbb347276394ed8079df85187327dd85937\n",
      "Starting extraction for link 45994: https://www.zoopla.co.uk/for-sale/details/64796887/?search_identifier=718f5232fdc252f479caae9e0b675cbb347276394ed8079df85187327dd85937\n"
     ]
    },
    {
     "name": "stderr",
     "output_type": "stream",
     "text": [
      "could not detect version_main.therefore, we are assuming it is chrome 108 or higher\n"
     ]
    },
    {
     "name": "stdout",
     "output_type": "stream",
     "text": [
      "Saved to db successfully\n",
      "Done with link 45994: https://www.zoopla.co.uk/for-sale/details/64796887/?search_identifier=718f5232fdc252f479caae9e0b675cbb347276394ed8079df85187327dd85937\n",
      "Starting extraction for link 45995: https://www.zoopla.co.uk/for-sale/details/64788938/?search_identifier=718f5232fdc252f479caae9e0b675cbb347276394ed8079df85187327dd85937\n"
     ]
    },
    {
     "name": "stderr",
     "output_type": "stream",
     "text": [
      "could not detect version_main.therefore, we are assuming it is chrome 108 or higher\n"
     ]
    },
    {
     "name": "stdout",
     "output_type": "stream",
     "text": [
      "Saved to db successfully\n",
      "Done with link 45995: https://www.zoopla.co.uk/for-sale/details/64788938/?search_identifier=718f5232fdc252f479caae9e0b675cbb347276394ed8079df85187327dd85937\n",
      "Starting extraction for link 45996: https://www.zoopla.co.uk/for-sale/details/64772554/?search_identifier=718f5232fdc252f479caae9e0b675cbb347276394ed8079df85187327dd85937\n"
     ]
    },
    {
     "name": "stderr",
     "output_type": "stream",
     "text": [
      "could not detect version_main.therefore, we are assuming it is chrome 108 or higher\n"
     ]
    },
    {
     "name": "stdout",
     "output_type": "stream",
     "text": [
      "Saved to db successfully\n",
      "Done with link 45996: https://www.zoopla.co.uk/for-sale/details/64772554/?search_identifier=718f5232fdc252f479caae9e0b675cbb347276394ed8079df85187327dd85937\n",
      "Starting extraction for link 45997: https://www.zoopla.co.uk/for-sale/details/61404959/?search_identifier=718f5232fdc252f479caae9e0b675cbb347276394ed8079df85187327dd85937\n"
     ]
    },
    {
     "name": "stderr",
     "output_type": "stream",
     "text": [
      "could not detect version_main.therefore, we are assuming it is chrome 108 or higher\n"
     ]
    },
    {
     "name": "stdout",
     "output_type": "stream",
     "text": [
      "Saved to db successfully\n",
      "Done with link 45997: https://www.zoopla.co.uk/for-sale/details/61404959/?search_identifier=718f5232fdc252f479caae9e0b675cbb347276394ed8079df85187327dd85937\n",
      "Starting extraction for link 45998: https://www.zoopla.co.uk/for-sale/details/64763547/?search_identifier=02d5798080f120db48c0ed618c20eedcbf06adff7f51f8b4193d6fe8c02f0b93\n"
     ]
    },
    {
     "name": "stderr",
     "output_type": "stream",
     "text": [
      "could not detect version_main.therefore, we are assuming it is chrome 108 or higher\n"
     ]
    },
    {
     "name": "stdout",
     "output_type": "stream",
     "text": [
      "Saved to db successfully\n",
      "Done with link 45998: https://www.zoopla.co.uk/for-sale/details/64763547/?search_identifier=02d5798080f120db48c0ed618c20eedcbf06adff7f51f8b4193d6fe8c02f0b93\n",
      "Starting extraction for link 45999: https://www.zoopla.co.uk/for-sale/details/64754098/?search_identifier=02d5798080f120db48c0ed618c20eedcbf06adff7f51f8b4193d6fe8c02f0b93\n"
     ]
    },
    {
     "name": "stderr",
     "output_type": "stream",
     "text": [
      "could not detect version_main.therefore, we are assuming it is chrome 108 or higher\n"
     ]
    },
    {
     "name": "stdout",
     "output_type": "stream",
     "text": [
      "Saved to db successfully\n",
      "Done with link 45999: https://www.zoopla.co.uk/for-sale/details/64754098/?search_identifier=02d5798080f120db48c0ed618c20eedcbf06adff7f51f8b4193d6fe8c02f0b93\n",
      "Starting extraction for link 46000: https://www.zoopla.co.uk/for-sale/details/64749780/?search_identifier=02d5798080f120db48c0ed618c20eedcbf06adff7f51f8b4193d6fe8c02f0b93\n"
     ]
    },
    {
     "name": "stderr",
     "output_type": "stream",
     "text": [
      "could not detect version_main.therefore, we are assuming it is chrome 108 or higher\n"
     ]
    },
    {
     "name": "stdout",
     "output_type": "stream",
     "text": [
      "Saved to db successfully\n",
      "Done with link 46000: https://www.zoopla.co.uk/for-sale/details/64749780/?search_identifier=02d5798080f120db48c0ed618c20eedcbf06adff7f51f8b4193d6fe8c02f0b93\n",
      "Starting extraction for link 46001: https://www.zoopla.co.uk/for-sale/details/64739200/?search_identifier=02d5798080f120db48c0ed618c20eedcbf06adff7f51f8b4193d6fe8c02f0b93\n"
     ]
    },
    {
     "name": "stderr",
     "output_type": "stream",
     "text": [
      "could not detect version_main.therefore, we are assuming it is chrome 108 or higher\n"
     ]
    },
    {
     "name": "stdout",
     "output_type": "stream",
     "text": [
      "Saved to db successfully\n",
      "Done with link 46001: https://www.zoopla.co.uk/for-sale/details/64739200/?search_identifier=02d5798080f120db48c0ed618c20eedcbf06adff7f51f8b4193d6fe8c02f0b93\n",
      "Starting extraction for link 46002: https://www.zoopla.co.uk/for-sale/details/64731604/?search_identifier=02d5798080f120db48c0ed618c20eedcbf06adff7f51f8b4193d6fe8c02f0b93\n"
     ]
    },
    {
     "name": "stderr",
     "output_type": "stream",
     "text": [
      "could not detect version_main.therefore, we are assuming it is chrome 108 or higher\n"
     ]
    },
    {
     "name": "stdout",
     "output_type": "stream",
     "text": [
      "Saved to db successfully\n",
      "Done with link 46002: https://www.zoopla.co.uk/for-sale/details/64731604/?search_identifier=02d5798080f120db48c0ed618c20eedcbf06adff7f51f8b4193d6fe8c02f0b93\n",
      "Starting extraction for link 46003: https://www.zoopla.co.uk/for-sale/details/64721867/?search_identifier=02d5798080f120db48c0ed618c20eedcbf06adff7f51f8b4193d6fe8c02f0b93\n"
     ]
    },
    {
     "name": "stderr",
     "output_type": "stream",
     "text": [
      "could not detect version_main.therefore, we are assuming it is chrome 108 or higher\n"
     ]
    },
    {
     "name": "stdout",
     "output_type": "stream",
     "text": [
      "Saved to db successfully\n",
      "Done with link 46003: https://www.zoopla.co.uk/for-sale/details/64721867/?search_identifier=02d5798080f120db48c0ed618c20eedcbf06adff7f51f8b4193d6fe8c02f0b93\n",
      "Starting extraction for link 46004: https://www.zoopla.co.uk/for-sale/details/64684210/?search_identifier=02d5798080f120db48c0ed618c20eedcbf06adff7f51f8b4193d6fe8c02f0b93\n"
     ]
    },
    {
     "name": "stderr",
     "output_type": "stream",
     "text": [
      "could not detect version_main.therefore, we are assuming it is chrome 108 or higher\n"
     ]
    },
    {
     "name": "stdout",
     "output_type": "stream",
     "text": [
      "Saved to db successfully\n",
      "Done with link 46004: https://www.zoopla.co.uk/for-sale/details/64684210/?search_identifier=02d5798080f120db48c0ed618c20eedcbf06adff7f51f8b4193d6fe8c02f0b93\n",
      "Starting extraction for link 46005: https://www.zoopla.co.uk/for-sale/details/64681580/?search_identifier=02d5798080f120db48c0ed618c20eedcbf06adff7f51f8b4193d6fe8c02f0b93\n"
     ]
    },
    {
     "name": "stderr",
     "output_type": "stream",
     "text": [
      "could not detect version_main.therefore, we are assuming it is chrome 108 or higher\n"
     ]
    },
    {
     "name": "stdout",
     "output_type": "stream",
     "text": [
      "Saved to db successfully\n",
      "Done with link 46005: https://www.zoopla.co.uk/for-sale/details/64681580/?search_identifier=02d5798080f120db48c0ed618c20eedcbf06adff7f51f8b4193d6fe8c02f0b93\n",
      "Starting extraction for link 46006: https://www.zoopla.co.uk/for-sale/details/64671577/?search_identifier=02d5798080f120db48c0ed618c20eedcbf06adff7f51f8b4193d6fe8c02f0b93\n"
     ]
    },
    {
     "name": "stderr",
     "output_type": "stream",
     "text": [
      "could not detect version_main.therefore, we are assuming it is chrome 108 or higher\n"
     ]
    },
    {
     "name": "stdout",
     "output_type": "stream",
     "text": [
      "Saved to db successfully\n",
      "Done with link 46006: https://www.zoopla.co.uk/for-sale/details/64671577/?search_identifier=02d5798080f120db48c0ed618c20eedcbf06adff7f51f8b4193d6fe8c02f0b93\n",
      "Starting extraction for link 46007: https://www.zoopla.co.uk/for-sale/details/64655323/?search_identifier=02d5798080f120db48c0ed618c20eedcbf06adff7f51f8b4193d6fe8c02f0b93\n"
     ]
    },
    {
     "name": "stderr",
     "output_type": "stream",
     "text": [
      "could not detect version_main.therefore, we are assuming it is chrome 108 or higher\n"
     ]
    },
    {
     "name": "stdout",
     "output_type": "stream",
     "text": [
      "Saved to db successfully\n",
      "Done with link 46007: https://www.zoopla.co.uk/for-sale/details/64655323/?search_identifier=02d5798080f120db48c0ed618c20eedcbf06adff7f51f8b4193d6fe8c02f0b93\n",
      "Starting extraction for link 46008: https://www.zoopla.co.uk/for-sale/details/64654112/?search_identifier=02d5798080f120db48c0ed618c20eedcbf06adff7f51f8b4193d6fe8c02f0b93\n"
     ]
    },
    {
     "name": "stderr",
     "output_type": "stream",
     "text": [
      "could not detect version_main.therefore, we are assuming it is chrome 108 or higher\n"
     ]
    },
    {
     "name": "stdout",
     "output_type": "stream",
     "text": [
      "Saved to db successfully\n",
      "Done with link 46008: https://www.zoopla.co.uk/for-sale/details/64654112/?search_identifier=02d5798080f120db48c0ed618c20eedcbf06adff7f51f8b4193d6fe8c02f0b93\n",
      "Starting extraction for link 46009: https://www.zoopla.co.uk/for-sale/details/64644343/?search_identifier=02d5798080f120db48c0ed618c20eedcbf06adff7f51f8b4193d6fe8c02f0b93\n"
     ]
    },
    {
     "name": "stderr",
     "output_type": "stream",
     "text": [
      "could not detect version_main.therefore, we are assuming it is chrome 108 or higher\n"
     ]
    },
    {
     "name": "stdout",
     "output_type": "stream",
     "text": [
      "Saved to db successfully\n",
      "Done with link 46009: https://www.zoopla.co.uk/for-sale/details/64644343/?search_identifier=02d5798080f120db48c0ed618c20eedcbf06adff7f51f8b4193d6fe8c02f0b93\n",
      "Starting extraction for link 46010: https://www.zoopla.co.uk/for-sale/details/64607631/?search_identifier=02d5798080f120db48c0ed618c20eedcbf06adff7f51f8b4193d6fe8c02f0b93\n"
     ]
    },
    {
     "name": "stderr",
     "output_type": "stream",
     "text": [
      "could not detect version_main.therefore, we are assuming it is chrome 108 or higher\n"
     ]
    },
    {
     "name": "stdout",
     "output_type": "stream",
     "text": [
      "Saved to db successfully\n",
      "Done with link 46010: https://www.zoopla.co.uk/for-sale/details/64607631/?search_identifier=02d5798080f120db48c0ed618c20eedcbf06adff7f51f8b4193d6fe8c02f0b93\n",
      "Starting extraction for link 46011: https://www.zoopla.co.uk/for-sale/details/64593003/?search_identifier=02d5798080f120db48c0ed618c20eedcbf06adff7f51f8b4193d6fe8c02f0b93\n"
     ]
    },
    {
     "name": "stderr",
     "output_type": "stream",
     "text": [
      "could not detect version_main.therefore, we are assuming it is chrome 108 or higher\n"
     ]
    },
    {
     "name": "stdout",
     "output_type": "stream",
     "text": [
      "Saved to db successfully\n",
      "Done with link 46011: https://www.zoopla.co.uk/for-sale/details/64593003/?search_identifier=02d5798080f120db48c0ed618c20eedcbf06adff7f51f8b4193d6fe8c02f0b93\n",
      "Starting extraction for link 46012: https://www.zoopla.co.uk/for-sale/details/64571979/?search_identifier=02d5798080f120db48c0ed618c20eedcbf06adff7f51f8b4193d6fe8c02f0b93\n"
     ]
    },
    {
     "name": "stderr",
     "output_type": "stream",
     "text": [
      "could not detect version_main.therefore, we are assuming it is chrome 108 or higher\n"
     ]
    },
    {
     "name": "stdout",
     "output_type": "stream",
     "text": [
      "Saved to db successfully\n",
      "Done with link 46012: https://www.zoopla.co.uk/for-sale/details/64571979/?search_identifier=02d5798080f120db48c0ed618c20eedcbf06adff7f51f8b4193d6fe8c02f0b93\n",
      "Starting extraction for link 46013: https://www.zoopla.co.uk/for-sale/details/64555843/?search_identifier=02d5798080f120db48c0ed618c20eedcbf06adff7f51f8b4193d6fe8c02f0b93\n"
     ]
    },
    {
     "name": "stderr",
     "output_type": "stream",
     "text": [
      "could not detect version_main.therefore, we are assuming it is chrome 108 or higher\n"
     ]
    },
    {
     "name": "stdout",
     "output_type": "stream",
     "text": [
      "Saved to db successfully\n",
      "Done with link 46013: https://www.zoopla.co.uk/for-sale/details/64555843/?search_identifier=02d5798080f120db48c0ed618c20eedcbf06adff7f51f8b4193d6fe8c02f0b93\n",
      "Starting extraction for link 46014: https://www.zoopla.co.uk/for-sale/details/64549902/?search_identifier=02d5798080f120db48c0ed618c20eedcbf06adff7f51f8b4193d6fe8c02f0b93\n"
     ]
    },
    {
     "name": "stderr",
     "output_type": "stream",
     "text": [
      "could not detect version_main.therefore, we are assuming it is chrome 108 or higher\n"
     ]
    },
    {
     "name": "stdout",
     "output_type": "stream",
     "text": [
      "Saved to db successfully\n",
      "Done with link 46014: https://www.zoopla.co.uk/for-sale/details/64549902/?search_identifier=02d5798080f120db48c0ed618c20eedcbf06adff7f51f8b4193d6fe8c02f0b93\n",
      "Starting extraction for link 46015: https://www.zoopla.co.uk/for-sale/details/64543880/?search_identifier=02d5798080f120db48c0ed618c20eedcbf06adff7f51f8b4193d6fe8c02f0b93\n",
      "An error occurred for link in get_data_func: https://www.zoopla.co.uk/for-sale/details/64543880/?search_identifier=02d5798080f120db48c0ed618c20eedcbf06adff7f51f8b4193d6fe8c02f0b93: Message: no such element: Unable to locate element: {\"method\":\"xpath\",\"selector\":\"//p[@data-testid=\"price\"]\"}\n",
      "  (Session info: chrome=115.0.5790.171); For documentation on this error, please visit: https://www.selenium.dev/documentation/webdriver/troubleshooting/errors#no-such-element-exception\n",
      "Stacktrace:\n",
      "Backtrace:\n",
      "\tGetHandleVerifier [0x0073A813+48355]\n",
      "\t(No symbol) [0x006CC4B1]\n",
      "\t(No symbol) [0x005D5358]\n",
      "\t(No symbol) [0x006009A5]\n",
      "\t(No symbol) [0x00600B3B]\n",
      "\t(No symbol) [0x0062E232]\n",
      "\t(No symbol) [0x0061A784]\n",
      "\t(No symbol) [0x0062C922]\n",
      "\t(No symbol) [0x0061A536]\n",
      "\t(No symbol) [0x005F82DC]\n",
      "\t(No symbol) [0x005F93DD]\n",
      "\tGetHandleVerifier [0x0099AABD+2539405]\n",
      "\tGetHandleVerifier [0x009DA78F+2800735]\n",
      "\tGetHandleVerifier [0x009D456C+2775612]\n",
      "\tGetHandleVerifier [0x007C51E0+616112]\n",
      "\t(No symbol) [0x006D5F8C]\n",
      "\t(No symbol) [0x006D2328]\n",
      "\t(No symbol) [0x006D240B]\n",
      "\t(No symbol) [0x006C4FF7]\n",
      "\tBaseThreadInitThunk [0x761E7D59+25]\n",
      "\tRtlInitializeExceptionChain [0x773DB79B+107]\n",
      "\tRtlClearBits [0x773DB71F+191]\n",
      "\n"
     ]
    },
    {
     "name": "stderr",
     "output_type": "stream",
     "text": [
      "could not detect version_main.therefore, we are assuming it is chrome 108 or higher\n"
     ]
    },
    {
     "name": "stdout",
     "output_type": "stream",
     "text": [
      "Saved to db successfully\n",
      "Done with link 46015: https://www.zoopla.co.uk/for-sale/details/64543880/?search_identifier=02d5798080f120db48c0ed618c20eedcbf06adff7f51f8b4193d6fe8c02f0b93\n",
      "Starting extraction for link 46016: https://www.zoopla.co.uk/for-sale/details/64538795/?search_identifier=02d5798080f120db48c0ed618c20eedcbf06adff7f51f8b4193d6fe8c02f0b93\n"
     ]
    },
    {
     "name": "stderr",
     "output_type": "stream",
     "text": [
      "could not detect version_main.therefore, we are assuming it is chrome 108 or higher\n"
     ]
    },
    {
     "name": "stdout",
     "output_type": "stream",
     "text": [
      "Saved to db successfully\n",
      "Done with link 46016: https://www.zoopla.co.uk/for-sale/details/64538795/?search_identifier=02d5798080f120db48c0ed618c20eedcbf06adff7f51f8b4193d6fe8c02f0b93\n",
      "Starting extraction for link 46017: https://www.zoopla.co.uk/for-sale/details/64518324/?search_identifier=02d5798080f120db48c0ed618c20eedcbf06adff7f51f8b4193d6fe8c02f0b93\n"
     ]
    },
    {
     "name": "stderr",
     "output_type": "stream",
     "text": [
      "could not detect version_main.therefore, we are assuming it is chrome 108 or higher\n"
     ]
    },
    {
     "name": "stdout",
     "output_type": "stream",
     "text": [
      "Saved to db successfully\n",
      "Done with link 46017: https://www.zoopla.co.uk/for-sale/details/64518324/?search_identifier=02d5798080f120db48c0ed618c20eedcbf06adff7f51f8b4193d6fe8c02f0b93\n",
      "Starting extraction for link 46018: https://www.zoopla.co.uk/for-sale/details/64512247/?search_identifier=02d5798080f120db48c0ed618c20eedcbf06adff7f51f8b4193d6fe8c02f0b93\n"
     ]
    },
    {
     "name": "stderr",
     "output_type": "stream",
     "text": [
      "could not detect version_main.therefore, we are assuming it is chrome 108 or higher\n"
     ]
    },
    {
     "name": "stdout",
     "output_type": "stream",
     "text": [
      "Saved to db successfully\n",
      "Done with link 46018: https://www.zoopla.co.uk/for-sale/details/64512247/?search_identifier=02d5798080f120db48c0ed618c20eedcbf06adff7f51f8b4193d6fe8c02f0b93\n",
      "Starting extraction for link 46019: https://www.zoopla.co.uk/for-sale/details/64464963/?search_identifier=02d5798080f120db48c0ed618c20eedcbf06adff7f51f8b4193d6fe8c02f0b93\n"
     ]
    },
    {
     "name": "stderr",
     "output_type": "stream",
     "text": [
      "could not detect version_main.therefore, we are assuming it is chrome 108 or higher\n"
     ]
    },
    {
     "name": "stdout",
     "output_type": "stream",
     "text": [
      "Saved to db successfully\n",
      "Done with link 46019: https://www.zoopla.co.uk/for-sale/details/64464963/?search_identifier=02d5798080f120db48c0ed618c20eedcbf06adff7f51f8b4193d6fe8c02f0b93\n",
      "Starting extraction for link 46020: https://www.zoopla.co.uk/for-sale/details/64454330/?search_identifier=02d5798080f120db48c0ed618c20eedcbf06adff7f51f8b4193d6fe8c02f0b93\n",
      "An error occurred for link in get_data_func: https://www.zoopla.co.uk/for-sale/details/64454330/?search_identifier=02d5798080f120db48c0ed618c20eedcbf06adff7f51f8b4193d6fe8c02f0b93: Message: no such element: Unable to locate element: {\"method\":\"xpath\",\"selector\":\"//p[@data-testid=\"price\"]\"}\n",
      "  (Session info: chrome=115.0.5790.171); For documentation on this error, please visit: https://www.selenium.dev/documentation/webdriver/troubleshooting/errors#no-such-element-exception\n",
      "Stacktrace:\n",
      "Backtrace:\n",
      "\tGetHandleVerifier [0x0073A813+48355]\n",
      "\t(No symbol) [0x006CC4B1]\n",
      "\t(No symbol) [0x005D5358]\n",
      "\t(No symbol) [0x006009A5]\n",
      "\t(No symbol) [0x00600B3B]\n",
      "\t(No symbol) [0x0062E232]\n",
      "\t(No symbol) [0x0061A784]\n",
      "\t(No symbol) [0x0062C922]\n",
      "\t(No symbol) [0x0061A536]\n",
      "\t(No symbol) [0x005F82DC]\n",
      "\t(No symbol) [0x005F93DD]\n",
      "\tGetHandleVerifier [0x0099AABD+2539405]\n",
      "\tGetHandleVerifier [0x009DA78F+2800735]\n",
      "\tGetHandleVerifier [0x009D456C+2775612]\n",
      "\tGetHandleVerifier [0x007C51E0+616112]\n",
      "\t(No symbol) [0x006D5F8C]\n",
      "\t(No symbol) [0x006D2328]\n",
      "\t(No symbol) [0x006D240B]\n",
      "\t(No symbol) [0x006C4FF7]\n",
      "\tBaseThreadInitThunk [0x761E7D59+25]\n",
      "\tRtlInitializeExceptionChain [0x773DB79B+107]\n",
      "\tRtlClearBits [0x773DB71F+191]\n",
      "\n"
     ]
    },
    {
     "name": "stderr",
     "output_type": "stream",
     "text": [
      "could not detect version_main.therefore, we are assuming it is chrome 108 or higher\n"
     ]
    },
    {
     "name": "stdout",
     "output_type": "stream",
     "text": [
      "Saved to db successfully\n",
      "Done with link 46020: https://www.zoopla.co.uk/for-sale/details/64454330/?search_identifier=02d5798080f120db48c0ed618c20eedcbf06adff7f51f8b4193d6fe8c02f0b93\n",
      "Starting extraction for link 46021: https://www.zoopla.co.uk/for-sale/details/64443993/?search_identifier=02d5798080f120db48c0ed618c20eedcbf06adff7f51f8b4193d6fe8c02f0b93\n"
     ]
    },
    {
     "name": "stderr",
     "output_type": "stream",
     "text": [
      "could not detect version_main.therefore, we are assuming it is chrome 108 or higher\n"
     ]
    },
    {
     "name": "stdout",
     "output_type": "stream",
     "text": [
      "Saved to db successfully\n",
      "Done with link 46021: https://www.zoopla.co.uk/for-sale/details/64443993/?search_identifier=02d5798080f120db48c0ed618c20eedcbf06adff7f51f8b4193d6fe8c02f0b93\n",
      "Starting extraction for link 46022: https://www.zoopla.co.uk/for-sale/details/64447449/?search_identifier=02d5798080f120db48c0ed618c20eedcbf06adff7f51f8b4193d6fe8c02f0b93\n"
     ]
    },
    {
     "name": "stderr",
     "output_type": "stream",
     "text": [
      "could not detect version_main.therefore, we are assuming it is chrome 108 or higher\n"
     ]
    },
    {
     "name": "stdout",
     "output_type": "stream",
     "text": [
      "Saved to db successfully\n",
      "Done with link 46022: https://www.zoopla.co.uk/for-sale/details/64447449/?search_identifier=02d5798080f120db48c0ed618c20eedcbf06adff7f51f8b4193d6fe8c02f0b93\n",
      "Starting extraction for link 46023: https://www.zoopla.co.uk/for-sale/details/64440965/?search_identifier=c1891c257715caec7f423a2f3a1ccd4f91bb9566c3c40ac088a327c74191d9cd\n"
     ]
    },
    {
     "name": "stderr",
     "output_type": "stream",
     "text": [
      "could not detect version_main.therefore, we are assuming it is chrome 108 or higher\n"
     ]
    },
    {
     "name": "stdout",
     "output_type": "stream",
     "text": [
      "Saved to db successfully\n",
      "Done with link 46023: https://www.zoopla.co.uk/for-sale/details/64440965/?search_identifier=c1891c257715caec7f423a2f3a1ccd4f91bb9566c3c40ac088a327c74191d9cd\n",
      "Starting extraction for link 46024: https://www.zoopla.co.uk/for-sale/details/64428308/?search_identifier=c1891c257715caec7f423a2f3a1ccd4f91bb9566c3c40ac088a327c74191d9cd\n"
     ]
    },
    {
     "name": "stderr",
     "output_type": "stream",
     "text": [
      "could not detect version_main.therefore, we are assuming it is chrome 108 or higher\n"
     ]
    },
    {
     "name": "stdout",
     "output_type": "stream",
     "text": [
      "Saved to db successfully\n",
      "Done with link 46024: https://www.zoopla.co.uk/for-sale/details/64428308/?search_identifier=c1891c257715caec7f423a2f3a1ccd4f91bb9566c3c40ac088a327c74191d9cd\n",
      "Starting extraction for link 46025: https://www.zoopla.co.uk/for-sale/details/64414650/?search_identifier=c1891c257715caec7f423a2f3a1ccd4f91bb9566c3c40ac088a327c74191d9cd\n"
     ]
    },
    {
     "name": "stderr",
     "output_type": "stream",
     "text": [
      "could not detect version_main.therefore, we are assuming it is chrome 108 or higher\n"
     ]
    },
    {
     "name": "stdout",
     "output_type": "stream",
     "text": [
      "Saved to db successfully\n",
      "Done with link 46025: https://www.zoopla.co.uk/for-sale/details/64414650/?search_identifier=c1891c257715caec7f423a2f3a1ccd4f91bb9566c3c40ac088a327c74191d9cd\n",
      "Starting extraction for link 46026: https://www.zoopla.co.uk/for-sale/details/64411426/?search_identifier=c1891c257715caec7f423a2f3a1ccd4f91bb9566c3c40ac088a327c74191d9cd\n"
     ]
    },
    {
     "name": "stderr",
     "output_type": "stream",
     "text": [
      "could not detect version_main.therefore, we are assuming it is chrome 108 or higher\n"
     ]
    },
    {
     "name": "stdout",
     "output_type": "stream",
     "text": [
      "Saved to db successfully\n",
      "Done with link 46026: https://www.zoopla.co.uk/for-sale/details/64411426/?search_identifier=c1891c257715caec7f423a2f3a1ccd4f91bb9566c3c40ac088a327c74191d9cd\n",
      "Starting extraction for link 46027: https://www.zoopla.co.uk/for-sale/details/64400491/?search_identifier=c1891c257715caec7f423a2f3a1ccd4f91bb9566c3c40ac088a327c74191d9cd\n"
     ]
    },
    {
     "name": "stderr",
     "output_type": "stream",
     "text": [
      "could not detect version_main.therefore, we are assuming it is chrome 108 or higher\n"
     ]
    },
    {
     "name": "stdout",
     "output_type": "stream",
     "text": [
      "Saved to db successfully\n",
      "Done with link 46027: https://www.zoopla.co.uk/for-sale/details/64400491/?search_identifier=c1891c257715caec7f423a2f3a1ccd4f91bb9566c3c40ac088a327c74191d9cd\n",
      "Starting extraction for link 46028: https://www.zoopla.co.uk/for-sale/details/64381025/?search_identifier=c1891c257715caec7f423a2f3a1ccd4f91bb9566c3c40ac088a327c74191d9cd\n"
     ]
    },
    {
     "name": "stderr",
     "output_type": "stream",
     "text": [
      "could not detect version_main.therefore, we are assuming it is chrome 108 or higher\n"
     ]
    },
    {
     "name": "stdout",
     "output_type": "stream",
     "text": [
      "Saved to db successfully\n",
      "Done with link 46028: https://www.zoopla.co.uk/for-sale/details/64381025/?search_identifier=c1891c257715caec7f423a2f3a1ccd4f91bb9566c3c40ac088a327c74191d9cd\n",
      "Starting extraction for link 46029: https://www.zoopla.co.uk/for-sale/details/64371062/?search_identifier=c1891c257715caec7f423a2f3a1ccd4f91bb9566c3c40ac088a327c74191d9cd\n"
     ]
    },
    {
     "name": "stderr",
     "output_type": "stream",
     "text": [
      "could not detect version_main.therefore, we are assuming it is chrome 108 or higher\n"
     ]
    },
    {
     "name": "stdout",
     "output_type": "stream",
     "text": [
      "Saved to db successfully\n",
      "Done with link 46029: https://www.zoopla.co.uk/for-sale/details/64371062/?search_identifier=c1891c257715caec7f423a2f3a1ccd4f91bb9566c3c40ac088a327c74191d9cd\n",
      "Starting extraction for link 46030: https://www.zoopla.co.uk/for-sale/details/63735229/?search_identifier=c1891c257715caec7f423a2f3a1ccd4f91bb9566c3c40ac088a327c74191d9cd\n"
     ]
    },
    {
     "name": "stderr",
     "output_type": "stream",
     "text": [
      "could not detect version_main.therefore, we are assuming it is chrome 108 or higher\n"
     ]
    },
    {
     "name": "stdout",
     "output_type": "stream",
     "text": [
      "Saved to db successfully\n",
      "Done with link 46030: https://www.zoopla.co.uk/for-sale/details/63735229/?search_identifier=c1891c257715caec7f423a2f3a1ccd4f91bb9566c3c40ac088a327c74191d9cd\n",
      "Starting extraction for link 46031: https://www.zoopla.co.uk/for-sale/details/64331522/?search_identifier=c1891c257715caec7f423a2f3a1ccd4f91bb9566c3c40ac088a327c74191d9cd\n"
     ]
    },
    {
     "name": "stderr",
     "output_type": "stream",
     "text": [
      "could not detect version_main.therefore, we are assuming it is chrome 108 or higher\n"
     ]
    },
    {
     "name": "stdout",
     "output_type": "stream",
     "text": [
      "Saved to db successfully\n",
      "Done with link 46031: https://www.zoopla.co.uk/for-sale/details/64331522/?search_identifier=c1891c257715caec7f423a2f3a1ccd4f91bb9566c3c40ac088a327c74191d9cd\n",
      "Starting extraction for link 46032: https://www.zoopla.co.uk/for-sale/details/64331313/?search_identifier=c1891c257715caec7f423a2f3a1ccd4f91bb9566c3c40ac088a327c74191d9cd\n"
     ]
    },
    {
     "name": "stderr",
     "output_type": "stream",
     "text": [
      "could not detect version_main.therefore, we are assuming it is chrome 108 or higher\n"
     ]
    },
    {
     "name": "stdout",
     "output_type": "stream",
     "text": [
      "Saved to db successfully\n",
      "Done with link 46032: https://www.zoopla.co.uk/for-sale/details/64331313/?search_identifier=c1891c257715caec7f423a2f3a1ccd4f91bb9566c3c40ac088a327c74191d9cd\n",
      "Starting extraction for link 46033: https://www.zoopla.co.uk/for-sale/details/64321080/?search_identifier=c1891c257715caec7f423a2f3a1ccd4f91bb9566c3c40ac088a327c74191d9cd\n"
     ]
    },
    {
     "name": "stderr",
     "output_type": "stream",
     "text": [
      "could not detect version_main.therefore, we are assuming it is chrome 108 or higher\n"
     ]
    },
    {
     "name": "stdout",
     "output_type": "stream",
     "text": [
      "Saved to db successfully\n",
      "Done with link 46033: https://www.zoopla.co.uk/for-sale/details/64321080/?search_identifier=c1891c257715caec7f423a2f3a1ccd4f91bb9566c3c40ac088a327c74191d9cd\n",
      "Starting extraction for link 46034: https://www.zoopla.co.uk/for-sale/details/64320843/?search_identifier=c1891c257715caec7f423a2f3a1ccd4f91bb9566c3c40ac088a327c74191d9cd\n"
     ]
    },
    {
     "name": "stderr",
     "output_type": "stream",
     "text": [
      "could not detect version_main.therefore, we are assuming it is chrome 108 or higher\n"
     ]
    },
    {
     "name": "stdout",
     "output_type": "stream",
     "text": [
      "Saved to db successfully\n",
      "Done with link 46034: https://www.zoopla.co.uk/for-sale/details/64320843/?search_identifier=c1891c257715caec7f423a2f3a1ccd4f91bb9566c3c40ac088a327c74191d9cd\n",
      "Starting extraction for link 46035: https://www.zoopla.co.uk/for-sale/details/64295834/?search_identifier=c1891c257715caec7f423a2f3a1ccd4f91bb9566c3c40ac088a327c74191d9cd\n"
     ]
    },
    {
     "name": "stderr",
     "output_type": "stream",
     "text": [
      "could not detect version_main.therefore, we are assuming it is chrome 108 or higher\n"
     ]
    },
    {
     "name": "stdout",
     "output_type": "stream",
     "text": [
      "Saved to db successfully\n",
      "Done with link 46035: https://www.zoopla.co.uk/for-sale/details/64295834/?search_identifier=c1891c257715caec7f423a2f3a1ccd4f91bb9566c3c40ac088a327c74191d9cd\n",
      "Starting extraction for link 46036: https://www.zoopla.co.uk/for-sale/details/64294201/?search_identifier=c1891c257715caec7f423a2f3a1ccd4f91bb9566c3c40ac088a327c74191d9cd\n"
     ]
    },
    {
     "name": "stderr",
     "output_type": "stream",
     "text": [
      "could not detect version_main.therefore, we are assuming it is chrome 108 or higher\n"
     ]
    },
    {
     "name": "stdout",
     "output_type": "stream",
     "text": [
      "Saved to db successfully\n",
      "Done with link 46036: https://www.zoopla.co.uk/for-sale/details/64294201/?search_identifier=c1891c257715caec7f423a2f3a1ccd4f91bb9566c3c40ac088a327c74191d9cd\n",
      "Starting extraction for link 46037: https://www.zoopla.co.uk/for-sale/details/64287654/?search_identifier=c1891c257715caec7f423a2f3a1ccd4f91bb9566c3c40ac088a327c74191d9cd\n",
      "An error occurred for link in get_data_func: https://www.zoopla.co.uk/for-sale/details/64287654/?search_identifier=c1891c257715caec7f423a2f3a1ccd4f91bb9566c3c40ac088a327c74191d9cd: Message: no such element: Unable to locate element: {\"method\":\"xpath\",\"selector\":\"//p[@data-testid=\"price\"]\"}\n",
      "  (Session info: chrome=115.0.5790.171); For documentation on this error, please visit: https://www.selenium.dev/documentation/webdriver/troubleshooting/errors#no-such-element-exception\n",
      "Stacktrace:\n",
      "Backtrace:\n",
      "\tGetHandleVerifier [0x0073A813+48355]\n",
      "\t(No symbol) [0x006CC4B1]\n",
      "\t(No symbol) [0x005D5358]\n",
      "\t(No symbol) [0x006009A5]\n",
      "\t(No symbol) [0x00600B3B]\n",
      "\t(No symbol) [0x0062E232]\n",
      "\t(No symbol) [0x0061A784]\n",
      "\t(No symbol) [0x0062C922]\n",
      "\t(No symbol) [0x0061A536]\n",
      "\t(No symbol) [0x005F82DC]\n",
      "\t(No symbol) [0x005F93DD]\n",
      "\tGetHandleVerifier [0x0099AABD+2539405]\n",
      "\tGetHandleVerifier [0x009DA78F+2800735]\n",
      "\tGetHandleVerifier [0x009D456C+2775612]\n",
      "\tGetHandleVerifier [0x007C51E0+616112]\n",
      "\t(No symbol) [0x006D5F8C]\n",
      "\t(No symbol) [0x006D2328]\n",
      "\t(No symbol) [0x006D240B]\n",
      "\t(No symbol) [0x006C4FF7]\n",
      "\tBaseThreadInitThunk [0x761E7D59+25]\n",
      "\tRtlInitializeExceptionChain [0x773DB79B+107]\n",
      "\tRtlClearBits [0x773DB71F+191]\n",
      "\n"
     ]
    },
    {
     "name": "stderr",
     "output_type": "stream",
     "text": [
      "could not detect version_main.therefore, we are assuming it is chrome 108 or higher\n"
     ]
    },
    {
     "name": "stdout",
     "output_type": "stream",
     "text": [
      "Saved to db successfully\n",
      "Done with link 46037: https://www.zoopla.co.uk/for-sale/details/64287654/?search_identifier=c1891c257715caec7f423a2f3a1ccd4f91bb9566c3c40ac088a327c74191d9cd\n",
      "Starting extraction for link 46038: https://www.zoopla.co.uk/new-homes/details/64270441/?search_identifier=c1891c257715caec7f423a2f3a1ccd4f91bb9566c3c40ac088a327c74191d9cd\n",
      "An error occurred for link in get_data_func: https://www.zoopla.co.uk/new-homes/details/64270441/?search_identifier=c1891c257715caec7f423a2f3a1ccd4f91bb9566c3c40ac088a327c74191d9cd: Message: no such element: Unable to locate element: {\"method\":\"xpath\",\"selector\":\"//p[@data-testid=\"price\"]\"}\n",
      "  (Session info: chrome=115.0.5790.171); For documentation on this error, please visit: https://www.selenium.dev/documentation/webdriver/troubleshooting/errors#no-such-element-exception\n",
      "Stacktrace:\n",
      "Backtrace:\n",
      "\tGetHandleVerifier [0x0073A813+48355]\n",
      "\t(No symbol) [0x006CC4B1]\n",
      "\t(No symbol) [0x005D5358]\n",
      "\t(No symbol) [0x006009A5]\n",
      "\t(No symbol) [0x00600B3B]\n",
      "\t(No symbol) [0x0062E232]\n",
      "\t(No symbol) [0x0061A784]\n",
      "\t(No symbol) [0x0062C922]\n",
      "\t(No symbol) [0x0061A536]\n",
      "\t(No symbol) [0x005F82DC]\n",
      "\t(No symbol) [0x005F93DD]\n",
      "\tGetHandleVerifier [0x0099AABD+2539405]\n",
      "\tGetHandleVerifier [0x009DA78F+2800735]\n",
      "\tGetHandleVerifier [0x009D456C+2775612]\n",
      "\tGetHandleVerifier [0x007C51E0+616112]\n",
      "\t(No symbol) [0x006D5F8C]\n",
      "\t(No symbol) [0x006D2328]\n",
      "\t(No symbol) [0x006D240B]\n",
      "\t(No symbol) [0x006C4FF7]\n",
      "\tBaseThreadInitThunk [0x761E7D59+25]\n",
      "\tRtlInitializeExceptionChain [0x773DB79B+107]\n",
      "\tRtlClearBits [0x773DB71F+191]\n",
      "\n"
     ]
    },
    {
     "name": "stderr",
     "output_type": "stream",
     "text": [
      "could not detect version_main.therefore, we are assuming it is chrome 108 or higher\n"
     ]
    },
    {
     "name": "stdout",
     "output_type": "stream",
     "text": [
      "Saved to db successfully\n",
      "Done with link 46038: https://www.zoopla.co.uk/new-homes/details/64270441/?search_identifier=c1891c257715caec7f423a2f3a1ccd4f91bb9566c3c40ac088a327c74191d9cd\n",
      "Starting extraction for link 46039: https://www.zoopla.co.uk/new-homes/details/64270121/?search_identifier=c1891c257715caec7f423a2f3a1ccd4f91bb9566c3c40ac088a327c74191d9cd\n",
      "An error occurred for link in get_data_func: https://www.zoopla.co.uk/new-homes/details/64270121/?search_identifier=c1891c257715caec7f423a2f3a1ccd4f91bb9566c3c40ac088a327c74191d9cd: Message: no such element: Unable to locate element: {\"method\":\"xpath\",\"selector\":\"//p[@data-testid=\"price\"]\"}\n",
      "  (Session info: chrome=115.0.5790.171); For documentation on this error, please visit: https://www.selenium.dev/documentation/webdriver/troubleshooting/errors#no-such-element-exception\n",
      "Stacktrace:\n",
      "Backtrace:\n",
      "\tGetHandleVerifier [0x0073A813+48355]\n",
      "\t(No symbol) [0x006CC4B1]\n",
      "\t(No symbol) [0x005D5358]\n",
      "\t(No symbol) [0x006009A5]\n",
      "\t(No symbol) [0x00600B3B]\n",
      "\t(No symbol) [0x0062E232]\n",
      "\t(No symbol) [0x0061A784]\n",
      "\t(No symbol) [0x0062C922]\n",
      "\t(No symbol) [0x0061A536]\n",
      "\t(No symbol) [0x005F82DC]\n",
      "\t(No symbol) [0x005F93DD]\n",
      "\tGetHandleVerifier [0x0099AABD+2539405]\n",
      "\tGetHandleVerifier [0x009DA78F+2800735]\n",
      "\tGetHandleVerifier [0x009D456C+2775612]\n",
      "\tGetHandleVerifier [0x007C51E0+616112]\n",
      "\t(No symbol) [0x006D5F8C]\n",
      "\t(No symbol) [0x006D2328]\n",
      "\t(No symbol) [0x006D240B]\n",
      "\t(No symbol) [0x006C4FF7]\n",
      "\tBaseThreadInitThunk [0x761E7D59+25]\n",
      "\tRtlInitializeExceptionChain [0x773DB79B+107]\n",
      "\tRtlClearBits [0x773DB71F+191]\n",
      "\n"
     ]
    },
    {
     "name": "stderr",
     "output_type": "stream",
     "text": [
      "could not detect version_main.therefore, we are assuming it is chrome 108 or higher\n"
     ]
    },
    {
     "name": "stdout",
     "output_type": "stream",
     "text": [
      "Saved to db successfully\n",
      "Done with link 46039: https://www.zoopla.co.uk/new-homes/details/64270121/?search_identifier=c1891c257715caec7f423a2f3a1ccd4f91bb9566c3c40ac088a327c74191d9cd\n",
      "Starting extraction for link 46040: https://www.zoopla.co.uk/for-sale/details/64246507/?search_identifier=c1891c257715caec7f423a2f3a1ccd4f91bb9566c3c40ac088a327c74191d9cd\n"
     ]
    },
    {
     "name": "stderr",
     "output_type": "stream",
     "text": [
      "could not detect version_main.therefore, we are assuming it is chrome 108 or higher\n"
     ]
    },
    {
     "name": "stdout",
     "output_type": "stream",
     "text": [
      "Saved to db successfully\n",
      "Done with link 46040: https://www.zoopla.co.uk/for-sale/details/64246507/?search_identifier=c1891c257715caec7f423a2f3a1ccd4f91bb9566c3c40ac088a327c74191d9cd\n",
      "Starting extraction for link 46041: https://www.zoopla.co.uk/for-sale/details/64222600/?search_identifier=c1891c257715caec7f423a2f3a1ccd4f91bb9566c3c40ac088a327c74191d9cd\n"
     ]
    },
    {
     "name": "stderr",
     "output_type": "stream",
     "text": [
      "could not detect version_main.therefore, we are assuming it is chrome 108 or higher\n"
     ]
    },
    {
     "name": "stdout",
     "output_type": "stream",
     "text": [
      "Saved to db successfully\n",
      "Done with link 46041: https://www.zoopla.co.uk/for-sale/details/64222600/?search_identifier=c1891c257715caec7f423a2f3a1ccd4f91bb9566c3c40ac088a327c74191d9cd\n",
      "Starting extraction for link 46042: https://www.zoopla.co.uk/for-sale/details/64209028/?search_identifier=c1891c257715caec7f423a2f3a1ccd4f91bb9566c3c40ac088a327c74191d9cd\n"
     ]
    },
    {
     "name": "stderr",
     "output_type": "stream",
     "text": [
      "could not detect version_main.therefore, we are assuming it is chrome 108 or higher\n"
     ]
    },
    {
     "name": "stdout",
     "output_type": "stream",
     "text": [
      "Saved to db successfully\n",
      "Done with link 46042: https://www.zoopla.co.uk/for-sale/details/64209028/?search_identifier=c1891c257715caec7f423a2f3a1ccd4f91bb9566c3c40ac088a327c74191d9cd\n",
      "Starting extraction for link 46043: https://www.zoopla.co.uk/for-sale/details/64194617/?search_identifier=c1891c257715caec7f423a2f3a1ccd4f91bb9566c3c40ac088a327c74191d9cd\n"
     ]
    },
    {
     "name": "stderr",
     "output_type": "stream",
     "text": [
      "could not detect version_main.therefore, we are assuming it is chrome 108 or higher\n"
     ]
    },
    {
     "name": "stdout",
     "output_type": "stream",
     "text": [
      "Saved to db successfully\n",
      "Done with link 46043: https://www.zoopla.co.uk/for-sale/details/64194617/?search_identifier=c1891c257715caec7f423a2f3a1ccd4f91bb9566c3c40ac088a327c74191d9cd\n",
      "Starting extraction for link 46044: https://www.zoopla.co.uk/for-sale/details/64163199/?search_identifier=c1891c257715caec7f423a2f3a1ccd4f91bb9566c3c40ac088a327c74191d9cd\n"
     ]
    },
    {
     "name": "stderr",
     "output_type": "stream",
     "text": [
      "could not detect version_main.therefore, we are assuming it is chrome 108 or higher\n"
     ]
    },
    {
     "name": "stdout",
     "output_type": "stream",
     "text": [
      "Saved to db successfully\n",
      "Done with link 46044: https://www.zoopla.co.uk/for-sale/details/64163199/?search_identifier=c1891c257715caec7f423a2f3a1ccd4f91bb9566c3c40ac088a327c74191d9cd\n",
      "Starting extraction for link 46045: https://www.zoopla.co.uk/for-sale/details/64161447/?search_identifier=c1891c257715caec7f423a2f3a1ccd4f91bb9566c3c40ac088a327c74191d9cd\n"
     ]
    },
    {
     "name": "stderr",
     "output_type": "stream",
     "text": [
      "could not detect version_main.therefore, we are assuming it is chrome 108 or higher\n"
     ]
    },
    {
     "name": "stdout",
     "output_type": "stream",
     "text": [
      "Saved to db successfully\n",
      "Done with link 46045: https://www.zoopla.co.uk/for-sale/details/64161447/?search_identifier=c1891c257715caec7f423a2f3a1ccd4f91bb9566c3c40ac088a327c74191d9cd\n",
      "Starting extraction for link 46046: https://www.zoopla.co.uk/for-sale/details/64144391/?search_identifier=c1891c257715caec7f423a2f3a1ccd4f91bb9566c3c40ac088a327c74191d9cd\n"
     ]
    },
    {
     "name": "stderr",
     "output_type": "stream",
     "text": [
      "could not detect version_main.therefore, we are assuming it is chrome 108 or higher\n"
     ]
    },
    {
     "name": "stdout",
     "output_type": "stream",
     "text": [
      "Saved to db successfully\n",
      "Done with link 46046: https://www.zoopla.co.uk/for-sale/details/64144391/?search_identifier=c1891c257715caec7f423a2f3a1ccd4f91bb9566c3c40ac088a327c74191d9cd\n",
      "Starting extraction for link 46047: https://www.zoopla.co.uk/for-sale/details/61426968/?search_identifier=c1891c257715caec7f423a2f3a1ccd4f91bb9566c3c40ac088a327c74191d9cd\n"
     ]
    },
    {
     "name": "stderr",
     "output_type": "stream",
     "text": [
      "could not detect version_main.therefore, we are assuming it is chrome 108 or higher\n"
     ]
    },
    {
     "name": "stdout",
     "output_type": "stream",
     "text": [
      "Saved to db successfully\n",
      "Done with link 46047: https://www.zoopla.co.uk/for-sale/details/61426968/?search_identifier=c1891c257715caec7f423a2f3a1ccd4f91bb9566c3c40ac088a327c74191d9cd\n",
      "Starting extraction for link 46048: https://www.zoopla.co.uk/for-sale/details/64097582/?search_identifier=5674d809f8ac29b2e83a47577e29b4aec0f1c0883d9c306f834e1a511428621b\n"
     ]
    },
    {
     "name": "stderr",
     "output_type": "stream",
     "text": [
      "could not detect version_main.therefore, we are assuming it is chrome 108 or higher\n"
     ]
    },
    {
     "name": "stdout",
     "output_type": "stream",
     "text": [
      "Saved to db successfully\n",
      "Done with link 46048: https://www.zoopla.co.uk/for-sale/details/64097582/?search_identifier=5674d809f8ac29b2e83a47577e29b4aec0f1c0883d9c306f834e1a511428621b\n",
      "Starting extraction for link 46049: https://www.zoopla.co.uk/for-sale/details/64072658/?search_identifier=5674d809f8ac29b2e83a47577e29b4aec0f1c0883d9c306f834e1a511428621b\n"
     ]
    },
    {
     "name": "stderr",
     "output_type": "stream",
     "text": [
      "could not detect version_main.therefore, we are assuming it is chrome 108 or higher\n"
     ]
    },
    {
     "name": "stdout",
     "output_type": "stream",
     "text": [
      "Saved to db successfully\n",
      "Done with link 46049: https://www.zoopla.co.uk/for-sale/details/64072658/?search_identifier=5674d809f8ac29b2e83a47577e29b4aec0f1c0883d9c306f834e1a511428621b\n",
      "Starting extraction for link 46050: https://www.zoopla.co.uk/for-sale/details/64050832/?search_identifier=5674d809f8ac29b2e83a47577e29b4aec0f1c0883d9c306f834e1a511428621b\n"
     ]
    },
    {
     "name": "stderr",
     "output_type": "stream",
     "text": [
      "could not detect version_main.therefore, we are assuming it is chrome 108 or higher\n"
     ]
    },
    {
     "name": "stdout",
     "output_type": "stream",
     "text": [
      "Saved to db successfully\n",
      "Done with link 46050: https://www.zoopla.co.uk/for-sale/details/64050832/?search_identifier=5674d809f8ac29b2e83a47577e29b4aec0f1c0883d9c306f834e1a511428621b\n",
      "Starting extraction for link 46051: https://www.zoopla.co.uk/for-sale/details/64050602/?search_identifier=5674d809f8ac29b2e83a47577e29b4aec0f1c0883d9c306f834e1a511428621b\n"
     ]
    },
    {
     "name": "stderr",
     "output_type": "stream",
     "text": [
      "could not detect version_main.therefore, we are assuming it is chrome 108 or higher\n"
     ]
    },
    {
     "name": "stdout",
     "output_type": "stream",
     "text": [
      "Saved to db successfully\n",
      "Done with link 46051: https://www.zoopla.co.uk/for-sale/details/64050602/?search_identifier=5674d809f8ac29b2e83a47577e29b4aec0f1c0883d9c306f834e1a511428621b\n",
      "Starting extraction for link 46052: https://www.zoopla.co.uk/for-sale/details/64045136/?search_identifier=5674d809f8ac29b2e83a47577e29b4aec0f1c0883d9c306f834e1a511428621b\n"
     ]
    },
    {
     "name": "stderr",
     "output_type": "stream",
     "text": [
      "could not detect version_main.therefore, we are assuming it is chrome 108 or higher\n"
     ]
    },
    {
     "name": "stdout",
     "output_type": "stream",
     "text": [
      "Saved to db successfully\n",
      "Done with link 46052: https://www.zoopla.co.uk/for-sale/details/64045136/?search_identifier=5674d809f8ac29b2e83a47577e29b4aec0f1c0883d9c306f834e1a511428621b\n",
      "Starting extraction for link 46053: https://www.zoopla.co.uk/for-sale/details/64000739/?search_identifier=5674d809f8ac29b2e83a47577e29b4aec0f1c0883d9c306f834e1a511428621b\n",
      "An error occurred for link in get_data_func: https://www.zoopla.co.uk/for-sale/details/64000739/?search_identifier=5674d809f8ac29b2e83a47577e29b4aec0f1c0883d9c306f834e1a511428621b: Message: no such element: Unable to locate element: {\"method\":\"xpath\",\"selector\":\"//p[@data-testid=\"price\"]\"}\n",
      "  (Session info: chrome=115.0.5790.171); For documentation on this error, please visit: https://www.selenium.dev/documentation/webdriver/troubleshooting/errors#no-such-element-exception\n",
      "Stacktrace:\n",
      "Backtrace:\n",
      "\tGetHandleVerifier [0x0073A813+48355]\n",
      "\t(No symbol) [0x006CC4B1]\n",
      "\t(No symbol) [0x005D5358]\n",
      "\t(No symbol) [0x006009A5]\n",
      "\t(No symbol) [0x00600B3B]\n",
      "\t(No symbol) [0x0062E232]\n",
      "\t(No symbol) [0x0061A784]\n",
      "\t(No symbol) [0x0062C922]\n",
      "\t(No symbol) [0x0061A536]\n",
      "\t(No symbol) [0x005F82DC]\n",
      "\t(No symbol) [0x005F93DD]\n",
      "\tGetHandleVerifier [0x0099AABD+2539405]\n",
      "\tGetHandleVerifier [0x009DA78F+2800735]\n",
      "\tGetHandleVerifier [0x009D456C+2775612]\n",
      "\tGetHandleVerifier [0x007C51E0+616112]\n",
      "\t(No symbol) [0x006D5F8C]\n",
      "\t(No symbol) [0x006D2328]\n",
      "\t(No symbol) [0x006D240B]\n",
      "\t(No symbol) [0x006C4FF7]\n",
      "\tBaseThreadInitThunk [0x761E7D59+25]\n",
      "\tRtlInitializeExceptionChain [0x773DB79B+107]\n",
      "\tRtlClearBits [0x773DB71F+191]\n",
      "\n"
     ]
    },
    {
     "name": "stderr",
     "output_type": "stream",
     "text": [
      "could not detect version_main.therefore, we are assuming it is chrome 108 or higher\n"
     ]
    },
    {
     "name": "stdout",
     "output_type": "stream",
     "text": [
      "Saved to db successfully\n",
      "Done with link 46053: https://www.zoopla.co.uk/for-sale/details/64000739/?search_identifier=5674d809f8ac29b2e83a47577e29b4aec0f1c0883d9c306f834e1a511428621b\n",
      "Starting extraction for link 46054: https://www.zoopla.co.uk/for-sale/details/63967745/?search_identifier=5674d809f8ac29b2e83a47577e29b4aec0f1c0883d9c306f834e1a511428621b\n"
     ]
    },
    {
     "name": "stderr",
     "output_type": "stream",
     "text": [
      "could not detect version_main.therefore, we are assuming it is chrome 108 or higher\n"
     ]
    },
    {
     "name": "stdout",
     "output_type": "stream",
     "text": [
      "Saved to db successfully\n",
      "Done with link 46054: https://www.zoopla.co.uk/for-sale/details/63967745/?search_identifier=5674d809f8ac29b2e83a47577e29b4aec0f1c0883d9c306f834e1a511428621b\n",
      "Starting extraction for link 46055: https://www.zoopla.co.uk/for-sale/details/63966937/?search_identifier=5674d809f8ac29b2e83a47577e29b4aec0f1c0883d9c306f834e1a511428621b\n"
     ]
    },
    {
     "name": "stderr",
     "output_type": "stream",
     "text": [
      "could not detect version_main.therefore, we are assuming it is chrome 108 or higher\n"
     ]
    },
    {
     "name": "stdout",
     "output_type": "stream",
     "text": [
      "Saved to db successfully\n",
      "Done with link 46055: https://www.zoopla.co.uk/for-sale/details/63966937/?search_identifier=5674d809f8ac29b2e83a47577e29b4aec0f1c0883d9c306f834e1a511428621b\n",
      "Starting extraction for link 46056: https://www.zoopla.co.uk/for-sale/details/63925888/?search_identifier=5674d809f8ac29b2e83a47577e29b4aec0f1c0883d9c306f834e1a511428621b\n"
     ]
    },
    {
     "name": "stderr",
     "output_type": "stream",
     "text": [
      "could not detect version_main.therefore, we are assuming it is chrome 108 or higher\n"
     ]
    },
    {
     "name": "stdout",
     "output_type": "stream",
     "text": [
      "Saved to db successfully\n",
      "Done with link 46056: https://www.zoopla.co.uk/for-sale/details/63925888/?search_identifier=5674d809f8ac29b2e83a47577e29b4aec0f1c0883d9c306f834e1a511428621b\n",
      "Starting extraction for link 46057: https://www.zoopla.co.uk/for-sale/details/63906291/?search_identifier=5674d809f8ac29b2e83a47577e29b4aec0f1c0883d9c306f834e1a511428621b\n"
     ]
    },
    {
     "name": "stderr",
     "output_type": "stream",
     "text": [
      "could not detect version_main.therefore, we are assuming it is chrome 108 or higher\n"
     ]
    },
    {
     "name": "stdout",
     "output_type": "stream",
     "text": [
      "Saved to db successfully\n",
      "Done with link 46057: https://www.zoopla.co.uk/for-sale/details/63906291/?search_identifier=5674d809f8ac29b2e83a47577e29b4aec0f1c0883d9c306f834e1a511428621b\n",
      "Starting extraction for link 46058: https://www.zoopla.co.uk/for-sale/details/63848470/?search_identifier=5674d809f8ac29b2e83a47577e29b4aec0f1c0883d9c306f834e1a511428621b\n"
     ]
    },
    {
     "name": "stderr",
     "output_type": "stream",
     "text": [
      "could not detect version_main.therefore, we are assuming it is chrome 108 or higher\n"
     ]
    },
    {
     "name": "stdout",
     "output_type": "stream",
     "text": [
      "Saved to db successfully\n",
      "Done with link 46058: https://www.zoopla.co.uk/for-sale/details/63848470/?search_identifier=5674d809f8ac29b2e83a47577e29b4aec0f1c0883d9c306f834e1a511428621b\n",
      "Starting extraction for link 46059: https://www.zoopla.co.uk/for-sale/details/63810860/?search_identifier=5674d809f8ac29b2e83a47577e29b4aec0f1c0883d9c306f834e1a511428621b\n"
     ]
    },
    {
     "name": "stderr",
     "output_type": "stream",
     "text": [
      "could not detect version_main.therefore, we are assuming it is chrome 108 or higher\n"
     ]
    },
    {
     "name": "stdout",
     "output_type": "stream",
     "text": [
      "Saved to db successfully\n",
      "Done with link 46059: https://www.zoopla.co.uk/for-sale/details/63810860/?search_identifier=5674d809f8ac29b2e83a47577e29b4aec0f1c0883d9c306f834e1a511428621b\n",
      "Starting extraction for link 46060: https://www.zoopla.co.uk/for-sale/details/63787007/?search_identifier=5674d809f8ac29b2e83a47577e29b4aec0f1c0883d9c306f834e1a511428621b\n"
     ]
    },
    {
     "name": "stderr",
     "output_type": "stream",
     "text": [
      "could not detect version_main.therefore, we are assuming it is chrome 108 or higher\n"
     ]
    },
    {
     "name": "stdout",
     "output_type": "stream",
     "text": [
      "Saved to db successfully\n",
      "Done with link 46060: https://www.zoopla.co.uk/for-sale/details/63787007/?search_identifier=5674d809f8ac29b2e83a47577e29b4aec0f1c0883d9c306f834e1a511428621b\n",
      "Starting extraction for link 46061: https://www.zoopla.co.uk/for-sale/details/63766887/?search_identifier=5674d809f8ac29b2e83a47577e29b4aec0f1c0883d9c306f834e1a511428621b\n"
     ]
    },
    {
     "name": "stderr",
     "output_type": "stream",
     "text": [
      "could not detect version_main.therefore, we are assuming it is chrome 108 or higher\n"
     ]
    },
    {
     "name": "stdout",
     "output_type": "stream",
     "text": [
      "Saved to db successfully\n",
      "Done with link 46061: https://www.zoopla.co.uk/for-sale/details/63766887/?search_identifier=5674d809f8ac29b2e83a47577e29b4aec0f1c0883d9c306f834e1a511428621b\n",
      "Starting extraction for link 46062: https://www.zoopla.co.uk/new-homes/details/63435483/?search_identifier=5674d809f8ac29b2e83a47577e29b4aec0f1c0883d9c306f834e1a511428621b\n"
     ]
    },
    {
     "name": "stderr",
     "output_type": "stream",
     "text": [
      "could not detect version_main.therefore, we are assuming it is chrome 108 or higher\n"
     ]
    },
    {
     "name": "stdout",
     "output_type": "stream",
     "text": [
      "Saved to db successfully\n",
      "Done with link 46062: https://www.zoopla.co.uk/new-homes/details/63435483/?search_identifier=5674d809f8ac29b2e83a47577e29b4aec0f1c0883d9c306f834e1a511428621b\n",
      "Starting extraction for link 46063: https://www.zoopla.co.uk/new-homes/details/63344099/?search_identifier=5674d809f8ac29b2e83a47577e29b4aec0f1c0883d9c306f834e1a511428621b\n"
     ]
    },
    {
     "name": "stderr",
     "output_type": "stream",
     "text": [
      "could not detect version_main.therefore, we are assuming it is chrome 108 or higher\n"
     ]
    },
    {
     "name": "stdout",
     "output_type": "stream",
     "text": [
      "Saved to db successfully\n",
      "Done with link 46063: https://www.zoopla.co.uk/new-homes/details/63344099/?search_identifier=5674d809f8ac29b2e83a47577e29b4aec0f1c0883d9c306f834e1a511428621b\n",
      "Starting extraction for link 46064: https://www.zoopla.co.uk/for-sale/details/63110553/?search_identifier=5674d809f8ac29b2e83a47577e29b4aec0f1c0883d9c306f834e1a511428621b\n",
      "An error occurred for link in get_data_func: https://www.zoopla.co.uk/for-sale/details/63110553/?search_identifier=5674d809f8ac29b2e83a47577e29b4aec0f1c0883d9c306f834e1a511428621b: Message: no such element: Unable to locate element: {\"method\":\"xpath\",\"selector\":\"//p[@data-testid=\"price\"]\"}\n",
      "  (Session info: chrome=115.0.5790.171); For documentation on this error, please visit: https://www.selenium.dev/documentation/webdriver/troubleshooting/errors#no-such-element-exception\n",
      "Stacktrace:\n",
      "Backtrace:\n",
      "\tGetHandleVerifier [0x0073A813+48355]\n",
      "\t(No symbol) [0x006CC4B1]\n",
      "\t(No symbol) [0x005D5358]\n",
      "\t(No symbol) [0x006009A5]\n",
      "\t(No symbol) [0x00600B3B]\n",
      "\t(No symbol) [0x0062E232]\n",
      "\t(No symbol) [0x0061A784]\n",
      "\t(No symbol) [0x0062C922]\n",
      "\t(No symbol) [0x0061A536]\n",
      "\t(No symbol) [0x005F82DC]\n",
      "\t(No symbol) [0x005F93DD]\n",
      "\tGetHandleVerifier [0x0099AABD+2539405]\n",
      "\tGetHandleVerifier [0x009DA78F+2800735]\n",
      "\tGetHandleVerifier [0x009D456C+2775612]\n",
      "\tGetHandleVerifier [0x007C51E0+616112]\n",
      "\t(No symbol) [0x006D5F8C]\n",
      "\t(No symbol) [0x006D2328]\n",
      "\t(No symbol) [0x006D240B]\n",
      "\t(No symbol) [0x006C4FF7]\n",
      "\tBaseThreadInitThunk [0x761E7D59+25]\n",
      "\tRtlInitializeExceptionChain [0x773DB79B+107]\n",
      "\tRtlClearBits [0x773DB71F+191]\n",
      "\n"
     ]
    },
    {
     "name": "stderr",
     "output_type": "stream",
     "text": [
      "could not detect version_main.therefore, we are assuming it is chrome 108 or higher\n"
     ]
    },
    {
     "name": "stdout",
     "output_type": "stream",
     "text": [
      "Saved to db successfully\n",
      "Done with link 46064: https://www.zoopla.co.uk/for-sale/details/63110553/?search_identifier=5674d809f8ac29b2e83a47577e29b4aec0f1c0883d9c306f834e1a511428621b\n",
      "Starting extraction for link 46065: https://www.zoopla.co.uk/for-sale/details/62840317/?search_identifier=5674d809f8ac29b2e83a47577e29b4aec0f1c0883d9c306f834e1a511428621b\n"
     ]
    },
    {
     "name": "stderr",
     "output_type": "stream",
     "text": [
      "could not detect version_main.therefore, we are assuming it is chrome 108 or higher\n"
     ]
    },
    {
     "name": "stdout",
     "output_type": "stream",
     "text": [
      "Saved to db successfully\n",
      "Done with link 46065: https://www.zoopla.co.uk/for-sale/details/62840317/?search_identifier=5674d809f8ac29b2e83a47577e29b4aec0f1c0883d9c306f834e1a511428621b\n",
      "Starting extraction for link 46066: https://www.zoopla.co.uk/for-sale/details/62826100/?search_identifier=5674d809f8ac29b2e83a47577e29b4aec0f1c0883d9c306f834e1a511428621b\n"
     ]
    },
    {
     "name": "stderr",
     "output_type": "stream",
     "text": [
      "could not detect version_main.therefore, we are assuming it is chrome 108 or higher\n"
     ]
    },
    {
     "name": "stdout",
     "output_type": "stream",
     "text": [
      "Saved to db successfully\n",
      "Done with link 46066: https://www.zoopla.co.uk/for-sale/details/62826100/?search_identifier=5674d809f8ac29b2e83a47577e29b4aec0f1c0883d9c306f834e1a511428621b\n",
      "Starting extraction for link 46067: https://www.zoopla.co.uk/for-sale/details/62759356/?search_identifier=5674d809f8ac29b2e83a47577e29b4aec0f1c0883d9c306f834e1a511428621b\n"
     ]
    },
    {
     "name": "stderr",
     "output_type": "stream",
     "text": [
      "could not detect version_main.therefore, we are assuming it is chrome 108 or higher\n"
     ]
    },
    {
     "name": "stdout",
     "output_type": "stream",
     "text": [
      "Saved to db successfully\n",
      "Done with link 46067: https://www.zoopla.co.uk/for-sale/details/62759356/?search_identifier=5674d809f8ac29b2e83a47577e29b4aec0f1c0883d9c306f834e1a511428621b\n",
      "Starting extraction for link 46068: https://www.zoopla.co.uk/for-sale/details/62694666/?search_identifier=5674d809f8ac29b2e83a47577e29b4aec0f1c0883d9c306f834e1a511428621b\n"
     ]
    },
    {
     "name": "stderr",
     "output_type": "stream",
     "text": [
      "could not detect version_main.therefore, we are assuming it is chrome 108 or higher\n"
     ]
    },
    {
     "name": "stdout",
     "output_type": "stream",
     "text": [
      "Saved to db successfully\n",
      "Done with link 46068: https://www.zoopla.co.uk/for-sale/details/62694666/?search_identifier=5674d809f8ac29b2e83a47577e29b4aec0f1c0883d9c306f834e1a511428621b\n",
      "Starting extraction for link 46069: https://www.zoopla.co.uk/for-sale/details/62674027/?search_identifier=5674d809f8ac29b2e83a47577e29b4aec0f1c0883d9c306f834e1a511428621b\n"
     ]
    },
    {
     "name": "stderr",
     "output_type": "stream",
     "text": [
      "could not detect version_main.therefore, we are assuming it is chrome 108 or higher\n"
     ]
    },
    {
     "name": "stdout",
     "output_type": "stream",
     "text": [
      "Saved to db successfully\n",
      "Done with link 46069: https://www.zoopla.co.uk/for-sale/details/62674027/?search_identifier=5674d809f8ac29b2e83a47577e29b4aec0f1c0883d9c306f834e1a511428621b\n",
      "Starting extraction for link 46070: https://www.zoopla.co.uk/for-sale/details/62323459/?search_identifier=5674d809f8ac29b2e83a47577e29b4aec0f1c0883d9c306f834e1a511428621b\n"
     ]
    },
    {
     "name": "stderr",
     "output_type": "stream",
     "text": [
      "could not detect version_main.therefore, we are assuming it is chrome 108 or higher\n"
     ]
    },
    {
     "name": "stdout",
     "output_type": "stream",
     "text": [
      "Saved to db successfully\n",
      "Done with link 46070: https://www.zoopla.co.uk/for-sale/details/62323459/?search_identifier=5674d809f8ac29b2e83a47577e29b4aec0f1c0883d9c306f834e1a511428621b\n",
      "Starting extraction for link 46071: https://www.zoopla.co.uk/for-sale/details/62316559/?search_identifier=5674d809f8ac29b2e83a47577e29b4aec0f1c0883d9c306f834e1a511428621b\n"
     ]
    },
    {
     "name": "stderr",
     "output_type": "stream",
     "text": [
      "could not detect version_main.therefore, we are assuming it is chrome 108 or higher\n"
     ]
    },
    {
     "name": "stdout",
     "output_type": "stream",
     "text": [
      "Saved to db successfully\n",
      "Done with link 46071: https://www.zoopla.co.uk/for-sale/details/62316559/?search_identifier=5674d809f8ac29b2e83a47577e29b4aec0f1c0883d9c306f834e1a511428621b\n",
      "Starting extraction for link 46072: https://www.zoopla.co.uk/for-sale/details/62004977/?search_identifier=5674d809f8ac29b2e83a47577e29b4aec0f1c0883d9c306f834e1a511428621b\n"
     ]
    },
    {
     "name": "stderr",
     "output_type": "stream",
     "text": [
      "could not detect version_main.therefore, we are assuming it is chrome 108 or higher\n"
     ]
    },
    {
     "name": "stdout",
     "output_type": "stream",
     "text": [
      "Saved to db successfully\n",
      "Done with link 46072: https://www.zoopla.co.uk/for-sale/details/62004977/?search_identifier=5674d809f8ac29b2e83a47577e29b4aec0f1c0883d9c306f834e1a511428621b\n",
      "Starting extraction for link 46073: https://www.zoopla.co.uk/for-sale/details/61827918/?search_identifier=6052f0ee3773e1ccbdbc56f3437c54efcb1c6391e3e0c7c0568fc87d881a5043\n"
     ]
    },
    {
     "name": "stderr",
     "output_type": "stream",
     "text": [
      "could not detect version_main.therefore, we are assuming it is chrome 108 or higher\n"
     ]
    },
    {
     "name": "stdout",
     "output_type": "stream",
     "text": [
      "Saved to db successfully\n",
      "Done with link 46073: https://www.zoopla.co.uk/for-sale/details/61827918/?search_identifier=6052f0ee3773e1ccbdbc56f3437c54efcb1c6391e3e0c7c0568fc87d881a5043\n",
      "Starting extraction for link 46074: https://www.zoopla.co.uk/for-sale/details/61731785/?search_identifier=6052f0ee3773e1ccbdbc56f3437c54efcb1c6391e3e0c7c0568fc87d881a5043\n"
     ]
    },
    {
     "name": "stderr",
     "output_type": "stream",
     "text": [
      "could not detect version_main.therefore, we are assuming it is chrome 108 or higher\n"
     ]
    },
    {
     "name": "stdout",
     "output_type": "stream",
     "text": [
      "Saved to db successfully\n",
      "Done with link 46074: https://www.zoopla.co.uk/for-sale/details/61731785/?search_identifier=6052f0ee3773e1ccbdbc56f3437c54efcb1c6391e3e0c7c0568fc87d881a5043\n",
      "Starting extraction for link 46075: https://www.zoopla.co.uk/for-sale/details/61403163/?search_identifier=6052f0ee3773e1ccbdbc56f3437c54efcb1c6391e3e0c7c0568fc87d881a5043\n"
     ]
    },
    {
     "name": "stderr",
     "output_type": "stream",
     "text": [
      "could not detect version_main.therefore, we are assuming it is chrome 108 or higher\n"
     ]
    },
    {
     "name": "stdout",
     "output_type": "stream",
     "text": [
      "Saved to db successfully\n",
      "Done with link 46075: https://www.zoopla.co.uk/for-sale/details/61403163/?search_identifier=6052f0ee3773e1ccbdbc56f3437c54efcb1c6391e3e0c7c0568fc87d881a5043\n",
      "Starting extraction for link 46076: https://www.zoopla.co.uk/for-sale/details/56547804/?search_identifier=6052f0ee3773e1ccbdbc56f3437c54efcb1c6391e3e0c7c0568fc87d881a5043\n"
     ]
    },
    {
     "name": "stderr",
     "output_type": "stream",
     "text": [
      "could not detect version_main.therefore, we are assuming it is chrome 108 or higher\n"
     ]
    },
    {
     "name": "stdout",
     "output_type": "stream",
     "text": [
      "Saved to db successfully\n",
      "Done with link 46076: https://www.zoopla.co.uk/for-sale/details/56547804/?search_identifier=6052f0ee3773e1ccbdbc56f3437c54efcb1c6391e3e0c7c0568fc87d881a5043\n",
      "Starting extraction for link 46077: https://www.zoopla.co.uk/for-sale/details/46291437/?search_identifier=6052f0ee3773e1ccbdbc56f3437c54efcb1c6391e3e0c7c0568fc87d881a5043\n"
     ]
    },
    {
     "name": "stderr",
     "output_type": "stream",
     "text": [
      "could not detect version_main.therefore, we are assuming it is chrome 108 or higher\n"
     ]
    },
    {
     "name": "stdout",
     "output_type": "stream",
     "text": [
      "Saved to db successfully\n",
      "Done with link 46077: https://www.zoopla.co.uk/for-sale/details/46291437/?search_identifier=6052f0ee3773e1ccbdbc56f3437c54efcb1c6391e3e0c7c0568fc87d881a5043\n",
      "Starting extraction for link 46078: https://www.zoopla.co.uk/for-sale/details/65223598/?search_identifier=7833caafce0a1d2ff6d79fc804b6510797a557d08ffe98dc0dc599978dd32514\n"
     ]
    },
    {
     "name": "stderr",
     "output_type": "stream",
     "text": [
      "could not detect version_main.therefore, we are assuming it is chrome 108 or higher\n"
     ]
    },
    {
     "name": "stdout",
     "output_type": "stream",
     "text": [
      "Saved to db successfully\n",
      "Done with link 46078: https://www.zoopla.co.uk/for-sale/details/65223598/?search_identifier=7833caafce0a1d2ff6d79fc804b6510797a557d08ffe98dc0dc599978dd32514\n",
      "Starting extraction for link 46079: https://www.zoopla.co.uk/for-sale/details/65223540/?search_identifier=7833caafce0a1d2ff6d79fc804b6510797a557d08ffe98dc0dc599978dd32514\n"
     ]
    },
    {
     "name": "stderr",
     "output_type": "stream",
     "text": [
      "could not detect version_main.therefore, we are assuming it is chrome 108 or higher\n"
     ]
    },
    {
     "name": "stdout",
     "output_type": "stream",
     "text": [
      "Saved to db successfully\n",
      "Done with link 46079: https://www.zoopla.co.uk/for-sale/details/65223540/?search_identifier=7833caafce0a1d2ff6d79fc804b6510797a557d08ffe98dc0dc599978dd32514\n",
      "Starting extraction for link 46080: https://www.zoopla.co.uk/for-sale/details/65216581/?search_identifier=7833caafce0a1d2ff6d79fc804b6510797a557d08ffe98dc0dc599978dd32514\n",
      "An error occurred for link in get_data_func: https://www.zoopla.co.uk/for-sale/details/65216581/?search_identifier=7833caafce0a1d2ff6d79fc804b6510797a557d08ffe98dc0dc599978dd32514: Message: no such element: Unable to locate element: {\"method\":\"xpath\",\"selector\":\"//p[@data-testid=\"price\"]\"}\n",
      "  (Session info: chrome=115.0.5790.171); For documentation on this error, please visit: https://www.selenium.dev/documentation/webdriver/troubleshooting/errors#no-such-element-exception\n",
      "Stacktrace:\n",
      "Backtrace:\n",
      "\tGetHandleVerifier [0x0073A813+48355]\n",
      "\t(No symbol) [0x006CC4B1]\n",
      "\t(No symbol) [0x005D5358]\n",
      "\t(No symbol) [0x006009A5]\n",
      "\t(No symbol) [0x00600B3B]\n",
      "\t(No symbol) [0x0062E232]\n",
      "\t(No symbol) [0x0061A784]\n",
      "\t(No symbol) [0x0062C922]\n",
      "\t(No symbol) [0x0061A536]\n",
      "\t(No symbol) [0x005F82DC]\n",
      "\t(No symbol) [0x005F93DD]\n",
      "\tGetHandleVerifier [0x0099AABD+2539405]\n",
      "\tGetHandleVerifier [0x009DA78F+2800735]\n",
      "\tGetHandleVerifier [0x009D456C+2775612]\n",
      "\tGetHandleVerifier [0x007C51E0+616112]\n",
      "\t(No symbol) [0x006D5F8C]\n",
      "\t(No symbol) [0x006D2328]\n",
      "\t(No symbol) [0x006D240B]\n",
      "\t(No symbol) [0x006C4FF7]\n",
      "\tBaseThreadInitThunk [0x761E7D59+25]\n",
      "\tRtlInitializeExceptionChain [0x773DB79B+107]\n",
      "\tRtlClearBits [0x773DB71F+191]\n",
      "\n"
     ]
    },
    {
     "name": "stderr",
     "output_type": "stream",
     "text": [
      "could not detect version_main.therefore, we are assuming it is chrome 108 or higher\n"
     ]
    },
    {
     "name": "stdout",
     "output_type": "stream",
     "text": [
      "Saved to db successfully\n",
      "Done with link 46080: https://www.zoopla.co.uk/for-sale/details/65216581/?search_identifier=7833caafce0a1d2ff6d79fc804b6510797a557d08ffe98dc0dc599978dd32514\n",
      "Starting extraction for link 46081: https://www.zoopla.co.uk/for-sale/details/65215319/?search_identifier=7833caafce0a1d2ff6d79fc804b6510797a557d08ffe98dc0dc599978dd32514\n"
     ]
    },
    {
     "name": "stderr",
     "output_type": "stream",
     "text": [
      "could not detect version_main.therefore, we are assuming it is chrome 108 or higher\n"
     ]
    },
    {
     "name": "stdout",
     "output_type": "stream",
     "text": [
      "Saved to db successfully\n",
      "Done with link 46081: https://www.zoopla.co.uk/for-sale/details/65215319/?search_identifier=7833caafce0a1d2ff6d79fc804b6510797a557d08ffe98dc0dc599978dd32514\n",
      "Starting extraction for link 46082: https://www.zoopla.co.uk/for-sale/details/65209808/?search_identifier=7833caafce0a1d2ff6d79fc804b6510797a557d08ffe98dc0dc599978dd32514\n"
     ]
    },
    {
     "name": "stderr",
     "output_type": "stream",
     "text": [
      "could not detect version_main.therefore, we are assuming it is chrome 108 or higher\n"
     ]
    },
    {
     "name": "stdout",
     "output_type": "stream",
     "text": [
      "Saved to db successfully\n",
      "Done with link 46082: https://www.zoopla.co.uk/for-sale/details/65209808/?search_identifier=7833caafce0a1d2ff6d79fc804b6510797a557d08ffe98dc0dc599978dd32514\n",
      "Starting extraction for link 46083: https://www.zoopla.co.uk/for-sale/details/65206451/?search_identifier=7833caafce0a1d2ff6d79fc804b6510797a557d08ffe98dc0dc599978dd32514\n"
     ]
    },
    {
     "name": "stderr",
     "output_type": "stream",
     "text": [
      "could not detect version_main.therefore, we are assuming it is chrome 108 or higher\n"
     ]
    },
    {
     "name": "stdout",
     "output_type": "stream",
     "text": [
      "Saved to db successfully\n",
      "Done with link 46083: https://www.zoopla.co.uk/for-sale/details/65206451/?search_identifier=7833caafce0a1d2ff6d79fc804b6510797a557d08ffe98dc0dc599978dd32514\n",
      "Starting extraction for link 46084: https://www.zoopla.co.uk/for-sale/details/65203015/?search_identifier=7833caafce0a1d2ff6d79fc804b6510797a557d08ffe98dc0dc599978dd32514\n"
     ]
    },
    {
     "name": "stderr",
     "output_type": "stream",
     "text": [
      "could not detect version_main.therefore, we are assuming it is chrome 108 or higher\n"
     ]
    },
    {
     "name": "stdout",
     "output_type": "stream",
     "text": [
      "Saved to db successfully\n",
      "Done with link 46084: https://www.zoopla.co.uk/for-sale/details/65203015/?search_identifier=7833caafce0a1d2ff6d79fc804b6510797a557d08ffe98dc0dc599978dd32514\n",
      "Starting extraction for link 46085: https://www.zoopla.co.uk/for-sale/details/65203014/?search_identifier=7833caafce0a1d2ff6d79fc804b6510797a557d08ffe98dc0dc599978dd32514\n"
     ]
    },
    {
     "name": "stderr",
     "output_type": "stream",
     "text": [
      "could not detect version_main.therefore, we are assuming it is chrome 108 or higher\n"
     ]
    },
    {
     "name": "stdout",
     "output_type": "stream",
     "text": [
      "Saved to db successfully\n",
      "Done with link 46085: https://www.zoopla.co.uk/for-sale/details/65203014/?search_identifier=7833caafce0a1d2ff6d79fc804b6510797a557d08ffe98dc0dc599978dd32514\n",
      "Starting extraction for link 46086: https://www.zoopla.co.uk/for-sale/details/65202848/?search_identifier=7833caafce0a1d2ff6d79fc804b6510797a557d08ffe98dc0dc599978dd32514\n"
     ]
    },
    {
     "name": "stderr",
     "output_type": "stream",
     "text": [
      "could not detect version_main.therefore, we are assuming it is chrome 108 or higher\n"
     ]
    },
    {
     "name": "stdout",
     "output_type": "stream",
     "text": [
      "Saved to db successfully\n",
      "Done with link 46086: https://www.zoopla.co.uk/for-sale/details/65202848/?search_identifier=7833caafce0a1d2ff6d79fc804b6510797a557d08ffe98dc0dc599978dd32514\n",
      "Starting extraction for link 46087: https://www.zoopla.co.uk/for-sale/details/65198615/?search_identifier=7833caafce0a1d2ff6d79fc804b6510797a557d08ffe98dc0dc599978dd32514\n"
     ]
    },
    {
     "name": "stderr",
     "output_type": "stream",
     "text": [
      "could not detect version_main.therefore, we are assuming it is chrome 108 or higher\n"
     ]
    },
    {
     "name": "stdout",
     "output_type": "stream",
     "text": [
      "Saved to db successfully\n",
      "Done with link 46087: https://www.zoopla.co.uk/for-sale/details/65198615/?search_identifier=7833caafce0a1d2ff6d79fc804b6510797a557d08ffe98dc0dc599978dd32514\n",
      "Starting extraction for link 46088: https://www.zoopla.co.uk/for-sale/details/65192142/?search_identifier=7833caafce0a1d2ff6d79fc804b6510797a557d08ffe98dc0dc599978dd32514\n",
      "An error occurred for link in get_data_func: https://www.zoopla.co.uk/for-sale/details/65192142/?search_identifier=7833caafce0a1d2ff6d79fc804b6510797a557d08ffe98dc0dc599978dd32514: Message: no such element: Unable to locate element: {\"method\":\"xpath\",\"selector\":\"//p[@data-testid=\"price\"]\"}\n",
      "  (Session info: chrome=115.0.5790.171); For documentation on this error, please visit: https://www.selenium.dev/documentation/webdriver/troubleshooting/errors#no-such-element-exception\n",
      "Stacktrace:\n",
      "Backtrace:\n",
      "\tGetHandleVerifier [0x0073A813+48355]\n",
      "\t(No symbol) [0x006CC4B1]\n",
      "\t(No symbol) [0x005D5358]\n",
      "\t(No symbol) [0x006009A5]\n",
      "\t(No symbol) [0x00600B3B]\n",
      "\t(No symbol) [0x0062E232]\n",
      "\t(No symbol) [0x0061A784]\n",
      "\t(No symbol) [0x0062C922]\n",
      "\t(No symbol) [0x0061A536]\n",
      "\t(No symbol) [0x005F82DC]\n",
      "\t(No symbol) [0x005F93DD]\n",
      "\tGetHandleVerifier [0x0099AABD+2539405]\n",
      "\tGetHandleVerifier [0x009DA78F+2800735]\n",
      "\tGetHandleVerifier [0x009D456C+2775612]\n",
      "\tGetHandleVerifier [0x007C51E0+616112]\n",
      "\t(No symbol) [0x006D5F8C]\n",
      "\t(No symbol) [0x006D2328]\n",
      "\t(No symbol) [0x006D240B]\n",
      "\t(No symbol) [0x006C4FF7]\n",
      "\tBaseThreadInitThunk [0x761E7D59+25]\n",
      "\tRtlInitializeExceptionChain [0x773DB79B+107]\n",
      "\tRtlClearBits [0x773DB71F+191]\n",
      "\n"
     ]
    },
    {
     "name": "stderr",
     "output_type": "stream",
     "text": [
      "could not detect version_main.therefore, we are assuming it is chrome 108 or higher\n"
     ]
    },
    {
     "name": "stdout",
     "output_type": "stream",
     "text": [
      "Saved to db successfully\n",
      "Done with link 46088: https://www.zoopla.co.uk/for-sale/details/65192142/?search_identifier=7833caafce0a1d2ff6d79fc804b6510797a557d08ffe98dc0dc599978dd32514\n",
      "Starting extraction for link 46089: https://www.zoopla.co.uk/for-sale/details/65192092/?search_identifier=7833caafce0a1d2ff6d79fc804b6510797a557d08ffe98dc0dc599978dd32514\n"
     ]
    },
    {
     "name": "stderr",
     "output_type": "stream",
     "text": [
      "could not detect version_main.therefore, we are assuming it is chrome 108 or higher\n"
     ]
    },
    {
     "name": "stdout",
     "output_type": "stream",
     "text": [
      "Saved to db successfully\n",
      "Done with link 46089: https://www.zoopla.co.uk/for-sale/details/65192092/?search_identifier=7833caafce0a1d2ff6d79fc804b6510797a557d08ffe98dc0dc599978dd32514\n",
      "Starting extraction for link 46090: https://www.zoopla.co.uk/for-sale/details/65191323/?search_identifier=7833caafce0a1d2ff6d79fc804b6510797a557d08ffe98dc0dc599978dd32514\n"
     ]
    },
    {
     "name": "stderr",
     "output_type": "stream",
     "text": [
      "could not detect version_main.therefore, we are assuming it is chrome 108 or higher\n"
     ]
    },
    {
     "name": "stdout",
     "output_type": "stream",
     "text": [
      "Saved to db successfully\n",
      "Done with link 46090: https://www.zoopla.co.uk/for-sale/details/65191323/?search_identifier=7833caafce0a1d2ff6d79fc804b6510797a557d08ffe98dc0dc599978dd32514\n",
      "Starting extraction for link 46091: https://www.zoopla.co.uk/for-sale/details/64171923/?search_identifier=7833caafce0a1d2ff6d79fc804b6510797a557d08ffe98dc0dc599978dd32514\n"
     ]
    },
    {
     "name": "stderr",
     "output_type": "stream",
     "text": [
      "could not detect version_main.therefore, we are assuming it is chrome 108 or higher\n"
     ]
    },
    {
     "name": "stdout",
     "output_type": "stream",
     "text": [
      "Saved to db successfully\n",
      "Done with link 46091: https://www.zoopla.co.uk/for-sale/details/64171923/?search_identifier=7833caafce0a1d2ff6d79fc804b6510797a557d08ffe98dc0dc599978dd32514\n",
      "Starting extraction for link 46092: https://www.zoopla.co.uk/for-sale/details/65170339/?search_identifier=7833caafce0a1d2ff6d79fc804b6510797a557d08ffe98dc0dc599978dd32514\n",
      "An error occurred for link in get_data_func: https://www.zoopla.co.uk/for-sale/details/65170339/?search_identifier=7833caafce0a1d2ff6d79fc804b6510797a557d08ffe98dc0dc599978dd32514: Message: no such element: Unable to locate element: {\"method\":\"xpath\",\"selector\":\"//p[@data-testid=\"price\"]\"}\n",
      "  (Session info: chrome=115.0.5790.171); For documentation on this error, please visit: https://www.selenium.dev/documentation/webdriver/troubleshooting/errors#no-such-element-exception\n",
      "Stacktrace:\n",
      "Backtrace:\n",
      "\tGetHandleVerifier [0x0073A813+48355]\n",
      "\t(No symbol) [0x006CC4B1]\n",
      "\t(No symbol) [0x005D5358]\n",
      "\t(No symbol) [0x006009A5]\n",
      "\t(No symbol) [0x00600B3B]\n",
      "\t(No symbol) [0x0062E232]\n",
      "\t(No symbol) [0x0061A784]\n",
      "\t(No symbol) [0x0062C922]\n",
      "\t(No symbol) [0x0061A536]\n",
      "\t(No symbol) [0x005F82DC]\n",
      "\t(No symbol) [0x005F93DD]\n",
      "\tGetHandleVerifier [0x0099AABD+2539405]\n",
      "\tGetHandleVerifier [0x009DA78F+2800735]\n",
      "\tGetHandleVerifier [0x009D456C+2775612]\n",
      "\tGetHandleVerifier [0x007C51E0+616112]\n",
      "\t(No symbol) [0x006D5F8C]\n",
      "\t(No symbol) [0x006D2328]\n",
      "\t(No symbol) [0x006D240B]\n",
      "\t(No symbol) [0x006C4FF7]\n",
      "\tBaseThreadInitThunk [0x761E7D59+25]\n",
      "\tRtlInitializeExceptionChain [0x773DB79B+107]\n",
      "\tRtlClearBits [0x773DB71F+191]\n",
      "\n"
     ]
    },
    {
     "name": "stderr",
     "output_type": "stream",
     "text": [
      "could not detect version_main.therefore, we are assuming it is chrome 108 or higher\n"
     ]
    },
    {
     "name": "stdout",
     "output_type": "stream",
     "text": [
      "Saved to db successfully\n",
      "Done with link 46092: https://www.zoopla.co.uk/for-sale/details/65170339/?search_identifier=7833caafce0a1d2ff6d79fc804b6510797a557d08ffe98dc0dc599978dd32514\n",
      "Starting extraction for link 46093: https://www.zoopla.co.uk/for-sale/details/65169732/?search_identifier=7833caafce0a1d2ff6d79fc804b6510797a557d08ffe98dc0dc599978dd32514\n"
     ]
    },
    {
     "name": "stderr",
     "output_type": "stream",
     "text": [
      "could not detect version_main.therefore, we are assuming it is chrome 108 or higher\n"
     ]
    },
    {
     "name": "stdout",
     "output_type": "stream",
     "text": [
      "Saved to db successfully\n",
      "Done with link 46093: https://www.zoopla.co.uk/for-sale/details/65169732/?search_identifier=7833caafce0a1d2ff6d79fc804b6510797a557d08ffe98dc0dc599978dd32514\n",
      "Starting extraction for link 46094: https://www.zoopla.co.uk/for-sale/details/65167435/?search_identifier=7833caafce0a1d2ff6d79fc804b6510797a557d08ffe98dc0dc599978dd32514\n"
     ]
    },
    {
     "name": "stderr",
     "output_type": "stream",
     "text": [
      "could not detect version_main.therefore, we are assuming it is chrome 108 or higher\n"
     ]
    },
    {
     "name": "stdout",
     "output_type": "stream",
     "text": [
      "Saved to db successfully\n",
      "Done with link 46094: https://www.zoopla.co.uk/for-sale/details/65167435/?search_identifier=7833caafce0a1d2ff6d79fc804b6510797a557d08ffe98dc0dc599978dd32514\n",
      "Starting extraction for link 46095: https://www.zoopla.co.uk/for-sale/details/65161795/?search_identifier=7833caafce0a1d2ff6d79fc804b6510797a557d08ffe98dc0dc599978dd32514\n"
     ]
    },
    {
     "name": "stderr",
     "output_type": "stream",
     "text": [
      "could not detect version_main.therefore, we are assuming it is chrome 108 or higher\n"
     ]
    },
    {
     "name": "stdout",
     "output_type": "stream",
     "text": [
      "Saved to db successfully\n",
      "Done with link 46095: https://www.zoopla.co.uk/for-sale/details/65161795/?search_identifier=7833caafce0a1d2ff6d79fc804b6510797a557d08ffe98dc0dc599978dd32514\n",
      "Starting extraction for link 46096: https://www.zoopla.co.uk/for-sale/details/65143386/?search_identifier=7833caafce0a1d2ff6d79fc804b6510797a557d08ffe98dc0dc599978dd32514\n"
     ]
    },
    {
     "name": "stderr",
     "output_type": "stream",
     "text": [
      "could not detect version_main.therefore, we are assuming it is chrome 108 or higher\n"
     ]
    },
    {
     "name": "stdout",
     "output_type": "stream",
     "text": [
      "Saved to db successfully\n",
      "Done with link 46096: https://www.zoopla.co.uk/for-sale/details/65143386/?search_identifier=7833caafce0a1d2ff6d79fc804b6510797a557d08ffe98dc0dc599978dd32514\n",
      "Starting extraction for link 46097: https://www.zoopla.co.uk/for-sale/details/65129664/?search_identifier=7833caafce0a1d2ff6d79fc804b6510797a557d08ffe98dc0dc599978dd32514\n"
     ]
    },
    {
     "name": "stderr",
     "output_type": "stream",
     "text": [
      "could not detect version_main.therefore, we are assuming it is chrome 108 or higher\n"
     ]
    },
    {
     "name": "stdout",
     "output_type": "stream",
     "text": [
      "Saved to db successfully\n",
      "Done with link 46097: https://www.zoopla.co.uk/for-sale/details/65129664/?search_identifier=7833caafce0a1d2ff6d79fc804b6510797a557d08ffe98dc0dc599978dd32514\n",
      "Starting extraction for link 46098: https://www.zoopla.co.uk/for-sale/details/65124567/?search_identifier=7833caafce0a1d2ff6d79fc804b6510797a557d08ffe98dc0dc599978dd32514\n"
     ]
    },
    {
     "name": "stderr",
     "output_type": "stream",
     "text": [
      "could not detect version_main.therefore, we are assuming it is chrome 108 or higher\n"
     ]
    },
    {
     "name": "stdout",
     "output_type": "stream",
     "text": [
      "Saved to db successfully\n",
      "Done with link 46098: https://www.zoopla.co.uk/for-sale/details/65124567/?search_identifier=7833caafce0a1d2ff6d79fc804b6510797a557d08ffe98dc0dc599978dd32514\n",
      "Starting extraction for link 46099: https://www.zoopla.co.uk/for-sale/details/65091943/?search_identifier=7833caafce0a1d2ff6d79fc804b6510797a557d08ffe98dc0dc599978dd32514\n"
     ]
    },
    {
     "name": "stderr",
     "output_type": "stream",
     "text": [
      "could not detect version_main.therefore, we are assuming it is chrome 108 or higher\n"
     ]
    },
    {
     "name": "stdout",
     "output_type": "stream",
     "text": [
      "Saved to db successfully\n",
      "Done with link 46099: https://www.zoopla.co.uk/for-sale/details/65091943/?search_identifier=7833caafce0a1d2ff6d79fc804b6510797a557d08ffe98dc0dc599978dd32514\n",
      "Starting extraction for link 46100: https://www.zoopla.co.uk/for-sale/details/65180024/?search_identifier=7833caafce0a1d2ff6d79fc804b6510797a557d08ffe98dc0dc599978dd32514\n"
     ]
    },
    {
     "name": "stderr",
     "output_type": "stream",
     "text": [
      "could not detect version_main.therefore, we are assuming it is chrome 108 or higher\n"
     ]
    },
    {
     "name": "stdout",
     "output_type": "stream",
     "text": [
      "Saved to db successfully\n",
      "Done with link 46100: https://www.zoopla.co.uk/for-sale/details/65180024/?search_identifier=7833caafce0a1d2ff6d79fc804b6510797a557d08ffe98dc0dc599978dd32514\n",
      "Starting extraction for link 46101: https://www.zoopla.co.uk/for-sale/details/65078343/?search_identifier=7833caafce0a1d2ff6d79fc804b6510797a557d08ffe98dc0dc599978dd32514\n"
     ]
    },
    {
     "name": "stderr",
     "output_type": "stream",
     "text": [
      "could not detect version_main.therefore, we are assuming it is chrome 108 or higher\n"
     ]
    },
    {
     "name": "stdout",
     "output_type": "stream",
     "text": [
      "Saved to db successfully\n",
      "Done with link 46101: https://www.zoopla.co.uk/for-sale/details/65078343/?search_identifier=7833caafce0a1d2ff6d79fc804b6510797a557d08ffe98dc0dc599978dd32514\n",
      "Starting extraction for link 46102: https://www.zoopla.co.uk/for-sale/details/65067636/?search_identifier=7833caafce0a1d2ff6d79fc804b6510797a557d08ffe98dc0dc599978dd32514\n"
     ]
    },
    {
     "name": "stderr",
     "output_type": "stream",
     "text": [
      "could not detect version_main.therefore, we are assuming it is chrome 108 or higher\n"
     ]
    },
    {
     "name": "stdout",
     "output_type": "stream",
     "text": [
      "Saved to db successfully\n",
      "Done with link 46102: https://www.zoopla.co.uk/for-sale/details/65067636/?search_identifier=7833caafce0a1d2ff6d79fc804b6510797a557d08ffe98dc0dc599978dd32514\n",
      "Starting extraction for link 46103: https://www.zoopla.co.uk/new-homes/details/65057216/?search_identifier=3133b765a0136b113c974b8d92f9dce7605bc2f082ad26d517f2b49f33d3a10d\n",
      "An error occurred for link in get_data_func: https://www.zoopla.co.uk/new-homes/details/65057216/?search_identifier=3133b765a0136b113c974b8d92f9dce7605bc2f082ad26d517f2b49f33d3a10d: Message: no such element: Unable to locate element: {\"method\":\"xpath\",\"selector\":\"//p[@data-testid=\"price\"]\"}\n",
      "  (Session info: chrome=115.0.5790.171); For documentation on this error, please visit: https://www.selenium.dev/documentation/webdriver/troubleshooting/errors#no-such-element-exception\n",
      "Stacktrace:\n",
      "Backtrace:\n",
      "\tGetHandleVerifier [0x0073A813+48355]\n",
      "\t(No symbol) [0x006CC4B1]\n",
      "\t(No symbol) [0x005D5358]\n",
      "\t(No symbol) [0x006009A5]\n",
      "\t(No symbol) [0x00600B3B]\n",
      "\t(No symbol) [0x0062E232]\n",
      "\t(No symbol) [0x0061A784]\n",
      "\t(No symbol) [0x0062C922]\n",
      "\t(No symbol) [0x0061A536]\n",
      "\t(No symbol) [0x005F82DC]\n",
      "\t(No symbol) [0x005F93DD]\n",
      "\tGetHandleVerifier [0x0099AABD+2539405]\n",
      "\tGetHandleVerifier [0x009DA78F+2800735]\n",
      "\tGetHandleVerifier [0x009D456C+2775612]\n",
      "\tGetHandleVerifier [0x007C51E0+616112]\n",
      "\t(No symbol) [0x006D5F8C]\n",
      "\t(No symbol) [0x006D2328]\n",
      "\t(No symbol) [0x006D240B]\n",
      "\t(No symbol) [0x006C4FF7]\n",
      "\tBaseThreadInitThunk [0x761E7D59+25]\n",
      "\tRtlInitializeExceptionChain [0x773DB79B+107]\n",
      "\tRtlClearBits [0x773DB71F+191]\n",
      "\n"
     ]
    },
    {
     "name": "stderr",
     "output_type": "stream",
     "text": [
      "could not detect version_main.therefore, we are assuming it is chrome 108 or higher\n"
     ]
    },
    {
     "name": "stdout",
     "output_type": "stream",
     "text": [
      "Saved to db successfully\n",
      "Done with link 46103: https://www.zoopla.co.uk/new-homes/details/65057216/?search_identifier=3133b765a0136b113c974b8d92f9dce7605bc2f082ad26d517f2b49f33d3a10d\n",
      "Starting extraction for link 46104: https://www.zoopla.co.uk/for-sale/details/65053522/?search_identifier=3133b765a0136b113c974b8d92f9dce7605bc2f082ad26d517f2b49f33d3a10d\n"
     ]
    },
    {
     "name": "stderr",
     "output_type": "stream",
     "text": [
      "could not detect version_main.therefore, we are assuming it is chrome 108 or higher\n"
     ]
    },
    {
     "name": "stdout",
     "output_type": "stream",
     "text": [
      "Saved to db successfully\n",
      "Done with link 46104: https://www.zoopla.co.uk/for-sale/details/65053522/?search_identifier=3133b765a0136b113c974b8d92f9dce7605bc2f082ad26d517f2b49f33d3a10d\n",
      "Starting extraction for link 46105: https://www.zoopla.co.uk/for-sale/details/65023005/?search_identifier=3133b765a0136b113c974b8d92f9dce7605bc2f082ad26d517f2b49f33d3a10d\n"
     ]
    },
    {
     "name": "stderr",
     "output_type": "stream",
     "text": [
      "could not detect version_main.therefore, we are assuming it is chrome 108 or higher\n"
     ]
    },
    {
     "name": "stdout",
     "output_type": "stream",
     "text": [
      "Saved to db successfully\n",
      "Done with link 46105: https://www.zoopla.co.uk/for-sale/details/65023005/?search_identifier=3133b765a0136b113c974b8d92f9dce7605bc2f082ad26d517f2b49f33d3a10d\n",
      "Starting extraction for link 46106: https://www.zoopla.co.uk/for-sale/details/65020953/?search_identifier=3133b765a0136b113c974b8d92f9dce7605bc2f082ad26d517f2b49f33d3a10d\n"
     ]
    },
    {
     "name": "stderr",
     "output_type": "stream",
     "text": [
      "could not detect version_main.therefore, we are assuming it is chrome 108 or higher\n"
     ]
    },
    {
     "name": "stdout",
     "output_type": "stream",
     "text": [
      "Saved to db successfully\n",
      "Done with link 46106: https://www.zoopla.co.uk/for-sale/details/65020953/?search_identifier=3133b765a0136b113c974b8d92f9dce7605bc2f082ad26d517f2b49f33d3a10d\n",
      "Starting extraction for link 46107: https://www.zoopla.co.uk/for-sale/details/65019402/?search_identifier=3133b765a0136b113c974b8d92f9dce7605bc2f082ad26d517f2b49f33d3a10d\n"
     ]
    },
    {
     "name": "stderr",
     "output_type": "stream",
     "text": [
      "could not detect version_main.therefore, we are assuming it is chrome 108 or higher\n"
     ]
    },
    {
     "name": "stdout",
     "output_type": "stream",
     "text": [
      "Saved to db successfully\n",
      "Done with link 46107: https://www.zoopla.co.uk/for-sale/details/65019402/?search_identifier=3133b765a0136b113c974b8d92f9dce7605bc2f082ad26d517f2b49f33d3a10d\n",
      "Starting extraction for link 46108: https://www.zoopla.co.uk/for-sale/details/65003340/?search_identifier=3133b765a0136b113c974b8d92f9dce7605bc2f082ad26d517f2b49f33d3a10d\n"
     ]
    },
    {
     "name": "stderr",
     "output_type": "stream",
     "text": [
      "could not detect version_main.therefore, we are assuming it is chrome 108 or higher\n"
     ]
    },
    {
     "name": "stdout",
     "output_type": "stream",
     "text": [
      "Saved to db successfully\n",
      "Done with link 46108: https://www.zoopla.co.uk/for-sale/details/65003340/?search_identifier=3133b765a0136b113c974b8d92f9dce7605bc2f082ad26d517f2b49f33d3a10d\n",
      "Starting extraction for link 46109: https://www.zoopla.co.uk/for-sale/details/64997113/?search_identifier=3133b765a0136b113c974b8d92f9dce7605bc2f082ad26d517f2b49f33d3a10d\n"
     ]
    },
    {
     "name": "stderr",
     "output_type": "stream",
     "text": [
      "could not detect version_main.therefore, we are assuming it is chrome 108 or higher\n"
     ]
    },
    {
     "name": "stdout",
     "output_type": "stream",
     "text": [
      "Saved to db successfully\n",
      "Done with link 46109: https://www.zoopla.co.uk/for-sale/details/64997113/?search_identifier=3133b765a0136b113c974b8d92f9dce7605bc2f082ad26d517f2b49f33d3a10d\n",
      "Starting extraction for link 46110: https://www.zoopla.co.uk/for-sale/details/64972469/?search_identifier=3133b765a0136b113c974b8d92f9dce7605bc2f082ad26d517f2b49f33d3a10d\n"
     ]
    },
    {
     "name": "stderr",
     "output_type": "stream",
     "text": [
      "could not detect version_main.therefore, we are assuming it is chrome 108 or higher\n"
     ]
    },
    {
     "name": "stdout",
     "output_type": "stream",
     "text": [
      "Saved to db successfully\n",
      "Done with link 46110: https://www.zoopla.co.uk/for-sale/details/64972469/?search_identifier=3133b765a0136b113c974b8d92f9dce7605bc2f082ad26d517f2b49f33d3a10d\n",
      "Starting extraction for link 46111: https://www.zoopla.co.uk/for-sale/details/64966749/?search_identifier=3133b765a0136b113c974b8d92f9dce7605bc2f082ad26d517f2b49f33d3a10d\n"
     ]
    },
    {
     "name": "stderr",
     "output_type": "stream",
     "text": [
      "could not detect version_main.therefore, we are assuming it is chrome 108 or higher\n"
     ]
    },
    {
     "name": "stdout",
     "output_type": "stream",
     "text": [
      "Saved to db successfully\n",
      "Done with link 46111: https://www.zoopla.co.uk/for-sale/details/64966749/?search_identifier=3133b765a0136b113c974b8d92f9dce7605bc2f082ad26d517f2b49f33d3a10d\n",
      "Starting extraction for link 46112: https://www.zoopla.co.uk/for-sale/details/45449066/?search_identifier=3133b765a0136b113c974b8d92f9dce7605bc2f082ad26d517f2b49f33d3a10d\n"
     ]
    },
    {
     "name": "stderr",
     "output_type": "stream",
     "text": [
      "could not detect version_main.therefore, we are assuming it is chrome 108 or higher\n"
     ]
    },
    {
     "name": "stdout",
     "output_type": "stream",
     "text": [
      "Saved to db successfully\n",
      "Done with link 46112: https://www.zoopla.co.uk/for-sale/details/45449066/?search_identifier=3133b765a0136b113c974b8d92f9dce7605bc2f082ad26d517f2b49f33d3a10d\n",
      "Starting extraction for link 46113: https://www.zoopla.co.uk/for-sale/details/64943006/?search_identifier=3133b765a0136b113c974b8d92f9dce7605bc2f082ad26d517f2b49f33d3a10d\n"
     ]
    },
    {
     "name": "stderr",
     "output_type": "stream",
     "text": [
      "could not detect version_main.therefore, we are assuming it is chrome 108 or higher\n"
     ]
    },
    {
     "name": "stdout",
     "output_type": "stream",
     "text": [
      "Saved to db successfully\n",
      "Done with link 46113: https://www.zoopla.co.uk/for-sale/details/64943006/?search_identifier=3133b765a0136b113c974b8d92f9dce7605bc2f082ad26d517f2b49f33d3a10d\n",
      "Starting extraction for link 46114: https://www.zoopla.co.uk/for-sale/details/64939316/?search_identifier=3133b765a0136b113c974b8d92f9dce7605bc2f082ad26d517f2b49f33d3a10d\n"
     ]
    },
    {
     "name": "stderr",
     "output_type": "stream",
     "text": [
      "could not detect version_main.therefore, we are assuming it is chrome 108 or higher\n"
     ]
    },
    {
     "name": "stdout",
     "output_type": "stream",
     "text": [
      "Saved to db successfully\n",
      "Done with link 46114: https://www.zoopla.co.uk/for-sale/details/64939316/?search_identifier=3133b765a0136b113c974b8d92f9dce7605bc2f082ad26d517f2b49f33d3a10d\n",
      "Starting extraction for link 46115: https://www.zoopla.co.uk/for-sale/details/44623780/?search_identifier=3133b765a0136b113c974b8d92f9dce7605bc2f082ad26d517f2b49f33d3a10d\n"
     ]
    },
    {
     "name": "stderr",
     "output_type": "stream",
     "text": [
      "could not detect version_main.therefore, we are assuming it is chrome 108 or higher\n"
     ]
    },
    {
     "name": "stdout",
     "output_type": "stream",
     "text": [
      "Saved to db successfully\n",
      "Done with link 46115: https://www.zoopla.co.uk/for-sale/details/44623780/?search_identifier=3133b765a0136b113c974b8d92f9dce7605bc2f082ad26d517f2b49f33d3a10d\n",
      "Starting extraction for link 46116: https://www.zoopla.co.uk/for-sale/details/64922948/?search_identifier=3133b765a0136b113c974b8d92f9dce7605bc2f082ad26d517f2b49f33d3a10d\n"
     ]
    },
    {
     "name": "stderr",
     "output_type": "stream",
     "text": [
      "could not detect version_main.therefore, we are assuming it is chrome 108 or higher\n"
     ]
    },
    {
     "name": "stdout",
     "output_type": "stream",
     "text": [
      "Saved to db successfully\n",
      "Done with link 46116: https://www.zoopla.co.uk/for-sale/details/64922948/?search_identifier=3133b765a0136b113c974b8d92f9dce7605bc2f082ad26d517f2b49f33d3a10d\n",
      "Starting extraction for link 46117: https://www.zoopla.co.uk/for-sale/details/64919323/?search_identifier=3133b765a0136b113c974b8d92f9dce7605bc2f082ad26d517f2b49f33d3a10d\n"
     ]
    },
    {
     "name": "stderr",
     "output_type": "stream",
     "text": [
      "could not detect version_main.therefore, we are assuming it is chrome 108 or higher\n"
     ]
    },
    {
     "name": "stdout",
     "output_type": "stream",
     "text": [
      "Saved to db successfully\n",
      "Done with link 46117: https://www.zoopla.co.uk/for-sale/details/64919323/?search_identifier=3133b765a0136b113c974b8d92f9dce7605bc2f082ad26d517f2b49f33d3a10d\n",
      "Starting extraction for link 46118: https://www.zoopla.co.uk/for-sale/details/64900743/?search_identifier=3133b765a0136b113c974b8d92f9dce7605bc2f082ad26d517f2b49f33d3a10d\n"
     ]
    },
    {
     "name": "stderr",
     "output_type": "stream",
     "text": [
      "could not detect version_main.therefore, we are assuming it is chrome 108 or higher\n"
     ]
    },
    {
     "name": "stdout",
     "output_type": "stream",
     "text": [
      "Saved to db successfully\n",
      "Done with link 46118: https://www.zoopla.co.uk/for-sale/details/64900743/?search_identifier=3133b765a0136b113c974b8d92f9dce7605bc2f082ad26d517f2b49f33d3a10d\n",
      "Starting extraction for link 46119: https://www.zoopla.co.uk/for-sale/details/64883445/?search_identifier=3133b765a0136b113c974b8d92f9dce7605bc2f082ad26d517f2b49f33d3a10d\n",
      "An error occurred for link in get_data_func: https://www.zoopla.co.uk/for-sale/details/64883445/?search_identifier=3133b765a0136b113c974b8d92f9dce7605bc2f082ad26d517f2b49f33d3a10d: Message: no such element: Unable to locate element: {\"method\":\"xpath\",\"selector\":\"//p[@data-testid=\"price\"]\"}\n",
      "  (Session info: chrome=115.0.5790.171); For documentation on this error, please visit: https://www.selenium.dev/documentation/webdriver/troubleshooting/errors#no-such-element-exception\n",
      "Stacktrace:\n",
      "Backtrace:\n",
      "\tGetHandleVerifier [0x0073A813+48355]\n",
      "\t(No symbol) [0x006CC4B1]\n",
      "\t(No symbol) [0x005D5358]\n",
      "\t(No symbol) [0x006009A5]\n",
      "\t(No symbol) [0x00600B3B]\n",
      "\t(No symbol) [0x0062E232]\n",
      "\t(No symbol) [0x0061A784]\n",
      "\t(No symbol) [0x0062C922]\n",
      "\t(No symbol) [0x0061A536]\n",
      "\t(No symbol) [0x005F82DC]\n",
      "\t(No symbol) [0x005F93DD]\n",
      "\tGetHandleVerifier [0x0099AABD+2539405]\n",
      "\tGetHandleVerifier [0x009DA78F+2800735]\n",
      "\tGetHandleVerifier [0x009D456C+2775612]\n",
      "\tGetHandleVerifier [0x007C51E0+616112]\n",
      "\t(No symbol) [0x006D5F8C]\n",
      "\t(No symbol) [0x006D2328]\n",
      "\t(No symbol) [0x006D240B]\n",
      "\t(No symbol) [0x006C4FF7]\n",
      "\tBaseThreadInitThunk [0x761E7D59+25]\n",
      "\tRtlInitializeExceptionChain [0x773DB79B+107]\n",
      "\tRtlClearBits [0x773DB71F+191]\n",
      "\n"
     ]
    },
    {
     "name": "stderr",
     "output_type": "stream",
     "text": [
      "could not detect version_main.therefore, we are assuming it is chrome 108 or higher\n"
     ]
    },
    {
     "name": "stdout",
     "output_type": "stream",
     "text": [
      "Saved to db successfully\n",
      "Done with link 46119: https://www.zoopla.co.uk/for-sale/details/64883445/?search_identifier=3133b765a0136b113c974b8d92f9dce7605bc2f082ad26d517f2b49f33d3a10d\n",
      "Starting extraction for link 46120: https://www.zoopla.co.uk/for-sale/details/64872053/?search_identifier=3133b765a0136b113c974b8d92f9dce7605bc2f082ad26d517f2b49f33d3a10d\n",
      "An error occurred for link in get_data_func: https://www.zoopla.co.uk/for-sale/details/64872053/?search_identifier=3133b765a0136b113c974b8d92f9dce7605bc2f082ad26d517f2b49f33d3a10d: Message: no such element: Unable to locate element: {\"method\":\"xpath\",\"selector\":\"//p[@data-testid=\"price\"]\"}\n",
      "  (Session info: chrome=115.0.5790.171); For documentation on this error, please visit: https://www.selenium.dev/documentation/webdriver/troubleshooting/errors#no-such-element-exception\n",
      "Stacktrace:\n",
      "Backtrace:\n",
      "\tGetHandleVerifier [0x0073A813+48355]\n",
      "\t(No symbol) [0x006CC4B1]\n",
      "\t(No symbol) [0x005D5358]\n",
      "\t(No symbol) [0x006009A5]\n",
      "\t(No symbol) [0x00600B3B]\n",
      "\t(No symbol) [0x0062E232]\n",
      "\t(No symbol) [0x0061A784]\n",
      "\t(No symbol) [0x0062C922]\n",
      "\t(No symbol) [0x0061A536]\n",
      "\t(No symbol) [0x005F82DC]\n",
      "\t(No symbol) [0x005F93DD]\n",
      "\tGetHandleVerifier [0x0099AABD+2539405]\n",
      "\tGetHandleVerifier [0x009DA78F+2800735]\n",
      "\tGetHandleVerifier [0x009D456C+2775612]\n",
      "\tGetHandleVerifier [0x007C51E0+616112]\n",
      "\t(No symbol) [0x006D5F8C]\n",
      "\t(No symbol) [0x006D2328]\n",
      "\t(No symbol) [0x006D240B]\n",
      "\t(No symbol) [0x006C4FF7]\n",
      "\tBaseThreadInitThunk [0x761E7D59+25]\n",
      "\tRtlInitializeExceptionChain [0x773DB79B+107]\n",
      "\tRtlClearBits [0x773DB71F+191]\n",
      "\n"
     ]
    },
    {
     "name": "stderr",
     "output_type": "stream",
     "text": [
      "could not detect version_main.therefore, we are assuming it is chrome 108 or higher\n"
     ]
    },
    {
     "name": "stdout",
     "output_type": "stream",
     "text": [
      "Saved to db successfully\n",
      "Done with link 46120: https://www.zoopla.co.uk/for-sale/details/64872053/?search_identifier=3133b765a0136b113c974b8d92f9dce7605bc2f082ad26d517f2b49f33d3a10d\n",
      "Starting extraction for link 46121: https://www.zoopla.co.uk/for-sale/details/65180045/?search_identifier=3133b765a0136b113c974b8d92f9dce7605bc2f082ad26d517f2b49f33d3a10d\n"
     ]
    },
    {
     "name": "stderr",
     "output_type": "stream",
     "text": [
      "could not detect version_main.therefore, we are assuming it is chrome 108 or higher\n"
     ]
    },
    {
     "name": "stdout",
     "output_type": "stream",
     "text": [
      "Saved to db successfully\n",
      "Done with link 46121: https://www.zoopla.co.uk/for-sale/details/65180045/?search_identifier=3133b765a0136b113c974b8d92f9dce7605bc2f082ad26d517f2b49f33d3a10d\n",
      "Starting extraction for link 46122: https://www.zoopla.co.uk/for-sale/details/64837357/?search_identifier=3133b765a0136b113c974b8d92f9dce7605bc2f082ad26d517f2b49f33d3a10d\n"
     ]
    },
    {
     "name": "stderr",
     "output_type": "stream",
     "text": [
      "could not detect version_main.therefore, we are assuming it is chrome 108 or higher\n"
     ]
    },
    {
     "name": "stdout",
     "output_type": "stream",
     "text": [
      "Saved to db successfully\n",
      "Done with link 46122: https://www.zoopla.co.uk/for-sale/details/64837357/?search_identifier=3133b765a0136b113c974b8d92f9dce7605bc2f082ad26d517f2b49f33d3a10d\n",
      "Starting extraction for link 46123: https://www.zoopla.co.uk/for-sale/details/64831270/?search_identifier=3133b765a0136b113c974b8d92f9dce7605bc2f082ad26d517f2b49f33d3a10d\n",
      "An error occurred for link in get_data_func: https://www.zoopla.co.uk/for-sale/details/64831270/?search_identifier=3133b765a0136b113c974b8d92f9dce7605bc2f082ad26d517f2b49f33d3a10d: Message: no such element: Unable to locate element: {\"method\":\"xpath\",\"selector\":\"//p[@data-testid=\"price\"]\"}\n",
      "  (Session info: chrome=115.0.5790.171); For documentation on this error, please visit: https://www.selenium.dev/documentation/webdriver/troubleshooting/errors#no-such-element-exception\n",
      "Stacktrace:\n",
      "Backtrace:\n",
      "\tGetHandleVerifier [0x0073A813+48355]\n",
      "\t(No symbol) [0x006CC4B1]\n",
      "\t(No symbol) [0x005D5358]\n",
      "\t(No symbol) [0x006009A5]\n",
      "\t(No symbol) [0x00600B3B]\n",
      "\t(No symbol) [0x0062E232]\n",
      "\t(No symbol) [0x0061A784]\n",
      "\t(No symbol) [0x0062C922]\n",
      "\t(No symbol) [0x0061A536]\n",
      "\t(No symbol) [0x005F82DC]\n",
      "\t(No symbol) [0x005F93DD]\n",
      "\tGetHandleVerifier [0x0099AABD+2539405]\n",
      "\tGetHandleVerifier [0x009DA78F+2800735]\n",
      "\tGetHandleVerifier [0x009D456C+2775612]\n",
      "\tGetHandleVerifier [0x007C51E0+616112]\n",
      "\t(No symbol) [0x006D5F8C]\n",
      "\t(No symbol) [0x006D2328]\n",
      "\t(No symbol) [0x006D240B]\n",
      "\t(No symbol) [0x006C4FF7]\n",
      "\tBaseThreadInitThunk [0x761E7D59+25]\n",
      "\tRtlInitializeExceptionChain [0x773DB79B+107]\n",
      "\tRtlClearBits [0x773DB71F+191]\n",
      "\n"
     ]
    },
    {
     "name": "stderr",
     "output_type": "stream",
     "text": [
      "could not detect version_main.therefore, we are assuming it is chrome 108 or higher\n"
     ]
    },
    {
     "name": "stdout",
     "output_type": "stream",
     "text": [
      "Saved to db successfully\n",
      "Done with link 46123: https://www.zoopla.co.uk/for-sale/details/64831270/?search_identifier=3133b765a0136b113c974b8d92f9dce7605bc2f082ad26d517f2b49f33d3a10d\n",
      "Starting extraction for link 46124: https://www.zoopla.co.uk/for-sale/details/64830695/?search_identifier=3133b765a0136b113c974b8d92f9dce7605bc2f082ad26d517f2b49f33d3a10d\n"
     ]
    },
    {
     "name": "stderr",
     "output_type": "stream",
     "text": [
      "could not detect version_main.therefore, we are assuming it is chrome 108 or higher\n"
     ]
    },
    {
     "name": "stdout",
     "output_type": "stream",
     "text": [
      "Saved to db successfully\n",
      "Done with link 46124: https://www.zoopla.co.uk/for-sale/details/64830695/?search_identifier=3133b765a0136b113c974b8d92f9dce7605bc2f082ad26d517f2b49f33d3a10d\n",
      "Starting extraction for link 46125: https://www.zoopla.co.uk/for-sale/details/64821032/?search_identifier=3133b765a0136b113c974b8d92f9dce7605bc2f082ad26d517f2b49f33d3a10d\n"
     ]
    },
    {
     "name": "stderr",
     "output_type": "stream",
     "text": [
      "could not detect version_main.therefore, we are assuming it is chrome 108 or higher\n"
     ]
    },
    {
     "name": "stdout",
     "output_type": "stream",
     "text": [
      "Saved to db successfully\n",
      "Done with link 46125: https://www.zoopla.co.uk/for-sale/details/64821032/?search_identifier=3133b765a0136b113c974b8d92f9dce7605bc2f082ad26d517f2b49f33d3a10d\n",
      "Starting extraction for link 46126: https://www.zoopla.co.uk/for-sale/details/64812743/?search_identifier=3133b765a0136b113c974b8d92f9dce7605bc2f082ad26d517f2b49f33d3a10d\n"
     ]
    },
    {
     "name": "stderr",
     "output_type": "stream",
     "text": [
      "could not detect version_main.therefore, we are assuming it is chrome 108 or higher\n"
     ]
    },
    {
     "name": "stdout",
     "output_type": "stream",
     "text": [
      "Saved to db successfully\n",
      "Done with link 46126: https://www.zoopla.co.uk/for-sale/details/64812743/?search_identifier=3133b765a0136b113c974b8d92f9dce7605bc2f082ad26d517f2b49f33d3a10d\n",
      "Starting extraction for link 46127: https://www.zoopla.co.uk/for-sale/details/64794160/?search_identifier=3133b765a0136b113c974b8d92f9dce7605bc2f082ad26d517f2b49f33d3a10d\n",
      "An error occurred for link in get_data_func: https://www.zoopla.co.uk/for-sale/details/64794160/?search_identifier=3133b765a0136b113c974b8d92f9dce7605bc2f082ad26d517f2b49f33d3a10d: Message: no such element: Unable to locate element: {\"method\":\"xpath\",\"selector\":\"//p[@data-testid=\"price\"]\"}\n",
      "  (Session info: chrome=115.0.5790.171); For documentation on this error, please visit: https://www.selenium.dev/documentation/webdriver/troubleshooting/errors#no-such-element-exception\n",
      "Stacktrace:\n",
      "Backtrace:\n",
      "\tGetHandleVerifier [0x0073A813+48355]\n",
      "\t(No symbol) [0x006CC4B1]\n",
      "\t(No symbol) [0x005D5358]\n",
      "\t(No symbol) [0x006009A5]\n",
      "\t(No symbol) [0x00600B3B]\n",
      "\t(No symbol) [0x0062E232]\n",
      "\t(No symbol) [0x0061A784]\n",
      "\t(No symbol) [0x0062C922]\n",
      "\t(No symbol) [0x0061A536]\n",
      "\t(No symbol) [0x005F82DC]\n",
      "\t(No symbol) [0x005F93DD]\n",
      "\tGetHandleVerifier [0x0099AABD+2539405]\n",
      "\tGetHandleVerifier [0x009DA78F+2800735]\n",
      "\tGetHandleVerifier [0x009D456C+2775612]\n",
      "\tGetHandleVerifier [0x007C51E0+616112]\n",
      "\t(No symbol) [0x006D5F8C]\n",
      "\t(No symbol) [0x006D2328]\n",
      "\t(No symbol) [0x006D240B]\n",
      "\t(No symbol) [0x006C4FF7]\n",
      "\tBaseThreadInitThunk [0x761E7D59+25]\n",
      "\tRtlInitializeExceptionChain [0x773DB79B+107]\n",
      "\tRtlClearBits [0x773DB71F+191]\n",
      "\n"
     ]
    },
    {
     "name": "stderr",
     "output_type": "stream",
     "text": [
      "could not detect version_main.therefore, we are assuming it is chrome 108 or higher\n"
     ]
    },
    {
     "name": "stdout",
     "output_type": "stream",
     "text": [
      "Saved to db successfully\n",
      "Done with link 46127: https://www.zoopla.co.uk/for-sale/details/64794160/?search_identifier=3133b765a0136b113c974b8d92f9dce7605bc2f082ad26d517f2b49f33d3a10d\n",
      "Starting extraction for link 46128: https://www.zoopla.co.uk/for-sale/details/64792440/?search_identifier=649d6080f90e23d552b662da2c733ccb9ce93215faddef8f5ce6810db492a583\n"
     ]
    },
    {
     "name": "stderr",
     "output_type": "stream",
     "text": [
      "could not detect version_main.therefore, we are assuming it is chrome 108 or higher\n"
     ]
    },
    {
     "name": "stdout",
     "output_type": "stream",
     "text": [
      "Saved to db successfully\n",
      "Done with link 46128: https://www.zoopla.co.uk/for-sale/details/64792440/?search_identifier=649d6080f90e23d552b662da2c733ccb9ce93215faddef8f5ce6810db492a583\n",
      "Starting extraction for link 46129: https://www.zoopla.co.uk/for-sale/details/64789756/?search_identifier=649d6080f90e23d552b662da2c733ccb9ce93215faddef8f5ce6810db492a583\n"
     ]
    },
    {
     "name": "stderr",
     "output_type": "stream",
     "text": [
      "could not detect version_main.therefore, we are assuming it is chrome 108 or higher\n"
     ]
    },
    {
     "name": "stdout",
     "output_type": "stream",
     "text": [
      "Saved to db successfully\n",
      "Done with link 46129: https://www.zoopla.co.uk/for-sale/details/64789756/?search_identifier=649d6080f90e23d552b662da2c733ccb9ce93215faddef8f5ce6810db492a583\n",
      "Starting extraction for link 46130: https://www.zoopla.co.uk/for-sale/details/64785640/?search_identifier=649d6080f90e23d552b662da2c733ccb9ce93215faddef8f5ce6810db492a583\n"
     ]
    },
    {
     "name": "stderr",
     "output_type": "stream",
     "text": [
      "could not detect version_main.therefore, we are assuming it is chrome 108 or higher\n"
     ]
    },
    {
     "name": "stdout",
     "output_type": "stream",
     "text": [
      "Saved to db successfully\n",
      "Done with link 46130: https://www.zoopla.co.uk/for-sale/details/64785640/?search_identifier=649d6080f90e23d552b662da2c733ccb9ce93215faddef8f5ce6810db492a583\n",
      "Starting extraction for link 46131: https://www.zoopla.co.uk/for-sale/details/64770154/?search_identifier=649d6080f90e23d552b662da2c733ccb9ce93215faddef8f5ce6810db492a583\n"
     ]
    },
    {
     "name": "stderr",
     "output_type": "stream",
     "text": [
      "could not detect version_main.therefore, we are assuming it is chrome 108 or higher\n"
     ]
    },
    {
     "name": "stdout",
     "output_type": "stream",
     "text": [
      "Saved to db successfully\n",
      "Done with link 46131: https://www.zoopla.co.uk/for-sale/details/64770154/?search_identifier=649d6080f90e23d552b662da2c733ccb9ce93215faddef8f5ce6810db492a583\n",
      "Starting extraction for link 46132: https://www.zoopla.co.uk/for-sale/details/64766957/?search_identifier=649d6080f90e23d552b662da2c733ccb9ce93215faddef8f5ce6810db492a583\n"
     ]
    },
    {
     "name": "stderr",
     "output_type": "stream",
     "text": [
      "could not detect version_main.therefore, we are assuming it is chrome 108 or higher\n"
     ]
    },
    {
     "name": "stdout",
     "output_type": "stream",
     "text": [
      "Saved to db successfully\n",
      "Done with link 46132: https://www.zoopla.co.uk/for-sale/details/64766957/?search_identifier=649d6080f90e23d552b662da2c733ccb9ce93215faddef8f5ce6810db492a583\n",
      "Starting extraction for link 46133: https://www.zoopla.co.uk/for-sale/details/64762491/?search_identifier=649d6080f90e23d552b662da2c733ccb9ce93215faddef8f5ce6810db492a583\n"
     ]
    },
    {
     "name": "stderr",
     "output_type": "stream",
     "text": [
      "could not detect version_main.therefore, we are assuming it is chrome 108 or higher\n"
     ]
    },
    {
     "name": "stdout",
     "output_type": "stream",
     "text": [
      "Saved to db successfully\n",
      "Done with link 46133: https://www.zoopla.co.uk/for-sale/details/64762491/?search_identifier=649d6080f90e23d552b662da2c733ccb9ce93215faddef8f5ce6810db492a583\n",
      "Starting extraction for link 46134: https://www.zoopla.co.uk/for-sale/details/64747174/?search_identifier=649d6080f90e23d552b662da2c733ccb9ce93215faddef8f5ce6810db492a583\n"
     ]
    },
    {
     "name": "stderr",
     "output_type": "stream",
     "text": [
      "could not detect version_main.therefore, we are assuming it is chrome 108 or higher\n"
     ]
    },
    {
     "name": "stdout",
     "output_type": "stream",
     "text": [
      "Saved to db successfully\n",
      "Done with link 46134: https://www.zoopla.co.uk/for-sale/details/64747174/?search_identifier=649d6080f90e23d552b662da2c733ccb9ce93215faddef8f5ce6810db492a583\n",
      "Starting extraction for link 46135: https://www.zoopla.co.uk/for-sale/details/64738303/?search_identifier=649d6080f90e23d552b662da2c733ccb9ce93215faddef8f5ce6810db492a583\n"
     ]
    },
    {
     "name": "stderr",
     "output_type": "stream",
     "text": [
      "could not detect version_main.therefore, we are assuming it is chrome 108 or higher\n"
     ]
    },
    {
     "name": "stdout",
     "output_type": "stream",
     "text": [
      "Saved to db successfully\n",
      "Done with link 46135: https://www.zoopla.co.uk/for-sale/details/64738303/?search_identifier=649d6080f90e23d552b662da2c733ccb9ce93215faddef8f5ce6810db492a583\n",
      "Starting extraction for link 46136: https://www.zoopla.co.uk/for-sale/details/64734467/?search_identifier=649d6080f90e23d552b662da2c733ccb9ce93215faddef8f5ce6810db492a583\n"
     ]
    },
    {
     "name": "stderr",
     "output_type": "stream",
     "text": [
      "could not detect version_main.therefore, we are assuming it is chrome 108 or higher\n"
     ]
    },
    {
     "name": "stdout",
     "output_type": "stream",
     "text": [
      "Saved to db successfully\n",
      "Done with link 46136: https://www.zoopla.co.uk/for-sale/details/64734467/?search_identifier=649d6080f90e23d552b662da2c733ccb9ce93215faddef8f5ce6810db492a583\n",
      "Starting extraction for link 46137: https://www.zoopla.co.uk/for-sale/details/50329350/?search_identifier=649d6080f90e23d552b662da2c733ccb9ce93215faddef8f5ce6810db492a583\n"
     ]
    },
    {
     "name": "stderr",
     "output_type": "stream",
     "text": [
      "could not detect version_main.therefore, we are assuming it is chrome 108 or higher\n"
     ]
    },
    {
     "name": "stdout",
     "output_type": "stream",
     "text": [
      "Saved to db successfully\n",
      "Done with link 46137: https://www.zoopla.co.uk/for-sale/details/50329350/?search_identifier=649d6080f90e23d552b662da2c733ccb9ce93215faddef8f5ce6810db492a583\n",
      "Starting extraction for link 46138: https://www.zoopla.co.uk/for-sale/details/64721750/?search_identifier=649d6080f90e23d552b662da2c733ccb9ce93215faddef8f5ce6810db492a583\n"
     ]
    },
    {
     "name": "stderr",
     "output_type": "stream",
     "text": [
      "could not detect version_main.therefore, we are assuming it is chrome 108 or higher\n"
     ]
    },
    {
     "name": "stdout",
     "output_type": "stream",
     "text": [
      "Saved to db successfully\n",
      "Done with link 46138: https://www.zoopla.co.uk/for-sale/details/64721750/?search_identifier=649d6080f90e23d552b662da2c733ccb9ce93215faddef8f5ce6810db492a583\n",
      "Starting extraction for link 46139: https://www.zoopla.co.uk/for-sale/details/64713376/?search_identifier=649d6080f90e23d552b662da2c733ccb9ce93215faddef8f5ce6810db492a583\n"
     ]
    },
    {
     "name": "stderr",
     "output_type": "stream",
     "text": [
      "could not detect version_main.therefore, we are assuming it is chrome 108 or higher\n"
     ]
    },
    {
     "name": "stdout",
     "output_type": "stream",
     "text": [
      "Saved to db successfully\n",
      "Done with link 46139: https://www.zoopla.co.uk/for-sale/details/64713376/?search_identifier=649d6080f90e23d552b662da2c733ccb9ce93215faddef8f5ce6810db492a583\n",
      "Starting extraction for link 46140: https://www.zoopla.co.uk/for-sale/details/64713180/?search_identifier=649d6080f90e23d552b662da2c733ccb9ce93215faddef8f5ce6810db492a583\n"
     ]
    },
    {
     "name": "stderr",
     "output_type": "stream",
     "text": [
      "could not detect version_main.therefore, we are assuming it is chrome 108 or higher\n"
     ]
    },
    {
     "name": "stdout",
     "output_type": "stream",
     "text": [
      "Saved to db successfully\n",
      "Done with link 46140: https://www.zoopla.co.uk/for-sale/details/64713180/?search_identifier=649d6080f90e23d552b662da2c733ccb9ce93215faddef8f5ce6810db492a583\n",
      "Starting extraction for link 46141: https://www.zoopla.co.uk/for-sale/details/64705719/?search_identifier=649d6080f90e23d552b662da2c733ccb9ce93215faddef8f5ce6810db492a583\n"
     ]
    },
    {
     "name": "stderr",
     "output_type": "stream",
     "text": [
      "could not detect version_main.therefore, we are assuming it is chrome 108 or higher\n"
     ]
    },
    {
     "name": "stdout",
     "output_type": "stream",
     "text": [
      "Saved to db successfully\n",
      "Done with link 46141: https://www.zoopla.co.uk/for-sale/details/64705719/?search_identifier=649d6080f90e23d552b662da2c733ccb9ce93215faddef8f5ce6810db492a583\n",
      "Starting extraction for link 46142: https://www.zoopla.co.uk/for-sale/details/64699555/?search_identifier=649d6080f90e23d552b662da2c733ccb9ce93215faddef8f5ce6810db492a583\n"
     ]
    },
    {
     "name": "stderr",
     "output_type": "stream",
     "text": [
      "could not detect version_main.therefore, we are assuming it is chrome 108 or higher\n"
     ]
    },
    {
     "name": "stdout",
     "output_type": "stream",
     "text": [
      "Saved to db successfully\n",
      "Done with link 46142: https://www.zoopla.co.uk/for-sale/details/64699555/?search_identifier=649d6080f90e23d552b662da2c733ccb9ce93215faddef8f5ce6810db492a583\n",
      "Starting extraction for link 46143: https://www.zoopla.co.uk/for-sale/details/64695035/?search_identifier=649d6080f90e23d552b662da2c733ccb9ce93215faddef8f5ce6810db492a583\n"
     ]
    },
    {
     "name": "stderr",
     "output_type": "stream",
     "text": [
      "could not detect version_main.therefore, we are assuming it is chrome 108 or higher\n"
     ]
    },
    {
     "name": "stdout",
     "output_type": "stream",
     "text": [
      "Saved to db successfully\n",
      "Done with link 46143: https://www.zoopla.co.uk/for-sale/details/64695035/?search_identifier=649d6080f90e23d552b662da2c733ccb9ce93215faddef8f5ce6810db492a583\n",
      "Starting extraction for link 46144: https://www.zoopla.co.uk/for-sale/details/64693223/?search_identifier=649d6080f90e23d552b662da2c733ccb9ce93215faddef8f5ce6810db492a583\n"
     ]
    },
    {
     "name": "stderr",
     "output_type": "stream",
     "text": [
      "could not detect version_main.therefore, we are assuming it is chrome 108 or higher\n"
     ]
    },
    {
     "name": "stdout",
     "output_type": "stream",
     "text": [
      "Saved to db successfully\n",
      "Done with link 46144: https://www.zoopla.co.uk/for-sale/details/64693223/?search_identifier=649d6080f90e23d552b662da2c733ccb9ce93215faddef8f5ce6810db492a583\n",
      "Starting extraction for link 46145: https://www.zoopla.co.uk/for-sale/details/64689549/?search_identifier=649d6080f90e23d552b662da2c733ccb9ce93215faddef8f5ce6810db492a583\n"
     ]
    },
    {
     "name": "stderr",
     "output_type": "stream",
     "text": [
      "could not detect version_main.therefore, we are assuming it is chrome 108 or higher\n"
     ]
    },
    {
     "name": "stdout",
     "output_type": "stream",
     "text": [
      "Saved to db successfully\n",
      "Done with link 46145: https://www.zoopla.co.uk/for-sale/details/64689549/?search_identifier=649d6080f90e23d552b662da2c733ccb9ce93215faddef8f5ce6810db492a583\n",
      "Starting extraction for link 46146: https://www.zoopla.co.uk/for-sale/details/64668245/?search_identifier=649d6080f90e23d552b662da2c733ccb9ce93215faddef8f5ce6810db492a583\n"
     ]
    },
    {
     "name": "stderr",
     "output_type": "stream",
     "text": [
      "could not detect version_main.therefore, we are assuming it is chrome 108 or higher\n"
     ]
    },
    {
     "name": "stdout",
     "output_type": "stream",
     "text": [
      "Saved to db successfully\n",
      "Done with link 46146: https://www.zoopla.co.uk/for-sale/details/64668245/?search_identifier=649d6080f90e23d552b662da2c733ccb9ce93215faddef8f5ce6810db492a583\n",
      "Starting extraction for link 46147: https://www.zoopla.co.uk/for-sale/details/64667208/?search_identifier=649d6080f90e23d552b662da2c733ccb9ce93215faddef8f5ce6810db492a583\n"
     ]
    },
    {
     "name": "stderr",
     "output_type": "stream",
     "text": [
      "could not detect version_main.therefore, we are assuming it is chrome 108 or higher\n"
     ]
    },
    {
     "name": "stdout",
     "output_type": "stream",
     "text": [
      "Saved to db successfully\n",
      "Done with link 46147: https://www.zoopla.co.uk/for-sale/details/64667208/?search_identifier=649d6080f90e23d552b662da2c733ccb9ce93215faddef8f5ce6810db492a583\n",
      "Starting extraction for link 46148: https://www.zoopla.co.uk/for-sale/details/64649741/?search_identifier=649d6080f90e23d552b662da2c733ccb9ce93215faddef8f5ce6810db492a583\n"
     ]
    },
    {
     "name": "stderr",
     "output_type": "stream",
     "text": [
      "could not detect version_main.therefore, we are assuming it is chrome 108 or higher\n"
     ]
    },
    {
     "name": "stdout",
     "output_type": "stream",
     "text": [
      "Saved to db successfully\n",
      "Done with link 46148: https://www.zoopla.co.uk/for-sale/details/64649741/?search_identifier=649d6080f90e23d552b662da2c733ccb9ce93215faddef8f5ce6810db492a583\n",
      "Starting extraction for link 46149: https://www.zoopla.co.uk/for-sale/details/65203259/?search_identifier=649d6080f90e23d552b662da2c733ccb9ce93215faddef8f5ce6810db492a583\n"
     ]
    },
    {
     "name": "stderr",
     "output_type": "stream",
     "text": [
      "could not detect version_main.therefore, we are assuming it is chrome 108 or higher\n"
     ]
    },
    {
     "name": "stdout",
     "output_type": "stream",
     "text": [
      "Saved to db successfully\n",
      "Done with link 46149: https://www.zoopla.co.uk/for-sale/details/65203259/?search_identifier=649d6080f90e23d552b662da2c733ccb9ce93215faddef8f5ce6810db492a583\n",
      "Starting extraction for link 46150: https://www.zoopla.co.uk/for-sale/details/56186681/?search_identifier=649d6080f90e23d552b662da2c733ccb9ce93215faddef8f5ce6810db492a583\n"
     ]
    },
    {
     "name": "stderr",
     "output_type": "stream",
     "text": [
      "could not detect version_main.therefore, we are assuming it is chrome 108 or higher\n"
     ]
    },
    {
     "name": "stdout",
     "output_type": "stream",
     "text": [
      "Saved to db successfully\n",
      "Done with link 46150: https://www.zoopla.co.uk/for-sale/details/56186681/?search_identifier=649d6080f90e23d552b662da2c733ccb9ce93215faddef8f5ce6810db492a583\n",
      "Starting extraction for link 46151: https://www.zoopla.co.uk/for-sale/details/64628519/?search_identifier=649d6080f90e23d552b662da2c733ccb9ce93215faddef8f5ce6810db492a583\n"
     ]
    },
    {
     "name": "stderr",
     "output_type": "stream",
     "text": [
      "could not detect version_main.therefore, we are assuming it is chrome 108 or higher\n"
     ]
    },
    {
     "name": "stdout",
     "output_type": "stream",
     "text": [
      "Saved to db successfully\n",
      "Done with link 46151: https://www.zoopla.co.uk/for-sale/details/64628519/?search_identifier=649d6080f90e23d552b662da2c733ccb9ce93215faddef8f5ce6810db492a583\n",
      "Starting extraction for link 46152: https://www.zoopla.co.uk/for-sale/details/64618853/?search_identifier=649d6080f90e23d552b662da2c733ccb9ce93215faddef8f5ce6810db492a583\n",
      "An error occurred for link in get_data_func: https://www.zoopla.co.uk/for-sale/details/64618853/?search_identifier=649d6080f90e23d552b662da2c733ccb9ce93215faddef8f5ce6810db492a583: Message: no such element: Unable to locate element: {\"method\":\"xpath\",\"selector\":\"//p[@data-testid=\"price\"]\"}\n",
      "  (Session info: chrome=115.0.5790.171); For documentation on this error, please visit: https://www.selenium.dev/documentation/webdriver/troubleshooting/errors#no-such-element-exception\n",
      "Stacktrace:\n",
      "Backtrace:\n",
      "\tGetHandleVerifier [0x0073A813+48355]\n",
      "\t(No symbol) [0x006CC4B1]\n",
      "\t(No symbol) [0x005D5358]\n",
      "\t(No symbol) [0x006009A5]\n",
      "\t(No symbol) [0x00600B3B]\n",
      "\t(No symbol) [0x0062E232]\n",
      "\t(No symbol) [0x0061A784]\n",
      "\t(No symbol) [0x0062C922]\n",
      "\t(No symbol) [0x0061A536]\n",
      "\t(No symbol) [0x005F82DC]\n",
      "\t(No symbol) [0x005F93DD]\n",
      "\tGetHandleVerifier [0x0099AABD+2539405]\n",
      "\tGetHandleVerifier [0x009DA78F+2800735]\n",
      "\tGetHandleVerifier [0x009D456C+2775612]\n",
      "\tGetHandleVerifier [0x007C51E0+616112]\n",
      "\t(No symbol) [0x006D5F8C]\n",
      "\t(No symbol) [0x006D2328]\n",
      "\t(No symbol) [0x006D240B]\n",
      "\t(No symbol) [0x006C4FF7]\n",
      "\tBaseThreadInitThunk [0x761E7D59+25]\n",
      "\tRtlInitializeExceptionChain [0x773DB79B+107]\n",
      "\tRtlClearBits [0x773DB71F+191]\n",
      "\n"
     ]
    },
    {
     "name": "stderr",
     "output_type": "stream",
     "text": [
      "could not detect version_main.therefore, we are assuming it is chrome 108 or higher\n"
     ]
    },
    {
     "name": "stdout",
     "output_type": "stream",
     "text": [
      "Saved to db successfully\n",
      "Done with link 46152: https://www.zoopla.co.uk/for-sale/details/64618853/?search_identifier=649d6080f90e23d552b662da2c733ccb9ce93215faddef8f5ce6810db492a583\n",
      "Starting extraction for link 46153: https://www.zoopla.co.uk/for-sale/details/62403008/?search_identifier=fabcd6b9736148f1042ea2eeb77a8e522d877167cb60c01d465caaaaa29453bb\n",
      "An error occurred for link in get_data_func: https://www.zoopla.co.uk/for-sale/details/62403008/?search_identifier=fabcd6b9736148f1042ea2eeb77a8e522d877167cb60c01d465caaaaa29453bb: Message: no such element: Unable to locate element: {\"method\":\"xpath\",\"selector\":\"//p[@data-testid=\"price\"]\"}\n",
      "  (Session info: chrome=115.0.5790.171); For documentation on this error, please visit: https://www.selenium.dev/documentation/webdriver/troubleshooting/errors#no-such-element-exception\n",
      "Stacktrace:\n",
      "Backtrace:\n",
      "\tGetHandleVerifier [0x0073A813+48355]\n",
      "\t(No symbol) [0x006CC4B1]\n",
      "\t(No symbol) [0x005D5358]\n",
      "\t(No symbol) [0x006009A5]\n",
      "\t(No symbol) [0x00600B3B]\n",
      "\t(No symbol) [0x0062E232]\n",
      "\t(No symbol) [0x0061A784]\n",
      "\t(No symbol) [0x0062C922]\n",
      "\t(No symbol) [0x0061A536]\n",
      "\t(No symbol) [0x005F82DC]\n",
      "\t(No symbol) [0x005F93DD]\n",
      "\tGetHandleVerifier [0x0099AABD+2539405]\n",
      "\tGetHandleVerifier [0x009DA78F+2800735]\n",
      "\tGetHandleVerifier [0x009D456C+2775612]\n",
      "\tGetHandleVerifier [0x007C51E0+616112]\n",
      "\t(No symbol) [0x006D5F8C]\n",
      "\t(No symbol) [0x006D2328]\n",
      "\t(No symbol) [0x006D240B]\n",
      "\t(No symbol) [0x006C4FF7]\n",
      "\tBaseThreadInitThunk [0x761E7D59+25]\n",
      "\tRtlInitializeExceptionChain [0x773DB79B+107]\n",
      "\tRtlClearBits [0x773DB71F+191]\n",
      "\n"
     ]
    },
    {
     "name": "stderr",
     "output_type": "stream",
     "text": [
      "could not detect version_main.therefore, we are assuming it is chrome 108 or higher\n"
     ]
    },
    {
     "name": "stdout",
     "output_type": "stream",
     "text": [
      "Saved to db successfully\n",
      "Done with link 46153: https://www.zoopla.co.uk/for-sale/details/62403008/?search_identifier=fabcd6b9736148f1042ea2eeb77a8e522d877167cb60c01d465caaaaa29453bb\n",
      "Starting extraction for link 46154: https://www.zoopla.co.uk/for-sale/details/64607623/?search_identifier=fabcd6b9736148f1042ea2eeb77a8e522d877167cb60c01d465caaaaa29453bb\n"
     ]
    },
    {
     "name": "stderr",
     "output_type": "stream",
     "text": [
      "could not detect version_main.therefore, we are assuming it is chrome 108 or higher\n"
     ]
    },
    {
     "name": "stdout",
     "output_type": "stream",
     "text": [
      "Saved to db successfully\n",
      "Done with link 46154: https://www.zoopla.co.uk/for-sale/details/64607623/?search_identifier=fabcd6b9736148f1042ea2eeb77a8e522d877167cb60c01d465caaaaa29453bb\n",
      "Starting extraction for link 46155: https://www.zoopla.co.uk/for-sale/details/64603245/?search_identifier=fabcd6b9736148f1042ea2eeb77a8e522d877167cb60c01d465caaaaa29453bb\n",
      "An error occurred for link in get_data_func: https://www.zoopla.co.uk/for-sale/details/64603245/?search_identifier=fabcd6b9736148f1042ea2eeb77a8e522d877167cb60c01d465caaaaa29453bb: Message: no such element: Unable to locate element: {\"method\":\"xpath\",\"selector\":\"//p[@data-testid=\"price\"]\"}\n",
      "  (Session info: chrome=115.0.5790.171); For documentation on this error, please visit: https://www.selenium.dev/documentation/webdriver/troubleshooting/errors#no-such-element-exception\n",
      "Stacktrace:\n",
      "Backtrace:\n",
      "\tGetHandleVerifier [0x0073A813+48355]\n",
      "\t(No symbol) [0x006CC4B1]\n",
      "\t(No symbol) [0x005D5358]\n",
      "\t(No symbol) [0x006009A5]\n",
      "\t(No symbol) [0x00600B3B]\n",
      "\t(No symbol) [0x0062E232]\n",
      "\t(No symbol) [0x0061A784]\n",
      "\t(No symbol) [0x0062C922]\n",
      "\t(No symbol) [0x0061A536]\n",
      "\t(No symbol) [0x005F82DC]\n",
      "\t(No symbol) [0x005F93DD]\n",
      "\tGetHandleVerifier [0x0099AABD+2539405]\n",
      "\tGetHandleVerifier [0x009DA78F+2800735]\n",
      "\tGetHandleVerifier [0x009D456C+2775612]\n",
      "\tGetHandleVerifier [0x007C51E0+616112]\n",
      "\t(No symbol) [0x006D5F8C]\n",
      "\t(No symbol) [0x006D2328]\n",
      "\t(No symbol) [0x006D240B]\n",
      "\t(No symbol) [0x006C4FF7]\n",
      "\tBaseThreadInitThunk [0x761E7D59+25]\n",
      "\tRtlInitializeExceptionChain [0x773DB79B+107]\n",
      "\tRtlClearBits [0x773DB71F+191]\n",
      "\n"
     ]
    },
    {
     "name": "stderr",
     "output_type": "stream",
     "text": [
      "could not detect version_main.therefore, we are assuming it is chrome 108 or higher\n"
     ]
    },
    {
     "name": "stdout",
     "output_type": "stream",
     "text": [
      "Saved to db successfully\n",
      "Done with link 46155: https://www.zoopla.co.uk/for-sale/details/64603245/?search_identifier=fabcd6b9736148f1042ea2eeb77a8e522d877167cb60c01d465caaaaa29453bb\n",
      "Starting extraction for link 46156: https://www.zoopla.co.uk/for-sale/details/64596520/?search_identifier=fabcd6b9736148f1042ea2eeb77a8e522d877167cb60c01d465caaaaa29453bb\n"
     ]
    },
    {
     "name": "stderr",
     "output_type": "stream",
     "text": [
      "could not detect version_main.therefore, we are assuming it is chrome 108 or higher\n"
     ]
    },
    {
     "name": "stdout",
     "output_type": "stream",
     "text": [
      "Saved to db successfully\n",
      "Done with link 46156: https://www.zoopla.co.uk/for-sale/details/64596520/?search_identifier=fabcd6b9736148f1042ea2eeb77a8e522d877167cb60c01d465caaaaa29453bb\n",
      "Starting extraction for link 46157: https://www.zoopla.co.uk/for-sale/details/63469514/?search_identifier=fabcd6b9736148f1042ea2eeb77a8e522d877167cb60c01d465caaaaa29453bb\n"
     ]
    },
    {
     "name": "stderr",
     "output_type": "stream",
     "text": [
      "could not detect version_main.therefore, we are assuming it is chrome 108 or higher\n"
     ]
    },
    {
     "name": "stdout",
     "output_type": "stream",
     "text": [
      "Saved to db successfully\n",
      "Done with link 46157: https://www.zoopla.co.uk/for-sale/details/63469514/?search_identifier=fabcd6b9736148f1042ea2eeb77a8e522d877167cb60c01d465caaaaa29453bb\n",
      "Starting extraction for link 46158: https://www.zoopla.co.uk/for-sale/details/64584928/?search_identifier=fabcd6b9736148f1042ea2eeb77a8e522d877167cb60c01d465caaaaa29453bb\n"
     ]
    },
    {
     "name": "stderr",
     "output_type": "stream",
     "text": [
      "could not detect version_main.therefore, we are assuming it is chrome 108 or higher\n"
     ]
    },
    {
     "name": "stdout",
     "output_type": "stream",
     "text": [
      "Saved to db successfully\n",
      "Done with link 46158: https://www.zoopla.co.uk/for-sale/details/64584928/?search_identifier=fabcd6b9736148f1042ea2eeb77a8e522d877167cb60c01d465caaaaa29453bb\n",
      "Starting extraction for link 46159: https://www.zoopla.co.uk/for-sale/details/64580476/?search_identifier=fabcd6b9736148f1042ea2eeb77a8e522d877167cb60c01d465caaaaa29453bb\n"
     ]
    },
    {
     "name": "stderr",
     "output_type": "stream",
     "text": [
      "could not detect version_main.therefore, we are assuming it is chrome 108 or higher\n"
     ]
    },
    {
     "name": "stdout",
     "output_type": "stream",
     "text": [
      "Saved to db successfully\n",
      "Done with link 46159: https://www.zoopla.co.uk/for-sale/details/64580476/?search_identifier=fabcd6b9736148f1042ea2eeb77a8e522d877167cb60c01d465caaaaa29453bb\n",
      "Starting extraction for link 46160: https://www.zoopla.co.uk/for-sale/details/64575993/?search_identifier=fabcd6b9736148f1042ea2eeb77a8e522d877167cb60c01d465caaaaa29453bb\n"
     ]
    },
    {
     "name": "stderr",
     "output_type": "stream",
     "text": [
      "could not detect version_main.therefore, we are assuming it is chrome 108 or higher\n"
     ]
    },
    {
     "name": "stdout",
     "output_type": "stream",
     "text": [
      "Saved to db successfully\n",
      "Done with link 46160: https://www.zoopla.co.uk/for-sale/details/64575993/?search_identifier=fabcd6b9736148f1042ea2eeb77a8e522d877167cb60c01d465caaaaa29453bb\n",
      "Starting extraction for link 46161: https://www.zoopla.co.uk/for-sale/details/64587109/?search_identifier=fabcd6b9736148f1042ea2eeb77a8e522d877167cb60c01d465caaaaa29453bb\n"
     ]
    },
    {
     "name": "stderr",
     "output_type": "stream",
     "text": [
      "could not detect version_main.therefore, we are assuming it is chrome 108 or higher\n"
     ]
    },
    {
     "name": "stdout",
     "output_type": "stream",
     "text": [
      "Saved to db successfully\n",
      "Done with link 46161: https://www.zoopla.co.uk/for-sale/details/64587109/?search_identifier=fabcd6b9736148f1042ea2eeb77a8e522d877167cb60c01d465caaaaa29453bb\n",
      "Starting extraction for link 46162: https://www.zoopla.co.uk/for-sale/details/63449989/?search_identifier=fabcd6b9736148f1042ea2eeb77a8e522d877167cb60c01d465caaaaa29453bb\n"
     ]
    },
    {
     "name": "stderr",
     "output_type": "stream",
     "text": [
      "could not detect version_main.therefore, we are assuming it is chrome 108 or higher\n"
     ]
    },
    {
     "name": "stdout",
     "output_type": "stream",
     "text": [
      "Saved to db successfully\n",
      "Done with link 46162: https://www.zoopla.co.uk/for-sale/details/63449989/?search_identifier=fabcd6b9736148f1042ea2eeb77a8e522d877167cb60c01d465caaaaa29453bb\n",
      "Starting extraction for link 46163: https://www.zoopla.co.uk/for-sale/details/62724654/?search_identifier=fabcd6b9736148f1042ea2eeb77a8e522d877167cb60c01d465caaaaa29453bb\n"
     ]
    },
    {
     "name": "stderr",
     "output_type": "stream",
     "text": [
      "could not detect version_main.therefore, we are assuming it is chrome 108 or higher\n"
     ]
    },
    {
     "name": "stdout",
     "output_type": "stream",
     "text": [
      "Saved to db successfully\n",
      "Done with link 46163: https://www.zoopla.co.uk/for-sale/details/62724654/?search_identifier=fabcd6b9736148f1042ea2eeb77a8e522d877167cb60c01d465caaaaa29453bb\n",
      "Starting extraction for link 46164: https://www.zoopla.co.uk/for-sale/details/64542095/?search_identifier=fabcd6b9736148f1042ea2eeb77a8e522d877167cb60c01d465caaaaa29453bb\n"
     ]
    },
    {
     "name": "stderr",
     "output_type": "stream",
     "text": [
      "could not detect version_main.therefore, we are assuming it is chrome 108 or higher\n"
     ]
    },
    {
     "name": "stdout",
     "output_type": "stream",
     "text": [
      "Saved to db successfully\n",
      "Done with link 46164: https://www.zoopla.co.uk/for-sale/details/64542095/?search_identifier=fabcd6b9736148f1042ea2eeb77a8e522d877167cb60c01d465caaaaa29453bb\n",
      "Starting extraction for link 46165: https://www.zoopla.co.uk/for-sale/details/64530541/?search_identifier=fabcd6b9736148f1042ea2eeb77a8e522d877167cb60c01d465caaaaa29453bb\n",
      "An error occurred for link in get_data_func: https://www.zoopla.co.uk/for-sale/details/64530541/?search_identifier=fabcd6b9736148f1042ea2eeb77a8e522d877167cb60c01d465caaaaa29453bb: Message: no such element: Unable to locate element: {\"method\":\"xpath\",\"selector\":\"//p[@data-testid=\"price\"]\"}\n",
      "  (Session info: chrome=115.0.5790.171); For documentation on this error, please visit: https://www.selenium.dev/documentation/webdriver/troubleshooting/errors#no-such-element-exception\n",
      "Stacktrace:\n",
      "Backtrace:\n",
      "\tGetHandleVerifier [0x0073A813+48355]\n",
      "\t(No symbol) [0x006CC4B1]\n",
      "\t(No symbol) [0x005D5358]\n",
      "\t(No symbol) [0x006009A5]\n",
      "\t(No symbol) [0x00600B3B]\n",
      "\t(No symbol) [0x0062E232]\n",
      "\t(No symbol) [0x0061A784]\n",
      "\t(No symbol) [0x0062C922]\n",
      "\t(No symbol) [0x0061A536]\n",
      "\t(No symbol) [0x005F82DC]\n",
      "\t(No symbol) [0x005F93DD]\n",
      "\tGetHandleVerifier [0x0099AABD+2539405]\n",
      "\tGetHandleVerifier [0x009DA78F+2800735]\n",
      "\tGetHandleVerifier [0x009D456C+2775612]\n",
      "\tGetHandleVerifier [0x007C51E0+616112]\n",
      "\t(No symbol) [0x006D5F8C]\n",
      "\t(No symbol) [0x006D2328]\n",
      "\t(No symbol) [0x006D240B]\n",
      "\t(No symbol) [0x006C4FF7]\n",
      "\tBaseThreadInitThunk [0x761E7D59+25]\n",
      "\tRtlInitializeExceptionChain [0x773DB79B+107]\n",
      "\tRtlClearBits [0x773DB71F+191]\n",
      "\n"
     ]
    },
    {
     "name": "stderr",
     "output_type": "stream",
     "text": [
      "could not detect version_main.therefore, we are assuming it is chrome 108 or higher\n"
     ]
    },
    {
     "name": "stdout",
     "output_type": "stream",
     "text": [
      "Saved to db successfully\n",
      "Done with link 46165: https://www.zoopla.co.uk/for-sale/details/64530541/?search_identifier=fabcd6b9736148f1042ea2eeb77a8e522d877167cb60c01d465caaaaa29453bb\n",
      "Starting extraction for link 46166: https://www.zoopla.co.uk/for-sale/details/64524260/?search_identifier=fabcd6b9736148f1042ea2eeb77a8e522d877167cb60c01d465caaaaa29453bb\n"
     ]
    },
    {
     "name": "stderr",
     "output_type": "stream",
     "text": [
      "could not detect version_main.therefore, we are assuming it is chrome 108 or higher\n"
     ]
    },
    {
     "name": "stdout",
     "output_type": "stream",
     "text": [
      "Saved to db successfully\n",
      "Done with link 46166: https://www.zoopla.co.uk/for-sale/details/64524260/?search_identifier=fabcd6b9736148f1042ea2eeb77a8e522d877167cb60c01d465caaaaa29453bb\n",
      "Starting extraction for link 46167: https://www.zoopla.co.uk/for-sale/details/64512031/?search_identifier=fabcd6b9736148f1042ea2eeb77a8e522d877167cb60c01d465caaaaa29453bb\n",
      "An error occurred for link in get_data_func: https://www.zoopla.co.uk/for-sale/details/64512031/?search_identifier=fabcd6b9736148f1042ea2eeb77a8e522d877167cb60c01d465caaaaa29453bb: Message: no such element: Unable to locate element: {\"method\":\"xpath\",\"selector\":\"//p[@data-testid=\"price\"]\"}\n",
      "  (Session info: chrome=115.0.5790.171); For documentation on this error, please visit: https://www.selenium.dev/documentation/webdriver/troubleshooting/errors#no-such-element-exception\n",
      "Stacktrace:\n",
      "Backtrace:\n",
      "\tGetHandleVerifier [0x0073A813+48355]\n",
      "\t(No symbol) [0x006CC4B1]\n",
      "\t(No symbol) [0x005D5358]\n",
      "\t(No symbol) [0x006009A5]\n",
      "\t(No symbol) [0x00600B3B]\n",
      "\t(No symbol) [0x0062E232]\n",
      "\t(No symbol) [0x0061A784]\n",
      "\t(No symbol) [0x0062C922]\n",
      "\t(No symbol) [0x0061A536]\n",
      "\t(No symbol) [0x005F82DC]\n",
      "\t(No symbol) [0x005F93DD]\n",
      "\tGetHandleVerifier [0x0099AABD+2539405]\n",
      "\tGetHandleVerifier [0x009DA78F+2800735]\n",
      "\tGetHandleVerifier [0x009D456C+2775612]\n",
      "\tGetHandleVerifier [0x007C51E0+616112]\n",
      "\t(No symbol) [0x006D5F8C]\n",
      "\t(No symbol) [0x006D2328]\n",
      "\t(No symbol) [0x006D240B]\n",
      "\t(No symbol) [0x006C4FF7]\n",
      "\tBaseThreadInitThunk [0x761E7D59+25]\n",
      "\tRtlInitializeExceptionChain [0x773DB79B+107]\n",
      "\tRtlClearBits [0x773DB71F+191]\n",
      "\n"
     ]
    },
    {
     "name": "stderr",
     "output_type": "stream",
     "text": [
      "could not detect version_main.therefore, we are assuming it is chrome 108 or higher\n"
     ]
    },
    {
     "name": "stdout",
     "output_type": "stream",
     "text": [
      "Saved to db successfully\n",
      "Done with link 46167: https://www.zoopla.co.uk/for-sale/details/64512031/?search_identifier=fabcd6b9736148f1042ea2eeb77a8e522d877167cb60c01d465caaaaa29453bb\n",
      "Starting extraction for link 46168: https://www.zoopla.co.uk/new-homes/details/64509213/?search_identifier=fabcd6b9736148f1042ea2eeb77a8e522d877167cb60c01d465caaaaa29453bb\n"
     ]
    },
    {
     "name": "stderr",
     "output_type": "stream",
     "text": [
      "could not detect version_main.therefore, we are assuming it is chrome 108 or higher\n"
     ]
    },
    {
     "name": "stdout",
     "output_type": "stream",
     "text": [
      "Saved to db successfully\n",
      "Done with link 46168: https://www.zoopla.co.uk/new-homes/details/64509213/?search_identifier=fabcd6b9736148f1042ea2eeb77a8e522d877167cb60c01d465caaaaa29453bb\n",
      "Starting extraction for link 46169: https://www.zoopla.co.uk/new-homes/details/64715079/?search_identifier=fabcd6b9736148f1042ea2eeb77a8e522d877167cb60c01d465caaaaa29453bb\n"
     ]
    },
    {
     "name": "stderr",
     "output_type": "stream",
     "text": [
      "could not detect version_main.therefore, we are assuming it is chrome 108 or higher\n"
     ]
    },
    {
     "name": "stdout",
     "output_type": "stream",
     "text": [
      "Saved to db successfully\n",
      "Done with link 46169: https://www.zoopla.co.uk/new-homes/details/64715079/?search_identifier=fabcd6b9736148f1042ea2eeb77a8e522d877167cb60c01d465caaaaa29453bb\n",
      "Starting extraction for link 46170: https://www.zoopla.co.uk/new-homes/details/64509194/?search_identifier=fabcd6b9736148f1042ea2eeb77a8e522d877167cb60c01d465caaaaa29453bb\n"
     ]
    },
    {
     "name": "stderr",
     "output_type": "stream",
     "text": [
      "could not detect version_main.therefore, we are assuming it is chrome 108 or higher\n"
     ]
    },
    {
     "name": "stdout",
     "output_type": "stream",
     "text": [
      "Saved to db successfully\n",
      "Done with link 46170: https://www.zoopla.co.uk/new-homes/details/64509194/?search_identifier=fabcd6b9736148f1042ea2eeb77a8e522d877167cb60c01d465caaaaa29453bb\n",
      "Starting extraction for link 46171: https://www.zoopla.co.uk/new-homes/details/64715065/?search_identifier=fabcd6b9736148f1042ea2eeb77a8e522d877167cb60c01d465caaaaa29453bb\n"
     ]
    },
    {
     "name": "stderr",
     "output_type": "stream",
     "text": [
      "could not detect version_main.therefore, we are assuming it is chrome 108 or higher\n"
     ]
    },
    {
     "name": "stdout",
     "output_type": "stream",
     "text": [
      "Saved to db successfully\n",
      "Done with link 46171: https://www.zoopla.co.uk/new-homes/details/64715065/?search_identifier=fabcd6b9736148f1042ea2eeb77a8e522d877167cb60c01d465caaaaa29453bb\n",
      "Starting extraction for link 46172: https://www.zoopla.co.uk/for-sale/details/64497225/?search_identifier=fabcd6b9736148f1042ea2eeb77a8e522d877167cb60c01d465caaaaa29453bb\n"
     ]
    },
    {
     "name": "stderr",
     "output_type": "stream",
     "text": [
      "could not detect version_main.therefore, we are assuming it is chrome 108 or higher\n"
     ]
    },
    {
     "name": "stdout",
     "output_type": "stream",
     "text": [
      "Saved to db successfully\n",
      "Done with link 46172: https://www.zoopla.co.uk/for-sale/details/64497225/?search_identifier=fabcd6b9736148f1042ea2eeb77a8e522d877167cb60c01d465caaaaa29453bb\n",
      "Starting extraction for link 46173: https://www.zoopla.co.uk/for-sale/details/64497221/?search_identifier=fabcd6b9736148f1042ea2eeb77a8e522d877167cb60c01d465caaaaa29453bb\n"
     ]
    },
    {
     "name": "stderr",
     "output_type": "stream",
     "text": [
      "could not detect version_main.therefore, we are assuming it is chrome 108 or higher\n"
     ]
    },
    {
     "name": "stdout",
     "output_type": "stream",
     "text": [
      "Saved to db successfully\n",
      "Done with link 46173: https://www.zoopla.co.uk/for-sale/details/64497221/?search_identifier=fabcd6b9736148f1042ea2eeb77a8e522d877167cb60c01d465caaaaa29453bb\n",
      "Starting extraction for link 46174: https://www.zoopla.co.uk/for-sale/details/60413478/?search_identifier=fabcd6b9736148f1042ea2eeb77a8e522d877167cb60c01d465caaaaa29453bb\n"
     ]
    },
    {
     "name": "stderr",
     "output_type": "stream",
     "text": [
      "could not detect version_main.therefore, we are assuming it is chrome 108 or higher\n"
     ]
    },
    {
     "name": "stdout",
     "output_type": "stream",
     "text": [
      "Saved to db successfully\n",
      "Done with link 46174: https://www.zoopla.co.uk/for-sale/details/60413478/?search_identifier=fabcd6b9736148f1042ea2eeb77a8e522d877167cb60c01d465caaaaa29453bb\n",
      "Starting extraction for link 46175: https://www.zoopla.co.uk/for-sale/details/64492902/?search_identifier=fabcd6b9736148f1042ea2eeb77a8e522d877167cb60c01d465caaaaa29453bb\n"
     ]
    },
    {
     "name": "stderr",
     "output_type": "stream",
     "text": [
      "could not detect version_main.therefore, we are assuming it is chrome 108 or higher\n"
     ]
    },
    {
     "name": "stdout",
     "output_type": "stream",
     "text": [
      "Saved to db successfully\n",
      "Done with link 46175: https://www.zoopla.co.uk/for-sale/details/64492902/?search_identifier=fabcd6b9736148f1042ea2eeb77a8e522d877167cb60c01d465caaaaa29453bb\n",
      "Starting extraction for link 46176: https://www.zoopla.co.uk/for-sale/details/64473368/?search_identifier=fabcd6b9736148f1042ea2eeb77a8e522d877167cb60c01d465caaaaa29453bb\n"
     ]
    },
    {
     "name": "stderr",
     "output_type": "stream",
     "text": [
      "could not detect version_main.therefore, we are assuming it is chrome 108 or higher\n"
     ]
    },
    {
     "name": "stdout",
     "output_type": "stream",
     "text": [
      "Saved to db successfully\n",
      "Done with link 46176: https://www.zoopla.co.uk/for-sale/details/64473368/?search_identifier=fabcd6b9736148f1042ea2eeb77a8e522d877167cb60c01d465caaaaa29453bb\n",
      "Starting extraction for link 46177: https://www.zoopla.co.uk/for-sale/details/64444225/?search_identifier=fabcd6b9736148f1042ea2eeb77a8e522d877167cb60c01d465caaaaa29453bb\n"
     ]
    },
    {
     "name": "stderr",
     "output_type": "stream",
     "text": [
      "could not detect version_main.therefore, we are assuming it is chrome 108 or higher\n"
     ]
    },
    {
     "name": "stdout",
     "output_type": "stream",
     "text": [
      "Saved to db successfully\n",
      "Done with link 46177: https://www.zoopla.co.uk/for-sale/details/64444225/?search_identifier=fabcd6b9736148f1042ea2eeb77a8e522d877167cb60c01d465caaaaa29453bb\n",
      "Starting extraction for link 46178: https://www.zoopla.co.uk/for-sale/details/64442053/?search_identifier=d7192428e2c645ea3a26cb49db9d2f7b8f1da09dff279f6fc7f3c3d772ba3b22\n"
     ]
    },
    {
     "name": "stderr",
     "output_type": "stream",
     "text": [
      "could not detect version_main.therefore, we are assuming it is chrome 108 or higher\n"
     ]
    },
    {
     "name": "stdout",
     "output_type": "stream",
     "text": [
      "Saved to db successfully\n",
      "Done with link 46178: https://www.zoopla.co.uk/for-sale/details/64442053/?search_identifier=d7192428e2c645ea3a26cb49db9d2f7b8f1da09dff279f6fc7f3c3d772ba3b22\n",
      "Starting extraction for link 46179: https://www.zoopla.co.uk/for-sale/details/64412650/?search_identifier=d7192428e2c645ea3a26cb49db9d2f7b8f1da09dff279f6fc7f3c3d772ba3b22\n"
     ]
    },
    {
     "name": "stderr",
     "output_type": "stream",
     "text": [
      "could not detect version_main.therefore, we are assuming it is chrome 108 or higher\n"
     ]
    },
    {
     "name": "stdout",
     "output_type": "stream",
     "text": [
      "Saved to db successfully\n",
      "Done with link 46179: https://www.zoopla.co.uk/for-sale/details/64412650/?search_identifier=d7192428e2c645ea3a26cb49db9d2f7b8f1da09dff279f6fc7f3c3d772ba3b22\n",
      "Starting extraction for link 46180: https://www.zoopla.co.uk/for-sale/details/64412319/?search_identifier=d7192428e2c645ea3a26cb49db9d2f7b8f1da09dff279f6fc7f3c3d772ba3b22\n"
     ]
    },
    {
     "name": "stderr",
     "output_type": "stream",
     "text": [
      "could not detect version_main.therefore, we are assuming it is chrome 108 or higher\n"
     ]
    },
    {
     "name": "stdout",
     "output_type": "stream",
     "text": [
      "Saved to db successfully\n",
      "Done with link 46180: https://www.zoopla.co.uk/for-sale/details/64412319/?search_identifier=d7192428e2c645ea3a26cb49db9d2f7b8f1da09dff279f6fc7f3c3d772ba3b22\n",
      "Starting extraction for link 46181: https://www.zoopla.co.uk/for-sale/details/64393649/?search_identifier=d7192428e2c645ea3a26cb49db9d2f7b8f1da09dff279f6fc7f3c3d772ba3b22\n",
      "An error occurred for link in get_data_func: https://www.zoopla.co.uk/for-sale/details/64393649/?search_identifier=d7192428e2c645ea3a26cb49db9d2f7b8f1da09dff279f6fc7f3c3d772ba3b22: Message: no such element: Unable to locate element: {\"method\":\"xpath\",\"selector\":\"//p[@data-testid=\"price\"]\"}\n",
      "  (Session info: chrome=115.0.5790.171); For documentation on this error, please visit: https://www.selenium.dev/documentation/webdriver/troubleshooting/errors#no-such-element-exception\n",
      "Stacktrace:\n",
      "Backtrace:\n",
      "\tGetHandleVerifier [0x0073A813+48355]\n",
      "\t(No symbol) [0x006CC4B1]\n",
      "\t(No symbol) [0x005D5358]\n",
      "\t(No symbol) [0x006009A5]\n",
      "\t(No symbol) [0x00600B3B]\n",
      "\t(No symbol) [0x0062E232]\n",
      "\t(No symbol) [0x0061A784]\n",
      "\t(No symbol) [0x0062C922]\n",
      "\t(No symbol) [0x0061A536]\n",
      "\t(No symbol) [0x005F82DC]\n",
      "\t(No symbol) [0x005F93DD]\n",
      "\tGetHandleVerifier [0x0099AABD+2539405]\n",
      "\tGetHandleVerifier [0x009DA78F+2800735]\n",
      "\tGetHandleVerifier [0x009D456C+2775612]\n",
      "\tGetHandleVerifier [0x007C51E0+616112]\n",
      "\t(No symbol) [0x006D5F8C]\n",
      "\t(No symbol) [0x006D2328]\n",
      "\t(No symbol) [0x006D240B]\n",
      "\t(No symbol) [0x006C4FF7]\n",
      "\tBaseThreadInitThunk [0x761E7D59+25]\n",
      "\tRtlInitializeExceptionChain [0x773DB79B+107]\n",
      "\tRtlClearBits [0x773DB71F+191]\n",
      "\n"
     ]
    },
    {
     "name": "stderr",
     "output_type": "stream",
     "text": [
      "could not detect version_main.therefore, we are assuming it is chrome 108 or higher\n"
     ]
    },
    {
     "name": "stdout",
     "output_type": "stream",
     "text": [
      "Saved to db successfully\n",
      "Done with link 46181: https://www.zoopla.co.uk/for-sale/details/64393649/?search_identifier=d7192428e2c645ea3a26cb49db9d2f7b8f1da09dff279f6fc7f3c3d772ba3b22\n",
      "Starting extraction for link 46182: https://www.zoopla.co.uk/for-sale/details/64384405/?search_identifier=d7192428e2c645ea3a26cb49db9d2f7b8f1da09dff279f6fc7f3c3d772ba3b22\n"
     ]
    },
    {
     "name": "stderr",
     "output_type": "stream",
     "text": [
      "could not detect version_main.therefore, we are assuming it is chrome 108 or higher\n"
     ]
    },
    {
     "name": "stdout",
     "output_type": "stream",
     "text": [
      "Saved to db successfully\n",
      "Done with link 46182: https://www.zoopla.co.uk/for-sale/details/64384405/?search_identifier=d7192428e2c645ea3a26cb49db9d2f7b8f1da09dff279f6fc7f3c3d772ba3b22\n",
      "Starting extraction for link 46183: https://www.zoopla.co.uk/for-sale/details/64365235/?search_identifier=d7192428e2c645ea3a26cb49db9d2f7b8f1da09dff279f6fc7f3c3d772ba3b22\n"
     ]
    },
    {
     "name": "stderr",
     "output_type": "stream",
     "text": [
      "could not detect version_main.therefore, we are assuming it is chrome 108 or higher\n"
     ]
    },
    {
     "name": "stdout",
     "output_type": "stream",
     "text": [
      "Saved to db successfully\n",
      "Done with link 46183: https://www.zoopla.co.uk/for-sale/details/64365235/?search_identifier=d7192428e2c645ea3a26cb49db9d2f7b8f1da09dff279f6fc7f3c3d772ba3b22\n",
      "Starting extraction for link 46184: https://www.zoopla.co.uk/for-sale/details/64353318/?search_identifier=d7192428e2c645ea3a26cb49db9d2f7b8f1da09dff279f6fc7f3c3d772ba3b22\n"
     ]
    },
    {
     "name": "stderr",
     "output_type": "stream",
     "text": [
      "could not detect version_main.therefore, we are assuming it is chrome 108 or higher\n"
     ]
    },
    {
     "name": "stdout",
     "output_type": "stream",
     "text": [
      "Saved to db successfully\n",
      "Done with link 46184: https://www.zoopla.co.uk/for-sale/details/64353318/?search_identifier=d7192428e2c645ea3a26cb49db9d2f7b8f1da09dff279f6fc7f3c3d772ba3b22\n",
      "Starting extraction for link 46185: https://www.zoopla.co.uk/for-sale/details/64307326/?search_identifier=d7192428e2c645ea3a26cb49db9d2f7b8f1da09dff279f6fc7f3c3d772ba3b22\n"
     ]
    },
    {
     "name": "stderr",
     "output_type": "stream",
     "text": [
      "could not detect version_main.therefore, we are assuming it is chrome 108 or higher\n"
     ]
    },
    {
     "name": "stdout",
     "output_type": "stream",
     "text": [
      "Saved to db successfully\n",
      "Done with link 46185: https://www.zoopla.co.uk/for-sale/details/64307326/?search_identifier=d7192428e2c645ea3a26cb49db9d2f7b8f1da09dff279f6fc7f3c3d772ba3b22\n",
      "Starting extraction for link 46186: https://www.zoopla.co.uk/for-sale/details/64302743/?search_identifier=d7192428e2c645ea3a26cb49db9d2f7b8f1da09dff279f6fc7f3c3d772ba3b22\n"
     ]
    },
    {
     "name": "stderr",
     "output_type": "stream",
     "text": [
      "could not detect version_main.therefore, we are assuming it is chrome 108 or higher\n"
     ]
    },
    {
     "name": "stdout",
     "output_type": "stream",
     "text": [
      "Saved to db successfully\n",
      "Done with link 46186: https://www.zoopla.co.uk/for-sale/details/64302743/?search_identifier=d7192428e2c645ea3a26cb49db9d2f7b8f1da09dff279f6fc7f3c3d772ba3b22\n",
      "Starting extraction for link 46187: https://www.zoopla.co.uk/for-sale/details/64293938/?search_identifier=d7192428e2c645ea3a26cb49db9d2f7b8f1da09dff279f6fc7f3c3d772ba3b22\n"
     ]
    },
    {
     "name": "stderr",
     "output_type": "stream",
     "text": [
      "could not detect version_main.therefore, we are assuming it is chrome 108 or higher\n"
     ]
    },
    {
     "name": "stdout",
     "output_type": "stream",
     "text": [
      "Saved to db successfully\n",
      "Done with link 46187: https://www.zoopla.co.uk/for-sale/details/64293938/?search_identifier=d7192428e2c645ea3a26cb49db9d2f7b8f1da09dff279f6fc7f3c3d772ba3b22\n",
      "Starting extraction for link 46188: https://www.zoopla.co.uk/for-sale/details/64283118/?search_identifier=d7192428e2c645ea3a26cb49db9d2f7b8f1da09dff279f6fc7f3c3d772ba3b22\n"
     ]
    },
    {
     "name": "stderr",
     "output_type": "stream",
     "text": [
      "could not detect version_main.therefore, we are assuming it is chrome 108 or higher\n"
     ]
    },
    {
     "name": "stdout",
     "output_type": "stream",
     "text": [
      "Saved to db successfully\n",
      "Done with link 46188: https://www.zoopla.co.uk/for-sale/details/64283118/?search_identifier=d7192428e2c645ea3a26cb49db9d2f7b8f1da09dff279f6fc7f3c3d772ba3b22\n",
      "Starting extraction for link 46189: https://www.zoopla.co.uk/for-sale/details/64281317/?search_identifier=d7192428e2c645ea3a26cb49db9d2f7b8f1da09dff279f6fc7f3c3d772ba3b22\n"
     ]
    },
    {
     "name": "stderr",
     "output_type": "stream",
     "text": [
      "could not detect version_main.therefore, we are assuming it is chrome 108 or higher\n"
     ]
    },
    {
     "name": "stdout",
     "output_type": "stream",
     "text": [
      "Saved to db successfully\n",
      "Done with link 46189: https://www.zoopla.co.uk/for-sale/details/64281317/?search_identifier=d7192428e2c645ea3a26cb49db9d2f7b8f1da09dff279f6fc7f3c3d772ba3b22\n",
      "Starting extraction for link 46190: https://www.zoopla.co.uk/for-sale/details/64226588/?search_identifier=d7192428e2c645ea3a26cb49db9d2f7b8f1da09dff279f6fc7f3c3d772ba3b22\n"
     ]
    },
    {
     "name": "stderr",
     "output_type": "stream",
     "text": [
      "could not detect version_main.therefore, we are assuming it is chrome 108 or higher\n"
     ]
    },
    {
     "name": "stdout",
     "output_type": "stream",
     "text": [
      "Saved to db successfully\n",
      "Done with link 46190: https://www.zoopla.co.uk/for-sale/details/64226588/?search_identifier=d7192428e2c645ea3a26cb49db9d2f7b8f1da09dff279f6fc7f3c3d772ba3b22\n",
      "Starting extraction for link 46191: https://www.zoopla.co.uk/for-sale/details/64219286/?search_identifier=d7192428e2c645ea3a26cb49db9d2f7b8f1da09dff279f6fc7f3c3d772ba3b22\n"
     ]
    },
    {
     "name": "stderr",
     "output_type": "stream",
     "text": [
      "could not detect version_main.therefore, we are assuming it is chrome 108 or higher\n"
     ]
    },
    {
     "name": "stdout",
     "output_type": "stream",
     "text": [
      "Saved to db successfully\n",
      "Done with link 46191: https://www.zoopla.co.uk/for-sale/details/64219286/?search_identifier=d7192428e2c645ea3a26cb49db9d2f7b8f1da09dff279f6fc7f3c3d772ba3b22\n",
      "Starting extraction for link 46192: https://www.zoopla.co.uk/for-sale/details/64219209/?search_identifier=d7192428e2c645ea3a26cb49db9d2f7b8f1da09dff279f6fc7f3c3d772ba3b22\n"
     ]
    },
    {
     "name": "stderr",
     "output_type": "stream",
     "text": [
      "could not detect version_main.therefore, we are assuming it is chrome 108 or higher\n"
     ]
    },
    {
     "name": "stdout",
     "output_type": "stream",
     "text": [
      "Saved to db successfully\n",
      "Done with link 46192: https://www.zoopla.co.uk/for-sale/details/64219209/?search_identifier=d7192428e2c645ea3a26cb49db9d2f7b8f1da09dff279f6fc7f3c3d772ba3b22\n",
      "Starting extraction for link 46193: https://www.zoopla.co.uk/for-sale/details/64215213/?search_identifier=d7192428e2c645ea3a26cb49db9d2f7b8f1da09dff279f6fc7f3c3d772ba3b22\n"
     ]
    },
    {
     "name": "stderr",
     "output_type": "stream",
     "text": [
      "could not detect version_main.therefore, we are assuming it is chrome 108 or higher\n"
     ]
    },
    {
     "name": "stdout",
     "output_type": "stream",
     "text": [
      "Saved to db successfully\n",
      "Done with link 46193: https://www.zoopla.co.uk/for-sale/details/64215213/?search_identifier=d7192428e2c645ea3a26cb49db9d2f7b8f1da09dff279f6fc7f3c3d772ba3b22\n",
      "Starting extraction for link 46194: https://www.zoopla.co.uk/for-sale/details/64203382/?search_identifier=d7192428e2c645ea3a26cb49db9d2f7b8f1da09dff279f6fc7f3c3d772ba3b22\n"
     ]
    },
    {
     "name": "stderr",
     "output_type": "stream",
     "text": [
      "could not detect version_main.therefore, we are assuming it is chrome 108 or higher\n"
     ]
    },
    {
     "name": "stdout",
     "output_type": "stream",
     "text": [
      "Saved to db successfully\n",
      "Done with link 46194: https://www.zoopla.co.uk/for-sale/details/64203382/?search_identifier=d7192428e2c645ea3a26cb49db9d2f7b8f1da09dff279f6fc7f3c3d772ba3b22\n",
      "Starting extraction for link 46195: https://www.zoopla.co.uk/for-sale/details/64201598/?search_identifier=d7192428e2c645ea3a26cb49db9d2f7b8f1da09dff279f6fc7f3c3d772ba3b22\n"
     ]
    },
    {
     "name": "stderr",
     "output_type": "stream",
     "text": [
      "could not detect version_main.therefore, we are assuming it is chrome 108 or higher\n"
     ]
    },
    {
     "name": "stdout",
     "output_type": "stream",
     "text": [
      "Saved to db successfully\n",
      "Done with link 46195: https://www.zoopla.co.uk/for-sale/details/64201598/?search_identifier=d7192428e2c645ea3a26cb49db9d2f7b8f1da09dff279f6fc7f3c3d772ba3b22\n",
      "Starting extraction for link 46196: https://www.zoopla.co.uk/for-sale/details/64194232/?search_identifier=d7192428e2c645ea3a26cb49db9d2f7b8f1da09dff279f6fc7f3c3d772ba3b22\n",
      "An error occurred for link in get_data_func: https://www.zoopla.co.uk/for-sale/details/64194232/?search_identifier=d7192428e2c645ea3a26cb49db9d2f7b8f1da09dff279f6fc7f3c3d772ba3b22: Message: no such element: Unable to locate element: {\"method\":\"xpath\",\"selector\":\"//p[@data-testid=\"price\"]\"}\n",
      "  (Session info: chrome=115.0.5790.171); For documentation on this error, please visit: https://www.selenium.dev/documentation/webdriver/troubleshooting/errors#no-such-element-exception\n",
      "Stacktrace:\n",
      "Backtrace:\n",
      "\tGetHandleVerifier [0x0073A813+48355]\n",
      "\t(No symbol) [0x006CC4B1]\n",
      "\t(No symbol) [0x005D5358]\n",
      "\t(No symbol) [0x006009A5]\n",
      "\t(No symbol) [0x00600B3B]\n",
      "\t(No symbol) [0x0062E232]\n",
      "\t(No symbol) [0x0061A784]\n",
      "\t(No symbol) [0x0062C922]\n",
      "\t(No symbol) [0x0061A536]\n",
      "\t(No symbol) [0x005F82DC]\n",
      "\t(No symbol) [0x005F93DD]\n",
      "\tGetHandleVerifier [0x0099AABD+2539405]\n",
      "\tGetHandleVerifier [0x009DA78F+2800735]\n",
      "\tGetHandleVerifier [0x009D456C+2775612]\n",
      "\tGetHandleVerifier [0x007C51E0+616112]\n",
      "\t(No symbol) [0x006D5F8C]\n",
      "\t(No symbol) [0x006D2328]\n",
      "\t(No symbol) [0x006D240B]\n",
      "\t(No symbol) [0x006C4FF7]\n",
      "\tBaseThreadInitThunk [0x761E7D59+25]\n",
      "\tRtlInitializeExceptionChain [0x773DB79B+107]\n",
      "\tRtlClearBits [0x773DB71F+191]\n",
      "\n"
     ]
    },
    {
     "name": "stderr",
     "output_type": "stream",
     "text": [
      "could not detect version_main.therefore, we are assuming it is chrome 108 or higher\n"
     ]
    },
    {
     "name": "stdout",
     "output_type": "stream",
     "text": [
      "Saved to db successfully\n",
      "Done with link 46196: https://www.zoopla.co.uk/for-sale/details/64194232/?search_identifier=d7192428e2c645ea3a26cb49db9d2f7b8f1da09dff279f6fc7f3c3d772ba3b22\n",
      "Starting extraction for link 46197: https://www.zoopla.co.uk/for-sale/details/64181303/?search_identifier=d7192428e2c645ea3a26cb49db9d2f7b8f1da09dff279f6fc7f3c3d772ba3b22\n",
      "An error occurred for link in get_data_func: https://www.zoopla.co.uk/for-sale/details/64181303/?search_identifier=d7192428e2c645ea3a26cb49db9d2f7b8f1da09dff279f6fc7f3c3d772ba3b22: Message: no such element: Unable to locate element: {\"method\":\"xpath\",\"selector\":\"//p[@data-testid=\"price\"]\"}\n",
      "  (Session info: chrome=115.0.5790.171); For documentation on this error, please visit: https://www.selenium.dev/documentation/webdriver/troubleshooting/errors#no-such-element-exception\n",
      "Stacktrace:\n",
      "Backtrace:\n",
      "\tGetHandleVerifier [0x0073A813+48355]\n",
      "\t(No symbol) [0x006CC4B1]\n",
      "\t(No symbol) [0x005D5358]\n",
      "\t(No symbol) [0x006009A5]\n",
      "\t(No symbol) [0x00600B3B]\n",
      "\t(No symbol) [0x0062E232]\n",
      "\t(No symbol) [0x0061A784]\n",
      "\t(No symbol) [0x0062C922]\n",
      "\t(No symbol) [0x0061A536]\n",
      "\t(No symbol) [0x005F82DC]\n",
      "\t(No symbol) [0x005F93DD]\n",
      "\tGetHandleVerifier [0x0099AABD+2539405]\n",
      "\tGetHandleVerifier [0x009DA78F+2800735]\n",
      "\tGetHandleVerifier [0x009D456C+2775612]\n",
      "\tGetHandleVerifier [0x007C51E0+616112]\n",
      "\t(No symbol) [0x006D5F8C]\n",
      "\t(No symbol) [0x006D2328]\n",
      "\t(No symbol) [0x006D240B]\n",
      "\t(No symbol) [0x006C4FF7]\n",
      "\tBaseThreadInitThunk [0x761E7D59+25]\n",
      "\tRtlInitializeExceptionChain [0x773DB79B+107]\n",
      "\tRtlClearBits [0x773DB71F+191]\n",
      "\n"
     ]
    },
    {
     "name": "stderr",
     "output_type": "stream",
     "text": [
      "could not detect version_main.therefore, we are assuming it is chrome 108 or higher\n"
     ]
    },
    {
     "name": "stdout",
     "output_type": "stream",
     "text": [
      "Saved to db successfully\n",
      "Done with link 46197: https://www.zoopla.co.uk/for-sale/details/64181303/?search_identifier=d7192428e2c645ea3a26cb49db9d2f7b8f1da09dff279f6fc7f3c3d772ba3b22\n",
      "Starting extraction for link 46198: https://www.zoopla.co.uk/for-sale/details/64146732/?search_identifier=d7192428e2c645ea3a26cb49db9d2f7b8f1da09dff279f6fc7f3c3d772ba3b22\n"
     ]
    },
    {
     "name": "stderr",
     "output_type": "stream",
     "text": [
      "could not detect version_main.therefore, we are assuming it is chrome 108 or higher\n"
     ]
    },
    {
     "name": "stdout",
     "output_type": "stream",
     "text": [
      "Saved to db successfully\n",
      "Done with link 46198: https://www.zoopla.co.uk/for-sale/details/64146732/?search_identifier=d7192428e2c645ea3a26cb49db9d2f7b8f1da09dff279f6fc7f3c3d772ba3b22\n",
      "Starting extraction for link 46199: https://www.zoopla.co.uk/for-sale/details/64138677/?search_identifier=d7192428e2c645ea3a26cb49db9d2f7b8f1da09dff279f6fc7f3c3d772ba3b22\n"
     ]
    },
    {
     "name": "stderr",
     "output_type": "stream",
     "text": [
      "could not detect version_main.therefore, we are assuming it is chrome 108 or higher\n"
     ]
    },
    {
     "name": "stdout",
     "output_type": "stream",
     "text": [
      "Saved to db successfully\n",
      "Done with link 46199: https://www.zoopla.co.uk/for-sale/details/64138677/?search_identifier=d7192428e2c645ea3a26cb49db9d2f7b8f1da09dff279f6fc7f3c3d772ba3b22\n",
      "Starting extraction for link 46200: https://www.zoopla.co.uk/for-sale/details/64122245/?search_identifier=d7192428e2c645ea3a26cb49db9d2f7b8f1da09dff279f6fc7f3c3d772ba3b22\n"
     ]
    },
    {
     "name": "stderr",
     "output_type": "stream",
     "text": [
      "could not detect version_main.therefore, we are assuming it is chrome 108 or higher\n"
     ]
    },
    {
     "name": "stdout",
     "output_type": "stream",
     "text": [
      "Saved to db successfully\n",
      "Done with link 46200: https://www.zoopla.co.uk/for-sale/details/64122245/?search_identifier=d7192428e2c645ea3a26cb49db9d2f7b8f1da09dff279f6fc7f3c3d772ba3b22\n",
      "Starting extraction for link 46201: https://www.zoopla.co.uk/for-sale/details/64095055/?search_identifier=d7192428e2c645ea3a26cb49db9d2f7b8f1da09dff279f6fc7f3c3d772ba3b22\n"
     ]
    },
    {
     "name": "stderr",
     "output_type": "stream",
     "text": [
      "could not detect version_main.therefore, we are assuming it is chrome 108 or higher\n"
     ]
    },
    {
     "name": "stdout",
     "output_type": "stream",
     "text": [
      "Saved to db successfully\n",
      "Done with link 46201: https://www.zoopla.co.uk/for-sale/details/64095055/?search_identifier=d7192428e2c645ea3a26cb49db9d2f7b8f1da09dff279f6fc7f3c3d772ba3b22\n",
      "Starting extraction for link 46202: https://www.zoopla.co.uk/for-sale/details/60482829/?search_identifier=d7192428e2c645ea3a26cb49db9d2f7b8f1da09dff279f6fc7f3c3d772ba3b22\n"
     ]
    },
    {
     "name": "stderr",
     "output_type": "stream",
     "text": [
      "could not detect version_main.therefore, we are assuming it is chrome 108 or higher\n"
     ]
    },
    {
     "name": "stdout",
     "output_type": "stream",
     "text": [
      "Saved to db successfully\n",
      "Done with link 46202: https://www.zoopla.co.uk/for-sale/details/60482829/?search_identifier=d7192428e2c645ea3a26cb49db9d2f7b8f1da09dff279f6fc7f3c3d772ba3b22\n",
      "Starting extraction for link 46203: https://www.zoopla.co.uk/for-sale/details/64033465/?search_identifier=221193278f258b49f8b4bdbda361eff95672406615669b9a926b7e1824d92c39\n"
     ]
    },
    {
     "name": "stderr",
     "output_type": "stream",
     "text": [
      "could not detect version_main.therefore, we are assuming it is chrome 108 or higher\n"
     ]
    },
    {
     "name": "stdout",
     "output_type": "stream",
     "text": [
      "Saved to db successfully\n",
      "Done with link 46203: https://www.zoopla.co.uk/for-sale/details/64033465/?search_identifier=221193278f258b49f8b4bdbda361eff95672406615669b9a926b7e1824d92c39\n",
      "Starting extraction for link 46204: https://www.zoopla.co.uk/for-sale/details/64029134/?search_identifier=221193278f258b49f8b4bdbda361eff95672406615669b9a926b7e1824d92c39\n"
     ]
    },
    {
     "name": "stderr",
     "output_type": "stream",
     "text": [
      "could not detect version_main.therefore, we are assuming it is chrome 108 or higher\n"
     ]
    },
    {
     "name": "stdout",
     "output_type": "stream",
     "text": [
      "Saved to db successfully\n",
      "Done with link 46204: https://www.zoopla.co.uk/for-sale/details/64029134/?search_identifier=221193278f258b49f8b4bdbda361eff95672406615669b9a926b7e1824d92c39\n",
      "Starting extraction for link 46205: https://www.zoopla.co.uk/for-sale/details/64025790/?search_identifier=221193278f258b49f8b4bdbda361eff95672406615669b9a926b7e1824d92c39\n"
     ]
    },
    {
     "name": "stderr",
     "output_type": "stream",
     "text": [
      "could not detect version_main.therefore, we are assuming it is chrome 108 or higher\n"
     ]
    },
    {
     "name": "stdout",
     "output_type": "stream",
     "text": [
      "Saved to db successfully\n",
      "Done with link 46205: https://www.zoopla.co.uk/for-sale/details/64025790/?search_identifier=221193278f258b49f8b4bdbda361eff95672406615669b9a926b7e1824d92c39\n",
      "Starting extraction for link 46206: https://www.zoopla.co.uk/for-sale/details/64023106/?search_identifier=221193278f258b49f8b4bdbda361eff95672406615669b9a926b7e1824d92c39\n"
     ]
    },
    {
     "name": "stderr",
     "output_type": "stream",
     "text": [
      "could not detect version_main.therefore, we are assuming it is chrome 108 or higher\n"
     ]
    },
    {
     "name": "stdout",
     "output_type": "stream",
     "text": [
      "Saved to db successfully\n",
      "Done with link 46206: https://www.zoopla.co.uk/for-sale/details/64023106/?search_identifier=221193278f258b49f8b4bdbda361eff95672406615669b9a926b7e1824d92c39\n",
      "Starting extraction for link 46207: https://www.zoopla.co.uk/for-sale/details/63991556/?search_identifier=221193278f258b49f8b4bdbda361eff95672406615669b9a926b7e1824d92c39\n"
     ]
    },
    {
     "name": "stderr",
     "output_type": "stream",
     "text": [
      "could not detect version_main.therefore, we are assuming it is chrome 108 or higher\n"
     ]
    },
    {
     "name": "stdout",
     "output_type": "stream",
     "text": [
      "Saved to db successfully\n",
      "Done with link 46207: https://www.zoopla.co.uk/for-sale/details/63991556/?search_identifier=221193278f258b49f8b4bdbda361eff95672406615669b9a926b7e1824d92c39\n",
      "Starting extraction for link 46208: https://www.zoopla.co.uk/for-sale/details/63967775/?search_identifier=221193278f258b49f8b4bdbda361eff95672406615669b9a926b7e1824d92c39\n"
     ]
    },
    {
     "name": "stderr",
     "output_type": "stream",
     "text": [
      "could not detect version_main.therefore, we are assuming it is chrome 108 or higher\n"
     ]
    },
    {
     "name": "stdout",
     "output_type": "stream",
     "text": [
      "Saved to db successfully\n",
      "Done with link 46208: https://www.zoopla.co.uk/for-sale/details/63967775/?search_identifier=221193278f258b49f8b4bdbda361eff95672406615669b9a926b7e1824d92c39\n",
      "Starting extraction for link 46209: https://www.zoopla.co.uk/for-sale/details/63951721/?search_identifier=221193278f258b49f8b4bdbda361eff95672406615669b9a926b7e1824d92c39\n"
     ]
    },
    {
     "name": "stderr",
     "output_type": "stream",
     "text": [
      "could not detect version_main.therefore, we are assuming it is chrome 108 or higher\n"
     ]
    },
    {
     "name": "stdout",
     "output_type": "stream",
     "text": [
      "Saved to db successfully\n",
      "Done with link 46209: https://www.zoopla.co.uk/for-sale/details/63951721/?search_identifier=221193278f258b49f8b4bdbda361eff95672406615669b9a926b7e1824d92c39\n",
      "Starting extraction for link 46210: https://www.zoopla.co.uk/for-sale/details/63950200/?search_identifier=221193278f258b49f8b4bdbda361eff95672406615669b9a926b7e1824d92c39\n"
     ]
    },
    {
     "name": "stderr",
     "output_type": "stream",
     "text": [
      "could not detect version_main.therefore, we are assuming it is chrome 108 or higher\n"
     ]
    },
    {
     "name": "stdout",
     "output_type": "stream",
     "text": [
      "Saved to db successfully\n",
      "Done with link 46210: https://www.zoopla.co.uk/for-sale/details/63950200/?search_identifier=221193278f258b49f8b4bdbda361eff95672406615669b9a926b7e1824d92c39\n",
      "Starting extraction for link 46211: https://www.zoopla.co.uk/for-sale/details/63904093/?search_identifier=221193278f258b49f8b4bdbda361eff95672406615669b9a926b7e1824d92c39\n"
     ]
    },
    {
     "name": "stderr",
     "output_type": "stream",
     "text": [
      "could not detect version_main.therefore, we are assuming it is chrome 108 or higher\n"
     ]
    },
    {
     "name": "stdout",
     "output_type": "stream",
     "text": [
      "Saved to db successfully\n",
      "Done with link 46211: https://www.zoopla.co.uk/for-sale/details/63904093/?search_identifier=221193278f258b49f8b4bdbda361eff95672406615669b9a926b7e1824d92c39\n",
      "Starting extraction for link 46212: https://www.zoopla.co.uk/for-sale/details/63840946/?search_identifier=221193278f258b49f8b4bdbda361eff95672406615669b9a926b7e1824d92c39\n"
     ]
    },
    {
     "name": "stderr",
     "output_type": "stream",
     "text": [
      "could not detect version_main.therefore, we are assuming it is chrome 108 or higher\n"
     ]
    },
    {
     "name": "stdout",
     "output_type": "stream",
     "text": [
      "Saved to db successfully\n",
      "Done with link 46212: https://www.zoopla.co.uk/for-sale/details/63840946/?search_identifier=221193278f258b49f8b4bdbda361eff95672406615669b9a926b7e1824d92c39\n",
      "Starting extraction for link 46213: https://www.zoopla.co.uk/for-sale/details/63802328/?search_identifier=221193278f258b49f8b4bdbda361eff95672406615669b9a926b7e1824d92c39\n"
     ]
    },
    {
     "name": "stderr",
     "output_type": "stream",
     "text": [
      "could not detect version_main.therefore, we are assuming it is chrome 108 or higher\n"
     ]
    },
    {
     "name": "stdout",
     "output_type": "stream",
     "text": [
      "Saved to db successfully\n",
      "Done with link 46213: https://www.zoopla.co.uk/for-sale/details/63802328/?search_identifier=221193278f258b49f8b4bdbda361eff95672406615669b9a926b7e1824d92c39\n",
      "Starting extraction for link 46214: https://www.zoopla.co.uk/for-sale/details/63796055/?search_identifier=221193278f258b49f8b4bdbda361eff95672406615669b9a926b7e1824d92c39\n"
     ]
    },
    {
     "name": "stderr",
     "output_type": "stream",
     "text": [
      "could not detect version_main.therefore, we are assuming it is chrome 108 or higher\n"
     ]
    },
    {
     "name": "stdout",
     "output_type": "stream",
     "text": [
      "Saved to db successfully\n",
      "Done with link 46214: https://www.zoopla.co.uk/for-sale/details/63796055/?search_identifier=221193278f258b49f8b4bdbda361eff95672406615669b9a926b7e1824d92c39\n",
      "Starting extraction for link 46215: https://www.zoopla.co.uk/for-sale/details/63786206/?search_identifier=221193278f258b49f8b4bdbda361eff95672406615669b9a926b7e1824d92c39\n"
     ]
    },
    {
     "name": "stderr",
     "output_type": "stream",
     "text": [
      "could not detect version_main.therefore, we are assuming it is chrome 108 or higher\n"
     ]
    },
    {
     "name": "stdout",
     "output_type": "stream",
     "text": [
      "Saved to db successfully\n",
      "Done with link 46215: https://www.zoopla.co.uk/for-sale/details/63786206/?search_identifier=221193278f258b49f8b4bdbda361eff95672406615669b9a926b7e1824d92c39\n",
      "Starting extraction for link 46216: https://www.zoopla.co.uk/for-sale/details/62830080/?search_identifier=221193278f258b49f8b4bdbda361eff95672406615669b9a926b7e1824d92c39\n"
     ]
    },
    {
     "name": "stderr",
     "output_type": "stream",
     "text": [
      "could not detect version_main.therefore, we are assuming it is chrome 108 or higher\n"
     ]
    },
    {
     "name": "stdout",
     "output_type": "stream",
     "text": [
      "Saved to db successfully\n",
      "Done with link 46216: https://www.zoopla.co.uk/for-sale/details/62830080/?search_identifier=221193278f258b49f8b4bdbda361eff95672406615669b9a926b7e1824d92c39\n",
      "Starting extraction for link 46217: https://www.zoopla.co.uk/for-sale/details/62136795/?search_identifier=221193278f258b49f8b4bdbda361eff95672406615669b9a926b7e1824d92c39\n"
     ]
    },
    {
     "name": "stderr",
     "output_type": "stream",
     "text": [
      "could not detect version_main.therefore, we are assuming it is chrome 108 or higher\n"
     ]
    },
    {
     "name": "stdout",
     "output_type": "stream",
     "text": [
      "Saved to db successfully\n",
      "Done with link 46217: https://www.zoopla.co.uk/for-sale/details/62136795/?search_identifier=221193278f258b49f8b4bdbda361eff95672406615669b9a926b7e1824d92c39\n",
      "Starting extraction for link 46218: https://www.zoopla.co.uk/for-sale/details/62089685/?search_identifier=221193278f258b49f8b4bdbda361eff95672406615669b9a926b7e1824d92c39\n"
     ]
    },
    {
     "name": "stderr",
     "output_type": "stream",
     "text": [
      "could not detect version_main.therefore, we are assuming it is chrome 108 or higher\n"
     ]
    },
    {
     "name": "stdout",
     "output_type": "stream",
     "text": [
      "Saved to db successfully\n",
      "Done with link 46218: https://www.zoopla.co.uk/for-sale/details/62089685/?search_identifier=221193278f258b49f8b4bdbda361eff95672406615669b9a926b7e1824d92c39\n",
      "Starting extraction for link 46219: https://www.zoopla.co.uk/for-sale/details/63713583/?search_identifier=221193278f258b49f8b4bdbda361eff95672406615669b9a926b7e1824d92c39\n"
     ]
    },
    {
     "name": "stderr",
     "output_type": "stream",
     "text": [
      "could not detect version_main.therefore, we are assuming it is chrome 108 or higher\n"
     ]
    },
    {
     "name": "stdout",
     "output_type": "stream",
     "text": [
      "Saved to db successfully\n",
      "Done with link 46219: https://www.zoopla.co.uk/for-sale/details/63713583/?search_identifier=221193278f258b49f8b4bdbda361eff95672406615669b9a926b7e1824d92c39\n",
      "Starting extraction for link 46220: https://www.zoopla.co.uk/for-sale/details/63630861/?search_identifier=221193278f258b49f8b4bdbda361eff95672406615669b9a926b7e1824d92c39\n"
     ]
    },
    {
     "name": "stderr",
     "output_type": "stream",
     "text": [
      "could not detect version_main.therefore, we are assuming it is chrome 108 or higher\n"
     ]
    },
    {
     "name": "stdout",
     "output_type": "stream",
     "text": [
      "Saved to db successfully\n",
      "Done with link 46220: https://www.zoopla.co.uk/for-sale/details/63630861/?search_identifier=221193278f258b49f8b4bdbda361eff95672406615669b9a926b7e1824d92c39\n",
      "Starting extraction for link 46221: https://www.zoopla.co.uk/for-sale/details/63630860/?search_identifier=221193278f258b49f8b4bdbda361eff95672406615669b9a926b7e1824d92c39\n"
     ]
    },
    {
     "name": "stderr",
     "output_type": "stream",
     "text": [
      "could not detect version_main.therefore, we are assuming it is chrome 108 or higher\n"
     ]
    },
    {
     "name": "stdout",
     "output_type": "stream",
     "text": [
      "Saved to db successfully\n",
      "Done with link 46221: https://www.zoopla.co.uk/for-sale/details/63630860/?search_identifier=221193278f258b49f8b4bdbda361eff95672406615669b9a926b7e1824d92c39\n",
      "Starting extraction for link 46222: https://www.zoopla.co.uk/for-sale/details/63503489/?search_identifier=221193278f258b49f8b4bdbda361eff95672406615669b9a926b7e1824d92c39\n"
     ]
    },
    {
     "name": "stderr",
     "output_type": "stream",
     "text": [
      "could not detect version_main.therefore, we are assuming it is chrome 108 or higher\n"
     ]
    },
    {
     "name": "stdout",
     "output_type": "stream",
     "text": [
      "Saved to db successfully\n",
      "Done with link 46222: https://www.zoopla.co.uk/for-sale/details/63503489/?search_identifier=221193278f258b49f8b4bdbda361eff95672406615669b9a926b7e1824d92c39\n",
      "Starting extraction for link 46223: https://www.zoopla.co.uk/for-sale/details/63493998/?search_identifier=221193278f258b49f8b4bdbda361eff95672406615669b9a926b7e1824d92c39\n"
     ]
    },
    {
     "name": "stderr",
     "output_type": "stream",
     "text": [
      "could not detect version_main.therefore, we are assuming it is chrome 108 or higher\n"
     ]
    },
    {
     "name": "stdout",
     "output_type": "stream",
     "text": [
      "Saved to db successfully\n",
      "Done with link 46223: https://www.zoopla.co.uk/for-sale/details/63493998/?search_identifier=221193278f258b49f8b4bdbda361eff95672406615669b9a926b7e1824d92c39\n",
      "Starting extraction for link 46224: https://www.zoopla.co.uk/for-sale/details/63470777/?search_identifier=221193278f258b49f8b4bdbda361eff95672406615669b9a926b7e1824d92c39\n"
     ]
    },
    {
     "name": "stderr",
     "output_type": "stream",
     "text": [
      "could not detect version_main.therefore, we are assuming it is chrome 108 or higher\n"
     ]
    },
    {
     "name": "stdout",
     "output_type": "stream",
     "text": [
      "Saved to db successfully\n",
      "Done with link 46224: https://www.zoopla.co.uk/for-sale/details/63470777/?search_identifier=221193278f258b49f8b4bdbda361eff95672406615669b9a926b7e1824d92c39\n",
      "Starting extraction for link 46225: https://www.zoopla.co.uk/for-sale/details/63350295/?search_identifier=221193278f258b49f8b4bdbda361eff95672406615669b9a926b7e1824d92c39\n"
     ]
    },
    {
     "name": "stderr",
     "output_type": "stream",
     "text": [
      "could not detect version_main.therefore, we are assuming it is chrome 108 or higher\n"
     ]
    },
    {
     "name": "stdout",
     "output_type": "stream",
     "text": [
      "Saved to db successfully\n",
      "Done with link 46225: https://www.zoopla.co.uk/for-sale/details/63350295/?search_identifier=221193278f258b49f8b4bdbda361eff95672406615669b9a926b7e1824d92c39\n",
      "Starting extraction for link 46226: https://www.zoopla.co.uk/for-sale/details/63346537/?search_identifier=221193278f258b49f8b4bdbda361eff95672406615669b9a926b7e1824d92c39\n"
     ]
    },
    {
     "name": "stderr",
     "output_type": "stream",
     "text": [
      "could not detect version_main.therefore, we are assuming it is chrome 108 or higher\n"
     ]
    },
    {
     "name": "stdout",
     "output_type": "stream",
     "text": [
      "Saved to db successfully\n",
      "Done with link 46226: https://www.zoopla.co.uk/for-sale/details/63346537/?search_identifier=221193278f258b49f8b4bdbda361eff95672406615669b9a926b7e1824d92c39\n",
      "Starting extraction for link 46227: https://www.zoopla.co.uk/for-sale/details/62815370/?search_identifier=221193278f258b49f8b4bdbda361eff95672406615669b9a926b7e1824d92c39\n"
     ]
    },
    {
     "name": "stderr",
     "output_type": "stream",
     "text": [
      "could not detect version_main.therefore, we are assuming it is chrome 108 or higher\n"
     ]
    },
    {
     "name": "stdout",
     "output_type": "stream",
     "text": [
      "Saved to db successfully\n",
      "Done with link 46227: https://www.zoopla.co.uk/for-sale/details/62815370/?search_identifier=221193278f258b49f8b4bdbda361eff95672406615669b9a926b7e1824d92c39\n",
      "Starting extraction for link 46228: https://www.zoopla.co.uk/for-sale/details/62621247/?search_identifier=e0d4c73e0acb394469d6ccb87b423e26f2c7d09f0d68a9ec8391042af7a462c6\n"
     ]
    },
    {
     "name": "stderr",
     "output_type": "stream",
     "text": [
      "could not detect version_main.therefore, we are assuming it is chrome 108 or higher\n"
     ]
    },
    {
     "name": "stdout",
     "output_type": "stream",
     "text": [
      "Saved to db successfully\n",
      "Done with link 46228: https://www.zoopla.co.uk/for-sale/details/62621247/?search_identifier=e0d4c73e0acb394469d6ccb87b423e26f2c7d09f0d68a9ec8391042af7a462c6\n",
      "Starting extraction for link 46229: https://www.zoopla.co.uk/for-sale/details/62564714/?search_identifier=e0d4c73e0acb394469d6ccb87b423e26f2c7d09f0d68a9ec8391042af7a462c6\n"
     ]
    },
    {
     "name": "stderr",
     "output_type": "stream",
     "text": [
      "could not detect version_main.therefore, we are assuming it is chrome 108 or higher\n"
     ]
    },
    {
     "name": "stdout",
     "output_type": "stream",
     "text": [
      "Saved to db successfully\n",
      "Done with link 46229: https://www.zoopla.co.uk/for-sale/details/62564714/?search_identifier=e0d4c73e0acb394469d6ccb87b423e26f2c7d09f0d68a9ec8391042af7a462c6\n",
      "Starting extraction for link 46230: https://www.zoopla.co.uk/for-sale/details/62542042/?search_identifier=e0d4c73e0acb394469d6ccb87b423e26f2c7d09f0d68a9ec8391042af7a462c6\n"
     ]
    },
    {
     "name": "stderr",
     "output_type": "stream",
     "text": [
      "could not detect version_main.therefore, we are assuming it is chrome 108 or higher\n"
     ]
    },
    {
     "name": "stdout",
     "output_type": "stream",
     "text": [
      "Saved to db successfully\n",
      "Done with link 46230: https://www.zoopla.co.uk/for-sale/details/62542042/?search_identifier=e0d4c73e0acb394469d6ccb87b423e26f2c7d09f0d68a9ec8391042af7a462c6\n",
      "Starting extraction for link 46231: https://www.zoopla.co.uk/for-sale/details/62818531/?search_identifier=e0d4c73e0acb394469d6ccb87b423e26f2c7d09f0d68a9ec8391042af7a462c6\n",
      "An error occurred for link in get_data_func: https://www.zoopla.co.uk/for-sale/details/62818531/?search_identifier=e0d4c73e0acb394469d6ccb87b423e26f2c7d09f0d68a9ec8391042af7a462c6: Message: no such element: Unable to locate element: {\"method\":\"xpath\",\"selector\":\"//p[@data-testid=\"price\"]\"}\n",
      "  (Session info: chrome=115.0.5790.171); For documentation on this error, please visit: https://www.selenium.dev/documentation/webdriver/troubleshooting/errors#no-such-element-exception\n",
      "Stacktrace:\n",
      "Backtrace:\n",
      "\tGetHandleVerifier [0x0073A813+48355]\n",
      "\t(No symbol) [0x006CC4B1]\n",
      "\t(No symbol) [0x005D5358]\n",
      "\t(No symbol) [0x006009A5]\n",
      "\t(No symbol) [0x00600B3B]\n",
      "\t(No symbol) [0x0062E232]\n",
      "\t(No symbol) [0x0061A784]\n",
      "\t(No symbol) [0x0062C922]\n",
      "\t(No symbol) [0x0061A536]\n",
      "\t(No symbol) [0x005F82DC]\n",
      "\t(No symbol) [0x005F93DD]\n",
      "\tGetHandleVerifier [0x0099AABD+2539405]\n",
      "\tGetHandleVerifier [0x009DA78F+2800735]\n",
      "\tGetHandleVerifier [0x009D456C+2775612]\n",
      "\tGetHandleVerifier [0x007C51E0+616112]\n",
      "\t(No symbol) [0x006D5F8C]\n",
      "\t(No symbol) [0x006D2328]\n",
      "\t(No symbol) [0x006D240B]\n",
      "\t(No symbol) [0x006C4FF7]\n",
      "\tBaseThreadInitThunk [0x761E7D59+25]\n",
      "\tRtlInitializeExceptionChain [0x773DB79B+107]\n",
      "\tRtlClearBits [0x773DB71F+191]\n",
      "\n"
     ]
    },
    {
     "name": "stderr",
     "output_type": "stream",
     "text": [
      "could not detect version_main.therefore, we are assuming it is chrome 108 or higher\n"
     ]
    },
    {
     "name": "stdout",
     "output_type": "stream",
     "text": [
      "Saved to db successfully\n",
      "Done with link 46231: https://www.zoopla.co.uk/for-sale/details/62818531/?search_identifier=e0d4c73e0acb394469d6ccb87b423e26f2c7d09f0d68a9ec8391042af7a462c6\n",
      "Starting extraction for link 46232: https://www.zoopla.co.uk/for-sale/details/62448116/?search_identifier=e0d4c73e0acb394469d6ccb87b423e26f2c7d09f0d68a9ec8391042af7a462c6\n"
     ]
    },
    {
     "name": "stderr",
     "output_type": "stream",
     "text": [
      "could not detect version_main.therefore, we are assuming it is chrome 108 or higher\n"
     ]
    },
    {
     "name": "stdout",
     "output_type": "stream",
     "text": [
      "Saved to db successfully\n",
      "Done with link 46232: https://www.zoopla.co.uk/for-sale/details/62448116/?search_identifier=e0d4c73e0acb394469d6ccb87b423e26f2c7d09f0d68a9ec8391042af7a462c6\n",
      "Starting extraction for link 46233: https://www.zoopla.co.uk/for-sale/details/58750579/?search_identifier=e0d4c73e0acb394469d6ccb87b423e26f2c7d09f0d68a9ec8391042af7a462c6\n",
      "An error occurred for link in get_data_func: https://www.zoopla.co.uk/for-sale/details/58750579/?search_identifier=e0d4c73e0acb394469d6ccb87b423e26f2c7d09f0d68a9ec8391042af7a462c6: Message: no such element: Unable to locate element: {\"method\":\"xpath\",\"selector\":\"//p[@data-testid=\"price\"]\"}\n",
      "  (Session info: chrome=115.0.5790.171); For documentation on this error, please visit: https://www.selenium.dev/documentation/webdriver/troubleshooting/errors#no-such-element-exception\n",
      "Stacktrace:\n",
      "Backtrace:\n",
      "\tGetHandleVerifier [0x0073A813+48355]\n",
      "\t(No symbol) [0x006CC4B1]\n",
      "\t(No symbol) [0x005D5358]\n",
      "\t(No symbol) [0x006009A5]\n",
      "\t(No symbol) [0x00600B3B]\n",
      "\t(No symbol) [0x0062E232]\n",
      "\t(No symbol) [0x0061A784]\n",
      "\t(No symbol) [0x0062C922]\n",
      "\t(No symbol) [0x0061A536]\n",
      "\t(No symbol) [0x005F82DC]\n",
      "\t(No symbol) [0x005F93DD]\n",
      "\tGetHandleVerifier [0x0099AABD+2539405]\n",
      "\tGetHandleVerifier [0x009DA78F+2800735]\n",
      "\tGetHandleVerifier [0x009D456C+2775612]\n",
      "\tGetHandleVerifier [0x007C51E0+616112]\n",
      "\t(No symbol) [0x006D5F8C]\n",
      "\t(No symbol) [0x006D2328]\n",
      "\t(No symbol) [0x006D240B]\n",
      "\t(No symbol) [0x006C4FF7]\n",
      "\tBaseThreadInitThunk [0x761E7D59+25]\n",
      "\tRtlInitializeExceptionChain [0x773DB79B+107]\n",
      "\tRtlClearBits [0x773DB71F+191]\n",
      "\n"
     ]
    },
    {
     "name": "stderr",
     "output_type": "stream",
     "text": [
      "could not detect version_main.therefore, we are assuming it is chrome 108 or higher\n"
     ]
    },
    {
     "name": "stdout",
     "output_type": "stream",
     "text": [
      "Saved to db successfully\n",
      "Done with link 46233: https://www.zoopla.co.uk/for-sale/details/58750579/?search_identifier=e0d4c73e0acb394469d6ccb87b423e26f2c7d09f0d68a9ec8391042af7a462c6\n",
      "Starting extraction for link 46234: https://www.zoopla.co.uk/for-sale/details/60552510/?search_identifier=e0d4c73e0acb394469d6ccb87b423e26f2c7d09f0d68a9ec8391042af7a462c6\n",
      "An error occurred for link in get_data_func: https://www.zoopla.co.uk/for-sale/details/60552510/?search_identifier=e0d4c73e0acb394469d6ccb87b423e26f2c7d09f0d68a9ec8391042af7a462c6: Message: no such element: Unable to locate element: {\"method\":\"xpath\",\"selector\":\"//p[@data-testid=\"price\"]\"}\n",
      "  (Session info: chrome=115.0.5790.171); For documentation on this error, please visit: https://www.selenium.dev/documentation/webdriver/troubleshooting/errors#no-such-element-exception\n",
      "Stacktrace:\n",
      "Backtrace:\n",
      "\tGetHandleVerifier [0x0073A813+48355]\n",
      "\t(No symbol) [0x006CC4B1]\n",
      "\t(No symbol) [0x005D5358]\n",
      "\t(No symbol) [0x006009A5]\n",
      "\t(No symbol) [0x00600B3B]\n",
      "\t(No symbol) [0x0062E232]\n",
      "\t(No symbol) [0x0061A784]\n",
      "\t(No symbol) [0x0062C922]\n",
      "\t(No symbol) [0x0061A536]\n",
      "\t(No symbol) [0x005F82DC]\n",
      "\t(No symbol) [0x005F93DD]\n",
      "\tGetHandleVerifier [0x0099AABD+2539405]\n",
      "\tGetHandleVerifier [0x009DA78F+2800735]\n",
      "\tGetHandleVerifier [0x009D456C+2775612]\n",
      "\tGetHandleVerifier [0x007C51E0+616112]\n",
      "\t(No symbol) [0x006D5F8C]\n",
      "\t(No symbol) [0x006D2328]\n",
      "\t(No symbol) [0x006D240B]\n",
      "\t(No symbol) [0x006C4FF7]\n",
      "\tBaseThreadInitThunk [0x761E7D59+25]\n",
      "\tRtlInitializeExceptionChain [0x773DB79B+107]\n",
      "\tRtlClearBits [0x773DB71F+191]\n",
      "\n"
     ]
    },
    {
     "name": "stderr",
     "output_type": "stream",
     "text": [
      "could not detect version_main.therefore, we are assuming it is chrome 108 or higher\n"
     ]
    },
    {
     "name": "stdout",
     "output_type": "stream",
     "text": [
      "Saved to db successfully\n",
      "Done with link 46234: https://www.zoopla.co.uk/for-sale/details/60552510/?search_identifier=e0d4c73e0acb394469d6ccb87b423e26f2c7d09f0d68a9ec8391042af7a462c6\n",
      "Starting extraction for link 46235: https://www.zoopla.co.uk/for-sale/details/62836390/?search_identifier=e0d4c73e0acb394469d6ccb87b423e26f2c7d09f0d68a9ec8391042af7a462c6\n"
     ]
    },
    {
     "name": "stderr",
     "output_type": "stream",
     "text": [
      "could not detect version_main.therefore, we are assuming it is chrome 108 or higher\n"
     ]
    },
    {
     "name": "stdout",
     "output_type": "stream",
     "text": [
      "Saved to db successfully\n",
      "Done with link 46235: https://www.zoopla.co.uk/for-sale/details/62836390/?search_identifier=e0d4c73e0acb394469d6ccb87b423e26f2c7d09f0d68a9ec8391042af7a462c6\n",
      "Starting extraction for link 46236: https://www.zoopla.co.uk/for-sale/details/61751555/?search_identifier=e0d4c73e0acb394469d6ccb87b423e26f2c7d09f0d68a9ec8391042af7a462c6\n"
     ]
    },
    {
     "name": "stderr",
     "output_type": "stream",
     "text": [
      "could not detect version_main.therefore, we are assuming it is chrome 108 or higher\n"
     ]
    },
    {
     "name": "stdout",
     "output_type": "stream",
     "text": [
      "Saved to db successfully\n",
      "Done with link 46236: https://www.zoopla.co.uk/for-sale/details/61751555/?search_identifier=e0d4c73e0acb394469d6ccb87b423e26f2c7d09f0d68a9ec8391042af7a462c6\n",
      "Starting extraction for link 46237: https://www.zoopla.co.uk/for-sale/details/62258598/?search_identifier=e0d4c73e0acb394469d6ccb87b423e26f2c7d09f0d68a9ec8391042af7a462c6\n"
     ]
    },
    {
     "name": "stderr",
     "output_type": "stream",
     "text": [
      "could not detect version_main.therefore, we are assuming it is chrome 108 or higher\n"
     ]
    },
    {
     "name": "stdout",
     "output_type": "stream",
     "text": [
      "Saved to db successfully\n",
      "Done with link 46237: https://www.zoopla.co.uk/for-sale/details/62258598/?search_identifier=e0d4c73e0acb394469d6ccb87b423e26f2c7d09f0d68a9ec8391042af7a462c6\n",
      "Starting extraction for link 46238: https://www.zoopla.co.uk/for-sale/details/62258622/?search_identifier=e0d4c73e0acb394469d6ccb87b423e26f2c7d09f0d68a9ec8391042af7a462c6\n"
     ]
    },
    {
     "name": "stderr",
     "output_type": "stream",
     "text": [
      "could not detect version_main.therefore, we are assuming it is chrome 108 or higher\n"
     ]
    },
    {
     "name": "stdout",
     "output_type": "stream",
     "text": [
      "Saved to db successfully\n",
      "Done with link 46238: https://www.zoopla.co.uk/for-sale/details/62258622/?search_identifier=e0d4c73e0acb394469d6ccb87b423e26f2c7d09f0d68a9ec8391042af7a462c6\n",
      "Starting extraction for link 46239: https://www.zoopla.co.uk/for-sale/details/61475089/?search_identifier=e0d4c73e0acb394469d6ccb87b423e26f2c7d09f0d68a9ec8391042af7a462c6\n"
     ]
    },
    {
     "name": "stderr",
     "output_type": "stream",
     "text": [
      "could not detect version_main.therefore, we are assuming it is chrome 108 or higher\n"
     ]
    },
    {
     "name": "stdout",
     "output_type": "stream",
     "text": [
      "Saved to db successfully\n",
      "Done with link 46239: https://www.zoopla.co.uk/for-sale/details/61475089/?search_identifier=e0d4c73e0acb394469d6ccb87b423e26f2c7d09f0d68a9ec8391042af7a462c6\n",
      "Starting extraction for link 46240: https://www.zoopla.co.uk/for-sale/details/61468918/?search_identifier=e0d4c73e0acb394469d6ccb87b423e26f2c7d09f0d68a9ec8391042af7a462c6\n"
     ]
    },
    {
     "name": "stderr",
     "output_type": "stream",
     "text": [
      "could not detect version_main.therefore, we are assuming it is chrome 108 or higher\n"
     ]
    },
    {
     "name": "stdout",
     "output_type": "stream",
     "text": [
      "Saved to db successfully\n",
      "Done with link 46240: https://www.zoopla.co.uk/for-sale/details/61468918/?search_identifier=e0d4c73e0acb394469d6ccb87b423e26f2c7d09f0d68a9ec8391042af7a462c6\n",
      "Starting extraction for link 46241: https://www.zoopla.co.uk/for-sale/details/59178083/?search_identifier=e0d4c73e0acb394469d6ccb87b423e26f2c7d09f0d68a9ec8391042af7a462c6\n"
     ]
    },
    {
     "name": "stderr",
     "output_type": "stream",
     "text": [
      "could not detect version_main.therefore, we are assuming it is chrome 108 or higher\n"
     ]
    },
    {
     "name": "stdout",
     "output_type": "stream",
     "text": [
      "Saved to db successfully\n",
      "Done with link 46241: https://www.zoopla.co.uk/for-sale/details/59178083/?search_identifier=e0d4c73e0acb394469d6ccb87b423e26f2c7d09f0d68a9ec8391042af7a462c6\n",
      "Starting extraction for link 46242: https://www.zoopla.co.uk/new-homes/details/60821027/?search_identifier=e0d4c73e0acb394469d6ccb87b423e26f2c7d09f0d68a9ec8391042af7a462c6\n"
     ]
    },
    {
     "name": "stderr",
     "output_type": "stream",
     "text": [
      "could not detect version_main.therefore, we are assuming it is chrome 108 or higher\n"
     ]
    },
    {
     "name": "stdout",
     "output_type": "stream",
     "text": [
      "Saved to db successfully\n",
      "Done with link 46242: https://www.zoopla.co.uk/new-homes/details/60821027/?search_identifier=e0d4c73e0acb394469d6ccb87b423e26f2c7d09f0d68a9ec8391042af7a462c6\n",
      "Starting extraction for link 46243: https://www.zoopla.co.uk/for-sale/details/59315815/?search_identifier=e0d4c73e0acb394469d6ccb87b423e26f2c7d09f0d68a9ec8391042af7a462c6\n"
     ]
    },
    {
     "name": "stderr",
     "output_type": "stream",
     "text": [
      "could not detect version_main.therefore, we are assuming it is chrome 108 or higher\n"
     ]
    },
    {
     "name": "stdout",
     "output_type": "stream",
     "text": [
      "Saved to db successfully\n",
      "Done with link 46243: https://www.zoopla.co.uk/for-sale/details/59315815/?search_identifier=e0d4c73e0acb394469d6ccb87b423e26f2c7d09f0d68a9ec8391042af7a462c6\n",
      "Starting extraction for link 46244: https://www.zoopla.co.uk/new-homes/details/65111651/?search_identifier=7815c16ebb5cd21b6340fc70da8c23f2e82d569153578d620c64a9e7e151f5d2\n"
     ]
    },
    {
     "name": "stderr",
     "output_type": "stream",
     "text": [
      "could not detect version_main.therefore, we are assuming it is chrome 108 or higher\n"
     ]
    },
    {
     "name": "stdout",
     "output_type": "stream",
     "text": [
      "Saved to db successfully\n",
      "Done with link 46244: https://www.zoopla.co.uk/new-homes/details/65111651/?search_identifier=7815c16ebb5cd21b6340fc70da8c23f2e82d569153578d620c64a9e7e151f5d2\n",
      "Starting extraction for link 46245: https://www.zoopla.co.uk/for-sale/details/65089656/?search_identifier=7815c16ebb5cd21b6340fc70da8c23f2e82d569153578d620c64a9e7e151f5d2\n"
     ]
    },
    {
     "name": "stderr",
     "output_type": "stream",
     "text": [
      "could not detect version_main.therefore, we are assuming it is chrome 108 or higher\n"
     ]
    },
    {
     "name": "stdout",
     "output_type": "stream",
     "text": [
      "Saved to db successfully\n",
      "Done with link 46245: https://www.zoopla.co.uk/for-sale/details/65089656/?search_identifier=7815c16ebb5cd21b6340fc70da8c23f2e82d569153578d620c64a9e7e151f5d2\n",
      "Starting extraction for link 46246: https://www.zoopla.co.uk/for-sale/details/64943577/?search_identifier=7815c16ebb5cd21b6340fc70da8c23f2e82d569153578d620c64a9e7e151f5d2\n"
     ]
    },
    {
     "name": "stderr",
     "output_type": "stream",
     "text": [
      "could not detect version_main.therefore, we are assuming it is chrome 108 or higher\n"
     ]
    },
    {
     "name": "stdout",
     "output_type": "stream",
     "text": [
      "Saved to db successfully\n",
      "Done with link 46246: https://www.zoopla.co.uk/for-sale/details/64943577/?search_identifier=7815c16ebb5cd21b6340fc70da8c23f2e82d569153578d620c64a9e7e151f5d2\n",
      "Starting extraction for link 46247: https://www.zoopla.co.uk/for-sale/details/64814774/?search_identifier=7815c16ebb5cd21b6340fc70da8c23f2e82d569153578d620c64a9e7e151f5d2\n"
     ]
    },
    {
     "name": "stderr",
     "output_type": "stream",
     "text": [
      "could not detect version_main.therefore, we are assuming it is chrome 108 or higher\n"
     ]
    },
    {
     "name": "stdout",
     "output_type": "stream",
     "text": [
      "Saved to db successfully\n",
      "Done with link 46247: https://www.zoopla.co.uk/for-sale/details/64814774/?search_identifier=7815c16ebb5cd21b6340fc70da8c23f2e82d569153578d620c64a9e7e151f5d2\n",
      "Starting extraction for link 46248: https://www.zoopla.co.uk/for-sale/details/64809375/?search_identifier=7815c16ebb5cd21b6340fc70da8c23f2e82d569153578d620c64a9e7e151f5d2\n"
     ]
    },
    {
     "name": "stderr",
     "output_type": "stream",
     "text": [
      "could not detect version_main.therefore, we are assuming it is chrome 108 or higher\n"
     ]
    },
    {
     "name": "stdout",
     "output_type": "stream",
     "text": [
      "Saved to db successfully\n",
      "Done with link 46248: https://www.zoopla.co.uk/for-sale/details/64809375/?search_identifier=7815c16ebb5cd21b6340fc70da8c23f2e82d569153578d620c64a9e7e151f5d2\n",
      "Starting extraction for link 46249: https://www.zoopla.co.uk/for-sale/details/64805325/?search_identifier=7815c16ebb5cd21b6340fc70da8c23f2e82d569153578d620c64a9e7e151f5d2\n"
     ]
    },
    {
     "name": "stderr",
     "output_type": "stream",
     "text": [
      "could not detect version_main.therefore, we are assuming it is chrome 108 or higher\n"
     ]
    },
    {
     "name": "stdout",
     "output_type": "stream",
     "text": [
      "Saved to db successfully\n",
      "Done with link 46249: https://www.zoopla.co.uk/for-sale/details/64805325/?search_identifier=7815c16ebb5cd21b6340fc70da8c23f2e82d569153578d620c64a9e7e151f5d2\n",
      "Starting extraction for link 46250: https://www.zoopla.co.uk/for-sale/details/64789650/?search_identifier=7815c16ebb5cd21b6340fc70da8c23f2e82d569153578d620c64a9e7e151f5d2\n",
      "An error occurred for link in get_data_func: https://www.zoopla.co.uk/for-sale/details/64789650/?search_identifier=7815c16ebb5cd21b6340fc70da8c23f2e82d569153578d620c64a9e7e151f5d2: Message: no such element: Unable to locate element: {\"method\":\"xpath\",\"selector\":\"//p[@data-testid=\"price\"]\"}\n",
      "  (Session info: chrome=115.0.5790.171); For documentation on this error, please visit: https://www.selenium.dev/documentation/webdriver/troubleshooting/errors#no-such-element-exception\n",
      "Stacktrace:\n",
      "Backtrace:\n",
      "\tGetHandleVerifier [0x0073A813+48355]\n",
      "\t(No symbol) [0x006CC4B1]\n",
      "\t(No symbol) [0x005D5358]\n",
      "\t(No symbol) [0x006009A5]\n",
      "\t(No symbol) [0x00600B3B]\n",
      "\t(No symbol) [0x0062E232]\n",
      "\t(No symbol) [0x0061A784]\n",
      "\t(No symbol) [0x0062C922]\n",
      "\t(No symbol) [0x0061A536]\n",
      "\t(No symbol) [0x005F82DC]\n",
      "\t(No symbol) [0x005F93DD]\n",
      "\tGetHandleVerifier [0x0099AABD+2539405]\n",
      "\tGetHandleVerifier [0x009DA78F+2800735]\n",
      "\tGetHandleVerifier [0x009D456C+2775612]\n",
      "\tGetHandleVerifier [0x007C51E0+616112]\n",
      "\t(No symbol) [0x006D5F8C]\n",
      "\t(No symbol) [0x006D2328]\n",
      "\t(No symbol) [0x006D240B]\n",
      "\t(No symbol) [0x006C4FF7]\n",
      "\tBaseThreadInitThunk [0x761E7D59+25]\n",
      "\tRtlInitializeExceptionChain [0x773DB79B+107]\n",
      "\tRtlClearBits [0x773DB71F+191]\n",
      "\n"
     ]
    },
    {
     "name": "stderr",
     "output_type": "stream",
     "text": [
      "could not detect version_main.therefore, we are assuming it is chrome 108 or higher\n"
     ]
    },
    {
     "name": "stdout",
     "output_type": "stream",
     "text": [
      "Saved to db successfully\n",
      "Done with link 46250: https://www.zoopla.co.uk/for-sale/details/64789650/?search_identifier=7815c16ebb5cd21b6340fc70da8c23f2e82d569153578d620c64a9e7e151f5d2\n",
      "Starting extraction for link 46251: https://www.zoopla.co.uk/for-sale/details/64762170/?search_identifier=7815c16ebb5cd21b6340fc70da8c23f2e82d569153578d620c64a9e7e151f5d2\n"
     ]
    },
    {
     "name": "stderr",
     "output_type": "stream",
     "text": [
      "could not detect version_main.therefore, we are assuming it is chrome 108 or higher\n"
     ]
    },
    {
     "name": "stdout",
     "output_type": "stream",
     "text": [
      "Saved to db successfully\n",
      "Done with link 46251: https://www.zoopla.co.uk/for-sale/details/64762170/?search_identifier=7815c16ebb5cd21b6340fc70da8c23f2e82d569153578d620c64a9e7e151f5d2\n",
      "Starting extraction for link 46252: https://www.zoopla.co.uk/for-sale/details/64692147/?search_identifier=7815c16ebb5cd21b6340fc70da8c23f2e82d569153578d620c64a9e7e151f5d2\n"
     ]
    },
    {
     "name": "stderr",
     "output_type": "stream",
     "text": [
      "could not detect version_main.therefore, we are assuming it is chrome 108 or higher\n"
     ]
    },
    {
     "name": "stdout",
     "output_type": "stream",
     "text": [
      "Saved to db successfully\n",
      "Done with link 46252: https://www.zoopla.co.uk/for-sale/details/64692147/?search_identifier=7815c16ebb5cd21b6340fc70da8c23f2e82d569153578d620c64a9e7e151f5d2\n",
      "Starting extraction for link 46253: https://www.zoopla.co.uk/for-sale/details/64659696/?search_identifier=7815c16ebb5cd21b6340fc70da8c23f2e82d569153578d620c64a9e7e151f5d2\n"
     ]
    },
    {
     "name": "stderr",
     "output_type": "stream",
     "text": [
      "could not detect version_main.therefore, we are assuming it is chrome 108 or higher\n"
     ]
    },
    {
     "name": "stdout",
     "output_type": "stream",
     "text": [
      "Saved to db successfully\n",
      "Done with link 46253: https://www.zoopla.co.uk/for-sale/details/64659696/?search_identifier=7815c16ebb5cd21b6340fc70da8c23f2e82d569153578d620c64a9e7e151f5d2\n",
      "Starting extraction for link 46254: https://www.zoopla.co.uk/for-sale/details/64206281/?search_identifier=7815c16ebb5cd21b6340fc70da8c23f2e82d569153578d620c64a9e7e151f5d2\n"
     ]
    },
    {
     "name": "stderr",
     "output_type": "stream",
     "text": [
      "could not detect version_main.therefore, we are assuming it is chrome 108 or higher\n"
     ]
    },
    {
     "name": "stdout",
     "output_type": "stream",
     "text": [
      "Saved to db successfully\n",
      "Done with link 46254: https://www.zoopla.co.uk/for-sale/details/64206281/?search_identifier=7815c16ebb5cd21b6340fc70da8c23f2e82d569153578d620c64a9e7e151f5d2\n",
      "Starting extraction for link 46255: https://www.zoopla.co.uk/for-sale/details/64058608/?search_identifier=7815c16ebb5cd21b6340fc70da8c23f2e82d569153578d620c64a9e7e151f5d2\n"
     ]
    },
    {
     "name": "stderr",
     "output_type": "stream",
     "text": [
      "could not detect version_main.therefore, we are assuming it is chrome 108 or higher\n"
     ]
    },
    {
     "name": "stdout",
     "output_type": "stream",
     "text": [
      "Saved to db successfully\n",
      "Done with link 46255: https://www.zoopla.co.uk/for-sale/details/64058608/?search_identifier=7815c16ebb5cd21b6340fc70da8c23f2e82d569153578d620c64a9e7e151f5d2\n",
      "Starting extraction for link 46256: https://www.zoopla.co.uk/for-sale/details/64048326/?search_identifier=7815c16ebb5cd21b6340fc70da8c23f2e82d569153578d620c64a9e7e151f5d2\n"
     ]
    },
    {
     "name": "stderr",
     "output_type": "stream",
     "text": [
      "could not detect version_main.therefore, we are assuming it is chrome 108 or higher\n"
     ]
    },
    {
     "name": "stdout",
     "output_type": "stream",
     "text": [
      "Saved to db successfully\n",
      "Done with link 46256: https://www.zoopla.co.uk/for-sale/details/64048326/?search_identifier=7815c16ebb5cd21b6340fc70da8c23f2e82d569153578d620c64a9e7e151f5d2\n",
      "Starting extraction for link 46257: https://www.zoopla.co.uk/for-sale/details/64014870/?search_identifier=7815c16ebb5cd21b6340fc70da8c23f2e82d569153578d620c64a9e7e151f5d2\n"
     ]
    },
    {
     "name": "stderr",
     "output_type": "stream",
     "text": [
      "could not detect version_main.therefore, we are assuming it is chrome 108 or higher\n"
     ]
    },
    {
     "name": "stdout",
     "output_type": "stream",
     "text": [
      "Saved to db successfully\n",
      "Done with link 46257: https://www.zoopla.co.uk/for-sale/details/64014870/?search_identifier=7815c16ebb5cd21b6340fc70da8c23f2e82d569153578d620c64a9e7e151f5d2\n",
      "Starting extraction for link 46258: https://www.zoopla.co.uk/for-sale/details/54217039/?search_identifier=7815c16ebb5cd21b6340fc70da8c23f2e82d569153578d620c64a9e7e151f5d2\n"
     ]
    },
    {
     "name": "stderr",
     "output_type": "stream",
     "text": [
      "could not detect version_main.therefore, we are assuming it is chrome 108 or higher\n"
     ]
    },
    {
     "name": "stdout",
     "output_type": "stream",
     "text": [
      "Saved to db successfully\n",
      "Done with link 46258: https://www.zoopla.co.uk/for-sale/details/54217039/?search_identifier=7815c16ebb5cd21b6340fc70da8c23f2e82d569153578d620c64a9e7e151f5d2\n",
      "Starting extraction for link 46259: https://www.zoopla.co.uk/for-sale/details/63846179/?search_identifier=7815c16ebb5cd21b6340fc70da8c23f2e82d569153578d620c64a9e7e151f5d2\n",
      "An error occurred for link in get_data_func: https://www.zoopla.co.uk/for-sale/details/63846179/?search_identifier=7815c16ebb5cd21b6340fc70da8c23f2e82d569153578d620c64a9e7e151f5d2: Message: no such element: Unable to locate element: {\"method\":\"xpath\",\"selector\":\"//p[@data-testid=\"price\"]\"}\n",
      "  (Session info: chrome=115.0.5790.171); For documentation on this error, please visit: https://www.selenium.dev/documentation/webdriver/troubleshooting/errors#no-such-element-exception\n",
      "Stacktrace:\n",
      "Backtrace:\n",
      "\tGetHandleVerifier [0x0073A813+48355]\n",
      "\t(No symbol) [0x006CC4B1]\n",
      "\t(No symbol) [0x005D5358]\n",
      "\t(No symbol) [0x006009A5]\n",
      "\t(No symbol) [0x00600B3B]\n",
      "\t(No symbol) [0x0062E232]\n",
      "\t(No symbol) [0x0061A784]\n",
      "\t(No symbol) [0x0062C922]\n",
      "\t(No symbol) [0x0061A536]\n",
      "\t(No symbol) [0x005F82DC]\n",
      "\t(No symbol) [0x005F93DD]\n",
      "\tGetHandleVerifier [0x0099AABD+2539405]\n",
      "\tGetHandleVerifier [0x009DA78F+2800735]\n",
      "\tGetHandleVerifier [0x009D456C+2775612]\n",
      "\tGetHandleVerifier [0x007C51E0+616112]\n",
      "\t(No symbol) [0x006D5F8C]\n",
      "\t(No symbol) [0x006D2328]\n",
      "\t(No symbol) [0x006D240B]\n",
      "\t(No symbol) [0x006C4FF7]\n",
      "\tBaseThreadInitThunk [0x761E7D59+25]\n",
      "\tRtlInitializeExceptionChain [0x773DB79B+107]\n",
      "\tRtlClearBits [0x773DB71F+191]\n",
      "\n"
     ]
    },
    {
     "name": "stderr",
     "output_type": "stream",
     "text": [
      "could not detect version_main.therefore, we are assuming it is chrome 108 or higher\n"
     ]
    },
    {
     "name": "stdout",
     "output_type": "stream",
     "text": [
      "Saved to db successfully\n",
      "Done with link 46259: https://www.zoopla.co.uk/for-sale/details/63846179/?search_identifier=7815c16ebb5cd21b6340fc70da8c23f2e82d569153578d620c64a9e7e151f5d2\n",
      "Starting extraction for link 46260: https://www.zoopla.co.uk/for-sale/details/63797931/?search_identifier=7815c16ebb5cd21b6340fc70da8c23f2e82d569153578d620c64a9e7e151f5d2\n"
     ]
    },
    {
     "name": "stderr",
     "output_type": "stream",
     "text": [
      "could not detect version_main.therefore, we are assuming it is chrome 108 or higher\n"
     ]
    },
    {
     "name": "stdout",
     "output_type": "stream",
     "text": [
      "Saved to db successfully\n",
      "Done with link 46260: https://www.zoopla.co.uk/for-sale/details/63797931/?search_identifier=7815c16ebb5cd21b6340fc70da8c23f2e82d569153578d620c64a9e7e151f5d2\n",
      "Starting extraction for link 46261: https://www.zoopla.co.uk/for-sale/details/63760276/?search_identifier=7815c16ebb5cd21b6340fc70da8c23f2e82d569153578d620c64a9e7e151f5d2\n",
      "An error occurred for link in get_data_func: https://www.zoopla.co.uk/for-sale/details/63760276/?search_identifier=7815c16ebb5cd21b6340fc70da8c23f2e82d569153578d620c64a9e7e151f5d2: Message: no such element: Unable to locate element: {\"method\":\"xpath\",\"selector\":\"//p[@data-testid=\"price\"]\"}\n",
      "  (Session info: chrome=115.0.5790.171); For documentation on this error, please visit: https://www.selenium.dev/documentation/webdriver/troubleshooting/errors#no-such-element-exception\n",
      "Stacktrace:\n",
      "Backtrace:\n",
      "\tGetHandleVerifier [0x0073A813+48355]\n",
      "\t(No symbol) [0x006CC4B1]\n",
      "\t(No symbol) [0x005D5358]\n",
      "\t(No symbol) [0x006009A5]\n",
      "\t(No symbol) [0x00600B3B]\n",
      "\t(No symbol) [0x0062E232]\n",
      "\t(No symbol) [0x0061A784]\n",
      "\t(No symbol) [0x0062C922]\n",
      "\t(No symbol) [0x0061A536]\n",
      "\t(No symbol) [0x005F82DC]\n",
      "\t(No symbol) [0x005F93DD]\n",
      "\tGetHandleVerifier [0x0099AABD+2539405]\n",
      "\tGetHandleVerifier [0x009DA78F+2800735]\n",
      "\tGetHandleVerifier [0x009D456C+2775612]\n",
      "\tGetHandleVerifier [0x007C51E0+616112]\n",
      "\t(No symbol) [0x006D5F8C]\n",
      "\t(No symbol) [0x006D2328]\n",
      "\t(No symbol) [0x006D240B]\n",
      "\t(No symbol) [0x006C4FF7]\n",
      "\tBaseThreadInitThunk [0x761E7D59+25]\n",
      "\tRtlInitializeExceptionChain [0x773DB79B+107]\n",
      "\tRtlClearBits [0x773DB71F+191]\n",
      "\n"
     ]
    },
    {
     "name": "stderr",
     "output_type": "stream",
     "text": [
      "could not detect version_main.therefore, we are assuming it is chrome 108 or higher\n"
     ]
    },
    {
     "name": "stdout",
     "output_type": "stream",
     "text": [
      "Saved to db successfully\n",
      "Done with link 46261: https://www.zoopla.co.uk/for-sale/details/63760276/?search_identifier=7815c16ebb5cd21b6340fc70da8c23f2e82d569153578d620c64a9e7e151f5d2\n",
      "Starting extraction for link 46262: https://www.zoopla.co.uk/for-sale/details/63423533/?search_identifier=7815c16ebb5cd21b6340fc70da8c23f2e82d569153578d620c64a9e7e151f5d2\n"
     ]
    },
    {
     "name": "stderr",
     "output_type": "stream",
     "text": [
      "could not detect version_main.therefore, we are assuming it is chrome 108 or higher\n"
     ]
    },
    {
     "name": "stdout",
     "output_type": "stream",
     "text": [
      "Saved to db successfully\n",
      "Done with link 46262: https://www.zoopla.co.uk/for-sale/details/63423533/?search_identifier=7815c16ebb5cd21b6340fc70da8c23f2e82d569153578d620c64a9e7e151f5d2\n",
      "Starting extraction for link 46263: https://www.zoopla.co.uk/for-sale/details/63282947/?search_identifier=7815c16ebb5cd21b6340fc70da8c23f2e82d569153578d620c64a9e7e151f5d2\n"
     ]
    },
    {
     "name": "stderr",
     "output_type": "stream",
     "text": [
      "could not detect version_main.therefore, we are assuming it is chrome 108 or higher\n"
     ]
    },
    {
     "name": "stdout",
     "output_type": "stream",
     "text": [
      "Saved to db successfully\n",
      "Done with link 46263: https://www.zoopla.co.uk/for-sale/details/63282947/?search_identifier=7815c16ebb5cd21b6340fc70da8c23f2e82d569153578d620c64a9e7e151f5d2\n",
      "Starting extraction for link 46264: https://www.zoopla.co.uk/for-sale/details/62423970/?search_identifier=7815c16ebb5cd21b6340fc70da8c23f2e82d569153578d620c64a9e7e151f5d2\n"
     ]
    },
    {
     "name": "stderr",
     "output_type": "stream",
     "text": [
      "could not detect version_main.therefore, we are assuming it is chrome 108 or higher\n"
     ]
    },
    {
     "name": "stdout",
     "output_type": "stream",
     "text": [
      "Saved to db successfully\n",
      "Done with link 46264: https://www.zoopla.co.uk/for-sale/details/62423970/?search_identifier=7815c16ebb5cd21b6340fc70da8c23f2e82d569153578d620c64a9e7e151f5d2\n",
      "Starting extraction for link 46265: https://www.zoopla.co.uk/for-sale/details/62225263/?search_identifier=7815c16ebb5cd21b6340fc70da8c23f2e82d569153578d620c64a9e7e151f5d2\n"
     ]
    },
    {
     "name": "stderr",
     "output_type": "stream",
     "text": [
      "could not detect version_main.therefore, we are assuming it is chrome 108 or higher\n"
     ]
    },
    {
     "name": "stdout",
     "output_type": "stream",
     "text": [
      "Saved to db successfully\n",
      "Done with link 46265: https://www.zoopla.co.uk/for-sale/details/62225263/?search_identifier=7815c16ebb5cd21b6340fc70da8c23f2e82d569153578d620c64a9e7e151f5d2\n",
      "Starting extraction for link 46266: https://www.zoopla.co.uk/for-sale/details/61723218/?search_identifier=7815c16ebb5cd21b6340fc70da8c23f2e82d569153578d620c64a9e7e151f5d2\n"
     ]
    },
    {
     "name": "stderr",
     "output_type": "stream",
     "text": [
      "could not detect version_main.therefore, we are assuming it is chrome 108 or higher\n"
     ]
    },
    {
     "name": "stdout",
     "output_type": "stream",
     "text": [
      "Saved to db successfully\n",
      "Done with link 46266: https://www.zoopla.co.uk/for-sale/details/61723218/?search_identifier=7815c16ebb5cd21b6340fc70da8c23f2e82d569153578d620c64a9e7e151f5d2\n",
      "Starting extraction for link 46267: https://www.zoopla.co.uk/for-sale/details/57975575/?search_identifier=7815c16ebb5cd21b6340fc70da8c23f2e82d569153578d620c64a9e7e151f5d2\n"
     ]
    },
    {
     "name": "stderr",
     "output_type": "stream",
     "text": [
      "could not detect version_main.therefore, we are assuming it is chrome 108 or higher\n"
     ]
    },
    {
     "name": "stdout",
     "output_type": "stream",
     "text": [
      "Saved to db successfully\n",
      "Done with link 46267: https://www.zoopla.co.uk/for-sale/details/57975575/?search_identifier=7815c16ebb5cd21b6340fc70da8c23f2e82d569153578d620c64a9e7e151f5d2\n",
      "Starting extraction for link 46268: https://www.zoopla.co.uk/for-sale/details/54599106/?search_identifier=7815c16ebb5cd21b6340fc70da8c23f2e82d569153578d620c64a9e7e151f5d2\n"
     ]
    },
    {
     "name": "stderr",
     "output_type": "stream",
     "text": [
      "could not detect version_main.therefore, we are assuming it is chrome 108 or higher\n"
     ]
    },
    {
     "name": "stdout",
     "output_type": "stream",
     "text": [
      "Saved to db successfully\n",
      "Done with link 46268: https://www.zoopla.co.uk/for-sale/details/54599106/?search_identifier=7815c16ebb5cd21b6340fc70da8c23f2e82d569153578d620c64a9e7e151f5d2\n",
      "Starting extraction for link 46269: https://www.zoopla.co.uk/for-sale/details/65224012/?search_identifier=f35813e16afa778daad5d52bb69d95bc5e8381ef22e9feb6aa39b295002e023b\n"
     ]
    },
    {
     "name": "stderr",
     "output_type": "stream",
     "text": [
      "could not detect version_main.therefore, we are assuming it is chrome 108 or higher\n"
     ]
    },
    {
     "name": "stdout",
     "output_type": "stream",
     "text": [
      "Saved to db successfully\n",
      "Done with link 46269: https://www.zoopla.co.uk/for-sale/details/65224012/?search_identifier=f35813e16afa778daad5d52bb69d95bc5e8381ef22e9feb6aa39b295002e023b\n",
      "Starting extraction for link 46270: https://www.zoopla.co.uk/for-sale/details/65223651/?search_identifier=f35813e16afa778daad5d52bb69d95bc5e8381ef22e9feb6aa39b295002e023b\n"
     ]
    },
    {
     "name": "stderr",
     "output_type": "stream",
     "text": [
      "could not detect version_main.therefore, we are assuming it is chrome 108 or higher\n"
     ]
    },
    {
     "name": "stdout",
     "output_type": "stream",
     "text": [
      "Saved to db successfully\n",
      "Done with link 46270: https://www.zoopla.co.uk/for-sale/details/65223651/?search_identifier=f35813e16afa778daad5d52bb69d95bc5e8381ef22e9feb6aa39b295002e023b\n",
      "Starting extraction for link 46271: https://www.zoopla.co.uk/for-sale/details/65223512/?search_identifier=f35813e16afa778daad5d52bb69d95bc5e8381ef22e9feb6aa39b295002e023b\n"
     ]
    },
    {
     "name": "stderr",
     "output_type": "stream",
     "text": [
      "could not detect version_main.therefore, we are assuming it is chrome 108 or higher\n"
     ]
    },
    {
     "name": "stdout",
     "output_type": "stream",
     "text": [
      "Saved to db successfully\n",
      "Done with link 46271: https://www.zoopla.co.uk/for-sale/details/65223512/?search_identifier=f35813e16afa778daad5d52bb69d95bc5e8381ef22e9feb6aa39b295002e023b\n",
      "Starting extraction for link 46272: https://www.zoopla.co.uk/for-sale/details/65223343/?search_identifier=f35813e16afa778daad5d52bb69d95bc5e8381ef22e9feb6aa39b295002e023b\n"
     ]
    },
    {
     "name": "stderr",
     "output_type": "stream",
     "text": [
      "could not detect version_main.therefore, we are assuming it is chrome 108 or higher\n"
     ]
    },
    {
     "name": "stdout",
     "output_type": "stream",
     "text": [
      "Saved to db successfully\n",
      "Done with link 46272: https://www.zoopla.co.uk/for-sale/details/65223343/?search_identifier=f35813e16afa778daad5d52bb69d95bc5e8381ef22e9feb6aa39b295002e023b\n",
      "Starting extraction for link 46273: https://www.zoopla.co.uk/for-sale/details/65222757/?search_identifier=f35813e16afa778daad5d52bb69d95bc5e8381ef22e9feb6aa39b295002e023b\n",
      "An error occurred for link in get_data_func: https://www.zoopla.co.uk/for-sale/details/65222757/?search_identifier=f35813e16afa778daad5d52bb69d95bc5e8381ef22e9feb6aa39b295002e023b: Message: no such element: Unable to locate element: {\"method\":\"xpath\",\"selector\":\"//p[@data-testid=\"price\"]\"}\n",
      "  (Session info: chrome=115.0.5790.171); For documentation on this error, please visit: https://www.selenium.dev/documentation/webdriver/troubleshooting/errors#no-such-element-exception\n",
      "Stacktrace:\n",
      "Backtrace:\n",
      "\tGetHandleVerifier [0x0073A813+48355]\n",
      "\t(No symbol) [0x006CC4B1]\n",
      "\t(No symbol) [0x005D5358]\n",
      "\t(No symbol) [0x006009A5]\n",
      "\t(No symbol) [0x00600B3B]\n",
      "\t(No symbol) [0x0062E232]\n",
      "\t(No symbol) [0x0061A784]\n",
      "\t(No symbol) [0x0062C922]\n",
      "\t(No symbol) [0x0061A536]\n",
      "\t(No symbol) [0x005F82DC]\n",
      "\t(No symbol) [0x005F93DD]\n",
      "\tGetHandleVerifier [0x0099AABD+2539405]\n",
      "\tGetHandleVerifier [0x009DA78F+2800735]\n",
      "\tGetHandleVerifier [0x009D456C+2775612]\n",
      "\tGetHandleVerifier [0x007C51E0+616112]\n",
      "\t(No symbol) [0x006D5F8C]\n",
      "\t(No symbol) [0x006D2328]\n",
      "\t(No symbol) [0x006D240B]\n",
      "\t(No symbol) [0x006C4FF7]\n",
      "\tBaseThreadInitThunk [0x761E7D59+25]\n",
      "\tRtlInitializeExceptionChain [0x773DB79B+107]\n",
      "\tRtlClearBits [0x773DB71F+191]\n",
      "\n"
     ]
    },
    {
     "name": "stderr",
     "output_type": "stream",
     "text": [
      "could not detect version_main.therefore, we are assuming it is chrome 108 or higher\n"
     ]
    },
    {
     "name": "stdout",
     "output_type": "stream",
     "text": [
      "Saved to db successfully\n",
      "Done with link 46273: https://www.zoopla.co.uk/for-sale/details/65222757/?search_identifier=f35813e16afa778daad5d52bb69d95bc5e8381ef22e9feb6aa39b295002e023b\n",
      "Starting extraction for link 46274: https://www.zoopla.co.uk/for-sale/details/65217573/?search_identifier=f35813e16afa778daad5d52bb69d95bc5e8381ef22e9feb6aa39b295002e023b\n"
     ]
    },
    {
     "name": "stderr",
     "output_type": "stream",
     "text": [
      "could not detect version_main.therefore, we are assuming it is chrome 108 or higher\n"
     ]
    },
    {
     "name": "stdout",
     "output_type": "stream",
     "text": [
      "Saved to db successfully\n",
      "Done with link 46274: https://www.zoopla.co.uk/for-sale/details/65217573/?search_identifier=f35813e16afa778daad5d52bb69d95bc5e8381ef22e9feb6aa39b295002e023b\n",
      "Starting extraction for link 46275: https://www.zoopla.co.uk/for-sale/details/65212413/?search_identifier=f35813e16afa778daad5d52bb69d95bc5e8381ef22e9feb6aa39b295002e023b\n"
     ]
    },
    {
     "name": "stderr",
     "output_type": "stream",
     "text": [
      "could not detect version_main.therefore, we are assuming it is chrome 108 or higher\n"
     ]
    },
    {
     "name": "stdout",
     "output_type": "stream",
     "text": [
      "Saved to db successfully\n",
      "Done with link 46275: https://www.zoopla.co.uk/for-sale/details/65212413/?search_identifier=f35813e16afa778daad5d52bb69d95bc5e8381ef22e9feb6aa39b295002e023b\n",
      "Starting extraction for link 46276: https://www.zoopla.co.uk/for-sale/details/65209003/?search_identifier=f35813e16afa778daad5d52bb69d95bc5e8381ef22e9feb6aa39b295002e023b\n"
     ]
    },
    {
     "name": "stderr",
     "output_type": "stream",
     "text": [
      "could not detect version_main.therefore, we are assuming it is chrome 108 or higher\n"
     ]
    },
    {
     "name": "stdout",
     "output_type": "stream",
     "text": [
      "Saved to db successfully\n",
      "Done with link 46276: https://www.zoopla.co.uk/for-sale/details/65209003/?search_identifier=f35813e16afa778daad5d52bb69d95bc5e8381ef22e9feb6aa39b295002e023b\n",
      "Starting extraction for link 46277: https://www.zoopla.co.uk/for-sale/details/65208459/?search_identifier=f35813e16afa778daad5d52bb69d95bc5e8381ef22e9feb6aa39b295002e023b\n"
     ]
    },
    {
     "name": "stderr",
     "output_type": "stream",
     "text": [
      "could not detect version_main.therefore, we are assuming it is chrome 108 or higher\n"
     ]
    },
    {
     "name": "stdout",
     "output_type": "stream",
     "text": [
      "Saved to db successfully\n",
      "Done with link 46277: https://www.zoopla.co.uk/for-sale/details/65208459/?search_identifier=f35813e16afa778daad5d52bb69d95bc5e8381ef22e9feb6aa39b295002e023b\n",
      "Starting extraction for link 46278: https://www.zoopla.co.uk/for-sale/details/65202491/?search_identifier=f35813e16afa778daad5d52bb69d95bc5e8381ef22e9feb6aa39b295002e023b\n"
     ]
    },
    {
     "name": "stderr",
     "output_type": "stream",
     "text": [
      "could not detect version_main.therefore, we are assuming it is chrome 108 or higher\n"
     ]
    },
    {
     "name": "stdout",
     "output_type": "stream",
     "text": [
      "Saved to db successfully\n",
      "Done with link 46278: https://www.zoopla.co.uk/for-sale/details/65202491/?search_identifier=f35813e16afa778daad5d52bb69d95bc5e8381ef22e9feb6aa39b295002e023b\n",
      "Starting extraction for link 46279: https://www.zoopla.co.uk/for-sale/details/65198178/?search_identifier=f35813e16afa778daad5d52bb69d95bc5e8381ef22e9feb6aa39b295002e023b\n"
     ]
    },
    {
     "name": "stderr",
     "output_type": "stream",
     "text": [
      "could not detect version_main.therefore, we are assuming it is chrome 108 or higher\n"
     ]
    },
    {
     "name": "stdout",
     "output_type": "stream",
     "text": [
      "Saved to db successfully\n",
      "Done with link 46279: https://www.zoopla.co.uk/for-sale/details/65198178/?search_identifier=f35813e16afa778daad5d52bb69d95bc5e8381ef22e9feb6aa39b295002e023b\n",
      "Starting extraction for link 46280: https://www.zoopla.co.uk/for-sale/details/65194383/?search_identifier=f35813e16afa778daad5d52bb69d95bc5e8381ef22e9feb6aa39b295002e023b\n"
     ]
    },
    {
     "name": "stderr",
     "output_type": "stream",
     "text": [
      "could not detect version_main.therefore, we are assuming it is chrome 108 or higher\n"
     ]
    },
    {
     "name": "stdout",
     "output_type": "stream",
     "text": [
      "Saved to db successfully\n",
      "Done with link 46280: https://www.zoopla.co.uk/for-sale/details/65194383/?search_identifier=f35813e16afa778daad5d52bb69d95bc5e8381ef22e9feb6aa39b295002e023b\n",
      "Starting extraction for link 46281: https://www.zoopla.co.uk/for-sale/details/65191038/?search_identifier=f35813e16afa778daad5d52bb69d95bc5e8381ef22e9feb6aa39b295002e023b\n"
     ]
    },
    {
     "name": "stderr",
     "output_type": "stream",
     "text": [
      "could not detect version_main.therefore, we are assuming it is chrome 108 or higher\n"
     ]
    },
    {
     "name": "stdout",
     "output_type": "stream",
     "text": [
      "Saved to db successfully\n",
      "Done with link 46281: https://www.zoopla.co.uk/for-sale/details/65191038/?search_identifier=f35813e16afa778daad5d52bb69d95bc5e8381ef22e9feb6aa39b295002e023b\n",
      "Starting extraction for link 46282: https://www.zoopla.co.uk/for-sale/details/65185119/?search_identifier=f35813e16afa778daad5d52bb69d95bc5e8381ef22e9feb6aa39b295002e023b\n"
     ]
    },
    {
     "name": "stderr",
     "output_type": "stream",
     "text": [
      "could not detect version_main.therefore, we are assuming it is chrome 108 or higher\n"
     ]
    },
    {
     "name": "stdout",
     "output_type": "stream",
     "text": [
      "Saved to db successfully\n",
      "Done with link 46282: https://www.zoopla.co.uk/for-sale/details/65185119/?search_identifier=f35813e16afa778daad5d52bb69d95bc5e8381ef22e9feb6aa39b295002e023b\n",
      "Starting extraction for link 46283: https://www.zoopla.co.uk/for-sale/details/65183799/?search_identifier=f35813e16afa778daad5d52bb69d95bc5e8381ef22e9feb6aa39b295002e023b\n"
     ]
    },
    {
     "name": "stderr",
     "output_type": "stream",
     "text": [
      "could not detect version_main.therefore, we are assuming it is chrome 108 or higher\n"
     ]
    },
    {
     "name": "stdout",
     "output_type": "stream",
     "text": [
      "Saved to db successfully\n",
      "Done with link 46283: https://www.zoopla.co.uk/for-sale/details/65183799/?search_identifier=f35813e16afa778daad5d52bb69d95bc5e8381ef22e9feb6aa39b295002e023b\n",
      "Starting extraction for link 46284: https://www.zoopla.co.uk/for-sale/details/65183497/?search_identifier=f35813e16afa778daad5d52bb69d95bc5e8381ef22e9feb6aa39b295002e023b\n"
     ]
    },
    {
     "name": "stderr",
     "output_type": "stream",
     "text": [
      "could not detect version_main.therefore, we are assuming it is chrome 108 or higher\n"
     ]
    },
    {
     "name": "stdout",
     "output_type": "stream",
     "text": [
      "Saved to db successfully\n",
      "Done with link 46284: https://www.zoopla.co.uk/for-sale/details/65183497/?search_identifier=f35813e16afa778daad5d52bb69d95bc5e8381ef22e9feb6aa39b295002e023b\n",
      "Starting extraction for link 46285: https://www.zoopla.co.uk/for-sale/details/64450899/?search_identifier=f35813e16afa778daad5d52bb69d95bc5e8381ef22e9feb6aa39b295002e023b\n"
     ]
    },
    {
     "name": "stderr",
     "output_type": "stream",
     "text": [
      "could not detect version_main.therefore, we are assuming it is chrome 108 or higher\n"
     ]
    },
    {
     "name": "stdout",
     "output_type": "stream",
     "text": [
      "Saved to db successfully\n",
      "Done with link 46285: https://www.zoopla.co.uk/for-sale/details/64450899/?search_identifier=f35813e16afa778daad5d52bb69d95bc5e8381ef22e9feb6aa39b295002e023b\n",
      "Starting extraction for link 46286: https://www.zoopla.co.uk/for-sale/details/65180665/?search_identifier=f35813e16afa778daad5d52bb69d95bc5e8381ef22e9feb6aa39b295002e023b\n"
     ]
    },
    {
     "name": "stderr",
     "output_type": "stream",
     "text": [
      "could not detect version_main.therefore, we are assuming it is chrome 108 or higher\n"
     ]
    },
    {
     "name": "stdout",
     "output_type": "stream",
     "text": [
      "Saved to db successfully\n",
      "Done with link 46286: https://www.zoopla.co.uk/for-sale/details/65180665/?search_identifier=f35813e16afa778daad5d52bb69d95bc5e8381ef22e9feb6aa39b295002e023b\n",
      "Starting extraction for link 46287: https://www.zoopla.co.uk/for-sale/details/65178525/?search_identifier=f35813e16afa778daad5d52bb69d95bc5e8381ef22e9feb6aa39b295002e023b\n"
     ]
    },
    {
     "name": "stderr",
     "output_type": "stream",
     "text": [
      "could not detect version_main.therefore, we are assuming it is chrome 108 or higher\n"
     ]
    },
    {
     "name": "stdout",
     "output_type": "stream",
     "text": [
      "Saved to db successfully\n",
      "Done with link 46287: https://www.zoopla.co.uk/for-sale/details/65178525/?search_identifier=f35813e16afa778daad5d52bb69d95bc5e8381ef22e9feb6aa39b295002e023b\n",
      "Starting extraction for link 46288: https://www.zoopla.co.uk/for-sale/details/65171225/?search_identifier=f35813e16afa778daad5d52bb69d95bc5e8381ef22e9feb6aa39b295002e023b\n"
     ]
    },
    {
     "name": "stderr",
     "output_type": "stream",
     "text": [
      "could not detect version_main.therefore, we are assuming it is chrome 108 or higher\n"
     ]
    },
    {
     "name": "stdout",
     "output_type": "stream",
     "text": [
      "Saved to db successfully\n",
      "Done with link 46288: https://www.zoopla.co.uk/for-sale/details/65171225/?search_identifier=f35813e16afa778daad5d52bb69d95bc5e8381ef22e9feb6aa39b295002e023b\n",
      "Starting extraction for link 46289: https://www.zoopla.co.uk/for-sale/details/65167876/?search_identifier=f35813e16afa778daad5d52bb69d95bc5e8381ef22e9feb6aa39b295002e023b\n"
     ]
    },
    {
     "name": "stderr",
     "output_type": "stream",
     "text": [
      "could not detect version_main.therefore, we are assuming it is chrome 108 or higher\n"
     ]
    },
    {
     "name": "stdout",
     "output_type": "stream",
     "text": [
      "Saved to db successfully\n",
      "Done with link 46289: https://www.zoopla.co.uk/for-sale/details/65167876/?search_identifier=f35813e16afa778daad5d52bb69d95bc5e8381ef22e9feb6aa39b295002e023b\n",
      "Starting extraction for link 46290: https://www.zoopla.co.uk/for-sale/details/65164630/?search_identifier=f35813e16afa778daad5d52bb69d95bc5e8381ef22e9feb6aa39b295002e023b\n"
     ]
    },
    {
     "name": "stderr",
     "output_type": "stream",
     "text": [
      "could not detect version_main.therefore, we are assuming it is chrome 108 or higher\n"
     ]
    },
    {
     "name": "stdout",
     "output_type": "stream",
     "text": [
      "Saved to db successfully\n",
      "Done with link 46290: https://www.zoopla.co.uk/for-sale/details/65164630/?search_identifier=f35813e16afa778daad5d52bb69d95bc5e8381ef22e9feb6aa39b295002e023b\n",
      "Starting extraction for link 46291: https://www.zoopla.co.uk/for-sale/details/65160247/?search_identifier=f35813e16afa778daad5d52bb69d95bc5e8381ef22e9feb6aa39b295002e023b\n"
     ]
    },
    {
     "name": "stderr",
     "output_type": "stream",
     "text": [
      "could not detect version_main.therefore, we are assuming it is chrome 108 or higher\n"
     ]
    },
    {
     "name": "stdout",
     "output_type": "stream",
     "text": [
      "Saved to db successfully\n",
      "Done with link 46291: https://www.zoopla.co.uk/for-sale/details/65160247/?search_identifier=f35813e16afa778daad5d52bb69d95bc5e8381ef22e9feb6aa39b295002e023b\n",
      "Starting extraction for link 46292: https://www.zoopla.co.uk/for-sale/details/65159445/?search_identifier=f35813e16afa778daad5d52bb69d95bc5e8381ef22e9feb6aa39b295002e023b\n"
     ]
    },
    {
     "name": "stderr",
     "output_type": "stream",
     "text": [
      "could not detect version_main.therefore, we are assuming it is chrome 108 or higher\n"
     ]
    },
    {
     "name": "stdout",
     "output_type": "stream",
     "text": [
      "Saved to db successfully\n",
      "Done with link 46292: https://www.zoopla.co.uk/for-sale/details/65159445/?search_identifier=f35813e16afa778daad5d52bb69d95bc5e8381ef22e9feb6aa39b295002e023b\n",
      "Starting extraction for link 46293: https://www.zoopla.co.uk/for-sale/details/65158482/?search_identifier=f35813e16afa778daad5d52bb69d95bc5e8381ef22e9feb6aa39b295002e023b\n"
     ]
    },
    {
     "name": "stderr",
     "output_type": "stream",
     "text": [
      "could not detect version_main.therefore, we are assuming it is chrome 108 or higher\n"
     ]
    },
    {
     "name": "stdout",
     "output_type": "stream",
     "text": [
      "Saved to db successfully\n",
      "Done with link 46293: https://www.zoopla.co.uk/for-sale/details/65158482/?search_identifier=f35813e16afa778daad5d52bb69d95bc5e8381ef22e9feb6aa39b295002e023b\n",
      "Starting extraction for link 46294: https://www.zoopla.co.uk/for-sale/details/65150720/?search_identifier=f9463e838deb1cbbe56a15f2308b098ab70bddd848946055ee3f21c5412529a9\n"
     ]
    },
    {
     "name": "stderr",
     "output_type": "stream",
     "text": [
      "could not detect version_main.therefore, we are assuming it is chrome 108 or higher\n"
     ]
    },
    {
     "name": "stdout",
     "output_type": "stream",
     "text": [
      "Saved to db successfully\n",
      "Done with link 46294: https://www.zoopla.co.uk/for-sale/details/65150720/?search_identifier=f9463e838deb1cbbe56a15f2308b098ab70bddd848946055ee3f21c5412529a9\n",
      "Starting extraction for link 46295: https://www.zoopla.co.uk/for-sale/details/65147659/?search_identifier=f9463e838deb1cbbe56a15f2308b098ab70bddd848946055ee3f21c5412529a9\n"
     ]
    },
    {
     "name": "stderr",
     "output_type": "stream",
     "text": [
      "could not detect version_main.therefore, we are assuming it is chrome 108 or higher\n"
     ]
    },
    {
     "name": "stdout",
     "output_type": "stream",
     "text": [
      "Saved to db successfully\n",
      "Done with link 46295: https://www.zoopla.co.uk/for-sale/details/65147659/?search_identifier=f9463e838deb1cbbe56a15f2308b098ab70bddd848946055ee3f21c5412529a9\n",
      "Starting extraction for link 46296: https://www.zoopla.co.uk/for-sale/details/65147667/?search_identifier=f9463e838deb1cbbe56a15f2308b098ab70bddd848946055ee3f21c5412529a9\n"
     ]
    },
    {
     "name": "stderr",
     "output_type": "stream",
     "text": [
      "could not detect version_main.therefore, we are assuming it is chrome 108 or higher\n"
     ]
    },
    {
     "name": "stdout",
     "output_type": "stream",
     "text": [
      "Saved to db successfully\n",
      "Done with link 46296: https://www.zoopla.co.uk/for-sale/details/65147667/?search_identifier=f9463e838deb1cbbe56a15f2308b098ab70bddd848946055ee3f21c5412529a9\n",
      "Starting extraction for link 46297: https://www.zoopla.co.uk/for-sale/details/65143890/?search_identifier=f9463e838deb1cbbe56a15f2308b098ab70bddd848946055ee3f21c5412529a9\n"
     ]
    },
    {
     "name": "stderr",
     "output_type": "stream",
     "text": [
      "could not detect version_main.therefore, we are assuming it is chrome 108 or higher\n"
     ]
    },
    {
     "name": "stdout",
     "output_type": "stream",
     "text": [
      "Saved to db successfully\n",
      "Done with link 46297: https://www.zoopla.co.uk/for-sale/details/65143890/?search_identifier=f9463e838deb1cbbe56a15f2308b098ab70bddd848946055ee3f21c5412529a9\n",
      "Starting extraction for link 46298: https://www.zoopla.co.uk/for-sale/details/65132022/?search_identifier=f9463e838deb1cbbe56a15f2308b098ab70bddd848946055ee3f21c5412529a9\n"
     ]
    },
    {
     "name": "stderr",
     "output_type": "stream",
     "text": [
      "could not detect version_main.therefore, we are assuming it is chrome 108 or higher\n"
     ]
    },
    {
     "name": "stdout",
     "output_type": "stream",
     "text": [
      "Saved to db successfully\n",
      "Done with link 46298: https://www.zoopla.co.uk/for-sale/details/65132022/?search_identifier=f9463e838deb1cbbe56a15f2308b098ab70bddd848946055ee3f21c5412529a9\n",
      "Starting extraction for link 46299: https://www.zoopla.co.uk/for-sale/details/65131945/?search_identifier=f9463e838deb1cbbe56a15f2308b098ab70bddd848946055ee3f21c5412529a9\n"
     ]
    },
    {
     "name": "stderr",
     "output_type": "stream",
     "text": [
      "could not detect version_main.therefore, we are assuming it is chrome 108 or higher\n"
     ]
    },
    {
     "name": "stdout",
     "output_type": "stream",
     "text": [
      "Saved to db successfully\n",
      "Done with link 46299: https://www.zoopla.co.uk/for-sale/details/65131945/?search_identifier=f9463e838deb1cbbe56a15f2308b098ab70bddd848946055ee3f21c5412529a9\n",
      "Starting extraction for link 46300: https://www.zoopla.co.uk/for-sale/details/65131964/?search_identifier=f9463e838deb1cbbe56a15f2308b098ab70bddd848946055ee3f21c5412529a9\n"
     ]
    },
    {
     "name": "stderr",
     "output_type": "stream",
     "text": [
      "could not detect version_main.therefore, we are assuming it is chrome 108 or higher\n"
     ]
    },
    {
     "name": "stdout",
     "output_type": "stream",
     "text": [
      "Saved to db successfully\n",
      "Done with link 46300: https://www.zoopla.co.uk/for-sale/details/65131964/?search_identifier=f9463e838deb1cbbe56a15f2308b098ab70bddd848946055ee3f21c5412529a9\n",
      "Starting extraction for link 46301: https://www.zoopla.co.uk/for-sale/details/65131898/?search_identifier=f9463e838deb1cbbe56a15f2308b098ab70bddd848946055ee3f21c5412529a9\n"
     ]
    },
    {
     "name": "stderr",
     "output_type": "stream",
     "text": [
      "could not detect version_main.therefore, we are assuming it is chrome 108 or higher\n"
     ]
    },
    {
     "name": "stdout",
     "output_type": "stream",
     "text": [
      "Saved to db successfully\n",
      "Done with link 46301: https://www.zoopla.co.uk/for-sale/details/65131898/?search_identifier=f9463e838deb1cbbe56a15f2308b098ab70bddd848946055ee3f21c5412529a9\n",
      "Starting extraction for link 46302: https://www.zoopla.co.uk/for-sale/details/65125688/?search_identifier=f9463e838deb1cbbe56a15f2308b098ab70bddd848946055ee3f21c5412529a9\n"
     ]
    },
    {
     "name": "stderr",
     "output_type": "stream",
     "text": [
      "could not detect version_main.therefore, we are assuming it is chrome 108 or higher\n"
     ]
    },
    {
     "name": "stdout",
     "output_type": "stream",
     "text": [
      "Saved to db successfully\n",
      "Done with link 46302: https://www.zoopla.co.uk/for-sale/details/65125688/?search_identifier=f9463e838deb1cbbe56a15f2308b098ab70bddd848946055ee3f21c5412529a9\n",
      "Starting extraction for link 46303: https://www.zoopla.co.uk/for-sale/details/65122817/?search_identifier=f9463e838deb1cbbe56a15f2308b098ab70bddd848946055ee3f21c5412529a9\n"
     ]
    },
    {
     "name": "stderr",
     "output_type": "stream",
     "text": [
      "could not detect version_main.therefore, we are assuming it is chrome 108 or higher\n"
     ]
    },
    {
     "name": "stdout",
     "output_type": "stream",
     "text": [
      "Saved to db successfully\n",
      "Done with link 46303: https://www.zoopla.co.uk/for-sale/details/65122817/?search_identifier=f9463e838deb1cbbe56a15f2308b098ab70bddd848946055ee3f21c5412529a9\n",
      "Starting extraction for link 46304: https://www.zoopla.co.uk/for-sale/details/65120029/?search_identifier=f9463e838deb1cbbe56a15f2308b098ab70bddd848946055ee3f21c5412529a9\n"
     ]
    },
    {
     "name": "stderr",
     "output_type": "stream",
     "text": [
      "could not detect version_main.therefore, we are assuming it is chrome 108 or higher\n"
     ]
    },
    {
     "name": "stdout",
     "output_type": "stream",
     "text": [
      "Saved to db successfully\n",
      "Done with link 46304: https://www.zoopla.co.uk/for-sale/details/65120029/?search_identifier=f9463e838deb1cbbe56a15f2308b098ab70bddd848946055ee3f21c5412529a9\n",
      "Starting extraction for link 46305: https://www.zoopla.co.uk/for-sale/details/65116886/?search_identifier=f9463e838deb1cbbe56a15f2308b098ab70bddd848946055ee3f21c5412529a9\n"
     ]
    },
    {
     "name": "stderr",
     "output_type": "stream",
     "text": [
      "could not detect version_main.therefore, we are assuming it is chrome 108 or higher\n"
     ]
    },
    {
     "name": "stdout",
     "output_type": "stream",
     "text": [
      "Saved to db successfully\n",
      "Done with link 46305: https://www.zoopla.co.uk/for-sale/details/65116886/?search_identifier=f9463e838deb1cbbe56a15f2308b098ab70bddd848946055ee3f21c5412529a9\n",
      "Starting extraction for link 46306: https://www.zoopla.co.uk/for-sale/details/65116615/?search_identifier=f9463e838deb1cbbe56a15f2308b098ab70bddd848946055ee3f21c5412529a9\n"
     ]
    },
    {
     "name": "stderr",
     "output_type": "stream",
     "text": [
      "could not detect version_main.therefore, we are assuming it is chrome 108 or higher\n"
     ]
    },
    {
     "name": "stdout",
     "output_type": "stream",
     "text": [
      "Saved to db successfully\n",
      "Done with link 46306: https://www.zoopla.co.uk/for-sale/details/65116615/?search_identifier=f9463e838deb1cbbe56a15f2308b098ab70bddd848946055ee3f21c5412529a9\n",
      "Starting extraction for link 46307: https://www.zoopla.co.uk/for-sale/details/65114100/?search_identifier=f9463e838deb1cbbe56a15f2308b098ab70bddd848946055ee3f21c5412529a9\n"
     ]
    },
    {
     "name": "stderr",
     "output_type": "stream",
     "text": [
      "could not detect version_main.therefore, we are assuming it is chrome 108 or higher\n"
     ]
    },
    {
     "name": "stdout",
     "output_type": "stream",
     "text": [
      "Saved to db successfully\n",
      "Done with link 46307: https://www.zoopla.co.uk/for-sale/details/65114100/?search_identifier=f9463e838deb1cbbe56a15f2308b098ab70bddd848946055ee3f21c5412529a9\n",
      "Starting extraction for link 46308: https://www.zoopla.co.uk/for-sale/details/65215164/?search_identifier=f9463e838deb1cbbe56a15f2308b098ab70bddd848946055ee3f21c5412529a9\n"
     ]
    },
    {
     "name": "stderr",
     "output_type": "stream",
     "text": [
      "could not detect version_main.therefore, we are assuming it is chrome 108 or higher\n"
     ]
    },
    {
     "name": "stdout",
     "output_type": "stream",
     "text": [
      "Saved to db successfully\n",
      "Done with link 46308: https://www.zoopla.co.uk/for-sale/details/65215164/?search_identifier=f9463e838deb1cbbe56a15f2308b098ab70bddd848946055ee3f21c5412529a9\n",
      "Starting extraction for link 46309: https://www.zoopla.co.uk/for-sale/details/65104954/?search_identifier=f9463e838deb1cbbe56a15f2308b098ab70bddd848946055ee3f21c5412529a9\n"
     ]
    },
    {
     "name": "stderr",
     "output_type": "stream",
     "text": [
      "could not detect version_main.therefore, we are assuming it is chrome 108 or higher\n"
     ]
    },
    {
     "name": "stdout",
     "output_type": "stream",
     "text": [
      "Saved to db successfully\n",
      "Done with link 46309: https://www.zoopla.co.uk/for-sale/details/65104954/?search_identifier=f9463e838deb1cbbe56a15f2308b098ab70bddd848946055ee3f21c5412529a9\n",
      "Starting extraction for link 46310: https://www.zoopla.co.uk/for-sale/details/65103530/?search_identifier=f9463e838deb1cbbe56a15f2308b098ab70bddd848946055ee3f21c5412529a9\n"
     ]
    },
    {
     "name": "stderr",
     "output_type": "stream",
     "text": [
      "could not detect version_main.therefore, we are assuming it is chrome 108 or higher\n"
     ]
    },
    {
     "name": "stdout",
     "output_type": "stream",
     "text": [
      "Saved to db successfully\n",
      "Done with link 46310: https://www.zoopla.co.uk/for-sale/details/65103530/?search_identifier=f9463e838deb1cbbe56a15f2308b098ab70bddd848946055ee3f21c5412529a9\n",
      "Starting extraction for link 46311: https://www.zoopla.co.uk/for-sale/details/65095867/?search_identifier=f9463e838deb1cbbe56a15f2308b098ab70bddd848946055ee3f21c5412529a9\n"
     ]
    },
    {
     "name": "stderr",
     "output_type": "stream",
     "text": [
      "could not detect version_main.therefore, we are assuming it is chrome 108 or higher\n"
     ]
    },
    {
     "name": "stdout",
     "output_type": "stream",
     "text": [
      "Saved to db successfully\n",
      "Done with link 46311: https://www.zoopla.co.uk/for-sale/details/65095867/?search_identifier=f9463e838deb1cbbe56a15f2308b098ab70bddd848946055ee3f21c5412529a9\n",
      "Starting extraction for link 46312: https://www.zoopla.co.uk/for-sale/details/65092407/?search_identifier=f9463e838deb1cbbe56a15f2308b098ab70bddd848946055ee3f21c5412529a9\n"
     ]
    },
    {
     "name": "stderr",
     "output_type": "stream",
     "text": [
      "could not detect version_main.therefore, we are assuming it is chrome 108 or higher\n"
     ]
    },
    {
     "name": "stdout",
     "output_type": "stream",
     "text": [
      "Saved to db successfully\n",
      "Done with link 46312: https://www.zoopla.co.uk/for-sale/details/65092407/?search_identifier=f9463e838deb1cbbe56a15f2308b098ab70bddd848946055ee3f21c5412529a9\n",
      "Starting extraction for link 46313: https://www.zoopla.co.uk/for-sale/details/65081106/?search_identifier=f9463e838deb1cbbe56a15f2308b098ab70bddd848946055ee3f21c5412529a9\n"
     ]
    },
    {
     "name": "stderr",
     "output_type": "stream",
     "text": [
      "could not detect version_main.therefore, we are assuming it is chrome 108 or higher\n"
     ]
    },
    {
     "name": "stdout",
     "output_type": "stream",
     "text": [
      "Saved to db successfully\n",
      "Done with link 46313: https://www.zoopla.co.uk/for-sale/details/65081106/?search_identifier=f9463e838deb1cbbe56a15f2308b098ab70bddd848946055ee3f21c5412529a9\n",
      "Starting extraction for link 46314: https://www.zoopla.co.uk/for-sale/details/65080775/?search_identifier=f9463e838deb1cbbe56a15f2308b098ab70bddd848946055ee3f21c5412529a9\n"
     ]
    },
    {
     "name": "stderr",
     "output_type": "stream",
     "text": [
      "could not detect version_main.therefore, we are assuming it is chrome 108 or higher\n"
     ]
    },
    {
     "name": "stdout",
     "output_type": "stream",
     "text": [
      "Saved to db successfully\n",
      "Done with link 46314: https://www.zoopla.co.uk/for-sale/details/65080775/?search_identifier=f9463e838deb1cbbe56a15f2308b098ab70bddd848946055ee3f21c5412529a9\n",
      "Starting extraction for link 46315: https://www.zoopla.co.uk/for-sale/details/65068293/?search_identifier=f9463e838deb1cbbe56a15f2308b098ab70bddd848946055ee3f21c5412529a9\n"
     ]
    },
    {
     "name": "stderr",
     "output_type": "stream",
     "text": [
      "could not detect version_main.therefore, we are assuming it is chrome 108 or higher\n"
     ]
    },
    {
     "name": "stdout",
     "output_type": "stream",
     "text": [
      "Saved to db successfully\n",
      "Done with link 46315: https://www.zoopla.co.uk/for-sale/details/65068293/?search_identifier=f9463e838deb1cbbe56a15f2308b098ab70bddd848946055ee3f21c5412529a9\n",
      "Starting extraction for link 46316: https://www.zoopla.co.uk/for-sale/details/65065669/?search_identifier=f9463e838deb1cbbe56a15f2308b098ab70bddd848946055ee3f21c5412529a9\n"
     ]
    },
    {
     "name": "stderr",
     "output_type": "stream",
     "text": [
      "could not detect version_main.therefore, we are assuming it is chrome 108 or higher\n"
     ]
    },
    {
     "name": "stdout",
     "output_type": "stream",
     "text": [
      "Saved to db successfully\n",
      "Done with link 46316: https://www.zoopla.co.uk/for-sale/details/65065669/?search_identifier=f9463e838deb1cbbe56a15f2308b098ab70bddd848946055ee3f21c5412529a9\n",
      "Starting extraction for link 46317: https://www.zoopla.co.uk/for-sale/details/65064803/?search_identifier=f9463e838deb1cbbe56a15f2308b098ab70bddd848946055ee3f21c5412529a9\n"
     ]
    },
    {
     "name": "stderr",
     "output_type": "stream",
     "text": [
      "could not detect version_main.therefore, we are assuming it is chrome 108 or higher\n"
     ]
    },
    {
     "name": "stdout",
     "output_type": "stream",
     "text": [
      "Saved to db successfully\n",
      "Done with link 46317: https://www.zoopla.co.uk/for-sale/details/65064803/?search_identifier=f9463e838deb1cbbe56a15f2308b098ab70bddd848946055ee3f21c5412529a9\n",
      "Starting extraction for link 46318: https://www.zoopla.co.uk/for-sale/details/65053230/?search_identifier=f9463e838deb1cbbe56a15f2308b098ab70bddd848946055ee3f21c5412529a9\n"
     ]
    },
    {
     "name": "stderr",
     "output_type": "stream",
     "text": [
      "could not detect version_main.therefore, we are assuming it is chrome 108 or higher\n"
     ]
    },
    {
     "name": "stdout",
     "output_type": "stream",
     "text": [
      "Saved to db successfully\n",
      "Done with link 46318: https://www.zoopla.co.uk/for-sale/details/65053230/?search_identifier=f9463e838deb1cbbe56a15f2308b098ab70bddd848946055ee3f21c5412529a9\n",
      "Starting extraction for link 46319: https://www.zoopla.co.uk/for-sale/details/65044830/?search_identifier=6285fab10660d810dec1666d3e355c9dfec932a223e9f2fdc3b1eed58f4179a0\n"
     ]
    },
    {
     "name": "stderr",
     "output_type": "stream",
     "text": [
      "could not detect version_main.therefore, we are assuming it is chrome 108 or higher\n"
     ]
    },
    {
     "name": "stdout",
     "output_type": "stream",
     "text": [
      "Saved to db successfully\n",
      "Done with link 46319: https://www.zoopla.co.uk/for-sale/details/65044830/?search_identifier=6285fab10660d810dec1666d3e355c9dfec932a223e9f2fdc3b1eed58f4179a0\n",
      "Starting extraction for link 46320: https://www.zoopla.co.uk/for-sale/details/65044559/?search_identifier=6285fab10660d810dec1666d3e355c9dfec932a223e9f2fdc3b1eed58f4179a0\n"
     ]
    },
    {
     "name": "stderr",
     "output_type": "stream",
     "text": [
      "could not detect version_main.therefore, we are assuming it is chrome 108 or higher\n"
     ]
    },
    {
     "name": "stdout",
     "output_type": "stream",
     "text": [
      "Saved to db successfully\n",
      "Done with link 46320: https://www.zoopla.co.uk/for-sale/details/65044559/?search_identifier=6285fab10660d810dec1666d3e355c9dfec932a223e9f2fdc3b1eed58f4179a0\n",
      "Starting extraction for link 46321: https://www.zoopla.co.uk/for-sale/details/65037444/?search_identifier=6285fab10660d810dec1666d3e355c9dfec932a223e9f2fdc3b1eed58f4179a0\n"
     ]
    },
    {
     "name": "stderr",
     "output_type": "stream",
     "text": [
      "could not detect version_main.therefore, we are assuming it is chrome 108 or higher\n"
     ]
    },
    {
     "name": "stdout",
     "output_type": "stream",
     "text": [
      "Saved to db successfully\n",
      "Done with link 46321: https://www.zoopla.co.uk/for-sale/details/65037444/?search_identifier=6285fab10660d810dec1666d3e355c9dfec932a223e9f2fdc3b1eed58f4179a0\n",
      "Starting extraction for link 46322: https://www.zoopla.co.uk/for-sale/details/65033253/?search_identifier=6285fab10660d810dec1666d3e355c9dfec932a223e9f2fdc3b1eed58f4179a0\n"
     ]
    },
    {
     "name": "stderr",
     "output_type": "stream",
     "text": [
      "could not detect version_main.therefore, we are assuming it is chrome 108 or higher\n"
     ]
    },
    {
     "name": "stdout",
     "output_type": "stream",
     "text": [
      "Saved to db successfully\n",
      "Done with link 46322: https://www.zoopla.co.uk/for-sale/details/65033253/?search_identifier=6285fab10660d810dec1666d3e355c9dfec932a223e9f2fdc3b1eed58f4179a0\n",
      "Starting extraction for link 46323: https://www.zoopla.co.uk/for-sale/details/65027030/?search_identifier=6285fab10660d810dec1666d3e355c9dfec932a223e9f2fdc3b1eed58f4179a0\n"
     ]
    },
    {
     "name": "stderr",
     "output_type": "stream",
     "text": [
      "could not detect version_main.therefore, we are assuming it is chrome 108 or higher\n"
     ]
    },
    {
     "name": "stdout",
     "output_type": "stream",
     "text": [
      "Saved to db successfully\n",
      "Done with link 46323: https://www.zoopla.co.uk/for-sale/details/65027030/?search_identifier=6285fab10660d810dec1666d3e355c9dfec932a223e9f2fdc3b1eed58f4179a0\n",
      "Starting extraction for link 46324: https://www.zoopla.co.uk/for-sale/details/65023890/?search_identifier=6285fab10660d810dec1666d3e355c9dfec932a223e9f2fdc3b1eed58f4179a0\n"
     ]
    },
    {
     "name": "stderr",
     "output_type": "stream",
     "text": [
      "could not detect version_main.therefore, we are assuming it is chrome 108 or higher\n"
     ]
    },
    {
     "name": "stdout",
     "output_type": "stream",
     "text": [
      "Saved to db successfully\n",
      "Done with link 46324: https://www.zoopla.co.uk/for-sale/details/65023890/?search_identifier=6285fab10660d810dec1666d3e355c9dfec932a223e9f2fdc3b1eed58f4179a0\n",
      "Starting extraction for link 46325: https://www.zoopla.co.uk/for-sale/details/65022709/?search_identifier=6285fab10660d810dec1666d3e355c9dfec932a223e9f2fdc3b1eed58f4179a0\n"
     ]
    },
    {
     "name": "stderr",
     "output_type": "stream",
     "text": [
      "could not detect version_main.therefore, we are assuming it is chrome 108 or higher\n"
     ]
    },
    {
     "name": "stdout",
     "output_type": "stream",
     "text": [
      "Saved to db successfully\n",
      "Done with link 46325: https://www.zoopla.co.uk/for-sale/details/65022709/?search_identifier=6285fab10660d810dec1666d3e355c9dfec932a223e9f2fdc3b1eed58f4179a0\n",
      "Starting extraction for link 46326: https://www.zoopla.co.uk/for-sale/details/65008704/?search_identifier=6285fab10660d810dec1666d3e355c9dfec932a223e9f2fdc3b1eed58f4179a0\n"
     ]
    },
    {
     "name": "stderr",
     "output_type": "stream",
     "text": [
      "could not detect version_main.therefore, we are assuming it is chrome 108 or higher\n"
     ]
    },
    {
     "name": "stdout",
     "output_type": "stream",
     "text": [
      "Saved to db successfully\n",
      "Done with link 46326: https://www.zoopla.co.uk/for-sale/details/65008704/?search_identifier=6285fab10660d810dec1666d3e355c9dfec932a223e9f2fdc3b1eed58f4179a0\n",
      "Starting extraction for link 46327: https://www.zoopla.co.uk/for-sale/details/65005908/?search_identifier=6285fab10660d810dec1666d3e355c9dfec932a223e9f2fdc3b1eed58f4179a0\n"
     ]
    },
    {
     "name": "stderr",
     "output_type": "stream",
     "text": [
      "could not detect version_main.therefore, we are assuming it is chrome 108 or higher\n"
     ]
    },
    {
     "name": "stdout",
     "output_type": "stream",
     "text": [
      "Saved to db successfully\n",
      "Done with link 46327: https://www.zoopla.co.uk/for-sale/details/65005908/?search_identifier=6285fab10660d810dec1666d3e355c9dfec932a223e9f2fdc3b1eed58f4179a0\n",
      "Starting extraction for link 46328: https://www.zoopla.co.uk/for-sale/details/65004968/?search_identifier=6285fab10660d810dec1666d3e355c9dfec932a223e9f2fdc3b1eed58f4179a0\n",
      "An error occurred for link in get_data_func: https://www.zoopla.co.uk/for-sale/details/65004968/?search_identifier=6285fab10660d810dec1666d3e355c9dfec932a223e9f2fdc3b1eed58f4179a0: Message: no such element: Unable to locate element: {\"method\":\"xpath\",\"selector\":\"//p[@data-testid=\"price\"]\"}\n",
      "  (Session info: chrome=115.0.5790.171); For documentation on this error, please visit: https://www.selenium.dev/documentation/webdriver/troubleshooting/errors#no-such-element-exception\n",
      "Stacktrace:\n",
      "Backtrace:\n",
      "\tGetHandleVerifier [0x0073A813+48355]\n",
      "\t(No symbol) [0x006CC4B1]\n",
      "\t(No symbol) [0x005D5358]\n",
      "\t(No symbol) [0x006009A5]\n",
      "\t(No symbol) [0x00600B3B]\n",
      "\t(No symbol) [0x0062E232]\n",
      "\t(No symbol) [0x0061A784]\n",
      "\t(No symbol) [0x0062C922]\n",
      "\t(No symbol) [0x0061A536]\n",
      "\t(No symbol) [0x005F82DC]\n",
      "\t(No symbol) [0x005F93DD]\n",
      "\tGetHandleVerifier [0x0099AABD+2539405]\n",
      "\tGetHandleVerifier [0x009DA78F+2800735]\n",
      "\tGetHandleVerifier [0x009D456C+2775612]\n",
      "\tGetHandleVerifier [0x007C51E0+616112]\n",
      "\t(No symbol) [0x006D5F8C]\n",
      "\t(No symbol) [0x006D2328]\n",
      "\t(No symbol) [0x006D240B]\n",
      "\t(No symbol) [0x006C4FF7]\n",
      "\tBaseThreadInitThunk [0x761E7D59+25]\n",
      "\tRtlInitializeExceptionChain [0x773DB79B+107]\n",
      "\tRtlClearBits [0x773DB71F+191]\n",
      "\n"
     ]
    },
    {
     "name": "stderr",
     "output_type": "stream",
     "text": [
      "could not detect version_main.therefore, we are assuming it is chrome 108 or higher\n"
     ]
    },
    {
     "name": "stdout",
     "output_type": "stream",
     "text": [
      "Saved to db successfully\n",
      "Done with link 46328: https://www.zoopla.co.uk/for-sale/details/65004968/?search_identifier=6285fab10660d810dec1666d3e355c9dfec932a223e9f2fdc3b1eed58f4179a0\n",
      "Starting extraction for link 46329: https://www.zoopla.co.uk/for-sale/details/65004769/?search_identifier=6285fab10660d810dec1666d3e355c9dfec932a223e9f2fdc3b1eed58f4179a0\n"
     ]
    },
    {
     "name": "stderr",
     "output_type": "stream",
     "text": [
      "could not detect version_main.therefore, we are assuming it is chrome 108 or higher\n"
     ]
    },
    {
     "name": "stdout",
     "output_type": "stream",
     "text": [
      "Saved to db successfully\n",
      "Done with link 46329: https://www.zoopla.co.uk/for-sale/details/65004769/?search_identifier=6285fab10660d810dec1666d3e355c9dfec932a223e9f2fdc3b1eed58f4179a0\n",
      "Starting extraction for link 46330: https://www.zoopla.co.uk/for-sale/details/64995417/?search_identifier=6285fab10660d810dec1666d3e355c9dfec932a223e9f2fdc3b1eed58f4179a0\n"
     ]
    },
    {
     "name": "stderr",
     "output_type": "stream",
     "text": [
      "could not detect version_main.therefore, we are assuming it is chrome 108 or higher\n"
     ]
    },
    {
     "name": "stdout",
     "output_type": "stream",
     "text": [
      "Saved to db successfully\n",
      "Done with link 46330: https://www.zoopla.co.uk/for-sale/details/64995417/?search_identifier=6285fab10660d810dec1666d3e355c9dfec932a223e9f2fdc3b1eed58f4179a0\n",
      "Starting extraction for link 46331: https://www.zoopla.co.uk/for-sale/details/64993043/?search_identifier=6285fab10660d810dec1666d3e355c9dfec932a223e9f2fdc3b1eed58f4179a0\n"
     ]
    },
    {
     "name": "stderr",
     "output_type": "stream",
     "text": [
      "could not detect version_main.therefore, we are assuming it is chrome 108 or higher\n"
     ]
    },
    {
     "name": "stdout",
     "output_type": "stream",
     "text": [
      "Saved to db successfully\n",
      "Done with link 46331: https://www.zoopla.co.uk/for-sale/details/64993043/?search_identifier=6285fab10660d810dec1666d3e355c9dfec932a223e9f2fdc3b1eed58f4179a0\n",
      "Starting extraction for link 46332: https://www.zoopla.co.uk/new-homes/details/64993015/?search_identifier=6285fab10660d810dec1666d3e355c9dfec932a223e9f2fdc3b1eed58f4179a0\n"
     ]
    },
    {
     "name": "stderr",
     "output_type": "stream",
     "text": [
      "could not detect version_main.therefore, we are assuming it is chrome 108 or higher\n"
     ]
    },
    {
     "name": "stdout",
     "output_type": "stream",
     "text": [
      "Saved to db successfully\n",
      "Done with link 46332: https://www.zoopla.co.uk/new-homes/details/64993015/?search_identifier=6285fab10660d810dec1666d3e355c9dfec932a223e9f2fdc3b1eed58f4179a0\n",
      "Starting extraction for link 46333: https://www.zoopla.co.uk/for-sale/details/64988484/?search_identifier=6285fab10660d810dec1666d3e355c9dfec932a223e9f2fdc3b1eed58f4179a0\n"
     ]
    },
    {
     "name": "stderr",
     "output_type": "stream",
     "text": [
      "could not detect version_main.therefore, we are assuming it is chrome 108 or higher\n"
     ]
    },
    {
     "name": "stdout",
     "output_type": "stream",
     "text": [
      "Saved to db successfully\n",
      "Done with link 46333: https://www.zoopla.co.uk/for-sale/details/64988484/?search_identifier=6285fab10660d810dec1666d3e355c9dfec932a223e9f2fdc3b1eed58f4179a0\n",
      "Starting extraction for link 46334: https://www.zoopla.co.uk/for-sale/details/64988110/?search_identifier=6285fab10660d810dec1666d3e355c9dfec932a223e9f2fdc3b1eed58f4179a0\n"
     ]
    },
    {
     "name": "stderr",
     "output_type": "stream",
     "text": [
      "could not detect version_main.therefore, we are assuming it is chrome 108 or higher\n"
     ]
    },
    {
     "name": "stdout",
     "output_type": "stream",
     "text": [
      "Saved to db successfully\n",
      "Done with link 46334: https://www.zoopla.co.uk/for-sale/details/64988110/?search_identifier=6285fab10660d810dec1666d3e355c9dfec932a223e9f2fdc3b1eed58f4179a0\n",
      "Starting extraction for link 46335: https://www.zoopla.co.uk/for-sale/details/64988113/?search_identifier=6285fab10660d810dec1666d3e355c9dfec932a223e9f2fdc3b1eed58f4179a0\n"
     ]
    },
    {
     "name": "stderr",
     "output_type": "stream",
     "text": [
      "could not detect version_main.therefore, we are assuming it is chrome 108 or higher\n"
     ]
    },
    {
     "name": "stdout",
     "output_type": "stream",
     "text": [
      "Saved to db successfully\n",
      "Done with link 46335: https://www.zoopla.co.uk/for-sale/details/64988113/?search_identifier=6285fab10660d810dec1666d3e355c9dfec932a223e9f2fdc3b1eed58f4179a0\n",
      "Starting extraction for link 46336: https://www.zoopla.co.uk/for-sale/details/64987363/?search_identifier=6285fab10660d810dec1666d3e355c9dfec932a223e9f2fdc3b1eed58f4179a0\n"
     ]
    },
    {
     "name": "stderr",
     "output_type": "stream",
     "text": [
      "could not detect version_main.therefore, we are assuming it is chrome 108 or higher\n"
     ]
    },
    {
     "name": "stdout",
     "output_type": "stream",
     "text": [
      "Saved to db successfully\n",
      "Done with link 46336: https://www.zoopla.co.uk/for-sale/details/64987363/?search_identifier=6285fab10660d810dec1666d3e355c9dfec932a223e9f2fdc3b1eed58f4179a0\n",
      "Starting extraction for link 46337: https://www.zoopla.co.uk/for-sale/details/64984101/?search_identifier=6285fab10660d810dec1666d3e355c9dfec932a223e9f2fdc3b1eed58f4179a0\n"
     ]
    },
    {
     "name": "stderr",
     "output_type": "stream",
     "text": [
      "could not detect version_main.therefore, we are assuming it is chrome 108 or higher\n"
     ]
    },
    {
     "name": "stdout",
     "output_type": "stream",
     "text": [
      "Saved to db successfully\n",
      "Done with link 46337: https://www.zoopla.co.uk/for-sale/details/64984101/?search_identifier=6285fab10660d810dec1666d3e355c9dfec932a223e9f2fdc3b1eed58f4179a0\n",
      "Starting extraction for link 46338: https://www.zoopla.co.uk/for-sale/details/64980574/?search_identifier=6285fab10660d810dec1666d3e355c9dfec932a223e9f2fdc3b1eed58f4179a0\n"
     ]
    },
    {
     "name": "stderr",
     "output_type": "stream",
     "text": [
      "could not detect version_main.therefore, we are assuming it is chrome 108 or higher\n"
     ]
    },
    {
     "name": "stdout",
     "output_type": "stream",
     "text": [
      "Saved to db successfully\n",
      "Done with link 46338: https://www.zoopla.co.uk/for-sale/details/64980574/?search_identifier=6285fab10660d810dec1666d3e355c9dfec932a223e9f2fdc3b1eed58f4179a0\n",
      "Starting extraction for link 46339: https://www.zoopla.co.uk/for-sale/details/64977834/?search_identifier=6285fab10660d810dec1666d3e355c9dfec932a223e9f2fdc3b1eed58f4179a0\n"
     ]
    },
    {
     "name": "stderr",
     "output_type": "stream",
     "text": [
      "could not detect version_main.therefore, we are assuming it is chrome 108 or higher\n"
     ]
    },
    {
     "name": "stdout",
     "output_type": "stream",
     "text": [
      "Saved to db successfully\n",
      "Done with link 46339: https://www.zoopla.co.uk/for-sale/details/64977834/?search_identifier=6285fab10660d810dec1666d3e355c9dfec932a223e9f2fdc3b1eed58f4179a0\n",
      "Starting extraction for link 46340: https://www.zoopla.co.uk/for-sale/details/64973700/?search_identifier=6285fab10660d810dec1666d3e355c9dfec932a223e9f2fdc3b1eed58f4179a0\n"
     ]
    },
    {
     "name": "stderr",
     "output_type": "stream",
     "text": [
      "could not detect version_main.therefore, we are assuming it is chrome 108 or higher\n"
     ]
    },
    {
     "name": "stdout",
     "output_type": "stream",
     "text": [
      "Saved to db successfully\n",
      "Done with link 46340: https://www.zoopla.co.uk/for-sale/details/64973700/?search_identifier=6285fab10660d810dec1666d3e355c9dfec932a223e9f2fdc3b1eed58f4179a0\n",
      "Starting extraction for link 46341: https://www.zoopla.co.uk/for-sale/details/64971503/?search_identifier=6285fab10660d810dec1666d3e355c9dfec932a223e9f2fdc3b1eed58f4179a0\n"
     ]
    },
    {
     "name": "stderr",
     "output_type": "stream",
     "text": [
      "could not detect version_main.therefore, we are assuming it is chrome 108 or higher\n"
     ]
    },
    {
     "name": "stdout",
     "output_type": "stream",
     "text": [
      "Saved to db successfully\n",
      "Done with link 46341: https://www.zoopla.co.uk/for-sale/details/64971503/?search_identifier=6285fab10660d810dec1666d3e355c9dfec932a223e9f2fdc3b1eed58f4179a0\n",
      "Starting extraction for link 46342: https://www.zoopla.co.uk/for-sale/details/64971110/?search_identifier=6285fab10660d810dec1666d3e355c9dfec932a223e9f2fdc3b1eed58f4179a0\n",
      "An error occurred for link in get_data_func: https://www.zoopla.co.uk/for-sale/details/64971110/?search_identifier=6285fab10660d810dec1666d3e355c9dfec932a223e9f2fdc3b1eed58f4179a0: Message: no such element: Unable to locate element: {\"method\":\"xpath\",\"selector\":\"//p[@data-testid=\"price\"]\"}\n",
      "  (Session info: chrome=115.0.5790.171); For documentation on this error, please visit: https://www.selenium.dev/documentation/webdriver/troubleshooting/errors#no-such-element-exception\n",
      "Stacktrace:\n",
      "Backtrace:\n",
      "\tGetHandleVerifier [0x0073A813+48355]\n",
      "\t(No symbol) [0x006CC4B1]\n",
      "\t(No symbol) [0x005D5358]\n",
      "\t(No symbol) [0x006009A5]\n",
      "\t(No symbol) [0x00600B3B]\n",
      "\t(No symbol) [0x0062E232]\n",
      "\t(No symbol) [0x0061A784]\n",
      "\t(No symbol) [0x0062C922]\n",
      "\t(No symbol) [0x0061A536]\n",
      "\t(No symbol) [0x005F82DC]\n",
      "\t(No symbol) [0x005F93DD]\n",
      "\tGetHandleVerifier [0x0099AABD+2539405]\n",
      "\tGetHandleVerifier [0x009DA78F+2800735]\n",
      "\tGetHandleVerifier [0x009D456C+2775612]\n",
      "\tGetHandleVerifier [0x007C51E0+616112]\n",
      "\t(No symbol) [0x006D5F8C]\n",
      "\t(No symbol) [0x006D2328]\n",
      "\t(No symbol) [0x006D240B]\n",
      "\t(No symbol) [0x006C4FF7]\n",
      "\tBaseThreadInitThunk [0x761E7D59+25]\n",
      "\tRtlInitializeExceptionChain [0x773DB79B+107]\n",
      "\tRtlClearBits [0x773DB71F+191]\n",
      "\n"
     ]
    },
    {
     "name": "stderr",
     "output_type": "stream",
     "text": [
      "could not detect version_main.therefore, we are assuming it is chrome 108 or higher\n"
     ]
    },
    {
     "name": "stdout",
     "output_type": "stream",
     "text": [
      "Saved to db successfully\n",
      "Done with link 46342: https://www.zoopla.co.uk/for-sale/details/64971110/?search_identifier=6285fab10660d810dec1666d3e355c9dfec932a223e9f2fdc3b1eed58f4179a0\n",
      "Starting extraction for link 46343: https://www.zoopla.co.uk/for-sale/details/64968224/?search_identifier=6285fab10660d810dec1666d3e355c9dfec932a223e9f2fdc3b1eed58f4179a0\n"
     ]
    },
    {
     "name": "stderr",
     "output_type": "stream",
     "text": [
      "could not detect version_main.therefore, we are assuming it is chrome 108 or higher\n"
     ]
    },
    {
     "name": "stdout",
     "output_type": "stream",
     "text": [
      "Saved to db successfully\n",
      "Done with link 46343: https://www.zoopla.co.uk/for-sale/details/64968224/?search_identifier=6285fab10660d810dec1666d3e355c9dfec932a223e9f2fdc3b1eed58f4179a0\n",
      "Starting extraction for link 46344: https://www.zoopla.co.uk/for-sale/details/64968204/?search_identifier=d158182534677a114667b7ba6cc16e6502c037d6e31c923b3a028c4fcb486717\n"
     ]
    },
    {
     "name": "stderr",
     "output_type": "stream",
     "text": [
      "could not detect version_main.therefore, we are assuming it is chrome 108 or higher\n"
     ]
    },
    {
     "name": "stdout",
     "output_type": "stream",
     "text": [
      "Saved to db successfully\n",
      "Done with link 46344: https://www.zoopla.co.uk/for-sale/details/64968204/?search_identifier=d158182534677a114667b7ba6cc16e6502c037d6e31c923b3a028c4fcb486717\n",
      "Starting extraction for link 46345: https://www.zoopla.co.uk/for-sale/details/64965487/?search_identifier=d158182534677a114667b7ba6cc16e6502c037d6e31c923b3a028c4fcb486717\n"
     ]
    },
    {
     "name": "stderr",
     "output_type": "stream",
     "text": [
      "could not detect version_main.therefore, we are assuming it is chrome 108 or higher\n"
     ]
    },
    {
     "name": "stdout",
     "output_type": "stream",
     "text": [
      "Saved to db successfully\n",
      "Done with link 46345: https://www.zoopla.co.uk/for-sale/details/64965487/?search_identifier=d158182534677a114667b7ba6cc16e6502c037d6e31c923b3a028c4fcb486717\n",
      "Starting extraction for link 46346: https://www.zoopla.co.uk/for-sale/details/64965207/?search_identifier=d158182534677a114667b7ba6cc16e6502c037d6e31c923b3a028c4fcb486717\n"
     ]
    },
    {
     "name": "stderr",
     "output_type": "stream",
     "text": [
      "could not detect version_main.therefore, we are assuming it is chrome 108 or higher\n"
     ]
    },
    {
     "name": "stdout",
     "output_type": "stream",
     "text": [
      "Saved to db successfully\n",
      "Done with link 46346: https://www.zoopla.co.uk/for-sale/details/64965207/?search_identifier=d158182534677a114667b7ba6cc16e6502c037d6e31c923b3a028c4fcb486717\n",
      "Starting extraction for link 46347: https://www.zoopla.co.uk/for-sale/details/64962988/?search_identifier=d158182534677a114667b7ba6cc16e6502c037d6e31c923b3a028c4fcb486717\n"
     ]
    },
    {
     "name": "stderr",
     "output_type": "stream",
     "text": [
      "could not detect version_main.therefore, we are assuming it is chrome 108 or higher\n"
     ]
    },
    {
     "name": "stdout",
     "output_type": "stream",
     "text": [
      "Saved to db successfully\n",
      "Done with link 46347: https://www.zoopla.co.uk/for-sale/details/64962988/?search_identifier=d158182534677a114667b7ba6cc16e6502c037d6e31c923b3a028c4fcb486717\n",
      "Starting extraction for link 46348: https://www.zoopla.co.uk/for-sale/details/64961816/?search_identifier=d158182534677a114667b7ba6cc16e6502c037d6e31c923b3a028c4fcb486717\n"
     ]
    },
    {
     "name": "stderr",
     "output_type": "stream",
     "text": [
      "could not detect version_main.therefore, we are assuming it is chrome 108 or higher\n"
     ]
    },
    {
     "name": "stdout",
     "output_type": "stream",
     "text": [
      "Saved to db successfully\n",
      "Done with link 46348: https://www.zoopla.co.uk/for-sale/details/64961816/?search_identifier=d158182534677a114667b7ba6cc16e6502c037d6e31c923b3a028c4fcb486717\n",
      "Starting extraction for link 46349: https://www.zoopla.co.uk/new-homes/details/64958928/?search_identifier=d158182534677a114667b7ba6cc16e6502c037d6e31c923b3a028c4fcb486717\n"
     ]
    },
    {
     "name": "stderr",
     "output_type": "stream",
     "text": [
      "could not detect version_main.therefore, we are assuming it is chrome 108 or higher\n"
     ]
    },
    {
     "name": "stdout",
     "output_type": "stream",
     "text": [
      "Saved to db successfully\n",
      "Done with link 46349: https://www.zoopla.co.uk/new-homes/details/64958928/?search_identifier=d158182534677a114667b7ba6cc16e6502c037d6e31c923b3a028c4fcb486717\n",
      "Starting extraction for link 46350: https://www.zoopla.co.uk/for-sale/details/64953873/?search_identifier=d158182534677a114667b7ba6cc16e6502c037d6e31c923b3a028c4fcb486717\n"
     ]
    },
    {
     "name": "stderr",
     "output_type": "stream",
     "text": [
      "could not detect version_main.therefore, we are assuming it is chrome 108 or higher\n"
     ]
    },
    {
     "name": "stdout",
     "output_type": "stream",
     "text": [
      "Saved to db successfully\n",
      "Done with link 46350: https://www.zoopla.co.uk/for-sale/details/64953873/?search_identifier=d158182534677a114667b7ba6cc16e6502c037d6e31c923b3a028c4fcb486717\n",
      "Starting extraction for link 46351: https://www.zoopla.co.uk/for-sale/details/64952752/?search_identifier=d158182534677a114667b7ba6cc16e6502c037d6e31c923b3a028c4fcb486717\n"
     ]
    },
    {
     "name": "stderr",
     "output_type": "stream",
     "text": [
      "could not detect version_main.therefore, we are assuming it is chrome 108 or higher\n"
     ]
    },
    {
     "name": "stdout",
     "output_type": "stream",
     "text": [
      "Saved to db successfully\n",
      "Done with link 46351: https://www.zoopla.co.uk/for-sale/details/64952752/?search_identifier=d158182534677a114667b7ba6cc16e6502c037d6e31c923b3a028c4fcb486717\n",
      "Starting extraction for link 46352: https://www.zoopla.co.uk/for-sale/details/64952110/?search_identifier=d158182534677a114667b7ba6cc16e6502c037d6e31c923b3a028c4fcb486717\n"
     ]
    },
    {
     "name": "stderr",
     "output_type": "stream",
     "text": [
      "could not detect version_main.therefore, we are assuming it is chrome 108 or higher\n"
     ]
    },
    {
     "name": "stdout",
     "output_type": "stream",
     "text": [
      "Saved to db successfully\n",
      "Done with link 46352: https://www.zoopla.co.uk/for-sale/details/64952110/?search_identifier=d158182534677a114667b7ba6cc16e6502c037d6e31c923b3a028c4fcb486717\n",
      "Starting extraction for link 46353: https://www.zoopla.co.uk/for-sale/details/64951555/?search_identifier=d158182534677a114667b7ba6cc16e6502c037d6e31c923b3a028c4fcb486717\n"
     ]
    },
    {
     "name": "stderr",
     "output_type": "stream",
     "text": [
      "could not detect version_main.therefore, we are assuming it is chrome 108 or higher\n"
     ]
    },
    {
     "name": "stdout",
     "output_type": "stream",
     "text": [
      "Saved to db successfully\n",
      "Done with link 46353: https://www.zoopla.co.uk/for-sale/details/64951555/?search_identifier=d158182534677a114667b7ba6cc16e6502c037d6e31c923b3a028c4fcb486717\n",
      "Starting extraction for link 46354: https://www.zoopla.co.uk/for-sale/details/53778753/?search_identifier=d158182534677a114667b7ba6cc16e6502c037d6e31c923b3a028c4fcb486717\n"
     ]
    },
    {
     "name": "stderr",
     "output_type": "stream",
     "text": [
      "could not detect version_main.therefore, we are assuming it is chrome 108 or higher\n"
     ]
    },
    {
     "name": "stdout",
     "output_type": "stream",
     "text": [
      "Saved to db successfully\n",
      "Done with link 46354: https://www.zoopla.co.uk/for-sale/details/53778753/?search_identifier=d158182534677a114667b7ba6cc16e6502c037d6e31c923b3a028c4fcb486717\n",
      "Starting extraction for link 46355: https://www.zoopla.co.uk/for-sale/details/64946278/?search_identifier=d158182534677a114667b7ba6cc16e6502c037d6e31c923b3a028c4fcb486717\n",
      "An error occurred for link in get_data_func: https://www.zoopla.co.uk/for-sale/details/64946278/?search_identifier=d158182534677a114667b7ba6cc16e6502c037d6e31c923b3a028c4fcb486717: Message: no such element: Unable to locate element: {\"method\":\"xpath\",\"selector\":\"//p[@data-testid=\"price\"]\"}\n",
      "  (Session info: chrome=115.0.5790.171); For documentation on this error, please visit: https://www.selenium.dev/documentation/webdriver/troubleshooting/errors#no-such-element-exception\n",
      "Stacktrace:\n",
      "Backtrace:\n",
      "\tGetHandleVerifier [0x0073A813+48355]\n",
      "\t(No symbol) [0x006CC4B1]\n",
      "\t(No symbol) [0x005D5358]\n",
      "\t(No symbol) [0x006009A5]\n",
      "\t(No symbol) [0x00600B3B]\n",
      "\t(No symbol) [0x0062E232]\n",
      "\t(No symbol) [0x0061A784]\n",
      "\t(No symbol) [0x0062C922]\n",
      "\t(No symbol) [0x0061A536]\n",
      "\t(No symbol) [0x005F82DC]\n",
      "\t(No symbol) [0x005F93DD]\n",
      "\tGetHandleVerifier [0x0099AABD+2539405]\n",
      "\tGetHandleVerifier [0x009DA78F+2800735]\n",
      "\tGetHandleVerifier [0x009D456C+2775612]\n",
      "\tGetHandleVerifier [0x007C51E0+616112]\n",
      "\t(No symbol) [0x006D5F8C]\n",
      "\t(No symbol) [0x006D2328]\n",
      "\t(No symbol) [0x006D240B]\n",
      "\t(No symbol) [0x006C4FF7]\n",
      "\tBaseThreadInitThunk [0x761E7D59+25]\n",
      "\tRtlInitializeExceptionChain [0x773DB79B+107]\n",
      "\tRtlClearBits [0x773DB71F+191]\n",
      "\n"
     ]
    },
    {
     "name": "stderr",
     "output_type": "stream",
     "text": [
      "could not detect version_main.therefore, we are assuming it is chrome 108 or higher\n"
     ]
    },
    {
     "name": "stdout",
     "output_type": "stream",
     "text": [
      "Saved to db successfully\n",
      "Done with link 46355: https://www.zoopla.co.uk/for-sale/details/64946278/?search_identifier=d158182534677a114667b7ba6cc16e6502c037d6e31c923b3a028c4fcb486717\n",
      "Starting extraction for link 46356: https://www.zoopla.co.uk/for-sale/details/64945284/?search_identifier=d158182534677a114667b7ba6cc16e6502c037d6e31c923b3a028c4fcb486717\n"
     ]
    },
    {
     "name": "stderr",
     "output_type": "stream",
     "text": [
      "could not detect version_main.therefore, we are assuming it is chrome 108 or higher\n"
     ]
    },
    {
     "name": "stdout",
     "output_type": "stream",
     "text": [
      "Saved to db successfully\n",
      "Done with link 46356: https://www.zoopla.co.uk/for-sale/details/64945284/?search_identifier=d158182534677a114667b7ba6cc16e6502c037d6e31c923b3a028c4fcb486717\n",
      "Starting extraction for link 46357: https://www.zoopla.co.uk/for-sale/details/64943252/?search_identifier=d158182534677a114667b7ba6cc16e6502c037d6e31c923b3a028c4fcb486717\n",
      "An error occurred for link in get_data_func: https://www.zoopla.co.uk/for-sale/details/64943252/?search_identifier=d158182534677a114667b7ba6cc16e6502c037d6e31c923b3a028c4fcb486717: Message: no such element: Unable to locate element: {\"method\":\"xpath\",\"selector\":\"//p[@data-testid=\"price\"]\"}\n",
      "  (Session info: chrome=115.0.5790.171); For documentation on this error, please visit: https://www.selenium.dev/documentation/webdriver/troubleshooting/errors#no-such-element-exception\n",
      "Stacktrace:\n",
      "Backtrace:\n",
      "\tGetHandleVerifier [0x0073A813+48355]\n",
      "\t(No symbol) [0x006CC4B1]\n",
      "\t(No symbol) [0x005D5358]\n",
      "\t(No symbol) [0x006009A5]\n",
      "\t(No symbol) [0x00600B3B]\n",
      "\t(No symbol) [0x0062E232]\n",
      "\t(No symbol) [0x0061A784]\n",
      "\t(No symbol) [0x0062C922]\n",
      "\t(No symbol) [0x0061A536]\n",
      "\t(No symbol) [0x005F82DC]\n",
      "\t(No symbol) [0x005F93DD]\n",
      "\tGetHandleVerifier [0x0099AABD+2539405]\n",
      "\tGetHandleVerifier [0x009DA78F+2800735]\n",
      "\tGetHandleVerifier [0x009D456C+2775612]\n",
      "\tGetHandleVerifier [0x007C51E0+616112]\n",
      "\t(No symbol) [0x006D5F8C]\n",
      "\t(No symbol) [0x006D2328]\n",
      "\t(No symbol) [0x006D240B]\n",
      "\t(No symbol) [0x006C4FF7]\n",
      "\tBaseThreadInitThunk [0x761E7D59+25]\n",
      "\tRtlInitializeExceptionChain [0x773DB79B+107]\n",
      "\tRtlClearBits [0x773DB71F+191]\n",
      "\n"
     ]
    },
    {
     "name": "stderr",
     "output_type": "stream",
     "text": [
      "could not detect version_main.therefore, we are assuming it is chrome 108 or higher\n"
     ]
    },
    {
     "name": "stdout",
     "output_type": "stream",
     "text": [
      "Saved to db successfully\n",
      "Done with link 46357: https://www.zoopla.co.uk/for-sale/details/64943252/?search_identifier=d158182534677a114667b7ba6cc16e6502c037d6e31c923b3a028c4fcb486717\n",
      "Starting extraction for link 46358: https://www.zoopla.co.uk/for-sale/details/64942288/?search_identifier=d158182534677a114667b7ba6cc16e6502c037d6e31c923b3a028c4fcb486717\n"
     ]
    },
    {
     "name": "stderr",
     "output_type": "stream",
     "text": [
      "could not detect version_main.therefore, we are assuming it is chrome 108 or higher\n"
     ]
    },
    {
     "name": "stdout",
     "output_type": "stream",
     "text": [
      "Saved to db successfully\n",
      "Done with link 46358: https://www.zoopla.co.uk/for-sale/details/64942288/?search_identifier=d158182534677a114667b7ba6cc16e6502c037d6e31c923b3a028c4fcb486717\n",
      "Starting extraction for link 46359: https://www.zoopla.co.uk/for-sale/details/64940934/?search_identifier=d158182534677a114667b7ba6cc16e6502c037d6e31c923b3a028c4fcb486717\n"
     ]
    },
    {
     "name": "stderr",
     "output_type": "stream",
     "text": [
      "could not detect version_main.therefore, we are assuming it is chrome 108 or higher\n"
     ]
    },
    {
     "name": "stdout",
     "output_type": "stream",
     "text": [
      "Saved to db successfully\n",
      "Done with link 46359: https://www.zoopla.co.uk/for-sale/details/64940934/?search_identifier=d158182534677a114667b7ba6cc16e6502c037d6e31c923b3a028c4fcb486717\n",
      "Starting extraction for link 46360: https://www.zoopla.co.uk/for-sale/details/64935626/?search_identifier=d158182534677a114667b7ba6cc16e6502c037d6e31c923b3a028c4fcb486717\n"
     ]
    },
    {
     "name": "stderr",
     "output_type": "stream",
     "text": [
      "could not detect version_main.therefore, we are assuming it is chrome 108 or higher\n"
     ]
    },
    {
     "name": "stdout",
     "output_type": "stream",
     "text": [
      "Saved to db successfully\n",
      "Done with link 46360: https://www.zoopla.co.uk/for-sale/details/64935626/?search_identifier=d158182534677a114667b7ba6cc16e6502c037d6e31c923b3a028c4fcb486717\n",
      "Starting extraction for link 46361: https://www.zoopla.co.uk/for-sale/details/64928226/?search_identifier=d158182534677a114667b7ba6cc16e6502c037d6e31c923b3a028c4fcb486717\n",
      "An error occurred for link in get_data_func: https://www.zoopla.co.uk/for-sale/details/64928226/?search_identifier=d158182534677a114667b7ba6cc16e6502c037d6e31c923b3a028c4fcb486717: Message: no such element: Unable to locate element: {\"method\":\"xpath\",\"selector\":\"//p[@data-testid=\"price\"]\"}\n",
      "  (Session info: chrome=115.0.5790.171); For documentation on this error, please visit: https://www.selenium.dev/documentation/webdriver/troubleshooting/errors#no-such-element-exception\n",
      "Stacktrace:\n",
      "Backtrace:\n",
      "\tGetHandleVerifier [0x0073A813+48355]\n",
      "\t(No symbol) [0x006CC4B1]\n",
      "\t(No symbol) [0x005D5358]\n",
      "\t(No symbol) [0x006009A5]\n",
      "\t(No symbol) [0x00600B3B]\n",
      "\t(No symbol) [0x0062E232]\n",
      "\t(No symbol) [0x0061A784]\n",
      "\t(No symbol) [0x0062C922]\n",
      "\t(No symbol) [0x0061A536]\n",
      "\t(No symbol) [0x005F82DC]\n",
      "\t(No symbol) [0x005F93DD]\n",
      "\tGetHandleVerifier [0x0099AABD+2539405]\n",
      "\tGetHandleVerifier [0x009DA78F+2800735]\n",
      "\tGetHandleVerifier [0x009D456C+2775612]\n",
      "\tGetHandleVerifier [0x007C51E0+616112]\n",
      "\t(No symbol) [0x006D5F8C]\n",
      "\t(No symbol) [0x006D2328]\n",
      "\t(No symbol) [0x006D240B]\n",
      "\t(No symbol) [0x006C4FF7]\n",
      "\tBaseThreadInitThunk [0x761E7D59+25]\n",
      "\tRtlInitializeExceptionChain [0x773DB79B+107]\n",
      "\tRtlClearBits [0x773DB71F+191]\n",
      "\n"
     ]
    },
    {
     "name": "stderr",
     "output_type": "stream",
     "text": [
      "could not detect version_main.therefore, we are assuming it is chrome 108 or higher\n"
     ]
    },
    {
     "name": "stdout",
     "output_type": "stream",
     "text": [
      "Saved to db successfully\n",
      "Done with link 46361: https://www.zoopla.co.uk/for-sale/details/64928226/?search_identifier=d158182534677a114667b7ba6cc16e6502c037d6e31c923b3a028c4fcb486717\n",
      "Starting extraction for link 46362: https://www.zoopla.co.uk/for-sale/details/64916600/?search_identifier=d158182534677a114667b7ba6cc16e6502c037d6e31c923b3a028c4fcb486717\n"
     ]
    },
    {
     "name": "stderr",
     "output_type": "stream",
     "text": [
      "could not detect version_main.therefore, we are assuming it is chrome 108 or higher\n"
     ]
    },
    {
     "name": "stdout",
     "output_type": "stream",
     "text": [
      "Saved to db successfully\n",
      "Done with link 46362: https://www.zoopla.co.uk/for-sale/details/64916600/?search_identifier=d158182534677a114667b7ba6cc16e6502c037d6e31c923b3a028c4fcb486717\n",
      "Starting extraction for link 46363: https://www.zoopla.co.uk/for-sale/details/64908284/?search_identifier=d158182534677a114667b7ba6cc16e6502c037d6e31c923b3a028c4fcb486717\n"
     ]
    },
    {
     "name": "stderr",
     "output_type": "stream",
     "text": [
      "could not detect version_main.therefore, we are assuming it is chrome 108 or higher\n"
     ]
    },
    {
     "name": "stdout",
     "output_type": "stream",
     "text": [
      "Saved to db successfully\n",
      "Done with link 46363: https://www.zoopla.co.uk/for-sale/details/64908284/?search_identifier=d158182534677a114667b7ba6cc16e6502c037d6e31c923b3a028c4fcb486717\n",
      "Starting extraction for link 46364: https://www.zoopla.co.uk/for-sale/details/62062726/?search_identifier=d158182534677a114667b7ba6cc16e6502c037d6e31c923b3a028c4fcb486717\n"
     ]
    },
    {
     "name": "stderr",
     "output_type": "stream",
     "text": [
      "could not detect version_main.therefore, we are assuming it is chrome 108 or higher\n"
     ]
    },
    {
     "name": "stdout",
     "output_type": "stream",
     "text": [
      "Saved to db successfully\n",
      "Done with link 46364: https://www.zoopla.co.uk/for-sale/details/62062726/?search_identifier=d158182534677a114667b7ba6cc16e6502c037d6e31c923b3a028c4fcb486717\n",
      "Starting extraction for link 46365: https://www.zoopla.co.uk/for-sale/details/64897844/?search_identifier=d158182534677a114667b7ba6cc16e6502c037d6e31c923b3a028c4fcb486717\n"
     ]
    },
    {
     "name": "stderr",
     "output_type": "stream",
     "text": [
      "could not detect version_main.therefore, we are assuming it is chrome 108 or higher\n"
     ]
    },
    {
     "name": "stdout",
     "output_type": "stream",
     "text": [
      "Saved to db successfully\n",
      "Done with link 46365: https://www.zoopla.co.uk/for-sale/details/64897844/?search_identifier=d158182534677a114667b7ba6cc16e6502c037d6e31c923b3a028c4fcb486717\n",
      "Starting extraction for link 46366: https://www.zoopla.co.uk/for-sale/details/64897598/?search_identifier=d158182534677a114667b7ba6cc16e6502c037d6e31c923b3a028c4fcb486717\n",
      "An error occurred for link in get_data_func: https://www.zoopla.co.uk/for-sale/details/64897598/?search_identifier=d158182534677a114667b7ba6cc16e6502c037d6e31c923b3a028c4fcb486717: Message: no such element: Unable to locate element: {\"method\":\"xpath\",\"selector\":\"//p[@data-testid=\"price\"]\"}\n",
      "  (Session info: chrome=115.0.5790.171); For documentation on this error, please visit: https://www.selenium.dev/documentation/webdriver/troubleshooting/errors#no-such-element-exception\n",
      "Stacktrace:\n",
      "Backtrace:\n",
      "\tGetHandleVerifier [0x0073A813+48355]\n",
      "\t(No symbol) [0x006CC4B1]\n",
      "\t(No symbol) [0x005D5358]\n",
      "\t(No symbol) [0x006009A5]\n",
      "\t(No symbol) [0x00600B3B]\n",
      "\t(No symbol) [0x0062E232]\n",
      "\t(No symbol) [0x0061A784]\n",
      "\t(No symbol) [0x0062C922]\n",
      "\t(No symbol) [0x0061A536]\n",
      "\t(No symbol) [0x005F82DC]\n",
      "\t(No symbol) [0x005F93DD]\n",
      "\tGetHandleVerifier [0x0099AABD+2539405]\n",
      "\tGetHandleVerifier [0x009DA78F+2800735]\n",
      "\tGetHandleVerifier [0x009D456C+2775612]\n",
      "\tGetHandleVerifier [0x007C51E0+616112]\n",
      "\t(No symbol) [0x006D5F8C]\n",
      "\t(No symbol) [0x006D2328]\n",
      "\t(No symbol) [0x006D240B]\n",
      "\t(No symbol) [0x006C4FF7]\n",
      "\tBaseThreadInitThunk [0x761E7D59+25]\n",
      "\tRtlInitializeExceptionChain [0x773DB79B+107]\n",
      "\tRtlClearBits [0x773DB71F+191]\n",
      "\n"
     ]
    },
    {
     "name": "stderr",
     "output_type": "stream",
     "text": [
      "could not detect version_main.therefore, we are assuming it is chrome 108 or higher\n"
     ]
    },
    {
     "name": "stdout",
     "output_type": "stream",
     "text": [
      "Saved to db successfully\n",
      "Done with link 46366: https://www.zoopla.co.uk/for-sale/details/64897598/?search_identifier=d158182534677a114667b7ba6cc16e6502c037d6e31c923b3a028c4fcb486717\n",
      "Starting extraction for link 46367: https://www.zoopla.co.uk/for-sale/details/64897601/?search_identifier=d158182534677a114667b7ba6cc16e6502c037d6e31c923b3a028c4fcb486717\n"
     ]
    },
    {
     "name": "stderr",
     "output_type": "stream",
     "text": [
      "could not detect version_main.therefore, we are assuming it is chrome 108 or higher\n"
     ]
    },
    {
     "name": "stdout",
     "output_type": "stream",
     "text": [
      "Saved to db successfully\n",
      "Done with link 46367: https://www.zoopla.co.uk/for-sale/details/64897601/?search_identifier=d158182534677a114667b7ba6cc16e6502c037d6e31c923b3a028c4fcb486717\n",
      "Starting extraction for link 46368: https://www.zoopla.co.uk/for-sale/details/64881065/?search_identifier=d158182534677a114667b7ba6cc16e6502c037d6e31c923b3a028c4fcb486717\n"
     ]
    },
    {
     "name": "stderr",
     "output_type": "stream",
     "text": [
      "could not detect version_main.therefore, we are assuming it is chrome 108 or higher\n"
     ]
    },
    {
     "name": "stdout",
     "output_type": "stream",
     "text": [
      "Saved to db successfully\n",
      "Done with link 46368: https://www.zoopla.co.uk/for-sale/details/64881065/?search_identifier=d158182534677a114667b7ba6cc16e6502c037d6e31c923b3a028c4fcb486717\n",
      "Starting extraction for link 46369: https://www.zoopla.co.uk/for-sale/details/64880638/?search_identifier=e07767343403ba43a5ac34b53392d06d9e580925c75b1558f06300a9b7d611b2\n",
      "An error occurred for link in get_data_func: https://www.zoopla.co.uk/for-sale/details/64880638/?search_identifier=e07767343403ba43a5ac34b53392d06d9e580925c75b1558f06300a9b7d611b2: Message: no such element: Unable to locate element: {\"method\":\"xpath\",\"selector\":\"//p[@data-testid=\"price\"]\"}\n",
      "  (Session info: chrome=115.0.5790.171); For documentation on this error, please visit: https://www.selenium.dev/documentation/webdriver/troubleshooting/errors#no-such-element-exception\n",
      "Stacktrace:\n",
      "Backtrace:\n",
      "\tGetHandleVerifier [0x0073A813+48355]\n",
      "\t(No symbol) [0x006CC4B1]\n",
      "\t(No symbol) [0x005D5358]\n",
      "\t(No symbol) [0x006009A5]\n",
      "\t(No symbol) [0x00600B3B]\n",
      "\t(No symbol) [0x0062E232]\n",
      "\t(No symbol) [0x0061A784]\n",
      "\t(No symbol) [0x0062C922]\n",
      "\t(No symbol) [0x0061A536]\n",
      "\t(No symbol) [0x005F82DC]\n",
      "\t(No symbol) [0x005F93DD]\n",
      "\tGetHandleVerifier [0x0099AABD+2539405]\n",
      "\tGetHandleVerifier [0x009DA78F+2800735]\n",
      "\tGetHandleVerifier [0x009D456C+2775612]\n",
      "\tGetHandleVerifier [0x007C51E0+616112]\n",
      "\t(No symbol) [0x006D5F8C]\n",
      "\t(No symbol) [0x006D2328]\n",
      "\t(No symbol) [0x006D240B]\n",
      "\t(No symbol) [0x006C4FF7]\n",
      "\tBaseThreadInitThunk [0x761E7D59+25]\n",
      "\tRtlInitializeExceptionChain [0x773DB79B+107]\n",
      "\tRtlClearBits [0x773DB71F+191]\n",
      "\n"
     ]
    },
    {
     "name": "stderr",
     "output_type": "stream",
     "text": [
      "could not detect version_main.therefore, we are assuming it is chrome 108 or higher\n"
     ]
    },
    {
     "name": "stdout",
     "output_type": "stream",
     "text": [
      "Saved to db successfully\n",
      "Done with link 46369: https://www.zoopla.co.uk/for-sale/details/64880638/?search_identifier=e07767343403ba43a5ac34b53392d06d9e580925c75b1558f06300a9b7d611b2\n",
      "Starting extraction for link 46370: https://www.zoopla.co.uk/for-sale/details/64879834/?search_identifier=e07767343403ba43a5ac34b53392d06d9e580925c75b1558f06300a9b7d611b2\n"
     ]
    },
    {
     "name": "stderr",
     "output_type": "stream",
     "text": [
      "could not detect version_main.therefore, we are assuming it is chrome 108 or higher\n"
     ]
    },
    {
     "name": "stdout",
     "output_type": "stream",
     "text": [
      "Saved to db successfully\n",
      "Done with link 46370: https://www.zoopla.co.uk/for-sale/details/64879834/?search_identifier=e07767343403ba43a5ac34b53392d06d9e580925c75b1558f06300a9b7d611b2\n",
      "Starting extraction for link 46371: https://www.zoopla.co.uk/for-sale/details/64878155/?search_identifier=e07767343403ba43a5ac34b53392d06d9e580925c75b1558f06300a9b7d611b2\n"
     ]
    },
    {
     "name": "stderr",
     "output_type": "stream",
     "text": [
      "could not detect version_main.therefore, we are assuming it is chrome 108 or higher\n"
     ]
    },
    {
     "name": "stdout",
     "output_type": "stream",
     "text": [
      "Saved to db successfully\n",
      "Done with link 46371: https://www.zoopla.co.uk/for-sale/details/64878155/?search_identifier=e07767343403ba43a5ac34b53392d06d9e580925c75b1558f06300a9b7d611b2\n",
      "Starting extraction for link 46372: https://www.zoopla.co.uk/for-sale/details/64873550/?search_identifier=e07767343403ba43a5ac34b53392d06d9e580925c75b1558f06300a9b7d611b2\n"
     ]
    },
    {
     "name": "stderr",
     "output_type": "stream",
     "text": [
      "could not detect version_main.therefore, we are assuming it is chrome 108 or higher\n"
     ]
    },
    {
     "name": "stdout",
     "output_type": "stream",
     "text": [
      "Saved to db successfully\n",
      "Done with link 46372: https://www.zoopla.co.uk/for-sale/details/64873550/?search_identifier=e07767343403ba43a5ac34b53392d06d9e580925c75b1558f06300a9b7d611b2\n",
      "Starting extraction for link 46373: https://www.zoopla.co.uk/for-sale/details/64869546/?search_identifier=e07767343403ba43a5ac34b53392d06d9e580925c75b1558f06300a9b7d611b2\n"
     ]
    },
    {
     "name": "stderr",
     "output_type": "stream",
     "text": [
      "could not detect version_main.therefore, we are assuming it is chrome 108 or higher\n"
     ]
    },
    {
     "name": "stdout",
     "output_type": "stream",
     "text": [
      "Saved to db successfully\n",
      "Done with link 46373: https://www.zoopla.co.uk/for-sale/details/64869546/?search_identifier=e07767343403ba43a5ac34b53392d06d9e580925c75b1558f06300a9b7d611b2\n",
      "Starting extraction for link 46374: https://www.zoopla.co.uk/for-sale/details/64867997/?search_identifier=e07767343403ba43a5ac34b53392d06d9e580925c75b1558f06300a9b7d611b2\n",
      "An error occurred for link in get_data_func: https://www.zoopla.co.uk/for-sale/details/64867997/?search_identifier=e07767343403ba43a5ac34b53392d06d9e580925c75b1558f06300a9b7d611b2: Message: no such element: Unable to locate element: {\"method\":\"xpath\",\"selector\":\"//p[@data-testid=\"price\"]\"}\n",
      "  (Session info: chrome=115.0.5790.171); For documentation on this error, please visit: https://www.selenium.dev/documentation/webdriver/troubleshooting/errors#no-such-element-exception\n",
      "Stacktrace:\n",
      "Backtrace:\n",
      "\tGetHandleVerifier [0x0073A813+48355]\n",
      "\t(No symbol) [0x006CC4B1]\n",
      "\t(No symbol) [0x005D5358]\n",
      "\t(No symbol) [0x006009A5]\n",
      "\t(No symbol) [0x00600B3B]\n",
      "\t(No symbol) [0x0062E232]\n",
      "\t(No symbol) [0x0061A784]\n",
      "\t(No symbol) [0x0062C922]\n",
      "\t(No symbol) [0x0061A536]\n",
      "\t(No symbol) [0x005F82DC]\n",
      "\t(No symbol) [0x005F93DD]\n",
      "\tGetHandleVerifier [0x0099AABD+2539405]\n",
      "\tGetHandleVerifier [0x009DA78F+2800735]\n",
      "\tGetHandleVerifier [0x009D456C+2775612]\n",
      "\tGetHandleVerifier [0x007C51E0+616112]\n",
      "\t(No symbol) [0x006D5F8C]\n",
      "\t(No symbol) [0x006D2328]\n",
      "\t(No symbol) [0x006D240B]\n",
      "\t(No symbol) [0x006C4FF7]\n",
      "\tBaseThreadInitThunk [0x761E7D59+25]\n",
      "\tRtlInitializeExceptionChain [0x773DB79B+107]\n",
      "\tRtlClearBits [0x773DB71F+191]\n",
      "\n"
     ]
    },
    {
     "name": "stderr",
     "output_type": "stream",
     "text": [
      "could not detect version_main.therefore, we are assuming it is chrome 108 or higher\n"
     ]
    },
    {
     "name": "stdout",
     "output_type": "stream",
     "text": [
      "Saved to db successfully\n",
      "Done with link 46374: https://www.zoopla.co.uk/for-sale/details/64867997/?search_identifier=e07767343403ba43a5ac34b53392d06d9e580925c75b1558f06300a9b7d611b2\n",
      "Starting extraction for link 46375: https://www.zoopla.co.uk/for-sale/details/64862298/?search_identifier=e07767343403ba43a5ac34b53392d06d9e580925c75b1558f06300a9b7d611b2\n"
     ]
    },
    {
     "name": "stderr",
     "output_type": "stream",
     "text": [
      "could not detect version_main.therefore, we are assuming it is chrome 108 or higher\n"
     ]
    },
    {
     "name": "stdout",
     "output_type": "stream",
     "text": [
      "Saved to db successfully\n",
      "Done with link 46375: https://www.zoopla.co.uk/for-sale/details/64862298/?search_identifier=e07767343403ba43a5ac34b53392d06d9e580925c75b1558f06300a9b7d611b2\n",
      "Starting extraction for link 46376: https://www.zoopla.co.uk/for-sale/details/63825293/?search_identifier=e07767343403ba43a5ac34b53392d06d9e580925c75b1558f06300a9b7d611b2\n"
     ]
    },
    {
     "name": "stderr",
     "output_type": "stream",
     "text": [
      "could not detect version_main.therefore, we are assuming it is chrome 108 or higher\n"
     ]
    },
    {
     "name": "stdout",
     "output_type": "stream",
     "text": [
      "Saved to db successfully\n",
      "Done with link 46376: https://www.zoopla.co.uk/for-sale/details/63825293/?search_identifier=e07767343403ba43a5ac34b53392d06d9e580925c75b1558f06300a9b7d611b2\n",
      "Starting extraction for link 46377: https://www.zoopla.co.uk/for-sale/details/64858355/?search_identifier=e07767343403ba43a5ac34b53392d06d9e580925c75b1558f06300a9b7d611b2\n",
      "An error occurred for link in get_data_func: https://www.zoopla.co.uk/for-sale/details/64858355/?search_identifier=e07767343403ba43a5ac34b53392d06d9e580925c75b1558f06300a9b7d611b2: Message: no such element: Unable to locate element: {\"method\":\"xpath\",\"selector\":\"//p[@data-testid=\"price\"]\"}\n",
      "  (Session info: chrome=115.0.5790.171); For documentation on this error, please visit: https://www.selenium.dev/documentation/webdriver/troubleshooting/errors#no-such-element-exception\n",
      "Stacktrace:\n",
      "Backtrace:\n",
      "\tGetHandleVerifier [0x0073A813+48355]\n",
      "\t(No symbol) [0x006CC4B1]\n",
      "\t(No symbol) [0x005D5358]\n",
      "\t(No symbol) [0x006009A5]\n",
      "\t(No symbol) [0x00600B3B]\n",
      "\t(No symbol) [0x0062E232]\n",
      "\t(No symbol) [0x0061A784]\n",
      "\t(No symbol) [0x0062C922]\n",
      "\t(No symbol) [0x0061A536]\n",
      "\t(No symbol) [0x005F82DC]\n",
      "\t(No symbol) [0x005F93DD]\n",
      "\tGetHandleVerifier [0x0099AABD+2539405]\n",
      "\tGetHandleVerifier [0x009DA78F+2800735]\n",
      "\tGetHandleVerifier [0x009D456C+2775612]\n",
      "\tGetHandleVerifier [0x007C51E0+616112]\n",
      "\t(No symbol) [0x006D5F8C]\n",
      "\t(No symbol) [0x006D2328]\n",
      "\t(No symbol) [0x006D240B]\n",
      "\t(No symbol) [0x006C4FF7]\n",
      "\tBaseThreadInitThunk [0x761E7D59+25]\n",
      "\tRtlInitializeExceptionChain [0x773DB79B+107]\n",
      "\tRtlClearBits [0x773DB71F+191]\n",
      "\n"
     ]
    },
    {
     "name": "stderr",
     "output_type": "stream",
     "text": [
      "could not detect version_main.therefore, we are assuming it is chrome 108 or higher\n"
     ]
    },
    {
     "name": "stdout",
     "output_type": "stream",
     "text": [
      "Saved to db successfully\n",
      "Done with link 46377: https://www.zoopla.co.uk/for-sale/details/64858355/?search_identifier=e07767343403ba43a5ac34b53392d06d9e580925c75b1558f06300a9b7d611b2\n",
      "Starting extraction for link 46378: https://www.zoopla.co.uk/for-sale/details/64838704/?search_identifier=e07767343403ba43a5ac34b53392d06d9e580925c75b1558f06300a9b7d611b2\n"
     ]
    },
    {
     "name": "stderr",
     "output_type": "stream",
     "text": [
      "could not detect version_main.therefore, we are assuming it is chrome 108 or higher\n"
     ]
    },
    {
     "name": "stdout",
     "output_type": "stream",
     "text": [
      "Saved to db successfully\n",
      "Done with link 46378: https://www.zoopla.co.uk/for-sale/details/64838704/?search_identifier=e07767343403ba43a5ac34b53392d06d9e580925c75b1558f06300a9b7d611b2\n",
      "Starting extraction for link 46379: https://www.zoopla.co.uk/for-sale/details/64835362/?search_identifier=e07767343403ba43a5ac34b53392d06d9e580925c75b1558f06300a9b7d611b2\n"
     ]
    },
    {
     "name": "stderr",
     "output_type": "stream",
     "text": [
      "could not detect version_main.therefore, we are assuming it is chrome 108 or higher\n"
     ]
    },
    {
     "name": "stdout",
     "output_type": "stream",
     "text": [
      "Saved to db successfully\n",
      "Done with link 46379: https://www.zoopla.co.uk/for-sale/details/64835362/?search_identifier=e07767343403ba43a5ac34b53392d06d9e580925c75b1558f06300a9b7d611b2\n",
      "Starting extraction for link 46380: https://www.zoopla.co.uk/for-sale/details/64834629/?search_identifier=e07767343403ba43a5ac34b53392d06d9e580925c75b1558f06300a9b7d611b2\n"
     ]
    },
    {
     "name": "stderr",
     "output_type": "stream",
     "text": [
      "could not detect version_main.therefore, we are assuming it is chrome 108 or higher\n"
     ]
    },
    {
     "name": "stdout",
     "output_type": "stream",
     "text": [
      "Saved to db successfully\n",
      "Done with link 46380: https://www.zoopla.co.uk/for-sale/details/64834629/?search_identifier=e07767343403ba43a5ac34b53392d06d9e580925c75b1558f06300a9b7d611b2\n",
      "Starting extraction for link 46381: https://www.zoopla.co.uk/for-sale/details/64831071/?search_identifier=e07767343403ba43a5ac34b53392d06d9e580925c75b1558f06300a9b7d611b2\n"
     ]
    },
    {
     "name": "stderr",
     "output_type": "stream",
     "text": [
      "could not detect version_main.therefore, we are assuming it is chrome 108 or higher\n"
     ]
    },
    {
     "name": "stdout",
     "output_type": "stream",
     "text": [
      "Saved to db successfully\n",
      "Done with link 46381: https://www.zoopla.co.uk/for-sale/details/64831071/?search_identifier=e07767343403ba43a5ac34b53392d06d9e580925c75b1558f06300a9b7d611b2\n",
      "Starting extraction for link 46382: https://www.zoopla.co.uk/for-sale/details/64820572/?search_identifier=e07767343403ba43a5ac34b53392d06d9e580925c75b1558f06300a9b7d611b2\n"
     ]
    },
    {
     "name": "stderr",
     "output_type": "stream",
     "text": [
      "could not detect version_main.therefore, we are assuming it is chrome 108 or higher\n"
     ]
    },
    {
     "name": "stdout",
     "output_type": "stream",
     "text": [
      "Saved to db successfully\n",
      "Done with link 46382: https://www.zoopla.co.uk/for-sale/details/64820572/?search_identifier=e07767343403ba43a5ac34b53392d06d9e580925c75b1558f06300a9b7d611b2\n",
      "Starting extraction for link 46383: https://www.zoopla.co.uk/for-sale/details/64820530/?search_identifier=e07767343403ba43a5ac34b53392d06d9e580925c75b1558f06300a9b7d611b2\n"
     ]
    },
    {
     "name": "stderr",
     "output_type": "stream",
     "text": [
      "could not detect version_main.therefore, we are assuming it is chrome 108 or higher\n"
     ]
    },
    {
     "name": "stdout",
     "output_type": "stream",
     "text": [
      "Saved to db successfully\n",
      "Done with link 46383: https://www.zoopla.co.uk/for-sale/details/64820530/?search_identifier=e07767343403ba43a5ac34b53392d06d9e580925c75b1558f06300a9b7d611b2\n",
      "Starting extraction for link 46384: https://www.zoopla.co.uk/for-sale/details/64820122/?search_identifier=e07767343403ba43a5ac34b53392d06d9e580925c75b1558f06300a9b7d611b2\n"
     ]
    },
    {
     "name": "stderr",
     "output_type": "stream",
     "text": [
      "could not detect version_main.therefore, we are assuming it is chrome 108 or higher\n"
     ]
    },
    {
     "name": "stdout",
     "output_type": "stream",
     "text": [
      "Saved to db successfully\n",
      "Done with link 46384: https://www.zoopla.co.uk/for-sale/details/64820122/?search_identifier=e07767343403ba43a5ac34b53392d06d9e580925c75b1558f06300a9b7d611b2\n",
      "Starting extraction for link 46385: https://www.zoopla.co.uk/for-sale/details/64820026/?search_identifier=e07767343403ba43a5ac34b53392d06d9e580925c75b1558f06300a9b7d611b2\n"
     ]
    },
    {
     "name": "stderr",
     "output_type": "stream",
     "text": [
      "could not detect version_main.therefore, we are assuming it is chrome 108 or higher\n"
     ]
    },
    {
     "name": "stdout",
     "output_type": "stream",
     "text": [
      "Saved to db successfully\n",
      "Done with link 46385: https://www.zoopla.co.uk/for-sale/details/64820026/?search_identifier=e07767343403ba43a5ac34b53392d06d9e580925c75b1558f06300a9b7d611b2\n",
      "Starting extraction for link 46386: https://www.zoopla.co.uk/for-sale/details/64819423/?search_identifier=e07767343403ba43a5ac34b53392d06d9e580925c75b1558f06300a9b7d611b2\n"
     ]
    },
    {
     "name": "stderr",
     "output_type": "stream",
     "text": [
      "could not detect version_main.therefore, we are assuming it is chrome 108 or higher\n"
     ]
    },
    {
     "name": "stdout",
     "output_type": "stream",
     "text": [
      "Saved to db successfully\n",
      "Done with link 46386: https://www.zoopla.co.uk/for-sale/details/64819423/?search_identifier=e07767343403ba43a5ac34b53392d06d9e580925c75b1558f06300a9b7d611b2\n",
      "Starting extraction for link 46387: https://www.zoopla.co.uk/for-sale/details/64814403/?search_identifier=e07767343403ba43a5ac34b53392d06d9e580925c75b1558f06300a9b7d611b2\n"
     ]
    },
    {
     "name": "stderr",
     "output_type": "stream",
     "text": [
      "could not detect version_main.therefore, we are assuming it is chrome 108 or higher\n"
     ]
    },
    {
     "name": "stdout",
     "output_type": "stream",
     "text": [
      "Saved to db successfully\n",
      "Done with link 46387: https://www.zoopla.co.uk/for-sale/details/64814403/?search_identifier=e07767343403ba43a5ac34b53392d06d9e580925c75b1558f06300a9b7d611b2\n",
      "Starting extraction for link 46388: https://www.zoopla.co.uk/for-sale/details/64810167/?search_identifier=e07767343403ba43a5ac34b53392d06d9e580925c75b1558f06300a9b7d611b2\n"
     ]
    },
    {
     "name": "stderr",
     "output_type": "stream",
     "text": [
      "could not detect version_main.therefore, we are assuming it is chrome 108 or higher\n"
     ]
    },
    {
     "name": "stdout",
     "output_type": "stream",
     "text": [
      "Saved to db successfully\n",
      "Done with link 46388: https://www.zoopla.co.uk/for-sale/details/64810167/?search_identifier=e07767343403ba43a5ac34b53392d06d9e580925c75b1558f06300a9b7d611b2\n",
      "Starting extraction for link 46389: https://www.zoopla.co.uk/for-sale/details/64809377/?search_identifier=e07767343403ba43a5ac34b53392d06d9e580925c75b1558f06300a9b7d611b2\n",
      "An error occurred for link in get_data_func: https://www.zoopla.co.uk/for-sale/details/64809377/?search_identifier=e07767343403ba43a5ac34b53392d06d9e580925c75b1558f06300a9b7d611b2: Message: no such element: Unable to locate element: {\"method\":\"xpath\",\"selector\":\"//p[@data-testid=\"price\"]\"}\n",
      "  (Session info: chrome=115.0.5790.171); For documentation on this error, please visit: https://www.selenium.dev/documentation/webdriver/troubleshooting/errors#no-such-element-exception\n",
      "Stacktrace:\n",
      "Backtrace:\n",
      "\tGetHandleVerifier [0x0073A813+48355]\n",
      "\t(No symbol) [0x006CC4B1]\n",
      "\t(No symbol) [0x005D5358]\n",
      "\t(No symbol) [0x006009A5]\n",
      "\t(No symbol) [0x00600B3B]\n",
      "\t(No symbol) [0x0062E232]\n",
      "\t(No symbol) [0x0061A784]\n",
      "\t(No symbol) [0x0062C922]\n",
      "\t(No symbol) [0x0061A536]\n",
      "\t(No symbol) [0x005F82DC]\n",
      "\t(No symbol) [0x005F93DD]\n",
      "\tGetHandleVerifier [0x0099AABD+2539405]\n",
      "\tGetHandleVerifier [0x009DA78F+2800735]\n",
      "\tGetHandleVerifier [0x009D456C+2775612]\n",
      "\tGetHandleVerifier [0x007C51E0+616112]\n",
      "\t(No symbol) [0x006D5F8C]\n",
      "\t(No symbol) [0x006D2328]\n",
      "\t(No symbol) [0x006D240B]\n",
      "\t(No symbol) [0x006C4FF7]\n",
      "\tBaseThreadInitThunk [0x761E7D59+25]\n",
      "\tRtlInitializeExceptionChain [0x773DB79B+107]\n",
      "\tRtlClearBits [0x773DB71F+191]\n",
      "\n"
     ]
    },
    {
     "name": "stderr",
     "output_type": "stream",
     "text": [
      "could not detect version_main.therefore, we are assuming it is chrome 108 or higher\n"
     ]
    },
    {
     "name": "stdout",
     "output_type": "stream",
     "text": [
      "Saved to db successfully\n",
      "Done with link 46389: https://www.zoopla.co.uk/for-sale/details/64809377/?search_identifier=e07767343403ba43a5ac34b53392d06d9e580925c75b1558f06300a9b7d611b2\n",
      "Starting extraction for link 46390: https://www.zoopla.co.uk/for-sale/details/64804652/?search_identifier=e07767343403ba43a5ac34b53392d06d9e580925c75b1558f06300a9b7d611b2\n"
     ]
    },
    {
     "name": "stderr",
     "output_type": "stream",
     "text": [
      "could not detect version_main.therefore, we are assuming it is chrome 108 or higher\n"
     ]
    },
    {
     "name": "stdout",
     "output_type": "stream",
     "text": [
      "Saved to db successfully\n",
      "Done with link 46390: https://www.zoopla.co.uk/for-sale/details/64804652/?search_identifier=e07767343403ba43a5ac34b53392d06d9e580925c75b1558f06300a9b7d611b2\n",
      "Starting extraction for link 46391: https://www.zoopla.co.uk/for-sale/details/64801978/?search_identifier=e07767343403ba43a5ac34b53392d06d9e580925c75b1558f06300a9b7d611b2\n"
     ]
    },
    {
     "name": "stderr",
     "output_type": "stream",
     "text": [
      "could not detect version_main.therefore, we are assuming it is chrome 108 or higher\n"
     ]
    },
    {
     "name": "stdout",
     "output_type": "stream",
     "text": [
      "Saved to db successfully\n",
      "Done with link 46391: https://www.zoopla.co.uk/for-sale/details/64801978/?search_identifier=e07767343403ba43a5ac34b53392d06d9e580925c75b1558f06300a9b7d611b2\n",
      "Starting extraction for link 46392: https://www.zoopla.co.uk/for-sale/details/64799220/?search_identifier=e07767343403ba43a5ac34b53392d06d9e580925c75b1558f06300a9b7d611b2\n"
     ]
    },
    {
     "name": "stderr",
     "output_type": "stream",
     "text": [
      "could not detect version_main.therefore, we are assuming it is chrome 108 or higher\n"
     ]
    },
    {
     "name": "stdout",
     "output_type": "stream",
     "text": [
      "Saved to db successfully\n",
      "Done with link 46392: https://www.zoopla.co.uk/for-sale/details/64799220/?search_identifier=e07767343403ba43a5ac34b53392d06d9e580925c75b1558f06300a9b7d611b2\n",
      "Starting extraction for link 46393: https://www.zoopla.co.uk/for-sale/details/64796861/?search_identifier=e07767343403ba43a5ac34b53392d06d9e580925c75b1558f06300a9b7d611b2\n"
     ]
    },
    {
     "name": "stderr",
     "output_type": "stream",
     "text": [
      "could not detect version_main.therefore, we are assuming it is chrome 108 or higher\n"
     ]
    },
    {
     "name": "stdout",
     "output_type": "stream",
     "text": [
      "Saved to db successfully\n",
      "Done with link 46393: https://www.zoopla.co.uk/for-sale/details/64796861/?search_identifier=e07767343403ba43a5ac34b53392d06d9e580925c75b1558f06300a9b7d611b2\n",
      "Starting extraction for link 46394: https://www.zoopla.co.uk/for-sale/details/64793847/?search_identifier=8b93ac30206afc8ffe5861606b0b2dd277f2c5b951b457c54b9e6e8aec777356\n"
     ]
    },
    {
     "name": "stderr",
     "output_type": "stream",
     "text": [
      "could not detect version_main.therefore, we are assuming it is chrome 108 or higher\n"
     ]
    },
    {
     "name": "stdout",
     "output_type": "stream",
     "text": [
      "Saved to db successfully\n",
      "Done with link 46394: https://www.zoopla.co.uk/for-sale/details/64793847/?search_identifier=8b93ac30206afc8ffe5861606b0b2dd277f2c5b951b457c54b9e6e8aec777356\n",
      "Starting extraction for link 46395: https://www.zoopla.co.uk/for-sale/details/64777003/?search_identifier=8b93ac30206afc8ffe5861606b0b2dd277f2c5b951b457c54b9e6e8aec777356\n"
     ]
    },
    {
     "name": "stderr",
     "output_type": "stream",
     "text": [
      "could not detect version_main.therefore, we are assuming it is chrome 108 or higher\n"
     ]
    },
    {
     "name": "stdout",
     "output_type": "stream",
     "text": [
      "Saved to db successfully\n",
      "Done with link 46395: https://www.zoopla.co.uk/for-sale/details/64777003/?search_identifier=8b93ac30206afc8ffe5861606b0b2dd277f2c5b951b457c54b9e6e8aec777356\n",
      "Starting extraction for link 46396: https://www.zoopla.co.uk/for-sale/details/64776572/?search_identifier=8b93ac30206afc8ffe5861606b0b2dd277f2c5b951b457c54b9e6e8aec777356\n"
     ]
    },
    {
     "name": "stderr",
     "output_type": "stream",
     "text": [
      "could not detect version_main.therefore, we are assuming it is chrome 108 or higher\n"
     ]
    },
    {
     "name": "stdout",
     "output_type": "stream",
     "text": [
      "Saved to db successfully\n",
      "Done with link 46396: https://www.zoopla.co.uk/for-sale/details/64776572/?search_identifier=8b93ac30206afc8ffe5861606b0b2dd277f2c5b951b457c54b9e6e8aec777356\n",
      "Starting extraction for link 46397: https://www.zoopla.co.uk/for-sale/details/64775010/?search_identifier=8b93ac30206afc8ffe5861606b0b2dd277f2c5b951b457c54b9e6e8aec777356\n"
     ]
    },
    {
     "name": "stderr",
     "output_type": "stream",
     "text": [
      "could not detect version_main.therefore, we are assuming it is chrome 108 or higher\n"
     ]
    },
    {
     "name": "stdout",
     "output_type": "stream",
     "text": [
      "Saved to db successfully\n",
      "Done with link 46397: https://www.zoopla.co.uk/for-sale/details/64775010/?search_identifier=8b93ac30206afc8ffe5861606b0b2dd277f2c5b951b457c54b9e6e8aec777356\n",
      "Starting extraction for link 46398: https://www.zoopla.co.uk/for-sale/details/64770260/?search_identifier=8b93ac30206afc8ffe5861606b0b2dd277f2c5b951b457c54b9e6e8aec777356\n"
     ]
    },
    {
     "name": "stderr",
     "output_type": "stream",
     "text": [
      "could not detect version_main.therefore, we are assuming it is chrome 108 or higher\n"
     ]
    },
    {
     "name": "stdout",
     "output_type": "stream",
     "text": [
      "Saved to db successfully\n",
      "Done with link 46398: https://www.zoopla.co.uk/for-sale/details/64770260/?search_identifier=8b93ac30206afc8ffe5861606b0b2dd277f2c5b951b457c54b9e6e8aec777356\n",
      "Starting extraction for link 46399: https://www.zoopla.co.uk/for-sale/details/64768386/?search_identifier=8b93ac30206afc8ffe5861606b0b2dd277f2c5b951b457c54b9e6e8aec777356\n"
     ]
    },
    {
     "name": "stderr",
     "output_type": "stream",
     "text": [
      "could not detect version_main.therefore, we are assuming it is chrome 108 or higher\n"
     ]
    },
    {
     "name": "stdout",
     "output_type": "stream",
     "text": [
      "Saved to db successfully\n",
      "Done with link 46399: https://www.zoopla.co.uk/for-sale/details/64768386/?search_identifier=8b93ac30206afc8ffe5861606b0b2dd277f2c5b951b457c54b9e6e8aec777356\n",
      "Starting extraction for link 46400: https://www.zoopla.co.uk/for-sale/details/64761892/?search_identifier=8b93ac30206afc8ffe5861606b0b2dd277f2c5b951b457c54b9e6e8aec777356\n"
     ]
    },
    {
     "name": "stderr",
     "output_type": "stream",
     "text": [
      "could not detect version_main.therefore, we are assuming it is chrome 108 or higher\n"
     ]
    },
    {
     "name": "stdout",
     "output_type": "stream",
     "text": [
      "Saved to db successfully\n",
      "Done with link 46400: https://www.zoopla.co.uk/for-sale/details/64761892/?search_identifier=8b93ac30206afc8ffe5861606b0b2dd277f2c5b951b457c54b9e6e8aec777356\n",
      "Starting extraction for link 46401: https://www.zoopla.co.uk/for-sale/details/64761893/?search_identifier=8b93ac30206afc8ffe5861606b0b2dd277f2c5b951b457c54b9e6e8aec777356\n"
     ]
    },
    {
     "name": "stderr",
     "output_type": "stream",
     "text": [
      "could not detect version_main.therefore, we are assuming it is chrome 108 or higher\n"
     ]
    },
    {
     "name": "stdout",
     "output_type": "stream",
     "text": [
      "Saved to db successfully\n",
      "Done with link 46401: https://www.zoopla.co.uk/for-sale/details/64761893/?search_identifier=8b93ac30206afc8ffe5861606b0b2dd277f2c5b951b457c54b9e6e8aec777356\n",
      "Starting extraction for link 46402: https://www.zoopla.co.uk/for-sale/details/64759464/?search_identifier=8b93ac30206afc8ffe5861606b0b2dd277f2c5b951b457c54b9e6e8aec777356\n"
     ]
    },
    {
     "name": "stderr",
     "output_type": "stream",
     "text": [
      "could not detect version_main.therefore, we are assuming it is chrome 108 or higher\n"
     ]
    },
    {
     "name": "stdout",
     "output_type": "stream",
     "text": [
      "Saved to db successfully\n",
      "Done with link 46402: https://www.zoopla.co.uk/for-sale/details/64759464/?search_identifier=8b93ac30206afc8ffe5861606b0b2dd277f2c5b951b457c54b9e6e8aec777356\n",
      "Starting extraction for link 46403: https://www.zoopla.co.uk/for-sale/details/64757948/?search_identifier=8b93ac30206afc8ffe5861606b0b2dd277f2c5b951b457c54b9e6e8aec777356\n"
     ]
    },
    {
     "name": "stderr",
     "output_type": "stream",
     "text": [
      "could not detect version_main.therefore, we are assuming it is chrome 108 or higher\n"
     ]
    },
    {
     "name": "stdout",
     "output_type": "stream",
     "text": [
      "Saved to db successfully\n",
      "Done with link 46403: https://www.zoopla.co.uk/for-sale/details/64757948/?search_identifier=8b93ac30206afc8ffe5861606b0b2dd277f2c5b951b457c54b9e6e8aec777356\n",
      "Starting extraction for link 46404: https://www.zoopla.co.uk/for-sale/details/60686663/?search_identifier=8b93ac30206afc8ffe5861606b0b2dd277f2c5b951b457c54b9e6e8aec777356\n"
     ]
    },
    {
     "name": "stderr",
     "output_type": "stream",
     "text": [
      "could not detect version_main.therefore, we are assuming it is chrome 108 or higher\n"
     ]
    },
    {
     "name": "stdout",
     "output_type": "stream",
     "text": [
      "Saved to db successfully\n",
      "Done with link 46404: https://www.zoopla.co.uk/for-sale/details/60686663/?search_identifier=8b93ac30206afc8ffe5861606b0b2dd277f2c5b951b457c54b9e6e8aec777356\n",
      "Starting extraction for link 46405: https://www.zoopla.co.uk/for-sale/details/64742583/?search_identifier=8b93ac30206afc8ffe5861606b0b2dd277f2c5b951b457c54b9e6e8aec777356\n"
     ]
    },
    {
     "name": "stderr",
     "output_type": "stream",
     "text": [
      "could not detect version_main.therefore, we are assuming it is chrome 108 or higher\n"
     ]
    },
    {
     "name": "stdout",
     "output_type": "stream",
     "text": [
      "Saved to db successfully\n",
      "Done with link 46405: https://www.zoopla.co.uk/for-sale/details/64742583/?search_identifier=8b93ac30206afc8ffe5861606b0b2dd277f2c5b951b457c54b9e6e8aec777356\n",
      "Starting extraction for link 46406: https://www.zoopla.co.uk/for-sale/details/64738741/?search_identifier=8b93ac30206afc8ffe5861606b0b2dd277f2c5b951b457c54b9e6e8aec777356\n"
     ]
    },
    {
     "name": "stderr",
     "output_type": "stream",
     "text": [
      "could not detect version_main.therefore, we are assuming it is chrome 108 or higher\n"
     ]
    },
    {
     "name": "stdout",
     "output_type": "stream",
     "text": [
      "Saved to db successfully\n",
      "Done with link 46406: https://www.zoopla.co.uk/for-sale/details/64738741/?search_identifier=8b93ac30206afc8ffe5861606b0b2dd277f2c5b951b457c54b9e6e8aec777356\n",
      "Starting extraction for link 46407: https://www.zoopla.co.uk/for-sale/details/64738612/?search_identifier=8b93ac30206afc8ffe5861606b0b2dd277f2c5b951b457c54b9e6e8aec777356\n"
     ]
    },
    {
     "name": "stderr",
     "output_type": "stream",
     "text": [
      "could not detect version_main.therefore, we are assuming it is chrome 108 or higher\n"
     ]
    },
    {
     "name": "stdout",
     "output_type": "stream",
     "text": [
      "Saved to db successfully\n",
      "Done with link 46407: https://www.zoopla.co.uk/for-sale/details/64738612/?search_identifier=8b93ac30206afc8ffe5861606b0b2dd277f2c5b951b457c54b9e6e8aec777356\n",
      "Starting extraction for link 46408: https://www.zoopla.co.uk/for-sale/details/64727572/?search_identifier=8b93ac30206afc8ffe5861606b0b2dd277f2c5b951b457c54b9e6e8aec777356\n"
     ]
    },
    {
     "name": "stderr",
     "output_type": "stream",
     "text": [
      "could not detect version_main.therefore, we are assuming it is chrome 108 or higher\n"
     ]
    },
    {
     "name": "stdout",
     "output_type": "stream",
     "text": [
      "Saved to db successfully\n",
      "Done with link 46408: https://www.zoopla.co.uk/for-sale/details/64727572/?search_identifier=8b93ac30206afc8ffe5861606b0b2dd277f2c5b951b457c54b9e6e8aec777356\n",
      "Starting extraction for link 46409: https://www.zoopla.co.uk/for-sale/details/64719568/?search_identifier=8b93ac30206afc8ffe5861606b0b2dd277f2c5b951b457c54b9e6e8aec777356\n"
     ]
    },
    {
     "name": "stderr",
     "output_type": "stream",
     "text": [
      "could not detect version_main.therefore, we are assuming it is chrome 108 or higher\n"
     ]
    },
    {
     "name": "stdout",
     "output_type": "stream",
     "text": [
      "Saved to db successfully\n",
      "Done with link 46409: https://www.zoopla.co.uk/for-sale/details/64719568/?search_identifier=8b93ac30206afc8ffe5861606b0b2dd277f2c5b951b457c54b9e6e8aec777356\n",
      "Starting extraction for link 46410: https://www.zoopla.co.uk/for-sale/details/64719381/?search_identifier=8b93ac30206afc8ffe5861606b0b2dd277f2c5b951b457c54b9e6e8aec777356\n",
      "An error occurred for link in get_data_func: https://www.zoopla.co.uk/for-sale/details/64719381/?search_identifier=8b93ac30206afc8ffe5861606b0b2dd277f2c5b951b457c54b9e6e8aec777356: Message: no such element: Unable to locate element: {\"method\":\"xpath\",\"selector\":\"//p[@data-testid=\"price\"]\"}\n",
      "  (Session info: chrome=115.0.5790.171); For documentation on this error, please visit: https://www.selenium.dev/documentation/webdriver/troubleshooting/errors#no-such-element-exception\n",
      "Stacktrace:\n",
      "Backtrace:\n",
      "\tGetHandleVerifier [0x0073A813+48355]\n",
      "\t(No symbol) [0x006CC4B1]\n",
      "\t(No symbol) [0x005D5358]\n",
      "\t(No symbol) [0x006009A5]\n",
      "\t(No symbol) [0x00600B3B]\n",
      "\t(No symbol) [0x0062E232]\n",
      "\t(No symbol) [0x0061A784]\n",
      "\t(No symbol) [0x0062C922]\n",
      "\t(No symbol) [0x0061A536]\n",
      "\t(No symbol) [0x005F82DC]\n",
      "\t(No symbol) [0x005F93DD]\n",
      "\tGetHandleVerifier [0x0099AABD+2539405]\n",
      "\tGetHandleVerifier [0x009DA78F+2800735]\n",
      "\tGetHandleVerifier [0x009D456C+2775612]\n",
      "\tGetHandleVerifier [0x007C51E0+616112]\n",
      "\t(No symbol) [0x006D5F8C]\n",
      "\t(No symbol) [0x006D2328]\n",
      "\t(No symbol) [0x006D240B]\n",
      "\t(No symbol) [0x006C4FF7]\n",
      "\tBaseThreadInitThunk [0x761E7D59+25]\n",
      "\tRtlInitializeExceptionChain [0x773DB79B+107]\n",
      "\tRtlClearBits [0x773DB71F+191]\n",
      "\n"
     ]
    },
    {
     "name": "stderr",
     "output_type": "stream",
     "text": [
      "could not detect version_main.therefore, we are assuming it is chrome 108 or higher\n"
     ]
    },
    {
     "name": "stdout",
     "output_type": "stream",
     "text": [
      "Saved to db successfully\n",
      "Done with link 46410: https://www.zoopla.co.uk/for-sale/details/64719381/?search_identifier=8b93ac30206afc8ffe5861606b0b2dd277f2c5b951b457c54b9e6e8aec777356\n",
      "Starting extraction for link 46411: https://www.zoopla.co.uk/for-sale/details/64719151/?search_identifier=8b93ac30206afc8ffe5861606b0b2dd277f2c5b951b457c54b9e6e8aec777356\n"
     ]
    },
    {
     "name": "stderr",
     "output_type": "stream",
     "text": [
      "could not detect version_main.therefore, we are assuming it is chrome 108 or higher\n"
     ]
    },
    {
     "name": "stdout",
     "output_type": "stream",
     "text": [
      "Saved to db successfully\n",
      "Done with link 46411: https://www.zoopla.co.uk/for-sale/details/64719151/?search_identifier=8b93ac30206afc8ffe5861606b0b2dd277f2c5b951b457c54b9e6e8aec777356\n",
      "Starting extraction for link 46412: https://www.zoopla.co.uk/for-sale/details/64702502/?search_identifier=8b93ac30206afc8ffe5861606b0b2dd277f2c5b951b457c54b9e6e8aec777356\n"
     ]
    },
    {
     "name": "stderr",
     "output_type": "stream",
     "text": [
      "could not detect version_main.therefore, we are assuming it is chrome 108 or higher\n"
     ]
    },
    {
     "name": "stdout",
     "output_type": "stream",
     "text": [
      "Saved to db successfully\n",
      "Done with link 46412: https://www.zoopla.co.uk/for-sale/details/64702502/?search_identifier=8b93ac30206afc8ffe5861606b0b2dd277f2c5b951b457c54b9e6e8aec777356\n",
      "Starting extraction for link 46413: https://www.zoopla.co.uk/for-sale/details/64700892/?search_identifier=8b93ac30206afc8ffe5861606b0b2dd277f2c5b951b457c54b9e6e8aec777356\n"
     ]
    },
    {
     "name": "stderr",
     "output_type": "stream",
     "text": [
      "could not detect version_main.therefore, we are assuming it is chrome 108 or higher\n"
     ]
    },
    {
     "name": "stdout",
     "output_type": "stream",
     "text": [
      "Saved to db successfully\n",
      "Done with link 46413: https://www.zoopla.co.uk/for-sale/details/64700892/?search_identifier=8b93ac30206afc8ffe5861606b0b2dd277f2c5b951b457c54b9e6e8aec777356\n",
      "Starting extraction for link 46414: https://www.zoopla.co.uk/for-sale/details/64691049/?search_identifier=8b93ac30206afc8ffe5861606b0b2dd277f2c5b951b457c54b9e6e8aec777356\n"
     ]
    },
    {
     "name": "stderr",
     "output_type": "stream",
     "text": [
      "could not detect version_main.therefore, we are assuming it is chrome 108 or higher\n"
     ]
    },
    {
     "name": "stdout",
     "output_type": "stream",
     "text": [
      "Saved to db successfully\n",
      "Done with link 46414: https://www.zoopla.co.uk/for-sale/details/64691049/?search_identifier=8b93ac30206afc8ffe5861606b0b2dd277f2c5b951b457c54b9e6e8aec777356\n",
      "Starting extraction for link 46415: https://www.zoopla.co.uk/for-sale/details/64690956/?search_identifier=8b93ac30206afc8ffe5861606b0b2dd277f2c5b951b457c54b9e6e8aec777356\n"
     ]
    },
    {
     "name": "stderr",
     "output_type": "stream",
     "text": [
      "could not detect version_main.therefore, we are assuming it is chrome 108 or higher\n"
     ]
    },
    {
     "name": "stdout",
     "output_type": "stream",
     "text": [
      "Saved to db successfully\n",
      "Done with link 46415: https://www.zoopla.co.uk/for-sale/details/64690956/?search_identifier=8b93ac30206afc8ffe5861606b0b2dd277f2c5b951b457c54b9e6e8aec777356\n",
      "Starting extraction for link 46416: https://www.zoopla.co.uk/for-sale/details/64689338/?search_identifier=8b93ac30206afc8ffe5861606b0b2dd277f2c5b951b457c54b9e6e8aec777356\n",
      "An error occurred for link in get_data_func: https://www.zoopla.co.uk/for-sale/details/64689338/?search_identifier=8b93ac30206afc8ffe5861606b0b2dd277f2c5b951b457c54b9e6e8aec777356: Message: no such element: Unable to locate element: {\"method\":\"xpath\",\"selector\":\"//p[@data-testid=\"price\"]\"}\n",
      "  (Session info: chrome=115.0.5790.171); For documentation on this error, please visit: https://www.selenium.dev/documentation/webdriver/troubleshooting/errors#no-such-element-exception\n",
      "Stacktrace:\n",
      "Backtrace:\n",
      "\tGetHandleVerifier [0x0073A813+48355]\n",
      "\t(No symbol) [0x006CC4B1]\n",
      "\t(No symbol) [0x005D5358]\n",
      "\t(No symbol) [0x006009A5]\n",
      "\t(No symbol) [0x00600B3B]\n",
      "\t(No symbol) [0x0062E232]\n",
      "\t(No symbol) [0x0061A784]\n",
      "\t(No symbol) [0x0062C922]\n",
      "\t(No symbol) [0x0061A536]\n",
      "\t(No symbol) [0x005F82DC]\n",
      "\t(No symbol) [0x005F93DD]\n",
      "\tGetHandleVerifier [0x0099AABD+2539405]\n",
      "\tGetHandleVerifier [0x009DA78F+2800735]\n",
      "\tGetHandleVerifier [0x009D456C+2775612]\n",
      "\tGetHandleVerifier [0x007C51E0+616112]\n",
      "\t(No symbol) [0x006D5F8C]\n",
      "\t(No symbol) [0x006D2328]\n",
      "\t(No symbol) [0x006D240B]\n",
      "\t(No symbol) [0x006C4FF7]\n",
      "\tBaseThreadInitThunk [0x761E7D59+25]\n",
      "\tRtlInitializeExceptionChain [0x773DB79B+107]\n",
      "\tRtlClearBits [0x773DB71F+191]\n",
      "\n"
     ]
    },
    {
     "name": "stderr",
     "output_type": "stream",
     "text": [
      "could not detect version_main.therefore, we are assuming it is chrome 108 or higher\n"
     ]
    },
    {
     "name": "stdout",
     "output_type": "stream",
     "text": [
      "Saved to db successfully\n",
      "Done with link 46416: https://www.zoopla.co.uk/for-sale/details/64689338/?search_identifier=8b93ac30206afc8ffe5861606b0b2dd277f2c5b951b457c54b9e6e8aec777356\n",
      "Starting extraction for link 46417: https://www.zoopla.co.uk/for-sale/details/64685529/?search_identifier=8b93ac30206afc8ffe5861606b0b2dd277f2c5b951b457c54b9e6e8aec777356\n"
     ]
    },
    {
     "name": "stderr",
     "output_type": "stream",
     "text": [
      "could not detect version_main.therefore, we are assuming it is chrome 108 or higher\n"
     ]
    },
    {
     "name": "stdout",
     "output_type": "stream",
     "text": [
      "Saved to db successfully\n",
      "Done with link 46417: https://www.zoopla.co.uk/for-sale/details/64685529/?search_identifier=8b93ac30206afc8ffe5861606b0b2dd277f2c5b951b457c54b9e6e8aec777356\n",
      "Starting extraction for link 46418: https://www.zoopla.co.uk/for-sale/details/64685530/?search_identifier=8b93ac30206afc8ffe5861606b0b2dd277f2c5b951b457c54b9e6e8aec777356\n"
     ]
    },
    {
     "name": "stderr",
     "output_type": "stream",
     "text": [
      "could not detect version_main.therefore, we are assuming it is chrome 108 or higher\n"
     ]
    },
    {
     "name": "stdout",
     "output_type": "stream",
     "text": [
      "Saved to db successfully\n",
      "Done with link 46418: https://www.zoopla.co.uk/for-sale/details/64685530/?search_identifier=8b93ac30206afc8ffe5861606b0b2dd277f2c5b951b457c54b9e6e8aec777356\n",
      "Starting extraction for link 46419: https://www.zoopla.co.uk/for-sale/details/64680788/?search_identifier=e7bade9ba96b402d8028def203e9e5f1a2a6bb6f86841713a749a4b9242e0051\n"
     ]
    },
    {
     "name": "stderr",
     "output_type": "stream",
     "text": [
      "could not detect version_main.therefore, we are assuming it is chrome 108 or higher\n"
     ]
    },
    {
     "name": "stdout",
     "output_type": "stream",
     "text": [
      "Saved to db successfully\n",
      "Done with link 46419: https://www.zoopla.co.uk/for-sale/details/64680788/?search_identifier=e7bade9ba96b402d8028def203e9e5f1a2a6bb6f86841713a749a4b9242e0051\n",
      "Starting extraction for link 46420: https://www.zoopla.co.uk/for-sale/details/64679708/?search_identifier=e7bade9ba96b402d8028def203e9e5f1a2a6bb6f86841713a749a4b9242e0051\n"
     ]
    },
    {
     "name": "stderr",
     "output_type": "stream",
     "text": [
      "could not detect version_main.therefore, we are assuming it is chrome 108 or higher\n"
     ]
    },
    {
     "name": "stdout",
     "output_type": "stream",
     "text": [
      "Saved to db successfully\n",
      "Done with link 46420: https://www.zoopla.co.uk/for-sale/details/64679708/?search_identifier=e7bade9ba96b402d8028def203e9e5f1a2a6bb6f86841713a749a4b9242e0051\n",
      "Starting extraction for link 46421: https://www.zoopla.co.uk/for-sale/details/64679383/?search_identifier=e7bade9ba96b402d8028def203e9e5f1a2a6bb6f86841713a749a4b9242e0051\n",
      "An error occurred for link in get_data_func: https://www.zoopla.co.uk/for-sale/details/64679383/?search_identifier=e7bade9ba96b402d8028def203e9e5f1a2a6bb6f86841713a749a4b9242e0051: Message: no such element: Unable to locate element: {\"method\":\"xpath\",\"selector\":\"//p[@data-testid=\"price\"]\"}\n",
      "  (Session info: chrome=115.0.5790.171); For documentation on this error, please visit: https://www.selenium.dev/documentation/webdriver/troubleshooting/errors#no-such-element-exception\n",
      "Stacktrace:\n",
      "Backtrace:\n",
      "\tGetHandleVerifier [0x0073A813+48355]\n",
      "\t(No symbol) [0x006CC4B1]\n",
      "\t(No symbol) [0x005D5358]\n",
      "\t(No symbol) [0x006009A5]\n",
      "\t(No symbol) [0x00600B3B]\n",
      "\t(No symbol) [0x0062E232]\n",
      "\t(No symbol) [0x0061A784]\n",
      "\t(No symbol) [0x0062C922]\n",
      "\t(No symbol) [0x0061A536]\n",
      "\t(No symbol) [0x005F82DC]\n",
      "\t(No symbol) [0x005F93DD]\n",
      "\tGetHandleVerifier [0x0099AABD+2539405]\n",
      "\tGetHandleVerifier [0x009DA78F+2800735]\n",
      "\tGetHandleVerifier [0x009D456C+2775612]\n",
      "\tGetHandleVerifier [0x007C51E0+616112]\n",
      "\t(No symbol) [0x006D5F8C]\n",
      "\t(No symbol) [0x006D2328]\n",
      "\t(No symbol) [0x006D240B]\n",
      "\t(No symbol) [0x006C4FF7]\n",
      "\tBaseThreadInitThunk [0x761E7D59+25]\n",
      "\tRtlInitializeExceptionChain [0x773DB79B+107]\n",
      "\tRtlClearBits [0x773DB71F+191]\n",
      "\n"
     ]
    },
    {
     "name": "stderr",
     "output_type": "stream",
     "text": [
      "could not detect version_main.therefore, we are assuming it is chrome 108 or higher\n"
     ]
    },
    {
     "name": "stdout",
     "output_type": "stream",
     "text": [
      "Saved to db successfully\n",
      "Done with link 46421: https://www.zoopla.co.uk/for-sale/details/64679383/?search_identifier=e7bade9ba96b402d8028def203e9e5f1a2a6bb6f86841713a749a4b9242e0051\n",
      "Starting extraction for link 46422: https://www.zoopla.co.uk/for-sale/details/64678327/?search_identifier=e7bade9ba96b402d8028def203e9e5f1a2a6bb6f86841713a749a4b9242e0051\n"
     ]
    },
    {
     "name": "stderr",
     "output_type": "stream",
     "text": [
      "could not detect version_main.therefore, we are assuming it is chrome 108 or higher\n"
     ]
    },
    {
     "name": "stdout",
     "output_type": "stream",
     "text": [
      "Saved to db successfully\n",
      "Done with link 46422: https://www.zoopla.co.uk/for-sale/details/64678327/?search_identifier=e7bade9ba96b402d8028def203e9e5f1a2a6bb6f86841713a749a4b9242e0051\n",
      "Starting extraction for link 46423: https://www.zoopla.co.uk/for-sale/details/64674997/?search_identifier=e7bade9ba96b402d8028def203e9e5f1a2a6bb6f86841713a749a4b9242e0051\n"
     ]
    },
    {
     "name": "stderr",
     "output_type": "stream",
     "text": [
      "could not detect version_main.therefore, we are assuming it is chrome 108 or higher\n"
     ]
    },
    {
     "name": "stdout",
     "output_type": "stream",
     "text": [
      "Saved to db successfully\n",
      "Done with link 46423: https://www.zoopla.co.uk/for-sale/details/64674997/?search_identifier=e7bade9ba96b402d8028def203e9e5f1a2a6bb6f86841713a749a4b9242e0051\n",
      "Starting extraction for link 46424: https://www.zoopla.co.uk/for-sale/details/64674652/?search_identifier=e7bade9ba96b402d8028def203e9e5f1a2a6bb6f86841713a749a4b9242e0051\n"
     ]
    },
    {
     "name": "stderr",
     "output_type": "stream",
     "text": [
      "could not detect version_main.therefore, we are assuming it is chrome 108 or higher\n"
     ]
    },
    {
     "name": "stdout",
     "output_type": "stream",
     "text": [
      "Saved to db successfully\n",
      "Done with link 46424: https://www.zoopla.co.uk/for-sale/details/64674652/?search_identifier=e7bade9ba96b402d8028def203e9e5f1a2a6bb6f86841713a749a4b9242e0051\n",
      "Starting extraction for link 46425: https://www.zoopla.co.uk/for-sale/details/64668927/?search_identifier=e7bade9ba96b402d8028def203e9e5f1a2a6bb6f86841713a749a4b9242e0051\n"
     ]
    },
    {
     "name": "stderr",
     "output_type": "stream",
     "text": [
      "could not detect version_main.therefore, we are assuming it is chrome 108 or higher\n"
     ]
    },
    {
     "name": "stdout",
     "output_type": "stream",
     "text": [
      "Saved to db successfully\n",
      "Done with link 46425: https://www.zoopla.co.uk/for-sale/details/64668927/?search_identifier=e7bade9ba96b402d8028def203e9e5f1a2a6bb6f86841713a749a4b9242e0051\n",
      "Starting extraction for link 46426: https://www.zoopla.co.uk/for-sale/details/64668238/?search_identifier=e7bade9ba96b402d8028def203e9e5f1a2a6bb6f86841713a749a4b9242e0051\n"
     ]
    },
    {
     "name": "stderr",
     "output_type": "stream",
     "text": [
      "could not detect version_main.therefore, we are assuming it is chrome 108 or higher\n"
     ]
    },
    {
     "name": "stdout",
     "output_type": "stream",
     "text": [
      "Saved to db successfully\n",
      "Done with link 46426: https://www.zoopla.co.uk/for-sale/details/64668238/?search_identifier=e7bade9ba96b402d8028def203e9e5f1a2a6bb6f86841713a749a4b9242e0051\n",
      "Starting extraction for link 46427: https://www.zoopla.co.uk/for-sale/details/64663856/?search_identifier=e7bade9ba96b402d8028def203e9e5f1a2a6bb6f86841713a749a4b9242e0051\n"
     ]
    },
    {
     "name": "stderr",
     "output_type": "stream",
     "text": [
      "could not detect version_main.therefore, we are assuming it is chrome 108 or higher\n"
     ]
    },
    {
     "name": "stdout",
     "output_type": "stream",
     "text": [
      "Saved to db successfully\n",
      "Done with link 46427: https://www.zoopla.co.uk/for-sale/details/64663856/?search_identifier=e7bade9ba96b402d8028def203e9e5f1a2a6bb6f86841713a749a4b9242e0051\n",
      "Starting extraction for link 46428: https://www.zoopla.co.uk/for-sale/details/64659072/?search_identifier=e7bade9ba96b402d8028def203e9e5f1a2a6bb6f86841713a749a4b9242e0051\n"
     ]
    },
    {
     "name": "stderr",
     "output_type": "stream",
     "text": [
      "could not detect version_main.therefore, we are assuming it is chrome 108 or higher\n"
     ]
    },
    {
     "name": "stdout",
     "output_type": "stream",
     "text": [
      "Saved to db successfully\n",
      "Done with link 46428: https://www.zoopla.co.uk/for-sale/details/64659072/?search_identifier=e7bade9ba96b402d8028def203e9e5f1a2a6bb6f86841713a749a4b9242e0051\n",
      "Starting extraction for link 46429: https://www.zoopla.co.uk/for-sale/details/64658278/?search_identifier=e7bade9ba96b402d8028def203e9e5f1a2a6bb6f86841713a749a4b9242e0051\n"
     ]
    },
    {
     "name": "stderr",
     "output_type": "stream",
     "text": [
      "could not detect version_main.therefore, we are assuming it is chrome 108 or higher\n"
     ]
    },
    {
     "name": "stdout",
     "output_type": "stream",
     "text": [
      "Saved to db successfully\n",
      "Done with link 46429: https://www.zoopla.co.uk/for-sale/details/64658278/?search_identifier=e7bade9ba96b402d8028def203e9e5f1a2a6bb6f86841713a749a4b9242e0051\n",
      "Starting extraction for link 46430: https://www.zoopla.co.uk/for-sale/details/64657188/?search_identifier=e7bade9ba96b402d8028def203e9e5f1a2a6bb6f86841713a749a4b9242e0051\n"
     ]
    },
    {
     "name": "stderr",
     "output_type": "stream",
     "text": [
      "could not detect version_main.therefore, we are assuming it is chrome 108 or higher\n"
     ]
    },
    {
     "name": "stdout",
     "output_type": "stream",
     "text": [
      "Saved to db successfully\n",
      "Done with link 46430: https://www.zoopla.co.uk/for-sale/details/64657188/?search_identifier=e7bade9ba96b402d8028def203e9e5f1a2a6bb6f86841713a749a4b9242e0051\n",
      "Starting extraction for link 46431: https://www.zoopla.co.uk/for-sale/details/64650411/?search_identifier=e7bade9ba96b402d8028def203e9e5f1a2a6bb6f86841713a749a4b9242e0051\n"
     ]
    },
    {
     "name": "stderr",
     "output_type": "stream",
     "text": [
      "could not detect version_main.therefore, we are assuming it is chrome 108 or higher\n"
     ]
    },
    {
     "name": "stdout",
     "output_type": "stream",
     "text": [
      "Saved to db successfully\n",
      "Done with link 46431: https://www.zoopla.co.uk/for-sale/details/64650411/?search_identifier=e7bade9ba96b402d8028def203e9e5f1a2a6bb6f86841713a749a4b9242e0051\n",
      "Starting extraction for link 46432: https://www.zoopla.co.uk/for-sale/details/64647874/?search_identifier=e7bade9ba96b402d8028def203e9e5f1a2a6bb6f86841713a749a4b9242e0051\n"
     ]
    },
    {
     "name": "stderr",
     "output_type": "stream",
     "text": [
      "could not detect version_main.therefore, we are assuming it is chrome 108 or higher\n"
     ]
    },
    {
     "name": "stdout",
     "output_type": "stream",
     "text": [
      "Saved to db successfully\n",
      "Done with link 46432: https://www.zoopla.co.uk/for-sale/details/64647874/?search_identifier=e7bade9ba96b402d8028def203e9e5f1a2a6bb6f86841713a749a4b9242e0051\n",
      "Starting extraction for link 46433: https://www.zoopla.co.uk/for-sale/details/64633435/?search_identifier=e7bade9ba96b402d8028def203e9e5f1a2a6bb6f86841713a749a4b9242e0051\n"
     ]
    },
    {
     "name": "stderr",
     "output_type": "stream",
     "text": [
      "could not detect version_main.therefore, we are assuming it is chrome 108 or higher\n"
     ]
    },
    {
     "name": "stdout",
     "output_type": "stream",
     "text": [
      "Saved to db successfully\n",
      "Done with link 46433: https://www.zoopla.co.uk/for-sale/details/64633435/?search_identifier=e7bade9ba96b402d8028def203e9e5f1a2a6bb6f86841713a749a4b9242e0051\n",
      "Starting extraction for link 46434: https://www.zoopla.co.uk/for-sale/details/64126432/?search_identifier=e7bade9ba96b402d8028def203e9e5f1a2a6bb6f86841713a749a4b9242e0051\n"
     ]
    },
    {
     "name": "stderr",
     "output_type": "stream",
     "text": [
      "could not detect version_main.therefore, we are assuming it is chrome 108 or higher\n"
     ]
    },
    {
     "name": "stdout",
     "output_type": "stream",
     "text": [
      "Saved to db successfully\n",
      "Done with link 46434: https://www.zoopla.co.uk/for-sale/details/64126432/?search_identifier=e7bade9ba96b402d8028def203e9e5f1a2a6bb6f86841713a749a4b9242e0051\n",
      "Starting extraction for link 46435: https://www.zoopla.co.uk/for-sale/details/64627749/?search_identifier=e7bade9ba96b402d8028def203e9e5f1a2a6bb6f86841713a749a4b9242e0051\n"
     ]
    },
    {
     "name": "stderr",
     "output_type": "stream",
     "text": [
      "could not detect version_main.therefore, we are assuming it is chrome 108 or higher\n"
     ]
    },
    {
     "name": "stdout",
     "output_type": "stream",
     "text": [
      "Saved to db successfully\n",
      "Done with link 46435: https://www.zoopla.co.uk/for-sale/details/64627749/?search_identifier=e7bade9ba96b402d8028def203e9e5f1a2a6bb6f86841713a749a4b9242e0051\n",
      "Starting extraction for link 46436: https://www.zoopla.co.uk/for-sale/details/64627386/?search_identifier=e7bade9ba96b402d8028def203e9e5f1a2a6bb6f86841713a749a4b9242e0051\n"
     ]
    },
    {
     "name": "stderr",
     "output_type": "stream",
     "text": [
      "could not detect version_main.therefore, we are assuming it is chrome 108 or higher\n"
     ]
    },
    {
     "name": "stdout",
     "output_type": "stream",
     "text": [
      "Saved to db successfully\n",
      "Done with link 46436: https://www.zoopla.co.uk/for-sale/details/64627386/?search_identifier=e7bade9ba96b402d8028def203e9e5f1a2a6bb6f86841713a749a4b9242e0051\n",
      "Starting extraction for link 46437: https://www.zoopla.co.uk/for-sale/details/64607899/?search_identifier=e7bade9ba96b402d8028def203e9e5f1a2a6bb6f86841713a749a4b9242e0051\n"
     ]
    },
    {
     "name": "stderr",
     "output_type": "stream",
     "text": [
      "could not detect version_main.therefore, we are assuming it is chrome 108 or higher\n"
     ]
    },
    {
     "name": "stdout",
     "output_type": "stream",
     "text": [
      "Saved to db successfully\n",
      "Done with link 46437: https://www.zoopla.co.uk/for-sale/details/64607899/?search_identifier=e7bade9ba96b402d8028def203e9e5f1a2a6bb6f86841713a749a4b9242e0051\n",
      "Starting extraction for link 46438: https://www.zoopla.co.uk/for-sale/details/64606690/?search_identifier=e7bade9ba96b402d8028def203e9e5f1a2a6bb6f86841713a749a4b9242e0051\n"
     ]
    },
    {
     "name": "stderr",
     "output_type": "stream",
     "text": [
      "could not detect version_main.therefore, we are assuming it is chrome 108 or higher\n"
     ]
    },
    {
     "name": "stdout",
     "output_type": "stream",
     "text": [
      "Saved to db successfully\n",
      "Done with link 46438: https://www.zoopla.co.uk/for-sale/details/64606690/?search_identifier=e7bade9ba96b402d8028def203e9e5f1a2a6bb6f86841713a749a4b9242e0051\n",
      "Starting extraction for link 46439: https://www.zoopla.co.uk/for-sale/details/64580729/?search_identifier=e7bade9ba96b402d8028def203e9e5f1a2a6bb6f86841713a749a4b9242e0051\n"
     ]
    },
    {
     "name": "stderr",
     "output_type": "stream",
     "text": [
      "could not detect version_main.therefore, we are assuming it is chrome 108 or higher\n"
     ]
    },
    {
     "name": "stdout",
     "output_type": "stream",
     "text": [
      "Saved to db successfully\n",
      "Done with link 46439: https://www.zoopla.co.uk/for-sale/details/64580729/?search_identifier=e7bade9ba96b402d8028def203e9e5f1a2a6bb6f86841713a749a4b9242e0051\n",
      "Starting extraction for link 46440: https://www.zoopla.co.uk/for-sale/details/64575563/?search_identifier=e7bade9ba96b402d8028def203e9e5f1a2a6bb6f86841713a749a4b9242e0051\n"
     ]
    },
    {
     "name": "stderr",
     "output_type": "stream",
     "text": [
      "could not detect version_main.therefore, we are assuming it is chrome 108 or higher\n"
     ]
    },
    {
     "name": "stdout",
     "output_type": "stream",
     "text": [
      "Saved to db successfully\n",
      "Done with link 46440: https://www.zoopla.co.uk/for-sale/details/64575563/?search_identifier=e7bade9ba96b402d8028def203e9e5f1a2a6bb6f86841713a749a4b9242e0051\n",
      "Starting extraction for link 46441: https://www.zoopla.co.uk/for-sale/details/64567269/?search_identifier=e7bade9ba96b402d8028def203e9e5f1a2a6bb6f86841713a749a4b9242e0051\n"
     ]
    },
    {
     "name": "stderr",
     "output_type": "stream",
     "text": [
      "could not detect version_main.therefore, we are assuming it is chrome 108 or higher\n"
     ]
    },
    {
     "name": "stdout",
     "output_type": "stream",
     "text": [
      "Saved to db successfully\n",
      "Done with link 46441: https://www.zoopla.co.uk/for-sale/details/64567269/?search_identifier=e7bade9ba96b402d8028def203e9e5f1a2a6bb6f86841713a749a4b9242e0051\n",
      "Starting extraction for link 46442: https://www.zoopla.co.uk/for-sale/details/64563485/?search_identifier=e7bade9ba96b402d8028def203e9e5f1a2a6bb6f86841713a749a4b9242e0051\n"
     ]
    },
    {
     "name": "stderr",
     "output_type": "stream",
     "text": [
      "could not detect version_main.therefore, we are assuming it is chrome 108 or higher\n"
     ]
    },
    {
     "name": "stdout",
     "output_type": "stream",
     "text": [
      "Saved to db successfully\n",
      "Done with link 46442: https://www.zoopla.co.uk/for-sale/details/64563485/?search_identifier=e7bade9ba96b402d8028def203e9e5f1a2a6bb6f86841713a749a4b9242e0051\n",
      "Starting extraction for link 46443: https://www.zoopla.co.uk/for-sale/details/64561567/?search_identifier=e7bade9ba96b402d8028def203e9e5f1a2a6bb6f86841713a749a4b9242e0051\n"
     ]
    },
    {
     "name": "stderr",
     "output_type": "stream",
     "text": [
      "could not detect version_main.therefore, we are assuming it is chrome 108 or higher\n"
     ]
    },
    {
     "name": "stdout",
     "output_type": "stream",
     "text": [
      "Saved to db successfully\n",
      "Done with link 46443: https://www.zoopla.co.uk/for-sale/details/64561567/?search_identifier=e7bade9ba96b402d8028def203e9e5f1a2a6bb6f86841713a749a4b9242e0051\n",
      "Starting extraction for link 46444: https://www.zoopla.co.uk/for-sale/details/64555926/?search_identifier=f55ce38f775b77777b61c6249810a4c44e136b649e36c8ac58412e295d0f44d5\n"
     ]
    },
    {
     "name": "stderr",
     "output_type": "stream",
     "text": [
      "could not detect version_main.therefore, we are assuming it is chrome 108 or higher\n"
     ]
    },
    {
     "name": "stdout",
     "output_type": "stream",
     "text": [
      "Saved to db successfully\n",
      "Done with link 46444: https://www.zoopla.co.uk/for-sale/details/64555926/?search_identifier=f55ce38f775b77777b61c6249810a4c44e136b649e36c8ac58412e295d0f44d5\n",
      "Starting extraction for link 46445: https://www.zoopla.co.uk/for-sale/details/64555902/?search_identifier=f55ce38f775b77777b61c6249810a4c44e136b649e36c8ac58412e295d0f44d5\n"
     ]
    },
    {
     "name": "stderr",
     "output_type": "stream",
     "text": [
      "could not detect version_main.therefore, we are assuming it is chrome 108 or higher\n"
     ]
    },
    {
     "name": "stdout",
     "output_type": "stream",
     "text": [
      "Saved to db successfully\n",
      "Done with link 46445: https://www.zoopla.co.uk/for-sale/details/64555902/?search_identifier=f55ce38f775b77777b61c6249810a4c44e136b649e36c8ac58412e295d0f44d5\n",
      "Starting extraction for link 46446: https://www.zoopla.co.uk/for-sale/details/64547574/?search_identifier=f55ce38f775b77777b61c6249810a4c44e136b649e36c8ac58412e295d0f44d5\n"
     ]
    },
    {
     "name": "stderr",
     "output_type": "stream",
     "text": [
      "could not detect version_main.therefore, we are assuming it is chrome 108 or higher\n"
     ]
    },
    {
     "name": "stdout",
     "output_type": "stream",
     "text": [
      "Saved to db successfully\n",
      "Done with link 46446: https://www.zoopla.co.uk/for-sale/details/64547574/?search_identifier=f55ce38f775b77777b61c6249810a4c44e136b649e36c8ac58412e295d0f44d5\n",
      "Starting extraction for link 46447: https://www.zoopla.co.uk/for-sale/details/64543375/?search_identifier=f55ce38f775b77777b61c6249810a4c44e136b649e36c8ac58412e295d0f44d5\n",
      "An error occurred for link in get_data_func: https://www.zoopla.co.uk/for-sale/details/64543375/?search_identifier=f55ce38f775b77777b61c6249810a4c44e136b649e36c8ac58412e295d0f44d5: Message: no such element: Unable to locate element: {\"method\":\"xpath\",\"selector\":\"//p[@data-testid=\"price\"]\"}\n",
      "  (Session info: chrome=115.0.5790.171); For documentation on this error, please visit: https://www.selenium.dev/documentation/webdriver/troubleshooting/errors#no-such-element-exception\n",
      "Stacktrace:\n",
      "Backtrace:\n",
      "\tGetHandleVerifier [0x0073A813+48355]\n",
      "\t(No symbol) [0x006CC4B1]\n",
      "\t(No symbol) [0x005D5358]\n",
      "\t(No symbol) [0x006009A5]\n",
      "\t(No symbol) [0x00600B3B]\n",
      "\t(No symbol) [0x0062E232]\n",
      "\t(No symbol) [0x0061A784]\n",
      "\t(No symbol) [0x0062C922]\n",
      "\t(No symbol) [0x0061A536]\n",
      "\t(No symbol) [0x005F82DC]\n",
      "\t(No symbol) [0x005F93DD]\n",
      "\tGetHandleVerifier [0x0099AABD+2539405]\n",
      "\tGetHandleVerifier [0x009DA78F+2800735]\n",
      "\tGetHandleVerifier [0x009D456C+2775612]\n",
      "\tGetHandleVerifier [0x007C51E0+616112]\n",
      "\t(No symbol) [0x006D5F8C]\n",
      "\t(No symbol) [0x006D2328]\n",
      "\t(No symbol) [0x006D240B]\n",
      "\t(No symbol) [0x006C4FF7]\n",
      "\tBaseThreadInitThunk [0x761E7D59+25]\n",
      "\tRtlInitializeExceptionChain [0x773DB79B+107]\n",
      "\tRtlClearBits [0x773DB71F+191]\n",
      "\n"
     ]
    },
    {
     "name": "stderr",
     "output_type": "stream",
     "text": [
      "could not detect version_main.therefore, we are assuming it is chrome 108 or higher\n"
     ]
    },
    {
     "name": "stdout",
     "output_type": "stream",
     "text": [
      "Saved to db successfully\n",
      "Done with link 46447: https://www.zoopla.co.uk/for-sale/details/64543375/?search_identifier=f55ce38f775b77777b61c6249810a4c44e136b649e36c8ac58412e295d0f44d5\n",
      "Starting extraction for link 46448: https://www.zoopla.co.uk/for-sale/details/64541553/?search_identifier=f55ce38f775b77777b61c6249810a4c44e136b649e36c8ac58412e295d0f44d5\n",
      "An error occurred for link in get_data_func: https://www.zoopla.co.uk/for-sale/details/64541553/?search_identifier=f55ce38f775b77777b61c6249810a4c44e136b649e36c8ac58412e295d0f44d5: Message: no such element: Unable to locate element: {\"method\":\"xpath\",\"selector\":\"//p[@data-testid=\"price\"]\"}\n",
      "  (Session info: chrome=115.0.5790.171); For documentation on this error, please visit: https://www.selenium.dev/documentation/webdriver/troubleshooting/errors#no-such-element-exception\n",
      "Stacktrace:\n",
      "Backtrace:\n",
      "\tGetHandleVerifier [0x0073A813+48355]\n",
      "\t(No symbol) [0x006CC4B1]\n",
      "\t(No symbol) [0x005D5358]\n",
      "\t(No symbol) [0x006009A5]\n",
      "\t(No symbol) [0x00600B3B]\n",
      "\t(No symbol) [0x0062E232]\n",
      "\t(No symbol) [0x0061A784]\n",
      "\t(No symbol) [0x0062C922]\n",
      "\t(No symbol) [0x0061A536]\n",
      "\t(No symbol) [0x005F82DC]\n",
      "\t(No symbol) [0x005F93DD]\n",
      "\tGetHandleVerifier [0x0099AABD+2539405]\n",
      "\tGetHandleVerifier [0x009DA78F+2800735]\n",
      "\tGetHandleVerifier [0x009D456C+2775612]\n",
      "\tGetHandleVerifier [0x007C51E0+616112]\n",
      "\t(No symbol) [0x006D5F8C]\n",
      "\t(No symbol) [0x006D2328]\n",
      "\t(No symbol) [0x006D240B]\n",
      "\t(No symbol) [0x006C4FF7]\n",
      "\tBaseThreadInitThunk [0x761E7D59+25]\n",
      "\tRtlInitializeExceptionChain [0x773DB79B+107]\n",
      "\tRtlClearBits [0x773DB71F+191]\n",
      "\n"
     ]
    },
    {
     "name": "stderr",
     "output_type": "stream",
     "text": [
      "could not detect version_main.therefore, we are assuming it is chrome 108 or higher\n"
     ]
    },
    {
     "name": "stdout",
     "output_type": "stream",
     "text": [
      "Saved to db successfully\n",
      "Done with link 46448: https://www.zoopla.co.uk/for-sale/details/64541553/?search_identifier=f55ce38f775b77777b61c6249810a4c44e136b649e36c8ac58412e295d0f44d5\n",
      "Starting extraction for link 46449: https://www.zoopla.co.uk/for-sale/details/64535818/?search_identifier=f55ce38f775b77777b61c6249810a4c44e136b649e36c8ac58412e295d0f44d5\n"
     ]
    },
    {
     "name": "stderr",
     "output_type": "stream",
     "text": [
      "could not detect version_main.therefore, we are assuming it is chrome 108 or higher\n"
     ]
    },
    {
     "name": "stdout",
     "output_type": "stream",
     "text": [
      "Saved to db successfully\n",
      "Done with link 46449: https://www.zoopla.co.uk/for-sale/details/64535818/?search_identifier=f55ce38f775b77777b61c6249810a4c44e136b649e36c8ac58412e295d0f44d5\n",
      "Starting extraction for link 46450: https://www.zoopla.co.uk/for-sale/details/64530661/?search_identifier=f55ce38f775b77777b61c6249810a4c44e136b649e36c8ac58412e295d0f44d5\n"
     ]
    },
    {
     "name": "stderr",
     "output_type": "stream",
     "text": [
      "could not detect version_main.therefore, we are assuming it is chrome 108 or higher\n"
     ]
    },
    {
     "name": "stdout",
     "output_type": "stream",
     "text": [
      "Saved to db successfully\n",
      "Done with link 46450: https://www.zoopla.co.uk/for-sale/details/64530661/?search_identifier=f55ce38f775b77777b61c6249810a4c44e136b649e36c8ac58412e295d0f44d5\n",
      "Starting extraction for link 46451: https://www.zoopla.co.uk/for-sale/details/64525054/?search_identifier=f55ce38f775b77777b61c6249810a4c44e136b649e36c8ac58412e295d0f44d5\n"
     ]
    },
    {
     "name": "stderr",
     "output_type": "stream",
     "text": [
      "could not detect version_main.therefore, we are assuming it is chrome 108 or higher\n"
     ]
    },
    {
     "name": "stdout",
     "output_type": "stream",
     "text": [
      "Saved to db successfully\n",
      "Done with link 46451: https://www.zoopla.co.uk/for-sale/details/64525054/?search_identifier=f55ce38f775b77777b61c6249810a4c44e136b649e36c8ac58412e295d0f44d5\n",
      "Starting extraction for link 46452: https://www.zoopla.co.uk/for-sale/details/64518303/?search_identifier=f55ce38f775b77777b61c6249810a4c44e136b649e36c8ac58412e295d0f44d5\n"
     ]
    },
    {
     "name": "stderr",
     "output_type": "stream",
     "text": [
      "could not detect version_main.therefore, we are assuming it is chrome 108 or higher\n"
     ]
    },
    {
     "name": "stdout",
     "output_type": "stream",
     "text": [
      "Saved to db successfully\n",
      "Done with link 46452: https://www.zoopla.co.uk/for-sale/details/64518303/?search_identifier=f55ce38f775b77777b61c6249810a4c44e136b649e36c8ac58412e295d0f44d5\n",
      "Starting extraction for link 46453: https://www.zoopla.co.uk/for-sale/details/64510421/?search_identifier=f55ce38f775b77777b61c6249810a4c44e136b649e36c8ac58412e295d0f44d5\n"
     ]
    },
    {
     "name": "stderr",
     "output_type": "stream",
     "text": [
      "could not detect version_main.therefore, we are assuming it is chrome 108 or higher\n"
     ]
    },
    {
     "name": "stdout",
     "output_type": "stream",
     "text": [
      "Saved to db successfully\n",
      "Done with link 46453: https://www.zoopla.co.uk/for-sale/details/64510421/?search_identifier=f55ce38f775b77777b61c6249810a4c44e136b649e36c8ac58412e295d0f44d5\n",
      "Starting extraction for link 46454: https://www.zoopla.co.uk/for-sale/details/64500848/?search_identifier=f55ce38f775b77777b61c6249810a4c44e136b649e36c8ac58412e295d0f44d5\n"
     ]
    },
    {
     "name": "stderr",
     "output_type": "stream",
     "text": [
      "could not detect version_main.therefore, we are assuming it is chrome 108 or higher\n"
     ]
    },
    {
     "name": "stdout",
     "output_type": "stream",
     "text": [
      "Saved to db successfully\n",
      "Done with link 46454: https://www.zoopla.co.uk/for-sale/details/64500848/?search_identifier=f55ce38f775b77777b61c6249810a4c44e136b649e36c8ac58412e295d0f44d5\n",
      "Starting extraction for link 46455: https://www.zoopla.co.uk/for-sale/details/64497244/?search_identifier=f55ce38f775b77777b61c6249810a4c44e136b649e36c8ac58412e295d0f44d5\n"
     ]
    },
    {
     "name": "stderr",
     "output_type": "stream",
     "text": [
      "could not detect version_main.therefore, we are assuming it is chrome 108 or higher\n"
     ]
    },
    {
     "name": "stdout",
     "output_type": "stream",
     "text": [
      "Saved to db successfully\n",
      "Done with link 46455: https://www.zoopla.co.uk/for-sale/details/64497244/?search_identifier=f55ce38f775b77777b61c6249810a4c44e136b649e36c8ac58412e295d0f44d5\n",
      "Starting extraction for link 46456: https://www.zoopla.co.uk/for-sale/details/64497174/?search_identifier=f55ce38f775b77777b61c6249810a4c44e136b649e36c8ac58412e295d0f44d5\n"
     ]
    },
    {
     "name": "stderr",
     "output_type": "stream",
     "text": [
      "could not detect version_main.therefore, we are assuming it is chrome 108 or higher\n"
     ]
    },
    {
     "name": "stdout",
     "output_type": "stream",
     "text": [
      "Saved to db successfully\n",
      "Done with link 46456: https://www.zoopla.co.uk/for-sale/details/64497174/?search_identifier=f55ce38f775b77777b61c6249810a4c44e136b649e36c8ac58412e295d0f44d5\n",
      "Starting extraction for link 46457: https://www.zoopla.co.uk/for-sale/details/64496691/?search_identifier=f55ce38f775b77777b61c6249810a4c44e136b649e36c8ac58412e295d0f44d5\n"
     ]
    },
    {
     "name": "stderr",
     "output_type": "stream",
     "text": [
      "could not detect version_main.therefore, we are assuming it is chrome 108 or higher\n"
     ]
    },
    {
     "name": "stdout",
     "output_type": "stream",
     "text": [
      "Saved to db successfully\n",
      "Done with link 46457: https://www.zoopla.co.uk/for-sale/details/64496691/?search_identifier=f55ce38f775b77777b61c6249810a4c44e136b649e36c8ac58412e295d0f44d5\n",
      "Starting extraction for link 46458: https://www.zoopla.co.uk/for-sale/details/64492242/?search_identifier=f55ce38f775b77777b61c6249810a4c44e136b649e36c8ac58412e295d0f44d5\n"
     ]
    },
    {
     "name": "stderr",
     "output_type": "stream",
     "text": [
      "could not detect version_main.therefore, we are assuming it is chrome 108 or higher\n"
     ]
    },
    {
     "name": "stdout",
     "output_type": "stream",
     "text": [
      "Saved to db successfully\n",
      "Done with link 46458: https://www.zoopla.co.uk/for-sale/details/64492242/?search_identifier=f55ce38f775b77777b61c6249810a4c44e136b649e36c8ac58412e295d0f44d5\n",
      "Starting extraction for link 46459: https://www.zoopla.co.uk/for-sale/details/64491787/?search_identifier=f55ce38f775b77777b61c6249810a4c44e136b649e36c8ac58412e295d0f44d5\n"
     ]
    },
    {
     "name": "stderr",
     "output_type": "stream",
     "text": [
      "could not detect version_main.therefore, we are assuming it is chrome 108 or higher\n"
     ]
    },
    {
     "name": "stdout",
     "output_type": "stream",
     "text": [
      "Saved to db successfully\n",
      "Done with link 46459: https://www.zoopla.co.uk/for-sale/details/64491787/?search_identifier=f55ce38f775b77777b61c6249810a4c44e136b649e36c8ac58412e295d0f44d5\n",
      "Starting extraction for link 46460: https://www.zoopla.co.uk/for-sale/details/64491644/?search_identifier=f55ce38f775b77777b61c6249810a4c44e136b649e36c8ac58412e295d0f44d5\n"
     ]
    },
    {
     "name": "stderr",
     "output_type": "stream",
     "text": [
      "could not detect version_main.therefore, we are assuming it is chrome 108 or higher\n"
     ]
    },
    {
     "name": "stdout",
     "output_type": "stream",
     "text": [
      "Saved to db successfully\n",
      "Done with link 46460: https://www.zoopla.co.uk/for-sale/details/64491644/?search_identifier=f55ce38f775b77777b61c6249810a4c44e136b649e36c8ac58412e295d0f44d5\n",
      "Starting extraction for link 46461: https://www.zoopla.co.uk/for-sale/details/64490515/?search_identifier=f55ce38f775b77777b61c6249810a4c44e136b649e36c8ac58412e295d0f44d5\n"
     ]
    },
    {
     "name": "stderr",
     "output_type": "stream",
     "text": [
      "could not detect version_main.therefore, we are assuming it is chrome 108 or higher\n"
     ]
    },
    {
     "name": "stdout",
     "output_type": "stream",
     "text": [
      "Saved to db successfully\n",
      "Done with link 46461: https://www.zoopla.co.uk/for-sale/details/64490515/?search_identifier=f55ce38f775b77777b61c6249810a4c44e136b649e36c8ac58412e295d0f44d5\n",
      "Starting extraction for link 46462: https://www.zoopla.co.uk/for-sale/details/64490517/?search_identifier=f55ce38f775b77777b61c6249810a4c44e136b649e36c8ac58412e295d0f44d5\n"
     ]
    },
    {
     "name": "stderr",
     "output_type": "stream",
     "text": [
      "could not detect version_main.therefore, we are assuming it is chrome 108 or higher\n"
     ]
    },
    {
     "name": "stdout",
     "output_type": "stream",
     "text": [
      "Saved to db successfully\n",
      "Done with link 46462: https://www.zoopla.co.uk/for-sale/details/64490517/?search_identifier=f55ce38f775b77777b61c6249810a4c44e136b649e36c8ac58412e295d0f44d5\n",
      "Starting extraction for link 46463: https://www.zoopla.co.uk/for-sale/details/55341676/?search_identifier=f55ce38f775b77777b61c6249810a4c44e136b649e36c8ac58412e295d0f44d5\n"
     ]
    },
    {
     "name": "stderr",
     "output_type": "stream",
     "text": [
      "could not detect version_main.therefore, we are assuming it is chrome 108 or higher\n"
     ]
    },
    {
     "name": "stdout",
     "output_type": "stream",
     "text": [
      "Saved to db successfully\n",
      "Done with link 46463: https://www.zoopla.co.uk/for-sale/details/55341676/?search_identifier=f55ce38f775b77777b61c6249810a4c44e136b649e36c8ac58412e295d0f44d5\n",
      "Starting extraction for link 46464: https://www.zoopla.co.uk/for-sale/details/64486411/?search_identifier=f55ce38f775b77777b61c6249810a4c44e136b649e36c8ac58412e295d0f44d5\n"
     ]
    },
    {
     "name": "stderr",
     "output_type": "stream",
     "text": [
      "could not detect version_main.therefore, we are assuming it is chrome 108 or higher\n"
     ]
    },
    {
     "name": "stdout",
     "output_type": "stream",
     "text": [
      "Saved to db successfully\n",
      "Done with link 46464: https://www.zoopla.co.uk/for-sale/details/64486411/?search_identifier=f55ce38f775b77777b61c6249810a4c44e136b649e36c8ac58412e295d0f44d5\n",
      "Starting extraction for link 46465: https://www.zoopla.co.uk/for-sale/details/64480699/?search_identifier=f55ce38f775b77777b61c6249810a4c44e136b649e36c8ac58412e295d0f44d5\n"
     ]
    },
    {
     "name": "stderr",
     "output_type": "stream",
     "text": [
      "could not detect version_main.therefore, we are assuming it is chrome 108 or higher\n"
     ]
    },
    {
     "name": "stdout",
     "output_type": "stream",
     "text": [
      "Saved to db successfully\n",
      "Done with link 46465: https://www.zoopla.co.uk/for-sale/details/64480699/?search_identifier=f55ce38f775b77777b61c6249810a4c44e136b649e36c8ac58412e295d0f44d5\n",
      "Starting extraction for link 46466: https://www.zoopla.co.uk/for-sale/details/64480666/?search_identifier=f55ce38f775b77777b61c6249810a4c44e136b649e36c8ac58412e295d0f44d5\n"
     ]
    },
    {
     "name": "stderr",
     "output_type": "stream",
     "text": [
      "could not detect version_main.therefore, we are assuming it is chrome 108 or higher\n"
     ]
    },
    {
     "name": "stdout",
     "output_type": "stream",
     "text": [
      "Saved to db successfully\n",
      "Done with link 46466: https://www.zoopla.co.uk/for-sale/details/64480666/?search_identifier=f55ce38f775b77777b61c6249810a4c44e136b649e36c8ac58412e295d0f44d5\n",
      "Starting extraction for link 46467: https://www.zoopla.co.uk/for-sale/details/64478389/?search_identifier=f55ce38f775b77777b61c6249810a4c44e136b649e36c8ac58412e295d0f44d5\n"
     ]
    },
    {
     "name": "stderr",
     "output_type": "stream",
     "text": [
      "could not detect version_main.therefore, we are assuming it is chrome 108 or higher\n"
     ]
    },
    {
     "name": "stdout",
     "output_type": "stream",
     "text": [
      "Saved to db successfully\n",
      "Done with link 46467: https://www.zoopla.co.uk/for-sale/details/64478389/?search_identifier=f55ce38f775b77777b61c6249810a4c44e136b649e36c8ac58412e295d0f44d5\n",
      "Starting extraction for link 46468: https://www.zoopla.co.uk/for-sale/details/64478263/?search_identifier=f55ce38f775b77777b61c6249810a4c44e136b649e36c8ac58412e295d0f44d5\n"
     ]
    },
    {
     "name": "stderr",
     "output_type": "stream",
     "text": [
      "could not detect version_main.therefore, we are assuming it is chrome 108 or higher\n"
     ]
    },
    {
     "name": "stdout",
     "output_type": "stream",
     "text": [
      "Saved to db successfully\n",
      "Done with link 46468: https://www.zoopla.co.uk/for-sale/details/64478263/?search_identifier=f55ce38f775b77777b61c6249810a4c44e136b649e36c8ac58412e295d0f44d5\n",
      "Starting extraction for link 46469: https://www.zoopla.co.uk/for-sale/details/64474376/?search_identifier=6ca6599f2a8f40cb83dcf2e5d1310b14c1f26d9e01e95f33e6ce13aae7f48b72\n"
     ]
    },
    {
     "name": "stderr",
     "output_type": "stream",
     "text": [
      "could not detect version_main.therefore, we are assuming it is chrome 108 or higher\n"
     ]
    },
    {
     "name": "stdout",
     "output_type": "stream",
     "text": [
      "Saved to db successfully\n",
      "Done with link 46469: https://www.zoopla.co.uk/for-sale/details/64474376/?search_identifier=6ca6599f2a8f40cb83dcf2e5d1310b14c1f26d9e01e95f33e6ce13aae7f48b72\n",
      "Starting extraction for link 46470: https://www.zoopla.co.uk/for-sale/details/64468458/?search_identifier=6ca6599f2a8f40cb83dcf2e5d1310b14c1f26d9e01e95f33e6ce13aae7f48b72\n"
     ]
    },
    {
     "name": "stderr",
     "output_type": "stream",
     "text": [
      "could not detect version_main.therefore, we are assuming it is chrome 108 or higher\n"
     ]
    },
    {
     "name": "stdout",
     "output_type": "stream",
     "text": [
      "Saved to db successfully\n",
      "Done with link 46470: https://www.zoopla.co.uk/for-sale/details/64468458/?search_identifier=6ca6599f2a8f40cb83dcf2e5d1310b14c1f26d9e01e95f33e6ce13aae7f48b72\n",
      "Starting extraction for link 46471: https://www.zoopla.co.uk/for-sale/details/64458418/?search_identifier=6ca6599f2a8f40cb83dcf2e5d1310b14c1f26d9e01e95f33e6ce13aae7f48b72\n"
     ]
    },
    {
     "name": "stderr",
     "output_type": "stream",
     "text": [
      "could not detect version_main.therefore, we are assuming it is chrome 108 or higher\n"
     ]
    },
    {
     "name": "stdout",
     "output_type": "stream",
     "text": [
      "Saved to db successfully\n",
      "Done with link 46471: https://www.zoopla.co.uk/for-sale/details/64458418/?search_identifier=6ca6599f2a8f40cb83dcf2e5d1310b14c1f26d9e01e95f33e6ce13aae7f48b72\n",
      "Starting extraction for link 46472: https://www.zoopla.co.uk/for-sale/details/64457853/?search_identifier=6ca6599f2a8f40cb83dcf2e5d1310b14c1f26d9e01e95f33e6ce13aae7f48b72\n"
     ]
    },
    {
     "name": "stderr",
     "output_type": "stream",
     "text": [
      "could not detect version_main.therefore, we are assuming it is chrome 108 or higher\n"
     ]
    },
    {
     "name": "stdout",
     "output_type": "stream",
     "text": [
      "Saved to db successfully\n",
      "Done with link 46472: https://www.zoopla.co.uk/for-sale/details/64457853/?search_identifier=6ca6599f2a8f40cb83dcf2e5d1310b14c1f26d9e01e95f33e6ce13aae7f48b72\n",
      "Starting extraction for link 46473: https://www.zoopla.co.uk/for-sale/details/64452650/?search_identifier=6ca6599f2a8f40cb83dcf2e5d1310b14c1f26d9e01e95f33e6ce13aae7f48b72\n",
      "An error occurred for link in get_data_func: https://www.zoopla.co.uk/for-sale/details/64452650/?search_identifier=6ca6599f2a8f40cb83dcf2e5d1310b14c1f26d9e01e95f33e6ce13aae7f48b72: Message: no such element: Unable to locate element: {\"method\":\"xpath\",\"selector\":\"//p[@data-testid=\"price\"]\"}\n",
      "  (Session info: chrome=115.0.5790.171); For documentation on this error, please visit: https://www.selenium.dev/documentation/webdriver/troubleshooting/errors#no-such-element-exception\n",
      "Stacktrace:\n",
      "Backtrace:\n",
      "\tGetHandleVerifier [0x0073A813+48355]\n",
      "\t(No symbol) [0x006CC4B1]\n",
      "\t(No symbol) [0x005D5358]\n",
      "\t(No symbol) [0x006009A5]\n",
      "\t(No symbol) [0x00600B3B]\n",
      "\t(No symbol) [0x0062E232]\n",
      "\t(No symbol) [0x0061A784]\n",
      "\t(No symbol) [0x0062C922]\n",
      "\t(No symbol) [0x0061A536]\n",
      "\t(No symbol) [0x005F82DC]\n",
      "\t(No symbol) [0x005F93DD]\n",
      "\tGetHandleVerifier [0x0099AABD+2539405]\n",
      "\tGetHandleVerifier [0x009DA78F+2800735]\n",
      "\tGetHandleVerifier [0x009D456C+2775612]\n",
      "\tGetHandleVerifier [0x007C51E0+616112]\n",
      "\t(No symbol) [0x006D5F8C]\n",
      "\t(No symbol) [0x006D2328]\n",
      "\t(No symbol) [0x006D240B]\n",
      "\t(No symbol) [0x006C4FF7]\n",
      "\tBaseThreadInitThunk [0x761E7D59+25]\n",
      "\tRtlInitializeExceptionChain [0x773DB79B+107]\n",
      "\tRtlClearBits [0x773DB71F+191]\n",
      "\n"
     ]
    },
    {
     "name": "stderr",
     "output_type": "stream",
     "text": [
      "could not detect version_main.therefore, we are assuming it is chrome 108 or higher\n"
     ]
    },
    {
     "name": "stdout",
     "output_type": "stream",
     "text": [
      "Saved to db successfully\n",
      "Done with link 46473: https://www.zoopla.co.uk/for-sale/details/64452650/?search_identifier=6ca6599f2a8f40cb83dcf2e5d1310b14c1f26d9e01e95f33e6ce13aae7f48b72\n",
      "Starting extraction for link 46474: https://www.zoopla.co.uk/for-sale/details/64447653/?search_identifier=6ca6599f2a8f40cb83dcf2e5d1310b14c1f26d9e01e95f33e6ce13aae7f48b72\n"
     ]
    },
    {
     "name": "stderr",
     "output_type": "stream",
     "text": [
      "could not detect version_main.therefore, we are assuming it is chrome 108 or higher\n"
     ]
    },
    {
     "name": "stdout",
     "output_type": "stream",
     "text": [
      "Saved to db successfully\n",
      "Done with link 46474: https://www.zoopla.co.uk/for-sale/details/64447653/?search_identifier=6ca6599f2a8f40cb83dcf2e5d1310b14c1f26d9e01e95f33e6ce13aae7f48b72\n",
      "Starting extraction for link 46475: https://www.zoopla.co.uk/for-sale/details/64445652/?search_identifier=6ca6599f2a8f40cb83dcf2e5d1310b14c1f26d9e01e95f33e6ce13aae7f48b72\n"
     ]
    },
    {
     "name": "stderr",
     "output_type": "stream",
     "text": [
      "could not detect version_main.therefore, we are assuming it is chrome 108 or higher\n"
     ]
    },
    {
     "name": "stdout",
     "output_type": "stream",
     "text": [
      "Saved to db successfully\n",
      "Done with link 46475: https://www.zoopla.co.uk/for-sale/details/64445652/?search_identifier=6ca6599f2a8f40cb83dcf2e5d1310b14c1f26d9e01e95f33e6ce13aae7f48b72\n",
      "Starting extraction for link 46476: https://www.zoopla.co.uk/for-sale/details/64443789/?search_identifier=6ca6599f2a8f40cb83dcf2e5d1310b14c1f26d9e01e95f33e6ce13aae7f48b72\n"
     ]
    },
    {
     "name": "stderr",
     "output_type": "stream",
     "text": [
      "could not detect version_main.therefore, we are assuming it is chrome 108 or higher\n"
     ]
    },
    {
     "name": "stdout",
     "output_type": "stream",
     "text": [
      "Saved to db successfully\n",
      "Done with link 46476: https://www.zoopla.co.uk/for-sale/details/64443789/?search_identifier=6ca6599f2a8f40cb83dcf2e5d1310b14c1f26d9e01e95f33e6ce13aae7f48b72\n",
      "Starting extraction for link 46477: https://www.zoopla.co.uk/for-sale/details/64432877/?search_identifier=6ca6599f2a8f40cb83dcf2e5d1310b14c1f26d9e01e95f33e6ce13aae7f48b72\n"
     ]
    },
    {
     "name": "stderr",
     "output_type": "stream",
     "text": [
      "could not detect version_main.therefore, we are assuming it is chrome 108 or higher\n"
     ]
    },
    {
     "name": "stdout",
     "output_type": "stream",
     "text": [
      "Saved to db successfully\n",
      "Done with link 46477: https://www.zoopla.co.uk/for-sale/details/64432877/?search_identifier=6ca6599f2a8f40cb83dcf2e5d1310b14c1f26d9e01e95f33e6ce13aae7f48b72\n",
      "Starting extraction for link 46478: https://www.zoopla.co.uk/for-sale/details/64425455/?search_identifier=6ca6599f2a8f40cb83dcf2e5d1310b14c1f26d9e01e95f33e6ce13aae7f48b72\n",
      "An error occurred for link in get_data_func: https://www.zoopla.co.uk/for-sale/details/64425455/?search_identifier=6ca6599f2a8f40cb83dcf2e5d1310b14c1f26d9e01e95f33e6ce13aae7f48b72: Message: no such element: Unable to locate element: {\"method\":\"xpath\",\"selector\":\"//p[@data-testid=\"price\"]\"}\n",
      "  (Session info: chrome=115.0.5790.171); For documentation on this error, please visit: https://www.selenium.dev/documentation/webdriver/troubleshooting/errors#no-such-element-exception\n",
      "Stacktrace:\n",
      "Backtrace:\n",
      "\tGetHandleVerifier [0x0073A813+48355]\n",
      "\t(No symbol) [0x006CC4B1]\n",
      "\t(No symbol) [0x005D5358]\n",
      "\t(No symbol) [0x006009A5]\n",
      "\t(No symbol) [0x00600B3B]\n",
      "\t(No symbol) [0x0062E232]\n",
      "\t(No symbol) [0x0061A784]\n",
      "\t(No symbol) [0x0062C922]\n",
      "\t(No symbol) [0x0061A536]\n",
      "\t(No symbol) [0x005F82DC]\n",
      "\t(No symbol) [0x005F93DD]\n",
      "\tGetHandleVerifier [0x0099AABD+2539405]\n",
      "\tGetHandleVerifier [0x009DA78F+2800735]\n",
      "\tGetHandleVerifier [0x009D456C+2775612]\n",
      "\tGetHandleVerifier [0x007C51E0+616112]\n",
      "\t(No symbol) [0x006D5F8C]\n",
      "\t(No symbol) [0x006D2328]\n",
      "\t(No symbol) [0x006D240B]\n",
      "\t(No symbol) [0x006C4FF7]\n",
      "\tBaseThreadInitThunk [0x761E7D59+25]\n",
      "\tRtlInitializeExceptionChain [0x773DB79B+107]\n",
      "\tRtlClearBits [0x773DB71F+191]\n",
      "\n"
     ]
    },
    {
     "name": "stderr",
     "output_type": "stream",
     "text": [
      "could not detect version_main.therefore, we are assuming it is chrome 108 or higher\n"
     ]
    },
    {
     "name": "stdout",
     "output_type": "stream",
     "text": [
      "Saved to db successfully\n",
      "Done with link 46478: https://www.zoopla.co.uk/for-sale/details/64425455/?search_identifier=6ca6599f2a8f40cb83dcf2e5d1310b14c1f26d9e01e95f33e6ce13aae7f48b72\n",
      "Starting extraction for link 46479: https://www.zoopla.co.uk/new-homes/details/52106418/?search_identifier=6ca6599f2a8f40cb83dcf2e5d1310b14c1f26d9e01e95f33e6ce13aae7f48b72\n"
     ]
    },
    {
     "name": "stderr",
     "output_type": "stream",
     "text": [
      "could not detect version_main.therefore, we are assuming it is chrome 108 or higher\n"
     ]
    },
    {
     "name": "stdout",
     "output_type": "stream",
     "text": [
      "Saved to db successfully\n",
      "Done with link 46479: https://www.zoopla.co.uk/new-homes/details/52106418/?search_identifier=6ca6599f2a8f40cb83dcf2e5d1310b14c1f26d9e01e95f33e6ce13aae7f48b72\n",
      "Starting extraction for link 46480: https://www.zoopla.co.uk/new-homes/details/52106415/?search_identifier=6ca6599f2a8f40cb83dcf2e5d1310b14c1f26d9e01e95f33e6ce13aae7f48b72\n"
     ]
    },
    {
     "name": "stderr",
     "output_type": "stream",
     "text": [
      "could not detect version_main.therefore, we are assuming it is chrome 108 or higher\n"
     ]
    },
    {
     "name": "stdout",
     "output_type": "stream",
     "text": [
      "Saved to db successfully\n",
      "Done with link 46480: https://www.zoopla.co.uk/new-homes/details/52106415/?search_identifier=6ca6599f2a8f40cb83dcf2e5d1310b14c1f26d9e01e95f33e6ce13aae7f48b72\n",
      "Starting extraction for link 46481: https://www.zoopla.co.uk/new-homes/details/52106420/?search_identifier=6ca6599f2a8f40cb83dcf2e5d1310b14c1f26d9e01e95f33e6ce13aae7f48b72\n"
     ]
    },
    {
     "name": "stderr",
     "output_type": "stream",
     "text": [
      "could not detect version_main.therefore, we are assuming it is chrome 108 or higher\n"
     ]
    },
    {
     "name": "stdout",
     "output_type": "stream",
     "text": [
      "Saved to db successfully\n",
      "Done with link 46481: https://www.zoopla.co.uk/new-homes/details/52106420/?search_identifier=6ca6599f2a8f40cb83dcf2e5d1310b14c1f26d9e01e95f33e6ce13aae7f48b72\n",
      "Starting extraction for link 46482: https://www.zoopla.co.uk/new-homes/details/52106430/?search_identifier=6ca6599f2a8f40cb83dcf2e5d1310b14c1f26d9e01e95f33e6ce13aae7f48b72\n"
     ]
    },
    {
     "name": "stderr",
     "output_type": "stream",
     "text": [
      "could not detect version_main.therefore, we are assuming it is chrome 108 or higher\n"
     ]
    },
    {
     "name": "stdout",
     "output_type": "stream",
     "text": [
      "Saved to db successfully\n",
      "Done with link 46482: https://www.zoopla.co.uk/new-homes/details/52106430/?search_identifier=6ca6599f2a8f40cb83dcf2e5d1310b14c1f26d9e01e95f33e6ce13aae7f48b72\n",
      "Starting extraction for link 46483: https://www.zoopla.co.uk/for-sale/details/64416272/?search_identifier=6ca6599f2a8f40cb83dcf2e5d1310b14c1f26d9e01e95f33e6ce13aae7f48b72\n"
     ]
    },
    {
     "name": "stderr",
     "output_type": "stream",
     "text": [
      "could not detect version_main.therefore, we are assuming it is chrome 108 or higher\n"
     ]
    },
    {
     "name": "stdout",
     "output_type": "stream",
     "text": [
      "Saved to db successfully\n",
      "Done with link 46483: https://www.zoopla.co.uk/for-sale/details/64416272/?search_identifier=6ca6599f2a8f40cb83dcf2e5d1310b14c1f26d9e01e95f33e6ce13aae7f48b72\n",
      "Starting extraction for link 46484: https://www.zoopla.co.uk/for-sale/details/64404032/?search_identifier=6ca6599f2a8f40cb83dcf2e5d1310b14c1f26d9e01e95f33e6ce13aae7f48b72\n",
      "An error occurred for link in get_data_func: https://www.zoopla.co.uk/for-sale/details/64404032/?search_identifier=6ca6599f2a8f40cb83dcf2e5d1310b14c1f26d9e01e95f33e6ce13aae7f48b72: Message: no such element: Unable to locate element: {\"method\":\"xpath\",\"selector\":\"//p[@data-testid=\"price\"]\"}\n",
      "  (Session info: chrome=115.0.5790.171); For documentation on this error, please visit: https://www.selenium.dev/documentation/webdriver/troubleshooting/errors#no-such-element-exception\n",
      "Stacktrace:\n",
      "Backtrace:\n",
      "\tGetHandleVerifier [0x0073A813+48355]\n",
      "\t(No symbol) [0x006CC4B1]\n",
      "\t(No symbol) [0x005D5358]\n",
      "\t(No symbol) [0x006009A5]\n",
      "\t(No symbol) [0x00600B3B]\n",
      "\t(No symbol) [0x0062E232]\n",
      "\t(No symbol) [0x0061A784]\n",
      "\t(No symbol) [0x0062C922]\n",
      "\t(No symbol) [0x0061A536]\n",
      "\t(No symbol) [0x005F82DC]\n",
      "\t(No symbol) [0x005F93DD]\n",
      "\tGetHandleVerifier [0x0099AABD+2539405]\n",
      "\tGetHandleVerifier [0x009DA78F+2800735]\n",
      "\tGetHandleVerifier [0x009D456C+2775612]\n",
      "\tGetHandleVerifier [0x007C51E0+616112]\n",
      "\t(No symbol) [0x006D5F8C]\n",
      "\t(No symbol) [0x006D2328]\n",
      "\t(No symbol) [0x006D240B]\n",
      "\t(No symbol) [0x006C4FF7]\n",
      "\tBaseThreadInitThunk [0x761E7D59+25]\n",
      "\tRtlInitializeExceptionChain [0x773DB79B+107]\n",
      "\tRtlClearBits [0x773DB71F+191]\n",
      "\n"
     ]
    },
    {
     "name": "stderr",
     "output_type": "stream",
     "text": [
      "could not detect version_main.therefore, we are assuming it is chrome 108 or higher\n"
     ]
    },
    {
     "name": "stdout",
     "output_type": "stream",
     "text": [
      "Saved to db successfully\n",
      "Done with link 46484: https://www.zoopla.co.uk/for-sale/details/64404032/?search_identifier=6ca6599f2a8f40cb83dcf2e5d1310b14c1f26d9e01e95f33e6ce13aae7f48b72\n",
      "Starting extraction for link 46485: https://www.zoopla.co.uk/for-sale/details/64399994/?search_identifier=6ca6599f2a8f40cb83dcf2e5d1310b14c1f26d9e01e95f33e6ce13aae7f48b72\n"
     ]
    },
    {
     "name": "stderr",
     "output_type": "stream",
     "text": [
      "could not detect version_main.therefore, we are assuming it is chrome 108 or higher\n"
     ]
    },
    {
     "name": "stdout",
     "output_type": "stream",
     "text": [
      "Saved to db successfully\n",
      "Done with link 46485: https://www.zoopla.co.uk/for-sale/details/64399994/?search_identifier=6ca6599f2a8f40cb83dcf2e5d1310b14c1f26d9e01e95f33e6ce13aae7f48b72\n",
      "Starting extraction for link 46486: https://www.zoopla.co.uk/for-sale/details/64399654/?search_identifier=6ca6599f2a8f40cb83dcf2e5d1310b14c1f26d9e01e95f33e6ce13aae7f48b72\n"
     ]
    },
    {
     "name": "stderr",
     "output_type": "stream",
     "text": [
      "could not detect version_main.therefore, we are assuming it is chrome 108 or higher\n"
     ]
    },
    {
     "name": "stdout",
     "output_type": "stream",
     "text": [
      "Saved to db successfully\n",
      "Done with link 46486: https://www.zoopla.co.uk/for-sale/details/64399654/?search_identifier=6ca6599f2a8f40cb83dcf2e5d1310b14c1f26d9e01e95f33e6ce13aae7f48b72\n",
      "Starting extraction for link 46487: https://www.zoopla.co.uk/for-sale/details/64373016/?search_identifier=6ca6599f2a8f40cb83dcf2e5d1310b14c1f26d9e01e95f33e6ce13aae7f48b72\n"
     ]
    },
    {
     "name": "stderr",
     "output_type": "stream",
     "text": [
      "could not detect version_main.therefore, we are assuming it is chrome 108 or higher\n"
     ]
    },
    {
     "name": "stdout",
     "output_type": "stream",
     "text": [
      "Saved to db successfully\n",
      "Done with link 46487: https://www.zoopla.co.uk/for-sale/details/64373016/?search_identifier=6ca6599f2a8f40cb83dcf2e5d1310b14c1f26d9e01e95f33e6ce13aae7f48b72\n",
      "Starting extraction for link 46488: https://www.zoopla.co.uk/for-sale/details/64362495/?search_identifier=6ca6599f2a8f40cb83dcf2e5d1310b14c1f26d9e01e95f33e6ce13aae7f48b72\n",
      "An error occurred for link in get_data_func: https://www.zoopla.co.uk/for-sale/details/64362495/?search_identifier=6ca6599f2a8f40cb83dcf2e5d1310b14c1f26d9e01e95f33e6ce13aae7f48b72: Message: no such element: Unable to locate element: {\"method\":\"xpath\",\"selector\":\"//p[@data-testid=\"price\"]\"}\n",
      "  (Session info: chrome=115.0.5790.171); For documentation on this error, please visit: https://www.selenium.dev/documentation/webdriver/troubleshooting/errors#no-such-element-exception\n",
      "Stacktrace:\n",
      "Backtrace:\n",
      "\tGetHandleVerifier [0x0073A813+48355]\n",
      "\t(No symbol) [0x006CC4B1]\n",
      "\t(No symbol) [0x005D5358]\n",
      "\t(No symbol) [0x006009A5]\n",
      "\t(No symbol) [0x00600B3B]\n",
      "\t(No symbol) [0x0062E232]\n",
      "\t(No symbol) [0x0061A784]\n",
      "\t(No symbol) [0x0062C922]\n",
      "\t(No symbol) [0x0061A536]\n",
      "\t(No symbol) [0x005F82DC]\n",
      "\t(No symbol) [0x005F93DD]\n",
      "\tGetHandleVerifier [0x0099AABD+2539405]\n",
      "\tGetHandleVerifier [0x009DA78F+2800735]\n",
      "\tGetHandleVerifier [0x009D456C+2775612]\n",
      "\tGetHandleVerifier [0x007C51E0+616112]\n",
      "\t(No symbol) [0x006D5F8C]\n",
      "\t(No symbol) [0x006D2328]\n",
      "\t(No symbol) [0x006D240B]\n",
      "\t(No symbol) [0x006C4FF7]\n",
      "\tBaseThreadInitThunk [0x761E7D59+25]\n",
      "\tRtlInitializeExceptionChain [0x773DB79B+107]\n",
      "\tRtlClearBits [0x773DB71F+191]\n",
      "\n"
     ]
    },
    {
     "name": "stderr",
     "output_type": "stream",
     "text": [
      "could not detect version_main.therefore, we are assuming it is chrome 108 or higher\n"
     ]
    },
    {
     "name": "stdout",
     "output_type": "stream",
     "text": [
      "Saved to db successfully\n",
      "Done with link 46488: https://www.zoopla.co.uk/for-sale/details/64362495/?search_identifier=6ca6599f2a8f40cb83dcf2e5d1310b14c1f26d9e01e95f33e6ce13aae7f48b72\n",
      "Starting extraction for link 46489: https://www.zoopla.co.uk/for-sale/details/64360203/?search_identifier=6ca6599f2a8f40cb83dcf2e5d1310b14c1f26d9e01e95f33e6ce13aae7f48b72\n"
     ]
    },
    {
     "name": "stderr",
     "output_type": "stream",
     "text": [
      "could not detect version_main.therefore, we are assuming it is chrome 108 or higher\n"
     ]
    },
    {
     "name": "stdout",
     "output_type": "stream",
     "text": [
      "Saved to db successfully\n",
      "Done with link 46489: https://www.zoopla.co.uk/for-sale/details/64360203/?search_identifier=6ca6599f2a8f40cb83dcf2e5d1310b14c1f26d9e01e95f33e6ce13aae7f48b72\n",
      "Starting extraction for link 46490: https://www.zoopla.co.uk/for-sale/details/60758814/?search_identifier=6ca6599f2a8f40cb83dcf2e5d1310b14c1f26d9e01e95f33e6ce13aae7f48b72\n"
     ]
    },
    {
     "name": "stderr",
     "output_type": "stream",
     "text": [
      "could not detect version_main.therefore, we are assuming it is chrome 108 or higher\n"
     ]
    },
    {
     "name": "stdout",
     "output_type": "stream",
     "text": [
      "Saved to db successfully\n",
      "Done with link 46490: https://www.zoopla.co.uk/for-sale/details/60758814/?search_identifier=6ca6599f2a8f40cb83dcf2e5d1310b14c1f26d9e01e95f33e6ce13aae7f48b72\n",
      "Starting extraction for link 46491: https://www.zoopla.co.uk/for-sale/details/64350614/?search_identifier=6ca6599f2a8f40cb83dcf2e5d1310b14c1f26d9e01e95f33e6ce13aae7f48b72\n"
     ]
    },
    {
     "name": "stderr",
     "output_type": "stream",
     "text": [
      "could not detect version_main.therefore, we are assuming it is chrome 108 or higher\n"
     ]
    },
    {
     "name": "stdout",
     "output_type": "stream",
     "text": [
      "Saved to db successfully\n",
      "Done with link 46491: https://www.zoopla.co.uk/for-sale/details/64350614/?search_identifier=6ca6599f2a8f40cb83dcf2e5d1310b14c1f26d9e01e95f33e6ce13aae7f48b72\n",
      "Starting extraction for link 46492: https://www.zoopla.co.uk/for-sale/details/64350397/?search_identifier=6ca6599f2a8f40cb83dcf2e5d1310b14c1f26d9e01e95f33e6ce13aae7f48b72\n"
     ]
    },
    {
     "name": "stderr",
     "output_type": "stream",
     "text": [
      "could not detect version_main.therefore, we are assuming it is chrome 108 or higher\n"
     ]
    },
    {
     "name": "stdout",
     "output_type": "stream",
     "text": [
      "Saved to db successfully\n",
      "Done with link 46492: https://www.zoopla.co.uk/for-sale/details/64350397/?search_identifier=6ca6599f2a8f40cb83dcf2e5d1310b14c1f26d9e01e95f33e6ce13aae7f48b72\n",
      "Starting extraction for link 46493: https://www.zoopla.co.uk/for-sale/details/64343764/?search_identifier=6ca6599f2a8f40cb83dcf2e5d1310b14c1f26d9e01e95f33e6ce13aae7f48b72\n"
     ]
    },
    {
     "name": "stderr",
     "output_type": "stream",
     "text": [
      "could not detect version_main.therefore, we are assuming it is chrome 108 or higher\n"
     ]
    },
    {
     "name": "stdout",
     "output_type": "stream",
     "text": [
      "Saved to db successfully\n",
      "Done with link 46493: https://www.zoopla.co.uk/for-sale/details/64343764/?search_identifier=6ca6599f2a8f40cb83dcf2e5d1310b14c1f26d9e01e95f33e6ce13aae7f48b72\n",
      "Starting extraction for link 46494: https://www.zoopla.co.uk/for-sale/details/64339805/?search_identifier=c7f701058d7987e40fdeaf05e860786afb000acb353f50f79c52cb7522fd97bf\n",
      "An error occurred for link in get_data_func: https://www.zoopla.co.uk/for-sale/details/64339805/?search_identifier=c7f701058d7987e40fdeaf05e860786afb000acb353f50f79c52cb7522fd97bf: Message: no such element: Unable to locate element: {\"method\":\"xpath\",\"selector\":\"//p[@data-testid=\"price\"]\"}\n",
      "  (Session info: chrome=115.0.5790.171); For documentation on this error, please visit: https://www.selenium.dev/documentation/webdriver/troubleshooting/errors#no-such-element-exception\n",
      "Stacktrace:\n",
      "Backtrace:\n",
      "\tGetHandleVerifier [0x0073A813+48355]\n",
      "\t(No symbol) [0x006CC4B1]\n",
      "\t(No symbol) [0x005D5358]\n",
      "\t(No symbol) [0x006009A5]\n",
      "\t(No symbol) [0x00600B3B]\n",
      "\t(No symbol) [0x0062E232]\n",
      "\t(No symbol) [0x0061A784]\n",
      "\t(No symbol) [0x0062C922]\n",
      "\t(No symbol) [0x0061A536]\n",
      "\t(No symbol) [0x005F82DC]\n",
      "\t(No symbol) [0x005F93DD]\n",
      "\tGetHandleVerifier [0x0099AABD+2539405]\n",
      "\tGetHandleVerifier [0x009DA78F+2800735]\n",
      "\tGetHandleVerifier [0x009D456C+2775612]\n",
      "\tGetHandleVerifier [0x007C51E0+616112]\n",
      "\t(No symbol) [0x006D5F8C]\n",
      "\t(No symbol) [0x006D2328]\n",
      "\t(No symbol) [0x006D240B]\n",
      "\t(No symbol) [0x006C4FF7]\n",
      "\tBaseThreadInitThunk [0x761E7D59+25]\n",
      "\tRtlInitializeExceptionChain [0x773DB79B+107]\n",
      "\tRtlClearBits [0x773DB71F+191]\n",
      "\n"
     ]
    },
    {
     "name": "stderr",
     "output_type": "stream",
     "text": [
      "could not detect version_main.therefore, we are assuming it is chrome 108 or higher\n"
     ]
    },
    {
     "name": "stdout",
     "output_type": "stream",
     "text": [
      "Saved to db successfully\n",
      "Done with link 46494: https://www.zoopla.co.uk/for-sale/details/64339805/?search_identifier=c7f701058d7987e40fdeaf05e860786afb000acb353f50f79c52cb7522fd97bf\n",
      "Starting extraction for link 46495: https://www.zoopla.co.uk/for-sale/details/64321684/?search_identifier=c7f701058d7987e40fdeaf05e860786afb000acb353f50f79c52cb7522fd97bf\n"
     ]
    },
    {
     "name": "stderr",
     "output_type": "stream",
     "text": [
      "could not detect version_main.therefore, we are assuming it is chrome 108 or higher\n"
     ]
    },
    {
     "name": "stdout",
     "output_type": "stream",
     "text": [
      "Saved to db successfully\n",
      "Done with link 46495: https://www.zoopla.co.uk/for-sale/details/64321684/?search_identifier=c7f701058d7987e40fdeaf05e860786afb000acb353f50f79c52cb7522fd97bf\n",
      "Starting extraction for link 46496: https://www.zoopla.co.uk/for-sale/details/64320111/?search_identifier=c7f701058d7987e40fdeaf05e860786afb000acb353f50f79c52cb7522fd97bf\n"
     ]
    },
    {
     "name": "stderr",
     "output_type": "stream",
     "text": [
      "could not detect version_main.therefore, we are assuming it is chrome 108 or higher\n"
     ]
    },
    {
     "name": "stdout",
     "output_type": "stream",
     "text": [
      "Saved to db successfully\n",
      "Done with link 46496: https://www.zoopla.co.uk/for-sale/details/64320111/?search_identifier=c7f701058d7987e40fdeaf05e860786afb000acb353f50f79c52cb7522fd97bf\n",
      "Starting extraction for link 46497: https://www.zoopla.co.uk/for-sale/details/64315930/?search_identifier=c7f701058d7987e40fdeaf05e860786afb000acb353f50f79c52cb7522fd97bf\n"
     ]
    },
    {
     "name": "stderr",
     "output_type": "stream",
     "text": [
      "could not detect version_main.therefore, we are assuming it is chrome 108 or higher\n"
     ]
    },
    {
     "name": "stdout",
     "output_type": "stream",
     "text": [
      "Saved to db successfully\n",
      "Done with link 46497: https://www.zoopla.co.uk/for-sale/details/64315930/?search_identifier=c7f701058d7987e40fdeaf05e860786afb000acb353f50f79c52cb7522fd97bf\n",
      "Starting extraction for link 46498: https://www.zoopla.co.uk/for-sale/details/64305057/?search_identifier=c7f701058d7987e40fdeaf05e860786afb000acb353f50f79c52cb7522fd97bf\n"
     ]
    },
    {
     "name": "stderr",
     "output_type": "stream",
     "text": [
      "could not detect version_main.therefore, we are assuming it is chrome 108 or higher\n"
     ]
    },
    {
     "name": "stdout",
     "output_type": "stream",
     "text": [
      "Saved to db successfully\n",
      "Done with link 46498: https://www.zoopla.co.uk/for-sale/details/64305057/?search_identifier=c7f701058d7987e40fdeaf05e860786afb000acb353f50f79c52cb7522fd97bf\n",
      "Starting extraction for link 46499: https://www.zoopla.co.uk/for-sale/details/64298504/?search_identifier=c7f701058d7987e40fdeaf05e860786afb000acb353f50f79c52cb7522fd97bf\n"
     ]
    },
    {
     "name": "stderr",
     "output_type": "stream",
     "text": [
      "could not detect version_main.therefore, we are assuming it is chrome 108 or higher\n"
     ]
    },
    {
     "name": "stdout",
     "output_type": "stream",
     "text": [
      "Saved to db successfully\n",
      "Done with link 46499: https://www.zoopla.co.uk/for-sale/details/64298504/?search_identifier=c7f701058d7987e40fdeaf05e860786afb000acb353f50f79c52cb7522fd97bf\n",
      "Starting extraction for link 46500: https://www.zoopla.co.uk/for-sale/details/64297687/?search_identifier=c7f701058d7987e40fdeaf05e860786afb000acb353f50f79c52cb7522fd97bf\n"
     ]
    },
    {
     "name": "stderr",
     "output_type": "stream",
     "text": [
      "could not detect version_main.therefore, we are assuming it is chrome 108 or higher\n"
     ]
    },
    {
     "name": "stdout",
     "output_type": "stream",
     "text": [
      "Saved to db successfully\n",
      "Done with link 46500: https://www.zoopla.co.uk/for-sale/details/64297687/?search_identifier=c7f701058d7987e40fdeaf05e860786afb000acb353f50f79c52cb7522fd97bf\n",
      "Starting extraction for link 46501: https://www.zoopla.co.uk/for-sale/details/64288174/?search_identifier=c7f701058d7987e40fdeaf05e860786afb000acb353f50f79c52cb7522fd97bf\n"
     ]
    },
    {
     "name": "stderr",
     "output_type": "stream",
     "text": [
      "could not detect version_main.therefore, we are assuming it is chrome 108 or higher\n"
     ]
    },
    {
     "name": "stdout",
     "output_type": "stream",
     "text": [
      "Saved to db successfully\n",
      "Done with link 46501: https://www.zoopla.co.uk/for-sale/details/64288174/?search_identifier=c7f701058d7987e40fdeaf05e860786afb000acb353f50f79c52cb7522fd97bf\n",
      "Starting extraction for link 46502: https://www.zoopla.co.uk/for-sale/details/64271983/?search_identifier=c7f701058d7987e40fdeaf05e860786afb000acb353f50f79c52cb7522fd97bf\n",
      "An error occurred for link in get_data_func: https://www.zoopla.co.uk/for-sale/details/64271983/?search_identifier=c7f701058d7987e40fdeaf05e860786afb000acb353f50f79c52cb7522fd97bf: Message: no such element: Unable to locate element: {\"method\":\"xpath\",\"selector\":\"//p[@data-testid=\"price\"]\"}\n",
      "  (Session info: chrome=115.0.5790.171); For documentation on this error, please visit: https://www.selenium.dev/documentation/webdriver/troubleshooting/errors#no-such-element-exception\n",
      "Stacktrace:\n",
      "Backtrace:\n",
      "\tGetHandleVerifier [0x0073A813+48355]\n",
      "\t(No symbol) [0x006CC4B1]\n",
      "\t(No symbol) [0x005D5358]\n",
      "\t(No symbol) [0x006009A5]\n",
      "\t(No symbol) [0x00600B3B]\n",
      "\t(No symbol) [0x0062E232]\n",
      "\t(No symbol) [0x0061A784]\n",
      "\t(No symbol) [0x0062C922]\n",
      "\t(No symbol) [0x0061A536]\n",
      "\t(No symbol) [0x005F82DC]\n",
      "\t(No symbol) [0x005F93DD]\n",
      "\tGetHandleVerifier [0x0099AABD+2539405]\n",
      "\tGetHandleVerifier [0x009DA78F+2800735]\n",
      "\tGetHandleVerifier [0x009D456C+2775612]\n",
      "\tGetHandleVerifier [0x007C51E0+616112]\n",
      "\t(No symbol) [0x006D5F8C]\n",
      "\t(No symbol) [0x006D2328]\n",
      "\t(No symbol) [0x006D240B]\n",
      "\t(No symbol) [0x006C4FF7]\n",
      "\tBaseThreadInitThunk [0x761E7D59+25]\n",
      "\tRtlInitializeExceptionChain [0x773DB79B+107]\n",
      "\tRtlClearBits [0x773DB71F+191]\n",
      "\n"
     ]
    },
    {
     "name": "stderr",
     "output_type": "stream",
     "text": [
      "could not detect version_main.therefore, we are assuming it is chrome 108 or higher\n"
     ]
    },
    {
     "name": "stdout",
     "output_type": "stream",
     "text": [
      "Saved to db successfully\n",
      "Done with link 46502: https://www.zoopla.co.uk/for-sale/details/64271983/?search_identifier=c7f701058d7987e40fdeaf05e860786afb000acb353f50f79c52cb7522fd97bf\n",
      "Starting extraction for link 46503: https://www.zoopla.co.uk/for-sale/details/64261597/?search_identifier=c7f701058d7987e40fdeaf05e860786afb000acb353f50f79c52cb7522fd97bf\n",
      "An error occurred for link in get_data_func: https://www.zoopla.co.uk/for-sale/details/64261597/?search_identifier=c7f701058d7987e40fdeaf05e860786afb000acb353f50f79c52cb7522fd97bf: Message: no such element: Unable to locate element: {\"method\":\"xpath\",\"selector\":\"//p[@data-testid=\"price\"]\"}\n",
      "  (Session info: chrome=115.0.5790.171); For documentation on this error, please visit: https://www.selenium.dev/documentation/webdriver/troubleshooting/errors#no-such-element-exception\n",
      "Stacktrace:\n",
      "Backtrace:\n",
      "\tGetHandleVerifier [0x0073A813+48355]\n",
      "\t(No symbol) [0x006CC4B1]\n",
      "\t(No symbol) [0x005D5358]\n",
      "\t(No symbol) [0x006009A5]\n",
      "\t(No symbol) [0x00600B3B]\n",
      "\t(No symbol) [0x0062E232]\n",
      "\t(No symbol) [0x0061A784]\n",
      "\t(No symbol) [0x0062C922]\n",
      "\t(No symbol) [0x0061A536]\n",
      "\t(No symbol) [0x005F82DC]\n",
      "\t(No symbol) [0x005F93DD]\n",
      "\tGetHandleVerifier [0x0099AABD+2539405]\n",
      "\tGetHandleVerifier [0x009DA78F+2800735]\n",
      "\tGetHandleVerifier [0x009D456C+2775612]\n",
      "\tGetHandleVerifier [0x007C51E0+616112]\n",
      "\t(No symbol) [0x006D5F8C]\n",
      "\t(No symbol) [0x006D2328]\n",
      "\t(No symbol) [0x006D240B]\n",
      "\t(No symbol) [0x006C4FF7]\n",
      "\tBaseThreadInitThunk [0x761E7D59+25]\n",
      "\tRtlInitializeExceptionChain [0x773DB79B+107]\n",
      "\tRtlClearBits [0x773DB71F+191]\n",
      "\n"
     ]
    },
    {
     "name": "stderr",
     "output_type": "stream",
     "text": [
      "could not detect version_main.therefore, we are assuming it is chrome 108 or higher\n"
     ]
    },
    {
     "name": "stdout",
     "output_type": "stream",
     "text": [
      "Saved to db successfully\n",
      "Done with link 46503: https://www.zoopla.co.uk/for-sale/details/64261597/?search_identifier=c7f701058d7987e40fdeaf05e860786afb000acb353f50f79c52cb7522fd97bf\n",
      "Starting extraction for link 46504: https://www.zoopla.co.uk/for-sale/details/64252573/?search_identifier=c7f701058d7987e40fdeaf05e860786afb000acb353f50f79c52cb7522fd97bf\n"
     ]
    },
    {
     "name": "stderr",
     "output_type": "stream",
     "text": [
      "could not detect version_main.therefore, we are assuming it is chrome 108 or higher\n"
     ]
    },
    {
     "name": "stdout",
     "output_type": "stream",
     "text": [
      "Saved to db successfully\n",
      "Done with link 46504: https://www.zoopla.co.uk/for-sale/details/64252573/?search_identifier=c7f701058d7987e40fdeaf05e860786afb000acb353f50f79c52cb7522fd97bf\n",
      "Starting extraction for link 46505: https://www.zoopla.co.uk/for-sale/details/64251363/?search_identifier=c7f701058d7987e40fdeaf05e860786afb000acb353f50f79c52cb7522fd97bf\n"
     ]
    },
    {
     "name": "stderr",
     "output_type": "stream",
     "text": [
      "could not detect version_main.therefore, we are assuming it is chrome 108 or higher\n"
     ]
    },
    {
     "name": "stdout",
     "output_type": "stream",
     "text": [
      "Saved to db successfully\n",
      "Done with link 46505: https://www.zoopla.co.uk/for-sale/details/64251363/?search_identifier=c7f701058d7987e40fdeaf05e860786afb000acb353f50f79c52cb7522fd97bf\n",
      "Starting extraction for link 46506: https://www.zoopla.co.uk/for-sale/details/64245270/?search_identifier=c7f701058d7987e40fdeaf05e860786afb000acb353f50f79c52cb7522fd97bf\n"
     ]
    },
    {
     "name": "stderr",
     "output_type": "stream",
     "text": [
      "could not detect version_main.therefore, we are assuming it is chrome 108 or higher\n"
     ]
    },
    {
     "name": "stdout",
     "output_type": "stream",
     "text": [
      "Saved to db successfully\n",
      "Done with link 46506: https://www.zoopla.co.uk/for-sale/details/64245270/?search_identifier=c7f701058d7987e40fdeaf05e860786afb000acb353f50f79c52cb7522fd97bf\n",
      "Starting extraction for link 46507: https://www.zoopla.co.uk/for-sale/details/64233039/?search_identifier=c7f701058d7987e40fdeaf05e860786afb000acb353f50f79c52cb7522fd97bf\n"
     ]
    },
    {
     "name": "stderr",
     "output_type": "stream",
     "text": [
      "could not detect version_main.therefore, we are assuming it is chrome 108 or higher\n"
     ]
    },
    {
     "name": "stdout",
     "output_type": "stream",
     "text": [
      "Saved to db successfully\n",
      "Done with link 46507: https://www.zoopla.co.uk/for-sale/details/64233039/?search_identifier=c7f701058d7987e40fdeaf05e860786afb000acb353f50f79c52cb7522fd97bf\n",
      "Starting extraction for link 46508: https://www.zoopla.co.uk/for-sale/details/64219917/?search_identifier=c7f701058d7987e40fdeaf05e860786afb000acb353f50f79c52cb7522fd97bf\n"
     ]
    },
    {
     "name": "stderr",
     "output_type": "stream",
     "text": [
      "could not detect version_main.therefore, we are assuming it is chrome 108 or higher\n"
     ]
    },
    {
     "name": "stdout",
     "output_type": "stream",
     "text": [
      "Saved to db successfully\n",
      "Done with link 46508: https://www.zoopla.co.uk/for-sale/details/64219917/?search_identifier=c7f701058d7987e40fdeaf05e860786afb000acb353f50f79c52cb7522fd97bf\n",
      "Starting extraction for link 46509: https://www.zoopla.co.uk/for-sale/details/64210379/?search_identifier=c7f701058d7987e40fdeaf05e860786afb000acb353f50f79c52cb7522fd97bf\n"
     ]
    },
    {
     "name": "stderr",
     "output_type": "stream",
     "text": [
      "could not detect version_main.therefore, we are assuming it is chrome 108 or higher\n"
     ]
    },
    {
     "name": "stdout",
     "output_type": "stream",
     "text": [
      "Saved to db successfully\n",
      "Done with link 46509: https://www.zoopla.co.uk/for-sale/details/64210379/?search_identifier=c7f701058d7987e40fdeaf05e860786afb000acb353f50f79c52cb7522fd97bf\n",
      "Starting extraction for link 46510: https://www.zoopla.co.uk/for-sale/details/64200628/?search_identifier=c7f701058d7987e40fdeaf05e860786afb000acb353f50f79c52cb7522fd97bf\n"
     ]
    },
    {
     "name": "stderr",
     "output_type": "stream",
     "text": [
      "could not detect version_main.therefore, we are assuming it is chrome 108 or higher\n"
     ]
    },
    {
     "name": "stdout",
     "output_type": "stream",
     "text": [
      "Saved to db successfully\n",
      "Done with link 46510: https://www.zoopla.co.uk/for-sale/details/64200628/?search_identifier=c7f701058d7987e40fdeaf05e860786afb000acb353f50f79c52cb7522fd97bf\n",
      "Starting extraction for link 46511: https://www.zoopla.co.uk/for-sale/details/64199842/?search_identifier=c7f701058d7987e40fdeaf05e860786afb000acb353f50f79c52cb7522fd97bf\n"
     ]
    },
    {
     "name": "stderr",
     "output_type": "stream",
     "text": [
      "could not detect version_main.therefore, we are assuming it is chrome 108 or higher\n"
     ]
    },
    {
     "name": "stdout",
     "output_type": "stream",
     "text": [
      "Saved to db successfully\n",
      "Done with link 46511: https://www.zoopla.co.uk/for-sale/details/64199842/?search_identifier=c7f701058d7987e40fdeaf05e860786afb000acb353f50f79c52cb7522fd97bf\n",
      "Starting extraction for link 46512: https://www.zoopla.co.uk/for-sale/details/64195059/?search_identifier=c7f701058d7987e40fdeaf05e860786afb000acb353f50f79c52cb7522fd97bf\n"
     ]
    },
    {
     "name": "stderr",
     "output_type": "stream",
     "text": [
      "could not detect version_main.therefore, we are assuming it is chrome 108 or higher\n"
     ]
    },
    {
     "name": "stdout",
     "output_type": "stream",
     "text": [
      "Saved to db successfully\n",
      "Done with link 46512: https://www.zoopla.co.uk/for-sale/details/64195059/?search_identifier=c7f701058d7987e40fdeaf05e860786afb000acb353f50f79c52cb7522fd97bf\n",
      "Starting extraction for link 46513: https://www.zoopla.co.uk/for-sale/details/64183189/?search_identifier=c7f701058d7987e40fdeaf05e860786afb000acb353f50f79c52cb7522fd97bf\n"
     ]
    },
    {
     "name": "stderr",
     "output_type": "stream",
     "text": [
      "could not detect version_main.therefore, we are assuming it is chrome 108 or higher\n"
     ]
    },
    {
     "name": "stdout",
     "output_type": "stream",
     "text": [
      "Saved to db successfully\n",
      "Done with link 46513: https://www.zoopla.co.uk/for-sale/details/64183189/?search_identifier=c7f701058d7987e40fdeaf05e860786afb000acb353f50f79c52cb7522fd97bf\n",
      "Starting extraction for link 46514: https://www.zoopla.co.uk/for-sale/details/64181332/?search_identifier=c7f701058d7987e40fdeaf05e860786afb000acb353f50f79c52cb7522fd97bf\n"
     ]
    },
    {
     "name": "stderr",
     "output_type": "stream",
     "text": [
      "could not detect version_main.therefore, we are assuming it is chrome 108 or higher\n"
     ]
    },
    {
     "name": "stdout",
     "output_type": "stream",
     "text": [
      "Saved to db successfully\n",
      "Done with link 46514: https://www.zoopla.co.uk/for-sale/details/64181332/?search_identifier=c7f701058d7987e40fdeaf05e860786afb000acb353f50f79c52cb7522fd97bf\n",
      "Starting extraction for link 46515: https://www.zoopla.co.uk/for-sale/details/64178987/?search_identifier=c7f701058d7987e40fdeaf05e860786afb000acb353f50f79c52cb7522fd97bf\n"
     ]
    },
    {
     "name": "stderr",
     "output_type": "stream",
     "text": [
      "could not detect version_main.therefore, we are assuming it is chrome 108 or higher\n"
     ]
    },
    {
     "name": "stdout",
     "output_type": "stream",
     "text": [
      "Saved to db successfully\n",
      "Done with link 46515: https://www.zoopla.co.uk/for-sale/details/64178987/?search_identifier=c7f701058d7987e40fdeaf05e860786afb000acb353f50f79c52cb7522fd97bf\n",
      "Starting extraction for link 46516: https://www.zoopla.co.uk/for-sale/details/64176467/?search_identifier=c7f701058d7987e40fdeaf05e860786afb000acb353f50f79c52cb7522fd97bf\n"
     ]
    },
    {
     "name": "stderr",
     "output_type": "stream",
     "text": [
      "could not detect version_main.therefore, we are assuming it is chrome 108 or higher\n"
     ]
    },
    {
     "name": "stdout",
     "output_type": "stream",
     "text": [
      "Saved to db successfully\n",
      "Done with link 46516: https://www.zoopla.co.uk/for-sale/details/64176467/?search_identifier=c7f701058d7987e40fdeaf05e860786afb000acb353f50f79c52cb7522fd97bf\n",
      "Starting extraction for link 46517: https://www.zoopla.co.uk/for-sale/details/64172475/?search_identifier=c7f701058d7987e40fdeaf05e860786afb000acb353f50f79c52cb7522fd97bf\n"
     ]
    },
    {
     "name": "stderr",
     "output_type": "stream",
     "text": [
      "could not detect version_main.therefore, we are assuming it is chrome 108 or higher\n"
     ]
    },
    {
     "name": "stdout",
     "output_type": "stream",
     "text": [
      "Saved to db successfully\n",
      "Done with link 46517: https://www.zoopla.co.uk/for-sale/details/64172475/?search_identifier=c7f701058d7987e40fdeaf05e860786afb000acb353f50f79c52cb7522fd97bf\n",
      "Starting extraction for link 46518: https://www.zoopla.co.uk/for-sale/details/64172188/?search_identifier=c7f701058d7987e40fdeaf05e860786afb000acb353f50f79c52cb7522fd97bf\n"
     ]
    },
    {
     "name": "stderr",
     "output_type": "stream",
     "text": [
      "could not detect version_main.therefore, we are assuming it is chrome 108 or higher\n"
     ]
    },
    {
     "name": "stdout",
     "output_type": "stream",
     "text": [
      "Saved to db successfully\n",
      "Done with link 46518: https://www.zoopla.co.uk/for-sale/details/64172188/?search_identifier=c7f701058d7987e40fdeaf05e860786afb000acb353f50f79c52cb7522fd97bf\n",
      "Starting extraction for link 46519: https://www.zoopla.co.uk/for-sale/details/64163331/?search_identifier=cacfdbd9fe6366ad29a28485d34c9c4c0520caad8004665eb6a0abd73328948d\n"
     ]
    },
    {
     "name": "stderr",
     "output_type": "stream",
     "text": [
      "could not detect version_main.therefore, we are assuming it is chrome 108 or higher\n"
     ]
    },
    {
     "name": "stdout",
     "output_type": "stream",
     "text": [
      "Saved to db successfully\n",
      "Done with link 46519: https://www.zoopla.co.uk/for-sale/details/64163331/?search_identifier=cacfdbd9fe6366ad29a28485d34c9c4c0520caad8004665eb6a0abd73328948d\n",
      "Starting extraction for link 46520: https://www.zoopla.co.uk/for-sale/details/64152889/?search_identifier=cacfdbd9fe6366ad29a28485d34c9c4c0520caad8004665eb6a0abd73328948d\n"
     ]
    },
    {
     "name": "stderr",
     "output_type": "stream",
     "text": [
      "could not detect version_main.therefore, we are assuming it is chrome 108 or higher\n"
     ]
    },
    {
     "name": "stdout",
     "output_type": "stream",
     "text": [
      "Saved to db successfully\n",
      "Done with link 46520: https://www.zoopla.co.uk/for-sale/details/64152889/?search_identifier=cacfdbd9fe6366ad29a28485d34c9c4c0520caad8004665eb6a0abd73328948d\n",
      "Starting extraction for link 46521: https://www.zoopla.co.uk/for-sale/details/64148552/?search_identifier=cacfdbd9fe6366ad29a28485d34c9c4c0520caad8004665eb6a0abd73328948d\n"
     ]
    },
    {
     "name": "stderr",
     "output_type": "stream",
     "text": [
      "could not detect version_main.therefore, we are assuming it is chrome 108 or higher\n"
     ]
    },
    {
     "name": "stdout",
     "output_type": "stream",
     "text": [
      "Saved to db successfully\n",
      "Done with link 46521: https://www.zoopla.co.uk/for-sale/details/64148552/?search_identifier=cacfdbd9fe6366ad29a28485d34c9c4c0520caad8004665eb6a0abd73328948d\n",
      "Starting extraction for link 46522: https://www.zoopla.co.uk/for-sale/details/64141081/?search_identifier=cacfdbd9fe6366ad29a28485d34c9c4c0520caad8004665eb6a0abd73328948d\n"
     ]
    },
    {
     "name": "stderr",
     "output_type": "stream",
     "text": [
      "could not detect version_main.therefore, we are assuming it is chrome 108 or higher\n"
     ]
    },
    {
     "name": "stdout",
     "output_type": "stream",
     "text": [
      "Saved to db successfully\n",
      "Done with link 46522: https://www.zoopla.co.uk/for-sale/details/64141081/?search_identifier=cacfdbd9fe6366ad29a28485d34c9c4c0520caad8004665eb6a0abd73328948d\n",
      "Starting extraction for link 46523: https://www.zoopla.co.uk/for-sale/details/64126913/?search_identifier=cacfdbd9fe6366ad29a28485d34c9c4c0520caad8004665eb6a0abd73328948d\n"
     ]
    },
    {
     "name": "stderr",
     "output_type": "stream",
     "text": [
      "could not detect version_main.therefore, we are assuming it is chrome 108 or higher\n"
     ]
    },
    {
     "name": "stdout",
     "output_type": "stream",
     "text": [
      "Saved to db successfully\n",
      "Done with link 46523: https://www.zoopla.co.uk/for-sale/details/64126913/?search_identifier=cacfdbd9fe6366ad29a28485d34c9c4c0520caad8004665eb6a0abd73328948d\n",
      "Starting extraction for link 46524: https://www.zoopla.co.uk/for-sale/details/64122658/?search_identifier=cacfdbd9fe6366ad29a28485d34c9c4c0520caad8004665eb6a0abd73328948d\n"
     ]
    },
    {
     "ename": "KeyboardInterrupt",
     "evalue": "",
     "output_type": "error",
     "traceback": [
      "\u001b[1;31m---------------------------------------------------------------------------\u001b[0m",
      "\u001b[1;31mKeyboardInterrupt\u001b[0m                         Traceback (most recent call last)",
      "\u001b[1;32m~\\AppData\\Local\\Temp\\ipykernel_18696\\4071397427.py\u001b[0m in \u001b[0;36m<module>\u001b[1;34m\u001b[0m\n\u001b[0;32m     16\u001b[0m     \u001b[1;32mtry\u001b[0m\u001b[1;33m:\u001b[0m\u001b[1;33m\u001b[0m\u001b[1;33m\u001b[0m\u001b[0m\n\u001b[0;32m     17\u001b[0m         \u001b[0mprint\u001b[0m\u001b[1;33m(\u001b[0m\u001b[1;34mf\"Starting extraction for link {count}: {row.url}\"\u001b[0m\u001b[1;33m)\u001b[0m\u001b[1;33m\u001b[0m\u001b[1;33m\u001b[0m\u001b[0m\n\u001b[1;32m---> 18\u001b[1;33m         \u001b[0mdata_dict\u001b[0m \u001b[1;33m=\u001b[0m \u001b[0mget_property_info\u001b[0m\u001b[1;33m(\u001b[0m\u001b[0mrow\u001b[0m\u001b[1;33m.\u001b[0m\u001b[0murl\u001b[0m\u001b[1;33m,\u001b[0m \u001b[0mrow\u001b[0m\u001b[1;33m.\u001b[0m\u001b[0mpostcode\u001b[0m\u001b[1;33m)\u001b[0m\u001b[1;33m\u001b[0m\u001b[1;33m\u001b[0m\u001b[0m\n\u001b[0m\u001b[0;32m     19\u001b[0m         \u001b[0msave_to_db\u001b[0m\u001b[1;33m(\u001b[0m\u001b[0mdata_dict\u001b[0m\u001b[1;33m)\u001b[0m\u001b[1;33m\u001b[0m\u001b[1;33m\u001b[0m\u001b[0m\n\u001b[0;32m     20\u001b[0m         \u001b[0mprint\u001b[0m\u001b[1;33m(\u001b[0m\u001b[1;34mf\"Done with link {count}: {row.url}\"\u001b[0m\u001b[1;33m)\u001b[0m\u001b[1;33m\u001b[0m\u001b[1;33m\u001b[0m\u001b[0m\n",
      "\u001b[1;32m~\\AppData\\Local\\Temp\\ipykernel_18696\\860748631.py\u001b[0m in \u001b[0;36mget_property_info\u001b[1;34m(property_link, postcode)\u001b[0m\n\u001b[0;32m     40\u001b[0m         \u001b[0mdriver\u001b[0m\u001b[1;33m.\u001b[0m\u001b[0mmaximize_window\u001b[0m\u001b[1;33m(\u001b[0m\u001b[1;33m)\u001b[0m\u001b[1;33m\u001b[0m\u001b[1;33m\u001b[0m\u001b[0m\n\u001b[0;32m     41\u001b[0m \u001b[1;33m\u001b[0m\u001b[0m\n\u001b[1;32m---> 42\u001b[1;33m         \u001b[0mtime\u001b[0m\u001b[1;33m.\u001b[0m\u001b[0msleep\u001b[0m\u001b[1;33m(\u001b[0m\u001b[1;36m5\u001b[0m\u001b[1;33m)\u001b[0m\u001b[1;33m\u001b[0m\u001b[1;33m\u001b[0m\u001b[0m\n\u001b[0m\u001b[0;32m     43\u001b[0m         \u001b[0mconsent_id\u001b[0m \u001b[1;33m=\u001b[0m \u001b[1;34m\"gdpr-consent-notice\"\u001b[0m\u001b[1;33m\u001b[0m\u001b[1;33m\u001b[0m\u001b[0m\n\u001b[0;32m     44\u001b[0m \u001b[1;33m\u001b[0m\u001b[0m\n",
      "\u001b[1;31mKeyboardInterrupt\u001b[0m: "
     ]
    }
   ],
   "source": [
    "# List of property links and corresponding postcodes\n",
    "property_data = pd.read_csv('./Data/property_urls_london.csv', index_col = [0], skiprows=45378, header=None)\n",
    "property_data.columns = ['postcode', 'url']\n",
    "# Initialize a list to store the scraped data\n",
    "# data_list = []\n",
    "\n",
    "# Bad links\n",
    "# bad_links = []\n",
    "\n",
    "# counter\n",
    "count = 45377\n",
    "\n",
    "# Loop through each property link and postcode\n",
    "for row in property_data.itertuples():\n",
    "    count += 1\n",
    "    try:\n",
    "        print(f\"Starting extraction for link {count}: {row.url}\")\n",
    "        data_dict = get_property_info(row.url, row.postcode)\n",
    "        save_to_db(data_dict)\n",
    "        print(f\"Done with link {count}: {row.url}\")\n",
    "#         break\n",
    "    except Exception as ex:\n",
    "        print(f'An error occurred for link {count} {row.url}: {ex}')\n",
    "        bad_link = {'Link':row.url, 'postcode': row.postcode}\n",
    "#         bad_links.append(bad_link)\n",
    "        continue\n",
    "\n",
    "print(\"Completed Data Extraction\")"
   ]
  },
  {
   "cell_type": "code",
   "execution_count": null,
   "id": "98108f9b",
   "metadata": {},
   "outputs": [],
   "source": [
    "bad_links"
   ]
  },
  {
   "cell_type": "code",
   "execution_count": null,
   "id": "41c686d3",
   "metadata": {},
   "outputs": [],
   "source": [
    "current_links = pd.read_csv('./Data/extracted_data_brighon.csv', usecols=[0])\n",
    "all_the_links = pd.read_csv('./Data/property_urls_updated.csv', index_col = [0])"
   ]
  },
  {
   "cell_type": "code",
   "execution_count": null,
   "id": "5f52028a",
   "metadata": {},
   "outputs": [],
   "source": [
    "all_links = all_the_links['urls'].tolist()\n",
    "links_extracted = current_links['property_link'].tolist()\n",
    "\n",
    "links_to_get_list =  []\n",
    "\n",
    "for link_to_get in all_links:\n",
    "    if link_to_get not in links_extracted:\n",
    "        links_to_get_list.append(True)\n",
    "    else:\n",
    "        links_to_get_list.append(False)\n",
    "links_to_get_list\n",
    "len(links_to_get_list)\n",
    "links_to_get = all_the_links.loc[links_to_get_list]\n",
    "links_to_get"
   ]
  },
  {
   "cell_type": "code",
   "execution_count": null,
   "id": "24aa9d15",
   "metadata": {},
   "outputs": [],
   "source": [
    "# counter\n",
    "count = 0\n",
    "\n",
    "# Loop through each property link and postcode\n",
    "for row in links_to_get.itertuples():\n",
    "    count += 1\n",
    "    try:\n",
    "        data_dict = get_property_info(row.urls, row.postcode)\n",
    "        save_to_db(data_dict)   \n",
    "    except Exception as ex:\n",
    "        print(f'An error occurred for link {count} {row.urls}: {ex}')\n",
    "        continue\n",
    "    finally:\n",
    "        print(f\"Done with link {count}: {row.urls}\")\n",
    "\n",
    "print(\"Completed Data Extraction\")"
   ]
  },
  {
   "cell_type": "code",
   "execution_count": null,
   "id": "6687ad7a",
   "metadata": {},
   "outputs": [],
   "source": []
  }
 ],
 "metadata": {
  "kernelspec": {
   "display_name": "Python 3 (ipykernel)",
   "language": "python",
   "name": "python3"
  },
  "language_info": {
   "codemirror_mode": {
    "name": "ipython",
    "version": 3
   },
   "file_extension": ".py",
   "mimetype": "text/x-python",
   "name": "python",
   "nbconvert_exporter": "python",
   "pygments_lexer": "ipython3",
   "version": "3.9.13"
  }
 },
 "nbformat": 4,
 "nbformat_minor": 5
}
