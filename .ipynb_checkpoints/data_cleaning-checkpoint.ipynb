{
 "cells": [
  {
   "cell_type": "markdown",
   "id": "7f74554f",
   "metadata": {},
   "source": [
    "# Data Cleaning"
   ]
  },
  {
   "cell_type": "code",
   "execution_count": null,
   "id": "0892a8dd",
   "metadata": {},
   "outputs": [],
   "source": [
    "import numpy as np\n",
    "import pandas as pd\n",
    "import re"
   ]
  },
  {
   "cell_type": "markdown",
   "id": "c736d31b",
   "metadata": {},
   "source": [
    "## Column Cleaning"
   ]
  },
  {
   "cell_type": "code",
   "execution_count": null,
   "id": "7feb4a9f",
   "metadata": {},
   "outputs": [],
   "source": []
  },
  {
   "cell_type": "markdown",
   "id": "ba311eeb",
   "metadata": {},
   "source": [
    "### Price"
   ]
  },
  {
   "cell_type": "code",
   "execution_count": null,
   "id": "65585b35",
   "metadata": {},
   "outputs": [],
   "source": [
    "# remove £ sign and comma\n",
    "df_clean['price'] = df_raw['price'].apply(lambda x: x.replace('£', '').replace(',', ''))\n",
    "df_clean['price']"
   ]
  },
  {
   "cell_type": "code",
   "execution_count": null,
   "id": "7cbda5e8",
   "metadata": {},
   "outputs": [],
   "source": [
    "# convert price column to number\n",
    "df_clean['price'] = pd.to_numeric(df_clean['price'], errors='coerce')\n",
    "df_clean['price'].describe()"
   ]
  },
  {
   "cell_type": "markdown",
   "id": "4bed2a28",
   "metadata": {},
   "source": [
    "### Address"
   ]
  },
  {
   "cell_type": "code",
   "execution_count": null,
   "id": "cf23abd7",
   "metadata": {},
   "outputs": [],
   "source": [
    "# Remove postcode from address\n",
    "df_clean['address'] = df_clean.apply(lambda row: row['address'].replace(row['postcode'], ''), axis=1)"
   ]
  },
  {
   "cell_type": "markdown",
   "id": "3d2e645d",
   "metadata": {},
   "source": [
    "### House Type"
   ]
  },
  {
   "cell_type": "code",
   "execution_count": null,
   "id": "d301ccaa",
   "metadata": {},
   "outputs": [],
   "source": [
    "# replaces numbers and 'bed' with empty string\n",
    "df_clean['house_type'] = df_raw['house_type'].apply(lambda x: re.sub(r'\\d+', '', x.replace('bed', '')).strip())\n",
    "df_clean['house_type'].unique()"
   ]
  },
  {
   "cell_type": "code",
   "execution_count": null,
   "id": "45c9e084",
   "metadata": {},
   "outputs": [],
   "source": [
    "df_clean['house_type'].describe()"
   ]
  },
  {
   "cell_type": "markdown",
   "id": "f644ccde",
   "metadata": {},
   "source": [
    "### Number of Bedrooms"
   ]
  },
  {
   "cell_type": "code",
   "execution_count": null,
   "id": "2fe20c69",
   "metadata": {},
   "outputs": [],
   "source": [
    "# Remove all non-digit characters but keep space between numbers\n",
    "df_clean['number_of_bedrooms'] = df_raw['number_of_bedrooms'].str.replace(r'\\D+', ' ', regex=True).str.strip()\n",
    "\n",
    "# Convert to numbers and handle errors by converting them to NaN\n",
    "df_clean['number_of_bedrooms'] = pd.to_numeric(df_clean['number_of_bedrooms'], errors='coerce')\n",
    "\n",
    "df_clean['number_of_bedrooms']"
   ]
  },
  {
   "cell_type": "markdown",
   "id": "5e53d54d",
   "metadata": {},
   "source": [
    "### Number of Bathrooms"
   ]
  },
  {
   "cell_type": "code",
   "execution_count": null,
   "id": "7a944506",
   "metadata": {},
   "outputs": [],
   "source": [
    "# Remove all non-digit characters but keep space between numbers\n",
    "df_clean['number_of_bathrooms'] = df_raw['number_of_bathrooms'].str.replace(r'\\D+', ' ', regex=True).str.strip()\n",
    "\n",
    "# Convert to numbers and handle errors by converting them to NaN\n",
    "df_clean['number_of_bathrooms'] = pd.to_numeric(df_clean['number_of_bathrooms'], errors='coerce')\n",
    "\n",
    "df_clean['number_of_bathrooms']"
   ]
  },
  {
   "cell_type": "markdown",
   "id": "d1507914",
   "metadata": {},
   "source": [
    "### Number of Receptions"
   ]
  },
  {
   "cell_type": "code",
   "execution_count": null,
   "id": "232e956f",
   "metadata": {},
   "outputs": [],
   "source": [
    "# Remove all non-digit characters but keep space between numbers\n",
    "df_clean['number_of_receptions'] = df_raw['number_of_receptions'].str.replace(r'\\D+', ' ', regex=True).str.strip()\n",
    "\n",
    "# Convert to numbers and handle errors by converting them to NaN\n",
    "df_clean['number_of_receptions'] = pd.to_numeric(df_clean['number_of_receptions'], errors='coerce')\n",
    "\n",
    "df_clean['number_of_receptions']"
   ]
  },
  {
   "cell_type": "markdown",
   "id": "9dcdb966",
   "metadata": {},
   "source": [
    "### Other Features"
   ]
  },
  {
   "cell_type": "code",
   "execution_count": null,
   "id": "ee6c216a",
   "metadata": {},
   "outputs": [],
   "source": [
    "# Strip whitespace and replace empty strings with NaN\n",
    "df_clean['other_features'] = df_raw['other_features'].str.strip().where(lambda x : x != '', np.nan)\n",
    "\n",
    "df_clean['other_features'] = pd.to_numeric(df_clean['other_features'].str.replace('sq. ft', '').str.replace(',', ''), \n",
    "                                           errors='coerce')\n",
    "df_clean['other_features'].describe()"
   ]
  },
  {
   "cell_type": "markdown",
   "id": "07ae178b",
   "metadata": {},
   "source": [
    "### Tenure"
   ]
  },
  {
   "cell_type": "code",
   "execution_count": null,
   "id": "0ada4e66",
   "metadata": {},
   "outputs": [],
   "source": [
    "# Removes whitespace and converts string to lowercase\n",
    "df_clean['tenure'] = df_raw['tenure'].str.strip().str.lower()\n",
    "df_clean['tenure'].unique()"
   ]
  },
  {
   "cell_type": "markdown",
   "id": "02f9fa6c",
   "metadata": {},
   "source": [
    "### Lease Time"
   ]
  },
  {
   "cell_type": "code",
   "execution_count": null,
   "id": "931de37f",
   "metadata": {},
   "outputs": [],
   "source": [
    "# Removes whitespace and 'years' and converts column to number\n",
    "df_clean['lease_time'] = df_raw['lease_time'].str.replace(r'\\D+', ' ', regex=True).str.strip()\n",
    "df_clean['lease_time'].describe()"
   ]
  },
  {
   "cell_type": "markdown",
   "id": "3b340338",
   "metadata": {},
   "source": [
    "### Service Charge"
   ]
  },
  {
   "cell_type": "code",
   "execution_count": null,
   "id": "4061d2e7",
   "metadata": {},
   "outputs": [],
   "source": [
    "# removes '£', ',' and 'per year' from string \n",
    "df_clean['service_charge'] = (df_raw['service_charge'].str.replace('£', '').str.replace('per year', '')\n",
    "                              .str.replace(',', '').str.strip())\n",
    "df_clean['service_charge'].unique()"
   ]
  },
  {
   "cell_type": "markdown",
   "id": "1425bf7a",
   "metadata": {},
   "source": [
    "### Tax Band"
   ]
  },
  {
   "cell_type": "code",
   "execution_count": null,
   "id": "dd77d484",
   "metadata": {},
   "outputs": [],
   "source": [
    "df_raw['tax_band'].unique()"
   ]
  },
  {
   "cell_type": "markdown",
   "id": "c6b70f4b",
   "metadata": {},
   "source": [
    "### Ground Rent"
   ]
  },
  {
   "cell_type": "code",
   "execution_count": null,
   "id": "8a023e9c",
   "metadata": {},
   "outputs": [],
   "source": [
    "# removes '£', ',' and 'per month' from string\n",
    "df_clean['ground_rent'] = (df_raw['ground_rent'].str.replace('£' , '').str.replace(',' , '')\n",
    "                           .str.replace('per month', ''))\n",
    "df_clean['ground_rent'].describe()"
   ]
  },
  {
   "cell_type": "markdown",
   "id": "114cc049",
   "metadata": {},
   "source": [
    "### Commonhold Details"
   ]
  },
  {
   "cell_type": "code",
   "execution_count": null,
   "id": "8d37ac5b",
   "metadata": {},
   "outputs": [],
   "source": [
    "df_raw['commonhold_details'].unique()"
   ]
  },
  {
   "cell_type": "markdown",
   "id": "42cb4fbb",
   "metadata": {},
   "source": [
    "### Points of Interest"
   ]
  },
  {
   "cell_type": "code",
   "execution_count": null,
   "id": "6f452992",
   "metadata": {},
   "outputs": [],
   "source": [
    "df_raw['points_of_interest']"
   ]
  }
 ],
 "metadata": {
  "kernelspec": {
   "display_name": "Python 3 (ipykernel)",
   "language": "python",
   "name": "python3"
  },
  "language_info": {
   "codemirror_mode": {
    "name": "ipython",
    "version": 3
   },
   "file_extension": ".py",
   "mimetype": "text/x-python",
   "name": "python",
   "nbconvert_exporter": "python",
   "pygments_lexer": "ipython3",
   "version": "3.9.13"
  }
 },
 "nbformat": 4,
 "nbformat_minor": 5
}
