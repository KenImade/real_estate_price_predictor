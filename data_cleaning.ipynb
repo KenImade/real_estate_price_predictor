{
 "cells": [
  {
   "cell_type": "markdown",
   "id": "7f74554f",
   "metadata": {},
   "source": [
    "# Data Cleaning"
   ]
  },
  {
   "cell_type": "code",
   "execution_count": 1,
   "id": "0892a8dd",
   "metadata": {},
   "outputs": [],
   "source": [
    "import numpy as np\n",
    "import pandas as pd\n",
    "import re"
   ]
  },
  {
   "cell_type": "markdown",
   "id": "c736d31b",
   "metadata": {},
   "source": [
    "## Column Cleaning"
   ]
  },
  {
   "cell_type": "code",
   "execution_count": 2,
   "id": "7feb4a9f",
   "metadata": {},
   "outputs": [],
   "source": [
    "df_raw = pd.read_csv('./Data/brighton_data_raw.csv')\n",
    "df_clean = df_raw.copy()"
   ]
  },
  {
   "cell_type": "code",
   "execution_count": 3,
   "id": "c0978111",
   "metadata": {},
   "outputs": [
    {
     "data": {
      "text/html": [
       "<div>\n",
       "<style scoped>\n",
       "    .dataframe tbody tr th:only-of-type {\n",
       "        vertical-align: middle;\n",
       "    }\n",
       "\n",
       "    .dataframe tbody tr th {\n",
       "        vertical-align: top;\n",
       "    }\n",
       "\n",
       "    .dataframe thead th {\n",
       "        text-align: right;\n",
       "    }\n",
       "</style>\n",
       "<table border=\"1\" class=\"dataframe\">\n",
       "  <thead>\n",
       "    <tr style=\"text-align: right;\">\n",
       "      <th></th>\n",
       "      <th>property_id</th>\n",
       "      <th>price</th>\n",
       "      <th>address</th>\n",
       "      <th>house_type</th>\n",
       "      <th>number_of_bedrooms</th>\n",
       "      <th>number_of_bathrooms</th>\n",
       "      <th>number_of_receptions</th>\n",
       "      <th>other_features</th>\n",
       "      <th>tenure</th>\n",
       "      <th>lease_time</th>\n",
       "      <th>...</th>\n",
       "      <th>tax_band</th>\n",
       "      <th>ground_rent</th>\n",
       "      <th>commonhold_details</th>\n",
       "      <th>points_of_interest</th>\n",
       "      <th>listing_features</th>\n",
       "      <th>description_text</th>\n",
       "      <th>property_link</th>\n",
       "      <th>postcode</th>\n",
       "      <th>latitude</th>\n",
       "      <th>longitude</th>\n",
       "    </tr>\n",
       "  </thead>\n",
       "  <tbody>\n",
       "    <tr>\n",
       "      <th>0</th>\n",
       "      <td>1</td>\n",
       "      <td>£300,000</td>\n",
       "      <td>Clyde Road, Brighton BN1</td>\n",
       "      <td>2 bed flat</td>\n",
       "      <td>2 beds</td>\n",
       "      <td>1 bath</td>\n",
       "      <td>1 reception</td>\n",
       "      <td>NaN</td>\n",
       "      <td>Share of freehold</td>\n",
       "      <td>Not available</td>\n",
       "      <td>...</td>\n",
       "      <td>A</td>\n",
       "      <td>Not available</td>\n",
       "      <td>Not available</td>\n",
       "      <td>London Road (Brighton)\\n0.1 miles,Bellerbys Co...</td>\n",
       "      <td>Share of freehold\\nTwo-Bedroom First Floor Apa...</td>\n",
       "      <td>Description\\n\\nA wonderful split-level apartme...</td>\n",
       "      <td>https://www.zoopla.co.uk/for-sale/details/6064...</td>\n",
       "      <td>BN1</td>\n",
       "      <td>50.834835</td>\n",
       "      <td>-0.136658</td>\n",
       "    </tr>\n",
       "    <tr>\n",
       "      <th>1</th>\n",
       "      <td>2</td>\n",
       "      <td>£295,000</td>\n",
       "      <td>North Street, Brighton BN1</td>\n",
       "      <td>1 bed flat</td>\n",
       "      <td>1 bed</td>\n",
       "      <td>NaN</td>\n",
       "      <td>NaN</td>\n",
       "      <td>NaN</td>\n",
       "      <td>Not available</td>\n",
       "      <td>NaN</td>\n",
       "      <td>...</td>\n",
       "      <td>Not available</td>\n",
       "      <td>NaN</td>\n",
       "      <td>NaN</td>\n",
       "      <td>Middle Street Primary School\\n0.1 miles,St Pau...</td>\n",
       "      <td>No Forward Chain\\nPassenger Lift\\nLocated Next...</td>\n",
       "      <td>Perfect investment property or first time buy!...</td>\n",
       "      <td>https://www.zoopla.co.uk/for-sale/details/6516...</td>\n",
       "      <td>BN1</td>\n",
       "      <td>50.828022</td>\n",
       "      <td>-0.136807</td>\n",
       "    </tr>\n",
       "    <tr>\n",
       "      <th>2</th>\n",
       "      <td>3</td>\n",
       "      <td>£450,000</td>\n",
       "      <td>Crabtree Avenue, Brighton BN1</td>\n",
       "      <td>3 bed terraced house</td>\n",
       "      <td>3 beds</td>\n",
       "      <td>1 bath</td>\n",
       "      <td>2 receptions</td>\n",
       "      <td>NaN</td>\n",
       "      <td>Freehold</td>\n",
       "      <td>NaN</td>\n",
       "      <td>...</td>\n",
       "      <td>C</td>\n",
       "      <td>NaN</td>\n",
       "      <td>NaN</td>\n",
       "      <td>Carden Nursery and Primary School\\n0.3 miles,T...</td>\n",
       "      <td>Freehold\\nAttractive 3 Bedroom Family Home Wit...</td>\n",
       "      <td>Summary of accommodation\\n\\nGround Floor Entra...</td>\n",
       "      <td>https://www.zoopla.co.uk/for-sale/details/6516...</td>\n",
       "      <td>BN1</td>\n",
       "      <td>50.860744</td>\n",
       "      <td>-0.131786</td>\n",
       "    </tr>\n",
       "    <tr>\n",
       "      <th>3</th>\n",
       "      <td>4</td>\n",
       "      <td>NaN</td>\n",
       "      <td>NaN</td>\n",
       "      <td>NaN</td>\n",
       "      <td>NaN</td>\n",
       "      <td>NaN</td>\n",
       "      <td>NaN</td>\n",
       "      <td>NaN</td>\n",
       "      <td>NaN</td>\n",
       "      <td>NaN</td>\n",
       "      <td>...</td>\n",
       "      <td>NaN</td>\n",
       "      <td>NaN</td>\n",
       "      <td>NaN</td>\n",
       "      <td>NaN</td>\n",
       "      <td>NaN</td>\n",
       "      <td>NaN</td>\n",
       "      <td>https://www.zoopla.co.uk/for-sale/details/6516...</td>\n",
       "      <td>BN1</td>\n",
       "      <td>NaN</td>\n",
       "      <td>NaN</td>\n",
       "    </tr>\n",
       "    <tr>\n",
       "      <th>4</th>\n",
       "      <td>5</td>\n",
       "      <td>£425,000</td>\n",
       "      <td>Warleigh Road, Brighton BN1</td>\n",
       "      <td>2 bed maisonette</td>\n",
       "      <td>2 beds</td>\n",
       "      <td>1 bath</td>\n",
       "      <td>1 reception</td>\n",
       "      <td>NaN</td>\n",
       "      <td>Leasehold</td>\n",
       "      <td>120 years</td>\n",
       "      <td>...</td>\n",
       "      <td>Not available</td>\n",
       "      <td>Not available</td>\n",
       "      <td>NaN</td>\n",
       "      <td>London Road (Brighton)\\n0.1 miles,Downs Infant...</td>\n",
       "      <td>Leasehold\\n2 Double Bedrooms\\nNo Onward Chain\\...</td>\n",
       "      <td>Avard Estate Agents are pleased to offer for s...</td>\n",
       "      <td>https://www.zoopla.co.uk/for-sale/details/6516...</td>\n",
       "      <td>BN1</td>\n",
       "      <td>50.834766</td>\n",
       "      <td>-0.135156</td>\n",
       "    </tr>\n",
       "  </tbody>\n",
       "</table>\n",
       "<p>5 rows × 21 columns</p>\n",
       "</div>"
      ],
      "text/plain": [
       "   property_id     price                        address            house_type  \\\n",
       "0            1  £300,000       Clyde Road, Brighton BN1            2 bed flat   \n",
       "1            2  £295,000     North Street, Brighton BN1            1 bed flat   \n",
       "2            3  £450,000  Crabtree Avenue, Brighton BN1  3 bed terraced house   \n",
       "3            4       NaN                            NaN                   NaN   \n",
       "4            5  £425,000    Warleigh Road, Brighton BN1      2 bed maisonette   \n",
       "\n",
       "  number_of_bedrooms number_of_bathrooms number_of_receptions other_features  \\\n",
       "0             2 beds              1 bath          1 reception            NaN   \n",
       "1              1 bed                 NaN                  NaN            NaN   \n",
       "2             3 beds              1 bath         2 receptions            NaN   \n",
       "3                NaN                 NaN                  NaN            NaN   \n",
       "4             2 beds              1 bath          1 reception            NaN   \n",
       "\n",
       "              tenure     lease_time  ...       tax_band    ground_rent  \\\n",
       "0  Share of freehold  Not available  ...              A  Not available   \n",
       "1      Not available            NaN  ...  Not available            NaN   \n",
       "2           Freehold            NaN  ...              C            NaN   \n",
       "3                NaN            NaN  ...            NaN            NaN   \n",
       "4          Leasehold      120 years  ...  Not available  Not available   \n",
       "\n",
       "  commonhold_details                                 points_of_interest  \\\n",
       "0      Not available  London Road (Brighton)\\n0.1 miles,Bellerbys Co...   \n",
       "1                NaN  Middle Street Primary School\\n0.1 miles,St Pau...   \n",
       "2                NaN  Carden Nursery and Primary School\\n0.3 miles,T...   \n",
       "3                NaN                                                NaN   \n",
       "4                NaN  London Road (Brighton)\\n0.1 miles,Downs Infant...   \n",
       "\n",
       "                                    listing_features  \\\n",
       "0  Share of freehold\\nTwo-Bedroom First Floor Apa...   \n",
       "1  No Forward Chain\\nPassenger Lift\\nLocated Next...   \n",
       "2  Freehold\\nAttractive 3 Bedroom Family Home Wit...   \n",
       "3                                                NaN   \n",
       "4  Leasehold\\n2 Double Bedrooms\\nNo Onward Chain\\...   \n",
       "\n",
       "                                    description_text  \\\n",
       "0  Description\\n\\nA wonderful split-level apartme...   \n",
       "1  Perfect investment property or first time buy!...   \n",
       "2  Summary of accommodation\\n\\nGround Floor Entra...   \n",
       "3                                                NaN   \n",
       "4  Avard Estate Agents are pleased to offer for s...   \n",
       "\n",
       "                                       property_link postcode   latitude  \\\n",
       "0  https://www.zoopla.co.uk/for-sale/details/6064...      BN1  50.834835   \n",
       "1  https://www.zoopla.co.uk/for-sale/details/6516...      BN1  50.828022   \n",
       "2  https://www.zoopla.co.uk/for-sale/details/6516...      BN1  50.860744   \n",
       "3  https://www.zoopla.co.uk/for-sale/details/6516...      BN1        NaN   \n",
       "4  https://www.zoopla.co.uk/for-sale/details/6516...      BN1  50.834766   \n",
       "\n",
       "   longitude  \n",
       "0  -0.136658  \n",
       "1  -0.136807  \n",
       "2  -0.131786  \n",
       "3        NaN  \n",
       "4  -0.135156  \n",
       "\n",
       "[5 rows x 21 columns]"
      ]
     },
     "execution_count": 3,
     "metadata": {},
     "output_type": "execute_result"
    }
   ],
   "source": [
    "df_raw.head()"
   ]
  },
  {
   "cell_type": "code",
   "execution_count": 4,
   "id": "53989403",
   "metadata": {},
   "outputs": [
    {
     "data": {
      "text/plain": [
       "Index(['property_id', 'price', 'address', 'house_type', 'number_of_bedrooms',\n",
       "       'number_of_bathrooms', 'number_of_receptions', 'other_features',\n",
       "       'tenure', 'lease_time', 'service_charge', 'tax_band', 'ground_rent',\n",
       "       'commonhold_details', 'points_of_interest', 'listing_features',\n",
       "       'description_text', 'property_link', 'postcode', 'latitude',\n",
       "       'longitude'],\n",
       "      dtype='object')"
      ]
     },
     "execution_count": 4,
     "metadata": {},
     "output_type": "execute_result"
    }
   ],
   "source": [
    "df_raw.columns"
   ]
  },
  {
   "cell_type": "markdown",
   "id": "ba311eeb",
   "metadata": {},
   "source": [
    "### Price"
   ]
  },
  {
   "cell_type": "code",
   "execution_count": 5,
   "id": "d3489c40",
   "metadata": {},
   "outputs": [
    {
     "data": {
      "text/plain": [
       "0       £300,000\n",
       "1       £295,000\n",
       "2       £450,000\n",
       "3            NaN\n",
       "4       £425,000\n",
       "          ...   \n",
       "5184    £999,950\n",
       "5185    £192,500\n",
       "5186    £150,000\n",
       "5187    £450,000\n",
       "5188    £390,000\n",
       "Name: price, Length: 5189, dtype: object"
      ]
     },
     "execution_count": 5,
     "metadata": {},
     "output_type": "execute_result"
    }
   ],
   "source": [
    "df_raw['price']"
   ]
  },
  {
   "cell_type": "code",
   "execution_count": 6,
   "id": "65585b35",
   "metadata": {},
   "outputs": [
    {
     "data": {
      "text/html": [
       "<div>\n",
       "<style scoped>\n",
       "    .dataframe tbody tr th:only-of-type {\n",
       "        vertical-align: middle;\n",
       "    }\n",
       "\n",
       "    .dataframe tbody tr th {\n",
       "        vertical-align: top;\n",
       "    }\n",
       "\n",
       "    .dataframe thead th {\n",
       "        text-align: right;\n",
       "    }\n",
       "</style>\n",
       "<table border=\"1\" class=\"dataframe\">\n",
       "  <thead>\n",
       "    <tr style=\"text-align: right;\">\n",
       "      <th></th>\n",
       "      <th>property_id</th>\n",
       "      <th>price</th>\n",
       "      <th>address</th>\n",
       "      <th>house_type</th>\n",
       "      <th>number_of_bedrooms</th>\n",
       "      <th>number_of_bathrooms</th>\n",
       "      <th>number_of_receptions</th>\n",
       "      <th>other_features</th>\n",
       "      <th>tenure</th>\n",
       "      <th>lease_time</th>\n",
       "      <th>...</th>\n",
       "      <th>tax_band</th>\n",
       "      <th>ground_rent</th>\n",
       "      <th>commonhold_details</th>\n",
       "      <th>points_of_interest</th>\n",
       "      <th>listing_features</th>\n",
       "      <th>description_text</th>\n",
       "      <th>property_link</th>\n",
       "      <th>postcode</th>\n",
       "      <th>latitude</th>\n",
       "      <th>longitude</th>\n",
       "    </tr>\n",
       "  </thead>\n",
       "  <tbody>\n",
       "    <tr>\n",
       "      <th>0</th>\n",
       "      <td>1</td>\n",
       "      <td>300000.0</td>\n",
       "      <td>Clyde Road, Brighton BN1</td>\n",
       "      <td>2 bed flat</td>\n",
       "      <td>2 beds</td>\n",
       "      <td>1 bath</td>\n",
       "      <td>1 reception</td>\n",
       "      <td>NaN</td>\n",
       "      <td>Share of freehold</td>\n",
       "      <td>Not available</td>\n",
       "      <td>...</td>\n",
       "      <td>A</td>\n",
       "      <td>Not available</td>\n",
       "      <td>Not available</td>\n",
       "      <td>London Road (Brighton)\\n0.1 miles,Bellerbys Co...</td>\n",
       "      <td>Share of freehold\\nTwo-Bedroom First Floor Apa...</td>\n",
       "      <td>Description\\n\\nA wonderful split-level apartme...</td>\n",
       "      <td>https://www.zoopla.co.uk/for-sale/details/6064...</td>\n",
       "      <td>BN1</td>\n",
       "      <td>50.834835</td>\n",
       "      <td>-0.136658</td>\n",
       "    </tr>\n",
       "    <tr>\n",
       "      <th>1</th>\n",
       "      <td>2</td>\n",
       "      <td>295000.0</td>\n",
       "      <td>North Street, Brighton BN1</td>\n",
       "      <td>1 bed flat</td>\n",
       "      <td>1 bed</td>\n",
       "      <td>NaN</td>\n",
       "      <td>NaN</td>\n",
       "      <td>NaN</td>\n",
       "      <td>Not available</td>\n",
       "      <td>NaN</td>\n",
       "      <td>...</td>\n",
       "      <td>Not available</td>\n",
       "      <td>NaN</td>\n",
       "      <td>NaN</td>\n",
       "      <td>Middle Street Primary School\\n0.1 miles,St Pau...</td>\n",
       "      <td>No Forward Chain\\nPassenger Lift\\nLocated Next...</td>\n",
       "      <td>Perfect investment property or first time buy!...</td>\n",
       "      <td>https://www.zoopla.co.uk/for-sale/details/6516...</td>\n",
       "      <td>BN1</td>\n",
       "      <td>50.828022</td>\n",
       "      <td>-0.136807</td>\n",
       "    </tr>\n",
       "    <tr>\n",
       "      <th>2</th>\n",
       "      <td>3</td>\n",
       "      <td>450000.0</td>\n",
       "      <td>Crabtree Avenue, Brighton BN1</td>\n",
       "      <td>3 bed terraced house</td>\n",
       "      <td>3 beds</td>\n",
       "      <td>1 bath</td>\n",
       "      <td>2 receptions</td>\n",
       "      <td>NaN</td>\n",
       "      <td>Freehold</td>\n",
       "      <td>NaN</td>\n",
       "      <td>...</td>\n",
       "      <td>C</td>\n",
       "      <td>NaN</td>\n",
       "      <td>NaN</td>\n",
       "      <td>Carden Nursery and Primary School\\n0.3 miles,T...</td>\n",
       "      <td>Freehold\\nAttractive 3 Bedroom Family Home Wit...</td>\n",
       "      <td>Summary of accommodation\\n\\nGround Floor Entra...</td>\n",
       "      <td>https://www.zoopla.co.uk/for-sale/details/6516...</td>\n",
       "      <td>BN1</td>\n",
       "      <td>50.860744</td>\n",
       "      <td>-0.131786</td>\n",
       "    </tr>\n",
       "    <tr>\n",
       "      <th>3</th>\n",
       "      <td>4</td>\n",
       "      <td>NaN</td>\n",
       "      <td>NaN</td>\n",
       "      <td>NaN</td>\n",
       "      <td>NaN</td>\n",
       "      <td>NaN</td>\n",
       "      <td>NaN</td>\n",
       "      <td>NaN</td>\n",
       "      <td>NaN</td>\n",
       "      <td>NaN</td>\n",
       "      <td>...</td>\n",
       "      <td>NaN</td>\n",
       "      <td>NaN</td>\n",
       "      <td>NaN</td>\n",
       "      <td>NaN</td>\n",
       "      <td>NaN</td>\n",
       "      <td>NaN</td>\n",
       "      <td>https://www.zoopla.co.uk/for-sale/details/6516...</td>\n",
       "      <td>BN1</td>\n",
       "      <td>NaN</td>\n",
       "      <td>NaN</td>\n",
       "    </tr>\n",
       "    <tr>\n",
       "      <th>4</th>\n",
       "      <td>5</td>\n",
       "      <td>425000.0</td>\n",
       "      <td>Warleigh Road, Brighton BN1</td>\n",
       "      <td>2 bed maisonette</td>\n",
       "      <td>2 beds</td>\n",
       "      <td>1 bath</td>\n",
       "      <td>1 reception</td>\n",
       "      <td>NaN</td>\n",
       "      <td>Leasehold</td>\n",
       "      <td>120 years</td>\n",
       "      <td>...</td>\n",
       "      <td>Not available</td>\n",
       "      <td>Not available</td>\n",
       "      <td>NaN</td>\n",
       "      <td>London Road (Brighton)\\n0.1 miles,Downs Infant...</td>\n",
       "      <td>Leasehold\\n2 Double Bedrooms\\nNo Onward Chain\\...</td>\n",
       "      <td>Avard Estate Agents are pleased to offer for s...</td>\n",
       "      <td>https://www.zoopla.co.uk/for-sale/details/6516...</td>\n",
       "      <td>BN1</td>\n",
       "      <td>50.834766</td>\n",
       "      <td>-0.135156</td>\n",
       "    </tr>\n",
       "  </tbody>\n",
       "</table>\n",
       "<p>5 rows × 21 columns</p>\n",
       "</div>"
      ],
      "text/plain": [
       "   property_id     price                        address            house_type  \\\n",
       "0            1  300000.0       Clyde Road, Brighton BN1            2 bed flat   \n",
       "1            2  295000.0     North Street, Brighton BN1            1 bed flat   \n",
       "2            3  450000.0  Crabtree Avenue, Brighton BN1  3 bed terraced house   \n",
       "3            4       NaN                            NaN                   NaN   \n",
       "4            5  425000.0    Warleigh Road, Brighton BN1      2 bed maisonette   \n",
       "\n",
       "  number_of_bedrooms number_of_bathrooms number_of_receptions other_features  \\\n",
       "0             2 beds              1 bath          1 reception            NaN   \n",
       "1              1 bed                 NaN                  NaN            NaN   \n",
       "2             3 beds              1 bath         2 receptions            NaN   \n",
       "3                NaN                 NaN                  NaN            NaN   \n",
       "4             2 beds              1 bath          1 reception            NaN   \n",
       "\n",
       "              tenure     lease_time  ...       tax_band    ground_rent  \\\n",
       "0  Share of freehold  Not available  ...              A  Not available   \n",
       "1      Not available            NaN  ...  Not available            NaN   \n",
       "2           Freehold            NaN  ...              C            NaN   \n",
       "3                NaN            NaN  ...            NaN            NaN   \n",
       "4          Leasehold      120 years  ...  Not available  Not available   \n",
       "\n",
       "  commonhold_details                                 points_of_interest  \\\n",
       "0      Not available  London Road (Brighton)\\n0.1 miles,Bellerbys Co...   \n",
       "1                NaN  Middle Street Primary School\\n0.1 miles,St Pau...   \n",
       "2                NaN  Carden Nursery and Primary School\\n0.3 miles,T...   \n",
       "3                NaN                                                NaN   \n",
       "4                NaN  London Road (Brighton)\\n0.1 miles,Downs Infant...   \n",
       "\n",
       "                                    listing_features  \\\n",
       "0  Share of freehold\\nTwo-Bedroom First Floor Apa...   \n",
       "1  No Forward Chain\\nPassenger Lift\\nLocated Next...   \n",
       "2  Freehold\\nAttractive 3 Bedroom Family Home Wit...   \n",
       "3                                                NaN   \n",
       "4  Leasehold\\n2 Double Bedrooms\\nNo Onward Chain\\...   \n",
       "\n",
       "                                    description_text  \\\n",
       "0  Description\\n\\nA wonderful split-level apartme...   \n",
       "1  Perfect investment property or first time buy!...   \n",
       "2  Summary of accommodation\\n\\nGround Floor Entra...   \n",
       "3                                                NaN   \n",
       "4  Avard Estate Agents are pleased to offer for s...   \n",
       "\n",
       "                                       property_link postcode   latitude  \\\n",
       "0  https://www.zoopla.co.uk/for-sale/details/6064...      BN1  50.834835   \n",
       "1  https://www.zoopla.co.uk/for-sale/details/6516...      BN1  50.828022   \n",
       "2  https://www.zoopla.co.uk/for-sale/details/6516...      BN1  50.860744   \n",
       "3  https://www.zoopla.co.uk/for-sale/details/6516...      BN1        NaN   \n",
       "4  https://www.zoopla.co.uk/for-sale/details/6516...      BN1  50.834766   \n",
       "\n",
       "   longitude  \n",
       "0  -0.136658  \n",
       "1  -0.136807  \n",
       "2  -0.131786  \n",
       "3        NaN  \n",
       "4  -0.135156  \n",
       "\n",
       "[5 rows x 21 columns]"
      ]
     },
     "execution_count": 6,
     "metadata": {},
     "output_type": "execute_result"
    }
   ],
   "source": [
    "# remove '£', ',', and convert to float\n",
    "def convert_price(price):\n",
    "    # Ensure the price is a string, if not, return the original value or some default\n",
    "    if not isinstance(price, str):\n",
    "        return np.nan # or return price if you want to keep the original value\n",
    "\n",
    "    # Use regex to extract numbers, periods, and commas from the string\n",
    "    extracted = ''.join(re.findall(r'[0-9.,]', price))\n",
    "    \n",
    "    # Remove commas\n",
    "    cleaned = extracted.replace(',', '')\n",
    "    \n",
    "    # Try converting the cleaned string to a float\n",
    "    try:\n",
    "        return float(cleaned)\n",
    "    except ValueError:\n",
    "        return np.nan\n",
    "\n",
    "\n",
    "df_clean['price'] = df_raw['price'].apply(convert_price)\n",
    "df_clean.head()"
   ]
  },
  {
   "cell_type": "code",
   "execution_count": 7,
   "id": "7cbda5e8",
   "metadata": {},
   "outputs": [
    {
     "data": {
      "text/plain": [
       "count    5.092000e+03\n",
       "mean     5.068797e+05\n",
       "std      4.594099e+05\n",
       "min      5.000000e+03\n",
       "25%      2.900000e+05\n",
       "50%      4.187475e+05\n",
       "75%      6.000000e+05\n",
       "max      1.500000e+07\n",
       "Name: price, dtype: float64"
      ]
     },
     "execution_count": 7,
     "metadata": {},
     "output_type": "execute_result"
    }
   ],
   "source": [
    "df_clean['price'].describe()"
   ]
  },
  {
   "cell_type": "markdown",
   "id": "3d2e645d",
   "metadata": {},
   "source": [
    "### House Type"
   ]
  },
  {
   "cell_type": "code",
   "execution_count": 8,
   "id": "b93afeeb",
   "metadata": {},
   "outputs": [
    {
     "data": {
      "text/plain": [
       "0                 2 bed flat\n",
       "1                 1 bed flat\n",
       "2       3 bed terraced house\n",
       "3                        NaN\n",
       "4           2 bed maisonette\n",
       "                ...         \n",
       "5184          2 bed property\n",
       "5185              1 bed flat\n",
       "5186          2 bed property\n",
       "5187                    land\n",
       "5188              2 bed flat\n",
       "Name: house_type, Length: 5189, dtype: object"
      ]
     },
     "execution_count": 8,
     "metadata": {},
     "output_type": "execute_result"
    }
   ],
   "source": [
    "df_raw['house_type']"
   ]
  },
  {
   "cell_type": "code",
   "execution_count": 9,
   "id": "d301ccaa",
   "metadata": {},
   "outputs": [
    {
     "data": {
      "text/plain": [
       "0                 flat\n",
       "1                 flat\n",
       "2       terraced house\n",
       "3                  NaN\n",
       "4           maisonette\n",
       "             ...      \n",
       "5184          property\n",
       "5185              flat\n",
       "5186          property\n",
       "5187              land\n",
       "5188              flat\n",
       "Name: house_type, Length: 5189, dtype: object"
      ]
     },
     "execution_count": 9,
     "metadata": {},
     "output_type": "execute_result"
    }
   ],
   "source": [
    "# replaces numbers and 'bed' with empty string\n",
    "def clean_house_type(x):\n",
    "    if isinstance(x, str):\n",
    "        # replaces numbers and 'bed' with empty string\n",
    "        return re.sub(r'\\d+', '', x.replace('bed', '')).strip()\n",
    "    else:\n",
    "        return np.nan\n",
    "\n",
    "df_clean['house_type'] = df_raw['house_type'].apply(clean_house_type)\n",
    "df_clean['house_type']"
   ]
  },
  {
   "cell_type": "code",
   "execution_count": 10,
   "id": "45c9e084",
   "metadata": {},
   "outputs": [
    {
     "name": "stdout",
     "output_type": "stream",
     "text": [
      "<class 'pandas.core.series.Series'>\n",
      "RangeIndex: 5189 entries, 0 to 5188\n",
      "Series name: house_type\n",
      "Non-Null Count  Dtype \n",
      "--------------  ----- \n",
      "5092 non-null   object\n",
      "dtypes: object(1)\n",
      "memory usage: 40.7+ KB\n"
     ]
    }
   ],
   "source": [
    "df_clean['house_type'].info()"
   ]
  },
  {
   "cell_type": "code",
   "execution_count": 11,
   "id": "53411a86",
   "metadata": {},
   "outputs": [
    {
     "data": {
      "text/plain": [
       "array(['flat', 'terraced house', nan, 'maisonette', 'semi-detached house',\n",
       "       'lodge', 'studio', 'property', 'town house', 'bungalow',\n",
       "       'end terrace house', 'detached house', 'semi-detached bungalow',\n",
       "       'parking/garage', 'cottage', 'detached bungalow', 'land',\n",
       "       'block of flats', 'mews house', 'mobile/park home',\n",
       "       'barn conversion', 'link-detached house', 'farmhouse', 'houseboat',\n",
       "       'shared accommodation', 'terraced bungalow', 'penthouse',\n",
       "       'country house', 'equestrian property', 'room'], dtype=object)"
      ]
     },
     "execution_count": 11,
     "metadata": {},
     "output_type": "execute_result"
    }
   ],
   "source": [
    "df_clean['house_type'].unique()"
   ]
  },
  {
   "cell_type": "markdown",
   "id": "f644ccde",
   "metadata": {},
   "source": [
    "### Number of Bedrooms"
   ]
  },
  {
   "cell_type": "code",
   "execution_count": 12,
   "id": "2fe20c69",
   "metadata": {},
   "outputs": [
    {
     "name": "stdout",
     "output_type": "stream",
     "text": [
      "<class 'pandas.core.series.Series'>\n",
      "RangeIndex: 5189 entries, 0 to 5188\n",
      "Series name: number_of_bedrooms\n",
      "Non-Null Count  Dtype  \n",
      "--------------  -----  \n",
      "4920 non-null   float64\n",
      "dtypes: float64(1)\n",
      "memory usage: 40.7 KB\n"
     ]
    },
    {
     "data": {
      "text/plain": [
       "array([ 2.,  1.,  3., nan,  4.,  6.,  5.,  9.,  8.,  7., 14., 12., 30.,\n",
       "       11., 50., 10., 15.])"
      ]
     },
     "execution_count": 12,
     "metadata": {},
     "output_type": "execute_result"
    }
   ],
   "source": [
    "# Remove all non-digit characters but keep space between numbers\n",
    "df_clean['number_of_bedrooms'] = df_raw['number_of_bedrooms'].str.replace(r'\\D+', ' ', regex=True).str.strip()\n",
    "\n",
    "# Convert to numbers and handle errors by converting them to NaN\n",
    "df_clean['number_of_bedrooms'] = pd.to_numeric(df_clean['number_of_bedrooms'], errors='coerce')\n",
    "\n",
    "df_clean['number_of_bedrooms'].info()\n",
    "df_clean['number_of_bedrooms'].unique()"
   ]
  },
  {
   "cell_type": "markdown",
   "id": "5e53d54d",
   "metadata": {},
   "source": [
    "### Number of Bathrooms"
   ]
  },
  {
   "cell_type": "code",
   "execution_count": 13,
   "id": "7a944506",
   "metadata": {},
   "outputs": [
    {
     "name": "stdout",
     "output_type": "stream",
     "text": [
      "<class 'pandas.core.series.Series'>\n",
      "RangeIndex: 5189 entries, 0 to 5188\n",
      "Series name: number_of_bathrooms\n",
      "Non-Null Count  Dtype  \n",
      "--------------  -----  \n",
      "4791 non-null   float64\n",
      "dtypes: float64(1)\n",
      "memory usage: 40.7 KB\n"
     ]
    },
    {
     "data": {
      "text/plain": [
       "array([ 1., nan,  2.,  3.,  4.,  9.,  7.,  6., 14.,  5., 12., 24.,  8.])"
      ]
     },
     "execution_count": 13,
     "metadata": {},
     "output_type": "execute_result"
    }
   ],
   "source": [
    "# Remove all non-digit characters but keep space between numbers\n",
    "df_clean['number_of_bathrooms'] = df_raw['number_of_bathrooms'].str.replace(r'\\D+', ' ', regex=True).str.strip()\n",
    "\n",
    "# Convert to numbers and handle errors by converting them to NaN\n",
    "df_clean['number_of_bathrooms'] = pd.to_numeric(df_clean['number_of_bathrooms'], errors='coerce')\n",
    "\n",
    "df_clean['number_of_bathrooms'].info()\n",
    "df_clean['number_of_bathrooms'].unique()"
   ]
  },
  {
   "cell_type": "markdown",
   "id": "d1507914",
   "metadata": {},
   "source": [
    "### Number of Receptions"
   ]
  },
  {
   "cell_type": "code",
   "execution_count": 14,
   "id": "232e956f",
   "metadata": {},
   "outputs": [
    {
     "name": "stdout",
     "output_type": "stream",
     "text": [
      "<class 'pandas.core.series.Series'>\n",
      "RangeIndex: 5189 entries, 0 to 5188\n",
      "Series name: number_of_receptions\n",
      "Non-Null Count  Dtype  \n",
      "--------------  -----  \n",
      "4630 non-null   float64\n",
      "dtypes: float64(1)\n",
      "memory usage: 40.7 KB\n"
     ]
    },
    {
     "data": {
      "text/plain": [
       "array([ 1., nan,  2.,  3.,  4.,  5.,  6., 23.,  8.])"
      ]
     },
     "execution_count": 14,
     "metadata": {},
     "output_type": "execute_result"
    }
   ],
   "source": [
    "# Remove all non-digit characters but keep space between numbers\n",
    "df_clean['number_of_receptions'] = df_raw['number_of_receptions'].str.replace(r'\\D+', ' ', regex=True).str.strip()\n",
    "\n",
    "# Convert to numbers and handle errors by converting them to NaN\n",
    "df_clean['number_of_receptions'] = pd.to_numeric(df_clean['number_of_receptions'], errors='coerce')\n",
    "\n",
    "df_clean['number_of_receptions'].info()\n",
    "df_clean['number_of_receptions'].unique()"
   ]
  },
  {
   "cell_type": "markdown",
   "id": "9dcdb966",
   "metadata": {},
   "source": [
    "### Other Features"
   ]
  },
  {
   "cell_type": "code",
   "execution_count": 15,
   "id": "ee6c216a",
   "metadata": {},
   "outputs": [
    {
     "name": "stdout",
     "output_type": "stream",
     "text": [
      "<class 'pandas.core.series.Series'>\n",
      "RangeIndex: 5189 entries, 0 to 5188\n",
      "Series name: other_features\n",
      "Non-Null Count  Dtype  \n",
      "--------------  -----  \n",
      "303 non-null    float64\n",
      "dtypes: float64(1)\n",
      "memory usage: 40.7 KB\n"
     ]
    },
    {
     "name": "stderr",
     "output_type": "stream",
     "text": [
      "C:\\Users\\kenim\\AppData\\Local\\Temp\\ipykernel_8492\\2544293961.py:4: FutureWarning: The default value of regex will change from True to False in a future version.\n",
      "  df_clean['other_features'] = pd.to_numeric(df_clean['other_features'].str.replace('sq. ft', '').str.replace(',', ''),\n"
     ]
    },
    {
     "data": {
      "text/plain": [
       "array([       nan, 1.2050e+03, 6.2400e+02, 1.2250e+03, 7.5300e+02,\n",
       "       1.0700e+03, 7.4800e+02, 9.1200e+02, 5.4900e+02, 8.1800e+02,\n",
       "       5.4000e+02, 7.3500e+02, 1.7860e+03, 8.3900e+02, 1.3340e+03,\n",
       "       1.5170e+03, 1.4230e+03, 6.7400e+02, 8.0700e+02, 1.0110e+03,\n",
       "       5.9200e+02, 4.9500e+02, 6.4500e+02, 9.0400e+02, 1.4570e+03,\n",
       "       9.5000e+02, 6.1400e+02, 2.5400e+03, 9.3000e+02, 1.2180e+03,\n",
       "       1.1950e+03, 1.0770e+03, 1.0740e+03, 1.1310e+03, 6.6300e+02,\n",
       "       8.4800e+02, 1.2960e+03, 1.0980e+03, 6.7800e+02, 1.5430e+03,\n",
       "       4.6200e+02, 1.0960e+03, 1.0550e+03, 7.4300e+02, 9.1500e+02,\n",
       "       2.1550e+03, 9.9500e+02, 8.0000e+02, 3.2470e+03, 1.3500e+03,\n",
       "       1.7830e+03, 1.3250e+03, 4.6000e+02, 3.9200e+02, 4.3800e+02,\n",
       "       6.6000e+02, 4.6900e+02, 3.9600e+02, 1.3780e+03, 1.2060e+03,\n",
       "       5.0600e+02, 9.6900e+02, 1.7330e+03, 1.1840e+03, 8.5000e+02,\n",
       "       1.3240e+03, 1.2810e+03, 2.1740e+03, 9.3600e+02, 9.9000e+02,\n",
       "       1.1410e+03, 1.3030e+03, 4.1700e+02, 1.5310e+03, 1.1520e+03,\n",
       "       6.5700e+02, 5.3800e+02, 1.2590e+03, 6.4600e+02, 3.3400e+02,\n",
       "       5.0900e+02, 4.8400e+02, 7.8600e+02, 1.0000e+03, 9.5700e+02,\n",
       "       7.9600e+02, 4.3000e+02, 5.6200e+02, 7.2100e+02, 5.1600e+02,\n",
       "       6.3500e+02, 1.0330e+03, 2.8860e+03, 7.1000e+02, 9.7100e+02,\n",
       "       1.6010e+03, 1.2140e+03, 2.6740e+03, 7.3100e+02, 3.0400e+02,\n",
       "       3.0900e+02, 2.4100e+02, 4.5900e+02, 8.3400e+02, 2.6190e+03,\n",
       "       2.0570e+03, 7.2500e+02, 4.2600e+02, 7.0500e+02, 3.5600e+02,\n",
       "       3.7600e+02, 1.8050e+03, 7.4400e+02, 5.6600e+02, 1.8040e+03,\n",
       "       5.4500e+02, 4.9300e+02, 3.3500e+02, 8.0300e+02, 3.7900e+03,\n",
       "       9.9400e+02, 6.7000e+02, 9.8400e+02, 1.3580e+03, 6.2000e+02,\n",
       "       1.0620e+03, 8.2200e+02, 3.8700e+02, 1.2540e+03, 2.3000e+03,\n",
       "       2.3010e+03, 8.4000e+02, 6.8000e+02, 1.4680e+03, 1.1450e+03,\n",
       "       1.1470e+03, 4.9600e+02, 7.1700e+02, 1.2780e+03, 7.8500e+02,\n",
       "       3.1100e+02, 3.5500e+02, 1.2900e+03, 7.1200e+02, 8.7300e+02,\n",
       "       1.4830e+03, 2.3100e+03, 1.1720e+03, 1.2520e+03, 5.1700e+02,\n",
       "       7.3200e+02, 8.2600e+02, 2.0840e+03, 2.2500e+03, 1.7030e+03,\n",
       "       1.5560e+03, 2.5000e+02, 1.0690e+03, 1.7900e+03, 5.1800e+02,\n",
       "       1.6250e+03, 5.9700e+02, 3.0300e+02, 1.0030e+03, 1.1460e+03,\n",
       "       1.0380e+03, 3.6500e+02, 3.5000e+02, 1.2010e+03, 6.5300e+02,\n",
       "       1.0010e+03, 8.7200e+02, 8.1500e+02, 3.0380e+03, 8.7120e+03,\n",
       "       1.2197e+04, 1.3939e+04, 1.2632e+04, 8.2760e+03, 9.2600e+02,\n",
       "       5.5900e+02, 9.5800e+02, 1.6200e+03, 5.2900e+02, 5.8100e+02,\n",
       "       1.1250e+03, 2.2710e+03, 1.3450e+03, 1.3260e+03, 6.8800e+02,\n",
       "       1.2820e+03, 1.7600e+03, 1.2700e+03, 1.2740e+03, 4.2630e+03,\n",
       "       6.5640e+03, 6.2670e+03, 2.1940e+03, 1.0347e+04, 1.0970e+03,\n",
       "       7.6400e+02, 1.8730e+03, 1.6260e+03, 1.6000e+03, 9.4700e+02,\n",
       "       1.9270e+03, 1.7440e+03, 1.0454e+04, 1.9860e+03, 1.1090e+03,\n",
       "       1.1060e+03, 1.0730e+03, 5.3900e+02, 7.5000e+02, 1.0260e+03,\n",
       "       8.1100e+02, 7.0700e+02, 6.0400e+02, 4.7300e+02, 8.3800e+02,\n",
       "       6.6800e+02, 6.5100e+02, 6.7300e+02, 8.9500e+02, 5.7100e+02,\n",
       "       8.5000e+01, 6.5400e+02, 6.2840e+03, 1.3230e+03, 3.6000e+01,\n",
       "       1.7920e+03, 1.6670e+03, 7.8000e+02, 4.3500e+02, 3.9500e+02,\n",
       "       8.6700e+02, 8.2900e+02, 4.3560e+06, 2.8220e+03, 9.5830e+03,\n",
       "       1.0280e+03, 1.2190e+03, 3.1720e+03, 1.4030e+03, 7.0900e+02,\n",
       "       1.1110e+03])"
      ]
     },
     "execution_count": 15,
     "metadata": {},
     "output_type": "execute_result"
    }
   ],
   "source": [
    "# Strip whitespace and replace empty strings with NaN\n",
    "df_clean['other_features'] = df_raw['other_features'].str.strip().where(lambda x : x != '', np.nan)\n",
    "\n",
    "df_clean['other_features'] = pd.to_numeric(df_clean['other_features'].str.replace('sq. ft', '').str.replace(',', ''), \n",
    "                                           errors='coerce')\n",
    "df_clean['other_features'].info()\n",
    "df_clean['other_features'].unique()"
   ]
  },
  {
   "cell_type": "markdown",
   "id": "07ae178b",
   "metadata": {},
   "source": [
    "### Tenure"
   ]
  },
  {
   "cell_type": "code",
   "execution_count": 16,
   "id": "0ada4e66",
   "metadata": {},
   "outputs": [
    {
     "name": "stdout",
     "output_type": "stream",
     "text": [
      "<class 'pandas.core.series.Series'>\n",
      "RangeIndex: 5189 entries, 0 to 5188\n",
      "Series name: tenure\n",
      "Non-Null Count  Dtype \n",
      "--------------  ----- \n",
      "5092 non-null   object\n",
      "dtypes: object(1)\n",
      "memory usage: 40.7+ KB\n"
     ]
    },
    {
     "data": {
      "text/plain": [
       "array(['share of freehold', 'not available', 'freehold', nan, 'leasehold',\n",
       "       'leasehold shared own', 'commonhold'], dtype=object)"
      ]
     },
     "execution_count": 16,
     "metadata": {},
     "output_type": "execute_result"
    }
   ],
   "source": [
    "# Removes whitespace and converts string to lowercase\n",
    "df_clean['tenure'] = df_raw['tenure'].str.strip().str.lower()\n",
    "df_clean['tenure'].info()\n",
    "df_clean['tenure'].unique()"
   ]
  },
  {
   "cell_type": "markdown",
   "id": "02f9fa6c",
   "metadata": {},
   "source": [
    "### Lease Time"
   ]
  },
  {
   "cell_type": "code",
   "execution_count": 17,
   "id": "931de37f",
   "metadata": {},
   "outputs": [
    {
     "name": "stdout",
     "output_type": "stream",
     "text": [
      "<class 'pandas.core.series.Series'>\n",
      "RangeIndex: 5189 entries, 0 to 5188\n",
      "Series name: lease_time\n",
      "Non-Null Count  Dtype  \n",
      "--------------  -----  \n",
      "758 non-null    float64\n",
      "dtypes: float64(1)\n",
      "memory usage: 40.7 KB\n"
     ]
    },
    {
     "data": {
      "text/plain": [
       "array([ nan, 120., 117., 110., 100., 118., 963., 945.,  99., 988., 979.,\n",
       "       942.,  97., 109., 992., 948., 113., 124.,  88., 171., 154., 114.,\n",
       "       996., 111., 104., 160., 995.,  64., 105., 969.,  90.,  89.,  86.,\n",
       "       974., 107., 180., 164., 103., 131., 125., 997.,  92., 965.,  65.,\n",
       "       138., 137., 119., 190., 982., 108., 116., 250., 132.,  63., 983.,\n",
       "        79., 121., 140.,  66., 112., 991., 102.,  55., 155.,  95., 106.,\n",
       "       958., 999.,  70.,  85.,   4.,  98., 142., 123., 150.,  62., 122.,\n",
       "       927.,  94.,  61., 950.,  91., 115.,  49., 157.,  57., 961., 170.,\n",
       "       136.,  87., 939., 985., 181., 940., 986.,  96., 169., 168.,  45.,\n",
       "       994., 135.,   2., 952.,  58., 156., 993.,  81.,  77., 145., 161.,\n",
       "        74., 964.,   1.,  82.,   5.,  60., 998., 162., 966., 149., 141.,\n",
       "       899., 935., 957., 127., 989., 126., 943., 167., 230.,  52.,  10.,\n",
       "        47., 147., 151., 936.,  83., 176., 165., 248., 143., 249.,  71.,\n",
       "       981.,  53., 984.,  93., 139., 133., 130.,  67., 962., 101., 944.,\n",
       "       990., 946., 977., 976., 980., 978.,  84., 934., 325., 144.,  80.,\n",
       "       967., 153., 179., 199., 938.,  16.,  19.,  11.,  29.,  26.,  32.,\n",
       "        15.,  17.,  24.,  40.,  30.,  20.,  12.,   8., 930., 148., 968.,\n",
       "       152., 954., 244., 166.,  69., 937., 971.,   3., 163., 243., 159.])"
      ]
     },
     "execution_count": 17,
     "metadata": {},
     "output_type": "execute_result"
    }
   ],
   "source": [
    "# Removes whitespace and 'years' and converts column to number\n",
    "df_clean['lease_time'] = pd.to_numeric(df_raw['lease_time'].str.replace(r'\\D+', ' ', regex=True).str.strip(), errors='coerce')\n",
    "df_clean['lease_time'].info()\n",
    "df_clean['lease_time'].unique()"
   ]
  },
  {
   "cell_type": "markdown",
   "id": "3b340338",
   "metadata": {},
   "source": [
    "### Service Charge"
   ]
  },
  {
   "cell_type": "code",
   "execution_count": 18,
   "id": "4061d2e7",
   "metadata": {},
   "outputs": [
    {
     "name": "stdout",
     "output_type": "stream",
     "text": [
      "<class 'pandas.core.series.Series'>\n",
      "RangeIndex: 5189 entries, 0 to 5188\n",
      "Series name: service_charge\n",
      "Non-Null Count  Dtype \n",
      "--------------  ----- \n",
      "1614 non-null   object\n",
      "dtypes: object(1)\n",
      "memory usage: 40.7+ KB\n"
     ]
    },
    {
     "data": {
      "text/plain": [
       "array(['1100', nan, 'Not available', '254', '1412', '1200', '1254',\n",
       "       '3560', '600', '1320', '3792', '1424', '1034', '1000', '1274',\n",
       "       '2560', '1135', '2608', '720', '1375', '2775', '2220', '250',\n",
       "       '300', '2600', '651', '1564', '1330', '3540', '2974', '840',\n",
       "       '1781', '1080', '4333', '1126', '2326', '1788', '2080', '1210',\n",
       "       '1404', '3952', '2240', '1668', '1017', '480', '1778', '1716',\n",
       "       '543', '1360', '1280', '4167', '900', '1500', '3800', '3387',\n",
       "       '1600', '260', '3332', '1700', '284', '3252', '2686', '764',\n",
       "       '2500', '943', '2097', '8130', '1300', '867', '3161', '1640',\n",
       "       '918', '2204', '50', '1132', '110', '9988', '1514', '84',\n",
       "       '1 years', '1398', '1062', '1750', '115', '999', '1896', '1685',\n",
       "       '758', '425', '2200', '850', '1800', '1095', '500', '725', '4038',\n",
       "       '1400', '1442', '8126', '5000', '2392', '3999', '2800', '2519',\n",
       "       '4382', '2620', '2000', '1969', '4376', '2260', '7044', '140',\n",
       "       '3600', '2300', '3737', '859', '800', '4154', '3295', '3293',\n",
       "       '1020', '8266', '2750', '2002', '1263', '632', '4000', '2278',\n",
       "       '1609', '3000', '2945', '3239', '1228', '3292', '7187', '2543',\n",
       "       '4860', '4600', '712 per quarter', '4016', '640', '3069', '2277',\n",
       "       '2354', '894', '2962', '3025', '5822', '9718', '1950', '2772',\n",
       "       '6000', '2081', '4559', '3630', '1724', '1224', '1056', '5216',\n",
       "       '2400', '1846', '1684', '6920', '4100', '2496', '1260', '504',\n",
       "       '1363', '594', '2680', '2687', '3080', '378', '2900', '2764',\n",
       "       '375', '1673', '125', '1880', '1748', '3125', '1992', '10', '1648',\n",
       "       '1540', '795', '2022', '997', '930', '1390', '750', '2640', '5200',\n",
       "       '926', '2090', '85', '1225', '1603', '849', '5476', '2593', '3664',\n",
       "       '1258', '950', '1633', '1860', '2842', '4436', '1987', '3200',\n",
       "       '1573', '4400', '888', '10800', '100', '1474', '1160', '360',\n",
       "       '1476', '1414', '1417', '3624', '1587', '1665', '552', '350',\n",
       "       '1334', '1388', '685', '1646', '1294', '559', '2430', '1985',\n",
       "       '135', '1870', '4800', '3422', '1341', '400', '1356', '2697',\n",
       "       '2223', '993', '2261', '1949', '2225', '2751', '2250', '1951',\n",
       "       '7497', '336', '1984', '4642', '1620', '2106', '2474', '2755',\n",
       "       '5276', '1922', '1900', '2150', '2727', '1873', '3489', '920',\n",
       "       '2932', '1865', '1872', '1296', '60', '991', '992', '3216', '1814',\n",
       "       '27', '1130', '1560', '3322', '3048', '2544', '2112', '3584',\n",
       "       '1962', '3242', '5211', '3053', '4071', '2760', '3266', '1490',\n",
       "       '3500', '618', '1680', '1450', '2136', '3688', '2895', '5411',\n",
       "       '5300', '1211', '3370', '3732', '2019', '3050', '1350', '4125',\n",
       "       '3881', '5469', '2180', '4968', '3824', '7595', '9500', '1943',\n",
       "       '9745', '8325', '1170', '1980', '960', '40', '2004', '2880',\n",
       "       '2956', '5441', '1941', '3525', '2517', '1235', '2791', '700',\n",
       "       '1429', '2586', '2385', '9000', '616', '2624', '1180', '2535',\n",
       "       '2295', '1835', '1466', '947', '1040', '2100', '2064', '3572',\n",
       "       '1410', '4039', '3120', '1584', '3100', '2622', '917', '1561',\n",
       "       '5142', '5614', '4271', '1125', '964', '3479', '736', '11406',\n",
       "       '120', '2368', '1025', '2968', '4704', '880', '3783', '3700',\n",
       "       '3790', '1250', '4446', '1290', '4689'], dtype=object)"
      ]
     },
     "execution_count": 18,
     "metadata": {},
     "output_type": "execute_result"
    }
   ],
   "source": [
    "# removes '£', ',' and 'per year' from string \n",
    "df_clean['service_charge'] = (df_raw['service_charge'].str.replace('£', '').str.replace('per year', '')\n",
    "                              .str.replace(',', '').str.replace('per month', '').str.strip())\n",
    "df_clean['service_charge'].info()\n",
    "df_clean['service_charge'].unique()"
   ]
  },
  {
   "cell_type": "markdown",
   "id": "1425bf7a",
   "metadata": {},
   "source": [
    "### Tax Band"
   ]
  },
  {
   "cell_type": "code",
   "execution_count": 19,
   "id": "dd77d484",
   "metadata": {},
   "outputs": [
    {
     "name": "stdout",
     "output_type": "stream",
     "text": [
      "<class 'pandas.core.series.Series'>\n",
      "RangeIndex: 5189 entries, 0 to 5188\n",
      "Series name: tax_band\n",
      "Non-Null Count  Dtype \n",
      "--------------  ----- \n",
      "5092 non-null   object\n",
      "dtypes: object(1)\n",
      "memory usage: 40.7+ KB\n"
     ]
    },
    {
     "data": {
      "text/plain": [
       "array(['A', 'Not available', 'C', nan, 'D',\n",
       "       'A band has not yet been confirmed.', 'F', 'B', 'E', 'G',\n",
       "       'New build', 'H', 'A band has not yet been assigned',\n",
       "       'The property is not currently residential so does not pay council tax. Once the build is complete, the property will need to be assessed for rates.',\n",
       "       'Leisure Mooring', 'a band has not been assigned yet',\n",
       "       'A band has not been assigned', 'caravan', 'Holiday Homes'],\n",
       "      dtype=object)"
      ]
     },
     "execution_count": 19,
     "metadata": {},
     "output_type": "execute_result"
    }
   ],
   "source": [
    "df_clean['tax_band'] = df_raw['tax_band'].str.strip()\n",
    "df_clean['tax_band'].info()\n",
    "df_clean['tax_band'].unique()"
   ]
  },
  {
   "cell_type": "markdown",
   "id": "c6b70f4b",
   "metadata": {},
   "source": [
    "### Ground Rent"
   ]
  },
  {
   "cell_type": "code",
   "execution_count": 20,
   "id": "8a023e9c",
   "metadata": {},
   "outputs": [
    {
     "name": "stdout",
     "output_type": "stream",
     "text": [
      "<class 'pandas.core.series.Series'>\n",
      "RangeIndex: 5189 entries, 0 to 5188\n",
      "Series name: ground_rent\n",
      "Non-Null Count  Dtype \n",
      "--------------  ----- \n",
      "1606 non-null   object\n",
      "dtypes: object(1)\n",
      "memory usage: 40.7+ KB\n"
     ]
    },
    {
     "data": {
      "text/plain": [
       "array(['Not available', nan, '175', '48', '200', '250', '150', '400',\n",
       "       '100', '195', '10', '80', '280', '125', '350', '75', '25', '1',\n",
       "       '120', '330', '60', '657', '169', '0', '50', '300', '820', '145',\n",
       "       '385', '455', '434', '274', '206', '307', '93', '435', '13', '410',\n",
       "       '360', '165', '7', '220', '510', '15', '20', '218', '365', '160',\n",
       "       '140', '550', '950', '816', '439', '225', '440', '27', '418',\n",
       "       '1848', '331', '30', '63', '179', '189', '95', '180', '472', '425',\n",
       "       '500', '1107', '240', '389', '213', '450', '70', '582', '236',\n",
       "       '285', '9745', '9695', '7595', '57', '190', '465', '38', '40',\n",
       "       '45', '462', '580', '90', '513', '2472', '520'], dtype=object)"
      ]
     },
     "execution_count": 20,
     "metadata": {},
     "output_type": "execute_result"
    }
   ],
   "source": [
    "# removes '£', ',' and 'per month' from string\n",
    "df_clean['ground_rent'] = (df_raw['ground_rent'].str.replace('£' , '').str.replace(',' , '')\n",
    "                           .str.replace('per month', '').str.strip())\n",
    "df_clean['ground_rent'].info()\n",
    "df_clean['ground_rent'].unique()"
   ]
  },
  {
   "cell_type": "markdown",
   "id": "114cc049",
   "metadata": {},
   "source": [
    "### Commonhold Details"
   ]
  },
  {
   "cell_type": "code",
   "execution_count": 21,
   "id": "8d37ac5b",
   "metadata": {},
   "outputs": [
    {
     "name": "stdout",
     "output_type": "stream",
     "text": [
      "<class 'pandas.core.series.Series'>\n",
      "RangeIndex: 5189 entries, 0 to 5188\n",
      "Series name: commonhold_details\n",
      "Non-Null Count  Dtype \n",
      "--------------  ----- \n",
      "426 non-null    object\n",
      "dtypes: object(1)\n",
      "memory usage: 40.7+ KB\n"
     ]
    },
    {
     "data": {
      "text/plain": [
       "array(['Not available', nan], dtype=object)"
      ]
     },
     "execution_count": 21,
     "metadata": {},
     "output_type": "execute_result"
    }
   ],
   "source": [
    "df_raw['commonhold_details'].info()\n",
    "df_raw['commonhold_details'].unique()"
   ]
  },
  {
   "cell_type": "markdown",
   "id": "42cb4fbb",
   "metadata": {},
   "source": [
    "### Points of Interest"
   ]
  },
  {
   "cell_type": "code",
   "execution_count": 22,
   "id": "6f452992",
   "metadata": {
    "scrolled": false
   },
   "outputs": [
    {
     "data": {
      "text/plain": [
       "'London Road (Brighton)\\n0.1 miles,Bellerbys College Brighton\\n0.2 miles,Downs Infant School\\n0.3 miles,Brighton\\n0.4 miles'"
      ]
     },
     "execution_count": 22,
     "metadata": {},
     "output_type": "execute_result"
    }
   ],
   "source": [
    "df_raw['points_of_interest'][0]"
   ]
  },
  {
   "cell_type": "code",
   "execution_count": 23,
   "id": "d6c0a633",
   "metadata": {},
   "outputs": [
    {
     "data": {
      "text/plain": [
       "count                                                  5092\n",
       "unique                                                 3267\n",
       "top       St Andrew's CofE (Aided) Primary School\\n0.5 m...\n",
       "freq                                                     33\n",
       "Name: points_of_interest, dtype: object"
      ]
     },
     "execution_count": 23,
     "metadata": {},
     "output_type": "execute_result"
    }
   ],
   "source": [
    "df_raw['points_of_interest'].describe()"
   ]
  },
  {
   "cell_type": "code",
   "execution_count": 24,
   "id": "18959582",
   "metadata": {},
   "outputs": [
    {
     "data": {
      "text/html": [
       "<div>\n",
       "<style scoped>\n",
       "    .dataframe tbody tr th:only-of-type {\n",
       "        vertical-align: middle;\n",
       "    }\n",
       "\n",
       "    .dataframe tbody tr th {\n",
       "        vertical-align: top;\n",
       "    }\n",
       "\n",
       "    .dataframe thead th {\n",
       "        text-align: right;\n",
       "    }\n",
       "</style>\n",
       "<table border=\"1\" class=\"dataframe\">\n",
       "  <thead>\n",
       "    <tr style=\"text-align: right;\">\n",
       "      <th></th>\n",
       "      <th>property_id</th>\n",
       "      <th>points_of_interest</th>\n",
       "    </tr>\n",
       "  </thead>\n",
       "  <tbody>\n",
       "    <tr>\n",
       "      <th>0</th>\n",
       "      <td>1</td>\n",
       "      <td>[London Road (Brighton)\\n0.1 miles, Bellerbys ...</td>\n",
       "    </tr>\n",
       "    <tr>\n",
       "      <th>1</th>\n",
       "      <td>2</td>\n",
       "      <td>[Middle Street Primary School\\n0.1 miles, St P...</td>\n",
       "    </tr>\n",
       "    <tr>\n",
       "      <th>2</th>\n",
       "      <td>3</td>\n",
       "      <td>[Carden Nursery and Primary School\\n0.3 miles,...</td>\n",
       "    </tr>\n",
       "    <tr>\n",
       "      <th>3</th>\n",
       "      <td>4</td>\n",
       "      <td>NaN</td>\n",
       "    </tr>\n",
       "    <tr>\n",
       "      <th>4</th>\n",
       "      <td>5</td>\n",
       "      <td>[London Road (Brighton)\\n0.1 miles, Downs Infa...</td>\n",
       "    </tr>\n",
       "    <tr>\n",
       "      <th>...</th>\n",
       "      <td>...</td>\n",
       "      <td>...</td>\n",
       "    </tr>\n",
       "    <tr>\n",
       "      <th>5184</th>\n",
       "      <td>5185</td>\n",
       "      <td>[Lewes Old Grammar School\\n0.3 miles, Lewes\\n0...</td>\n",
       "    </tr>\n",
       "    <tr>\n",
       "      <th>5185</th>\n",
       "      <td>5186</td>\n",
       "      <td>[South Malling CofE Primary and Nursery School...</td>\n",
       "    </tr>\n",
       "    <tr>\n",
       "      <th>5186</th>\n",
       "      <td>5187</td>\n",
       "      <td>[Priory School\\n0.4 miles, Lewes\\n0.4 miles, S...</td>\n",
       "    </tr>\n",
       "    <tr>\n",
       "      <th>5187</th>\n",
       "      <td>5188</td>\n",
       "      <td>[Priory School\\n0.3 miles, Lewes\\n0.4 miles, W...</td>\n",
       "    </tr>\n",
       "    <tr>\n",
       "      <th>5188</th>\n",
       "      <td>5189</td>\n",
       "      <td>[Priory School\\n0.3 miles, Lewes\\n0.3 miles, W...</td>\n",
       "    </tr>\n",
       "  </tbody>\n",
       "</table>\n",
       "<p>5189 rows × 2 columns</p>\n",
       "</div>"
      ],
      "text/plain": [
       "      property_id                                 points_of_interest\n",
       "0               1  [London Road (Brighton)\\n0.1 miles, Bellerbys ...\n",
       "1               2  [Middle Street Primary School\\n0.1 miles, St P...\n",
       "2               3  [Carden Nursery and Primary School\\n0.3 miles,...\n",
       "3               4                                                NaN\n",
       "4               5  [London Road (Brighton)\\n0.1 miles, Downs Infa...\n",
       "...           ...                                                ...\n",
       "5184         5185  [Lewes Old Grammar School\\n0.3 miles, Lewes\\n0...\n",
       "5185         5186  [South Malling CofE Primary and Nursery School...\n",
       "5186         5187  [Priory School\\n0.4 miles, Lewes\\n0.4 miles, S...\n",
       "5187         5188  [Priory School\\n0.3 miles, Lewes\\n0.4 miles, W...\n",
       "5188         5189  [Priory School\\n0.3 miles, Lewes\\n0.3 miles, W...\n",
       "\n",
       "[5189 rows x 2 columns]"
      ]
     },
     "execution_count": 24,
     "metadata": {},
     "output_type": "execute_result"
    }
   ],
   "source": [
    "df_info = df_raw[['property_id','points_of_interest']].copy()\n",
    "df_info['points_of_interest'] = df_info['points_of_interest'].str.split(',')\n",
    "df_info"
   ]
  },
  {
   "cell_type": "code",
   "execution_count": 25,
   "id": "d09d0919",
   "metadata": {},
   "outputs": [
    {
     "data": {
      "text/html": [
       "<div>\n",
       "<style scoped>\n",
       "    .dataframe tbody tr th:only-of-type {\n",
       "        vertical-align: middle;\n",
       "    }\n",
       "\n",
       "    .dataframe tbody tr th {\n",
       "        vertical-align: top;\n",
       "    }\n",
       "\n",
       "    .dataframe thead th {\n",
       "        text-align: right;\n",
       "    }\n",
       "</style>\n",
       "<table border=\"1\" class=\"dataframe\">\n",
       "  <thead>\n",
       "    <tr style=\"text-align: right;\">\n",
       "      <th></th>\n",
       "      <th>property_id</th>\n",
       "      <th>points_of_interest</th>\n",
       "      <th>length</th>\n",
       "    </tr>\n",
       "  </thead>\n",
       "  <tbody>\n",
       "    <tr>\n",
       "      <th>5159</th>\n",
       "      <td>5160</td>\n",
       "      <td>[Lewes\\n0.1 miles, Western Road Community Prim...</td>\n",
       "      <td>4</td>\n",
       "    </tr>\n",
       "    <tr>\n",
       "      <th>5160</th>\n",
       "      <td>5161</td>\n",
       "      <td>[Lewes\\n0.2 miles, Priory School\\n0.3 miles, W...</td>\n",
       "      <td>4</td>\n",
       "    </tr>\n",
       "    <tr>\n",
       "      <th>5161</th>\n",
       "      <td>5162</td>\n",
       "      <td>[Wallands Community Primary School\\n0.2 miles,...</td>\n",
       "      <td>4</td>\n",
       "    </tr>\n",
       "    <tr>\n",
       "      <th>5162</th>\n",
       "      <td>5163</td>\n",
       "      <td>[Lewes Old Grammar School\\n0.2 miles, Western ...</td>\n",
       "      <td>4</td>\n",
       "    </tr>\n",
       "    <tr>\n",
       "      <th>5163</th>\n",
       "      <td>5164</td>\n",
       "      <td>[Priory School\\n0.3 miles, Lewes\\n0.4 miles, S...</td>\n",
       "      <td>4</td>\n",
       "    </tr>\n",
       "    <tr>\n",
       "      <th>5164</th>\n",
       "      <td>5165</td>\n",
       "      <td>[Wallands Community Primary School\\n0.2 miles,...</td>\n",
       "      <td>4</td>\n",
       "    </tr>\n",
       "    <tr>\n",
       "      <th>5165</th>\n",
       "      <td>5166</td>\n",
       "      <td>[Lewes\\n0.1 miles, Priory School\\n0.3 miles, W...</td>\n",
       "      <td>4</td>\n",
       "    </tr>\n",
       "    <tr>\n",
       "      <th>5166</th>\n",
       "      <td>5167</td>\n",
       "      <td>[South Malling CofE Primary and Nursery School...</td>\n",
       "      <td>4</td>\n",
       "    </tr>\n",
       "    <tr>\n",
       "      <th>5167</th>\n",
       "      <td>5168</td>\n",
       "      <td>[Hamsey Community Primary School\\n1.3 miles, C...</td>\n",
       "      <td>4</td>\n",
       "    </tr>\n",
       "    <tr>\n",
       "      <th>5168</th>\n",
       "      <td>5169</td>\n",
       "      <td>[Western Road Community Primary School\\n0 mile...</td>\n",
       "      <td>4</td>\n",
       "    </tr>\n",
       "    <tr>\n",
       "      <th>5169</th>\n",
       "      <td>5170</td>\n",
       "      <td>[Priory School\\n0.4 miles, Lewes\\n0.4 miles, S...</td>\n",
       "      <td>4</td>\n",
       "    </tr>\n",
       "    <tr>\n",
       "      <th>5170</th>\n",
       "      <td>5171</td>\n",
       "      <td>[Wallands Community Primary School\\n0.4 miles,...</td>\n",
       "      <td>4</td>\n",
       "    </tr>\n",
       "    <tr>\n",
       "      <th>5171</th>\n",
       "      <td>5172</td>\n",
       "      <td>[South Malling CofE Primary and Nursery School...</td>\n",
       "      <td>4</td>\n",
       "    </tr>\n",
       "    <tr>\n",
       "      <th>5172</th>\n",
       "      <td>5173</td>\n",
       "      <td>[Owlswick School (SEN)\\n0.4 miles, Iford and K...</td>\n",
       "      <td>4</td>\n",
       "    </tr>\n",
       "    <tr>\n",
       "      <th>5173</th>\n",
       "      <td>5174</td>\n",
       "      <td>[South Malling CofE Primary and Nursery School...</td>\n",
       "      <td>4</td>\n",
       "    </tr>\n",
       "    <tr>\n",
       "      <th>5174</th>\n",
       "      <td>5175</td>\n",
       "      <td>[St Pancras Catholic Primary School\\n0.1 miles...</td>\n",
       "      <td>4</td>\n",
       "    </tr>\n",
       "    <tr>\n",
       "      <th>5175</th>\n",
       "      <td>5176</td>\n",
       "      <td>[St Pancras Catholic Primary School\\n0.3 miles...</td>\n",
       "      <td>4</td>\n",
       "    </tr>\n",
       "    <tr>\n",
       "      <th>5176</th>\n",
       "      <td>5177</td>\n",
       "      <td>[St Pancras Catholic Primary School\\n0.3 miles...</td>\n",
       "      <td>4</td>\n",
       "    </tr>\n",
       "    <tr>\n",
       "      <th>5177</th>\n",
       "      <td>5178</td>\n",
       "      <td>[Plumpton Primary School\\n0.1 miles, Plumpton\\...</td>\n",
       "      <td>4</td>\n",
       "    </tr>\n",
       "    <tr>\n",
       "      <th>5178</th>\n",
       "      <td>5179</td>\n",
       "      <td>[Lewes Old Grammar School\\n0.2 miles, Lewes\\n0...</td>\n",
       "      <td>4</td>\n",
       "    </tr>\n",
       "    <tr>\n",
       "      <th>5179</th>\n",
       "      <td>5180</td>\n",
       "      <td>[South Malling CofE Primary and Nursery School...</td>\n",
       "      <td>4</td>\n",
       "    </tr>\n",
       "    <tr>\n",
       "      <th>5180</th>\n",
       "      <td>5181</td>\n",
       "      <td>[Plumpton\\n0.4 miles, Plumpton Primary School\\...</td>\n",
       "      <td>4</td>\n",
       "    </tr>\n",
       "    <tr>\n",
       "      <th>5181</th>\n",
       "      <td>5182</td>\n",
       "      <td>[Chailey School\\n1.3 miles, Plumpton Primary S...</td>\n",
       "      <td>4</td>\n",
       "    </tr>\n",
       "    <tr>\n",
       "      <th>5182</th>\n",
       "      <td>5183</td>\n",
       "      <td>[Western Road Community Primary School\\n0.1 mi...</td>\n",
       "      <td>4</td>\n",
       "    </tr>\n",
       "    <tr>\n",
       "      <th>5183</th>\n",
       "      <td>5184</td>\n",
       "      <td>[Lewes\\n0.1 miles, Western Road Community Prim...</td>\n",
       "      <td>4</td>\n",
       "    </tr>\n",
       "    <tr>\n",
       "      <th>5184</th>\n",
       "      <td>5185</td>\n",
       "      <td>[Lewes Old Grammar School\\n0.3 miles, Lewes\\n0...</td>\n",
       "      <td>4</td>\n",
       "    </tr>\n",
       "    <tr>\n",
       "      <th>5185</th>\n",
       "      <td>5186</td>\n",
       "      <td>[South Malling CofE Primary and Nursery School...</td>\n",
       "      <td>4</td>\n",
       "    </tr>\n",
       "    <tr>\n",
       "      <th>5186</th>\n",
       "      <td>5187</td>\n",
       "      <td>[Priory School\\n0.4 miles, Lewes\\n0.4 miles, S...</td>\n",
       "      <td>4</td>\n",
       "    </tr>\n",
       "    <tr>\n",
       "      <th>5187</th>\n",
       "      <td>5188</td>\n",
       "      <td>[Priory School\\n0.3 miles, Lewes\\n0.4 miles, W...</td>\n",
       "      <td>4</td>\n",
       "    </tr>\n",
       "    <tr>\n",
       "      <th>5188</th>\n",
       "      <td>5189</td>\n",
       "      <td>[Priory School\\n0.3 miles, Lewes\\n0.3 miles, W...</td>\n",
       "      <td>4</td>\n",
       "    </tr>\n",
       "  </tbody>\n",
       "</table>\n",
       "</div>"
      ],
      "text/plain": [
       "      property_id                                 points_of_interest  length\n",
       "5159         5160  [Lewes\\n0.1 miles, Western Road Community Prim...       4\n",
       "5160         5161  [Lewes\\n0.2 miles, Priory School\\n0.3 miles, W...       4\n",
       "5161         5162  [Wallands Community Primary School\\n0.2 miles,...       4\n",
       "5162         5163  [Lewes Old Grammar School\\n0.2 miles, Western ...       4\n",
       "5163         5164  [Priory School\\n0.3 miles, Lewes\\n0.4 miles, S...       4\n",
       "5164         5165  [Wallands Community Primary School\\n0.2 miles,...       4\n",
       "5165         5166  [Lewes\\n0.1 miles, Priory School\\n0.3 miles, W...       4\n",
       "5166         5167  [South Malling CofE Primary and Nursery School...       4\n",
       "5167         5168  [Hamsey Community Primary School\\n1.3 miles, C...       4\n",
       "5168         5169  [Western Road Community Primary School\\n0 mile...       4\n",
       "5169         5170  [Priory School\\n0.4 miles, Lewes\\n0.4 miles, S...       4\n",
       "5170         5171  [Wallands Community Primary School\\n0.4 miles,...       4\n",
       "5171         5172  [South Malling CofE Primary and Nursery School...       4\n",
       "5172         5173  [Owlswick School (SEN)\\n0.4 miles, Iford and K...       4\n",
       "5173         5174  [South Malling CofE Primary and Nursery School...       4\n",
       "5174         5175  [St Pancras Catholic Primary School\\n0.1 miles...       4\n",
       "5175         5176  [St Pancras Catholic Primary School\\n0.3 miles...       4\n",
       "5176         5177  [St Pancras Catholic Primary School\\n0.3 miles...       4\n",
       "5177         5178  [Plumpton Primary School\\n0.1 miles, Plumpton\\...       4\n",
       "5178         5179  [Lewes Old Grammar School\\n0.2 miles, Lewes\\n0...       4\n",
       "5179         5180  [South Malling CofE Primary and Nursery School...       4\n",
       "5180         5181  [Plumpton\\n0.4 miles, Plumpton Primary School\\...       4\n",
       "5181         5182  [Chailey School\\n1.3 miles, Plumpton Primary S...       4\n",
       "5182         5183  [Western Road Community Primary School\\n0.1 mi...       4\n",
       "5183         5184  [Lewes\\n0.1 miles, Western Road Community Prim...       4\n",
       "5184         5185  [Lewes Old Grammar School\\n0.3 miles, Lewes\\n0...       4\n",
       "5185         5186  [South Malling CofE Primary and Nursery School...       4\n",
       "5186         5187  [Priory School\\n0.4 miles, Lewes\\n0.4 miles, S...       4\n",
       "5187         5188  [Priory School\\n0.3 miles, Lewes\\n0.4 miles, W...       4\n",
       "5188         5189  [Priory School\\n0.3 miles, Lewes\\n0.3 miles, W...       4"
      ]
     },
     "execution_count": 25,
     "metadata": {},
     "output_type": "execute_result"
    }
   ],
   "source": [
    "def get_length(array):\n",
    "    \"\"\"\n",
    "    Gets the length of each array in dataframe column.\n",
    "    Returns int\n",
    "    \"\"\"\n",
    "    if isinstance(array, list):\n",
    "        return len(array)\n",
    "    else:\n",
    "        return 0\n",
    "\n",
    "df_info['length'] = df_info['points_of_interest'].apply(get_length)\n",
    "df_info.tail(30)"
   ]
  },
  {
   "cell_type": "code",
   "execution_count": 26,
   "id": "8224183a",
   "metadata": {
    "scrolled": true
   },
   "outputs": [
    {
     "data": {
      "text/plain": [
       "5189"
      ]
     },
     "execution_count": 26,
     "metadata": {},
     "output_type": "execute_result"
    }
   ],
   "source": [
    "extracted_points = []\n",
    "\n",
    "def get_info(row):\n",
    "    # Initialize dictionary with np.nan values\n",
    "    data = {\n",
    "        'property_id': row.property_id,\n",
    "        'school_1_name': np.nan,\n",
    "        'school_1_distance': np.nan,\n",
    "        'school_2_name': np.nan,\n",
    "        'school_2_distance': np.nan,\n",
    "        'train_1_name': np.nan,\n",
    "        'train_1_distance': np.nan,\n",
    "        'train_2_name': np.nan,\n",
    "        'train_2_distance': np.nan\n",
    "    }\n",
    "\n",
    "    if row.length == 4:\n",
    "        schools_found = 0\n",
    "        trains_found = 0\n",
    "        school_words = ['school', 'boys', 'girls', 'primary', 'tutorial', 'catholic', 'academy', 'college']\n",
    "\n",
    "        for info in row.points_of_interest:\n",
    "            name, distance = info.split('\\n')\n",
    "            name =  name.lower()\n",
    "            distance = float(re.sub(r'[^0-9.]', '', distance))\n",
    "            if any(sub in name for sub in school_words):\n",
    "                if schools_found == 0:\n",
    "                    data['school_1_name'] = name\n",
    "                    data['school_1_distance'] = distance\n",
    "                    schools_found += 1\n",
    "                elif schools_found == 1:\n",
    "                    data['school_2_name'] = name\n",
    "                    data['school_2_distance'] = distance\n",
    "            else:\n",
    "                if trains_found == 0:\n",
    "                    data['train_1_name'] = name\n",
    "                    data['train_1_distance'] = distance\n",
    "                    trains_found += 1\n",
    "                elif trains_found == 1:\n",
    "                    data['train_2_name'] = name\n",
    "                    data['train_2_distance'] = distance\n",
    "    \n",
    "    return data\n",
    "#     print(data)\n",
    "\n",
    "# Sample test\n",
    "# test = df_info.loc[0, :]\n",
    "# get_info(test)\n",
    "# extracted_points\n",
    "\n",
    "for row in df_info.itertuples():\n",
    "    value = get_info(row)\n",
    "    extracted_points.append(value)\n",
    "\n",
    "len(extracted_points)"
   ]
  },
  {
   "cell_type": "code",
   "execution_count": 27,
   "id": "3fc7118f",
   "metadata": {},
   "outputs": [
    {
     "data": {
      "text/html": [
       "<div>\n",
       "<style scoped>\n",
       "    .dataframe tbody tr th:only-of-type {\n",
       "        vertical-align: middle;\n",
       "    }\n",
       "\n",
       "    .dataframe tbody tr th {\n",
       "        vertical-align: top;\n",
       "    }\n",
       "\n",
       "    .dataframe thead th {\n",
       "        text-align: right;\n",
       "    }\n",
       "</style>\n",
       "<table border=\"1\" class=\"dataframe\">\n",
       "  <thead>\n",
       "    <tr style=\"text-align: right;\">\n",
       "      <th></th>\n",
       "      <th>property_id</th>\n",
       "      <th>school_1_name</th>\n",
       "      <th>school_1_distance</th>\n",
       "      <th>school_2_name</th>\n",
       "      <th>school_2_distance</th>\n",
       "      <th>train_1_name</th>\n",
       "      <th>train_1_distance</th>\n",
       "      <th>train_2_name</th>\n",
       "      <th>train_2_distance</th>\n",
       "    </tr>\n",
       "  </thead>\n",
       "  <tbody>\n",
       "    <tr>\n",
       "      <th>0</th>\n",
       "      <td>1</td>\n",
       "      <td>bellerbys college brighton</td>\n",
       "      <td>0.2</td>\n",
       "      <td>downs infant school</td>\n",
       "      <td>0.3</td>\n",
       "      <td>london road (brighton)</td>\n",
       "      <td>0.1</td>\n",
       "      <td>brighton</td>\n",
       "      <td>0.4</td>\n",
       "    </tr>\n",
       "    <tr>\n",
       "      <th>1</th>\n",
       "      <td>2</td>\n",
       "      <td>middle street primary school</td>\n",
       "      <td>0.1</td>\n",
       "      <td>st paul's cofe primary school and nursery</td>\n",
       "      <td>0.3</td>\n",
       "      <td>brighton</td>\n",
       "      <td>0.5</td>\n",
       "      <td>london road (brighton)</td>\n",
       "      <td>1.0</td>\n",
       "    </tr>\n",
       "    <tr>\n",
       "      <th>2</th>\n",
       "      <td>3</td>\n",
       "      <td>carden nursery and primary school</td>\n",
       "      <td>0.3</td>\n",
       "      <td>the dharma primary school</td>\n",
       "      <td>0.4</td>\n",
       "      <td>moulsecoomb</td>\n",
       "      <td>1.1</td>\n",
       "      <td>preston park</td>\n",
       "      <td>1.3</td>\n",
       "    </tr>\n",
       "    <tr>\n",
       "      <th>3</th>\n",
       "      <td>4</td>\n",
       "      <td>NaN</td>\n",
       "      <td>NaN</td>\n",
       "      <td>NaN</td>\n",
       "      <td>NaN</td>\n",
       "      <td>NaN</td>\n",
       "      <td>NaN</td>\n",
       "      <td>NaN</td>\n",
       "      <td>NaN</td>\n",
       "    </tr>\n",
       "    <tr>\n",
       "      <th>4</th>\n",
       "      <td>5</td>\n",
       "      <td>downs infant school</td>\n",
       "      <td>0.2</td>\n",
       "      <td>downs junior school</td>\n",
       "      <td>0.3</td>\n",
       "      <td>london road (brighton)</td>\n",
       "      <td>0.1</td>\n",
       "      <td>brighton</td>\n",
       "      <td>0.5</td>\n",
       "    </tr>\n",
       "  </tbody>\n",
       "</table>\n",
       "</div>"
      ],
      "text/plain": [
       "   property_id                      school_1_name  school_1_distance  \\\n",
       "0            1         bellerbys college brighton                0.2   \n",
       "1            2       middle street primary school                0.1   \n",
       "2            3  carden nursery and primary school                0.3   \n",
       "3            4                                NaN                NaN   \n",
       "4            5                downs infant school                0.2   \n",
       "\n",
       "                               school_2_name  school_2_distance  \\\n",
       "0                        downs infant school                0.3   \n",
       "1  st paul's cofe primary school and nursery                0.3   \n",
       "2                  the dharma primary school                0.4   \n",
       "3                                        NaN                NaN   \n",
       "4                        downs junior school                0.3   \n",
       "\n",
       "             train_1_name  train_1_distance            train_2_name  \\\n",
       "0  london road (brighton)               0.1                brighton   \n",
       "1                brighton               0.5  london road (brighton)   \n",
       "2             moulsecoomb               1.1            preston park   \n",
       "3                     NaN               NaN                     NaN   \n",
       "4  london road (brighton)               0.1                brighton   \n",
       "\n",
       "   train_2_distance  \n",
       "0               0.4  \n",
       "1               1.0  \n",
       "2               1.3  \n",
       "3               NaN  \n",
       "4               0.5  "
      ]
     },
     "execution_count": 27,
     "metadata": {},
     "output_type": "execute_result"
    }
   ],
   "source": [
    "df_info_2 = pd.DataFrame(extracted_points)\n",
    "df_info_2.head()"
   ]
  },
  {
   "cell_type": "code",
   "execution_count": 28,
   "id": "9001e672",
   "metadata": {},
   "outputs": [
    {
     "data": {
      "text/html": [
       "<div>\n",
       "<style scoped>\n",
       "    .dataframe tbody tr th:only-of-type {\n",
       "        vertical-align: middle;\n",
       "    }\n",
       "\n",
       "    .dataframe tbody tr th {\n",
       "        vertical-align: top;\n",
       "    }\n",
       "\n",
       "    .dataframe thead th {\n",
       "        text-align: right;\n",
       "    }\n",
       "</style>\n",
       "<table border=\"1\" class=\"dataframe\">\n",
       "  <thead>\n",
       "    <tr style=\"text-align: right;\">\n",
       "      <th></th>\n",
       "      <th>property_id</th>\n",
       "      <th>price</th>\n",
       "      <th>address</th>\n",
       "      <th>house_type</th>\n",
       "      <th>number_of_bedrooms</th>\n",
       "      <th>number_of_bathrooms</th>\n",
       "      <th>number_of_receptions</th>\n",
       "      <th>other_features</th>\n",
       "      <th>tenure</th>\n",
       "      <th>lease_time</th>\n",
       "      <th>...</th>\n",
       "      <th>latitude</th>\n",
       "      <th>longitude</th>\n",
       "      <th>school_1_name</th>\n",
       "      <th>school_1_distance</th>\n",
       "      <th>school_2_name</th>\n",
       "      <th>school_2_distance</th>\n",
       "      <th>train_1_name</th>\n",
       "      <th>train_1_distance</th>\n",
       "      <th>train_2_name</th>\n",
       "      <th>train_2_distance</th>\n",
       "    </tr>\n",
       "  </thead>\n",
       "  <tbody>\n",
       "    <tr>\n",
       "      <th>0</th>\n",
       "      <td>1</td>\n",
       "      <td>300000.0</td>\n",
       "      <td>Clyde Road, Brighton BN1</td>\n",
       "      <td>flat</td>\n",
       "      <td>2.0</td>\n",
       "      <td>1.0</td>\n",
       "      <td>1.0</td>\n",
       "      <td>NaN</td>\n",
       "      <td>share of freehold</td>\n",
       "      <td>NaN</td>\n",
       "      <td>...</td>\n",
       "      <td>50.834835</td>\n",
       "      <td>-0.136658</td>\n",
       "      <td>bellerbys college brighton</td>\n",
       "      <td>0.2</td>\n",
       "      <td>downs infant school</td>\n",
       "      <td>0.3</td>\n",
       "      <td>london road (brighton)</td>\n",
       "      <td>0.1</td>\n",
       "      <td>brighton</td>\n",
       "      <td>0.4</td>\n",
       "    </tr>\n",
       "    <tr>\n",
       "      <th>1</th>\n",
       "      <td>2</td>\n",
       "      <td>295000.0</td>\n",
       "      <td>North Street, Brighton BN1</td>\n",
       "      <td>flat</td>\n",
       "      <td>1.0</td>\n",
       "      <td>NaN</td>\n",
       "      <td>NaN</td>\n",
       "      <td>NaN</td>\n",
       "      <td>not available</td>\n",
       "      <td>NaN</td>\n",
       "      <td>...</td>\n",
       "      <td>50.828022</td>\n",
       "      <td>-0.136807</td>\n",
       "      <td>middle street primary school</td>\n",
       "      <td>0.1</td>\n",
       "      <td>st paul's cofe primary school and nursery</td>\n",
       "      <td>0.3</td>\n",
       "      <td>brighton</td>\n",
       "      <td>0.5</td>\n",
       "      <td>london road (brighton)</td>\n",
       "      <td>1.0</td>\n",
       "    </tr>\n",
       "    <tr>\n",
       "      <th>2</th>\n",
       "      <td>3</td>\n",
       "      <td>450000.0</td>\n",
       "      <td>Crabtree Avenue, Brighton BN1</td>\n",
       "      <td>terraced house</td>\n",
       "      <td>3.0</td>\n",
       "      <td>1.0</td>\n",
       "      <td>2.0</td>\n",
       "      <td>NaN</td>\n",
       "      <td>freehold</td>\n",
       "      <td>NaN</td>\n",
       "      <td>...</td>\n",
       "      <td>50.860744</td>\n",
       "      <td>-0.131786</td>\n",
       "      <td>carden nursery and primary school</td>\n",
       "      <td>0.3</td>\n",
       "      <td>the dharma primary school</td>\n",
       "      <td>0.4</td>\n",
       "      <td>moulsecoomb</td>\n",
       "      <td>1.1</td>\n",
       "      <td>preston park</td>\n",
       "      <td>1.3</td>\n",
       "    </tr>\n",
       "    <tr>\n",
       "      <th>3</th>\n",
       "      <td>4</td>\n",
       "      <td>NaN</td>\n",
       "      <td>NaN</td>\n",
       "      <td>NaN</td>\n",
       "      <td>NaN</td>\n",
       "      <td>NaN</td>\n",
       "      <td>NaN</td>\n",
       "      <td>NaN</td>\n",
       "      <td>NaN</td>\n",
       "      <td>NaN</td>\n",
       "      <td>...</td>\n",
       "      <td>NaN</td>\n",
       "      <td>NaN</td>\n",
       "      <td>NaN</td>\n",
       "      <td>NaN</td>\n",
       "      <td>NaN</td>\n",
       "      <td>NaN</td>\n",
       "      <td>NaN</td>\n",
       "      <td>NaN</td>\n",
       "      <td>NaN</td>\n",
       "      <td>NaN</td>\n",
       "    </tr>\n",
       "    <tr>\n",
       "      <th>4</th>\n",
       "      <td>5</td>\n",
       "      <td>425000.0</td>\n",
       "      <td>Warleigh Road, Brighton BN1</td>\n",
       "      <td>maisonette</td>\n",
       "      <td>2.0</td>\n",
       "      <td>1.0</td>\n",
       "      <td>1.0</td>\n",
       "      <td>NaN</td>\n",
       "      <td>leasehold</td>\n",
       "      <td>120.0</td>\n",
       "      <td>...</td>\n",
       "      <td>50.834766</td>\n",
       "      <td>-0.135156</td>\n",
       "      <td>downs infant school</td>\n",
       "      <td>0.2</td>\n",
       "      <td>downs junior school</td>\n",
       "      <td>0.3</td>\n",
       "      <td>london road (brighton)</td>\n",
       "      <td>0.1</td>\n",
       "      <td>brighton</td>\n",
       "      <td>0.5</td>\n",
       "    </tr>\n",
       "  </tbody>\n",
       "</table>\n",
       "<p>5 rows × 29 columns</p>\n",
       "</div>"
      ],
      "text/plain": [
       "   property_id     price                        address      house_type  \\\n",
       "0            1  300000.0       Clyde Road, Brighton BN1            flat   \n",
       "1            2  295000.0     North Street, Brighton BN1            flat   \n",
       "2            3  450000.0  Crabtree Avenue, Brighton BN1  terraced house   \n",
       "3            4       NaN                            NaN             NaN   \n",
       "4            5  425000.0    Warleigh Road, Brighton BN1      maisonette   \n",
       "\n",
       "   number_of_bedrooms  number_of_bathrooms  number_of_receptions  \\\n",
       "0                 2.0                  1.0                   1.0   \n",
       "1                 1.0                  NaN                   NaN   \n",
       "2                 3.0                  1.0                   2.0   \n",
       "3                 NaN                  NaN                   NaN   \n",
       "4                 2.0                  1.0                   1.0   \n",
       "\n",
       "   other_features             tenure  lease_time  ...   latitude longitude  \\\n",
       "0             NaN  share of freehold         NaN  ...  50.834835 -0.136658   \n",
       "1             NaN      not available         NaN  ...  50.828022 -0.136807   \n",
       "2             NaN           freehold         NaN  ...  50.860744 -0.131786   \n",
       "3             NaN                NaN         NaN  ...        NaN       NaN   \n",
       "4             NaN          leasehold       120.0  ...  50.834766 -0.135156   \n",
       "\n",
       "                       school_1_name school_1_distance  \\\n",
       "0         bellerbys college brighton               0.2   \n",
       "1       middle street primary school               0.1   \n",
       "2  carden nursery and primary school               0.3   \n",
       "3                                NaN               NaN   \n",
       "4                downs infant school               0.2   \n",
       "\n",
       "                               school_2_name school_2_distance  \\\n",
       "0                        downs infant school               0.3   \n",
       "1  st paul's cofe primary school and nursery               0.3   \n",
       "2                  the dharma primary school               0.4   \n",
       "3                                        NaN               NaN   \n",
       "4                        downs junior school               0.3   \n",
       "\n",
       "             train_1_name train_1_distance            train_2_name  \\\n",
       "0  london road (brighton)              0.1                brighton   \n",
       "1                brighton              0.5  london road (brighton)   \n",
       "2             moulsecoomb              1.1            preston park   \n",
       "3                     NaN              NaN                     NaN   \n",
       "4  london road (brighton)              0.1                brighton   \n",
       "\n",
       "   train_2_distance  \n",
       "0               0.4  \n",
       "1               1.0  \n",
       "2               1.3  \n",
       "3               NaN  \n",
       "4               0.5  \n",
       "\n",
       "[5 rows x 29 columns]"
      ]
     },
     "execution_count": 28,
     "metadata": {},
     "output_type": "execute_result"
    }
   ],
   "source": [
    "# merge dataframes to original dataframe\n",
    "df_clean_2 = pd.merge(df_clean, df_info_2, on='property_id')\n",
    "df_clean_2.head()"
   ]
  },
  {
   "cell_type": "code",
   "execution_count": 29,
   "id": "667485fd",
   "metadata": {},
   "outputs": [
    {
     "data": {
      "text/plain": [
       "Index(['property_id', 'price', 'address', 'house_type', 'number_of_bedrooms',\n",
       "       'number_of_bathrooms', 'number_of_receptions', 'other_features',\n",
       "       'tenure', 'lease_time', 'service_charge', 'tax_band', 'ground_rent',\n",
       "       'commonhold_details', 'points_of_interest', 'listing_features',\n",
       "       'description_text', 'property_link', 'postcode', 'latitude',\n",
       "       'longitude', 'school_1_name', 'school_1_distance', 'school_2_name',\n",
       "       'school_2_distance', 'train_1_name', 'train_1_distance', 'train_2_name',\n",
       "       'train_2_distance'],\n",
       "      dtype='object')"
      ]
     },
     "execution_count": 29,
     "metadata": {},
     "output_type": "execute_result"
    }
   ],
   "source": [
    "df_clean_2.columns"
   ]
  },
  {
   "cell_type": "markdown",
   "id": "569a8f6b",
   "metadata": {},
   "source": [
    "### Description Text"
   ]
  },
  {
   "cell_type": "code",
   "execution_count": 30,
   "id": "08f8961a",
   "metadata": {},
   "outputs": [
    {
     "name": "stderr",
     "output_type": "stream",
     "text": [
      "C:\\Users\\kenim\\AppData\\Local\\Temp\\ipykernel_8492\\2713957028.py:1: FutureWarning: The default value of regex will change from True to False in a future version. In addition, single character regular expressions will *not* be treated as literal strings when regex=True.\n",
      "  df_clean_2['description_text'] = df_clean_2['description_text'].str.strip().str.replace('*', '').str.lower()\n"
     ]
    }
   ],
   "source": [
    "df_clean_2['description_text'] = df_clean_2['description_text'].str.strip().str.replace('*', '').str.lower()"
   ]
  },
  {
   "cell_type": "code",
   "execution_count": 31,
   "id": "39a4e541",
   "metadata": {},
   "outputs": [
    {
     "data": {
      "text/plain": [
       "0       description\\n\\na wonderful split-level apartme...\n",
       "1       perfect investment property or first time buy!...\n",
       "2       summary of accommodation\\n\\nground floor entra...\n",
       "3                                                     NaN\n",
       "4       avard estate agents are pleased to offer for s...\n",
       "                              ...                        \n",
       "5184    a unique grade ii listed property spanning ove...\n",
       "5185    final one bedroom apartment remaining; plot 4a...\n",
       "5186    summary\\nnestled in the heart lewes is this 2 ...\n",
       "5187    rarely available building plot with planning p...\n",
       "5188    a modernised, first floor retirement apartment...\n",
       "Name: description_text, Length: 5189, dtype: object"
      ]
     },
     "execution_count": 31,
     "metadata": {},
     "output_type": "execute_result"
    }
   ],
   "source": [
    "df_clean_2['description_text']"
   ]
  },
  {
   "cell_type": "markdown",
   "id": "2fee7fa4",
   "metadata": {},
   "source": [
    "### Latitude"
   ]
  },
  {
   "cell_type": "code",
   "execution_count": 32,
   "id": "1b7e3979",
   "metadata": {},
   "outputs": [
    {
     "data": {
      "text/plain": [
       "0       50.834835\n",
       "1       50.828022\n",
       "2       50.860744\n",
       "3             NaN\n",
       "4       50.834766\n",
       "          ...    \n",
       "5184    50.874866\n",
       "5185          NaN\n",
       "5186    50.874283\n",
       "5187    50.874283\n",
       "5188          NaN\n",
       "Name: latitude, Length: 5189, dtype: float64"
      ]
     },
     "execution_count": 32,
     "metadata": {},
     "output_type": "execute_result"
    }
   ],
   "source": [
    "df_clean_2['latitude']"
   ]
  },
  {
   "cell_type": "markdown",
   "id": "f1c9c3c7",
   "metadata": {},
   "source": [
    "### Longitude"
   ]
  },
  {
   "cell_type": "code",
   "execution_count": 33,
   "id": "b5e7c838",
   "metadata": {},
   "outputs": [
    {
     "data": {
      "text/plain": [
       "0      -0.136658\n",
       "1      -0.136807\n",
       "2      -0.131786\n",
       "3            NaN\n",
       "4      -0.135156\n",
       "          ...   \n",
       "5184    0.011649\n",
       "5185         NaN\n",
       "5186    0.019230\n",
       "5187    0.019230\n",
       "5188         NaN\n",
       "Name: longitude, Length: 5189, dtype: float64"
      ]
     },
     "execution_count": 33,
     "metadata": {},
     "output_type": "execute_result"
    }
   ],
   "source": [
    "df_clean_2['longitude']"
   ]
  },
  {
   "cell_type": "markdown",
   "id": "3a245135",
   "metadata": {},
   "source": [
    "### Postcode"
   ]
  },
  {
   "cell_type": "code",
   "execution_count": 34,
   "id": "3794ffaf",
   "metadata": {},
   "outputs": [
    {
     "data": {
      "text/plain": [
       "0       BN1\n",
       "1       BN1\n",
       "2       BN1\n",
       "3       BN1\n",
       "4       BN1\n",
       "       ... \n",
       "5184    BN7\n",
       "5185    BN7\n",
       "5186    BN7\n",
       "5187    BN7\n",
       "5188    BN7\n",
       "Name: postcode, Length: 5189, dtype: object"
      ]
     },
     "execution_count": 34,
     "metadata": {},
     "output_type": "execute_result"
    }
   ],
   "source": [
    "df_clean_2['postcode']"
   ]
  },
  {
   "cell_type": "markdown",
   "id": "16d555c0",
   "metadata": {},
   "source": [
    "### School distance"
   ]
  },
  {
   "cell_type": "code",
   "execution_count": 35,
   "id": "5082277d",
   "metadata": {},
   "outputs": [
    {
     "data": {
      "text/plain": [
       "0       0.2\n",
       "1       0.1\n",
       "2       0.3\n",
       "3       NaN\n",
       "4       0.2\n",
       "       ... \n",
       "5184    0.3\n",
       "5185    0.2\n",
       "5186    0.4\n",
       "5187    0.3\n",
       "5188    0.3\n",
       "Name: school_1_distance, Length: 5189, dtype: float64"
      ]
     },
     "execution_count": 35,
     "metadata": {},
     "output_type": "execute_result"
    }
   ],
   "source": [
    "df_clean_2['school_1_distance'] "
   ]
  },
  {
   "cell_type": "code",
   "execution_count": 36,
   "id": "67415779",
   "metadata": {},
   "outputs": [
    {
     "data": {
      "text/html": [
       "<div>\n",
       "<style scoped>\n",
       "    .dataframe tbody tr th:only-of-type {\n",
       "        vertical-align: middle;\n",
       "    }\n",
       "\n",
       "    .dataframe tbody tr th {\n",
       "        vertical-align: top;\n",
       "    }\n",
       "\n",
       "    .dataframe thead th {\n",
       "        text-align: right;\n",
       "    }\n",
       "</style>\n",
       "<table border=\"1\" class=\"dataframe\">\n",
       "  <thead>\n",
       "    <tr style=\"text-align: right;\">\n",
       "      <th></th>\n",
       "      <th>property_id</th>\n",
       "      <th>price</th>\n",
       "      <th>number_of_bedrooms</th>\n",
       "      <th>number_of_bathrooms</th>\n",
       "      <th>number_of_receptions</th>\n",
       "      <th>other_features</th>\n",
       "      <th>lease_time</th>\n",
       "      <th>latitude</th>\n",
       "      <th>longitude</th>\n",
       "      <th>school_1_distance</th>\n",
       "      <th>school_2_distance</th>\n",
       "      <th>train_1_distance</th>\n",
       "      <th>train_2_distance</th>\n",
       "    </tr>\n",
       "  </thead>\n",
       "  <tbody>\n",
       "    <tr>\n",
       "      <th>count</th>\n",
       "      <td>5189.000000</td>\n",
       "      <td>5.092000e+03</td>\n",
       "      <td>4920.000000</td>\n",
       "      <td>4791.000000</td>\n",
       "      <td>4630.000000</td>\n",
       "      <td>3.030000e+02</td>\n",
       "      <td>758.000000</td>\n",
       "      <td>2554.000000</td>\n",
       "      <td>2554.000000</td>\n",
       "      <td>4645.000000</td>\n",
       "      <td>4151.000000</td>\n",
       "      <td>4645.000000</td>\n",
       "      <td>4645.000000</td>\n",
       "    </tr>\n",
       "    <tr>\n",
       "      <th>mean</th>\n",
       "      <td>2595.000000</td>\n",
       "      <td>5.068797e+05</td>\n",
       "      <td>2.809959</td>\n",
       "      <td>1.551242</td>\n",
       "      <td>1.464147</td>\n",
       "      <td>1.573433e+04</td>\n",
       "      <td>314.478892</td>\n",
       "      <td>50.130247</td>\n",
       "      <td>0.551715</td>\n",
       "      <td>0.339419</td>\n",
       "      <td>0.565936</td>\n",
       "      <td>1.094682</td>\n",
       "      <td>1.684952</td>\n",
       "    </tr>\n",
       "    <tr>\n",
       "      <th>std</th>\n",
       "      <td>1498.079604</td>\n",
       "      <td>4.594099e+05</td>\n",
       "      <td>1.513866</td>\n",
       "      <td>0.916238</td>\n",
       "      <td>0.794987</td>\n",
       "      <td>2.501740e+05</td>\n",
       "      <td>369.050449</td>\n",
       "      <td>7.516191</td>\n",
       "      <td>14.425469</td>\n",
       "      <td>0.297453</td>\n",
       "      <td>0.491676</td>\n",
       "      <td>1.114011</td>\n",
       "      <td>1.170459</td>\n",
       "    </tr>\n",
       "    <tr>\n",
       "      <th>min</th>\n",
       "      <td>1.000000</td>\n",
       "      <td>5.000000e+03</td>\n",
       "      <td>1.000000</td>\n",
       "      <td>1.000000</td>\n",
       "      <td>1.000000</td>\n",
       "      <td>3.600000e+01</td>\n",
       "      <td>1.000000</td>\n",
       "      <td>-45.948929</td>\n",
       "      <td>-104.771187</td>\n",
       "      <td>0.000000</td>\n",
       "      <td>0.000000</td>\n",
       "      <td>0.000000</td>\n",
       "      <td>0.100000</td>\n",
       "    </tr>\n",
       "    <tr>\n",
       "      <th>25%</th>\n",
       "      <td>1298.000000</td>\n",
       "      <td>2.900000e+05</td>\n",
       "      <td>2.000000</td>\n",
       "      <td>1.000000</td>\n",
       "      <td>1.000000</td>\n",
       "      <td>6.485000e+02</td>\n",
       "      <td>95.000000</td>\n",
       "      <td>50.810425</td>\n",
       "      <td>-0.220390</td>\n",
       "      <td>0.200000</td>\n",
       "      <td>0.300000</td>\n",
       "      <td>0.400000</td>\n",
       "      <td>0.900000</td>\n",
       "    </tr>\n",
       "    <tr>\n",
       "      <th>50%</th>\n",
       "      <td>2595.000000</td>\n",
       "      <td>4.187475e+05</td>\n",
       "      <td>3.000000</td>\n",
       "      <td>1.000000</td>\n",
       "      <td>1.000000</td>\n",
       "      <td>9.150000e+02</td>\n",
       "      <td>117.000000</td>\n",
       "      <td>50.827091</td>\n",
       "      <td>-0.136140</td>\n",
       "      <td>0.300000</td>\n",
       "      <td>0.400000</td>\n",
       "      <td>0.700000</td>\n",
       "      <td>1.400000</td>\n",
       "    </tr>\n",
       "    <tr>\n",
       "      <th>75%</th>\n",
       "      <td>3892.000000</td>\n",
       "      <td>6.000000e+05</td>\n",
       "      <td>4.000000</td>\n",
       "      <td>2.000000</td>\n",
       "      <td>2.000000</td>\n",
       "      <td>1.286000e+03</td>\n",
       "      <td>249.750000</td>\n",
       "      <td>50.840504</td>\n",
       "      <td>0.227991</td>\n",
       "      <td>0.400000</td>\n",
       "      <td>0.600000</td>\n",
       "      <td>1.300000</td>\n",
       "      <td>2.000000</td>\n",
       "    </tr>\n",
       "    <tr>\n",
       "      <th>max</th>\n",
       "      <td>5189.000000</td>\n",
       "      <td>1.500000e+07</td>\n",
       "      <td>50.000000</td>\n",
       "      <td>24.000000</td>\n",
       "      <td>23.000000</td>\n",
       "      <td>4.356000e+06</td>\n",
       "      <td>999.000000</td>\n",
       "      <td>56.557793</td>\n",
       "      <td>170.329300</td>\n",
       "      <td>4.500000</td>\n",
       "      <td>5.900000</td>\n",
       "      <td>7.400000</td>\n",
       "      <td>7.900000</td>\n",
       "    </tr>\n",
       "  </tbody>\n",
       "</table>\n",
       "</div>"
      ],
      "text/plain": [
       "       property_id         price  number_of_bedrooms  number_of_bathrooms  \\\n",
       "count  5189.000000  5.092000e+03         4920.000000          4791.000000   \n",
       "mean   2595.000000  5.068797e+05            2.809959             1.551242   \n",
       "std    1498.079604  4.594099e+05            1.513866             0.916238   \n",
       "min       1.000000  5.000000e+03            1.000000             1.000000   \n",
       "25%    1298.000000  2.900000e+05            2.000000             1.000000   \n",
       "50%    2595.000000  4.187475e+05            3.000000             1.000000   \n",
       "75%    3892.000000  6.000000e+05            4.000000             2.000000   \n",
       "max    5189.000000  1.500000e+07           50.000000            24.000000   \n",
       "\n",
       "       number_of_receptions  other_features  lease_time     latitude  \\\n",
       "count           4630.000000    3.030000e+02  758.000000  2554.000000   \n",
       "mean               1.464147    1.573433e+04  314.478892    50.130247   \n",
       "std                0.794987    2.501740e+05  369.050449     7.516191   \n",
       "min                1.000000    3.600000e+01    1.000000   -45.948929   \n",
       "25%                1.000000    6.485000e+02   95.000000    50.810425   \n",
       "50%                1.000000    9.150000e+02  117.000000    50.827091   \n",
       "75%                2.000000    1.286000e+03  249.750000    50.840504   \n",
       "max               23.000000    4.356000e+06  999.000000    56.557793   \n",
       "\n",
       "         longitude  school_1_distance  school_2_distance  train_1_distance  \\\n",
       "count  2554.000000        4645.000000        4151.000000       4645.000000   \n",
       "mean      0.551715           0.339419           0.565936          1.094682   \n",
       "std      14.425469           0.297453           0.491676          1.114011   \n",
       "min    -104.771187           0.000000           0.000000          0.000000   \n",
       "25%      -0.220390           0.200000           0.300000          0.400000   \n",
       "50%      -0.136140           0.300000           0.400000          0.700000   \n",
       "75%       0.227991           0.400000           0.600000          1.300000   \n",
       "max     170.329300           4.500000           5.900000          7.400000   \n",
       "\n",
       "       train_2_distance  \n",
       "count       4645.000000  \n",
       "mean           1.684952  \n",
       "std            1.170459  \n",
       "min            0.100000  \n",
       "25%            0.900000  \n",
       "50%            1.400000  \n",
       "75%            2.000000  \n",
       "max            7.900000  "
      ]
     },
     "execution_count": 36,
     "metadata": {},
     "output_type": "execute_result"
    }
   ],
   "source": [
    "df_clean_2.describe()"
   ]
  },
  {
   "cell_type": "code",
   "execution_count": 37,
   "id": "7f4b0c9f",
   "metadata": {},
   "outputs": [
    {
     "name": "stdout",
     "output_type": "stream",
     "text": [
      "<class 'pandas.core.frame.DataFrame'>\n",
      "Int64Index: 5189 entries, 0 to 5188\n",
      "Data columns (total 29 columns):\n",
      " #   Column                Non-Null Count  Dtype  \n",
      "---  ------                --------------  -----  \n",
      " 0   property_id           5189 non-null   int64  \n",
      " 1   price                 5092 non-null   float64\n",
      " 2   address               5092 non-null   object \n",
      " 3   house_type            5092 non-null   object \n",
      " 4   number_of_bedrooms    4920 non-null   float64\n",
      " 5   number_of_bathrooms   4791 non-null   float64\n",
      " 6   number_of_receptions  4630 non-null   float64\n",
      " 7   other_features        303 non-null    float64\n",
      " 8   tenure                5092 non-null   object \n",
      " 9   lease_time            758 non-null    float64\n",
      " 10  service_charge        1614 non-null   object \n",
      " 11  tax_band              5092 non-null   object \n",
      " 12  ground_rent           1606 non-null   object \n",
      " 13  commonhold_details    426 non-null    object \n",
      " 14  points_of_interest    5092 non-null   object \n",
      " 15  listing_features      5028 non-null   object \n",
      " 16  description_text      5092 non-null   object \n",
      " 17  property_link         5189 non-null   object \n",
      " 18  postcode              5189 non-null   object \n",
      " 19  latitude              2554 non-null   float64\n",
      " 20  longitude             2554 non-null   float64\n",
      " 21  school_1_name         4645 non-null   object \n",
      " 22  school_1_distance     4645 non-null   float64\n",
      " 23  school_2_name         4151 non-null   object \n",
      " 24  school_2_distance     4151 non-null   float64\n",
      " 25  train_1_name          4645 non-null   object \n",
      " 26  train_1_distance      4645 non-null   float64\n",
      " 27  train_2_name          4645 non-null   object \n",
      " 28  train_2_distance      4645 non-null   float64\n",
      "dtypes: float64(12), int64(1), object(16)\n",
      "memory usage: 1.2+ MB\n"
     ]
    }
   ],
   "source": [
    "df_clean_2.info()"
   ]
  },
  {
   "cell_type": "markdown",
   "id": "e0b82ca8",
   "metadata": {},
   "source": [
    "## Save cleaned dataset"
   ]
  },
  {
   "cell_type": "code",
   "execution_count": 39,
   "id": "0cb466ae",
   "metadata": {},
   "outputs": [],
   "source": [
    "df_clean_2.to_csv('./Data/brighton_cleaned_data.csv', index=False)"
   ]
  },
  {
   "cell_type": "code",
   "execution_count": null,
   "id": "a6b5d7fb",
   "metadata": {},
   "outputs": [],
   "source": []
  }
 ],
 "metadata": {
  "kernelspec": {
   "display_name": "Python 3 (ipykernel)",
   "language": "python",
   "name": "python3"
  },
  "language_info": {
   "codemirror_mode": {
    "name": "ipython",
    "version": 3
   },
   "file_extension": ".py",
   "mimetype": "text/x-python",
   "name": "python",
   "nbconvert_exporter": "python",
   "pygments_lexer": "ipython3",
   "version": "3.9.13"
  }
 },
 "nbformat": 4,
 "nbformat_minor": 5
}
