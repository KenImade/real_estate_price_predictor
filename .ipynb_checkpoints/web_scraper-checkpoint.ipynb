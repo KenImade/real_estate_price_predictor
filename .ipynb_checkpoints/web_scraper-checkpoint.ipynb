{
 "cells": [
  {
   "cell_type": "code",
   "execution_count": 2,
   "id": "34f7791f",
   "metadata": {},
   "outputs": [],
   "source": [
    "import undetected_chromedriver as webdriver\n",
    "from selenium.webdriver.chrome.service import Service\n",
    "from selenium.webdriver.common.by import By\n",
    "from selenium.webdriver.chrome.options import Options\n",
    "from selenium.common.exceptions import TimeoutException\n",
    "from selenium.common.exceptions import ElementClickInterceptedException\n",
    "from selenium.common.exceptions import NoSuchElementException\n",
    "from selenium.webdriver.common.keys import Keys\n",
    "import time\n",
    "import pandas as pd\n",
    "import numpy as np\n",
    "import pymysql"
   ]
  },
  {
   "cell_type": "code",
   "execution_count": null,
   "id": "1592ab06",
   "metadata": {},
   "outputs": [],
   "source": [
    "# brighton_postcodes = ['BN1', 'BN13', 'BN17', 'BN21', 'BN25', 'BN41', 'BN45', 'BN8', 'BN10', 'BN14', 'BN18', 'BN22',\n",
    "#              'BN26', 'BN42', 'BN5', 'BN9', 'BN11', 'BN15', 'BN2', 'BN23', 'BN27', 'BN43', 'BN6', 'BN12',\n",
    "#              'BN16', 'BN20', 'BN24', 'BN3', 'BN44', 'BN7']\n",
    "\n",
    "london_postcodes = pd.read_csv('./Data/London postcode districts.csv', header=0)\n",
    "all_postcodes = london_postcodes['Postcode district'].tolist()\n",
    "gotten_postcodes = pd.read_csv('./Data/gotten_postcodes_london.csv')['postcode'].tolist()\n",
    "gotten_postcodes\n",
    "\n",
    "postcodes = []\n",
    "for post in all_postcodes:\n",
    "    if post not in gotten_postcodes:\n",
    "        postcodes.append(post)\n",
    "print(len(postcodes))\n",
    "postcodes"
   ]
  },
  {
   "cell_type": "code",
   "execution_count": 2,
   "id": "70e99e63",
   "metadata": {},
   "outputs": [],
   "source": [
    "conn = pymysql.connect(\n",
    "            host=\"localhost\",          # Your host name\n",
    "            user=\"root\",      # Your username\n",
    "            password=\"admin\",  # Your password\n",
    "            database=\"property_info_db\"   # Your database name\n",
    "        )\n",
    "cur = conn.cursor()"
   ]
  },
  {
   "cell_type": "code",
   "execution_count": null,
   "id": "2eb9f35f",
   "metadata": {},
   "outputs": [],
   "source": [
    "def save_property_links_to_db(data, db_name):\n",
    "    \"\"\"\n",
    "    Saves postcode and propert link to database\n",
    "    \"\"\"\n",
    "    cur.execute(f\"\"\"INSERT INTO {db_name} (\n",
    "        postcode, url) VALUES (%s, %s)\"\"\", (\n",
    "        data['postcode'],\n",
    "        data['url']\n",
    "    ))\n",
    "    \n",
    "    conn.commit()\n",
    "    print(\"Saved data to db successfully\")"
   ]
  },
  {
   "cell_type": "code",
   "execution_count": null,
   "id": "cfaf7870",
   "metadata": {},
   "outputs": [],
   "source": [
    "def get_property_links(postcode):\n",
    "    \"\"\"\n",
    "    retrieves the property links from the zoopla website\n",
    "    :param postcodes: a list containing string representation of a postcode district\n",
    "    :return: None\n",
    "    \"\"\"\n",
    "#     urls_list = []\n",
    "#     df = pd.DataFrame()\n",
    "    data = {\n",
    "        'url': \"\",\n",
    "        'postcode': \"\"\n",
    "    }\n",
    "    \n",
    "    try:\n",
    "        s = Service(\"C:\\\\Users\\\\user\\\\Downloads\\\\Drivers\\\\chromedriver_win32\\\\chromedriver.exe\")\n",
    "        url = 'https://www.zoopla.co.uk/'\n",
    "        \n",
    "        chrome_options = Options()\n",
    "        chrome_options.add_argument('--headless')\n",
    "        chrome_options.add_argument('--disable-gpu') \n",
    "\n",
    "        driver = webdriver.Chrome(service=s, options=chrome_options)\n",
    "        driver.get(url)\n",
    "\n",
    "        # Maximize the window\n",
    "        driver.maximize_window()\n",
    "\n",
    "        time.sleep(5)\n",
    "        consent_id = \"gdpr-consent-notice\"\n",
    "\n",
    "        iframe = driver.find_element(By.ID, consent_id)\n",
    "\n",
    "        # Switch to the iframe\n",
    "        driver.switch_to.frame(iframe)\n",
    "\n",
    "        # Click the accept button\n",
    "        time.sleep(2)\n",
    "        accept_cookies_btn = driver.find_element(By.XPATH, \"//button[@id='save']\")\n",
    "        accept_cookies_btn.click()\n",
    "\n",
    "        # switch back to main content\n",
    "        driver.switch_to.default_content()\n",
    "\n",
    "        # Find the search bar\n",
    "        time.sleep(2)\n",
    "        search = driver.find_element(By.XPATH, \"//input[contains(@id,'downshift')]\")\n",
    "        search.send_keys(postcode)\n",
    "\n",
    "        # Click the search button\n",
    "        time.sleep(2)\n",
    "        driver.find_element(By.XPATH, \"//button[@class='x8jo560 x8jo562 x8jo56a _16fktr8']\").click()\n",
    "\n",
    "        # Saving data\n",
    "        time.sleep(5)\n",
    "        # get total number of properties in postcode\n",
    "        total_properties = (\n",
    "            int(driver.find_element(By.XPATH, '//p[@data-testid=\"total-results\"]').text.strip('results').strip('')))\n",
    "        print(f'There are {total_properties} properties in {postcode}')\n",
    "\n",
    "        # # page index\n",
    "        count = 0\n",
    "        number_of_pages = (total_properties // 25) + 1\n",
    "        i = 1\n",
    "\n",
    "        while i <= number_of_pages:\n",
    "            listings = driver.find_elements(By.XPATH, '//a[@class=\"_1maljyt1\"]')\n",
    "#             print(f'The length is {len(listings)}')\n",
    "            print(f'Scrapping page {i} of {number_of_pages} from postcode {postcode}')\n",
    "            for property_link in listings:\n",
    "                count += 1\n",
    "                link = property_link.get_attribute('href')\n",
    "                data['postcode'] = postcode\n",
    "                data['url'] = link or \"\"\n",
    "                save_property_links_to_db(data, \"london_properties_links\")\n",
    "                data['postcode'] = \"\"\n",
    "                data['url'] = \"\"\n",
    "                print(f\"link {count}: {link}\")\n",
    "            i += 1\n",
    "            url = f'https://www.zoopla.co.uk/for-sale/property/{postcode}/?q={postcode}&search_source=home&pn={i}'\n",
    "            driver.get(url)\n",
    "            time.sleep(3)\n",
    "        print(f'Scraping completed for {postcode}')\n",
    "    except ElementClickInterceptedException:\n",
    "        print(f'code failing for postcode {postcode} due to element being intercepted')\n",
    "    except TimeoutException:\n",
    "        print(f'code failing for postcode {postcode} due to timeout')\n",
    "    except NoSuchElementException:\n",
    "        print(f'code failing for postcode {postcode} due to element not being found')\n",
    "    finally:\n",
    "        driver.quit()"
   ]
  },
  {
   "cell_type": "code",
   "execution_count": null,
   "id": "041b215a",
   "metadata": {},
   "outputs": [],
   "source": [
    "for postcode in postcodes:\n",
    "    try:\n",
    "        get_property_links(postcode)\n",
    "    except Exception as ex:\n",
    "        print(f\"Error occurred : {ex}\")\n",
    "        continue\n",
    "print('Done with all postcodes')"
   ]
  },
  {
   "cell_type": "code",
   "execution_count": null,
   "id": "c3163668",
   "metadata": {},
   "outputs": [],
   "source": [
    "bad_postcodes_list"
   ]
  },
  {
   "cell_type": "code",
   "execution_count": null,
   "id": "c4287fe2",
   "metadata": {},
   "outputs": [],
   "source": [
    "bad_postcodes_list = []\n",
    "postcodes = pd.read_csv('./Data/bad_postcodes.csv', index_col=[0])\n",
    "# print(postcodes.head())\n",
    "df_existing = pd.read_csv('./Data/property_urls.csv', index_col=[0])\n",
    "# print(df_existing.head())\n",
    "\n",
    "for postcode in postcodes['bad_postcodes'].values:\n",
    "    try:\n",
    "        df_postcode = get_property_links(postcode)\n",
    "        df_existing = pd.concat([df_existing, df_postcode], ignore_index=True)\n",
    "    except ElementClickInterceptedException:\n",
    "        continue\n",
    "    except TimeoutException:\n",
    "        continue\n",
    "    except NoSuchElementException:\n",
    "        continue\n",
    "    finally:\n",
    "        df_existing.to_csv('./Data/property_urls_updated.csv')\n",
    "        pd.DataFrame({'bad_postcodes':bad_postcodes_list}).to_csv('./Data/bad_postcodes_2.csv')\n",
    "print('Done with all postcodes')"
   ]
  },
  {
   "cell_type": "code",
   "execution_count": 8,
   "id": "e454a200",
   "metadata": {},
   "outputs": [],
   "source": [
    "def get_property_info(property_link, postcode) -> dict:\n",
    "    \"\"\"\n",
    "    Retrieves the information of a property\n",
    "    :param property_link: a string representing the property page\n",
    "    :param postcode: a string representing the property's postcode\n",
    "    :return: data_dict: A dictionary containing the property data\n",
    "    \"\"\"\n",
    "    data_dict = {\n",
    "        \"Price\": \"\",\n",
    "        \"Address\": \"\",\n",
    "        \"House Type\": \"\",\n",
    "        \"Number of Bedrooms\": \"\",\n",
    "        \"Number of Bathrooms\": \"\",\n",
    "        \"Number of Receptions\": \"\",\n",
    "        \"Other Features\": \"\",\n",
    "        \"Tenure\": \"\",\n",
    "        \"Lease Time\": \"\",\n",
    "        \"Service Charge\": \"\",\n",
    "        \"Tax Band\": \"\",\n",
    "        \"Ground Rent\": \"\",\n",
    "        \"Commonhold Details\": \"\",\n",
    "        \"Points of Interest\": \"\",\n",
    "        \"Listing Features\": \"\",\n",
    "        \"Description\": \"\",\n",
    "        \"Property Link\": property_link,\n",
    "        \"Postcode\": postcode\n",
    "    }\n",
    "    \n",
    "    try:\n",
    "        s = Service(\"C:\\\\Users\\\\user\\\\Downloads\\\\Drivers\\\\chromedriver_win32\\\\chromedriver.exe\")\n",
    "        chrome_options = Options()\n",
    "        chrome_options.add_argument('--headless')\n",
    "        chrome_options.add_argument('--disable-gpu') \n",
    "\n",
    "        driver = webdriver.Chrome(service=s, options=chrome_options)\n",
    "        driver.get(property_link)\n",
    "\n",
    "        # Maximize the window\n",
    "        # time.sleep(2)\n",
    "        driver.maximize_window()\n",
    "\n",
    "        time.sleep(5)\n",
    "        consent_id = \"gdpr-consent-notice\"\n",
    "\n",
    "        iframe = driver.find_element(By.ID, consent_id)\n",
    "\n",
    "        # Switch to the iframe\n",
    "        driver.switch_to.frame(iframe)\n",
    "\n",
    "        # Click the accept button\n",
    "        time.sleep(2)\n",
    "        accept_cookies_btn = driver.find_element(By.XPATH, \"//button[@id='save']\")\n",
    "        accept_cookies_btn.click()\n",
    "\n",
    "        # switch back to main content\n",
    "        driver.switch_to.default_content()\n",
    "\n",
    "        # time.sleep(2)\n",
    "\n",
    "        # get price\n",
    "        data_dict[\"Price\"] = driver.find_element(By.XPATH, '//p[@data-testid=\"price\"]').text or np.nan\n",
    "\n",
    "        # address\n",
    "        data_dict[\"Address\"] = driver.find_element(By.XPATH, '//address[@data-testid=\"address-label\"]').text or np.nan\n",
    "\n",
    "        # house type\n",
    "        data_dict[\"House Type\"] = (driver.find_element(By.XPATH, '//div[@data-testid=\"title-label\"]').text.lower()\n",
    "                      .replace('for sale', \"\").strip() or np.nan)\n",
    "\n",
    "        # features\n",
    "        for feature in driver.find_elements(By.XPATH, '//div[@class=\"_1fuu7p80 _1fuu7p85 _1dgm2fc8 \"]'):\n",
    "            # Number of Bedrooms\n",
    "            if 'bed' in feature.text.lower():\n",
    "                data_dict[\"Number of Bedrooms\"] = feature.text or np.nan\n",
    "            # Number of Bathrooms\n",
    "            elif 'bath' in feature.text.lower(): \n",
    "                data_dict[\"Number of Bathrooms\"] = feature.text or np.nan\n",
    "            # Number of Receptions\n",
    "            elif 'reception' in feature.text.lower():\n",
    "                data_dict[\"Number of Receptions\"] = feature.text or np.nan\n",
    "            # Other Features\n",
    "            else:\n",
    "                data_dict[\"Other Features\"] = data_dict.get(\"Other Features\", \"\") + str(feature.text) + ','\n",
    "        data_dict[\"Other Features\"] = data_dict.get(\"Other Features\", \"\").rstrip(',')\n",
    "\n",
    "        # contract info\n",
    "        for info in driver.find_elements(By.XPATH, '//div[@class=\"_1k66bqh0\"]'):\n",
    "            # Tenure\n",
    "            if 'tenure' in info.text.lower():\n",
    "                data_dict[\"Tenure\"] = info.find_element(By.XPATH, \"following-sibling::*[1]\").text or np.nan\n",
    "            # Least Time\n",
    "            elif 'lease' in info.text.lower():\n",
    "                data_dict[\"Lease Time\"] = info.find_element(By.XPATH, 'following-sibling::*[1]').text or np.nan\n",
    "            # Service Charge\n",
    "            elif 'service' in info.text.lower():\n",
    "                data_dict[\"Service Charge\"] = info.find_element(By.XPATH, 'following-sibling::*[1]').text or np.nan\n",
    "            # Tax Band\n",
    "            elif 'tax' in info.text.lower():\n",
    "                data_dict[\"Tax Band\"] = info.find_element(By.XPATH, 'following-sibling::*[1]').text or np.nan\n",
    "            # Ground Rent\n",
    "            elif 'rent' in info.text.lower():\n",
    "                data_dict[\"Ground Rent\"] = info.find_element(By.XPATH, 'following-sibling::*[1]').text or np.nan\n",
    "            # Commonhold\n",
    "            elif 'commonhold' in info.text.lower():\n",
    "                data_dict[\"Commonhold Details\"] = info.find_element(By.XPATH, 'following-sibling::*[1]').text or np.nan\n",
    "\n",
    "        # points of interest\n",
    "        for interest in driver.find_elements(By.XPATH, '//li[@class=\"cx0jbd2\"]'):\n",
    "            data_dict[\"Points of Interest\"] = data_dict.get(\"Points of Interest\", \"\") + str(interest.text) + ','\n",
    "        data_dict[\"Points of Interest\"] = data_dict.get(\"Points of Interest\", \"\").rstrip(',')\n",
    "\n",
    "        # listing features\n",
    "        for listing_feature in driver.find_elements(By.XPATH, '//li[@class=\"swbww71\"]'):\n",
    "            data_dict[\"Listing Features\"] = data_dict.get(\"Listing Features\", \"\") + listing_feature.text + '\\n'\n",
    "\n",
    "        # description\n",
    "        data_dict[\"Description\"] = driver.find_element(By.XPATH, '//div[@class=\"ru2q7m3\"]').text or np.nan\n",
    "        \n",
    "    except Exception as ex:\n",
    "        print(f'An error occurred for link in get_data_func: {property_link}: {ex}')\n",
    "#         bad_link = {'Link':property_link, 'postcode': postcode}\n",
    "#         bad_links.append(bad_link)\n",
    "    finally:\n",
    "        driver.quit()\n",
    "        time.sleep(2)\n",
    "    return data_dict"
   ]
  },
  {
   "cell_type": "code",
   "execution_count": 9,
   "id": "73503eb7",
   "metadata": {},
   "outputs": [],
   "source": [
    "def save_to_db(data):\n",
    "    \"\"\"\n",
    "    Saves extracted data to an sql database\n",
    "    :param data\n",
    "    \"\"\"\n",
    "    cur.execute(\"\"\"INSERT INTO london_properties (\n",
    "        price, address, house_type, number_of_bedrooms, number_of_bathrooms, number_of_receptions, other_features, tenure, \n",
    "        lease_time, service_charge, tax_band, ground_rent, commonhold_details, points_of_interest, listing_features, \n",
    "        description_text, property_link, postcode) \n",
    "        VALUES (%s, %s, %s, %s, %s, %s, %s, %s, %s, %s, %s, %s, %s, %s, %s, %s, %s, %s)\n",
    "        \"\"\", (\n",
    "    data['Price'],\n",
    "    data['Address'],\n",
    "    data['House Type'],\n",
    "    data['Number of Bedrooms'],\n",
    "    data['Number of Bathrooms'],\n",
    "    data['Number of Receptions'],\n",
    "    data['Other Features'],\n",
    "    data['Tenure'],\n",
    "    data['Lease Time'],\n",
    "    data['Service Charge'],\n",
    "    data['Tax Band'],\n",
    "    data['Ground Rent'],\n",
    "    data['Commonhold Details'],\n",
    "    data['Points of Interest'],\n",
    "    data['Listing Features'],\n",
    "    data['Description'],\n",
    "    data['Property Link'],\n",
    "    data['Postcode']))\n",
    "    \n",
    "    conn.commit()\n",
    "    print(\"Saved to db successfully\")"
   ]
  },
  {
   "cell_type": "code",
   "execution_count": 14,
   "id": "ab220608",
   "metadata": {},
   "outputs": [
    {
     "data": {
      "text/html": [
       "<div>\n",
       "<style scoped>\n",
       "    .dataframe tbody tr th:only-of-type {\n",
       "        vertical-align: middle;\n",
       "    }\n",
       "\n",
       "    .dataframe tbody tr th {\n",
       "        vertical-align: top;\n",
       "    }\n",
       "\n",
       "    .dataframe thead th {\n",
       "        text-align: right;\n",
       "    }\n",
       "</style>\n",
       "<table border=\"1\" class=\"dataframe\">\n",
       "  <thead>\n",
       "    <tr style=\"text-align: right;\">\n",
       "      <th></th>\n",
       "      <th>postcode</th>\n",
       "      <th>url</th>\n",
       "    </tr>\n",
       "    <tr>\n",
       "      <th>0</th>\n",
       "      <th></th>\n",
       "      <th></th>\n",
       "    </tr>\n",
       "  </thead>\n",
       "  <tbody>\n",
       "  </tbody>\n",
       "</table>\n",
       "</div>"
      ],
      "text/plain": [
       "Empty DataFrame\n",
       "Columns: [postcode, url]\n",
       "Index: []"
      ]
     },
     "execution_count": 14,
     "metadata": {},
     "output_type": "execute_result"
    }
   ],
   "source": [
    "property_data = pd.read_csv('./Data/property_urls_london.csv', index_col = [0], skiprows=10838, header=None)\n",
    "property_data.columns = ['postcode', 'url']\n",
    "lk = \"https://www.zoopla.co.uk/for-sale/details/64741941/?search_identifier=f90bf7d1be38713fad2b21d715c12ea53ac0cacf90740c08d4a343bdfbb3d845\"\n",
    "property_data[property_data['url'] == lk]\n",
    "# property_data"
   ]
  },
  {
   "cell_type": "code",
   "execution_count": null,
   "id": "5b4d9baf",
   "metadata": {
    "scrolled": true
   },
   "outputs": [
    {
     "name": "stderr",
     "output_type": "stream",
     "text": [
      "could not detect version_main.therefore, we are assuming it is chrome 108 or higher\n"
     ]
    },
    {
     "name": "stdout",
     "output_type": "stream",
     "text": [
      "Starting extraction for link 2658: https://www.zoopla.co.uk/for-sale/details/64888325/?search_identifier=cf88257081c432ee43580fd8bbfa454516c0c099cadb615e5e031b6c7c07d68c\n"
     ]
    },
    {
     "name": "stderr",
     "output_type": "stream",
     "text": [
      "could not detect version_main.therefore, we are assuming it is chrome 108 or higher\n"
     ]
    },
    {
     "name": "stdout",
     "output_type": "stream",
     "text": [
      "Saved to db successfully\n",
      "Done with link 2658: https://www.zoopla.co.uk/for-sale/details/64888325/?search_identifier=cf88257081c432ee43580fd8bbfa454516c0c099cadb615e5e031b6c7c07d68c\n",
      "Starting extraction for link 2659: https://www.zoopla.co.uk/for-sale/details/64879908/?search_identifier=ae01b4d385653532a459c406e2e5d255f1c30edfdbbdb305d589aa8377f01ca1\n"
     ]
    },
    {
     "name": "stderr",
     "output_type": "stream",
     "text": [
      "could not detect version_main.therefore, we are assuming it is chrome 108 or higher\n"
     ]
    },
    {
     "name": "stdout",
     "output_type": "stream",
     "text": [
      "Saved to db successfully\n",
      "Done with link 2659: https://www.zoopla.co.uk/for-sale/details/64879908/?search_identifier=ae01b4d385653532a459c406e2e5d255f1c30edfdbbdb305d589aa8377f01ca1\n",
      "Starting extraction for link 2660: https://www.zoopla.co.uk/for-sale/details/64872389/?search_identifier=ae01b4d385653532a459c406e2e5d255f1c30edfdbbdb305d589aa8377f01ca1\n",
      "An error occurred for link in get_data_func: https://www.zoopla.co.uk/for-sale/details/64872389/?search_identifier=ae01b4d385653532a459c406e2e5d255f1c30edfdbbdb305d589aa8377f01ca1: Message: no such element: Unable to locate element: {\"method\":\"xpath\",\"selector\":\"//p[@data-testid=\"price\"]\"}\n",
      "  (Session info: chrome=115.0.5790.110); For documentation on this error, please visit: https://www.selenium.dev/documentation/webdriver/troubleshooting/errors#no-such-element-exception\n",
      "Stacktrace:\n",
      "Backtrace:\n",
      "\tGetHandleVerifier [0x00E2A813+48355]\n",
      "\t(No symbol) [0x00DBC4B1]\n",
      "\t(No symbol) [0x00CC5358]\n",
      "\t(No symbol) [0x00CF09A5]\n",
      "\t(No symbol) [0x00CF0B3B]\n",
      "\t(No symbol) [0x00D1E232]\n",
      "\t(No symbol) [0x00D0A784]\n",
      "\t(No symbol) [0x00D1C922]\n",
      "\t(No symbol) [0x00D0A536]\n",
      "\t(No symbol) [0x00CE82DC]\n",
      "\t(No symbol) [0x00CE93DD]\n",
      "\tGetHandleVerifier [0x0108AABD+2539405]\n",
      "\tGetHandleVerifier [0x010CA78F+2800735]\n",
      "\tGetHandleVerifier [0x010C456C+2775612]\n",
      "\tGetHandleVerifier [0x00EB51E0+616112]\n",
      "\t(No symbol) [0x00DC5F8C]\n",
      "\t(No symbol) [0x00DC2328]\n",
      "\t(No symbol) [0x00DC240B]\n",
      "\t(No symbol) [0x00DB4FF7]\n",
      "\tBaseThreadInitThunk [0x76A57D59+25]\n",
      "\tRtlInitializeExceptionChain [0x7773B79B+107]\n",
      "\tRtlClearBits [0x7773B71F+191]\n",
      "\n"
     ]
    },
    {
     "name": "stderr",
     "output_type": "stream",
     "text": [
      "could not detect version_main.therefore, we are assuming it is chrome 108 or higher\n"
     ]
    },
    {
     "name": "stdout",
     "output_type": "stream",
     "text": [
      "Saved to db successfully\n",
      "Done with link 2660: https://www.zoopla.co.uk/for-sale/details/64872389/?search_identifier=ae01b4d385653532a459c406e2e5d255f1c30edfdbbdb305d589aa8377f01ca1\n",
      "Starting extraction for link 2661: https://www.zoopla.co.uk/for-sale/details/64870714/?search_identifier=ae01b4d385653532a459c406e2e5d255f1c30edfdbbdb305d589aa8377f01ca1\n"
     ]
    },
    {
     "name": "stderr",
     "output_type": "stream",
     "text": [
      "could not detect version_main.therefore, we are assuming it is chrome 108 or higher\n"
     ]
    },
    {
     "name": "stdout",
     "output_type": "stream",
     "text": [
      "Saved to db successfully\n",
      "Done with link 2661: https://www.zoopla.co.uk/for-sale/details/64870714/?search_identifier=ae01b4d385653532a459c406e2e5d255f1c30edfdbbdb305d589aa8377f01ca1\n",
      "Starting extraction for link 2662: https://www.zoopla.co.uk/for-sale/details/64868312/?search_identifier=ae01b4d385653532a459c406e2e5d255f1c30edfdbbdb305d589aa8377f01ca1\n"
     ]
    },
    {
     "name": "stderr",
     "output_type": "stream",
     "text": [
      "could not detect version_main.therefore, we are assuming it is chrome 108 or higher\n"
     ]
    },
    {
     "name": "stdout",
     "output_type": "stream",
     "text": [
      "Saved to db successfully\n",
      "Done with link 2662: https://www.zoopla.co.uk/for-sale/details/64868312/?search_identifier=ae01b4d385653532a459c406e2e5d255f1c30edfdbbdb305d589aa8377f01ca1\n",
      "Starting extraction for link 2663: https://www.zoopla.co.uk/new-homes/details/64868108/?search_identifier=ae01b4d385653532a459c406e2e5d255f1c30edfdbbdb305d589aa8377f01ca1\n"
     ]
    },
    {
     "name": "stderr",
     "output_type": "stream",
     "text": [
      "could not detect version_main.therefore, we are assuming it is chrome 108 or higher\n"
     ]
    },
    {
     "name": "stdout",
     "output_type": "stream",
     "text": [
      "Saved to db successfully\n",
      "Done with link 2663: https://www.zoopla.co.uk/new-homes/details/64868108/?search_identifier=ae01b4d385653532a459c406e2e5d255f1c30edfdbbdb305d589aa8377f01ca1\n",
      "Starting extraction for link 2664: https://www.zoopla.co.uk/for-sale/details/64868102/?search_identifier=ae01b4d385653532a459c406e2e5d255f1c30edfdbbdb305d589aa8377f01ca1\n"
     ]
    },
    {
     "name": "stderr",
     "output_type": "stream",
     "text": [
      "could not detect version_main.therefore, we are assuming it is chrome 108 or higher\n"
     ]
    },
    {
     "name": "stdout",
     "output_type": "stream",
     "text": [
      "Saved to db successfully\n",
      "Done with link 2664: https://www.zoopla.co.uk/for-sale/details/64868102/?search_identifier=ae01b4d385653532a459c406e2e5d255f1c30edfdbbdb305d589aa8377f01ca1\n",
      "Starting extraction for link 2665: https://www.zoopla.co.uk/for-sale/details/63139614/?search_identifier=ae01b4d385653532a459c406e2e5d255f1c30edfdbbdb305d589aa8377f01ca1\n"
     ]
    },
    {
     "name": "stderr",
     "output_type": "stream",
     "text": [
      "could not detect version_main.therefore, we are assuming it is chrome 108 or higher\n"
     ]
    },
    {
     "name": "stdout",
     "output_type": "stream",
     "text": [
      "Saved to db successfully\n",
      "Done with link 2665: https://www.zoopla.co.uk/for-sale/details/63139614/?search_identifier=ae01b4d385653532a459c406e2e5d255f1c30edfdbbdb305d589aa8377f01ca1\n",
      "Starting extraction for link 2666: https://www.zoopla.co.uk/for-sale/details/64863579/?search_identifier=ae01b4d385653532a459c406e2e5d255f1c30edfdbbdb305d589aa8377f01ca1\n"
     ]
    },
    {
     "name": "stderr",
     "output_type": "stream",
     "text": [
      "could not detect version_main.therefore, we are assuming it is chrome 108 or higher\n"
     ]
    },
    {
     "name": "stdout",
     "output_type": "stream",
     "text": [
      "Saved to db successfully\n",
      "Done with link 2666: https://www.zoopla.co.uk/for-sale/details/64863579/?search_identifier=ae01b4d385653532a459c406e2e5d255f1c30edfdbbdb305d589aa8377f01ca1\n",
      "Starting extraction for link 2667: https://www.zoopla.co.uk/for-sale/details/64863492/?search_identifier=ae01b4d385653532a459c406e2e5d255f1c30edfdbbdb305d589aa8377f01ca1\n"
     ]
    },
    {
     "name": "stderr",
     "output_type": "stream",
     "text": [
      "could not detect version_main.therefore, we are assuming it is chrome 108 or higher\n"
     ]
    },
    {
     "name": "stdout",
     "output_type": "stream",
     "text": [
      "Saved to db successfully\n",
      "Done with link 2667: https://www.zoopla.co.uk/for-sale/details/64863492/?search_identifier=ae01b4d385653532a459c406e2e5d255f1c30edfdbbdb305d589aa8377f01ca1\n",
      "Starting extraction for link 2668: https://www.zoopla.co.uk/for-sale/details/64861851/?search_identifier=ae01b4d385653532a459c406e2e5d255f1c30edfdbbdb305d589aa8377f01ca1\n"
     ]
    },
    {
     "name": "stderr",
     "output_type": "stream",
     "text": [
      "could not detect version_main.therefore, we are assuming it is chrome 108 or higher\n"
     ]
    },
    {
     "name": "stdout",
     "output_type": "stream",
     "text": [
      "Saved to db successfully\n",
      "Done with link 2668: https://www.zoopla.co.uk/for-sale/details/64861851/?search_identifier=ae01b4d385653532a459c406e2e5d255f1c30edfdbbdb305d589aa8377f01ca1\n",
      "Starting extraction for link 2669: https://www.zoopla.co.uk/for-sale/details/64860953/?search_identifier=ae01b4d385653532a459c406e2e5d255f1c30edfdbbdb305d589aa8377f01ca1\n"
     ]
    },
    {
     "name": "stderr",
     "output_type": "stream",
     "text": [
      "could not detect version_main.therefore, we are assuming it is chrome 108 or higher\n"
     ]
    },
    {
     "name": "stdout",
     "output_type": "stream",
     "text": [
      "Saved to db successfully\n",
      "Done with link 2669: https://www.zoopla.co.uk/for-sale/details/64860953/?search_identifier=ae01b4d385653532a459c406e2e5d255f1c30edfdbbdb305d589aa8377f01ca1\n",
      "Starting extraction for link 2670: https://www.zoopla.co.uk/for-sale/details/64859463/?search_identifier=ae01b4d385653532a459c406e2e5d255f1c30edfdbbdb305d589aa8377f01ca1\n"
     ]
    },
    {
     "name": "stderr",
     "output_type": "stream",
     "text": [
      "could not detect version_main.therefore, we are assuming it is chrome 108 or higher\n"
     ]
    },
    {
     "name": "stdout",
     "output_type": "stream",
     "text": [
      "Saved to db successfully\n",
      "Done with link 2670: https://www.zoopla.co.uk/for-sale/details/64859463/?search_identifier=ae01b4d385653532a459c406e2e5d255f1c30edfdbbdb305d589aa8377f01ca1\n",
      "Starting extraction for link 2671: https://www.zoopla.co.uk/for-sale/details/64856139/?search_identifier=ae01b4d385653532a459c406e2e5d255f1c30edfdbbdb305d589aa8377f01ca1\n"
     ]
    },
    {
     "name": "stderr",
     "output_type": "stream",
     "text": [
      "could not detect version_main.therefore, we are assuming it is chrome 108 or higher\n"
     ]
    },
    {
     "name": "stdout",
     "output_type": "stream",
     "text": [
      "Saved to db successfully\n",
      "Done with link 2671: https://www.zoopla.co.uk/for-sale/details/64856139/?search_identifier=ae01b4d385653532a459c406e2e5d255f1c30edfdbbdb305d589aa8377f01ca1\n",
      "Starting extraction for link 2672: https://www.zoopla.co.uk/for-sale/details/64853650/?search_identifier=ae01b4d385653532a459c406e2e5d255f1c30edfdbbdb305d589aa8377f01ca1\n"
     ]
    },
    {
     "name": "stderr",
     "output_type": "stream",
     "text": [
      "could not detect version_main.therefore, we are assuming it is chrome 108 or higher\n"
     ]
    },
    {
     "name": "stdout",
     "output_type": "stream",
     "text": [
      "Saved to db successfully\n",
      "Done with link 2672: https://www.zoopla.co.uk/for-sale/details/64853650/?search_identifier=ae01b4d385653532a459c406e2e5d255f1c30edfdbbdb305d589aa8377f01ca1\n",
      "Starting extraction for link 2673: https://www.zoopla.co.uk/for-sale/details/64850905/?search_identifier=ae01b4d385653532a459c406e2e5d255f1c30edfdbbdb305d589aa8377f01ca1\n"
     ]
    },
    {
     "name": "stderr",
     "output_type": "stream",
     "text": [
      "could not detect version_main.therefore, we are assuming it is chrome 108 or higher\n"
     ]
    },
    {
     "name": "stdout",
     "output_type": "stream",
     "text": [
      "Saved to db successfully\n",
      "Done with link 2673: https://www.zoopla.co.uk/for-sale/details/64850905/?search_identifier=ae01b4d385653532a459c406e2e5d255f1c30edfdbbdb305d589aa8377f01ca1\n",
      "Starting extraction for link 2674: https://www.zoopla.co.uk/for-sale/details/64850332/?search_identifier=ae01b4d385653532a459c406e2e5d255f1c30edfdbbdb305d589aa8377f01ca1\n"
     ]
    },
    {
     "name": "stderr",
     "output_type": "stream",
     "text": [
      "could not detect version_main.therefore, we are assuming it is chrome 108 or higher\n"
     ]
    },
    {
     "name": "stdout",
     "output_type": "stream",
     "text": [
      "Saved to db successfully\n",
      "Done with link 2674: https://www.zoopla.co.uk/for-sale/details/64850332/?search_identifier=ae01b4d385653532a459c406e2e5d255f1c30edfdbbdb305d589aa8377f01ca1\n",
      "Starting extraction for link 2675: https://www.zoopla.co.uk/for-sale/details/64848784/?search_identifier=ae01b4d385653532a459c406e2e5d255f1c30edfdbbdb305d589aa8377f01ca1\n"
     ]
    },
    {
     "name": "stderr",
     "output_type": "stream",
     "text": [
      "could not detect version_main.therefore, we are assuming it is chrome 108 or higher\n"
     ]
    },
    {
     "name": "stdout",
     "output_type": "stream",
     "text": [
      "Saved to db successfully\n",
      "Done with link 2675: https://www.zoopla.co.uk/for-sale/details/64848784/?search_identifier=ae01b4d385653532a459c406e2e5d255f1c30edfdbbdb305d589aa8377f01ca1\n",
      "Starting extraction for link 2676: https://www.zoopla.co.uk/for-sale/details/64841256/?search_identifier=ae01b4d385653532a459c406e2e5d255f1c30edfdbbdb305d589aa8377f01ca1\n"
     ]
    },
    {
     "name": "stderr",
     "output_type": "stream",
     "text": [
      "could not detect version_main.therefore, we are assuming it is chrome 108 or higher\n"
     ]
    },
    {
     "name": "stdout",
     "output_type": "stream",
     "text": [
      "Saved to db successfully\n",
      "Done with link 2676: https://www.zoopla.co.uk/for-sale/details/64841256/?search_identifier=ae01b4d385653532a459c406e2e5d255f1c30edfdbbdb305d589aa8377f01ca1\n",
      "Starting extraction for link 2677: https://www.zoopla.co.uk/for-sale/details/64825261/?search_identifier=ae01b4d385653532a459c406e2e5d255f1c30edfdbbdb305d589aa8377f01ca1\n"
     ]
    },
    {
     "name": "stderr",
     "output_type": "stream",
     "text": [
      "could not detect version_main.therefore, we are assuming it is chrome 108 or higher\n"
     ]
    },
    {
     "name": "stdout",
     "output_type": "stream",
     "text": [
      "Saved to db successfully\n",
      "Done with link 2677: https://www.zoopla.co.uk/for-sale/details/64825261/?search_identifier=ae01b4d385653532a459c406e2e5d255f1c30edfdbbdb305d589aa8377f01ca1\n",
      "Starting extraction for link 2678: https://www.zoopla.co.uk/for-sale/details/64822207/?search_identifier=ae01b4d385653532a459c406e2e5d255f1c30edfdbbdb305d589aa8377f01ca1\n"
     ]
    },
    {
     "name": "stderr",
     "output_type": "stream",
     "text": [
      "could not detect version_main.therefore, we are assuming it is chrome 108 or higher\n"
     ]
    },
    {
     "name": "stdout",
     "output_type": "stream",
     "text": [
      "Saved to db successfully\n",
      "Done with link 2678: https://www.zoopla.co.uk/for-sale/details/64822207/?search_identifier=ae01b4d385653532a459c406e2e5d255f1c30edfdbbdb305d589aa8377f01ca1\n",
      "Starting extraction for link 2679: https://www.zoopla.co.uk/for-sale/details/64819695/?search_identifier=ae01b4d385653532a459c406e2e5d255f1c30edfdbbdb305d589aa8377f01ca1\n"
     ]
    },
    {
     "name": "stderr",
     "output_type": "stream",
     "text": [
      "could not detect version_main.therefore, we are assuming it is chrome 108 or higher\n"
     ]
    },
    {
     "name": "stdout",
     "output_type": "stream",
     "text": [
      "Saved to db successfully\n",
      "Done with link 2679: https://www.zoopla.co.uk/for-sale/details/64819695/?search_identifier=ae01b4d385653532a459c406e2e5d255f1c30edfdbbdb305d589aa8377f01ca1\n",
      "Starting extraction for link 2680: https://www.zoopla.co.uk/for-sale/details/64818727/?search_identifier=ae01b4d385653532a459c406e2e5d255f1c30edfdbbdb305d589aa8377f01ca1\n"
     ]
    },
    {
     "name": "stderr",
     "output_type": "stream",
     "text": [
      "could not detect version_main.therefore, we are assuming it is chrome 108 or higher\n"
     ]
    },
    {
     "name": "stdout",
     "output_type": "stream",
     "text": [
      "Saved to db successfully\n",
      "Done with link 2680: https://www.zoopla.co.uk/for-sale/details/64818727/?search_identifier=ae01b4d385653532a459c406e2e5d255f1c30edfdbbdb305d589aa8377f01ca1\n",
      "Starting extraction for link 2681: https://www.zoopla.co.uk/for-sale/details/64812173/?search_identifier=ae01b4d385653532a459c406e2e5d255f1c30edfdbbdb305d589aa8377f01ca1\n"
     ]
    },
    {
     "name": "stderr",
     "output_type": "stream",
     "text": [
      "could not detect version_main.therefore, we are assuming it is chrome 108 or higher\n"
     ]
    },
    {
     "name": "stdout",
     "output_type": "stream",
     "text": [
      "Saved to db successfully\n",
      "Done with link 2681: https://www.zoopla.co.uk/for-sale/details/64812173/?search_identifier=ae01b4d385653532a459c406e2e5d255f1c30edfdbbdb305d589aa8377f01ca1\n",
      "Starting extraction for link 2682: https://www.zoopla.co.uk/for-sale/details/64811103/?search_identifier=ae01b4d385653532a459c406e2e5d255f1c30edfdbbdb305d589aa8377f01ca1\n"
     ]
    },
    {
     "name": "stderr",
     "output_type": "stream",
     "text": [
      "could not detect version_main.therefore, we are assuming it is chrome 108 or higher\n"
     ]
    },
    {
     "name": "stdout",
     "output_type": "stream",
     "text": [
      "Saved to db successfully\n",
      "Done with link 2682: https://www.zoopla.co.uk/for-sale/details/64811103/?search_identifier=ae01b4d385653532a459c406e2e5d255f1c30edfdbbdb305d589aa8377f01ca1\n",
      "Starting extraction for link 2683: https://www.zoopla.co.uk/for-sale/details/64811003/?search_identifier=ae01b4d385653532a459c406e2e5d255f1c30edfdbbdb305d589aa8377f01ca1\n"
     ]
    },
    {
     "name": "stderr",
     "output_type": "stream",
     "text": [
      "could not detect version_main.therefore, we are assuming it is chrome 108 or higher\n"
     ]
    },
    {
     "name": "stdout",
     "output_type": "stream",
     "text": [
      "Saved to db successfully\n",
      "Done with link 2683: https://www.zoopla.co.uk/for-sale/details/64811003/?search_identifier=ae01b4d385653532a459c406e2e5d255f1c30edfdbbdb305d589aa8377f01ca1\n",
      "Starting extraction for link 2684: https://www.zoopla.co.uk/for-sale/details/64809885/?search_identifier=5a66b4ac73df389e8f69bbc4785501f42de75686c56427c7fd8e82a844c1ef30\n"
     ]
    },
    {
     "name": "stderr",
     "output_type": "stream",
     "text": [
      "could not detect version_main.therefore, we are assuming it is chrome 108 or higher\n"
     ]
    },
    {
     "name": "stdout",
     "output_type": "stream",
     "text": [
      "Saved to db successfully\n",
      "Done with link 2684: https://www.zoopla.co.uk/for-sale/details/64809885/?search_identifier=5a66b4ac73df389e8f69bbc4785501f42de75686c56427c7fd8e82a844c1ef30\n",
      "Starting extraction for link 2685: https://www.zoopla.co.uk/for-sale/details/61916406/?search_identifier=5a66b4ac73df389e8f69bbc4785501f42de75686c56427c7fd8e82a844c1ef30\n",
      "An error occurred for link in get_data_func: https://www.zoopla.co.uk/for-sale/details/61916406/?search_identifier=5a66b4ac73df389e8f69bbc4785501f42de75686c56427c7fd8e82a844c1ef30: Message: no such element: Unable to locate element: {\"method\":\"xpath\",\"selector\":\"//p[@data-testid=\"price\"]\"}\n",
      "  (Session info: chrome=115.0.5790.110); For documentation on this error, please visit: https://www.selenium.dev/documentation/webdriver/troubleshooting/errors#no-such-element-exception\n",
      "Stacktrace:\n",
      "Backtrace:\n",
      "\tGetHandleVerifier [0x00E2A813+48355]\n",
      "\t(No symbol) [0x00DBC4B1]\n",
      "\t(No symbol) [0x00CC5358]\n",
      "\t(No symbol) [0x00CF09A5]\n",
      "\t(No symbol) [0x00CF0B3B]\n",
      "\t(No symbol) [0x00D1E232]\n",
      "\t(No symbol) [0x00D0A784]\n",
      "\t(No symbol) [0x00D1C922]\n",
      "\t(No symbol) [0x00D0A536]\n",
      "\t(No symbol) [0x00CE82DC]\n",
      "\t(No symbol) [0x00CE93DD]\n",
      "\tGetHandleVerifier [0x0108AABD+2539405]\n",
      "\tGetHandleVerifier [0x010CA78F+2800735]\n",
      "\tGetHandleVerifier [0x010C456C+2775612]\n",
      "\tGetHandleVerifier [0x00EB51E0+616112]\n",
      "\t(No symbol) [0x00DC5F8C]\n",
      "\t(No symbol) [0x00DC2328]\n",
      "\t(No symbol) [0x00DC240B]\n",
      "\t(No symbol) [0x00DB4FF7]\n",
      "\tBaseThreadInitThunk [0x76A57D59+25]\n",
      "\tRtlInitializeExceptionChain [0x7773B79B+107]\n",
      "\tRtlClearBits [0x7773B71F+191]\n",
      "\n"
     ]
    },
    {
     "name": "stderr",
     "output_type": "stream",
     "text": [
      "could not detect version_main.therefore, we are assuming it is chrome 108 or higher\n"
     ]
    },
    {
     "name": "stdout",
     "output_type": "stream",
     "text": [
      "Saved to db successfully\n",
      "Done with link 2685: https://www.zoopla.co.uk/for-sale/details/61916406/?search_identifier=5a66b4ac73df389e8f69bbc4785501f42de75686c56427c7fd8e82a844c1ef30\n",
      "Starting extraction for link 2686: https://www.zoopla.co.uk/for-sale/details/64803938/?search_identifier=5a66b4ac73df389e8f69bbc4785501f42de75686c56427c7fd8e82a844c1ef30\n"
     ]
    },
    {
     "name": "stderr",
     "output_type": "stream",
     "text": [
      "could not detect version_main.therefore, we are assuming it is chrome 108 or higher\n"
     ]
    },
    {
     "name": "stdout",
     "output_type": "stream",
     "text": [
      "Saved to db successfully\n",
      "Done with link 2686: https://www.zoopla.co.uk/for-sale/details/64803938/?search_identifier=5a66b4ac73df389e8f69bbc4785501f42de75686c56427c7fd8e82a844c1ef30\n",
      "Starting extraction for link 2687: https://www.zoopla.co.uk/for-sale/details/64803495/?search_identifier=5a66b4ac73df389e8f69bbc4785501f42de75686c56427c7fd8e82a844c1ef30\n"
     ]
    },
    {
     "name": "stderr",
     "output_type": "stream",
     "text": [
      "could not detect version_main.therefore, we are assuming it is chrome 108 or higher\n"
     ]
    },
    {
     "name": "stdout",
     "output_type": "stream",
     "text": [
      "Saved to db successfully\n",
      "Done with link 2687: https://www.zoopla.co.uk/for-sale/details/64803495/?search_identifier=5a66b4ac73df389e8f69bbc4785501f42de75686c56427c7fd8e82a844c1ef30\n",
      "Starting extraction for link 2688: https://www.zoopla.co.uk/for-sale/details/64801004/?search_identifier=5a66b4ac73df389e8f69bbc4785501f42de75686c56427c7fd8e82a844c1ef30\n"
     ]
    },
    {
     "name": "stderr",
     "output_type": "stream",
     "text": [
      "could not detect version_main.therefore, we are assuming it is chrome 108 or higher\n"
     ]
    },
    {
     "name": "stdout",
     "output_type": "stream",
     "text": [
      "Saved to db successfully\n",
      "Done with link 2688: https://www.zoopla.co.uk/for-sale/details/64801004/?search_identifier=5a66b4ac73df389e8f69bbc4785501f42de75686c56427c7fd8e82a844c1ef30\n",
      "Starting extraction for link 2689: https://www.zoopla.co.uk/new-homes/details/64800829/?search_identifier=5a66b4ac73df389e8f69bbc4785501f42de75686c56427c7fd8e82a844c1ef30\n"
     ]
    },
    {
     "name": "stderr",
     "output_type": "stream",
     "text": [
      "could not detect version_main.therefore, we are assuming it is chrome 108 or higher\n"
     ]
    },
    {
     "name": "stdout",
     "output_type": "stream",
     "text": [
      "Saved to db successfully\n",
      "Done with link 2689: https://www.zoopla.co.uk/new-homes/details/64800829/?search_identifier=5a66b4ac73df389e8f69bbc4785501f42de75686c56427c7fd8e82a844c1ef30\n",
      "Starting extraction for link 2690: https://www.zoopla.co.uk/for-sale/details/64614879/?search_identifier=5a66b4ac73df389e8f69bbc4785501f42de75686c56427c7fd8e82a844c1ef30\n"
     ]
    },
    {
     "name": "stderr",
     "output_type": "stream",
     "text": [
      "could not detect version_main.therefore, we are assuming it is chrome 108 or higher\n"
     ]
    },
    {
     "name": "stdout",
     "output_type": "stream",
     "text": [
      "Saved to db successfully\n",
      "Done with link 2690: https://www.zoopla.co.uk/for-sale/details/64614879/?search_identifier=5a66b4ac73df389e8f69bbc4785501f42de75686c56427c7fd8e82a844c1ef30\n",
      "Starting extraction for link 2691: https://www.zoopla.co.uk/for-sale/details/64790530/?search_identifier=5a66b4ac73df389e8f69bbc4785501f42de75686c56427c7fd8e82a844c1ef30\n"
     ]
    },
    {
     "name": "stderr",
     "output_type": "stream",
     "text": [
      "could not detect version_main.therefore, we are assuming it is chrome 108 or higher\n"
     ]
    },
    {
     "name": "stdout",
     "output_type": "stream",
     "text": [
      "Saved to db successfully\n",
      "Done with link 2691: https://www.zoopla.co.uk/for-sale/details/64790530/?search_identifier=5a66b4ac73df389e8f69bbc4785501f42de75686c56427c7fd8e82a844c1ef30\n",
      "Starting extraction for link 2692: https://www.zoopla.co.uk/for-sale/details/64783578/?search_identifier=5a66b4ac73df389e8f69bbc4785501f42de75686c56427c7fd8e82a844c1ef30\n"
     ]
    },
    {
     "name": "stderr",
     "output_type": "stream",
     "text": [
      "could not detect version_main.therefore, we are assuming it is chrome 108 or higher\n"
     ]
    },
    {
     "name": "stdout",
     "output_type": "stream",
     "text": [
      "Saved to db successfully\n",
      "Done with link 2692: https://www.zoopla.co.uk/for-sale/details/64783578/?search_identifier=5a66b4ac73df389e8f69bbc4785501f42de75686c56427c7fd8e82a844c1ef30\n",
      "Starting extraction for link 2693: https://www.zoopla.co.uk/for-sale/details/64779562/?search_identifier=5a66b4ac73df389e8f69bbc4785501f42de75686c56427c7fd8e82a844c1ef30\n"
     ]
    },
    {
     "name": "stderr",
     "output_type": "stream",
     "text": [
      "could not detect version_main.therefore, we are assuming it is chrome 108 or higher\n"
     ]
    },
    {
     "name": "stdout",
     "output_type": "stream",
     "text": [
      "Saved to db successfully\n",
      "Done with link 2693: https://www.zoopla.co.uk/for-sale/details/64779562/?search_identifier=5a66b4ac73df389e8f69bbc4785501f42de75686c56427c7fd8e82a844c1ef30\n",
      "Starting extraction for link 2694: https://www.zoopla.co.uk/for-sale/details/64774254/?search_identifier=5a66b4ac73df389e8f69bbc4785501f42de75686c56427c7fd8e82a844c1ef30\n"
     ]
    },
    {
     "name": "stderr",
     "output_type": "stream",
     "text": [
      "could not detect version_main.therefore, we are assuming it is chrome 108 or higher\n"
     ]
    },
    {
     "name": "stdout",
     "output_type": "stream",
     "text": [
      "Saved to db successfully\n",
      "Done with link 2694: https://www.zoopla.co.uk/for-sale/details/64774254/?search_identifier=5a66b4ac73df389e8f69bbc4785501f42de75686c56427c7fd8e82a844c1ef30\n",
      "Starting extraction for link 2695: https://www.zoopla.co.uk/for-sale/details/64762144/?search_identifier=5a66b4ac73df389e8f69bbc4785501f42de75686c56427c7fd8e82a844c1ef30\n"
     ]
    },
    {
     "name": "stderr",
     "output_type": "stream",
     "text": [
      "could not detect version_main.therefore, we are assuming it is chrome 108 or higher\n"
     ]
    },
    {
     "name": "stdout",
     "output_type": "stream",
     "text": [
      "Saved to db successfully\n",
      "Done with link 2695: https://www.zoopla.co.uk/for-sale/details/64762144/?search_identifier=5a66b4ac73df389e8f69bbc4785501f42de75686c56427c7fd8e82a844c1ef30\n",
      "Starting extraction for link 2696: https://www.zoopla.co.uk/for-sale/details/64752209/?search_identifier=5a66b4ac73df389e8f69bbc4785501f42de75686c56427c7fd8e82a844c1ef30\n"
     ]
    },
    {
     "name": "stderr",
     "output_type": "stream",
     "text": [
      "could not detect version_main.therefore, we are assuming it is chrome 108 or higher\n"
     ]
    },
    {
     "name": "stdout",
     "output_type": "stream",
     "text": [
      "Saved to db successfully\n",
      "Done with link 2696: https://www.zoopla.co.uk/for-sale/details/64752209/?search_identifier=5a66b4ac73df389e8f69bbc4785501f42de75686c56427c7fd8e82a844c1ef30\n",
      "Starting extraction for link 2697: https://www.zoopla.co.uk/for-sale/details/64754604/?search_identifier=5a66b4ac73df389e8f69bbc4785501f42de75686c56427c7fd8e82a844c1ef30\n"
     ]
    },
    {
     "name": "stderr",
     "output_type": "stream",
     "text": [
      "could not detect version_main.therefore, we are assuming it is chrome 108 or higher\n"
     ]
    },
    {
     "name": "stdout",
     "output_type": "stream",
     "text": [
      "Saved to db successfully\n",
      "Done with link 2697: https://www.zoopla.co.uk/for-sale/details/64754604/?search_identifier=5a66b4ac73df389e8f69bbc4785501f42de75686c56427c7fd8e82a844c1ef30\n",
      "Starting extraction for link 2698: https://www.zoopla.co.uk/for-sale/details/64744668/?search_identifier=5a66b4ac73df389e8f69bbc4785501f42de75686c56427c7fd8e82a844c1ef30\n"
     ]
    },
    {
     "name": "stderr",
     "output_type": "stream",
     "text": [
      "could not detect version_main.therefore, we are assuming it is chrome 108 or higher\n"
     ]
    },
    {
     "name": "stdout",
     "output_type": "stream",
     "text": [
      "Saved to db successfully\n",
      "Done with link 2698: https://www.zoopla.co.uk/for-sale/details/64744668/?search_identifier=5a66b4ac73df389e8f69bbc4785501f42de75686c56427c7fd8e82a844c1ef30\n",
      "Starting extraction for link 2699: https://www.zoopla.co.uk/for-sale/details/64744504/?search_identifier=5a66b4ac73df389e8f69bbc4785501f42de75686c56427c7fd8e82a844c1ef30\n"
     ]
    },
    {
     "name": "stderr",
     "output_type": "stream",
     "text": [
      "could not detect version_main.therefore, we are assuming it is chrome 108 or higher\n"
     ]
    },
    {
     "name": "stdout",
     "output_type": "stream",
     "text": [
      "Saved to db successfully\n",
      "Done with link 2699: https://www.zoopla.co.uk/for-sale/details/64744504/?search_identifier=5a66b4ac73df389e8f69bbc4785501f42de75686c56427c7fd8e82a844c1ef30\n",
      "Starting extraction for link 2700: https://www.zoopla.co.uk/for-sale/details/60107533/?search_identifier=5a66b4ac73df389e8f69bbc4785501f42de75686c56427c7fd8e82a844c1ef30\n"
     ]
    },
    {
     "name": "stderr",
     "output_type": "stream",
     "text": [
      "could not detect version_main.therefore, we are assuming it is chrome 108 or higher\n"
     ]
    },
    {
     "name": "stdout",
     "output_type": "stream",
     "text": [
      "Saved to db successfully\n",
      "Done with link 2700: https://www.zoopla.co.uk/for-sale/details/60107533/?search_identifier=5a66b4ac73df389e8f69bbc4785501f42de75686c56427c7fd8e82a844c1ef30\n",
      "Starting extraction for link 2701: https://www.zoopla.co.uk/for-sale/details/64721237/?search_identifier=5a66b4ac73df389e8f69bbc4785501f42de75686c56427c7fd8e82a844c1ef30\n"
     ]
    },
    {
     "name": "stderr",
     "output_type": "stream",
     "text": [
      "could not detect version_main.therefore, we are assuming it is chrome 108 or higher\n"
     ]
    },
    {
     "name": "stdout",
     "output_type": "stream",
     "text": [
      "Saved to db successfully\n",
      "Done with link 2701: https://www.zoopla.co.uk/for-sale/details/64721237/?search_identifier=5a66b4ac73df389e8f69bbc4785501f42de75686c56427c7fd8e82a844c1ef30\n",
      "Starting extraction for link 2702: https://www.zoopla.co.uk/for-sale/details/63886401/?search_identifier=5a66b4ac73df389e8f69bbc4785501f42de75686c56427c7fd8e82a844c1ef30\n"
     ]
    },
    {
     "name": "stderr",
     "output_type": "stream",
     "text": [
      "could not detect version_main.therefore, we are assuming it is chrome 108 or higher\n"
     ]
    },
    {
     "name": "stdout",
     "output_type": "stream",
     "text": [
      "Saved to db successfully\n",
      "Done with link 2702: https://www.zoopla.co.uk/for-sale/details/63886401/?search_identifier=5a66b4ac73df389e8f69bbc4785501f42de75686c56427c7fd8e82a844c1ef30\n",
      "Starting extraction for link 2703: https://www.zoopla.co.uk/for-sale/details/64711046/?search_identifier=5a66b4ac73df389e8f69bbc4785501f42de75686c56427c7fd8e82a844c1ef30\n"
     ]
    },
    {
     "name": "stderr",
     "output_type": "stream",
     "text": [
      "could not detect version_main.therefore, we are assuming it is chrome 108 or higher\n"
     ]
    },
    {
     "name": "stdout",
     "output_type": "stream",
     "text": [
      "Saved to db successfully\n",
      "Done with link 2703: https://www.zoopla.co.uk/for-sale/details/64711046/?search_identifier=5a66b4ac73df389e8f69bbc4785501f42de75686c56427c7fd8e82a844c1ef30\n",
      "Starting extraction for link 2704: https://www.zoopla.co.uk/for-sale/details/64710618/?search_identifier=5a66b4ac73df389e8f69bbc4785501f42de75686c56427c7fd8e82a844c1ef30\n"
     ]
    },
    {
     "name": "stderr",
     "output_type": "stream",
     "text": [
      "could not detect version_main.therefore, we are assuming it is chrome 108 or higher\n"
     ]
    },
    {
     "name": "stdout",
     "output_type": "stream",
     "text": [
      "Saved to db successfully\n",
      "Done with link 2704: https://www.zoopla.co.uk/for-sale/details/64710618/?search_identifier=5a66b4ac73df389e8f69bbc4785501f42de75686c56427c7fd8e82a844c1ef30\n",
      "Starting extraction for link 2705: https://www.zoopla.co.uk/for-sale/details/64708125/?search_identifier=5a66b4ac73df389e8f69bbc4785501f42de75686c56427c7fd8e82a844c1ef30\n"
     ]
    },
    {
     "name": "stderr",
     "output_type": "stream",
     "text": [
      "could not detect version_main.therefore, we are assuming it is chrome 108 or higher\n"
     ]
    },
    {
     "name": "stdout",
     "output_type": "stream",
     "text": [
      "Saved to db successfully\n",
      "Done with link 2705: https://www.zoopla.co.uk/for-sale/details/64708125/?search_identifier=5a66b4ac73df389e8f69bbc4785501f42de75686c56427c7fd8e82a844c1ef30\n",
      "Starting extraction for link 2706: https://www.zoopla.co.uk/new-homes/details/64706310/?search_identifier=5a66b4ac73df389e8f69bbc4785501f42de75686c56427c7fd8e82a844c1ef30\n"
     ]
    },
    {
     "name": "stderr",
     "output_type": "stream",
     "text": [
      "could not detect version_main.therefore, we are assuming it is chrome 108 or higher\n"
     ]
    },
    {
     "name": "stdout",
     "output_type": "stream",
     "text": [
      "Saved to db successfully\n",
      "Done with link 2706: https://www.zoopla.co.uk/new-homes/details/64706310/?search_identifier=5a66b4ac73df389e8f69bbc4785501f42de75686c56427c7fd8e82a844c1ef30\n",
      "Starting extraction for link 2707: https://www.zoopla.co.uk/for-sale/details/64706148/?search_identifier=5a66b4ac73df389e8f69bbc4785501f42de75686c56427c7fd8e82a844c1ef30\n"
     ]
    },
    {
     "name": "stderr",
     "output_type": "stream",
     "text": [
      "could not detect version_main.therefore, we are assuming it is chrome 108 or higher\n"
     ]
    },
    {
     "name": "stdout",
     "output_type": "stream",
     "text": [
      "Saved to db successfully\n",
      "Done with link 2707: https://www.zoopla.co.uk/for-sale/details/64706148/?search_identifier=5a66b4ac73df389e8f69bbc4785501f42de75686c56427c7fd8e82a844c1ef30\n",
      "Starting extraction for link 2708: https://www.zoopla.co.uk/for-sale/details/64706061/?search_identifier=5a66b4ac73df389e8f69bbc4785501f42de75686c56427c7fd8e82a844c1ef30\n"
     ]
    },
    {
     "name": "stderr",
     "output_type": "stream",
     "text": [
      "could not detect version_main.therefore, we are assuming it is chrome 108 or higher\n"
     ]
    },
    {
     "name": "stdout",
     "output_type": "stream",
     "text": [
      "Saved to db successfully\n",
      "Done with link 2708: https://www.zoopla.co.uk/for-sale/details/64706061/?search_identifier=5a66b4ac73df389e8f69bbc4785501f42de75686c56427c7fd8e82a844c1ef30\n",
      "Starting extraction for link 2709: https://www.zoopla.co.uk/for-sale/details/64703002/?search_identifier=c34d913286486f15f06c5c9131915ae735cdff9cc34949be5f4ab6039b00b532\n"
     ]
    },
    {
     "name": "stderr",
     "output_type": "stream",
     "text": [
      "could not detect version_main.therefore, we are assuming it is chrome 108 or higher\n"
     ]
    },
    {
     "name": "stdout",
     "output_type": "stream",
     "text": [
      "Saved to db successfully\n",
      "Done with link 2709: https://www.zoopla.co.uk/for-sale/details/64703002/?search_identifier=c34d913286486f15f06c5c9131915ae735cdff9cc34949be5f4ab6039b00b532\n",
      "Starting extraction for link 2710: https://www.zoopla.co.uk/for-sale/details/64694707/?search_identifier=c34d913286486f15f06c5c9131915ae735cdff9cc34949be5f4ab6039b00b532\n"
     ]
    },
    {
     "name": "stderr",
     "output_type": "stream",
     "text": [
      "could not detect version_main.therefore, we are assuming it is chrome 108 or higher\n"
     ]
    },
    {
     "name": "stdout",
     "output_type": "stream",
     "text": [
      "Saved to db successfully\n",
      "Done with link 2710: https://www.zoopla.co.uk/for-sale/details/64694707/?search_identifier=c34d913286486f15f06c5c9131915ae735cdff9cc34949be5f4ab6039b00b532\n",
      "Starting extraction for link 2711: https://www.zoopla.co.uk/for-sale/details/64690810/?search_identifier=c34d913286486f15f06c5c9131915ae735cdff9cc34949be5f4ab6039b00b532\n"
     ]
    },
    {
     "name": "stderr",
     "output_type": "stream",
     "text": [
      "could not detect version_main.therefore, we are assuming it is chrome 108 or higher\n"
     ]
    },
    {
     "name": "stdout",
     "output_type": "stream",
     "text": [
      "Saved to db successfully\n",
      "Done with link 2711: https://www.zoopla.co.uk/for-sale/details/64690810/?search_identifier=c34d913286486f15f06c5c9131915ae735cdff9cc34949be5f4ab6039b00b532\n",
      "Starting extraction for link 2712: https://www.zoopla.co.uk/for-sale/details/64679249/?search_identifier=c34d913286486f15f06c5c9131915ae735cdff9cc34949be5f4ab6039b00b532\n"
     ]
    },
    {
     "name": "stderr",
     "output_type": "stream",
     "text": [
      "could not detect version_main.therefore, we are assuming it is chrome 108 or higher\n"
     ]
    },
    {
     "name": "stdout",
     "output_type": "stream",
     "text": [
      "Saved to db successfully\n",
      "Done with link 2712: https://www.zoopla.co.uk/for-sale/details/64679249/?search_identifier=c34d913286486f15f06c5c9131915ae735cdff9cc34949be5f4ab6039b00b532\n",
      "Starting extraction for link 2713: https://www.zoopla.co.uk/for-sale/details/64677931/?search_identifier=c34d913286486f15f06c5c9131915ae735cdff9cc34949be5f4ab6039b00b532\n"
     ]
    },
    {
     "name": "stderr",
     "output_type": "stream",
     "text": [
      "could not detect version_main.therefore, we are assuming it is chrome 108 or higher\n"
     ]
    },
    {
     "name": "stdout",
     "output_type": "stream",
     "text": [
      "Saved to db successfully\n",
      "Done with link 2713: https://www.zoopla.co.uk/for-sale/details/64677931/?search_identifier=c34d913286486f15f06c5c9131915ae735cdff9cc34949be5f4ab6039b00b532\n",
      "Starting extraction for link 2714: https://www.zoopla.co.uk/for-sale/details/64669278/?search_identifier=c34d913286486f15f06c5c9131915ae735cdff9cc34949be5f4ab6039b00b532\n"
     ]
    },
    {
     "name": "stderr",
     "output_type": "stream",
     "text": [
      "could not detect version_main.therefore, we are assuming it is chrome 108 or higher\n"
     ]
    },
    {
     "name": "stdout",
     "output_type": "stream",
     "text": [
      "Saved to db successfully\n",
      "Done with link 2714: https://www.zoopla.co.uk/for-sale/details/64669278/?search_identifier=c34d913286486f15f06c5c9131915ae735cdff9cc34949be5f4ab6039b00b532\n",
      "Starting extraction for link 2715: https://www.zoopla.co.uk/for-sale/details/64661657/?search_identifier=c34d913286486f15f06c5c9131915ae735cdff9cc34949be5f4ab6039b00b532\n"
     ]
    },
    {
     "name": "stderr",
     "output_type": "stream",
     "text": [
      "could not detect version_main.therefore, we are assuming it is chrome 108 or higher\n"
     ]
    },
    {
     "name": "stdout",
     "output_type": "stream",
     "text": [
      "Saved to db successfully\n",
      "Done with link 2715: https://www.zoopla.co.uk/for-sale/details/64661657/?search_identifier=c34d913286486f15f06c5c9131915ae735cdff9cc34949be5f4ab6039b00b532\n",
      "Starting extraction for link 2716: https://www.zoopla.co.uk/for-sale/details/64656459/?search_identifier=c34d913286486f15f06c5c9131915ae735cdff9cc34949be5f4ab6039b00b532\n"
     ]
    },
    {
     "name": "stderr",
     "output_type": "stream",
     "text": [
      "could not detect version_main.therefore, we are assuming it is chrome 108 or higher\n"
     ]
    },
    {
     "name": "stdout",
     "output_type": "stream",
     "text": [
      "Saved to db successfully\n",
      "Done with link 2716: https://www.zoopla.co.uk/for-sale/details/64656459/?search_identifier=c34d913286486f15f06c5c9131915ae735cdff9cc34949be5f4ab6039b00b532\n",
      "Starting extraction for link 2717: https://www.zoopla.co.uk/for-sale/details/64655217/?search_identifier=c34d913286486f15f06c5c9131915ae735cdff9cc34949be5f4ab6039b00b532\n"
     ]
    },
    {
     "name": "stderr",
     "output_type": "stream",
     "text": [
      "could not detect version_main.therefore, we are assuming it is chrome 108 or higher\n"
     ]
    },
    {
     "name": "stdout",
     "output_type": "stream",
     "text": [
      "Saved to db successfully\n",
      "Done with link 2717: https://www.zoopla.co.uk/for-sale/details/64655217/?search_identifier=c34d913286486f15f06c5c9131915ae735cdff9cc34949be5f4ab6039b00b532\n",
      "Starting extraction for link 2718: https://www.zoopla.co.uk/for-sale/details/64648215/?search_identifier=c34d913286486f15f06c5c9131915ae735cdff9cc34949be5f4ab6039b00b532\n"
     ]
    },
    {
     "name": "stderr",
     "output_type": "stream",
     "text": [
      "could not detect version_main.therefore, we are assuming it is chrome 108 or higher\n"
     ]
    },
    {
     "name": "stdout",
     "output_type": "stream",
     "text": [
      "Saved to db successfully\n",
      "Done with link 2718: https://www.zoopla.co.uk/for-sale/details/64648215/?search_identifier=c34d913286486f15f06c5c9131915ae735cdff9cc34949be5f4ab6039b00b532\n",
      "Starting extraction for link 2719: https://www.zoopla.co.uk/for-sale/details/64642881/?search_identifier=c34d913286486f15f06c5c9131915ae735cdff9cc34949be5f4ab6039b00b532\n"
     ]
    },
    {
     "name": "stderr",
     "output_type": "stream",
     "text": [
      "could not detect version_main.therefore, we are assuming it is chrome 108 or higher\n"
     ]
    },
    {
     "name": "stdout",
     "output_type": "stream",
     "text": [
      "Saved to db successfully\n",
      "Done with link 2719: https://www.zoopla.co.uk/for-sale/details/64642881/?search_identifier=c34d913286486f15f06c5c9131915ae735cdff9cc34949be5f4ab6039b00b532\n",
      "Starting extraction for link 2720: https://www.zoopla.co.uk/for-sale/details/64640136/?search_identifier=c34d913286486f15f06c5c9131915ae735cdff9cc34949be5f4ab6039b00b532\n"
     ]
    },
    {
     "name": "stderr",
     "output_type": "stream",
     "text": [
      "could not detect version_main.therefore, we are assuming it is chrome 108 or higher\n"
     ]
    },
    {
     "name": "stdout",
     "output_type": "stream",
     "text": [
      "Saved to db successfully\n",
      "Done with link 2720: https://www.zoopla.co.uk/for-sale/details/64640136/?search_identifier=c34d913286486f15f06c5c9131915ae735cdff9cc34949be5f4ab6039b00b532\n",
      "Starting extraction for link 2721: https://www.zoopla.co.uk/for-sale/details/64628825/?search_identifier=c34d913286486f15f06c5c9131915ae735cdff9cc34949be5f4ab6039b00b532\n"
     ]
    },
    {
     "name": "stderr",
     "output_type": "stream",
     "text": [
      "could not detect version_main.therefore, we are assuming it is chrome 108 or higher\n"
     ]
    },
    {
     "name": "stdout",
     "output_type": "stream",
     "text": [
      "Saved to db successfully\n",
      "Done with link 2721: https://www.zoopla.co.uk/for-sale/details/64628825/?search_identifier=c34d913286486f15f06c5c9131915ae735cdff9cc34949be5f4ab6039b00b532\n",
      "Starting extraction for link 2722: https://www.zoopla.co.uk/for-sale/details/64626606/?search_identifier=c34d913286486f15f06c5c9131915ae735cdff9cc34949be5f4ab6039b00b532\n"
     ]
    },
    {
     "name": "stderr",
     "output_type": "stream",
     "text": [
      "could not detect version_main.therefore, we are assuming it is chrome 108 or higher\n"
     ]
    },
    {
     "name": "stdout",
     "output_type": "stream",
     "text": [
      "Saved to db successfully\n",
      "Done with link 2722: https://www.zoopla.co.uk/for-sale/details/64626606/?search_identifier=c34d913286486f15f06c5c9131915ae735cdff9cc34949be5f4ab6039b00b532\n",
      "Starting extraction for link 2723: https://www.zoopla.co.uk/for-sale/details/64625762/?search_identifier=c34d913286486f15f06c5c9131915ae735cdff9cc34949be5f4ab6039b00b532\n"
     ]
    },
    {
     "name": "stderr",
     "output_type": "stream",
     "text": [
      "could not detect version_main.therefore, we are assuming it is chrome 108 or higher\n"
     ]
    },
    {
     "name": "stdout",
     "output_type": "stream",
     "text": [
      "Saved to db successfully\n",
      "Done with link 2723: https://www.zoopla.co.uk/for-sale/details/64625762/?search_identifier=c34d913286486f15f06c5c9131915ae735cdff9cc34949be5f4ab6039b00b532\n",
      "Starting extraction for link 2724: https://www.zoopla.co.uk/new-homes/details/64624478/?search_identifier=c34d913286486f15f06c5c9131915ae735cdff9cc34949be5f4ab6039b00b532\n"
     ]
    },
    {
     "name": "stderr",
     "output_type": "stream",
     "text": [
      "could not detect version_main.therefore, we are assuming it is chrome 108 or higher\n"
     ]
    },
    {
     "name": "stdout",
     "output_type": "stream",
     "text": [
      "Saved to db successfully\n",
      "Done with link 2724: https://www.zoopla.co.uk/new-homes/details/64624478/?search_identifier=c34d913286486f15f06c5c9131915ae735cdff9cc34949be5f4ab6039b00b532\n",
      "Starting extraction for link 2725: https://www.zoopla.co.uk/new-homes/details/64624475/?search_identifier=c34d913286486f15f06c5c9131915ae735cdff9cc34949be5f4ab6039b00b532\n"
     ]
    },
    {
     "name": "stderr",
     "output_type": "stream",
     "text": [
      "could not detect version_main.therefore, we are assuming it is chrome 108 or higher\n"
     ]
    },
    {
     "name": "stdout",
     "output_type": "stream",
     "text": [
      "Saved to db successfully\n",
      "Done with link 2725: https://www.zoopla.co.uk/new-homes/details/64624475/?search_identifier=c34d913286486f15f06c5c9131915ae735cdff9cc34949be5f4ab6039b00b532\n",
      "Starting extraction for link 2726: https://www.zoopla.co.uk/for-sale/details/64621145/?search_identifier=c34d913286486f15f06c5c9131915ae735cdff9cc34949be5f4ab6039b00b532\n"
     ]
    },
    {
     "name": "stderr",
     "output_type": "stream",
     "text": [
      "could not detect version_main.therefore, we are assuming it is chrome 108 or higher\n"
     ]
    },
    {
     "name": "stdout",
     "output_type": "stream",
     "text": [
      "Saved to db successfully\n",
      "Done with link 2726: https://www.zoopla.co.uk/for-sale/details/64621145/?search_identifier=c34d913286486f15f06c5c9131915ae735cdff9cc34949be5f4ab6039b00b532\n",
      "Starting extraction for link 2727: https://www.zoopla.co.uk/for-sale/details/64615477/?search_identifier=c34d913286486f15f06c5c9131915ae735cdff9cc34949be5f4ab6039b00b532\n"
     ]
    },
    {
     "name": "stderr",
     "output_type": "stream",
     "text": [
      "could not detect version_main.therefore, we are assuming it is chrome 108 or higher\n"
     ]
    },
    {
     "name": "stdout",
     "output_type": "stream",
     "text": [
      "Saved to db successfully\n",
      "Done with link 2727: https://www.zoopla.co.uk/for-sale/details/64615477/?search_identifier=c34d913286486f15f06c5c9131915ae735cdff9cc34949be5f4ab6039b00b532\n",
      "Starting extraction for link 2728: https://www.zoopla.co.uk/for-sale/details/64612626/?search_identifier=c34d913286486f15f06c5c9131915ae735cdff9cc34949be5f4ab6039b00b532\n"
     ]
    },
    {
     "name": "stderr",
     "output_type": "stream",
     "text": [
      "could not detect version_main.therefore, we are assuming it is chrome 108 or higher\n"
     ]
    },
    {
     "name": "stdout",
     "output_type": "stream",
     "text": [
      "Saved to db successfully\n",
      "Done with link 2728: https://www.zoopla.co.uk/for-sale/details/64612626/?search_identifier=c34d913286486f15f06c5c9131915ae735cdff9cc34949be5f4ab6039b00b532\n",
      "Starting extraction for link 2729: https://www.zoopla.co.uk/for-sale/details/64609069/?search_identifier=c34d913286486f15f06c5c9131915ae735cdff9cc34949be5f4ab6039b00b532\n"
     ]
    },
    {
     "name": "stderr",
     "output_type": "stream",
     "text": [
      "could not detect version_main.therefore, we are assuming it is chrome 108 or higher\n"
     ]
    },
    {
     "name": "stdout",
     "output_type": "stream",
     "text": [
      "Saved to db successfully\n",
      "Done with link 2729: https://www.zoopla.co.uk/for-sale/details/64609069/?search_identifier=c34d913286486f15f06c5c9131915ae735cdff9cc34949be5f4ab6039b00b532\n",
      "Starting extraction for link 2730: https://www.zoopla.co.uk/for-sale/details/64608505/?search_identifier=c34d913286486f15f06c5c9131915ae735cdff9cc34949be5f4ab6039b00b532\n"
     ]
    },
    {
     "name": "stderr",
     "output_type": "stream",
     "text": [
      "could not detect version_main.therefore, we are assuming it is chrome 108 or higher\n"
     ]
    },
    {
     "name": "stdout",
     "output_type": "stream",
     "text": [
      "Saved to db successfully\n",
      "Done with link 2730: https://www.zoopla.co.uk/for-sale/details/64608505/?search_identifier=c34d913286486f15f06c5c9131915ae735cdff9cc34949be5f4ab6039b00b532\n",
      "Starting extraction for link 2731: https://www.zoopla.co.uk/for-sale/details/64593065/?search_identifier=c34d913286486f15f06c5c9131915ae735cdff9cc34949be5f4ab6039b00b532\n"
     ]
    },
    {
     "name": "stderr",
     "output_type": "stream",
     "text": [
      "could not detect version_main.therefore, we are assuming it is chrome 108 or higher\n"
     ]
    },
    {
     "name": "stdout",
     "output_type": "stream",
     "text": [
      "Saved to db successfully\n",
      "Done with link 2731: https://www.zoopla.co.uk/for-sale/details/64593065/?search_identifier=c34d913286486f15f06c5c9131915ae735cdff9cc34949be5f4ab6039b00b532\n",
      "Starting extraction for link 2732: https://www.zoopla.co.uk/for-sale/details/64587494/?search_identifier=c34d913286486f15f06c5c9131915ae735cdff9cc34949be5f4ab6039b00b532\n"
     ]
    },
    {
     "name": "stderr",
     "output_type": "stream",
     "text": [
      "could not detect version_main.therefore, we are assuming it is chrome 108 or higher\n"
     ]
    },
    {
     "name": "stdout",
     "output_type": "stream",
     "text": [
      "Saved to db successfully\n",
      "Done with link 2732: https://www.zoopla.co.uk/for-sale/details/64587494/?search_identifier=c34d913286486f15f06c5c9131915ae735cdff9cc34949be5f4ab6039b00b532\n",
      "Starting extraction for link 2733: https://www.zoopla.co.uk/for-sale/details/64587444/?search_identifier=c34d913286486f15f06c5c9131915ae735cdff9cc34949be5f4ab6039b00b532\n"
     ]
    },
    {
     "name": "stderr",
     "output_type": "stream",
     "text": [
      "could not detect version_main.therefore, we are assuming it is chrome 108 or higher\n"
     ]
    },
    {
     "name": "stdout",
     "output_type": "stream",
     "text": [
      "Saved to db successfully\n",
      "Done with link 2733: https://www.zoopla.co.uk/for-sale/details/64587444/?search_identifier=c34d913286486f15f06c5c9131915ae735cdff9cc34949be5f4ab6039b00b532\n",
      "Starting extraction for link 2734: https://www.zoopla.co.uk/for-sale/details/64586986/?search_identifier=23e84ba9f4e3685a0d25f8ab59164240197823e4ad05220e1b12b5c118aa92c7\n"
     ]
    },
    {
     "name": "stderr",
     "output_type": "stream",
     "text": [
      "could not detect version_main.therefore, we are assuming it is chrome 108 or higher\n"
     ]
    },
    {
     "name": "stdout",
     "output_type": "stream",
     "text": [
      "Saved to db successfully\n",
      "Done with link 2734: https://www.zoopla.co.uk/for-sale/details/64586986/?search_identifier=23e84ba9f4e3685a0d25f8ab59164240197823e4ad05220e1b12b5c118aa92c7\n",
      "Starting extraction for link 2735: https://www.zoopla.co.uk/for-sale/details/64521258/?search_identifier=23e84ba9f4e3685a0d25f8ab59164240197823e4ad05220e1b12b5c118aa92c7\n"
     ]
    },
    {
     "name": "stderr",
     "output_type": "stream",
     "text": [
      "could not detect version_main.therefore, we are assuming it is chrome 108 or higher\n"
     ]
    },
    {
     "name": "stdout",
     "output_type": "stream",
     "text": [
      "Saved to db successfully\n",
      "Done with link 2735: https://www.zoopla.co.uk/for-sale/details/64521258/?search_identifier=23e84ba9f4e3685a0d25f8ab59164240197823e4ad05220e1b12b5c118aa92c7\n",
      "Starting extraction for link 2736: https://www.zoopla.co.uk/for-sale/details/64562526/?search_identifier=23e84ba9f4e3685a0d25f8ab59164240197823e4ad05220e1b12b5c118aa92c7\n"
     ]
    },
    {
     "name": "stderr",
     "output_type": "stream",
     "text": [
      "could not detect version_main.therefore, we are assuming it is chrome 108 or higher\n"
     ]
    },
    {
     "name": "stdout",
     "output_type": "stream",
     "text": [
      "Saved to db successfully\n",
      "Done with link 2736: https://www.zoopla.co.uk/for-sale/details/64562526/?search_identifier=23e84ba9f4e3685a0d25f8ab59164240197823e4ad05220e1b12b5c118aa92c7\n",
      "Starting extraction for link 2737: https://www.zoopla.co.uk/new-homes/details/64546646/?search_identifier=23e84ba9f4e3685a0d25f8ab59164240197823e4ad05220e1b12b5c118aa92c7\n"
     ]
    },
    {
     "name": "stderr",
     "output_type": "stream",
     "text": [
      "could not detect version_main.therefore, we are assuming it is chrome 108 or higher\n"
     ]
    },
    {
     "name": "stdout",
     "output_type": "stream",
     "text": [
      "Saved to db successfully\n",
      "Done with link 2737: https://www.zoopla.co.uk/new-homes/details/64546646/?search_identifier=23e84ba9f4e3685a0d25f8ab59164240197823e4ad05220e1b12b5c118aa92c7\n",
      "Starting extraction for link 2738: https://www.zoopla.co.uk/for-sale/details/64525340/?search_identifier=23e84ba9f4e3685a0d25f8ab59164240197823e4ad05220e1b12b5c118aa92c7\n"
     ]
    },
    {
     "name": "stderr",
     "output_type": "stream",
     "text": [
      "could not detect version_main.therefore, we are assuming it is chrome 108 or higher\n"
     ]
    },
    {
     "name": "stdout",
     "output_type": "stream",
     "text": [
      "Saved to db successfully\n",
      "Done with link 2738: https://www.zoopla.co.uk/for-sale/details/64525340/?search_identifier=23e84ba9f4e3685a0d25f8ab59164240197823e4ad05220e1b12b5c118aa92c7\n",
      "Starting extraction for link 2739: https://www.zoopla.co.uk/new-homes/details/64522307/?search_identifier=23e84ba9f4e3685a0d25f8ab59164240197823e4ad05220e1b12b5c118aa92c7\n"
     ]
    },
    {
     "name": "stderr",
     "output_type": "stream",
     "text": [
      "could not detect version_main.therefore, we are assuming it is chrome 108 or higher\n"
     ]
    },
    {
     "name": "stdout",
     "output_type": "stream",
     "text": [
      "Saved to db successfully\n",
      "Done with link 2739: https://www.zoopla.co.uk/new-homes/details/64522307/?search_identifier=23e84ba9f4e3685a0d25f8ab59164240197823e4ad05220e1b12b5c118aa92c7\n",
      "Starting extraction for link 2740: https://www.zoopla.co.uk/new-homes/details/64522192/?search_identifier=23e84ba9f4e3685a0d25f8ab59164240197823e4ad05220e1b12b5c118aa92c7\n"
     ]
    },
    {
     "name": "stderr",
     "output_type": "stream",
     "text": [
      "could not detect version_main.therefore, we are assuming it is chrome 108 or higher\n"
     ]
    },
    {
     "name": "stdout",
     "output_type": "stream",
     "text": [
      "Saved to db successfully\n",
      "Done with link 2740: https://www.zoopla.co.uk/new-homes/details/64522192/?search_identifier=23e84ba9f4e3685a0d25f8ab59164240197823e4ad05220e1b12b5c118aa92c7\n",
      "Starting extraction for link 2741: https://www.zoopla.co.uk/for-sale/details/64521968/?search_identifier=23e84ba9f4e3685a0d25f8ab59164240197823e4ad05220e1b12b5c118aa92c7\n"
     ]
    },
    {
     "name": "stderr",
     "output_type": "stream",
     "text": [
      "could not detect version_main.therefore, we are assuming it is chrome 108 or higher\n"
     ]
    },
    {
     "name": "stdout",
     "output_type": "stream",
     "text": [
      "Saved to db successfully\n",
      "Done with link 2741: https://www.zoopla.co.uk/for-sale/details/64521968/?search_identifier=23e84ba9f4e3685a0d25f8ab59164240197823e4ad05220e1b12b5c118aa92c7\n",
      "Starting extraction for link 2742: https://www.zoopla.co.uk/for-sale/details/64519464/?search_identifier=23e84ba9f4e3685a0d25f8ab59164240197823e4ad05220e1b12b5c118aa92c7\n"
     ]
    },
    {
     "name": "stderr",
     "output_type": "stream",
     "text": [
      "could not detect version_main.therefore, we are assuming it is chrome 108 or higher\n"
     ]
    },
    {
     "name": "stdout",
     "output_type": "stream",
     "text": [
      "Saved to db successfully\n",
      "Done with link 2742: https://www.zoopla.co.uk/for-sale/details/64519464/?search_identifier=23e84ba9f4e3685a0d25f8ab59164240197823e4ad05220e1b12b5c118aa92c7\n",
      "Starting extraction for link 2743: https://www.zoopla.co.uk/for-sale/details/64517014/?search_identifier=23e84ba9f4e3685a0d25f8ab59164240197823e4ad05220e1b12b5c118aa92c7\n"
     ]
    },
    {
     "name": "stderr",
     "output_type": "stream",
     "text": [
      "could not detect version_main.therefore, we are assuming it is chrome 108 or higher\n"
     ]
    },
    {
     "name": "stdout",
     "output_type": "stream",
     "text": [
      "Saved to db successfully\n",
      "Done with link 2743: https://www.zoopla.co.uk/for-sale/details/64517014/?search_identifier=23e84ba9f4e3685a0d25f8ab59164240197823e4ad05220e1b12b5c118aa92c7\n",
      "Starting extraction for link 2744: https://www.zoopla.co.uk/for-sale/details/64513111/?search_identifier=23e84ba9f4e3685a0d25f8ab59164240197823e4ad05220e1b12b5c118aa92c7\n"
     ]
    },
    {
     "name": "stderr",
     "output_type": "stream",
     "text": [
      "could not detect version_main.therefore, we are assuming it is chrome 108 or higher\n"
     ]
    },
    {
     "name": "stdout",
     "output_type": "stream",
     "text": [
      "Saved to db successfully\n",
      "Done with link 2744: https://www.zoopla.co.uk/for-sale/details/64513111/?search_identifier=23e84ba9f4e3685a0d25f8ab59164240197823e4ad05220e1b12b5c118aa92c7\n",
      "Starting extraction for link 2745: https://www.zoopla.co.uk/for-sale/details/64510333/?search_identifier=23e84ba9f4e3685a0d25f8ab59164240197823e4ad05220e1b12b5c118aa92c7\n"
     ]
    },
    {
     "name": "stderr",
     "output_type": "stream",
     "text": [
      "could not detect version_main.therefore, we are assuming it is chrome 108 or higher\n"
     ]
    },
    {
     "name": "stdout",
     "output_type": "stream",
     "text": [
      "Saved to db successfully\n",
      "Done with link 2745: https://www.zoopla.co.uk/for-sale/details/64510333/?search_identifier=23e84ba9f4e3685a0d25f8ab59164240197823e4ad05220e1b12b5c118aa92c7\n",
      "Starting extraction for link 2746: https://www.zoopla.co.uk/for-sale/details/64509397/?search_identifier=23e84ba9f4e3685a0d25f8ab59164240197823e4ad05220e1b12b5c118aa92c7\n"
     ]
    },
    {
     "name": "stderr",
     "output_type": "stream",
     "text": [
      "could not detect version_main.therefore, we are assuming it is chrome 108 or higher\n"
     ]
    },
    {
     "name": "stdout",
     "output_type": "stream",
     "text": [
      "Saved to db successfully\n",
      "Done with link 2746: https://www.zoopla.co.uk/for-sale/details/64509397/?search_identifier=23e84ba9f4e3685a0d25f8ab59164240197823e4ad05220e1b12b5c118aa92c7\n",
      "Starting extraction for link 2747: https://www.zoopla.co.uk/new-homes/details/64495005/?search_identifier=23e84ba9f4e3685a0d25f8ab59164240197823e4ad05220e1b12b5c118aa92c7\n"
     ]
    },
    {
     "name": "stderr",
     "output_type": "stream",
     "text": [
      "could not detect version_main.therefore, we are assuming it is chrome 108 or higher\n"
     ]
    },
    {
     "name": "stdout",
     "output_type": "stream",
     "text": [
      "Saved to db successfully\n",
      "Done with link 2747: https://www.zoopla.co.uk/new-homes/details/64495005/?search_identifier=23e84ba9f4e3685a0d25f8ab59164240197823e4ad05220e1b12b5c118aa92c7\n",
      "Starting extraction for link 2748: https://www.zoopla.co.uk/for-sale/details/64494355/?search_identifier=23e84ba9f4e3685a0d25f8ab59164240197823e4ad05220e1b12b5c118aa92c7\n"
     ]
    },
    {
     "name": "stderr",
     "output_type": "stream",
     "text": [
      "could not detect version_main.therefore, we are assuming it is chrome 108 or higher\n"
     ]
    },
    {
     "name": "stdout",
     "output_type": "stream",
     "text": [
      "Saved to db successfully\n",
      "Done with link 2748: https://www.zoopla.co.uk/for-sale/details/64494355/?search_identifier=23e84ba9f4e3685a0d25f8ab59164240197823e4ad05220e1b12b5c118aa92c7\n",
      "Starting extraction for link 2749: https://www.zoopla.co.uk/for-sale/details/64487209/?search_identifier=23e84ba9f4e3685a0d25f8ab59164240197823e4ad05220e1b12b5c118aa92c7\n"
     ]
    },
    {
     "name": "stderr",
     "output_type": "stream",
     "text": [
      "could not detect version_main.therefore, we are assuming it is chrome 108 or higher\n"
     ]
    },
    {
     "name": "stdout",
     "output_type": "stream",
     "text": [
      "Saved to db successfully\n",
      "Done with link 2749: https://www.zoopla.co.uk/for-sale/details/64487209/?search_identifier=23e84ba9f4e3685a0d25f8ab59164240197823e4ad05220e1b12b5c118aa92c7\n",
      "Starting extraction for link 2750: https://www.zoopla.co.uk/for-sale/details/64482915/?search_identifier=23e84ba9f4e3685a0d25f8ab59164240197823e4ad05220e1b12b5c118aa92c7\n"
     ]
    },
    {
     "name": "stderr",
     "output_type": "stream",
     "text": [
      "could not detect version_main.therefore, we are assuming it is chrome 108 or higher\n"
     ]
    },
    {
     "name": "stdout",
     "output_type": "stream",
     "text": [
      "Saved to db successfully\n",
      "Done with link 2750: https://www.zoopla.co.uk/for-sale/details/64482915/?search_identifier=23e84ba9f4e3685a0d25f8ab59164240197823e4ad05220e1b12b5c118aa92c7\n",
      "Starting extraction for link 2751: https://www.zoopla.co.uk/for-sale/details/64473501/?search_identifier=23e84ba9f4e3685a0d25f8ab59164240197823e4ad05220e1b12b5c118aa92c7\n"
     ]
    },
    {
     "name": "stderr",
     "output_type": "stream",
     "text": [
      "could not detect version_main.therefore, we are assuming it is chrome 108 or higher\n"
     ]
    },
    {
     "name": "stdout",
     "output_type": "stream",
     "text": [
      "Saved to db successfully\n",
      "Done with link 2751: https://www.zoopla.co.uk/for-sale/details/64473501/?search_identifier=23e84ba9f4e3685a0d25f8ab59164240197823e4ad05220e1b12b5c118aa92c7\n",
      "Starting extraction for link 2752: https://www.zoopla.co.uk/for-sale/details/64470920/?search_identifier=23e84ba9f4e3685a0d25f8ab59164240197823e4ad05220e1b12b5c118aa92c7\n"
     ]
    },
    {
     "name": "stderr",
     "output_type": "stream",
     "text": [
      "could not detect version_main.therefore, we are assuming it is chrome 108 or higher\n"
     ]
    },
    {
     "name": "stdout",
     "output_type": "stream",
     "text": [
      "Saved to db successfully\n",
      "Done with link 2752: https://www.zoopla.co.uk/for-sale/details/64470920/?search_identifier=23e84ba9f4e3685a0d25f8ab59164240197823e4ad05220e1b12b5c118aa92c7\n",
      "Starting extraction for link 2753: https://www.zoopla.co.uk/for-sale/details/62624875/?search_identifier=23e84ba9f4e3685a0d25f8ab59164240197823e4ad05220e1b12b5c118aa92c7\n"
     ]
    },
    {
     "name": "stderr",
     "output_type": "stream",
     "text": [
      "could not detect version_main.therefore, we are assuming it is chrome 108 or higher\n"
     ]
    },
    {
     "name": "stdout",
     "output_type": "stream",
     "text": [
      "Saved to db successfully\n",
      "Done with link 2753: https://www.zoopla.co.uk/for-sale/details/62624875/?search_identifier=23e84ba9f4e3685a0d25f8ab59164240197823e4ad05220e1b12b5c118aa92c7\n",
      "Starting extraction for link 2754: https://www.zoopla.co.uk/for-sale/details/64460364/?search_identifier=23e84ba9f4e3685a0d25f8ab59164240197823e4ad05220e1b12b5c118aa92c7\n"
     ]
    },
    {
     "name": "stderr",
     "output_type": "stream",
     "text": [
      "could not detect version_main.therefore, we are assuming it is chrome 108 or higher\n"
     ]
    },
    {
     "name": "stdout",
     "output_type": "stream",
     "text": [
      "Saved to db successfully\n",
      "Done with link 2754: https://www.zoopla.co.uk/for-sale/details/64460364/?search_identifier=23e84ba9f4e3685a0d25f8ab59164240197823e4ad05220e1b12b5c118aa92c7\n",
      "Starting extraction for link 2755: https://www.zoopla.co.uk/for-sale/details/64453376/?search_identifier=23e84ba9f4e3685a0d25f8ab59164240197823e4ad05220e1b12b5c118aa92c7\n"
     ]
    },
    {
     "name": "stderr",
     "output_type": "stream",
     "text": [
      "could not detect version_main.therefore, we are assuming it is chrome 108 or higher\n"
     ]
    },
    {
     "name": "stdout",
     "output_type": "stream",
     "text": [
      "Saved to db successfully\n",
      "Done with link 2755: https://www.zoopla.co.uk/for-sale/details/64453376/?search_identifier=23e84ba9f4e3685a0d25f8ab59164240197823e4ad05220e1b12b5c118aa92c7\n",
      "Starting extraction for link 2756: https://www.zoopla.co.uk/for-sale/details/61744840/?search_identifier=23e84ba9f4e3685a0d25f8ab59164240197823e4ad05220e1b12b5c118aa92c7\n"
     ]
    },
    {
     "name": "stderr",
     "output_type": "stream",
     "text": [
      "could not detect version_main.therefore, we are assuming it is chrome 108 or higher\n"
     ]
    },
    {
     "name": "stdout",
     "output_type": "stream",
     "text": [
      "Saved to db successfully\n",
      "Done with link 2756: https://www.zoopla.co.uk/for-sale/details/61744840/?search_identifier=23e84ba9f4e3685a0d25f8ab59164240197823e4ad05220e1b12b5c118aa92c7\n",
      "Starting extraction for link 2757: https://www.zoopla.co.uk/for-sale/details/62188854/?search_identifier=23e84ba9f4e3685a0d25f8ab59164240197823e4ad05220e1b12b5c118aa92c7\n"
     ]
    },
    {
     "name": "stderr",
     "output_type": "stream",
     "text": [
      "could not detect version_main.therefore, we are assuming it is chrome 108 or higher\n"
     ]
    },
    {
     "name": "stdout",
     "output_type": "stream",
     "text": [
      "Saved to db successfully\n",
      "Done with link 2757: https://www.zoopla.co.uk/for-sale/details/62188854/?search_identifier=23e84ba9f4e3685a0d25f8ab59164240197823e4ad05220e1b12b5c118aa92c7\n",
      "Starting extraction for link 2758: https://www.zoopla.co.uk/for-sale/details/64402285/?search_identifier=23e84ba9f4e3685a0d25f8ab59164240197823e4ad05220e1b12b5c118aa92c7\n"
     ]
    },
    {
     "name": "stderr",
     "output_type": "stream",
     "text": [
      "could not detect version_main.therefore, we are assuming it is chrome 108 or higher\n"
     ]
    },
    {
     "name": "stdout",
     "output_type": "stream",
     "text": [
      "Saved to db successfully\n",
      "Done with link 2758: https://www.zoopla.co.uk/for-sale/details/64402285/?search_identifier=23e84ba9f4e3685a0d25f8ab59164240197823e4ad05220e1b12b5c118aa92c7\n",
      "Starting extraction for link 2759: https://www.zoopla.co.uk/new-homes/details/64400430/?search_identifier=53cc739555b616382656f9eca80645eeb1047daabfe424bf1955d5460f76bf09\n",
      "An error occurred for link in get_data_func: https://www.zoopla.co.uk/new-homes/details/64400430/?search_identifier=53cc739555b616382656f9eca80645eeb1047daabfe424bf1955d5460f76bf09: Message: no such element: Unable to locate element: {\"method\":\"xpath\",\"selector\":\"//p[@data-testid=\"price\"]\"}\n",
      "  (Session info: chrome=115.0.5790.110); For documentation on this error, please visit: https://www.selenium.dev/documentation/webdriver/troubleshooting/errors#no-such-element-exception\n",
      "Stacktrace:\n",
      "Backtrace:\n",
      "\tGetHandleVerifier [0x00E2A813+48355]\n",
      "\t(No symbol) [0x00DBC4B1]\n",
      "\t(No symbol) [0x00CC5358]\n",
      "\t(No symbol) [0x00CF09A5]\n",
      "\t(No symbol) [0x00CF0B3B]\n",
      "\t(No symbol) [0x00D1E232]\n",
      "\t(No symbol) [0x00D0A784]\n",
      "\t(No symbol) [0x00D1C922]\n",
      "\t(No symbol) [0x00D0A536]\n",
      "\t(No symbol) [0x00CE82DC]\n",
      "\t(No symbol) [0x00CE93DD]\n",
      "\tGetHandleVerifier [0x0108AABD+2539405]\n",
      "\tGetHandleVerifier [0x010CA78F+2800735]\n",
      "\tGetHandleVerifier [0x010C456C+2775612]\n",
      "\tGetHandleVerifier [0x00EB51E0+616112]\n",
      "\t(No symbol) [0x00DC5F8C]\n",
      "\t(No symbol) [0x00DC2328]\n",
      "\t(No symbol) [0x00DC240B]\n",
      "\t(No symbol) [0x00DB4FF7]\n",
      "\tBaseThreadInitThunk [0x76A57D59+25]\n",
      "\tRtlInitializeExceptionChain [0x7773B79B+107]\n",
      "\tRtlClearBits [0x7773B71F+191]\n",
      "\n"
     ]
    },
    {
     "name": "stderr",
     "output_type": "stream",
     "text": [
      "could not detect version_main.therefore, we are assuming it is chrome 108 or higher\n"
     ]
    },
    {
     "name": "stdout",
     "output_type": "stream",
     "text": [
      "Saved to db successfully\n",
      "Done with link 2759: https://www.zoopla.co.uk/new-homes/details/64400430/?search_identifier=53cc739555b616382656f9eca80645eeb1047daabfe424bf1955d5460f76bf09\n",
      "Starting extraction for link 2760: https://www.zoopla.co.uk/for-sale/details/64394192/?search_identifier=53cc739555b616382656f9eca80645eeb1047daabfe424bf1955d5460f76bf09\n"
     ]
    },
    {
     "name": "stderr",
     "output_type": "stream",
     "text": [
      "could not detect version_main.therefore, we are assuming it is chrome 108 or higher\n"
     ]
    },
    {
     "name": "stdout",
     "output_type": "stream",
     "text": [
      "Saved to db successfully\n",
      "Done with link 2760: https://www.zoopla.co.uk/for-sale/details/64394192/?search_identifier=53cc739555b616382656f9eca80645eeb1047daabfe424bf1955d5460f76bf09\n",
      "Starting extraction for link 2761: https://www.zoopla.co.uk/for-sale/details/64374199/?search_identifier=53cc739555b616382656f9eca80645eeb1047daabfe424bf1955d5460f76bf09\n"
     ]
    },
    {
     "name": "stderr",
     "output_type": "stream",
     "text": [
      "could not detect version_main.therefore, we are assuming it is chrome 108 or higher\n"
     ]
    },
    {
     "name": "stdout",
     "output_type": "stream",
     "text": [
      "Saved to db successfully\n",
      "Done with link 2761: https://www.zoopla.co.uk/for-sale/details/64374199/?search_identifier=53cc739555b616382656f9eca80645eeb1047daabfe424bf1955d5460f76bf09\n",
      "Starting extraction for link 2762: https://www.zoopla.co.uk/for-sale/details/64373263/?search_identifier=53cc739555b616382656f9eca80645eeb1047daabfe424bf1955d5460f76bf09\n"
     ]
    },
    {
     "name": "stderr",
     "output_type": "stream",
     "text": [
      "could not detect version_main.therefore, we are assuming it is chrome 108 or higher\n"
     ]
    },
    {
     "name": "stdout",
     "output_type": "stream",
     "text": [
      "Saved to db successfully\n",
      "Done with link 2762: https://www.zoopla.co.uk/for-sale/details/64373263/?search_identifier=53cc739555b616382656f9eca80645eeb1047daabfe424bf1955d5460f76bf09\n",
      "Starting extraction for link 2763: https://www.zoopla.co.uk/new-homes/details/64357487/?search_identifier=53cc739555b616382656f9eca80645eeb1047daabfe424bf1955d5460f76bf09\n"
     ]
    },
    {
     "name": "stderr",
     "output_type": "stream",
     "text": [
      "could not detect version_main.therefore, we are assuming it is chrome 108 or higher\n"
     ]
    },
    {
     "name": "stdout",
     "output_type": "stream",
     "text": [
      "Saved to db successfully\n",
      "Done with link 2763: https://www.zoopla.co.uk/new-homes/details/64357487/?search_identifier=53cc739555b616382656f9eca80645eeb1047daabfe424bf1955d5460f76bf09\n",
      "Starting extraction for link 2764: https://www.zoopla.co.uk/new-homes/details/64357485/?search_identifier=53cc739555b616382656f9eca80645eeb1047daabfe424bf1955d5460f76bf09\n"
     ]
    },
    {
     "name": "stderr",
     "output_type": "stream",
     "text": [
      "could not detect version_main.therefore, we are assuming it is chrome 108 or higher\n"
     ]
    },
    {
     "name": "stdout",
     "output_type": "stream",
     "text": [
      "Saved to db successfully\n",
      "Done with link 2764: https://www.zoopla.co.uk/new-homes/details/64357485/?search_identifier=53cc739555b616382656f9eca80645eeb1047daabfe424bf1955d5460f76bf09\n",
      "Starting extraction for link 2765: https://www.zoopla.co.uk/for-sale/details/64352568/?search_identifier=53cc739555b616382656f9eca80645eeb1047daabfe424bf1955d5460f76bf09\n"
     ]
    },
    {
     "name": "stderr",
     "output_type": "stream",
     "text": [
      "could not detect version_main.therefore, we are assuming it is chrome 108 or higher\n"
     ]
    },
    {
     "name": "stdout",
     "output_type": "stream",
     "text": [
      "Saved to db successfully\n",
      "Done with link 2765: https://www.zoopla.co.uk/for-sale/details/64352568/?search_identifier=53cc739555b616382656f9eca80645eeb1047daabfe424bf1955d5460f76bf09\n",
      "Starting extraction for link 2766: https://www.zoopla.co.uk/for-sale/details/64312061/?search_identifier=53cc739555b616382656f9eca80645eeb1047daabfe424bf1955d5460f76bf09\n"
     ]
    },
    {
     "name": "stderr",
     "output_type": "stream",
     "text": [
      "could not detect version_main.therefore, we are assuming it is chrome 108 or higher\n"
     ]
    },
    {
     "name": "stdout",
     "output_type": "stream",
     "text": [
      "Saved to db successfully\n",
      "Done with link 2766: https://www.zoopla.co.uk/for-sale/details/64312061/?search_identifier=53cc739555b616382656f9eca80645eeb1047daabfe424bf1955d5460f76bf09\n",
      "Starting extraction for link 2767: https://www.zoopla.co.uk/for-sale/details/64306687/?search_identifier=53cc739555b616382656f9eca80645eeb1047daabfe424bf1955d5460f76bf09\n"
     ]
    },
    {
     "name": "stderr",
     "output_type": "stream",
     "text": [
      "could not detect version_main.therefore, we are assuming it is chrome 108 or higher\n"
     ]
    },
    {
     "name": "stdout",
     "output_type": "stream",
     "text": [
      "Saved to db successfully\n",
      "Done with link 2767: https://www.zoopla.co.uk/for-sale/details/64306687/?search_identifier=53cc739555b616382656f9eca80645eeb1047daabfe424bf1955d5460f76bf09\n",
      "Starting extraction for link 2768: https://www.zoopla.co.uk/for-sale/details/64289868/?search_identifier=53cc739555b616382656f9eca80645eeb1047daabfe424bf1955d5460f76bf09\n"
     ]
    },
    {
     "name": "stderr",
     "output_type": "stream",
     "text": [
      "could not detect version_main.therefore, we are assuming it is chrome 108 or higher\n"
     ]
    },
    {
     "name": "stdout",
     "output_type": "stream",
     "text": [
      "Saved to db successfully\n",
      "Done with link 2768: https://www.zoopla.co.uk/for-sale/details/64289868/?search_identifier=53cc739555b616382656f9eca80645eeb1047daabfe424bf1955d5460f76bf09\n",
      "Starting extraction for link 2769: https://www.zoopla.co.uk/for-sale/details/64287732/?search_identifier=53cc739555b616382656f9eca80645eeb1047daabfe424bf1955d5460f76bf09\n"
     ]
    },
    {
     "name": "stderr",
     "output_type": "stream",
     "text": [
      "could not detect version_main.therefore, we are assuming it is chrome 108 or higher\n"
     ]
    },
    {
     "name": "stdout",
     "output_type": "stream",
     "text": [
      "Saved to db successfully\n",
      "Done with link 2769: https://www.zoopla.co.uk/for-sale/details/64287732/?search_identifier=53cc739555b616382656f9eca80645eeb1047daabfe424bf1955d5460f76bf09\n",
      "Starting extraction for link 2770: https://www.zoopla.co.uk/for-sale/details/64279180/?search_identifier=53cc739555b616382656f9eca80645eeb1047daabfe424bf1955d5460f76bf09\n"
     ]
    },
    {
     "name": "stderr",
     "output_type": "stream",
     "text": [
      "could not detect version_main.therefore, we are assuming it is chrome 108 or higher\n"
     ]
    },
    {
     "name": "stdout",
     "output_type": "stream",
     "text": [
      "Saved to db successfully\n",
      "Done with link 2770: https://www.zoopla.co.uk/for-sale/details/64279180/?search_identifier=53cc739555b616382656f9eca80645eeb1047daabfe424bf1955d5460f76bf09\n",
      "Starting extraction for link 2771: https://www.zoopla.co.uk/for-sale/details/64278060/?search_identifier=53cc739555b616382656f9eca80645eeb1047daabfe424bf1955d5460f76bf09\n"
     ]
    },
    {
     "name": "stderr",
     "output_type": "stream",
     "text": [
      "could not detect version_main.therefore, we are assuming it is chrome 108 or higher\n"
     ]
    },
    {
     "name": "stdout",
     "output_type": "stream",
     "text": [
      "Saved to db successfully\n",
      "Done with link 2771: https://www.zoopla.co.uk/for-sale/details/64278060/?search_identifier=53cc739555b616382656f9eca80645eeb1047daabfe424bf1955d5460f76bf09\n",
      "Starting extraction for link 2772: https://www.zoopla.co.uk/for-sale/details/64276639/?search_identifier=53cc739555b616382656f9eca80645eeb1047daabfe424bf1955d5460f76bf09\n"
     ]
    },
    {
     "name": "stderr",
     "output_type": "stream",
     "text": [
      "could not detect version_main.therefore, we are assuming it is chrome 108 or higher\n"
     ]
    },
    {
     "name": "stdout",
     "output_type": "stream",
     "text": [
      "Saved to db successfully\n",
      "Done with link 2772: https://www.zoopla.co.uk/for-sale/details/64276639/?search_identifier=53cc739555b616382656f9eca80645eeb1047daabfe424bf1955d5460f76bf09\n",
      "Starting extraction for link 2773: https://www.zoopla.co.uk/for-sale/details/64275308/?search_identifier=53cc739555b616382656f9eca80645eeb1047daabfe424bf1955d5460f76bf09\n"
     ]
    },
    {
     "name": "stderr",
     "output_type": "stream",
     "text": [
      "could not detect version_main.therefore, we are assuming it is chrome 108 or higher\n"
     ]
    },
    {
     "name": "stdout",
     "output_type": "stream",
     "text": [
      "Saved to db successfully\n",
      "Done with link 2773: https://www.zoopla.co.uk/for-sale/details/64275308/?search_identifier=53cc739555b616382656f9eca80645eeb1047daabfe424bf1955d5460f76bf09\n",
      "Starting extraction for link 2774: https://www.zoopla.co.uk/for-sale/details/64272911/?search_identifier=53cc739555b616382656f9eca80645eeb1047daabfe424bf1955d5460f76bf09\n"
     ]
    },
    {
     "name": "stderr",
     "output_type": "stream",
     "text": [
      "could not detect version_main.therefore, we are assuming it is chrome 108 or higher\n"
     ]
    },
    {
     "name": "stdout",
     "output_type": "stream",
     "text": [
      "Saved to db successfully\n",
      "Done with link 2774: https://www.zoopla.co.uk/for-sale/details/64272911/?search_identifier=53cc739555b616382656f9eca80645eeb1047daabfe424bf1955d5460f76bf09\n",
      "Starting extraction for link 2775: https://www.zoopla.co.uk/for-sale/details/64257476/?search_identifier=53cc739555b616382656f9eca80645eeb1047daabfe424bf1955d5460f76bf09\n"
     ]
    },
    {
     "name": "stderr",
     "output_type": "stream",
     "text": [
      "could not detect version_main.therefore, we are assuming it is chrome 108 or higher\n"
     ]
    },
    {
     "name": "stdout",
     "output_type": "stream",
     "text": [
      "Saved to db successfully\n",
      "Done with link 2775: https://www.zoopla.co.uk/for-sale/details/64257476/?search_identifier=53cc739555b616382656f9eca80645eeb1047daabfe424bf1955d5460f76bf09\n",
      "Starting extraction for link 2776: https://www.zoopla.co.uk/for-sale/details/64254323/?search_identifier=53cc739555b616382656f9eca80645eeb1047daabfe424bf1955d5460f76bf09\n"
     ]
    },
    {
     "name": "stderr",
     "output_type": "stream",
     "text": [
      "could not detect version_main.therefore, we are assuming it is chrome 108 or higher\n"
     ]
    },
    {
     "name": "stdout",
     "output_type": "stream",
     "text": [
      "Saved to db successfully\n",
      "Done with link 2776: https://www.zoopla.co.uk/for-sale/details/64254323/?search_identifier=53cc739555b616382656f9eca80645eeb1047daabfe424bf1955d5460f76bf09\n",
      "Starting extraction for link 2777: https://www.zoopla.co.uk/for-sale/details/62397286/?search_identifier=53cc739555b616382656f9eca80645eeb1047daabfe424bf1955d5460f76bf09\n"
     ]
    },
    {
     "name": "stderr",
     "output_type": "stream",
     "text": [
      "could not detect version_main.therefore, we are assuming it is chrome 108 or higher\n"
     ]
    },
    {
     "name": "stdout",
     "output_type": "stream",
     "text": [
      "Saved to db successfully\n",
      "Done with link 2777: https://www.zoopla.co.uk/for-sale/details/62397286/?search_identifier=53cc739555b616382656f9eca80645eeb1047daabfe424bf1955d5460f76bf09\n",
      "Starting extraction for link 2778: https://www.zoopla.co.uk/for-sale/details/64238513/?search_identifier=53cc739555b616382656f9eca80645eeb1047daabfe424bf1955d5460f76bf09\n"
     ]
    },
    {
     "name": "stderr",
     "output_type": "stream",
     "text": [
      "could not detect version_main.therefore, we are assuming it is chrome 108 or higher\n"
     ]
    },
    {
     "name": "stdout",
     "output_type": "stream",
     "text": [
      "Saved to db successfully\n",
      "Done with link 2778: https://www.zoopla.co.uk/for-sale/details/64238513/?search_identifier=53cc739555b616382656f9eca80645eeb1047daabfe424bf1955d5460f76bf09\n",
      "Starting extraction for link 2779: https://www.zoopla.co.uk/for-sale/details/64535209/?search_identifier=53cc739555b616382656f9eca80645eeb1047daabfe424bf1955d5460f76bf09\n"
     ]
    },
    {
     "name": "stderr",
     "output_type": "stream",
     "text": [
      "could not detect version_main.therefore, we are assuming it is chrome 108 or higher\n"
     ]
    },
    {
     "name": "stdout",
     "output_type": "stream",
     "text": [
      "Saved to db successfully\n",
      "Done with link 2779: https://www.zoopla.co.uk/for-sale/details/64535209/?search_identifier=53cc739555b616382656f9eca80645eeb1047daabfe424bf1955d5460f76bf09\n",
      "Starting extraction for link 2780: https://www.zoopla.co.uk/for-sale/details/64215305/?search_identifier=53cc739555b616382656f9eca80645eeb1047daabfe424bf1955d5460f76bf09\n"
     ]
    },
    {
     "name": "stderr",
     "output_type": "stream",
     "text": [
      "could not detect version_main.therefore, we are assuming it is chrome 108 or higher\n"
     ]
    },
    {
     "name": "stdout",
     "output_type": "stream",
     "text": [
      "Saved to db successfully\n",
      "Done with link 2780: https://www.zoopla.co.uk/for-sale/details/64215305/?search_identifier=53cc739555b616382656f9eca80645eeb1047daabfe424bf1955d5460f76bf09\n",
      "Starting extraction for link 2781: https://www.zoopla.co.uk/for-sale/details/64207148/?search_identifier=53cc739555b616382656f9eca80645eeb1047daabfe424bf1955d5460f76bf09\n"
     ]
    },
    {
     "name": "stderr",
     "output_type": "stream",
     "text": [
      "could not detect version_main.therefore, we are assuming it is chrome 108 or higher\n"
     ]
    },
    {
     "name": "stdout",
     "output_type": "stream",
     "text": [
      "Saved to db successfully\n",
      "Done with link 2781: https://www.zoopla.co.uk/for-sale/details/64207148/?search_identifier=53cc739555b616382656f9eca80645eeb1047daabfe424bf1955d5460f76bf09\n",
      "Starting extraction for link 2782: https://www.zoopla.co.uk/for-sale/details/64200547/?search_identifier=53cc739555b616382656f9eca80645eeb1047daabfe424bf1955d5460f76bf09\n"
     ]
    },
    {
     "name": "stderr",
     "output_type": "stream",
     "text": [
      "could not detect version_main.therefore, we are assuming it is chrome 108 or higher\n"
     ]
    },
    {
     "name": "stdout",
     "output_type": "stream",
     "text": [
      "Saved to db successfully\n",
      "Done with link 2782: https://www.zoopla.co.uk/for-sale/details/64200547/?search_identifier=53cc739555b616382656f9eca80645eeb1047daabfe424bf1955d5460f76bf09\n",
      "Starting extraction for link 2783: https://www.zoopla.co.uk/for-sale/details/64187278/?search_identifier=53cc739555b616382656f9eca80645eeb1047daabfe424bf1955d5460f76bf09\n"
     ]
    },
    {
     "name": "stderr",
     "output_type": "stream",
     "text": [
      "could not detect version_main.therefore, we are assuming it is chrome 108 or higher\n"
     ]
    },
    {
     "name": "stdout",
     "output_type": "stream",
     "text": [
      "Saved to db successfully\n",
      "Done with link 2783: https://www.zoopla.co.uk/for-sale/details/64187278/?search_identifier=53cc739555b616382656f9eca80645eeb1047daabfe424bf1955d5460f76bf09\n",
      "Starting extraction for link 2784: https://www.zoopla.co.uk/for-sale/details/64176350/?search_identifier=31759aaafdebe06474b126fd15c149aa2ee7fe4cf801a3873ab40dd1ee96b0d1\n"
     ]
    },
    {
     "name": "stderr",
     "output_type": "stream",
     "text": [
      "could not detect version_main.therefore, we are assuming it is chrome 108 or higher\n"
     ]
    },
    {
     "name": "stdout",
     "output_type": "stream",
     "text": [
      "Saved to db successfully\n",
      "Done with link 2784: https://www.zoopla.co.uk/for-sale/details/64176350/?search_identifier=31759aaafdebe06474b126fd15c149aa2ee7fe4cf801a3873ab40dd1ee96b0d1\n",
      "Starting extraction for link 2785: https://www.zoopla.co.uk/for-sale/details/64165223/?search_identifier=31759aaafdebe06474b126fd15c149aa2ee7fe4cf801a3873ab40dd1ee96b0d1\n"
     ]
    },
    {
     "name": "stderr",
     "output_type": "stream",
     "text": [
      "could not detect version_main.therefore, we are assuming it is chrome 108 or higher\n"
     ]
    },
    {
     "name": "stdout",
     "output_type": "stream",
     "text": [
      "Saved to db successfully\n",
      "Done with link 2785: https://www.zoopla.co.uk/for-sale/details/64165223/?search_identifier=31759aaafdebe06474b126fd15c149aa2ee7fe4cf801a3873ab40dd1ee96b0d1\n",
      "Starting extraction for link 2786: https://www.zoopla.co.uk/for-sale/details/64157864/?search_identifier=31759aaafdebe06474b126fd15c149aa2ee7fe4cf801a3873ab40dd1ee96b0d1\n"
     ]
    },
    {
     "name": "stderr",
     "output_type": "stream",
     "text": [
      "could not detect version_main.therefore, we are assuming it is chrome 108 or higher\n"
     ]
    },
    {
     "name": "stdout",
     "output_type": "stream",
     "text": [
      "Saved to db successfully\n",
      "Done with link 2786: https://www.zoopla.co.uk/for-sale/details/64157864/?search_identifier=31759aaafdebe06474b126fd15c149aa2ee7fe4cf801a3873ab40dd1ee96b0d1\n",
      "Starting extraction for link 2787: https://www.zoopla.co.uk/for-sale/details/63284299/?search_identifier=31759aaafdebe06474b126fd15c149aa2ee7fe4cf801a3873ab40dd1ee96b0d1\n"
     ]
    },
    {
     "name": "stderr",
     "output_type": "stream",
     "text": [
      "could not detect version_main.therefore, we are assuming it is chrome 108 or higher\n"
     ]
    },
    {
     "name": "stdout",
     "output_type": "stream",
     "text": [
      "Saved to db successfully\n",
      "Done with link 2787: https://www.zoopla.co.uk/for-sale/details/63284299/?search_identifier=31759aaafdebe06474b126fd15c149aa2ee7fe4cf801a3873ab40dd1ee96b0d1\n",
      "Starting extraction for link 2788: https://www.zoopla.co.uk/for-sale/details/61114736/?search_identifier=31759aaafdebe06474b126fd15c149aa2ee7fe4cf801a3873ab40dd1ee96b0d1\n"
     ]
    },
    {
     "name": "stderr",
     "output_type": "stream",
     "text": [
      "could not detect version_main.therefore, we are assuming it is chrome 108 or higher\n"
     ]
    },
    {
     "name": "stdout",
     "output_type": "stream",
     "text": [
      "Saved to db successfully\n",
      "Done with link 2788: https://www.zoopla.co.uk/for-sale/details/61114736/?search_identifier=31759aaafdebe06474b126fd15c149aa2ee7fe4cf801a3873ab40dd1ee96b0d1\n",
      "Starting extraction for link 2789: https://www.zoopla.co.uk/for-sale/details/64145416/?search_identifier=31759aaafdebe06474b126fd15c149aa2ee7fe4cf801a3873ab40dd1ee96b0d1\n"
     ]
    },
    {
     "name": "stderr",
     "output_type": "stream",
     "text": [
      "could not detect version_main.therefore, we are assuming it is chrome 108 or higher\n"
     ]
    },
    {
     "name": "stdout",
     "output_type": "stream",
     "text": [
      "Saved to db successfully\n",
      "Done with link 2789: https://www.zoopla.co.uk/for-sale/details/64145416/?search_identifier=31759aaafdebe06474b126fd15c149aa2ee7fe4cf801a3873ab40dd1ee96b0d1\n",
      "Starting extraction for link 2790: https://www.zoopla.co.uk/for-sale/details/64138513/?search_identifier=31759aaafdebe06474b126fd15c149aa2ee7fe4cf801a3873ab40dd1ee96b0d1\n"
     ]
    },
    {
     "name": "stderr",
     "output_type": "stream",
     "text": [
      "could not detect version_main.therefore, we are assuming it is chrome 108 or higher\n"
     ]
    },
    {
     "name": "stdout",
     "output_type": "stream",
     "text": [
      "Saved to db successfully\n",
      "Done with link 2790: https://www.zoopla.co.uk/for-sale/details/64138513/?search_identifier=31759aaafdebe06474b126fd15c149aa2ee7fe4cf801a3873ab40dd1ee96b0d1\n",
      "Starting extraction for link 2791: https://www.zoopla.co.uk/new-homes/details/64136184/?search_identifier=31759aaafdebe06474b126fd15c149aa2ee7fe4cf801a3873ab40dd1ee96b0d1\n"
     ]
    },
    {
     "name": "stderr",
     "output_type": "stream",
     "text": [
      "could not detect version_main.therefore, we are assuming it is chrome 108 or higher\n"
     ]
    },
    {
     "name": "stdout",
     "output_type": "stream",
     "text": [
      "Saved to db successfully\n",
      "Done with link 2791: https://www.zoopla.co.uk/new-homes/details/64136184/?search_identifier=31759aaafdebe06474b126fd15c149aa2ee7fe4cf801a3873ab40dd1ee96b0d1\n",
      "Starting extraction for link 2792: https://www.zoopla.co.uk/for-sale/details/64134021/?search_identifier=31759aaafdebe06474b126fd15c149aa2ee7fe4cf801a3873ab40dd1ee96b0d1\n"
     ]
    },
    {
     "name": "stderr",
     "output_type": "stream",
     "text": [
      "could not detect version_main.therefore, we are assuming it is chrome 108 or higher\n"
     ]
    },
    {
     "name": "stdout",
     "output_type": "stream",
     "text": [
      "Saved to db successfully\n",
      "Done with link 2792: https://www.zoopla.co.uk/for-sale/details/64134021/?search_identifier=31759aaafdebe06474b126fd15c149aa2ee7fe4cf801a3873ab40dd1ee96b0d1\n",
      "Starting extraction for link 2793: https://www.zoopla.co.uk/for-sale/details/64133713/?search_identifier=31759aaafdebe06474b126fd15c149aa2ee7fe4cf801a3873ab40dd1ee96b0d1\n"
     ]
    },
    {
     "name": "stderr",
     "output_type": "stream",
     "text": [
      "could not detect version_main.therefore, we are assuming it is chrome 108 or higher\n"
     ]
    },
    {
     "name": "stdout",
     "output_type": "stream",
     "text": [
      "Saved to db successfully\n",
      "Done with link 2793: https://www.zoopla.co.uk/for-sale/details/64133713/?search_identifier=31759aaafdebe06474b126fd15c149aa2ee7fe4cf801a3873ab40dd1ee96b0d1\n",
      "Starting extraction for link 2794: https://www.zoopla.co.uk/for-sale/details/64125318/?search_identifier=31759aaafdebe06474b126fd15c149aa2ee7fe4cf801a3873ab40dd1ee96b0d1\n"
     ]
    },
    {
     "name": "stderr",
     "output_type": "stream",
     "text": [
      "could not detect version_main.therefore, we are assuming it is chrome 108 or higher\n"
     ]
    },
    {
     "name": "stdout",
     "output_type": "stream",
     "text": [
      "Saved to db successfully\n",
      "Done with link 2794: https://www.zoopla.co.uk/for-sale/details/64125318/?search_identifier=31759aaafdebe06474b126fd15c149aa2ee7fe4cf801a3873ab40dd1ee96b0d1\n",
      "Starting extraction for link 2795: https://www.zoopla.co.uk/for-sale/details/64117164/?search_identifier=31759aaafdebe06474b126fd15c149aa2ee7fe4cf801a3873ab40dd1ee96b0d1\n"
     ]
    },
    {
     "name": "stderr",
     "output_type": "stream",
     "text": [
      "could not detect version_main.therefore, we are assuming it is chrome 108 or higher\n"
     ]
    },
    {
     "name": "stdout",
     "output_type": "stream",
     "text": [
      "Saved to db successfully\n",
      "Done with link 2795: https://www.zoopla.co.uk/for-sale/details/64117164/?search_identifier=31759aaafdebe06474b126fd15c149aa2ee7fe4cf801a3873ab40dd1ee96b0d1\n",
      "Starting extraction for link 2796: https://www.zoopla.co.uk/for-sale/details/64075801/?search_identifier=31759aaafdebe06474b126fd15c149aa2ee7fe4cf801a3873ab40dd1ee96b0d1\n"
     ]
    },
    {
     "name": "stderr",
     "output_type": "stream",
     "text": [
      "could not detect version_main.therefore, we are assuming it is chrome 108 or higher\n"
     ]
    },
    {
     "name": "stdout",
     "output_type": "stream",
     "text": [
      "Saved to db successfully\n",
      "Done with link 2796: https://www.zoopla.co.uk/for-sale/details/64075801/?search_identifier=31759aaafdebe06474b126fd15c149aa2ee7fe4cf801a3873ab40dd1ee96b0d1\n",
      "Starting extraction for link 2797: https://www.zoopla.co.uk/for-sale/details/64073512/?search_identifier=31759aaafdebe06474b126fd15c149aa2ee7fe4cf801a3873ab40dd1ee96b0d1\n"
     ]
    },
    {
     "name": "stderr",
     "output_type": "stream",
     "text": [
      "could not detect version_main.therefore, we are assuming it is chrome 108 or higher\n"
     ]
    },
    {
     "name": "stdout",
     "output_type": "stream",
     "text": [
      "Saved to db successfully\n",
      "Done with link 2797: https://www.zoopla.co.uk/for-sale/details/64073512/?search_identifier=31759aaafdebe06474b126fd15c149aa2ee7fe4cf801a3873ab40dd1ee96b0d1\n",
      "Starting extraction for link 2798: https://www.zoopla.co.uk/for-sale/details/64041713/?search_identifier=31759aaafdebe06474b126fd15c149aa2ee7fe4cf801a3873ab40dd1ee96b0d1\n"
     ]
    },
    {
     "name": "stderr",
     "output_type": "stream",
     "text": [
      "could not detect version_main.therefore, we are assuming it is chrome 108 or higher\n"
     ]
    },
    {
     "name": "stdout",
     "output_type": "stream",
     "text": [
      "Saved to db successfully\n",
      "Done with link 2798: https://www.zoopla.co.uk/for-sale/details/64041713/?search_identifier=31759aaafdebe06474b126fd15c149aa2ee7fe4cf801a3873ab40dd1ee96b0d1\n",
      "Starting extraction for link 2799: https://www.zoopla.co.uk/for-sale/details/64024309/?search_identifier=31759aaafdebe06474b126fd15c149aa2ee7fe4cf801a3873ab40dd1ee96b0d1\n"
     ]
    },
    {
     "name": "stderr",
     "output_type": "stream",
     "text": [
      "could not detect version_main.therefore, we are assuming it is chrome 108 or higher\n"
     ]
    },
    {
     "name": "stdout",
     "output_type": "stream",
     "text": [
      "Saved to db successfully\n",
      "Done with link 2799: https://www.zoopla.co.uk/for-sale/details/64024309/?search_identifier=31759aaafdebe06474b126fd15c149aa2ee7fe4cf801a3873ab40dd1ee96b0d1\n",
      "Starting extraction for link 2800: https://www.zoopla.co.uk/for-sale/details/64019617/?search_identifier=31759aaafdebe06474b126fd15c149aa2ee7fe4cf801a3873ab40dd1ee96b0d1\n"
     ]
    },
    {
     "name": "stderr",
     "output_type": "stream",
     "text": [
      "could not detect version_main.therefore, we are assuming it is chrome 108 or higher\n"
     ]
    },
    {
     "name": "stdout",
     "output_type": "stream",
     "text": [
      "Saved to db successfully\n",
      "Done with link 2800: https://www.zoopla.co.uk/for-sale/details/64019617/?search_identifier=31759aaafdebe06474b126fd15c149aa2ee7fe4cf801a3873ab40dd1ee96b0d1\n",
      "Starting extraction for link 2801: https://www.zoopla.co.uk/for-sale/details/63999199/?search_identifier=31759aaafdebe06474b126fd15c149aa2ee7fe4cf801a3873ab40dd1ee96b0d1\n"
     ]
    },
    {
     "name": "stderr",
     "output_type": "stream",
     "text": [
      "could not detect version_main.therefore, we are assuming it is chrome 108 or higher\n"
     ]
    },
    {
     "name": "stdout",
     "output_type": "stream",
     "text": [
      "Saved to db successfully\n",
      "Done with link 2801: https://www.zoopla.co.uk/for-sale/details/63999199/?search_identifier=31759aaafdebe06474b126fd15c149aa2ee7fe4cf801a3873ab40dd1ee96b0d1\n",
      "Starting extraction for link 2802: https://www.zoopla.co.uk/for-sale/details/63991183/?search_identifier=31759aaafdebe06474b126fd15c149aa2ee7fe4cf801a3873ab40dd1ee96b0d1\n"
     ]
    },
    {
     "name": "stderr",
     "output_type": "stream",
     "text": [
      "could not detect version_main.therefore, we are assuming it is chrome 108 or higher\n"
     ]
    },
    {
     "name": "stdout",
     "output_type": "stream",
     "text": [
      "Saved to db successfully\n",
      "Done with link 2802: https://www.zoopla.co.uk/for-sale/details/63991183/?search_identifier=31759aaafdebe06474b126fd15c149aa2ee7fe4cf801a3873ab40dd1ee96b0d1\n",
      "Starting extraction for link 2803: https://www.zoopla.co.uk/for-sale/details/63988094/?search_identifier=31759aaafdebe06474b126fd15c149aa2ee7fe4cf801a3873ab40dd1ee96b0d1\n"
     ]
    },
    {
     "name": "stderr",
     "output_type": "stream",
     "text": [
      "could not detect version_main.therefore, we are assuming it is chrome 108 or higher\n"
     ]
    },
    {
     "name": "stdout",
     "output_type": "stream",
     "text": [
      "Saved to db successfully\n",
      "Done with link 2803: https://www.zoopla.co.uk/for-sale/details/63988094/?search_identifier=31759aaafdebe06474b126fd15c149aa2ee7fe4cf801a3873ab40dd1ee96b0d1\n",
      "Starting extraction for link 2804: https://www.zoopla.co.uk/for-sale/details/63984683/?search_identifier=31759aaafdebe06474b126fd15c149aa2ee7fe4cf801a3873ab40dd1ee96b0d1\n"
     ]
    },
    {
     "name": "stderr",
     "output_type": "stream",
     "text": [
      "could not detect version_main.therefore, we are assuming it is chrome 108 or higher\n"
     ]
    },
    {
     "name": "stdout",
     "output_type": "stream",
     "text": [
      "Saved to db successfully\n",
      "Done with link 2804: https://www.zoopla.co.uk/for-sale/details/63984683/?search_identifier=31759aaafdebe06474b126fd15c149aa2ee7fe4cf801a3873ab40dd1ee96b0d1\n",
      "Starting extraction for link 2805: https://www.zoopla.co.uk/for-sale/details/63930725/?search_identifier=31759aaafdebe06474b126fd15c149aa2ee7fe4cf801a3873ab40dd1ee96b0d1\n"
     ]
    },
    {
     "name": "stderr",
     "output_type": "stream",
     "text": [
      "could not detect version_main.therefore, we are assuming it is chrome 108 or higher\n"
     ]
    },
    {
     "name": "stdout",
     "output_type": "stream",
     "text": [
      "Saved to db successfully\n",
      "Done with link 2805: https://www.zoopla.co.uk/for-sale/details/63930725/?search_identifier=31759aaafdebe06474b126fd15c149aa2ee7fe4cf801a3873ab40dd1ee96b0d1\n",
      "Starting extraction for link 2806: https://www.zoopla.co.uk/for-sale/details/63922984/?search_identifier=31759aaafdebe06474b126fd15c149aa2ee7fe4cf801a3873ab40dd1ee96b0d1\n"
     ]
    },
    {
     "name": "stderr",
     "output_type": "stream",
     "text": [
      "could not detect version_main.therefore, we are assuming it is chrome 108 or higher\n"
     ]
    },
    {
     "name": "stdout",
     "output_type": "stream",
     "text": [
      "Saved to db successfully\n",
      "Done with link 2806: https://www.zoopla.co.uk/for-sale/details/63922984/?search_identifier=31759aaafdebe06474b126fd15c149aa2ee7fe4cf801a3873ab40dd1ee96b0d1\n",
      "Starting extraction for link 2807: https://www.zoopla.co.uk/new-homes/details/63905552/?search_identifier=31759aaafdebe06474b126fd15c149aa2ee7fe4cf801a3873ab40dd1ee96b0d1\n"
     ]
    },
    {
     "name": "stderr",
     "output_type": "stream",
     "text": [
      "could not detect version_main.therefore, we are assuming it is chrome 108 or higher\n"
     ]
    },
    {
     "name": "stdout",
     "output_type": "stream",
     "text": [
      "Saved to db successfully\n",
      "Done with link 2807: https://www.zoopla.co.uk/new-homes/details/63905552/?search_identifier=31759aaafdebe06474b126fd15c149aa2ee7fe4cf801a3873ab40dd1ee96b0d1\n",
      "Starting extraction for link 2808: https://www.zoopla.co.uk/for-sale/details/63894046/?search_identifier=31759aaafdebe06474b126fd15c149aa2ee7fe4cf801a3873ab40dd1ee96b0d1\n"
     ]
    },
    {
     "name": "stderr",
     "output_type": "stream",
     "text": [
      "could not detect version_main.therefore, we are assuming it is chrome 108 or higher\n"
     ]
    },
    {
     "name": "stdout",
     "output_type": "stream",
     "text": [
      "Saved to db successfully\n",
      "Done with link 2808: https://www.zoopla.co.uk/for-sale/details/63894046/?search_identifier=31759aaafdebe06474b126fd15c149aa2ee7fe4cf801a3873ab40dd1ee96b0d1\n",
      "Starting extraction for link 2809: https://www.zoopla.co.uk/for-sale/details/61106695/?search_identifier=f5d056acb9c5050041cf2c7b6b100eaebc183fe19a0903c58b1e9ac05715b8af\n"
     ]
    },
    {
     "name": "stderr",
     "output_type": "stream",
     "text": [
      "could not detect version_main.therefore, we are assuming it is chrome 108 or higher\n"
     ]
    },
    {
     "name": "stdout",
     "output_type": "stream",
     "text": [
      "Saved to db successfully\n",
      "Done with link 2809: https://www.zoopla.co.uk/for-sale/details/61106695/?search_identifier=f5d056acb9c5050041cf2c7b6b100eaebc183fe19a0903c58b1e9ac05715b8af\n",
      "Starting extraction for link 2810: https://www.zoopla.co.uk/for-sale/details/63848059/?search_identifier=f5d056acb9c5050041cf2c7b6b100eaebc183fe19a0903c58b1e9ac05715b8af\n"
     ]
    },
    {
     "name": "stderr",
     "output_type": "stream",
     "text": [
      "could not detect version_main.therefore, we are assuming it is chrome 108 or higher\n"
     ]
    },
    {
     "name": "stdout",
     "output_type": "stream",
     "text": [
      "Saved to db successfully\n",
      "Done with link 2810: https://www.zoopla.co.uk/for-sale/details/63848059/?search_identifier=f5d056acb9c5050041cf2c7b6b100eaebc183fe19a0903c58b1e9ac05715b8af\n",
      "Starting extraction for link 2811: https://www.zoopla.co.uk/for-sale/details/63838302/?search_identifier=f5d056acb9c5050041cf2c7b6b100eaebc183fe19a0903c58b1e9ac05715b8af\n"
     ]
    },
    {
     "name": "stderr",
     "output_type": "stream",
     "text": [
      "could not detect version_main.therefore, we are assuming it is chrome 108 or higher\n"
     ]
    },
    {
     "name": "stdout",
     "output_type": "stream",
     "text": [
      "Saved to db successfully\n",
      "Done with link 2811: https://www.zoopla.co.uk/for-sale/details/63838302/?search_identifier=f5d056acb9c5050041cf2c7b6b100eaebc183fe19a0903c58b1e9ac05715b8af\n",
      "Starting extraction for link 2812: https://www.zoopla.co.uk/for-sale/details/63816770/?search_identifier=f5d056acb9c5050041cf2c7b6b100eaebc183fe19a0903c58b1e9ac05715b8af\n"
     ]
    },
    {
     "name": "stderr",
     "output_type": "stream",
     "text": [
      "could not detect version_main.therefore, we are assuming it is chrome 108 or higher\n"
     ]
    },
    {
     "name": "stdout",
     "output_type": "stream",
     "text": [
      "Saved to db successfully\n",
      "Done with link 2812: https://www.zoopla.co.uk/for-sale/details/63816770/?search_identifier=f5d056acb9c5050041cf2c7b6b100eaebc183fe19a0903c58b1e9ac05715b8af\n",
      "Starting extraction for link 2813: https://www.zoopla.co.uk/for-sale/details/63794837/?search_identifier=f5d056acb9c5050041cf2c7b6b100eaebc183fe19a0903c58b1e9ac05715b8af\n"
     ]
    },
    {
     "name": "stderr",
     "output_type": "stream",
     "text": [
      "could not detect version_main.therefore, we are assuming it is chrome 108 or higher\n"
     ]
    },
    {
     "name": "stdout",
     "output_type": "stream",
     "text": [
      "Saved to db successfully\n",
      "Done with link 2813: https://www.zoopla.co.uk/for-sale/details/63794837/?search_identifier=f5d056acb9c5050041cf2c7b6b100eaebc183fe19a0903c58b1e9ac05715b8af\n",
      "Starting extraction for link 2814: https://www.zoopla.co.uk/for-sale/details/63779271/?search_identifier=f5d056acb9c5050041cf2c7b6b100eaebc183fe19a0903c58b1e9ac05715b8af\n"
     ]
    },
    {
     "name": "stderr",
     "output_type": "stream",
     "text": [
      "could not detect version_main.therefore, we are assuming it is chrome 108 or higher\n"
     ]
    },
    {
     "name": "stdout",
     "output_type": "stream",
     "text": [
      "Saved to db successfully\n",
      "Done with link 2814: https://www.zoopla.co.uk/for-sale/details/63779271/?search_identifier=f5d056acb9c5050041cf2c7b6b100eaebc183fe19a0903c58b1e9ac05715b8af\n",
      "Starting extraction for link 2815: https://www.zoopla.co.uk/for-sale/details/63764022/?search_identifier=f5d056acb9c5050041cf2c7b6b100eaebc183fe19a0903c58b1e9ac05715b8af\n"
     ]
    },
    {
     "name": "stderr",
     "output_type": "stream",
     "text": [
      "could not detect version_main.therefore, we are assuming it is chrome 108 or higher\n"
     ]
    },
    {
     "name": "stdout",
     "output_type": "stream",
     "text": [
      "Saved to db successfully\n",
      "Done with link 2815: https://www.zoopla.co.uk/for-sale/details/63764022/?search_identifier=f5d056acb9c5050041cf2c7b6b100eaebc183fe19a0903c58b1e9ac05715b8af\n",
      "Starting extraction for link 2816: https://www.zoopla.co.uk/for-sale/details/63743841/?search_identifier=f5d056acb9c5050041cf2c7b6b100eaebc183fe19a0903c58b1e9ac05715b8af\n"
     ]
    },
    {
     "name": "stderr",
     "output_type": "stream",
     "text": [
      "could not detect version_main.therefore, we are assuming it is chrome 108 or higher\n"
     ]
    },
    {
     "name": "stdout",
     "output_type": "stream",
     "text": [
      "Saved to db successfully\n",
      "Done with link 2816: https://www.zoopla.co.uk/for-sale/details/63743841/?search_identifier=f5d056acb9c5050041cf2c7b6b100eaebc183fe19a0903c58b1e9ac05715b8af\n",
      "Starting extraction for link 2817: https://www.zoopla.co.uk/for-sale/details/63738057/?search_identifier=f5d056acb9c5050041cf2c7b6b100eaebc183fe19a0903c58b1e9ac05715b8af\n"
     ]
    },
    {
     "name": "stderr",
     "output_type": "stream",
     "text": [
      "could not detect version_main.therefore, we are assuming it is chrome 108 or higher\n"
     ]
    },
    {
     "name": "stdout",
     "output_type": "stream",
     "text": [
      "Saved to db successfully\n",
      "Done with link 2817: https://www.zoopla.co.uk/for-sale/details/63738057/?search_identifier=f5d056acb9c5050041cf2c7b6b100eaebc183fe19a0903c58b1e9ac05715b8af\n",
      "Starting extraction for link 2818: https://www.zoopla.co.uk/for-sale/details/63815920/?search_identifier=f5d056acb9c5050041cf2c7b6b100eaebc183fe19a0903c58b1e9ac05715b8af\n"
     ]
    },
    {
     "name": "stderr",
     "output_type": "stream",
     "text": [
      "could not detect version_main.therefore, we are assuming it is chrome 108 or higher\n"
     ]
    },
    {
     "name": "stdout",
     "output_type": "stream",
     "text": [
      "Saved to db successfully\n",
      "Done with link 2818: https://www.zoopla.co.uk/for-sale/details/63815920/?search_identifier=f5d056acb9c5050041cf2c7b6b100eaebc183fe19a0903c58b1e9ac05715b8af\n",
      "Starting extraction for link 2819: https://www.zoopla.co.uk/for-sale/details/63734624/?search_identifier=f5d056acb9c5050041cf2c7b6b100eaebc183fe19a0903c58b1e9ac05715b8af\n"
     ]
    },
    {
     "name": "stderr",
     "output_type": "stream",
     "text": [
      "could not detect version_main.therefore, we are assuming it is chrome 108 or higher\n"
     ]
    },
    {
     "name": "stdout",
     "output_type": "stream",
     "text": [
      "Saved to db successfully\n",
      "Done with link 2819: https://www.zoopla.co.uk/for-sale/details/63734624/?search_identifier=f5d056acb9c5050041cf2c7b6b100eaebc183fe19a0903c58b1e9ac05715b8af\n",
      "Starting extraction for link 2820: https://www.zoopla.co.uk/for-sale/details/63653991/?search_identifier=f5d056acb9c5050041cf2c7b6b100eaebc183fe19a0903c58b1e9ac05715b8af\n"
     ]
    },
    {
     "name": "stderr",
     "output_type": "stream",
     "text": [
      "could not detect version_main.therefore, we are assuming it is chrome 108 or higher\n"
     ]
    },
    {
     "name": "stdout",
     "output_type": "stream",
     "text": [
      "Saved to db successfully\n",
      "Done with link 2820: https://www.zoopla.co.uk/for-sale/details/63653991/?search_identifier=f5d056acb9c5050041cf2c7b6b100eaebc183fe19a0903c58b1e9ac05715b8af\n",
      "Starting extraction for link 2821: https://www.zoopla.co.uk/for-sale/details/63627262/?search_identifier=f5d056acb9c5050041cf2c7b6b100eaebc183fe19a0903c58b1e9ac05715b8af\n"
     ]
    },
    {
     "name": "stderr",
     "output_type": "stream",
     "text": [
      "could not detect version_main.therefore, we are assuming it is chrome 108 or higher\n"
     ]
    },
    {
     "name": "stdout",
     "output_type": "stream",
     "text": [
      "Saved to db successfully\n",
      "Done with link 2821: https://www.zoopla.co.uk/for-sale/details/63627262/?search_identifier=f5d056acb9c5050041cf2c7b6b100eaebc183fe19a0903c58b1e9ac05715b8af\n",
      "Starting extraction for link 2822: https://www.zoopla.co.uk/for-sale/details/63587640/?search_identifier=f5d056acb9c5050041cf2c7b6b100eaebc183fe19a0903c58b1e9ac05715b8af\n"
     ]
    },
    {
     "name": "stderr",
     "output_type": "stream",
     "text": [
      "could not detect version_main.therefore, we are assuming it is chrome 108 or higher\n"
     ]
    },
    {
     "name": "stdout",
     "output_type": "stream",
     "text": [
      "Saved to db successfully\n",
      "Done with link 2822: https://www.zoopla.co.uk/for-sale/details/63587640/?search_identifier=f5d056acb9c5050041cf2c7b6b100eaebc183fe19a0903c58b1e9ac05715b8af\n",
      "Starting extraction for link 2823: https://www.zoopla.co.uk/for-sale/details/61207506/?search_identifier=f5d056acb9c5050041cf2c7b6b100eaebc183fe19a0903c58b1e9ac05715b8af\n"
     ]
    },
    {
     "name": "stderr",
     "output_type": "stream",
     "text": [
      "could not detect version_main.therefore, we are assuming it is chrome 108 or higher\n"
     ]
    },
    {
     "name": "stdout",
     "output_type": "stream",
     "text": [
      "Saved to db successfully\n",
      "Done with link 2823: https://www.zoopla.co.uk/for-sale/details/61207506/?search_identifier=f5d056acb9c5050041cf2c7b6b100eaebc183fe19a0903c58b1e9ac05715b8af\n",
      "Starting extraction for link 2824: https://www.zoopla.co.uk/for-sale/details/63531505/?search_identifier=f5d056acb9c5050041cf2c7b6b100eaebc183fe19a0903c58b1e9ac05715b8af\n"
     ]
    },
    {
     "name": "stderr",
     "output_type": "stream",
     "text": [
      "could not detect version_main.therefore, we are assuming it is chrome 108 or higher\n"
     ]
    },
    {
     "name": "stdout",
     "output_type": "stream",
     "text": [
      "Saved to db successfully\n",
      "Done with link 2824: https://www.zoopla.co.uk/for-sale/details/63531505/?search_identifier=f5d056acb9c5050041cf2c7b6b100eaebc183fe19a0903c58b1e9ac05715b8af\n",
      "Starting extraction for link 2825: https://www.zoopla.co.uk/for-sale/details/63527508/?search_identifier=f5d056acb9c5050041cf2c7b6b100eaebc183fe19a0903c58b1e9ac05715b8af\n",
      "An error occurred for link in get_data_func: https://www.zoopla.co.uk/for-sale/details/63527508/?search_identifier=f5d056acb9c5050041cf2c7b6b100eaebc183fe19a0903c58b1e9ac05715b8af: Message: no such element: Unable to locate element: {\"method\":\"xpath\",\"selector\":\"//p[@data-testid=\"price\"]\"}\n",
      "  (Session info: chrome=115.0.5790.110); For documentation on this error, please visit: https://www.selenium.dev/documentation/webdriver/troubleshooting/errors#no-such-element-exception\n",
      "Stacktrace:\n",
      "Backtrace:\n",
      "\tGetHandleVerifier [0x00E2A813+48355]\n",
      "\t(No symbol) [0x00DBC4B1]\n",
      "\t(No symbol) [0x00CC5358]\n",
      "\t(No symbol) [0x00CF09A5]\n",
      "\t(No symbol) [0x00CF0B3B]\n",
      "\t(No symbol) [0x00D1E232]\n",
      "\t(No symbol) [0x00D0A784]\n",
      "\t(No symbol) [0x00D1C922]\n",
      "\t(No symbol) [0x00D0A536]\n",
      "\t(No symbol) [0x00CE82DC]\n",
      "\t(No symbol) [0x00CE93DD]\n",
      "\tGetHandleVerifier [0x0108AABD+2539405]\n",
      "\tGetHandleVerifier [0x010CA78F+2800735]\n",
      "\tGetHandleVerifier [0x010C456C+2775612]\n",
      "\tGetHandleVerifier [0x00EB51E0+616112]\n",
      "\t(No symbol) [0x00DC5F8C]\n",
      "\t(No symbol) [0x00DC2328]\n",
      "\t(No symbol) [0x00DC240B]\n",
      "\t(No symbol) [0x00DB4FF7]\n",
      "\tBaseThreadInitThunk [0x76A57D59+25]\n",
      "\tRtlInitializeExceptionChain [0x7773B79B+107]\n",
      "\tRtlClearBits [0x7773B71F+191]\n",
      "\n"
     ]
    },
    {
     "name": "stderr",
     "output_type": "stream",
     "text": [
      "could not detect version_main.therefore, we are assuming it is chrome 108 or higher\n"
     ]
    },
    {
     "name": "stdout",
     "output_type": "stream",
     "text": [
      "Saved to db successfully\n",
      "Done with link 2825: https://www.zoopla.co.uk/for-sale/details/63527508/?search_identifier=f5d056acb9c5050041cf2c7b6b100eaebc183fe19a0903c58b1e9ac05715b8af\n",
      "Starting extraction for link 2826: https://www.zoopla.co.uk/for-sale/details/63527475/?search_identifier=f5d056acb9c5050041cf2c7b6b100eaebc183fe19a0903c58b1e9ac05715b8af\n"
     ]
    },
    {
     "name": "stderr",
     "output_type": "stream",
     "text": [
      "could not detect version_main.therefore, we are assuming it is chrome 108 or higher\n"
     ]
    },
    {
     "name": "stdout",
     "output_type": "stream",
     "text": [
      "Saved to db successfully\n",
      "Done with link 2826: https://www.zoopla.co.uk/for-sale/details/63527475/?search_identifier=f5d056acb9c5050041cf2c7b6b100eaebc183fe19a0903c58b1e9ac05715b8af\n",
      "Starting extraction for link 2827: https://www.zoopla.co.uk/for-sale/details/63527499/?search_identifier=f5d056acb9c5050041cf2c7b6b100eaebc183fe19a0903c58b1e9ac05715b8af\n"
     ]
    },
    {
     "name": "stderr",
     "output_type": "stream",
     "text": [
      "could not detect version_main.therefore, we are assuming it is chrome 108 or higher\n"
     ]
    },
    {
     "name": "stdout",
     "output_type": "stream",
     "text": [
      "Saved to db successfully\n",
      "Done with link 2827: https://www.zoopla.co.uk/for-sale/details/63527499/?search_identifier=f5d056acb9c5050041cf2c7b6b100eaebc183fe19a0903c58b1e9ac05715b8af\n",
      "Starting extraction for link 2828: https://www.zoopla.co.uk/for-sale/details/63527422/?search_identifier=f5d056acb9c5050041cf2c7b6b100eaebc183fe19a0903c58b1e9ac05715b8af\n"
     ]
    },
    {
     "name": "stderr",
     "output_type": "stream",
     "text": [
      "could not detect version_main.therefore, we are assuming it is chrome 108 or higher\n"
     ]
    },
    {
     "name": "stdout",
     "output_type": "stream",
     "text": [
      "Saved to db successfully\n",
      "Done with link 2828: https://www.zoopla.co.uk/for-sale/details/63527422/?search_identifier=f5d056acb9c5050041cf2c7b6b100eaebc183fe19a0903c58b1e9ac05715b8af\n",
      "Starting extraction for link 2829: https://www.zoopla.co.uk/for-sale/details/62366223/?search_identifier=f5d056acb9c5050041cf2c7b6b100eaebc183fe19a0903c58b1e9ac05715b8af\n"
     ]
    },
    {
     "name": "stderr",
     "output_type": "stream",
     "text": [
      "could not detect version_main.therefore, we are assuming it is chrome 108 or higher\n"
     ]
    },
    {
     "name": "stdout",
     "output_type": "stream",
     "text": [
      "Saved to db successfully\n",
      "Done with link 2829: https://www.zoopla.co.uk/for-sale/details/62366223/?search_identifier=f5d056acb9c5050041cf2c7b6b100eaebc183fe19a0903c58b1e9ac05715b8af\n",
      "Starting extraction for link 2830: https://www.zoopla.co.uk/for-sale/details/63469639/?search_identifier=f5d056acb9c5050041cf2c7b6b100eaebc183fe19a0903c58b1e9ac05715b8af\n"
     ]
    },
    {
     "name": "stderr",
     "output_type": "stream",
     "text": [
      "could not detect version_main.therefore, we are assuming it is chrome 108 or higher\n"
     ]
    },
    {
     "name": "stdout",
     "output_type": "stream",
     "text": [
      "Saved to db successfully\n",
      "Done with link 2830: https://www.zoopla.co.uk/for-sale/details/63469639/?search_identifier=f5d056acb9c5050041cf2c7b6b100eaebc183fe19a0903c58b1e9ac05715b8af\n",
      "Starting extraction for link 2831: https://www.zoopla.co.uk/for-sale/details/63416916/?search_identifier=f5d056acb9c5050041cf2c7b6b100eaebc183fe19a0903c58b1e9ac05715b8af\n"
     ]
    },
    {
     "name": "stderr",
     "output_type": "stream",
     "text": [
      "could not detect version_main.therefore, we are assuming it is chrome 108 or higher\n"
     ]
    },
    {
     "name": "stdout",
     "output_type": "stream",
     "text": [
      "Saved to db successfully\n",
      "Done with link 2831: https://www.zoopla.co.uk/for-sale/details/63416916/?search_identifier=f5d056acb9c5050041cf2c7b6b100eaebc183fe19a0903c58b1e9ac05715b8af\n",
      "Starting extraction for link 2832: https://www.zoopla.co.uk/for-sale/details/63397549/?search_identifier=f5d056acb9c5050041cf2c7b6b100eaebc183fe19a0903c58b1e9ac05715b8af\n"
     ]
    },
    {
     "name": "stderr",
     "output_type": "stream",
     "text": [
      "could not detect version_main.therefore, we are assuming it is chrome 108 or higher\n"
     ]
    },
    {
     "name": "stdout",
     "output_type": "stream",
     "text": [
      "Saved to db successfully\n",
      "Done with link 2832: https://www.zoopla.co.uk/for-sale/details/63397549/?search_identifier=f5d056acb9c5050041cf2c7b6b100eaebc183fe19a0903c58b1e9ac05715b8af\n",
      "Starting extraction for link 2833: https://www.zoopla.co.uk/for-sale/details/63120438/?search_identifier=f5d056acb9c5050041cf2c7b6b100eaebc183fe19a0903c58b1e9ac05715b8af\n"
     ]
    },
    {
     "name": "stderr",
     "output_type": "stream",
     "text": [
      "could not detect version_main.therefore, we are assuming it is chrome 108 or higher\n"
     ]
    },
    {
     "name": "stdout",
     "output_type": "stream",
     "text": [
      "Saved to db successfully\n",
      "Done with link 2833: https://www.zoopla.co.uk/for-sale/details/63120438/?search_identifier=f5d056acb9c5050041cf2c7b6b100eaebc183fe19a0903c58b1e9ac05715b8af\n",
      "Starting extraction for link 2834: https://www.zoopla.co.uk/for-sale/details/63032592/?search_identifier=238f223f63d848cfffd44a0ebbe8d40e63a8ed4c3edccba62424a0d24095140d\n"
     ]
    },
    {
     "name": "stderr",
     "output_type": "stream",
     "text": [
      "could not detect version_main.therefore, we are assuming it is chrome 108 or higher\n"
     ]
    },
    {
     "name": "stdout",
     "output_type": "stream",
     "text": [
      "Saved to db successfully\n",
      "Done with link 2834: https://www.zoopla.co.uk/for-sale/details/63032592/?search_identifier=238f223f63d848cfffd44a0ebbe8d40e63a8ed4c3edccba62424a0d24095140d\n",
      "Starting extraction for link 2835: https://www.zoopla.co.uk/for-sale/details/62835970/?search_identifier=238f223f63d848cfffd44a0ebbe8d40e63a8ed4c3edccba62424a0d24095140d\n"
     ]
    },
    {
     "name": "stderr",
     "output_type": "stream",
     "text": [
      "could not detect version_main.therefore, we are assuming it is chrome 108 or higher\n"
     ]
    },
    {
     "name": "stdout",
     "output_type": "stream",
     "text": [
      "Saved to db successfully\n",
      "Done with link 2835: https://www.zoopla.co.uk/for-sale/details/62835970/?search_identifier=238f223f63d848cfffd44a0ebbe8d40e63a8ed4c3edccba62424a0d24095140d\n",
      "Starting extraction for link 2836: https://www.zoopla.co.uk/new-homes/details/62809490/?search_identifier=238f223f63d848cfffd44a0ebbe8d40e63a8ed4c3edccba62424a0d24095140d\n"
     ]
    },
    {
     "name": "stderr",
     "output_type": "stream",
     "text": [
      "could not detect version_main.therefore, we are assuming it is chrome 108 or higher\n"
     ]
    },
    {
     "name": "stdout",
     "output_type": "stream",
     "text": [
      "Saved to db successfully\n",
      "Done with link 2836: https://www.zoopla.co.uk/new-homes/details/62809490/?search_identifier=238f223f63d848cfffd44a0ebbe8d40e63a8ed4c3edccba62424a0d24095140d\n",
      "Starting extraction for link 2837: https://www.zoopla.co.uk/new-homes/details/62809458/?search_identifier=238f223f63d848cfffd44a0ebbe8d40e63a8ed4c3edccba62424a0d24095140d\n"
     ]
    },
    {
     "name": "stderr",
     "output_type": "stream",
     "text": [
      "could not detect version_main.therefore, we are assuming it is chrome 108 or higher\n"
     ]
    },
    {
     "name": "stdout",
     "output_type": "stream",
     "text": [
      "Saved to db successfully\n",
      "Done with link 2837: https://www.zoopla.co.uk/new-homes/details/62809458/?search_identifier=238f223f63d848cfffd44a0ebbe8d40e63a8ed4c3edccba62424a0d24095140d\n",
      "Starting extraction for link 2838: https://www.zoopla.co.uk/new-homes/details/62809413/?search_identifier=238f223f63d848cfffd44a0ebbe8d40e63a8ed4c3edccba62424a0d24095140d\n"
     ]
    },
    {
     "name": "stderr",
     "output_type": "stream",
     "text": [
      "could not detect version_main.therefore, we are assuming it is chrome 108 or higher\n"
     ]
    },
    {
     "name": "stdout",
     "output_type": "stream",
     "text": [
      "Saved to db successfully\n",
      "Done with link 2838: https://www.zoopla.co.uk/new-homes/details/62809413/?search_identifier=238f223f63d848cfffd44a0ebbe8d40e63a8ed4c3edccba62424a0d24095140d\n",
      "Starting extraction for link 2839: https://www.zoopla.co.uk/for-sale/details/62770897/?search_identifier=238f223f63d848cfffd44a0ebbe8d40e63a8ed4c3edccba62424a0d24095140d\n"
     ]
    },
    {
     "name": "stderr",
     "output_type": "stream",
     "text": [
      "could not detect version_main.therefore, we are assuming it is chrome 108 or higher\n"
     ]
    },
    {
     "name": "stdout",
     "output_type": "stream",
     "text": [
      "Saved to db successfully\n",
      "Done with link 2839: https://www.zoopla.co.uk/for-sale/details/62770897/?search_identifier=238f223f63d848cfffd44a0ebbe8d40e63a8ed4c3edccba62424a0d24095140d\n",
      "Starting extraction for link 2840: https://www.zoopla.co.uk/for-sale/details/62767491/?search_identifier=238f223f63d848cfffd44a0ebbe8d40e63a8ed4c3edccba62424a0d24095140d\n"
     ]
    },
    {
     "name": "stderr",
     "output_type": "stream",
     "text": [
      "could not detect version_main.therefore, we are assuming it is chrome 108 or higher\n"
     ]
    },
    {
     "name": "stdout",
     "output_type": "stream",
     "text": [
      "Saved to db successfully\n",
      "Done with link 2840: https://www.zoopla.co.uk/for-sale/details/62767491/?search_identifier=238f223f63d848cfffd44a0ebbe8d40e63a8ed4c3edccba62424a0d24095140d\n",
      "Starting extraction for link 2841: https://www.zoopla.co.uk/new-homes/details/62766945/?search_identifier=238f223f63d848cfffd44a0ebbe8d40e63a8ed4c3edccba62424a0d24095140d\n"
     ]
    },
    {
     "name": "stderr",
     "output_type": "stream",
     "text": [
      "could not detect version_main.therefore, we are assuming it is chrome 108 or higher\n"
     ]
    },
    {
     "name": "stdout",
     "output_type": "stream",
     "text": [
      "Saved to db successfully\n",
      "Done with link 2841: https://www.zoopla.co.uk/new-homes/details/62766945/?search_identifier=238f223f63d848cfffd44a0ebbe8d40e63a8ed4c3edccba62424a0d24095140d\n",
      "Starting extraction for link 2842: https://www.zoopla.co.uk/for-sale/details/62716716/?search_identifier=238f223f63d848cfffd44a0ebbe8d40e63a8ed4c3edccba62424a0d24095140d\n"
     ]
    },
    {
     "name": "stderr",
     "output_type": "stream",
     "text": [
      "could not detect version_main.therefore, we are assuming it is chrome 108 or higher\n"
     ]
    },
    {
     "name": "stdout",
     "output_type": "stream",
     "text": [
      "Saved to db successfully\n",
      "Done with link 2842: https://www.zoopla.co.uk/for-sale/details/62716716/?search_identifier=238f223f63d848cfffd44a0ebbe8d40e63a8ed4c3edccba62424a0d24095140d\n",
      "Starting extraction for link 2843: https://www.zoopla.co.uk/for-sale/details/62680247/?search_identifier=238f223f63d848cfffd44a0ebbe8d40e63a8ed4c3edccba62424a0d24095140d\n"
     ]
    },
    {
     "name": "stderr",
     "output_type": "stream",
     "text": [
      "could not detect version_main.therefore, we are assuming it is chrome 108 or higher\n"
     ]
    },
    {
     "name": "stdout",
     "output_type": "stream",
     "text": [
      "Saved to db successfully\n",
      "Done with link 2843: https://www.zoopla.co.uk/for-sale/details/62680247/?search_identifier=238f223f63d848cfffd44a0ebbe8d40e63a8ed4c3edccba62424a0d24095140d\n",
      "Starting extraction for link 2844: https://www.zoopla.co.uk/for-sale/details/62655669/?search_identifier=238f223f63d848cfffd44a0ebbe8d40e63a8ed4c3edccba62424a0d24095140d\n"
     ]
    },
    {
     "name": "stderr",
     "output_type": "stream",
     "text": [
      "could not detect version_main.therefore, we are assuming it is chrome 108 or higher\n"
     ]
    },
    {
     "name": "stdout",
     "output_type": "stream",
     "text": [
      "Saved to db successfully\n",
      "Done with link 2844: https://www.zoopla.co.uk/for-sale/details/62655669/?search_identifier=238f223f63d848cfffd44a0ebbe8d40e63a8ed4c3edccba62424a0d24095140d\n",
      "Starting extraction for link 2845: https://www.zoopla.co.uk/for-sale/details/59987314/?search_identifier=238f223f63d848cfffd44a0ebbe8d40e63a8ed4c3edccba62424a0d24095140d\n"
     ]
    },
    {
     "name": "stderr",
     "output_type": "stream",
     "text": [
      "could not detect version_main.therefore, we are assuming it is chrome 108 or higher\n"
     ]
    },
    {
     "name": "stdout",
     "output_type": "stream",
     "text": [
      "Saved to db successfully\n",
      "Done with link 2845: https://www.zoopla.co.uk/for-sale/details/59987314/?search_identifier=238f223f63d848cfffd44a0ebbe8d40e63a8ed4c3edccba62424a0d24095140d\n",
      "Starting extraction for link 2846: https://www.zoopla.co.uk/for-sale/details/62592936/?search_identifier=238f223f63d848cfffd44a0ebbe8d40e63a8ed4c3edccba62424a0d24095140d\n"
     ]
    },
    {
     "name": "stderr",
     "output_type": "stream",
     "text": [
      "could not detect version_main.therefore, we are assuming it is chrome 108 or higher\n"
     ]
    },
    {
     "name": "stdout",
     "output_type": "stream",
     "text": [
      "Saved to db successfully\n",
      "Done with link 2846: https://www.zoopla.co.uk/for-sale/details/62592936/?search_identifier=238f223f63d848cfffd44a0ebbe8d40e63a8ed4c3edccba62424a0d24095140d\n",
      "Starting extraction for link 2847: https://www.zoopla.co.uk/for-sale/details/62559672/?search_identifier=238f223f63d848cfffd44a0ebbe8d40e63a8ed4c3edccba62424a0d24095140d\n"
     ]
    },
    {
     "name": "stderr",
     "output_type": "stream",
     "text": [
      "could not detect version_main.therefore, we are assuming it is chrome 108 or higher\n"
     ]
    },
    {
     "name": "stdout",
     "output_type": "stream",
     "text": [
      "Saved to db successfully\n",
      "Done with link 2847: https://www.zoopla.co.uk/for-sale/details/62559672/?search_identifier=238f223f63d848cfffd44a0ebbe8d40e63a8ed4c3edccba62424a0d24095140d\n",
      "Starting extraction for link 2848: https://www.zoopla.co.uk/for-sale/details/62535196/?search_identifier=238f223f63d848cfffd44a0ebbe8d40e63a8ed4c3edccba62424a0d24095140d\n"
     ]
    },
    {
     "name": "stderr",
     "output_type": "stream",
     "text": [
      "could not detect version_main.therefore, we are assuming it is chrome 108 or higher\n"
     ]
    },
    {
     "name": "stdout",
     "output_type": "stream",
     "text": [
      "Saved to db successfully\n",
      "Done with link 2848: https://www.zoopla.co.uk/for-sale/details/62535196/?search_identifier=238f223f63d848cfffd44a0ebbe8d40e63a8ed4c3edccba62424a0d24095140d\n",
      "Starting extraction for link 2849: https://www.zoopla.co.uk/for-sale/details/62518881/?search_identifier=238f223f63d848cfffd44a0ebbe8d40e63a8ed4c3edccba62424a0d24095140d\n"
     ]
    },
    {
     "name": "stderr",
     "output_type": "stream",
     "text": [
      "could not detect version_main.therefore, we are assuming it is chrome 108 or higher\n"
     ]
    },
    {
     "name": "stdout",
     "output_type": "stream",
     "text": [
      "Saved to db successfully\n",
      "Done with link 2849: https://www.zoopla.co.uk/for-sale/details/62518881/?search_identifier=238f223f63d848cfffd44a0ebbe8d40e63a8ed4c3edccba62424a0d24095140d\n",
      "Starting extraction for link 2850: https://www.zoopla.co.uk/for-sale/details/62462313/?search_identifier=238f223f63d848cfffd44a0ebbe8d40e63a8ed4c3edccba62424a0d24095140d\n"
     ]
    },
    {
     "name": "stderr",
     "output_type": "stream",
     "text": [
      "could not detect version_main.therefore, we are assuming it is chrome 108 or higher\n"
     ]
    },
    {
     "name": "stdout",
     "output_type": "stream",
     "text": [
      "Saved to db successfully\n",
      "Done with link 2850: https://www.zoopla.co.uk/for-sale/details/62462313/?search_identifier=238f223f63d848cfffd44a0ebbe8d40e63a8ed4c3edccba62424a0d24095140d\n",
      "Starting extraction for link 2851: https://www.zoopla.co.uk/for-sale/details/62456088/?search_identifier=238f223f63d848cfffd44a0ebbe8d40e63a8ed4c3edccba62424a0d24095140d\n"
     ]
    },
    {
     "name": "stderr",
     "output_type": "stream",
     "text": [
      "could not detect version_main.therefore, we are assuming it is chrome 108 or higher\n"
     ]
    },
    {
     "name": "stdout",
     "output_type": "stream",
     "text": [
      "Saved to db successfully\n",
      "Done with link 2851: https://www.zoopla.co.uk/for-sale/details/62456088/?search_identifier=238f223f63d848cfffd44a0ebbe8d40e63a8ed4c3edccba62424a0d24095140d\n",
      "Starting extraction for link 2852: https://www.zoopla.co.uk/for-sale/details/62435560/?search_identifier=238f223f63d848cfffd44a0ebbe8d40e63a8ed4c3edccba62424a0d24095140d\n"
     ]
    },
    {
     "name": "stderr",
     "output_type": "stream",
     "text": [
      "could not detect version_main.therefore, we are assuming it is chrome 108 or higher\n"
     ]
    },
    {
     "name": "stdout",
     "output_type": "stream",
     "text": [
      "Saved to db successfully\n",
      "Done with link 2852: https://www.zoopla.co.uk/for-sale/details/62435560/?search_identifier=238f223f63d848cfffd44a0ebbe8d40e63a8ed4c3edccba62424a0d24095140d\n",
      "Starting extraction for link 2853: https://www.zoopla.co.uk/for-sale/details/62420308/?search_identifier=238f223f63d848cfffd44a0ebbe8d40e63a8ed4c3edccba62424a0d24095140d\n"
     ]
    },
    {
     "name": "stderr",
     "output_type": "stream",
     "text": [
      "could not detect version_main.therefore, we are assuming it is chrome 108 or higher\n"
     ]
    },
    {
     "name": "stdout",
     "output_type": "stream",
     "text": [
      "Saved to db successfully\n",
      "Done with link 2853: https://www.zoopla.co.uk/for-sale/details/62420308/?search_identifier=238f223f63d848cfffd44a0ebbe8d40e63a8ed4c3edccba62424a0d24095140d\n",
      "Starting extraction for link 2854: https://www.zoopla.co.uk/new-homes/details/62419099/?search_identifier=238f223f63d848cfffd44a0ebbe8d40e63a8ed4c3edccba62424a0d24095140d\n"
     ]
    },
    {
     "name": "stderr",
     "output_type": "stream",
     "text": [
      "could not detect version_main.therefore, we are assuming it is chrome 108 or higher\n"
     ]
    },
    {
     "name": "stdout",
     "output_type": "stream",
     "text": [
      "Saved to db successfully\n",
      "Done with link 2854: https://www.zoopla.co.uk/new-homes/details/62419099/?search_identifier=238f223f63d848cfffd44a0ebbe8d40e63a8ed4c3edccba62424a0d24095140d\n",
      "Starting extraction for link 2855: https://www.zoopla.co.uk/for-sale/details/62388671/?search_identifier=238f223f63d848cfffd44a0ebbe8d40e63a8ed4c3edccba62424a0d24095140d\n"
     ]
    },
    {
     "name": "stderr",
     "output_type": "stream",
     "text": [
      "could not detect version_main.therefore, we are assuming it is chrome 108 or higher\n"
     ]
    },
    {
     "name": "stdout",
     "output_type": "stream",
     "text": [
      "Saved to db successfully\n",
      "Done with link 2855: https://www.zoopla.co.uk/for-sale/details/62388671/?search_identifier=238f223f63d848cfffd44a0ebbe8d40e63a8ed4c3edccba62424a0d24095140d\n",
      "Starting extraction for link 2856: https://www.zoopla.co.uk/for-sale/details/62356764/?search_identifier=238f223f63d848cfffd44a0ebbe8d40e63a8ed4c3edccba62424a0d24095140d\n"
     ]
    },
    {
     "name": "stderr",
     "output_type": "stream",
     "text": [
      "could not detect version_main.therefore, we are assuming it is chrome 108 or higher\n"
     ]
    },
    {
     "name": "stdout",
     "output_type": "stream",
     "text": [
      "Saved to db successfully\n",
      "Done with link 2856: https://www.zoopla.co.uk/for-sale/details/62356764/?search_identifier=238f223f63d848cfffd44a0ebbe8d40e63a8ed4c3edccba62424a0d24095140d\n",
      "Starting extraction for link 2857: https://www.zoopla.co.uk/for-sale/details/62347738/?search_identifier=238f223f63d848cfffd44a0ebbe8d40e63a8ed4c3edccba62424a0d24095140d\n"
     ]
    },
    {
     "name": "stderr",
     "output_type": "stream",
     "text": [
      "could not detect version_main.therefore, we are assuming it is chrome 108 or higher\n"
     ]
    },
    {
     "name": "stdout",
     "output_type": "stream",
     "text": [
      "Saved to db successfully\n",
      "Done with link 2857: https://www.zoopla.co.uk/for-sale/details/62347738/?search_identifier=238f223f63d848cfffd44a0ebbe8d40e63a8ed4c3edccba62424a0d24095140d\n",
      "Starting extraction for link 2858: https://www.zoopla.co.uk/for-sale/details/62116151/?search_identifier=238f223f63d848cfffd44a0ebbe8d40e63a8ed4c3edccba62424a0d24095140d\n"
     ]
    },
    {
     "name": "stderr",
     "output_type": "stream",
     "text": [
      "could not detect version_main.therefore, we are assuming it is chrome 108 or higher\n"
     ]
    },
    {
     "name": "stdout",
     "output_type": "stream",
     "text": [
      "Saved to db successfully\n",
      "Done with link 2858: https://www.zoopla.co.uk/for-sale/details/62116151/?search_identifier=238f223f63d848cfffd44a0ebbe8d40e63a8ed4c3edccba62424a0d24095140d\n",
      "Starting extraction for link 2859: https://www.zoopla.co.uk/for-sale/details/62011496/?search_identifier=c4822832a828c70ad55562c71645295bed1d01472f50e6e36088efc5715187d3\n"
     ]
    },
    {
     "name": "stderr",
     "output_type": "stream",
     "text": [
      "could not detect version_main.therefore, we are assuming it is chrome 108 or higher\n"
     ]
    },
    {
     "name": "stdout",
     "output_type": "stream",
     "text": [
      "Saved to db successfully\n",
      "Done with link 2859: https://www.zoopla.co.uk/for-sale/details/62011496/?search_identifier=c4822832a828c70ad55562c71645295bed1d01472f50e6e36088efc5715187d3\n",
      "Starting extraction for link 2860: https://www.zoopla.co.uk/new-homes/details/61963296/?search_identifier=c4822832a828c70ad55562c71645295bed1d01472f50e6e36088efc5715187d3\n"
     ]
    },
    {
     "name": "stderr",
     "output_type": "stream",
     "text": [
      "could not detect version_main.therefore, we are assuming it is chrome 108 or higher\n"
     ]
    },
    {
     "name": "stdout",
     "output_type": "stream",
     "text": [
      "Saved to db successfully\n",
      "Done with link 2860: https://www.zoopla.co.uk/new-homes/details/61963296/?search_identifier=c4822832a828c70ad55562c71645295bed1d01472f50e6e36088efc5715187d3\n",
      "Starting extraction for link 2861: https://www.zoopla.co.uk/for-sale/details/61962307/?search_identifier=c4822832a828c70ad55562c71645295bed1d01472f50e6e36088efc5715187d3\n"
     ]
    },
    {
     "name": "stderr",
     "output_type": "stream",
     "text": [
      "could not detect version_main.therefore, we are assuming it is chrome 108 or higher\n"
     ]
    },
    {
     "name": "stdout",
     "output_type": "stream",
     "text": [
      "Saved to db successfully\n",
      "Done with link 2861: https://www.zoopla.co.uk/for-sale/details/61962307/?search_identifier=c4822832a828c70ad55562c71645295bed1d01472f50e6e36088efc5715187d3\n",
      "Starting extraction for link 2862: https://www.zoopla.co.uk/for-sale/details/61885883/?search_identifier=c4822832a828c70ad55562c71645295bed1d01472f50e6e36088efc5715187d3\n"
     ]
    },
    {
     "name": "stderr",
     "output_type": "stream",
     "text": [
      "could not detect version_main.therefore, we are assuming it is chrome 108 or higher\n"
     ]
    },
    {
     "name": "stdout",
     "output_type": "stream",
     "text": [
      "Saved to db successfully\n",
      "Done with link 2862: https://www.zoopla.co.uk/for-sale/details/61885883/?search_identifier=c4822832a828c70ad55562c71645295bed1d01472f50e6e36088efc5715187d3\n",
      "Starting extraction for link 2863: https://www.zoopla.co.uk/for-sale/details/61656745/?search_identifier=c4822832a828c70ad55562c71645295bed1d01472f50e6e36088efc5715187d3\n"
     ]
    },
    {
     "name": "stderr",
     "output_type": "stream",
     "text": [
      "could not detect version_main.therefore, we are assuming it is chrome 108 or higher\n"
     ]
    },
    {
     "name": "stdout",
     "output_type": "stream",
     "text": [
      "Saved to db successfully\n",
      "Done with link 2863: https://www.zoopla.co.uk/for-sale/details/61656745/?search_identifier=c4822832a828c70ad55562c71645295bed1d01472f50e6e36088efc5715187d3\n",
      "Starting extraction for link 2864: https://www.zoopla.co.uk/for-sale/details/61290010/?search_identifier=c4822832a828c70ad55562c71645295bed1d01472f50e6e36088efc5715187d3\n"
     ]
    },
    {
     "name": "stderr",
     "output_type": "stream",
     "text": [
      "could not detect version_main.therefore, we are assuming it is chrome 108 or higher\n"
     ]
    },
    {
     "name": "stdout",
     "output_type": "stream",
     "text": [
      "Saved to db successfully\n",
      "Done with link 2864: https://www.zoopla.co.uk/for-sale/details/61290010/?search_identifier=c4822832a828c70ad55562c71645295bed1d01472f50e6e36088efc5715187d3\n",
      "Starting extraction for link 2865: https://www.zoopla.co.uk/for-sale/details/58538893/?search_identifier=c4822832a828c70ad55562c71645295bed1d01472f50e6e36088efc5715187d3\n"
     ]
    },
    {
     "name": "stderr",
     "output_type": "stream",
     "text": [
      "could not detect version_main.therefore, we are assuming it is chrome 108 or higher\n"
     ]
    },
    {
     "name": "stdout",
     "output_type": "stream",
     "text": [
      "Saved to db successfully\n",
      "Done with link 2865: https://www.zoopla.co.uk/for-sale/details/58538893/?search_identifier=c4822832a828c70ad55562c71645295bed1d01472f50e6e36088efc5715187d3\n",
      "Starting extraction for link 2866: https://www.zoopla.co.uk/for-sale/details/61147160/?search_identifier=c4822832a828c70ad55562c71645295bed1d01472f50e6e36088efc5715187d3\n"
     ]
    },
    {
     "name": "stderr",
     "output_type": "stream",
     "text": [
      "could not detect version_main.therefore, we are assuming it is chrome 108 or higher\n"
     ]
    },
    {
     "name": "stdout",
     "output_type": "stream",
     "text": [
      "Saved to db successfully\n",
      "Done with link 2866: https://www.zoopla.co.uk/for-sale/details/61147160/?search_identifier=c4822832a828c70ad55562c71645295bed1d01472f50e6e36088efc5715187d3\n",
      "Starting extraction for link 2867: https://www.zoopla.co.uk/for-sale/details/60813340/?search_identifier=c4822832a828c70ad55562c71645295bed1d01472f50e6e36088efc5715187d3\n"
     ]
    },
    {
     "name": "stderr",
     "output_type": "stream",
     "text": [
      "could not detect version_main.therefore, we are assuming it is chrome 108 or higher\n"
     ]
    },
    {
     "name": "stdout",
     "output_type": "stream",
     "text": [
      "Saved to db successfully\n",
      "Done with link 2867: https://www.zoopla.co.uk/for-sale/details/60813340/?search_identifier=c4822832a828c70ad55562c71645295bed1d01472f50e6e36088efc5715187d3\n",
      "Starting extraction for link 2868: https://www.zoopla.co.uk/for-sale/details/60813318/?search_identifier=c4822832a828c70ad55562c71645295bed1d01472f50e6e36088efc5715187d3\n"
     ]
    },
    {
     "name": "stderr",
     "output_type": "stream",
     "text": [
      "could not detect version_main.therefore, we are assuming it is chrome 108 or higher\n"
     ]
    },
    {
     "name": "stdout",
     "output_type": "stream",
     "text": [
      "Saved to db successfully\n",
      "Done with link 2868: https://www.zoopla.co.uk/for-sale/details/60813318/?search_identifier=c4822832a828c70ad55562c71645295bed1d01472f50e6e36088efc5715187d3\n",
      "Starting extraction for link 2869: https://www.zoopla.co.uk/for-sale/details/61951221/?search_identifier=c4822832a828c70ad55562c71645295bed1d01472f50e6e36088efc5715187d3\n"
     ]
    },
    {
     "name": "stderr",
     "output_type": "stream",
     "text": [
      "could not detect version_main.therefore, we are assuming it is chrome 108 or higher\n"
     ]
    },
    {
     "name": "stdout",
     "output_type": "stream",
     "text": [
      "Saved to db successfully\n",
      "Done with link 2869: https://www.zoopla.co.uk/for-sale/details/61951221/?search_identifier=c4822832a828c70ad55562c71645295bed1d01472f50e6e36088efc5715187d3\n",
      "Starting extraction for link 2870: https://www.zoopla.co.uk/for-sale/details/60656638/?search_identifier=c4822832a828c70ad55562c71645295bed1d01472f50e6e36088efc5715187d3\n"
     ]
    },
    {
     "name": "stderr",
     "output_type": "stream",
     "text": [
      "could not detect version_main.therefore, we are assuming it is chrome 108 or higher\n"
     ]
    },
    {
     "name": "stdout",
     "output_type": "stream",
     "text": [
      "Saved to db successfully\n",
      "Done with link 2870: https://www.zoopla.co.uk/for-sale/details/60656638/?search_identifier=c4822832a828c70ad55562c71645295bed1d01472f50e6e36088efc5715187d3\n",
      "Starting extraction for link 2871: https://www.zoopla.co.uk/for-sale/details/61110607/?search_identifier=c4822832a828c70ad55562c71645295bed1d01472f50e6e36088efc5715187d3\n"
     ]
    },
    {
     "name": "stderr",
     "output_type": "stream",
     "text": [
      "could not detect version_main.therefore, we are assuming it is chrome 108 or higher\n"
     ]
    },
    {
     "name": "stdout",
     "output_type": "stream",
     "text": [
      "Saved to db successfully\n",
      "Done with link 2871: https://www.zoopla.co.uk/for-sale/details/61110607/?search_identifier=c4822832a828c70ad55562c71645295bed1d01472f50e6e36088efc5715187d3\n",
      "Starting extraction for link 2872: https://www.zoopla.co.uk/for-sale/details/60447279/?search_identifier=c4822832a828c70ad55562c71645295bed1d01472f50e6e36088efc5715187d3\n"
     ]
    },
    {
     "name": "stderr",
     "output_type": "stream",
     "text": [
      "could not detect version_main.therefore, we are assuming it is chrome 108 or higher\n"
     ]
    },
    {
     "name": "stdout",
     "output_type": "stream",
     "text": [
      "Saved to db successfully\n",
      "Done with link 2872: https://www.zoopla.co.uk/for-sale/details/60447279/?search_identifier=c4822832a828c70ad55562c71645295bed1d01472f50e6e36088efc5715187d3\n",
      "Starting extraction for link 2873: https://www.zoopla.co.uk/for-sale/details/60026979/?search_identifier=c4822832a828c70ad55562c71645295bed1d01472f50e6e36088efc5715187d3\n"
     ]
    },
    {
     "name": "stderr",
     "output_type": "stream",
     "text": [
      "could not detect version_main.therefore, we are assuming it is chrome 108 or higher\n"
     ]
    },
    {
     "name": "stdout",
     "output_type": "stream",
     "text": [
      "Saved to db successfully\n",
      "Done with link 2873: https://www.zoopla.co.uk/for-sale/details/60026979/?search_identifier=c4822832a828c70ad55562c71645295bed1d01472f50e6e36088efc5715187d3\n",
      "Starting extraction for link 2874: https://www.zoopla.co.uk/for-sale/details/60003840/?search_identifier=c4822832a828c70ad55562c71645295bed1d01472f50e6e36088efc5715187d3\n"
     ]
    },
    {
     "name": "stderr",
     "output_type": "stream",
     "text": [
      "could not detect version_main.therefore, we are assuming it is chrome 108 or higher\n"
     ]
    },
    {
     "name": "stdout",
     "output_type": "stream",
     "text": [
      "Saved to db successfully\n",
      "Done with link 2874: https://www.zoopla.co.uk/for-sale/details/60003840/?search_identifier=c4822832a828c70ad55562c71645295bed1d01472f50e6e36088efc5715187d3\n",
      "Starting extraction for link 2875: https://www.zoopla.co.uk/for-sale/details/58444521/?search_identifier=c4822832a828c70ad55562c71645295bed1d01472f50e6e36088efc5715187d3\n"
     ]
    },
    {
     "name": "stderr",
     "output_type": "stream",
     "text": [
      "could not detect version_main.therefore, we are assuming it is chrome 108 or higher\n"
     ]
    },
    {
     "name": "stdout",
     "output_type": "stream",
     "text": [
      "Saved to db successfully\n",
      "Done with link 2875: https://www.zoopla.co.uk/for-sale/details/58444521/?search_identifier=c4822832a828c70ad55562c71645295bed1d01472f50e6e36088efc5715187d3\n",
      "Starting extraction for link 2876: https://www.zoopla.co.uk/for-sale/details/58442162/?search_identifier=c4822832a828c70ad55562c71645295bed1d01472f50e6e36088efc5715187d3\n"
     ]
    },
    {
     "name": "stderr",
     "output_type": "stream",
     "text": [
      "could not detect version_main.therefore, we are assuming it is chrome 108 or higher\n"
     ]
    },
    {
     "name": "stdout",
     "output_type": "stream",
     "text": [
      "Saved to db successfully\n",
      "Done with link 2876: https://www.zoopla.co.uk/for-sale/details/58442162/?search_identifier=c4822832a828c70ad55562c71645295bed1d01472f50e6e36088efc5715187d3\n",
      "Starting extraction for link 2877: https://www.zoopla.co.uk/for-sale/details/53357374/?search_identifier=c4822832a828c70ad55562c71645295bed1d01472f50e6e36088efc5715187d3\n"
     ]
    },
    {
     "name": "stderr",
     "output_type": "stream",
     "text": [
      "could not detect version_main.therefore, we are assuming it is chrome 108 or higher\n"
     ]
    },
    {
     "name": "stdout",
     "output_type": "stream",
     "text": [
      "Saved to db successfully\n",
      "Done with link 2877: https://www.zoopla.co.uk/for-sale/details/53357374/?search_identifier=c4822832a828c70ad55562c71645295bed1d01472f50e6e36088efc5715187d3\n",
      "Starting extraction for link 2878: https://www.zoopla.co.uk/for-sale/details/52551618/?search_identifier=c4822832a828c70ad55562c71645295bed1d01472f50e6e36088efc5715187d3\n"
     ]
    },
    {
     "name": "stderr",
     "output_type": "stream",
     "text": [
      "could not detect version_main.therefore, we are assuming it is chrome 108 or higher\n"
     ]
    },
    {
     "name": "stdout",
     "output_type": "stream",
     "text": [
      "Saved to db successfully\n",
      "Done with link 2878: https://www.zoopla.co.uk/for-sale/details/52551618/?search_identifier=c4822832a828c70ad55562c71645295bed1d01472f50e6e36088efc5715187d3\n",
      "Starting extraction for link 2879: https://www.zoopla.co.uk/for-sale/details/65214117/?search_identifier=50cab16b2e3346bf24e1e7074bddc866daff67d5ad13125bf616f6f4cc6e6d4d\n"
     ]
    },
    {
     "name": "stderr",
     "output_type": "stream",
     "text": [
      "could not detect version_main.therefore, we are assuming it is chrome 108 or higher\n"
     ]
    },
    {
     "name": "stdout",
     "output_type": "stream",
     "text": [
      "Saved to db successfully\n",
      "Done with link 2879: https://www.zoopla.co.uk/for-sale/details/65214117/?search_identifier=50cab16b2e3346bf24e1e7074bddc866daff67d5ad13125bf616f6f4cc6e6d4d\n",
      "Starting extraction for link 2880: https://www.zoopla.co.uk/for-sale/details/65203474/?search_identifier=50cab16b2e3346bf24e1e7074bddc866daff67d5ad13125bf616f6f4cc6e6d4d\n"
     ]
    },
    {
     "name": "stderr",
     "output_type": "stream",
     "text": [
      "could not detect version_main.therefore, we are assuming it is chrome 108 or higher\n"
     ]
    },
    {
     "name": "stdout",
     "output_type": "stream",
     "text": [
      "Saved to db successfully\n",
      "Done with link 2880: https://www.zoopla.co.uk/for-sale/details/65203474/?search_identifier=50cab16b2e3346bf24e1e7074bddc866daff67d5ad13125bf616f6f4cc6e6d4d\n",
      "Starting extraction for link 2881: https://www.zoopla.co.uk/for-sale/details/65198345/?search_identifier=50cab16b2e3346bf24e1e7074bddc866daff67d5ad13125bf616f6f4cc6e6d4d\n"
     ]
    },
    {
     "name": "stderr",
     "output_type": "stream",
     "text": [
      "could not detect version_main.therefore, we are assuming it is chrome 108 or higher\n"
     ]
    },
    {
     "name": "stdout",
     "output_type": "stream",
     "text": [
      "Saved to db successfully\n",
      "Done with link 2881: https://www.zoopla.co.uk/for-sale/details/65198345/?search_identifier=50cab16b2e3346bf24e1e7074bddc866daff67d5ad13125bf616f6f4cc6e6d4d\n",
      "Starting extraction for link 2882: https://www.zoopla.co.uk/for-sale/details/65195169/?search_identifier=50cab16b2e3346bf24e1e7074bddc866daff67d5ad13125bf616f6f4cc6e6d4d\n"
     ]
    },
    {
     "name": "stderr",
     "output_type": "stream",
     "text": [
      "could not detect version_main.therefore, we are assuming it is chrome 108 or higher\n"
     ]
    },
    {
     "name": "stdout",
     "output_type": "stream",
     "text": [
      "Saved to db successfully\n",
      "Done with link 2882: https://www.zoopla.co.uk/for-sale/details/65195169/?search_identifier=50cab16b2e3346bf24e1e7074bddc866daff67d5ad13125bf616f6f4cc6e6d4d\n",
      "Starting extraction for link 2883: https://www.zoopla.co.uk/for-sale/details/65180137/?search_identifier=50cab16b2e3346bf24e1e7074bddc866daff67d5ad13125bf616f6f4cc6e6d4d\n"
     ]
    },
    {
     "name": "stderr",
     "output_type": "stream",
     "text": [
      "could not detect version_main.therefore, we are assuming it is chrome 108 or higher\n"
     ]
    },
    {
     "name": "stdout",
     "output_type": "stream",
     "text": [
      "Saved to db successfully\n",
      "Done with link 2883: https://www.zoopla.co.uk/for-sale/details/65180137/?search_identifier=50cab16b2e3346bf24e1e7074bddc866daff67d5ad13125bf616f6f4cc6e6d4d\n",
      "Starting extraction for link 2884: https://www.zoopla.co.uk/for-sale/details/64786619/?search_identifier=50cab16b2e3346bf24e1e7074bddc866daff67d5ad13125bf616f6f4cc6e6d4d\n"
     ]
    },
    {
     "name": "stderr",
     "output_type": "stream",
     "text": [
      "could not detect version_main.therefore, we are assuming it is chrome 108 or higher\n"
     ]
    },
    {
     "name": "stdout",
     "output_type": "stream",
     "text": [
      "Saved to db successfully\n",
      "Done with link 2884: https://www.zoopla.co.uk/for-sale/details/64786619/?search_identifier=50cab16b2e3346bf24e1e7074bddc866daff67d5ad13125bf616f6f4cc6e6d4d\n",
      "Starting extraction for link 2885: https://www.zoopla.co.uk/for-sale/details/65166504/?search_identifier=50cab16b2e3346bf24e1e7074bddc866daff67d5ad13125bf616f6f4cc6e6d4d\n"
     ]
    },
    {
     "name": "stderr",
     "output_type": "stream",
     "text": [
      "could not detect version_main.therefore, we are assuming it is chrome 108 or higher\n"
     ]
    },
    {
     "name": "stdout",
     "output_type": "stream",
     "text": [
      "Saved to db successfully\n",
      "Done with link 2885: https://www.zoopla.co.uk/for-sale/details/65166504/?search_identifier=50cab16b2e3346bf24e1e7074bddc866daff67d5ad13125bf616f6f4cc6e6d4d\n",
      "Starting extraction for link 2886: https://www.zoopla.co.uk/for-sale/details/60697584/?search_identifier=50cab16b2e3346bf24e1e7074bddc866daff67d5ad13125bf616f6f4cc6e6d4d\n"
     ]
    },
    {
     "name": "stderr",
     "output_type": "stream",
     "text": [
      "could not detect version_main.therefore, we are assuming it is chrome 108 or higher\n"
     ]
    },
    {
     "name": "stdout",
     "output_type": "stream",
     "text": [
      "Saved to db successfully\n",
      "Done with link 2886: https://www.zoopla.co.uk/for-sale/details/60697584/?search_identifier=50cab16b2e3346bf24e1e7074bddc866daff67d5ad13125bf616f6f4cc6e6d4d\n",
      "Starting extraction for link 2887: https://www.zoopla.co.uk/for-sale/details/65147645/?search_identifier=50cab16b2e3346bf24e1e7074bddc866daff67d5ad13125bf616f6f4cc6e6d4d\n"
     ]
    },
    {
     "name": "stderr",
     "output_type": "stream",
     "text": [
      "could not detect version_main.therefore, we are assuming it is chrome 108 or higher\n"
     ]
    },
    {
     "name": "stdout",
     "output_type": "stream",
     "text": [
      "Saved to db successfully\n",
      "Done with link 2887: https://www.zoopla.co.uk/for-sale/details/65147645/?search_identifier=50cab16b2e3346bf24e1e7074bddc866daff67d5ad13125bf616f6f4cc6e6d4d\n",
      "Starting extraction for link 2888: https://www.zoopla.co.uk/for-sale/details/65142299/?search_identifier=50cab16b2e3346bf24e1e7074bddc866daff67d5ad13125bf616f6f4cc6e6d4d\n"
     ]
    },
    {
     "name": "stderr",
     "output_type": "stream",
     "text": [
      "could not detect version_main.therefore, we are assuming it is chrome 108 or higher\n"
     ]
    },
    {
     "name": "stdout",
     "output_type": "stream",
     "text": [
      "Saved to db successfully\n",
      "Done with link 2888: https://www.zoopla.co.uk/for-sale/details/65142299/?search_identifier=50cab16b2e3346bf24e1e7074bddc866daff67d5ad13125bf616f6f4cc6e6d4d\n",
      "Starting extraction for link 2889: https://www.zoopla.co.uk/for-sale/details/65108351/?search_identifier=50cab16b2e3346bf24e1e7074bddc866daff67d5ad13125bf616f6f4cc6e6d4d\n"
     ]
    },
    {
     "name": "stderr",
     "output_type": "stream",
     "text": [
      "could not detect version_main.therefore, we are assuming it is chrome 108 or higher\n"
     ]
    },
    {
     "name": "stdout",
     "output_type": "stream",
     "text": [
      "Saved to db successfully\n",
      "Done with link 2889: https://www.zoopla.co.uk/for-sale/details/65108351/?search_identifier=50cab16b2e3346bf24e1e7074bddc866daff67d5ad13125bf616f6f4cc6e6d4d\n",
      "Starting extraction for link 2890: https://www.zoopla.co.uk/new-homes/details/65107826/?search_identifier=50cab16b2e3346bf24e1e7074bddc866daff67d5ad13125bf616f6f4cc6e6d4d\n"
     ]
    },
    {
     "name": "stderr",
     "output_type": "stream",
     "text": [
      "could not detect version_main.therefore, we are assuming it is chrome 108 or higher\n"
     ]
    },
    {
     "name": "stdout",
     "output_type": "stream",
     "text": [
      "Saved to db successfully\n",
      "Done with link 2890: https://www.zoopla.co.uk/new-homes/details/65107826/?search_identifier=50cab16b2e3346bf24e1e7074bddc866daff67d5ad13125bf616f6f4cc6e6d4d\n",
      "Starting extraction for link 2891: https://www.zoopla.co.uk/new-homes/details/65107825/?search_identifier=50cab16b2e3346bf24e1e7074bddc866daff67d5ad13125bf616f6f4cc6e6d4d\n"
     ]
    },
    {
     "name": "stderr",
     "output_type": "stream",
     "text": [
      "could not detect version_main.therefore, we are assuming it is chrome 108 or higher\n"
     ]
    },
    {
     "name": "stdout",
     "output_type": "stream",
     "text": [
      "Saved to db successfully\n",
      "Done with link 2891: https://www.zoopla.co.uk/new-homes/details/65107825/?search_identifier=50cab16b2e3346bf24e1e7074bddc866daff67d5ad13125bf616f6f4cc6e6d4d\n",
      "Starting extraction for link 2892: https://www.zoopla.co.uk/new-homes/details/65107819/?search_identifier=50cab16b2e3346bf24e1e7074bddc866daff67d5ad13125bf616f6f4cc6e6d4d\n"
     ]
    },
    {
     "name": "stderr",
     "output_type": "stream",
     "text": [
      "could not detect version_main.therefore, we are assuming it is chrome 108 or higher\n"
     ]
    },
    {
     "name": "stdout",
     "output_type": "stream",
     "text": [
      "Saved to db successfully\n",
      "Done with link 2892: https://www.zoopla.co.uk/new-homes/details/65107819/?search_identifier=50cab16b2e3346bf24e1e7074bddc866daff67d5ad13125bf616f6f4cc6e6d4d\n",
      "Starting extraction for link 2893: https://www.zoopla.co.uk/for-sale/details/65094114/?search_identifier=50cab16b2e3346bf24e1e7074bddc866daff67d5ad13125bf616f6f4cc6e6d4d\n"
     ]
    },
    {
     "name": "stderr",
     "output_type": "stream",
     "text": [
      "could not detect version_main.therefore, we are assuming it is chrome 108 or higher\n"
     ]
    },
    {
     "name": "stdout",
     "output_type": "stream",
     "text": [
      "Saved to db successfully\n",
      "Done with link 2893: https://www.zoopla.co.uk/for-sale/details/65094114/?search_identifier=50cab16b2e3346bf24e1e7074bddc866daff67d5ad13125bf616f6f4cc6e6d4d\n",
      "Starting extraction for link 2894: https://www.zoopla.co.uk/for-sale/details/65090058/?search_identifier=50cab16b2e3346bf24e1e7074bddc866daff67d5ad13125bf616f6f4cc6e6d4d\n"
     ]
    },
    {
     "name": "stderr",
     "output_type": "stream",
     "text": [
      "could not detect version_main.therefore, we are assuming it is chrome 108 or higher\n"
     ]
    },
    {
     "name": "stdout",
     "output_type": "stream",
     "text": [
      "Saved to db successfully\n",
      "Done with link 2894: https://www.zoopla.co.uk/for-sale/details/65090058/?search_identifier=50cab16b2e3346bf24e1e7074bddc866daff67d5ad13125bf616f6f4cc6e6d4d\n",
      "Starting extraction for link 2895: https://www.zoopla.co.uk/for-sale/details/65087098/?search_identifier=50cab16b2e3346bf24e1e7074bddc866daff67d5ad13125bf616f6f4cc6e6d4d\n"
     ]
    },
    {
     "name": "stderr",
     "output_type": "stream",
     "text": [
      "could not detect version_main.therefore, we are assuming it is chrome 108 or higher\n"
     ]
    },
    {
     "name": "stdout",
     "output_type": "stream",
     "text": [
      "Saved to db successfully\n",
      "Done with link 2895: https://www.zoopla.co.uk/for-sale/details/65087098/?search_identifier=50cab16b2e3346bf24e1e7074bddc866daff67d5ad13125bf616f6f4cc6e6d4d\n",
      "Starting extraction for link 2896: https://www.zoopla.co.uk/for-sale/details/65084967/?search_identifier=50cab16b2e3346bf24e1e7074bddc866daff67d5ad13125bf616f6f4cc6e6d4d\n"
     ]
    },
    {
     "name": "stderr",
     "output_type": "stream",
     "text": [
      "could not detect version_main.therefore, we are assuming it is chrome 108 or higher\n"
     ]
    },
    {
     "name": "stdout",
     "output_type": "stream",
     "text": [
      "Saved to db successfully\n",
      "Done with link 2896: https://www.zoopla.co.uk/for-sale/details/65084967/?search_identifier=50cab16b2e3346bf24e1e7074bddc866daff67d5ad13125bf616f6f4cc6e6d4d\n",
      "Starting extraction for link 2897: https://www.zoopla.co.uk/for-sale/details/65080914/?search_identifier=50cab16b2e3346bf24e1e7074bddc866daff67d5ad13125bf616f6f4cc6e6d4d\n"
     ]
    },
    {
     "name": "stderr",
     "output_type": "stream",
     "text": [
      "could not detect version_main.therefore, we are assuming it is chrome 108 or higher\n"
     ]
    },
    {
     "name": "stdout",
     "output_type": "stream",
     "text": [
      "Saved to db successfully\n",
      "Done with link 2897: https://www.zoopla.co.uk/for-sale/details/65080914/?search_identifier=50cab16b2e3346bf24e1e7074bddc866daff67d5ad13125bf616f6f4cc6e6d4d\n",
      "Starting extraction for link 2898: https://www.zoopla.co.uk/for-sale/details/65078896/?search_identifier=50cab16b2e3346bf24e1e7074bddc866daff67d5ad13125bf616f6f4cc6e6d4d\n"
     ]
    },
    {
     "name": "stderr",
     "output_type": "stream",
     "text": [
      "could not detect version_main.therefore, we are assuming it is chrome 108 or higher\n"
     ]
    },
    {
     "name": "stdout",
     "output_type": "stream",
     "text": [
      "Saved to db successfully\n",
      "Done with link 2898: https://www.zoopla.co.uk/for-sale/details/65078896/?search_identifier=50cab16b2e3346bf24e1e7074bddc866daff67d5ad13125bf616f6f4cc6e6d4d\n",
      "Starting extraction for link 2899: https://www.zoopla.co.uk/for-sale/details/65062505/?search_identifier=50cab16b2e3346bf24e1e7074bddc866daff67d5ad13125bf616f6f4cc6e6d4d\n"
     ]
    },
    {
     "name": "stderr",
     "output_type": "stream",
     "text": [
      "could not detect version_main.therefore, we are assuming it is chrome 108 or higher\n"
     ]
    },
    {
     "name": "stdout",
     "output_type": "stream",
     "text": [
      "Saved to db successfully\n",
      "Done with link 2899: https://www.zoopla.co.uk/for-sale/details/65062505/?search_identifier=50cab16b2e3346bf24e1e7074bddc866daff67d5ad13125bf616f6f4cc6e6d4d\n",
      "Starting extraction for link 2900: https://www.zoopla.co.uk/for-sale/details/65052924/?search_identifier=50cab16b2e3346bf24e1e7074bddc866daff67d5ad13125bf616f6f4cc6e6d4d\n"
     ]
    },
    {
     "name": "stderr",
     "output_type": "stream",
     "text": [
      "could not detect version_main.therefore, we are assuming it is chrome 108 or higher\n"
     ]
    },
    {
     "name": "stdout",
     "output_type": "stream",
     "text": [
      "Saved to db successfully\n",
      "Done with link 2900: https://www.zoopla.co.uk/for-sale/details/65052924/?search_identifier=50cab16b2e3346bf24e1e7074bddc866daff67d5ad13125bf616f6f4cc6e6d4d\n",
      "Starting extraction for link 2901: https://www.zoopla.co.uk/for-sale/details/65046460/?search_identifier=50cab16b2e3346bf24e1e7074bddc866daff67d5ad13125bf616f6f4cc6e6d4d\n"
     ]
    },
    {
     "name": "stderr",
     "output_type": "stream",
     "text": [
      "could not detect version_main.therefore, we are assuming it is chrome 108 or higher\n"
     ]
    },
    {
     "name": "stdout",
     "output_type": "stream",
     "text": [
      "Saved to db successfully\n",
      "Done with link 2901: https://www.zoopla.co.uk/for-sale/details/65046460/?search_identifier=50cab16b2e3346bf24e1e7074bddc866daff67d5ad13125bf616f6f4cc6e6d4d\n",
      "Starting extraction for link 2902: https://www.zoopla.co.uk/for-sale/details/65039268/?search_identifier=50cab16b2e3346bf24e1e7074bddc866daff67d5ad13125bf616f6f4cc6e6d4d\n"
     ]
    },
    {
     "name": "stderr",
     "output_type": "stream",
     "text": [
      "could not detect version_main.therefore, we are assuming it is chrome 108 or higher\n"
     ]
    },
    {
     "name": "stdout",
     "output_type": "stream",
     "text": [
      "Saved to db successfully\n",
      "Done with link 2902: https://www.zoopla.co.uk/for-sale/details/65039268/?search_identifier=50cab16b2e3346bf24e1e7074bddc866daff67d5ad13125bf616f6f4cc6e6d4d\n",
      "Starting extraction for link 2903: https://www.zoopla.co.uk/for-sale/details/55639784/?search_identifier=50cab16b2e3346bf24e1e7074bddc866daff67d5ad13125bf616f6f4cc6e6d4d\n"
     ]
    },
    {
     "name": "stderr",
     "output_type": "stream",
     "text": [
      "could not detect version_main.therefore, we are assuming it is chrome 108 or higher\n"
     ]
    },
    {
     "name": "stdout",
     "output_type": "stream",
     "text": [
      "Saved to db successfully\n",
      "Done with link 2903: https://www.zoopla.co.uk/for-sale/details/55639784/?search_identifier=50cab16b2e3346bf24e1e7074bddc866daff67d5ad13125bf616f6f4cc6e6d4d\n",
      "Starting extraction for link 2904: https://www.zoopla.co.uk/for-sale/details/65026706/?search_identifier=fe3f4aed1183e988bb4ad1b43af8c95320bb5dedfaf0017c397378cbe706ce42\n"
     ]
    },
    {
     "name": "stderr",
     "output_type": "stream",
     "text": [
      "could not detect version_main.therefore, we are assuming it is chrome 108 or higher\n"
     ]
    },
    {
     "name": "stdout",
     "output_type": "stream",
     "text": [
      "Saved to db successfully\n",
      "Done with link 2904: https://www.zoopla.co.uk/for-sale/details/65026706/?search_identifier=fe3f4aed1183e988bb4ad1b43af8c95320bb5dedfaf0017c397378cbe706ce42\n",
      "Starting extraction for link 2905: https://www.zoopla.co.uk/for-sale/details/65021951/?search_identifier=fe3f4aed1183e988bb4ad1b43af8c95320bb5dedfaf0017c397378cbe706ce42\n"
     ]
    },
    {
     "name": "stderr",
     "output_type": "stream",
     "text": [
      "could not detect version_main.therefore, we are assuming it is chrome 108 or higher\n"
     ]
    },
    {
     "name": "stdout",
     "output_type": "stream",
     "text": [
      "Saved to db successfully\n",
      "Done with link 2905: https://www.zoopla.co.uk/for-sale/details/65021951/?search_identifier=fe3f4aed1183e988bb4ad1b43af8c95320bb5dedfaf0017c397378cbe706ce42\n",
      "Starting extraction for link 2906: https://www.zoopla.co.uk/for-sale/details/65020215/?search_identifier=fe3f4aed1183e988bb4ad1b43af8c95320bb5dedfaf0017c397378cbe706ce42\n"
     ]
    },
    {
     "name": "stderr",
     "output_type": "stream",
     "text": [
      "could not detect version_main.therefore, we are assuming it is chrome 108 or higher\n"
     ]
    },
    {
     "name": "stdout",
     "output_type": "stream",
     "text": [
      "Saved to db successfully\n",
      "Done with link 2906: https://www.zoopla.co.uk/for-sale/details/65020215/?search_identifier=fe3f4aed1183e988bb4ad1b43af8c95320bb5dedfaf0017c397378cbe706ce42\n",
      "Starting extraction for link 2907: https://www.zoopla.co.uk/for-sale/details/65009021/?search_identifier=fe3f4aed1183e988bb4ad1b43af8c95320bb5dedfaf0017c397378cbe706ce42\n"
     ]
    },
    {
     "name": "stderr",
     "output_type": "stream",
     "text": [
      "could not detect version_main.therefore, we are assuming it is chrome 108 or higher\n"
     ]
    },
    {
     "name": "stdout",
     "output_type": "stream",
     "text": [
      "Saved to db successfully\n",
      "Done with link 2907: https://www.zoopla.co.uk/for-sale/details/65009021/?search_identifier=fe3f4aed1183e988bb4ad1b43af8c95320bb5dedfaf0017c397378cbe706ce42\n",
      "Starting extraction for link 2908: https://www.zoopla.co.uk/for-sale/details/64996588/?search_identifier=fe3f4aed1183e988bb4ad1b43af8c95320bb5dedfaf0017c397378cbe706ce42\n"
     ]
    },
    {
     "name": "stderr",
     "output_type": "stream",
     "text": [
      "could not detect version_main.therefore, we are assuming it is chrome 108 or higher\n"
     ]
    },
    {
     "name": "stdout",
     "output_type": "stream",
     "text": [
      "Saved to db successfully\n",
      "Done with link 2908: https://www.zoopla.co.uk/for-sale/details/64996588/?search_identifier=fe3f4aed1183e988bb4ad1b43af8c95320bb5dedfaf0017c397378cbe706ce42\n",
      "Starting extraction for link 2909: https://www.zoopla.co.uk/for-sale/details/64995671/?search_identifier=fe3f4aed1183e988bb4ad1b43af8c95320bb5dedfaf0017c397378cbe706ce42\n"
     ]
    },
    {
     "name": "stderr",
     "output_type": "stream",
     "text": [
      "could not detect version_main.therefore, we are assuming it is chrome 108 or higher\n"
     ]
    },
    {
     "name": "stdout",
     "output_type": "stream",
     "text": [
      "Saved to db successfully\n",
      "Done with link 2909: https://www.zoopla.co.uk/for-sale/details/64995671/?search_identifier=fe3f4aed1183e988bb4ad1b43af8c95320bb5dedfaf0017c397378cbe706ce42\n",
      "Starting extraction for link 2910: https://www.zoopla.co.uk/for-sale/details/64993306/?search_identifier=fe3f4aed1183e988bb4ad1b43af8c95320bb5dedfaf0017c397378cbe706ce42\n"
     ]
    },
    {
     "name": "stderr",
     "output_type": "stream",
     "text": [
      "could not detect version_main.therefore, we are assuming it is chrome 108 or higher\n"
     ]
    },
    {
     "name": "stdout",
     "output_type": "stream",
     "text": [
      "Saved to db successfully\n",
      "Done with link 2910: https://www.zoopla.co.uk/for-sale/details/64993306/?search_identifier=fe3f4aed1183e988bb4ad1b43af8c95320bb5dedfaf0017c397378cbe706ce42\n",
      "Starting extraction for link 2911: https://www.zoopla.co.uk/for-sale/details/64988373/?search_identifier=fe3f4aed1183e988bb4ad1b43af8c95320bb5dedfaf0017c397378cbe706ce42\n"
     ]
    },
    {
     "name": "stderr",
     "output_type": "stream",
     "text": [
      "could not detect version_main.therefore, we are assuming it is chrome 108 or higher\n"
     ]
    },
    {
     "name": "stdout",
     "output_type": "stream",
     "text": [
      "Saved to db successfully\n",
      "Done with link 2911: https://www.zoopla.co.uk/for-sale/details/64988373/?search_identifier=fe3f4aed1183e988bb4ad1b43af8c95320bb5dedfaf0017c397378cbe706ce42\n",
      "Starting extraction for link 2912: https://www.zoopla.co.uk/for-sale/details/64980768/?search_identifier=fe3f4aed1183e988bb4ad1b43af8c95320bb5dedfaf0017c397378cbe706ce42\n"
     ]
    },
    {
     "name": "stderr",
     "output_type": "stream",
     "text": [
      "could not detect version_main.therefore, we are assuming it is chrome 108 or higher\n"
     ]
    },
    {
     "name": "stdout",
     "output_type": "stream",
     "text": [
      "Saved to db successfully\n",
      "Done with link 2912: https://www.zoopla.co.uk/for-sale/details/64980768/?search_identifier=fe3f4aed1183e988bb4ad1b43af8c95320bb5dedfaf0017c397378cbe706ce42\n",
      "Starting extraction for link 2913: https://www.zoopla.co.uk/for-sale/details/64974892/?search_identifier=fe3f4aed1183e988bb4ad1b43af8c95320bb5dedfaf0017c397378cbe706ce42\n"
     ]
    },
    {
     "name": "stderr",
     "output_type": "stream",
     "text": [
      "could not detect version_main.therefore, we are assuming it is chrome 108 or higher\n"
     ]
    },
    {
     "name": "stdout",
     "output_type": "stream",
     "text": [
      "Saved to db successfully\n",
      "Done with link 2913: https://www.zoopla.co.uk/for-sale/details/64974892/?search_identifier=fe3f4aed1183e988bb4ad1b43af8c95320bb5dedfaf0017c397378cbe706ce42\n",
      "Starting extraction for link 2914: https://www.zoopla.co.uk/for-sale/details/64974562/?search_identifier=fe3f4aed1183e988bb4ad1b43af8c95320bb5dedfaf0017c397378cbe706ce42\n"
     ]
    },
    {
     "name": "stderr",
     "output_type": "stream",
     "text": [
      "could not detect version_main.therefore, we are assuming it is chrome 108 or higher\n"
     ]
    },
    {
     "name": "stdout",
     "output_type": "stream",
     "text": [
      "Saved to db successfully\n",
      "Done with link 2914: https://www.zoopla.co.uk/for-sale/details/64974562/?search_identifier=fe3f4aed1183e988bb4ad1b43af8c95320bb5dedfaf0017c397378cbe706ce42\n",
      "Starting extraction for link 2915: https://www.zoopla.co.uk/for-sale/details/64939258/?search_identifier=fe3f4aed1183e988bb4ad1b43af8c95320bb5dedfaf0017c397378cbe706ce42\n"
     ]
    },
    {
     "name": "stderr",
     "output_type": "stream",
     "text": [
      "could not detect version_main.therefore, we are assuming it is chrome 108 or higher\n"
     ]
    },
    {
     "name": "stdout",
     "output_type": "stream",
     "text": [
      "Saved to db successfully\n",
      "Done with link 2915: https://www.zoopla.co.uk/for-sale/details/64939258/?search_identifier=fe3f4aed1183e988bb4ad1b43af8c95320bb5dedfaf0017c397378cbe706ce42\n",
      "Starting extraction for link 2916: https://www.zoopla.co.uk/for-sale/details/64931510/?search_identifier=fe3f4aed1183e988bb4ad1b43af8c95320bb5dedfaf0017c397378cbe706ce42\n"
     ]
    },
    {
     "name": "stderr",
     "output_type": "stream",
     "text": [
      "could not detect version_main.therefore, we are assuming it is chrome 108 or higher\n"
     ]
    },
    {
     "name": "stdout",
     "output_type": "stream",
     "text": [
      "Saved to db successfully\n",
      "Done with link 2916: https://www.zoopla.co.uk/for-sale/details/64931510/?search_identifier=fe3f4aed1183e988bb4ad1b43af8c95320bb5dedfaf0017c397378cbe706ce42\n",
      "Starting extraction for link 2917: https://www.zoopla.co.uk/for-sale/details/64919827/?search_identifier=fe3f4aed1183e988bb4ad1b43af8c95320bb5dedfaf0017c397378cbe706ce42\n"
     ]
    },
    {
     "name": "stderr",
     "output_type": "stream",
     "text": [
      "could not detect version_main.therefore, we are assuming it is chrome 108 or higher\n"
     ]
    },
    {
     "name": "stdout",
     "output_type": "stream",
     "text": [
      "Saved to db successfully\n",
      "Done with link 2917: https://www.zoopla.co.uk/for-sale/details/64919827/?search_identifier=fe3f4aed1183e988bb4ad1b43af8c95320bb5dedfaf0017c397378cbe706ce42\n",
      "Starting extraction for link 2918: https://www.zoopla.co.uk/for-sale/details/64906208/?search_identifier=fe3f4aed1183e988bb4ad1b43af8c95320bb5dedfaf0017c397378cbe706ce42\n"
     ]
    },
    {
     "name": "stderr",
     "output_type": "stream",
     "text": [
      "could not detect version_main.therefore, we are assuming it is chrome 108 or higher\n"
     ]
    },
    {
     "name": "stdout",
     "output_type": "stream",
     "text": [
      "Saved to db successfully\n",
      "Done with link 2918: https://www.zoopla.co.uk/for-sale/details/64906208/?search_identifier=fe3f4aed1183e988bb4ad1b43af8c95320bb5dedfaf0017c397378cbe706ce42\n",
      "Starting extraction for link 2919: https://www.zoopla.co.uk/for-sale/details/64879668/?search_identifier=fe3f4aed1183e988bb4ad1b43af8c95320bb5dedfaf0017c397378cbe706ce42\n"
     ]
    },
    {
     "name": "stderr",
     "output_type": "stream",
     "text": [
      "could not detect version_main.therefore, we are assuming it is chrome 108 or higher\n"
     ]
    },
    {
     "name": "stdout",
     "output_type": "stream",
     "text": [
      "Saved to db successfully\n",
      "Done with link 2919: https://www.zoopla.co.uk/for-sale/details/64879668/?search_identifier=fe3f4aed1183e988bb4ad1b43af8c95320bb5dedfaf0017c397378cbe706ce42\n",
      "Starting extraction for link 2920: https://www.zoopla.co.uk/for-sale/details/64863333/?search_identifier=fe3f4aed1183e988bb4ad1b43af8c95320bb5dedfaf0017c397378cbe706ce42\n"
     ]
    },
    {
     "name": "stderr",
     "output_type": "stream",
     "text": [
      "could not detect version_main.therefore, we are assuming it is chrome 108 or higher\n"
     ]
    },
    {
     "name": "stdout",
     "output_type": "stream",
     "text": [
      "Saved to db successfully\n",
      "Done with link 2920: https://www.zoopla.co.uk/for-sale/details/64863333/?search_identifier=fe3f4aed1183e988bb4ad1b43af8c95320bb5dedfaf0017c397378cbe706ce42\n",
      "Starting extraction for link 2921: https://www.zoopla.co.uk/for-sale/details/64860202/?search_identifier=fe3f4aed1183e988bb4ad1b43af8c95320bb5dedfaf0017c397378cbe706ce42\n"
     ]
    },
    {
     "name": "stderr",
     "output_type": "stream",
     "text": [
      "could not detect version_main.therefore, we are assuming it is chrome 108 or higher\n"
     ]
    },
    {
     "name": "stdout",
     "output_type": "stream",
     "text": [
      "Saved to db successfully\n",
      "Done with link 2921: https://www.zoopla.co.uk/for-sale/details/64860202/?search_identifier=fe3f4aed1183e988bb4ad1b43af8c95320bb5dedfaf0017c397378cbe706ce42\n",
      "Starting extraction for link 2922: https://www.zoopla.co.uk/for-sale/details/64852391/?search_identifier=fe3f4aed1183e988bb4ad1b43af8c95320bb5dedfaf0017c397378cbe706ce42\n"
     ]
    },
    {
     "name": "stderr",
     "output_type": "stream",
     "text": [
      "could not detect version_main.therefore, we are assuming it is chrome 108 or higher\n"
     ]
    },
    {
     "name": "stdout",
     "output_type": "stream",
     "text": [
      "Saved to db successfully\n",
      "Done with link 2922: https://www.zoopla.co.uk/for-sale/details/64852391/?search_identifier=fe3f4aed1183e988bb4ad1b43af8c95320bb5dedfaf0017c397378cbe706ce42\n",
      "Starting extraction for link 2923: https://www.zoopla.co.uk/for-sale/details/64834820/?search_identifier=fe3f4aed1183e988bb4ad1b43af8c95320bb5dedfaf0017c397378cbe706ce42\n"
     ]
    },
    {
     "name": "stderr",
     "output_type": "stream",
     "text": [
      "could not detect version_main.therefore, we are assuming it is chrome 108 or higher\n"
     ]
    },
    {
     "name": "stdout",
     "output_type": "stream",
     "text": [
      "Saved to db successfully\n",
      "Done with link 2923: https://www.zoopla.co.uk/for-sale/details/64834820/?search_identifier=fe3f4aed1183e988bb4ad1b43af8c95320bb5dedfaf0017c397378cbe706ce42\n",
      "Starting extraction for link 2924: https://www.zoopla.co.uk/for-sale/details/64832886/?search_identifier=fe3f4aed1183e988bb4ad1b43af8c95320bb5dedfaf0017c397378cbe706ce42\n"
     ]
    },
    {
     "name": "stderr",
     "output_type": "stream",
     "text": [
      "could not detect version_main.therefore, we are assuming it is chrome 108 or higher\n"
     ]
    },
    {
     "name": "stdout",
     "output_type": "stream",
     "text": [
      "Saved to db successfully\n",
      "Done with link 2924: https://www.zoopla.co.uk/for-sale/details/64832886/?search_identifier=fe3f4aed1183e988bb4ad1b43af8c95320bb5dedfaf0017c397378cbe706ce42\n",
      "Starting extraction for link 2925: https://www.zoopla.co.uk/for-sale/details/64813631/?search_identifier=fe3f4aed1183e988bb4ad1b43af8c95320bb5dedfaf0017c397378cbe706ce42\n"
     ]
    },
    {
     "name": "stderr",
     "output_type": "stream",
     "text": [
      "could not detect version_main.therefore, we are assuming it is chrome 108 or higher\n"
     ]
    },
    {
     "name": "stdout",
     "output_type": "stream",
     "text": [
      "Saved to db successfully\n",
      "Done with link 2925: https://www.zoopla.co.uk/for-sale/details/64813631/?search_identifier=fe3f4aed1183e988bb4ad1b43af8c95320bb5dedfaf0017c397378cbe706ce42\n",
      "Starting extraction for link 2926: https://www.zoopla.co.uk/for-sale/details/64797888/?search_identifier=fe3f4aed1183e988bb4ad1b43af8c95320bb5dedfaf0017c397378cbe706ce42\n"
     ]
    },
    {
     "name": "stderr",
     "output_type": "stream",
     "text": [
      "could not detect version_main.therefore, we are assuming it is chrome 108 or higher\n"
     ]
    },
    {
     "name": "stdout",
     "output_type": "stream",
     "text": [
      "Saved to db successfully\n",
      "Done with link 2926: https://www.zoopla.co.uk/for-sale/details/64797888/?search_identifier=fe3f4aed1183e988bb4ad1b43af8c95320bb5dedfaf0017c397378cbe706ce42\n",
      "Starting extraction for link 2927: https://www.zoopla.co.uk/for-sale/details/64778994/?search_identifier=fe3f4aed1183e988bb4ad1b43af8c95320bb5dedfaf0017c397378cbe706ce42\n"
     ]
    },
    {
     "name": "stderr",
     "output_type": "stream",
     "text": [
      "could not detect version_main.therefore, we are assuming it is chrome 108 or higher\n"
     ]
    },
    {
     "name": "stdout",
     "output_type": "stream",
     "text": [
      "Saved to db successfully\n",
      "Done with link 2927: https://www.zoopla.co.uk/for-sale/details/64778994/?search_identifier=fe3f4aed1183e988bb4ad1b43af8c95320bb5dedfaf0017c397378cbe706ce42\n",
      "Starting extraction for link 2928: https://www.zoopla.co.uk/for-sale/details/64765016/?search_identifier=fe3f4aed1183e988bb4ad1b43af8c95320bb5dedfaf0017c397378cbe706ce42\n"
     ]
    },
    {
     "name": "stderr",
     "output_type": "stream",
     "text": [
      "could not detect version_main.therefore, we are assuming it is chrome 108 or higher\n"
     ]
    },
    {
     "name": "stdout",
     "output_type": "stream",
     "text": [
      "Saved to db successfully\n",
      "Done with link 2928: https://www.zoopla.co.uk/for-sale/details/64765016/?search_identifier=fe3f4aed1183e988bb4ad1b43af8c95320bb5dedfaf0017c397378cbe706ce42\n",
      "Starting extraction for link 2929: https://www.zoopla.co.uk/for-sale/details/64760695/?search_identifier=07c8d25075957798e61fa55d2918bed1ede6318b5def3332deb028b2af7a8e4a\n"
     ]
    },
    {
     "name": "stderr",
     "output_type": "stream",
     "text": [
      "could not detect version_main.therefore, we are assuming it is chrome 108 or higher\n"
     ]
    },
    {
     "name": "stdout",
     "output_type": "stream",
     "text": [
      "Saved to db successfully\n",
      "Done with link 2929: https://www.zoopla.co.uk/for-sale/details/64760695/?search_identifier=07c8d25075957798e61fa55d2918bed1ede6318b5def3332deb028b2af7a8e4a\n",
      "Starting extraction for link 2930: https://www.zoopla.co.uk/for-sale/details/64750004/?search_identifier=07c8d25075957798e61fa55d2918bed1ede6318b5def3332deb028b2af7a8e4a\n"
     ]
    },
    {
     "name": "stderr",
     "output_type": "stream",
     "text": [
      "could not detect version_main.therefore, we are assuming it is chrome 108 or higher\n"
     ]
    },
    {
     "name": "stdout",
     "output_type": "stream",
     "text": [
      "Saved to db successfully\n",
      "Done with link 2930: https://www.zoopla.co.uk/for-sale/details/64750004/?search_identifier=07c8d25075957798e61fa55d2918bed1ede6318b5def3332deb028b2af7a8e4a\n",
      "Starting extraction for link 2931: https://www.zoopla.co.uk/for-sale/details/64749532/?search_identifier=07c8d25075957798e61fa55d2918bed1ede6318b5def3332deb028b2af7a8e4a\n"
     ]
    },
    {
     "name": "stderr",
     "output_type": "stream",
     "text": [
      "could not detect version_main.therefore, we are assuming it is chrome 108 or higher\n"
     ]
    },
    {
     "name": "stdout",
     "output_type": "stream",
     "text": [
      "Saved to db successfully\n",
      "Done with link 2931: https://www.zoopla.co.uk/for-sale/details/64749532/?search_identifier=07c8d25075957798e61fa55d2918bed1ede6318b5def3332deb028b2af7a8e4a\n",
      "Starting extraction for link 2932: https://www.zoopla.co.uk/for-sale/details/64749443/?search_identifier=07c8d25075957798e61fa55d2918bed1ede6318b5def3332deb028b2af7a8e4a\n"
     ]
    },
    {
     "name": "stderr",
     "output_type": "stream",
     "text": [
      "could not detect version_main.therefore, we are assuming it is chrome 108 or higher\n"
     ]
    },
    {
     "name": "stdout",
     "output_type": "stream",
     "text": [
      "Saved to db successfully\n",
      "Done with link 2932: https://www.zoopla.co.uk/for-sale/details/64749443/?search_identifier=07c8d25075957798e61fa55d2918bed1ede6318b5def3332deb028b2af7a8e4a\n",
      "Starting extraction for link 2933: https://www.zoopla.co.uk/for-sale/details/64742897/?search_identifier=07c8d25075957798e61fa55d2918bed1ede6318b5def3332deb028b2af7a8e4a\n"
     ]
    },
    {
     "name": "stderr",
     "output_type": "stream",
     "text": [
      "could not detect version_main.therefore, we are assuming it is chrome 108 or higher\n"
     ]
    },
    {
     "name": "stdout",
     "output_type": "stream",
     "text": [
      "Saved to db successfully\n",
      "Done with link 2933: https://www.zoopla.co.uk/for-sale/details/64742897/?search_identifier=07c8d25075957798e61fa55d2918bed1ede6318b5def3332deb028b2af7a8e4a\n",
      "Starting extraction for link 2934: https://www.zoopla.co.uk/for-sale/details/64740005/?search_identifier=07c8d25075957798e61fa55d2918bed1ede6318b5def3332deb028b2af7a8e4a\n"
     ]
    },
    {
     "name": "stderr",
     "output_type": "stream",
     "text": [
      "could not detect version_main.therefore, we are assuming it is chrome 108 or higher\n"
     ]
    },
    {
     "name": "stdout",
     "output_type": "stream",
     "text": [
      "Saved to db successfully\n",
      "Done with link 2934: https://www.zoopla.co.uk/for-sale/details/64740005/?search_identifier=07c8d25075957798e61fa55d2918bed1ede6318b5def3332deb028b2af7a8e4a\n",
      "Starting extraction for link 2935: https://www.zoopla.co.uk/for-sale/details/64735789/?search_identifier=07c8d25075957798e61fa55d2918bed1ede6318b5def3332deb028b2af7a8e4a\n"
     ]
    },
    {
     "name": "stderr",
     "output_type": "stream",
     "text": [
      "could not detect version_main.therefore, we are assuming it is chrome 108 or higher\n"
     ]
    },
    {
     "name": "stdout",
     "output_type": "stream",
     "text": [
      "Saved to db successfully\n",
      "Done with link 2935: https://www.zoopla.co.uk/for-sale/details/64735789/?search_identifier=07c8d25075957798e61fa55d2918bed1ede6318b5def3332deb028b2af7a8e4a\n",
      "Starting extraction for link 2936: https://www.zoopla.co.uk/for-sale/details/64687365/?search_identifier=07c8d25075957798e61fa55d2918bed1ede6318b5def3332deb028b2af7a8e4a\n"
     ]
    },
    {
     "name": "stderr",
     "output_type": "stream",
     "text": [
      "could not detect version_main.therefore, we are assuming it is chrome 108 or higher\n"
     ]
    },
    {
     "name": "stdout",
     "output_type": "stream",
     "text": [
      "Saved to db successfully\n",
      "Done with link 2936: https://www.zoopla.co.uk/for-sale/details/64687365/?search_identifier=07c8d25075957798e61fa55d2918bed1ede6318b5def3332deb028b2af7a8e4a\n",
      "Starting extraction for link 2937: https://www.zoopla.co.uk/for-sale/details/64686974/?search_identifier=07c8d25075957798e61fa55d2918bed1ede6318b5def3332deb028b2af7a8e4a\n"
     ]
    },
    {
     "name": "stderr",
     "output_type": "stream",
     "text": [
      "could not detect version_main.therefore, we are assuming it is chrome 108 or higher\n"
     ]
    },
    {
     "name": "stdout",
     "output_type": "stream",
     "text": [
      "Saved to db successfully\n",
      "Done with link 2937: https://www.zoopla.co.uk/for-sale/details/64686974/?search_identifier=07c8d25075957798e61fa55d2918bed1ede6318b5def3332deb028b2af7a8e4a\n",
      "Starting extraction for link 2938: https://www.zoopla.co.uk/for-sale/details/62156133/?search_identifier=07c8d25075957798e61fa55d2918bed1ede6318b5def3332deb028b2af7a8e4a\n",
      "An error occurred for link in get_data_func: https://www.zoopla.co.uk/for-sale/details/62156133/?search_identifier=07c8d25075957798e61fa55d2918bed1ede6318b5def3332deb028b2af7a8e4a: Message: no such element: Unable to locate element: {\"method\":\"css selector\",\"selector\":\"[id=\"gdpr-consent-notice\"]\"}\n",
      "  (Session info: chrome=115.0.5790.110); For documentation on this error, please visit: https://www.selenium.dev/documentation/webdriver/troubleshooting/errors#no-such-element-exception\n",
      "Stacktrace:\n",
      "Backtrace:\n",
      "\tGetHandleVerifier [0x00E2A813+48355]\n",
      "\t(No symbol) [0x00DBC4B1]\n",
      "\t(No symbol) [0x00CC5358]\n",
      "\t(No symbol) [0x00CF09A5]\n",
      "\t(No symbol) [0x00CF0B3B]\n",
      "\t(No symbol) [0x00D1E232]\n",
      "\t(No symbol) [0x00D0A784]\n",
      "\t(No symbol) [0x00D1C922]\n",
      "\t(No symbol) [0x00D0A536]\n",
      "\t(No symbol) [0x00CE82DC]\n",
      "\t(No symbol) [0x00CE93DD]\n",
      "\tGetHandleVerifier [0x0108AABD+2539405]\n",
      "\tGetHandleVerifier [0x010CA78F+2800735]\n",
      "\tGetHandleVerifier [0x010C456C+2775612]\n",
      "\tGetHandleVerifier [0x00EB51E0+616112]\n",
      "\t(No symbol) [0x00DC5F8C]\n",
      "\t(No symbol) [0x00DC2328]\n",
      "\t(No symbol) [0x00DC240B]\n",
      "\t(No symbol) [0x00DB4FF7]\n",
      "\tBaseThreadInitThunk [0x76A57D59+25]\n",
      "\tRtlInitializeExceptionChain [0x7773B79B+107]\n",
      "\tRtlClearBits [0x7773B71F+191]\n",
      "\n"
     ]
    },
    {
     "name": "stderr",
     "output_type": "stream",
     "text": [
      "could not detect version_main.therefore, we are assuming it is chrome 108 or higher\n"
     ]
    },
    {
     "name": "stdout",
     "output_type": "stream",
     "text": [
      "Saved to db successfully\n",
      "Done with link 2938: https://www.zoopla.co.uk/for-sale/details/62156133/?search_identifier=07c8d25075957798e61fa55d2918bed1ede6318b5def3332deb028b2af7a8e4a\n",
      "Starting extraction for link 2939: https://www.zoopla.co.uk/for-sale/details/64684542/?search_identifier=07c8d25075957798e61fa55d2918bed1ede6318b5def3332deb028b2af7a8e4a\n"
     ]
    },
    {
     "name": "stderr",
     "output_type": "stream",
     "text": [
      "could not detect version_main.therefore, we are assuming it is chrome 108 or higher\n"
     ]
    },
    {
     "name": "stdout",
     "output_type": "stream",
     "text": [
      "Saved to db successfully\n",
      "Done with link 2939: https://www.zoopla.co.uk/for-sale/details/64684542/?search_identifier=07c8d25075957798e61fa55d2918bed1ede6318b5def3332deb028b2af7a8e4a\n",
      "Starting extraction for link 2940: https://www.zoopla.co.uk/for-sale/details/64667165/?search_identifier=07c8d25075957798e61fa55d2918bed1ede6318b5def3332deb028b2af7a8e4a\n"
     ]
    },
    {
     "name": "stderr",
     "output_type": "stream",
     "text": [
      "could not detect version_main.therefore, we are assuming it is chrome 108 or higher\n"
     ]
    },
    {
     "name": "stdout",
     "output_type": "stream",
     "text": [
      "Saved to db successfully\n",
      "Done with link 2940: https://www.zoopla.co.uk/for-sale/details/64667165/?search_identifier=07c8d25075957798e61fa55d2918bed1ede6318b5def3332deb028b2af7a8e4a\n",
      "Starting extraction for link 2941: https://www.zoopla.co.uk/for-sale/details/64662631/?search_identifier=07c8d25075957798e61fa55d2918bed1ede6318b5def3332deb028b2af7a8e4a\n"
     ]
    },
    {
     "name": "stderr",
     "output_type": "stream",
     "text": [
      "could not detect version_main.therefore, we are assuming it is chrome 108 or higher\n"
     ]
    },
    {
     "name": "stdout",
     "output_type": "stream",
     "text": [
      "Saved to db successfully\n",
      "Done with link 2941: https://www.zoopla.co.uk/for-sale/details/64662631/?search_identifier=07c8d25075957798e61fa55d2918bed1ede6318b5def3332deb028b2af7a8e4a\n",
      "Starting extraction for link 2942: https://www.zoopla.co.uk/for-sale/details/64652426/?search_identifier=07c8d25075957798e61fa55d2918bed1ede6318b5def3332deb028b2af7a8e4a\n"
     ]
    },
    {
     "name": "stderr",
     "output_type": "stream",
     "text": [
      "could not detect version_main.therefore, we are assuming it is chrome 108 or higher\n"
     ]
    },
    {
     "name": "stdout",
     "output_type": "stream",
     "text": [
      "Saved to db successfully\n",
      "Done with link 2942: https://www.zoopla.co.uk/for-sale/details/64652426/?search_identifier=07c8d25075957798e61fa55d2918bed1ede6318b5def3332deb028b2af7a8e4a\n",
      "Starting extraction for link 2943: https://www.zoopla.co.uk/for-sale/details/64643557/?search_identifier=07c8d25075957798e61fa55d2918bed1ede6318b5def3332deb028b2af7a8e4a\n"
     ]
    },
    {
     "name": "stderr",
     "output_type": "stream",
     "text": [
      "could not detect version_main.therefore, we are assuming it is chrome 108 or higher\n"
     ]
    },
    {
     "name": "stdout",
     "output_type": "stream",
     "text": [
      "Saved to db successfully\n",
      "Done with link 2943: https://www.zoopla.co.uk/for-sale/details/64643557/?search_identifier=07c8d25075957798e61fa55d2918bed1ede6318b5def3332deb028b2af7a8e4a\n",
      "Starting extraction for link 2944: https://www.zoopla.co.uk/for-sale/details/64628994/?search_identifier=07c8d25075957798e61fa55d2918bed1ede6318b5def3332deb028b2af7a8e4a\n"
     ]
    },
    {
     "name": "stderr",
     "output_type": "stream",
     "text": [
      "could not detect version_main.therefore, we are assuming it is chrome 108 or higher\n"
     ]
    },
    {
     "name": "stdout",
     "output_type": "stream",
     "text": [
      "Saved to db successfully\n",
      "Done with link 2944: https://www.zoopla.co.uk/for-sale/details/64628994/?search_identifier=07c8d25075957798e61fa55d2918bed1ede6318b5def3332deb028b2af7a8e4a\n",
      "Starting extraction for link 2945: https://www.zoopla.co.uk/for-sale/details/64628298/?search_identifier=07c8d25075957798e61fa55d2918bed1ede6318b5def3332deb028b2af7a8e4a\n"
     ]
    },
    {
     "name": "stderr",
     "output_type": "stream",
     "text": [
      "could not detect version_main.therefore, we are assuming it is chrome 108 or higher\n"
     ]
    },
    {
     "name": "stdout",
     "output_type": "stream",
     "text": [
      "Saved to db successfully\n",
      "Done with link 2945: https://www.zoopla.co.uk/for-sale/details/64628298/?search_identifier=07c8d25075957798e61fa55d2918bed1ede6318b5def3332deb028b2af7a8e4a\n",
      "Starting extraction for link 2946: https://www.zoopla.co.uk/for-sale/details/64627186/?search_identifier=07c8d25075957798e61fa55d2918bed1ede6318b5def3332deb028b2af7a8e4a\n"
     ]
    },
    {
     "name": "stderr",
     "output_type": "stream",
     "text": [
      "could not detect version_main.therefore, we are assuming it is chrome 108 or higher\n"
     ]
    },
    {
     "name": "stdout",
     "output_type": "stream",
     "text": [
      "Saved to db successfully\n",
      "Done with link 2946: https://www.zoopla.co.uk/for-sale/details/64627186/?search_identifier=07c8d25075957798e61fa55d2918bed1ede6318b5def3332deb028b2af7a8e4a\n",
      "Starting extraction for link 2947: https://www.zoopla.co.uk/for-sale/details/64619716/?search_identifier=07c8d25075957798e61fa55d2918bed1ede6318b5def3332deb028b2af7a8e4a\n"
     ]
    },
    {
     "name": "stderr",
     "output_type": "stream",
     "text": [
      "could not detect version_main.therefore, we are assuming it is chrome 108 or higher\n"
     ]
    },
    {
     "name": "stdout",
     "output_type": "stream",
     "text": [
      "Saved to db successfully\n",
      "Done with link 2947: https://www.zoopla.co.uk/for-sale/details/64619716/?search_identifier=07c8d25075957798e61fa55d2918bed1ede6318b5def3332deb028b2af7a8e4a\n",
      "Starting extraction for link 2948: https://www.zoopla.co.uk/new-homes/details/64613910/?search_identifier=07c8d25075957798e61fa55d2918bed1ede6318b5def3332deb028b2af7a8e4a\n"
     ]
    },
    {
     "name": "stderr",
     "output_type": "stream",
     "text": [
      "could not detect version_main.therefore, we are assuming it is chrome 108 or higher\n"
     ]
    },
    {
     "name": "stdout",
     "output_type": "stream",
     "text": [
      "Saved to db successfully\n",
      "Done with link 2948: https://www.zoopla.co.uk/new-homes/details/64613910/?search_identifier=07c8d25075957798e61fa55d2918bed1ede6318b5def3332deb028b2af7a8e4a\n",
      "Starting extraction for link 2949: https://www.zoopla.co.uk/new-homes/details/64592019/?search_identifier=07c8d25075957798e61fa55d2918bed1ede6318b5def3332deb028b2af7a8e4a\n"
     ]
    },
    {
     "name": "stderr",
     "output_type": "stream",
     "text": [
      "could not detect version_main.therefore, we are assuming it is chrome 108 or higher\n"
     ]
    },
    {
     "name": "stdout",
     "output_type": "stream",
     "text": [
      "Saved to db successfully\n",
      "Done with link 2949: https://www.zoopla.co.uk/new-homes/details/64592019/?search_identifier=07c8d25075957798e61fa55d2918bed1ede6318b5def3332deb028b2af7a8e4a\n",
      "Starting extraction for link 2950: https://www.zoopla.co.uk/for-sale/details/64585427/?search_identifier=07c8d25075957798e61fa55d2918bed1ede6318b5def3332deb028b2af7a8e4a\n"
     ]
    },
    {
     "name": "stderr",
     "output_type": "stream",
     "text": [
      "could not detect version_main.therefore, we are assuming it is chrome 108 or higher\n"
     ]
    },
    {
     "name": "stdout",
     "output_type": "stream",
     "text": [
      "Saved to db successfully\n",
      "Done with link 2950: https://www.zoopla.co.uk/for-sale/details/64585427/?search_identifier=07c8d25075957798e61fa55d2918bed1ede6318b5def3332deb028b2af7a8e4a\n",
      "Starting extraction for link 2951: https://www.zoopla.co.uk/new-homes/details/64581002/?search_identifier=07c8d25075957798e61fa55d2918bed1ede6318b5def3332deb028b2af7a8e4a\n"
     ]
    },
    {
     "name": "stderr",
     "output_type": "stream",
     "text": [
      "could not detect version_main.therefore, we are assuming it is chrome 108 or higher\n"
     ]
    },
    {
     "name": "stdout",
     "output_type": "stream",
     "text": [
      "Saved to db successfully\n",
      "Done with link 2951: https://www.zoopla.co.uk/new-homes/details/64581002/?search_identifier=07c8d25075957798e61fa55d2918bed1ede6318b5def3332deb028b2af7a8e4a\n",
      "Starting extraction for link 2952: https://www.zoopla.co.uk/for-sale/details/64575982/?search_identifier=07c8d25075957798e61fa55d2918bed1ede6318b5def3332deb028b2af7a8e4a\n"
     ]
    },
    {
     "name": "stderr",
     "output_type": "stream",
     "text": [
      "could not detect version_main.therefore, we are assuming it is chrome 108 or higher\n"
     ]
    },
    {
     "name": "stdout",
     "output_type": "stream",
     "text": [
      "Saved to db successfully\n",
      "Done with link 2952: https://www.zoopla.co.uk/for-sale/details/64575982/?search_identifier=07c8d25075957798e61fa55d2918bed1ede6318b5def3332deb028b2af7a8e4a\n",
      "Starting extraction for link 2953: https://www.zoopla.co.uk/for-sale/details/64567766/?search_identifier=07c8d25075957798e61fa55d2918bed1ede6318b5def3332deb028b2af7a8e4a\n",
      "An error occurred for link in get_data_func: https://www.zoopla.co.uk/for-sale/details/64567766/?search_identifier=07c8d25075957798e61fa55d2918bed1ede6318b5def3332deb028b2af7a8e4a: Message: no such element: Unable to locate element: {\"method\":\"xpath\",\"selector\":\"//p[@data-testid=\"price\"]\"}\n",
      "  (Session info: chrome=115.0.5790.110); For documentation on this error, please visit: https://www.selenium.dev/documentation/webdriver/troubleshooting/errors#no-such-element-exception\n",
      "Stacktrace:\n",
      "Backtrace:\n",
      "\tGetHandleVerifier [0x00E2A813+48355]\n",
      "\t(No symbol) [0x00DBC4B1]\n",
      "\t(No symbol) [0x00CC5358]\n",
      "\t(No symbol) [0x00CF09A5]\n",
      "\t(No symbol) [0x00CF0B3B]\n",
      "\t(No symbol) [0x00D1E232]\n",
      "\t(No symbol) [0x00D0A784]\n",
      "\t(No symbol) [0x00D1C922]\n",
      "\t(No symbol) [0x00D0A536]\n",
      "\t(No symbol) [0x00CE82DC]\n",
      "\t(No symbol) [0x00CE93DD]\n",
      "\tGetHandleVerifier [0x0108AABD+2539405]\n",
      "\tGetHandleVerifier [0x010CA78F+2800735]\n",
      "\tGetHandleVerifier [0x010C456C+2775612]\n",
      "\tGetHandleVerifier [0x00EB51E0+616112]\n",
      "\t(No symbol) [0x00DC5F8C]\n",
      "\t(No symbol) [0x00DC2328]\n",
      "\t(No symbol) [0x00DC240B]\n",
      "\t(No symbol) [0x00DB4FF7]\n",
      "\tBaseThreadInitThunk [0x76A57D59+25]\n",
      "\tRtlInitializeExceptionChain [0x7773B79B+107]\n",
      "\tRtlClearBits [0x7773B71F+191]\n",
      "\n"
     ]
    },
    {
     "name": "stderr",
     "output_type": "stream",
     "text": [
      "could not detect version_main.therefore, we are assuming it is chrome 108 or higher\n"
     ]
    },
    {
     "name": "stdout",
     "output_type": "stream",
     "text": [
      "Saved to db successfully\n",
      "Done with link 2953: https://www.zoopla.co.uk/for-sale/details/64567766/?search_identifier=07c8d25075957798e61fa55d2918bed1ede6318b5def3332deb028b2af7a8e4a\n",
      "Starting extraction for link 2954: https://www.zoopla.co.uk/for-sale/details/64533807/?search_identifier=b0e4eeaeeb5fd93512e445159593ce595f59b203d9cbea08107df68a27f58c24\n"
     ]
    },
    {
     "name": "stderr",
     "output_type": "stream",
     "text": [
      "could not detect version_main.therefore, we are assuming it is chrome 108 or higher\n"
     ]
    },
    {
     "name": "stdout",
     "output_type": "stream",
     "text": [
      "Saved to db successfully\n",
      "Done with link 2954: https://www.zoopla.co.uk/for-sale/details/64533807/?search_identifier=b0e4eeaeeb5fd93512e445159593ce595f59b203d9cbea08107df68a27f58c24\n",
      "Starting extraction for link 2955: https://www.zoopla.co.uk/for-sale/details/64522054/?search_identifier=b0e4eeaeeb5fd93512e445159593ce595f59b203d9cbea08107df68a27f58c24\n"
     ]
    },
    {
     "name": "stderr",
     "output_type": "stream",
     "text": [
      "could not detect version_main.therefore, we are assuming it is chrome 108 or higher\n"
     ]
    },
    {
     "name": "stdout",
     "output_type": "stream",
     "text": [
      "Saved to db successfully\n",
      "Done with link 2955: https://www.zoopla.co.uk/for-sale/details/64522054/?search_identifier=b0e4eeaeeb5fd93512e445159593ce595f59b203d9cbea08107df68a27f58c24\n",
      "Starting extraction for link 2956: https://www.zoopla.co.uk/for-sale/details/64518727/?search_identifier=b0e4eeaeeb5fd93512e445159593ce595f59b203d9cbea08107df68a27f58c24\n"
     ]
    },
    {
     "name": "stderr",
     "output_type": "stream",
     "text": [
      "could not detect version_main.therefore, we are assuming it is chrome 108 or higher\n"
     ]
    },
    {
     "name": "stdout",
     "output_type": "stream",
     "text": [
      "Saved to db successfully\n",
      "Done with link 2956: https://www.zoopla.co.uk/for-sale/details/64518727/?search_identifier=b0e4eeaeeb5fd93512e445159593ce595f59b203d9cbea08107df68a27f58c24\n",
      "Starting extraction for link 2957: https://www.zoopla.co.uk/for-sale/details/63711422/?search_identifier=b0e4eeaeeb5fd93512e445159593ce595f59b203d9cbea08107df68a27f58c24\n"
     ]
    },
    {
     "name": "stderr",
     "output_type": "stream",
     "text": [
      "could not detect version_main.therefore, we are assuming it is chrome 108 or higher\n"
     ]
    },
    {
     "name": "stdout",
     "output_type": "stream",
     "text": [
      "Saved to db successfully\n",
      "Done with link 2957: https://www.zoopla.co.uk/for-sale/details/63711422/?search_identifier=b0e4eeaeeb5fd93512e445159593ce595f59b203d9cbea08107df68a27f58c24\n",
      "Starting extraction for link 2958: https://www.zoopla.co.uk/for-sale/details/64517245/?search_identifier=b0e4eeaeeb5fd93512e445159593ce595f59b203d9cbea08107df68a27f58c24\n"
     ]
    },
    {
     "name": "stderr",
     "output_type": "stream",
     "text": [
      "could not detect version_main.therefore, we are assuming it is chrome 108 or higher\n"
     ]
    },
    {
     "name": "stdout",
     "output_type": "stream",
     "text": [
      "Saved to db successfully\n",
      "Done with link 2958: https://www.zoopla.co.uk/for-sale/details/64517245/?search_identifier=b0e4eeaeeb5fd93512e445159593ce595f59b203d9cbea08107df68a27f58c24\n",
      "Starting extraction for link 2959: https://www.zoopla.co.uk/for-sale/details/64505231/?search_identifier=b0e4eeaeeb5fd93512e445159593ce595f59b203d9cbea08107df68a27f58c24\n"
     ]
    },
    {
     "name": "stderr",
     "output_type": "stream",
     "text": [
      "could not detect version_main.therefore, we are assuming it is chrome 108 or higher\n"
     ]
    },
    {
     "name": "stdout",
     "output_type": "stream",
     "text": [
      "Saved to db successfully\n",
      "Done with link 2959: https://www.zoopla.co.uk/for-sale/details/64505231/?search_identifier=b0e4eeaeeb5fd93512e445159593ce595f59b203d9cbea08107df68a27f58c24\n",
      "Starting extraction for link 2960: https://www.zoopla.co.uk/for-sale/details/64473137/?search_identifier=b0e4eeaeeb5fd93512e445159593ce595f59b203d9cbea08107df68a27f58c24\n"
     ]
    },
    {
     "name": "stderr",
     "output_type": "stream",
     "text": [
      "could not detect version_main.therefore, we are assuming it is chrome 108 or higher\n"
     ]
    },
    {
     "name": "stdout",
     "output_type": "stream",
     "text": [
      "Saved to db successfully\n",
      "Done with link 2960: https://www.zoopla.co.uk/for-sale/details/64473137/?search_identifier=b0e4eeaeeb5fd93512e445159593ce595f59b203d9cbea08107df68a27f58c24\n",
      "Starting extraction for link 2961: https://www.zoopla.co.uk/for-sale/details/64462861/?search_identifier=b0e4eeaeeb5fd93512e445159593ce595f59b203d9cbea08107df68a27f58c24\n"
     ]
    },
    {
     "name": "stderr",
     "output_type": "stream",
     "text": [
      "could not detect version_main.therefore, we are assuming it is chrome 108 or higher\n"
     ]
    },
    {
     "name": "stdout",
     "output_type": "stream",
     "text": [
      "Saved to db successfully\n",
      "Done with link 2961: https://www.zoopla.co.uk/for-sale/details/64462861/?search_identifier=b0e4eeaeeb5fd93512e445159593ce595f59b203d9cbea08107df68a27f58c24\n",
      "Starting extraction for link 2962: https://www.zoopla.co.uk/for-sale/details/64462701/?search_identifier=b0e4eeaeeb5fd93512e445159593ce595f59b203d9cbea08107df68a27f58c24\n"
     ]
    },
    {
     "name": "stderr",
     "output_type": "stream",
     "text": [
      "could not detect version_main.therefore, we are assuming it is chrome 108 or higher\n"
     ]
    },
    {
     "name": "stdout",
     "output_type": "stream",
     "text": [
      "Saved to db successfully\n",
      "Done with link 2962: https://www.zoopla.co.uk/for-sale/details/64462701/?search_identifier=b0e4eeaeeb5fd93512e445159593ce595f59b203d9cbea08107df68a27f58c24\n",
      "Starting extraction for link 2963: https://www.zoopla.co.uk/for-sale/details/64462595/?search_identifier=b0e4eeaeeb5fd93512e445159593ce595f59b203d9cbea08107df68a27f58c24\n"
     ]
    },
    {
     "name": "stderr",
     "output_type": "stream",
     "text": [
      "could not detect version_main.therefore, we are assuming it is chrome 108 or higher\n"
     ]
    },
    {
     "name": "stdout",
     "output_type": "stream",
     "text": [
      "Saved to db successfully\n",
      "Done with link 2963: https://www.zoopla.co.uk/for-sale/details/64462595/?search_identifier=b0e4eeaeeb5fd93512e445159593ce595f59b203d9cbea08107df68a27f58c24\n",
      "Starting extraction for link 2964: https://www.zoopla.co.uk/for-sale/details/64447300/?search_identifier=b0e4eeaeeb5fd93512e445159593ce595f59b203d9cbea08107df68a27f58c24\n"
     ]
    },
    {
     "name": "stderr",
     "output_type": "stream",
     "text": [
      "could not detect version_main.therefore, we are assuming it is chrome 108 or higher\n"
     ]
    },
    {
     "name": "stdout",
     "output_type": "stream",
     "text": [
      "Saved to db successfully\n",
      "Done with link 2964: https://www.zoopla.co.uk/for-sale/details/64447300/?search_identifier=b0e4eeaeeb5fd93512e445159593ce595f59b203d9cbea08107df68a27f58c24\n",
      "Starting extraction for link 2965: https://www.zoopla.co.uk/for-sale/details/64437555/?search_identifier=b0e4eeaeeb5fd93512e445159593ce595f59b203d9cbea08107df68a27f58c24\n"
     ]
    },
    {
     "name": "stderr",
     "output_type": "stream",
     "text": [
      "could not detect version_main.therefore, we are assuming it is chrome 108 or higher\n"
     ]
    },
    {
     "name": "stdout",
     "output_type": "stream",
     "text": [
      "Saved to db successfully\n",
      "Done with link 2965: https://www.zoopla.co.uk/for-sale/details/64437555/?search_identifier=b0e4eeaeeb5fd93512e445159593ce595f59b203d9cbea08107df68a27f58c24\n",
      "Starting extraction for link 2966: https://www.zoopla.co.uk/for-sale/details/64418571/?search_identifier=b0e4eeaeeb5fd93512e445159593ce595f59b203d9cbea08107df68a27f58c24\n"
     ]
    },
    {
     "name": "stderr",
     "output_type": "stream",
     "text": [
      "could not detect version_main.therefore, we are assuming it is chrome 108 or higher\n"
     ]
    },
    {
     "name": "stdout",
     "output_type": "stream",
     "text": [
      "Saved to db successfully\n",
      "Done with link 2966: https://www.zoopla.co.uk/for-sale/details/64418571/?search_identifier=b0e4eeaeeb5fd93512e445159593ce595f59b203d9cbea08107df68a27f58c24\n",
      "Starting extraction for link 2967: https://www.zoopla.co.uk/for-sale/details/64409806/?search_identifier=b0e4eeaeeb5fd93512e445159593ce595f59b203d9cbea08107df68a27f58c24\n"
     ]
    },
    {
     "name": "stderr",
     "output_type": "stream",
     "text": [
      "could not detect version_main.therefore, we are assuming it is chrome 108 or higher\n"
     ]
    },
    {
     "name": "stdout",
     "output_type": "stream",
     "text": [
      "Saved to db successfully\n",
      "Done with link 2967: https://www.zoopla.co.uk/for-sale/details/64409806/?search_identifier=b0e4eeaeeb5fd93512e445159593ce595f59b203d9cbea08107df68a27f58c24\n",
      "Starting extraction for link 2968: https://www.zoopla.co.uk/for-sale/details/64403542/?search_identifier=b0e4eeaeeb5fd93512e445159593ce595f59b203d9cbea08107df68a27f58c24\n"
     ]
    },
    {
     "name": "stderr",
     "output_type": "stream",
     "text": [
      "could not detect version_main.therefore, we are assuming it is chrome 108 or higher\n"
     ]
    },
    {
     "name": "stdout",
     "output_type": "stream",
     "text": [
      "Saved to db successfully\n",
      "Done with link 2968: https://www.zoopla.co.uk/for-sale/details/64403542/?search_identifier=b0e4eeaeeb5fd93512e445159593ce595f59b203d9cbea08107df68a27f58c24\n",
      "Starting extraction for link 2969: https://www.zoopla.co.uk/for-sale/details/62406410/?search_identifier=b0e4eeaeeb5fd93512e445159593ce595f59b203d9cbea08107df68a27f58c24\n"
     ]
    },
    {
     "name": "stderr",
     "output_type": "stream",
     "text": [
      "could not detect version_main.therefore, we are assuming it is chrome 108 or higher\n"
     ]
    },
    {
     "name": "stdout",
     "output_type": "stream",
     "text": [
      "Saved to db successfully\n",
      "Done with link 2969: https://www.zoopla.co.uk/for-sale/details/62406410/?search_identifier=b0e4eeaeeb5fd93512e445159593ce595f59b203d9cbea08107df68a27f58c24\n",
      "Starting extraction for link 2970: https://www.zoopla.co.uk/for-sale/details/64365409/?search_identifier=b0e4eeaeeb5fd93512e445159593ce595f59b203d9cbea08107df68a27f58c24\n"
     ]
    },
    {
     "name": "stderr",
     "output_type": "stream",
     "text": [
      "could not detect version_main.therefore, we are assuming it is chrome 108 or higher\n"
     ]
    },
    {
     "name": "stdout",
     "output_type": "stream",
     "text": [
      "Saved to db successfully\n",
      "Done with link 2970: https://www.zoopla.co.uk/for-sale/details/64365409/?search_identifier=b0e4eeaeeb5fd93512e445159593ce595f59b203d9cbea08107df68a27f58c24\n",
      "Starting extraction for link 2971: https://www.zoopla.co.uk/for-sale/details/64352806/?search_identifier=b0e4eeaeeb5fd93512e445159593ce595f59b203d9cbea08107df68a27f58c24\n",
      "An error occurred for link in get_data_func: https://www.zoopla.co.uk/for-sale/details/64352806/?search_identifier=b0e4eeaeeb5fd93512e445159593ce595f59b203d9cbea08107df68a27f58c24: Message: no such element: Unable to locate element: {\"method\":\"xpath\",\"selector\":\"//p[@data-testid=\"price\"]\"}\n",
      "  (Session info: chrome=115.0.5790.110); For documentation on this error, please visit: https://www.selenium.dev/documentation/webdriver/troubleshooting/errors#no-such-element-exception\n",
      "Stacktrace:\n",
      "Backtrace:\n",
      "\tGetHandleVerifier [0x00E2A813+48355]\n",
      "\t(No symbol) [0x00DBC4B1]\n",
      "\t(No symbol) [0x00CC5358]\n",
      "\t(No symbol) [0x00CF09A5]\n",
      "\t(No symbol) [0x00CF0B3B]\n",
      "\t(No symbol) [0x00D1E232]\n",
      "\t(No symbol) [0x00D0A784]\n",
      "\t(No symbol) [0x00D1C922]\n",
      "\t(No symbol) [0x00D0A536]\n",
      "\t(No symbol) [0x00CE82DC]\n",
      "\t(No symbol) [0x00CE93DD]\n",
      "\tGetHandleVerifier [0x0108AABD+2539405]\n",
      "\tGetHandleVerifier [0x010CA78F+2800735]\n",
      "\tGetHandleVerifier [0x010C456C+2775612]\n",
      "\tGetHandleVerifier [0x00EB51E0+616112]\n",
      "\t(No symbol) [0x00DC5F8C]\n",
      "\t(No symbol) [0x00DC2328]\n",
      "\t(No symbol) [0x00DC240B]\n",
      "\t(No symbol) [0x00DB4FF7]\n",
      "\tBaseThreadInitThunk [0x76A57D59+25]\n",
      "\tRtlInitializeExceptionChain [0x7773B79B+107]\n",
      "\tRtlClearBits [0x7773B71F+191]\n",
      "\n"
     ]
    },
    {
     "name": "stderr",
     "output_type": "stream",
     "text": [
      "could not detect version_main.therefore, we are assuming it is chrome 108 or higher\n"
     ]
    },
    {
     "name": "stdout",
     "output_type": "stream",
     "text": [
      "Saved to db successfully\n",
      "Done with link 2971: https://www.zoopla.co.uk/for-sale/details/64352806/?search_identifier=b0e4eeaeeb5fd93512e445159593ce595f59b203d9cbea08107df68a27f58c24\n",
      "Starting extraction for link 2972: https://www.zoopla.co.uk/for-sale/details/64349887/?search_identifier=b0e4eeaeeb5fd93512e445159593ce595f59b203d9cbea08107df68a27f58c24\n"
     ]
    },
    {
     "name": "stderr",
     "output_type": "stream",
     "text": [
      "could not detect version_main.therefore, we are assuming it is chrome 108 or higher\n"
     ]
    },
    {
     "name": "stdout",
     "output_type": "stream",
     "text": [
      "Saved to db successfully\n",
      "Done with link 2972: https://www.zoopla.co.uk/for-sale/details/64349887/?search_identifier=b0e4eeaeeb5fd93512e445159593ce595f59b203d9cbea08107df68a27f58c24\n",
      "Starting extraction for link 2973: https://www.zoopla.co.uk/for-sale/details/64342073/?search_identifier=b0e4eeaeeb5fd93512e445159593ce595f59b203d9cbea08107df68a27f58c24\n"
     ]
    },
    {
     "name": "stderr",
     "output_type": "stream",
     "text": [
      "could not detect version_main.therefore, we are assuming it is chrome 108 or higher\n"
     ]
    },
    {
     "name": "stdout",
     "output_type": "stream",
     "text": [
      "Saved to db successfully\n",
      "Done with link 2973: https://www.zoopla.co.uk/for-sale/details/64342073/?search_identifier=b0e4eeaeeb5fd93512e445159593ce595f59b203d9cbea08107df68a27f58c24\n",
      "Starting extraction for link 2974: https://www.zoopla.co.uk/for-sale/details/64334284/?search_identifier=b0e4eeaeeb5fd93512e445159593ce595f59b203d9cbea08107df68a27f58c24\n"
     ]
    },
    {
     "name": "stderr",
     "output_type": "stream",
     "text": [
      "could not detect version_main.therefore, we are assuming it is chrome 108 or higher\n"
     ]
    },
    {
     "name": "stdout",
     "output_type": "stream",
     "text": [
      "Saved to db successfully\n",
      "Done with link 2974: https://www.zoopla.co.uk/for-sale/details/64334284/?search_identifier=b0e4eeaeeb5fd93512e445159593ce595f59b203d9cbea08107df68a27f58c24\n",
      "Starting extraction for link 2975: https://www.zoopla.co.uk/for-sale/details/64320141/?search_identifier=b0e4eeaeeb5fd93512e445159593ce595f59b203d9cbea08107df68a27f58c24\n"
     ]
    },
    {
     "name": "stderr",
     "output_type": "stream",
     "text": [
      "could not detect version_main.therefore, we are assuming it is chrome 108 or higher\n"
     ]
    },
    {
     "name": "stdout",
     "output_type": "stream",
     "text": [
      "Saved to db successfully\n",
      "Done with link 2975: https://www.zoopla.co.uk/for-sale/details/64320141/?search_identifier=b0e4eeaeeb5fd93512e445159593ce595f59b203d9cbea08107df68a27f58c24\n",
      "Starting extraction for link 2976: https://www.zoopla.co.uk/for-sale/details/64317022/?search_identifier=b0e4eeaeeb5fd93512e445159593ce595f59b203d9cbea08107df68a27f58c24\n"
     ]
    },
    {
     "name": "stderr",
     "output_type": "stream",
     "text": [
      "could not detect version_main.therefore, we are assuming it is chrome 108 or higher\n"
     ]
    },
    {
     "name": "stdout",
     "output_type": "stream",
     "text": [
      "Saved to db successfully\n",
      "Done with link 2976: https://www.zoopla.co.uk/for-sale/details/64317022/?search_identifier=b0e4eeaeeb5fd93512e445159593ce595f59b203d9cbea08107df68a27f58c24\n",
      "Starting extraction for link 2977: https://www.zoopla.co.uk/for-sale/details/64305630/?search_identifier=b0e4eeaeeb5fd93512e445159593ce595f59b203d9cbea08107df68a27f58c24\n"
     ]
    },
    {
     "name": "stderr",
     "output_type": "stream",
     "text": [
      "could not detect version_main.therefore, we are assuming it is chrome 108 or higher\n"
     ]
    },
    {
     "name": "stdout",
     "output_type": "stream",
     "text": [
      "Saved to db successfully\n",
      "Done with link 2977: https://www.zoopla.co.uk/for-sale/details/64305630/?search_identifier=b0e4eeaeeb5fd93512e445159593ce595f59b203d9cbea08107df68a27f58c24\n",
      "Starting extraction for link 2978: https://www.zoopla.co.uk/for-sale/details/64287309/?search_identifier=b0e4eeaeeb5fd93512e445159593ce595f59b203d9cbea08107df68a27f58c24\n"
     ]
    },
    {
     "name": "stderr",
     "output_type": "stream",
     "text": [
      "could not detect version_main.therefore, we are assuming it is chrome 108 or higher\n"
     ]
    },
    {
     "name": "stdout",
     "output_type": "stream",
     "text": [
      "Saved to db successfully\n",
      "Done with link 2978: https://www.zoopla.co.uk/for-sale/details/64287309/?search_identifier=b0e4eeaeeb5fd93512e445159593ce595f59b203d9cbea08107df68a27f58c24\n",
      "Starting extraction for link 2979: https://www.zoopla.co.uk/for-sale/details/64287212/?search_identifier=ee37cb6af85e341812219995c95bdde0ca2559a7b957a471000c027bf089f1ad\n"
     ]
    },
    {
     "name": "stderr",
     "output_type": "stream",
     "text": [
      "could not detect version_main.therefore, we are assuming it is chrome 108 or higher\n"
     ]
    },
    {
     "name": "stdout",
     "output_type": "stream",
     "text": [
      "Saved to db successfully\n",
      "Done with link 2979: https://www.zoopla.co.uk/for-sale/details/64287212/?search_identifier=ee37cb6af85e341812219995c95bdde0ca2559a7b957a471000c027bf089f1ad\n",
      "Starting extraction for link 2980: https://www.zoopla.co.uk/for-sale/details/64280421/?search_identifier=ee37cb6af85e341812219995c95bdde0ca2559a7b957a471000c027bf089f1ad\n"
     ]
    },
    {
     "name": "stderr",
     "output_type": "stream",
     "text": [
      "could not detect version_main.therefore, we are assuming it is chrome 108 or higher\n"
     ]
    },
    {
     "name": "stdout",
     "output_type": "stream",
     "text": [
      "Saved to db successfully\n",
      "Done with link 2980: https://www.zoopla.co.uk/for-sale/details/64280421/?search_identifier=ee37cb6af85e341812219995c95bdde0ca2559a7b957a471000c027bf089f1ad\n",
      "Starting extraction for link 2981: https://www.zoopla.co.uk/for-sale/details/64253922/?search_identifier=ee37cb6af85e341812219995c95bdde0ca2559a7b957a471000c027bf089f1ad\n"
     ]
    },
    {
     "name": "stderr",
     "output_type": "stream",
     "text": [
      "could not detect version_main.therefore, we are assuming it is chrome 108 or higher\n"
     ]
    },
    {
     "name": "stdout",
     "output_type": "stream",
     "text": [
      "Saved to db successfully\n",
      "Done with link 2981: https://www.zoopla.co.uk/for-sale/details/64253922/?search_identifier=ee37cb6af85e341812219995c95bdde0ca2559a7b957a471000c027bf089f1ad\n",
      "Starting extraction for link 2982: https://www.zoopla.co.uk/for-sale/details/64227116/?search_identifier=ee37cb6af85e341812219995c95bdde0ca2559a7b957a471000c027bf089f1ad\n"
     ]
    },
    {
     "name": "stderr",
     "output_type": "stream",
     "text": [
      "could not detect version_main.therefore, we are assuming it is chrome 108 or higher\n"
     ]
    },
    {
     "name": "stdout",
     "output_type": "stream",
     "text": [
      "Saved to db successfully\n",
      "Done with link 2982: https://www.zoopla.co.uk/for-sale/details/64227116/?search_identifier=ee37cb6af85e341812219995c95bdde0ca2559a7b957a471000c027bf089f1ad\n",
      "Starting extraction for link 2983: https://www.zoopla.co.uk/for-sale/details/64139681/?search_identifier=ee37cb6af85e341812219995c95bdde0ca2559a7b957a471000c027bf089f1ad\n"
     ]
    },
    {
     "name": "stderr",
     "output_type": "stream",
     "text": [
      "could not detect version_main.therefore, we are assuming it is chrome 108 or higher\n"
     ]
    },
    {
     "name": "stdout",
     "output_type": "stream",
     "text": [
      "Saved to db successfully\n",
      "Done with link 2983: https://www.zoopla.co.uk/for-sale/details/64139681/?search_identifier=ee37cb6af85e341812219995c95bdde0ca2559a7b957a471000c027bf089f1ad\n",
      "Starting extraction for link 2984: https://www.zoopla.co.uk/for-sale/details/58851961/?search_identifier=ee37cb6af85e341812219995c95bdde0ca2559a7b957a471000c027bf089f1ad\n"
     ]
    },
    {
     "name": "stderr",
     "output_type": "stream",
     "text": [
      "could not detect version_main.therefore, we are assuming it is chrome 108 or higher\n"
     ]
    },
    {
     "name": "stdout",
     "output_type": "stream",
     "text": [
      "Saved to db successfully\n",
      "Done with link 2984: https://www.zoopla.co.uk/for-sale/details/58851961/?search_identifier=ee37cb6af85e341812219995c95bdde0ca2559a7b957a471000c027bf089f1ad\n",
      "Starting extraction for link 2985: https://www.zoopla.co.uk/for-sale/details/64052610/?search_identifier=ee37cb6af85e341812219995c95bdde0ca2559a7b957a471000c027bf089f1ad\n"
     ]
    },
    {
     "name": "stderr",
     "output_type": "stream",
     "text": [
      "could not detect version_main.therefore, we are assuming it is chrome 108 or higher\n"
     ]
    },
    {
     "name": "stdout",
     "output_type": "stream",
     "text": [
      "Saved to db successfully\n",
      "Done with link 2985: https://www.zoopla.co.uk/for-sale/details/64052610/?search_identifier=ee37cb6af85e341812219995c95bdde0ca2559a7b957a471000c027bf089f1ad\n",
      "Starting extraction for link 2986: https://www.zoopla.co.uk/for-sale/details/64013863/?search_identifier=ee37cb6af85e341812219995c95bdde0ca2559a7b957a471000c027bf089f1ad\n"
     ]
    },
    {
     "name": "stderr",
     "output_type": "stream",
     "text": [
      "could not detect version_main.therefore, we are assuming it is chrome 108 or higher\n"
     ]
    },
    {
     "name": "stdout",
     "output_type": "stream",
     "text": [
      "Saved to db successfully\n",
      "Done with link 2986: https://www.zoopla.co.uk/for-sale/details/64013863/?search_identifier=ee37cb6af85e341812219995c95bdde0ca2559a7b957a471000c027bf089f1ad\n",
      "Starting extraction for link 2987: https://www.zoopla.co.uk/for-sale/details/63996228/?search_identifier=ee37cb6af85e341812219995c95bdde0ca2559a7b957a471000c027bf089f1ad\n"
     ]
    },
    {
     "name": "stderr",
     "output_type": "stream",
     "text": [
      "could not detect version_main.therefore, we are assuming it is chrome 108 or higher\n"
     ]
    },
    {
     "name": "stdout",
     "output_type": "stream",
     "text": [
      "Saved to db successfully\n",
      "Done with link 2987: https://www.zoopla.co.uk/for-sale/details/63996228/?search_identifier=ee37cb6af85e341812219995c95bdde0ca2559a7b957a471000c027bf089f1ad\n",
      "Starting extraction for link 2988: https://www.zoopla.co.uk/for-sale/details/63992020/?search_identifier=ee37cb6af85e341812219995c95bdde0ca2559a7b957a471000c027bf089f1ad\n"
     ]
    },
    {
     "name": "stderr",
     "output_type": "stream",
     "text": [
      "could not detect version_main.therefore, we are assuming it is chrome 108 or higher\n"
     ]
    },
    {
     "name": "stdout",
     "output_type": "stream",
     "text": [
      "Saved to db successfully\n",
      "Done with link 2988: https://www.zoopla.co.uk/for-sale/details/63992020/?search_identifier=ee37cb6af85e341812219995c95bdde0ca2559a7b957a471000c027bf089f1ad\n",
      "Starting extraction for link 2989: https://www.zoopla.co.uk/for-sale/details/63943082/?search_identifier=ee37cb6af85e341812219995c95bdde0ca2559a7b957a471000c027bf089f1ad\n"
     ]
    },
    {
     "name": "stderr",
     "output_type": "stream",
     "text": [
      "could not detect version_main.therefore, we are assuming it is chrome 108 or higher\n"
     ]
    },
    {
     "name": "stdout",
     "output_type": "stream",
     "text": [
      "Saved to db successfully\n",
      "Done with link 2989: https://www.zoopla.co.uk/for-sale/details/63943082/?search_identifier=ee37cb6af85e341812219995c95bdde0ca2559a7b957a471000c027bf089f1ad\n",
      "Starting extraction for link 2990: https://www.zoopla.co.uk/for-sale/details/63936065/?search_identifier=ee37cb6af85e341812219995c95bdde0ca2559a7b957a471000c027bf089f1ad\n"
     ]
    },
    {
     "name": "stderr",
     "output_type": "stream",
     "text": [
      "could not detect version_main.therefore, we are assuming it is chrome 108 or higher\n"
     ]
    },
    {
     "name": "stdout",
     "output_type": "stream",
     "text": [
      "Saved to db successfully\n",
      "Done with link 2990: https://www.zoopla.co.uk/for-sale/details/63936065/?search_identifier=ee37cb6af85e341812219995c95bdde0ca2559a7b957a471000c027bf089f1ad\n",
      "Starting extraction for link 2991: https://www.zoopla.co.uk/for-sale/details/63931355/?search_identifier=ee37cb6af85e341812219995c95bdde0ca2559a7b957a471000c027bf089f1ad\n"
     ]
    },
    {
     "name": "stderr",
     "output_type": "stream",
     "text": [
      "could not detect version_main.therefore, we are assuming it is chrome 108 or higher\n"
     ]
    },
    {
     "name": "stdout",
     "output_type": "stream",
     "text": [
      "Saved to db successfully\n",
      "Done with link 2991: https://www.zoopla.co.uk/for-sale/details/63931355/?search_identifier=ee37cb6af85e341812219995c95bdde0ca2559a7b957a471000c027bf089f1ad\n",
      "Starting extraction for link 2992: https://www.zoopla.co.uk/for-sale/details/63906639/?search_identifier=ee37cb6af85e341812219995c95bdde0ca2559a7b957a471000c027bf089f1ad\n"
     ]
    },
    {
     "name": "stderr",
     "output_type": "stream",
     "text": [
      "could not detect version_main.therefore, we are assuming it is chrome 108 or higher\n"
     ]
    },
    {
     "name": "stdout",
     "output_type": "stream",
     "text": [
      "Saved to db successfully\n",
      "Done with link 2992: https://www.zoopla.co.uk/for-sale/details/63906639/?search_identifier=ee37cb6af85e341812219995c95bdde0ca2559a7b957a471000c027bf089f1ad\n",
      "Starting extraction for link 2993: https://www.zoopla.co.uk/for-sale/details/63843890/?search_identifier=ee37cb6af85e341812219995c95bdde0ca2559a7b957a471000c027bf089f1ad\n"
     ]
    },
    {
     "name": "stderr",
     "output_type": "stream",
     "text": [
      "could not detect version_main.therefore, we are assuming it is chrome 108 or higher\n"
     ]
    },
    {
     "name": "stdout",
     "output_type": "stream",
     "text": [
      "Saved to db successfully\n",
      "Done with link 2993: https://www.zoopla.co.uk/for-sale/details/63843890/?search_identifier=ee37cb6af85e341812219995c95bdde0ca2559a7b957a471000c027bf089f1ad\n",
      "Starting extraction for link 2994: https://www.zoopla.co.uk/for-sale/details/63810612/?search_identifier=ee37cb6af85e341812219995c95bdde0ca2559a7b957a471000c027bf089f1ad\n"
     ]
    },
    {
     "name": "stderr",
     "output_type": "stream",
     "text": [
      "could not detect version_main.therefore, we are assuming it is chrome 108 or higher\n"
     ]
    },
    {
     "name": "stdout",
     "output_type": "stream",
     "text": [
      "Saved to db successfully\n",
      "Done with link 2994: https://www.zoopla.co.uk/for-sale/details/63810612/?search_identifier=ee37cb6af85e341812219995c95bdde0ca2559a7b957a471000c027bf089f1ad\n",
      "Starting extraction for link 2995: https://www.zoopla.co.uk/for-sale/details/63785361/?search_identifier=ee37cb6af85e341812219995c95bdde0ca2559a7b957a471000c027bf089f1ad\n"
     ]
    },
    {
     "name": "stderr",
     "output_type": "stream",
     "text": [
      "could not detect version_main.therefore, we are assuming it is chrome 108 or higher\n"
     ]
    },
    {
     "name": "stdout",
     "output_type": "stream",
     "text": [
      "Saved to db successfully\n",
      "Done with link 2995: https://www.zoopla.co.uk/for-sale/details/63785361/?search_identifier=ee37cb6af85e341812219995c95bdde0ca2559a7b957a471000c027bf089f1ad\n",
      "Starting extraction for link 2996: https://www.zoopla.co.uk/for-sale/details/63707844/?search_identifier=ee37cb6af85e341812219995c95bdde0ca2559a7b957a471000c027bf089f1ad\n"
     ]
    },
    {
     "name": "stderr",
     "output_type": "stream",
     "text": [
      "could not detect version_main.therefore, we are assuming it is chrome 108 or higher\n"
     ]
    },
    {
     "name": "stdout",
     "output_type": "stream",
     "text": [
      "Saved to db successfully\n",
      "Done with link 2996: https://www.zoopla.co.uk/for-sale/details/63707844/?search_identifier=ee37cb6af85e341812219995c95bdde0ca2559a7b957a471000c027bf089f1ad\n",
      "Starting extraction for link 2997: https://www.zoopla.co.uk/for-sale/details/63554008/?search_identifier=ee37cb6af85e341812219995c95bdde0ca2559a7b957a471000c027bf089f1ad\n"
     ]
    },
    {
     "name": "stderr",
     "output_type": "stream",
     "text": [
      "could not detect version_main.therefore, we are assuming it is chrome 108 or higher\n"
     ]
    },
    {
     "name": "stdout",
     "output_type": "stream",
     "text": [
      "Saved to db successfully\n",
      "Done with link 2997: https://www.zoopla.co.uk/for-sale/details/63554008/?search_identifier=ee37cb6af85e341812219995c95bdde0ca2559a7b957a471000c027bf089f1ad\n",
      "Starting extraction for link 2998: https://www.zoopla.co.uk/new-homes/details/63519545/?search_identifier=ee37cb6af85e341812219995c95bdde0ca2559a7b957a471000c027bf089f1ad\n"
     ]
    },
    {
     "name": "stderr",
     "output_type": "stream",
     "text": [
      "could not detect version_main.therefore, we are assuming it is chrome 108 or higher\n"
     ]
    },
    {
     "name": "stdout",
     "output_type": "stream",
     "text": [
      "Saved to db successfully\n",
      "Done with link 2998: https://www.zoopla.co.uk/new-homes/details/63519545/?search_identifier=ee37cb6af85e341812219995c95bdde0ca2559a7b957a471000c027bf089f1ad\n",
      "Starting extraction for link 2999: https://www.zoopla.co.uk/for-sale/details/63518075/?search_identifier=ee37cb6af85e341812219995c95bdde0ca2559a7b957a471000c027bf089f1ad\n"
     ]
    },
    {
     "name": "stderr",
     "output_type": "stream",
     "text": [
      "could not detect version_main.therefore, we are assuming it is chrome 108 or higher\n"
     ]
    },
    {
     "name": "stdout",
     "output_type": "stream",
     "text": [
      "Saved to db successfully\n",
      "Done with link 2999: https://www.zoopla.co.uk/for-sale/details/63518075/?search_identifier=ee37cb6af85e341812219995c95bdde0ca2559a7b957a471000c027bf089f1ad\n",
      "Starting extraction for link 3000: https://www.zoopla.co.uk/for-sale/details/63446196/?search_identifier=ee37cb6af85e341812219995c95bdde0ca2559a7b957a471000c027bf089f1ad\n"
     ]
    },
    {
     "name": "stderr",
     "output_type": "stream",
     "text": [
      "could not detect version_main.therefore, we are assuming it is chrome 108 or higher\n"
     ]
    },
    {
     "name": "stdout",
     "output_type": "stream",
     "text": [
      "Saved to db successfully\n",
      "Done with link 3000: https://www.zoopla.co.uk/for-sale/details/63446196/?search_identifier=ee37cb6af85e341812219995c95bdde0ca2559a7b957a471000c027bf089f1ad\n",
      "Starting extraction for link 3001: https://www.zoopla.co.uk/for-sale/details/63445823/?search_identifier=ee37cb6af85e341812219995c95bdde0ca2559a7b957a471000c027bf089f1ad\n"
     ]
    },
    {
     "name": "stderr",
     "output_type": "stream",
     "text": [
      "could not detect version_main.therefore, we are assuming it is chrome 108 or higher\n"
     ]
    },
    {
     "name": "stdout",
     "output_type": "stream",
     "text": [
      "Saved to db successfully\n",
      "Done with link 3001: https://www.zoopla.co.uk/for-sale/details/63445823/?search_identifier=ee37cb6af85e341812219995c95bdde0ca2559a7b957a471000c027bf089f1ad\n",
      "Starting extraction for link 3002: https://www.zoopla.co.uk/for-sale/details/63328092/?search_identifier=ee37cb6af85e341812219995c95bdde0ca2559a7b957a471000c027bf089f1ad\n"
     ]
    },
    {
     "name": "stderr",
     "output_type": "stream",
     "text": [
      "could not detect version_main.therefore, we are assuming it is chrome 108 or higher\n"
     ]
    },
    {
     "name": "stdout",
     "output_type": "stream",
     "text": [
      "Saved to db successfully\n",
      "Done with link 3002: https://www.zoopla.co.uk/for-sale/details/63328092/?search_identifier=ee37cb6af85e341812219995c95bdde0ca2559a7b957a471000c027bf089f1ad\n",
      "Starting extraction for link 3003: https://www.zoopla.co.uk/for-sale/details/62738062/?search_identifier=ee37cb6af85e341812219995c95bdde0ca2559a7b957a471000c027bf089f1ad\n"
     ]
    },
    {
     "name": "stderr",
     "output_type": "stream",
     "text": [
      "could not detect version_main.therefore, we are assuming it is chrome 108 or higher\n"
     ]
    },
    {
     "name": "stdout",
     "output_type": "stream",
     "text": [
      "Saved to db successfully\n",
      "Done with link 3003: https://www.zoopla.co.uk/for-sale/details/62738062/?search_identifier=ee37cb6af85e341812219995c95bdde0ca2559a7b957a471000c027bf089f1ad\n",
      "Starting extraction for link 3004: https://www.zoopla.co.uk/for-sale/details/62423982/?search_identifier=03145414943cb1025fed029babc9849dd003a6becad7fcf9c654994a7247a0cf\n"
     ]
    },
    {
     "name": "stderr",
     "output_type": "stream",
     "text": [
      "could not detect version_main.therefore, we are assuming it is chrome 108 or higher\n"
     ]
    },
    {
     "name": "stdout",
     "output_type": "stream",
     "text": [
      "Saved to db successfully\n",
      "Done with link 3004: https://www.zoopla.co.uk/for-sale/details/62423982/?search_identifier=03145414943cb1025fed029babc9849dd003a6becad7fcf9c654994a7247a0cf\n",
      "Starting extraction for link 3005: https://www.zoopla.co.uk/for-sale/details/62107795/?search_identifier=03145414943cb1025fed029babc9849dd003a6becad7fcf9c654994a7247a0cf\n"
     ]
    },
    {
     "name": "stderr",
     "output_type": "stream",
     "text": [
      "could not detect version_main.therefore, we are assuming it is chrome 108 or higher\n"
     ]
    },
    {
     "name": "stdout",
     "output_type": "stream",
     "text": [
      "Saved to db successfully\n",
      "Done with link 3005: https://www.zoopla.co.uk/for-sale/details/62107795/?search_identifier=03145414943cb1025fed029babc9849dd003a6becad7fcf9c654994a7247a0cf\n",
      "Starting extraction for link 3006: https://www.zoopla.co.uk/for-sale/details/62011416/?search_identifier=03145414943cb1025fed029babc9849dd003a6becad7fcf9c654994a7247a0cf\n"
     ]
    },
    {
     "name": "stderr",
     "output_type": "stream",
     "text": [
      "could not detect version_main.therefore, we are assuming it is chrome 108 or higher\n"
     ]
    },
    {
     "name": "stdout",
     "output_type": "stream",
     "text": [
      "Saved to db successfully\n",
      "Done with link 3006: https://www.zoopla.co.uk/for-sale/details/62011416/?search_identifier=03145414943cb1025fed029babc9849dd003a6becad7fcf9c654994a7247a0cf\n",
      "Starting extraction for link 3007: https://www.zoopla.co.uk/for-sale/details/61790375/?search_identifier=03145414943cb1025fed029babc9849dd003a6becad7fcf9c654994a7247a0cf\n"
     ]
    },
    {
     "name": "stderr",
     "output_type": "stream",
     "text": [
      "could not detect version_main.therefore, we are assuming it is chrome 108 or higher\n"
     ]
    },
    {
     "name": "stdout",
     "output_type": "stream",
     "text": [
      "Saved to db successfully\n",
      "Done with link 3007: https://www.zoopla.co.uk/for-sale/details/61790375/?search_identifier=03145414943cb1025fed029babc9849dd003a6becad7fcf9c654994a7247a0cf\n",
      "Starting extraction for link 3008: https://www.zoopla.co.uk/for-sale/details/61591617/?search_identifier=03145414943cb1025fed029babc9849dd003a6becad7fcf9c654994a7247a0cf\n"
     ]
    },
    {
     "name": "stderr",
     "output_type": "stream",
     "text": [
      "could not detect version_main.therefore, we are assuming it is chrome 108 or higher\n"
     ]
    },
    {
     "name": "stdout",
     "output_type": "stream",
     "text": [
      "Saved to db successfully\n",
      "Done with link 3008: https://www.zoopla.co.uk/for-sale/details/61591617/?search_identifier=03145414943cb1025fed029babc9849dd003a6becad7fcf9c654994a7247a0cf\n",
      "Starting extraction for link 3009: https://www.zoopla.co.uk/for-sale/details/61543305/?search_identifier=03145414943cb1025fed029babc9849dd003a6becad7fcf9c654994a7247a0cf\n"
     ]
    },
    {
     "name": "stderr",
     "output_type": "stream",
     "text": [
      "could not detect version_main.therefore, we are assuming it is chrome 108 or higher\n"
     ]
    },
    {
     "name": "stdout",
     "output_type": "stream",
     "text": [
      "Saved to db successfully\n",
      "Done with link 3009: https://www.zoopla.co.uk/for-sale/details/61543305/?search_identifier=03145414943cb1025fed029babc9849dd003a6becad7fcf9c654994a7247a0cf\n",
      "Starting extraction for link 3010: https://www.zoopla.co.uk/for-sale/details/61332496/?search_identifier=03145414943cb1025fed029babc9849dd003a6becad7fcf9c654994a7247a0cf\n"
     ]
    },
    {
     "name": "stderr",
     "output_type": "stream",
     "text": [
      "could not detect version_main.therefore, we are assuming it is chrome 108 or higher\n"
     ]
    },
    {
     "name": "stdout",
     "output_type": "stream",
     "text": [
      "Saved to db successfully\n",
      "Done with link 3010: https://www.zoopla.co.uk/for-sale/details/61332496/?search_identifier=03145414943cb1025fed029babc9849dd003a6becad7fcf9c654994a7247a0cf\n",
      "Starting extraction for link 3011: https://www.zoopla.co.uk/for-sale/details/60063481/?search_identifier=03145414943cb1025fed029babc9849dd003a6becad7fcf9c654994a7247a0cf\n"
     ]
    },
    {
     "name": "stderr",
     "output_type": "stream",
     "text": [
      "could not detect version_main.therefore, we are assuming it is chrome 108 or higher\n"
     ]
    },
    {
     "name": "stdout",
     "output_type": "stream",
     "text": [
      "Saved to db successfully\n",
      "Done with link 3011: https://www.zoopla.co.uk/for-sale/details/60063481/?search_identifier=03145414943cb1025fed029babc9849dd003a6becad7fcf9c654994a7247a0cf\n",
      "Starting extraction for link 3012: https://www.zoopla.co.uk/for-sale/details/59224482/?search_identifier=03145414943cb1025fed029babc9849dd003a6becad7fcf9c654994a7247a0cf\n"
     ]
    },
    {
     "name": "stderr",
     "output_type": "stream",
     "text": [
      "could not detect version_main.therefore, we are assuming it is chrome 108 or higher\n"
     ]
    },
    {
     "name": "stdout",
     "output_type": "stream",
     "text": [
      "Saved to db successfully\n",
      "Done with link 3012: https://www.zoopla.co.uk/for-sale/details/59224482/?search_identifier=03145414943cb1025fed029babc9849dd003a6becad7fcf9c654994a7247a0cf\n",
      "Starting extraction for link 3013: https://www.zoopla.co.uk/for-sale/details/58983907/?search_identifier=03145414943cb1025fed029babc9849dd003a6becad7fcf9c654994a7247a0cf\n"
     ]
    },
    {
     "name": "stderr",
     "output_type": "stream",
     "text": [
      "could not detect version_main.therefore, we are assuming it is chrome 108 or higher\n"
     ]
    },
    {
     "name": "stdout",
     "output_type": "stream",
     "text": [
      "Saved to db successfully\n",
      "Done with link 3013: https://www.zoopla.co.uk/for-sale/details/58983907/?search_identifier=03145414943cb1025fed029babc9849dd003a6becad7fcf9c654994a7247a0cf\n",
      "Starting extraction for link 3014: https://www.zoopla.co.uk/for-sale/details/58147309/?search_identifier=03145414943cb1025fed029babc9849dd003a6becad7fcf9c654994a7247a0cf\n"
     ]
    },
    {
     "name": "stderr",
     "output_type": "stream",
     "text": [
      "could not detect version_main.therefore, we are assuming it is chrome 108 or higher\n"
     ]
    },
    {
     "name": "stdout",
     "output_type": "stream",
     "text": [
      "Saved to db successfully\n",
      "Done with link 3014: https://www.zoopla.co.uk/for-sale/details/58147309/?search_identifier=03145414943cb1025fed029babc9849dd003a6becad7fcf9c654994a7247a0cf\n",
      "Starting extraction for link 3015: https://www.zoopla.co.uk/for-sale/details/63876604/?search_identifier=88be88ee980791be9202fa16afe4e5d6c81c736d6aaace016242bb3cd5844f83\n"
     ]
    },
    {
     "name": "stderr",
     "output_type": "stream",
     "text": [
      "could not detect version_main.therefore, we are assuming it is chrome 108 or higher\n"
     ]
    },
    {
     "name": "stdout",
     "output_type": "stream",
     "text": [
      "Saved to db successfully\n",
      "Done with link 3015: https://www.zoopla.co.uk/for-sale/details/63876604/?search_identifier=88be88ee980791be9202fa16afe4e5d6c81c736d6aaace016242bb3cd5844f83\n",
      "Starting extraction for link 3016: https://www.zoopla.co.uk/for-sale/details/65212143/?search_identifier=88be88ee980791be9202fa16afe4e5d6c81c736d6aaace016242bb3cd5844f83\n"
     ]
    },
    {
     "name": "stderr",
     "output_type": "stream",
     "text": [
      "could not detect version_main.therefore, we are assuming it is chrome 108 or higher\n"
     ]
    },
    {
     "name": "stdout",
     "output_type": "stream",
     "text": [
      "Saved to db successfully\n",
      "Done with link 3016: https://www.zoopla.co.uk/for-sale/details/65212143/?search_identifier=88be88ee980791be9202fa16afe4e5d6c81c736d6aaace016242bb3cd5844f83\n",
      "Starting extraction for link 3017: https://www.zoopla.co.uk/for-sale/details/65208358/?search_identifier=88be88ee980791be9202fa16afe4e5d6c81c736d6aaace016242bb3cd5844f83\n"
     ]
    },
    {
     "name": "stderr",
     "output_type": "stream",
     "text": [
      "could not detect version_main.therefore, we are assuming it is chrome 108 or higher\n"
     ]
    },
    {
     "name": "stdout",
     "output_type": "stream",
     "text": [
      "Saved to db successfully\n",
      "Done with link 3017: https://www.zoopla.co.uk/for-sale/details/65208358/?search_identifier=88be88ee980791be9202fa16afe4e5d6c81c736d6aaace016242bb3cd5844f83\n",
      "Starting extraction for link 3018: https://www.zoopla.co.uk/new-homes/details/65207564/?search_identifier=88be88ee980791be9202fa16afe4e5d6c81c736d6aaace016242bb3cd5844f83\n"
     ]
    },
    {
     "name": "stderr",
     "output_type": "stream",
     "text": [
      "could not detect version_main.therefore, we are assuming it is chrome 108 or higher\n"
     ]
    },
    {
     "name": "stdout",
     "output_type": "stream",
     "text": [
      "Saved to db successfully\n",
      "Done with link 3018: https://www.zoopla.co.uk/new-homes/details/65207564/?search_identifier=88be88ee980791be9202fa16afe4e5d6c81c736d6aaace016242bb3cd5844f83\n",
      "Starting extraction for link 3019: https://www.zoopla.co.uk/new-homes/details/65207562/?search_identifier=88be88ee980791be9202fa16afe4e5d6c81c736d6aaace016242bb3cd5844f83\n"
     ]
    },
    {
     "name": "stderr",
     "output_type": "stream",
     "text": [
      "could not detect version_main.therefore, we are assuming it is chrome 108 or higher\n"
     ]
    },
    {
     "name": "stdout",
     "output_type": "stream",
     "text": [
      "Saved to db successfully\n",
      "Done with link 3019: https://www.zoopla.co.uk/new-homes/details/65207562/?search_identifier=88be88ee980791be9202fa16afe4e5d6c81c736d6aaace016242bb3cd5844f83\n",
      "Starting extraction for link 3020: https://www.zoopla.co.uk/new-homes/details/65207557/?search_identifier=88be88ee980791be9202fa16afe4e5d6c81c736d6aaace016242bb3cd5844f83\n"
     ]
    },
    {
     "name": "stderr",
     "output_type": "stream",
     "text": [
      "could not detect version_main.therefore, we are assuming it is chrome 108 or higher\n"
     ]
    },
    {
     "name": "stdout",
     "output_type": "stream",
     "text": [
      "Saved to db successfully\n",
      "Done with link 3020: https://www.zoopla.co.uk/new-homes/details/65207557/?search_identifier=88be88ee980791be9202fa16afe4e5d6c81c736d6aaace016242bb3cd5844f83\n",
      "Starting extraction for link 3021: https://www.zoopla.co.uk/for-sale/details/65206415/?search_identifier=88be88ee980791be9202fa16afe4e5d6c81c736d6aaace016242bb3cd5844f83\n"
     ]
    },
    {
     "name": "stderr",
     "output_type": "stream",
     "text": [
      "could not detect version_main.therefore, we are assuming it is chrome 108 or higher\n"
     ]
    },
    {
     "name": "stdout",
     "output_type": "stream",
     "text": [
      "Saved to db successfully\n",
      "Done with link 3021: https://www.zoopla.co.uk/for-sale/details/65206415/?search_identifier=88be88ee980791be9202fa16afe4e5d6c81c736d6aaace016242bb3cd5844f83\n",
      "Starting extraction for link 3022: https://www.zoopla.co.uk/for-sale/details/65197924/?search_identifier=88be88ee980791be9202fa16afe4e5d6c81c736d6aaace016242bb3cd5844f83\n"
     ]
    },
    {
     "name": "stderr",
     "output_type": "stream",
     "text": [
      "could not detect version_main.therefore, we are assuming it is chrome 108 or higher\n"
     ]
    },
    {
     "name": "stdout",
     "output_type": "stream",
     "text": [
      "Saved to db successfully\n",
      "Done with link 3022: https://www.zoopla.co.uk/for-sale/details/65197924/?search_identifier=88be88ee980791be9202fa16afe4e5d6c81c736d6aaace016242bb3cd5844f83\n",
      "Starting extraction for link 3023: https://www.zoopla.co.uk/for-sale/details/65197316/?search_identifier=88be88ee980791be9202fa16afe4e5d6c81c736d6aaace016242bb3cd5844f83\n"
     ]
    },
    {
     "name": "stderr",
     "output_type": "stream",
     "text": [
      "could not detect version_main.therefore, we are assuming it is chrome 108 or higher\n"
     ]
    },
    {
     "name": "stdout",
     "output_type": "stream",
     "text": [
      "Saved to db successfully\n",
      "Done with link 3023: https://www.zoopla.co.uk/for-sale/details/65197316/?search_identifier=88be88ee980791be9202fa16afe4e5d6c81c736d6aaace016242bb3cd5844f83\n",
      "Starting extraction for link 3024: https://www.zoopla.co.uk/for-sale/details/65194006/?search_identifier=88be88ee980791be9202fa16afe4e5d6c81c736d6aaace016242bb3cd5844f83\n"
     ]
    },
    {
     "name": "stderr",
     "output_type": "stream",
     "text": [
      "could not detect version_main.therefore, we are assuming it is chrome 108 or higher\n"
     ]
    },
    {
     "name": "stdout",
     "output_type": "stream",
     "text": [
      "Saved to db successfully\n",
      "Done with link 3024: https://www.zoopla.co.uk/for-sale/details/65194006/?search_identifier=88be88ee980791be9202fa16afe4e5d6c81c736d6aaace016242bb3cd5844f83\n",
      "Starting extraction for link 3025: https://www.zoopla.co.uk/for-sale/details/65193638/?search_identifier=88be88ee980791be9202fa16afe4e5d6c81c736d6aaace016242bb3cd5844f83\n"
     ]
    },
    {
     "name": "stderr",
     "output_type": "stream",
     "text": [
      "could not detect version_main.therefore, we are assuming it is chrome 108 or higher\n"
     ]
    },
    {
     "name": "stdout",
     "output_type": "stream",
     "text": [
      "Saved to db successfully\n",
      "Done with link 3025: https://www.zoopla.co.uk/for-sale/details/65193638/?search_identifier=88be88ee980791be9202fa16afe4e5d6c81c736d6aaace016242bb3cd5844f83\n",
      "Starting extraction for link 3026: https://www.zoopla.co.uk/for-sale/details/65186023/?search_identifier=88be88ee980791be9202fa16afe4e5d6c81c736d6aaace016242bb3cd5844f83\n"
     ]
    },
    {
     "name": "stderr",
     "output_type": "stream",
     "text": [
      "could not detect version_main.therefore, we are assuming it is chrome 108 or higher\n"
     ]
    },
    {
     "name": "stdout",
     "output_type": "stream",
     "text": [
      "Saved to db successfully\n",
      "Done with link 3026: https://www.zoopla.co.uk/for-sale/details/65186023/?search_identifier=88be88ee980791be9202fa16afe4e5d6c81c736d6aaace016242bb3cd5844f83\n",
      "Starting extraction for link 3027: https://www.zoopla.co.uk/new-homes/details/65180223/?search_identifier=88be88ee980791be9202fa16afe4e5d6c81c736d6aaace016242bb3cd5844f83\n"
     ]
    },
    {
     "name": "stderr",
     "output_type": "stream",
     "text": [
      "could not detect version_main.therefore, we are assuming it is chrome 108 or higher\n"
     ]
    },
    {
     "name": "stdout",
     "output_type": "stream",
     "text": [
      "Saved to db successfully\n",
      "Done with link 3027: https://www.zoopla.co.uk/new-homes/details/65180223/?search_identifier=88be88ee980791be9202fa16afe4e5d6c81c736d6aaace016242bb3cd5844f83\n",
      "Starting extraction for link 3028: https://www.zoopla.co.uk/new-homes/details/65180221/?search_identifier=88be88ee980791be9202fa16afe4e5d6c81c736d6aaace016242bb3cd5844f83\n"
     ]
    },
    {
     "name": "stderr",
     "output_type": "stream",
     "text": [
      "could not detect version_main.therefore, we are assuming it is chrome 108 or higher\n"
     ]
    },
    {
     "name": "stdout",
     "output_type": "stream",
     "text": [
      "Saved to db successfully\n",
      "Done with link 3028: https://www.zoopla.co.uk/new-homes/details/65180221/?search_identifier=88be88ee980791be9202fa16afe4e5d6c81c736d6aaace016242bb3cd5844f83\n",
      "Starting extraction for link 3029: https://www.zoopla.co.uk/new-homes/details/65180215/?search_identifier=88be88ee980791be9202fa16afe4e5d6c81c736d6aaace016242bb3cd5844f83\n"
     ]
    },
    {
     "name": "stderr",
     "output_type": "stream",
     "text": [
      "could not detect version_main.therefore, we are assuming it is chrome 108 or higher\n"
     ]
    },
    {
     "name": "stdout",
     "output_type": "stream",
     "text": [
      "Saved to db successfully\n",
      "Done with link 3029: https://www.zoopla.co.uk/new-homes/details/65180215/?search_identifier=88be88ee980791be9202fa16afe4e5d6c81c736d6aaace016242bb3cd5844f83\n",
      "Starting extraction for link 3030: https://www.zoopla.co.uk/new-homes/details/65179080/?search_identifier=88be88ee980791be9202fa16afe4e5d6c81c736d6aaace016242bb3cd5844f83\n"
     ]
    },
    {
     "name": "stderr",
     "output_type": "stream",
     "text": [
      "could not detect version_main.therefore, we are assuming it is chrome 108 or higher\n"
     ]
    },
    {
     "name": "stdout",
     "output_type": "stream",
     "text": [
      "Saved to db successfully\n",
      "Done with link 3030: https://www.zoopla.co.uk/new-homes/details/65179080/?search_identifier=88be88ee980791be9202fa16afe4e5d6c81c736d6aaace016242bb3cd5844f83\n",
      "Starting extraction for link 3031: https://www.zoopla.co.uk/new-homes/details/65179056/?search_identifier=88be88ee980791be9202fa16afe4e5d6c81c736d6aaace016242bb3cd5844f83\n"
     ]
    },
    {
     "name": "stderr",
     "output_type": "stream",
     "text": [
      "could not detect version_main.therefore, we are assuming it is chrome 108 or higher\n"
     ]
    },
    {
     "name": "stdout",
     "output_type": "stream",
     "text": [
      "Saved to db successfully\n",
      "Done with link 3031: https://www.zoopla.co.uk/new-homes/details/65179056/?search_identifier=88be88ee980791be9202fa16afe4e5d6c81c736d6aaace016242bb3cd5844f83\n",
      "Starting extraction for link 3032: https://www.zoopla.co.uk/for-sale/details/65178085/?search_identifier=88be88ee980791be9202fa16afe4e5d6c81c736d6aaace016242bb3cd5844f83\n"
     ]
    },
    {
     "name": "stderr",
     "output_type": "stream",
     "text": [
      "could not detect version_main.therefore, we are assuming it is chrome 108 or higher\n"
     ]
    },
    {
     "name": "stdout",
     "output_type": "stream",
     "text": [
      "Saved to db successfully\n",
      "Done with link 3032: https://www.zoopla.co.uk/for-sale/details/65178085/?search_identifier=88be88ee980791be9202fa16afe4e5d6c81c736d6aaace016242bb3cd5844f83\n",
      "Starting extraction for link 3033: https://www.zoopla.co.uk/new-homes/details/65177417/?search_identifier=88be88ee980791be9202fa16afe4e5d6c81c736d6aaace016242bb3cd5844f83\n"
     ]
    },
    {
     "name": "stderr",
     "output_type": "stream",
     "text": [
      "could not detect version_main.therefore, we are assuming it is chrome 108 or higher\n"
     ]
    },
    {
     "name": "stdout",
     "output_type": "stream",
     "text": [
      "Saved to db successfully\n",
      "Done with link 3033: https://www.zoopla.co.uk/new-homes/details/65177417/?search_identifier=88be88ee980791be9202fa16afe4e5d6c81c736d6aaace016242bb3cd5844f83\n",
      "Starting extraction for link 3034: https://www.zoopla.co.uk/for-sale/details/65171027/?search_identifier=88be88ee980791be9202fa16afe4e5d6c81c736d6aaace016242bb3cd5844f83\n"
     ]
    },
    {
     "name": "stderr",
     "output_type": "stream",
     "text": [
      "could not detect version_main.therefore, we are assuming it is chrome 108 or higher\n"
     ]
    },
    {
     "name": "stdout",
     "output_type": "stream",
     "text": [
      "Saved to db successfully\n",
      "Done with link 3034: https://www.zoopla.co.uk/for-sale/details/65171027/?search_identifier=88be88ee980791be9202fa16afe4e5d6c81c736d6aaace016242bb3cd5844f83\n",
      "Starting extraction for link 3035: https://www.zoopla.co.uk/for-sale/details/65160896/?search_identifier=88be88ee980791be9202fa16afe4e5d6c81c736d6aaace016242bb3cd5844f83\n"
     ]
    },
    {
     "name": "stderr",
     "output_type": "stream",
     "text": [
      "could not detect version_main.therefore, we are assuming it is chrome 108 or higher\n"
     ]
    },
    {
     "name": "stdout",
     "output_type": "stream",
     "text": [
      "Saved to db successfully\n",
      "Done with link 3035: https://www.zoopla.co.uk/for-sale/details/65160896/?search_identifier=88be88ee980791be9202fa16afe4e5d6c81c736d6aaace016242bb3cd5844f83\n",
      "Starting extraction for link 3036: https://www.zoopla.co.uk/for-sale/details/65159945/?search_identifier=88be88ee980791be9202fa16afe4e5d6c81c736d6aaace016242bb3cd5844f83\n"
     ]
    },
    {
     "name": "stderr",
     "output_type": "stream",
     "text": [
      "could not detect version_main.therefore, we are assuming it is chrome 108 or higher\n"
     ]
    },
    {
     "name": "stdout",
     "output_type": "stream",
     "text": [
      "Saved to db successfully\n",
      "Done with link 3036: https://www.zoopla.co.uk/for-sale/details/65159945/?search_identifier=88be88ee980791be9202fa16afe4e5d6c81c736d6aaace016242bb3cd5844f83\n",
      "Starting extraction for link 3037: https://www.zoopla.co.uk/new-homes/details/65143597/?search_identifier=88be88ee980791be9202fa16afe4e5d6c81c736d6aaace016242bb3cd5844f83\n"
     ]
    },
    {
     "name": "stderr",
     "output_type": "stream",
     "text": [
      "could not detect version_main.therefore, we are assuming it is chrome 108 or higher\n"
     ]
    },
    {
     "name": "stdout",
     "output_type": "stream",
     "text": [
      "Saved to db successfully\n",
      "Done with link 3037: https://www.zoopla.co.uk/new-homes/details/65143597/?search_identifier=88be88ee980791be9202fa16afe4e5d6c81c736d6aaace016242bb3cd5844f83\n",
      "Starting extraction for link 3038: https://www.zoopla.co.uk/for-sale/details/65137380/?search_identifier=88be88ee980791be9202fa16afe4e5d6c81c736d6aaace016242bb3cd5844f83\n"
     ]
    },
    {
     "name": "stderr",
     "output_type": "stream",
     "text": [
      "could not detect version_main.therefore, we are assuming it is chrome 108 or higher\n"
     ]
    },
    {
     "name": "stdout",
     "output_type": "stream",
     "text": [
      "Saved to db successfully\n",
      "Done with link 3038: https://www.zoopla.co.uk/for-sale/details/65137380/?search_identifier=88be88ee980791be9202fa16afe4e5d6c81c736d6aaace016242bb3cd5844f83\n",
      "Starting extraction for link 3039: https://www.zoopla.co.uk/for-sale/details/65137381/?search_identifier=88be88ee980791be9202fa16afe4e5d6c81c736d6aaace016242bb3cd5844f83\n"
     ]
    },
    {
     "name": "stderr",
     "output_type": "stream",
     "text": [
      "could not detect version_main.therefore, we are assuming it is chrome 108 or higher\n"
     ]
    },
    {
     "name": "stdout",
     "output_type": "stream",
     "text": [
      "Saved to db successfully\n",
      "Done with link 3039: https://www.zoopla.co.uk/for-sale/details/65137381/?search_identifier=88be88ee980791be9202fa16afe4e5d6c81c736d6aaace016242bb3cd5844f83\n",
      "Starting extraction for link 3040: https://www.zoopla.co.uk/for-sale/details/65135111/?search_identifier=7a29c4130c034be566bc40d2afdf60929aed4ac5672f96567ace1c7337120df5\n"
     ]
    },
    {
     "name": "stderr",
     "output_type": "stream",
     "text": [
      "could not detect version_main.therefore, we are assuming it is chrome 108 or higher\n"
     ]
    },
    {
     "name": "stdout",
     "output_type": "stream",
     "text": [
      "Saved to db successfully\n",
      "Done with link 3040: https://www.zoopla.co.uk/for-sale/details/65135111/?search_identifier=7a29c4130c034be566bc40d2afdf60929aed4ac5672f96567ace1c7337120df5\n",
      "Starting extraction for link 3041: https://www.zoopla.co.uk/for-sale/details/65128304/?search_identifier=7a29c4130c034be566bc40d2afdf60929aed4ac5672f96567ace1c7337120df5\n"
     ]
    },
    {
     "name": "stderr",
     "output_type": "stream",
     "text": [
      "could not detect version_main.therefore, we are assuming it is chrome 108 or higher\n"
     ]
    },
    {
     "name": "stdout",
     "output_type": "stream",
     "text": [
      "Saved to db successfully\n",
      "Done with link 3041: https://www.zoopla.co.uk/for-sale/details/65128304/?search_identifier=7a29c4130c034be566bc40d2afdf60929aed4ac5672f96567ace1c7337120df5\n",
      "Starting extraction for link 3042: https://www.zoopla.co.uk/for-sale/details/65117862/?search_identifier=7a29c4130c034be566bc40d2afdf60929aed4ac5672f96567ace1c7337120df5\n"
     ]
    },
    {
     "name": "stderr",
     "output_type": "stream",
     "text": [
      "could not detect version_main.therefore, we are assuming it is chrome 108 or higher\n"
     ]
    },
    {
     "name": "stdout",
     "output_type": "stream",
     "text": [
      "Saved to db successfully\n",
      "Done with link 3042: https://www.zoopla.co.uk/for-sale/details/65117862/?search_identifier=7a29c4130c034be566bc40d2afdf60929aed4ac5672f96567ace1c7337120df5\n",
      "Starting extraction for link 3043: https://www.zoopla.co.uk/for-sale/details/65116395/?search_identifier=7a29c4130c034be566bc40d2afdf60929aed4ac5672f96567ace1c7337120df5\n"
     ]
    },
    {
     "name": "stderr",
     "output_type": "stream",
     "text": [
      "could not detect version_main.therefore, we are assuming it is chrome 108 or higher\n"
     ]
    },
    {
     "name": "stdout",
     "output_type": "stream",
     "text": [
      "Saved to db successfully\n",
      "Done with link 3043: https://www.zoopla.co.uk/for-sale/details/65116395/?search_identifier=7a29c4130c034be566bc40d2afdf60929aed4ac5672f96567ace1c7337120df5\n",
      "Starting extraction for link 3044: https://www.zoopla.co.uk/for-sale/details/65116339/?search_identifier=7a29c4130c034be566bc40d2afdf60929aed4ac5672f96567ace1c7337120df5\n"
     ]
    },
    {
     "name": "stderr",
     "output_type": "stream",
     "text": [
      "could not detect version_main.therefore, we are assuming it is chrome 108 or higher\n"
     ]
    },
    {
     "name": "stdout",
     "output_type": "stream",
     "text": [
      "Saved to db successfully\n",
      "Done with link 3044: https://www.zoopla.co.uk/for-sale/details/65116339/?search_identifier=7a29c4130c034be566bc40d2afdf60929aed4ac5672f96567ace1c7337120df5\n",
      "Starting extraction for link 3045: https://www.zoopla.co.uk/for-sale/details/65112766/?search_identifier=7a29c4130c034be566bc40d2afdf60929aed4ac5672f96567ace1c7337120df5\n"
     ]
    },
    {
     "name": "stderr",
     "output_type": "stream",
     "text": [
      "could not detect version_main.therefore, we are assuming it is chrome 108 or higher\n"
     ]
    },
    {
     "name": "stdout",
     "output_type": "stream",
     "text": [
      "Saved to db successfully\n",
      "Done with link 3045: https://www.zoopla.co.uk/for-sale/details/65112766/?search_identifier=7a29c4130c034be566bc40d2afdf60929aed4ac5672f96567ace1c7337120df5\n",
      "Starting extraction for link 3046: https://www.zoopla.co.uk/for-sale/details/65111505/?search_identifier=7a29c4130c034be566bc40d2afdf60929aed4ac5672f96567ace1c7337120df5\n"
     ]
    },
    {
     "name": "stderr",
     "output_type": "stream",
     "text": [
      "could not detect version_main.therefore, we are assuming it is chrome 108 or higher\n"
     ]
    },
    {
     "name": "stdout",
     "output_type": "stream",
     "text": [
      "Saved to db successfully\n",
      "Done with link 3046: https://www.zoopla.co.uk/for-sale/details/65111505/?search_identifier=7a29c4130c034be566bc40d2afdf60929aed4ac5672f96567ace1c7337120df5\n",
      "Starting extraction for link 3047: https://www.zoopla.co.uk/for-sale/details/65111506/?search_identifier=7a29c4130c034be566bc40d2afdf60929aed4ac5672f96567ace1c7337120df5\n"
     ]
    },
    {
     "name": "stderr",
     "output_type": "stream",
     "text": [
      "could not detect version_main.therefore, we are assuming it is chrome 108 or higher\n"
     ]
    },
    {
     "name": "stdout",
     "output_type": "stream",
     "text": [
      "Saved to db successfully\n",
      "Done with link 3047: https://www.zoopla.co.uk/for-sale/details/65111506/?search_identifier=7a29c4130c034be566bc40d2afdf60929aed4ac5672f96567ace1c7337120df5\n",
      "Starting extraction for link 3048: https://www.zoopla.co.uk/for-sale/details/65110862/?search_identifier=7a29c4130c034be566bc40d2afdf60929aed4ac5672f96567ace1c7337120df5\n"
     ]
    },
    {
     "name": "stderr",
     "output_type": "stream",
     "text": [
      "could not detect version_main.therefore, we are assuming it is chrome 108 or higher\n"
     ]
    },
    {
     "name": "stdout",
     "output_type": "stream",
     "text": [
      "Saved to db successfully\n",
      "Done with link 3048: https://www.zoopla.co.uk/for-sale/details/65110862/?search_identifier=7a29c4130c034be566bc40d2afdf60929aed4ac5672f96567ace1c7337120df5\n",
      "Starting extraction for link 3049: https://www.zoopla.co.uk/for-sale/details/65106286/?search_identifier=7a29c4130c034be566bc40d2afdf60929aed4ac5672f96567ace1c7337120df5\n"
     ]
    },
    {
     "name": "stderr",
     "output_type": "stream",
     "text": [
      "could not detect version_main.therefore, we are assuming it is chrome 108 or higher\n"
     ]
    },
    {
     "name": "stdout",
     "output_type": "stream",
     "text": [
      "Saved to db successfully\n",
      "Done with link 3049: https://www.zoopla.co.uk/for-sale/details/65106286/?search_identifier=7a29c4130c034be566bc40d2afdf60929aed4ac5672f96567ace1c7337120df5\n",
      "Starting extraction for link 3050: https://www.zoopla.co.uk/for-sale/details/65098064/?search_identifier=7a29c4130c034be566bc40d2afdf60929aed4ac5672f96567ace1c7337120df5\n"
     ]
    },
    {
     "name": "stderr",
     "output_type": "stream",
     "text": [
      "could not detect version_main.therefore, we are assuming it is chrome 108 or higher\n"
     ]
    },
    {
     "name": "stdout",
     "output_type": "stream",
     "text": [
      "Saved to db successfully\n",
      "Done with link 3050: https://www.zoopla.co.uk/for-sale/details/65098064/?search_identifier=7a29c4130c034be566bc40d2afdf60929aed4ac5672f96567ace1c7337120df5\n",
      "Starting extraction for link 3051: https://www.zoopla.co.uk/for-sale/details/65091003/?search_identifier=7a29c4130c034be566bc40d2afdf60929aed4ac5672f96567ace1c7337120df5\n"
     ]
    },
    {
     "name": "stderr",
     "output_type": "stream",
     "text": [
      "could not detect version_main.therefore, we are assuming it is chrome 108 or higher\n"
     ]
    },
    {
     "name": "stdout",
     "output_type": "stream",
     "text": [
      "Saved to db successfully\n",
      "Done with link 3051: https://www.zoopla.co.uk/for-sale/details/65091003/?search_identifier=7a29c4130c034be566bc40d2afdf60929aed4ac5672f96567ace1c7337120df5\n",
      "Starting extraction for link 3052: https://www.zoopla.co.uk/for-sale/details/65085956/?search_identifier=7a29c4130c034be566bc40d2afdf60929aed4ac5672f96567ace1c7337120df5\n"
     ]
    },
    {
     "name": "stderr",
     "output_type": "stream",
     "text": [
      "could not detect version_main.therefore, we are assuming it is chrome 108 or higher\n"
     ]
    },
    {
     "name": "stdout",
     "output_type": "stream",
     "text": [
      "Saved to db successfully\n",
      "Done with link 3052: https://www.zoopla.co.uk/for-sale/details/65085956/?search_identifier=7a29c4130c034be566bc40d2afdf60929aed4ac5672f96567ace1c7337120df5\n",
      "Starting extraction for link 3053: https://www.zoopla.co.uk/for-sale/details/65085957/?search_identifier=7a29c4130c034be566bc40d2afdf60929aed4ac5672f96567ace1c7337120df5\n"
     ]
    },
    {
     "name": "stderr",
     "output_type": "stream",
     "text": [
      "could not detect version_main.therefore, we are assuming it is chrome 108 or higher\n"
     ]
    },
    {
     "name": "stdout",
     "output_type": "stream",
     "text": [
      "Saved to db successfully\n",
      "Done with link 3053: https://www.zoopla.co.uk/for-sale/details/65085957/?search_identifier=7a29c4130c034be566bc40d2afdf60929aed4ac5672f96567ace1c7337120df5\n",
      "Starting extraction for link 3054: https://www.zoopla.co.uk/for-sale/details/65083342/?search_identifier=7a29c4130c034be566bc40d2afdf60929aed4ac5672f96567ace1c7337120df5\n"
     ]
    },
    {
     "name": "stderr",
     "output_type": "stream",
     "text": [
      "could not detect version_main.therefore, we are assuming it is chrome 108 or higher\n"
     ]
    },
    {
     "name": "stdout",
     "output_type": "stream",
     "text": [
      "Saved to db successfully\n",
      "Done with link 3054: https://www.zoopla.co.uk/for-sale/details/65083342/?search_identifier=7a29c4130c034be566bc40d2afdf60929aed4ac5672f96567ace1c7337120df5\n",
      "Starting extraction for link 3055: https://www.zoopla.co.uk/for-sale/details/65076938/?search_identifier=7a29c4130c034be566bc40d2afdf60929aed4ac5672f96567ace1c7337120df5\n"
     ]
    },
    {
     "name": "stderr",
     "output_type": "stream",
     "text": [
      "could not detect version_main.therefore, we are assuming it is chrome 108 or higher\n"
     ]
    },
    {
     "name": "stdout",
     "output_type": "stream",
     "text": [
      "Saved to db successfully\n",
      "Done with link 3055: https://www.zoopla.co.uk/for-sale/details/65076938/?search_identifier=7a29c4130c034be566bc40d2afdf60929aed4ac5672f96567ace1c7337120df5\n",
      "Starting extraction for link 3056: https://www.zoopla.co.uk/for-sale/details/65072077/?search_identifier=7a29c4130c034be566bc40d2afdf60929aed4ac5672f96567ace1c7337120df5\n"
     ]
    },
    {
     "name": "stderr",
     "output_type": "stream",
     "text": [
      "could not detect version_main.therefore, we are assuming it is chrome 108 or higher\n"
     ]
    },
    {
     "name": "stdout",
     "output_type": "stream",
     "text": [
      "Saved to db successfully\n",
      "Done with link 3056: https://www.zoopla.co.uk/for-sale/details/65072077/?search_identifier=7a29c4130c034be566bc40d2afdf60929aed4ac5672f96567ace1c7337120df5\n",
      "Starting extraction for link 3057: https://www.zoopla.co.uk/for-sale/details/65072078/?search_identifier=7a29c4130c034be566bc40d2afdf60929aed4ac5672f96567ace1c7337120df5\n"
     ]
    },
    {
     "name": "stderr",
     "output_type": "stream",
     "text": [
      "could not detect version_main.therefore, we are assuming it is chrome 108 or higher\n"
     ]
    },
    {
     "name": "stdout",
     "output_type": "stream",
     "text": [
      "Saved to db successfully\n",
      "Done with link 3057: https://www.zoopla.co.uk/for-sale/details/65072078/?search_identifier=7a29c4130c034be566bc40d2afdf60929aed4ac5672f96567ace1c7337120df5\n",
      "Starting extraction for link 3058: https://www.zoopla.co.uk/for-sale/details/65063120/?search_identifier=7a29c4130c034be566bc40d2afdf60929aed4ac5672f96567ace1c7337120df5\n"
     ]
    },
    {
     "name": "stderr",
     "output_type": "stream",
     "text": [
      "could not detect version_main.therefore, we are assuming it is chrome 108 or higher\n"
     ]
    },
    {
     "name": "stdout",
     "output_type": "stream",
     "text": [
      "Saved to db successfully\n",
      "Done with link 3058: https://www.zoopla.co.uk/for-sale/details/65063120/?search_identifier=7a29c4130c034be566bc40d2afdf60929aed4ac5672f96567ace1c7337120df5\n",
      "Starting extraction for link 3059: https://www.zoopla.co.uk/for-sale/details/65058532/?search_identifier=7a29c4130c034be566bc40d2afdf60929aed4ac5672f96567ace1c7337120df5\n"
     ]
    },
    {
     "name": "stderr",
     "output_type": "stream",
     "text": [
      "could not detect version_main.therefore, we are assuming it is chrome 108 or higher\n"
     ]
    },
    {
     "name": "stdout",
     "output_type": "stream",
     "text": [
      "Saved to db successfully\n",
      "Done with link 3059: https://www.zoopla.co.uk/for-sale/details/65058532/?search_identifier=7a29c4130c034be566bc40d2afdf60929aed4ac5672f96567ace1c7337120df5\n",
      "Starting extraction for link 3060: https://www.zoopla.co.uk/for-sale/details/65055278/?search_identifier=7a29c4130c034be566bc40d2afdf60929aed4ac5672f96567ace1c7337120df5\n"
     ]
    },
    {
     "name": "stderr",
     "output_type": "stream",
     "text": [
      "could not detect version_main.therefore, we are assuming it is chrome 108 or higher\n"
     ]
    },
    {
     "name": "stdout",
     "output_type": "stream",
     "text": [
      "Saved to db successfully\n",
      "Done with link 3060: https://www.zoopla.co.uk/for-sale/details/65055278/?search_identifier=7a29c4130c034be566bc40d2afdf60929aed4ac5672f96567ace1c7337120df5\n",
      "Starting extraction for link 3061: https://www.zoopla.co.uk/for-sale/details/65043647/?search_identifier=7a29c4130c034be566bc40d2afdf60929aed4ac5672f96567ace1c7337120df5\n"
     ]
    },
    {
     "name": "stderr",
     "output_type": "stream",
     "text": [
      "could not detect version_main.therefore, we are assuming it is chrome 108 or higher\n"
     ]
    },
    {
     "name": "stdout",
     "output_type": "stream",
     "text": [
      "Saved to db successfully\n",
      "Done with link 3061: https://www.zoopla.co.uk/for-sale/details/65043647/?search_identifier=7a29c4130c034be566bc40d2afdf60929aed4ac5672f96567ace1c7337120df5\n",
      "Starting extraction for link 3062: https://www.zoopla.co.uk/for-sale/details/65041952/?search_identifier=7a29c4130c034be566bc40d2afdf60929aed4ac5672f96567ace1c7337120df5\n"
     ]
    },
    {
     "name": "stderr",
     "output_type": "stream",
     "text": [
      "could not detect version_main.therefore, we are assuming it is chrome 108 or higher\n"
     ]
    },
    {
     "name": "stdout",
     "output_type": "stream",
     "text": [
      "Saved to db successfully\n",
      "Done with link 3062: https://www.zoopla.co.uk/for-sale/details/65041952/?search_identifier=7a29c4130c034be566bc40d2afdf60929aed4ac5672f96567ace1c7337120df5\n",
      "Starting extraction for link 3063: https://www.zoopla.co.uk/for-sale/details/65033224/?search_identifier=7a29c4130c034be566bc40d2afdf60929aed4ac5672f96567ace1c7337120df5\n"
     ]
    },
    {
     "name": "stderr",
     "output_type": "stream",
     "text": [
      "could not detect version_main.therefore, we are assuming it is chrome 108 or higher\n"
     ]
    },
    {
     "name": "stdout",
     "output_type": "stream",
     "text": [
      "Saved to db successfully\n",
      "Done with link 3063: https://www.zoopla.co.uk/for-sale/details/65033224/?search_identifier=7a29c4130c034be566bc40d2afdf60929aed4ac5672f96567ace1c7337120df5\n",
      "Starting extraction for link 3064: https://www.zoopla.co.uk/for-sale/details/65032420/?search_identifier=7a29c4130c034be566bc40d2afdf60929aed4ac5672f96567ace1c7337120df5\n"
     ]
    },
    {
     "name": "stderr",
     "output_type": "stream",
     "text": [
      "could not detect version_main.therefore, we are assuming it is chrome 108 or higher\n"
     ]
    },
    {
     "name": "stdout",
     "output_type": "stream",
     "text": [
      "Saved to db successfully\n",
      "Done with link 3064: https://www.zoopla.co.uk/for-sale/details/65032420/?search_identifier=7a29c4130c034be566bc40d2afdf60929aed4ac5672f96567ace1c7337120df5\n",
      "Starting extraction for link 3065: https://www.zoopla.co.uk/for-sale/details/65024616/?search_identifier=e6295a4ad9cdad75f9aa7496d80c934548271902de6d6ed89b87cdd4fa974ae9\n"
     ]
    },
    {
     "name": "stderr",
     "output_type": "stream",
     "text": [
      "could not detect version_main.therefore, we are assuming it is chrome 108 or higher\n"
     ]
    },
    {
     "name": "stdout",
     "output_type": "stream",
     "text": [
      "Saved to db successfully\n",
      "Done with link 3065: https://www.zoopla.co.uk/for-sale/details/65024616/?search_identifier=e6295a4ad9cdad75f9aa7496d80c934548271902de6d6ed89b87cdd4fa974ae9\n",
      "Starting extraction for link 3066: https://www.zoopla.co.uk/for-sale/details/65020818/?search_identifier=e6295a4ad9cdad75f9aa7496d80c934548271902de6d6ed89b87cdd4fa974ae9\n"
     ]
    },
    {
     "name": "stderr",
     "output_type": "stream",
     "text": [
      "could not detect version_main.therefore, we are assuming it is chrome 108 or higher\n"
     ]
    },
    {
     "name": "stdout",
     "output_type": "stream",
     "text": [
      "Saved to db successfully\n",
      "Done with link 3066: https://www.zoopla.co.uk/for-sale/details/65020818/?search_identifier=e6295a4ad9cdad75f9aa7496d80c934548271902de6d6ed89b87cdd4fa974ae9\n",
      "Starting extraction for link 3067: https://www.zoopla.co.uk/for-sale/details/65017778/?search_identifier=e6295a4ad9cdad75f9aa7496d80c934548271902de6d6ed89b87cdd4fa974ae9\n"
     ]
    },
    {
     "name": "stderr",
     "output_type": "stream",
     "text": [
      "could not detect version_main.therefore, we are assuming it is chrome 108 or higher\n"
     ]
    },
    {
     "name": "stdout",
     "output_type": "stream",
     "text": [
      "Saved to db successfully\n",
      "Done with link 3067: https://www.zoopla.co.uk/for-sale/details/65017778/?search_identifier=e6295a4ad9cdad75f9aa7496d80c934548271902de6d6ed89b87cdd4fa974ae9\n",
      "Starting extraction for link 3068: https://www.zoopla.co.uk/for-sale/details/64982393/?search_identifier=e6295a4ad9cdad75f9aa7496d80c934548271902de6d6ed89b87cdd4fa974ae9\n"
     ]
    },
    {
     "name": "stderr",
     "output_type": "stream",
     "text": [
      "could not detect version_main.therefore, we are assuming it is chrome 108 or higher\n"
     ]
    },
    {
     "name": "stdout",
     "output_type": "stream",
     "text": [
      "Saved to db successfully\n",
      "Done with link 3068: https://www.zoopla.co.uk/for-sale/details/64982393/?search_identifier=e6295a4ad9cdad75f9aa7496d80c934548271902de6d6ed89b87cdd4fa974ae9\n",
      "Starting extraction for link 3069: https://www.zoopla.co.uk/for-sale/details/64969249/?search_identifier=e6295a4ad9cdad75f9aa7496d80c934548271902de6d6ed89b87cdd4fa974ae9\n"
     ]
    },
    {
     "name": "stderr",
     "output_type": "stream",
     "text": [
      "could not detect version_main.therefore, we are assuming it is chrome 108 or higher\n"
     ]
    },
    {
     "name": "stdout",
     "output_type": "stream",
     "text": [
      "Saved to db successfully\n",
      "Done with link 3069: https://www.zoopla.co.uk/for-sale/details/64969249/?search_identifier=e6295a4ad9cdad75f9aa7496d80c934548271902de6d6ed89b87cdd4fa974ae9\n",
      "Starting extraction for link 3070: https://www.zoopla.co.uk/for-sale/details/64968942/?search_identifier=e6295a4ad9cdad75f9aa7496d80c934548271902de6d6ed89b87cdd4fa974ae9\n"
     ]
    },
    {
     "name": "stderr",
     "output_type": "stream",
     "text": [
      "could not detect version_main.therefore, we are assuming it is chrome 108 or higher\n"
     ]
    },
    {
     "name": "stdout",
     "output_type": "stream",
     "text": [
      "Saved to db successfully\n",
      "Done with link 3070: https://www.zoopla.co.uk/for-sale/details/64968942/?search_identifier=e6295a4ad9cdad75f9aa7496d80c934548271902de6d6ed89b87cdd4fa974ae9\n",
      "Starting extraction for link 3071: https://www.zoopla.co.uk/for-sale/details/64964797/?search_identifier=e6295a4ad9cdad75f9aa7496d80c934548271902de6d6ed89b87cdd4fa974ae9\n"
     ]
    },
    {
     "name": "stderr",
     "output_type": "stream",
     "text": [
      "could not detect version_main.therefore, we are assuming it is chrome 108 or higher\n"
     ]
    },
    {
     "name": "stdout",
     "output_type": "stream",
     "text": [
      "Saved to db successfully\n",
      "Done with link 3071: https://www.zoopla.co.uk/for-sale/details/64964797/?search_identifier=e6295a4ad9cdad75f9aa7496d80c934548271902de6d6ed89b87cdd4fa974ae9\n",
      "Starting extraction for link 3072: https://www.zoopla.co.uk/for-sale/details/64949615/?search_identifier=e6295a4ad9cdad75f9aa7496d80c934548271902de6d6ed89b87cdd4fa974ae9\n"
     ]
    },
    {
     "name": "stderr",
     "output_type": "stream",
     "text": [
      "could not detect version_main.therefore, we are assuming it is chrome 108 or higher\n"
     ]
    },
    {
     "name": "stdout",
     "output_type": "stream",
     "text": [
      "Saved to db successfully\n",
      "Done with link 3072: https://www.zoopla.co.uk/for-sale/details/64949615/?search_identifier=e6295a4ad9cdad75f9aa7496d80c934548271902de6d6ed89b87cdd4fa974ae9\n",
      "Starting extraction for link 3073: https://www.zoopla.co.uk/for-sale/details/64949616/?search_identifier=e6295a4ad9cdad75f9aa7496d80c934548271902de6d6ed89b87cdd4fa974ae9\n"
     ]
    },
    {
     "name": "stderr",
     "output_type": "stream",
     "text": [
      "could not detect version_main.therefore, we are assuming it is chrome 108 or higher\n"
     ]
    },
    {
     "name": "stdout",
     "output_type": "stream",
     "text": [
      "Saved to db successfully\n",
      "Done with link 3073: https://www.zoopla.co.uk/for-sale/details/64949616/?search_identifier=e6295a4ad9cdad75f9aa7496d80c934548271902de6d6ed89b87cdd4fa974ae9\n",
      "Starting extraction for link 3074: https://www.zoopla.co.uk/for-sale/details/64946359/?search_identifier=e6295a4ad9cdad75f9aa7496d80c934548271902de6d6ed89b87cdd4fa974ae9\n"
     ]
    },
    {
     "name": "stderr",
     "output_type": "stream",
     "text": [
      "could not detect version_main.therefore, we are assuming it is chrome 108 or higher\n"
     ]
    },
    {
     "name": "stdout",
     "output_type": "stream",
     "text": [
      "Saved to db successfully\n",
      "Done with link 3074: https://www.zoopla.co.uk/for-sale/details/64946359/?search_identifier=e6295a4ad9cdad75f9aa7496d80c934548271902de6d6ed89b87cdd4fa974ae9\n",
      "Starting extraction for link 3075: https://www.zoopla.co.uk/for-sale/details/64943077/?search_identifier=e6295a4ad9cdad75f9aa7496d80c934548271902de6d6ed89b87cdd4fa974ae9\n"
     ]
    },
    {
     "name": "stderr",
     "output_type": "stream",
     "text": [
      "could not detect version_main.therefore, we are assuming it is chrome 108 or higher\n"
     ]
    },
    {
     "name": "stdout",
     "output_type": "stream",
     "text": [
      "Saved to db successfully\n",
      "Done with link 3075: https://www.zoopla.co.uk/for-sale/details/64943077/?search_identifier=e6295a4ad9cdad75f9aa7496d80c934548271902de6d6ed89b87cdd4fa974ae9\n",
      "Starting extraction for link 3076: https://www.zoopla.co.uk/for-sale/details/64938833/?search_identifier=e6295a4ad9cdad75f9aa7496d80c934548271902de6d6ed89b87cdd4fa974ae9\n"
     ]
    },
    {
     "name": "stderr",
     "output_type": "stream",
     "text": [
      "could not detect version_main.therefore, we are assuming it is chrome 108 or higher\n"
     ]
    },
    {
     "name": "stdout",
     "output_type": "stream",
     "text": [
      "Saved to db successfully\n",
      "Done with link 3076: https://www.zoopla.co.uk/for-sale/details/64938833/?search_identifier=e6295a4ad9cdad75f9aa7496d80c934548271902de6d6ed89b87cdd4fa974ae9\n",
      "Starting extraction for link 3077: https://www.zoopla.co.uk/for-sale/details/64923958/?search_identifier=e6295a4ad9cdad75f9aa7496d80c934548271902de6d6ed89b87cdd4fa974ae9\n"
     ]
    },
    {
     "name": "stderr",
     "output_type": "stream",
     "text": [
      "could not detect version_main.therefore, we are assuming it is chrome 108 or higher\n"
     ]
    },
    {
     "name": "stdout",
     "output_type": "stream",
     "text": [
      "Saved to db successfully\n",
      "Done with link 3077: https://www.zoopla.co.uk/for-sale/details/64923958/?search_identifier=e6295a4ad9cdad75f9aa7496d80c934548271902de6d6ed89b87cdd4fa974ae9\n",
      "Starting extraction for link 3078: https://www.zoopla.co.uk/for-sale/details/64911256/?search_identifier=e6295a4ad9cdad75f9aa7496d80c934548271902de6d6ed89b87cdd4fa974ae9\n"
     ]
    },
    {
     "name": "stderr",
     "output_type": "stream",
     "text": [
      "could not detect version_main.therefore, we are assuming it is chrome 108 or higher\n"
     ]
    },
    {
     "name": "stdout",
     "output_type": "stream",
     "text": [
      "Saved to db successfully\n",
      "Done with link 3078: https://www.zoopla.co.uk/for-sale/details/64911256/?search_identifier=e6295a4ad9cdad75f9aa7496d80c934548271902de6d6ed89b87cdd4fa974ae9\n",
      "Starting extraction for link 3079: https://www.zoopla.co.uk/for-sale/details/64898776/?search_identifier=e6295a4ad9cdad75f9aa7496d80c934548271902de6d6ed89b87cdd4fa974ae9\n",
      "An error occurred for link in get_data_func: https://www.zoopla.co.uk/for-sale/details/64898776/?search_identifier=e6295a4ad9cdad75f9aa7496d80c934548271902de6d6ed89b87cdd4fa974ae9: Message: no such element: Unable to locate element: {\"method\":\"xpath\",\"selector\":\"//p[@data-testid=\"price\"]\"}\n",
      "  (Session info: chrome=115.0.5790.110); For documentation on this error, please visit: https://www.selenium.dev/documentation/webdriver/troubleshooting/errors#no-such-element-exception\n",
      "Stacktrace:\n",
      "Backtrace:\n",
      "\tGetHandleVerifier [0x00E2A813+48355]\n",
      "\t(No symbol) [0x00DBC4B1]\n",
      "\t(No symbol) [0x00CC5358]\n",
      "\t(No symbol) [0x00CF09A5]\n",
      "\t(No symbol) [0x00CF0B3B]\n",
      "\t(No symbol) [0x00D1E232]\n",
      "\t(No symbol) [0x00D0A784]\n",
      "\t(No symbol) [0x00D1C922]\n",
      "\t(No symbol) [0x00D0A536]\n",
      "\t(No symbol) [0x00CE82DC]\n",
      "\t(No symbol) [0x00CE93DD]\n",
      "\tGetHandleVerifier [0x0108AABD+2539405]\n",
      "\tGetHandleVerifier [0x010CA78F+2800735]\n",
      "\tGetHandleVerifier [0x010C456C+2775612]\n",
      "\tGetHandleVerifier [0x00EB51E0+616112]\n",
      "\t(No symbol) [0x00DC5F8C]\n",
      "\t(No symbol) [0x00DC2328]\n",
      "\t(No symbol) [0x00DC240B]\n",
      "\t(No symbol) [0x00DB4FF7]\n",
      "\tBaseThreadInitThunk [0x76A57D59+25]\n",
      "\tRtlInitializeExceptionChain [0x7773B79B+107]\n",
      "\tRtlClearBits [0x7773B71F+191]\n",
      "\n"
     ]
    },
    {
     "name": "stderr",
     "output_type": "stream",
     "text": [
      "could not detect version_main.therefore, we are assuming it is chrome 108 or higher\n"
     ]
    },
    {
     "name": "stdout",
     "output_type": "stream",
     "text": [
      "Saved to db successfully\n",
      "Done with link 3079: https://www.zoopla.co.uk/for-sale/details/64898776/?search_identifier=e6295a4ad9cdad75f9aa7496d80c934548271902de6d6ed89b87cdd4fa974ae9\n",
      "Starting extraction for link 3080: https://www.zoopla.co.uk/for-sale/details/64856692/?search_identifier=e6295a4ad9cdad75f9aa7496d80c934548271902de6d6ed89b87cdd4fa974ae9\n"
     ]
    },
    {
     "name": "stderr",
     "output_type": "stream",
     "text": [
      "could not detect version_main.therefore, we are assuming it is chrome 108 or higher\n"
     ]
    },
    {
     "name": "stdout",
     "output_type": "stream",
     "text": [
      "Saved to db successfully\n",
      "Done with link 3080: https://www.zoopla.co.uk/for-sale/details/64856692/?search_identifier=e6295a4ad9cdad75f9aa7496d80c934548271902de6d6ed89b87cdd4fa974ae9\n",
      "Starting extraction for link 3081: https://www.zoopla.co.uk/for-sale/details/64856693/?search_identifier=e6295a4ad9cdad75f9aa7496d80c934548271902de6d6ed89b87cdd4fa974ae9\n"
     ]
    },
    {
     "name": "stderr",
     "output_type": "stream",
     "text": [
      "could not detect version_main.therefore, we are assuming it is chrome 108 or higher\n"
     ]
    },
    {
     "name": "stdout",
     "output_type": "stream",
     "text": [
      "Saved to db successfully\n",
      "Done with link 3081: https://www.zoopla.co.uk/for-sale/details/64856693/?search_identifier=e6295a4ad9cdad75f9aa7496d80c934548271902de6d6ed89b87cdd4fa974ae9\n",
      "Starting extraction for link 3082: https://www.zoopla.co.uk/new-homes/details/64821034/?search_identifier=e6295a4ad9cdad75f9aa7496d80c934548271902de6d6ed89b87cdd4fa974ae9\n"
     ]
    },
    {
     "name": "stderr",
     "output_type": "stream",
     "text": [
      "could not detect version_main.therefore, we are assuming it is chrome 108 or higher\n"
     ]
    },
    {
     "name": "stdout",
     "output_type": "stream",
     "text": [
      "Saved to db successfully\n",
      "Done with link 3082: https://www.zoopla.co.uk/new-homes/details/64821034/?search_identifier=e6295a4ad9cdad75f9aa7496d80c934548271902de6d6ed89b87cdd4fa974ae9\n",
      "Starting extraction for link 3083: https://www.zoopla.co.uk/for-sale/details/64808265/?search_identifier=e6295a4ad9cdad75f9aa7496d80c934548271902de6d6ed89b87cdd4fa974ae9\n"
     ]
    },
    {
     "name": "stderr",
     "output_type": "stream",
     "text": [
      "could not detect version_main.therefore, we are assuming it is chrome 108 or higher\n"
     ]
    },
    {
     "name": "stdout",
     "output_type": "stream",
     "text": [
      "Saved to db successfully\n",
      "Done with link 3083: https://www.zoopla.co.uk/for-sale/details/64808265/?search_identifier=e6295a4ad9cdad75f9aa7496d80c934548271902de6d6ed89b87cdd4fa974ae9\n",
      "Starting extraction for link 3084: https://www.zoopla.co.uk/for-sale/details/64795241/?search_identifier=e6295a4ad9cdad75f9aa7496d80c934548271902de6d6ed89b87cdd4fa974ae9\n"
     ]
    },
    {
     "name": "stderr",
     "output_type": "stream",
     "text": [
      "could not detect version_main.therefore, we are assuming it is chrome 108 or higher\n"
     ]
    },
    {
     "name": "stdout",
     "output_type": "stream",
     "text": [
      "Saved to db successfully\n",
      "Done with link 3084: https://www.zoopla.co.uk/for-sale/details/64795241/?search_identifier=e6295a4ad9cdad75f9aa7496d80c934548271902de6d6ed89b87cdd4fa974ae9\n",
      "Starting extraction for link 3085: https://www.zoopla.co.uk/for-sale/details/64794837/?search_identifier=e6295a4ad9cdad75f9aa7496d80c934548271902de6d6ed89b87cdd4fa974ae9\n"
     ]
    },
    {
     "name": "stderr",
     "output_type": "stream",
     "text": [
      "could not detect version_main.therefore, we are assuming it is chrome 108 or higher\n"
     ]
    },
    {
     "name": "stdout",
     "output_type": "stream",
     "text": [
      "Saved to db successfully\n",
      "Done with link 3085: https://www.zoopla.co.uk/for-sale/details/64794837/?search_identifier=e6295a4ad9cdad75f9aa7496d80c934548271902de6d6ed89b87cdd4fa974ae9\n",
      "Starting extraction for link 3086: https://www.zoopla.co.uk/for-sale/details/64761302/?search_identifier=e6295a4ad9cdad75f9aa7496d80c934548271902de6d6ed89b87cdd4fa974ae9\n"
     ]
    },
    {
     "name": "stderr",
     "output_type": "stream",
     "text": [
      "could not detect version_main.therefore, we are assuming it is chrome 108 or higher\n"
     ]
    },
    {
     "name": "stdout",
     "output_type": "stream",
     "text": [
      "Saved to db successfully\n",
      "Done with link 3086: https://www.zoopla.co.uk/for-sale/details/64761302/?search_identifier=e6295a4ad9cdad75f9aa7496d80c934548271902de6d6ed89b87cdd4fa974ae9\n",
      "Starting extraction for link 3087: https://www.zoopla.co.uk/for-sale/details/64748690/?search_identifier=e6295a4ad9cdad75f9aa7496d80c934548271902de6d6ed89b87cdd4fa974ae9\n"
     ]
    },
    {
     "name": "stderr",
     "output_type": "stream",
     "text": [
      "could not detect version_main.therefore, we are assuming it is chrome 108 or higher\n"
     ]
    },
    {
     "name": "stdout",
     "output_type": "stream",
     "text": [
      "Saved to db successfully\n",
      "Done with link 3087: https://www.zoopla.co.uk/for-sale/details/64748690/?search_identifier=e6295a4ad9cdad75f9aa7496d80c934548271902de6d6ed89b87cdd4fa974ae9\n",
      "Starting extraction for link 3088: https://www.zoopla.co.uk/for-sale/details/64729270/?search_identifier=e6295a4ad9cdad75f9aa7496d80c934548271902de6d6ed89b87cdd4fa974ae9\n"
     ]
    },
    {
     "name": "stderr",
     "output_type": "stream",
     "text": [
      "could not detect version_main.therefore, we are assuming it is chrome 108 or higher\n"
     ]
    },
    {
     "name": "stdout",
     "output_type": "stream",
     "text": [
      "Saved to db successfully\n",
      "Done with link 3088: https://www.zoopla.co.uk/for-sale/details/64729270/?search_identifier=e6295a4ad9cdad75f9aa7496d80c934548271902de6d6ed89b87cdd4fa974ae9\n",
      "Starting extraction for link 3089: https://www.zoopla.co.uk/for-sale/details/64719976/?search_identifier=e6295a4ad9cdad75f9aa7496d80c934548271902de6d6ed89b87cdd4fa974ae9\n"
     ]
    },
    {
     "name": "stderr",
     "output_type": "stream",
     "text": [
      "could not detect version_main.therefore, we are assuming it is chrome 108 or higher\n"
     ]
    },
    {
     "name": "stdout",
     "output_type": "stream",
     "text": [
      "Saved to db successfully\n",
      "Done with link 3089: https://www.zoopla.co.uk/for-sale/details/64719976/?search_identifier=e6295a4ad9cdad75f9aa7496d80c934548271902de6d6ed89b87cdd4fa974ae9\n",
      "Starting extraction for link 3090: https://www.zoopla.co.uk/for-sale/details/64709358/?search_identifier=3b3b773f39274346a649aba214426558fd7914c31fdb825d1c8226734c85e4d2\n"
     ]
    },
    {
     "name": "stderr",
     "output_type": "stream",
     "text": [
      "could not detect version_main.therefore, we are assuming it is chrome 108 or higher\n"
     ]
    },
    {
     "name": "stdout",
     "output_type": "stream",
     "text": [
      "Saved to db successfully\n",
      "Done with link 3090: https://www.zoopla.co.uk/for-sale/details/64709358/?search_identifier=3b3b773f39274346a649aba214426558fd7914c31fdb825d1c8226734c85e4d2\n",
      "Starting extraction for link 3091: https://www.zoopla.co.uk/for-sale/details/64708614/?search_identifier=3b3b773f39274346a649aba214426558fd7914c31fdb825d1c8226734c85e4d2\n"
     ]
    },
    {
     "name": "stderr",
     "output_type": "stream",
     "text": [
      "could not detect version_main.therefore, we are assuming it is chrome 108 or higher\n"
     ]
    },
    {
     "name": "stdout",
     "output_type": "stream",
     "text": [
      "Saved to db successfully\n",
      "Done with link 3091: https://www.zoopla.co.uk/for-sale/details/64708614/?search_identifier=3b3b773f39274346a649aba214426558fd7914c31fdb825d1c8226734c85e4d2\n",
      "Starting extraction for link 3092: https://www.zoopla.co.uk/for-sale/details/64706291/?search_identifier=3b3b773f39274346a649aba214426558fd7914c31fdb825d1c8226734c85e4d2\n"
     ]
    },
    {
     "name": "stderr",
     "output_type": "stream",
     "text": [
      "could not detect version_main.therefore, we are assuming it is chrome 108 or higher\n"
     ]
    },
    {
     "name": "stdout",
     "output_type": "stream",
     "text": [
      "Saved to db successfully\n",
      "Done with link 3092: https://www.zoopla.co.uk/for-sale/details/64706291/?search_identifier=3b3b773f39274346a649aba214426558fd7914c31fdb825d1c8226734c85e4d2\n",
      "Starting extraction for link 3093: https://www.zoopla.co.uk/for-sale/details/64701368/?search_identifier=3b3b773f39274346a649aba214426558fd7914c31fdb825d1c8226734c85e4d2\n"
     ]
    },
    {
     "name": "stderr",
     "output_type": "stream",
     "text": [
      "could not detect version_main.therefore, we are assuming it is chrome 108 or higher\n"
     ]
    },
    {
     "name": "stdout",
     "output_type": "stream",
     "text": [
      "Saved to db successfully\n",
      "Done with link 3093: https://www.zoopla.co.uk/for-sale/details/64701368/?search_identifier=3b3b773f39274346a649aba214426558fd7914c31fdb825d1c8226734c85e4d2\n",
      "Starting extraction for link 3094: https://www.zoopla.co.uk/for-sale/details/64697762/?search_identifier=3b3b773f39274346a649aba214426558fd7914c31fdb825d1c8226734c85e4d2\n"
     ]
    },
    {
     "name": "stderr",
     "output_type": "stream",
     "text": [
      "could not detect version_main.therefore, we are assuming it is chrome 108 or higher\n"
     ]
    },
    {
     "name": "stdout",
     "output_type": "stream",
     "text": [
      "Saved to db successfully\n",
      "Done with link 3094: https://www.zoopla.co.uk/for-sale/details/64697762/?search_identifier=3b3b773f39274346a649aba214426558fd7914c31fdb825d1c8226734c85e4d2\n",
      "Starting extraction for link 3095: https://www.zoopla.co.uk/for-sale/details/64687366/?search_identifier=3b3b773f39274346a649aba214426558fd7914c31fdb825d1c8226734c85e4d2\n"
     ]
    },
    {
     "name": "stderr",
     "output_type": "stream",
     "text": [
      "could not detect version_main.therefore, we are assuming it is chrome 108 or higher\n"
     ]
    },
    {
     "name": "stdout",
     "output_type": "stream",
     "text": [
      "Saved to db successfully\n",
      "Done with link 3095: https://www.zoopla.co.uk/for-sale/details/64687366/?search_identifier=3b3b773f39274346a649aba214426558fd7914c31fdb825d1c8226734c85e4d2\n",
      "Starting extraction for link 3096: https://www.zoopla.co.uk/for-sale/details/64686977/?search_identifier=3b3b773f39274346a649aba214426558fd7914c31fdb825d1c8226734c85e4d2\n"
     ]
    },
    {
     "name": "stderr",
     "output_type": "stream",
     "text": [
      "could not detect version_main.therefore, we are assuming it is chrome 108 or higher\n"
     ]
    },
    {
     "name": "stdout",
     "output_type": "stream",
     "text": [
      "Saved to db successfully\n",
      "Done with link 3096: https://www.zoopla.co.uk/for-sale/details/64686977/?search_identifier=3b3b773f39274346a649aba214426558fd7914c31fdb825d1c8226734c85e4d2\n",
      "Starting extraction for link 3097: https://www.zoopla.co.uk/for-sale/details/64684407/?search_identifier=3b3b773f39274346a649aba214426558fd7914c31fdb825d1c8226734c85e4d2\n"
     ]
    },
    {
     "name": "stderr",
     "output_type": "stream",
     "text": [
      "could not detect version_main.therefore, we are assuming it is chrome 108 or higher\n"
     ]
    },
    {
     "name": "stdout",
     "output_type": "stream",
     "text": [
      "Saved to db successfully\n",
      "Done with link 3097: https://www.zoopla.co.uk/for-sale/details/64684407/?search_identifier=3b3b773f39274346a649aba214426558fd7914c31fdb825d1c8226734c85e4d2\n",
      "Starting extraction for link 3098: https://www.zoopla.co.uk/for-sale/details/65106474/?search_identifier=3b3b773f39274346a649aba214426558fd7914c31fdb825d1c8226734c85e4d2\n"
     ]
    },
    {
     "name": "stderr",
     "output_type": "stream",
     "text": [
      "could not detect version_main.therefore, we are assuming it is chrome 108 or higher\n"
     ]
    },
    {
     "name": "stdout",
     "output_type": "stream",
     "text": [
      "Saved to db successfully\n",
      "Done with link 3098: https://www.zoopla.co.uk/for-sale/details/65106474/?search_identifier=3b3b773f39274346a649aba214426558fd7914c31fdb825d1c8226734c85e4d2\n",
      "Starting extraction for link 3099: https://www.zoopla.co.uk/for-sale/details/64646673/?search_identifier=3b3b773f39274346a649aba214426558fd7914c31fdb825d1c8226734c85e4d2\n"
     ]
    },
    {
     "name": "stderr",
     "output_type": "stream",
     "text": [
      "could not detect version_main.therefore, we are assuming it is chrome 108 or higher\n"
     ]
    },
    {
     "name": "stdout",
     "output_type": "stream",
     "text": [
      "Saved to db successfully\n",
      "Done with link 3099: https://www.zoopla.co.uk/for-sale/details/64646673/?search_identifier=3b3b773f39274346a649aba214426558fd7914c31fdb825d1c8226734c85e4d2\n",
      "Starting extraction for link 3100: https://www.zoopla.co.uk/for-sale/details/61649405/?search_identifier=3b3b773f39274346a649aba214426558fd7914c31fdb825d1c8226734c85e4d2\n"
     ]
    },
    {
     "name": "stderr",
     "output_type": "stream",
     "text": [
      "could not detect version_main.therefore, we are assuming it is chrome 108 or higher\n"
     ]
    },
    {
     "name": "stdout",
     "output_type": "stream",
     "text": [
      "Saved to db successfully\n",
      "Done with link 3100: https://www.zoopla.co.uk/for-sale/details/61649405/?search_identifier=3b3b773f39274346a649aba214426558fd7914c31fdb825d1c8226734c85e4d2\n",
      "Starting extraction for link 3101: https://www.zoopla.co.uk/for-sale/details/64617852/?search_identifier=3b3b773f39274346a649aba214426558fd7914c31fdb825d1c8226734c85e4d2\n"
     ]
    },
    {
     "name": "stderr",
     "output_type": "stream",
     "text": [
      "could not detect version_main.therefore, we are assuming it is chrome 108 or higher\n"
     ]
    },
    {
     "name": "stdout",
     "output_type": "stream",
     "text": [
      "Saved to db successfully\n",
      "Done with link 3101: https://www.zoopla.co.uk/for-sale/details/64617852/?search_identifier=3b3b773f39274346a649aba214426558fd7914c31fdb825d1c8226734c85e4d2\n",
      "Starting extraction for link 3102: https://www.zoopla.co.uk/for-sale/details/64605207/?search_identifier=3b3b773f39274346a649aba214426558fd7914c31fdb825d1c8226734c85e4d2\n"
     ]
    },
    {
     "name": "stderr",
     "output_type": "stream",
     "text": [
      "could not detect version_main.therefore, we are assuming it is chrome 108 or higher\n"
     ]
    },
    {
     "name": "stdout",
     "output_type": "stream",
     "text": [
      "Saved to db successfully\n",
      "Done with link 3102: https://www.zoopla.co.uk/for-sale/details/64605207/?search_identifier=3b3b773f39274346a649aba214426558fd7914c31fdb825d1c8226734c85e4d2\n",
      "Starting extraction for link 3103: https://www.zoopla.co.uk/for-sale/details/64597071/?search_identifier=3b3b773f39274346a649aba214426558fd7914c31fdb825d1c8226734c85e4d2\n"
     ]
    },
    {
     "name": "stderr",
     "output_type": "stream",
     "text": [
      "could not detect version_main.therefore, we are assuming it is chrome 108 or higher\n"
     ]
    },
    {
     "name": "stdout",
     "output_type": "stream",
     "text": [
      "Saved to db successfully\n",
      "Done with link 3103: https://www.zoopla.co.uk/for-sale/details/64597071/?search_identifier=3b3b773f39274346a649aba214426558fd7914c31fdb825d1c8226734c85e4d2\n",
      "Starting extraction for link 3104: https://www.zoopla.co.uk/for-sale/details/64596568/?search_identifier=3b3b773f39274346a649aba214426558fd7914c31fdb825d1c8226734c85e4d2\n"
     ]
    },
    {
     "name": "stderr",
     "output_type": "stream",
     "text": [
      "could not detect version_main.therefore, we are assuming it is chrome 108 or higher\n"
     ]
    },
    {
     "name": "stdout",
     "output_type": "stream",
     "text": [
      "Saved to db successfully\n",
      "Done with link 3104: https://www.zoopla.co.uk/for-sale/details/64596568/?search_identifier=3b3b773f39274346a649aba214426558fd7914c31fdb825d1c8226734c85e4d2\n",
      "Starting extraction for link 3105: https://www.zoopla.co.uk/for-sale/details/64569888/?search_identifier=3b3b773f39274346a649aba214426558fd7914c31fdb825d1c8226734c85e4d2\n"
     ]
    },
    {
     "name": "stderr",
     "output_type": "stream",
     "text": [
      "could not detect version_main.therefore, we are assuming it is chrome 108 or higher\n"
     ]
    },
    {
     "name": "stdout",
     "output_type": "stream",
     "text": [
      "Saved to db successfully\n",
      "Done with link 3105: https://www.zoopla.co.uk/for-sale/details/64569888/?search_identifier=3b3b773f39274346a649aba214426558fd7914c31fdb825d1c8226734c85e4d2\n",
      "Starting extraction for link 3106: https://www.zoopla.co.uk/for-sale/details/64533747/?search_identifier=3b3b773f39274346a649aba214426558fd7914c31fdb825d1c8226734c85e4d2\n"
     ]
    },
    {
     "name": "stderr",
     "output_type": "stream",
     "text": [
      "could not detect version_main.therefore, we are assuming it is chrome 108 or higher\n"
     ]
    },
    {
     "name": "stdout",
     "output_type": "stream",
     "text": [
      "Saved to db successfully\n",
      "Done with link 3106: https://www.zoopla.co.uk/for-sale/details/64533747/?search_identifier=3b3b773f39274346a649aba214426558fd7914c31fdb825d1c8226734c85e4d2\n",
      "Starting extraction for link 3107: https://www.zoopla.co.uk/for-sale/details/63339777/?search_identifier=3b3b773f39274346a649aba214426558fd7914c31fdb825d1c8226734c85e4d2\n"
     ]
    },
    {
     "name": "stderr",
     "output_type": "stream",
     "text": [
      "could not detect version_main.therefore, we are assuming it is chrome 108 or higher\n"
     ]
    },
    {
     "name": "stdout",
     "output_type": "stream",
     "text": [
      "Saved to db successfully\n",
      "Done with link 3107: https://www.zoopla.co.uk/for-sale/details/63339777/?search_identifier=3b3b773f39274346a649aba214426558fd7914c31fdb825d1c8226734c85e4d2\n",
      "Starting extraction for link 3108: https://www.zoopla.co.uk/for-sale/details/64516622/?search_identifier=3b3b773f39274346a649aba214426558fd7914c31fdb825d1c8226734c85e4d2\n"
     ]
    },
    {
     "name": "stderr",
     "output_type": "stream",
     "text": [
      "could not detect version_main.therefore, we are assuming it is chrome 108 or higher\n"
     ]
    },
    {
     "name": "stdout",
     "output_type": "stream",
     "text": [
      "Saved to db successfully\n",
      "Done with link 3108: https://www.zoopla.co.uk/for-sale/details/64516622/?search_identifier=3b3b773f39274346a649aba214426558fd7914c31fdb825d1c8226734c85e4d2\n",
      "Starting extraction for link 3109: https://www.zoopla.co.uk/for-sale/details/64484689/?search_identifier=3b3b773f39274346a649aba214426558fd7914c31fdb825d1c8226734c85e4d2\n",
      "An error occurred for link in get_data_func: https://www.zoopla.co.uk/for-sale/details/64484689/?search_identifier=3b3b773f39274346a649aba214426558fd7914c31fdb825d1c8226734c85e4d2: Message: no such element: Unable to locate element: {\"method\":\"xpath\",\"selector\":\"//p[@data-testid=\"price\"]\"}\n",
      "  (Session info: chrome=115.0.5790.110); For documentation on this error, please visit: https://www.selenium.dev/documentation/webdriver/troubleshooting/errors#no-such-element-exception\n",
      "Stacktrace:\n",
      "Backtrace:\n",
      "\tGetHandleVerifier [0x00E2A813+48355]\n",
      "\t(No symbol) [0x00DBC4B1]\n",
      "\t(No symbol) [0x00CC5358]\n",
      "\t(No symbol) [0x00CF09A5]\n",
      "\t(No symbol) [0x00CF0B3B]\n",
      "\t(No symbol) [0x00D1E232]\n",
      "\t(No symbol) [0x00D0A784]\n",
      "\t(No symbol) [0x00D1C922]\n",
      "\t(No symbol) [0x00D0A536]\n",
      "\t(No symbol) [0x00CE82DC]\n",
      "\t(No symbol) [0x00CE93DD]\n",
      "\tGetHandleVerifier [0x0108AABD+2539405]\n",
      "\tGetHandleVerifier [0x010CA78F+2800735]\n",
      "\tGetHandleVerifier [0x010C456C+2775612]\n",
      "\tGetHandleVerifier [0x00EB51E0+616112]\n",
      "\t(No symbol) [0x00DC5F8C]\n",
      "\t(No symbol) [0x00DC2328]\n",
      "\t(No symbol) [0x00DC240B]\n",
      "\t(No symbol) [0x00DB4FF7]\n",
      "\tBaseThreadInitThunk [0x76A57D59+25]\n",
      "\tRtlInitializeExceptionChain [0x7773B79B+107]\n",
      "\tRtlClearBits [0x7773B71F+191]\n",
      "\n"
     ]
    },
    {
     "name": "stderr",
     "output_type": "stream",
     "text": [
      "could not detect version_main.therefore, we are assuming it is chrome 108 or higher\n"
     ]
    },
    {
     "name": "stdout",
     "output_type": "stream",
     "text": [
      "Saved to db successfully\n",
      "Done with link 3109: https://www.zoopla.co.uk/for-sale/details/64484689/?search_identifier=3b3b773f39274346a649aba214426558fd7914c31fdb825d1c8226734c85e4d2\n",
      "Starting extraction for link 3110: https://www.zoopla.co.uk/for-sale/details/64478995/?search_identifier=3b3b773f39274346a649aba214426558fd7914c31fdb825d1c8226734c85e4d2\n"
     ]
    },
    {
     "name": "stderr",
     "output_type": "stream",
     "text": [
      "could not detect version_main.therefore, we are assuming it is chrome 108 or higher\n"
     ]
    },
    {
     "name": "stdout",
     "output_type": "stream",
     "text": [
      "Saved to db successfully\n",
      "Done with link 3110: https://www.zoopla.co.uk/for-sale/details/64478995/?search_identifier=3b3b773f39274346a649aba214426558fd7914c31fdb825d1c8226734c85e4d2\n",
      "Starting extraction for link 3111: https://www.zoopla.co.uk/for-sale/details/64473271/?search_identifier=3b3b773f39274346a649aba214426558fd7914c31fdb825d1c8226734c85e4d2\n"
     ]
    },
    {
     "name": "stderr",
     "output_type": "stream",
     "text": [
      "could not detect version_main.therefore, we are assuming it is chrome 108 or higher\n"
     ]
    },
    {
     "name": "stdout",
     "output_type": "stream",
     "text": [
      "Saved to db successfully\n",
      "Done with link 3111: https://www.zoopla.co.uk/for-sale/details/64473271/?search_identifier=3b3b773f39274346a649aba214426558fd7914c31fdb825d1c8226734c85e4d2\n",
      "Starting extraction for link 3112: https://www.zoopla.co.uk/for-sale/details/64451847/?search_identifier=3b3b773f39274346a649aba214426558fd7914c31fdb825d1c8226734c85e4d2\n"
     ]
    },
    {
     "name": "stderr",
     "output_type": "stream",
     "text": [
      "could not detect version_main.therefore, we are assuming it is chrome 108 or higher\n"
     ]
    },
    {
     "name": "stdout",
     "output_type": "stream",
     "text": [
      "Saved to db successfully\n",
      "Done with link 3112: https://www.zoopla.co.uk/for-sale/details/64451847/?search_identifier=3b3b773f39274346a649aba214426558fd7914c31fdb825d1c8226734c85e4d2\n",
      "Starting extraction for link 3113: https://www.zoopla.co.uk/for-sale/details/64444736/?search_identifier=3b3b773f39274346a649aba214426558fd7914c31fdb825d1c8226734c85e4d2\n"
     ]
    },
    {
     "name": "stderr",
     "output_type": "stream",
     "text": [
      "could not detect version_main.therefore, we are assuming it is chrome 108 or higher\n"
     ]
    },
    {
     "name": "stdout",
     "output_type": "stream",
     "text": [
      "Saved to db successfully\n",
      "Done with link 3113: https://www.zoopla.co.uk/for-sale/details/64444736/?search_identifier=3b3b773f39274346a649aba214426558fd7914c31fdb825d1c8226734c85e4d2\n",
      "Starting extraction for link 3114: https://www.zoopla.co.uk/for-sale/details/64429014/?search_identifier=3b3b773f39274346a649aba214426558fd7914c31fdb825d1c8226734c85e4d2\n"
     ]
    },
    {
     "name": "stderr",
     "output_type": "stream",
     "text": [
      "could not detect version_main.therefore, we are assuming it is chrome 108 or higher\n"
     ]
    },
    {
     "name": "stdout",
     "output_type": "stream",
     "text": [
      "Saved to db successfully\n",
      "Done with link 3114: https://www.zoopla.co.uk/for-sale/details/64429014/?search_identifier=3b3b773f39274346a649aba214426558fd7914c31fdb825d1c8226734c85e4d2\n",
      "Starting extraction for link 3115: https://www.zoopla.co.uk/for-sale/details/64426814/?search_identifier=66601a84ccea82a8977016b58eb90a387585a7db73af16ef543cce0699adec09\n"
     ]
    },
    {
     "name": "stderr",
     "output_type": "stream",
     "text": [
      "could not detect version_main.therefore, we are assuming it is chrome 108 or higher\n"
     ]
    },
    {
     "name": "stdout",
     "output_type": "stream",
     "text": [
      "Saved to db successfully\n",
      "Done with link 3115: https://www.zoopla.co.uk/for-sale/details/64426814/?search_identifier=66601a84ccea82a8977016b58eb90a387585a7db73af16ef543cce0699adec09\n",
      "Starting extraction for link 3116: https://www.zoopla.co.uk/for-sale/details/64419194/?search_identifier=66601a84ccea82a8977016b58eb90a387585a7db73af16ef543cce0699adec09\n"
     ]
    },
    {
     "name": "stderr",
     "output_type": "stream",
     "text": [
      "could not detect version_main.therefore, we are assuming it is chrome 108 or higher\n"
     ]
    },
    {
     "name": "stdout",
     "output_type": "stream",
     "text": [
      "Saved to db successfully\n",
      "Done with link 3116: https://www.zoopla.co.uk/for-sale/details/64419194/?search_identifier=66601a84ccea82a8977016b58eb90a387585a7db73af16ef543cce0699adec09\n",
      "Starting extraction for link 3117: https://www.zoopla.co.uk/for-sale/details/64378287/?search_identifier=66601a84ccea82a8977016b58eb90a387585a7db73af16ef543cce0699adec09\n"
     ]
    },
    {
     "name": "stderr",
     "output_type": "stream",
     "text": [
      "could not detect version_main.therefore, we are assuming it is chrome 108 or higher\n"
     ]
    },
    {
     "name": "stdout",
     "output_type": "stream",
     "text": [
      "Saved to db successfully\n",
      "Done with link 3117: https://www.zoopla.co.uk/for-sale/details/64378287/?search_identifier=66601a84ccea82a8977016b58eb90a387585a7db73af16ef543cce0699adec09\n",
      "Starting extraction for link 3118: https://www.zoopla.co.uk/for-sale/details/64376269/?search_identifier=66601a84ccea82a8977016b58eb90a387585a7db73af16ef543cce0699adec09\n"
     ]
    },
    {
     "name": "stderr",
     "output_type": "stream",
     "text": [
      "could not detect version_main.therefore, we are assuming it is chrome 108 or higher\n"
     ]
    },
    {
     "name": "stdout",
     "output_type": "stream",
     "text": [
      "Saved to db successfully\n",
      "Done with link 3118: https://www.zoopla.co.uk/for-sale/details/64376269/?search_identifier=66601a84ccea82a8977016b58eb90a387585a7db73af16ef543cce0699adec09\n",
      "Starting extraction for link 3119: https://www.zoopla.co.uk/for-sale/details/64374210/?search_identifier=66601a84ccea82a8977016b58eb90a387585a7db73af16ef543cce0699adec09\n"
     ]
    },
    {
     "name": "stderr",
     "output_type": "stream",
     "text": [
      "could not detect version_main.therefore, we are assuming it is chrome 108 or higher\n"
     ]
    },
    {
     "name": "stdout",
     "output_type": "stream",
     "text": [
      "Saved to db successfully\n",
      "Done with link 3119: https://www.zoopla.co.uk/for-sale/details/64374210/?search_identifier=66601a84ccea82a8977016b58eb90a387585a7db73af16ef543cce0699adec09\n",
      "Starting extraction for link 3120: https://www.zoopla.co.uk/for-sale/details/64365328/?search_identifier=66601a84ccea82a8977016b58eb90a387585a7db73af16ef543cce0699adec09\n"
     ]
    },
    {
     "name": "stderr",
     "output_type": "stream",
     "text": [
      "could not detect version_main.therefore, we are assuming it is chrome 108 or higher\n"
     ]
    },
    {
     "name": "stdout",
     "output_type": "stream",
     "text": [
      "Saved to db successfully\n",
      "Done with link 3120: https://www.zoopla.co.uk/for-sale/details/64365328/?search_identifier=66601a84ccea82a8977016b58eb90a387585a7db73af16ef543cce0699adec09\n",
      "Starting extraction for link 3121: https://www.zoopla.co.uk/for-sale/details/64338864/?search_identifier=66601a84ccea82a8977016b58eb90a387585a7db73af16ef543cce0699adec09\n"
     ]
    },
    {
     "name": "stderr",
     "output_type": "stream",
     "text": [
      "could not detect version_main.therefore, we are assuming it is chrome 108 or higher\n"
     ]
    },
    {
     "name": "stdout",
     "output_type": "stream",
     "text": [
      "Saved to db successfully\n",
      "Done with link 3121: https://www.zoopla.co.uk/for-sale/details/64338864/?search_identifier=66601a84ccea82a8977016b58eb90a387585a7db73af16ef543cce0699adec09\n",
      "Starting extraction for link 3122: https://www.zoopla.co.uk/for-sale/details/64325097/?search_identifier=66601a84ccea82a8977016b58eb90a387585a7db73af16ef543cce0699adec09\n"
     ]
    },
    {
     "name": "stderr",
     "output_type": "stream",
     "text": [
      "could not detect version_main.therefore, we are assuming it is chrome 108 or higher\n"
     ]
    },
    {
     "name": "stdout",
     "output_type": "stream",
     "text": [
      "Saved to db successfully\n",
      "Done with link 3122: https://www.zoopla.co.uk/for-sale/details/64325097/?search_identifier=66601a84ccea82a8977016b58eb90a387585a7db73af16ef543cce0699adec09\n",
      "Starting extraction for link 3123: https://www.zoopla.co.uk/for-sale/details/64204375/?search_identifier=66601a84ccea82a8977016b58eb90a387585a7db73af16ef543cce0699adec09\n"
     ]
    },
    {
     "name": "stderr",
     "output_type": "stream",
     "text": [
      "could not detect version_main.therefore, we are assuming it is chrome 108 or higher\n"
     ]
    },
    {
     "name": "stdout",
     "output_type": "stream",
     "text": [
      "Saved to db successfully\n",
      "Done with link 3123: https://www.zoopla.co.uk/for-sale/details/64204375/?search_identifier=66601a84ccea82a8977016b58eb90a387585a7db73af16ef543cce0699adec09\n",
      "Starting extraction for link 3124: https://www.zoopla.co.uk/for-sale/details/64160757/?search_identifier=66601a84ccea82a8977016b58eb90a387585a7db73af16ef543cce0699adec09\n"
     ]
    },
    {
     "name": "stderr",
     "output_type": "stream",
     "text": [
      "could not detect version_main.therefore, we are assuming it is chrome 108 or higher\n"
     ]
    },
    {
     "name": "stdout",
     "output_type": "stream",
     "text": [
      "Saved to db successfully\n",
      "Done with link 3124: https://www.zoopla.co.uk/for-sale/details/64160757/?search_identifier=66601a84ccea82a8977016b58eb90a387585a7db73af16ef543cce0699adec09\n",
      "Starting extraction for link 3125: https://www.zoopla.co.uk/for-sale/details/64132530/?search_identifier=66601a84ccea82a8977016b58eb90a387585a7db73af16ef543cce0699adec09\n"
     ]
    },
    {
     "name": "stderr",
     "output_type": "stream",
     "text": [
      "could not detect version_main.therefore, we are assuming it is chrome 108 or higher\n"
     ]
    },
    {
     "name": "stdout",
     "output_type": "stream",
     "text": [
      "Saved to db successfully\n",
      "Done with link 3125: https://www.zoopla.co.uk/for-sale/details/64132530/?search_identifier=66601a84ccea82a8977016b58eb90a387585a7db73af16ef543cce0699adec09\n",
      "Starting extraction for link 3126: https://www.zoopla.co.uk/for-sale/details/64065302/?search_identifier=66601a84ccea82a8977016b58eb90a387585a7db73af16ef543cce0699adec09\n"
     ]
    },
    {
     "name": "stderr",
     "output_type": "stream",
     "text": [
      "could not detect version_main.therefore, we are assuming it is chrome 108 or higher\n"
     ]
    },
    {
     "name": "stdout",
     "output_type": "stream",
     "text": [
      "Saved to db successfully\n",
      "Done with link 3126: https://www.zoopla.co.uk/for-sale/details/64065302/?search_identifier=66601a84ccea82a8977016b58eb90a387585a7db73af16ef543cce0699adec09\n",
      "Starting extraction for link 3127: https://www.zoopla.co.uk/for-sale/details/64041594/?search_identifier=66601a84ccea82a8977016b58eb90a387585a7db73af16ef543cce0699adec09\n"
     ]
    },
    {
     "name": "stderr",
     "output_type": "stream",
     "text": [
      "could not detect version_main.therefore, we are assuming it is chrome 108 or higher\n"
     ]
    },
    {
     "name": "stdout",
     "output_type": "stream",
     "text": [
      "Saved to db successfully\n",
      "Done with link 3127: https://www.zoopla.co.uk/for-sale/details/64041594/?search_identifier=66601a84ccea82a8977016b58eb90a387585a7db73af16ef543cce0699adec09\n",
      "Starting extraction for link 3128: https://www.zoopla.co.uk/for-sale/details/64017115/?search_identifier=66601a84ccea82a8977016b58eb90a387585a7db73af16ef543cce0699adec09\n"
     ]
    },
    {
     "name": "stderr",
     "output_type": "stream",
     "text": [
      "could not detect version_main.therefore, we are assuming it is chrome 108 or higher\n"
     ]
    },
    {
     "name": "stdout",
     "output_type": "stream",
     "text": [
      "Saved to db successfully\n",
      "Done with link 3128: https://www.zoopla.co.uk/for-sale/details/64017115/?search_identifier=66601a84ccea82a8977016b58eb90a387585a7db73af16ef543cce0699adec09\n",
      "Starting extraction for link 3129: https://www.zoopla.co.uk/for-sale/details/63938775/?search_identifier=66601a84ccea82a8977016b58eb90a387585a7db73af16ef543cce0699adec09\n"
     ]
    },
    {
     "name": "stderr",
     "output_type": "stream",
     "text": [
      "could not detect version_main.therefore, we are assuming it is chrome 108 or higher\n"
     ]
    },
    {
     "name": "stdout",
     "output_type": "stream",
     "text": [
      "Saved to db successfully\n",
      "Done with link 3129: https://www.zoopla.co.uk/for-sale/details/63938775/?search_identifier=66601a84ccea82a8977016b58eb90a387585a7db73af16ef543cce0699adec09\n",
      "Starting extraction for link 3130: https://www.zoopla.co.uk/for-sale/details/63891533/?search_identifier=66601a84ccea82a8977016b58eb90a387585a7db73af16ef543cce0699adec09\n"
     ]
    },
    {
     "name": "stderr",
     "output_type": "stream",
     "text": [
      "could not detect version_main.therefore, we are assuming it is chrome 108 or higher\n"
     ]
    },
    {
     "name": "stdout",
     "output_type": "stream",
     "text": [
      "Saved to db successfully\n",
      "Done with link 3130: https://www.zoopla.co.uk/for-sale/details/63891533/?search_identifier=66601a84ccea82a8977016b58eb90a387585a7db73af16ef543cce0699adec09\n",
      "Starting extraction for link 3131: https://www.zoopla.co.uk/for-sale/details/63890974/?search_identifier=66601a84ccea82a8977016b58eb90a387585a7db73af16ef543cce0699adec09\n"
     ]
    },
    {
     "name": "stderr",
     "output_type": "stream",
     "text": [
      "could not detect version_main.therefore, we are assuming it is chrome 108 or higher\n"
     ]
    },
    {
     "name": "stdout",
     "output_type": "stream",
     "text": [
      "Saved to db successfully\n",
      "Done with link 3131: https://www.zoopla.co.uk/for-sale/details/63890974/?search_identifier=66601a84ccea82a8977016b58eb90a387585a7db73af16ef543cce0699adec09\n",
      "Starting extraction for link 3132: https://www.zoopla.co.uk/for-sale/details/63889926/?search_identifier=66601a84ccea82a8977016b58eb90a387585a7db73af16ef543cce0699adec09\n"
     ]
    },
    {
     "name": "stderr",
     "output_type": "stream",
     "text": [
      "could not detect version_main.therefore, we are assuming it is chrome 108 or higher\n"
     ]
    },
    {
     "name": "stdout",
     "output_type": "stream",
     "text": [
      "Saved to db successfully\n",
      "Done with link 3132: https://www.zoopla.co.uk/for-sale/details/63889926/?search_identifier=66601a84ccea82a8977016b58eb90a387585a7db73af16ef543cce0699adec09\n",
      "Starting extraction for link 3133: https://www.zoopla.co.uk/for-sale/details/63882060/?search_identifier=66601a84ccea82a8977016b58eb90a387585a7db73af16ef543cce0699adec09\n"
     ]
    },
    {
     "name": "stderr",
     "output_type": "stream",
     "text": [
      "could not detect version_main.therefore, we are assuming it is chrome 108 or higher\n"
     ]
    },
    {
     "name": "stdout",
     "output_type": "stream",
     "text": [
      "Saved to db successfully\n",
      "Done with link 3133: https://www.zoopla.co.uk/for-sale/details/63882060/?search_identifier=66601a84ccea82a8977016b58eb90a387585a7db73af16ef543cce0699adec09\n",
      "Starting extraction for link 3134: https://www.zoopla.co.uk/for-sale/details/63854123/?search_identifier=66601a84ccea82a8977016b58eb90a387585a7db73af16ef543cce0699adec09\n"
     ]
    },
    {
     "name": "stderr",
     "output_type": "stream",
     "text": [
      "could not detect version_main.therefore, we are assuming it is chrome 108 or higher\n"
     ]
    },
    {
     "name": "stdout",
     "output_type": "stream",
     "text": [
      "Saved to db successfully\n",
      "Done with link 3134: https://www.zoopla.co.uk/for-sale/details/63854123/?search_identifier=66601a84ccea82a8977016b58eb90a387585a7db73af16ef543cce0699adec09\n",
      "Starting extraction for link 3135: https://www.zoopla.co.uk/for-sale/details/63843884/?search_identifier=66601a84ccea82a8977016b58eb90a387585a7db73af16ef543cce0699adec09\n"
     ]
    },
    {
     "name": "stderr",
     "output_type": "stream",
     "text": [
      "could not detect version_main.therefore, we are assuming it is chrome 108 or higher\n"
     ]
    },
    {
     "name": "stdout",
     "output_type": "stream",
     "text": [
      "Saved to db successfully\n",
      "Done with link 3135: https://www.zoopla.co.uk/for-sale/details/63843884/?search_identifier=66601a84ccea82a8977016b58eb90a387585a7db73af16ef543cce0699adec09\n",
      "Starting extraction for link 3136: https://www.zoopla.co.uk/for-sale/details/63819665/?search_identifier=66601a84ccea82a8977016b58eb90a387585a7db73af16ef543cce0699adec09\n"
     ]
    },
    {
     "name": "stderr",
     "output_type": "stream",
     "text": [
      "could not detect version_main.therefore, we are assuming it is chrome 108 or higher\n"
     ]
    },
    {
     "name": "stdout",
     "output_type": "stream",
     "text": [
      "Saved to db successfully\n",
      "Done with link 3136: https://www.zoopla.co.uk/for-sale/details/63819665/?search_identifier=66601a84ccea82a8977016b58eb90a387585a7db73af16ef543cce0699adec09\n",
      "Starting extraction for link 3137: https://www.zoopla.co.uk/for-sale/details/63805693/?search_identifier=66601a84ccea82a8977016b58eb90a387585a7db73af16ef543cce0699adec09\n"
     ]
    },
    {
     "name": "stderr",
     "output_type": "stream",
     "text": [
      "could not detect version_main.therefore, we are assuming it is chrome 108 or higher\n"
     ]
    },
    {
     "name": "stdout",
     "output_type": "stream",
     "text": [
      "Saved to db successfully\n",
      "Done with link 3137: https://www.zoopla.co.uk/for-sale/details/63805693/?search_identifier=66601a84ccea82a8977016b58eb90a387585a7db73af16ef543cce0699adec09\n",
      "Starting extraction for link 3138: https://www.zoopla.co.uk/for-sale/details/63626556/?search_identifier=66601a84ccea82a8977016b58eb90a387585a7db73af16ef543cce0699adec09\n"
     ]
    },
    {
     "name": "stderr",
     "output_type": "stream",
     "text": [
      "could not detect version_main.therefore, we are assuming it is chrome 108 or higher\n"
     ]
    },
    {
     "name": "stdout",
     "output_type": "stream",
     "text": [
      "Saved to db successfully\n",
      "Done with link 3138: https://www.zoopla.co.uk/for-sale/details/63626556/?search_identifier=66601a84ccea82a8977016b58eb90a387585a7db73af16ef543cce0699adec09\n",
      "Starting extraction for link 3139: https://www.zoopla.co.uk/for-sale/details/63563154/?search_identifier=66601a84ccea82a8977016b58eb90a387585a7db73af16ef543cce0699adec09\n"
     ]
    },
    {
     "name": "stderr",
     "output_type": "stream",
     "text": [
      "could not detect version_main.therefore, we are assuming it is chrome 108 or higher\n"
     ]
    },
    {
     "name": "stdout",
     "output_type": "stream",
     "text": [
      "Saved to db successfully\n",
      "Done with link 3139: https://www.zoopla.co.uk/for-sale/details/63563154/?search_identifier=66601a84ccea82a8977016b58eb90a387585a7db73af16ef543cce0699adec09\n",
      "Starting extraction for link 3140: https://www.zoopla.co.uk/for-sale/details/63420528/?search_identifier=c69ada87b1a9b58c3110f05b5f52d7030fdd3c88258c597bec484f8e957aa825\n"
     ]
    },
    {
     "name": "stderr",
     "output_type": "stream",
     "text": [
      "could not detect version_main.therefore, we are assuming it is chrome 108 or higher\n"
     ]
    },
    {
     "name": "stdout",
     "output_type": "stream",
     "text": [
      "Saved to db successfully\n",
      "Done with link 3140: https://www.zoopla.co.uk/for-sale/details/63420528/?search_identifier=c69ada87b1a9b58c3110f05b5f52d7030fdd3c88258c597bec484f8e957aa825\n",
      "Starting extraction for link 3141: https://www.zoopla.co.uk/for-sale/details/62882154/?search_identifier=c69ada87b1a9b58c3110f05b5f52d7030fdd3c88258c597bec484f8e957aa825\n"
     ]
    },
    {
     "name": "stderr",
     "output_type": "stream",
     "text": [
      "could not detect version_main.therefore, we are assuming it is chrome 108 or higher\n"
     ]
    },
    {
     "name": "stdout",
     "output_type": "stream",
     "text": [
      "Saved to db successfully\n",
      "Done with link 3141: https://www.zoopla.co.uk/for-sale/details/62882154/?search_identifier=c69ada87b1a9b58c3110f05b5f52d7030fdd3c88258c597bec484f8e957aa825\n",
      "Starting extraction for link 3142: https://www.zoopla.co.uk/for-sale/details/62739021/?search_identifier=c69ada87b1a9b58c3110f05b5f52d7030fdd3c88258c597bec484f8e957aa825\n"
     ]
    },
    {
     "name": "stderr",
     "output_type": "stream",
     "text": [
      "could not detect version_main.therefore, we are assuming it is chrome 108 or higher\n"
     ]
    },
    {
     "name": "stdout",
     "output_type": "stream",
     "text": [
      "Saved to db successfully\n",
      "Done with link 3142: https://www.zoopla.co.uk/for-sale/details/62739021/?search_identifier=c69ada87b1a9b58c3110f05b5f52d7030fdd3c88258c597bec484f8e957aa825\n",
      "Starting extraction for link 3143: https://www.zoopla.co.uk/for-sale/details/62729270/?search_identifier=c69ada87b1a9b58c3110f05b5f52d7030fdd3c88258c597bec484f8e957aa825\n"
     ]
    },
    {
     "name": "stderr",
     "output_type": "stream",
     "text": [
      "could not detect version_main.therefore, we are assuming it is chrome 108 or higher\n"
     ]
    },
    {
     "name": "stdout",
     "output_type": "stream",
     "text": [
      "Saved to db successfully\n",
      "Done with link 3143: https://www.zoopla.co.uk/for-sale/details/62729270/?search_identifier=c69ada87b1a9b58c3110f05b5f52d7030fdd3c88258c597bec484f8e957aa825\n",
      "Starting extraction for link 3144: https://www.zoopla.co.uk/for-sale/details/62612605/?search_identifier=c69ada87b1a9b58c3110f05b5f52d7030fdd3c88258c597bec484f8e957aa825\n"
     ]
    },
    {
     "name": "stderr",
     "output_type": "stream",
     "text": [
      "could not detect version_main.therefore, we are assuming it is chrome 108 or higher\n"
     ]
    },
    {
     "name": "stdout",
     "output_type": "stream",
     "text": [
      "Saved to db successfully\n",
      "Done with link 3144: https://www.zoopla.co.uk/for-sale/details/62612605/?search_identifier=c69ada87b1a9b58c3110f05b5f52d7030fdd3c88258c597bec484f8e957aa825\n",
      "Starting extraction for link 3145: https://www.zoopla.co.uk/for-sale/details/62444994/?search_identifier=c69ada87b1a9b58c3110f05b5f52d7030fdd3c88258c597bec484f8e957aa825\n"
     ]
    },
    {
     "name": "stderr",
     "output_type": "stream",
     "text": [
      "could not detect version_main.therefore, we are assuming it is chrome 108 or higher\n"
     ]
    },
    {
     "name": "stdout",
     "output_type": "stream",
     "text": [
      "Saved to db successfully\n",
      "Done with link 3145: https://www.zoopla.co.uk/for-sale/details/62444994/?search_identifier=c69ada87b1a9b58c3110f05b5f52d7030fdd3c88258c597bec484f8e957aa825\n",
      "Starting extraction for link 3146: https://www.zoopla.co.uk/for-sale/details/62317294/?search_identifier=c69ada87b1a9b58c3110f05b5f52d7030fdd3c88258c597bec484f8e957aa825\n"
     ]
    },
    {
     "name": "stderr",
     "output_type": "stream",
     "text": [
      "could not detect version_main.therefore, we are assuming it is chrome 108 or higher\n"
     ]
    },
    {
     "name": "stdout",
     "output_type": "stream",
     "text": [
      "Saved to db successfully\n",
      "Done with link 3146: https://www.zoopla.co.uk/for-sale/details/62317294/?search_identifier=c69ada87b1a9b58c3110f05b5f52d7030fdd3c88258c597bec484f8e957aa825\n",
      "Starting extraction for link 3147: https://www.zoopla.co.uk/for-sale/details/62154757/?search_identifier=c69ada87b1a9b58c3110f05b5f52d7030fdd3c88258c597bec484f8e957aa825\n"
     ]
    },
    {
     "name": "stderr",
     "output_type": "stream",
     "text": [
      "could not detect version_main.therefore, we are assuming it is chrome 108 or higher\n"
     ]
    },
    {
     "name": "stdout",
     "output_type": "stream",
     "text": [
      "Saved to db successfully\n",
      "Done with link 3147: https://www.zoopla.co.uk/for-sale/details/62154757/?search_identifier=c69ada87b1a9b58c3110f05b5f52d7030fdd3c88258c597bec484f8e957aa825\n",
      "Starting extraction for link 3148: https://www.zoopla.co.uk/for-sale/details/61569447/?search_identifier=c69ada87b1a9b58c3110f05b5f52d7030fdd3c88258c597bec484f8e957aa825\n"
     ]
    },
    {
     "name": "stderr",
     "output_type": "stream",
     "text": [
      "could not detect version_main.therefore, we are assuming it is chrome 108 or higher\n"
     ]
    },
    {
     "name": "stdout",
     "output_type": "stream",
     "text": [
      "Saved to db successfully\n",
      "Done with link 3148: https://www.zoopla.co.uk/for-sale/details/61569447/?search_identifier=c69ada87b1a9b58c3110f05b5f52d7030fdd3c88258c597bec484f8e957aa825\n",
      "Starting extraction for link 3149: https://www.zoopla.co.uk/for-sale/details/61544195/?search_identifier=c69ada87b1a9b58c3110f05b5f52d7030fdd3c88258c597bec484f8e957aa825\n"
     ]
    },
    {
     "name": "stderr",
     "output_type": "stream",
     "text": [
      "could not detect version_main.therefore, we are assuming it is chrome 108 or higher\n"
     ]
    },
    {
     "name": "stdout",
     "output_type": "stream",
     "text": [
      "Saved to db successfully\n",
      "Done with link 3149: https://www.zoopla.co.uk/for-sale/details/61544195/?search_identifier=c69ada87b1a9b58c3110f05b5f52d7030fdd3c88258c597bec484f8e957aa825\n",
      "Starting extraction for link 3150: https://www.zoopla.co.uk/for-sale/details/60626214/?search_identifier=c69ada87b1a9b58c3110f05b5f52d7030fdd3c88258c597bec484f8e957aa825\n"
     ]
    },
    {
     "name": "stderr",
     "output_type": "stream",
     "text": [
      "could not detect version_main.therefore, we are assuming it is chrome 108 or higher\n"
     ]
    },
    {
     "name": "stdout",
     "output_type": "stream",
     "text": [
      "Saved to db successfully\n",
      "Done with link 3150: https://www.zoopla.co.uk/for-sale/details/60626214/?search_identifier=c69ada87b1a9b58c3110f05b5f52d7030fdd3c88258c597bec484f8e957aa825\n",
      "Starting extraction for link 3151: https://www.zoopla.co.uk/for-sale/details/65201644/?search_identifier=8d0a6b2589543ee4528dff5b78a9eba62e9e9881e17afaf9ec195ede5d5eae60\n"
     ]
    },
    {
     "name": "stderr",
     "output_type": "stream",
     "text": [
      "could not detect version_main.therefore, we are assuming it is chrome 108 or higher\n"
     ]
    },
    {
     "name": "stdout",
     "output_type": "stream",
     "text": [
      "Saved to db successfully\n",
      "Done with link 3151: https://www.zoopla.co.uk/for-sale/details/65201644/?search_identifier=8d0a6b2589543ee4528dff5b78a9eba62e9e9881e17afaf9ec195ede5d5eae60\n",
      "Starting extraction for link 3152: https://www.zoopla.co.uk/for-sale/details/65206000/?search_identifier=8d0a6b2589543ee4528dff5b78a9eba62e9e9881e17afaf9ec195ede5d5eae60\n"
     ]
    },
    {
     "name": "stderr",
     "output_type": "stream",
     "text": [
      "could not detect version_main.therefore, we are assuming it is chrome 108 or higher\n"
     ]
    },
    {
     "name": "stdout",
     "output_type": "stream",
     "text": [
      "Saved to db successfully\n",
      "Done with link 3152: https://www.zoopla.co.uk/for-sale/details/65206000/?search_identifier=8d0a6b2589543ee4528dff5b78a9eba62e9e9881e17afaf9ec195ede5d5eae60\n",
      "Starting extraction for link 3153: https://www.zoopla.co.uk/for-sale/details/65200127/?search_identifier=8d0a6b2589543ee4528dff5b78a9eba62e9e9881e17afaf9ec195ede5d5eae60\n"
     ]
    },
    {
     "name": "stderr",
     "output_type": "stream",
     "text": [
      "could not detect version_main.therefore, we are assuming it is chrome 108 or higher\n"
     ]
    },
    {
     "name": "stdout",
     "output_type": "stream",
     "text": [
      "Saved to db successfully\n",
      "Done with link 3153: https://www.zoopla.co.uk/for-sale/details/65200127/?search_identifier=8d0a6b2589543ee4528dff5b78a9eba62e9e9881e17afaf9ec195ede5d5eae60\n",
      "Starting extraction for link 3154: https://www.zoopla.co.uk/for-sale/details/65182595/?search_identifier=8d0a6b2589543ee4528dff5b78a9eba62e9e9881e17afaf9ec195ede5d5eae60\n"
     ]
    },
    {
     "name": "stderr",
     "output_type": "stream",
     "text": [
      "could not detect version_main.therefore, we are assuming it is chrome 108 or higher\n"
     ]
    },
    {
     "name": "stdout",
     "output_type": "stream",
     "text": [
      "Saved to db successfully\n",
      "Done with link 3154: https://www.zoopla.co.uk/for-sale/details/65182595/?search_identifier=8d0a6b2589543ee4528dff5b78a9eba62e9e9881e17afaf9ec195ede5d5eae60\n",
      "Starting extraction for link 3155: https://www.zoopla.co.uk/for-sale/details/65182436/?search_identifier=8d0a6b2589543ee4528dff5b78a9eba62e9e9881e17afaf9ec195ede5d5eae60\n"
     ]
    },
    {
     "name": "stderr",
     "output_type": "stream",
     "text": [
      "could not detect version_main.therefore, we are assuming it is chrome 108 or higher\n"
     ]
    },
    {
     "name": "stdout",
     "output_type": "stream",
     "text": [
      "Saved to db successfully\n",
      "Done with link 3155: https://www.zoopla.co.uk/for-sale/details/65182436/?search_identifier=8d0a6b2589543ee4528dff5b78a9eba62e9e9881e17afaf9ec195ede5d5eae60\n",
      "Starting extraction for link 3156: https://www.zoopla.co.uk/for-sale/details/65170095/?search_identifier=8d0a6b2589543ee4528dff5b78a9eba62e9e9881e17afaf9ec195ede5d5eae60\n"
     ]
    },
    {
     "name": "stderr",
     "output_type": "stream",
     "text": [
      "could not detect version_main.therefore, we are assuming it is chrome 108 or higher\n"
     ]
    },
    {
     "name": "stdout",
     "output_type": "stream",
     "text": [
      "Saved to db successfully\n",
      "Done with link 3156: https://www.zoopla.co.uk/for-sale/details/65170095/?search_identifier=8d0a6b2589543ee4528dff5b78a9eba62e9e9881e17afaf9ec195ede5d5eae60\n",
      "Starting extraction for link 3157: https://www.zoopla.co.uk/for-sale/details/65169073/?search_identifier=8d0a6b2589543ee4528dff5b78a9eba62e9e9881e17afaf9ec195ede5d5eae60\n"
     ]
    },
    {
     "name": "stderr",
     "output_type": "stream",
     "text": [
      "could not detect version_main.therefore, we are assuming it is chrome 108 or higher\n"
     ]
    },
    {
     "name": "stdout",
     "output_type": "stream",
     "text": [
      "Saved to db successfully\n",
      "Done with link 3157: https://www.zoopla.co.uk/for-sale/details/65169073/?search_identifier=8d0a6b2589543ee4528dff5b78a9eba62e9e9881e17afaf9ec195ede5d5eae60\n",
      "Starting extraction for link 3158: https://www.zoopla.co.uk/for-sale/details/65169075/?search_identifier=8d0a6b2589543ee4528dff5b78a9eba62e9e9881e17afaf9ec195ede5d5eae60\n"
     ]
    },
    {
     "name": "stderr",
     "output_type": "stream",
     "text": [
      "could not detect version_main.therefore, we are assuming it is chrome 108 or higher\n"
     ]
    },
    {
     "name": "stdout",
     "output_type": "stream",
     "text": [
      "Saved to db successfully\n",
      "Done with link 3158: https://www.zoopla.co.uk/for-sale/details/65169075/?search_identifier=8d0a6b2589543ee4528dff5b78a9eba62e9e9881e17afaf9ec195ede5d5eae60\n",
      "Starting extraction for link 3159: https://www.zoopla.co.uk/for-sale/details/65164242/?search_identifier=8d0a6b2589543ee4528dff5b78a9eba62e9e9881e17afaf9ec195ede5d5eae60\n"
     ]
    },
    {
     "name": "stderr",
     "output_type": "stream",
     "text": [
      "could not detect version_main.therefore, we are assuming it is chrome 108 or higher\n"
     ]
    },
    {
     "name": "stdout",
     "output_type": "stream",
     "text": [
      "Saved to db successfully\n",
      "Done with link 3159: https://www.zoopla.co.uk/for-sale/details/65164242/?search_identifier=8d0a6b2589543ee4528dff5b78a9eba62e9e9881e17afaf9ec195ede5d5eae60\n",
      "Starting extraction for link 3160: https://www.zoopla.co.uk/for-sale/details/65162880/?search_identifier=8d0a6b2589543ee4528dff5b78a9eba62e9e9881e17afaf9ec195ede5d5eae60\n"
     ]
    },
    {
     "name": "stderr",
     "output_type": "stream",
     "text": [
      "could not detect version_main.therefore, we are assuming it is chrome 108 or higher\n"
     ]
    },
    {
     "name": "stdout",
     "output_type": "stream",
     "text": [
      "Saved to db successfully\n",
      "Done with link 3160: https://www.zoopla.co.uk/for-sale/details/65162880/?search_identifier=8d0a6b2589543ee4528dff5b78a9eba62e9e9881e17afaf9ec195ede5d5eae60\n",
      "Starting extraction for link 3161: https://www.zoopla.co.uk/for-sale/details/65162658/?search_identifier=8d0a6b2589543ee4528dff5b78a9eba62e9e9881e17afaf9ec195ede5d5eae60\n"
     ]
    },
    {
     "name": "stderr",
     "output_type": "stream",
     "text": [
      "could not detect version_main.therefore, we are assuming it is chrome 108 or higher\n"
     ]
    },
    {
     "name": "stdout",
     "output_type": "stream",
     "text": [
      "Saved to db successfully\n",
      "Done with link 3161: https://www.zoopla.co.uk/for-sale/details/65162658/?search_identifier=8d0a6b2589543ee4528dff5b78a9eba62e9e9881e17afaf9ec195ede5d5eae60\n",
      "Starting extraction for link 3162: https://www.zoopla.co.uk/for-sale/details/65161116/?search_identifier=8d0a6b2589543ee4528dff5b78a9eba62e9e9881e17afaf9ec195ede5d5eae60\n"
     ]
    },
    {
     "name": "stderr",
     "output_type": "stream",
     "text": [
      "could not detect version_main.therefore, we are assuming it is chrome 108 or higher\n"
     ]
    },
    {
     "name": "stdout",
     "output_type": "stream",
     "text": [
      "Saved to db successfully\n",
      "Done with link 3162: https://www.zoopla.co.uk/for-sale/details/65161116/?search_identifier=8d0a6b2589543ee4528dff5b78a9eba62e9e9881e17afaf9ec195ede5d5eae60\n",
      "Starting extraction for link 3163: https://www.zoopla.co.uk/for-sale/details/65154313/?search_identifier=8d0a6b2589543ee4528dff5b78a9eba62e9e9881e17afaf9ec195ede5d5eae60\n"
     ]
    },
    {
     "name": "stderr",
     "output_type": "stream",
     "text": [
      "could not detect version_main.therefore, we are assuming it is chrome 108 or higher\n"
     ]
    },
    {
     "name": "stdout",
     "output_type": "stream",
     "text": [
      "Saved to db successfully\n",
      "Done with link 3163: https://www.zoopla.co.uk/for-sale/details/65154313/?search_identifier=8d0a6b2589543ee4528dff5b78a9eba62e9e9881e17afaf9ec195ede5d5eae60\n",
      "Starting extraction for link 3164: https://www.zoopla.co.uk/for-sale/details/65144307/?search_identifier=8d0a6b2589543ee4528dff5b78a9eba62e9e9881e17afaf9ec195ede5d5eae60\n"
     ]
    },
    {
     "name": "stderr",
     "output_type": "stream",
     "text": [
      "could not detect version_main.therefore, we are assuming it is chrome 108 or higher\n"
     ]
    },
    {
     "name": "stdout",
     "output_type": "stream",
     "text": [
      "Saved to db successfully\n",
      "Done with link 3164: https://www.zoopla.co.uk/for-sale/details/65144307/?search_identifier=8d0a6b2589543ee4528dff5b78a9eba62e9e9881e17afaf9ec195ede5d5eae60\n",
      "Starting extraction for link 3165: https://www.zoopla.co.uk/for-sale/details/65144181/?search_identifier=8d0a6b2589543ee4528dff5b78a9eba62e9e9881e17afaf9ec195ede5d5eae60\n"
     ]
    },
    {
     "name": "stderr",
     "output_type": "stream",
     "text": [
      "could not detect version_main.therefore, we are assuming it is chrome 108 or higher\n"
     ]
    },
    {
     "name": "stdout",
     "output_type": "stream",
     "text": [
      "Saved to db successfully\n",
      "Done with link 3165: https://www.zoopla.co.uk/for-sale/details/65144181/?search_identifier=8d0a6b2589543ee4528dff5b78a9eba62e9e9881e17afaf9ec195ede5d5eae60\n",
      "Starting extraction for link 3166: https://www.zoopla.co.uk/for-sale/details/65144050/?search_identifier=8d0a6b2589543ee4528dff5b78a9eba62e9e9881e17afaf9ec195ede5d5eae60\n"
     ]
    },
    {
     "name": "stderr",
     "output_type": "stream",
     "text": [
      "could not detect version_main.therefore, we are assuming it is chrome 108 or higher\n"
     ]
    },
    {
     "name": "stdout",
     "output_type": "stream",
     "text": [
      "Saved to db successfully\n",
      "Done with link 3166: https://www.zoopla.co.uk/for-sale/details/65144050/?search_identifier=8d0a6b2589543ee4528dff5b78a9eba62e9e9881e17afaf9ec195ede5d5eae60\n",
      "Starting extraction for link 3167: https://www.zoopla.co.uk/for-sale/details/65143926/?search_identifier=8d0a6b2589543ee4528dff5b78a9eba62e9e9881e17afaf9ec195ede5d5eae60\n"
     ]
    },
    {
     "name": "stderr",
     "output_type": "stream",
     "text": [
      "could not detect version_main.therefore, we are assuming it is chrome 108 or higher\n"
     ]
    },
    {
     "name": "stdout",
     "output_type": "stream",
     "text": [
      "Saved to db successfully\n",
      "Done with link 3167: https://www.zoopla.co.uk/for-sale/details/65143926/?search_identifier=8d0a6b2589543ee4528dff5b78a9eba62e9e9881e17afaf9ec195ede5d5eae60\n",
      "Starting extraction for link 3168: https://www.zoopla.co.uk/for-sale/details/65138548/?search_identifier=8d0a6b2589543ee4528dff5b78a9eba62e9e9881e17afaf9ec195ede5d5eae60\n"
     ]
    },
    {
     "name": "stderr",
     "output_type": "stream",
     "text": [
      "could not detect version_main.therefore, we are assuming it is chrome 108 or higher\n"
     ]
    },
    {
     "name": "stdout",
     "output_type": "stream",
     "text": [
      "Saved to db successfully\n",
      "Done with link 3168: https://www.zoopla.co.uk/for-sale/details/65138548/?search_identifier=8d0a6b2589543ee4528dff5b78a9eba62e9e9881e17afaf9ec195ede5d5eae60\n",
      "Starting extraction for link 3169: https://www.zoopla.co.uk/for-sale/details/65127705/?search_identifier=8d0a6b2589543ee4528dff5b78a9eba62e9e9881e17afaf9ec195ede5d5eae60\n"
     ]
    },
    {
     "name": "stderr",
     "output_type": "stream",
     "text": [
      "could not detect version_main.therefore, we are assuming it is chrome 108 or higher\n"
     ]
    },
    {
     "name": "stdout",
     "output_type": "stream",
     "text": [
      "Saved to db successfully\n",
      "Done with link 3169: https://www.zoopla.co.uk/for-sale/details/65127705/?search_identifier=8d0a6b2589543ee4528dff5b78a9eba62e9e9881e17afaf9ec195ede5d5eae60\n",
      "Starting extraction for link 3170: https://www.zoopla.co.uk/for-sale/details/65120672/?search_identifier=8d0a6b2589543ee4528dff5b78a9eba62e9e9881e17afaf9ec195ede5d5eae60\n"
     ]
    },
    {
     "name": "stderr",
     "output_type": "stream",
     "text": [
      "could not detect version_main.therefore, we are assuming it is chrome 108 or higher\n"
     ]
    },
    {
     "name": "stdout",
     "output_type": "stream",
     "text": [
      "Saved to db successfully\n",
      "Done with link 3170: https://www.zoopla.co.uk/for-sale/details/65120672/?search_identifier=8d0a6b2589543ee4528dff5b78a9eba62e9e9881e17afaf9ec195ede5d5eae60\n",
      "Starting extraction for link 3171: https://www.zoopla.co.uk/for-sale/details/65117168/?search_identifier=8d0a6b2589543ee4528dff5b78a9eba62e9e9881e17afaf9ec195ede5d5eae60\n"
     ]
    },
    {
     "name": "stderr",
     "output_type": "stream",
     "text": [
      "could not detect version_main.therefore, we are assuming it is chrome 108 or higher\n"
     ]
    },
    {
     "name": "stdout",
     "output_type": "stream",
     "text": [
      "Saved to db successfully\n",
      "Done with link 3171: https://www.zoopla.co.uk/for-sale/details/65117168/?search_identifier=8d0a6b2589543ee4528dff5b78a9eba62e9e9881e17afaf9ec195ede5d5eae60\n",
      "Starting extraction for link 3172: https://www.zoopla.co.uk/for-sale/details/65116305/?search_identifier=8d0a6b2589543ee4528dff5b78a9eba62e9e9881e17afaf9ec195ede5d5eae60\n"
     ]
    },
    {
     "name": "stderr",
     "output_type": "stream",
     "text": [
      "could not detect version_main.therefore, we are assuming it is chrome 108 or higher\n"
     ]
    },
    {
     "name": "stdout",
     "output_type": "stream",
     "text": [
      "Saved to db successfully\n",
      "Done with link 3172: https://www.zoopla.co.uk/for-sale/details/65116305/?search_identifier=8d0a6b2589543ee4528dff5b78a9eba62e9e9881e17afaf9ec195ede5d5eae60\n",
      "Starting extraction for link 3173: https://www.zoopla.co.uk/for-sale/details/65113775/?search_identifier=8d0a6b2589543ee4528dff5b78a9eba62e9e9881e17afaf9ec195ede5d5eae60\n"
     ]
    },
    {
     "name": "stderr",
     "output_type": "stream",
     "text": [
      "could not detect version_main.therefore, we are assuming it is chrome 108 or higher\n"
     ]
    },
    {
     "name": "stdout",
     "output_type": "stream",
     "text": [
      "Saved to db successfully\n",
      "Done with link 3173: https://www.zoopla.co.uk/for-sale/details/65113775/?search_identifier=8d0a6b2589543ee4528dff5b78a9eba62e9e9881e17afaf9ec195ede5d5eae60\n",
      "Starting extraction for link 3174: https://www.zoopla.co.uk/for-sale/details/65113762/?search_identifier=8d0a6b2589543ee4528dff5b78a9eba62e9e9881e17afaf9ec195ede5d5eae60\n"
     ]
    },
    {
     "name": "stderr",
     "output_type": "stream",
     "text": [
      "could not detect version_main.therefore, we are assuming it is chrome 108 or higher\n"
     ]
    },
    {
     "name": "stdout",
     "output_type": "stream",
     "text": [
      "Saved to db successfully\n",
      "Done with link 3174: https://www.zoopla.co.uk/for-sale/details/65113762/?search_identifier=8d0a6b2589543ee4528dff5b78a9eba62e9e9881e17afaf9ec195ede5d5eae60\n",
      "Starting extraction for link 3175: https://www.zoopla.co.uk/for-sale/details/65091124/?search_identifier=8d0a6b2589543ee4528dff5b78a9eba62e9e9881e17afaf9ec195ede5d5eae60\n"
     ]
    },
    {
     "name": "stderr",
     "output_type": "stream",
     "text": [
      "could not detect version_main.therefore, we are assuming it is chrome 108 or higher\n"
     ]
    },
    {
     "name": "stdout",
     "output_type": "stream",
     "text": [
      "Saved to db successfully\n",
      "Done with link 3175: https://www.zoopla.co.uk/for-sale/details/65091124/?search_identifier=8d0a6b2589543ee4528dff5b78a9eba62e9e9881e17afaf9ec195ede5d5eae60\n",
      "Starting extraction for link 3176: https://www.zoopla.co.uk/for-sale/details/65088550/?search_identifier=3a622a86dc68f04e9b59f9ce2c6252a5d6443a165a768c41a5add290a45f6777\n"
     ]
    },
    {
     "name": "stderr",
     "output_type": "stream",
     "text": [
      "could not detect version_main.therefore, we are assuming it is chrome 108 or higher\n"
     ]
    },
    {
     "name": "stdout",
     "output_type": "stream",
     "text": [
      "Saved to db successfully\n",
      "Done with link 3176: https://www.zoopla.co.uk/for-sale/details/65088550/?search_identifier=3a622a86dc68f04e9b59f9ce2c6252a5d6443a165a768c41a5add290a45f6777\n",
      "Starting extraction for link 3177: https://www.zoopla.co.uk/for-sale/details/65079177/?search_identifier=3a622a86dc68f04e9b59f9ce2c6252a5d6443a165a768c41a5add290a45f6777\n"
     ]
    },
    {
     "name": "stderr",
     "output_type": "stream",
     "text": [
      "could not detect version_main.therefore, we are assuming it is chrome 108 or higher\n"
     ]
    },
    {
     "name": "stdout",
     "output_type": "stream",
     "text": [
      "Saved to db successfully\n",
      "Done with link 3177: https://www.zoopla.co.uk/for-sale/details/65079177/?search_identifier=3a622a86dc68f04e9b59f9ce2c6252a5d6443a165a768c41a5add290a45f6777\n",
      "Starting extraction for link 3178: https://www.zoopla.co.uk/for-sale/details/65076967/?search_identifier=3a622a86dc68f04e9b59f9ce2c6252a5d6443a165a768c41a5add290a45f6777\n"
     ]
    },
    {
     "name": "stderr",
     "output_type": "stream",
     "text": [
      "could not detect version_main.therefore, we are assuming it is chrome 108 or higher\n"
     ]
    },
    {
     "name": "stdout",
     "output_type": "stream",
     "text": [
      "Saved to db successfully\n",
      "Done with link 3178: https://www.zoopla.co.uk/for-sale/details/65076967/?search_identifier=3a622a86dc68f04e9b59f9ce2c6252a5d6443a165a768c41a5add290a45f6777\n",
      "Starting extraction for link 3179: https://www.zoopla.co.uk/for-sale/details/65076795/?search_identifier=3a622a86dc68f04e9b59f9ce2c6252a5d6443a165a768c41a5add290a45f6777\n"
     ]
    },
    {
     "name": "stderr",
     "output_type": "stream",
     "text": [
      "could not detect version_main.therefore, we are assuming it is chrome 108 or higher\n"
     ]
    },
    {
     "name": "stdout",
     "output_type": "stream",
     "text": [
      "Saved to db successfully\n",
      "Done with link 3179: https://www.zoopla.co.uk/for-sale/details/65076795/?search_identifier=3a622a86dc68f04e9b59f9ce2c6252a5d6443a165a768c41a5add290a45f6777\n",
      "Starting extraction for link 3180: https://www.zoopla.co.uk/new-homes/details/65074349/?search_identifier=3a622a86dc68f04e9b59f9ce2c6252a5d6443a165a768c41a5add290a45f6777\n"
     ]
    },
    {
     "name": "stderr",
     "output_type": "stream",
     "text": [
      "could not detect version_main.therefore, we are assuming it is chrome 108 or higher\n"
     ]
    },
    {
     "name": "stdout",
     "output_type": "stream",
     "text": [
      "Saved to db successfully\n",
      "Done with link 3180: https://www.zoopla.co.uk/new-homes/details/65074349/?search_identifier=3a622a86dc68f04e9b59f9ce2c6252a5d6443a165a768c41a5add290a45f6777\n",
      "Starting extraction for link 3181: https://www.zoopla.co.uk/new-homes/details/65074306/?search_identifier=3a622a86dc68f04e9b59f9ce2c6252a5d6443a165a768c41a5add290a45f6777\n"
     ]
    },
    {
     "name": "stderr",
     "output_type": "stream",
     "text": [
      "could not detect version_main.therefore, we are assuming it is chrome 108 or higher\n"
     ]
    },
    {
     "name": "stdout",
     "output_type": "stream",
     "text": [
      "Saved to db successfully\n",
      "Done with link 3181: https://www.zoopla.co.uk/new-homes/details/65074306/?search_identifier=3a622a86dc68f04e9b59f9ce2c6252a5d6443a165a768c41a5add290a45f6777\n",
      "Starting extraction for link 3182: https://www.zoopla.co.uk/for-sale/details/65069949/?search_identifier=3a622a86dc68f04e9b59f9ce2c6252a5d6443a165a768c41a5add290a45f6777\n"
     ]
    },
    {
     "name": "stderr",
     "output_type": "stream",
     "text": [
      "could not detect version_main.therefore, we are assuming it is chrome 108 or higher\n"
     ]
    },
    {
     "name": "stdout",
     "output_type": "stream",
     "text": [
      "Saved to db successfully\n",
      "Done with link 3182: https://www.zoopla.co.uk/for-sale/details/65069949/?search_identifier=3a622a86dc68f04e9b59f9ce2c6252a5d6443a165a768c41a5add290a45f6777\n",
      "Starting extraction for link 3183: https://www.zoopla.co.uk/for-sale/details/65065758/?search_identifier=3a622a86dc68f04e9b59f9ce2c6252a5d6443a165a768c41a5add290a45f6777\n"
     ]
    },
    {
     "name": "stderr",
     "output_type": "stream",
     "text": [
      "could not detect version_main.therefore, we are assuming it is chrome 108 or higher\n"
     ]
    },
    {
     "name": "stdout",
     "output_type": "stream",
     "text": [
      "Saved to db successfully\n",
      "Done with link 3183: https://www.zoopla.co.uk/for-sale/details/65065758/?search_identifier=3a622a86dc68f04e9b59f9ce2c6252a5d6443a165a768c41a5add290a45f6777\n",
      "Starting extraction for link 3184: https://www.zoopla.co.uk/for-sale/details/65065038/?search_identifier=3a622a86dc68f04e9b59f9ce2c6252a5d6443a165a768c41a5add290a45f6777\n"
     ]
    },
    {
     "name": "stderr",
     "output_type": "stream",
     "text": [
      "could not detect version_main.therefore, we are assuming it is chrome 108 or higher\n"
     ]
    },
    {
     "name": "stdout",
     "output_type": "stream",
     "text": [
      "Saved to db successfully\n",
      "Done with link 3184: https://www.zoopla.co.uk/for-sale/details/65065038/?search_identifier=3a622a86dc68f04e9b59f9ce2c6252a5d6443a165a768c41a5add290a45f6777\n",
      "Starting extraction for link 3185: https://www.zoopla.co.uk/for-sale/details/65063561/?search_identifier=3a622a86dc68f04e9b59f9ce2c6252a5d6443a165a768c41a5add290a45f6777\n"
     ]
    },
    {
     "name": "stderr",
     "output_type": "stream",
     "text": [
      "could not detect version_main.therefore, we are assuming it is chrome 108 or higher\n"
     ]
    },
    {
     "name": "stdout",
     "output_type": "stream",
     "text": [
      "Saved to db successfully\n",
      "Done with link 3185: https://www.zoopla.co.uk/for-sale/details/65063561/?search_identifier=3a622a86dc68f04e9b59f9ce2c6252a5d6443a165a768c41a5add290a45f6777\n",
      "Starting extraction for link 3186: https://www.zoopla.co.uk/for-sale/details/65063373/?search_identifier=3a622a86dc68f04e9b59f9ce2c6252a5d6443a165a768c41a5add290a45f6777\n"
     ]
    },
    {
     "name": "stderr",
     "output_type": "stream",
     "text": [
      "could not detect version_main.therefore, we are assuming it is chrome 108 or higher\n"
     ]
    },
    {
     "name": "stdout",
     "output_type": "stream",
     "text": [
      "Saved to db successfully\n",
      "Done with link 3186: https://www.zoopla.co.uk/for-sale/details/65063373/?search_identifier=3a622a86dc68f04e9b59f9ce2c6252a5d6443a165a768c41a5add290a45f6777\n",
      "Starting extraction for link 3187: https://www.zoopla.co.uk/for-sale/details/65062835/?search_identifier=3a622a86dc68f04e9b59f9ce2c6252a5d6443a165a768c41a5add290a45f6777\n"
     ]
    },
    {
     "name": "stderr",
     "output_type": "stream",
     "text": [
      "could not detect version_main.therefore, we are assuming it is chrome 108 or higher\n"
     ]
    },
    {
     "name": "stdout",
     "output_type": "stream",
     "text": [
      "Saved to db successfully\n",
      "Done with link 3187: https://www.zoopla.co.uk/for-sale/details/65062835/?search_identifier=3a622a86dc68f04e9b59f9ce2c6252a5d6443a165a768c41a5add290a45f6777\n",
      "Starting extraction for link 3188: https://www.zoopla.co.uk/for-sale/details/65059060/?search_identifier=3a622a86dc68f04e9b59f9ce2c6252a5d6443a165a768c41a5add290a45f6777\n"
     ]
    },
    {
     "name": "stderr",
     "output_type": "stream",
     "text": [
      "could not detect version_main.therefore, we are assuming it is chrome 108 or higher\n"
     ]
    },
    {
     "name": "stdout",
     "output_type": "stream",
     "text": [
      "Saved to db successfully\n",
      "Done with link 3188: https://www.zoopla.co.uk/for-sale/details/65059060/?search_identifier=3a622a86dc68f04e9b59f9ce2c6252a5d6443a165a768c41a5add290a45f6777\n",
      "Starting extraction for link 3189: https://www.zoopla.co.uk/for-sale/details/65057340/?search_identifier=3a622a86dc68f04e9b59f9ce2c6252a5d6443a165a768c41a5add290a45f6777\n"
     ]
    },
    {
     "name": "stderr",
     "output_type": "stream",
     "text": [
      "could not detect version_main.therefore, we are assuming it is chrome 108 or higher\n"
     ]
    },
    {
     "name": "stdout",
     "output_type": "stream",
     "text": [
      "Saved to db successfully\n",
      "Done with link 3189: https://www.zoopla.co.uk/for-sale/details/65057340/?search_identifier=3a622a86dc68f04e9b59f9ce2c6252a5d6443a165a768c41a5add290a45f6777\n",
      "Starting extraction for link 3190: https://www.zoopla.co.uk/for-sale/details/65055298/?search_identifier=3a622a86dc68f04e9b59f9ce2c6252a5d6443a165a768c41a5add290a45f6777\n"
     ]
    },
    {
     "name": "stderr",
     "output_type": "stream",
     "text": [
      "could not detect version_main.therefore, we are assuming it is chrome 108 or higher\n"
     ]
    },
    {
     "name": "stdout",
     "output_type": "stream",
     "text": [
      "Saved to db successfully\n",
      "Done with link 3190: https://www.zoopla.co.uk/for-sale/details/65055298/?search_identifier=3a622a86dc68f04e9b59f9ce2c6252a5d6443a165a768c41a5add290a45f6777\n",
      "Starting extraction for link 3191: https://www.zoopla.co.uk/for-sale/details/65054669/?search_identifier=3a622a86dc68f04e9b59f9ce2c6252a5d6443a165a768c41a5add290a45f6777\n"
     ]
    },
    {
     "name": "stderr",
     "output_type": "stream",
     "text": [
      "could not detect version_main.therefore, we are assuming it is chrome 108 or higher\n"
     ]
    },
    {
     "name": "stdout",
     "output_type": "stream",
     "text": [
      "Saved to db successfully\n",
      "Done with link 3191: https://www.zoopla.co.uk/for-sale/details/65054669/?search_identifier=3a622a86dc68f04e9b59f9ce2c6252a5d6443a165a768c41a5add290a45f6777\n",
      "Starting extraction for link 3192: https://www.zoopla.co.uk/for-sale/details/65052967/?search_identifier=3a622a86dc68f04e9b59f9ce2c6252a5d6443a165a768c41a5add290a45f6777\n"
     ]
    },
    {
     "name": "stderr",
     "output_type": "stream",
     "text": [
      "could not detect version_main.therefore, we are assuming it is chrome 108 or higher\n"
     ]
    },
    {
     "name": "stdout",
     "output_type": "stream",
     "text": [
      "Saved to db successfully\n",
      "Done with link 3192: https://www.zoopla.co.uk/for-sale/details/65052967/?search_identifier=3a622a86dc68f04e9b59f9ce2c6252a5d6443a165a768c41a5add290a45f6777\n",
      "Starting extraction for link 3193: https://www.zoopla.co.uk/for-sale/details/65050139/?search_identifier=3a622a86dc68f04e9b59f9ce2c6252a5d6443a165a768c41a5add290a45f6777\n"
     ]
    },
    {
     "name": "stderr",
     "output_type": "stream",
     "text": [
      "could not detect version_main.therefore, we are assuming it is chrome 108 or higher\n"
     ]
    },
    {
     "name": "stdout",
     "output_type": "stream",
     "text": [
      "Saved to db successfully\n",
      "Done with link 3193: https://www.zoopla.co.uk/for-sale/details/65050139/?search_identifier=3a622a86dc68f04e9b59f9ce2c6252a5d6443a165a768c41a5add290a45f6777\n",
      "Starting extraction for link 3194: https://www.zoopla.co.uk/for-sale/details/65041344/?search_identifier=3a622a86dc68f04e9b59f9ce2c6252a5d6443a165a768c41a5add290a45f6777\n"
     ]
    },
    {
     "name": "stderr",
     "output_type": "stream",
     "text": [
      "could not detect version_main.therefore, we are assuming it is chrome 108 or higher\n"
     ]
    },
    {
     "name": "stdout",
     "output_type": "stream",
     "text": [
      "Saved to db successfully\n",
      "Done with link 3194: https://www.zoopla.co.uk/for-sale/details/65041344/?search_identifier=3a622a86dc68f04e9b59f9ce2c6252a5d6443a165a768c41a5add290a45f6777\n",
      "Starting extraction for link 3195: https://www.zoopla.co.uk/for-sale/details/65040279/?search_identifier=3a622a86dc68f04e9b59f9ce2c6252a5d6443a165a768c41a5add290a45f6777\n"
     ]
    },
    {
     "name": "stderr",
     "output_type": "stream",
     "text": [
      "could not detect version_main.therefore, we are assuming it is chrome 108 or higher\n"
     ]
    },
    {
     "name": "stdout",
     "output_type": "stream",
     "text": [
      "Saved to db successfully\n",
      "Done with link 3195: https://www.zoopla.co.uk/for-sale/details/65040279/?search_identifier=3a622a86dc68f04e9b59f9ce2c6252a5d6443a165a768c41a5add290a45f6777\n",
      "Starting extraction for link 3196: https://www.zoopla.co.uk/for-sale/details/65039980/?search_identifier=3a622a86dc68f04e9b59f9ce2c6252a5d6443a165a768c41a5add290a45f6777\n"
     ]
    },
    {
     "name": "stderr",
     "output_type": "stream",
     "text": [
      "could not detect version_main.therefore, we are assuming it is chrome 108 or higher\n"
     ]
    },
    {
     "name": "stdout",
     "output_type": "stream",
     "text": [
      "Saved to db successfully\n",
      "Done with link 3196: https://www.zoopla.co.uk/for-sale/details/65039980/?search_identifier=3a622a86dc68f04e9b59f9ce2c6252a5d6443a165a768c41a5add290a45f6777\n",
      "Starting extraction for link 3197: https://www.zoopla.co.uk/for-sale/details/65038665/?search_identifier=3a622a86dc68f04e9b59f9ce2c6252a5d6443a165a768c41a5add290a45f6777\n"
     ]
    },
    {
     "name": "stderr",
     "output_type": "stream",
     "text": [
      "could not detect version_main.therefore, we are assuming it is chrome 108 or higher\n"
     ]
    },
    {
     "name": "stdout",
     "output_type": "stream",
     "text": [
      "Saved to db successfully\n",
      "Done with link 3197: https://www.zoopla.co.uk/for-sale/details/65038665/?search_identifier=3a622a86dc68f04e9b59f9ce2c6252a5d6443a165a768c41a5add290a45f6777\n",
      "Starting extraction for link 3198: https://www.zoopla.co.uk/for-sale/details/65038667/?search_identifier=3a622a86dc68f04e9b59f9ce2c6252a5d6443a165a768c41a5add290a45f6777\n"
     ]
    },
    {
     "name": "stderr",
     "output_type": "stream",
     "text": [
      "could not detect version_main.therefore, we are assuming it is chrome 108 or higher\n"
     ]
    },
    {
     "name": "stdout",
     "output_type": "stream",
     "text": [
      "Saved to db successfully\n",
      "Done with link 3198: https://www.zoopla.co.uk/for-sale/details/65038667/?search_identifier=3a622a86dc68f04e9b59f9ce2c6252a5d6443a165a768c41a5add290a45f6777\n",
      "Starting extraction for link 3199: https://www.zoopla.co.uk/for-sale/details/65035767/?search_identifier=3a622a86dc68f04e9b59f9ce2c6252a5d6443a165a768c41a5add290a45f6777\n",
      "An error occurred for link in get_data_func: https://www.zoopla.co.uk/for-sale/details/65035767/?search_identifier=3a622a86dc68f04e9b59f9ce2c6252a5d6443a165a768c41a5add290a45f6777: Message: no such element: Unable to locate element: {\"method\":\"xpath\",\"selector\":\"//p[@data-testid=\"price\"]\"}\n",
      "  (Session info: chrome=115.0.5790.110); For documentation on this error, please visit: https://www.selenium.dev/documentation/webdriver/troubleshooting/errors#no-such-element-exception\n",
      "Stacktrace:\n",
      "Backtrace:\n",
      "\tGetHandleVerifier [0x00E2A813+48355]\n",
      "\t(No symbol) [0x00DBC4B1]\n",
      "\t(No symbol) [0x00CC5358]\n",
      "\t(No symbol) [0x00CF09A5]\n",
      "\t(No symbol) [0x00CF0B3B]\n",
      "\t(No symbol) [0x00D1E232]\n",
      "\t(No symbol) [0x00D0A784]\n",
      "\t(No symbol) [0x00D1C922]\n",
      "\t(No symbol) [0x00D0A536]\n",
      "\t(No symbol) [0x00CE82DC]\n",
      "\t(No symbol) [0x00CE93DD]\n",
      "\tGetHandleVerifier [0x0108AABD+2539405]\n",
      "\tGetHandleVerifier [0x010CA78F+2800735]\n",
      "\tGetHandleVerifier [0x010C456C+2775612]\n",
      "\tGetHandleVerifier [0x00EB51E0+616112]\n",
      "\t(No symbol) [0x00DC5F8C]\n",
      "\t(No symbol) [0x00DC2328]\n",
      "\t(No symbol) [0x00DC240B]\n",
      "\t(No symbol) [0x00DB4FF7]\n",
      "\tBaseThreadInitThunk [0x76A57D59+25]\n",
      "\tRtlInitializeExceptionChain [0x7773B79B+107]\n",
      "\tRtlClearBits [0x7773B71F+191]\n",
      "\n"
     ]
    },
    {
     "name": "stderr",
     "output_type": "stream",
     "text": [
      "could not detect version_main.therefore, we are assuming it is chrome 108 or higher\n"
     ]
    },
    {
     "name": "stdout",
     "output_type": "stream",
     "text": [
      "Saved to db successfully\n",
      "Done with link 3199: https://www.zoopla.co.uk/for-sale/details/65035767/?search_identifier=3a622a86dc68f04e9b59f9ce2c6252a5d6443a165a768c41a5add290a45f6777\n",
      "Starting extraction for link 3200: https://www.zoopla.co.uk/for-sale/details/64182901/?search_identifier=3a622a86dc68f04e9b59f9ce2c6252a5d6443a165a768c41a5add290a45f6777\n"
     ]
    },
    {
     "name": "stderr",
     "output_type": "stream",
     "text": [
      "could not detect version_main.therefore, we are assuming it is chrome 108 or higher\n"
     ]
    },
    {
     "name": "stdout",
     "output_type": "stream",
     "text": [
      "Saved to db successfully\n",
      "Done with link 3200: https://www.zoopla.co.uk/for-sale/details/64182901/?search_identifier=3a622a86dc68f04e9b59f9ce2c6252a5d6443a165a768c41a5add290a45f6777\n",
      "Starting extraction for link 3201: https://www.zoopla.co.uk/for-sale/details/64991866/?search_identifier=39c132d65b34ff2d3e04d253231bb0745d626299b474a53ef4f003f002d2df2a\n"
     ]
    },
    {
     "name": "stderr",
     "output_type": "stream",
     "text": [
      "could not detect version_main.therefore, we are assuming it is chrome 108 or higher\n"
     ]
    },
    {
     "name": "stdout",
     "output_type": "stream",
     "text": [
      "Saved to db successfully\n",
      "Done with link 3201: https://www.zoopla.co.uk/for-sale/details/64991866/?search_identifier=39c132d65b34ff2d3e04d253231bb0745d626299b474a53ef4f003f002d2df2a\n",
      "Starting extraction for link 3202: https://www.zoopla.co.uk/for-sale/details/64978010/?search_identifier=39c132d65b34ff2d3e04d253231bb0745d626299b474a53ef4f003f002d2df2a\n"
     ]
    },
    {
     "name": "stderr",
     "output_type": "stream",
     "text": [
      "could not detect version_main.therefore, we are assuming it is chrome 108 or higher\n"
     ]
    },
    {
     "name": "stdout",
     "output_type": "stream",
     "text": [
      "Saved to db successfully\n",
      "Done with link 3202: https://www.zoopla.co.uk/for-sale/details/64978010/?search_identifier=39c132d65b34ff2d3e04d253231bb0745d626299b474a53ef4f003f002d2df2a\n",
      "Starting extraction for link 3203: https://www.zoopla.co.uk/for-sale/details/64361601/?search_identifier=39c132d65b34ff2d3e04d253231bb0745d626299b474a53ef4f003f002d2df2a\n"
     ]
    },
    {
     "name": "stderr",
     "output_type": "stream",
     "text": [
      "could not detect version_main.therefore, we are assuming it is chrome 108 or higher\n"
     ]
    },
    {
     "name": "stdout",
     "output_type": "stream",
     "text": [
      "Saved to db successfully\n",
      "Done with link 3203: https://www.zoopla.co.uk/for-sale/details/64361601/?search_identifier=39c132d65b34ff2d3e04d253231bb0745d626299b474a53ef4f003f002d2df2a\n",
      "Starting extraction for link 3204: https://www.zoopla.co.uk/for-sale/details/64947429/?search_identifier=39c132d65b34ff2d3e04d253231bb0745d626299b474a53ef4f003f002d2df2a\n"
     ]
    },
    {
     "name": "stderr",
     "output_type": "stream",
     "text": [
      "could not detect version_main.therefore, we are assuming it is chrome 108 or higher\n"
     ]
    },
    {
     "name": "stdout",
     "output_type": "stream",
     "text": [
      "Saved to db successfully\n",
      "Done with link 3204: https://www.zoopla.co.uk/for-sale/details/64947429/?search_identifier=39c132d65b34ff2d3e04d253231bb0745d626299b474a53ef4f003f002d2df2a\n",
      "Starting extraction for link 3205: https://www.zoopla.co.uk/for-sale/details/64944702/?search_identifier=39c132d65b34ff2d3e04d253231bb0745d626299b474a53ef4f003f002d2df2a\n"
     ]
    },
    {
     "name": "stderr",
     "output_type": "stream",
     "text": [
      "could not detect version_main.therefore, we are assuming it is chrome 108 or higher\n"
     ]
    },
    {
     "name": "stdout",
     "output_type": "stream",
     "text": [
      "Saved to db successfully\n",
      "Done with link 3205: https://www.zoopla.co.uk/for-sale/details/64944702/?search_identifier=39c132d65b34ff2d3e04d253231bb0745d626299b474a53ef4f003f002d2df2a\n",
      "Starting extraction for link 3206: https://www.zoopla.co.uk/for-sale/details/64923145/?search_identifier=39c132d65b34ff2d3e04d253231bb0745d626299b474a53ef4f003f002d2df2a\n"
     ]
    },
    {
     "name": "stderr",
     "output_type": "stream",
     "text": [
      "could not detect version_main.therefore, we are assuming it is chrome 108 or higher\n"
     ]
    },
    {
     "name": "stdout",
     "output_type": "stream",
     "text": [
      "Saved to db successfully\n",
      "Done with link 3206: https://www.zoopla.co.uk/for-sale/details/64923145/?search_identifier=39c132d65b34ff2d3e04d253231bb0745d626299b474a53ef4f003f002d2df2a\n",
      "Starting extraction for link 3207: https://www.zoopla.co.uk/for-sale/details/64920622/?search_identifier=39c132d65b34ff2d3e04d253231bb0745d626299b474a53ef4f003f002d2df2a\n"
     ]
    },
    {
     "name": "stderr",
     "output_type": "stream",
     "text": [
      "could not detect version_main.therefore, we are assuming it is chrome 108 or higher\n"
     ]
    },
    {
     "name": "stdout",
     "output_type": "stream",
     "text": [
      "Saved to db successfully\n",
      "Done with link 3207: https://www.zoopla.co.uk/for-sale/details/64920622/?search_identifier=39c132d65b34ff2d3e04d253231bb0745d626299b474a53ef4f003f002d2df2a\n",
      "Starting extraction for link 3208: https://www.zoopla.co.uk/new-homes/details/64908946/?search_identifier=39c132d65b34ff2d3e04d253231bb0745d626299b474a53ef4f003f002d2df2a\n"
     ]
    },
    {
     "name": "stderr",
     "output_type": "stream",
     "text": [
      "could not detect version_main.therefore, we are assuming it is chrome 108 or higher\n"
     ]
    },
    {
     "name": "stdout",
     "output_type": "stream",
     "text": [
      "Saved to db successfully\n",
      "Done with link 3208: https://www.zoopla.co.uk/new-homes/details/64908946/?search_identifier=39c132d65b34ff2d3e04d253231bb0745d626299b474a53ef4f003f002d2df2a\n",
      "Starting extraction for link 3209: https://www.zoopla.co.uk/for-sale/details/64908366/?search_identifier=39c132d65b34ff2d3e04d253231bb0745d626299b474a53ef4f003f002d2df2a\n"
     ]
    },
    {
     "name": "stderr",
     "output_type": "stream",
     "text": [
      "could not detect version_main.therefore, we are assuming it is chrome 108 or higher\n"
     ]
    },
    {
     "name": "stdout",
     "output_type": "stream",
     "text": [
      "Saved to db successfully\n",
      "Done with link 3209: https://www.zoopla.co.uk/for-sale/details/64908366/?search_identifier=39c132d65b34ff2d3e04d253231bb0745d626299b474a53ef4f003f002d2df2a\n",
      "Starting extraction for link 3210: https://www.zoopla.co.uk/for-sale/details/64905332/?search_identifier=39c132d65b34ff2d3e04d253231bb0745d626299b474a53ef4f003f002d2df2a\n"
     ]
    },
    {
     "name": "stderr",
     "output_type": "stream",
     "text": [
      "could not detect version_main.therefore, we are assuming it is chrome 108 or higher\n"
     ]
    },
    {
     "name": "stdout",
     "output_type": "stream",
     "text": [
      "Saved to db successfully\n",
      "Done with link 3210: https://www.zoopla.co.uk/for-sale/details/64905332/?search_identifier=39c132d65b34ff2d3e04d253231bb0745d626299b474a53ef4f003f002d2df2a\n",
      "Starting extraction for link 3211: https://www.zoopla.co.uk/for-sale/details/64899660/?search_identifier=39c132d65b34ff2d3e04d253231bb0745d626299b474a53ef4f003f002d2df2a\n"
     ]
    },
    {
     "name": "stderr",
     "output_type": "stream",
     "text": [
      "could not detect version_main.therefore, we are assuming it is chrome 108 or higher\n"
     ]
    },
    {
     "name": "stdout",
     "output_type": "stream",
     "text": [
      "Saved to db successfully\n",
      "Done with link 3211: https://www.zoopla.co.uk/for-sale/details/64899660/?search_identifier=39c132d65b34ff2d3e04d253231bb0745d626299b474a53ef4f003f002d2df2a\n",
      "Starting extraction for link 3212: https://www.zoopla.co.uk/for-sale/details/64884740/?search_identifier=39c132d65b34ff2d3e04d253231bb0745d626299b474a53ef4f003f002d2df2a\n"
     ]
    },
    {
     "name": "stderr",
     "output_type": "stream",
     "text": [
      "could not detect version_main.therefore, we are assuming it is chrome 108 or higher\n"
     ]
    },
    {
     "name": "stdout",
     "output_type": "stream",
     "text": [
      "Saved to db successfully\n",
      "Done with link 3212: https://www.zoopla.co.uk/for-sale/details/64884740/?search_identifier=39c132d65b34ff2d3e04d253231bb0745d626299b474a53ef4f003f002d2df2a\n",
      "Starting extraction for link 3213: https://www.zoopla.co.uk/for-sale/details/64871960/?search_identifier=39c132d65b34ff2d3e04d253231bb0745d626299b474a53ef4f003f002d2df2a\n"
     ]
    },
    {
     "name": "stderr",
     "output_type": "stream",
     "text": [
      "could not detect version_main.therefore, we are assuming it is chrome 108 or higher\n"
     ]
    },
    {
     "name": "stdout",
     "output_type": "stream",
     "text": [
      "Saved to db successfully\n",
      "Done with link 3213: https://www.zoopla.co.uk/for-sale/details/64871960/?search_identifier=39c132d65b34ff2d3e04d253231bb0745d626299b474a53ef4f003f002d2df2a\n",
      "Starting extraction for link 3214: https://www.zoopla.co.uk/for-sale/details/64854939/?search_identifier=39c132d65b34ff2d3e04d253231bb0745d626299b474a53ef4f003f002d2df2a\n"
     ]
    },
    {
     "name": "stderr",
     "output_type": "stream",
     "text": [
      "could not detect version_main.therefore, we are assuming it is chrome 108 or higher\n"
     ]
    },
    {
     "name": "stdout",
     "output_type": "stream",
     "text": [
      "Saved to db successfully\n",
      "Done with link 3214: https://www.zoopla.co.uk/for-sale/details/64854939/?search_identifier=39c132d65b34ff2d3e04d253231bb0745d626299b474a53ef4f003f002d2df2a\n",
      "Starting extraction for link 3215: https://www.zoopla.co.uk/for-sale/details/64851448/?search_identifier=39c132d65b34ff2d3e04d253231bb0745d626299b474a53ef4f003f002d2df2a\n"
     ]
    },
    {
     "name": "stderr",
     "output_type": "stream",
     "text": [
      "could not detect version_main.therefore, we are assuming it is chrome 108 or higher\n"
     ]
    },
    {
     "name": "stdout",
     "output_type": "stream",
     "text": [
      "Saved to db successfully\n",
      "Done with link 3215: https://www.zoopla.co.uk/for-sale/details/64851448/?search_identifier=39c132d65b34ff2d3e04d253231bb0745d626299b474a53ef4f003f002d2df2a\n",
      "Starting extraction for link 3216: https://www.zoopla.co.uk/for-sale/details/64843029/?search_identifier=39c132d65b34ff2d3e04d253231bb0745d626299b474a53ef4f003f002d2df2a\n"
     ]
    },
    {
     "name": "stderr",
     "output_type": "stream",
     "text": [
      "could not detect version_main.therefore, we are assuming it is chrome 108 or higher\n"
     ]
    },
    {
     "name": "stdout",
     "output_type": "stream",
     "text": [
      "Saved to db successfully\n",
      "Done with link 3216: https://www.zoopla.co.uk/for-sale/details/64843029/?search_identifier=39c132d65b34ff2d3e04d253231bb0745d626299b474a53ef4f003f002d2df2a\n",
      "Starting extraction for link 3217: https://www.zoopla.co.uk/for-sale/details/64842872/?search_identifier=39c132d65b34ff2d3e04d253231bb0745d626299b474a53ef4f003f002d2df2a\n"
     ]
    },
    {
     "name": "stderr",
     "output_type": "stream",
     "text": [
      "could not detect version_main.therefore, we are assuming it is chrome 108 or higher\n"
     ]
    },
    {
     "name": "stdout",
     "output_type": "stream",
     "text": [
      "Saved to db successfully\n",
      "Done with link 3217: https://www.zoopla.co.uk/for-sale/details/64842872/?search_identifier=39c132d65b34ff2d3e04d253231bb0745d626299b474a53ef4f003f002d2df2a\n",
      "Starting extraction for link 3218: https://www.zoopla.co.uk/for-sale/details/64839602/?search_identifier=39c132d65b34ff2d3e04d253231bb0745d626299b474a53ef4f003f002d2df2a\n"
     ]
    },
    {
     "name": "stderr",
     "output_type": "stream",
     "text": [
      "could not detect version_main.therefore, we are assuming it is chrome 108 or higher\n"
     ]
    },
    {
     "name": "stdout",
     "output_type": "stream",
     "text": [
      "Saved to db successfully\n",
      "Done with link 3218: https://www.zoopla.co.uk/for-sale/details/64839602/?search_identifier=39c132d65b34ff2d3e04d253231bb0745d626299b474a53ef4f003f002d2df2a\n",
      "Starting extraction for link 3219: https://www.zoopla.co.uk/for-sale/details/64832789/?search_identifier=39c132d65b34ff2d3e04d253231bb0745d626299b474a53ef4f003f002d2df2a\n"
     ]
    },
    {
     "name": "stderr",
     "output_type": "stream",
     "text": [
      "could not detect version_main.therefore, we are assuming it is chrome 108 or higher\n"
     ]
    },
    {
     "name": "stdout",
     "output_type": "stream",
     "text": [
      "Saved to db successfully\n",
      "Done with link 3219: https://www.zoopla.co.uk/for-sale/details/64832789/?search_identifier=39c132d65b34ff2d3e04d253231bb0745d626299b474a53ef4f003f002d2df2a\n",
      "Starting extraction for link 3220: https://www.zoopla.co.uk/for-sale/details/64820300/?search_identifier=39c132d65b34ff2d3e04d253231bb0745d626299b474a53ef4f003f002d2df2a\n"
     ]
    },
    {
     "name": "stderr",
     "output_type": "stream",
     "text": [
      "could not detect version_main.therefore, we are assuming it is chrome 108 or higher\n"
     ]
    },
    {
     "name": "stdout",
     "output_type": "stream",
     "text": [
      "Saved to db successfully\n",
      "Done with link 3220: https://www.zoopla.co.uk/for-sale/details/64820300/?search_identifier=39c132d65b34ff2d3e04d253231bb0745d626299b474a53ef4f003f002d2df2a\n",
      "Starting extraction for link 3221: https://www.zoopla.co.uk/for-sale/details/64811487/?search_identifier=39c132d65b34ff2d3e04d253231bb0745d626299b474a53ef4f003f002d2df2a\n"
     ]
    },
    {
     "name": "stderr",
     "output_type": "stream",
     "text": [
      "could not detect version_main.therefore, we are assuming it is chrome 108 or higher\n"
     ]
    },
    {
     "name": "stdout",
     "output_type": "stream",
     "text": [
      "Saved to db successfully\n",
      "Done with link 3221: https://www.zoopla.co.uk/for-sale/details/64811487/?search_identifier=39c132d65b34ff2d3e04d253231bb0745d626299b474a53ef4f003f002d2df2a\n",
      "Starting extraction for link 3222: https://www.zoopla.co.uk/for-sale/details/64798282/?search_identifier=39c132d65b34ff2d3e04d253231bb0745d626299b474a53ef4f003f002d2df2a\n"
     ]
    },
    {
     "name": "stderr",
     "output_type": "stream",
     "text": [
      "could not detect version_main.therefore, we are assuming it is chrome 108 or higher\n"
     ]
    },
    {
     "name": "stdout",
     "output_type": "stream",
     "text": [
      "Saved to db successfully\n",
      "Done with link 3222: https://www.zoopla.co.uk/for-sale/details/64798282/?search_identifier=39c132d65b34ff2d3e04d253231bb0745d626299b474a53ef4f003f002d2df2a\n",
      "Starting extraction for link 3223: https://www.zoopla.co.uk/for-sale/details/64794830/?search_identifier=39c132d65b34ff2d3e04d253231bb0745d626299b474a53ef4f003f002d2df2a\n"
     ]
    },
    {
     "name": "stderr",
     "output_type": "stream",
     "text": [
      "could not detect version_main.therefore, we are assuming it is chrome 108 or higher\n"
     ]
    },
    {
     "name": "stdout",
     "output_type": "stream",
     "text": [
      "Saved to db successfully\n",
      "Done with link 3223: https://www.zoopla.co.uk/for-sale/details/64794830/?search_identifier=39c132d65b34ff2d3e04d253231bb0745d626299b474a53ef4f003f002d2df2a\n",
      "Starting extraction for link 3224: https://www.zoopla.co.uk/for-sale/details/64794834/?search_identifier=39c132d65b34ff2d3e04d253231bb0745d626299b474a53ef4f003f002d2df2a\n"
     ]
    },
    {
     "name": "stderr",
     "output_type": "stream",
     "text": [
      "could not detect version_main.therefore, we are assuming it is chrome 108 or higher\n"
     ]
    },
    {
     "name": "stdout",
     "output_type": "stream",
     "text": [
      "Saved to db successfully\n",
      "Done with link 3224: https://www.zoopla.co.uk/for-sale/details/64794834/?search_identifier=39c132d65b34ff2d3e04d253231bb0745d626299b474a53ef4f003f002d2df2a\n",
      "Starting extraction for link 3225: https://www.zoopla.co.uk/for-sale/details/64103881/?search_identifier=39c132d65b34ff2d3e04d253231bb0745d626299b474a53ef4f003f002d2df2a\n"
     ]
    },
    {
     "name": "stderr",
     "output_type": "stream",
     "text": [
      "could not detect version_main.therefore, we are assuming it is chrome 108 or higher\n"
     ]
    },
    {
     "name": "stdout",
     "output_type": "stream",
     "text": [
      "Saved to db successfully\n",
      "Done with link 3225: https://www.zoopla.co.uk/for-sale/details/64103881/?search_identifier=39c132d65b34ff2d3e04d253231bb0745d626299b474a53ef4f003f002d2df2a\n",
      "Starting extraction for link 3226: https://www.zoopla.co.uk/for-sale/details/64792266/?search_identifier=a0354f59e9ecaa289fc6d4cd7b9189b667246552f3041f38f9f92741af75325a\n"
     ]
    },
    {
     "name": "stderr",
     "output_type": "stream",
     "text": [
      "could not detect version_main.therefore, we are assuming it is chrome 108 or higher\n"
     ]
    },
    {
     "name": "stdout",
     "output_type": "stream",
     "text": [
      "Saved to db successfully\n",
      "Done with link 3226: https://www.zoopla.co.uk/for-sale/details/64792266/?search_identifier=a0354f59e9ecaa289fc6d4cd7b9189b667246552f3041f38f9f92741af75325a\n",
      "Starting extraction for link 3227: https://www.zoopla.co.uk/for-sale/details/64786779/?search_identifier=a0354f59e9ecaa289fc6d4cd7b9189b667246552f3041f38f9f92741af75325a\n"
     ]
    },
    {
     "name": "stderr",
     "output_type": "stream",
     "text": [
      "could not detect version_main.therefore, we are assuming it is chrome 108 or higher\n"
     ]
    },
    {
     "name": "stdout",
     "output_type": "stream",
     "text": [
      "Saved to db successfully\n",
      "Done with link 3227: https://www.zoopla.co.uk/for-sale/details/64786779/?search_identifier=a0354f59e9ecaa289fc6d4cd7b9189b667246552f3041f38f9f92741af75325a\n",
      "Starting extraction for link 3228: https://www.zoopla.co.uk/for-sale/details/64786622/?search_identifier=a0354f59e9ecaa289fc6d4cd7b9189b667246552f3041f38f9f92741af75325a\n"
     ]
    },
    {
     "name": "stderr",
     "output_type": "stream",
     "text": [
      "could not detect version_main.therefore, we are assuming it is chrome 108 or higher\n"
     ]
    },
    {
     "name": "stdout",
     "output_type": "stream",
     "text": [
      "Saved to db successfully\n",
      "Done with link 3228: https://www.zoopla.co.uk/for-sale/details/64786622/?search_identifier=a0354f59e9ecaa289fc6d4cd7b9189b667246552f3041f38f9f92741af75325a\n",
      "Starting extraction for link 3229: https://www.zoopla.co.uk/for-sale/details/64777283/?search_identifier=a0354f59e9ecaa289fc6d4cd7b9189b667246552f3041f38f9f92741af75325a\n"
     ]
    },
    {
     "name": "stderr",
     "output_type": "stream",
     "text": [
      "could not detect version_main.therefore, we are assuming it is chrome 108 or higher\n"
     ]
    },
    {
     "name": "stdout",
     "output_type": "stream",
     "text": [
      "Saved to db successfully\n",
      "Done with link 3229: https://www.zoopla.co.uk/for-sale/details/64777283/?search_identifier=a0354f59e9ecaa289fc6d4cd7b9189b667246552f3041f38f9f92741af75325a\n",
      "Starting extraction for link 3230: https://www.zoopla.co.uk/for-sale/details/64774416/?search_identifier=a0354f59e9ecaa289fc6d4cd7b9189b667246552f3041f38f9f92741af75325a\n"
     ]
    },
    {
     "name": "stderr",
     "output_type": "stream",
     "text": [
      "could not detect version_main.therefore, we are assuming it is chrome 108 or higher\n"
     ]
    },
    {
     "name": "stdout",
     "output_type": "stream",
     "text": [
      "Saved to db successfully\n",
      "Done with link 3230: https://www.zoopla.co.uk/for-sale/details/64774416/?search_identifier=a0354f59e9ecaa289fc6d4cd7b9189b667246552f3041f38f9f92741af75325a\n",
      "Starting extraction for link 3231: https://www.zoopla.co.uk/for-sale/details/64770190/?search_identifier=a0354f59e9ecaa289fc6d4cd7b9189b667246552f3041f38f9f92741af75325a\n"
     ]
    },
    {
     "name": "stderr",
     "output_type": "stream",
     "text": [
      "could not detect version_main.therefore, we are assuming it is chrome 108 or higher\n"
     ]
    },
    {
     "name": "stdout",
     "output_type": "stream",
     "text": [
      "Saved to db successfully\n",
      "Done with link 3231: https://www.zoopla.co.uk/for-sale/details/64770190/?search_identifier=a0354f59e9ecaa289fc6d4cd7b9189b667246552f3041f38f9f92741af75325a\n",
      "Starting extraction for link 3232: https://www.zoopla.co.uk/for-sale/details/64750322/?search_identifier=a0354f59e9ecaa289fc6d4cd7b9189b667246552f3041f38f9f92741af75325a\n"
     ]
    },
    {
     "name": "stderr",
     "output_type": "stream",
     "text": [
      "could not detect version_main.therefore, we are assuming it is chrome 108 or higher\n"
     ]
    },
    {
     "name": "stdout",
     "output_type": "stream",
     "text": [
      "Saved to db successfully\n",
      "Done with link 3232: https://www.zoopla.co.uk/for-sale/details/64750322/?search_identifier=a0354f59e9ecaa289fc6d4cd7b9189b667246552f3041f38f9f92741af75325a\n",
      "Starting extraction for link 3233: https://www.zoopla.co.uk/for-sale/details/64737460/?search_identifier=a0354f59e9ecaa289fc6d4cd7b9189b667246552f3041f38f9f92741af75325a\n"
     ]
    },
    {
     "name": "stderr",
     "output_type": "stream",
     "text": [
      "could not detect version_main.therefore, we are assuming it is chrome 108 or higher\n"
     ]
    },
    {
     "name": "stdout",
     "output_type": "stream",
     "text": [
      "Saved to db successfully\n",
      "Done with link 3233: https://www.zoopla.co.uk/for-sale/details/64737460/?search_identifier=a0354f59e9ecaa289fc6d4cd7b9189b667246552f3041f38f9f92741af75325a\n",
      "Starting extraction for link 3234: https://www.zoopla.co.uk/for-sale/details/64718849/?search_identifier=a0354f59e9ecaa289fc6d4cd7b9189b667246552f3041f38f9f92741af75325a\n"
     ]
    },
    {
     "name": "stderr",
     "output_type": "stream",
     "text": [
      "could not detect version_main.therefore, we are assuming it is chrome 108 or higher\n"
     ]
    },
    {
     "name": "stdout",
     "output_type": "stream",
     "text": [
      "Saved to db successfully\n",
      "Done with link 3234: https://www.zoopla.co.uk/for-sale/details/64718849/?search_identifier=a0354f59e9ecaa289fc6d4cd7b9189b667246552f3041f38f9f92741af75325a\n",
      "Starting extraction for link 3235: https://www.zoopla.co.uk/for-sale/details/64716374/?search_identifier=a0354f59e9ecaa289fc6d4cd7b9189b667246552f3041f38f9f92741af75325a\n"
     ]
    },
    {
     "name": "stderr",
     "output_type": "stream",
     "text": [
      "could not detect version_main.therefore, we are assuming it is chrome 108 or higher\n"
     ]
    },
    {
     "name": "stdout",
     "output_type": "stream",
     "text": [
      "Saved to db successfully\n",
      "Done with link 3235: https://www.zoopla.co.uk/for-sale/details/64716374/?search_identifier=a0354f59e9ecaa289fc6d4cd7b9189b667246552f3041f38f9f92741af75325a\n",
      "Starting extraction for link 3236: https://www.zoopla.co.uk/for-sale/details/64709443/?search_identifier=a0354f59e9ecaa289fc6d4cd7b9189b667246552f3041f38f9f92741af75325a\n"
     ]
    },
    {
     "name": "stderr",
     "output_type": "stream",
     "text": [
      "could not detect version_main.therefore, we are assuming it is chrome 108 or higher\n"
     ]
    },
    {
     "name": "stdout",
     "output_type": "stream",
     "text": [
      "Saved to db successfully\n",
      "Done with link 3236: https://www.zoopla.co.uk/for-sale/details/64709443/?search_identifier=a0354f59e9ecaa289fc6d4cd7b9189b667246552f3041f38f9f92741af75325a\n",
      "Starting extraction for link 3237: https://www.zoopla.co.uk/for-sale/details/64685172/?search_identifier=a0354f59e9ecaa289fc6d4cd7b9189b667246552f3041f38f9f92741af75325a\n"
     ]
    },
    {
     "name": "stderr",
     "output_type": "stream",
     "text": [
      "could not detect version_main.therefore, we are assuming it is chrome 108 or higher\n"
     ]
    },
    {
     "name": "stdout",
     "output_type": "stream",
     "text": [
      "Saved to db successfully\n",
      "Done with link 3237: https://www.zoopla.co.uk/for-sale/details/64685172/?search_identifier=a0354f59e9ecaa289fc6d4cd7b9189b667246552f3041f38f9f92741af75325a\n",
      "Starting extraction for link 3238: https://www.zoopla.co.uk/for-sale/details/63576860/?search_identifier=a0354f59e9ecaa289fc6d4cd7b9189b667246552f3041f38f9f92741af75325a\n"
     ]
    },
    {
     "name": "stderr",
     "output_type": "stream",
     "text": [
      "could not detect version_main.therefore, we are assuming it is chrome 108 or higher\n"
     ]
    },
    {
     "name": "stdout",
     "output_type": "stream",
     "text": [
      "Saved to db successfully\n",
      "Done with link 3238: https://www.zoopla.co.uk/for-sale/details/63576860/?search_identifier=a0354f59e9ecaa289fc6d4cd7b9189b667246552f3041f38f9f92741af75325a\n",
      "Starting extraction for link 3239: https://www.zoopla.co.uk/for-sale/details/64638260/?search_identifier=a0354f59e9ecaa289fc6d4cd7b9189b667246552f3041f38f9f92741af75325a\n"
     ]
    },
    {
     "name": "stderr",
     "output_type": "stream",
     "text": [
      "could not detect version_main.therefore, we are assuming it is chrome 108 or higher\n"
     ]
    },
    {
     "name": "stdout",
     "output_type": "stream",
     "text": [
      "Saved to db successfully\n",
      "Done with link 3239: https://www.zoopla.co.uk/for-sale/details/64638260/?search_identifier=a0354f59e9ecaa289fc6d4cd7b9189b667246552f3041f38f9f92741af75325a\n",
      "Starting extraction for link 3240: https://www.zoopla.co.uk/for-sale/details/64629072/?search_identifier=a0354f59e9ecaa289fc6d4cd7b9189b667246552f3041f38f9f92741af75325a\n"
     ]
    },
    {
     "name": "stderr",
     "output_type": "stream",
     "text": [
      "could not detect version_main.therefore, we are assuming it is chrome 108 or higher\n"
     ]
    },
    {
     "name": "stdout",
     "output_type": "stream",
     "text": [
      "Saved to db successfully\n",
      "Done with link 3240: https://www.zoopla.co.uk/for-sale/details/64629072/?search_identifier=a0354f59e9ecaa289fc6d4cd7b9189b667246552f3041f38f9f92741af75325a\n",
      "Starting extraction for link 3241: https://www.zoopla.co.uk/for-sale/details/64611044/?search_identifier=a0354f59e9ecaa289fc6d4cd7b9189b667246552f3041f38f9f92741af75325a\n"
     ]
    },
    {
     "name": "stderr",
     "output_type": "stream",
     "text": [
      "could not detect version_main.therefore, we are assuming it is chrome 108 or higher\n"
     ]
    },
    {
     "name": "stdout",
     "output_type": "stream",
     "text": [
      "Saved to db successfully\n",
      "Done with link 3241: https://www.zoopla.co.uk/for-sale/details/64611044/?search_identifier=a0354f59e9ecaa289fc6d4cd7b9189b667246552f3041f38f9f92741af75325a\n",
      "Starting extraction for link 3242: https://www.zoopla.co.uk/for-sale/details/64608953/?search_identifier=a0354f59e9ecaa289fc6d4cd7b9189b667246552f3041f38f9f92741af75325a\n"
     ]
    },
    {
     "name": "stderr",
     "output_type": "stream",
     "text": [
      "could not detect version_main.therefore, we are assuming it is chrome 108 or higher\n"
     ]
    },
    {
     "name": "stdout",
     "output_type": "stream",
     "text": [
      "Saved to db successfully\n",
      "Done with link 3242: https://www.zoopla.co.uk/for-sale/details/64608953/?search_identifier=a0354f59e9ecaa289fc6d4cd7b9189b667246552f3041f38f9f92741af75325a\n",
      "Starting extraction for link 3243: https://www.zoopla.co.uk/for-sale/details/64602744/?search_identifier=a0354f59e9ecaa289fc6d4cd7b9189b667246552f3041f38f9f92741af75325a\n"
     ]
    },
    {
     "name": "stderr",
     "output_type": "stream",
     "text": [
      "could not detect version_main.therefore, we are assuming it is chrome 108 or higher\n"
     ]
    },
    {
     "name": "stdout",
     "output_type": "stream",
     "text": [
      "Saved to db successfully\n",
      "Done with link 3243: https://www.zoopla.co.uk/for-sale/details/64602744/?search_identifier=a0354f59e9ecaa289fc6d4cd7b9189b667246552f3041f38f9f92741af75325a\n",
      "Starting extraction for link 3244: https://www.zoopla.co.uk/for-sale/details/64582613/?search_identifier=a0354f59e9ecaa289fc6d4cd7b9189b667246552f3041f38f9f92741af75325a\n"
     ]
    },
    {
     "name": "stderr",
     "output_type": "stream",
     "text": [
      "could not detect version_main.therefore, we are assuming it is chrome 108 or higher\n"
     ]
    },
    {
     "name": "stdout",
     "output_type": "stream",
     "text": [
      "Saved to db successfully\n",
      "Done with link 3244: https://www.zoopla.co.uk/for-sale/details/64582613/?search_identifier=a0354f59e9ecaa289fc6d4cd7b9189b667246552f3041f38f9f92741af75325a\n",
      "Starting extraction for link 3245: https://www.zoopla.co.uk/for-sale/details/64572636/?search_identifier=a0354f59e9ecaa289fc6d4cd7b9189b667246552f3041f38f9f92741af75325a\n"
     ]
    },
    {
     "name": "stderr",
     "output_type": "stream",
     "text": [
      "could not detect version_main.therefore, we are assuming it is chrome 108 or higher\n"
     ]
    },
    {
     "name": "stdout",
     "output_type": "stream",
     "text": [
      "Saved to db successfully\n",
      "Done with link 3245: https://www.zoopla.co.uk/for-sale/details/64572636/?search_identifier=a0354f59e9ecaa289fc6d4cd7b9189b667246552f3041f38f9f92741af75325a\n",
      "Starting extraction for link 3246: https://www.zoopla.co.uk/for-sale/details/64552470/?search_identifier=a0354f59e9ecaa289fc6d4cd7b9189b667246552f3041f38f9f92741af75325a\n"
     ]
    },
    {
     "name": "stderr",
     "output_type": "stream",
     "text": [
      "could not detect version_main.therefore, we are assuming it is chrome 108 or higher\n"
     ]
    },
    {
     "name": "stdout",
     "output_type": "stream",
     "text": [
      "Saved to db successfully\n",
      "Done with link 3246: https://www.zoopla.co.uk/for-sale/details/64552470/?search_identifier=a0354f59e9ecaa289fc6d4cd7b9189b667246552f3041f38f9f92741af75325a\n",
      "Starting extraction for link 3247: https://www.zoopla.co.uk/for-sale/details/64532545/?search_identifier=a0354f59e9ecaa289fc6d4cd7b9189b667246552f3041f38f9f92741af75325a\n"
     ]
    },
    {
     "name": "stderr",
     "output_type": "stream",
     "text": [
      "could not detect version_main.therefore, we are assuming it is chrome 108 or higher\n"
     ]
    },
    {
     "name": "stdout",
     "output_type": "stream",
     "text": [
      "Saved to db successfully\n",
      "Done with link 3247: https://www.zoopla.co.uk/for-sale/details/64532545/?search_identifier=a0354f59e9ecaa289fc6d4cd7b9189b667246552f3041f38f9f92741af75325a\n",
      "Starting extraction for link 3248: https://www.zoopla.co.uk/for-sale/details/64530623/?search_identifier=a0354f59e9ecaa289fc6d4cd7b9189b667246552f3041f38f9f92741af75325a\n"
     ]
    },
    {
     "name": "stderr",
     "output_type": "stream",
     "text": [
      "could not detect version_main.therefore, we are assuming it is chrome 108 or higher\n"
     ]
    },
    {
     "name": "stdout",
     "output_type": "stream",
     "text": [
      "Saved to db successfully\n",
      "Done with link 3248: https://www.zoopla.co.uk/for-sale/details/64530623/?search_identifier=a0354f59e9ecaa289fc6d4cd7b9189b667246552f3041f38f9f92741af75325a\n",
      "Starting extraction for link 3249: https://www.zoopla.co.uk/for-sale/details/64525492/?search_identifier=a0354f59e9ecaa289fc6d4cd7b9189b667246552f3041f38f9f92741af75325a\n"
     ]
    },
    {
     "name": "stderr",
     "output_type": "stream",
     "text": [
      "could not detect version_main.therefore, we are assuming it is chrome 108 or higher\n"
     ]
    },
    {
     "name": "stdout",
     "output_type": "stream",
     "text": [
      "Saved to db successfully\n",
      "Done with link 3249: https://www.zoopla.co.uk/for-sale/details/64525492/?search_identifier=a0354f59e9ecaa289fc6d4cd7b9189b667246552f3041f38f9f92741af75325a\n",
      "Starting extraction for link 3250: https://www.zoopla.co.uk/for-sale/details/57975992/?search_identifier=a0354f59e9ecaa289fc6d4cd7b9189b667246552f3041f38f9f92741af75325a\n"
     ]
    },
    {
     "name": "stderr",
     "output_type": "stream",
     "text": [
      "could not detect version_main.therefore, we are assuming it is chrome 108 or higher\n"
     ]
    },
    {
     "name": "stdout",
     "output_type": "stream",
     "text": [
      "Saved to db successfully\n",
      "Done with link 3250: https://www.zoopla.co.uk/for-sale/details/57975992/?search_identifier=a0354f59e9ecaa289fc6d4cd7b9189b667246552f3041f38f9f92741af75325a\n",
      "Starting extraction for link 3251: https://www.zoopla.co.uk/for-sale/details/64507350/?search_identifier=b20d65125748e4ca6951d0730a0c509e506a7ac34efa3d9496cc4659eb250183\n"
     ]
    },
    {
     "name": "stderr",
     "output_type": "stream",
     "text": [
      "could not detect version_main.therefore, we are assuming it is chrome 108 or higher\n"
     ]
    },
    {
     "name": "stdout",
     "output_type": "stream",
     "text": [
      "Saved to db successfully\n",
      "Done with link 3251: https://www.zoopla.co.uk/for-sale/details/64507350/?search_identifier=b20d65125748e4ca6951d0730a0c509e506a7ac34efa3d9496cc4659eb250183\n",
      "Starting extraction for link 3252: https://www.zoopla.co.uk/for-sale/details/64478946/?search_identifier=b20d65125748e4ca6951d0730a0c509e506a7ac34efa3d9496cc4659eb250183\n"
     ]
    },
    {
     "name": "stderr",
     "output_type": "stream",
     "text": [
      "could not detect version_main.therefore, we are assuming it is chrome 108 or higher\n"
     ]
    },
    {
     "name": "stdout",
     "output_type": "stream",
     "text": [
      "Saved to db successfully\n",
      "Done with link 3252: https://www.zoopla.co.uk/for-sale/details/64478946/?search_identifier=b20d65125748e4ca6951d0730a0c509e506a7ac34efa3d9496cc4659eb250183\n",
      "Starting extraction for link 3253: https://www.zoopla.co.uk/for-sale/details/64457888/?search_identifier=b20d65125748e4ca6951d0730a0c509e506a7ac34efa3d9496cc4659eb250183\n"
     ]
    },
    {
     "name": "stderr",
     "output_type": "stream",
     "text": [
      "could not detect version_main.therefore, we are assuming it is chrome 108 or higher\n"
     ]
    },
    {
     "name": "stdout",
     "output_type": "stream",
     "text": [
      "Saved to db successfully\n",
      "Done with link 3253: https://www.zoopla.co.uk/for-sale/details/64457888/?search_identifier=b20d65125748e4ca6951d0730a0c509e506a7ac34efa3d9496cc4659eb250183\n",
      "Starting extraction for link 3254: https://www.zoopla.co.uk/for-sale/details/64455679/?search_identifier=b20d65125748e4ca6951d0730a0c509e506a7ac34efa3d9496cc4659eb250183\n"
     ]
    },
    {
     "name": "stderr",
     "output_type": "stream",
     "text": [
      "could not detect version_main.therefore, we are assuming it is chrome 108 or higher\n"
     ]
    },
    {
     "name": "stdout",
     "output_type": "stream",
     "text": [
      "Saved to db successfully\n",
      "Done with link 3254: https://www.zoopla.co.uk/for-sale/details/64455679/?search_identifier=b20d65125748e4ca6951d0730a0c509e506a7ac34efa3d9496cc4659eb250183\n",
      "Starting extraction for link 3255: https://www.zoopla.co.uk/for-sale/details/64414077/?search_identifier=b20d65125748e4ca6951d0730a0c509e506a7ac34efa3d9496cc4659eb250183\n"
     ]
    },
    {
     "name": "stderr",
     "output_type": "stream",
     "text": [
      "could not detect version_main.therefore, we are assuming it is chrome 108 or higher\n"
     ]
    },
    {
     "name": "stdout",
     "output_type": "stream",
     "text": [
      "Saved to db successfully\n",
      "Done with link 3255: https://www.zoopla.co.uk/for-sale/details/64414077/?search_identifier=b20d65125748e4ca6951d0730a0c509e506a7ac34efa3d9496cc4659eb250183\n",
      "Starting extraction for link 3256: https://www.zoopla.co.uk/for-sale/details/64396072/?search_identifier=b20d65125748e4ca6951d0730a0c509e506a7ac34efa3d9496cc4659eb250183\n"
     ]
    },
    {
     "name": "stderr",
     "output_type": "stream",
     "text": [
      "could not detect version_main.therefore, we are assuming it is chrome 108 or higher\n"
     ]
    },
    {
     "name": "stdout",
     "output_type": "stream",
     "text": [
      "Saved to db successfully\n",
      "Done with link 3256: https://www.zoopla.co.uk/for-sale/details/64396072/?search_identifier=b20d65125748e4ca6951d0730a0c509e506a7ac34efa3d9496cc4659eb250183\n",
      "Starting extraction for link 3257: https://www.zoopla.co.uk/for-sale/details/64396065/?search_identifier=b20d65125748e4ca6951d0730a0c509e506a7ac34efa3d9496cc4659eb250183\n"
     ]
    },
    {
     "name": "stderr",
     "output_type": "stream",
     "text": [
      "could not detect version_main.therefore, we are assuming it is chrome 108 or higher\n"
     ]
    },
    {
     "name": "stdout",
     "output_type": "stream",
     "text": [
      "Saved to db successfully\n",
      "Done with link 3257: https://www.zoopla.co.uk/for-sale/details/64396065/?search_identifier=b20d65125748e4ca6951d0730a0c509e506a7ac34efa3d9496cc4659eb250183\n",
      "Starting extraction for link 3258: https://www.zoopla.co.uk/for-sale/details/64379680/?search_identifier=b20d65125748e4ca6951d0730a0c509e506a7ac34efa3d9496cc4659eb250183\n"
     ]
    },
    {
     "name": "stderr",
     "output_type": "stream",
     "text": [
      "could not detect version_main.therefore, we are assuming it is chrome 108 or higher\n"
     ]
    },
    {
     "name": "stdout",
     "output_type": "stream",
     "text": [
      "Saved to db successfully\n",
      "Done with link 3258: https://www.zoopla.co.uk/for-sale/details/64379680/?search_identifier=b20d65125748e4ca6951d0730a0c509e506a7ac34efa3d9496cc4659eb250183\n",
      "Starting extraction for link 3259: https://www.zoopla.co.uk/for-sale/details/64362826/?search_identifier=b20d65125748e4ca6951d0730a0c509e506a7ac34efa3d9496cc4659eb250183\n"
     ]
    },
    {
     "name": "stderr",
     "output_type": "stream",
     "text": [
      "could not detect version_main.therefore, we are assuming it is chrome 108 or higher\n"
     ]
    },
    {
     "name": "stdout",
     "output_type": "stream",
     "text": [
      "Saved to db successfully\n",
      "Done with link 3259: https://www.zoopla.co.uk/for-sale/details/64362826/?search_identifier=b20d65125748e4ca6951d0730a0c509e506a7ac34efa3d9496cc4659eb250183\n",
      "Starting extraction for link 3260: https://www.zoopla.co.uk/for-sale/details/64362444/?search_identifier=b20d65125748e4ca6951d0730a0c509e506a7ac34efa3d9496cc4659eb250183\n"
     ]
    },
    {
     "name": "stderr",
     "output_type": "stream",
     "text": [
      "could not detect version_main.therefore, we are assuming it is chrome 108 or higher\n"
     ]
    },
    {
     "name": "stdout",
     "output_type": "stream",
     "text": [
      "Saved to db successfully\n",
      "Done with link 3260: https://www.zoopla.co.uk/for-sale/details/64362444/?search_identifier=b20d65125748e4ca6951d0730a0c509e506a7ac34efa3d9496cc4659eb250183\n",
      "Starting extraction for link 3261: https://www.zoopla.co.uk/for-sale/details/64361643/?search_identifier=b20d65125748e4ca6951d0730a0c509e506a7ac34efa3d9496cc4659eb250183\n"
     ]
    },
    {
     "name": "stderr",
     "output_type": "stream",
     "text": [
      "could not detect version_main.therefore, we are assuming it is chrome 108 or higher\n"
     ]
    },
    {
     "name": "stdout",
     "output_type": "stream",
     "text": [
      "Saved to db successfully\n",
      "Done with link 3261: https://www.zoopla.co.uk/for-sale/details/64361643/?search_identifier=b20d65125748e4ca6951d0730a0c509e506a7ac34efa3d9496cc4659eb250183\n",
      "Starting extraction for link 3262: https://www.zoopla.co.uk/for-sale/details/64349398/?search_identifier=b20d65125748e4ca6951d0730a0c509e506a7ac34efa3d9496cc4659eb250183\n"
     ]
    },
    {
     "name": "stderr",
     "output_type": "stream",
     "text": [
      "could not detect version_main.therefore, we are assuming it is chrome 108 or higher\n"
     ]
    },
    {
     "name": "stdout",
     "output_type": "stream",
     "text": [
      "Saved to db successfully\n",
      "Done with link 3262: https://www.zoopla.co.uk/for-sale/details/64349398/?search_identifier=b20d65125748e4ca6951d0730a0c509e506a7ac34efa3d9496cc4659eb250183\n",
      "Starting extraction for link 3263: https://www.zoopla.co.uk/for-sale/details/64330887/?search_identifier=b20d65125748e4ca6951d0730a0c509e506a7ac34efa3d9496cc4659eb250183\n"
     ]
    },
    {
     "name": "stderr",
     "output_type": "stream",
     "text": [
      "could not detect version_main.therefore, we are assuming it is chrome 108 or higher\n"
     ]
    },
    {
     "name": "stdout",
     "output_type": "stream",
     "text": [
      "Saved to db successfully\n",
      "Done with link 3263: https://www.zoopla.co.uk/for-sale/details/64330887/?search_identifier=b20d65125748e4ca6951d0730a0c509e506a7ac34efa3d9496cc4659eb250183\n",
      "Starting extraction for link 3264: https://www.zoopla.co.uk/for-sale/details/64303484/?search_identifier=b20d65125748e4ca6951d0730a0c509e506a7ac34efa3d9496cc4659eb250183\n"
     ]
    },
    {
     "name": "stderr",
     "output_type": "stream",
     "text": [
      "could not detect version_main.therefore, we are assuming it is chrome 108 or higher\n"
     ]
    },
    {
     "name": "stdout",
     "output_type": "stream",
     "text": [
      "Saved to db successfully\n",
      "Done with link 3264: https://www.zoopla.co.uk/for-sale/details/64303484/?search_identifier=b20d65125748e4ca6951d0730a0c509e506a7ac34efa3d9496cc4659eb250183\n",
      "Starting extraction for link 3265: https://www.zoopla.co.uk/for-sale/details/64296976/?search_identifier=b20d65125748e4ca6951d0730a0c509e506a7ac34efa3d9496cc4659eb250183\n"
     ]
    },
    {
     "name": "stderr",
     "output_type": "stream",
     "text": [
      "could not detect version_main.therefore, we are assuming it is chrome 108 or higher\n"
     ]
    },
    {
     "name": "stdout",
     "output_type": "stream",
     "text": [
      "Saved to db successfully\n",
      "Done with link 3265: https://www.zoopla.co.uk/for-sale/details/64296976/?search_identifier=b20d65125748e4ca6951d0730a0c509e506a7ac34efa3d9496cc4659eb250183\n",
      "Starting extraction for link 3266: https://www.zoopla.co.uk/for-sale/details/64246154/?search_identifier=b20d65125748e4ca6951d0730a0c509e506a7ac34efa3d9496cc4659eb250183\n"
     ]
    },
    {
     "name": "stderr",
     "output_type": "stream",
     "text": [
      "could not detect version_main.therefore, we are assuming it is chrome 108 or higher\n"
     ]
    },
    {
     "name": "stdout",
     "output_type": "stream",
     "text": [
      "Saved to db successfully\n",
      "Done with link 3266: https://www.zoopla.co.uk/for-sale/details/64246154/?search_identifier=b20d65125748e4ca6951d0730a0c509e506a7ac34efa3d9496cc4659eb250183\n",
      "Starting extraction for link 3267: https://www.zoopla.co.uk/for-sale/details/64246109/?search_identifier=b20d65125748e4ca6951d0730a0c509e506a7ac34efa3d9496cc4659eb250183\n"
     ]
    },
    {
     "name": "stderr",
     "output_type": "stream",
     "text": [
      "could not detect version_main.therefore, we are assuming it is chrome 108 or higher\n"
     ]
    },
    {
     "name": "stdout",
     "output_type": "stream",
     "text": [
      "Saved to db successfully\n",
      "Done with link 3267: https://www.zoopla.co.uk/for-sale/details/64246109/?search_identifier=b20d65125748e4ca6951d0730a0c509e506a7ac34efa3d9496cc4659eb250183\n",
      "Starting extraction for link 3268: https://www.zoopla.co.uk/for-sale/details/64242153/?search_identifier=b20d65125748e4ca6951d0730a0c509e506a7ac34efa3d9496cc4659eb250183\n"
     ]
    },
    {
     "name": "stderr",
     "output_type": "stream",
     "text": [
      "could not detect version_main.therefore, we are assuming it is chrome 108 or higher\n"
     ]
    },
    {
     "name": "stdout",
     "output_type": "stream",
     "text": [
      "Saved to db successfully\n",
      "Done with link 3268: https://www.zoopla.co.uk/for-sale/details/64242153/?search_identifier=b20d65125748e4ca6951d0730a0c509e506a7ac34efa3d9496cc4659eb250183\n",
      "Starting extraction for link 3269: https://www.zoopla.co.uk/for-sale/details/64222238/?search_identifier=b20d65125748e4ca6951d0730a0c509e506a7ac34efa3d9496cc4659eb250183\n"
     ]
    },
    {
     "name": "stderr",
     "output_type": "stream",
     "text": [
      "could not detect version_main.therefore, we are assuming it is chrome 108 or higher\n"
     ]
    },
    {
     "name": "stdout",
     "output_type": "stream",
     "text": [
      "Saved to db successfully\n",
      "Done with link 3269: https://www.zoopla.co.uk/for-sale/details/64222238/?search_identifier=b20d65125748e4ca6951d0730a0c509e506a7ac34efa3d9496cc4659eb250183\n",
      "Starting extraction for link 3270: https://www.zoopla.co.uk/for-sale/details/64215507/?search_identifier=b20d65125748e4ca6951d0730a0c509e506a7ac34efa3d9496cc4659eb250183\n"
     ]
    },
    {
     "name": "stderr",
     "output_type": "stream",
     "text": [
      "could not detect version_main.therefore, we are assuming it is chrome 108 or higher\n"
     ]
    },
    {
     "name": "stdout",
     "output_type": "stream",
     "text": [
      "Saved to db successfully\n",
      "Done with link 3270: https://www.zoopla.co.uk/for-sale/details/64215507/?search_identifier=b20d65125748e4ca6951d0730a0c509e506a7ac34efa3d9496cc4659eb250183\n",
      "Starting extraction for link 3271: https://www.zoopla.co.uk/for-sale/details/55139972/?search_identifier=b20d65125748e4ca6951d0730a0c509e506a7ac34efa3d9496cc4659eb250183\n"
     ]
    },
    {
     "name": "stderr",
     "output_type": "stream",
     "text": [
      "could not detect version_main.therefore, we are assuming it is chrome 108 or higher\n"
     ]
    },
    {
     "name": "stdout",
     "output_type": "stream",
     "text": [
      "Saved to db successfully\n",
      "Done with link 3271: https://www.zoopla.co.uk/for-sale/details/55139972/?search_identifier=b20d65125748e4ca6951d0730a0c509e506a7ac34efa3d9496cc4659eb250183\n",
      "Starting extraction for link 3272: https://www.zoopla.co.uk/for-sale/details/64202533/?search_identifier=b20d65125748e4ca6951d0730a0c509e506a7ac34efa3d9496cc4659eb250183\n"
     ]
    },
    {
     "name": "stderr",
     "output_type": "stream",
     "text": [
      "could not detect version_main.therefore, we are assuming it is chrome 108 or higher\n"
     ]
    },
    {
     "name": "stdout",
     "output_type": "stream",
     "text": [
      "Saved to db successfully\n",
      "Done with link 3272: https://www.zoopla.co.uk/for-sale/details/64202533/?search_identifier=b20d65125748e4ca6951d0730a0c509e506a7ac34efa3d9496cc4659eb250183\n",
      "Starting extraction for link 3273: https://www.zoopla.co.uk/for-sale/details/64174276/?search_identifier=b20d65125748e4ca6951d0730a0c509e506a7ac34efa3d9496cc4659eb250183\n"
     ]
    },
    {
     "name": "stderr",
     "output_type": "stream",
     "text": [
      "could not detect version_main.therefore, we are assuming it is chrome 108 or higher\n"
     ]
    },
    {
     "name": "stdout",
     "output_type": "stream",
     "text": [
      "Saved to db successfully\n",
      "Done with link 3273: https://www.zoopla.co.uk/for-sale/details/64174276/?search_identifier=b20d65125748e4ca6951d0730a0c509e506a7ac34efa3d9496cc4659eb250183\n",
      "Starting extraction for link 3274: https://www.zoopla.co.uk/for-sale/details/64138067/?search_identifier=b20d65125748e4ca6951d0730a0c509e506a7ac34efa3d9496cc4659eb250183\n"
     ]
    },
    {
     "name": "stderr",
     "output_type": "stream",
     "text": [
      "could not detect version_main.therefore, we are assuming it is chrome 108 or higher\n"
     ]
    },
    {
     "name": "stdout",
     "output_type": "stream",
     "text": [
      "Saved to db successfully\n",
      "Done with link 3274: https://www.zoopla.co.uk/for-sale/details/64138067/?search_identifier=b20d65125748e4ca6951d0730a0c509e506a7ac34efa3d9496cc4659eb250183\n",
      "Starting extraction for link 3275: https://www.zoopla.co.uk/for-sale/details/64103321/?search_identifier=b20d65125748e4ca6951d0730a0c509e506a7ac34efa3d9496cc4659eb250183\n"
     ]
    },
    {
     "name": "stderr",
     "output_type": "stream",
     "text": [
      "could not detect version_main.therefore, we are assuming it is chrome 108 or higher\n"
     ]
    },
    {
     "name": "stdout",
     "output_type": "stream",
     "text": [
      "Saved to db successfully\n",
      "Done with link 3275: https://www.zoopla.co.uk/for-sale/details/64103321/?search_identifier=b20d65125748e4ca6951d0730a0c509e506a7ac34efa3d9496cc4659eb250183\n",
      "Starting extraction for link 3276: https://www.zoopla.co.uk/for-sale/details/64024209/?search_identifier=75b6aefbea73f3b274536e79d4e93917402314db95c3d2233114bf3728b3459a\n"
     ]
    },
    {
     "name": "stderr",
     "output_type": "stream",
     "text": [
      "could not detect version_main.therefore, we are assuming it is chrome 108 or higher\n"
     ]
    },
    {
     "name": "stdout",
     "output_type": "stream",
     "text": [
      "Saved to db successfully\n",
      "Done with link 3276: https://www.zoopla.co.uk/for-sale/details/64024209/?search_identifier=75b6aefbea73f3b274536e79d4e93917402314db95c3d2233114bf3728b3459a\n",
      "Starting extraction for link 3277: https://www.zoopla.co.uk/for-sale/details/55578779/?search_identifier=75b6aefbea73f3b274536e79d4e93917402314db95c3d2233114bf3728b3459a\n"
     ]
    },
    {
     "name": "stderr",
     "output_type": "stream",
     "text": [
      "could not detect version_main.therefore, we are assuming it is chrome 108 or higher\n"
     ]
    },
    {
     "name": "stdout",
     "output_type": "stream",
     "text": [
      "Saved to db successfully\n",
      "Done with link 3277: https://www.zoopla.co.uk/for-sale/details/55578779/?search_identifier=75b6aefbea73f3b274536e79d4e93917402314db95c3d2233114bf3728b3459a\n",
      "Starting extraction for link 3278: https://www.zoopla.co.uk/for-sale/details/63917515/?search_identifier=75b6aefbea73f3b274536e79d4e93917402314db95c3d2233114bf3728b3459a\n"
     ]
    },
    {
     "name": "stderr",
     "output_type": "stream",
     "text": [
      "could not detect version_main.therefore, we are assuming it is chrome 108 or higher\n"
     ]
    },
    {
     "name": "stdout",
     "output_type": "stream",
     "text": [
      "Saved to db successfully\n",
      "Done with link 3278: https://www.zoopla.co.uk/for-sale/details/63917515/?search_identifier=75b6aefbea73f3b274536e79d4e93917402314db95c3d2233114bf3728b3459a\n",
      "Starting extraction for link 3279: https://www.zoopla.co.uk/for-sale/details/63900654/?search_identifier=75b6aefbea73f3b274536e79d4e93917402314db95c3d2233114bf3728b3459a\n"
     ]
    },
    {
     "name": "stderr",
     "output_type": "stream",
     "text": [
      "could not detect version_main.therefore, we are assuming it is chrome 108 or higher\n"
     ]
    },
    {
     "name": "stdout",
     "output_type": "stream",
     "text": [
      "Saved to db successfully\n",
      "Done with link 3279: https://www.zoopla.co.uk/for-sale/details/63900654/?search_identifier=75b6aefbea73f3b274536e79d4e93917402314db95c3d2233114bf3728b3459a\n",
      "Starting extraction for link 3280: https://www.zoopla.co.uk/for-sale/details/63887567/?search_identifier=75b6aefbea73f3b274536e79d4e93917402314db95c3d2233114bf3728b3459a\n"
     ]
    },
    {
     "name": "stderr",
     "output_type": "stream",
     "text": [
      "could not detect version_main.therefore, we are assuming it is chrome 108 or higher\n"
     ]
    },
    {
     "name": "stdout",
     "output_type": "stream",
     "text": [
      "Saved to db successfully\n",
      "Done with link 3280: https://www.zoopla.co.uk/for-sale/details/63887567/?search_identifier=75b6aefbea73f3b274536e79d4e93917402314db95c3d2233114bf3728b3459a\n",
      "Starting extraction for link 3281: https://www.zoopla.co.uk/for-sale/details/58689885/?search_identifier=75b6aefbea73f3b274536e79d4e93917402314db95c3d2233114bf3728b3459a\n"
     ]
    },
    {
     "name": "stderr",
     "output_type": "stream",
     "text": [
      "could not detect version_main.therefore, we are assuming it is chrome 108 or higher\n"
     ]
    },
    {
     "name": "stdout",
     "output_type": "stream",
     "text": [
      "Saved to db successfully\n",
      "Done with link 3281: https://www.zoopla.co.uk/for-sale/details/58689885/?search_identifier=75b6aefbea73f3b274536e79d4e93917402314db95c3d2233114bf3728b3459a\n",
      "Starting extraction for link 3282: https://www.zoopla.co.uk/for-sale/details/63735002/?search_identifier=75b6aefbea73f3b274536e79d4e93917402314db95c3d2233114bf3728b3459a\n"
     ]
    },
    {
     "name": "stderr",
     "output_type": "stream",
     "text": [
      "could not detect version_main.therefore, we are assuming it is chrome 108 or higher\n"
     ]
    },
    {
     "name": "stdout",
     "output_type": "stream",
     "text": [
      "Saved to db successfully\n",
      "Done with link 3282: https://www.zoopla.co.uk/for-sale/details/63735002/?search_identifier=75b6aefbea73f3b274536e79d4e93917402314db95c3d2233114bf3728b3459a\n",
      "Starting extraction for link 3283: https://www.zoopla.co.uk/for-sale/details/63734406/?search_identifier=75b6aefbea73f3b274536e79d4e93917402314db95c3d2233114bf3728b3459a\n"
     ]
    },
    {
     "name": "stderr",
     "output_type": "stream",
     "text": [
      "could not detect version_main.therefore, we are assuming it is chrome 108 or higher\n"
     ]
    },
    {
     "name": "stdout",
     "output_type": "stream",
     "text": [
      "Saved to db successfully\n",
      "Done with link 3283: https://www.zoopla.co.uk/for-sale/details/63734406/?search_identifier=75b6aefbea73f3b274536e79d4e93917402314db95c3d2233114bf3728b3459a\n",
      "Starting extraction for link 3284: https://www.zoopla.co.uk/for-sale/details/63722159/?search_identifier=75b6aefbea73f3b274536e79d4e93917402314db95c3d2233114bf3728b3459a\n"
     ]
    },
    {
     "name": "stderr",
     "output_type": "stream",
     "text": [
      "could not detect version_main.therefore, we are assuming it is chrome 108 or higher\n"
     ]
    },
    {
     "name": "stdout",
     "output_type": "stream",
     "text": [
      "Saved to db successfully\n",
      "Done with link 3284: https://www.zoopla.co.uk/for-sale/details/63722159/?search_identifier=75b6aefbea73f3b274536e79d4e93917402314db95c3d2233114bf3728b3459a\n",
      "Starting extraction for link 3285: https://www.zoopla.co.uk/for-sale/details/63516951/?search_identifier=75b6aefbea73f3b274536e79d4e93917402314db95c3d2233114bf3728b3459a\n"
     ]
    },
    {
     "name": "stderr",
     "output_type": "stream",
     "text": [
      "could not detect version_main.therefore, we are assuming it is chrome 108 or higher\n"
     ]
    },
    {
     "name": "stdout",
     "output_type": "stream",
     "text": [
      "Saved to db successfully\n",
      "Done with link 3285: https://www.zoopla.co.uk/for-sale/details/63516951/?search_identifier=75b6aefbea73f3b274536e79d4e93917402314db95c3d2233114bf3728b3459a\n",
      "Starting extraction for link 3286: https://www.zoopla.co.uk/new-homes/details/63513015/?search_identifier=75b6aefbea73f3b274536e79d4e93917402314db95c3d2233114bf3728b3459a\n"
     ]
    },
    {
     "name": "stderr",
     "output_type": "stream",
     "text": [
      "could not detect version_main.therefore, we are assuming it is chrome 108 or higher\n"
     ]
    },
    {
     "name": "stdout",
     "output_type": "stream",
     "text": [
      "Saved to db successfully\n",
      "Done with link 3286: https://www.zoopla.co.uk/new-homes/details/63513015/?search_identifier=75b6aefbea73f3b274536e79d4e93917402314db95c3d2233114bf3728b3459a\n",
      "Starting extraction for link 3287: https://www.zoopla.co.uk/for-sale/details/63459063/?search_identifier=75b6aefbea73f3b274536e79d4e93917402314db95c3d2233114bf3728b3459a\n"
     ]
    },
    {
     "name": "stderr",
     "output_type": "stream",
     "text": [
      "could not detect version_main.therefore, we are assuming it is chrome 108 or higher\n"
     ]
    },
    {
     "name": "stdout",
     "output_type": "stream",
     "text": [
      "Saved to db successfully\n",
      "Done with link 3287: https://www.zoopla.co.uk/for-sale/details/63459063/?search_identifier=75b6aefbea73f3b274536e79d4e93917402314db95c3d2233114bf3728b3459a\n",
      "Starting extraction for link 3288: https://www.zoopla.co.uk/for-sale/details/63425460/?search_identifier=75b6aefbea73f3b274536e79d4e93917402314db95c3d2233114bf3728b3459a\n"
     ]
    },
    {
     "name": "stderr",
     "output_type": "stream",
     "text": [
      "could not detect version_main.therefore, we are assuming it is chrome 108 or higher\n"
     ]
    },
    {
     "name": "stdout",
     "output_type": "stream",
     "text": [
      "Saved to db successfully\n",
      "Done with link 3288: https://www.zoopla.co.uk/for-sale/details/63425460/?search_identifier=75b6aefbea73f3b274536e79d4e93917402314db95c3d2233114bf3728b3459a\n",
      "Starting extraction for link 3289: https://www.zoopla.co.uk/for-sale/details/63361165/?search_identifier=75b6aefbea73f3b274536e79d4e93917402314db95c3d2233114bf3728b3459a\n"
     ]
    },
    {
     "name": "stderr",
     "output_type": "stream",
     "text": [
      "could not detect version_main.therefore, we are assuming it is chrome 108 or higher\n"
     ]
    },
    {
     "name": "stdout",
     "output_type": "stream",
     "text": [
      "Saved to db successfully\n",
      "Done with link 3289: https://www.zoopla.co.uk/for-sale/details/63361165/?search_identifier=75b6aefbea73f3b274536e79d4e93917402314db95c3d2233114bf3728b3459a\n",
      "Starting extraction for link 3290: https://www.zoopla.co.uk/for-sale/details/63313502/?search_identifier=75b6aefbea73f3b274536e79d4e93917402314db95c3d2233114bf3728b3459a\n"
     ]
    },
    {
     "name": "stderr",
     "output_type": "stream",
     "text": [
      "could not detect version_main.therefore, we are assuming it is chrome 108 or higher\n"
     ]
    },
    {
     "name": "stdout",
     "output_type": "stream",
     "text": [
      "Saved to db successfully\n",
      "Done with link 3290: https://www.zoopla.co.uk/for-sale/details/63313502/?search_identifier=75b6aefbea73f3b274536e79d4e93917402314db95c3d2233114bf3728b3459a\n",
      "Starting extraction for link 3291: https://www.zoopla.co.uk/for-sale/details/63090647/?search_identifier=75b6aefbea73f3b274536e79d4e93917402314db95c3d2233114bf3728b3459a\n"
     ]
    },
    {
     "name": "stderr",
     "output_type": "stream",
     "text": [
      "could not detect version_main.therefore, we are assuming it is chrome 108 or higher\n"
     ]
    },
    {
     "name": "stdout",
     "output_type": "stream",
     "text": [
      "Saved to db successfully\n",
      "Done with link 3291: https://www.zoopla.co.uk/for-sale/details/63090647/?search_identifier=75b6aefbea73f3b274536e79d4e93917402314db95c3d2233114bf3728b3459a\n",
      "Starting extraction for link 3292: https://www.zoopla.co.uk/for-sale/details/62862903/?search_identifier=75b6aefbea73f3b274536e79d4e93917402314db95c3d2233114bf3728b3459a\n"
     ]
    },
    {
     "name": "stderr",
     "output_type": "stream",
     "text": [
      "could not detect version_main.therefore, we are assuming it is chrome 108 or higher\n"
     ]
    },
    {
     "name": "stdout",
     "output_type": "stream",
     "text": [
      "Saved to db successfully\n",
      "Done with link 3292: https://www.zoopla.co.uk/for-sale/details/62862903/?search_identifier=75b6aefbea73f3b274536e79d4e93917402314db95c3d2233114bf3728b3459a\n",
      "Starting extraction for link 3293: https://www.zoopla.co.uk/for-sale/details/62850805/?search_identifier=75b6aefbea73f3b274536e79d4e93917402314db95c3d2233114bf3728b3459a\n"
     ]
    },
    {
     "name": "stderr",
     "output_type": "stream",
     "text": [
      "could not detect version_main.therefore, we are assuming it is chrome 108 or higher\n"
     ]
    },
    {
     "name": "stdout",
     "output_type": "stream",
     "text": [
      "Saved to db successfully\n",
      "Done with link 3293: https://www.zoopla.co.uk/for-sale/details/62850805/?search_identifier=75b6aefbea73f3b274536e79d4e93917402314db95c3d2233114bf3728b3459a\n",
      "Starting extraction for link 3294: https://www.zoopla.co.uk/for-sale/details/60015807/?search_identifier=75b6aefbea73f3b274536e79d4e93917402314db95c3d2233114bf3728b3459a\n"
     ]
    },
    {
     "name": "stderr",
     "output_type": "stream",
     "text": [
      "could not detect version_main.therefore, we are assuming it is chrome 108 or higher\n"
     ]
    },
    {
     "name": "stdout",
     "output_type": "stream",
     "text": [
      "Saved to db successfully\n",
      "Done with link 3294: https://www.zoopla.co.uk/for-sale/details/60015807/?search_identifier=75b6aefbea73f3b274536e79d4e93917402314db95c3d2233114bf3728b3459a\n",
      "Starting extraction for link 3295: https://www.zoopla.co.uk/for-sale/details/62678493/?search_identifier=75b6aefbea73f3b274536e79d4e93917402314db95c3d2233114bf3728b3459a\n"
     ]
    },
    {
     "name": "stderr",
     "output_type": "stream",
     "text": [
      "could not detect version_main.therefore, we are assuming it is chrome 108 or higher\n"
     ]
    },
    {
     "name": "stdout",
     "output_type": "stream",
     "text": [
      "Saved to db successfully\n",
      "Done with link 3295: https://www.zoopla.co.uk/for-sale/details/62678493/?search_identifier=75b6aefbea73f3b274536e79d4e93917402314db95c3d2233114bf3728b3459a\n",
      "Starting extraction for link 3296: https://www.zoopla.co.uk/for-sale/details/62620232/?search_identifier=75b6aefbea73f3b274536e79d4e93917402314db95c3d2233114bf3728b3459a\n"
     ]
    },
    {
     "name": "stderr",
     "output_type": "stream",
     "text": [
      "could not detect version_main.therefore, we are assuming it is chrome 108 or higher\n"
     ]
    },
    {
     "name": "stdout",
     "output_type": "stream",
     "text": [
      "Saved to db successfully\n",
      "Done with link 3296: https://www.zoopla.co.uk/for-sale/details/62620232/?search_identifier=75b6aefbea73f3b274536e79d4e93917402314db95c3d2233114bf3728b3459a\n",
      "Starting extraction for link 3297: https://www.zoopla.co.uk/for-sale/details/62590361/?search_identifier=75b6aefbea73f3b274536e79d4e93917402314db95c3d2233114bf3728b3459a\n"
     ]
    },
    {
     "name": "stderr",
     "output_type": "stream",
     "text": [
      "could not detect version_main.therefore, we are assuming it is chrome 108 or higher\n"
     ]
    },
    {
     "name": "stdout",
     "output_type": "stream",
     "text": [
      "Saved to db successfully\n",
      "Done with link 3297: https://www.zoopla.co.uk/for-sale/details/62590361/?search_identifier=75b6aefbea73f3b274536e79d4e93917402314db95c3d2233114bf3728b3459a\n",
      "Starting extraction for link 3298: https://www.zoopla.co.uk/for-sale/details/62488296/?search_identifier=75b6aefbea73f3b274536e79d4e93917402314db95c3d2233114bf3728b3459a\n"
     ]
    },
    {
     "name": "stderr",
     "output_type": "stream",
     "text": [
      "could not detect version_main.therefore, we are assuming it is chrome 108 or higher\n"
     ]
    },
    {
     "name": "stdout",
     "output_type": "stream",
     "text": [
      "Saved to db successfully\n",
      "Done with link 3298: https://www.zoopla.co.uk/for-sale/details/62488296/?search_identifier=75b6aefbea73f3b274536e79d4e93917402314db95c3d2233114bf3728b3459a\n",
      "Starting extraction for link 3299: https://www.zoopla.co.uk/for-sale/details/61937795/?search_identifier=75b6aefbea73f3b274536e79d4e93917402314db95c3d2233114bf3728b3459a\n"
     ]
    },
    {
     "name": "stderr",
     "output_type": "stream",
     "text": [
      "could not detect version_main.therefore, we are assuming it is chrome 108 or higher\n"
     ]
    },
    {
     "name": "stdout",
     "output_type": "stream",
     "text": [
      "Saved to db successfully\n",
      "Done with link 3299: https://www.zoopla.co.uk/for-sale/details/61937795/?search_identifier=75b6aefbea73f3b274536e79d4e93917402314db95c3d2233114bf3728b3459a\n",
      "Starting extraction for link 3300: https://www.zoopla.co.uk/for-sale/details/61989823/?search_identifier=75b6aefbea73f3b274536e79d4e93917402314db95c3d2233114bf3728b3459a\n"
     ]
    },
    {
     "name": "stderr",
     "output_type": "stream",
     "text": [
      "could not detect version_main.therefore, we are assuming it is chrome 108 or higher\n"
     ]
    },
    {
     "name": "stdout",
     "output_type": "stream",
     "text": [
      "Saved to db successfully\n",
      "Done with link 3300: https://www.zoopla.co.uk/for-sale/details/61989823/?search_identifier=75b6aefbea73f3b274536e79d4e93917402314db95c3d2233114bf3728b3459a\n",
      "Starting extraction for link 3301: https://www.zoopla.co.uk/for-sale/details/61976590/?search_identifier=928089c9f1fe42b33a0fe6090375d43c340f6801de442ff050b75eb14b12c94d\n"
     ]
    },
    {
     "name": "stderr",
     "output_type": "stream",
     "text": [
      "could not detect version_main.therefore, we are assuming it is chrome 108 or higher\n"
     ]
    },
    {
     "name": "stdout",
     "output_type": "stream",
     "text": [
      "Saved to db successfully\n",
      "Done with link 3301: https://www.zoopla.co.uk/for-sale/details/61976590/?search_identifier=928089c9f1fe42b33a0fe6090375d43c340f6801de442ff050b75eb14b12c94d\n",
      "Starting extraction for link 3302: https://www.zoopla.co.uk/for-sale/details/60170103/?search_identifier=928089c9f1fe42b33a0fe6090375d43c340f6801de442ff050b75eb14b12c94d\n"
     ]
    },
    {
     "name": "stderr",
     "output_type": "stream",
     "text": [
      "could not detect version_main.therefore, we are assuming it is chrome 108 or higher\n"
     ]
    },
    {
     "name": "stdout",
     "output_type": "stream",
     "text": [
      "Saved to db successfully\n",
      "Done with link 3302: https://www.zoopla.co.uk/for-sale/details/60170103/?search_identifier=928089c9f1fe42b33a0fe6090375d43c340f6801de442ff050b75eb14b12c94d\n",
      "Starting extraction for link 3303: https://www.zoopla.co.uk/for-sale/details/65216963/?search_identifier=b13d2be75fec77ec443795006f4515fcb64ac8893596042a9bd56e2c4b431ccc\n"
     ]
    },
    {
     "name": "stderr",
     "output_type": "stream",
     "text": [
      "could not detect version_main.therefore, we are assuming it is chrome 108 or higher\n"
     ]
    },
    {
     "name": "stdout",
     "output_type": "stream",
     "text": [
      "Saved to db successfully\n",
      "Done with link 3303: https://www.zoopla.co.uk/for-sale/details/65216963/?search_identifier=b13d2be75fec77ec443795006f4515fcb64ac8893596042a9bd56e2c4b431ccc\n",
      "Starting extraction for link 3304: https://www.zoopla.co.uk/for-sale/details/65214272/?search_identifier=b13d2be75fec77ec443795006f4515fcb64ac8893596042a9bd56e2c4b431ccc\n"
     ]
    },
    {
     "name": "stderr",
     "output_type": "stream",
     "text": [
      "could not detect version_main.therefore, we are assuming it is chrome 108 or higher\n"
     ]
    },
    {
     "name": "stdout",
     "output_type": "stream",
     "text": [
      "Saved to db successfully\n",
      "Done with link 3304: https://www.zoopla.co.uk/for-sale/details/65214272/?search_identifier=b13d2be75fec77ec443795006f4515fcb64ac8893596042a9bd56e2c4b431ccc\n",
      "Starting extraction for link 3305: https://www.zoopla.co.uk/for-sale/details/65213964/?search_identifier=b13d2be75fec77ec443795006f4515fcb64ac8893596042a9bd56e2c4b431ccc\n"
     ]
    },
    {
     "name": "stderr",
     "output_type": "stream",
     "text": [
      "could not detect version_main.therefore, we are assuming it is chrome 108 or higher\n"
     ]
    },
    {
     "name": "stdout",
     "output_type": "stream",
     "text": [
      "Saved to db successfully\n",
      "Done with link 3305: https://www.zoopla.co.uk/for-sale/details/65213964/?search_identifier=b13d2be75fec77ec443795006f4515fcb64ac8893596042a9bd56e2c4b431ccc\n",
      "Starting extraction for link 3306: https://www.zoopla.co.uk/for-sale/details/65212395/?search_identifier=b13d2be75fec77ec443795006f4515fcb64ac8893596042a9bd56e2c4b431ccc\n"
     ]
    },
    {
     "name": "stderr",
     "output_type": "stream",
     "text": [
      "could not detect version_main.therefore, we are assuming it is chrome 108 or higher\n"
     ]
    },
    {
     "name": "stdout",
     "output_type": "stream",
     "text": [
      "Saved to db successfully\n",
      "Done with link 3306: https://www.zoopla.co.uk/for-sale/details/65212395/?search_identifier=b13d2be75fec77ec443795006f4515fcb64ac8893596042a9bd56e2c4b431ccc\n",
      "Starting extraction for link 3307: https://www.zoopla.co.uk/for-sale/details/65204708/?search_identifier=b13d2be75fec77ec443795006f4515fcb64ac8893596042a9bd56e2c4b431ccc\n"
     ]
    },
    {
     "name": "stderr",
     "output_type": "stream",
     "text": [
      "could not detect version_main.therefore, we are assuming it is chrome 108 or higher\n"
     ]
    },
    {
     "name": "stdout",
     "output_type": "stream",
     "text": [
      "Saved to db successfully\n",
      "Done with link 3307: https://www.zoopla.co.uk/for-sale/details/65204708/?search_identifier=b13d2be75fec77ec443795006f4515fcb64ac8893596042a9bd56e2c4b431ccc\n",
      "Starting extraction for link 3308: https://www.zoopla.co.uk/for-sale/details/65199946/?search_identifier=b13d2be75fec77ec443795006f4515fcb64ac8893596042a9bd56e2c4b431ccc\n"
     ]
    },
    {
     "name": "stderr",
     "output_type": "stream",
     "text": [
      "could not detect version_main.therefore, we are assuming it is chrome 108 or higher\n"
     ]
    },
    {
     "name": "stdout",
     "output_type": "stream",
     "text": [
      "Saved to db successfully\n",
      "Done with link 3308: https://www.zoopla.co.uk/for-sale/details/65199946/?search_identifier=b13d2be75fec77ec443795006f4515fcb64ac8893596042a9bd56e2c4b431ccc\n",
      "Starting extraction for link 3309: https://www.zoopla.co.uk/for-sale/details/65198703/?search_identifier=b13d2be75fec77ec443795006f4515fcb64ac8893596042a9bd56e2c4b431ccc\n"
     ]
    },
    {
     "name": "stderr",
     "output_type": "stream",
     "text": [
      "could not detect version_main.therefore, we are assuming it is chrome 108 or higher\n"
     ]
    },
    {
     "name": "stdout",
     "output_type": "stream",
     "text": [
      "Saved to db successfully\n",
      "Done with link 3309: https://www.zoopla.co.uk/for-sale/details/65198703/?search_identifier=b13d2be75fec77ec443795006f4515fcb64ac8893596042a9bd56e2c4b431ccc\n",
      "Starting extraction for link 3310: https://www.zoopla.co.uk/for-sale/details/65195025/?search_identifier=b13d2be75fec77ec443795006f4515fcb64ac8893596042a9bd56e2c4b431ccc\n"
     ]
    },
    {
     "name": "stderr",
     "output_type": "stream",
     "text": [
      "could not detect version_main.therefore, we are assuming it is chrome 108 or higher\n"
     ]
    },
    {
     "name": "stdout",
     "output_type": "stream",
     "text": [
      "Saved to db successfully\n",
      "Done with link 3310: https://www.zoopla.co.uk/for-sale/details/65195025/?search_identifier=b13d2be75fec77ec443795006f4515fcb64ac8893596042a9bd56e2c4b431ccc\n",
      "Starting extraction for link 3311: https://www.zoopla.co.uk/for-sale/details/65162310/?search_identifier=b13d2be75fec77ec443795006f4515fcb64ac8893596042a9bd56e2c4b431ccc\n"
     ]
    },
    {
     "name": "stderr",
     "output_type": "stream",
     "text": [
      "could not detect version_main.therefore, we are assuming it is chrome 108 or higher\n"
     ]
    },
    {
     "name": "stdout",
     "output_type": "stream",
     "text": [
      "Saved to db successfully\n",
      "Done with link 3311: https://www.zoopla.co.uk/for-sale/details/65162310/?search_identifier=b13d2be75fec77ec443795006f4515fcb64ac8893596042a9bd56e2c4b431ccc\n",
      "Starting extraction for link 3312: https://www.zoopla.co.uk/for-sale/details/65151563/?search_identifier=b13d2be75fec77ec443795006f4515fcb64ac8893596042a9bd56e2c4b431ccc\n"
     ]
    },
    {
     "name": "stderr",
     "output_type": "stream",
     "text": [
      "could not detect version_main.therefore, we are assuming it is chrome 108 or higher\n"
     ]
    },
    {
     "name": "stdout",
     "output_type": "stream",
     "text": [
      "Saved to db successfully\n",
      "Done with link 3312: https://www.zoopla.co.uk/for-sale/details/65151563/?search_identifier=b13d2be75fec77ec443795006f4515fcb64ac8893596042a9bd56e2c4b431ccc\n",
      "Starting extraction for link 3313: https://www.zoopla.co.uk/for-sale/details/65142189/?search_identifier=b13d2be75fec77ec443795006f4515fcb64ac8893596042a9bd56e2c4b431ccc\n"
     ]
    },
    {
     "name": "stderr",
     "output_type": "stream",
     "text": [
      "could not detect version_main.therefore, we are assuming it is chrome 108 or higher\n"
     ]
    },
    {
     "name": "stdout",
     "output_type": "stream",
     "text": [
      "Saved to db successfully\n",
      "Done with link 3313: https://www.zoopla.co.uk/for-sale/details/65142189/?search_identifier=b13d2be75fec77ec443795006f4515fcb64ac8893596042a9bd56e2c4b431ccc\n",
      "Starting extraction for link 3314: https://www.zoopla.co.uk/for-sale/details/65124201/?search_identifier=b13d2be75fec77ec443795006f4515fcb64ac8893596042a9bd56e2c4b431ccc\n"
     ]
    },
    {
     "name": "stderr",
     "output_type": "stream",
     "text": [
      "could not detect version_main.therefore, we are assuming it is chrome 108 or higher\n"
     ]
    },
    {
     "name": "stdout",
     "output_type": "stream",
     "text": [
      "Saved to db successfully\n",
      "Done with link 3314: https://www.zoopla.co.uk/for-sale/details/65124201/?search_identifier=b13d2be75fec77ec443795006f4515fcb64ac8893596042a9bd56e2c4b431ccc\n",
      "Starting extraction for link 3315: https://www.zoopla.co.uk/for-sale/details/65103711/?search_identifier=b13d2be75fec77ec443795006f4515fcb64ac8893596042a9bd56e2c4b431ccc\n"
     ]
    },
    {
     "name": "stderr",
     "output_type": "stream",
     "text": [
      "could not detect version_main.therefore, we are assuming it is chrome 108 or higher\n"
     ]
    },
    {
     "name": "stdout",
     "output_type": "stream",
     "text": [
      "Saved to db successfully\n",
      "Done with link 3315: https://www.zoopla.co.uk/for-sale/details/65103711/?search_identifier=b13d2be75fec77ec443795006f4515fcb64ac8893596042a9bd56e2c4b431ccc\n",
      "Starting extraction for link 3316: https://www.zoopla.co.uk/for-sale/details/65103574/?search_identifier=b13d2be75fec77ec443795006f4515fcb64ac8893596042a9bd56e2c4b431ccc\n"
     ]
    },
    {
     "name": "stderr",
     "output_type": "stream",
     "text": [
      "could not detect version_main.therefore, we are assuming it is chrome 108 or higher\n"
     ]
    },
    {
     "name": "stdout",
     "output_type": "stream",
     "text": [
      "Saved to db successfully\n",
      "Done with link 3316: https://www.zoopla.co.uk/for-sale/details/65103574/?search_identifier=b13d2be75fec77ec443795006f4515fcb64ac8893596042a9bd56e2c4b431ccc\n",
      "Starting extraction for link 3317: https://www.zoopla.co.uk/for-sale/details/65090272/?search_identifier=b13d2be75fec77ec443795006f4515fcb64ac8893596042a9bd56e2c4b431ccc\n"
     ]
    },
    {
     "name": "stderr",
     "output_type": "stream",
     "text": [
      "could not detect version_main.therefore, we are assuming it is chrome 108 or higher\n"
     ]
    },
    {
     "name": "stdout",
     "output_type": "stream",
     "text": [
      "Saved to db successfully\n",
      "Done with link 3317: https://www.zoopla.co.uk/for-sale/details/65090272/?search_identifier=b13d2be75fec77ec443795006f4515fcb64ac8893596042a9bd56e2c4b431ccc\n",
      "Starting extraction for link 3318: https://www.zoopla.co.uk/for-sale/details/65086286/?search_identifier=b13d2be75fec77ec443795006f4515fcb64ac8893596042a9bd56e2c4b431ccc\n"
     ]
    },
    {
     "name": "stderr",
     "output_type": "stream",
     "text": [
      "could not detect version_main.therefore, we are assuming it is chrome 108 or higher\n"
     ]
    },
    {
     "name": "stdout",
     "output_type": "stream",
     "text": [
      "Saved to db successfully\n",
      "Done with link 3318: https://www.zoopla.co.uk/for-sale/details/65086286/?search_identifier=b13d2be75fec77ec443795006f4515fcb64ac8893596042a9bd56e2c4b431ccc\n",
      "Starting extraction for link 3319: https://www.zoopla.co.uk/for-sale/details/65083187/?search_identifier=b13d2be75fec77ec443795006f4515fcb64ac8893596042a9bd56e2c4b431ccc\n"
     ]
    },
    {
     "name": "stderr",
     "output_type": "stream",
     "text": [
      "could not detect version_main.therefore, we are assuming it is chrome 108 or higher\n"
     ]
    },
    {
     "name": "stdout",
     "output_type": "stream",
     "text": [
      "Saved to db successfully\n",
      "Done with link 3319: https://www.zoopla.co.uk/for-sale/details/65083187/?search_identifier=b13d2be75fec77ec443795006f4515fcb64ac8893596042a9bd56e2c4b431ccc\n",
      "Starting extraction for link 3320: https://www.zoopla.co.uk/for-sale/details/65078418/?search_identifier=b13d2be75fec77ec443795006f4515fcb64ac8893596042a9bd56e2c4b431ccc\n"
     ]
    },
    {
     "name": "stderr",
     "output_type": "stream",
     "text": [
      "could not detect version_main.therefore, we are assuming it is chrome 108 or higher\n"
     ]
    },
    {
     "name": "stdout",
     "output_type": "stream",
     "text": [
      "Saved to db successfully\n",
      "Done with link 3320: https://www.zoopla.co.uk/for-sale/details/65078418/?search_identifier=b13d2be75fec77ec443795006f4515fcb64ac8893596042a9bd56e2c4b431ccc\n",
      "Starting extraction for link 3321: https://www.zoopla.co.uk/for-sale/details/65072752/?search_identifier=b13d2be75fec77ec443795006f4515fcb64ac8893596042a9bd56e2c4b431ccc\n"
     ]
    },
    {
     "name": "stderr",
     "output_type": "stream",
     "text": [
      "could not detect version_main.therefore, we are assuming it is chrome 108 or higher\n"
     ]
    },
    {
     "name": "stdout",
     "output_type": "stream",
     "text": [
      "Saved to db successfully\n",
      "Done with link 3321: https://www.zoopla.co.uk/for-sale/details/65072752/?search_identifier=b13d2be75fec77ec443795006f4515fcb64ac8893596042a9bd56e2c4b431ccc\n",
      "Starting extraction for link 3322: https://www.zoopla.co.uk/for-sale/details/65068815/?search_identifier=b13d2be75fec77ec443795006f4515fcb64ac8893596042a9bd56e2c4b431ccc\n"
     ]
    },
    {
     "name": "stderr",
     "output_type": "stream",
     "text": [
      "could not detect version_main.therefore, we are assuming it is chrome 108 or higher\n"
     ]
    },
    {
     "name": "stdout",
     "output_type": "stream",
     "text": [
      "Saved to db successfully\n",
      "Done with link 3322: https://www.zoopla.co.uk/for-sale/details/65068815/?search_identifier=b13d2be75fec77ec443795006f4515fcb64ac8893596042a9bd56e2c4b431ccc\n",
      "Starting extraction for link 3323: https://www.zoopla.co.uk/for-sale/details/65047902/?search_identifier=b13d2be75fec77ec443795006f4515fcb64ac8893596042a9bd56e2c4b431ccc\n"
     ]
    },
    {
     "name": "stderr",
     "output_type": "stream",
     "text": [
      "could not detect version_main.therefore, we are assuming it is chrome 108 or higher\n"
     ]
    },
    {
     "name": "stdout",
     "output_type": "stream",
     "text": [
      "Saved to db successfully\n",
      "Done with link 3323: https://www.zoopla.co.uk/for-sale/details/65047902/?search_identifier=b13d2be75fec77ec443795006f4515fcb64ac8893596042a9bd56e2c4b431ccc\n",
      "Starting extraction for link 3324: https://www.zoopla.co.uk/for-sale/details/65043493/?search_identifier=b13d2be75fec77ec443795006f4515fcb64ac8893596042a9bd56e2c4b431ccc\n"
     ]
    },
    {
     "name": "stderr",
     "output_type": "stream",
     "text": [
      "could not detect version_main.therefore, we are assuming it is chrome 108 or higher\n"
     ]
    },
    {
     "name": "stdout",
     "output_type": "stream",
     "text": [
      "Saved to db successfully\n",
      "Done with link 3324: https://www.zoopla.co.uk/for-sale/details/65043493/?search_identifier=b13d2be75fec77ec443795006f4515fcb64ac8893596042a9bd56e2c4b431ccc\n",
      "Starting extraction for link 3325: https://www.zoopla.co.uk/for-sale/details/65027843/?search_identifier=b13d2be75fec77ec443795006f4515fcb64ac8893596042a9bd56e2c4b431ccc\n"
     ]
    },
    {
     "name": "stderr",
     "output_type": "stream",
     "text": [
      "could not detect version_main.therefore, we are assuming it is chrome 108 or higher\n"
     ]
    },
    {
     "name": "stdout",
     "output_type": "stream",
     "text": [
      "Saved to db successfully\n",
      "Done with link 3325: https://www.zoopla.co.uk/for-sale/details/65027843/?search_identifier=b13d2be75fec77ec443795006f4515fcb64ac8893596042a9bd56e2c4b431ccc\n",
      "Starting extraction for link 3326: https://www.zoopla.co.uk/for-sale/details/65023450/?search_identifier=b13d2be75fec77ec443795006f4515fcb64ac8893596042a9bd56e2c4b431ccc\n"
     ]
    },
    {
     "name": "stderr",
     "output_type": "stream",
     "text": [
      "could not detect version_main.therefore, we are assuming it is chrome 108 or higher\n"
     ]
    },
    {
     "name": "stdout",
     "output_type": "stream",
     "text": [
      "Saved to db successfully\n",
      "Done with link 3326: https://www.zoopla.co.uk/for-sale/details/65023450/?search_identifier=b13d2be75fec77ec443795006f4515fcb64ac8893596042a9bd56e2c4b431ccc\n",
      "Starting extraction for link 3327: https://www.zoopla.co.uk/for-sale/details/65021350/?search_identifier=b13d2be75fec77ec443795006f4515fcb64ac8893596042a9bd56e2c4b431ccc\n"
     ]
    },
    {
     "name": "stderr",
     "output_type": "stream",
     "text": [
      "could not detect version_main.therefore, we are assuming it is chrome 108 or higher\n"
     ]
    },
    {
     "name": "stdout",
     "output_type": "stream",
     "text": [
      "Saved to db successfully\n",
      "Done with link 3327: https://www.zoopla.co.uk/for-sale/details/65021350/?search_identifier=b13d2be75fec77ec443795006f4515fcb64ac8893596042a9bd56e2c4b431ccc\n",
      "Starting extraction for link 3328: https://www.zoopla.co.uk/for-sale/details/65020345/?search_identifier=fc4c7aeb070d0509a7516eedd39fbb568def1c363a509697d09c84a016c3e853\n"
     ]
    },
    {
     "name": "stderr",
     "output_type": "stream",
     "text": [
      "could not detect version_main.therefore, we are assuming it is chrome 108 or higher\n"
     ]
    },
    {
     "name": "stdout",
     "output_type": "stream",
     "text": [
      "Saved to db successfully\n",
      "Done with link 3328: https://www.zoopla.co.uk/for-sale/details/65020345/?search_identifier=fc4c7aeb070d0509a7516eedd39fbb568def1c363a509697d09c84a016c3e853\n",
      "Starting extraction for link 3329: https://www.zoopla.co.uk/for-sale/details/65015567/?search_identifier=fc4c7aeb070d0509a7516eedd39fbb568def1c363a509697d09c84a016c3e853\n"
     ]
    },
    {
     "name": "stderr",
     "output_type": "stream",
     "text": [
      "could not detect version_main.therefore, we are assuming it is chrome 108 or higher\n"
     ]
    },
    {
     "name": "stdout",
     "output_type": "stream",
     "text": [
      "Saved to db successfully\n",
      "Done with link 3329: https://www.zoopla.co.uk/for-sale/details/65015567/?search_identifier=fc4c7aeb070d0509a7516eedd39fbb568def1c363a509697d09c84a016c3e853\n",
      "Starting extraction for link 3330: https://www.zoopla.co.uk/for-sale/details/65007834/?search_identifier=fc4c7aeb070d0509a7516eedd39fbb568def1c363a509697d09c84a016c3e853\n"
     ]
    },
    {
     "name": "stderr",
     "output_type": "stream",
     "text": [
      "could not detect version_main.therefore, we are assuming it is chrome 108 or higher\n"
     ]
    },
    {
     "name": "stdout",
     "output_type": "stream",
     "text": [
      "Saved to db successfully\n",
      "Done with link 3330: https://www.zoopla.co.uk/for-sale/details/65007834/?search_identifier=fc4c7aeb070d0509a7516eedd39fbb568def1c363a509697d09c84a016c3e853\n",
      "Starting extraction for link 3331: https://www.zoopla.co.uk/for-sale/details/65003090/?search_identifier=fc4c7aeb070d0509a7516eedd39fbb568def1c363a509697d09c84a016c3e853\n"
     ]
    },
    {
     "name": "stderr",
     "output_type": "stream",
     "text": [
      "could not detect version_main.therefore, we are assuming it is chrome 108 or higher\n"
     ]
    },
    {
     "name": "stdout",
     "output_type": "stream",
     "text": [
      "Saved to db successfully\n",
      "Done with link 3331: https://www.zoopla.co.uk/for-sale/details/65003090/?search_identifier=fc4c7aeb070d0509a7516eedd39fbb568def1c363a509697d09c84a016c3e853\n",
      "Starting extraction for link 3332: https://www.zoopla.co.uk/for-sale/details/64994081/?search_identifier=fc4c7aeb070d0509a7516eedd39fbb568def1c363a509697d09c84a016c3e853\n"
     ]
    },
    {
     "name": "stderr",
     "output_type": "stream",
     "text": [
      "could not detect version_main.therefore, we are assuming it is chrome 108 or higher\n"
     ]
    },
    {
     "name": "stdout",
     "output_type": "stream",
     "text": [
      "Saved to db successfully\n",
      "Done with link 3332: https://www.zoopla.co.uk/for-sale/details/64994081/?search_identifier=fc4c7aeb070d0509a7516eedd39fbb568def1c363a509697d09c84a016c3e853\n",
      "Starting extraction for link 3333: https://www.zoopla.co.uk/for-sale/details/64993993/?search_identifier=fc4c7aeb070d0509a7516eedd39fbb568def1c363a509697d09c84a016c3e853\n"
     ]
    },
    {
     "name": "stderr",
     "output_type": "stream",
     "text": [
      "could not detect version_main.therefore, we are assuming it is chrome 108 or higher\n"
     ]
    },
    {
     "name": "stdout",
     "output_type": "stream",
     "text": [
      "Saved to db successfully\n",
      "Done with link 3333: https://www.zoopla.co.uk/for-sale/details/64993993/?search_identifier=fc4c7aeb070d0509a7516eedd39fbb568def1c363a509697d09c84a016c3e853\n",
      "Starting extraction for link 3334: https://www.zoopla.co.uk/for-sale/details/64993269/?search_identifier=fc4c7aeb070d0509a7516eedd39fbb568def1c363a509697d09c84a016c3e853\n"
     ]
    },
    {
     "name": "stderr",
     "output_type": "stream",
     "text": [
      "could not detect version_main.therefore, we are assuming it is chrome 108 or higher\n"
     ]
    },
    {
     "name": "stdout",
     "output_type": "stream",
     "text": [
      "Saved to db successfully\n",
      "Done with link 3334: https://www.zoopla.co.uk/for-sale/details/64993269/?search_identifier=fc4c7aeb070d0509a7516eedd39fbb568def1c363a509697d09c84a016c3e853\n",
      "Starting extraction for link 3335: https://www.zoopla.co.uk/for-sale/details/64988791/?search_identifier=fc4c7aeb070d0509a7516eedd39fbb568def1c363a509697d09c84a016c3e853\n"
     ]
    },
    {
     "name": "stderr",
     "output_type": "stream",
     "text": [
      "could not detect version_main.therefore, we are assuming it is chrome 108 or higher\n"
     ]
    },
    {
     "name": "stdout",
     "output_type": "stream",
     "text": [
      "Saved to db successfully\n",
      "Done with link 3335: https://www.zoopla.co.uk/for-sale/details/64988791/?search_identifier=fc4c7aeb070d0509a7516eedd39fbb568def1c363a509697d09c84a016c3e853\n",
      "Starting extraction for link 3336: https://www.zoopla.co.uk/for-sale/details/64964610/?search_identifier=fc4c7aeb070d0509a7516eedd39fbb568def1c363a509697d09c84a016c3e853\n"
     ]
    },
    {
     "name": "stderr",
     "output_type": "stream",
     "text": [
      "could not detect version_main.therefore, we are assuming it is chrome 108 or higher\n"
     ]
    },
    {
     "name": "stdout",
     "output_type": "stream",
     "text": [
      "Saved to db successfully\n",
      "Done with link 3336: https://www.zoopla.co.uk/for-sale/details/64964610/?search_identifier=fc4c7aeb070d0509a7516eedd39fbb568def1c363a509697d09c84a016c3e853\n",
      "Starting extraction for link 3337: https://www.zoopla.co.uk/for-sale/details/64956857/?search_identifier=fc4c7aeb070d0509a7516eedd39fbb568def1c363a509697d09c84a016c3e853\n"
     ]
    },
    {
     "name": "stderr",
     "output_type": "stream",
     "text": [
      "could not detect version_main.therefore, we are assuming it is chrome 108 or higher\n"
     ]
    },
    {
     "name": "stdout",
     "output_type": "stream",
     "text": [
      "Saved to db successfully\n",
      "Done with link 3337: https://www.zoopla.co.uk/for-sale/details/64956857/?search_identifier=fc4c7aeb070d0509a7516eedd39fbb568def1c363a509697d09c84a016c3e853\n",
      "Starting extraction for link 3338: https://www.zoopla.co.uk/for-sale/details/64938828/?search_identifier=fc4c7aeb070d0509a7516eedd39fbb568def1c363a509697d09c84a016c3e853\n"
     ]
    },
    {
     "name": "stderr",
     "output_type": "stream",
     "text": [
      "could not detect version_main.therefore, we are assuming it is chrome 108 or higher\n"
     ]
    },
    {
     "name": "stdout",
     "output_type": "stream",
     "text": [
      "Saved to db successfully\n",
      "Done with link 3338: https://www.zoopla.co.uk/for-sale/details/64938828/?search_identifier=fc4c7aeb070d0509a7516eedd39fbb568def1c363a509697d09c84a016c3e853\n",
      "Starting extraction for link 3339: https://www.zoopla.co.uk/for-sale/details/64911683/?search_identifier=fc4c7aeb070d0509a7516eedd39fbb568def1c363a509697d09c84a016c3e853\n"
     ]
    },
    {
     "name": "stderr",
     "output_type": "stream",
     "text": [
      "could not detect version_main.therefore, we are assuming it is chrome 108 or higher\n"
     ]
    },
    {
     "name": "stdout",
     "output_type": "stream",
     "text": [
      "Saved to db successfully\n",
      "Done with link 3339: https://www.zoopla.co.uk/for-sale/details/64911683/?search_identifier=fc4c7aeb070d0509a7516eedd39fbb568def1c363a509697d09c84a016c3e853\n",
      "Starting extraction for link 3340: https://www.zoopla.co.uk/for-sale/details/64900526/?search_identifier=fc4c7aeb070d0509a7516eedd39fbb568def1c363a509697d09c84a016c3e853\n",
      "An error occurred for link in get_data_func: https://www.zoopla.co.uk/for-sale/details/64900526/?search_identifier=fc4c7aeb070d0509a7516eedd39fbb568def1c363a509697d09c84a016c3e853: Message: no such element: Unable to locate element: {\"method\":\"xpath\",\"selector\":\"//p[@data-testid=\"price\"]\"}\n",
      "  (Session info: chrome=115.0.5790.110); For documentation on this error, please visit: https://www.selenium.dev/documentation/webdriver/troubleshooting/errors#no-such-element-exception\n",
      "Stacktrace:\n",
      "Backtrace:\n",
      "\tGetHandleVerifier [0x00E2A813+48355]\n",
      "\t(No symbol) [0x00DBC4B1]\n",
      "\t(No symbol) [0x00CC5358]\n",
      "\t(No symbol) [0x00CF09A5]\n",
      "\t(No symbol) [0x00CF0B3B]\n",
      "\t(No symbol) [0x00D1E232]\n",
      "\t(No symbol) [0x00D0A784]\n",
      "\t(No symbol) [0x00D1C922]\n",
      "\t(No symbol) [0x00D0A536]\n",
      "\t(No symbol) [0x00CE82DC]\n",
      "\t(No symbol) [0x00CE93DD]\n",
      "\tGetHandleVerifier [0x0108AABD+2539405]\n",
      "\tGetHandleVerifier [0x010CA78F+2800735]\n",
      "\tGetHandleVerifier [0x010C456C+2775612]\n",
      "\tGetHandleVerifier [0x00EB51E0+616112]\n",
      "\t(No symbol) [0x00DC5F8C]\n",
      "\t(No symbol) [0x00DC2328]\n",
      "\t(No symbol) [0x00DC240B]\n",
      "\t(No symbol) [0x00DB4FF7]\n",
      "\tBaseThreadInitThunk [0x76A57D59+25]\n",
      "\tRtlInitializeExceptionChain [0x7773B79B+107]\n",
      "\tRtlClearBits [0x7773B71F+191]\n",
      "\n"
     ]
    },
    {
     "name": "stderr",
     "output_type": "stream",
     "text": [
      "could not detect version_main.therefore, we are assuming it is chrome 108 or higher\n"
     ]
    },
    {
     "name": "stdout",
     "output_type": "stream",
     "text": [
      "Saved to db successfully\n",
      "Done with link 3340: https://www.zoopla.co.uk/for-sale/details/64900526/?search_identifier=fc4c7aeb070d0509a7516eedd39fbb568def1c363a509697d09c84a016c3e853\n",
      "Starting extraction for link 3341: https://www.zoopla.co.uk/for-sale/details/64898347/?search_identifier=fc4c7aeb070d0509a7516eedd39fbb568def1c363a509697d09c84a016c3e853\n"
     ]
    },
    {
     "name": "stderr",
     "output_type": "stream",
     "text": [
      "could not detect version_main.therefore, we are assuming it is chrome 108 or higher\n"
     ]
    },
    {
     "name": "stdout",
     "output_type": "stream",
     "text": [
      "Saved to db successfully\n",
      "Done with link 3341: https://www.zoopla.co.uk/for-sale/details/64898347/?search_identifier=fc4c7aeb070d0509a7516eedd39fbb568def1c363a509697d09c84a016c3e853\n",
      "Starting extraction for link 3342: https://www.zoopla.co.uk/for-sale/details/64898263/?search_identifier=fc4c7aeb070d0509a7516eedd39fbb568def1c363a509697d09c84a016c3e853\n"
     ]
    },
    {
     "name": "stderr",
     "output_type": "stream",
     "text": [
      "could not detect version_main.therefore, we are assuming it is chrome 108 or higher\n"
     ]
    },
    {
     "name": "stdout",
     "output_type": "stream",
     "text": [
      "Saved to db successfully\n",
      "Done with link 3342: https://www.zoopla.co.uk/for-sale/details/64898263/?search_identifier=fc4c7aeb070d0509a7516eedd39fbb568def1c363a509697d09c84a016c3e853\n",
      "Starting extraction for link 3343: https://www.zoopla.co.uk/for-sale/details/64897494/?search_identifier=fc4c7aeb070d0509a7516eedd39fbb568def1c363a509697d09c84a016c3e853\n"
     ]
    },
    {
     "name": "stderr",
     "output_type": "stream",
     "text": [
      "could not detect version_main.therefore, we are assuming it is chrome 108 or higher\n"
     ]
    },
    {
     "name": "stdout",
     "output_type": "stream",
     "text": [
      "Saved to db successfully\n",
      "Done with link 3343: https://www.zoopla.co.uk/for-sale/details/64897494/?search_identifier=fc4c7aeb070d0509a7516eedd39fbb568def1c363a509697d09c84a016c3e853\n",
      "Starting extraction for link 3344: https://www.zoopla.co.uk/for-sale/details/64896614/?search_identifier=fc4c7aeb070d0509a7516eedd39fbb568def1c363a509697d09c84a016c3e853\n"
     ]
    },
    {
     "name": "stderr",
     "output_type": "stream",
     "text": [
      "could not detect version_main.therefore, we are assuming it is chrome 108 or higher\n"
     ]
    },
    {
     "name": "stdout",
     "output_type": "stream",
     "text": [
      "Saved to db successfully\n",
      "Done with link 3344: https://www.zoopla.co.uk/for-sale/details/64896614/?search_identifier=fc4c7aeb070d0509a7516eedd39fbb568def1c363a509697d09c84a016c3e853\n",
      "Starting extraction for link 3345: https://www.zoopla.co.uk/for-sale/details/64896022/?search_identifier=fc4c7aeb070d0509a7516eedd39fbb568def1c363a509697d09c84a016c3e853\n"
     ]
    },
    {
     "name": "stderr",
     "output_type": "stream",
     "text": [
      "could not detect version_main.therefore, we are assuming it is chrome 108 or higher\n"
     ]
    },
    {
     "name": "stdout",
     "output_type": "stream",
     "text": [
      "Saved to db successfully\n",
      "Done with link 3345: https://www.zoopla.co.uk/for-sale/details/64896022/?search_identifier=fc4c7aeb070d0509a7516eedd39fbb568def1c363a509697d09c84a016c3e853\n",
      "Starting extraction for link 3346: https://www.zoopla.co.uk/for-sale/details/64884708/?search_identifier=fc4c7aeb070d0509a7516eedd39fbb568def1c363a509697d09c84a016c3e853\n"
     ]
    },
    {
     "name": "stderr",
     "output_type": "stream",
     "text": [
      "could not detect version_main.therefore, we are assuming it is chrome 108 or higher\n"
     ]
    },
    {
     "name": "stdout",
     "output_type": "stream",
     "text": [
      "Saved to db successfully\n",
      "Done with link 3346: https://www.zoopla.co.uk/for-sale/details/64884708/?search_identifier=fc4c7aeb070d0509a7516eedd39fbb568def1c363a509697d09c84a016c3e853\n",
      "Starting extraction for link 3347: https://www.zoopla.co.uk/for-sale/details/64853710/?search_identifier=fc4c7aeb070d0509a7516eedd39fbb568def1c363a509697d09c84a016c3e853\n"
     ]
    },
    {
     "name": "stderr",
     "output_type": "stream",
     "text": [
      "could not detect version_main.therefore, we are assuming it is chrome 108 or higher\n"
     ]
    },
    {
     "name": "stdout",
     "output_type": "stream",
     "text": [
      "Saved to db successfully\n",
      "Done with link 3347: https://www.zoopla.co.uk/for-sale/details/64853710/?search_identifier=fc4c7aeb070d0509a7516eedd39fbb568def1c363a509697d09c84a016c3e853\n",
      "Starting extraction for link 3348: https://www.zoopla.co.uk/for-sale/details/64811497/?search_identifier=fc4c7aeb070d0509a7516eedd39fbb568def1c363a509697d09c84a016c3e853\n"
     ]
    },
    {
     "name": "stderr",
     "output_type": "stream",
     "text": [
      "could not detect version_main.therefore, we are assuming it is chrome 108 or higher\n"
     ]
    },
    {
     "name": "stdout",
     "output_type": "stream",
     "text": [
      "Saved to db successfully\n",
      "Done with link 3348: https://www.zoopla.co.uk/for-sale/details/64811497/?search_identifier=fc4c7aeb070d0509a7516eedd39fbb568def1c363a509697d09c84a016c3e853\n",
      "Starting extraction for link 3349: https://www.zoopla.co.uk/for-sale/details/64809846/?search_identifier=fc4c7aeb070d0509a7516eedd39fbb568def1c363a509697d09c84a016c3e853\n"
     ]
    },
    {
     "name": "stderr",
     "output_type": "stream",
     "text": [
      "could not detect version_main.therefore, we are assuming it is chrome 108 or higher\n"
     ]
    },
    {
     "name": "stdout",
     "output_type": "stream",
     "text": [
      "Saved to db successfully\n",
      "Done with link 3349: https://www.zoopla.co.uk/for-sale/details/64809846/?search_identifier=fc4c7aeb070d0509a7516eedd39fbb568def1c363a509697d09c84a016c3e853\n",
      "Starting extraction for link 3350: https://www.zoopla.co.uk/for-sale/details/64791818/?search_identifier=fc4c7aeb070d0509a7516eedd39fbb568def1c363a509697d09c84a016c3e853\n"
     ]
    },
    {
     "name": "stderr",
     "output_type": "stream",
     "text": [
      "could not detect version_main.therefore, we are assuming it is chrome 108 or higher\n"
     ]
    },
    {
     "name": "stdout",
     "output_type": "stream",
     "text": [
      "Saved to db successfully\n",
      "Done with link 3350: https://www.zoopla.co.uk/for-sale/details/64791818/?search_identifier=fc4c7aeb070d0509a7516eedd39fbb568def1c363a509697d09c84a016c3e853\n",
      "Starting extraction for link 3351: https://www.zoopla.co.uk/for-sale/details/64761721/?search_identifier=fc4c7aeb070d0509a7516eedd39fbb568def1c363a509697d09c84a016c3e853\n"
     ]
    },
    {
     "name": "stderr",
     "output_type": "stream",
     "text": [
      "could not detect version_main.therefore, we are assuming it is chrome 108 or higher\n"
     ]
    },
    {
     "name": "stdout",
     "output_type": "stream",
     "text": [
      "Saved to db successfully\n",
      "Done with link 3351: https://www.zoopla.co.uk/for-sale/details/64761721/?search_identifier=fc4c7aeb070d0509a7516eedd39fbb568def1c363a509697d09c84a016c3e853\n",
      "Starting extraction for link 3352: https://www.zoopla.co.uk/for-sale/details/64734545/?search_identifier=fc4c7aeb070d0509a7516eedd39fbb568def1c363a509697d09c84a016c3e853\n"
     ]
    },
    {
     "name": "stderr",
     "output_type": "stream",
     "text": [
      "could not detect version_main.therefore, we are assuming it is chrome 108 or higher\n"
     ]
    },
    {
     "name": "stdout",
     "output_type": "stream",
     "text": [
      "Saved to db successfully\n",
      "Done with link 3352: https://www.zoopla.co.uk/for-sale/details/64734545/?search_identifier=fc4c7aeb070d0509a7516eedd39fbb568def1c363a509697d09c84a016c3e853\n",
      "Starting extraction for link 3353: https://www.zoopla.co.uk/for-sale/details/64701176/?search_identifier=86b654c458d8fd137f1abe83952a81a5af63c8a85a20e053e767b8ccb8482573\n"
     ]
    },
    {
     "name": "stderr",
     "output_type": "stream",
     "text": [
      "could not detect version_main.therefore, we are assuming it is chrome 108 or higher\n"
     ]
    },
    {
     "name": "stdout",
     "output_type": "stream",
     "text": [
      "Saved to db successfully\n",
      "Done with link 3353: https://www.zoopla.co.uk/for-sale/details/64701176/?search_identifier=86b654c458d8fd137f1abe83952a81a5af63c8a85a20e053e767b8ccb8482573\n",
      "Starting extraction for link 3354: https://www.zoopla.co.uk/for-sale/details/64682826/?search_identifier=86b654c458d8fd137f1abe83952a81a5af63c8a85a20e053e767b8ccb8482573\n"
     ]
    },
    {
     "name": "stderr",
     "output_type": "stream",
     "text": [
      "could not detect version_main.therefore, we are assuming it is chrome 108 or higher\n"
     ]
    },
    {
     "name": "stdout",
     "output_type": "stream",
     "text": [
      "Saved to db successfully\n",
      "Done with link 3354: https://www.zoopla.co.uk/for-sale/details/64682826/?search_identifier=86b654c458d8fd137f1abe83952a81a5af63c8a85a20e053e767b8ccb8482573\n",
      "Starting extraction for link 3355: https://www.zoopla.co.uk/for-sale/details/64660858/?search_identifier=86b654c458d8fd137f1abe83952a81a5af63c8a85a20e053e767b8ccb8482573\n"
     ]
    },
    {
     "name": "stderr",
     "output_type": "stream",
     "text": [
      "could not detect version_main.therefore, we are assuming it is chrome 108 or higher\n"
     ]
    },
    {
     "name": "stdout",
     "output_type": "stream",
     "text": [
      "Saved to db successfully\n",
      "Done with link 3355: https://www.zoopla.co.uk/for-sale/details/64660858/?search_identifier=86b654c458d8fd137f1abe83952a81a5af63c8a85a20e053e767b8ccb8482573\n",
      "Starting extraction for link 3356: https://www.zoopla.co.uk/for-sale/details/64638367/?search_identifier=86b654c458d8fd137f1abe83952a81a5af63c8a85a20e053e767b8ccb8482573\n"
     ]
    },
    {
     "name": "stderr",
     "output_type": "stream",
     "text": [
      "could not detect version_main.therefore, we are assuming it is chrome 108 or higher\n"
     ]
    },
    {
     "name": "stdout",
     "output_type": "stream",
     "text": [
      "Saved to db successfully\n",
      "Done with link 3356: https://www.zoopla.co.uk/for-sale/details/64638367/?search_identifier=86b654c458d8fd137f1abe83952a81a5af63c8a85a20e053e767b8ccb8482573\n",
      "Starting extraction for link 3357: https://www.zoopla.co.uk/for-sale/details/64627946/?search_identifier=86b654c458d8fd137f1abe83952a81a5af63c8a85a20e053e767b8ccb8482573\n"
     ]
    },
    {
     "name": "stderr",
     "output_type": "stream",
     "text": [
      "could not detect version_main.therefore, we are assuming it is chrome 108 or higher\n"
     ]
    },
    {
     "name": "stdout",
     "output_type": "stream",
     "text": [
      "Saved to db successfully\n",
      "Done with link 3357: https://www.zoopla.co.uk/for-sale/details/64627946/?search_identifier=86b654c458d8fd137f1abe83952a81a5af63c8a85a20e053e767b8ccb8482573\n",
      "Starting extraction for link 3358: https://www.zoopla.co.uk/for-sale/details/64622765/?search_identifier=86b654c458d8fd137f1abe83952a81a5af63c8a85a20e053e767b8ccb8482573\n"
     ]
    },
    {
     "name": "stderr",
     "output_type": "stream",
     "text": [
      "could not detect version_main.therefore, we are assuming it is chrome 108 or higher\n"
     ]
    },
    {
     "name": "stdout",
     "output_type": "stream",
     "text": [
      "Saved to db successfully\n",
      "Done with link 3358: https://www.zoopla.co.uk/for-sale/details/64622765/?search_identifier=86b654c458d8fd137f1abe83952a81a5af63c8a85a20e053e767b8ccb8482573\n",
      "Starting extraction for link 3359: https://www.zoopla.co.uk/for-sale/details/64611879/?search_identifier=86b654c458d8fd137f1abe83952a81a5af63c8a85a20e053e767b8ccb8482573\n"
     ]
    },
    {
     "name": "stderr",
     "output_type": "stream",
     "text": [
      "could not detect version_main.therefore, we are assuming it is chrome 108 or higher\n"
     ]
    },
    {
     "name": "stdout",
     "output_type": "stream",
     "text": [
      "Saved to db successfully\n",
      "Done with link 3359: https://www.zoopla.co.uk/for-sale/details/64611879/?search_identifier=86b654c458d8fd137f1abe83952a81a5af63c8a85a20e053e767b8ccb8482573\n",
      "Starting extraction for link 3360: https://www.zoopla.co.uk/for-sale/details/64602640/?search_identifier=86b654c458d8fd137f1abe83952a81a5af63c8a85a20e053e767b8ccb8482573\n"
     ]
    },
    {
     "name": "stderr",
     "output_type": "stream",
     "text": [
      "could not detect version_main.therefore, we are assuming it is chrome 108 or higher\n"
     ]
    },
    {
     "name": "stdout",
     "output_type": "stream",
     "text": [
      "Saved to db successfully\n",
      "Done with link 3360: https://www.zoopla.co.uk/for-sale/details/64602640/?search_identifier=86b654c458d8fd137f1abe83952a81a5af63c8a85a20e053e767b8ccb8482573\n",
      "Starting extraction for link 3361: https://www.zoopla.co.uk/for-sale/details/64595530/?search_identifier=86b654c458d8fd137f1abe83952a81a5af63c8a85a20e053e767b8ccb8482573\n"
     ]
    },
    {
     "name": "stderr",
     "output_type": "stream",
     "text": [
      "could not detect version_main.therefore, we are assuming it is chrome 108 or higher\n"
     ]
    },
    {
     "name": "stdout",
     "output_type": "stream",
     "text": [
      "Saved to db successfully\n",
      "Done with link 3361: https://www.zoopla.co.uk/for-sale/details/64595530/?search_identifier=86b654c458d8fd137f1abe83952a81a5af63c8a85a20e053e767b8ccb8482573\n",
      "Starting extraction for link 3362: https://www.zoopla.co.uk/for-sale/details/64588637/?search_identifier=86b654c458d8fd137f1abe83952a81a5af63c8a85a20e053e767b8ccb8482573\n"
     ]
    },
    {
     "name": "stderr",
     "output_type": "stream",
     "text": [
      "could not detect version_main.therefore, we are assuming it is chrome 108 or higher\n"
     ]
    },
    {
     "name": "stdout",
     "output_type": "stream",
     "text": [
      "Saved to db successfully\n",
      "Done with link 3362: https://www.zoopla.co.uk/for-sale/details/64588637/?search_identifier=86b654c458d8fd137f1abe83952a81a5af63c8a85a20e053e767b8ccb8482573\n",
      "Starting extraction for link 3363: https://www.zoopla.co.uk/for-sale/details/64588354/?search_identifier=86b654c458d8fd137f1abe83952a81a5af63c8a85a20e053e767b8ccb8482573\n"
     ]
    },
    {
     "name": "stderr",
     "output_type": "stream",
     "text": [
      "could not detect version_main.therefore, we are assuming it is chrome 108 or higher\n"
     ]
    },
    {
     "name": "stdout",
     "output_type": "stream",
     "text": [
      "Saved to db successfully\n",
      "Done with link 3363: https://www.zoopla.co.uk/for-sale/details/64588354/?search_identifier=86b654c458d8fd137f1abe83952a81a5af63c8a85a20e053e767b8ccb8482573\n",
      "Starting extraction for link 3364: https://www.zoopla.co.uk/for-sale/details/64577467/?search_identifier=86b654c458d8fd137f1abe83952a81a5af63c8a85a20e053e767b8ccb8482573\n"
     ]
    },
    {
     "name": "stderr",
     "output_type": "stream",
     "text": [
      "could not detect version_main.therefore, we are assuming it is chrome 108 or higher\n"
     ]
    },
    {
     "name": "stdout",
     "output_type": "stream",
     "text": [
      "Saved to db successfully\n",
      "Done with link 3364: https://www.zoopla.co.uk/for-sale/details/64577467/?search_identifier=86b654c458d8fd137f1abe83952a81a5af63c8a85a20e053e767b8ccb8482573\n",
      "Starting extraction for link 3365: https://www.zoopla.co.uk/for-sale/details/64576643/?search_identifier=86b654c458d8fd137f1abe83952a81a5af63c8a85a20e053e767b8ccb8482573\n"
     ]
    },
    {
     "name": "stderr",
     "output_type": "stream",
     "text": [
      "could not detect version_main.therefore, we are assuming it is chrome 108 or higher\n"
     ]
    },
    {
     "name": "stdout",
     "output_type": "stream",
     "text": [
      "Saved to db successfully\n",
      "Done with link 3365: https://www.zoopla.co.uk/for-sale/details/64576643/?search_identifier=86b654c458d8fd137f1abe83952a81a5af63c8a85a20e053e767b8ccb8482573\n",
      "Starting extraction for link 3366: https://www.zoopla.co.uk/for-sale/details/64575317/?search_identifier=86b654c458d8fd137f1abe83952a81a5af63c8a85a20e053e767b8ccb8482573\n"
     ]
    },
    {
     "name": "stderr",
     "output_type": "stream",
     "text": [
      "could not detect version_main.therefore, we are assuming it is chrome 108 or higher\n"
     ]
    },
    {
     "name": "stdout",
     "output_type": "stream",
     "text": [
      "Saved to db successfully\n",
      "Done with link 3366: https://www.zoopla.co.uk/for-sale/details/64575317/?search_identifier=86b654c458d8fd137f1abe83952a81a5af63c8a85a20e053e767b8ccb8482573\n",
      "Starting extraction for link 3367: https://www.zoopla.co.uk/for-sale/details/64568023/?search_identifier=86b654c458d8fd137f1abe83952a81a5af63c8a85a20e053e767b8ccb8482573\n"
     ]
    },
    {
     "name": "stderr",
     "output_type": "stream",
     "text": [
      "could not detect version_main.therefore, we are assuming it is chrome 108 or higher\n"
     ]
    },
    {
     "name": "stdout",
     "output_type": "stream",
     "text": [
      "Saved to db successfully\n",
      "Done with link 3367: https://www.zoopla.co.uk/for-sale/details/64568023/?search_identifier=86b654c458d8fd137f1abe83952a81a5af63c8a85a20e053e767b8ccb8482573\n",
      "Starting extraction for link 3368: https://www.zoopla.co.uk/for-sale/details/64525287/?search_identifier=86b654c458d8fd137f1abe83952a81a5af63c8a85a20e053e767b8ccb8482573\n"
     ]
    },
    {
     "name": "stderr",
     "output_type": "stream",
     "text": [
      "could not detect version_main.therefore, we are assuming it is chrome 108 or higher\n"
     ]
    },
    {
     "name": "stdout",
     "output_type": "stream",
     "text": [
      "Saved to db successfully\n",
      "Done with link 3368: https://www.zoopla.co.uk/for-sale/details/64525287/?search_identifier=86b654c458d8fd137f1abe83952a81a5af63c8a85a20e053e767b8ccb8482573\n",
      "Starting extraction for link 3369: https://www.zoopla.co.uk/for-sale/details/64520517/?search_identifier=86b654c458d8fd137f1abe83952a81a5af63c8a85a20e053e767b8ccb8482573\n"
     ]
    },
    {
     "name": "stderr",
     "output_type": "stream",
     "text": [
      "could not detect version_main.therefore, we are assuming it is chrome 108 or higher\n"
     ]
    },
    {
     "name": "stdout",
     "output_type": "stream",
     "text": [
      "Saved to db successfully\n",
      "Done with link 3369: https://www.zoopla.co.uk/for-sale/details/64520517/?search_identifier=86b654c458d8fd137f1abe83952a81a5af63c8a85a20e053e767b8ccb8482573\n",
      "Starting extraction for link 3370: https://www.zoopla.co.uk/for-sale/details/64496145/?search_identifier=86b654c458d8fd137f1abe83952a81a5af63c8a85a20e053e767b8ccb8482573\n"
     ]
    },
    {
     "name": "stderr",
     "output_type": "stream",
     "text": [
      "could not detect version_main.therefore, we are assuming it is chrome 108 or higher\n"
     ]
    },
    {
     "name": "stdout",
     "output_type": "stream",
     "text": [
      "Saved to db successfully\n",
      "Done with link 3370: https://www.zoopla.co.uk/for-sale/details/64496145/?search_identifier=86b654c458d8fd137f1abe83952a81a5af63c8a85a20e053e767b8ccb8482573\n",
      "Starting extraction for link 3371: https://www.zoopla.co.uk/for-sale/details/64472570/?search_identifier=86b654c458d8fd137f1abe83952a81a5af63c8a85a20e053e767b8ccb8482573\n"
     ]
    },
    {
     "name": "stderr",
     "output_type": "stream",
     "text": [
      "could not detect version_main.therefore, we are assuming it is chrome 108 or higher\n"
     ]
    },
    {
     "name": "stdout",
     "output_type": "stream",
     "text": [
      "Saved to db successfully\n",
      "Done with link 3371: https://www.zoopla.co.uk/for-sale/details/64472570/?search_identifier=86b654c458d8fd137f1abe83952a81a5af63c8a85a20e053e767b8ccb8482573\n",
      "Starting extraction for link 3372: https://www.zoopla.co.uk/for-sale/details/64462441/?search_identifier=86b654c458d8fd137f1abe83952a81a5af63c8a85a20e053e767b8ccb8482573\n"
     ]
    },
    {
     "name": "stderr",
     "output_type": "stream",
     "text": [
      "could not detect version_main.therefore, we are assuming it is chrome 108 or higher\n"
     ]
    },
    {
     "name": "stdout",
     "output_type": "stream",
     "text": [
      "Saved to db successfully\n",
      "Done with link 3372: https://www.zoopla.co.uk/for-sale/details/64462441/?search_identifier=86b654c458d8fd137f1abe83952a81a5af63c8a85a20e053e767b8ccb8482573\n",
      "Starting extraction for link 3373: https://www.zoopla.co.uk/for-sale/details/64437456/?search_identifier=86b654c458d8fd137f1abe83952a81a5af63c8a85a20e053e767b8ccb8482573\n"
     ]
    },
    {
     "name": "stderr",
     "output_type": "stream",
     "text": [
      "could not detect version_main.therefore, we are assuming it is chrome 108 or higher\n"
     ]
    },
    {
     "name": "stdout",
     "output_type": "stream",
     "text": [
      "Saved to db successfully\n",
      "Done with link 3373: https://www.zoopla.co.uk/for-sale/details/64437456/?search_identifier=86b654c458d8fd137f1abe83952a81a5af63c8a85a20e053e767b8ccb8482573\n",
      "Starting extraction for link 3374: https://www.zoopla.co.uk/for-sale/details/64406078/?search_identifier=86b654c458d8fd137f1abe83952a81a5af63c8a85a20e053e767b8ccb8482573\n"
     ]
    },
    {
     "name": "stderr",
     "output_type": "stream",
     "text": [
      "could not detect version_main.therefore, we are assuming it is chrome 108 or higher\n"
     ]
    },
    {
     "name": "stdout",
     "output_type": "stream",
     "text": [
      "Saved to db successfully\n",
      "Done with link 3374: https://www.zoopla.co.uk/for-sale/details/64406078/?search_identifier=86b654c458d8fd137f1abe83952a81a5af63c8a85a20e053e767b8ccb8482573\n",
      "Starting extraction for link 3375: https://www.zoopla.co.uk/for-sale/details/64379067/?search_identifier=86b654c458d8fd137f1abe83952a81a5af63c8a85a20e053e767b8ccb8482573\n"
     ]
    },
    {
     "name": "stderr",
     "output_type": "stream",
     "text": [
      "could not detect version_main.therefore, we are assuming it is chrome 108 or higher\n"
     ]
    },
    {
     "name": "stdout",
     "output_type": "stream",
     "text": [
      "Saved to db successfully\n",
      "Done with link 3375: https://www.zoopla.co.uk/for-sale/details/64379067/?search_identifier=86b654c458d8fd137f1abe83952a81a5af63c8a85a20e053e767b8ccb8482573\n",
      "Starting extraction for link 3376: https://www.zoopla.co.uk/for-sale/details/64267695/?search_identifier=86b654c458d8fd137f1abe83952a81a5af63c8a85a20e053e767b8ccb8482573\n"
     ]
    },
    {
     "name": "stderr",
     "output_type": "stream",
     "text": [
      "could not detect version_main.therefore, we are assuming it is chrome 108 or higher\n"
     ]
    },
    {
     "name": "stdout",
     "output_type": "stream",
     "text": [
      "Saved to db successfully\n",
      "Done with link 3376: https://www.zoopla.co.uk/for-sale/details/64267695/?search_identifier=86b654c458d8fd137f1abe83952a81a5af63c8a85a20e053e767b8ccb8482573\n",
      "Starting extraction for link 3377: https://www.zoopla.co.uk/for-sale/details/64262045/?search_identifier=86b654c458d8fd137f1abe83952a81a5af63c8a85a20e053e767b8ccb8482573\n"
     ]
    },
    {
     "name": "stderr",
     "output_type": "stream",
     "text": [
      "could not detect version_main.therefore, we are assuming it is chrome 108 or higher\n"
     ]
    },
    {
     "name": "stdout",
     "output_type": "stream",
     "text": [
      "Saved to db successfully\n",
      "Done with link 3377: https://www.zoopla.co.uk/for-sale/details/64262045/?search_identifier=86b654c458d8fd137f1abe83952a81a5af63c8a85a20e053e767b8ccb8482573\n",
      "Starting extraction for link 3378: https://www.zoopla.co.uk/for-sale/details/64241339/?search_identifier=06eda68c7e8590730927eb6e3218ba4555b2cc94568d38293f0317a376ea5159\n"
     ]
    },
    {
     "name": "stderr",
     "output_type": "stream",
     "text": [
      "could not detect version_main.therefore, we are assuming it is chrome 108 or higher\n"
     ]
    },
    {
     "name": "stdout",
     "output_type": "stream",
     "text": [
      "Saved to db successfully\n",
      "Done with link 3378: https://www.zoopla.co.uk/for-sale/details/64241339/?search_identifier=06eda68c7e8590730927eb6e3218ba4555b2cc94568d38293f0317a376ea5159\n",
      "Starting extraction for link 3379: https://www.zoopla.co.uk/for-sale/details/64222665/?search_identifier=06eda68c7e8590730927eb6e3218ba4555b2cc94568d38293f0317a376ea5159\n"
     ]
    },
    {
     "name": "stderr",
     "output_type": "stream",
     "text": [
      "could not detect version_main.therefore, we are assuming it is chrome 108 or higher\n"
     ]
    },
    {
     "name": "stdout",
     "output_type": "stream",
     "text": [
      "Saved to db successfully\n",
      "Done with link 3379: https://www.zoopla.co.uk/for-sale/details/64222665/?search_identifier=06eda68c7e8590730927eb6e3218ba4555b2cc94568d38293f0317a376ea5159\n",
      "Starting extraction for link 3380: https://www.zoopla.co.uk/for-sale/details/64189426/?search_identifier=06eda68c7e8590730927eb6e3218ba4555b2cc94568d38293f0317a376ea5159\n"
     ]
    },
    {
     "name": "stderr",
     "output_type": "stream",
     "text": [
      "could not detect version_main.therefore, we are assuming it is chrome 108 or higher\n"
     ]
    },
    {
     "name": "stdout",
     "output_type": "stream",
     "text": [
      "Saved to db successfully\n",
      "Done with link 3380: https://www.zoopla.co.uk/for-sale/details/64189426/?search_identifier=06eda68c7e8590730927eb6e3218ba4555b2cc94568d38293f0317a376ea5159\n",
      "Starting extraction for link 3381: https://www.zoopla.co.uk/for-sale/details/64142413/?search_identifier=06eda68c7e8590730927eb6e3218ba4555b2cc94568d38293f0317a376ea5159\n"
     ]
    },
    {
     "name": "stderr",
     "output_type": "stream",
     "text": [
      "could not detect version_main.therefore, we are assuming it is chrome 108 or higher\n"
     ]
    },
    {
     "name": "stdout",
     "output_type": "stream",
     "text": [
      "Saved to db successfully\n",
      "Done with link 3381: https://www.zoopla.co.uk/for-sale/details/64142413/?search_identifier=06eda68c7e8590730927eb6e3218ba4555b2cc94568d38293f0317a376ea5159\n",
      "Starting extraction for link 3382: https://www.zoopla.co.uk/for-sale/details/64129498/?search_identifier=06eda68c7e8590730927eb6e3218ba4555b2cc94568d38293f0317a376ea5159\n"
     ]
    },
    {
     "name": "stderr",
     "output_type": "stream",
     "text": [
      "could not detect version_main.therefore, we are assuming it is chrome 108 or higher\n"
     ]
    },
    {
     "name": "stdout",
     "output_type": "stream",
     "text": [
      "Saved to db successfully\n",
      "Done with link 3382: https://www.zoopla.co.uk/for-sale/details/64129498/?search_identifier=06eda68c7e8590730927eb6e3218ba4555b2cc94568d38293f0317a376ea5159\n",
      "Starting extraction for link 3383: https://www.zoopla.co.uk/for-sale/details/64068665/?search_identifier=06eda68c7e8590730927eb6e3218ba4555b2cc94568d38293f0317a376ea5159\n"
     ]
    },
    {
     "name": "stderr",
     "output_type": "stream",
     "text": [
      "could not detect version_main.therefore, we are assuming it is chrome 108 or higher\n"
     ]
    },
    {
     "name": "stdout",
     "output_type": "stream",
     "text": [
      "Saved to db successfully\n",
      "Done with link 3383: https://www.zoopla.co.uk/for-sale/details/64068665/?search_identifier=06eda68c7e8590730927eb6e3218ba4555b2cc94568d38293f0317a376ea5159\n",
      "Starting extraction for link 3384: https://www.zoopla.co.uk/for-sale/details/64046154/?search_identifier=06eda68c7e8590730927eb6e3218ba4555b2cc94568d38293f0317a376ea5159\n"
     ]
    },
    {
     "name": "stderr",
     "output_type": "stream",
     "text": [
      "could not detect version_main.therefore, we are assuming it is chrome 108 or higher\n"
     ]
    },
    {
     "name": "stdout",
     "output_type": "stream",
     "text": [
      "Saved to db successfully\n",
      "Done with link 3384: https://www.zoopla.co.uk/for-sale/details/64046154/?search_identifier=06eda68c7e8590730927eb6e3218ba4555b2cc94568d38293f0317a376ea5159\n",
      "Starting extraction for link 3385: https://www.zoopla.co.uk/for-sale/details/63916448/?search_identifier=06eda68c7e8590730927eb6e3218ba4555b2cc94568d38293f0317a376ea5159\n"
     ]
    },
    {
     "name": "stderr",
     "output_type": "stream",
     "text": [
      "could not detect version_main.therefore, we are assuming it is chrome 108 or higher\n"
     ]
    },
    {
     "name": "stdout",
     "output_type": "stream",
     "text": [
      "Saved to db successfully\n",
      "Done with link 3385: https://www.zoopla.co.uk/for-sale/details/63916448/?search_identifier=06eda68c7e8590730927eb6e3218ba4555b2cc94568d38293f0317a376ea5159\n",
      "Starting extraction for link 3386: https://www.zoopla.co.uk/for-sale/details/63887868/?search_identifier=06eda68c7e8590730927eb6e3218ba4555b2cc94568d38293f0317a376ea5159\n"
     ]
    },
    {
     "name": "stderr",
     "output_type": "stream",
     "text": [
      "could not detect version_main.therefore, we are assuming it is chrome 108 or higher\n"
     ]
    },
    {
     "name": "stdout",
     "output_type": "stream",
     "text": [
      "Saved to db successfully\n",
      "Done with link 3386: https://www.zoopla.co.uk/for-sale/details/63887868/?search_identifier=06eda68c7e8590730927eb6e3218ba4555b2cc94568d38293f0317a376ea5159\n",
      "Starting extraction for link 3387: https://www.zoopla.co.uk/for-sale/details/63841232/?search_identifier=06eda68c7e8590730927eb6e3218ba4555b2cc94568d38293f0317a376ea5159\n"
     ]
    },
    {
     "name": "stderr",
     "output_type": "stream",
     "text": [
      "could not detect version_main.therefore, we are assuming it is chrome 108 or higher\n"
     ]
    },
    {
     "name": "stdout",
     "output_type": "stream",
     "text": [
      "Saved to db successfully\n",
      "Done with link 3387: https://www.zoopla.co.uk/for-sale/details/63841232/?search_identifier=06eda68c7e8590730927eb6e3218ba4555b2cc94568d38293f0317a376ea5159\n",
      "Starting extraction for link 3388: https://www.zoopla.co.uk/for-sale/details/63739558/?search_identifier=06eda68c7e8590730927eb6e3218ba4555b2cc94568d38293f0317a376ea5159\n"
     ]
    },
    {
     "name": "stderr",
     "output_type": "stream",
     "text": [
      "could not detect version_main.therefore, we are assuming it is chrome 108 or higher\n"
     ]
    },
    {
     "name": "stdout",
     "output_type": "stream",
     "text": [
      "Saved to db successfully\n",
      "Done with link 3388: https://www.zoopla.co.uk/for-sale/details/63739558/?search_identifier=06eda68c7e8590730927eb6e3218ba4555b2cc94568d38293f0317a376ea5159\n",
      "Starting extraction for link 3389: https://www.zoopla.co.uk/for-sale/details/64716838/?search_identifier=06eda68c7e8590730927eb6e3218ba4555b2cc94568d38293f0317a376ea5159\n"
     ]
    },
    {
     "name": "stderr",
     "output_type": "stream",
     "text": [
      "could not detect version_main.therefore, we are assuming it is chrome 108 or higher\n"
     ]
    },
    {
     "name": "stdout",
     "output_type": "stream",
     "text": [
      "Saved to db successfully\n",
      "Done with link 3389: https://www.zoopla.co.uk/for-sale/details/64716838/?search_identifier=06eda68c7e8590730927eb6e3218ba4555b2cc94568d38293f0317a376ea5159\n",
      "Starting extraction for link 3390: https://www.zoopla.co.uk/for-sale/details/63649901/?search_identifier=06eda68c7e8590730927eb6e3218ba4555b2cc94568d38293f0317a376ea5159\n"
     ]
    },
    {
     "name": "stderr",
     "output_type": "stream",
     "text": [
      "could not detect version_main.therefore, we are assuming it is chrome 108 or higher\n"
     ]
    },
    {
     "name": "stdout",
     "output_type": "stream",
     "text": [
      "Saved to db successfully\n",
      "Done with link 3390: https://www.zoopla.co.uk/for-sale/details/63649901/?search_identifier=06eda68c7e8590730927eb6e3218ba4555b2cc94568d38293f0317a376ea5159\n",
      "Starting extraction for link 3391: https://www.zoopla.co.uk/for-sale/details/63533058/?search_identifier=06eda68c7e8590730927eb6e3218ba4555b2cc94568d38293f0317a376ea5159\n"
     ]
    },
    {
     "name": "stderr",
     "output_type": "stream",
     "text": [
      "could not detect version_main.therefore, we are assuming it is chrome 108 or higher\n"
     ]
    },
    {
     "name": "stdout",
     "output_type": "stream",
     "text": [
      "Saved to db successfully\n",
      "Done with link 3391: https://www.zoopla.co.uk/for-sale/details/63533058/?search_identifier=06eda68c7e8590730927eb6e3218ba4555b2cc94568d38293f0317a376ea5159\n",
      "Starting extraction for link 3392: https://www.zoopla.co.uk/for-sale/details/63520655/?search_identifier=06eda68c7e8590730927eb6e3218ba4555b2cc94568d38293f0317a376ea5159\n"
     ]
    },
    {
     "name": "stderr",
     "output_type": "stream",
     "text": [
      "could not detect version_main.therefore, we are assuming it is chrome 108 or higher\n"
     ]
    },
    {
     "name": "stdout",
     "output_type": "stream",
     "text": [
      "Saved to db successfully\n",
      "Done with link 3392: https://www.zoopla.co.uk/for-sale/details/63520655/?search_identifier=06eda68c7e8590730927eb6e3218ba4555b2cc94568d38293f0317a376ea5159\n",
      "Starting extraction for link 3393: https://www.zoopla.co.uk/for-sale/details/63373037/?search_identifier=06eda68c7e8590730927eb6e3218ba4555b2cc94568d38293f0317a376ea5159\n"
     ]
    },
    {
     "name": "stderr",
     "output_type": "stream",
     "text": [
      "could not detect version_main.therefore, we are assuming it is chrome 108 or higher\n"
     ]
    },
    {
     "name": "stdout",
     "output_type": "stream",
     "text": [
      "Saved to db successfully\n",
      "Done with link 3393: https://www.zoopla.co.uk/for-sale/details/63373037/?search_identifier=06eda68c7e8590730927eb6e3218ba4555b2cc94568d38293f0317a376ea5159\n",
      "Starting extraction for link 3394: https://www.zoopla.co.uk/for-sale/details/63342318/?search_identifier=06eda68c7e8590730927eb6e3218ba4555b2cc94568d38293f0317a376ea5159\n"
     ]
    },
    {
     "name": "stderr",
     "output_type": "stream",
     "text": [
      "could not detect version_main.therefore, we are assuming it is chrome 108 or higher\n"
     ]
    },
    {
     "name": "stdout",
     "output_type": "stream",
     "text": [
      "Saved to db successfully\n",
      "Done with link 3394: https://www.zoopla.co.uk/for-sale/details/63342318/?search_identifier=06eda68c7e8590730927eb6e3218ba4555b2cc94568d38293f0317a376ea5159\n",
      "Starting extraction for link 3395: https://www.zoopla.co.uk/for-sale/details/63315211/?search_identifier=06eda68c7e8590730927eb6e3218ba4555b2cc94568d38293f0317a376ea5159\n"
     ]
    },
    {
     "name": "stderr",
     "output_type": "stream",
     "text": [
      "could not detect version_main.therefore, we are assuming it is chrome 108 or higher\n"
     ]
    },
    {
     "name": "stdout",
     "output_type": "stream",
     "text": [
      "Saved to db successfully\n",
      "Done with link 3395: https://www.zoopla.co.uk/for-sale/details/63315211/?search_identifier=06eda68c7e8590730927eb6e3218ba4555b2cc94568d38293f0317a376ea5159\n",
      "Starting extraction for link 3396: https://www.zoopla.co.uk/for-sale/details/62800598/?search_identifier=06eda68c7e8590730927eb6e3218ba4555b2cc94568d38293f0317a376ea5159\n"
     ]
    },
    {
     "name": "stderr",
     "output_type": "stream",
     "text": [
      "could not detect version_main.therefore, we are assuming it is chrome 108 or higher\n"
     ]
    },
    {
     "name": "stdout",
     "output_type": "stream",
     "text": [
      "Saved to db successfully\n",
      "Done with link 3396: https://www.zoopla.co.uk/for-sale/details/62800598/?search_identifier=06eda68c7e8590730927eb6e3218ba4555b2cc94568d38293f0317a376ea5159\n",
      "Starting extraction for link 3397: https://www.zoopla.co.uk/for-sale/details/62666178/?search_identifier=06eda68c7e8590730927eb6e3218ba4555b2cc94568d38293f0317a376ea5159\n"
     ]
    },
    {
     "name": "stderr",
     "output_type": "stream",
     "text": [
      "could not detect version_main.therefore, we are assuming it is chrome 108 or higher\n"
     ]
    },
    {
     "name": "stdout",
     "output_type": "stream",
     "text": [
      "Saved to db successfully\n",
      "Done with link 3397: https://www.zoopla.co.uk/for-sale/details/62666178/?search_identifier=06eda68c7e8590730927eb6e3218ba4555b2cc94568d38293f0317a376ea5159\n",
      "Starting extraction for link 3398: https://www.zoopla.co.uk/for-sale/details/62460057/?search_identifier=06eda68c7e8590730927eb6e3218ba4555b2cc94568d38293f0317a376ea5159\n"
     ]
    },
    {
     "name": "stderr",
     "output_type": "stream",
     "text": [
      "could not detect version_main.therefore, we are assuming it is chrome 108 or higher\n"
     ]
    },
    {
     "name": "stdout",
     "output_type": "stream",
     "text": [
      "Saved to db successfully\n",
      "Done with link 3398: https://www.zoopla.co.uk/for-sale/details/62460057/?search_identifier=06eda68c7e8590730927eb6e3218ba4555b2cc94568d38293f0317a376ea5159\n",
      "Starting extraction for link 3399: https://www.zoopla.co.uk/for-sale/details/62418015/?search_identifier=06eda68c7e8590730927eb6e3218ba4555b2cc94568d38293f0317a376ea5159\n"
     ]
    },
    {
     "name": "stderr",
     "output_type": "stream",
     "text": [
      "could not detect version_main.therefore, we are assuming it is chrome 108 or higher\n"
     ]
    },
    {
     "name": "stdout",
     "output_type": "stream",
     "text": [
      "Saved to db successfully\n",
      "Done with link 3399: https://www.zoopla.co.uk/for-sale/details/62418015/?search_identifier=06eda68c7e8590730927eb6e3218ba4555b2cc94568d38293f0317a376ea5159\n",
      "Starting extraction for link 3400: https://www.zoopla.co.uk/for-sale/details/62411321/?search_identifier=06eda68c7e8590730927eb6e3218ba4555b2cc94568d38293f0317a376ea5159\n"
     ]
    },
    {
     "name": "stderr",
     "output_type": "stream",
     "text": [
      "could not detect version_main.therefore, we are assuming it is chrome 108 or higher\n"
     ]
    },
    {
     "name": "stdout",
     "output_type": "stream",
     "text": [
      "Saved to db successfully\n",
      "Done with link 3400: https://www.zoopla.co.uk/for-sale/details/62411321/?search_identifier=06eda68c7e8590730927eb6e3218ba4555b2cc94568d38293f0317a376ea5159\n",
      "Starting extraction for link 3401: https://www.zoopla.co.uk/for-sale/details/62346718/?search_identifier=06eda68c7e8590730927eb6e3218ba4555b2cc94568d38293f0317a376ea5159\n"
     ]
    },
    {
     "name": "stderr",
     "output_type": "stream",
     "text": [
      "could not detect version_main.therefore, we are assuming it is chrome 108 or higher\n"
     ]
    },
    {
     "name": "stdout",
     "output_type": "stream",
     "text": [
      "Saved to db successfully\n",
      "Done with link 3401: https://www.zoopla.co.uk/for-sale/details/62346718/?search_identifier=06eda68c7e8590730927eb6e3218ba4555b2cc94568d38293f0317a376ea5159\n",
      "Starting extraction for link 3402: https://www.zoopla.co.uk/for-sale/details/62051399/?search_identifier=06eda68c7e8590730927eb6e3218ba4555b2cc94568d38293f0317a376ea5159\n"
     ]
    },
    {
     "name": "stderr",
     "output_type": "stream",
     "text": [
      "could not detect version_main.therefore, we are assuming it is chrome 108 or higher\n"
     ]
    },
    {
     "name": "stdout",
     "output_type": "stream",
     "text": [
      "Saved to db successfully\n",
      "Done with link 3402: https://www.zoopla.co.uk/for-sale/details/62051399/?search_identifier=06eda68c7e8590730927eb6e3218ba4555b2cc94568d38293f0317a376ea5159\n",
      "Starting extraction for link 3403: https://www.zoopla.co.uk/for-sale/details/61574105/?search_identifier=0a1d681223ca2a417fe84004aaf4763df7e9e1fed1672b58e47d68d2262ed9ec\n"
     ]
    },
    {
     "name": "stderr",
     "output_type": "stream",
     "text": [
      "could not detect version_main.therefore, we are assuming it is chrome 108 or higher\n"
     ]
    },
    {
     "name": "stdout",
     "output_type": "stream",
     "text": [
      "Saved to db successfully\n",
      "Done with link 3403: https://www.zoopla.co.uk/for-sale/details/61574105/?search_identifier=0a1d681223ca2a417fe84004aaf4763df7e9e1fed1672b58e47d68d2262ed9ec\n",
      "Starting extraction for link 3404: https://www.zoopla.co.uk/for-sale/details/61532387/?search_identifier=0a1d681223ca2a417fe84004aaf4763df7e9e1fed1672b58e47d68d2262ed9ec\n"
     ]
    },
    {
     "name": "stderr",
     "output_type": "stream",
     "text": [
      "could not detect version_main.therefore, we are assuming it is chrome 108 or higher\n"
     ]
    },
    {
     "name": "stdout",
     "output_type": "stream",
     "text": [
      "Saved to db successfully\n",
      "Done with link 3404: https://www.zoopla.co.uk/for-sale/details/61532387/?search_identifier=0a1d681223ca2a417fe84004aaf4763df7e9e1fed1672b58e47d68d2262ed9ec\n",
      "Starting extraction for link 3405: https://www.zoopla.co.uk/for-sale/details/61036641/?search_identifier=0a1d681223ca2a417fe84004aaf4763df7e9e1fed1672b58e47d68d2262ed9ec\n"
     ]
    },
    {
     "name": "stderr",
     "output_type": "stream",
     "text": [
      "could not detect version_main.therefore, we are assuming it is chrome 108 or higher\n"
     ]
    },
    {
     "name": "stdout",
     "output_type": "stream",
     "text": [
      "Saved to db successfully\n",
      "Done with link 3405: https://www.zoopla.co.uk/for-sale/details/61036641/?search_identifier=0a1d681223ca2a417fe84004aaf4763df7e9e1fed1672b58e47d68d2262ed9ec\n",
      "Starting extraction for link 3406: https://www.zoopla.co.uk/for-sale/details/62534557/?search_identifier=c6397525197d270551ef4c292e31d1f3a1e5b6a6566bb83bcef222701d9172d6\n"
     ]
    },
    {
     "name": "stderr",
     "output_type": "stream",
     "text": [
      "could not detect version_main.therefore, we are assuming it is chrome 108 or higher\n"
     ]
    },
    {
     "name": "stdout",
     "output_type": "stream",
     "text": [
      "Saved to db successfully\n",
      "Done with link 3406: https://www.zoopla.co.uk/for-sale/details/62534557/?search_identifier=c6397525197d270551ef4c292e31d1f3a1e5b6a6566bb83bcef222701d9172d6\n",
      "Starting extraction for link 3407: https://www.zoopla.co.uk/for-sale/details/64947903/?search_identifier=c6397525197d270551ef4c292e31d1f3a1e5b6a6566bb83bcef222701d9172d6\n"
     ]
    },
    {
     "name": "stderr",
     "output_type": "stream",
     "text": [
      "could not detect version_main.therefore, we are assuming it is chrome 108 or higher\n"
     ]
    },
    {
     "name": "stdout",
     "output_type": "stream",
     "text": [
      "Saved to db successfully\n",
      "Done with link 3407: https://www.zoopla.co.uk/for-sale/details/64947903/?search_identifier=c6397525197d270551ef4c292e31d1f3a1e5b6a6566bb83bcef222701d9172d6\n",
      "Starting extraction for link 3408: https://www.zoopla.co.uk/for-sale/details/64883312/?search_identifier=c6397525197d270551ef4c292e31d1f3a1e5b6a6566bb83bcef222701d9172d6\n"
     ]
    },
    {
     "name": "stderr",
     "output_type": "stream",
     "text": [
      "could not detect version_main.therefore, we are assuming it is chrome 108 or higher\n"
     ]
    },
    {
     "name": "stdout",
     "output_type": "stream",
     "text": [
      "Saved to db successfully\n",
      "Done with link 3408: https://www.zoopla.co.uk/for-sale/details/64883312/?search_identifier=c6397525197d270551ef4c292e31d1f3a1e5b6a6566bb83bcef222701d9172d6\n",
      "Starting extraction for link 3409: https://www.zoopla.co.uk/for-sale/details/62269098/?search_identifier=c6397525197d270551ef4c292e31d1f3a1e5b6a6566bb83bcef222701d9172d6\n"
     ]
    },
    {
     "name": "stderr",
     "output_type": "stream",
     "text": [
      "could not detect version_main.therefore, we are assuming it is chrome 108 or higher\n"
     ]
    },
    {
     "name": "stdout",
     "output_type": "stream",
     "text": [
      "Saved to db successfully\n",
      "Done with link 3409: https://www.zoopla.co.uk/for-sale/details/62269098/?search_identifier=c6397525197d270551ef4c292e31d1f3a1e5b6a6566bb83bcef222701d9172d6\n",
      "Starting extraction for link 3410: https://www.zoopla.co.uk/for-sale/details/64814807/?search_identifier=c6397525197d270551ef4c292e31d1f3a1e5b6a6566bb83bcef222701d9172d6\n"
     ]
    },
    {
     "name": "stderr",
     "output_type": "stream",
     "text": [
      "could not detect version_main.therefore, we are assuming it is chrome 108 or higher\n"
     ]
    },
    {
     "name": "stdout",
     "output_type": "stream",
     "text": [
      "Saved to db successfully\n",
      "Done with link 3410: https://www.zoopla.co.uk/for-sale/details/64814807/?search_identifier=c6397525197d270551ef4c292e31d1f3a1e5b6a6566bb83bcef222701d9172d6\n",
      "Starting extraction for link 3411: https://www.zoopla.co.uk/for-sale/details/64787444/?search_identifier=c6397525197d270551ef4c292e31d1f3a1e5b6a6566bb83bcef222701d9172d6\n"
     ]
    },
    {
     "name": "stderr",
     "output_type": "stream",
     "text": [
      "could not detect version_main.therefore, we are assuming it is chrome 108 or higher\n"
     ]
    },
    {
     "name": "stdout",
     "output_type": "stream",
     "text": [
      "Saved to db successfully\n",
      "Done with link 3411: https://www.zoopla.co.uk/for-sale/details/64787444/?search_identifier=c6397525197d270551ef4c292e31d1f3a1e5b6a6566bb83bcef222701d9172d6\n",
      "Starting extraction for link 3412: https://www.zoopla.co.uk/for-sale/details/64191208/?search_identifier=c6397525197d270551ef4c292e31d1f3a1e5b6a6566bb83bcef222701d9172d6\n"
     ]
    },
    {
     "name": "stderr",
     "output_type": "stream",
     "text": [
      "could not detect version_main.therefore, we are assuming it is chrome 108 or higher\n"
     ]
    },
    {
     "name": "stdout",
     "output_type": "stream",
     "text": [
      "Saved to db successfully\n",
      "Done with link 3412: https://www.zoopla.co.uk/for-sale/details/64191208/?search_identifier=c6397525197d270551ef4c292e31d1f3a1e5b6a6566bb83bcef222701d9172d6\n",
      "Starting extraction for link 3413: https://www.zoopla.co.uk/for-sale/details/65115712/?search_identifier=c6397525197d270551ef4c292e31d1f3a1e5b6a6566bb83bcef222701d9172d6\n"
     ]
    },
    {
     "name": "stderr",
     "output_type": "stream",
     "text": [
      "could not detect version_main.therefore, we are assuming it is chrome 108 or higher\n"
     ]
    },
    {
     "name": "stdout",
     "output_type": "stream",
     "text": [
      "Saved to db successfully\n",
      "Done with link 3413: https://www.zoopla.co.uk/for-sale/details/65115712/?search_identifier=c6397525197d270551ef4c292e31d1f3a1e5b6a6566bb83bcef222701d9172d6\n",
      "Starting extraction for link 3414: https://www.zoopla.co.uk/for-sale/details/65103711/?search_identifier=c6397525197d270551ef4c292e31d1f3a1e5b6a6566bb83bcef222701d9172d6\n"
     ]
    },
    {
     "name": "stderr",
     "output_type": "stream",
     "text": [
      "could not detect version_main.therefore, we are assuming it is chrome 108 or higher\n"
     ]
    },
    {
     "name": "stdout",
     "output_type": "stream",
     "text": [
      "Saved to db successfully\n",
      "Done with link 3414: https://www.zoopla.co.uk/for-sale/details/65103711/?search_identifier=c6397525197d270551ef4c292e31d1f3a1e5b6a6566bb83bcef222701d9172d6\n",
      "Starting extraction for link 3415: https://www.zoopla.co.uk/for-sale/details/65027843/?search_identifier=c6397525197d270551ef4c292e31d1f3a1e5b6a6566bb83bcef222701d9172d6\n"
     ]
    },
    {
     "name": "stderr",
     "output_type": "stream",
     "text": [
      "could not detect version_main.therefore, we are assuming it is chrome 108 or higher\n"
     ]
    },
    {
     "name": "stdout",
     "output_type": "stream",
     "text": [
      "Saved to db successfully\n",
      "Done with link 3415: https://www.zoopla.co.uk/for-sale/details/65027843/?search_identifier=c6397525197d270551ef4c292e31d1f3a1e5b6a6566bb83bcef222701d9172d6\n",
      "Starting extraction for link 3416: https://www.zoopla.co.uk/for-sale/details/65023450/?search_identifier=c6397525197d270551ef4c292e31d1f3a1e5b6a6566bb83bcef222701d9172d6\n"
     ]
    },
    {
     "name": "stderr",
     "output_type": "stream",
     "text": [
      "could not detect version_main.therefore, we are assuming it is chrome 108 or higher\n"
     ]
    },
    {
     "name": "stdout",
     "output_type": "stream",
     "text": [
      "Saved to db successfully\n",
      "Done with link 3416: https://www.zoopla.co.uk/for-sale/details/65023450/?search_identifier=c6397525197d270551ef4c292e31d1f3a1e5b6a6566bb83bcef222701d9172d6\n",
      "Starting extraction for link 3417: https://www.zoopla.co.uk/for-sale/details/65020345/?search_identifier=c6397525197d270551ef4c292e31d1f3a1e5b6a6566bb83bcef222701d9172d6\n"
     ]
    },
    {
     "name": "stderr",
     "output_type": "stream",
     "text": [
      "could not detect version_main.therefore, we are assuming it is chrome 108 or higher\n"
     ]
    },
    {
     "name": "stdout",
     "output_type": "stream",
     "text": [
      "Saved to db successfully\n",
      "Done with link 3417: https://www.zoopla.co.uk/for-sale/details/65020345/?search_identifier=c6397525197d270551ef4c292e31d1f3a1e5b6a6566bb83bcef222701d9172d6\n",
      "Starting extraction for link 3418: https://www.zoopla.co.uk/for-sale/details/65003090/?search_identifier=c6397525197d270551ef4c292e31d1f3a1e5b6a6566bb83bcef222701d9172d6\n"
     ]
    },
    {
     "name": "stderr",
     "output_type": "stream",
     "text": [
      "could not detect version_main.therefore, we are assuming it is chrome 108 or higher\n"
     ]
    },
    {
     "name": "stdout",
     "output_type": "stream",
     "text": [
      "Saved to db successfully\n",
      "Done with link 3418: https://www.zoopla.co.uk/for-sale/details/65003090/?search_identifier=c6397525197d270551ef4c292e31d1f3a1e5b6a6566bb83bcef222701d9172d6\n",
      "Starting extraction for link 3419: https://www.zoopla.co.uk/for-sale/details/64993993/?search_identifier=c6397525197d270551ef4c292e31d1f3a1e5b6a6566bb83bcef222701d9172d6\n"
     ]
    },
    {
     "name": "stderr",
     "output_type": "stream",
     "text": [
      "could not detect version_main.therefore, we are assuming it is chrome 108 or higher\n"
     ]
    },
    {
     "name": "stdout",
     "output_type": "stream",
     "text": [
      "Saved to db successfully\n",
      "Done with link 3419: https://www.zoopla.co.uk/for-sale/details/64993993/?search_identifier=c6397525197d270551ef4c292e31d1f3a1e5b6a6566bb83bcef222701d9172d6\n",
      "Starting extraction for link 3420: https://www.zoopla.co.uk/for-sale/details/64896022/?search_identifier=c6397525197d270551ef4c292e31d1f3a1e5b6a6566bb83bcef222701d9172d6\n"
     ]
    },
    {
     "name": "stderr",
     "output_type": "stream",
     "text": [
      "could not detect version_main.therefore, we are assuming it is chrome 108 or higher\n"
     ]
    },
    {
     "name": "stdout",
     "output_type": "stream",
     "text": [
      "Saved to db successfully\n",
      "Done with link 3420: https://www.zoopla.co.uk/for-sale/details/64896022/?search_identifier=c6397525197d270551ef4c292e31d1f3a1e5b6a6566bb83bcef222701d9172d6\n",
      "Starting extraction for link 3421: https://www.zoopla.co.uk/for-sale/details/64853710/?search_identifier=c6397525197d270551ef4c292e31d1f3a1e5b6a6566bb83bcef222701d9172d6\n"
     ]
    },
    {
     "name": "stderr",
     "output_type": "stream",
     "text": [
      "could not detect version_main.therefore, we are assuming it is chrome 108 or higher\n"
     ]
    },
    {
     "name": "stdout",
     "output_type": "stream",
     "text": [
      "Saved to db successfully\n",
      "Done with link 3421: https://www.zoopla.co.uk/for-sale/details/64853710/?search_identifier=c6397525197d270551ef4c292e31d1f3a1e5b6a6566bb83bcef222701d9172d6\n",
      "Starting extraction for link 3422: https://www.zoopla.co.uk/for-sale/details/64811497/?search_identifier=c6397525197d270551ef4c292e31d1f3a1e5b6a6566bb83bcef222701d9172d6\n"
     ]
    },
    {
     "name": "stderr",
     "output_type": "stream",
     "text": [
      "could not detect version_main.therefore, we are assuming it is chrome 108 or higher\n"
     ]
    },
    {
     "name": "stdout",
     "output_type": "stream",
     "text": [
      "Saved to db successfully\n",
      "Done with link 3422: https://www.zoopla.co.uk/for-sale/details/64811497/?search_identifier=c6397525197d270551ef4c292e31d1f3a1e5b6a6566bb83bcef222701d9172d6\n",
      "Starting extraction for link 3423: https://www.zoopla.co.uk/for-sale/details/64791818/?search_identifier=c6397525197d270551ef4c292e31d1f3a1e5b6a6566bb83bcef222701d9172d6\n"
     ]
    },
    {
     "name": "stderr",
     "output_type": "stream",
     "text": [
      "could not detect version_main.therefore, we are assuming it is chrome 108 or higher\n"
     ]
    },
    {
     "name": "stdout",
     "output_type": "stream",
     "text": [
      "Saved to db successfully\n",
      "Done with link 3423: https://www.zoopla.co.uk/for-sale/details/64791818/?search_identifier=c6397525197d270551ef4c292e31d1f3a1e5b6a6566bb83bcef222701d9172d6\n",
      "Starting extraction for link 3424: https://www.zoopla.co.uk/for-sale/details/64602640/?search_identifier=c6397525197d270551ef4c292e31d1f3a1e5b6a6566bb83bcef222701d9172d6\n"
     ]
    },
    {
     "name": "stderr",
     "output_type": "stream",
     "text": [
      "could not detect version_main.therefore, we are assuming it is chrome 108 or higher\n"
     ]
    },
    {
     "name": "stdout",
     "output_type": "stream",
     "text": [
      "Saved to db successfully\n",
      "Done with link 3424: https://www.zoopla.co.uk/for-sale/details/64602640/?search_identifier=c6397525197d270551ef4c292e31d1f3a1e5b6a6566bb83bcef222701d9172d6\n",
      "Starting extraction for link 3425: https://www.zoopla.co.uk/for-sale/details/64588637/?search_identifier=c6397525197d270551ef4c292e31d1f3a1e5b6a6566bb83bcef222701d9172d6\n"
     ]
    },
    {
     "name": "stderr",
     "output_type": "stream",
     "text": [
      "could not detect version_main.therefore, we are assuming it is chrome 108 or higher\n"
     ]
    },
    {
     "name": "stdout",
     "output_type": "stream",
     "text": [
      "Saved to db successfully\n",
      "Done with link 3425: https://www.zoopla.co.uk/for-sale/details/64588637/?search_identifier=c6397525197d270551ef4c292e31d1f3a1e5b6a6566bb83bcef222701d9172d6\n",
      "Starting extraction for link 3426: https://www.zoopla.co.uk/for-sale/details/64576643/?search_identifier=c6397525197d270551ef4c292e31d1f3a1e5b6a6566bb83bcef222701d9172d6\n"
     ]
    },
    {
     "name": "stderr",
     "output_type": "stream",
     "text": [
      "could not detect version_main.therefore, we are assuming it is chrome 108 or higher\n"
     ]
    },
    {
     "name": "stdout",
     "output_type": "stream",
     "text": [
      "Saved to db successfully\n",
      "Done with link 3426: https://www.zoopla.co.uk/for-sale/details/64576643/?search_identifier=c6397525197d270551ef4c292e31d1f3a1e5b6a6566bb83bcef222701d9172d6\n",
      "Starting extraction for link 3427: https://www.zoopla.co.uk/for-sale/details/64496145/?search_identifier=c6397525197d270551ef4c292e31d1f3a1e5b6a6566bb83bcef222701d9172d6\n"
     ]
    },
    {
     "name": "stderr",
     "output_type": "stream",
     "text": [
      "could not detect version_main.therefore, we are assuming it is chrome 108 or higher\n"
     ]
    },
    {
     "name": "stdout",
     "output_type": "stream",
     "text": [
      "Saved to db successfully\n",
      "Done with link 3427: https://www.zoopla.co.uk/for-sale/details/64496145/?search_identifier=c6397525197d270551ef4c292e31d1f3a1e5b6a6566bb83bcef222701d9172d6\n",
      "Starting extraction for link 3428: https://www.zoopla.co.uk/for-sale/details/64473226/?search_identifier=c6397525197d270551ef4c292e31d1f3a1e5b6a6566bb83bcef222701d9172d6\n"
     ]
    },
    {
     "name": "stderr",
     "output_type": "stream",
     "text": [
      "could not detect version_main.therefore, we are assuming it is chrome 108 or higher\n"
     ]
    },
    {
     "name": "stdout",
     "output_type": "stream",
     "text": [
      "Saved to db successfully\n",
      "Done with link 3428: https://www.zoopla.co.uk/for-sale/details/64473226/?search_identifier=c6397525197d270551ef4c292e31d1f3a1e5b6a6566bb83bcef222701d9172d6\n",
      "Starting extraction for link 3429: https://www.zoopla.co.uk/for-sale/details/64472570/?search_identifier=c6397525197d270551ef4c292e31d1f3a1e5b6a6566bb83bcef222701d9172d6\n"
     ]
    },
    {
     "name": "stderr",
     "output_type": "stream",
     "text": [
      "could not detect version_main.therefore, we are assuming it is chrome 108 or higher\n"
     ]
    },
    {
     "name": "stdout",
     "output_type": "stream",
     "text": [
      "Saved to db successfully\n",
      "Done with link 3429: https://www.zoopla.co.uk/for-sale/details/64472570/?search_identifier=c6397525197d270551ef4c292e31d1f3a1e5b6a6566bb83bcef222701d9172d6\n",
      "Starting extraction for link 3430: https://www.zoopla.co.uk/for-sale/details/64462441/?search_identifier=c6397525197d270551ef4c292e31d1f3a1e5b6a6566bb83bcef222701d9172d6\n"
     ]
    },
    {
     "name": "stderr",
     "output_type": "stream",
     "text": [
      "could not detect version_main.therefore, we are assuming it is chrome 108 or higher\n"
     ]
    },
    {
     "name": "stdout",
     "output_type": "stream",
     "text": [
      "Saved to db successfully\n",
      "Done with link 3430: https://www.zoopla.co.uk/for-sale/details/64462441/?search_identifier=c6397525197d270551ef4c292e31d1f3a1e5b6a6566bb83bcef222701d9172d6\n",
      "Starting extraction for link 3431: https://www.zoopla.co.uk/for-sale/details/65214267/?search_identifier=a2d1504b0f7fe21ed7812843f48ec863bcd5d8a69ce34aeb946a3be1230e0faa\n"
     ]
    },
    {
     "name": "stderr",
     "output_type": "stream",
     "text": [
      "could not detect version_main.therefore, we are assuming it is chrome 108 or higher\n"
     ]
    },
    {
     "name": "stdout",
     "output_type": "stream",
     "text": [
      "Saved to db successfully\n",
      "Done with link 3431: https://www.zoopla.co.uk/for-sale/details/65214267/?search_identifier=a2d1504b0f7fe21ed7812843f48ec863bcd5d8a69ce34aeb946a3be1230e0faa\n",
      "Starting extraction for link 3432: https://www.zoopla.co.uk/for-sale/details/65213931/?search_identifier=a2d1504b0f7fe21ed7812843f48ec863bcd5d8a69ce34aeb946a3be1230e0faa\n"
     ]
    },
    {
     "name": "stderr",
     "output_type": "stream",
     "text": [
      "could not detect version_main.therefore, we are assuming it is chrome 108 or higher\n"
     ]
    },
    {
     "name": "stdout",
     "output_type": "stream",
     "text": [
      "Saved to db successfully\n",
      "Done with link 3432: https://www.zoopla.co.uk/for-sale/details/65213931/?search_identifier=a2d1504b0f7fe21ed7812843f48ec863bcd5d8a69ce34aeb946a3be1230e0faa\n",
      "Starting extraction for link 3433: https://www.zoopla.co.uk/for-sale/details/65207535/?search_identifier=a2d1504b0f7fe21ed7812843f48ec863bcd5d8a69ce34aeb946a3be1230e0faa\n"
     ]
    },
    {
     "name": "stderr",
     "output_type": "stream",
     "text": [
      "could not detect version_main.therefore, we are assuming it is chrome 108 or higher\n"
     ]
    },
    {
     "name": "stdout",
     "output_type": "stream",
     "text": [
      "Saved to db successfully\n",
      "Done with link 3433: https://www.zoopla.co.uk/for-sale/details/65207535/?search_identifier=a2d1504b0f7fe21ed7812843f48ec863bcd5d8a69ce34aeb946a3be1230e0faa\n",
      "Starting extraction for link 3434: https://www.zoopla.co.uk/for-sale/details/65205536/?search_identifier=a2d1504b0f7fe21ed7812843f48ec863bcd5d8a69ce34aeb946a3be1230e0faa\n"
     ]
    },
    {
     "name": "stderr",
     "output_type": "stream",
     "text": [
      "could not detect version_main.therefore, we are assuming it is chrome 108 or higher\n"
     ]
    },
    {
     "name": "stdout",
     "output_type": "stream",
     "text": [
      "Saved to db successfully\n",
      "Done with link 3434: https://www.zoopla.co.uk/for-sale/details/65205536/?search_identifier=a2d1504b0f7fe21ed7812843f48ec863bcd5d8a69ce34aeb946a3be1230e0faa\n",
      "Starting extraction for link 3435: https://www.zoopla.co.uk/for-sale/details/65199577/?search_identifier=a2d1504b0f7fe21ed7812843f48ec863bcd5d8a69ce34aeb946a3be1230e0faa\n"
     ]
    },
    {
     "name": "stderr",
     "output_type": "stream",
     "text": [
      "could not detect version_main.therefore, we are assuming it is chrome 108 or higher\n"
     ]
    },
    {
     "name": "stdout",
     "output_type": "stream",
     "text": [
      "Saved to db successfully\n",
      "Done with link 3435: https://www.zoopla.co.uk/for-sale/details/65199577/?search_identifier=a2d1504b0f7fe21ed7812843f48ec863bcd5d8a69ce34aeb946a3be1230e0faa\n",
      "Starting extraction for link 3436: https://www.zoopla.co.uk/for-sale/details/65199215/?search_identifier=a2d1504b0f7fe21ed7812843f48ec863bcd5d8a69ce34aeb946a3be1230e0faa\n"
     ]
    },
    {
     "name": "stderr",
     "output_type": "stream",
     "text": [
      "could not detect version_main.therefore, we are assuming it is chrome 108 or higher\n"
     ]
    },
    {
     "name": "stdout",
     "output_type": "stream",
     "text": [
      "Saved to db successfully\n",
      "Done with link 3436: https://www.zoopla.co.uk/for-sale/details/65199215/?search_identifier=a2d1504b0f7fe21ed7812843f48ec863bcd5d8a69ce34aeb946a3be1230e0faa\n",
      "Starting extraction for link 3437: https://www.zoopla.co.uk/for-sale/details/65194905/?search_identifier=a2d1504b0f7fe21ed7812843f48ec863bcd5d8a69ce34aeb946a3be1230e0faa\n"
     ]
    },
    {
     "name": "stderr",
     "output_type": "stream",
     "text": [
      "could not detect version_main.therefore, we are assuming it is chrome 108 or higher\n"
     ]
    },
    {
     "name": "stdout",
     "output_type": "stream",
     "text": [
      "Saved to db successfully\n",
      "Done with link 3437: https://www.zoopla.co.uk/for-sale/details/65194905/?search_identifier=a2d1504b0f7fe21ed7812843f48ec863bcd5d8a69ce34aeb946a3be1230e0faa\n",
      "Starting extraction for link 3438: https://www.zoopla.co.uk/for-sale/details/65193797/?search_identifier=a2d1504b0f7fe21ed7812843f48ec863bcd5d8a69ce34aeb946a3be1230e0faa\n"
     ]
    },
    {
     "name": "stderr",
     "output_type": "stream",
     "text": [
      "could not detect version_main.therefore, we are assuming it is chrome 108 or higher\n"
     ]
    },
    {
     "name": "stdout",
     "output_type": "stream",
     "text": [
      "Saved to db successfully\n",
      "Done with link 3438: https://www.zoopla.co.uk/for-sale/details/65193797/?search_identifier=a2d1504b0f7fe21ed7812843f48ec863bcd5d8a69ce34aeb946a3be1230e0faa\n",
      "Starting extraction for link 3439: https://www.zoopla.co.uk/for-sale/details/65190505/?search_identifier=a2d1504b0f7fe21ed7812843f48ec863bcd5d8a69ce34aeb946a3be1230e0faa\n"
     ]
    },
    {
     "name": "stderr",
     "output_type": "stream",
     "text": [
      "could not detect version_main.therefore, we are assuming it is chrome 108 or higher\n"
     ]
    },
    {
     "name": "stdout",
     "output_type": "stream",
     "text": [
      "Saved to db successfully\n",
      "Done with link 3439: https://www.zoopla.co.uk/for-sale/details/65190505/?search_identifier=a2d1504b0f7fe21ed7812843f48ec863bcd5d8a69ce34aeb946a3be1230e0faa\n",
      "Starting extraction for link 3440: https://www.zoopla.co.uk/for-sale/details/65185768/?search_identifier=a2d1504b0f7fe21ed7812843f48ec863bcd5d8a69ce34aeb946a3be1230e0faa\n"
     ]
    },
    {
     "name": "stderr",
     "output_type": "stream",
     "text": [
      "could not detect version_main.therefore, we are assuming it is chrome 108 or higher\n"
     ]
    },
    {
     "name": "stdout",
     "output_type": "stream",
     "text": [
      "Saved to db successfully\n",
      "Done with link 3440: https://www.zoopla.co.uk/for-sale/details/65185768/?search_identifier=a2d1504b0f7fe21ed7812843f48ec863bcd5d8a69ce34aeb946a3be1230e0faa\n",
      "Starting extraction for link 3441: https://www.zoopla.co.uk/for-sale/details/65181229/?search_identifier=a2d1504b0f7fe21ed7812843f48ec863bcd5d8a69ce34aeb946a3be1230e0faa\n"
     ]
    },
    {
     "name": "stderr",
     "output_type": "stream",
     "text": [
      "could not detect version_main.therefore, we are assuming it is chrome 108 or higher\n"
     ]
    },
    {
     "name": "stdout",
     "output_type": "stream",
     "text": [
      "Saved to db successfully\n",
      "Done with link 3441: https://www.zoopla.co.uk/for-sale/details/65181229/?search_identifier=a2d1504b0f7fe21ed7812843f48ec863bcd5d8a69ce34aeb946a3be1230e0faa\n",
      "Starting extraction for link 3442: https://www.zoopla.co.uk/for-sale/details/65177556/?search_identifier=a2d1504b0f7fe21ed7812843f48ec863bcd5d8a69ce34aeb946a3be1230e0faa\n"
     ]
    },
    {
     "name": "stderr",
     "output_type": "stream",
     "text": [
      "could not detect version_main.therefore, we are assuming it is chrome 108 or higher\n"
     ]
    },
    {
     "name": "stdout",
     "output_type": "stream",
     "text": [
      "Saved to db successfully\n",
      "Done with link 3442: https://www.zoopla.co.uk/for-sale/details/65177556/?search_identifier=a2d1504b0f7fe21ed7812843f48ec863bcd5d8a69ce34aeb946a3be1230e0faa\n",
      "Starting extraction for link 3443: https://www.zoopla.co.uk/for-sale/details/65176783/?search_identifier=a2d1504b0f7fe21ed7812843f48ec863bcd5d8a69ce34aeb946a3be1230e0faa\n"
     ]
    },
    {
     "name": "stderr",
     "output_type": "stream",
     "text": [
      "could not detect version_main.therefore, we are assuming it is chrome 108 or higher\n"
     ]
    },
    {
     "name": "stdout",
     "output_type": "stream",
     "text": [
      "Saved to db successfully\n",
      "Done with link 3443: https://www.zoopla.co.uk/for-sale/details/65176783/?search_identifier=a2d1504b0f7fe21ed7812843f48ec863bcd5d8a69ce34aeb946a3be1230e0faa\n",
      "Starting extraction for link 3444: https://www.zoopla.co.uk/for-sale/details/65174584/?search_identifier=a2d1504b0f7fe21ed7812843f48ec863bcd5d8a69ce34aeb946a3be1230e0faa\n"
     ]
    },
    {
     "name": "stderr",
     "output_type": "stream",
     "text": [
      "could not detect version_main.therefore, we are assuming it is chrome 108 or higher\n"
     ]
    },
    {
     "name": "stdout",
     "output_type": "stream",
     "text": [
      "Saved to db successfully\n",
      "Done with link 3444: https://www.zoopla.co.uk/for-sale/details/65174584/?search_identifier=a2d1504b0f7fe21ed7812843f48ec863bcd5d8a69ce34aeb946a3be1230e0faa\n",
      "Starting extraction for link 3445: https://www.zoopla.co.uk/for-sale/details/65174371/?search_identifier=a2d1504b0f7fe21ed7812843f48ec863bcd5d8a69ce34aeb946a3be1230e0faa\n"
     ]
    },
    {
     "name": "stderr",
     "output_type": "stream",
     "text": [
      "could not detect version_main.therefore, we are assuming it is chrome 108 or higher\n"
     ]
    },
    {
     "name": "stdout",
     "output_type": "stream",
     "text": [
      "Saved to db successfully\n",
      "Done with link 3445: https://www.zoopla.co.uk/for-sale/details/65174371/?search_identifier=a2d1504b0f7fe21ed7812843f48ec863bcd5d8a69ce34aeb946a3be1230e0faa\n",
      "Starting extraction for link 3446: https://www.zoopla.co.uk/for-sale/details/65160178/?search_identifier=a2d1504b0f7fe21ed7812843f48ec863bcd5d8a69ce34aeb946a3be1230e0faa\n"
     ]
    },
    {
     "name": "stderr",
     "output_type": "stream",
     "text": [
      "could not detect version_main.therefore, we are assuming it is chrome 108 or higher\n"
     ]
    },
    {
     "name": "stdout",
     "output_type": "stream",
     "text": [
      "Saved to db successfully\n",
      "Done with link 3446: https://www.zoopla.co.uk/for-sale/details/65160178/?search_identifier=a2d1504b0f7fe21ed7812843f48ec863bcd5d8a69ce34aeb946a3be1230e0faa\n",
      "Starting extraction for link 3447: https://www.zoopla.co.uk/for-sale/details/65146376/?search_identifier=a2d1504b0f7fe21ed7812843f48ec863bcd5d8a69ce34aeb946a3be1230e0faa\n"
     ]
    },
    {
     "name": "stderr",
     "output_type": "stream",
     "text": [
      "could not detect version_main.therefore, we are assuming it is chrome 108 or higher\n"
     ]
    },
    {
     "name": "stdout",
     "output_type": "stream",
     "text": [
      "Saved to db successfully\n",
      "Done with link 3447: https://www.zoopla.co.uk/for-sale/details/65146376/?search_identifier=a2d1504b0f7fe21ed7812843f48ec863bcd5d8a69ce34aeb946a3be1230e0faa\n",
      "Starting extraction for link 3448: https://www.zoopla.co.uk/for-sale/details/65142331/?search_identifier=a2d1504b0f7fe21ed7812843f48ec863bcd5d8a69ce34aeb946a3be1230e0faa\n"
     ]
    },
    {
     "name": "stderr",
     "output_type": "stream",
     "text": [
      "could not detect version_main.therefore, we are assuming it is chrome 108 or higher\n"
     ]
    },
    {
     "name": "stdout",
     "output_type": "stream",
     "text": [
      "Saved to db successfully\n",
      "Done with link 3448: https://www.zoopla.co.uk/for-sale/details/65142331/?search_identifier=a2d1504b0f7fe21ed7812843f48ec863bcd5d8a69ce34aeb946a3be1230e0faa\n",
      "Starting extraction for link 3449: https://www.zoopla.co.uk/for-sale/details/65142294/?search_identifier=a2d1504b0f7fe21ed7812843f48ec863bcd5d8a69ce34aeb946a3be1230e0faa\n"
     ]
    },
    {
     "name": "stderr",
     "output_type": "stream",
     "text": [
      "could not detect version_main.therefore, we are assuming it is chrome 108 or higher\n"
     ]
    },
    {
     "name": "stdout",
     "output_type": "stream",
     "text": [
      "Saved to db successfully\n",
      "Done with link 3449: https://www.zoopla.co.uk/for-sale/details/65142294/?search_identifier=a2d1504b0f7fe21ed7812843f48ec863bcd5d8a69ce34aeb946a3be1230e0faa\n",
      "Starting extraction for link 3450: https://www.zoopla.co.uk/for-sale/details/65140047/?search_identifier=a2d1504b0f7fe21ed7812843f48ec863bcd5d8a69ce34aeb946a3be1230e0faa\n"
     ]
    },
    {
     "name": "stderr",
     "output_type": "stream",
     "text": [
      "could not detect version_main.therefore, we are assuming it is chrome 108 or higher\n"
     ]
    },
    {
     "name": "stdout",
     "output_type": "stream",
     "text": [
      "Saved to db successfully\n",
      "Done with link 3450: https://www.zoopla.co.uk/for-sale/details/65140047/?search_identifier=a2d1504b0f7fe21ed7812843f48ec863bcd5d8a69ce34aeb946a3be1230e0faa\n",
      "Starting extraction for link 3451: https://www.zoopla.co.uk/for-sale/details/65138189/?search_identifier=a2d1504b0f7fe21ed7812843f48ec863bcd5d8a69ce34aeb946a3be1230e0faa\n"
     ]
    },
    {
     "name": "stderr",
     "output_type": "stream",
     "text": [
      "could not detect version_main.therefore, we are assuming it is chrome 108 or higher\n"
     ]
    },
    {
     "name": "stdout",
     "output_type": "stream",
     "text": [
      "Saved to db successfully\n",
      "Done with link 3451: https://www.zoopla.co.uk/for-sale/details/65138189/?search_identifier=a2d1504b0f7fe21ed7812843f48ec863bcd5d8a69ce34aeb946a3be1230e0faa\n",
      "Starting extraction for link 3452: https://www.zoopla.co.uk/for-sale/details/65136534/?search_identifier=a2d1504b0f7fe21ed7812843f48ec863bcd5d8a69ce34aeb946a3be1230e0faa\n"
     ]
    },
    {
     "name": "stderr",
     "output_type": "stream",
     "text": [
      "could not detect version_main.therefore, we are assuming it is chrome 108 or higher\n"
     ]
    },
    {
     "name": "stdout",
     "output_type": "stream",
     "text": [
      "Saved to db successfully\n",
      "Done with link 3452: https://www.zoopla.co.uk/for-sale/details/65136534/?search_identifier=a2d1504b0f7fe21ed7812843f48ec863bcd5d8a69ce34aeb946a3be1230e0faa\n",
      "Starting extraction for link 3453: https://www.zoopla.co.uk/for-sale/details/65105620/?search_identifier=a2d1504b0f7fe21ed7812843f48ec863bcd5d8a69ce34aeb946a3be1230e0faa\n"
     ]
    },
    {
     "name": "stderr",
     "output_type": "stream",
     "text": [
      "could not detect version_main.therefore, we are assuming it is chrome 108 or higher\n"
     ]
    },
    {
     "name": "stdout",
     "output_type": "stream",
     "text": [
      "Saved to db successfully\n",
      "Done with link 3453: https://www.zoopla.co.uk/for-sale/details/65105620/?search_identifier=a2d1504b0f7fe21ed7812843f48ec863bcd5d8a69ce34aeb946a3be1230e0faa\n",
      "Starting extraction for link 3454: https://www.zoopla.co.uk/for-sale/details/65082001/?search_identifier=a2d1504b0f7fe21ed7812843f48ec863bcd5d8a69ce34aeb946a3be1230e0faa\n"
     ]
    },
    {
     "name": "stderr",
     "output_type": "stream",
     "text": [
      "could not detect version_main.therefore, we are assuming it is chrome 108 or higher\n"
     ]
    },
    {
     "name": "stdout",
     "output_type": "stream",
     "text": [
      "Saved to db successfully\n",
      "Done with link 3454: https://www.zoopla.co.uk/for-sale/details/65082001/?search_identifier=a2d1504b0f7fe21ed7812843f48ec863bcd5d8a69ce34aeb946a3be1230e0faa\n",
      "Starting extraction for link 3455: https://www.zoopla.co.uk/for-sale/details/63943683/?search_identifier=a2d1504b0f7fe21ed7812843f48ec863bcd5d8a69ce34aeb946a3be1230e0faa\n"
     ]
    },
    {
     "name": "stderr",
     "output_type": "stream",
     "text": [
      "could not detect version_main.therefore, we are assuming it is chrome 108 or higher\n"
     ]
    },
    {
     "name": "stdout",
     "output_type": "stream",
     "text": [
      "Saved to db successfully\n",
      "Done with link 3455: https://www.zoopla.co.uk/for-sale/details/63943683/?search_identifier=a2d1504b0f7fe21ed7812843f48ec863bcd5d8a69ce34aeb946a3be1230e0faa\n",
      "Starting extraction for link 3456: https://www.zoopla.co.uk/for-sale/details/63899662/?search_identifier=951b0b75eb861aaa8a17cfba5ad98496d765f38a1f28ea010f0c8d2200ec451c\n"
     ]
    },
    {
     "name": "stderr",
     "output_type": "stream",
     "text": [
      "could not detect version_main.therefore, we are assuming it is chrome 108 or higher\n"
     ]
    },
    {
     "name": "stdout",
     "output_type": "stream",
     "text": [
      "Saved to db successfully\n",
      "Done with link 3456: https://www.zoopla.co.uk/for-sale/details/63899662/?search_identifier=951b0b75eb861aaa8a17cfba5ad98496d765f38a1f28ea010f0c8d2200ec451c\n",
      "Starting extraction for link 3457: https://www.zoopla.co.uk/for-sale/details/65047955/?search_identifier=951b0b75eb861aaa8a17cfba5ad98496d765f38a1f28ea010f0c8d2200ec451c\n"
     ]
    },
    {
     "name": "stderr",
     "output_type": "stream",
     "text": [
      "could not detect version_main.therefore, we are assuming it is chrome 108 or higher\n"
     ]
    },
    {
     "name": "stdout",
     "output_type": "stream",
     "text": [
      "Saved to db successfully\n",
      "Done with link 3457: https://www.zoopla.co.uk/for-sale/details/65047955/?search_identifier=951b0b75eb861aaa8a17cfba5ad98496d765f38a1f28ea010f0c8d2200ec451c\n",
      "Starting extraction for link 3458: https://www.zoopla.co.uk/for-sale/details/65043497/?search_identifier=951b0b75eb861aaa8a17cfba5ad98496d765f38a1f28ea010f0c8d2200ec451c\n"
     ]
    },
    {
     "name": "stderr",
     "output_type": "stream",
     "text": [
      "could not detect version_main.therefore, we are assuming it is chrome 108 or higher\n"
     ]
    },
    {
     "name": "stdout",
     "output_type": "stream",
     "text": [
      "Saved to db successfully\n",
      "Done with link 3458: https://www.zoopla.co.uk/for-sale/details/65043497/?search_identifier=951b0b75eb861aaa8a17cfba5ad98496d765f38a1f28ea010f0c8d2200ec451c\n",
      "Starting extraction for link 3459: https://www.zoopla.co.uk/for-sale/details/65040107/?search_identifier=951b0b75eb861aaa8a17cfba5ad98496d765f38a1f28ea010f0c8d2200ec451c\n"
     ]
    },
    {
     "name": "stderr",
     "output_type": "stream",
     "text": [
      "could not detect version_main.therefore, we are assuming it is chrome 108 or higher\n"
     ]
    },
    {
     "name": "stdout",
     "output_type": "stream",
     "text": [
      "Saved to db successfully\n",
      "Done with link 3459: https://www.zoopla.co.uk/for-sale/details/65040107/?search_identifier=951b0b75eb861aaa8a17cfba5ad98496d765f38a1f28ea010f0c8d2200ec451c\n",
      "Starting extraction for link 3460: https://www.zoopla.co.uk/for-sale/details/65033407/?search_identifier=951b0b75eb861aaa8a17cfba5ad98496d765f38a1f28ea010f0c8d2200ec451c\n"
     ]
    },
    {
     "name": "stderr",
     "output_type": "stream",
     "text": [
      "could not detect version_main.therefore, we are assuming it is chrome 108 or higher\n"
     ]
    },
    {
     "name": "stdout",
     "output_type": "stream",
     "text": [
      "Saved to db successfully\n",
      "Done with link 3460: https://www.zoopla.co.uk/for-sale/details/65033407/?search_identifier=951b0b75eb861aaa8a17cfba5ad98496d765f38a1f28ea010f0c8d2200ec451c\n",
      "Starting extraction for link 3461: https://www.zoopla.co.uk/for-sale/details/65023747/?search_identifier=951b0b75eb861aaa8a17cfba5ad98496d765f38a1f28ea010f0c8d2200ec451c\n"
     ]
    },
    {
     "name": "stderr",
     "output_type": "stream",
     "text": [
      "could not detect version_main.therefore, we are assuming it is chrome 108 or higher\n"
     ]
    },
    {
     "name": "stdout",
     "output_type": "stream",
     "text": [
      "Saved to db successfully\n",
      "Done with link 3461: https://www.zoopla.co.uk/for-sale/details/65023747/?search_identifier=951b0b75eb861aaa8a17cfba5ad98496d765f38a1f28ea010f0c8d2200ec451c\n",
      "Starting extraction for link 3462: https://www.zoopla.co.uk/for-sale/details/62794730/?search_identifier=951b0b75eb861aaa8a17cfba5ad98496d765f38a1f28ea010f0c8d2200ec451c\n"
     ]
    },
    {
     "name": "stderr",
     "output_type": "stream",
     "text": [
      "could not detect version_main.therefore, we are assuming it is chrome 108 or higher\n"
     ]
    },
    {
     "name": "stdout",
     "output_type": "stream",
     "text": [
      "Saved to db successfully\n",
      "Done with link 3462: https://www.zoopla.co.uk/for-sale/details/62794730/?search_identifier=951b0b75eb861aaa8a17cfba5ad98496d765f38a1f28ea010f0c8d2200ec451c\n",
      "Starting extraction for link 3463: https://www.zoopla.co.uk/for-sale/details/63558214/?search_identifier=951b0b75eb861aaa8a17cfba5ad98496d765f38a1f28ea010f0c8d2200ec451c\n"
     ]
    },
    {
     "name": "stderr",
     "output_type": "stream",
     "text": [
      "could not detect version_main.therefore, we are assuming it is chrome 108 or higher\n"
     ]
    },
    {
     "name": "stdout",
     "output_type": "stream",
     "text": [
      "Saved to db successfully\n",
      "Done with link 3463: https://www.zoopla.co.uk/for-sale/details/63558214/?search_identifier=951b0b75eb861aaa8a17cfba5ad98496d765f38a1f28ea010f0c8d2200ec451c\n",
      "Starting extraction for link 3464: https://www.zoopla.co.uk/for-sale/details/65007912/?search_identifier=951b0b75eb861aaa8a17cfba5ad98496d765f38a1f28ea010f0c8d2200ec451c\n"
     ]
    },
    {
     "name": "stderr",
     "output_type": "stream",
     "text": [
      "could not detect version_main.therefore, we are assuming it is chrome 108 or higher\n"
     ]
    },
    {
     "name": "stdout",
     "output_type": "stream",
     "text": [
      "Saved to db successfully\n",
      "Done with link 3464: https://www.zoopla.co.uk/for-sale/details/65007912/?search_identifier=951b0b75eb861aaa8a17cfba5ad98496d765f38a1f28ea010f0c8d2200ec451c\n",
      "Starting extraction for link 3465: https://www.zoopla.co.uk/for-sale/details/65007636/?search_identifier=951b0b75eb861aaa8a17cfba5ad98496d765f38a1f28ea010f0c8d2200ec451c\n"
     ]
    },
    {
     "name": "stderr",
     "output_type": "stream",
     "text": [
      "could not detect version_main.therefore, we are assuming it is chrome 108 or higher\n"
     ]
    },
    {
     "name": "stdout",
     "output_type": "stream",
     "text": [
      "Saved to db successfully\n",
      "Done with link 3465: https://www.zoopla.co.uk/for-sale/details/65007636/?search_identifier=951b0b75eb861aaa8a17cfba5ad98496d765f38a1f28ea010f0c8d2200ec451c\n",
      "Starting extraction for link 3466: https://www.zoopla.co.uk/for-sale/details/64993246/?search_identifier=951b0b75eb861aaa8a17cfba5ad98496d765f38a1f28ea010f0c8d2200ec451c\n"
     ]
    },
    {
     "name": "stderr",
     "output_type": "stream",
     "text": [
      "could not detect version_main.therefore, we are assuming it is chrome 108 or higher\n"
     ]
    },
    {
     "name": "stdout",
     "output_type": "stream",
     "text": [
      "Saved to db successfully\n",
      "Done with link 3466: https://www.zoopla.co.uk/for-sale/details/64993246/?search_identifier=951b0b75eb861aaa8a17cfba5ad98496d765f38a1f28ea010f0c8d2200ec451c\n",
      "Starting extraction for link 3467: https://www.zoopla.co.uk/for-sale/details/64993087/?search_identifier=951b0b75eb861aaa8a17cfba5ad98496d765f38a1f28ea010f0c8d2200ec451c\n"
     ]
    },
    {
     "name": "stderr",
     "output_type": "stream",
     "text": [
      "could not detect version_main.therefore, we are assuming it is chrome 108 or higher\n"
     ]
    },
    {
     "name": "stdout",
     "output_type": "stream",
     "text": [
      "Saved to db successfully\n",
      "Done with link 3467: https://www.zoopla.co.uk/for-sale/details/64993087/?search_identifier=951b0b75eb861aaa8a17cfba5ad98496d765f38a1f28ea010f0c8d2200ec451c\n",
      "Starting extraction for link 3468: https://www.zoopla.co.uk/for-sale/details/64978831/?search_identifier=951b0b75eb861aaa8a17cfba5ad98496d765f38a1f28ea010f0c8d2200ec451c\n"
     ]
    },
    {
     "name": "stderr",
     "output_type": "stream",
     "text": [
      "could not detect version_main.therefore, we are assuming it is chrome 108 or higher\n"
     ]
    },
    {
     "name": "stdout",
     "output_type": "stream",
     "text": [
      "Saved to db successfully\n",
      "Done with link 3468: https://www.zoopla.co.uk/for-sale/details/64978831/?search_identifier=951b0b75eb861aaa8a17cfba5ad98496d765f38a1f28ea010f0c8d2200ec451c\n",
      "Starting extraction for link 3469: https://www.zoopla.co.uk/for-sale/details/64977900/?search_identifier=951b0b75eb861aaa8a17cfba5ad98496d765f38a1f28ea010f0c8d2200ec451c\n"
     ]
    },
    {
     "name": "stderr",
     "output_type": "stream",
     "text": [
      "could not detect version_main.therefore, we are assuming it is chrome 108 or higher\n"
     ]
    },
    {
     "name": "stdout",
     "output_type": "stream",
     "text": [
      "Saved to db successfully\n",
      "Done with link 3469: https://www.zoopla.co.uk/for-sale/details/64977900/?search_identifier=951b0b75eb861aaa8a17cfba5ad98496d765f38a1f28ea010f0c8d2200ec451c\n",
      "Starting extraction for link 3470: https://www.zoopla.co.uk/for-sale/details/64977462/?search_identifier=951b0b75eb861aaa8a17cfba5ad98496d765f38a1f28ea010f0c8d2200ec451c\n"
     ]
    },
    {
     "name": "stderr",
     "output_type": "stream",
     "text": [
      "could not detect version_main.therefore, we are assuming it is chrome 108 or higher\n"
     ]
    },
    {
     "name": "stdout",
     "output_type": "stream",
     "text": [
      "Saved to db successfully\n",
      "Done with link 3470: https://www.zoopla.co.uk/for-sale/details/64977462/?search_identifier=951b0b75eb861aaa8a17cfba5ad98496d765f38a1f28ea010f0c8d2200ec451c\n",
      "Starting extraction for link 3471: https://www.zoopla.co.uk/for-sale/details/64977160/?search_identifier=951b0b75eb861aaa8a17cfba5ad98496d765f38a1f28ea010f0c8d2200ec451c\n"
     ]
    },
    {
     "name": "stderr",
     "output_type": "stream",
     "text": [
      "could not detect version_main.therefore, we are assuming it is chrome 108 or higher\n"
     ]
    },
    {
     "name": "stdout",
     "output_type": "stream",
     "text": [
      "Saved to db successfully\n",
      "Done with link 3471: https://www.zoopla.co.uk/for-sale/details/64977160/?search_identifier=951b0b75eb861aaa8a17cfba5ad98496d765f38a1f28ea010f0c8d2200ec451c\n",
      "Starting extraction for link 3472: https://www.zoopla.co.uk/for-sale/details/64976296/?search_identifier=951b0b75eb861aaa8a17cfba5ad98496d765f38a1f28ea010f0c8d2200ec451c\n"
     ]
    },
    {
     "name": "stderr",
     "output_type": "stream",
     "text": [
      "could not detect version_main.therefore, we are assuming it is chrome 108 or higher\n"
     ]
    },
    {
     "name": "stdout",
     "output_type": "stream",
     "text": [
      "Saved to db successfully\n",
      "Done with link 3472: https://www.zoopla.co.uk/for-sale/details/64976296/?search_identifier=951b0b75eb861aaa8a17cfba5ad98496d765f38a1f28ea010f0c8d2200ec451c\n",
      "Starting extraction for link 3473: https://www.zoopla.co.uk/for-sale/details/64969173/?search_identifier=951b0b75eb861aaa8a17cfba5ad98496d765f38a1f28ea010f0c8d2200ec451c\n"
     ]
    },
    {
     "name": "stderr",
     "output_type": "stream",
     "text": [
      "could not detect version_main.therefore, we are assuming it is chrome 108 or higher\n"
     ]
    },
    {
     "name": "stdout",
     "output_type": "stream",
     "text": [
      "Saved to db successfully\n",
      "Done with link 3473: https://www.zoopla.co.uk/for-sale/details/64969173/?search_identifier=951b0b75eb861aaa8a17cfba5ad98496d765f38a1f28ea010f0c8d2200ec451c\n",
      "Starting extraction for link 3474: https://www.zoopla.co.uk/for-sale/details/64955341/?search_identifier=951b0b75eb861aaa8a17cfba5ad98496d765f38a1f28ea010f0c8d2200ec451c\n"
     ]
    },
    {
     "name": "stderr",
     "output_type": "stream",
     "text": [
      "could not detect version_main.therefore, we are assuming it is chrome 108 or higher\n"
     ]
    },
    {
     "name": "stdout",
     "output_type": "stream",
     "text": [
      "Saved to db successfully\n",
      "Done with link 3474: https://www.zoopla.co.uk/for-sale/details/64955341/?search_identifier=951b0b75eb861aaa8a17cfba5ad98496d765f38a1f28ea010f0c8d2200ec451c\n",
      "Starting extraction for link 3475: https://www.zoopla.co.uk/for-sale/details/64942584/?search_identifier=951b0b75eb861aaa8a17cfba5ad98496d765f38a1f28ea010f0c8d2200ec451c\n"
     ]
    },
    {
     "name": "stderr",
     "output_type": "stream",
     "text": [
      "could not detect version_main.therefore, we are assuming it is chrome 108 or higher\n"
     ]
    },
    {
     "name": "stdout",
     "output_type": "stream",
     "text": [
      "Saved to db successfully\n",
      "Done with link 3475: https://www.zoopla.co.uk/for-sale/details/64942584/?search_identifier=951b0b75eb861aaa8a17cfba5ad98496d765f38a1f28ea010f0c8d2200ec451c\n",
      "Starting extraction for link 3476: https://www.zoopla.co.uk/for-sale/details/64933800/?search_identifier=951b0b75eb861aaa8a17cfba5ad98496d765f38a1f28ea010f0c8d2200ec451c\n"
     ]
    },
    {
     "name": "stderr",
     "output_type": "stream",
     "text": [
      "could not detect version_main.therefore, we are assuming it is chrome 108 or higher\n"
     ]
    },
    {
     "name": "stdout",
     "output_type": "stream",
     "text": [
      "Saved to db successfully\n",
      "Done with link 3476: https://www.zoopla.co.uk/for-sale/details/64933800/?search_identifier=951b0b75eb861aaa8a17cfba5ad98496d765f38a1f28ea010f0c8d2200ec451c\n",
      "Starting extraction for link 3477: https://www.zoopla.co.uk/for-sale/details/64931239/?search_identifier=951b0b75eb861aaa8a17cfba5ad98496d765f38a1f28ea010f0c8d2200ec451c\n"
     ]
    },
    {
     "name": "stderr",
     "output_type": "stream",
     "text": [
      "could not detect version_main.therefore, we are assuming it is chrome 108 or higher\n"
     ]
    },
    {
     "name": "stdout",
     "output_type": "stream",
     "text": [
      "Saved to db successfully\n",
      "Done with link 3477: https://www.zoopla.co.uk/for-sale/details/64931239/?search_identifier=951b0b75eb861aaa8a17cfba5ad98496d765f38a1f28ea010f0c8d2200ec451c\n",
      "Starting extraction for link 3478: https://www.zoopla.co.uk/for-sale/details/64904416/?search_identifier=951b0b75eb861aaa8a17cfba5ad98496d765f38a1f28ea010f0c8d2200ec451c\n"
     ]
    },
    {
     "name": "stderr",
     "output_type": "stream",
     "text": [
      "could not detect version_main.therefore, we are assuming it is chrome 108 or higher\n"
     ]
    },
    {
     "name": "stdout",
     "output_type": "stream",
     "text": [
      "Saved to db successfully\n",
      "Done with link 3478: https://www.zoopla.co.uk/for-sale/details/64904416/?search_identifier=951b0b75eb861aaa8a17cfba5ad98496d765f38a1f28ea010f0c8d2200ec451c\n",
      "Starting extraction for link 3479: https://www.zoopla.co.uk/for-sale/details/64885756/?search_identifier=951b0b75eb861aaa8a17cfba5ad98496d765f38a1f28ea010f0c8d2200ec451c\n"
     ]
    },
    {
     "name": "stderr",
     "output_type": "stream",
     "text": [
      "could not detect version_main.therefore, we are assuming it is chrome 108 or higher\n"
     ]
    },
    {
     "name": "stdout",
     "output_type": "stream",
     "text": [
      "Saved to db successfully\n",
      "Done with link 3479: https://www.zoopla.co.uk/for-sale/details/64885756/?search_identifier=951b0b75eb861aaa8a17cfba5ad98496d765f38a1f28ea010f0c8d2200ec451c\n",
      "Starting extraction for link 3480: https://www.zoopla.co.uk/for-sale/details/64870333/?search_identifier=951b0b75eb861aaa8a17cfba5ad98496d765f38a1f28ea010f0c8d2200ec451c\n"
     ]
    },
    {
     "name": "stderr",
     "output_type": "stream",
     "text": [
      "could not detect version_main.therefore, we are assuming it is chrome 108 or higher\n"
     ]
    },
    {
     "name": "stdout",
     "output_type": "stream",
     "text": [
      "Saved to db successfully\n",
      "Done with link 3480: https://www.zoopla.co.uk/for-sale/details/64870333/?search_identifier=951b0b75eb861aaa8a17cfba5ad98496d765f38a1f28ea010f0c8d2200ec451c\n",
      "Starting extraction for link 3481: https://www.zoopla.co.uk/for-sale/details/64867912/?search_identifier=985fadd2dcd7d97b2b26c41645ede4d048ec41d8f4451f41a084c7c477110bb9\n"
     ]
    },
    {
     "name": "stderr",
     "output_type": "stream",
     "text": [
      "could not detect version_main.therefore, we are assuming it is chrome 108 or higher\n"
     ]
    },
    {
     "name": "stdout",
     "output_type": "stream",
     "text": [
      "Saved to db successfully\n",
      "Done with link 3481: https://www.zoopla.co.uk/for-sale/details/64867912/?search_identifier=985fadd2dcd7d97b2b26c41645ede4d048ec41d8f4451f41a084c7c477110bb9\n",
      "Starting extraction for link 3482: https://www.zoopla.co.uk/for-sale/details/64862208/?search_identifier=985fadd2dcd7d97b2b26c41645ede4d048ec41d8f4451f41a084c7c477110bb9\n"
     ]
    },
    {
     "name": "stderr",
     "output_type": "stream",
     "text": [
      "could not detect version_main.therefore, we are assuming it is chrome 108 or higher\n"
     ]
    },
    {
     "name": "stdout",
     "output_type": "stream",
     "text": [
      "Saved to db successfully\n",
      "Done with link 3482: https://www.zoopla.co.uk/for-sale/details/64862208/?search_identifier=985fadd2dcd7d97b2b26c41645ede4d048ec41d8f4451f41a084c7c477110bb9\n",
      "Starting extraction for link 3483: https://www.zoopla.co.uk/for-sale/details/64848489/?search_identifier=985fadd2dcd7d97b2b26c41645ede4d048ec41d8f4451f41a084c7c477110bb9\n"
     ]
    },
    {
     "name": "stderr",
     "output_type": "stream",
     "text": [
      "could not detect version_main.therefore, we are assuming it is chrome 108 or higher\n"
     ]
    },
    {
     "name": "stdout",
     "output_type": "stream",
     "text": [
      "Saved to db successfully\n",
      "Done with link 3483: https://www.zoopla.co.uk/for-sale/details/64848489/?search_identifier=985fadd2dcd7d97b2b26c41645ede4d048ec41d8f4451f41a084c7c477110bb9\n",
      "Starting extraction for link 3484: https://www.zoopla.co.uk/for-sale/details/54023430/?search_identifier=985fadd2dcd7d97b2b26c41645ede4d048ec41d8f4451f41a084c7c477110bb9\n"
     ]
    },
    {
     "name": "stderr",
     "output_type": "stream",
     "text": [
      "could not detect version_main.therefore, we are assuming it is chrome 108 or higher\n"
     ]
    },
    {
     "name": "stdout",
     "output_type": "stream",
     "text": [
      "Saved to db successfully\n",
      "Done with link 3484: https://www.zoopla.co.uk/for-sale/details/54023430/?search_identifier=985fadd2dcd7d97b2b26c41645ede4d048ec41d8f4451f41a084c7c477110bb9\n",
      "Starting extraction for link 3485: https://www.zoopla.co.uk/for-sale/details/64803336/?search_identifier=985fadd2dcd7d97b2b26c41645ede4d048ec41d8f4451f41a084c7c477110bb9\n"
     ]
    },
    {
     "name": "stderr",
     "output_type": "stream",
     "text": [
      "could not detect version_main.therefore, we are assuming it is chrome 108 or higher\n"
     ]
    },
    {
     "name": "stdout",
     "output_type": "stream",
     "text": [
      "Saved to db successfully\n",
      "Done with link 3485: https://www.zoopla.co.uk/for-sale/details/64803336/?search_identifier=985fadd2dcd7d97b2b26c41645ede4d048ec41d8f4451f41a084c7c477110bb9\n",
      "Starting extraction for link 3486: https://www.zoopla.co.uk/for-sale/details/64799167/?search_identifier=985fadd2dcd7d97b2b26c41645ede4d048ec41d8f4451f41a084c7c477110bb9\n"
     ]
    },
    {
     "name": "stderr",
     "output_type": "stream",
     "text": [
      "could not detect version_main.therefore, we are assuming it is chrome 108 or higher\n"
     ]
    },
    {
     "name": "stdout",
     "output_type": "stream",
     "text": [
      "Saved to db successfully\n",
      "Done with link 3486: https://www.zoopla.co.uk/for-sale/details/64799167/?search_identifier=985fadd2dcd7d97b2b26c41645ede4d048ec41d8f4451f41a084c7c477110bb9\n",
      "Starting extraction for link 3487: https://www.zoopla.co.uk/for-sale/details/64787076/?search_identifier=985fadd2dcd7d97b2b26c41645ede4d048ec41d8f4451f41a084c7c477110bb9\n"
     ]
    },
    {
     "name": "stderr",
     "output_type": "stream",
     "text": [
      "could not detect version_main.therefore, we are assuming it is chrome 108 or higher\n"
     ]
    },
    {
     "name": "stdout",
     "output_type": "stream",
     "text": [
      "Saved to db successfully\n",
      "Done with link 3487: https://www.zoopla.co.uk/for-sale/details/64787076/?search_identifier=985fadd2dcd7d97b2b26c41645ede4d048ec41d8f4451f41a084c7c477110bb9\n",
      "Starting extraction for link 3488: https://www.zoopla.co.uk/for-sale/details/64778016/?search_identifier=985fadd2dcd7d97b2b26c41645ede4d048ec41d8f4451f41a084c7c477110bb9\n"
     ]
    },
    {
     "name": "stderr",
     "output_type": "stream",
     "text": [
      "could not detect version_main.therefore, we are assuming it is chrome 108 or higher\n"
     ]
    },
    {
     "name": "stdout",
     "output_type": "stream",
     "text": [
      "Saved to db successfully\n",
      "Done with link 3488: https://www.zoopla.co.uk/for-sale/details/64778016/?search_identifier=985fadd2dcd7d97b2b26c41645ede4d048ec41d8f4451f41a084c7c477110bb9\n",
      "Starting extraction for link 3489: https://www.zoopla.co.uk/for-sale/details/64776757/?search_identifier=985fadd2dcd7d97b2b26c41645ede4d048ec41d8f4451f41a084c7c477110bb9\n"
     ]
    },
    {
     "name": "stderr",
     "output_type": "stream",
     "text": [
      "could not detect version_main.therefore, we are assuming it is chrome 108 or higher\n"
     ]
    },
    {
     "name": "stdout",
     "output_type": "stream",
     "text": [
      "Saved to db successfully\n",
      "Done with link 3489: https://www.zoopla.co.uk/for-sale/details/64776757/?search_identifier=985fadd2dcd7d97b2b26c41645ede4d048ec41d8f4451f41a084c7c477110bb9\n",
      "Starting extraction for link 3490: https://www.zoopla.co.uk/for-sale/details/64772502/?search_identifier=985fadd2dcd7d97b2b26c41645ede4d048ec41d8f4451f41a084c7c477110bb9\n"
     ]
    },
    {
     "name": "stderr",
     "output_type": "stream",
     "text": [
      "could not detect version_main.therefore, we are assuming it is chrome 108 or higher\n"
     ]
    },
    {
     "name": "stdout",
     "output_type": "stream",
     "text": [
      "Saved to db successfully\n",
      "Done with link 3490: https://www.zoopla.co.uk/for-sale/details/64772502/?search_identifier=985fadd2dcd7d97b2b26c41645ede4d048ec41d8f4451f41a084c7c477110bb9\n",
      "Starting extraction for link 3491: https://www.zoopla.co.uk/for-sale/details/64765881/?search_identifier=985fadd2dcd7d97b2b26c41645ede4d048ec41d8f4451f41a084c7c477110bb9\n"
     ]
    },
    {
     "name": "stderr",
     "output_type": "stream",
     "text": [
      "could not detect version_main.therefore, we are assuming it is chrome 108 or higher\n"
     ]
    },
    {
     "name": "stdout",
     "output_type": "stream",
     "text": [
      "Saved to db successfully\n",
      "Done with link 3491: https://www.zoopla.co.uk/for-sale/details/64765881/?search_identifier=985fadd2dcd7d97b2b26c41645ede4d048ec41d8f4451f41a084c7c477110bb9\n",
      "Starting extraction for link 3492: https://www.zoopla.co.uk/for-sale/details/64760327/?search_identifier=985fadd2dcd7d97b2b26c41645ede4d048ec41d8f4451f41a084c7c477110bb9\n"
     ]
    },
    {
     "name": "stderr",
     "output_type": "stream",
     "text": [
      "could not detect version_main.therefore, we are assuming it is chrome 108 or higher\n"
     ]
    },
    {
     "name": "stdout",
     "output_type": "stream",
     "text": [
      "Saved to db successfully\n",
      "Done with link 3492: https://www.zoopla.co.uk/for-sale/details/64760327/?search_identifier=985fadd2dcd7d97b2b26c41645ede4d048ec41d8f4451f41a084c7c477110bb9\n",
      "Starting extraction for link 3493: https://www.zoopla.co.uk/for-sale/details/64748169/?search_identifier=985fadd2dcd7d97b2b26c41645ede4d048ec41d8f4451f41a084c7c477110bb9\n"
     ]
    },
    {
     "name": "stderr",
     "output_type": "stream",
     "text": [
      "could not detect version_main.therefore, we are assuming it is chrome 108 or higher\n"
     ]
    },
    {
     "name": "stdout",
     "output_type": "stream",
     "text": [
      "Saved to db successfully\n",
      "Done with link 3493: https://www.zoopla.co.uk/for-sale/details/64748169/?search_identifier=985fadd2dcd7d97b2b26c41645ede4d048ec41d8f4451f41a084c7c477110bb9\n",
      "Starting extraction for link 3494: https://www.zoopla.co.uk/for-sale/details/64746168/?search_identifier=985fadd2dcd7d97b2b26c41645ede4d048ec41d8f4451f41a084c7c477110bb9\n"
     ]
    },
    {
     "name": "stderr",
     "output_type": "stream",
     "text": [
      "could not detect version_main.therefore, we are assuming it is chrome 108 or higher\n"
     ]
    },
    {
     "name": "stdout",
     "output_type": "stream",
     "text": [
      "Saved to db successfully\n",
      "Done with link 3494: https://www.zoopla.co.uk/for-sale/details/64746168/?search_identifier=985fadd2dcd7d97b2b26c41645ede4d048ec41d8f4451f41a084c7c477110bb9\n",
      "Starting extraction for link 3495: https://www.zoopla.co.uk/new-homes/details/64743032/?search_identifier=985fadd2dcd7d97b2b26c41645ede4d048ec41d8f4451f41a084c7c477110bb9\n"
     ]
    },
    {
     "name": "stderr",
     "output_type": "stream",
     "text": [
      "could not detect version_main.therefore, we are assuming it is chrome 108 or higher\n"
     ]
    },
    {
     "name": "stdout",
     "output_type": "stream",
     "text": [
      "Saved to db successfully\n",
      "Done with link 3495: https://www.zoopla.co.uk/new-homes/details/64743032/?search_identifier=985fadd2dcd7d97b2b26c41645ede4d048ec41d8f4451f41a084c7c477110bb9\n",
      "Starting extraction for link 3496: https://www.zoopla.co.uk/new-homes/details/64739130/?search_identifier=985fadd2dcd7d97b2b26c41645ede4d048ec41d8f4451f41a084c7c477110bb9\n"
     ]
    },
    {
     "name": "stderr",
     "output_type": "stream",
     "text": [
      "could not detect version_main.therefore, we are assuming it is chrome 108 or higher\n"
     ]
    },
    {
     "name": "stdout",
     "output_type": "stream",
     "text": [
      "Saved to db successfully\n",
      "Done with link 3496: https://www.zoopla.co.uk/new-homes/details/64739130/?search_identifier=985fadd2dcd7d97b2b26c41645ede4d048ec41d8f4451f41a084c7c477110bb9\n",
      "Starting extraction for link 3497: https://www.zoopla.co.uk/for-sale/details/64732754/?search_identifier=985fadd2dcd7d97b2b26c41645ede4d048ec41d8f4451f41a084c7c477110bb9\n"
     ]
    },
    {
     "name": "stderr",
     "output_type": "stream",
     "text": [
      "could not detect version_main.therefore, we are assuming it is chrome 108 or higher\n"
     ]
    },
    {
     "name": "stdout",
     "output_type": "stream",
     "text": [
      "Saved to db successfully\n",
      "Done with link 3497: https://www.zoopla.co.uk/for-sale/details/64732754/?search_identifier=985fadd2dcd7d97b2b26c41645ede4d048ec41d8f4451f41a084c7c477110bb9\n",
      "Starting extraction for link 3498: https://www.zoopla.co.uk/for-sale/details/64732663/?search_identifier=985fadd2dcd7d97b2b26c41645ede4d048ec41d8f4451f41a084c7c477110bb9\n",
      "An error occurred for link in get_data_func: https://www.zoopla.co.uk/for-sale/details/64732663/?search_identifier=985fadd2dcd7d97b2b26c41645ede4d048ec41d8f4451f41a084c7c477110bb9: Message: no such element: Unable to locate element: {\"method\":\"xpath\",\"selector\":\"//p[@data-testid=\"price\"]\"}\n",
      "  (Session info: chrome=115.0.5790.110); For documentation on this error, please visit: https://www.selenium.dev/documentation/webdriver/troubleshooting/errors#no-such-element-exception\n",
      "Stacktrace:\n",
      "Backtrace:\n",
      "\tGetHandleVerifier [0x00E2A813+48355]\n",
      "\t(No symbol) [0x00DBC4B1]\n",
      "\t(No symbol) [0x00CC5358]\n",
      "\t(No symbol) [0x00CF09A5]\n",
      "\t(No symbol) [0x00CF0B3B]\n",
      "\t(No symbol) [0x00D1E232]\n",
      "\t(No symbol) [0x00D0A784]\n",
      "\t(No symbol) [0x00D1C922]\n",
      "\t(No symbol) [0x00D0A536]\n",
      "\t(No symbol) [0x00CE82DC]\n",
      "\t(No symbol) [0x00CE93DD]\n",
      "\tGetHandleVerifier [0x0108AABD+2539405]\n",
      "\tGetHandleVerifier [0x010CA78F+2800735]\n",
      "\tGetHandleVerifier [0x010C456C+2775612]\n",
      "\tGetHandleVerifier [0x00EB51E0+616112]\n",
      "\t(No symbol) [0x00DC5F8C]\n",
      "\t(No symbol) [0x00DC2328]\n",
      "\t(No symbol) [0x00DC240B]\n",
      "\t(No symbol) [0x00DB4FF7]\n",
      "\tBaseThreadInitThunk [0x76A57D59+25]\n",
      "\tRtlInitializeExceptionChain [0x7773B79B+107]\n",
      "\tRtlClearBits [0x7773B71F+191]\n",
      "\n"
     ]
    },
    {
     "name": "stderr",
     "output_type": "stream",
     "text": [
      "could not detect version_main.therefore, we are assuming it is chrome 108 or higher\n"
     ]
    },
    {
     "name": "stdout",
     "output_type": "stream",
     "text": [
      "Saved to db successfully\n",
      "Done with link 3498: https://www.zoopla.co.uk/for-sale/details/64732663/?search_identifier=985fadd2dcd7d97b2b26c41645ede4d048ec41d8f4451f41a084c7c477110bb9\n",
      "Starting extraction for link 3499: https://www.zoopla.co.uk/for-sale/details/64711311/?search_identifier=985fadd2dcd7d97b2b26c41645ede4d048ec41d8f4451f41a084c7c477110bb9\n"
     ]
    },
    {
     "name": "stderr",
     "output_type": "stream",
     "text": [
      "could not detect version_main.therefore, we are assuming it is chrome 108 or higher\n"
     ]
    },
    {
     "name": "stdout",
     "output_type": "stream",
     "text": [
      "Saved to db successfully\n",
      "Done with link 3499: https://www.zoopla.co.uk/for-sale/details/64711311/?search_identifier=985fadd2dcd7d97b2b26c41645ede4d048ec41d8f4451f41a084c7c477110bb9\n",
      "Starting extraction for link 3500: https://www.zoopla.co.uk/for-sale/details/64691666/?search_identifier=985fadd2dcd7d97b2b26c41645ede4d048ec41d8f4451f41a084c7c477110bb9\n"
     ]
    },
    {
     "name": "stderr",
     "output_type": "stream",
     "text": [
      "could not detect version_main.therefore, we are assuming it is chrome 108 or higher\n"
     ]
    },
    {
     "name": "stdout",
     "output_type": "stream",
     "text": [
      "Saved to db successfully\n",
      "Done with link 3500: https://www.zoopla.co.uk/for-sale/details/64691666/?search_identifier=985fadd2dcd7d97b2b26c41645ede4d048ec41d8f4451f41a084c7c477110bb9\n",
      "Starting extraction for link 3501: https://www.zoopla.co.uk/for-sale/details/64690445/?search_identifier=985fadd2dcd7d97b2b26c41645ede4d048ec41d8f4451f41a084c7c477110bb9\n"
     ]
    },
    {
     "name": "stderr",
     "output_type": "stream",
     "text": [
      "could not detect version_main.therefore, we are assuming it is chrome 108 or higher\n"
     ]
    },
    {
     "name": "stdout",
     "output_type": "stream",
     "text": [
      "Saved to db successfully\n",
      "Done with link 3501: https://www.zoopla.co.uk/for-sale/details/64690445/?search_identifier=985fadd2dcd7d97b2b26c41645ede4d048ec41d8f4451f41a084c7c477110bb9\n",
      "Starting extraction for link 3502: https://www.zoopla.co.uk/for-sale/details/61217395/?search_identifier=985fadd2dcd7d97b2b26c41645ede4d048ec41d8f4451f41a084c7c477110bb9\n"
     ]
    },
    {
     "name": "stderr",
     "output_type": "stream",
     "text": [
      "could not detect version_main.therefore, we are assuming it is chrome 108 or higher\n"
     ]
    },
    {
     "name": "stdout",
     "output_type": "stream",
     "text": [
      "Saved to db successfully\n",
      "Done with link 3502: https://www.zoopla.co.uk/for-sale/details/61217395/?search_identifier=985fadd2dcd7d97b2b26c41645ede4d048ec41d8f4451f41a084c7c477110bb9\n",
      "Starting extraction for link 3503: https://www.zoopla.co.uk/for-sale/details/64679523/?search_identifier=985fadd2dcd7d97b2b26c41645ede4d048ec41d8f4451f41a084c7c477110bb9\n"
     ]
    },
    {
     "name": "stderr",
     "output_type": "stream",
     "text": [
      "could not detect version_main.therefore, we are assuming it is chrome 108 or higher\n"
     ]
    },
    {
     "name": "stdout",
     "output_type": "stream",
     "text": [
      "Saved to db successfully\n",
      "Done with link 3503: https://www.zoopla.co.uk/for-sale/details/64679523/?search_identifier=985fadd2dcd7d97b2b26c41645ede4d048ec41d8f4451f41a084c7c477110bb9\n",
      "Starting extraction for link 3504: https://www.zoopla.co.uk/for-sale/details/64678473/?search_identifier=985fadd2dcd7d97b2b26c41645ede4d048ec41d8f4451f41a084c7c477110bb9\n"
     ]
    },
    {
     "name": "stderr",
     "output_type": "stream",
     "text": [
      "could not detect version_main.therefore, we are assuming it is chrome 108 or higher\n"
     ]
    },
    {
     "name": "stdout",
     "output_type": "stream",
     "text": [
      "Saved to db successfully\n",
      "Done with link 3504: https://www.zoopla.co.uk/for-sale/details/64678473/?search_identifier=985fadd2dcd7d97b2b26c41645ede4d048ec41d8f4451f41a084c7c477110bb9\n",
      "Starting extraction for link 3505: https://www.zoopla.co.uk/for-sale/details/64669874/?search_identifier=985fadd2dcd7d97b2b26c41645ede4d048ec41d8f4451f41a084c7c477110bb9\n"
     ]
    },
    {
     "name": "stderr",
     "output_type": "stream",
     "text": [
      "could not detect version_main.therefore, we are assuming it is chrome 108 or higher\n"
     ]
    },
    {
     "name": "stdout",
     "output_type": "stream",
     "text": [
      "Saved to db successfully\n",
      "Done with link 3505: https://www.zoopla.co.uk/for-sale/details/64669874/?search_identifier=985fadd2dcd7d97b2b26c41645ede4d048ec41d8f4451f41a084c7c477110bb9\n",
      "Starting extraction for link 3506: https://www.zoopla.co.uk/for-sale/details/64666446/?search_identifier=20f6e8e00b0c5c02537959bdf973c452eba98440a98827fa4d24d00fd9605bdf\n"
     ]
    },
    {
     "name": "stderr",
     "output_type": "stream",
     "text": [
      "could not detect version_main.therefore, we are assuming it is chrome 108 or higher\n"
     ]
    },
    {
     "name": "stdout",
     "output_type": "stream",
     "text": [
      "Saved to db successfully\n",
      "Done with link 3506: https://www.zoopla.co.uk/for-sale/details/64666446/?search_identifier=20f6e8e00b0c5c02537959bdf973c452eba98440a98827fa4d24d00fd9605bdf\n",
      "Starting extraction for link 3507: https://www.zoopla.co.uk/for-sale/details/58890951/?search_identifier=20f6e8e00b0c5c02537959bdf973c452eba98440a98827fa4d24d00fd9605bdf\n"
     ]
    },
    {
     "name": "stderr",
     "output_type": "stream",
     "text": [
      "could not detect version_main.therefore, we are assuming it is chrome 108 or higher\n"
     ]
    },
    {
     "name": "stdout",
     "output_type": "stream",
     "text": [
      "Saved to db successfully\n",
      "Done with link 3507: https://www.zoopla.co.uk/for-sale/details/58890951/?search_identifier=20f6e8e00b0c5c02537959bdf973c452eba98440a98827fa4d24d00fd9605bdf\n",
      "Starting extraction for link 3508: https://www.zoopla.co.uk/for-sale/details/64640985/?search_identifier=20f6e8e00b0c5c02537959bdf973c452eba98440a98827fa4d24d00fd9605bdf\n"
     ]
    },
    {
     "name": "stderr",
     "output_type": "stream",
     "text": [
      "could not detect version_main.therefore, we are assuming it is chrome 108 or higher\n"
     ]
    },
    {
     "name": "stdout",
     "output_type": "stream",
     "text": [
      "Saved to db successfully\n",
      "Done with link 3508: https://www.zoopla.co.uk/for-sale/details/64640985/?search_identifier=20f6e8e00b0c5c02537959bdf973c452eba98440a98827fa4d24d00fd9605bdf\n",
      "Starting extraction for link 3509: https://www.zoopla.co.uk/for-sale/details/64638401/?search_identifier=20f6e8e00b0c5c02537959bdf973c452eba98440a98827fa4d24d00fd9605bdf\n"
     ]
    },
    {
     "name": "stderr",
     "output_type": "stream",
     "text": [
      "could not detect version_main.therefore, we are assuming it is chrome 108 or higher\n"
     ]
    },
    {
     "name": "stdout",
     "output_type": "stream",
     "text": [
      "Saved to db successfully\n",
      "Done with link 3509: https://www.zoopla.co.uk/for-sale/details/64638401/?search_identifier=20f6e8e00b0c5c02537959bdf973c452eba98440a98827fa4d24d00fd9605bdf\n",
      "Starting extraction for link 3510: https://www.zoopla.co.uk/for-sale/details/56459428/?search_identifier=20f6e8e00b0c5c02537959bdf973c452eba98440a98827fa4d24d00fd9605bdf\n"
     ]
    },
    {
     "name": "stderr",
     "output_type": "stream",
     "text": [
      "could not detect version_main.therefore, we are assuming it is chrome 108 or higher\n"
     ]
    },
    {
     "name": "stdout",
     "output_type": "stream",
     "text": [
      "Saved to db successfully\n",
      "Done with link 3510: https://www.zoopla.co.uk/for-sale/details/56459428/?search_identifier=20f6e8e00b0c5c02537959bdf973c452eba98440a98827fa4d24d00fd9605bdf\n",
      "Starting extraction for link 3511: https://www.zoopla.co.uk/for-sale/details/64608395/?search_identifier=20f6e8e00b0c5c02537959bdf973c452eba98440a98827fa4d24d00fd9605bdf\n"
     ]
    },
    {
     "name": "stderr",
     "output_type": "stream",
     "text": [
      "could not detect version_main.therefore, we are assuming it is chrome 108 or higher\n"
     ]
    },
    {
     "name": "stdout",
     "output_type": "stream",
     "text": [
      "Saved to db successfully\n",
      "Done with link 3511: https://www.zoopla.co.uk/for-sale/details/64608395/?search_identifier=20f6e8e00b0c5c02537959bdf973c452eba98440a98827fa4d24d00fd9605bdf\n",
      "Starting extraction for link 3512: https://www.zoopla.co.uk/for-sale/details/64608241/?search_identifier=20f6e8e00b0c5c02537959bdf973c452eba98440a98827fa4d24d00fd9605bdf\n"
     ]
    },
    {
     "name": "stderr",
     "output_type": "stream",
     "text": [
      "could not detect version_main.therefore, we are assuming it is chrome 108 or higher\n"
     ]
    },
    {
     "name": "stdout",
     "output_type": "stream",
     "text": [
      "Saved to db successfully\n",
      "Done with link 3512: https://www.zoopla.co.uk/for-sale/details/64608241/?search_identifier=20f6e8e00b0c5c02537959bdf973c452eba98440a98827fa4d24d00fd9605bdf\n",
      "Starting extraction for link 3513: https://www.zoopla.co.uk/for-sale/details/64601816/?search_identifier=20f6e8e00b0c5c02537959bdf973c452eba98440a98827fa4d24d00fd9605bdf\n"
     ]
    },
    {
     "name": "stderr",
     "output_type": "stream",
     "text": [
      "could not detect version_main.therefore, we are assuming it is chrome 108 or higher\n"
     ]
    },
    {
     "name": "stdout",
     "output_type": "stream",
     "text": [
      "Saved to db successfully\n",
      "Done with link 3513: https://www.zoopla.co.uk/for-sale/details/64601816/?search_identifier=20f6e8e00b0c5c02537959bdf973c452eba98440a98827fa4d24d00fd9605bdf\n",
      "Starting extraction for link 3514: https://www.zoopla.co.uk/for-sale/details/64579408/?search_identifier=20f6e8e00b0c5c02537959bdf973c452eba98440a98827fa4d24d00fd9605bdf\n"
     ]
    },
    {
     "name": "stderr",
     "output_type": "stream",
     "text": [
      "could not detect version_main.therefore, we are assuming it is chrome 108 or higher\n"
     ]
    },
    {
     "name": "stdout",
     "output_type": "stream",
     "text": [
      "Saved to db successfully\n",
      "Done with link 3514: https://www.zoopla.co.uk/for-sale/details/64579408/?search_identifier=20f6e8e00b0c5c02537959bdf973c452eba98440a98827fa4d24d00fd9605bdf\n",
      "Starting extraction for link 3515: https://www.zoopla.co.uk/for-sale/details/62760061/?search_identifier=20f6e8e00b0c5c02537959bdf973c452eba98440a98827fa4d24d00fd9605bdf\n"
     ]
    },
    {
     "name": "stderr",
     "output_type": "stream",
     "text": [
      "could not detect version_main.therefore, we are assuming it is chrome 108 or higher\n"
     ]
    },
    {
     "name": "stdout",
     "output_type": "stream",
     "text": [
      "Saved to db successfully\n",
      "Done with link 3515: https://www.zoopla.co.uk/for-sale/details/62760061/?search_identifier=20f6e8e00b0c5c02537959bdf973c452eba98440a98827fa4d24d00fd9605bdf\n",
      "Starting extraction for link 3516: https://www.zoopla.co.uk/new-homes/details/60952310/?search_identifier=20f6e8e00b0c5c02537959bdf973c452eba98440a98827fa4d24d00fd9605bdf\n"
     ]
    },
    {
     "name": "stderr",
     "output_type": "stream",
     "text": [
      "could not detect version_main.therefore, we are assuming it is chrome 108 or higher\n"
     ]
    },
    {
     "name": "stdout",
     "output_type": "stream",
     "text": [
      "Saved to db successfully\n",
      "Done with link 3516: https://www.zoopla.co.uk/new-homes/details/60952310/?search_identifier=20f6e8e00b0c5c02537959bdf973c452eba98440a98827fa4d24d00fd9605bdf\n",
      "Starting extraction for link 3517: https://www.zoopla.co.uk/new-homes/details/60952257/?search_identifier=20f6e8e00b0c5c02537959bdf973c452eba98440a98827fa4d24d00fd9605bdf\n"
     ]
    },
    {
     "name": "stderr",
     "output_type": "stream",
     "text": [
      "could not detect version_main.therefore, we are assuming it is chrome 108 or higher\n"
     ]
    },
    {
     "name": "stdout",
     "output_type": "stream",
     "text": [
      "Saved to db successfully\n",
      "Done with link 3517: https://www.zoopla.co.uk/new-homes/details/60952257/?search_identifier=20f6e8e00b0c5c02537959bdf973c452eba98440a98827fa4d24d00fd9605bdf\n",
      "Starting extraction for link 3518: https://www.zoopla.co.uk/for-sale/details/64530776/?search_identifier=20f6e8e00b0c5c02537959bdf973c452eba98440a98827fa4d24d00fd9605bdf\n"
     ]
    },
    {
     "name": "stderr",
     "output_type": "stream",
     "text": [
      "could not detect version_main.therefore, we are assuming it is chrome 108 or higher\n"
     ]
    },
    {
     "name": "stdout",
     "output_type": "stream",
     "text": [
      "Saved to db successfully\n",
      "Done with link 3518: https://www.zoopla.co.uk/for-sale/details/64530776/?search_identifier=20f6e8e00b0c5c02537959bdf973c452eba98440a98827fa4d24d00fd9605bdf\n",
      "Starting extraction for link 3519: https://www.zoopla.co.uk/for-sale/details/64499185/?search_identifier=20f6e8e00b0c5c02537959bdf973c452eba98440a98827fa4d24d00fd9605bdf\n",
      "An error occurred for link in get_data_func: https://www.zoopla.co.uk/for-sale/details/64499185/?search_identifier=20f6e8e00b0c5c02537959bdf973c452eba98440a98827fa4d24d00fd9605bdf: Message: no such element: Unable to locate element: {\"method\":\"css selector\",\"selector\":\"[id=\"gdpr-consent-notice\"]\"}\n",
      "  (Session info: chrome=115.0.5790.110); For documentation on this error, please visit: https://www.selenium.dev/documentation/webdriver/troubleshooting/errors#no-such-element-exception\n",
      "Stacktrace:\n",
      "Backtrace:\n",
      "\tGetHandleVerifier [0x00E2A813+48355]\n",
      "\t(No symbol) [0x00DBC4B1]\n",
      "\t(No symbol) [0x00CC5358]\n",
      "\t(No symbol) [0x00CF09A5]\n",
      "\t(No symbol) [0x00CF0B3B]\n",
      "\t(No symbol) [0x00D1E232]\n",
      "\t(No symbol) [0x00D0A784]\n",
      "\t(No symbol) [0x00D1C922]\n",
      "\t(No symbol) [0x00D0A536]\n",
      "\t(No symbol) [0x00CE82DC]\n",
      "\t(No symbol) [0x00CE93DD]\n",
      "\tGetHandleVerifier [0x0108AABD+2539405]\n",
      "\tGetHandleVerifier [0x010CA78F+2800735]\n",
      "\tGetHandleVerifier [0x010C456C+2775612]\n",
      "\tGetHandleVerifier [0x00EB51E0+616112]\n",
      "\t(No symbol) [0x00DC5F8C]\n",
      "\t(No symbol) [0x00DC2328]\n",
      "\t(No symbol) [0x00DC240B]\n",
      "\t(No symbol) [0x00DB4FF7]\n",
      "\tBaseThreadInitThunk [0x76A57D59+25]\n",
      "\tRtlInitializeExceptionChain [0x7773B79B+107]\n",
      "\tRtlClearBits [0x7773B71F+191]\n",
      "\n"
     ]
    },
    {
     "name": "stderr",
     "output_type": "stream",
     "text": [
      "could not detect version_main.therefore, we are assuming it is chrome 108 or higher\n"
     ]
    },
    {
     "name": "stdout",
     "output_type": "stream",
     "text": [
      "Saved to db successfully\n",
      "Done with link 3519: https://www.zoopla.co.uk/for-sale/details/64499185/?search_identifier=20f6e8e00b0c5c02537959bdf973c452eba98440a98827fa4d24d00fd9605bdf\n",
      "Starting extraction for link 3520: https://www.zoopla.co.uk/for-sale/details/64459286/?search_identifier=20f6e8e00b0c5c02537959bdf973c452eba98440a98827fa4d24d00fd9605bdf\n"
     ]
    },
    {
     "name": "stderr",
     "output_type": "stream",
     "text": [
      "could not detect version_main.therefore, we are assuming it is chrome 108 or higher\n"
     ]
    },
    {
     "name": "stdout",
     "output_type": "stream",
     "text": [
      "Saved to db successfully\n",
      "Done with link 3520: https://www.zoopla.co.uk/for-sale/details/64459286/?search_identifier=20f6e8e00b0c5c02537959bdf973c452eba98440a98827fa4d24d00fd9605bdf\n",
      "Starting extraction for link 3521: https://www.zoopla.co.uk/for-sale/details/64447016/?search_identifier=20f6e8e00b0c5c02537959bdf973c452eba98440a98827fa4d24d00fd9605bdf\n"
     ]
    },
    {
     "name": "stderr",
     "output_type": "stream",
     "text": [
      "could not detect version_main.therefore, we are assuming it is chrome 108 or higher\n"
     ]
    },
    {
     "name": "stdout",
     "output_type": "stream",
     "text": [
      "Saved to db successfully\n",
      "Done with link 3521: https://www.zoopla.co.uk/for-sale/details/64447016/?search_identifier=20f6e8e00b0c5c02537959bdf973c452eba98440a98827fa4d24d00fd9605bdf\n",
      "Starting extraction for link 3522: https://www.zoopla.co.uk/for-sale/details/64442388/?search_identifier=20f6e8e00b0c5c02537959bdf973c452eba98440a98827fa4d24d00fd9605bdf\n"
     ]
    },
    {
     "name": "stderr",
     "output_type": "stream",
     "text": [
      "could not detect version_main.therefore, we are assuming it is chrome 108 or higher\n"
     ]
    },
    {
     "name": "stdout",
     "output_type": "stream",
     "text": [
      "Saved to db successfully\n",
      "Done with link 3522: https://www.zoopla.co.uk/for-sale/details/64442388/?search_identifier=20f6e8e00b0c5c02537959bdf973c452eba98440a98827fa4d24d00fd9605bdf\n",
      "Starting extraction for link 3523: https://www.zoopla.co.uk/for-sale/details/64424526/?search_identifier=20f6e8e00b0c5c02537959bdf973c452eba98440a98827fa4d24d00fd9605bdf\n"
     ]
    },
    {
     "name": "stderr",
     "output_type": "stream",
     "text": [
      "could not detect version_main.therefore, we are assuming it is chrome 108 or higher\n"
     ]
    },
    {
     "name": "stdout",
     "output_type": "stream",
     "text": [
      "Saved to db successfully\n",
      "Done with link 3523: https://www.zoopla.co.uk/for-sale/details/64424526/?search_identifier=20f6e8e00b0c5c02537959bdf973c452eba98440a98827fa4d24d00fd9605bdf\n",
      "Starting extraction for link 3524: https://www.zoopla.co.uk/for-sale/details/64421317/?search_identifier=20f6e8e00b0c5c02537959bdf973c452eba98440a98827fa4d24d00fd9605bdf\n"
     ]
    },
    {
     "name": "stderr",
     "output_type": "stream",
     "text": [
      "could not detect version_main.therefore, we are assuming it is chrome 108 or higher\n"
     ]
    },
    {
     "name": "stdout",
     "output_type": "stream",
     "text": [
      "Saved to db successfully\n",
      "Done with link 3524: https://www.zoopla.co.uk/for-sale/details/64421317/?search_identifier=20f6e8e00b0c5c02537959bdf973c452eba98440a98827fa4d24d00fd9605bdf\n",
      "Starting extraction for link 3525: https://www.zoopla.co.uk/for-sale/details/60289489/?search_identifier=20f6e8e00b0c5c02537959bdf973c452eba98440a98827fa4d24d00fd9605bdf\n"
     ]
    },
    {
     "name": "stderr",
     "output_type": "stream",
     "text": [
      "could not detect version_main.therefore, we are assuming it is chrome 108 or higher\n"
     ]
    },
    {
     "name": "stdout",
     "output_type": "stream",
     "text": [
      "Saved to db successfully\n",
      "Done with link 3525: https://www.zoopla.co.uk/for-sale/details/60289489/?search_identifier=20f6e8e00b0c5c02537959bdf973c452eba98440a98827fa4d24d00fd9605bdf\n",
      "Starting extraction for link 3526: https://www.zoopla.co.uk/for-sale/details/64409311/?search_identifier=20f6e8e00b0c5c02537959bdf973c452eba98440a98827fa4d24d00fd9605bdf\n"
     ]
    },
    {
     "name": "stderr",
     "output_type": "stream",
     "text": [
      "could not detect version_main.therefore, we are assuming it is chrome 108 or higher\n"
     ]
    },
    {
     "name": "stdout",
     "output_type": "stream",
     "text": [
      "Saved to db successfully\n",
      "Done with link 3526: https://www.zoopla.co.uk/for-sale/details/64409311/?search_identifier=20f6e8e00b0c5c02537959bdf973c452eba98440a98827fa4d24d00fd9605bdf\n",
      "Starting extraction for link 3527: https://www.zoopla.co.uk/for-sale/details/64382069/?search_identifier=20f6e8e00b0c5c02537959bdf973c452eba98440a98827fa4d24d00fd9605bdf\n"
     ]
    },
    {
     "name": "stderr",
     "output_type": "stream",
     "text": [
      "could not detect version_main.therefore, we are assuming it is chrome 108 or higher\n"
     ]
    },
    {
     "name": "stdout",
     "output_type": "stream",
     "text": [
      "Saved to db successfully\n",
      "Done with link 3527: https://www.zoopla.co.uk/for-sale/details/64382069/?search_identifier=20f6e8e00b0c5c02537959bdf973c452eba98440a98827fa4d24d00fd9605bdf\n",
      "Starting extraction for link 3528: https://www.zoopla.co.uk/for-sale/details/64372822/?search_identifier=20f6e8e00b0c5c02537959bdf973c452eba98440a98827fa4d24d00fd9605bdf\n"
     ]
    },
    {
     "name": "stderr",
     "output_type": "stream",
     "text": [
      "could not detect version_main.therefore, we are assuming it is chrome 108 or higher\n"
     ]
    },
    {
     "name": "stdout",
     "output_type": "stream",
     "text": [
      "Saved to db successfully\n",
      "Done with link 3528: https://www.zoopla.co.uk/for-sale/details/64372822/?search_identifier=20f6e8e00b0c5c02537959bdf973c452eba98440a98827fa4d24d00fd9605bdf\n",
      "Starting extraction for link 3529: https://www.zoopla.co.uk/for-sale/details/64350009/?search_identifier=20f6e8e00b0c5c02537959bdf973c452eba98440a98827fa4d24d00fd9605bdf\n"
     ]
    },
    {
     "name": "stderr",
     "output_type": "stream",
     "text": [
      "could not detect version_main.therefore, we are assuming it is chrome 108 or higher\n"
     ]
    },
    {
     "name": "stdout",
     "output_type": "stream",
     "text": [
      "Saved to db successfully\n",
      "Done with link 3529: https://www.zoopla.co.uk/for-sale/details/64350009/?search_identifier=20f6e8e00b0c5c02537959bdf973c452eba98440a98827fa4d24d00fd9605bdf\n",
      "Starting extraction for link 3530: https://www.zoopla.co.uk/for-sale/details/64338985/?search_identifier=20f6e8e00b0c5c02537959bdf973c452eba98440a98827fa4d24d00fd9605bdf\n"
     ]
    },
    {
     "name": "stderr",
     "output_type": "stream",
     "text": [
      "could not detect version_main.therefore, we are assuming it is chrome 108 or higher\n"
     ]
    },
    {
     "name": "stdout",
     "output_type": "stream",
     "text": [
      "Saved to db successfully\n",
      "Done with link 3530: https://www.zoopla.co.uk/for-sale/details/64338985/?search_identifier=20f6e8e00b0c5c02537959bdf973c452eba98440a98827fa4d24d00fd9605bdf\n",
      "Starting extraction for link 3531: https://www.zoopla.co.uk/for-sale/details/64325090/?search_identifier=f8fe6e0c653d7d4a29ba756c79ce25532626fdcefe2b49ab6949a8ff81f7e7e1\n"
     ]
    },
    {
     "name": "stderr",
     "output_type": "stream",
     "text": [
      "could not detect version_main.therefore, we are assuming it is chrome 108 or higher\n"
     ]
    },
    {
     "name": "stdout",
     "output_type": "stream",
     "text": [
      "Saved to db successfully\n",
      "Done with link 3531: https://www.zoopla.co.uk/for-sale/details/64325090/?search_identifier=f8fe6e0c653d7d4a29ba756c79ce25532626fdcefe2b49ab6949a8ff81f7e7e1\n",
      "Starting extraction for link 3532: https://www.zoopla.co.uk/for-sale/details/64297884/?search_identifier=f8fe6e0c653d7d4a29ba756c79ce25532626fdcefe2b49ab6949a8ff81f7e7e1\n"
     ]
    },
    {
     "name": "stderr",
     "output_type": "stream",
     "text": [
      "could not detect version_main.therefore, we are assuming it is chrome 108 or higher\n"
     ]
    },
    {
     "name": "stdout",
     "output_type": "stream",
     "text": [
      "Saved to db successfully\n",
      "Done with link 3532: https://www.zoopla.co.uk/for-sale/details/64297884/?search_identifier=f8fe6e0c653d7d4a29ba756c79ce25532626fdcefe2b49ab6949a8ff81f7e7e1\n",
      "Starting extraction for link 3533: https://www.zoopla.co.uk/for-sale/details/64289945/?search_identifier=f8fe6e0c653d7d4a29ba756c79ce25532626fdcefe2b49ab6949a8ff81f7e7e1\n"
     ]
    },
    {
     "name": "stderr",
     "output_type": "stream",
     "text": [
      "could not detect version_main.therefore, we are assuming it is chrome 108 or higher\n"
     ]
    },
    {
     "name": "stdout",
     "output_type": "stream",
     "text": [
      "Saved to db successfully\n",
      "Done with link 3533: https://www.zoopla.co.uk/for-sale/details/64289945/?search_identifier=f8fe6e0c653d7d4a29ba756c79ce25532626fdcefe2b49ab6949a8ff81f7e7e1\n",
      "Starting extraction for link 3534: https://www.zoopla.co.uk/for-sale/details/64284014/?search_identifier=f8fe6e0c653d7d4a29ba756c79ce25532626fdcefe2b49ab6949a8ff81f7e7e1\n"
     ]
    },
    {
     "name": "stderr",
     "output_type": "stream",
     "text": [
      "could not detect version_main.therefore, we are assuming it is chrome 108 or higher\n"
     ]
    },
    {
     "name": "stdout",
     "output_type": "stream",
     "text": [
      "Saved to db successfully\n",
      "Done with link 3534: https://www.zoopla.co.uk/for-sale/details/64284014/?search_identifier=f8fe6e0c653d7d4a29ba756c79ce25532626fdcefe2b49ab6949a8ff81f7e7e1\n",
      "Starting extraction for link 3535: https://www.zoopla.co.uk/for-sale/details/64281786/?search_identifier=f8fe6e0c653d7d4a29ba756c79ce25532626fdcefe2b49ab6949a8ff81f7e7e1\n"
     ]
    },
    {
     "name": "stderr",
     "output_type": "stream",
     "text": [
      "could not detect version_main.therefore, we are assuming it is chrome 108 or higher\n"
     ]
    },
    {
     "name": "stdout",
     "output_type": "stream",
     "text": [
      "Saved to db successfully\n",
      "Done with link 3535: https://www.zoopla.co.uk/for-sale/details/64281786/?search_identifier=f8fe6e0c653d7d4a29ba756c79ce25532626fdcefe2b49ab6949a8ff81f7e7e1\n",
      "Starting extraction for link 3536: https://www.zoopla.co.uk/for-sale/details/64258274/?search_identifier=f8fe6e0c653d7d4a29ba756c79ce25532626fdcefe2b49ab6949a8ff81f7e7e1\n"
     ]
    },
    {
     "name": "stderr",
     "output_type": "stream",
     "text": [
      "could not detect version_main.therefore, we are assuming it is chrome 108 or higher\n"
     ]
    },
    {
     "name": "stdout",
     "output_type": "stream",
     "text": [
      "Saved to db successfully\n",
      "Done with link 3536: https://www.zoopla.co.uk/for-sale/details/64258274/?search_identifier=f8fe6e0c653d7d4a29ba756c79ce25532626fdcefe2b49ab6949a8ff81f7e7e1\n",
      "Starting extraction for link 3537: https://www.zoopla.co.uk/for-sale/details/64231263/?search_identifier=f8fe6e0c653d7d4a29ba756c79ce25532626fdcefe2b49ab6949a8ff81f7e7e1\n"
     ]
    },
    {
     "name": "stderr",
     "output_type": "stream",
     "text": [
      "could not detect version_main.therefore, we are assuming it is chrome 108 or higher\n"
     ]
    },
    {
     "name": "stdout",
     "output_type": "stream",
     "text": [
      "Saved to db successfully\n",
      "Done with link 3537: https://www.zoopla.co.uk/for-sale/details/64231263/?search_identifier=f8fe6e0c653d7d4a29ba756c79ce25532626fdcefe2b49ab6949a8ff81f7e7e1\n",
      "Starting extraction for link 3538: https://www.zoopla.co.uk/for-sale/details/61512455/?search_identifier=f8fe6e0c653d7d4a29ba756c79ce25532626fdcefe2b49ab6949a8ff81f7e7e1\n"
     ]
    },
    {
     "name": "stderr",
     "output_type": "stream",
     "text": [
      "could not detect version_main.therefore, we are assuming it is chrome 108 or higher\n"
     ]
    },
    {
     "name": "stdout",
     "output_type": "stream",
     "text": [
      "Saved to db successfully\n",
      "Done with link 3538: https://www.zoopla.co.uk/for-sale/details/61512455/?search_identifier=f8fe6e0c653d7d4a29ba756c79ce25532626fdcefe2b49ab6949a8ff81f7e7e1\n",
      "Starting extraction for link 3539: https://www.zoopla.co.uk/for-sale/details/64193103/?search_identifier=f8fe6e0c653d7d4a29ba756c79ce25532626fdcefe2b49ab6949a8ff81f7e7e1\n"
     ]
    },
    {
     "name": "stderr",
     "output_type": "stream",
     "text": [
      "could not detect version_main.therefore, we are assuming it is chrome 108 or higher\n"
     ]
    },
    {
     "name": "stdout",
     "output_type": "stream",
     "text": [
      "Saved to db successfully\n",
      "Done with link 3539: https://www.zoopla.co.uk/for-sale/details/64193103/?search_identifier=f8fe6e0c653d7d4a29ba756c79ce25532626fdcefe2b49ab6949a8ff81f7e7e1\n",
      "Starting extraction for link 3540: https://www.zoopla.co.uk/for-sale/details/64172484/?search_identifier=f8fe6e0c653d7d4a29ba756c79ce25532626fdcefe2b49ab6949a8ff81f7e7e1\n"
     ]
    },
    {
     "name": "stderr",
     "output_type": "stream",
     "text": [
      "could not detect version_main.therefore, we are assuming it is chrome 108 or higher\n"
     ]
    },
    {
     "name": "stdout",
     "output_type": "stream",
     "text": [
      "Saved to db successfully\n",
      "Done with link 3540: https://www.zoopla.co.uk/for-sale/details/64172484/?search_identifier=f8fe6e0c653d7d4a29ba756c79ce25532626fdcefe2b49ab6949a8ff81f7e7e1\n",
      "Starting extraction for link 3541: https://www.zoopla.co.uk/for-sale/details/64166002/?search_identifier=f8fe6e0c653d7d4a29ba756c79ce25532626fdcefe2b49ab6949a8ff81f7e7e1\n"
     ]
    },
    {
     "name": "stderr",
     "output_type": "stream",
     "text": [
      "could not detect version_main.therefore, we are assuming it is chrome 108 or higher\n"
     ]
    },
    {
     "name": "stdout",
     "output_type": "stream",
     "text": [
      "Saved to db successfully\n",
      "Done with link 3541: https://www.zoopla.co.uk/for-sale/details/64166002/?search_identifier=f8fe6e0c653d7d4a29ba756c79ce25532626fdcefe2b49ab6949a8ff81f7e7e1\n",
      "Starting extraction for link 3542: https://www.zoopla.co.uk/for-sale/details/64123659/?search_identifier=f8fe6e0c653d7d4a29ba756c79ce25532626fdcefe2b49ab6949a8ff81f7e7e1\n"
     ]
    },
    {
     "name": "stderr",
     "output_type": "stream",
     "text": [
      "could not detect version_main.therefore, we are assuming it is chrome 108 or higher\n"
     ]
    },
    {
     "name": "stdout",
     "output_type": "stream",
     "text": [
      "Saved to db successfully\n",
      "Done with link 3542: https://www.zoopla.co.uk/for-sale/details/64123659/?search_identifier=f8fe6e0c653d7d4a29ba756c79ce25532626fdcefe2b49ab6949a8ff81f7e7e1\n",
      "Starting extraction for link 3543: https://www.zoopla.co.uk/for-sale/details/64122287/?search_identifier=f8fe6e0c653d7d4a29ba756c79ce25532626fdcefe2b49ab6949a8ff81f7e7e1\n"
     ]
    },
    {
     "name": "stderr",
     "output_type": "stream",
     "text": [
      "could not detect version_main.therefore, we are assuming it is chrome 108 or higher\n"
     ]
    },
    {
     "name": "stdout",
     "output_type": "stream",
     "text": [
      "Saved to db successfully\n",
      "Done with link 3543: https://www.zoopla.co.uk/for-sale/details/64122287/?search_identifier=f8fe6e0c653d7d4a29ba756c79ce25532626fdcefe2b49ab6949a8ff81f7e7e1\n",
      "Starting extraction for link 3544: https://www.zoopla.co.uk/for-sale/details/64106913/?search_identifier=f8fe6e0c653d7d4a29ba756c79ce25532626fdcefe2b49ab6949a8ff81f7e7e1\n"
     ]
    },
    {
     "name": "stderr",
     "output_type": "stream",
     "text": [
      "could not detect version_main.therefore, we are assuming it is chrome 108 or higher\n"
     ]
    },
    {
     "name": "stdout",
     "output_type": "stream",
     "text": [
      "Saved to db successfully\n",
      "Done with link 3544: https://www.zoopla.co.uk/for-sale/details/64106913/?search_identifier=f8fe6e0c653d7d4a29ba756c79ce25532626fdcefe2b49ab6949a8ff81f7e7e1\n",
      "Starting extraction for link 3545: https://www.zoopla.co.uk/for-sale/details/64054426/?search_identifier=f8fe6e0c653d7d4a29ba756c79ce25532626fdcefe2b49ab6949a8ff81f7e7e1\n"
     ]
    },
    {
     "name": "stderr",
     "output_type": "stream",
     "text": [
      "could not detect version_main.therefore, we are assuming it is chrome 108 or higher\n"
     ]
    },
    {
     "name": "stdout",
     "output_type": "stream",
     "text": [
      "Saved to db successfully\n",
      "Done with link 3545: https://www.zoopla.co.uk/for-sale/details/64054426/?search_identifier=f8fe6e0c653d7d4a29ba756c79ce25532626fdcefe2b49ab6949a8ff81f7e7e1\n",
      "Starting extraction for link 3546: https://www.zoopla.co.uk/for-sale/details/64006391/?search_identifier=f8fe6e0c653d7d4a29ba756c79ce25532626fdcefe2b49ab6949a8ff81f7e7e1\n"
     ]
    },
    {
     "name": "stderr",
     "output_type": "stream",
     "text": [
      "could not detect version_main.therefore, we are assuming it is chrome 108 or higher\n"
     ]
    },
    {
     "name": "stdout",
     "output_type": "stream",
     "text": [
      "Saved to db successfully\n",
      "Done with link 3546: https://www.zoopla.co.uk/for-sale/details/64006391/?search_identifier=f8fe6e0c653d7d4a29ba756c79ce25532626fdcefe2b49ab6949a8ff81f7e7e1\n",
      "Starting extraction for link 3547: https://www.zoopla.co.uk/for-sale/details/63979852/?search_identifier=f8fe6e0c653d7d4a29ba756c79ce25532626fdcefe2b49ab6949a8ff81f7e7e1\n"
     ]
    },
    {
     "name": "stderr",
     "output_type": "stream",
     "text": [
      "could not detect version_main.therefore, we are assuming it is chrome 108 or higher\n"
     ]
    },
    {
     "name": "stdout",
     "output_type": "stream",
     "text": [
      "Saved to db successfully\n",
      "Done with link 3547: https://www.zoopla.co.uk/for-sale/details/63979852/?search_identifier=f8fe6e0c653d7d4a29ba756c79ce25532626fdcefe2b49ab6949a8ff81f7e7e1\n",
      "Starting extraction for link 3548: https://www.zoopla.co.uk/for-sale/details/63979210/?search_identifier=f8fe6e0c653d7d4a29ba756c79ce25532626fdcefe2b49ab6949a8ff81f7e7e1\n"
     ]
    },
    {
     "name": "stderr",
     "output_type": "stream",
     "text": [
      "could not detect version_main.therefore, we are assuming it is chrome 108 or higher\n"
     ]
    },
    {
     "name": "stdout",
     "output_type": "stream",
     "text": [
      "Saved to db successfully\n",
      "Done with link 3548: https://www.zoopla.co.uk/for-sale/details/63979210/?search_identifier=f8fe6e0c653d7d4a29ba756c79ce25532626fdcefe2b49ab6949a8ff81f7e7e1\n",
      "Starting extraction for link 3549: https://www.zoopla.co.uk/for-sale/details/63965708/?search_identifier=f8fe6e0c653d7d4a29ba756c79ce25532626fdcefe2b49ab6949a8ff81f7e7e1\n"
     ]
    },
    {
     "name": "stderr",
     "output_type": "stream",
     "text": [
      "could not detect version_main.therefore, we are assuming it is chrome 108 or higher\n"
     ]
    },
    {
     "name": "stdout",
     "output_type": "stream",
     "text": [
      "Saved to db successfully\n",
      "Done with link 3549: https://www.zoopla.co.uk/for-sale/details/63965708/?search_identifier=f8fe6e0c653d7d4a29ba756c79ce25532626fdcefe2b49ab6949a8ff81f7e7e1\n",
      "Starting extraction for link 3550: https://www.zoopla.co.uk/for-sale/details/63936596/?search_identifier=f8fe6e0c653d7d4a29ba756c79ce25532626fdcefe2b49ab6949a8ff81f7e7e1\n"
     ]
    },
    {
     "name": "stderr",
     "output_type": "stream",
     "text": [
      "could not detect version_main.therefore, we are assuming it is chrome 108 or higher\n"
     ]
    },
    {
     "name": "stdout",
     "output_type": "stream",
     "text": [
      "Saved to db successfully\n",
      "Done with link 3550: https://www.zoopla.co.uk/for-sale/details/63936596/?search_identifier=f8fe6e0c653d7d4a29ba756c79ce25532626fdcefe2b49ab6949a8ff81f7e7e1\n",
      "Starting extraction for link 3551: https://www.zoopla.co.uk/for-sale/details/63882068/?search_identifier=f8fe6e0c653d7d4a29ba756c79ce25532626fdcefe2b49ab6949a8ff81f7e7e1\n"
     ]
    },
    {
     "name": "stderr",
     "output_type": "stream",
     "text": [
      "could not detect version_main.therefore, we are assuming it is chrome 108 or higher\n"
     ]
    },
    {
     "name": "stdout",
     "output_type": "stream",
     "text": [
      "Saved to db successfully\n",
      "Done with link 3551: https://www.zoopla.co.uk/for-sale/details/63882068/?search_identifier=f8fe6e0c653d7d4a29ba756c79ce25532626fdcefe2b49ab6949a8ff81f7e7e1\n",
      "Starting extraction for link 3552: https://www.zoopla.co.uk/for-sale/details/63867677/?search_identifier=f8fe6e0c653d7d4a29ba756c79ce25532626fdcefe2b49ab6949a8ff81f7e7e1\n"
     ]
    },
    {
     "name": "stderr",
     "output_type": "stream",
     "text": [
      "could not detect version_main.therefore, we are assuming it is chrome 108 or higher\n"
     ]
    },
    {
     "name": "stdout",
     "output_type": "stream",
     "text": [
      "Saved to db successfully\n",
      "Done with link 3552: https://www.zoopla.co.uk/for-sale/details/63867677/?search_identifier=f8fe6e0c653d7d4a29ba756c79ce25532626fdcefe2b49ab6949a8ff81f7e7e1\n",
      "Starting extraction for link 3553: https://www.zoopla.co.uk/for-sale/details/63762807/?search_identifier=f8fe6e0c653d7d4a29ba756c79ce25532626fdcefe2b49ab6949a8ff81f7e7e1\n"
     ]
    },
    {
     "name": "stderr",
     "output_type": "stream",
     "text": [
      "could not detect version_main.therefore, we are assuming it is chrome 108 or higher\n"
     ]
    },
    {
     "name": "stdout",
     "output_type": "stream",
     "text": [
      "Saved to db successfully\n",
      "Done with link 3553: https://www.zoopla.co.uk/for-sale/details/63762807/?search_identifier=f8fe6e0c653d7d4a29ba756c79ce25532626fdcefe2b49ab6949a8ff81f7e7e1\n",
      "Starting extraction for link 3554: https://www.zoopla.co.uk/for-sale/details/63707518/?search_identifier=f8fe6e0c653d7d4a29ba756c79ce25532626fdcefe2b49ab6949a8ff81f7e7e1\n"
     ]
    },
    {
     "name": "stderr",
     "output_type": "stream",
     "text": [
      "could not detect version_main.therefore, we are assuming it is chrome 108 or higher\n"
     ]
    },
    {
     "name": "stdout",
     "output_type": "stream",
     "text": [
      "Saved to db successfully\n",
      "Done with link 3554: https://www.zoopla.co.uk/for-sale/details/63707518/?search_identifier=f8fe6e0c653d7d4a29ba756c79ce25532626fdcefe2b49ab6949a8ff81f7e7e1\n",
      "Starting extraction for link 3555: https://www.zoopla.co.uk/for-sale/details/63367286/?search_identifier=f8fe6e0c653d7d4a29ba756c79ce25532626fdcefe2b49ab6949a8ff81f7e7e1\n"
     ]
    },
    {
     "name": "stderr",
     "output_type": "stream",
     "text": [
      "could not detect version_main.therefore, we are assuming it is chrome 108 or higher\n"
     ]
    },
    {
     "name": "stdout",
     "output_type": "stream",
     "text": [
      "Saved to db successfully\n",
      "Done with link 3555: https://www.zoopla.co.uk/for-sale/details/63367286/?search_identifier=f8fe6e0c653d7d4a29ba756c79ce25532626fdcefe2b49ab6949a8ff81f7e7e1\n",
      "Starting extraction for link 3556: https://www.zoopla.co.uk/for-sale/details/62820072/?search_identifier=d6ef42c891c6445735eda4d03af9013454b563f0249ace877e366e10cf743cfe\n"
     ]
    },
    {
     "name": "stderr",
     "output_type": "stream",
     "text": [
      "could not detect version_main.therefore, we are assuming it is chrome 108 or higher\n"
     ]
    },
    {
     "name": "stdout",
     "output_type": "stream",
     "text": [
      "Saved to db successfully\n",
      "Done with link 3556: https://www.zoopla.co.uk/for-sale/details/62820072/?search_identifier=d6ef42c891c6445735eda4d03af9013454b563f0249ace877e366e10cf743cfe\n",
      "Starting extraction for link 3557: https://www.zoopla.co.uk/for-sale/details/62487981/?search_identifier=d6ef42c891c6445735eda4d03af9013454b563f0249ace877e366e10cf743cfe\n"
     ]
    },
    {
     "name": "stderr",
     "output_type": "stream",
     "text": [
      "could not detect version_main.therefore, we are assuming it is chrome 108 or higher\n"
     ]
    },
    {
     "name": "stdout",
     "output_type": "stream",
     "text": [
      "Saved to db successfully\n",
      "Done with link 3557: https://www.zoopla.co.uk/for-sale/details/62487981/?search_identifier=d6ef42c891c6445735eda4d03af9013454b563f0249ace877e366e10cf743cfe\n",
      "Starting extraction for link 3558: https://www.zoopla.co.uk/for-sale/details/62423785/?search_identifier=d6ef42c891c6445735eda4d03af9013454b563f0249ace877e366e10cf743cfe\n"
     ]
    },
    {
     "name": "stderr",
     "output_type": "stream",
     "text": [
      "could not detect version_main.therefore, we are assuming it is chrome 108 or higher\n"
     ]
    },
    {
     "name": "stdout",
     "output_type": "stream",
     "text": [
      "Saved to db successfully\n",
      "Done with link 3558: https://www.zoopla.co.uk/for-sale/details/62423785/?search_identifier=d6ef42c891c6445735eda4d03af9013454b563f0249ace877e366e10cf743cfe\n",
      "Starting extraction for link 3559: https://www.zoopla.co.uk/for-sale/details/62387805/?search_identifier=d6ef42c891c6445735eda4d03af9013454b563f0249ace877e366e10cf743cfe\n"
     ]
    },
    {
     "name": "stderr",
     "output_type": "stream",
     "text": [
      "could not detect version_main.therefore, we are assuming it is chrome 108 or higher\n"
     ]
    },
    {
     "name": "stdout",
     "output_type": "stream",
     "text": [
      "Saved to db successfully\n",
      "Done with link 3559: https://www.zoopla.co.uk/for-sale/details/62387805/?search_identifier=d6ef42c891c6445735eda4d03af9013454b563f0249ace877e366e10cf743cfe\n",
      "Starting extraction for link 3560: https://www.zoopla.co.uk/for-sale/details/62223659/?search_identifier=d6ef42c891c6445735eda4d03af9013454b563f0249ace877e366e10cf743cfe\n"
     ]
    },
    {
     "name": "stderr",
     "output_type": "stream",
     "text": [
      "could not detect version_main.therefore, we are assuming it is chrome 108 or higher\n"
     ]
    },
    {
     "name": "stdout",
     "output_type": "stream",
     "text": [
      "Saved to db successfully\n",
      "Done with link 3560: https://www.zoopla.co.uk/for-sale/details/62223659/?search_identifier=d6ef42c891c6445735eda4d03af9013454b563f0249ace877e366e10cf743cfe\n",
      "Starting extraction for link 3561: https://www.zoopla.co.uk/for-sale/details/61968259/?search_identifier=d6ef42c891c6445735eda4d03af9013454b563f0249ace877e366e10cf743cfe\n"
     ]
    },
    {
     "name": "stderr",
     "output_type": "stream",
     "text": [
      "could not detect version_main.therefore, we are assuming it is chrome 108 or higher\n"
     ]
    },
    {
     "name": "stdout",
     "output_type": "stream",
     "text": [
      "Saved to db successfully\n",
      "Done with link 3561: https://www.zoopla.co.uk/for-sale/details/61968259/?search_identifier=d6ef42c891c6445735eda4d03af9013454b563f0249ace877e366e10cf743cfe\n",
      "Starting extraction for link 3562: https://www.zoopla.co.uk/new-homes/details/61709550/?search_identifier=d6ef42c891c6445735eda4d03af9013454b563f0249ace877e366e10cf743cfe\n"
     ]
    },
    {
     "name": "stderr",
     "output_type": "stream",
     "text": [
      "could not detect version_main.therefore, we are assuming it is chrome 108 or higher\n"
     ]
    },
    {
     "name": "stdout",
     "output_type": "stream",
     "text": [
      "Saved to db successfully\n",
      "Done with link 3562: https://www.zoopla.co.uk/new-homes/details/61709550/?search_identifier=d6ef42c891c6445735eda4d03af9013454b563f0249ace877e366e10cf743cfe\n",
      "Starting extraction for link 3563: https://www.zoopla.co.uk/new-homes/details/61709522/?search_identifier=d6ef42c891c6445735eda4d03af9013454b563f0249ace877e366e10cf743cfe\n"
     ]
    },
    {
     "name": "stderr",
     "output_type": "stream",
     "text": [
      "could not detect version_main.therefore, we are assuming it is chrome 108 or higher\n"
     ]
    },
    {
     "name": "stdout",
     "output_type": "stream",
     "text": [
      "Saved to db successfully\n",
      "Done with link 3563: https://www.zoopla.co.uk/new-homes/details/61709522/?search_identifier=d6ef42c891c6445735eda4d03af9013454b563f0249ace877e366e10cf743cfe\n",
      "Starting extraction for link 3564: https://www.zoopla.co.uk/for-sale/details/61125089/?search_identifier=d6ef42c891c6445735eda4d03af9013454b563f0249ace877e366e10cf743cfe\n"
     ]
    },
    {
     "name": "stderr",
     "output_type": "stream",
     "text": [
      "could not detect version_main.therefore, we are assuming it is chrome 108 or higher\n"
     ]
    },
    {
     "name": "stdout",
     "output_type": "stream",
     "text": [
      "Saved to db successfully\n",
      "Done with link 3564: https://www.zoopla.co.uk/for-sale/details/61125089/?search_identifier=d6ef42c891c6445735eda4d03af9013454b563f0249ace877e366e10cf743cfe\n",
      "Starting extraction for link 3565: https://www.zoopla.co.uk/for-sale/details/60738931/?search_identifier=d6ef42c891c6445735eda4d03af9013454b563f0249ace877e366e10cf743cfe\n"
     ]
    },
    {
     "name": "stderr",
     "output_type": "stream",
     "text": [
      "could not detect version_main.therefore, we are assuming it is chrome 108 or higher\n"
     ]
    },
    {
     "name": "stdout",
     "output_type": "stream",
     "text": [
      "Saved to db successfully\n",
      "Done with link 3565: https://www.zoopla.co.uk/for-sale/details/60738931/?search_identifier=d6ef42c891c6445735eda4d03af9013454b563f0249ace877e366e10cf743cfe\n",
      "Starting extraction for link 3566: https://www.zoopla.co.uk/for-sale/details/60635769/?search_identifier=d6ef42c891c6445735eda4d03af9013454b563f0249ace877e366e10cf743cfe\n"
     ]
    },
    {
     "name": "stderr",
     "output_type": "stream",
     "text": [
      "could not detect version_main.therefore, we are assuming it is chrome 108 or higher\n"
     ]
    },
    {
     "name": "stdout",
     "output_type": "stream",
     "text": [
      "Saved to db successfully\n",
      "Done with link 3566: https://www.zoopla.co.uk/for-sale/details/60635769/?search_identifier=d6ef42c891c6445735eda4d03af9013454b563f0249ace877e366e10cf743cfe\n",
      "Starting extraction for link 3567: https://www.zoopla.co.uk/for-sale/details/65210725/?search_identifier=58c842a74e9c7d68d339ba9175a26093f033b37043e467b9ad66395d54048457\n"
     ]
    },
    {
     "name": "stderr",
     "output_type": "stream",
     "text": [
      "could not detect version_main.therefore, we are assuming it is chrome 108 or higher\n"
     ]
    },
    {
     "name": "stdout",
     "output_type": "stream",
     "text": [
      "Saved to db successfully\n",
      "Done with link 3567: https://www.zoopla.co.uk/for-sale/details/65210725/?search_identifier=58c842a74e9c7d68d339ba9175a26093f033b37043e467b9ad66395d54048457\n",
      "Starting extraction for link 3568: https://www.zoopla.co.uk/for-sale/details/65198796/?search_identifier=58c842a74e9c7d68d339ba9175a26093f033b37043e467b9ad66395d54048457\n"
     ]
    },
    {
     "name": "stderr",
     "output_type": "stream",
     "text": [
      "could not detect version_main.therefore, we are assuming it is chrome 108 or higher\n"
     ]
    },
    {
     "name": "stdout",
     "output_type": "stream",
     "text": [
      "Saved to db successfully\n",
      "Done with link 3568: https://www.zoopla.co.uk/for-sale/details/65198796/?search_identifier=58c842a74e9c7d68d339ba9175a26093f033b37043e467b9ad66395d54048457\n",
      "Starting extraction for link 3569: https://www.zoopla.co.uk/for-sale/details/65194900/?search_identifier=58c842a74e9c7d68d339ba9175a26093f033b37043e467b9ad66395d54048457\n"
     ]
    },
    {
     "name": "stderr",
     "output_type": "stream",
     "text": [
      "could not detect version_main.therefore, we are assuming it is chrome 108 or higher\n"
     ]
    },
    {
     "name": "stdout",
     "output_type": "stream",
     "text": [
      "Saved to db successfully\n",
      "Done with link 3569: https://www.zoopla.co.uk/for-sale/details/65194900/?search_identifier=58c842a74e9c7d68d339ba9175a26093f033b37043e467b9ad66395d54048457\n",
      "Starting extraction for link 3570: https://www.zoopla.co.uk/for-sale/details/65191480/?search_identifier=58c842a74e9c7d68d339ba9175a26093f033b37043e467b9ad66395d54048457\n"
     ]
    },
    {
     "name": "stderr",
     "output_type": "stream",
     "text": [
      "could not detect version_main.therefore, we are assuming it is chrome 108 or higher\n"
     ]
    },
    {
     "name": "stdout",
     "output_type": "stream",
     "text": [
      "Saved to db successfully\n",
      "Done with link 3570: https://www.zoopla.co.uk/for-sale/details/65191480/?search_identifier=58c842a74e9c7d68d339ba9175a26093f033b37043e467b9ad66395d54048457\n",
      "Starting extraction for link 3571: https://www.zoopla.co.uk/for-sale/details/65169078/?search_identifier=58c842a74e9c7d68d339ba9175a26093f033b37043e467b9ad66395d54048457\n"
     ]
    },
    {
     "name": "stderr",
     "output_type": "stream",
     "text": [
      "could not detect version_main.therefore, we are assuming it is chrome 108 or higher\n"
     ]
    },
    {
     "name": "stdout",
     "output_type": "stream",
     "text": [
      "Saved to db successfully\n",
      "Done with link 3571: https://www.zoopla.co.uk/for-sale/details/65169078/?search_identifier=58c842a74e9c7d68d339ba9175a26093f033b37043e467b9ad66395d54048457\n",
      "Starting extraction for link 3572: https://www.zoopla.co.uk/for-sale/details/65162330/?search_identifier=58c842a74e9c7d68d339ba9175a26093f033b37043e467b9ad66395d54048457\n"
     ]
    },
    {
     "name": "stderr",
     "output_type": "stream",
     "text": [
      "could not detect version_main.therefore, we are assuming it is chrome 108 or higher\n"
     ]
    },
    {
     "name": "stdout",
     "output_type": "stream",
     "text": [
      "Saved to db successfully\n",
      "Done with link 3572: https://www.zoopla.co.uk/for-sale/details/65162330/?search_identifier=58c842a74e9c7d68d339ba9175a26093f033b37043e467b9ad66395d54048457\n",
      "Starting extraction for link 3573: https://www.zoopla.co.uk/for-sale/details/65160203/?search_identifier=58c842a74e9c7d68d339ba9175a26093f033b37043e467b9ad66395d54048457\n"
     ]
    },
    {
     "name": "stderr",
     "output_type": "stream",
     "text": [
      "could not detect version_main.therefore, we are assuming it is chrome 108 or higher\n"
     ]
    },
    {
     "name": "stdout",
     "output_type": "stream",
     "text": [
      "Saved to db successfully\n",
      "Done with link 3573: https://www.zoopla.co.uk/for-sale/details/65160203/?search_identifier=58c842a74e9c7d68d339ba9175a26093f033b37043e467b9ad66395d54048457\n",
      "Starting extraction for link 3574: https://www.zoopla.co.uk/for-sale/details/65157947/?search_identifier=58c842a74e9c7d68d339ba9175a26093f033b37043e467b9ad66395d54048457\n"
     ]
    },
    {
     "name": "stderr",
     "output_type": "stream",
     "text": [
      "could not detect version_main.therefore, we are assuming it is chrome 108 or higher\n"
     ]
    },
    {
     "name": "stdout",
     "output_type": "stream",
     "text": [
      "Saved to db successfully\n",
      "Done with link 3574: https://www.zoopla.co.uk/for-sale/details/65157947/?search_identifier=58c842a74e9c7d68d339ba9175a26093f033b37043e467b9ad66395d54048457\n",
      "Starting extraction for link 3575: https://www.zoopla.co.uk/for-sale/details/65145472/?search_identifier=58c842a74e9c7d68d339ba9175a26093f033b37043e467b9ad66395d54048457\n"
     ]
    },
    {
     "name": "stderr",
     "output_type": "stream",
     "text": [
      "could not detect version_main.therefore, we are assuming it is chrome 108 or higher\n"
     ]
    },
    {
     "name": "stdout",
     "output_type": "stream",
     "text": [
      "Saved to db successfully\n",
      "Done with link 3575: https://www.zoopla.co.uk/for-sale/details/65145472/?search_identifier=58c842a74e9c7d68d339ba9175a26093f033b37043e467b9ad66395d54048457\n",
      "Starting extraction for link 3576: https://www.zoopla.co.uk/for-sale/details/65143136/?search_identifier=58c842a74e9c7d68d339ba9175a26093f033b37043e467b9ad66395d54048457\n",
      "An error occurred for link in get_data_func: https://www.zoopla.co.uk/for-sale/details/65143136/?search_identifier=58c842a74e9c7d68d339ba9175a26093f033b37043e467b9ad66395d54048457: Message: no such element: Unable to locate element: {\"method\":\"xpath\",\"selector\":\"//p[@data-testid=\"price\"]\"}\n",
      "  (Session info: chrome=115.0.5790.110); For documentation on this error, please visit: https://www.selenium.dev/documentation/webdriver/troubleshooting/errors#no-such-element-exception\n",
      "Stacktrace:\n",
      "Backtrace:\n",
      "\tGetHandleVerifier [0x00E2A813+48355]\n",
      "\t(No symbol) [0x00DBC4B1]\n",
      "\t(No symbol) [0x00CC5358]\n",
      "\t(No symbol) [0x00CF09A5]\n",
      "\t(No symbol) [0x00CF0B3B]\n",
      "\t(No symbol) [0x00D1E232]\n",
      "\t(No symbol) [0x00D0A784]\n",
      "\t(No symbol) [0x00D1C922]\n",
      "\t(No symbol) [0x00D0A536]\n",
      "\t(No symbol) [0x00CE82DC]\n",
      "\t(No symbol) [0x00CE93DD]\n",
      "\tGetHandleVerifier [0x0108AABD+2539405]\n",
      "\tGetHandleVerifier [0x010CA78F+2800735]\n",
      "\tGetHandleVerifier [0x010C456C+2775612]\n",
      "\tGetHandleVerifier [0x00EB51E0+616112]\n",
      "\t(No symbol) [0x00DC5F8C]\n",
      "\t(No symbol) [0x00DC2328]\n",
      "\t(No symbol) [0x00DC240B]\n",
      "\t(No symbol) [0x00DB4FF7]\n",
      "\tBaseThreadInitThunk [0x76A57D59+25]\n",
      "\tRtlInitializeExceptionChain [0x7773B79B+107]\n",
      "\tRtlClearBits [0x7773B71F+191]\n",
      "\n"
     ]
    },
    {
     "name": "stderr",
     "output_type": "stream",
     "text": [
      "could not detect version_main.therefore, we are assuming it is chrome 108 or higher\n"
     ]
    },
    {
     "name": "stdout",
     "output_type": "stream",
     "text": [
      "Saved to db successfully\n",
      "Done with link 3576: https://www.zoopla.co.uk/for-sale/details/65143136/?search_identifier=58c842a74e9c7d68d339ba9175a26093f033b37043e467b9ad66395d54048457\n",
      "Starting extraction for link 3577: https://www.zoopla.co.uk/for-sale/details/65139267/?search_identifier=58c842a74e9c7d68d339ba9175a26093f033b37043e467b9ad66395d54048457\n"
     ]
    },
    {
     "name": "stderr",
     "output_type": "stream",
     "text": [
      "could not detect version_main.therefore, we are assuming it is chrome 108 or higher\n"
     ]
    },
    {
     "name": "stdout",
     "output_type": "stream",
     "text": [
      "Saved to db successfully\n",
      "Done with link 3577: https://www.zoopla.co.uk/for-sale/details/65139267/?search_identifier=58c842a74e9c7d68d339ba9175a26093f033b37043e467b9ad66395d54048457\n",
      "Starting extraction for link 3578: https://www.zoopla.co.uk/for-sale/details/65136726/?search_identifier=58c842a74e9c7d68d339ba9175a26093f033b37043e467b9ad66395d54048457\n"
     ]
    },
    {
     "name": "stderr",
     "output_type": "stream",
     "text": [
      "could not detect version_main.therefore, we are assuming it is chrome 108 or higher\n"
     ]
    },
    {
     "name": "stdout",
     "output_type": "stream",
     "text": [
      "Saved to db successfully\n",
      "Done with link 3578: https://www.zoopla.co.uk/for-sale/details/65136726/?search_identifier=58c842a74e9c7d68d339ba9175a26093f033b37043e467b9ad66395d54048457\n",
      "Starting extraction for link 3579: https://www.zoopla.co.uk/for-sale/details/65136727/?search_identifier=58c842a74e9c7d68d339ba9175a26093f033b37043e467b9ad66395d54048457\n"
     ]
    },
    {
     "name": "stderr",
     "output_type": "stream",
     "text": [
      "could not detect version_main.therefore, we are assuming it is chrome 108 or higher\n"
     ]
    },
    {
     "name": "stdout",
     "output_type": "stream",
     "text": [
      "An error occurred for link 3579 https://www.zoopla.co.uk/for-sale/details/65136727/?search_identifier=58c842a74e9c7d68d339ba9175a26093f033b37043e467b9ad66395d54048457: nan can not be used with MySQL\n",
      "Starting extraction for link 3580: https://www.zoopla.co.uk/for-sale/details/65126294/?search_identifier=58c842a74e9c7d68d339ba9175a26093f033b37043e467b9ad66395d54048457\n"
     ]
    },
    {
     "name": "stderr",
     "output_type": "stream",
     "text": [
      "could not detect version_main.therefore, we are assuming it is chrome 108 or higher\n"
     ]
    },
    {
     "name": "stdout",
     "output_type": "stream",
     "text": [
      "Saved to db successfully\n",
      "Done with link 3580: https://www.zoopla.co.uk/for-sale/details/65126294/?search_identifier=58c842a74e9c7d68d339ba9175a26093f033b37043e467b9ad66395d54048457\n",
      "Starting extraction for link 3581: https://www.zoopla.co.uk/for-sale/details/65117575/?search_identifier=58c842a74e9c7d68d339ba9175a26093f033b37043e467b9ad66395d54048457\n"
     ]
    },
    {
     "name": "stderr",
     "output_type": "stream",
     "text": [
      "could not detect version_main.therefore, we are assuming it is chrome 108 or higher\n"
     ]
    },
    {
     "name": "stdout",
     "output_type": "stream",
     "text": [
      "Saved to db successfully\n",
      "Done with link 3581: https://www.zoopla.co.uk/for-sale/details/65117575/?search_identifier=58c842a74e9c7d68d339ba9175a26093f033b37043e467b9ad66395d54048457\n",
      "Starting extraction for link 3582: https://www.zoopla.co.uk/for-sale/details/65113510/?search_identifier=58c842a74e9c7d68d339ba9175a26093f033b37043e467b9ad66395d54048457\n"
     ]
    },
    {
     "name": "stderr",
     "output_type": "stream",
     "text": [
      "could not detect version_main.therefore, we are assuming it is chrome 108 or higher\n"
     ]
    },
    {
     "name": "stdout",
     "output_type": "stream",
     "text": [
      "Saved to db successfully\n",
      "Done with link 3582: https://www.zoopla.co.uk/for-sale/details/65113510/?search_identifier=58c842a74e9c7d68d339ba9175a26093f033b37043e467b9ad66395d54048457\n",
      "Starting extraction for link 3583: https://www.zoopla.co.uk/for-sale/details/65083978/?search_identifier=58c842a74e9c7d68d339ba9175a26093f033b37043e467b9ad66395d54048457\n"
     ]
    },
    {
     "name": "stderr",
     "output_type": "stream",
     "text": [
      "could not detect version_main.therefore, we are assuming it is chrome 108 or higher\n"
     ]
    },
    {
     "name": "stdout",
     "output_type": "stream",
     "text": [
      "Saved to db successfully\n",
      "Done with link 3583: https://www.zoopla.co.uk/for-sale/details/65083978/?search_identifier=58c842a74e9c7d68d339ba9175a26093f033b37043e467b9ad66395d54048457\n",
      "Starting extraction for link 3584: https://www.zoopla.co.uk/for-sale/details/65078021/?search_identifier=58c842a74e9c7d68d339ba9175a26093f033b37043e467b9ad66395d54048457\n"
     ]
    },
    {
     "name": "stderr",
     "output_type": "stream",
     "text": [
      "could not detect version_main.therefore, we are assuming it is chrome 108 or higher\n"
     ]
    },
    {
     "name": "stdout",
     "output_type": "stream",
     "text": [
      "Saved to db successfully\n",
      "Done with link 3584: https://www.zoopla.co.uk/for-sale/details/65078021/?search_identifier=58c842a74e9c7d68d339ba9175a26093f033b37043e467b9ad66395d54048457\n",
      "Starting extraction for link 3585: https://www.zoopla.co.uk/for-sale/details/48726827/?search_identifier=58c842a74e9c7d68d339ba9175a26093f033b37043e467b9ad66395d54048457\n"
     ]
    },
    {
     "name": "stderr",
     "output_type": "stream",
     "text": [
      "could not detect version_main.therefore, we are assuming it is chrome 108 or higher\n"
     ]
    },
    {
     "name": "stdout",
     "output_type": "stream",
     "text": [
      "Saved to db successfully\n",
      "Done with link 3585: https://www.zoopla.co.uk/for-sale/details/48726827/?search_identifier=58c842a74e9c7d68d339ba9175a26093f033b37043e467b9ad66395d54048457\n",
      "Starting extraction for link 3586: https://www.zoopla.co.uk/for-sale/details/65076297/?search_identifier=58c842a74e9c7d68d339ba9175a26093f033b37043e467b9ad66395d54048457\n"
     ]
    },
    {
     "name": "stderr",
     "output_type": "stream",
     "text": [
      "could not detect version_main.therefore, we are assuming it is chrome 108 or higher\n"
     ]
    },
    {
     "name": "stdout",
     "output_type": "stream",
     "text": [
      "Saved to db successfully\n",
      "Done with link 3586: https://www.zoopla.co.uk/for-sale/details/65076297/?search_identifier=58c842a74e9c7d68d339ba9175a26093f033b37043e467b9ad66395d54048457\n",
      "Starting extraction for link 3587: https://www.zoopla.co.uk/for-sale/details/65059065/?search_identifier=58c842a74e9c7d68d339ba9175a26093f033b37043e467b9ad66395d54048457\n"
     ]
    },
    {
     "name": "stderr",
     "output_type": "stream",
     "text": [
      "could not detect version_main.therefore, we are assuming it is chrome 108 or higher\n"
     ]
    },
    {
     "name": "stdout",
     "output_type": "stream",
     "text": [
      "Saved to db successfully\n",
      "Done with link 3587: https://www.zoopla.co.uk/for-sale/details/65059065/?search_identifier=58c842a74e9c7d68d339ba9175a26093f033b37043e467b9ad66395d54048457\n",
      "Starting extraction for link 3588: https://www.zoopla.co.uk/for-sale/details/65028014/?search_identifier=58c842a74e9c7d68d339ba9175a26093f033b37043e467b9ad66395d54048457\n"
     ]
    },
    {
     "name": "stderr",
     "output_type": "stream",
     "text": [
      "could not detect version_main.therefore, we are assuming it is chrome 108 or higher\n"
     ]
    },
    {
     "name": "stdout",
     "output_type": "stream",
     "text": [
      "Saved to db successfully\n",
      "Done with link 3588: https://www.zoopla.co.uk/for-sale/details/65028014/?search_identifier=58c842a74e9c7d68d339ba9175a26093f033b37043e467b9ad66395d54048457\n",
      "Starting extraction for link 3589: https://www.zoopla.co.uk/for-sale/details/65020037/?search_identifier=58c842a74e9c7d68d339ba9175a26093f033b37043e467b9ad66395d54048457\n"
     ]
    },
    {
     "name": "stderr",
     "output_type": "stream",
     "text": [
      "could not detect version_main.therefore, we are assuming it is chrome 108 or higher\n"
     ]
    },
    {
     "name": "stdout",
     "output_type": "stream",
     "text": [
      "Saved to db successfully\n",
      "Done with link 3589: https://www.zoopla.co.uk/for-sale/details/65020037/?search_identifier=58c842a74e9c7d68d339ba9175a26093f033b37043e467b9ad66395d54048457\n",
      "Starting extraction for link 3590: https://www.zoopla.co.uk/new-homes/details/64999895/?search_identifier=58c842a74e9c7d68d339ba9175a26093f033b37043e467b9ad66395d54048457\n"
     ]
    },
    {
     "name": "stderr",
     "output_type": "stream",
     "text": [
      "could not detect version_main.therefore, we are assuming it is chrome 108 or higher\n"
     ]
    },
    {
     "name": "stdout",
     "output_type": "stream",
     "text": [
      "Saved to db successfully\n",
      "Done with link 3590: https://www.zoopla.co.uk/new-homes/details/64999895/?search_identifier=58c842a74e9c7d68d339ba9175a26093f033b37043e467b9ad66395d54048457\n",
      "Starting extraction for link 3591: https://www.zoopla.co.uk/new-homes/details/64999834/?search_identifier=58c842a74e9c7d68d339ba9175a26093f033b37043e467b9ad66395d54048457\n"
     ]
    },
    {
     "name": "stderr",
     "output_type": "stream",
     "text": [
      "could not detect version_main.therefore, we are assuming it is chrome 108 or higher\n"
     ]
    },
    {
     "name": "stdout",
     "output_type": "stream",
     "text": [
      "Saved to db successfully\n",
      "Done with link 3591: https://www.zoopla.co.uk/new-homes/details/64999834/?search_identifier=58c842a74e9c7d68d339ba9175a26093f033b37043e467b9ad66395d54048457\n",
      "Starting extraction for link 3592: https://www.zoopla.co.uk/for-sale/details/64988109/?search_identifier=c87f891533eff87099b71d850bfea1ab83c5eefa8da9deff34377fafc4046387\n"
     ]
    },
    {
     "name": "stderr",
     "output_type": "stream",
     "text": [
      "could not detect version_main.therefore, we are assuming it is chrome 108 or higher\n"
     ]
    },
    {
     "name": "stdout",
     "output_type": "stream",
     "text": [
      "Saved to db successfully\n",
      "Done with link 3592: https://www.zoopla.co.uk/for-sale/details/64988109/?search_identifier=c87f891533eff87099b71d850bfea1ab83c5eefa8da9deff34377fafc4046387\n",
      "Starting extraction for link 3593: https://www.zoopla.co.uk/for-sale/details/64987609/?search_identifier=c87f891533eff87099b71d850bfea1ab83c5eefa8da9deff34377fafc4046387\n"
     ]
    },
    {
     "name": "stderr",
     "output_type": "stream",
     "text": [
      "could not detect version_main.therefore, we are assuming it is chrome 108 or higher\n"
     ]
    },
    {
     "name": "stdout",
     "output_type": "stream",
     "text": [
      "Saved to db successfully\n",
      "Done with link 3593: https://www.zoopla.co.uk/for-sale/details/64987609/?search_identifier=c87f891533eff87099b71d850bfea1ab83c5eefa8da9deff34377fafc4046387\n",
      "Starting extraction for link 3594: https://www.zoopla.co.uk/for-sale/details/64984206/?search_identifier=c87f891533eff87099b71d850bfea1ab83c5eefa8da9deff34377fafc4046387\n"
     ]
    },
    {
     "name": "stderr",
     "output_type": "stream",
     "text": [
      "could not detect version_main.therefore, we are assuming it is chrome 108 or higher\n"
     ]
    },
    {
     "name": "stdout",
     "output_type": "stream",
     "text": [
      "Saved to db successfully\n",
      "Done with link 3594: https://www.zoopla.co.uk/for-sale/details/64984206/?search_identifier=c87f891533eff87099b71d850bfea1ab83c5eefa8da9deff34377fafc4046387\n",
      "Starting extraction for link 3595: https://www.zoopla.co.uk/for-sale/details/62576011/?search_identifier=c87f891533eff87099b71d850bfea1ab83c5eefa8da9deff34377fafc4046387\n"
     ]
    },
    {
     "name": "stderr",
     "output_type": "stream",
     "text": [
      "could not detect version_main.therefore, we are assuming it is chrome 108 or higher\n"
     ]
    },
    {
     "name": "stdout",
     "output_type": "stream",
     "text": [
      "Saved to db successfully\n",
      "Done with link 3595: https://www.zoopla.co.uk/for-sale/details/62576011/?search_identifier=c87f891533eff87099b71d850bfea1ab83c5eefa8da9deff34377fafc4046387\n",
      "Starting extraction for link 3596: https://www.zoopla.co.uk/new-homes/details/64933687/?search_identifier=c87f891533eff87099b71d850bfea1ab83c5eefa8da9deff34377fafc4046387\n"
     ]
    },
    {
     "name": "stderr",
     "output_type": "stream",
     "text": [
      "could not detect version_main.therefore, we are assuming it is chrome 108 or higher\n"
     ]
    },
    {
     "name": "stdout",
     "output_type": "stream",
     "text": [
      "Saved to db successfully\n",
      "Done with link 3596: https://www.zoopla.co.uk/new-homes/details/64933687/?search_identifier=c87f891533eff87099b71d850bfea1ab83c5eefa8da9deff34377fafc4046387\n",
      "Starting extraction for link 3597: https://www.zoopla.co.uk/for-sale/details/64892331/?search_identifier=c87f891533eff87099b71d850bfea1ab83c5eefa8da9deff34377fafc4046387\n"
     ]
    },
    {
     "name": "stderr",
     "output_type": "stream",
     "text": [
      "could not detect version_main.therefore, we are assuming it is chrome 108 or higher\n"
     ]
    },
    {
     "name": "stdout",
     "output_type": "stream",
     "text": [
      "Saved to db successfully\n",
      "Done with link 3597: https://www.zoopla.co.uk/for-sale/details/64892331/?search_identifier=c87f891533eff87099b71d850bfea1ab83c5eefa8da9deff34377fafc4046387\n",
      "Starting extraction for link 3598: https://www.zoopla.co.uk/for-sale/details/64883873/?search_identifier=c87f891533eff87099b71d850bfea1ab83c5eefa8da9deff34377fafc4046387\n"
     ]
    },
    {
     "name": "stderr",
     "output_type": "stream",
     "text": [
      "could not detect version_main.therefore, we are assuming it is chrome 108 or higher\n"
     ]
    },
    {
     "name": "stdout",
     "output_type": "stream",
     "text": [
      "Saved to db successfully\n",
      "Done with link 3598: https://www.zoopla.co.uk/for-sale/details/64883873/?search_identifier=c87f891533eff87099b71d850bfea1ab83c5eefa8da9deff34377fafc4046387\n",
      "Starting extraction for link 3599: https://www.zoopla.co.uk/for-sale/details/64861067/?search_identifier=c87f891533eff87099b71d850bfea1ab83c5eefa8da9deff34377fafc4046387\n"
     ]
    },
    {
     "name": "stderr",
     "output_type": "stream",
     "text": [
      "could not detect version_main.therefore, we are assuming it is chrome 108 or higher\n"
     ]
    },
    {
     "name": "stdout",
     "output_type": "stream",
     "text": [
      "Saved to db successfully\n",
      "Done with link 3599: https://www.zoopla.co.uk/for-sale/details/64861067/?search_identifier=c87f891533eff87099b71d850bfea1ab83c5eefa8da9deff34377fafc4046387\n",
      "Starting extraction for link 3600: https://www.zoopla.co.uk/for-sale/details/64853442/?search_identifier=c87f891533eff87099b71d850bfea1ab83c5eefa8da9deff34377fafc4046387\n"
     ]
    },
    {
     "name": "stderr",
     "output_type": "stream",
     "text": [
      "could not detect version_main.therefore, we are assuming it is chrome 108 or higher\n"
     ]
    },
    {
     "name": "stdout",
     "output_type": "stream",
     "text": [
      "Saved to db successfully\n",
      "Done with link 3600: https://www.zoopla.co.uk/for-sale/details/64853442/?search_identifier=c87f891533eff87099b71d850bfea1ab83c5eefa8da9deff34377fafc4046387\n",
      "Starting extraction for link 3601: https://www.zoopla.co.uk/for-sale/details/64790456/?search_identifier=c87f891533eff87099b71d850bfea1ab83c5eefa8da9deff34377fafc4046387\n"
     ]
    },
    {
     "name": "stderr",
     "output_type": "stream",
     "text": [
      "could not detect version_main.therefore, we are assuming it is chrome 108 or higher\n"
     ]
    },
    {
     "name": "stdout",
     "output_type": "stream",
     "text": [
      "Saved to db successfully\n",
      "Done with link 3601: https://www.zoopla.co.uk/for-sale/details/64790456/?search_identifier=c87f891533eff87099b71d850bfea1ab83c5eefa8da9deff34377fafc4046387\n",
      "Starting extraction for link 3602: https://www.zoopla.co.uk/for-sale/details/64788410/?search_identifier=c87f891533eff87099b71d850bfea1ab83c5eefa8da9deff34377fafc4046387\n"
     ]
    },
    {
     "name": "stderr",
     "output_type": "stream",
     "text": [
      "could not detect version_main.therefore, we are assuming it is chrome 108 or higher\n"
     ]
    },
    {
     "name": "stdout",
     "output_type": "stream",
     "text": [
      "Saved to db successfully\n",
      "Done with link 3602: https://www.zoopla.co.uk/for-sale/details/64788410/?search_identifier=c87f891533eff87099b71d850bfea1ab83c5eefa8da9deff34377fafc4046387\n",
      "Starting extraction for link 3603: https://www.zoopla.co.uk/for-sale/details/64774484/?search_identifier=c87f891533eff87099b71d850bfea1ab83c5eefa8da9deff34377fafc4046387\n"
     ]
    },
    {
     "name": "stderr",
     "output_type": "stream",
     "text": [
      "could not detect version_main.therefore, we are assuming it is chrome 108 or higher\n"
     ]
    },
    {
     "name": "stdout",
     "output_type": "stream",
     "text": [
      "Saved to db successfully\n",
      "Done with link 3603: https://www.zoopla.co.uk/for-sale/details/64774484/?search_identifier=c87f891533eff87099b71d850bfea1ab83c5eefa8da9deff34377fafc4046387\n",
      "Starting extraction for link 3604: https://www.zoopla.co.uk/new-homes/details/64771339/?search_identifier=c87f891533eff87099b71d850bfea1ab83c5eefa8da9deff34377fafc4046387\n"
     ]
    },
    {
     "name": "stderr",
     "output_type": "stream",
     "text": [
      "could not detect version_main.therefore, we are assuming it is chrome 108 or higher\n"
     ]
    },
    {
     "name": "stdout",
     "output_type": "stream",
     "text": [
      "Saved to db successfully\n",
      "Done with link 3604: https://www.zoopla.co.uk/new-homes/details/64771339/?search_identifier=c87f891533eff87099b71d850bfea1ab83c5eefa8da9deff34377fafc4046387\n",
      "Starting extraction for link 3605: https://www.zoopla.co.uk/for-sale/details/64747777/?search_identifier=c87f891533eff87099b71d850bfea1ab83c5eefa8da9deff34377fafc4046387\n"
     ]
    },
    {
     "name": "stderr",
     "output_type": "stream",
     "text": [
      "could not detect version_main.therefore, we are assuming it is chrome 108 or higher\n"
     ]
    },
    {
     "name": "stdout",
     "output_type": "stream",
     "text": [
      "Saved to db successfully\n",
      "Done with link 3605: https://www.zoopla.co.uk/for-sale/details/64747777/?search_identifier=c87f891533eff87099b71d850bfea1ab83c5eefa8da9deff34377fafc4046387\n",
      "Starting extraction for link 3606: https://www.zoopla.co.uk/for-sale/details/64742107/?search_identifier=c87f891533eff87099b71d850bfea1ab83c5eefa8da9deff34377fafc4046387\n"
     ]
    },
    {
     "name": "stderr",
     "output_type": "stream",
     "text": [
      "could not detect version_main.therefore, we are assuming it is chrome 108 or higher\n"
     ]
    },
    {
     "name": "stdout",
     "output_type": "stream",
     "text": [
      "Saved to db successfully\n",
      "Done with link 3606: https://www.zoopla.co.uk/for-sale/details/64742107/?search_identifier=c87f891533eff87099b71d850bfea1ab83c5eefa8da9deff34377fafc4046387\n",
      "Starting extraction for link 3607: https://www.zoopla.co.uk/for-sale/details/64739532/?search_identifier=c87f891533eff87099b71d850bfea1ab83c5eefa8da9deff34377fafc4046387\n"
     ]
    },
    {
     "name": "stderr",
     "output_type": "stream",
     "text": [
      "could not detect version_main.therefore, we are assuming it is chrome 108 or higher\n"
     ]
    },
    {
     "name": "stdout",
     "output_type": "stream",
     "text": [
      "Saved to db successfully\n",
      "Done with link 3607: https://www.zoopla.co.uk/for-sale/details/64739532/?search_identifier=c87f891533eff87099b71d850bfea1ab83c5eefa8da9deff34377fafc4046387\n",
      "Starting extraction for link 3608: https://www.zoopla.co.uk/for-sale/details/64718134/?search_identifier=c87f891533eff87099b71d850bfea1ab83c5eefa8da9deff34377fafc4046387\n"
     ]
    },
    {
     "name": "stderr",
     "output_type": "stream",
     "text": [
      "could not detect version_main.therefore, we are assuming it is chrome 108 or higher\n"
     ]
    },
    {
     "name": "stdout",
     "output_type": "stream",
     "text": [
      "Saved to db successfully\n",
      "Done with link 3608: https://www.zoopla.co.uk/for-sale/details/64718134/?search_identifier=c87f891533eff87099b71d850bfea1ab83c5eefa8da9deff34377fafc4046387\n",
      "Starting extraction for link 3609: https://www.zoopla.co.uk/for-sale/details/60429828/?search_identifier=c87f891533eff87099b71d850bfea1ab83c5eefa8da9deff34377fafc4046387\n"
     ]
    },
    {
     "name": "stderr",
     "output_type": "stream",
     "text": [
      "could not detect version_main.therefore, we are assuming it is chrome 108 or higher\n"
     ]
    },
    {
     "name": "stdout",
     "output_type": "stream",
     "text": [
      "Saved to db successfully\n",
      "Done with link 3609: https://www.zoopla.co.uk/for-sale/details/60429828/?search_identifier=c87f891533eff87099b71d850bfea1ab83c5eefa8da9deff34377fafc4046387\n",
      "Starting extraction for link 3610: https://www.zoopla.co.uk/for-sale/details/64645066/?search_identifier=c87f891533eff87099b71d850bfea1ab83c5eefa8da9deff34377fafc4046387\n"
     ]
    },
    {
     "name": "stderr",
     "output_type": "stream",
     "text": [
      "could not detect version_main.therefore, we are assuming it is chrome 108 or higher\n"
     ]
    },
    {
     "name": "stdout",
     "output_type": "stream",
     "text": [
      "Saved to db successfully\n",
      "Done with link 3610: https://www.zoopla.co.uk/for-sale/details/64645066/?search_identifier=c87f891533eff87099b71d850bfea1ab83c5eefa8da9deff34377fafc4046387\n",
      "Starting extraction for link 3611: https://www.zoopla.co.uk/for-sale/details/64621952/?search_identifier=c87f891533eff87099b71d850bfea1ab83c5eefa8da9deff34377fafc4046387\n"
     ]
    },
    {
     "name": "stderr",
     "output_type": "stream",
     "text": [
      "could not detect version_main.therefore, we are assuming it is chrome 108 or higher\n"
     ]
    },
    {
     "name": "stdout",
     "output_type": "stream",
     "text": [
      "Saved to db successfully\n",
      "Done with link 3611: https://www.zoopla.co.uk/for-sale/details/64621952/?search_identifier=c87f891533eff87099b71d850bfea1ab83c5eefa8da9deff34377fafc4046387\n",
      "Starting extraction for link 3612: https://www.zoopla.co.uk/for-sale/details/62222938/?search_identifier=c87f891533eff87099b71d850bfea1ab83c5eefa8da9deff34377fafc4046387\n"
     ]
    },
    {
     "name": "stderr",
     "output_type": "stream",
     "text": [
      "could not detect version_main.therefore, we are assuming it is chrome 108 or higher\n"
     ]
    },
    {
     "name": "stdout",
     "output_type": "stream",
     "text": [
      "Saved to db successfully\n",
      "Done with link 3612: https://www.zoopla.co.uk/for-sale/details/62222938/?search_identifier=c87f891533eff87099b71d850bfea1ab83c5eefa8da9deff34377fafc4046387\n",
      "Starting extraction for link 3613: https://www.zoopla.co.uk/for-sale/details/62285874/?search_identifier=c87f891533eff87099b71d850bfea1ab83c5eefa8da9deff34377fafc4046387\n"
     ]
    },
    {
     "name": "stderr",
     "output_type": "stream",
     "text": [
      "could not detect version_main.therefore, we are assuming it is chrome 108 or higher\n"
     ]
    },
    {
     "name": "stdout",
     "output_type": "stream",
     "text": [
      "Saved to db successfully\n",
      "Done with link 3613: https://www.zoopla.co.uk/for-sale/details/62285874/?search_identifier=c87f891533eff87099b71d850bfea1ab83c5eefa8da9deff34377fafc4046387\n",
      "Starting extraction for link 3614: https://www.zoopla.co.uk/new-homes/details/64597146/?search_identifier=c87f891533eff87099b71d850bfea1ab83c5eefa8da9deff34377fafc4046387\n"
     ]
    },
    {
     "name": "stderr",
     "output_type": "stream",
     "text": [
      "could not detect version_main.therefore, we are assuming it is chrome 108 or higher\n"
     ]
    },
    {
     "name": "stdout",
     "output_type": "stream",
     "text": [
      "Saved to db successfully\n",
      "Done with link 3614: https://www.zoopla.co.uk/new-homes/details/64597146/?search_identifier=c87f891533eff87099b71d850bfea1ab83c5eefa8da9deff34377fafc4046387\n",
      "Starting extraction for link 3615: https://www.zoopla.co.uk/new-homes/details/64597080/?search_identifier=c87f891533eff87099b71d850bfea1ab83c5eefa8da9deff34377fafc4046387\n"
     ]
    },
    {
     "name": "stderr",
     "output_type": "stream",
     "text": [
      "could not detect version_main.therefore, we are assuming it is chrome 108 or higher\n"
     ]
    },
    {
     "name": "stdout",
     "output_type": "stream",
     "text": [
      "Saved to db successfully\n",
      "Done with link 3615: https://www.zoopla.co.uk/new-homes/details/64597080/?search_identifier=c87f891533eff87099b71d850bfea1ab83c5eefa8da9deff34377fafc4046387\n",
      "Starting extraction for link 3616: https://www.zoopla.co.uk/new-homes/details/64596952/?search_identifier=c87f891533eff87099b71d850bfea1ab83c5eefa8da9deff34377fafc4046387\n"
     ]
    },
    {
     "name": "stderr",
     "output_type": "stream",
     "text": [
      "could not detect version_main.therefore, we are assuming it is chrome 108 or higher\n"
     ]
    },
    {
     "name": "stdout",
     "output_type": "stream",
     "text": [
      "Saved to db successfully\n",
      "Done with link 3616: https://www.zoopla.co.uk/new-homes/details/64596952/?search_identifier=c87f891533eff87099b71d850bfea1ab83c5eefa8da9deff34377fafc4046387\n",
      "Starting extraction for link 3617: https://www.zoopla.co.uk/new-homes/details/64596889/?search_identifier=490810f0c936364594cb5349b2fb068e62ab947689d82c284e30de85e5428cb1\n"
     ]
    },
    {
     "name": "stderr",
     "output_type": "stream",
     "text": [
      "could not detect version_main.therefore, we are assuming it is chrome 108 or higher\n"
     ]
    },
    {
     "name": "stdout",
     "output_type": "stream",
     "text": [
      "Saved to db successfully\n",
      "Done with link 3617: https://www.zoopla.co.uk/new-homes/details/64596889/?search_identifier=490810f0c936364594cb5349b2fb068e62ab947689d82c284e30de85e5428cb1\n",
      "Starting extraction for link 3618: https://www.zoopla.co.uk/new-homes/details/64596721/?search_identifier=490810f0c936364594cb5349b2fb068e62ab947689d82c284e30de85e5428cb1\n"
     ]
    },
    {
     "name": "stderr",
     "output_type": "stream",
     "text": [
      "could not detect version_main.therefore, we are assuming it is chrome 108 or higher\n"
     ]
    },
    {
     "name": "stdout",
     "output_type": "stream",
     "text": [
      "Saved to db successfully\n",
      "Done with link 3618: https://www.zoopla.co.uk/new-homes/details/64596721/?search_identifier=490810f0c936364594cb5349b2fb068e62ab947689d82c284e30de85e5428cb1\n",
      "Starting extraction for link 3619: https://www.zoopla.co.uk/new-homes/details/64559441/?search_identifier=490810f0c936364594cb5349b2fb068e62ab947689d82c284e30de85e5428cb1\n"
     ]
    },
    {
     "name": "stderr",
     "output_type": "stream",
     "text": [
      "could not detect version_main.therefore, we are assuming it is chrome 108 or higher\n"
     ]
    },
    {
     "name": "stdout",
     "output_type": "stream",
     "text": [
      "Saved to db successfully\n",
      "Done with link 3619: https://www.zoopla.co.uk/new-homes/details/64559441/?search_identifier=490810f0c936364594cb5349b2fb068e62ab947689d82c284e30de85e5428cb1\n",
      "Starting extraction for link 3620: https://www.zoopla.co.uk/new-homes/details/64559181/?search_identifier=490810f0c936364594cb5349b2fb068e62ab947689d82c284e30de85e5428cb1\n"
     ]
    },
    {
     "name": "stderr",
     "output_type": "stream",
     "text": [
      "could not detect version_main.therefore, we are assuming it is chrome 108 or higher\n"
     ]
    },
    {
     "name": "stdout",
     "output_type": "stream",
     "text": [
      "Saved to db successfully\n",
      "Done with link 3620: https://www.zoopla.co.uk/new-homes/details/64559181/?search_identifier=490810f0c936364594cb5349b2fb068e62ab947689d82c284e30de85e5428cb1\n",
      "Starting extraction for link 3621: https://www.zoopla.co.uk/for-sale/details/64546388/?search_identifier=490810f0c936364594cb5349b2fb068e62ab947689d82c284e30de85e5428cb1\n"
     ]
    },
    {
     "name": "stderr",
     "output_type": "stream",
     "text": [
      "could not detect version_main.therefore, we are assuming it is chrome 108 or higher\n"
     ]
    },
    {
     "name": "stdout",
     "output_type": "stream",
     "text": [
      "Saved to db successfully\n",
      "Done with link 3621: https://www.zoopla.co.uk/for-sale/details/64546388/?search_identifier=490810f0c936364594cb5349b2fb068e62ab947689d82c284e30de85e5428cb1\n",
      "Starting extraction for link 3622: https://www.zoopla.co.uk/for-sale/details/64540541/?search_identifier=490810f0c936364594cb5349b2fb068e62ab947689d82c284e30de85e5428cb1\n"
     ]
    },
    {
     "name": "stderr",
     "output_type": "stream",
     "text": [
      "could not detect version_main.therefore, we are assuming it is chrome 108 or higher\n"
     ]
    },
    {
     "name": "stdout",
     "output_type": "stream",
     "text": [
      "Saved to db successfully\n",
      "Done with link 3622: https://www.zoopla.co.uk/for-sale/details/64540541/?search_identifier=490810f0c936364594cb5349b2fb068e62ab947689d82c284e30de85e5428cb1\n",
      "Starting extraction for link 3623: https://www.zoopla.co.uk/for-sale/details/64539896/?search_identifier=490810f0c936364594cb5349b2fb068e62ab947689d82c284e30de85e5428cb1\n"
     ]
    },
    {
     "name": "stderr",
     "output_type": "stream",
     "text": [
      "could not detect version_main.therefore, we are assuming it is chrome 108 or higher\n"
     ]
    },
    {
     "name": "stdout",
     "output_type": "stream",
     "text": [
      "Saved to db successfully\n",
      "Done with link 3623: https://www.zoopla.co.uk/for-sale/details/64539896/?search_identifier=490810f0c936364594cb5349b2fb068e62ab947689d82c284e30de85e5428cb1\n",
      "Starting extraction for link 3624: https://www.zoopla.co.uk/for-sale/details/64533939/?search_identifier=490810f0c936364594cb5349b2fb068e62ab947689d82c284e30de85e5428cb1\n"
     ]
    },
    {
     "name": "stderr",
     "output_type": "stream",
     "text": [
      "could not detect version_main.therefore, we are assuming it is chrome 108 or higher\n"
     ]
    },
    {
     "name": "stdout",
     "output_type": "stream",
     "text": [
      "Saved to db successfully\n",
      "Done with link 3624: https://www.zoopla.co.uk/for-sale/details/64533939/?search_identifier=490810f0c936364594cb5349b2fb068e62ab947689d82c284e30de85e5428cb1\n",
      "Starting extraction for link 3625: https://www.zoopla.co.uk/new-homes/details/64521115/?search_identifier=490810f0c936364594cb5349b2fb068e62ab947689d82c284e30de85e5428cb1\n"
     ]
    },
    {
     "name": "stderr",
     "output_type": "stream",
     "text": [
      "could not detect version_main.therefore, we are assuming it is chrome 108 or higher\n"
     ]
    },
    {
     "name": "stdout",
     "output_type": "stream",
     "text": [
      "Saved to db successfully\n",
      "Done with link 3625: https://www.zoopla.co.uk/new-homes/details/64521115/?search_identifier=490810f0c936364594cb5349b2fb068e62ab947689d82c284e30de85e5428cb1\n",
      "Starting extraction for link 3626: https://www.zoopla.co.uk/for-sale/details/64507315/?search_identifier=490810f0c936364594cb5349b2fb068e62ab947689d82c284e30de85e5428cb1\n"
     ]
    },
    {
     "name": "stderr",
     "output_type": "stream",
     "text": [
      "could not detect version_main.therefore, we are assuming it is chrome 108 or higher\n"
     ]
    },
    {
     "name": "stdout",
     "output_type": "stream",
     "text": [
      "Saved to db successfully\n",
      "Done with link 3626: https://www.zoopla.co.uk/for-sale/details/64507315/?search_identifier=490810f0c936364594cb5349b2fb068e62ab947689d82c284e30de85e5428cb1\n",
      "Starting extraction for link 3627: https://www.zoopla.co.uk/new-homes/details/64496546/?search_identifier=490810f0c936364594cb5349b2fb068e62ab947689d82c284e30de85e5428cb1\n"
     ]
    },
    {
     "name": "stderr",
     "output_type": "stream",
     "text": [
      "could not detect version_main.therefore, we are assuming it is chrome 108 or higher\n"
     ]
    },
    {
     "name": "stdout",
     "output_type": "stream",
     "text": [
      "Saved to db successfully\n",
      "Done with link 3627: https://www.zoopla.co.uk/new-homes/details/64496546/?search_identifier=490810f0c936364594cb5349b2fb068e62ab947689d82c284e30de85e5428cb1\n",
      "Starting extraction for link 3628: https://www.zoopla.co.uk/for-sale/details/64492199/?search_identifier=490810f0c936364594cb5349b2fb068e62ab947689d82c284e30de85e5428cb1\n"
     ]
    },
    {
     "name": "stderr",
     "output_type": "stream",
     "text": [
      "could not detect version_main.therefore, we are assuming it is chrome 108 or higher\n"
     ]
    },
    {
     "name": "stdout",
     "output_type": "stream",
     "text": [
      "Saved to db successfully\n",
      "Done with link 3628: https://www.zoopla.co.uk/for-sale/details/64492199/?search_identifier=490810f0c936364594cb5349b2fb068e62ab947689d82c284e30de85e5428cb1\n",
      "Starting extraction for link 3629: https://www.zoopla.co.uk/for-sale/details/64473006/?search_identifier=490810f0c936364594cb5349b2fb068e62ab947689d82c284e30de85e5428cb1\n"
     ]
    },
    {
     "name": "stderr",
     "output_type": "stream",
     "text": [
      "could not detect version_main.therefore, we are assuming it is chrome 108 or higher\n"
     ]
    },
    {
     "name": "stdout",
     "output_type": "stream",
     "text": [
      "Saved to db successfully\n",
      "Done with link 3629: https://www.zoopla.co.uk/for-sale/details/64473006/?search_identifier=490810f0c936364594cb5349b2fb068e62ab947689d82c284e30de85e5428cb1\n",
      "Starting extraction for link 3630: https://www.zoopla.co.uk/for-sale/details/64468078/?search_identifier=490810f0c936364594cb5349b2fb068e62ab947689d82c284e30de85e5428cb1\n"
     ]
    },
    {
     "name": "stderr",
     "output_type": "stream",
     "text": [
      "could not detect version_main.therefore, we are assuming it is chrome 108 or higher\n"
     ]
    },
    {
     "name": "stdout",
     "output_type": "stream",
     "text": [
      "Saved to db successfully\n",
      "Done with link 3630: https://www.zoopla.co.uk/for-sale/details/64468078/?search_identifier=490810f0c936364594cb5349b2fb068e62ab947689d82c284e30de85e5428cb1\n",
      "Starting extraction for link 3631: https://www.zoopla.co.uk/for-sale/details/64459711/?search_identifier=490810f0c936364594cb5349b2fb068e62ab947689d82c284e30de85e5428cb1\n"
     ]
    },
    {
     "name": "stderr",
     "output_type": "stream",
     "text": [
      "could not detect version_main.therefore, we are assuming it is chrome 108 or higher\n"
     ]
    },
    {
     "name": "stdout",
     "output_type": "stream",
     "text": [
      "Saved to db successfully\n",
      "Done with link 3631: https://www.zoopla.co.uk/for-sale/details/64459711/?search_identifier=490810f0c936364594cb5349b2fb068e62ab947689d82c284e30de85e5428cb1\n",
      "Starting extraction for link 3632: https://www.zoopla.co.uk/for-sale/details/64265532/?search_identifier=490810f0c936364594cb5349b2fb068e62ab947689d82c284e30de85e5428cb1\n"
     ]
    },
    {
     "name": "stderr",
     "output_type": "stream",
     "text": [
      "could not detect version_main.therefore, we are assuming it is chrome 108 or higher\n"
     ]
    },
    {
     "name": "stdout",
     "output_type": "stream",
     "text": [
      "Saved to db successfully\n",
      "Done with link 3632: https://www.zoopla.co.uk/for-sale/details/64265532/?search_identifier=490810f0c936364594cb5349b2fb068e62ab947689d82c284e30de85e5428cb1\n",
      "Starting extraction for link 3633: https://www.zoopla.co.uk/new-homes/details/64234539/?search_identifier=490810f0c936364594cb5349b2fb068e62ab947689d82c284e30de85e5428cb1\n"
     ]
    },
    {
     "name": "stderr",
     "output_type": "stream",
     "text": [
      "could not detect version_main.therefore, we are assuming it is chrome 108 or higher\n"
     ]
    },
    {
     "name": "stdout",
     "output_type": "stream",
     "text": [
      "Saved to db successfully\n",
      "Done with link 3633: https://www.zoopla.co.uk/new-homes/details/64234539/?search_identifier=490810f0c936364594cb5349b2fb068e62ab947689d82c284e30de85e5428cb1\n",
      "Starting extraction for link 3634: https://www.zoopla.co.uk/new-homes/details/64234419/?search_identifier=490810f0c936364594cb5349b2fb068e62ab947689d82c284e30de85e5428cb1\n"
     ]
    },
    {
     "name": "stderr",
     "output_type": "stream",
     "text": [
      "could not detect version_main.therefore, we are assuming it is chrome 108 or higher\n"
     ]
    },
    {
     "name": "stdout",
     "output_type": "stream",
     "text": [
      "Saved to db successfully\n",
      "Done with link 3634: https://www.zoopla.co.uk/new-homes/details/64234419/?search_identifier=490810f0c936364594cb5349b2fb068e62ab947689d82c284e30de85e5428cb1\n",
      "Starting extraction for link 3635: https://www.zoopla.co.uk/new-homes/details/64234341/?search_identifier=490810f0c936364594cb5349b2fb068e62ab947689d82c284e30de85e5428cb1\n"
     ]
    },
    {
     "name": "stderr",
     "output_type": "stream",
     "text": [
      "could not detect version_main.therefore, we are assuming it is chrome 108 or higher\n"
     ]
    },
    {
     "name": "stdout",
     "output_type": "stream",
     "text": [
      "Saved to db successfully\n",
      "Done with link 3635: https://www.zoopla.co.uk/new-homes/details/64234341/?search_identifier=490810f0c936364594cb5349b2fb068e62ab947689d82c284e30de85e5428cb1\n",
      "Starting extraction for link 3636: https://www.zoopla.co.uk/new-homes/details/64234296/?search_identifier=490810f0c936364594cb5349b2fb068e62ab947689d82c284e30de85e5428cb1\n"
     ]
    },
    {
     "name": "stderr",
     "output_type": "stream",
     "text": [
      "could not detect version_main.therefore, we are assuming it is chrome 108 or higher\n"
     ]
    },
    {
     "name": "stdout",
     "output_type": "stream",
     "text": [
      "Saved to db successfully\n",
      "Done with link 3636: https://www.zoopla.co.uk/new-homes/details/64234296/?search_identifier=490810f0c936364594cb5349b2fb068e62ab947689d82c284e30de85e5428cb1\n",
      "Starting extraction for link 3637: https://www.zoopla.co.uk/new-homes/details/64234245/?search_identifier=490810f0c936364594cb5349b2fb068e62ab947689d82c284e30de85e5428cb1\n"
     ]
    },
    {
     "name": "stderr",
     "output_type": "stream",
     "text": [
      "could not detect version_main.therefore, we are assuming it is chrome 108 or higher\n"
     ]
    },
    {
     "name": "stdout",
     "output_type": "stream",
     "text": [
      "Saved to db successfully\n",
      "Done with link 3637: https://www.zoopla.co.uk/new-homes/details/64234245/?search_identifier=490810f0c936364594cb5349b2fb068e62ab947689d82c284e30de85e5428cb1\n",
      "Starting extraction for link 3638: https://www.zoopla.co.uk/for-sale/details/64212058/?search_identifier=490810f0c936364594cb5349b2fb068e62ab947689d82c284e30de85e5428cb1\n"
     ]
    },
    {
     "name": "stderr",
     "output_type": "stream",
     "text": [
      "could not detect version_main.therefore, we are assuming it is chrome 108 or higher\n"
     ]
    },
    {
     "name": "stdout",
     "output_type": "stream",
     "text": [
      "Saved to db successfully\n",
      "Done with link 3638: https://www.zoopla.co.uk/for-sale/details/64212058/?search_identifier=490810f0c936364594cb5349b2fb068e62ab947689d82c284e30de85e5428cb1\n",
      "Starting extraction for link 3639: https://www.zoopla.co.uk/for-sale/details/64206148/?search_identifier=490810f0c936364594cb5349b2fb068e62ab947689d82c284e30de85e5428cb1\n"
     ]
    },
    {
     "name": "stderr",
     "output_type": "stream",
     "text": [
      "could not detect version_main.therefore, we are assuming it is chrome 108 or higher\n"
     ]
    },
    {
     "name": "stdout",
     "output_type": "stream",
     "text": [
      "Saved to db successfully\n",
      "Done with link 3639: https://www.zoopla.co.uk/for-sale/details/64206148/?search_identifier=490810f0c936364594cb5349b2fb068e62ab947689d82c284e30de85e5428cb1\n",
      "Starting extraction for link 3640: https://www.zoopla.co.uk/for-sale/details/64028319/?search_identifier=490810f0c936364594cb5349b2fb068e62ab947689d82c284e30de85e5428cb1\n"
     ]
    },
    {
     "name": "stderr",
     "output_type": "stream",
     "text": [
      "could not detect version_main.therefore, we are assuming it is chrome 108 or higher\n"
     ]
    },
    {
     "name": "stdout",
     "output_type": "stream",
     "text": [
      "Saved to db successfully\n",
      "Done with link 3640: https://www.zoopla.co.uk/for-sale/details/64028319/?search_identifier=490810f0c936364594cb5349b2fb068e62ab947689d82c284e30de85e5428cb1\n",
      "Starting extraction for link 3641: https://www.zoopla.co.uk/new-homes/details/63975059/?search_identifier=490810f0c936364594cb5349b2fb068e62ab947689d82c284e30de85e5428cb1\n"
     ]
    },
    {
     "name": "stderr",
     "output_type": "stream",
     "text": [
      "could not detect version_main.therefore, we are assuming it is chrome 108 or higher\n"
     ]
    },
    {
     "name": "stdout",
     "output_type": "stream",
     "text": [
      "Saved to db successfully\n",
      "Done with link 3641: https://www.zoopla.co.uk/new-homes/details/63975059/?search_identifier=490810f0c936364594cb5349b2fb068e62ab947689d82c284e30de85e5428cb1\n",
      "Starting extraction for link 3642: https://www.zoopla.co.uk/new-homes/details/63952938/?search_identifier=623a383418fdd58593471c0ccddbac787503efbecfc35099f388d72232b3c0f9\n"
     ]
    },
    {
     "name": "stderr",
     "output_type": "stream",
     "text": [
      "could not detect version_main.therefore, we are assuming it is chrome 108 or higher\n"
     ]
    },
    {
     "name": "stdout",
     "output_type": "stream",
     "text": [
      "Saved to db successfully\n",
      "Done with link 3642: https://www.zoopla.co.uk/new-homes/details/63952938/?search_identifier=623a383418fdd58593471c0ccddbac787503efbecfc35099f388d72232b3c0f9\n",
      "Starting extraction for link 3643: https://www.zoopla.co.uk/for-sale/details/63926757/?search_identifier=623a383418fdd58593471c0ccddbac787503efbecfc35099f388d72232b3c0f9\n"
     ]
    },
    {
     "name": "stderr",
     "output_type": "stream",
     "text": [
      "could not detect version_main.therefore, we are assuming it is chrome 108 or higher\n"
     ]
    },
    {
     "name": "stdout",
     "output_type": "stream",
     "text": [
      "Saved to db successfully\n",
      "Done with link 3643: https://www.zoopla.co.uk/for-sale/details/63926757/?search_identifier=623a383418fdd58593471c0ccddbac787503efbecfc35099f388d72232b3c0f9\n",
      "Starting extraction for link 3644: https://www.zoopla.co.uk/for-sale/details/62514952/?search_identifier=623a383418fdd58593471c0ccddbac787503efbecfc35099f388d72232b3c0f9\n"
     ]
    },
    {
     "name": "stderr",
     "output_type": "stream",
     "text": [
      "could not detect version_main.therefore, we are assuming it is chrome 108 or higher\n"
     ]
    },
    {
     "name": "stdout",
     "output_type": "stream",
     "text": [
      "Saved to db successfully\n",
      "Done with link 3644: https://www.zoopla.co.uk/for-sale/details/62514952/?search_identifier=623a383418fdd58593471c0ccddbac787503efbecfc35099f388d72232b3c0f9\n",
      "Starting extraction for link 3645: https://www.zoopla.co.uk/for-sale/details/58319029/?search_identifier=623a383418fdd58593471c0ccddbac787503efbecfc35099f388d72232b3c0f9\n"
     ]
    },
    {
     "name": "stderr",
     "output_type": "stream",
     "text": [
      "could not detect version_main.therefore, we are assuming it is chrome 108 or higher\n"
     ]
    },
    {
     "name": "stdout",
     "output_type": "stream",
     "text": [
      "Saved to db successfully\n",
      "Done with link 3645: https://www.zoopla.co.uk/for-sale/details/58319029/?search_identifier=623a383418fdd58593471c0ccddbac787503efbecfc35099f388d72232b3c0f9\n",
      "Starting extraction for link 3646: https://www.zoopla.co.uk/for-sale/details/62220199/?search_identifier=623a383418fdd58593471c0ccddbac787503efbecfc35099f388d72232b3c0f9\n"
     ]
    },
    {
     "name": "stderr",
     "output_type": "stream",
     "text": [
      "could not detect version_main.therefore, we are assuming it is chrome 108 or higher\n"
     ]
    },
    {
     "name": "stdout",
     "output_type": "stream",
     "text": [
      "Saved to db successfully\n",
      "Done with link 3646: https://www.zoopla.co.uk/for-sale/details/62220199/?search_identifier=623a383418fdd58593471c0ccddbac787503efbecfc35099f388d72232b3c0f9\n",
      "Starting extraction for link 3647: https://www.zoopla.co.uk/for-sale/details/62050934/?search_identifier=623a383418fdd58593471c0ccddbac787503efbecfc35099f388d72232b3c0f9\n"
     ]
    },
    {
     "name": "stderr",
     "output_type": "stream",
     "text": [
      "could not detect version_main.therefore, we are assuming it is chrome 108 or higher\n"
     ]
    },
    {
     "name": "stdout",
     "output_type": "stream",
     "text": [
      "Saved to db successfully\n",
      "Done with link 3647: https://www.zoopla.co.uk/for-sale/details/62050934/?search_identifier=623a383418fdd58593471c0ccddbac787503efbecfc35099f388d72232b3c0f9\n",
      "Starting extraction for link 3648: https://www.zoopla.co.uk/for-sale/details/65213961/?search_identifier=0e73d93973476b1a6a9ac404b9a1e9d4f463af92fc0dcc164cc4f48d0347bd00\n"
     ]
    },
    {
     "name": "stderr",
     "output_type": "stream",
     "text": [
      "could not detect version_main.therefore, we are assuming it is chrome 108 or higher\n"
     ]
    },
    {
     "name": "stdout",
     "output_type": "stream",
     "text": [
      "Saved to db successfully\n",
      "Done with link 3648: https://www.zoopla.co.uk/for-sale/details/65213961/?search_identifier=0e73d93973476b1a6a9ac404b9a1e9d4f463af92fc0dcc164cc4f48d0347bd00\n",
      "Starting extraction for link 3649: https://www.zoopla.co.uk/for-sale/details/65212986/?search_identifier=0e73d93973476b1a6a9ac404b9a1e9d4f463af92fc0dcc164cc4f48d0347bd00\n"
     ]
    },
    {
     "name": "stderr",
     "output_type": "stream",
     "text": [
      "could not detect version_main.therefore, we are assuming it is chrome 108 or higher\n"
     ]
    },
    {
     "name": "stdout",
     "output_type": "stream",
     "text": [
      "Saved to db successfully\n",
      "Done with link 3649: https://www.zoopla.co.uk/for-sale/details/65212986/?search_identifier=0e73d93973476b1a6a9ac404b9a1e9d4f463af92fc0dcc164cc4f48d0347bd00\n",
      "Starting extraction for link 3650: https://www.zoopla.co.uk/for-sale/details/65212299/?search_identifier=0e73d93973476b1a6a9ac404b9a1e9d4f463af92fc0dcc164cc4f48d0347bd00\n"
     ]
    },
    {
     "name": "stderr",
     "output_type": "stream",
     "text": [
      "could not detect version_main.therefore, we are assuming it is chrome 108 or higher\n"
     ]
    },
    {
     "name": "stdout",
     "output_type": "stream",
     "text": [
      "Saved to db successfully\n",
      "Done with link 3650: https://www.zoopla.co.uk/for-sale/details/65212299/?search_identifier=0e73d93973476b1a6a9ac404b9a1e9d4f463af92fc0dcc164cc4f48d0347bd00\n",
      "Starting extraction for link 3651: https://www.zoopla.co.uk/for-sale/details/65189945/?search_identifier=0e73d93973476b1a6a9ac404b9a1e9d4f463af92fc0dcc164cc4f48d0347bd00\n"
     ]
    },
    {
     "name": "stderr",
     "output_type": "stream",
     "text": [
      "could not detect version_main.therefore, we are assuming it is chrome 108 or higher\n"
     ]
    },
    {
     "name": "stdout",
     "output_type": "stream",
     "text": [
      "Saved to db successfully\n",
      "Done with link 3651: https://www.zoopla.co.uk/for-sale/details/65189945/?search_identifier=0e73d93973476b1a6a9ac404b9a1e9d4f463af92fc0dcc164cc4f48d0347bd00\n",
      "Starting extraction for link 3652: https://www.zoopla.co.uk/for-sale/details/65178911/?search_identifier=0e73d93973476b1a6a9ac404b9a1e9d4f463af92fc0dcc164cc4f48d0347bd00\n"
     ]
    },
    {
     "name": "stderr",
     "output_type": "stream",
     "text": [
      "could not detect version_main.therefore, we are assuming it is chrome 108 or higher\n"
     ]
    },
    {
     "name": "stdout",
     "output_type": "stream",
     "text": [
      "Saved to db successfully\n",
      "Done with link 3652: https://www.zoopla.co.uk/for-sale/details/65178911/?search_identifier=0e73d93973476b1a6a9ac404b9a1e9d4f463af92fc0dcc164cc4f48d0347bd00\n",
      "Starting extraction for link 3653: https://www.zoopla.co.uk/for-sale/details/65177961/?search_identifier=0e73d93973476b1a6a9ac404b9a1e9d4f463af92fc0dcc164cc4f48d0347bd00\n"
     ]
    },
    {
     "name": "stderr",
     "output_type": "stream",
     "text": [
      "could not detect version_main.therefore, we are assuming it is chrome 108 or higher\n"
     ]
    },
    {
     "name": "stdout",
     "output_type": "stream",
     "text": [
      "Saved to db successfully\n",
      "Done with link 3653: https://www.zoopla.co.uk/for-sale/details/65177961/?search_identifier=0e73d93973476b1a6a9ac404b9a1e9d4f463af92fc0dcc164cc4f48d0347bd00\n",
      "Starting extraction for link 3654: https://www.zoopla.co.uk/for-sale/details/65174567/?search_identifier=0e73d93973476b1a6a9ac404b9a1e9d4f463af92fc0dcc164cc4f48d0347bd00\n"
     ]
    },
    {
     "name": "stderr",
     "output_type": "stream",
     "text": [
      "could not detect version_main.therefore, we are assuming it is chrome 108 or higher\n"
     ]
    },
    {
     "name": "stdout",
     "output_type": "stream",
     "text": [
      "Saved to db successfully\n",
      "Done with link 3654: https://www.zoopla.co.uk/for-sale/details/65174567/?search_identifier=0e73d93973476b1a6a9ac404b9a1e9d4f463af92fc0dcc164cc4f48d0347bd00\n",
      "Starting extraction for link 3655: https://www.zoopla.co.uk/for-sale/details/65174489/?search_identifier=0e73d93973476b1a6a9ac404b9a1e9d4f463af92fc0dcc164cc4f48d0347bd00\n"
     ]
    },
    {
     "name": "stderr",
     "output_type": "stream",
     "text": [
      "could not detect version_main.therefore, we are assuming it is chrome 108 or higher\n"
     ]
    },
    {
     "name": "stdout",
     "output_type": "stream",
     "text": [
      "Saved to db successfully\n",
      "Done with link 3655: https://www.zoopla.co.uk/for-sale/details/65174489/?search_identifier=0e73d93973476b1a6a9ac404b9a1e9d4f463af92fc0dcc164cc4f48d0347bd00\n",
      "Starting extraction for link 3656: https://www.zoopla.co.uk/for-sale/details/65165922/?search_identifier=0e73d93973476b1a6a9ac404b9a1e9d4f463af92fc0dcc164cc4f48d0347bd00\n"
     ]
    },
    {
     "name": "stderr",
     "output_type": "stream",
     "text": [
      "could not detect version_main.therefore, we are assuming it is chrome 108 or higher\n"
     ]
    },
    {
     "name": "stdout",
     "output_type": "stream",
     "text": [
      "Saved to db successfully\n",
      "Done with link 3656: https://www.zoopla.co.uk/for-sale/details/65165922/?search_identifier=0e73d93973476b1a6a9ac404b9a1e9d4f463af92fc0dcc164cc4f48d0347bd00\n",
      "Starting extraction for link 3657: https://www.zoopla.co.uk/for-sale/details/65161415/?search_identifier=0e73d93973476b1a6a9ac404b9a1e9d4f463af92fc0dcc164cc4f48d0347bd00\n"
     ]
    },
    {
     "name": "stderr",
     "output_type": "stream",
     "text": [
      "could not detect version_main.therefore, we are assuming it is chrome 108 or higher\n"
     ]
    },
    {
     "name": "stdout",
     "output_type": "stream",
     "text": [
      "Saved to db successfully\n",
      "Done with link 3657: https://www.zoopla.co.uk/for-sale/details/65161415/?search_identifier=0e73d93973476b1a6a9ac404b9a1e9d4f463af92fc0dcc164cc4f48d0347bd00\n",
      "Starting extraction for link 3658: https://www.zoopla.co.uk/for-sale/details/65161387/?search_identifier=0e73d93973476b1a6a9ac404b9a1e9d4f463af92fc0dcc164cc4f48d0347bd00\n"
     ]
    },
    {
     "name": "stderr",
     "output_type": "stream",
     "text": [
      "could not detect version_main.therefore, we are assuming it is chrome 108 or higher\n"
     ]
    },
    {
     "name": "stdout",
     "output_type": "stream",
     "text": [
      "Saved to db successfully\n",
      "Done with link 3658: https://www.zoopla.co.uk/for-sale/details/65161387/?search_identifier=0e73d93973476b1a6a9ac404b9a1e9d4f463af92fc0dcc164cc4f48d0347bd00\n",
      "Starting extraction for link 3659: https://www.zoopla.co.uk/for-sale/details/65158481/?search_identifier=0e73d93973476b1a6a9ac404b9a1e9d4f463af92fc0dcc164cc4f48d0347bd00\n"
     ]
    },
    {
     "name": "stderr",
     "output_type": "stream",
     "text": [
      "could not detect version_main.therefore, we are assuming it is chrome 108 or higher\n"
     ]
    },
    {
     "name": "stdout",
     "output_type": "stream",
     "text": [
      "Saved to db successfully\n",
      "Done with link 3659: https://www.zoopla.co.uk/for-sale/details/65158481/?search_identifier=0e73d93973476b1a6a9ac404b9a1e9d4f463af92fc0dcc164cc4f48d0347bd00\n",
      "Starting extraction for link 3660: https://www.zoopla.co.uk/for-sale/details/65145376/?search_identifier=0e73d93973476b1a6a9ac404b9a1e9d4f463af92fc0dcc164cc4f48d0347bd00\n"
     ]
    },
    {
     "name": "stderr",
     "output_type": "stream",
     "text": [
      "could not detect version_main.therefore, we are assuming it is chrome 108 or higher\n"
     ]
    },
    {
     "name": "stdout",
     "output_type": "stream",
     "text": [
      "Saved to db successfully\n",
      "Done with link 3660: https://www.zoopla.co.uk/for-sale/details/65145376/?search_identifier=0e73d93973476b1a6a9ac404b9a1e9d4f463af92fc0dcc164cc4f48d0347bd00\n",
      "Starting extraction for link 3661: https://www.zoopla.co.uk/for-sale/details/65143254/?search_identifier=0e73d93973476b1a6a9ac404b9a1e9d4f463af92fc0dcc164cc4f48d0347bd00\n"
     ]
    },
    {
     "name": "stderr",
     "output_type": "stream",
     "text": [
      "could not detect version_main.therefore, we are assuming it is chrome 108 or higher\n"
     ]
    },
    {
     "name": "stdout",
     "output_type": "stream",
     "text": [
      "Saved to db successfully\n",
      "Done with link 3661: https://www.zoopla.co.uk/for-sale/details/65143254/?search_identifier=0e73d93973476b1a6a9ac404b9a1e9d4f463af92fc0dcc164cc4f48d0347bd00\n",
      "Starting extraction for link 3662: https://www.zoopla.co.uk/for-sale/details/65143147/?search_identifier=0e73d93973476b1a6a9ac404b9a1e9d4f463af92fc0dcc164cc4f48d0347bd00\n"
     ]
    },
    {
     "name": "stderr",
     "output_type": "stream",
     "text": [
      "could not detect version_main.therefore, we are assuming it is chrome 108 or higher\n"
     ]
    },
    {
     "name": "stdout",
     "output_type": "stream",
     "text": [
      "Saved to db successfully\n",
      "Done with link 3662: https://www.zoopla.co.uk/for-sale/details/65143147/?search_identifier=0e73d93973476b1a6a9ac404b9a1e9d4f463af92fc0dcc164cc4f48d0347bd00\n",
      "Starting extraction for link 3663: https://www.zoopla.co.uk/for-sale/details/65118828/?search_identifier=0e73d93973476b1a6a9ac404b9a1e9d4f463af92fc0dcc164cc4f48d0347bd00\n"
     ]
    },
    {
     "name": "stderr",
     "output_type": "stream",
     "text": [
      "could not detect version_main.therefore, we are assuming it is chrome 108 or higher\n"
     ]
    },
    {
     "name": "stdout",
     "output_type": "stream",
     "text": [
      "Saved to db successfully\n",
      "Done with link 3663: https://www.zoopla.co.uk/for-sale/details/65118828/?search_identifier=0e73d93973476b1a6a9ac404b9a1e9d4f463af92fc0dcc164cc4f48d0347bd00\n",
      "Starting extraction for link 3664: https://www.zoopla.co.uk/for-sale/details/65118763/?search_identifier=0e73d93973476b1a6a9ac404b9a1e9d4f463af92fc0dcc164cc4f48d0347bd00\n"
     ]
    },
    {
     "name": "stderr",
     "output_type": "stream",
     "text": [
      "could not detect version_main.therefore, we are assuming it is chrome 108 or higher\n"
     ]
    },
    {
     "name": "stdout",
     "output_type": "stream",
     "text": [
      "Saved to db successfully\n",
      "Done with link 3664: https://www.zoopla.co.uk/for-sale/details/65118763/?search_identifier=0e73d93973476b1a6a9ac404b9a1e9d4f463af92fc0dcc164cc4f48d0347bd00\n",
      "Starting extraction for link 3665: https://www.zoopla.co.uk/for-sale/details/65105418/?search_identifier=0e73d93973476b1a6a9ac404b9a1e9d4f463af92fc0dcc164cc4f48d0347bd00\n",
      "An error occurred for link in get_data_func: https://www.zoopla.co.uk/for-sale/details/65105418/?search_identifier=0e73d93973476b1a6a9ac404b9a1e9d4f463af92fc0dcc164cc4f48d0347bd00: Message: no such element: Unable to locate element: {\"method\":\"xpath\",\"selector\":\"//p[@data-testid=\"price\"]\"}\n",
      "  (Session info: chrome=115.0.5790.110); For documentation on this error, please visit: https://www.selenium.dev/documentation/webdriver/troubleshooting/errors#no-such-element-exception\n",
      "Stacktrace:\n",
      "Backtrace:\n",
      "\tGetHandleVerifier [0x00E2A813+48355]\n",
      "\t(No symbol) [0x00DBC4B1]\n",
      "\t(No symbol) [0x00CC5358]\n",
      "\t(No symbol) [0x00CF09A5]\n",
      "\t(No symbol) [0x00CF0B3B]\n",
      "\t(No symbol) [0x00D1E232]\n",
      "\t(No symbol) [0x00D0A784]\n",
      "\t(No symbol) [0x00D1C922]\n",
      "\t(No symbol) [0x00D0A536]\n",
      "\t(No symbol) [0x00CE82DC]\n",
      "\t(No symbol) [0x00CE93DD]\n",
      "\tGetHandleVerifier [0x0108AABD+2539405]\n",
      "\tGetHandleVerifier [0x010CA78F+2800735]\n",
      "\tGetHandleVerifier [0x010C456C+2775612]\n",
      "\tGetHandleVerifier [0x00EB51E0+616112]\n",
      "\t(No symbol) [0x00DC5F8C]\n",
      "\t(No symbol) [0x00DC2328]\n",
      "\t(No symbol) [0x00DC240B]\n",
      "\t(No symbol) [0x00DB4FF7]\n",
      "\tBaseThreadInitThunk [0x76A57D59+25]\n",
      "\tRtlInitializeExceptionChain [0x7773B79B+107]\n",
      "\tRtlClearBits [0x7773B71F+191]\n",
      "\n"
     ]
    },
    {
     "name": "stderr",
     "output_type": "stream",
     "text": [
      "could not detect version_main.therefore, we are assuming it is chrome 108 or higher\n"
     ]
    },
    {
     "name": "stdout",
     "output_type": "stream",
     "text": [
      "Saved to db successfully\n",
      "Done with link 3665: https://www.zoopla.co.uk/for-sale/details/65105418/?search_identifier=0e73d93973476b1a6a9ac404b9a1e9d4f463af92fc0dcc164cc4f48d0347bd00\n",
      "Starting extraction for link 3666: https://www.zoopla.co.uk/for-sale/details/65102999/?search_identifier=0e73d93973476b1a6a9ac404b9a1e9d4f463af92fc0dcc164cc4f48d0347bd00\n"
     ]
    },
    {
     "name": "stderr",
     "output_type": "stream",
     "text": [
      "could not detect version_main.therefore, we are assuming it is chrome 108 or higher\n"
     ]
    },
    {
     "name": "stdout",
     "output_type": "stream",
     "text": [
      "Saved to db successfully\n",
      "Done with link 3666: https://www.zoopla.co.uk/for-sale/details/65102999/?search_identifier=0e73d93973476b1a6a9ac404b9a1e9d4f463af92fc0dcc164cc4f48d0347bd00\n",
      "Starting extraction for link 3667: https://www.zoopla.co.uk/for-sale/details/65093179/?search_identifier=0e73d93973476b1a6a9ac404b9a1e9d4f463af92fc0dcc164cc4f48d0347bd00\n"
     ]
    },
    {
     "name": "stderr",
     "output_type": "stream",
     "text": [
      "could not detect version_main.therefore, we are assuming it is chrome 108 or higher\n"
     ]
    },
    {
     "name": "stdout",
     "output_type": "stream",
     "text": [
      "Saved to db successfully\n",
      "Done with link 3667: https://www.zoopla.co.uk/for-sale/details/65093179/?search_identifier=0e73d93973476b1a6a9ac404b9a1e9d4f463af92fc0dcc164cc4f48d0347bd00\n",
      "Starting extraction for link 3668: https://www.zoopla.co.uk/for-sale/details/65087002/?search_identifier=0e73d93973476b1a6a9ac404b9a1e9d4f463af92fc0dcc164cc4f48d0347bd00\n"
     ]
    },
    {
     "name": "stderr",
     "output_type": "stream",
     "text": [
      "could not detect version_main.therefore, we are assuming it is chrome 108 or higher\n"
     ]
    },
    {
     "name": "stdout",
     "output_type": "stream",
     "text": [
      "Saved to db successfully\n",
      "Done with link 3668: https://www.zoopla.co.uk/for-sale/details/65087002/?search_identifier=0e73d93973476b1a6a9ac404b9a1e9d4f463af92fc0dcc164cc4f48d0347bd00\n",
      "Starting extraction for link 3669: https://www.zoopla.co.uk/for-sale/details/65080027/?search_identifier=0e73d93973476b1a6a9ac404b9a1e9d4f463af92fc0dcc164cc4f48d0347bd00\n"
     ]
    },
    {
     "name": "stderr",
     "output_type": "stream",
     "text": [
      "could not detect version_main.therefore, we are assuming it is chrome 108 or higher\n"
     ]
    },
    {
     "name": "stdout",
     "output_type": "stream",
     "text": [
      "Saved to db successfully\n",
      "Done with link 3669: https://www.zoopla.co.uk/for-sale/details/65080027/?search_identifier=0e73d93973476b1a6a9ac404b9a1e9d4f463af92fc0dcc164cc4f48d0347bd00\n",
      "Starting extraction for link 3670: https://www.zoopla.co.uk/for-sale/details/65076936/?search_identifier=0e73d93973476b1a6a9ac404b9a1e9d4f463af92fc0dcc164cc4f48d0347bd00\n"
     ]
    },
    {
     "name": "stderr",
     "output_type": "stream",
     "text": [
      "could not detect version_main.therefore, we are assuming it is chrome 108 or higher\n"
     ]
    },
    {
     "name": "stdout",
     "output_type": "stream",
     "text": [
      "Saved to db successfully\n",
      "Done with link 3670: https://www.zoopla.co.uk/for-sale/details/65076936/?search_identifier=0e73d93973476b1a6a9ac404b9a1e9d4f463af92fc0dcc164cc4f48d0347bd00\n",
      "Starting extraction for link 3671: https://www.zoopla.co.uk/for-sale/details/65073204/?search_identifier=0e73d93973476b1a6a9ac404b9a1e9d4f463af92fc0dcc164cc4f48d0347bd00\n"
     ]
    },
    {
     "name": "stderr",
     "output_type": "stream",
     "text": [
      "could not detect version_main.therefore, we are assuming it is chrome 108 or higher\n"
     ]
    },
    {
     "name": "stdout",
     "output_type": "stream",
     "text": [
      "Saved to db successfully\n",
      "Done with link 3671: https://www.zoopla.co.uk/for-sale/details/65073204/?search_identifier=0e73d93973476b1a6a9ac404b9a1e9d4f463af92fc0dcc164cc4f48d0347bd00\n",
      "Starting extraction for link 3672: https://www.zoopla.co.uk/for-sale/details/65054944/?search_identifier=0e73d93973476b1a6a9ac404b9a1e9d4f463af92fc0dcc164cc4f48d0347bd00\n"
     ]
    },
    {
     "name": "stderr",
     "output_type": "stream",
     "text": [
      "could not detect version_main.therefore, we are assuming it is chrome 108 or higher\n"
     ]
    },
    {
     "name": "stdout",
     "output_type": "stream",
     "text": [
      "Saved to db successfully\n",
      "Done with link 3672: https://www.zoopla.co.uk/for-sale/details/65054944/?search_identifier=0e73d93973476b1a6a9ac404b9a1e9d4f463af92fc0dcc164cc4f48d0347bd00\n",
      "Starting extraction for link 3673: https://www.zoopla.co.uk/for-sale/details/65047312/?search_identifier=dc42141e412acea05a0794d94ae269e980aeb6f2143f77a4fd5e4bbcf2b94c8b\n"
     ]
    },
    {
     "name": "stderr",
     "output_type": "stream",
     "text": [
      "could not detect version_main.therefore, we are assuming it is chrome 108 or higher\n"
     ]
    },
    {
     "name": "stdout",
     "output_type": "stream",
     "text": [
      "Saved to db successfully\n",
      "Done with link 3673: https://www.zoopla.co.uk/for-sale/details/65047312/?search_identifier=dc42141e412acea05a0794d94ae269e980aeb6f2143f77a4fd5e4bbcf2b94c8b\n",
      "Starting extraction for link 3674: https://www.zoopla.co.uk/for-sale/details/65021095/?search_identifier=dc42141e412acea05a0794d94ae269e980aeb6f2143f77a4fd5e4bbcf2b94c8b\n"
     ]
    },
    {
     "name": "stderr",
     "output_type": "stream",
     "text": [
      "could not detect version_main.therefore, we are assuming it is chrome 108 or higher\n"
     ]
    },
    {
     "name": "stdout",
     "output_type": "stream",
     "text": [
      "Saved to db successfully\n",
      "Done with link 3674: https://www.zoopla.co.uk/for-sale/details/65021095/?search_identifier=dc42141e412acea05a0794d94ae269e980aeb6f2143f77a4fd5e4bbcf2b94c8b\n",
      "Starting extraction for link 3675: https://www.zoopla.co.uk/for-sale/details/65019858/?search_identifier=dc42141e412acea05a0794d94ae269e980aeb6f2143f77a4fd5e4bbcf2b94c8b\n"
     ]
    },
    {
     "name": "stderr",
     "output_type": "stream",
     "text": [
      "could not detect version_main.therefore, we are assuming it is chrome 108 or higher\n"
     ]
    },
    {
     "name": "stdout",
     "output_type": "stream",
     "text": [
      "Saved to db successfully\n",
      "Done with link 3675: https://www.zoopla.co.uk/for-sale/details/65019858/?search_identifier=dc42141e412acea05a0794d94ae269e980aeb6f2143f77a4fd5e4bbcf2b94c8b\n",
      "Starting extraction for link 3676: https://www.zoopla.co.uk/for-sale/details/65018564/?search_identifier=dc42141e412acea05a0794d94ae269e980aeb6f2143f77a4fd5e4bbcf2b94c8b\n"
     ]
    },
    {
     "name": "stderr",
     "output_type": "stream",
     "text": [
      "could not detect version_main.therefore, we are assuming it is chrome 108 or higher\n"
     ]
    },
    {
     "name": "stdout",
     "output_type": "stream",
     "text": [
      "Saved to db successfully\n",
      "Done with link 3676: https://www.zoopla.co.uk/for-sale/details/65018564/?search_identifier=dc42141e412acea05a0794d94ae269e980aeb6f2143f77a4fd5e4bbcf2b94c8b\n",
      "Starting extraction for link 3677: https://www.zoopla.co.uk/for-sale/details/65017176/?search_identifier=dc42141e412acea05a0794d94ae269e980aeb6f2143f77a4fd5e4bbcf2b94c8b\n"
     ]
    },
    {
     "name": "stderr",
     "output_type": "stream",
     "text": [
      "could not detect version_main.therefore, we are assuming it is chrome 108 or higher\n"
     ]
    },
    {
     "name": "stdout",
     "output_type": "stream",
     "text": [
      "Saved to db successfully\n",
      "Done with link 3677: https://www.zoopla.co.uk/for-sale/details/65017176/?search_identifier=dc42141e412acea05a0794d94ae269e980aeb6f2143f77a4fd5e4bbcf2b94c8b\n",
      "Starting extraction for link 3678: https://www.zoopla.co.uk/for-sale/details/65015667/?search_identifier=dc42141e412acea05a0794d94ae269e980aeb6f2143f77a4fd5e4bbcf2b94c8b\n"
     ]
    },
    {
     "name": "stderr",
     "output_type": "stream",
     "text": [
      "could not detect version_main.therefore, we are assuming it is chrome 108 or higher\n"
     ]
    },
    {
     "name": "stdout",
     "output_type": "stream",
     "text": [
      "Saved to db successfully\n",
      "Done with link 3678: https://www.zoopla.co.uk/for-sale/details/65015667/?search_identifier=dc42141e412acea05a0794d94ae269e980aeb6f2143f77a4fd5e4bbcf2b94c8b\n",
      "Starting extraction for link 3679: https://www.zoopla.co.uk/for-sale/details/65015239/?search_identifier=dc42141e412acea05a0794d94ae269e980aeb6f2143f77a4fd5e4bbcf2b94c8b\n"
     ]
    },
    {
     "name": "stderr",
     "output_type": "stream",
     "text": [
      "could not detect version_main.therefore, we are assuming it is chrome 108 or higher\n"
     ]
    },
    {
     "name": "stdout",
     "output_type": "stream",
     "text": [
      "Saved to db successfully\n",
      "Done with link 3679: https://www.zoopla.co.uk/for-sale/details/65015239/?search_identifier=dc42141e412acea05a0794d94ae269e980aeb6f2143f77a4fd5e4bbcf2b94c8b\n",
      "Starting extraction for link 3680: https://www.zoopla.co.uk/for-sale/details/65006037/?search_identifier=dc42141e412acea05a0794d94ae269e980aeb6f2143f77a4fd5e4bbcf2b94c8b\n"
     ]
    },
    {
     "name": "stderr",
     "output_type": "stream",
     "text": [
      "could not detect version_main.therefore, we are assuming it is chrome 108 or higher\n"
     ]
    },
    {
     "name": "stdout",
     "output_type": "stream",
     "text": [
      "Saved to db successfully\n",
      "Done with link 3680: https://www.zoopla.co.uk/for-sale/details/65006037/?search_identifier=dc42141e412acea05a0794d94ae269e980aeb6f2143f77a4fd5e4bbcf2b94c8b\n",
      "Starting extraction for link 3681: https://www.zoopla.co.uk/for-sale/details/65002536/?search_identifier=dc42141e412acea05a0794d94ae269e980aeb6f2143f77a4fd5e4bbcf2b94c8b\n"
     ]
    },
    {
     "name": "stderr",
     "output_type": "stream",
     "text": [
      "could not detect version_main.therefore, we are assuming it is chrome 108 or higher\n"
     ]
    },
    {
     "name": "stdout",
     "output_type": "stream",
     "text": [
      "Saved to db successfully\n",
      "Done with link 3681: https://www.zoopla.co.uk/for-sale/details/65002536/?search_identifier=dc42141e412acea05a0794d94ae269e980aeb6f2143f77a4fd5e4bbcf2b94c8b\n",
      "Starting extraction for link 3682: https://www.zoopla.co.uk/for-sale/details/64990291/?search_identifier=dc42141e412acea05a0794d94ae269e980aeb6f2143f77a4fd5e4bbcf2b94c8b\n"
     ]
    },
    {
     "name": "stderr",
     "output_type": "stream",
     "text": [
      "could not detect version_main.therefore, we are assuming it is chrome 108 or higher\n"
     ]
    },
    {
     "name": "stdout",
     "output_type": "stream",
     "text": [
      "Saved to db successfully\n",
      "Done with link 3682: https://www.zoopla.co.uk/for-sale/details/64990291/?search_identifier=dc42141e412acea05a0794d94ae269e980aeb6f2143f77a4fd5e4bbcf2b94c8b\n",
      "Starting extraction for link 3683: https://www.zoopla.co.uk/for-sale/details/64990191/?search_identifier=dc42141e412acea05a0794d94ae269e980aeb6f2143f77a4fd5e4bbcf2b94c8b\n"
     ]
    },
    {
     "name": "stderr",
     "output_type": "stream",
     "text": [
      "could not detect version_main.therefore, we are assuming it is chrome 108 or higher\n"
     ]
    },
    {
     "name": "stdout",
     "output_type": "stream",
     "text": [
      "Saved to db successfully\n",
      "Done with link 3683: https://www.zoopla.co.uk/for-sale/details/64990191/?search_identifier=dc42141e412acea05a0794d94ae269e980aeb6f2143f77a4fd5e4bbcf2b94c8b\n",
      "Starting extraction for link 3684: https://www.zoopla.co.uk/for-sale/details/64985271/?search_identifier=dc42141e412acea05a0794d94ae269e980aeb6f2143f77a4fd5e4bbcf2b94c8b\n"
     ]
    },
    {
     "name": "stderr",
     "output_type": "stream",
     "text": [
      "could not detect version_main.therefore, we are assuming it is chrome 108 or higher\n"
     ]
    },
    {
     "name": "stdout",
     "output_type": "stream",
     "text": [
      "Saved to db successfully\n",
      "Done with link 3684: https://www.zoopla.co.uk/for-sale/details/64985271/?search_identifier=dc42141e412acea05a0794d94ae269e980aeb6f2143f77a4fd5e4bbcf2b94c8b\n",
      "Starting extraction for link 3685: https://www.zoopla.co.uk/for-sale/details/64980071/?search_identifier=dc42141e412acea05a0794d94ae269e980aeb6f2143f77a4fd5e4bbcf2b94c8b\n"
     ]
    },
    {
     "name": "stderr",
     "output_type": "stream",
     "text": [
      "could not detect version_main.therefore, we are assuming it is chrome 108 or higher\n"
     ]
    },
    {
     "name": "stdout",
     "output_type": "stream",
     "text": [
      "Saved to db successfully\n",
      "Done with link 3685: https://www.zoopla.co.uk/for-sale/details/64980071/?search_identifier=dc42141e412acea05a0794d94ae269e980aeb6f2143f77a4fd5e4bbcf2b94c8b\n",
      "Starting extraction for link 3686: https://www.zoopla.co.uk/for-sale/details/64965663/?search_identifier=dc42141e412acea05a0794d94ae269e980aeb6f2143f77a4fd5e4bbcf2b94c8b\n"
     ]
    },
    {
     "name": "stderr",
     "output_type": "stream",
     "text": [
      "could not detect version_main.therefore, we are assuming it is chrome 108 or higher\n"
     ]
    },
    {
     "name": "stdout",
     "output_type": "stream",
     "text": [
      "Saved to db successfully\n",
      "Done with link 3686: https://www.zoopla.co.uk/for-sale/details/64965663/?search_identifier=dc42141e412acea05a0794d94ae269e980aeb6f2143f77a4fd5e4bbcf2b94c8b\n",
      "Starting extraction for link 3687: https://www.zoopla.co.uk/for-sale/details/64961425/?search_identifier=dc42141e412acea05a0794d94ae269e980aeb6f2143f77a4fd5e4bbcf2b94c8b\n"
     ]
    },
    {
     "name": "stderr",
     "output_type": "stream",
     "text": [
      "could not detect version_main.therefore, we are assuming it is chrome 108 or higher\n"
     ]
    },
    {
     "name": "stdout",
     "output_type": "stream",
     "text": [
      "Saved to db successfully\n",
      "Done with link 3687: https://www.zoopla.co.uk/for-sale/details/64961425/?search_identifier=dc42141e412acea05a0794d94ae269e980aeb6f2143f77a4fd5e4bbcf2b94c8b\n",
      "Starting extraction for link 3688: https://www.zoopla.co.uk/for-sale/details/64961372/?search_identifier=dc42141e412acea05a0794d94ae269e980aeb6f2143f77a4fd5e4bbcf2b94c8b\n"
     ]
    },
    {
     "name": "stderr",
     "output_type": "stream",
     "text": [
      "could not detect version_main.therefore, we are assuming it is chrome 108 or higher\n"
     ]
    },
    {
     "name": "stdout",
     "output_type": "stream",
     "text": [
      "Saved to db successfully\n",
      "Done with link 3688: https://www.zoopla.co.uk/for-sale/details/64961372/?search_identifier=dc42141e412acea05a0794d94ae269e980aeb6f2143f77a4fd5e4bbcf2b94c8b\n",
      "Starting extraction for link 3689: https://www.zoopla.co.uk/new-homes/details/64947095/?search_identifier=dc42141e412acea05a0794d94ae269e980aeb6f2143f77a4fd5e4bbcf2b94c8b\n"
     ]
    },
    {
     "name": "stderr",
     "output_type": "stream",
     "text": [
      "could not detect version_main.therefore, we are assuming it is chrome 108 or higher\n"
     ]
    },
    {
     "name": "stdout",
     "output_type": "stream",
     "text": [
      "Saved to db successfully\n",
      "Done with link 3689: https://www.zoopla.co.uk/new-homes/details/64947095/?search_identifier=dc42141e412acea05a0794d94ae269e980aeb6f2143f77a4fd5e4bbcf2b94c8b\n",
      "Starting extraction for link 3690: https://www.zoopla.co.uk/for-sale/details/64943157/?search_identifier=dc42141e412acea05a0794d94ae269e980aeb6f2143f77a4fd5e4bbcf2b94c8b\n"
     ]
    },
    {
     "name": "stderr",
     "output_type": "stream",
     "text": [
      "could not detect version_main.therefore, we are assuming it is chrome 108 or higher\n"
     ]
    },
    {
     "name": "stdout",
     "output_type": "stream",
     "text": [
      "Saved to db successfully\n",
      "Done with link 3690: https://www.zoopla.co.uk/for-sale/details/64943157/?search_identifier=dc42141e412acea05a0794d94ae269e980aeb6f2143f77a4fd5e4bbcf2b94c8b\n",
      "Starting extraction for link 3691: https://www.zoopla.co.uk/for-sale/details/64943105/?search_identifier=dc42141e412acea05a0794d94ae269e980aeb6f2143f77a4fd5e4bbcf2b94c8b\n"
     ]
    },
    {
     "name": "stderr",
     "output_type": "stream",
     "text": [
      "could not detect version_main.therefore, we are assuming it is chrome 108 or higher\n"
     ]
    },
    {
     "name": "stdout",
     "output_type": "stream",
     "text": [
      "Saved to db successfully\n",
      "Done with link 3691: https://www.zoopla.co.uk/for-sale/details/64943105/?search_identifier=dc42141e412acea05a0794d94ae269e980aeb6f2143f77a4fd5e4bbcf2b94c8b\n",
      "Starting extraction for link 3692: https://www.zoopla.co.uk/for-sale/details/64935269/?search_identifier=dc42141e412acea05a0794d94ae269e980aeb6f2143f77a4fd5e4bbcf2b94c8b\n"
     ]
    },
    {
     "name": "stderr",
     "output_type": "stream",
     "text": [
      "could not detect version_main.therefore, we are assuming it is chrome 108 or higher\n"
     ]
    },
    {
     "name": "stdout",
     "output_type": "stream",
     "text": [
      "Saved to db successfully\n",
      "Done with link 3692: https://www.zoopla.co.uk/for-sale/details/64935269/?search_identifier=dc42141e412acea05a0794d94ae269e980aeb6f2143f77a4fd5e4bbcf2b94c8b\n",
      "Starting extraction for link 3693: https://www.zoopla.co.uk/for-sale/details/64934075/?search_identifier=dc42141e412acea05a0794d94ae269e980aeb6f2143f77a4fd5e4bbcf2b94c8b\n"
     ]
    },
    {
     "name": "stderr",
     "output_type": "stream",
     "text": [
      "could not detect version_main.therefore, we are assuming it is chrome 108 or higher\n"
     ]
    },
    {
     "name": "stdout",
     "output_type": "stream",
     "text": [
      "Saved to db successfully\n",
      "Done with link 3693: https://www.zoopla.co.uk/for-sale/details/64934075/?search_identifier=dc42141e412acea05a0794d94ae269e980aeb6f2143f77a4fd5e4bbcf2b94c8b\n",
      "Starting extraction for link 3694: https://www.zoopla.co.uk/for-sale/details/64933739/?search_identifier=dc42141e412acea05a0794d94ae269e980aeb6f2143f77a4fd5e4bbcf2b94c8b\n"
     ]
    },
    {
     "name": "stderr",
     "output_type": "stream",
     "text": [
      "could not detect version_main.therefore, we are assuming it is chrome 108 or higher\n"
     ]
    },
    {
     "name": "stdout",
     "output_type": "stream",
     "text": [
      "Saved to db successfully\n",
      "Done with link 3694: https://www.zoopla.co.uk/for-sale/details/64933739/?search_identifier=dc42141e412acea05a0794d94ae269e980aeb6f2143f77a4fd5e4bbcf2b94c8b\n",
      "Starting extraction for link 3695: https://www.zoopla.co.uk/for-sale/details/64381701/?search_identifier=dc42141e412acea05a0794d94ae269e980aeb6f2143f77a4fd5e4bbcf2b94c8b\n"
     ]
    },
    {
     "name": "stderr",
     "output_type": "stream",
     "text": [
      "could not detect version_main.therefore, we are assuming it is chrome 108 or higher\n"
     ]
    },
    {
     "name": "stdout",
     "output_type": "stream",
     "text": [
      "Saved to db successfully\n",
      "Done with link 3695: https://www.zoopla.co.uk/for-sale/details/64381701/?search_identifier=dc42141e412acea05a0794d94ae269e980aeb6f2143f77a4fd5e4bbcf2b94c8b\n",
      "Starting extraction for link 3696: https://www.zoopla.co.uk/for-sale/details/64921533/?search_identifier=dc42141e412acea05a0794d94ae269e980aeb6f2143f77a4fd5e4bbcf2b94c8b\n"
     ]
    },
    {
     "name": "stderr",
     "output_type": "stream",
     "text": [
      "could not detect version_main.therefore, we are assuming it is chrome 108 or higher\n"
     ]
    },
    {
     "name": "stdout",
     "output_type": "stream",
     "text": [
      "Saved to db successfully\n",
      "Done with link 3696: https://www.zoopla.co.uk/for-sale/details/64921533/?search_identifier=dc42141e412acea05a0794d94ae269e980aeb6f2143f77a4fd5e4bbcf2b94c8b\n",
      "Starting extraction for link 3697: https://www.zoopla.co.uk/for-sale/details/64920684/?search_identifier=dc42141e412acea05a0794d94ae269e980aeb6f2143f77a4fd5e4bbcf2b94c8b\n"
     ]
    },
    {
     "name": "stderr",
     "output_type": "stream",
     "text": [
      "could not detect version_main.therefore, we are assuming it is chrome 108 or higher\n"
     ]
    },
    {
     "name": "stdout",
     "output_type": "stream",
     "text": [
      "Saved to db successfully\n",
      "Done with link 3697: https://www.zoopla.co.uk/for-sale/details/64920684/?search_identifier=dc42141e412acea05a0794d94ae269e980aeb6f2143f77a4fd5e4bbcf2b94c8b\n",
      "Starting extraction for link 3698: https://www.zoopla.co.uk/for-sale/details/64919674/?search_identifier=1f4b410ae2997ed95d3e25b1363a5dd7d3d14967d0840a8ac730bd3a8ae6f3da\n"
     ]
    },
    {
     "name": "stderr",
     "output_type": "stream",
     "text": [
      "could not detect version_main.therefore, we are assuming it is chrome 108 or higher\n"
     ]
    },
    {
     "name": "stdout",
     "output_type": "stream",
     "text": [
      "Saved to db successfully\n",
      "Done with link 3698: https://www.zoopla.co.uk/for-sale/details/64919674/?search_identifier=1f4b410ae2997ed95d3e25b1363a5dd7d3d14967d0840a8ac730bd3a8ae6f3da\n",
      "Starting extraction for link 3699: https://www.zoopla.co.uk/for-sale/details/64915777/?search_identifier=1f4b410ae2997ed95d3e25b1363a5dd7d3d14967d0840a8ac730bd3a8ae6f3da\n"
     ]
    },
    {
     "name": "stderr",
     "output_type": "stream",
     "text": [
      "could not detect version_main.therefore, we are assuming it is chrome 108 or higher\n"
     ]
    },
    {
     "name": "stdout",
     "output_type": "stream",
     "text": [
      "Saved to db successfully\n",
      "Done with link 3699: https://www.zoopla.co.uk/for-sale/details/64915777/?search_identifier=1f4b410ae2997ed95d3e25b1363a5dd7d3d14967d0840a8ac730bd3a8ae6f3da\n",
      "Starting extraction for link 3700: https://www.zoopla.co.uk/for-sale/details/64905899/?search_identifier=1f4b410ae2997ed95d3e25b1363a5dd7d3d14967d0840a8ac730bd3a8ae6f3da\n"
     ]
    },
    {
     "name": "stderr",
     "output_type": "stream",
     "text": [
      "could not detect version_main.therefore, we are assuming it is chrome 108 or higher\n"
     ]
    },
    {
     "name": "stdout",
     "output_type": "stream",
     "text": [
      "Saved to db successfully\n",
      "Done with link 3700: https://www.zoopla.co.uk/for-sale/details/64905899/?search_identifier=1f4b410ae2997ed95d3e25b1363a5dd7d3d14967d0840a8ac730bd3a8ae6f3da\n",
      "Starting extraction for link 3701: https://www.zoopla.co.uk/for-sale/details/64901436/?search_identifier=1f4b410ae2997ed95d3e25b1363a5dd7d3d14967d0840a8ac730bd3a8ae6f3da\n"
     ]
    },
    {
     "name": "stderr",
     "output_type": "stream",
     "text": [
      "could not detect version_main.therefore, we are assuming it is chrome 108 or higher\n"
     ]
    },
    {
     "name": "stdout",
     "output_type": "stream",
     "text": [
      "Saved to db successfully\n",
      "Done with link 3701: https://www.zoopla.co.uk/for-sale/details/64901436/?search_identifier=1f4b410ae2997ed95d3e25b1363a5dd7d3d14967d0840a8ac730bd3a8ae6f3da\n",
      "Starting extraction for link 3702: https://www.zoopla.co.uk/for-sale/details/64860935/?search_identifier=1f4b410ae2997ed95d3e25b1363a5dd7d3d14967d0840a8ac730bd3a8ae6f3da\n"
     ]
    },
    {
     "name": "stderr",
     "output_type": "stream",
     "text": [
      "could not detect version_main.therefore, we are assuming it is chrome 108 or higher\n"
     ]
    },
    {
     "name": "stdout",
     "output_type": "stream",
     "text": [
      "Saved to db successfully\n",
      "Done with link 3702: https://www.zoopla.co.uk/for-sale/details/64860935/?search_identifier=1f4b410ae2997ed95d3e25b1363a5dd7d3d14967d0840a8ac730bd3a8ae6f3da\n",
      "Starting extraction for link 3703: https://www.zoopla.co.uk/for-sale/details/64855118/?search_identifier=1f4b410ae2997ed95d3e25b1363a5dd7d3d14967d0840a8ac730bd3a8ae6f3da\n"
     ]
    },
    {
     "name": "stderr",
     "output_type": "stream",
     "text": [
      "could not detect version_main.therefore, we are assuming it is chrome 108 or higher\n"
     ]
    },
    {
     "name": "stdout",
     "output_type": "stream",
     "text": [
      "Saved to db successfully\n",
      "Done with link 3703: https://www.zoopla.co.uk/for-sale/details/64855118/?search_identifier=1f4b410ae2997ed95d3e25b1363a5dd7d3d14967d0840a8ac730bd3a8ae6f3da\n",
      "Starting extraction for link 3704: https://www.zoopla.co.uk/for-sale/details/62738998/?search_identifier=1f4b410ae2997ed95d3e25b1363a5dd7d3d14967d0840a8ac730bd3a8ae6f3da\n"
     ]
    },
    {
     "name": "stderr",
     "output_type": "stream",
     "text": [
      "could not detect version_main.therefore, we are assuming it is chrome 108 or higher\n"
     ]
    },
    {
     "name": "stdout",
     "output_type": "stream",
     "text": [
      "Saved to db successfully\n",
      "Done with link 3704: https://www.zoopla.co.uk/for-sale/details/62738998/?search_identifier=1f4b410ae2997ed95d3e25b1363a5dd7d3d14967d0840a8ac730bd3a8ae6f3da\n",
      "Starting extraction for link 3705: https://www.zoopla.co.uk/for-sale/details/64820691/?search_identifier=1f4b410ae2997ed95d3e25b1363a5dd7d3d14967d0840a8ac730bd3a8ae6f3da\n"
     ]
    },
    {
     "name": "stderr",
     "output_type": "stream",
     "text": [
      "could not detect version_main.therefore, we are assuming it is chrome 108 or higher\n"
     ]
    },
    {
     "name": "stdout",
     "output_type": "stream",
     "text": [
      "Saved to db successfully\n",
      "Done with link 3705: https://www.zoopla.co.uk/for-sale/details/64820691/?search_identifier=1f4b410ae2997ed95d3e25b1363a5dd7d3d14967d0840a8ac730bd3a8ae6f3da\n",
      "Starting extraction for link 3706: https://www.zoopla.co.uk/for-sale/details/64817428/?search_identifier=1f4b410ae2997ed95d3e25b1363a5dd7d3d14967d0840a8ac730bd3a8ae6f3da\n"
     ]
    },
    {
     "name": "stderr",
     "output_type": "stream",
     "text": [
      "could not detect version_main.therefore, we are assuming it is chrome 108 or higher\n"
     ]
    },
    {
     "name": "stdout",
     "output_type": "stream",
     "text": [
      "Saved to db successfully\n",
      "Done with link 3706: https://www.zoopla.co.uk/for-sale/details/64817428/?search_identifier=1f4b410ae2997ed95d3e25b1363a5dd7d3d14967d0840a8ac730bd3a8ae6f3da\n",
      "Starting extraction for link 3707: https://www.zoopla.co.uk/for-sale/details/64813325/?search_identifier=1f4b410ae2997ed95d3e25b1363a5dd7d3d14967d0840a8ac730bd3a8ae6f3da\n"
     ]
    },
    {
     "name": "stderr",
     "output_type": "stream",
     "text": [
      "could not detect version_main.therefore, we are assuming it is chrome 108 or higher\n"
     ]
    },
    {
     "name": "stdout",
     "output_type": "stream",
     "text": [
      "Saved to db successfully\n",
      "Done with link 3707: https://www.zoopla.co.uk/for-sale/details/64813325/?search_identifier=1f4b410ae2997ed95d3e25b1363a5dd7d3d14967d0840a8ac730bd3a8ae6f3da\n",
      "Starting extraction for link 3708: https://www.zoopla.co.uk/for-sale/details/64811743/?search_identifier=1f4b410ae2997ed95d3e25b1363a5dd7d3d14967d0840a8ac730bd3a8ae6f3da\n"
     ]
    },
    {
     "name": "stderr",
     "output_type": "stream",
     "text": [
      "could not detect version_main.therefore, we are assuming it is chrome 108 or higher\n"
     ]
    },
    {
     "name": "stdout",
     "output_type": "stream",
     "text": [
      "Saved to db successfully\n",
      "Done with link 3708: https://www.zoopla.co.uk/for-sale/details/64811743/?search_identifier=1f4b410ae2997ed95d3e25b1363a5dd7d3d14967d0840a8ac730bd3a8ae6f3da\n",
      "Starting extraction for link 3709: https://www.zoopla.co.uk/for-sale/details/64743473/?search_identifier=1f4b410ae2997ed95d3e25b1363a5dd7d3d14967d0840a8ac730bd3a8ae6f3da\n"
     ]
    },
    {
     "name": "stderr",
     "output_type": "stream",
     "text": [
      "could not detect version_main.therefore, we are assuming it is chrome 108 or higher\n"
     ]
    },
    {
     "name": "stdout",
     "output_type": "stream",
     "text": [
      "Saved to db successfully\n",
      "Done with link 3709: https://www.zoopla.co.uk/for-sale/details/64743473/?search_identifier=1f4b410ae2997ed95d3e25b1363a5dd7d3d14967d0840a8ac730bd3a8ae6f3da\n",
      "Starting extraction for link 3710: https://www.zoopla.co.uk/for-sale/details/64735080/?search_identifier=1f4b410ae2997ed95d3e25b1363a5dd7d3d14967d0840a8ac730bd3a8ae6f3da\n"
     ]
    },
    {
     "name": "stderr",
     "output_type": "stream",
     "text": [
      "could not detect version_main.therefore, we are assuming it is chrome 108 or higher\n"
     ]
    },
    {
     "name": "stdout",
     "output_type": "stream",
     "text": [
      "Saved to db successfully\n",
      "Done with link 3710: https://www.zoopla.co.uk/for-sale/details/64735080/?search_identifier=1f4b410ae2997ed95d3e25b1363a5dd7d3d14967d0840a8ac730bd3a8ae6f3da\n",
      "Starting extraction for link 3711: https://www.zoopla.co.uk/for-sale/details/64721459/?search_identifier=1f4b410ae2997ed95d3e25b1363a5dd7d3d14967d0840a8ac730bd3a8ae6f3da\n"
     ]
    },
    {
     "name": "stderr",
     "output_type": "stream",
     "text": [
      "could not detect version_main.therefore, we are assuming it is chrome 108 or higher\n"
     ]
    },
    {
     "name": "stdout",
     "output_type": "stream",
     "text": [
      "Saved to db successfully\n",
      "Done with link 3711: https://www.zoopla.co.uk/for-sale/details/64721459/?search_identifier=1f4b410ae2997ed95d3e25b1363a5dd7d3d14967d0840a8ac730bd3a8ae6f3da\n",
      "Starting extraction for link 3712: https://www.zoopla.co.uk/for-sale/details/64719133/?search_identifier=1f4b410ae2997ed95d3e25b1363a5dd7d3d14967d0840a8ac730bd3a8ae6f3da\n"
     ]
    },
    {
     "name": "stderr",
     "output_type": "stream",
     "text": [
      "could not detect version_main.therefore, we are assuming it is chrome 108 or higher\n"
     ]
    },
    {
     "name": "stdout",
     "output_type": "stream",
     "text": [
      "Saved to db successfully\n",
      "Done with link 3712: https://www.zoopla.co.uk/for-sale/details/64719133/?search_identifier=1f4b410ae2997ed95d3e25b1363a5dd7d3d14967d0840a8ac730bd3a8ae6f3da\n",
      "Starting extraction for link 3713: https://www.zoopla.co.uk/for-sale/details/64714279/?search_identifier=1f4b410ae2997ed95d3e25b1363a5dd7d3d14967d0840a8ac730bd3a8ae6f3da\n"
     ]
    },
    {
     "name": "stderr",
     "output_type": "stream",
     "text": [
      "could not detect version_main.therefore, we are assuming it is chrome 108 or higher\n"
     ]
    },
    {
     "name": "stdout",
     "output_type": "stream",
     "text": [
      "Saved to db successfully\n",
      "Done with link 3713: https://www.zoopla.co.uk/for-sale/details/64714279/?search_identifier=1f4b410ae2997ed95d3e25b1363a5dd7d3d14967d0840a8ac730bd3a8ae6f3da\n",
      "Starting extraction for link 3714: https://www.zoopla.co.uk/for-sale/details/64709172/?search_identifier=1f4b410ae2997ed95d3e25b1363a5dd7d3d14967d0840a8ac730bd3a8ae6f3da\n"
     ]
    },
    {
     "name": "stderr",
     "output_type": "stream",
     "text": [
      "could not detect version_main.therefore, we are assuming it is chrome 108 or higher\n"
     ]
    },
    {
     "name": "stdout",
     "output_type": "stream",
     "text": [
      "Saved to db successfully\n",
      "Done with link 3714: https://www.zoopla.co.uk/for-sale/details/64709172/?search_identifier=1f4b410ae2997ed95d3e25b1363a5dd7d3d14967d0840a8ac730bd3a8ae6f3da\n",
      "Starting extraction for link 3715: https://www.zoopla.co.uk/for-sale/details/64695378/?search_identifier=1f4b410ae2997ed95d3e25b1363a5dd7d3d14967d0840a8ac730bd3a8ae6f3da\n"
     ]
    },
    {
     "name": "stderr",
     "output_type": "stream",
     "text": [
      "could not detect version_main.therefore, we are assuming it is chrome 108 or higher\n"
     ]
    },
    {
     "name": "stdout",
     "output_type": "stream",
     "text": [
      "Saved to db successfully\n",
      "Done with link 3715: https://www.zoopla.co.uk/for-sale/details/64695378/?search_identifier=1f4b410ae2997ed95d3e25b1363a5dd7d3d14967d0840a8ac730bd3a8ae6f3da\n",
      "Starting extraction for link 3716: https://www.zoopla.co.uk/for-sale/details/64690319/?search_identifier=1f4b410ae2997ed95d3e25b1363a5dd7d3d14967d0840a8ac730bd3a8ae6f3da\n"
     ]
    },
    {
     "name": "stderr",
     "output_type": "stream",
     "text": [
      "could not detect version_main.therefore, we are assuming it is chrome 108 or higher\n"
     ]
    },
    {
     "name": "stdout",
     "output_type": "stream",
     "text": [
      "Saved to db successfully\n",
      "Done with link 3716: https://www.zoopla.co.uk/for-sale/details/64690319/?search_identifier=1f4b410ae2997ed95d3e25b1363a5dd7d3d14967d0840a8ac730bd3a8ae6f3da\n",
      "Starting extraction for link 3717: https://www.zoopla.co.uk/for-sale/details/64688686/?search_identifier=1f4b410ae2997ed95d3e25b1363a5dd7d3d14967d0840a8ac730bd3a8ae6f3da\n"
     ]
    },
    {
     "name": "stderr",
     "output_type": "stream",
     "text": [
      "could not detect version_main.therefore, we are assuming it is chrome 108 or higher\n"
     ]
    },
    {
     "name": "stdout",
     "output_type": "stream",
     "text": [
      "Saved to db successfully\n",
      "Done with link 3717: https://www.zoopla.co.uk/for-sale/details/64688686/?search_identifier=1f4b410ae2997ed95d3e25b1363a5dd7d3d14967d0840a8ac730bd3a8ae6f3da\n",
      "Starting extraction for link 3718: https://www.zoopla.co.uk/for-sale/details/64683963/?search_identifier=1f4b410ae2997ed95d3e25b1363a5dd7d3d14967d0840a8ac730bd3a8ae6f3da\n"
     ]
    },
    {
     "name": "stderr",
     "output_type": "stream",
     "text": [
      "could not detect version_main.therefore, we are assuming it is chrome 108 or higher\n"
     ]
    },
    {
     "name": "stdout",
     "output_type": "stream",
     "text": [
      "Saved to db successfully\n",
      "Done with link 3718: https://www.zoopla.co.uk/for-sale/details/64683963/?search_identifier=1f4b410ae2997ed95d3e25b1363a5dd7d3d14967d0840a8ac730bd3a8ae6f3da\n",
      "Starting extraction for link 3719: https://www.zoopla.co.uk/for-sale/details/64679914/?search_identifier=1f4b410ae2997ed95d3e25b1363a5dd7d3d14967d0840a8ac730bd3a8ae6f3da\n"
     ]
    },
    {
     "name": "stderr",
     "output_type": "stream",
     "text": [
      "could not detect version_main.therefore, we are assuming it is chrome 108 or higher\n"
     ]
    },
    {
     "name": "stdout",
     "output_type": "stream",
     "text": [
      "Saved to db successfully\n",
      "Done with link 3719: https://www.zoopla.co.uk/for-sale/details/64679914/?search_identifier=1f4b410ae2997ed95d3e25b1363a5dd7d3d14967d0840a8ac730bd3a8ae6f3da\n",
      "Starting extraction for link 3720: https://www.zoopla.co.uk/for-sale/details/64677686/?search_identifier=1f4b410ae2997ed95d3e25b1363a5dd7d3d14967d0840a8ac730bd3a8ae6f3da\n"
     ]
    },
    {
     "name": "stderr",
     "output_type": "stream",
     "text": [
      "could not detect version_main.therefore, we are assuming it is chrome 108 or higher\n"
     ]
    },
    {
     "name": "stdout",
     "output_type": "stream",
     "text": [
      "Saved to db successfully\n",
      "Done with link 3720: https://www.zoopla.co.uk/for-sale/details/64677686/?search_identifier=1f4b410ae2997ed95d3e25b1363a5dd7d3d14967d0840a8ac730bd3a8ae6f3da\n",
      "Starting extraction for link 3721: https://www.zoopla.co.uk/for-sale/details/64660811/?search_identifier=1f4b410ae2997ed95d3e25b1363a5dd7d3d14967d0840a8ac730bd3a8ae6f3da\n"
     ]
    },
    {
     "name": "stderr",
     "output_type": "stream",
     "text": [
      "could not detect version_main.therefore, we are assuming it is chrome 108 or higher\n"
     ]
    },
    {
     "name": "stdout",
     "output_type": "stream",
     "text": [
      "Saved to db successfully\n",
      "Done with link 3721: https://www.zoopla.co.uk/for-sale/details/64660811/?search_identifier=1f4b410ae2997ed95d3e25b1363a5dd7d3d14967d0840a8ac730bd3a8ae6f3da\n",
      "Starting extraction for link 3722: https://www.zoopla.co.uk/for-sale/details/64601178/?search_identifier=1f4b410ae2997ed95d3e25b1363a5dd7d3d14967d0840a8ac730bd3a8ae6f3da\n"
     ]
    },
    {
     "name": "stderr",
     "output_type": "stream",
     "text": [
      "could not detect version_main.therefore, we are assuming it is chrome 108 or higher\n"
     ]
    },
    {
     "name": "stdout",
     "output_type": "stream",
     "text": [
      "Saved to db successfully\n",
      "Done with link 3722: https://www.zoopla.co.uk/for-sale/details/64601178/?search_identifier=1f4b410ae2997ed95d3e25b1363a5dd7d3d14967d0840a8ac730bd3a8ae6f3da\n",
      "Starting extraction for link 3723: https://www.zoopla.co.uk/for-sale/details/64031843/?search_identifier=d175fce4a24eaa9fce98829e632cc231e408f3129a4496595d793369d29d9c7a\n"
     ]
    },
    {
     "name": "stderr",
     "output_type": "stream",
     "text": [
      "could not detect version_main.therefore, we are assuming it is chrome 108 or higher\n"
     ]
    },
    {
     "name": "stdout",
     "output_type": "stream",
     "text": [
      "Saved to db successfully\n",
      "Done with link 3723: https://www.zoopla.co.uk/for-sale/details/64031843/?search_identifier=d175fce4a24eaa9fce98829e632cc231e408f3129a4496595d793369d29d9c7a\n",
      "Starting extraction for link 3724: https://www.zoopla.co.uk/for-sale/details/64030943/?search_identifier=d175fce4a24eaa9fce98829e632cc231e408f3129a4496595d793369d29d9c7a\n"
     ]
    },
    {
     "name": "stderr",
     "output_type": "stream",
     "text": [
      "could not detect version_main.therefore, we are assuming it is chrome 108 or higher\n"
     ]
    },
    {
     "name": "stdout",
     "output_type": "stream",
     "text": [
      "Saved to db successfully\n",
      "Done with link 3724: https://www.zoopla.co.uk/for-sale/details/64030943/?search_identifier=d175fce4a24eaa9fce98829e632cc231e408f3129a4496595d793369d29d9c7a\n",
      "Starting extraction for link 3725: https://www.zoopla.co.uk/for-sale/details/64027700/?search_identifier=d175fce4a24eaa9fce98829e632cc231e408f3129a4496595d793369d29d9c7a\n"
     ]
    },
    {
     "name": "stderr",
     "output_type": "stream",
     "text": [
      "could not detect version_main.therefore, we are assuming it is chrome 108 or higher\n"
     ]
    },
    {
     "name": "stdout",
     "output_type": "stream",
     "text": [
      "Saved to db successfully\n",
      "Done with link 3725: https://www.zoopla.co.uk/for-sale/details/64027700/?search_identifier=d175fce4a24eaa9fce98829e632cc231e408f3129a4496595d793369d29d9c7a\n",
      "Starting extraction for link 3726: https://www.zoopla.co.uk/for-sale/details/64002576/?search_identifier=d175fce4a24eaa9fce98829e632cc231e408f3129a4496595d793369d29d9c7a\n"
     ]
    },
    {
     "name": "stderr",
     "output_type": "stream",
     "text": [
      "could not detect version_main.therefore, we are assuming it is chrome 108 or higher\n"
     ]
    },
    {
     "name": "stdout",
     "output_type": "stream",
     "text": [
      "Saved to db successfully\n",
      "Done with link 3726: https://www.zoopla.co.uk/for-sale/details/64002576/?search_identifier=d175fce4a24eaa9fce98829e632cc231e408f3129a4496595d793369d29d9c7a\n",
      "Starting extraction for link 3727: https://www.zoopla.co.uk/for-sale/details/64001961/?search_identifier=d175fce4a24eaa9fce98829e632cc231e408f3129a4496595d793369d29d9c7a\n"
     ]
    },
    {
     "name": "stderr",
     "output_type": "stream",
     "text": [
      "could not detect version_main.therefore, we are assuming it is chrome 108 or higher\n"
     ]
    },
    {
     "name": "stdout",
     "output_type": "stream",
     "text": [
      "Saved to db successfully\n",
      "Done with link 3727: https://www.zoopla.co.uk/for-sale/details/64001961/?search_identifier=d175fce4a24eaa9fce98829e632cc231e408f3129a4496595d793369d29d9c7a\n",
      "Starting extraction for link 3728: https://www.zoopla.co.uk/for-sale/details/63958836/?search_identifier=d175fce4a24eaa9fce98829e632cc231e408f3129a4496595d793369d29d9c7a\n"
     ]
    },
    {
     "name": "stderr",
     "output_type": "stream",
     "text": [
      "could not detect version_main.therefore, we are assuming it is chrome 108 or higher\n"
     ]
    },
    {
     "name": "stdout",
     "output_type": "stream",
     "text": [
      "Saved to db successfully\n",
      "Done with link 3728: https://www.zoopla.co.uk/for-sale/details/63958836/?search_identifier=d175fce4a24eaa9fce98829e632cc231e408f3129a4496595d793369d29d9c7a\n",
      "Starting extraction for link 3729: https://www.zoopla.co.uk/for-sale/details/63953534/?search_identifier=d175fce4a24eaa9fce98829e632cc231e408f3129a4496595d793369d29d9c7a\n"
     ]
    },
    {
     "name": "stderr",
     "output_type": "stream",
     "text": [
      "could not detect version_main.therefore, we are assuming it is chrome 108 or higher\n"
     ]
    },
    {
     "name": "stdout",
     "output_type": "stream",
     "text": [
      "Saved to db successfully\n",
      "Done with link 3729: https://www.zoopla.co.uk/for-sale/details/63953534/?search_identifier=d175fce4a24eaa9fce98829e632cc231e408f3129a4496595d793369d29d9c7a\n",
      "Starting extraction for link 3730: https://www.zoopla.co.uk/for-sale/details/63938131/?search_identifier=d175fce4a24eaa9fce98829e632cc231e408f3129a4496595d793369d29d9c7a\n"
     ]
    },
    {
     "name": "stderr",
     "output_type": "stream",
     "text": [
      "could not detect version_main.therefore, we are assuming it is chrome 108 or higher\n"
     ]
    },
    {
     "name": "stdout",
     "output_type": "stream",
     "text": [
      "Saved to db successfully\n",
      "Done with link 3730: https://www.zoopla.co.uk/for-sale/details/63938131/?search_identifier=d175fce4a24eaa9fce98829e632cc231e408f3129a4496595d793369d29d9c7a\n",
      "Starting extraction for link 3731: https://www.zoopla.co.uk/for-sale/details/61701523/?search_identifier=d175fce4a24eaa9fce98829e632cc231e408f3129a4496595d793369d29d9c7a\n"
     ]
    },
    {
     "name": "stderr",
     "output_type": "stream",
     "text": [
      "could not detect version_main.therefore, we are assuming it is chrome 108 or higher\n"
     ]
    },
    {
     "name": "stdout",
     "output_type": "stream",
     "text": [
      "Saved to db successfully\n",
      "Done with link 3731: https://www.zoopla.co.uk/for-sale/details/61701523/?search_identifier=d175fce4a24eaa9fce98829e632cc231e408f3129a4496595d793369d29d9c7a\n",
      "Starting extraction for link 3732: https://www.zoopla.co.uk/for-sale/details/63842570/?search_identifier=d175fce4a24eaa9fce98829e632cc231e408f3129a4496595d793369d29d9c7a\n"
     ]
    },
    {
     "name": "stderr",
     "output_type": "stream",
     "text": [
      "could not detect version_main.therefore, we are assuming it is chrome 108 or higher\n"
     ]
    },
    {
     "name": "stdout",
     "output_type": "stream",
     "text": [
      "Saved to db successfully\n",
      "Done with link 3732: https://www.zoopla.co.uk/for-sale/details/63842570/?search_identifier=d175fce4a24eaa9fce98829e632cc231e408f3129a4496595d793369d29d9c7a\n",
      "Starting extraction for link 3733: https://www.zoopla.co.uk/for-sale/details/63813691/?search_identifier=d175fce4a24eaa9fce98829e632cc231e408f3129a4496595d793369d29d9c7a\n"
     ]
    },
    {
     "name": "stderr",
     "output_type": "stream",
     "text": [
      "could not detect version_main.therefore, we are assuming it is chrome 108 or higher\n"
     ]
    },
    {
     "name": "stdout",
     "output_type": "stream",
     "text": [
      "Saved to db successfully\n",
      "Done with link 3733: https://www.zoopla.co.uk/for-sale/details/63813691/?search_identifier=d175fce4a24eaa9fce98829e632cc231e408f3129a4496595d793369d29d9c7a\n",
      "Starting extraction for link 3734: https://www.zoopla.co.uk/for-sale/details/63785651/?search_identifier=d175fce4a24eaa9fce98829e632cc231e408f3129a4496595d793369d29d9c7a\n"
     ]
    },
    {
     "name": "stderr",
     "output_type": "stream",
     "text": [
      "could not detect version_main.therefore, we are assuming it is chrome 108 or higher\n"
     ]
    },
    {
     "name": "stdout",
     "output_type": "stream",
     "text": [
      "Saved to db successfully\n",
      "Done with link 3734: https://www.zoopla.co.uk/for-sale/details/63785651/?search_identifier=d175fce4a24eaa9fce98829e632cc231e408f3129a4496595d793369d29d9c7a\n",
      "Starting extraction for link 3735: https://www.zoopla.co.uk/for-sale/details/63775965/?search_identifier=d175fce4a24eaa9fce98829e632cc231e408f3129a4496595d793369d29d9c7a\n"
     ]
    },
    {
     "name": "stderr",
     "output_type": "stream",
     "text": [
      "could not detect version_main.therefore, we are assuming it is chrome 108 or higher\n"
     ]
    },
    {
     "name": "stdout",
     "output_type": "stream",
     "text": [
      "Saved to db successfully\n",
      "Done with link 3735: https://www.zoopla.co.uk/for-sale/details/63775965/?search_identifier=d175fce4a24eaa9fce98829e632cc231e408f3129a4496595d793369d29d9c7a\n",
      "Starting extraction for link 3736: https://www.zoopla.co.uk/for-sale/details/63769081/?search_identifier=d175fce4a24eaa9fce98829e632cc231e408f3129a4496595d793369d29d9c7a\n"
     ]
    },
    {
     "name": "stderr",
     "output_type": "stream",
     "text": [
      "could not detect version_main.therefore, we are assuming it is chrome 108 or higher\n"
     ]
    },
    {
     "name": "stdout",
     "output_type": "stream",
     "text": [
      "Saved to db successfully\n",
      "Done with link 3736: https://www.zoopla.co.uk/for-sale/details/63769081/?search_identifier=d175fce4a24eaa9fce98829e632cc231e408f3129a4496595d793369d29d9c7a\n",
      "Starting extraction for link 3737: https://www.zoopla.co.uk/for-sale/details/63732347/?search_identifier=d175fce4a24eaa9fce98829e632cc231e408f3129a4496595d793369d29d9c7a\n"
     ]
    },
    {
     "name": "stderr",
     "output_type": "stream",
     "text": [
      "could not detect version_main.therefore, we are assuming it is chrome 108 or higher\n"
     ]
    },
    {
     "name": "stdout",
     "output_type": "stream",
     "text": [
      "Saved to db successfully\n",
      "Done with link 3737: https://www.zoopla.co.uk/for-sale/details/63732347/?search_identifier=d175fce4a24eaa9fce98829e632cc231e408f3129a4496595d793369d29d9c7a\n",
      "Starting extraction for link 3738: https://www.zoopla.co.uk/for-sale/details/63623068/?search_identifier=d175fce4a24eaa9fce98829e632cc231e408f3129a4496595d793369d29d9c7a\n"
     ]
    },
    {
     "name": "stderr",
     "output_type": "stream",
     "text": [
      "could not detect version_main.therefore, we are assuming it is chrome 108 or higher\n"
     ]
    },
    {
     "name": "stdout",
     "output_type": "stream",
     "text": [
      "Saved to db successfully\n",
      "Done with link 3738: https://www.zoopla.co.uk/for-sale/details/63623068/?search_identifier=d175fce4a24eaa9fce98829e632cc231e408f3129a4496595d793369d29d9c7a\n",
      "Starting extraction for link 3739: https://www.zoopla.co.uk/for-sale/details/63353721/?search_identifier=d175fce4a24eaa9fce98829e632cc231e408f3129a4496595d793369d29d9c7a\n"
     ]
    },
    {
     "name": "stderr",
     "output_type": "stream",
     "text": [
      "could not detect version_main.therefore, we are assuming it is chrome 108 or higher\n"
     ]
    },
    {
     "name": "stdout",
     "output_type": "stream",
     "text": [
      "Saved to db successfully\n",
      "Done with link 3739: https://www.zoopla.co.uk/for-sale/details/63353721/?search_identifier=d175fce4a24eaa9fce98829e632cc231e408f3129a4496595d793369d29d9c7a\n",
      "Starting extraction for link 3740: https://www.zoopla.co.uk/for-sale/details/62880440/?search_identifier=d175fce4a24eaa9fce98829e632cc231e408f3129a4496595d793369d29d9c7a\n"
     ]
    },
    {
     "name": "stderr",
     "output_type": "stream",
     "text": [
      "could not detect version_main.therefore, we are assuming it is chrome 108 or higher\n"
     ]
    },
    {
     "name": "stdout",
     "output_type": "stream",
     "text": [
      "Saved to db successfully\n",
      "Done with link 3740: https://www.zoopla.co.uk/for-sale/details/62880440/?search_identifier=d175fce4a24eaa9fce98829e632cc231e408f3129a4496595d793369d29d9c7a\n",
      "Starting extraction for link 3741: https://www.zoopla.co.uk/for-sale/details/62761652/?search_identifier=d175fce4a24eaa9fce98829e632cc231e408f3129a4496595d793369d29d9c7a\n"
     ]
    },
    {
     "name": "stderr",
     "output_type": "stream",
     "text": [
      "could not detect version_main.therefore, we are assuming it is chrome 108 or higher\n"
     ]
    },
    {
     "name": "stdout",
     "output_type": "stream",
     "text": [
      "Saved to db successfully\n",
      "Done with link 3741: https://www.zoopla.co.uk/for-sale/details/62761652/?search_identifier=d175fce4a24eaa9fce98829e632cc231e408f3129a4496595d793369d29d9c7a\n",
      "Starting extraction for link 3742: https://www.zoopla.co.uk/for-sale/details/62635641/?search_identifier=d175fce4a24eaa9fce98829e632cc231e408f3129a4496595d793369d29d9c7a\n"
     ]
    },
    {
     "name": "stderr",
     "output_type": "stream",
     "text": [
      "could not detect version_main.therefore, we are assuming it is chrome 108 or higher\n"
     ]
    },
    {
     "name": "stdout",
     "output_type": "stream",
     "text": [
      "Saved to db successfully\n",
      "Done with link 3742: https://www.zoopla.co.uk/for-sale/details/62635641/?search_identifier=d175fce4a24eaa9fce98829e632cc231e408f3129a4496595d793369d29d9c7a\n",
      "Starting extraction for link 3743: https://www.zoopla.co.uk/for-sale/details/62551746/?search_identifier=d175fce4a24eaa9fce98829e632cc231e408f3129a4496595d793369d29d9c7a\n"
     ]
    },
    {
     "name": "stderr",
     "output_type": "stream",
     "text": [
      "could not detect version_main.therefore, we are assuming it is chrome 108 or higher\n"
     ]
    },
    {
     "name": "stdout",
     "output_type": "stream",
     "text": [
      "Saved to db successfully\n",
      "Done with link 3743: https://www.zoopla.co.uk/for-sale/details/62551746/?search_identifier=d175fce4a24eaa9fce98829e632cc231e408f3129a4496595d793369d29d9c7a\n",
      "Starting extraction for link 3744: https://www.zoopla.co.uk/for-sale/details/62128580/?search_identifier=d175fce4a24eaa9fce98829e632cc231e408f3129a4496595d793369d29d9c7a\n"
     ]
    },
    {
     "name": "stderr",
     "output_type": "stream",
     "text": [
      "could not detect version_main.therefore, we are assuming it is chrome 108 or higher\n"
     ]
    },
    {
     "name": "stdout",
     "output_type": "stream",
     "text": [
      "Saved to db successfully\n",
      "Done with link 3744: https://www.zoopla.co.uk/for-sale/details/62128580/?search_identifier=d175fce4a24eaa9fce98829e632cc231e408f3129a4496595d793369d29d9c7a\n",
      "Starting extraction for link 3745: https://www.zoopla.co.uk/for-sale/details/62047359/?search_identifier=d175fce4a24eaa9fce98829e632cc231e408f3129a4496595d793369d29d9c7a\n"
     ]
    },
    {
     "name": "stderr",
     "output_type": "stream",
     "text": [
      "could not detect version_main.therefore, we are assuming it is chrome 108 or higher\n"
     ]
    },
    {
     "name": "stdout",
     "output_type": "stream",
     "text": [
      "Saved to db successfully\n",
      "Done with link 3745: https://www.zoopla.co.uk/for-sale/details/62047359/?search_identifier=d175fce4a24eaa9fce98829e632cc231e408f3129a4496595d793369d29d9c7a\n",
      "Starting extraction for link 3746: https://www.zoopla.co.uk/for-sale/details/61889824/?search_identifier=d175fce4a24eaa9fce98829e632cc231e408f3129a4496595d793369d29d9c7a\n"
     ]
    },
    {
     "name": "stderr",
     "output_type": "stream",
     "text": [
      "could not detect version_main.therefore, we are assuming it is chrome 108 or higher\n"
     ]
    },
    {
     "name": "stdout",
     "output_type": "stream",
     "text": [
      "Saved to db successfully\n",
      "Done with link 3746: https://www.zoopla.co.uk/for-sale/details/61889824/?search_identifier=d175fce4a24eaa9fce98829e632cc231e408f3129a4496595d793369d29d9c7a\n",
      "Starting extraction for link 3747: https://www.zoopla.co.uk/for-sale/details/65217199/?search_identifier=f9499a18791083da0b95626e50b90df3d83f71ca90b66b9e5b5f1bc85a2dfb6b\n"
     ]
    },
    {
     "name": "stderr",
     "output_type": "stream",
     "text": [
      "could not detect version_main.therefore, we are assuming it is chrome 108 or higher\n"
     ]
    },
    {
     "name": "stdout",
     "output_type": "stream",
     "text": [
      "Saved to db successfully\n",
      "Done with link 3747: https://www.zoopla.co.uk/for-sale/details/65217199/?search_identifier=f9499a18791083da0b95626e50b90df3d83f71ca90b66b9e5b5f1bc85a2dfb6b\n",
      "Starting extraction for link 3748: https://www.zoopla.co.uk/for-sale/details/65216186/?search_identifier=f9499a18791083da0b95626e50b90df3d83f71ca90b66b9e5b5f1bc85a2dfb6b\n"
     ]
    },
    {
     "name": "stderr",
     "output_type": "stream",
     "text": [
      "could not detect version_main.therefore, we are assuming it is chrome 108 or higher\n"
     ]
    },
    {
     "name": "stdout",
     "output_type": "stream",
     "text": [
      "Saved to db successfully\n",
      "Done with link 3748: https://www.zoopla.co.uk/for-sale/details/65216186/?search_identifier=f9499a18791083da0b95626e50b90df3d83f71ca90b66b9e5b5f1bc85a2dfb6b\n",
      "Starting extraction for link 3749: https://www.zoopla.co.uk/for-sale/details/64936336/?search_identifier=f9499a18791083da0b95626e50b90df3d83f71ca90b66b9e5b5f1bc85a2dfb6b\n"
     ]
    },
    {
     "name": "stderr",
     "output_type": "stream",
     "text": [
      "could not detect version_main.therefore, we are assuming it is chrome 108 or higher\n"
     ]
    },
    {
     "name": "stdout",
     "output_type": "stream",
     "text": [
      "Saved to db successfully\n",
      "Done with link 3749: https://www.zoopla.co.uk/for-sale/details/64936336/?search_identifier=f9499a18791083da0b95626e50b90df3d83f71ca90b66b9e5b5f1bc85a2dfb6b\n",
      "Starting extraction for link 3750: https://www.zoopla.co.uk/for-sale/details/65174405/?search_identifier=f9499a18791083da0b95626e50b90df3d83f71ca90b66b9e5b5f1bc85a2dfb6b\n"
     ]
    },
    {
     "name": "stderr",
     "output_type": "stream",
     "text": [
      "could not detect version_main.therefore, we are assuming it is chrome 108 or higher\n"
     ]
    },
    {
     "name": "stdout",
     "output_type": "stream",
     "text": [
      "Saved to db successfully\n",
      "Done with link 3750: https://www.zoopla.co.uk/for-sale/details/65174405/?search_identifier=f9499a18791083da0b95626e50b90df3d83f71ca90b66b9e5b5f1bc85a2dfb6b\n",
      "Starting extraction for link 3751: https://www.zoopla.co.uk/for-sale/details/65173752/?search_identifier=f9499a18791083da0b95626e50b90df3d83f71ca90b66b9e5b5f1bc85a2dfb6b\n",
      "An error occurred for link in get_data_func: https://www.zoopla.co.uk/for-sale/details/65173752/?search_identifier=f9499a18791083da0b95626e50b90df3d83f71ca90b66b9e5b5f1bc85a2dfb6b: Message: no such element: Unable to locate element: {\"method\":\"xpath\",\"selector\":\"//p[@data-testid=\"price\"]\"}\n",
      "  (Session info: chrome=115.0.5790.110); For documentation on this error, please visit: https://www.selenium.dev/documentation/webdriver/troubleshooting/errors#no-such-element-exception\n",
      "Stacktrace:\n",
      "Backtrace:\n",
      "\tGetHandleVerifier [0x00E2A813+48355]\n",
      "\t(No symbol) [0x00DBC4B1]\n",
      "\t(No symbol) [0x00CC5358]\n",
      "\t(No symbol) [0x00CF09A5]\n",
      "\t(No symbol) [0x00CF0B3B]\n",
      "\t(No symbol) [0x00D1E232]\n",
      "\t(No symbol) [0x00D0A784]\n",
      "\t(No symbol) [0x00D1C922]\n",
      "\t(No symbol) [0x00D0A536]\n",
      "\t(No symbol) [0x00CE82DC]\n",
      "\t(No symbol) [0x00CE93DD]\n",
      "\tGetHandleVerifier [0x0108AABD+2539405]\n",
      "\tGetHandleVerifier [0x010CA78F+2800735]\n",
      "\tGetHandleVerifier [0x010C456C+2775612]\n",
      "\tGetHandleVerifier [0x00EB51E0+616112]\n",
      "\t(No symbol) [0x00DC5F8C]\n",
      "\t(No symbol) [0x00DC2328]\n",
      "\t(No symbol) [0x00DC240B]\n",
      "\t(No symbol) [0x00DB4FF7]\n",
      "\tBaseThreadInitThunk [0x76A57D59+25]\n",
      "\tRtlInitializeExceptionChain [0x7773B79B+107]\n",
      "\tRtlClearBits [0x7773B71F+191]\n",
      "\n"
     ]
    },
    {
     "name": "stderr",
     "output_type": "stream",
     "text": [
      "could not detect version_main.therefore, we are assuming it is chrome 108 or higher\n"
     ]
    },
    {
     "name": "stdout",
     "output_type": "stream",
     "text": [
      "Saved to db successfully\n",
      "Done with link 3751: https://www.zoopla.co.uk/for-sale/details/65173752/?search_identifier=f9499a18791083da0b95626e50b90df3d83f71ca90b66b9e5b5f1bc85a2dfb6b\n",
      "Starting extraction for link 3752: https://www.zoopla.co.uk/for-sale/details/65173093/?search_identifier=f9499a18791083da0b95626e50b90df3d83f71ca90b66b9e5b5f1bc85a2dfb6b\n"
     ]
    },
    {
     "name": "stderr",
     "output_type": "stream",
     "text": [
      "could not detect version_main.therefore, we are assuming it is chrome 108 or higher\n"
     ]
    },
    {
     "name": "stdout",
     "output_type": "stream",
     "text": [
      "Saved to db successfully\n",
      "Done with link 3752: https://www.zoopla.co.uk/for-sale/details/65173093/?search_identifier=f9499a18791083da0b95626e50b90df3d83f71ca90b66b9e5b5f1bc85a2dfb6b\n",
      "Starting extraction for link 3753: https://www.zoopla.co.uk/for-sale/details/65170581/?search_identifier=f9499a18791083da0b95626e50b90df3d83f71ca90b66b9e5b5f1bc85a2dfb6b\n"
     ]
    },
    {
     "name": "stderr",
     "output_type": "stream",
     "text": [
      "could not detect version_main.therefore, we are assuming it is chrome 108 or higher\n"
     ]
    },
    {
     "name": "stdout",
     "output_type": "stream",
     "text": [
      "Saved to db successfully\n",
      "Done with link 3753: https://www.zoopla.co.uk/for-sale/details/65170581/?search_identifier=f9499a18791083da0b95626e50b90df3d83f71ca90b66b9e5b5f1bc85a2dfb6b\n",
      "Starting extraction for link 3754: https://www.zoopla.co.uk/for-sale/details/65169086/?search_identifier=f9499a18791083da0b95626e50b90df3d83f71ca90b66b9e5b5f1bc85a2dfb6b\n"
     ]
    },
    {
     "name": "stderr",
     "output_type": "stream",
     "text": [
      "could not detect version_main.therefore, we are assuming it is chrome 108 or higher\n"
     ]
    },
    {
     "name": "stdout",
     "output_type": "stream",
     "text": [
      "Saved to db successfully\n",
      "Done with link 3754: https://www.zoopla.co.uk/for-sale/details/65169086/?search_identifier=f9499a18791083da0b95626e50b90df3d83f71ca90b66b9e5b5f1bc85a2dfb6b\n",
      "Starting extraction for link 3755: https://www.zoopla.co.uk/for-sale/details/60219422/?search_identifier=f9499a18791083da0b95626e50b90df3d83f71ca90b66b9e5b5f1bc85a2dfb6b\n"
     ]
    },
    {
     "name": "stderr",
     "output_type": "stream",
     "text": [
      "could not detect version_main.therefore, we are assuming it is chrome 108 or higher\n"
     ]
    },
    {
     "name": "stdout",
     "output_type": "stream",
     "text": [
      "Saved to db successfully\n",
      "Done with link 3755: https://www.zoopla.co.uk/for-sale/details/60219422/?search_identifier=f9499a18791083da0b95626e50b90df3d83f71ca90b66b9e5b5f1bc85a2dfb6b\n",
      "Starting extraction for link 3756: https://www.zoopla.co.uk/for-sale/details/65156069/?search_identifier=f9499a18791083da0b95626e50b90df3d83f71ca90b66b9e5b5f1bc85a2dfb6b\n"
     ]
    },
    {
     "name": "stderr",
     "output_type": "stream",
     "text": [
      "could not detect version_main.therefore, we are assuming it is chrome 108 or higher\n"
     ]
    },
    {
     "name": "stdout",
     "output_type": "stream",
     "text": [
      "Saved to db successfully\n",
      "Done with link 3756: https://www.zoopla.co.uk/for-sale/details/65156069/?search_identifier=f9499a18791083da0b95626e50b90df3d83f71ca90b66b9e5b5f1bc85a2dfb6b\n",
      "Starting extraction for link 3757: https://www.zoopla.co.uk/new-homes/details/64543634/?search_identifier=f9499a18791083da0b95626e50b90df3d83f71ca90b66b9e5b5f1bc85a2dfb6b\n"
     ]
    },
    {
     "name": "stderr",
     "output_type": "stream",
     "text": [
      "could not detect version_main.therefore, we are assuming it is chrome 108 or higher\n"
     ]
    },
    {
     "name": "stdout",
     "output_type": "stream",
     "text": [
      "Saved to db successfully\n",
      "Done with link 3757: https://www.zoopla.co.uk/new-homes/details/64543634/?search_identifier=f9499a18791083da0b95626e50b90df3d83f71ca90b66b9e5b5f1bc85a2dfb6b\n",
      "Starting extraction for link 3758: https://www.zoopla.co.uk/new-homes/details/65153353/?search_identifier=f9499a18791083da0b95626e50b90df3d83f71ca90b66b9e5b5f1bc85a2dfb6b\n",
      "An error occurred for link in get_data_func: https://www.zoopla.co.uk/new-homes/details/65153353/?search_identifier=f9499a18791083da0b95626e50b90df3d83f71ca90b66b9e5b5f1bc85a2dfb6b: Message: no such element: Unable to locate element: {\"method\":\"xpath\",\"selector\":\"//p[@data-testid=\"price\"]\"}\n",
      "  (Session info: chrome=115.0.5790.110); For documentation on this error, please visit: https://www.selenium.dev/documentation/webdriver/troubleshooting/errors#no-such-element-exception\n",
      "Stacktrace:\n",
      "Backtrace:\n",
      "\tGetHandleVerifier [0x00E2A813+48355]\n",
      "\t(No symbol) [0x00DBC4B1]\n",
      "\t(No symbol) [0x00CC5358]\n",
      "\t(No symbol) [0x00CF09A5]\n",
      "\t(No symbol) [0x00CF0B3B]\n",
      "\t(No symbol) [0x00D1E232]\n",
      "\t(No symbol) [0x00D0A784]\n",
      "\t(No symbol) [0x00D1C922]\n",
      "\t(No symbol) [0x00D0A536]\n",
      "\t(No symbol) [0x00CE82DC]\n",
      "\t(No symbol) [0x00CE93DD]\n",
      "\tGetHandleVerifier [0x0108AABD+2539405]\n",
      "\tGetHandleVerifier [0x010CA78F+2800735]\n",
      "\tGetHandleVerifier [0x010C456C+2775612]\n",
      "\tGetHandleVerifier [0x00EB51E0+616112]\n",
      "\t(No symbol) [0x00DC5F8C]\n",
      "\t(No symbol) [0x00DC2328]\n",
      "\t(No symbol) [0x00DC240B]\n",
      "\t(No symbol) [0x00DB4FF7]\n",
      "\tBaseThreadInitThunk [0x76A57D59+25]\n",
      "\tRtlInitializeExceptionChain [0x7773B79B+107]\n",
      "\tRtlClearBits [0x7773B71F+191]\n",
      "\n"
     ]
    },
    {
     "name": "stderr",
     "output_type": "stream",
     "text": [
      "could not detect version_main.therefore, we are assuming it is chrome 108 or higher\n"
     ]
    },
    {
     "name": "stdout",
     "output_type": "stream",
     "text": [
      "Saved to db successfully\n",
      "Done with link 3758: https://www.zoopla.co.uk/new-homes/details/65153353/?search_identifier=f9499a18791083da0b95626e50b90df3d83f71ca90b66b9e5b5f1bc85a2dfb6b\n",
      "Starting extraction for link 3759: https://www.zoopla.co.uk/for-sale/details/65152779/?search_identifier=f9499a18791083da0b95626e50b90df3d83f71ca90b66b9e5b5f1bc85a2dfb6b\n"
     ]
    },
    {
     "name": "stderr",
     "output_type": "stream",
     "text": [
      "could not detect version_main.therefore, we are assuming it is chrome 108 or higher\n"
     ]
    },
    {
     "name": "stdout",
     "output_type": "stream",
     "text": [
      "Saved to db successfully\n",
      "Done with link 3759: https://www.zoopla.co.uk/for-sale/details/65152779/?search_identifier=f9499a18791083da0b95626e50b90df3d83f71ca90b66b9e5b5f1bc85a2dfb6b\n",
      "Starting extraction for link 3760: https://www.zoopla.co.uk/for-sale/details/65144030/?search_identifier=f9499a18791083da0b95626e50b90df3d83f71ca90b66b9e5b5f1bc85a2dfb6b\n"
     ]
    },
    {
     "name": "stderr",
     "output_type": "stream",
     "text": [
      "could not detect version_main.therefore, we are assuming it is chrome 108 or higher\n"
     ]
    },
    {
     "name": "stdout",
     "output_type": "stream",
     "text": [
      "Saved to db successfully\n",
      "Done with link 3760: https://www.zoopla.co.uk/for-sale/details/65144030/?search_identifier=f9499a18791083da0b95626e50b90df3d83f71ca90b66b9e5b5f1bc85a2dfb6b\n",
      "Starting extraction for link 3761: https://www.zoopla.co.uk/for-sale/details/65136835/?search_identifier=f9499a18791083da0b95626e50b90df3d83f71ca90b66b9e5b5f1bc85a2dfb6b\n"
     ]
    },
    {
     "name": "stderr",
     "output_type": "stream",
     "text": [
      "could not detect version_main.therefore, we are assuming it is chrome 108 or higher\n"
     ]
    },
    {
     "name": "stdout",
     "output_type": "stream",
     "text": [
      "Saved to db successfully\n",
      "Done with link 3761: https://www.zoopla.co.uk/for-sale/details/65136835/?search_identifier=f9499a18791083da0b95626e50b90df3d83f71ca90b66b9e5b5f1bc85a2dfb6b\n",
      "Starting extraction for link 3762: https://www.zoopla.co.uk/for-sale/details/65135145/?search_identifier=f9499a18791083da0b95626e50b90df3d83f71ca90b66b9e5b5f1bc85a2dfb6b\n"
     ]
    },
    {
     "name": "stderr",
     "output_type": "stream",
     "text": [
      "could not detect version_main.therefore, we are assuming it is chrome 108 or higher\n"
     ]
    },
    {
     "name": "stdout",
     "output_type": "stream",
     "text": [
      "Saved to db successfully\n",
      "Done with link 3762: https://www.zoopla.co.uk/for-sale/details/65135145/?search_identifier=f9499a18791083da0b95626e50b90df3d83f71ca90b66b9e5b5f1bc85a2dfb6b\n",
      "Starting extraction for link 3763: https://www.zoopla.co.uk/for-sale/details/62526091/?search_identifier=f9499a18791083da0b95626e50b90df3d83f71ca90b66b9e5b5f1bc85a2dfb6b\n"
     ]
    },
    {
     "name": "stderr",
     "output_type": "stream",
     "text": [
      "could not detect version_main.therefore, we are assuming it is chrome 108 or higher\n"
     ]
    },
    {
     "name": "stdout",
     "output_type": "stream",
     "text": [
      "Saved to db successfully\n",
      "Done with link 3763: https://www.zoopla.co.uk/for-sale/details/62526091/?search_identifier=f9499a18791083da0b95626e50b90df3d83f71ca90b66b9e5b5f1bc85a2dfb6b\n",
      "Starting extraction for link 3764: https://www.zoopla.co.uk/for-sale/details/65113578/?search_identifier=f9499a18791083da0b95626e50b90df3d83f71ca90b66b9e5b5f1bc85a2dfb6b\n"
     ]
    },
    {
     "name": "stderr",
     "output_type": "stream",
     "text": [
      "could not detect version_main.therefore, we are assuming it is chrome 108 or higher\n"
     ]
    },
    {
     "name": "stdout",
     "output_type": "stream",
     "text": [
      "Saved to db successfully\n",
      "Done with link 3764: https://www.zoopla.co.uk/for-sale/details/65113578/?search_identifier=f9499a18791083da0b95626e50b90df3d83f71ca90b66b9e5b5f1bc85a2dfb6b\n",
      "Starting extraction for link 3765: https://www.zoopla.co.uk/for-sale/details/65111908/?search_identifier=f9499a18791083da0b95626e50b90df3d83f71ca90b66b9e5b5f1bc85a2dfb6b\n"
     ]
    },
    {
     "name": "stderr",
     "output_type": "stream",
     "text": [
      "could not detect version_main.therefore, we are assuming it is chrome 108 or higher\n"
     ]
    },
    {
     "name": "stdout",
     "output_type": "stream",
     "text": [
      "Saved to db successfully\n",
      "Done with link 3765: https://www.zoopla.co.uk/for-sale/details/65111908/?search_identifier=f9499a18791083da0b95626e50b90df3d83f71ca90b66b9e5b5f1bc85a2dfb6b\n",
      "Starting extraction for link 3766: https://www.zoopla.co.uk/for-sale/details/65110937/?search_identifier=f9499a18791083da0b95626e50b90df3d83f71ca90b66b9e5b5f1bc85a2dfb6b\n"
     ]
    },
    {
     "name": "stderr",
     "output_type": "stream",
     "text": [
      "could not detect version_main.therefore, we are assuming it is chrome 108 or higher\n"
     ]
    },
    {
     "name": "stdout",
     "output_type": "stream",
     "text": [
      "Saved to db successfully\n",
      "Done with link 3766: https://www.zoopla.co.uk/for-sale/details/65110937/?search_identifier=f9499a18791083da0b95626e50b90df3d83f71ca90b66b9e5b5f1bc85a2dfb6b\n",
      "Starting extraction for link 3767: https://www.zoopla.co.uk/for-sale/details/65110938/?search_identifier=f9499a18791083da0b95626e50b90df3d83f71ca90b66b9e5b5f1bc85a2dfb6b\n"
     ]
    },
    {
     "name": "stderr",
     "output_type": "stream",
     "text": [
      "could not detect version_main.therefore, we are assuming it is chrome 108 or higher\n"
     ]
    },
    {
     "name": "stdout",
     "output_type": "stream",
     "text": [
      "Saved to db successfully\n",
      "Done with link 3767: https://www.zoopla.co.uk/for-sale/details/65110938/?search_identifier=f9499a18791083da0b95626e50b90df3d83f71ca90b66b9e5b5f1bc85a2dfb6b\n",
      "Starting extraction for link 3768: https://www.zoopla.co.uk/for-sale/details/65109696/?search_identifier=f9499a18791083da0b95626e50b90df3d83f71ca90b66b9e5b5f1bc85a2dfb6b\n"
     ]
    },
    {
     "name": "stderr",
     "output_type": "stream",
     "text": [
      "could not detect version_main.therefore, we are assuming it is chrome 108 or higher\n"
     ]
    },
    {
     "name": "stdout",
     "output_type": "stream",
     "text": [
      "Saved to db successfully\n",
      "Done with link 3768: https://www.zoopla.co.uk/for-sale/details/65109696/?search_identifier=f9499a18791083da0b95626e50b90df3d83f71ca90b66b9e5b5f1bc85a2dfb6b\n",
      "Starting extraction for link 3769: https://www.zoopla.co.uk/for-sale/details/65105325/?search_identifier=f9499a18791083da0b95626e50b90df3d83f71ca90b66b9e5b5f1bc85a2dfb6b\n"
     ]
    },
    {
     "name": "stderr",
     "output_type": "stream",
     "text": [
      "could not detect version_main.therefore, we are assuming it is chrome 108 or higher\n"
     ]
    },
    {
     "name": "stdout",
     "output_type": "stream",
     "text": [
      "Saved to db successfully\n",
      "Done with link 3769: https://www.zoopla.co.uk/for-sale/details/65105325/?search_identifier=f9499a18791083da0b95626e50b90df3d83f71ca90b66b9e5b5f1bc85a2dfb6b\n",
      "Starting extraction for link 3770: https://www.zoopla.co.uk/for-sale/details/65104820/?search_identifier=f9499a18791083da0b95626e50b90df3d83f71ca90b66b9e5b5f1bc85a2dfb6b\n"
     ]
    },
    {
     "name": "stderr",
     "output_type": "stream",
     "text": [
      "could not detect version_main.therefore, we are assuming it is chrome 108 or higher\n"
     ]
    },
    {
     "name": "stdout",
     "output_type": "stream",
     "text": [
      "Saved to db successfully\n",
      "Done with link 3770: https://www.zoopla.co.uk/for-sale/details/65104820/?search_identifier=f9499a18791083da0b95626e50b90df3d83f71ca90b66b9e5b5f1bc85a2dfb6b\n",
      "Starting extraction for link 3771: https://www.zoopla.co.uk/for-sale/details/65095344/?search_identifier=f9499a18791083da0b95626e50b90df3d83f71ca90b66b9e5b5f1bc85a2dfb6b\n"
     ]
    },
    {
     "name": "stderr",
     "output_type": "stream",
     "text": [
      "could not detect version_main.therefore, we are assuming it is chrome 108 or higher\n"
     ]
    },
    {
     "name": "stdout",
     "output_type": "stream",
     "text": [
      "Saved to db successfully\n",
      "Done with link 3771: https://www.zoopla.co.uk/for-sale/details/65095344/?search_identifier=f9499a18791083da0b95626e50b90df3d83f71ca90b66b9e5b5f1bc85a2dfb6b\n",
      "Starting extraction for link 3772: https://www.zoopla.co.uk/for-sale/details/65095347/?search_identifier=088bdf64475dbd348ee976fa003d61bc0ca79f9ea5d1c4ade516e1db16859258\n"
     ]
    },
    {
     "name": "stderr",
     "output_type": "stream",
     "text": [
      "could not detect version_main.therefore, we are assuming it is chrome 108 or higher\n"
     ]
    },
    {
     "name": "stdout",
     "output_type": "stream",
     "text": [
      "Saved to db successfully\n",
      "Done with link 3772: https://www.zoopla.co.uk/for-sale/details/65095347/?search_identifier=088bdf64475dbd348ee976fa003d61bc0ca79f9ea5d1c4ade516e1db16859258\n",
      "Starting extraction for link 3773: https://www.zoopla.co.uk/for-sale/details/65089288/?search_identifier=088bdf64475dbd348ee976fa003d61bc0ca79f9ea5d1c4ade516e1db16859258\n"
     ]
    },
    {
     "name": "stderr",
     "output_type": "stream",
     "text": [
      "could not detect version_main.therefore, we are assuming it is chrome 108 or higher\n"
     ]
    },
    {
     "name": "stdout",
     "output_type": "stream",
     "text": [
      "Saved to db successfully\n",
      "Done with link 3773: https://www.zoopla.co.uk/for-sale/details/65089288/?search_identifier=088bdf64475dbd348ee976fa003d61bc0ca79f9ea5d1c4ade516e1db16859258\n",
      "Starting extraction for link 3774: https://www.zoopla.co.uk/for-sale/details/65082356/?search_identifier=088bdf64475dbd348ee976fa003d61bc0ca79f9ea5d1c4ade516e1db16859258\n"
     ]
    },
    {
     "name": "stderr",
     "output_type": "stream",
     "text": [
      "could not detect version_main.therefore, we are assuming it is chrome 108 or higher\n"
     ]
    },
    {
     "name": "stdout",
     "output_type": "stream",
     "text": [
      "Saved to db successfully\n",
      "Done with link 3774: https://www.zoopla.co.uk/for-sale/details/65082356/?search_identifier=088bdf64475dbd348ee976fa003d61bc0ca79f9ea5d1c4ade516e1db16859258\n",
      "Starting extraction for link 3775: https://www.zoopla.co.uk/for-sale/details/65079688/?search_identifier=088bdf64475dbd348ee976fa003d61bc0ca79f9ea5d1c4ade516e1db16859258\n"
     ]
    },
    {
     "name": "stderr",
     "output_type": "stream",
     "text": [
      "could not detect version_main.therefore, we are assuming it is chrome 108 or higher\n"
     ]
    },
    {
     "name": "stdout",
     "output_type": "stream",
     "text": [
      "Saved to db successfully\n",
      "Done with link 3775: https://www.zoopla.co.uk/for-sale/details/65079688/?search_identifier=088bdf64475dbd348ee976fa003d61bc0ca79f9ea5d1c4ade516e1db16859258\n",
      "Starting extraction for link 3776: https://www.zoopla.co.uk/for-sale/details/64028909/?search_identifier=088bdf64475dbd348ee976fa003d61bc0ca79f9ea5d1c4ade516e1db16859258\n"
     ]
    },
    {
     "name": "stderr",
     "output_type": "stream",
     "text": [
      "could not detect version_main.therefore, we are assuming it is chrome 108 or higher\n"
     ]
    },
    {
     "name": "stdout",
     "output_type": "stream",
     "text": [
      "Saved to db successfully\n",
      "Done with link 3776: https://www.zoopla.co.uk/for-sale/details/64028909/?search_identifier=088bdf64475dbd348ee976fa003d61bc0ca79f9ea5d1c4ade516e1db16859258\n",
      "Starting extraction for link 3777: https://www.zoopla.co.uk/for-sale/details/65068708/?search_identifier=088bdf64475dbd348ee976fa003d61bc0ca79f9ea5d1c4ade516e1db16859258\n"
     ]
    },
    {
     "name": "stderr",
     "output_type": "stream",
     "text": [
      "could not detect version_main.therefore, we are assuming it is chrome 108 or higher\n"
     ]
    },
    {
     "name": "stdout",
     "output_type": "stream",
     "text": [
      "Saved to db successfully\n",
      "Done with link 3777: https://www.zoopla.co.uk/for-sale/details/65068708/?search_identifier=088bdf64475dbd348ee976fa003d61bc0ca79f9ea5d1c4ade516e1db16859258\n",
      "Starting extraction for link 3778: https://www.zoopla.co.uk/for-sale/details/65063753/?search_identifier=088bdf64475dbd348ee976fa003d61bc0ca79f9ea5d1c4ade516e1db16859258\n"
     ]
    },
    {
     "name": "stderr",
     "output_type": "stream",
     "text": [
      "could not detect version_main.therefore, we are assuming it is chrome 108 or higher\n"
     ]
    },
    {
     "name": "stdout",
     "output_type": "stream",
     "text": [
      "Saved to db successfully\n",
      "Done with link 3778: https://www.zoopla.co.uk/for-sale/details/65063753/?search_identifier=088bdf64475dbd348ee976fa003d61bc0ca79f9ea5d1c4ade516e1db16859258\n",
      "Starting extraction for link 3779: https://www.zoopla.co.uk/for-sale/details/65056062/?search_identifier=088bdf64475dbd348ee976fa003d61bc0ca79f9ea5d1c4ade516e1db16859258\n"
     ]
    },
    {
     "name": "stderr",
     "output_type": "stream",
     "text": [
      "could not detect version_main.therefore, we are assuming it is chrome 108 or higher\n"
     ]
    },
    {
     "name": "stdout",
     "output_type": "stream",
     "text": [
      "Saved to db successfully\n",
      "Done with link 3779: https://www.zoopla.co.uk/for-sale/details/65056062/?search_identifier=088bdf64475dbd348ee976fa003d61bc0ca79f9ea5d1c4ade516e1db16859258\n",
      "Starting extraction for link 3780: https://www.zoopla.co.uk/for-sale/details/65052753/?search_identifier=088bdf64475dbd348ee976fa003d61bc0ca79f9ea5d1c4ade516e1db16859258\n"
     ]
    },
    {
     "name": "stderr",
     "output_type": "stream",
     "text": [
      "could not detect version_main.therefore, we are assuming it is chrome 108 or higher\n"
     ]
    },
    {
     "name": "stdout",
     "output_type": "stream",
     "text": [
      "Saved to db successfully\n",
      "Done with link 3780: https://www.zoopla.co.uk/for-sale/details/65052753/?search_identifier=088bdf64475dbd348ee976fa003d61bc0ca79f9ea5d1c4ade516e1db16859258\n",
      "Starting extraction for link 3781: https://www.zoopla.co.uk/for-sale/details/65046512/?search_identifier=088bdf64475dbd348ee976fa003d61bc0ca79f9ea5d1c4ade516e1db16859258\n"
     ]
    },
    {
     "name": "stderr",
     "output_type": "stream",
     "text": [
      "could not detect version_main.therefore, we are assuming it is chrome 108 or higher\n"
     ]
    },
    {
     "name": "stdout",
     "output_type": "stream",
     "text": [
      "Saved to db successfully\n",
      "Done with link 3781: https://www.zoopla.co.uk/for-sale/details/65046512/?search_identifier=088bdf64475dbd348ee976fa003d61bc0ca79f9ea5d1c4ade516e1db16859258\n",
      "Starting extraction for link 3782: https://www.zoopla.co.uk/for-sale/details/65010976/?search_identifier=088bdf64475dbd348ee976fa003d61bc0ca79f9ea5d1c4ade516e1db16859258\n"
     ]
    },
    {
     "name": "stderr",
     "output_type": "stream",
     "text": [
      "could not detect version_main.therefore, we are assuming it is chrome 108 or higher\n"
     ]
    },
    {
     "name": "stdout",
     "output_type": "stream",
     "text": [
      "Saved to db successfully\n",
      "Done with link 3782: https://www.zoopla.co.uk/for-sale/details/65010976/?search_identifier=088bdf64475dbd348ee976fa003d61bc0ca79f9ea5d1c4ade516e1db16859258\n",
      "Starting extraction for link 3783: https://www.zoopla.co.uk/for-sale/details/65009579/?search_identifier=088bdf64475dbd348ee976fa003d61bc0ca79f9ea5d1c4ade516e1db16859258\n"
     ]
    },
    {
     "name": "stderr",
     "output_type": "stream",
     "text": [
      "could not detect version_main.therefore, we are assuming it is chrome 108 or higher\n"
     ]
    },
    {
     "name": "stdout",
     "output_type": "stream",
     "text": [
      "Saved to db successfully\n",
      "Done with link 3783: https://www.zoopla.co.uk/for-sale/details/65009579/?search_identifier=088bdf64475dbd348ee976fa003d61bc0ca79f9ea5d1c4ade516e1db16859258\n",
      "Starting extraction for link 3784: https://www.zoopla.co.uk/for-sale/details/65006079/?search_identifier=088bdf64475dbd348ee976fa003d61bc0ca79f9ea5d1c4ade516e1db16859258\n"
     ]
    },
    {
     "name": "stderr",
     "output_type": "stream",
     "text": [
      "could not detect version_main.therefore, we are assuming it is chrome 108 or higher\n"
     ]
    },
    {
     "name": "stdout",
     "output_type": "stream",
     "text": [
      "Saved to db successfully\n",
      "Done with link 3784: https://www.zoopla.co.uk/for-sale/details/65006079/?search_identifier=088bdf64475dbd348ee976fa003d61bc0ca79f9ea5d1c4ade516e1db16859258\n",
      "Starting extraction for link 3785: https://www.zoopla.co.uk/for-sale/details/65002615/?search_identifier=088bdf64475dbd348ee976fa003d61bc0ca79f9ea5d1c4ade516e1db16859258\n"
     ]
    },
    {
     "name": "stderr",
     "output_type": "stream",
     "text": [
      "could not detect version_main.therefore, we are assuming it is chrome 108 or higher\n"
     ]
    },
    {
     "name": "stdout",
     "output_type": "stream",
     "text": [
      "Saved to db successfully\n",
      "Done with link 3785: https://www.zoopla.co.uk/for-sale/details/65002615/?search_identifier=088bdf64475dbd348ee976fa003d61bc0ca79f9ea5d1c4ade516e1db16859258\n",
      "Starting extraction for link 3786: https://www.zoopla.co.uk/for-sale/details/64996962/?search_identifier=088bdf64475dbd348ee976fa003d61bc0ca79f9ea5d1c4ade516e1db16859258\n"
     ]
    },
    {
     "name": "stderr",
     "output_type": "stream",
     "text": [
      "could not detect version_main.therefore, we are assuming it is chrome 108 or higher\n"
     ]
    },
    {
     "name": "stdout",
     "output_type": "stream",
     "text": [
      "Saved to db successfully\n",
      "Done with link 3786: https://www.zoopla.co.uk/for-sale/details/64996962/?search_identifier=088bdf64475dbd348ee976fa003d61bc0ca79f9ea5d1c4ade516e1db16859258\n",
      "Starting extraction for link 3787: https://www.zoopla.co.uk/for-sale/details/49080510/?search_identifier=088bdf64475dbd348ee976fa003d61bc0ca79f9ea5d1c4ade516e1db16859258\n",
      "An error occurred for link in get_data_func: https://www.zoopla.co.uk/for-sale/details/49080510/?search_identifier=088bdf64475dbd348ee976fa003d61bc0ca79f9ea5d1c4ade516e1db16859258: Message: no such element: Unable to locate element: {\"method\":\"xpath\",\"selector\":\"//p[@data-testid=\"price\"]\"}\n",
      "  (Session info: chrome=115.0.5790.110); For documentation on this error, please visit: https://www.selenium.dev/documentation/webdriver/troubleshooting/errors#no-such-element-exception\n",
      "Stacktrace:\n",
      "Backtrace:\n",
      "\tGetHandleVerifier [0x00E2A813+48355]\n",
      "\t(No symbol) [0x00DBC4B1]\n",
      "\t(No symbol) [0x00CC5358]\n",
      "\t(No symbol) [0x00CF09A5]\n",
      "\t(No symbol) [0x00CF0B3B]\n",
      "\t(No symbol) [0x00D1E232]\n",
      "\t(No symbol) [0x00D0A784]\n",
      "\t(No symbol) [0x00D1C922]\n",
      "\t(No symbol) [0x00D0A536]\n",
      "\t(No symbol) [0x00CE82DC]\n",
      "\t(No symbol) [0x00CE93DD]\n",
      "\tGetHandleVerifier [0x0108AABD+2539405]\n",
      "\tGetHandleVerifier [0x010CA78F+2800735]\n",
      "\tGetHandleVerifier [0x010C456C+2775612]\n",
      "\tGetHandleVerifier [0x00EB51E0+616112]\n",
      "\t(No symbol) [0x00DC5F8C]\n",
      "\t(No symbol) [0x00DC2328]\n",
      "\t(No symbol) [0x00DC240B]\n",
      "\t(No symbol) [0x00DB4FF7]\n",
      "\tBaseThreadInitThunk [0x76A57D59+25]\n",
      "\tRtlInitializeExceptionChain [0x7773B79B+107]\n",
      "\tRtlClearBits [0x7773B71F+191]\n",
      "\n"
     ]
    },
    {
     "name": "stderr",
     "output_type": "stream",
     "text": [
      "could not detect version_main.therefore, we are assuming it is chrome 108 or higher\n"
     ]
    },
    {
     "name": "stdout",
     "output_type": "stream",
     "text": [
      "Saved to db successfully\n",
      "Done with link 3787: https://www.zoopla.co.uk/for-sale/details/49080510/?search_identifier=088bdf64475dbd348ee976fa003d61bc0ca79f9ea5d1c4ade516e1db16859258\n",
      "Starting extraction for link 3788: https://www.zoopla.co.uk/for-sale/details/63305381/?search_identifier=088bdf64475dbd348ee976fa003d61bc0ca79f9ea5d1c4ade516e1db16859258\n"
     ]
    },
    {
     "name": "stderr",
     "output_type": "stream",
     "text": [
      "could not detect version_main.therefore, we are assuming it is chrome 108 or higher\n"
     ]
    },
    {
     "name": "stdout",
     "output_type": "stream",
     "text": [
      "Saved to db successfully\n",
      "Done with link 3788: https://www.zoopla.co.uk/for-sale/details/63305381/?search_identifier=088bdf64475dbd348ee976fa003d61bc0ca79f9ea5d1c4ade516e1db16859258\n",
      "Starting extraction for link 3789: https://www.zoopla.co.uk/for-sale/details/64976267/?search_identifier=088bdf64475dbd348ee976fa003d61bc0ca79f9ea5d1c4ade516e1db16859258\n"
     ]
    },
    {
     "name": "stderr",
     "output_type": "stream",
     "text": [
      "could not detect version_main.therefore, we are assuming it is chrome 108 or higher\n"
     ]
    },
    {
     "name": "stdout",
     "output_type": "stream",
     "text": [
      "Saved to db successfully\n",
      "Done with link 3789: https://www.zoopla.co.uk/for-sale/details/64976267/?search_identifier=088bdf64475dbd348ee976fa003d61bc0ca79f9ea5d1c4ade516e1db16859258\n",
      "Starting extraction for link 3790: https://www.zoopla.co.uk/for-sale/details/64966268/?search_identifier=088bdf64475dbd348ee976fa003d61bc0ca79f9ea5d1c4ade516e1db16859258\n"
     ]
    },
    {
     "name": "stderr",
     "output_type": "stream",
     "text": [
      "could not detect version_main.therefore, we are assuming it is chrome 108 or higher\n"
     ]
    },
    {
     "name": "stdout",
     "output_type": "stream",
     "text": [
      "Saved to db successfully\n",
      "Done with link 3790: https://www.zoopla.co.uk/for-sale/details/64966268/?search_identifier=088bdf64475dbd348ee976fa003d61bc0ca79f9ea5d1c4ade516e1db16859258\n",
      "Starting extraction for link 3791: https://www.zoopla.co.uk/for-sale/details/53948407/?search_identifier=088bdf64475dbd348ee976fa003d61bc0ca79f9ea5d1c4ade516e1db16859258\n"
     ]
    },
    {
     "name": "stderr",
     "output_type": "stream",
     "text": [
      "could not detect version_main.therefore, we are assuming it is chrome 108 or higher\n"
     ]
    },
    {
     "name": "stdout",
     "output_type": "stream",
     "text": [
      "Saved to db successfully\n",
      "Done with link 3791: https://www.zoopla.co.uk/for-sale/details/53948407/?search_identifier=088bdf64475dbd348ee976fa003d61bc0ca79f9ea5d1c4ade516e1db16859258\n",
      "Starting extraction for link 3792: https://www.zoopla.co.uk/for-sale/details/64958785/?search_identifier=088bdf64475dbd348ee976fa003d61bc0ca79f9ea5d1c4ade516e1db16859258\n"
     ]
    },
    {
     "name": "stderr",
     "output_type": "stream",
     "text": [
      "could not detect version_main.therefore, we are assuming it is chrome 108 or higher\n"
     ]
    },
    {
     "name": "stdout",
     "output_type": "stream",
     "text": [
      "Saved to db successfully\n",
      "Done with link 3792: https://www.zoopla.co.uk/for-sale/details/64958785/?search_identifier=088bdf64475dbd348ee976fa003d61bc0ca79f9ea5d1c4ade516e1db16859258\n",
      "Starting extraction for link 3793: https://www.zoopla.co.uk/for-sale/details/64957401/?search_identifier=088bdf64475dbd348ee976fa003d61bc0ca79f9ea5d1c4ade516e1db16859258\n"
     ]
    },
    {
     "name": "stderr",
     "output_type": "stream",
     "text": [
      "could not detect version_main.therefore, we are assuming it is chrome 108 or higher\n"
     ]
    },
    {
     "name": "stdout",
     "output_type": "stream",
     "text": [
      "Saved to db successfully\n",
      "Done with link 3793: https://www.zoopla.co.uk/for-sale/details/64957401/?search_identifier=088bdf64475dbd348ee976fa003d61bc0ca79f9ea5d1c4ade516e1db16859258\n",
      "Starting extraction for link 3794: https://www.zoopla.co.uk/for-sale/details/64949085/?search_identifier=088bdf64475dbd348ee976fa003d61bc0ca79f9ea5d1c4ade516e1db16859258\n"
     ]
    },
    {
     "name": "stderr",
     "output_type": "stream",
     "text": [
      "could not detect version_main.therefore, we are assuming it is chrome 108 or higher\n"
     ]
    },
    {
     "name": "stdout",
     "output_type": "stream",
     "text": [
      "Saved to db successfully\n",
      "Done with link 3794: https://www.zoopla.co.uk/for-sale/details/64949085/?search_identifier=088bdf64475dbd348ee976fa003d61bc0ca79f9ea5d1c4ade516e1db16859258\n",
      "Starting extraction for link 3795: https://www.zoopla.co.uk/for-sale/details/64939993/?search_identifier=088bdf64475dbd348ee976fa003d61bc0ca79f9ea5d1c4ade516e1db16859258\n"
     ]
    },
    {
     "name": "stderr",
     "output_type": "stream",
     "text": [
      "could not detect version_main.therefore, we are assuming it is chrome 108 or higher\n"
     ]
    },
    {
     "name": "stdout",
     "output_type": "stream",
     "text": [
      "Saved to db successfully\n",
      "Done with link 3795: https://www.zoopla.co.uk/for-sale/details/64939993/?search_identifier=088bdf64475dbd348ee976fa003d61bc0ca79f9ea5d1c4ade516e1db16859258\n",
      "Starting extraction for link 3796: https://www.zoopla.co.uk/for-sale/details/64931803/?search_identifier=088bdf64475dbd348ee976fa003d61bc0ca79f9ea5d1c4ade516e1db16859258\n"
     ]
    },
    {
     "name": "stderr",
     "output_type": "stream",
     "text": [
      "could not detect version_main.therefore, we are assuming it is chrome 108 or higher\n"
     ]
    },
    {
     "name": "stdout",
     "output_type": "stream",
     "text": [
      "Saved to db successfully\n",
      "Done with link 3796: https://www.zoopla.co.uk/for-sale/details/64931803/?search_identifier=088bdf64475dbd348ee976fa003d61bc0ca79f9ea5d1c4ade516e1db16859258\n",
      "Starting extraction for link 3797: https://www.zoopla.co.uk/for-sale/details/64925673/?search_identifier=33239844433322b73f3012b3e7b8a2f25f6b69039e9bc3951b0979ac56409d7a\n"
     ]
    },
    {
     "name": "stderr",
     "output_type": "stream",
     "text": [
      "could not detect version_main.therefore, we are assuming it is chrome 108 or higher\n"
     ]
    },
    {
     "name": "stdout",
     "output_type": "stream",
     "text": [
      "Saved to db successfully\n",
      "Done with link 3797: https://www.zoopla.co.uk/for-sale/details/64925673/?search_identifier=33239844433322b73f3012b3e7b8a2f25f6b69039e9bc3951b0979ac56409d7a\n",
      "Starting extraction for link 3798: https://www.zoopla.co.uk/for-sale/details/64925320/?search_identifier=33239844433322b73f3012b3e7b8a2f25f6b69039e9bc3951b0979ac56409d7a\n"
     ]
    },
    {
     "name": "stderr",
     "output_type": "stream",
     "text": [
      "could not detect version_main.therefore, we are assuming it is chrome 108 or higher\n"
     ]
    },
    {
     "name": "stdout",
     "output_type": "stream",
     "text": [
      "Saved to db successfully\n",
      "Done with link 3798: https://www.zoopla.co.uk/for-sale/details/64925320/?search_identifier=33239844433322b73f3012b3e7b8a2f25f6b69039e9bc3951b0979ac56409d7a\n",
      "Starting extraction for link 3799: https://www.zoopla.co.uk/for-sale/details/64925215/?search_identifier=33239844433322b73f3012b3e7b8a2f25f6b69039e9bc3951b0979ac56409d7a\n"
     ]
    },
    {
     "name": "stderr",
     "output_type": "stream",
     "text": [
      "could not detect version_main.therefore, we are assuming it is chrome 108 or higher\n"
     ]
    },
    {
     "name": "stdout",
     "output_type": "stream",
     "text": [
      "Saved to db successfully\n",
      "Done with link 3799: https://www.zoopla.co.uk/for-sale/details/64925215/?search_identifier=33239844433322b73f3012b3e7b8a2f25f6b69039e9bc3951b0979ac56409d7a\n",
      "Starting extraction for link 3800: https://www.zoopla.co.uk/for-sale/details/64922656/?search_identifier=33239844433322b73f3012b3e7b8a2f25f6b69039e9bc3951b0979ac56409d7a\n"
     ]
    },
    {
     "name": "stderr",
     "output_type": "stream",
     "text": [
      "could not detect version_main.therefore, we are assuming it is chrome 108 or higher\n"
     ]
    },
    {
     "name": "stdout",
     "output_type": "stream",
     "text": [
      "Saved to db successfully\n",
      "Done with link 3800: https://www.zoopla.co.uk/for-sale/details/64922656/?search_identifier=33239844433322b73f3012b3e7b8a2f25f6b69039e9bc3951b0979ac56409d7a\n",
      "Starting extraction for link 3801: https://www.zoopla.co.uk/for-sale/details/64920658/?search_identifier=33239844433322b73f3012b3e7b8a2f25f6b69039e9bc3951b0979ac56409d7a\n"
     ]
    },
    {
     "name": "stderr",
     "output_type": "stream",
     "text": [
      "could not detect version_main.therefore, we are assuming it is chrome 108 or higher\n"
     ]
    },
    {
     "name": "stdout",
     "output_type": "stream",
     "text": [
      "Saved to db successfully\n",
      "Done with link 3801: https://www.zoopla.co.uk/for-sale/details/64920658/?search_identifier=33239844433322b73f3012b3e7b8a2f25f6b69039e9bc3951b0979ac56409d7a\n",
      "Starting extraction for link 3802: https://www.zoopla.co.uk/for-sale/details/64920408/?search_identifier=33239844433322b73f3012b3e7b8a2f25f6b69039e9bc3951b0979ac56409d7a\n"
     ]
    },
    {
     "name": "stderr",
     "output_type": "stream",
     "text": [
      "could not detect version_main.therefore, we are assuming it is chrome 108 or higher\n"
     ]
    },
    {
     "name": "stdout",
     "output_type": "stream",
     "text": [
      "Saved to db successfully\n",
      "Done with link 3802: https://www.zoopla.co.uk/for-sale/details/64920408/?search_identifier=33239844433322b73f3012b3e7b8a2f25f6b69039e9bc3951b0979ac56409d7a\n",
      "Starting extraction for link 3803: https://www.zoopla.co.uk/for-sale/details/64919040/?search_identifier=33239844433322b73f3012b3e7b8a2f25f6b69039e9bc3951b0979ac56409d7a\n"
     ]
    },
    {
     "name": "stderr",
     "output_type": "stream",
     "text": [
      "could not detect version_main.therefore, we are assuming it is chrome 108 or higher\n"
     ]
    },
    {
     "name": "stdout",
     "output_type": "stream",
     "text": [
      "Saved to db successfully\n",
      "Done with link 3803: https://www.zoopla.co.uk/for-sale/details/64919040/?search_identifier=33239844433322b73f3012b3e7b8a2f25f6b69039e9bc3951b0979ac56409d7a\n",
      "Starting extraction for link 3804: https://www.zoopla.co.uk/for-sale/details/64902188/?search_identifier=33239844433322b73f3012b3e7b8a2f25f6b69039e9bc3951b0979ac56409d7a\n"
     ]
    },
    {
     "name": "stderr",
     "output_type": "stream",
     "text": [
      "could not detect version_main.therefore, we are assuming it is chrome 108 or higher\n"
     ]
    },
    {
     "name": "stdout",
     "output_type": "stream",
     "text": [
      "Saved to db successfully\n",
      "Done with link 3804: https://www.zoopla.co.uk/for-sale/details/64902188/?search_identifier=33239844433322b73f3012b3e7b8a2f25f6b69039e9bc3951b0979ac56409d7a\n",
      "Starting extraction for link 3805: https://www.zoopla.co.uk/for-sale/details/64898778/?search_identifier=33239844433322b73f3012b3e7b8a2f25f6b69039e9bc3951b0979ac56409d7a\n"
     ]
    },
    {
     "name": "stderr",
     "output_type": "stream",
     "text": [
      "could not detect version_main.therefore, we are assuming it is chrome 108 or higher\n"
     ]
    },
    {
     "name": "stdout",
     "output_type": "stream",
     "text": [
      "Saved to db successfully\n",
      "Done with link 3805: https://www.zoopla.co.uk/for-sale/details/64898778/?search_identifier=33239844433322b73f3012b3e7b8a2f25f6b69039e9bc3951b0979ac56409d7a\n",
      "Starting extraction for link 3806: https://www.zoopla.co.uk/for-sale/details/64895760/?search_identifier=33239844433322b73f3012b3e7b8a2f25f6b69039e9bc3951b0979ac56409d7a\n"
     ]
    },
    {
     "name": "stderr",
     "output_type": "stream",
     "text": [
      "could not detect version_main.therefore, we are assuming it is chrome 108 or higher\n"
     ]
    },
    {
     "name": "stdout",
     "output_type": "stream",
     "text": [
      "Saved to db successfully\n",
      "Done with link 3806: https://www.zoopla.co.uk/for-sale/details/64895760/?search_identifier=33239844433322b73f3012b3e7b8a2f25f6b69039e9bc3951b0979ac56409d7a\n",
      "Starting extraction for link 3807: https://www.zoopla.co.uk/for-sale/details/64881843/?search_identifier=33239844433322b73f3012b3e7b8a2f25f6b69039e9bc3951b0979ac56409d7a\n"
     ]
    },
    {
     "name": "stderr",
     "output_type": "stream",
     "text": [
      "could not detect version_main.therefore, we are assuming it is chrome 108 or higher\n"
     ]
    },
    {
     "name": "stdout",
     "output_type": "stream",
     "text": [
      "Saved to db successfully\n",
      "Done with link 3807: https://www.zoopla.co.uk/for-sale/details/64881843/?search_identifier=33239844433322b73f3012b3e7b8a2f25f6b69039e9bc3951b0979ac56409d7a\n",
      "Starting extraction for link 3808: https://www.zoopla.co.uk/for-sale/details/64862274/?search_identifier=33239844433322b73f3012b3e7b8a2f25f6b69039e9bc3951b0979ac56409d7a\n"
     ]
    },
    {
     "name": "stderr",
     "output_type": "stream",
     "text": [
      "could not detect version_main.therefore, we are assuming it is chrome 108 or higher\n"
     ]
    },
    {
     "name": "stdout",
     "output_type": "stream",
     "text": [
      "Saved to db successfully\n",
      "Done with link 3808: https://www.zoopla.co.uk/for-sale/details/64862274/?search_identifier=33239844433322b73f3012b3e7b8a2f25f6b69039e9bc3951b0979ac56409d7a\n",
      "Starting extraction for link 3809: https://www.zoopla.co.uk/for-sale/details/64857277/?search_identifier=33239844433322b73f3012b3e7b8a2f25f6b69039e9bc3951b0979ac56409d7a\n"
     ]
    },
    {
     "name": "stderr",
     "output_type": "stream",
     "text": [
      "could not detect version_main.therefore, we are assuming it is chrome 108 or higher\n"
     ]
    },
    {
     "name": "stdout",
     "output_type": "stream",
     "text": [
      "Saved to db successfully\n",
      "Done with link 3809: https://www.zoopla.co.uk/for-sale/details/64857277/?search_identifier=33239844433322b73f3012b3e7b8a2f25f6b69039e9bc3951b0979ac56409d7a\n",
      "Starting extraction for link 3810: https://www.zoopla.co.uk/for-sale/details/64836706/?search_identifier=33239844433322b73f3012b3e7b8a2f25f6b69039e9bc3951b0979ac56409d7a\n"
     ]
    },
    {
     "name": "stderr",
     "output_type": "stream",
     "text": [
      "could not detect version_main.therefore, we are assuming it is chrome 108 or higher\n"
     ]
    },
    {
     "name": "stdout",
     "output_type": "stream",
     "text": [
      "Saved to db successfully\n",
      "Done with link 3810: https://www.zoopla.co.uk/for-sale/details/64836706/?search_identifier=33239844433322b73f3012b3e7b8a2f25f6b69039e9bc3951b0979ac56409d7a\n",
      "Starting extraction for link 3811: https://www.zoopla.co.uk/for-sale/details/64827804/?search_identifier=33239844433322b73f3012b3e7b8a2f25f6b69039e9bc3951b0979ac56409d7a\n"
     ]
    },
    {
     "name": "stderr",
     "output_type": "stream",
     "text": [
      "could not detect version_main.therefore, we are assuming it is chrome 108 or higher\n"
     ]
    },
    {
     "name": "stdout",
     "output_type": "stream",
     "text": [
      "Saved to db successfully\n",
      "Done with link 3811: https://www.zoopla.co.uk/for-sale/details/64827804/?search_identifier=33239844433322b73f3012b3e7b8a2f25f6b69039e9bc3951b0979ac56409d7a\n",
      "Starting extraction for link 3812: https://www.zoopla.co.uk/for-sale/details/64815616/?search_identifier=33239844433322b73f3012b3e7b8a2f25f6b69039e9bc3951b0979ac56409d7a\n"
     ]
    },
    {
     "name": "stderr",
     "output_type": "stream",
     "text": [
      "could not detect version_main.therefore, we are assuming it is chrome 108 or higher\n"
     ]
    },
    {
     "name": "stdout",
     "output_type": "stream",
     "text": [
      "Saved to db successfully\n",
      "Done with link 3812: https://www.zoopla.co.uk/for-sale/details/64815616/?search_identifier=33239844433322b73f3012b3e7b8a2f25f6b69039e9bc3951b0979ac56409d7a\n",
      "Starting extraction for link 3813: https://www.zoopla.co.uk/new-homes/details/64813963/?search_identifier=33239844433322b73f3012b3e7b8a2f25f6b69039e9bc3951b0979ac56409d7a\n"
     ]
    },
    {
     "name": "stderr",
     "output_type": "stream",
     "text": [
      "could not detect version_main.therefore, we are assuming it is chrome 108 or higher\n"
     ]
    },
    {
     "name": "stdout",
     "output_type": "stream",
     "text": [
      "Saved to db successfully\n",
      "Done with link 3813: https://www.zoopla.co.uk/new-homes/details/64813963/?search_identifier=33239844433322b73f3012b3e7b8a2f25f6b69039e9bc3951b0979ac56409d7a\n",
      "Starting extraction for link 3814: https://www.zoopla.co.uk/new-homes/details/64813740/?search_identifier=33239844433322b73f3012b3e7b8a2f25f6b69039e9bc3951b0979ac56409d7a\n"
     ]
    },
    {
     "name": "stderr",
     "output_type": "stream",
     "text": [
      "could not detect version_main.therefore, we are assuming it is chrome 108 or higher\n"
     ]
    },
    {
     "name": "stdout",
     "output_type": "stream",
     "text": [
      "Saved to db successfully\n",
      "Done with link 3814: https://www.zoopla.co.uk/new-homes/details/64813740/?search_identifier=33239844433322b73f3012b3e7b8a2f25f6b69039e9bc3951b0979ac56409d7a\n",
      "Starting extraction for link 3815: https://www.zoopla.co.uk/for-sale/details/64811035/?search_identifier=33239844433322b73f3012b3e7b8a2f25f6b69039e9bc3951b0979ac56409d7a\n"
     ]
    },
    {
     "name": "stderr",
     "output_type": "stream",
     "text": [
      "could not detect version_main.therefore, we are assuming it is chrome 108 or higher\n"
     ]
    },
    {
     "name": "stdout",
     "output_type": "stream",
     "text": [
      "Saved to db successfully\n",
      "Done with link 3815: https://www.zoopla.co.uk/for-sale/details/64811035/?search_identifier=33239844433322b73f3012b3e7b8a2f25f6b69039e9bc3951b0979ac56409d7a\n",
      "Starting extraction for link 3816: https://www.zoopla.co.uk/for-sale/details/64807820/?search_identifier=33239844433322b73f3012b3e7b8a2f25f6b69039e9bc3951b0979ac56409d7a\n"
     ]
    },
    {
     "name": "stderr",
     "output_type": "stream",
     "text": [
      "could not detect version_main.therefore, we are assuming it is chrome 108 or higher\n"
     ]
    },
    {
     "name": "stdout",
     "output_type": "stream",
     "text": [
      "Saved to db successfully\n",
      "Done with link 3816: https://www.zoopla.co.uk/for-sale/details/64807820/?search_identifier=33239844433322b73f3012b3e7b8a2f25f6b69039e9bc3951b0979ac56409d7a\n",
      "Starting extraction for link 3817: https://www.zoopla.co.uk/for-sale/details/64783743/?search_identifier=33239844433322b73f3012b3e7b8a2f25f6b69039e9bc3951b0979ac56409d7a\n"
     ]
    },
    {
     "name": "stderr",
     "output_type": "stream",
     "text": [
      "could not detect version_main.therefore, we are assuming it is chrome 108 or higher\n"
     ]
    },
    {
     "name": "stdout",
     "output_type": "stream",
     "text": [
      "Saved to db successfully\n",
      "Done with link 3817: https://www.zoopla.co.uk/for-sale/details/64783743/?search_identifier=33239844433322b73f3012b3e7b8a2f25f6b69039e9bc3951b0979ac56409d7a\n",
      "Starting extraction for link 3818: https://www.zoopla.co.uk/for-sale/details/57157073/?search_identifier=33239844433322b73f3012b3e7b8a2f25f6b69039e9bc3951b0979ac56409d7a\n"
     ]
    },
    {
     "name": "stderr",
     "output_type": "stream",
     "text": [
      "could not detect version_main.therefore, we are assuming it is chrome 108 or higher\n"
     ]
    },
    {
     "name": "stdout",
     "output_type": "stream",
     "text": [
      "Saved to db successfully\n",
      "Done with link 3818: https://www.zoopla.co.uk/for-sale/details/57157073/?search_identifier=33239844433322b73f3012b3e7b8a2f25f6b69039e9bc3951b0979ac56409d7a\n",
      "Starting extraction for link 3819: https://www.zoopla.co.uk/for-sale/details/64776539/?search_identifier=33239844433322b73f3012b3e7b8a2f25f6b69039e9bc3951b0979ac56409d7a\n"
     ]
    },
    {
     "name": "stderr",
     "output_type": "stream",
     "text": [
      "could not detect version_main.therefore, we are assuming it is chrome 108 or higher\n"
     ]
    },
    {
     "name": "stdout",
     "output_type": "stream",
     "text": [
      "Saved to db successfully\n",
      "Done with link 3819: https://www.zoopla.co.uk/for-sale/details/64776539/?search_identifier=33239844433322b73f3012b3e7b8a2f25f6b69039e9bc3951b0979ac56409d7a\n",
      "Starting extraction for link 3820: https://www.zoopla.co.uk/for-sale/details/64763068/?search_identifier=33239844433322b73f3012b3e7b8a2f25f6b69039e9bc3951b0979ac56409d7a\n"
     ]
    },
    {
     "name": "stderr",
     "output_type": "stream",
     "text": [
      "could not detect version_main.therefore, we are assuming it is chrome 108 or higher\n"
     ]
    },
    {
     "name": "stdout",
     "output_type": "stream",
     "text": [
      "Saved to db successfully\n",
      "Done with link 3820: https://www.zoopla.co.uk/for-sale/details/64763068/?search_identifier=33239844433322b73f3012b3e7b8a2f25f6b69039e9bc3951b0979ac56409d7a\n",
      "Starting extraction for link 3821: https://www.zoopla.co.uk/for-sale/details/64763069/?search_identifier=33239844433322b73f3012b3e7b8a2f25f6b69039e9bc3951b0979ac56409d7a\n"
     ]
    },
    {
     "name": "stderr",
     "output_type": "stream",
     "text": [
      "could not detect version_main.therefore, we are assuming it is chrome 108 or higher\n"
     ]
    },
    {
     "name": "stdout",
     "output_type": "stream",
     "text": [
      "Saved to db successfully\n",
      "Done with link 3821: https://www.zoopla.co.uk/for-sale/details/64763069/?search_identifier=33239844433322b73f3012b3e7b8a2f25f6b69039e9bc3951b0979ac56409d7a\n",
      "Starting extraction for link 3822: https://www.zoopla.co.uk/for-sale/details/64763005/?search_identifier=4c56f7ea3c0dd227bdfcd59798c2368cb62b91b54161547fc95796968c5d43e4\n"
     ]
    },
    {
     "name": "stderr",
     "output_type": "stream",
     "text": [
      "could not detect version_main.therefore, we are assuming it is chrome 108 or higher\n"
     ]
    },
    {
     "name": "stdout",
     "output_type": "stream",
     "text": [
      "Saved to db successfully\n",
      "Done with link 3822: https://www.zoopla.co.uk/for-sale/details/64763005/?search_identifier=4c56f7ea3c0dd227bdfcd59798c2368cb62b91b54161547fc95796968c5d43e4\n",
      "Starting extraction for link 3823: https://www.zoopla.co.uk/for-sale/details/64763000/?search_identifier=4c56f7ea3c0dd227bdfcd59798c2368cb62b91b54161547fc95796968c5d43e4\n"
     ]
    },
    {
     "name": "stderr",
     "output_type": "stream",
     "text": [
      "could not detect version_main.therefore, we are assuming it is chrome 108 or higher\n"
     ]
    },
    {
     "name": "stdout",
     "output_type": "stream",
     "text": [
      "Saved to db successfully\n",
      "Done with link 3823: https://www.zoopla.co.uk/for-sale/details/64763000/?search_identifier=4c56f7ea3c0dd227bdfcd59798c2368cb62b91b54161547fc95796968c5d43e4\n",
      "Starting extraction for link 3824: https://www.zoopla.co.uk/for-sale/details/64761069/?search_identifier=4c56f7ea3c0dd227bdfcd59798c2368cb62b91b54161547fc95796968c5d43e4\n"
     ]
    },
    {
     "name": "stderr",
     "output_type": "stream",
     "text": [
      "could not detect version_main.therefore, we are assuming it is chrome 108 or higher\n"
     ]
    },
    {
     "name": "stdout",
     "output_type": "stream",
     "text": [
      "Saved to db successfully\n",
      "Done with link 3824: https://www.zoopla.co.uk/for-sale/details/64761069/?search_identifier=4c56f7ea3c0dd227bdfcd59798c2368cb62b91b54161547fc95796968c5d43e4\n",
      "Starting extraction for link 3825: https://www.zoopla.co.uk/for-sale/details/64737758/?search_identifier=4c56f7ea3c0dd227bdfcd59798c2368cb62b91b54161547fc95796968c5d43e4\n"
     ]
    },
    {
     "name": "stderr",
     "output_type": "stream",
     "text": [
      "could not detect version_main.therefore, we are assuming it is chrome 108 or higher\n"
     ]
    },
    {
     "name": "stdout",
     "output_type": "stream",
     "text": [
      "Saved to db successfully\n",
      "Done with link 3825: https://www.zoopla.co.uk/for-sale/details/64737758/?search_identifier=4c56f7ea3c0dd227bdfcd59798c2368cb62b91b54161547fc95796968c5d43e4\n",
      "Starting extraction for link 3826: https://www.zoopla.co.uk/for-sale/details/64726470/?search_identifier=4c56f7ea3c0dd227bdfcd59798c2368cb62b91b54161547fc95796968c5d43e4\n"
     ]
    },
    {
     "name": "stderr",
     "output_type": "stream",
     "text": [
      "could not detect version_main.therefore, we are assuming it is chrome 108 or higher\n"
     ]
    },
    {
     "name": "stdout",
     "output_type": "stream",
     "text": [
      "Saved to db successfully\n",
      "Done with link 3826: https://www.zoopla.co.uk/for-sale/details/64726470/?search_identifier=4c56f7ea3c0dd227bdfcd59798c2368cb62b91b54161547fc95796968c5d43e4\n",
      "Starting extraction for link 3827: https://www.zoopla.co.uk/for-sale/details/64722863/?search_identifier=4c56f7ea3c0dd227bdfcd59798c2368cb62b91b54161547fc95796968c5d43e4\n"
     ]
    },
    {
     "name": "stderr",
     "output_type": "stream",
     "text": [
      "could not detect version_main.therefore, we are assuming it is chrome 108 or higher\n"
     ]
    },
    {
     "name": "stdout",
     "output_type": "stream",
     "text": [
      "Saved to db successfully\n",
      "Done with link 3827: https://www.zoopla.co.uk/for-sale/details/64722863/?search_identifier=4c56f7ea3c0dd227bdfcd59798c2368cb62b91b54161547fc95796968c5d43e4\n",
      "Starting extraction for link 3828: https://www.zoopla.co.uk/for-sale/details/64717595/?search_identifier=4c56f7ea3c0dd227bdfcd59798c2368cb62b91b54161547fc95796968c5d43e4\n"
     ]
    },
    {
     "name": "stderr",
     "output_type": "stream",
     "text": [
      "could not detect version_main.therefore, we are assuming it is chrome 108 or higher\n"
     ]
    },
    {
     "name": "stdout",
     "output_type": "stream",
     "text": [
      "Saved to db successfully\n",
      "Done with link 3828: https://www.zoopla.co.uk/for-sale/details/64717595/?search_identifier=4c56f7ea3c0dd227bdfcd59798c2368cb62b91b54161547fc95796968c5d43e4\n",
      "Starting extraction for link 3829: https://www.zoopla.co.uk/new-homes/details/64714091/?search_identifier=4c56f7ea3c0dd227bdfcd59798c2368cb62b91b54161547fc95796968c5d43e4\n"
     ]
    },
    {
     "name": "stderr",
     "output_type": "stream",
     "text": [
      "could not detect version_main.therefore, we are assuming it is chrome 108 or higher\n"
     ]
    },
    {
     "name": "stdout",
     "output_type": "stream",
     "text": [
      "Saved to db successfully\n",
      "Done with link 3829: https://www.zoopla.co.uk/new-homes/details/64714091/?search_identifier=4c56f7ea3c0dd227bdfcd59798c2368cb62b91b54161547fc95796968c5d43e4\n",
      "Starting extraction for link 3830: https://www.zoopla.co.uk/for-sale/details/64682747/?search_identifier=4c56f7ea3c0dd227bdfcd59798c2368cb62b91b54161547fc95796968c5d43e4\n"
     ]
    },
    {
     "name": "stderr",
     "output_type": "stream",
     "text": [
      "could not detect version_main.therefore, we are assuming it is chrome 108 or higher\n"
     ]
    },
    {
     "name": "stdout",
     "output_type": "stream",
     "text": [
      "Saved to db successfully\n",
      "Done with link 3830: https://www.zoopla.co.uk/for-sale/details/64682747/?search_identifier=4c56f7ea3c0dd227bdfcd59798c2368cb62b91b54161547fc95796968c5d43e4\n",
      "Starting extraction for link 3831: https://www.zoopla.co.uk/for-sale/details/64676827/?search_identifier=4c56f7ea3c0dd227bdfcd59798c2368cb62b91b54161547fc95796968c5d43e4\n"
     ]
    },
    {
     "name": "stderr",
     "output_type": "stream",
     "text": [
      "could not detect version_main.therefore, we are assuming it is chrome 108 or higher\n"
     ]
    },
    {
     "name": "stdout",
     "output_type": "stream",
     "text": [
      "Saved to db successfully\n",
      "Done with link 3831: https://www.zoopla.co.uk/for-sale/details/64676827/?search_identifier=4c56f7ea3c0dd227bdfcd59798c2368cb62b91b54161547fc95796968c5d43e4\n",
      "Starting extraction for link 3832: https://www.zoopla.co.uk/for-sale/details/61574886/?search_identifier=4c56f7ea3c0dd227bdfcd59798c2368cb62b91b54161547fc95796968c5d43e4\n"
     ]
    },
    {
     "name": "stderr",
     "output_type": "stream",
     "text": [
      "could not detect version_main.therefore, we are assuming it is chrome 108 or higher\n"
     ]
    },
    {
     "name": "stdout",
     "output_type": "stream",
     "text": [
      "Saved to db successfully\n",
      "Done with link 3832: https://www.zoopla.co.uk/for-sale/details/61574886/?search_identifier=4c56f7ea3c0dd227bdfcd59798c2368cb62b91b54161547fc95796968c5d43e4\n",
      "Starting extraction for link 3833: https://www.zoopla.co.uk/for-sale/details/64623405/?search_identifier=4c56f7ea3c0dd227bdfcd59798c2368cb62b91b54161547fc95796968c5d43e4\n"
     ]
    },
    {
     "name": "stderr",
     "output_type": "stream",
     "text": [
      "could not detect version_main.therefore, we are assuming it is chrome 108 or higher\n"
     ]
    },
    {
     "name": "stdout",
     "output_type": "stream",
     "text": [
      "Saved to db successfully\n",
      "Done with link 3833: https://www.zoopla.co.uk/for-sale/details/64623405/?search_identifier=4c56f7ea3c0dd227bdfcd59798c2368cb62b91b54161547fc95796968c5d43e4\n",
      "Starting extraction for link 3834: https://www.zoopla.co.uk/for-sale/details/64647279/?search_identifier=4c56f7ea3c0dd227bdfcd59798c2368cb62b91b54161547fc95796968c5d43e4\n"
     ]
    },
    {
     "name": "stderr",
     "output_type": "stream",
     "text": [
      "could not detect version_main.therefore, we are assuming it is chrome 108 or higher\n"
     ]
    },
    {
     "name": "stdout",
     "output_type": "stream",
     "text": [
      "Saved to db successfully\n",
      "Done with link 3834: https://www.zoopla.co.uk/for-sale/details/64647279/?search_identifier=4c56f7ea3c0dd227bdfcd59798c2368cb62b91b54161547fc95796968c5d43e4\n",
      "Starting extraction for link 3835: https://www.zoopla.co.uk/for-sale/details/64641895/?search_identifier=4c56f7ea3c0dd227bdfcd59798c2368cb62b91b54161547fc95796968c5d43e4\n"
     ]
    },
    {
     "name": "stderr",
     "output_type": "stream",
     "text": [
      "could not detect version_main.therefore, we are assuming it is chrome 108 or higher\n"
     ]
    },
    {
     "name": "stdout",
     "output_type": "stream",
     "text": [
      "Saved to db successfully\n",
      "Done with link 3835: https://www.zoopla.co.uk/for-sale/details/64641895/?search_identifier=4c56f7ea3c0dd227bdfcd59798c2368cb62b91b54161547fc95796968c5d43e4\n",
      "Starting extraction for link 3836: https://www.zoopla.co.uk/for-sale/details/64630212/?search_identifier=4c56f7ea3c0dd227bdfcd59798c2368cb62b91b54161547fc95796968c5d43e4\n"
     ]
    },
    {
     "name": "stderr",
     "output_type": "stream",
     "text": [
      "could not detect version_main.therefore, we are assuming it is chrome 108 or higher\n"
     ]
    },
    {
     "name": "stdout",
     "output_type": "stream",
     "text": [
      "Saved to db successfully\n",
      "Done with link 3836: https://www.zoopla.co.uk/for-sale/details/64630212/?search_identifier=4c56f7ea3c0dd227bdfcd59798c2368cb62b91b54161547fc95796968c5d43e4\n",
      "Starting extraction for link 3837: https://www.zoopla.co.uk/for-sale/details/64627493/?search_identifier=4c56f7ea3c0dd227bdfcd59798c2368cb62b91b54161547fc95796968c5d43e4\n"
     ]
    },
    {
     "name": "stderr",
     "output_type": "stream",
     "text": [
      "could not detect version_main.therefore, we are assuming it is chrome 108 or higher\n"
     ]
    },
    {
     "name": "stdout",
     "output_type": "stream",
     "text": [
      "Saved to db successfully\n",
      "Done with link 3837: https://www.zoopla.co.uk/for-sale/details/64627493/?search_identifier=4c56f7ea3c0dd227bdfcd59798c2368cb62b91b54161547fc95796968c5d43e4\n",
      "Starting extraction for link 3838: https://www.zoopla.co.uk/for-sale/details/64595216/?search_identifier=4c56f7ea3c0dd227bdfcd59798c2368cb62b91b54161547fc95796968c5d43e4\n"
     ]
    },
    {
     "name": "stderr",
     "output_type": "stream",
     "text": [
      "could not detect version_main.therefore, we are assuming it is chrome 108 or higher\n"
     ]
    },
    {
     "name": "stdout",
     "output_type": "stream",
     "text": [
      "Saved to db successfully\n",
      "Done with link 3838: https://www.zoopla.co.uk/for-sale/details/64595216/?search_identifier=4c56f7ea3c0dd227bdfcd59798c2368cb62b91b54161547fc95796968c5d43e4\n",
      "Starting extraction for link 3839: https://www.zoopla.co.uk/for-sale/details/64588458/?search_identifier=4c56f7ea3c0dd227bdfcd59798c2368cb62b91b54161547fc95796968c5d43e4\n"
     ]
    },
    {
     "name": "stderr",
     "output_type": "stream",
     "text": [
      "could not detect version_main.therefore, we are assuming it is chrome 108 or higher\n"
     ]
    },
    {
     "name": "stdout",
     "output_type": "stream",
     "text": [
      "Saved to db successfully\n",
      "Done with link 3839: https://www.zoopla.co.uk/for-sale/details/64588458/?search_identifier=4c56f7ea3c0dd227bdfcd59798c2368cb62b91b54161547fc95796968c5d43e4\n",
      "Starting extraction for link 3840: https://www.zoopla.co.uk/for-sale/details/64578159/?search_identifier=4c56f7ea3c0dd227bdfcd59798c2368cb62b91b54161547fc95796968c5d43e4\n"
     ]
    },
    {
     "name": "stderr",
     "output_type": "stream",
     "text": [
      "could not detect version_main.therefore, we are assuming it is chrome 108 or higher\n"
     ]
    },
    {
     "name": "stdout",
     "output_type": "stream",
     "text": [
      "Saved to db successfully\n",
      "Done with link 3840: https://www.zoopla.co.uk/for-sale/details/64578159/?search_identifier=4c56f7ea3c0dd227bdfcd59798c2368cb62b91b54161547fc95796968c5d43e4\n",
      "Starting extraction for link 3841: https://www.zoopla.co.uk/for-sale/details/64569773/?search_identifier=4c56f7ea3c0dd227bdfcd59798c2368cb62b91b54161547fc95796968c5d43e4\n"
     ]
    },
    {
     "name": "stderr",
     "output_type": "stream",
     "text": [
      "could not detect version_main.therefore, we are assuming it is chrome 108 or higher\n"
     ]
    },
    {
     "name": "stdout",
     "output_type": "stream",
     "text": [
      "Saved to db successfully\n",
      "Done with link 3841: https://www.zoopla.co.uk/for-sale/details/64569773/?search_identifier=4c56f7ea3c0dd227bdfcd59798c2368cb62b91b54161547fc95796968c5d43e4\n",
      "Starting extraction for link 3842: https://www.zoopla.co.uk/for-sale/details/64569775/?search_identifier=4c56f7ea3c0dd227bdfcd59798c2368cb62b91b54161547fc95796968c5d43e4\n"
     ]
    },
    {
     "name": "stderr",
     "output_type": "stream",
     "text": [
      "could not detect version_main.therefore, we are assuming it is chrome 108 or higher\n"
     ]
    },
    {
     "name": "stdout",
     "output_type": "stream",
     "text": [
      "Saved to db successfully\n",
      "Done with link 3842: https://www.zoopla.co.uk/for-sale/details/64569775/?search_identifier=4c56f7ea3c0dd227bdfcd59798c2368cb62b91b54161547fc95796968c5d43e4\n",
      "Starting extraction for link 3843: https://www.zoopla.co.uk/for-sale/details/64497055/?search_identifier=4c56f7ea3c0dd227bdfcd59798c2368cb62b91b54161547fc95796968c5d43e4\n"
     ]
    },
    {
     "name": "stderr",
     "output_type": "stream",
     "text": [
      "could not detect version_main.therefore, we are assuming it is chrome 108 or higher\n"
     ]
    },
    {
     "name": "stdout",
     "output_type": "stream",
     "text": [
      "Saved to db successfully\n",
      "Done with link 3843: https://www.zoopla.co.uk/for-sale/details/64497055/?search_identifier=4c56f7ea3c0dd227bdfcd59798c2368cb62b91b54161547fc95796968c5d43e4\n",
      "Starting extraction for link 3844: https://www.zoopla.co.uk/for-sale/details/64486901/?search_identifier=4c56f7ea3c0dd227bdfcd59798c2368cb62b91b54161547fc95796968c5d43e4\n"
     ]
    },
    {
     "name": "stderr",
     "output_type": "stream",
     "text": [
      "could not detect version_main.therefore, we are assuming it is chrome 108 or higher\n"
     ]
    },
    {
     "name": "stdout",
     "output_type": "stream",
     "text": [
      "Saved to db successfully\n",
      "Done with link 3844: https://www.zoopla.co.uk/for-sale/details/64486901/?search_identifier=4c56f7ea3c0dd227bdfcd59798c2368cb62b91b54161547fc95796968c5d43e4\n",
      "Starting extraction for link 3845: https://www.zoopla.co.uk/for-sale/details/62099624/?search_identifier=4c56f7ea3c0dd227bdfcd59798c2368cb62b91b54161547fc95796968c5d43e4\n"
     ]
    },
    {
     "name": "stderr",
     "output_type": "stream",
     "text": [
      "could not detect version_main.therefore, we are assuming it is chrome 108 or higher\n"
     ]
    },
    {
     "name": "stdout",
     "output_type": "stream",
     "text": [
      "Saved to db successfully\n",
      "Done with link 3845: https://www.zoopla.co.uk/for-sale/details/62099624/?search_identifier=4c56f7ea3c0dd227bdfcd59798c2368cb62b91b54161547fc95796968c5d43e4\n",
      "Starting extraction for link 3846: https://www.zoopla.co.uk/for-sale/details/64444626/?search_identifier=4c56f7ea3c0dd227bdfcd59798c2368cb62b91b54161547fc95796968c5d43e4\n"
     ]
    },
    {
     "name": "stderr",
     "output_type": "stream",
     "text": [
      "could not detect version_main.therefore, we are assuming it is chrome 108 or higher\n"
     ]
    },
    {
     "name": "stdout",
     "output_type": "stream",
     "text": [
      "Saved to db successfully\n",
      "Done with link 3846: https://www.zoopla.co.uk/for-sale/details/64444626/?search_identifier=4c56f7ea3c0dd227bdfcd59798c2368cb62b91b54161547fc95796968c5d43e4\n",
      "Starting extraction for link 3847: https://www.zoopla.co.uk/for-sale/details/64422057/?search_identifier=99338b42e63b55b2414df54ac6ab7395d2076eb3ffd71a7dc2a89879c00a0ea1\n"
     ]
    },
    {
     "name": "stderr",
     "output_type": "stream",
     "text": [
      "could not detect version_main.therefore, we are assuming it is chrome 108 or higher\n"
     ]
    },
    {
     "name": "stdout",
     "output_type": "stream",
     "text": [
      "Saved to db successfully\n",
      "Done with link 3847: https://www.zoopla.co.uk/for-sale/details/64422057/?search_identifier=99338b42e63b55b2414df54ac6ab7395d2076eb3ffd71a7dc2a89879c00a0ea1\n",
      "Starting extraction for link 3848: https://www.zoopla.co.uk/for-sale/details/64419146/?search_identifier=99338b42e63b55b2414df54ac6ab7395d2076eb3ffd71a7dc2a89879c00a0ea1\n"
     ]
    },
    {
     "name": "stderr",
     "output_type": "stream",
     "text": [
      "could not detect version_main.therefore, we are assuming it is chrome 108 or higher\n"
     ]
    },
    {
     "name": "stdout",
     "output_type": "stream",
     "text": [
      "Saved to db successfully\n",
      "Done with link 3848: https://www.zoopla.co.uk/for-sale/details/64419146/?search_identifier=99338b42e63b55b2414df54ac6ab7395d2076eb3ffd71a7dc2a89879c00a0ea1\n",
      "Starting extraction for link 3849: https://www.zoopla.co.uk/for-sale/details/64392671/?search_identifier=99338b42e63b55b2414df54ac6ab7395d2076eb3ffd71a7dc2a89879c00a0ea1\n"
     ]
    },
    {
     "name": "stderr",
     "output_type": "stream",
     "text": [
      "could not detect version_main.therefore, we are assuming it is chrome 108 or higher\n"
     ]
    },
    {
     "name": "stdout",
     "output_type": "stream",
     "text": [
      "Saved to db successfully\n",
      "Done with link 3849: https://www.zoopla.co.uk/for-sale/details/64392671/?search_identifier=99338b42e63b55b2414df54ac6ab7395d2076eb3ffd71a7dc2a89879c00a0ea1\n",
      "Starting extraction for link 3850: https://www.zoopla.co.uk/for-sale/details/64372571/?search_identifier=99338b42e63b55b2414df54ac6ab7395d2076eb3ffd71a7dc2a89879c00a0ea1\n"
     ]
    },
    {
     "name": "stderr",
     "output_type": "stream",
     "text": [
      "could not detect version_main.therefore, we are assuming it is chrome 108 or higher\n"
     ]
    },
    {
     "name": "stdout",
     "output_type": "stream",
     "text": [
      "Saved to db successfully\n",
      "Done with link 3850: https://www.zoopla.co.uk/for-sale/details/64372571/?search_identifier=99338b42e63b55b2414df54ac6ab7395d2076eb3ffd71a7dc2a89879c00a0ea1\n",
      "Starting extraction for link 3851: https://www.zoopla.co.uk/for-sale/details/64353916/?search_identifier=99338b42e63b55b2414df54ac6ab7395d2076eb3ffd71a7dc2a89879c00a0ea1\n"
     ]
    },
    {
     "name": "stderr",
     "output_type": "stream",
     "text": [
      "could not detect version_main.therefore, we are assuming it is chrome 108 or higher\n"
     ]
    },
    {
     "name": "stdout",
     "output_type": "stream",
     "text": [
      "Saved to db successfully\n",
      "Done with link 3851: https://www.zoopla.co.uk/for-sale/details/64353916/?search_identifier=99338b42e63b55b2414df54ac6ab7395d2076eb3ffd71a7dc2a89879c00a0ea1\n",
      "Starting extraction for link 3852: https://www.zoopla.co.uk/for-sale/details/64352287/?search_identifier=99338b42e63b55b2414df54ac6ab7395d2076eb3ffd71a7dc2a89879c00a0ea1\n"
     ]
    },
    {
     "name": "stderr",
     "output_type": "stream",
     "text": [
      "could not detect version_main.therefore, we are assuming it is chrome 108 or higher\n"
     ]
    },
    {
     "name": "stdout",
     "output_type": "stream",
     "text": [
      "Saved to db successfully\n",
      "Done with link 3852: https://www.zoopla.co.uk/for-sale/details/64352287/?search_identifier=99338b42e63b55b2414df54ac6ab7395d2076eb3ffd71a7dc2a89879c00a0ea1\n",
      "Starting extraction for link 3853: https://www.zoopla.co.uk/for-sale/details/64335932/?search_identifier=99338b42e63b55b2414df54ac6ab7395d2076eb3ffd71a7dc2a89879c00a0ea1\n"
     ]
    },
    {
     "name": "stderr",
     "output_type": "stream",
     "text": [
      "could not detect version_main.therefore, we are assuming it is chrome 108 or higher\n"
     ]
    },
    {
     "name": "stdout",
     "output_type": "stream",
     "text": [
      "Saved to db successfully\n",
      "Done with link 3853: https://www.zoopla.co.uk/for-sale/details/64335932/?search_identifier=99338b42e63b55b2414df54ac6ab7395d2076eb3ffd71a7dc2a89879c00a0ea1\n",
      "Starting extraction for link 3854: https://www.zoopla.co.uk/for-sale/details/64318406/?search_identifier=99338b42e63b55b2414df54ac6ab7395d2076eb3ffd71a7dc2a89879c00a0ea1\n"
     ]
    },
    {
     "name": "stderr",
     "output_type": "stream",
     "text": [
      "could not detect version_main.therefore, we are assuming it is chrome 108 or higher\n"
     ]
    },
    {
     "name": "stdout",
     "output_type": "stream",
     "text": [
      "Saved to db successfully\n",
      "Done with link 3854: https://www.zoopla.co.uk/for-sale/details/64318406/?search_identifier=99338b42e63b55b2414df54ac6ab7395d2076eb3ffd71a7dc2a89879c00a0ea1\n",
      "Starting extraction for link 3855: https://www.zoopla.co.uk/for-sale/details/64270321/?search_identifier=99338b42e63b55b2414df54ac6ab7395d2076eb3ffd71a7dc2a89879c00a0ea1\n"
     ]
    },
    {
     "name": "stderr",
     "output_type": "stream",
     "text": [
      "could not detect version_main.therefore, we are assuming it is chrome 108 or higher\n"
     ]
    },
    {
     "name": "stdout",
     "output_type": "stream",
     "text": [
      "Saved to db successfully\n",
      "Done with link 3855: https://www.zoopla.co.uk/for-sale/details/64270321/?search_identifier=99338b42e63b55b2414df54ac6ab7395d2076eb3ffd71a7dc2a89879c00a0ea1\n",
      "Starting extraction for link 3856: https://www.zoopla.co.uk/for-sale/details/64253984/?search_identifier=99338b42e63b55b2414df54ac6ab7395d2076eb3ffd71a7dc2a89879c00a0ea1\n"
     ]
    },
    {
     "name": "stderr",
     "output_type": "stream",
     "text": [
      "could not detect version_main.therefore, we are assuming it is chrome 108 or higher\n"
     ]
    },
    {
     "name": "stdout",
     "output_type": "stream",
     "text": [
      "Saved to db successfully\n",
      "Done with link 3856: https://www.zoopla.co.uk/for-sale/details/64253984/?search_identifier=99338b42e63b55b2414df54ac6ab7395d2076eb3ffd71a7dc2a89879c00a0ea1\n",
      "Starting extraction for link 3857: https://www.zoopla.co.uk/for-sale/details/64239850/?search_identifier=99338b42e63b55b2414df54ac6ab7395d2076eb3ffd71a7dc2a89879c00a0ea1\n"
     ]
    },
    {
     "name": "stderr",
     "output_type": "stream",
     "text": [
      "could not detect version_main.therefore, we are assuming it is chrome 108 or higher\n"
     ]
    },
    {
     "name": "stdout",
     "output_type": "stream",
     "text": [
      "Saved to db successfully\n",
      "Done with link 3857: https://www.zoopla.co.uk/for-sale/details/64239850/?search_identifier=99338b42e63b55b2414df54ac6ab7395d2076eb3ffd71a7dc2a89879c00a0ea1\n",
      "Starting extraction for link 3858: https://www.zoopla.co.uk/for-sale/details/64222899/?search_identifier=99338b42e63b55b2414df54ac6ab7395d2076eb3ffd71a7dc2a89879c00a0ea1\n"
     ]
    },
    {
     "name": "stderr",
     "output_type": "stream",
     "text": [
      "could not detect version_main.therefore, we are assuming it is chrome 108 or higher\n"
     ]
    },
    {
     "name": "stdout",
     "output_type": "stream",
     "text": [
      "Saved to db successfully\n",
      "Done with link 3858: https://www.zoopla.co.uk/for-sale/details/64222899/?search_identifier=99338b42e63b55b2414df54ac6ab7395d2076eb3ffd71a7dc2a89879c00a0ea1\n",
      "Starting extraction for link 3859: https://www.zoopla.co.uk/for-sale/details/64195211/?search_identifier=99338b42e63b55b2414df54ac6ab7395d2076eb3ffd71a7dc2a89879c00a0ea1\n"
     ]
    },
    {
     "name": "stderr",
     "output_type": "stream",
     "text": [
      "could not detect version_main.therefore, we are assuming it is chrome 108 or higher\n"
     ]
    },
    {
     "name": "stdout",
     "output_type": "stream",
     "text": [
      "Saved to db successfully\n",
      "Done with link 3859: https://www.zoopla.co.uk/for-sale/details/64195211/?search_identifier=99338b42e63b55b2414df54ac6ab7395d2076eb3ffd71a7dc2a89879c00a0ea1\n",
      "Starting extraction for link 3860: https://www.zoopla.co.uk/for-sale/details/64176288/?search_identifier=99338b42e63b55b2414df54ac6ab7395d2076eb3ffd71a7dc2a89879c00a0ea1\n"
     ]
    },
    {
     "name": "stderr",
     "output_type": "stream",
     "text": [
      "could not detect version_main.therefore, we are assuming it is chrome 108 or higher\n"
     ]
    },
    {
     "name": "stdout",
     "output_type": "stream",
     "text": [
      "Saved to db successfully\n",
      "Done with link 3860: https://www.zoopla.co.uk/for-sale/details/64176288/?search_identifier=99338b42e63b55b2414df54ac6ab7395d2076eb3ffd71a7dc2a89879c00a0ea1\n",
      "Starting extraction for link 3861: https://www.zoopla.co.uk/for-sale/details/64158812/?search_identifier=99338b42e63b55b2414df54ac6ab7395d2076eb3ffd71a7dc2a89879c00a0ea1\n"
     ]
    },
    {
     "name": "stderr",
     "output_type": "stream",
     "text": [
      "could not detect version_main.therefore, we are assuming it is chrome 108 or higher\n"
     ]
    },
    {
     "name": "stdout",
     "output_type": "stream",
     "text": [
      "Saved to db successfully\n",
      "Done with link 3861: https://www.zoopla.co.uk/for-sale/details/64158812/?search_identifier=99338b42e63b55b2414df54ac6ab7395d2076eb3ffd71a7dc2a89879c00a0ea1\n",
      "Starting extraction for link 3862: https://www.zoopla.co.uk/for-sale/details/64127159/?search_identifier=99338b42e63b55b2414df54ac6ab7395d2076eb3ffd71a7dc2a89879c00a0ea1\n"
     ]
    },
    {
     "name": "stderr",
     "output_type": "stream",
     "text": [
      "could not detect version_main.therefore, we are assuming it is chrome 108 or higher\n"
     ]
    },
    {
     "name": "stdout",
     "output_type": "stream",
     "text": [
      "Saved to db successfully\n",
      "Done with link 3862: https://www.zoopla.co.uk/for-sale/details/64127159/?search_identifier=99338b42e63b55b2414df54ac6ab7395d2076eb3ffd71a7dc2a89879c00a0ea1\n",
      "Starting extraction for link 3863: https://www.zoopla.co.uk/for-sale/details/64116094/?search_identifier=99338b42e63b55b2414df54ac6ab7395d2076eb3ffd71a7dc2a89879c00a0ea1\n"
     ]
    },
    {
     "name": "stderr",
     "output_type": "stream",
     "text": [
      "could not detect version_main.therefore, we are assuming it is chrome 108 or higher\n"
     ]
    },
    {
     "name": "stdout",
     "output_type": "stream",
     "text": [
      "Saved to db successfully\n",
      "Done with link 3863: https://www.zoopla.co.uk/for-sale/details/64116094/?search_identifier=99338b42e63b55b2414df54ac6ab7395d2076eb3ffd71a7dc2a89879c00a0ea1\n",
      "Starting extraction for link 3864: https://www.zoopla.co.uk/for-sale/details/64077972/?search_identifier=99338b42e63b55b2414df54ac6ab7395d2076eb3ffd71a7dc2a89879c00a0ea1\n"
     ]
    },
    {
     "name": "stderr",
     "output_type": "stream",
     "text": [
      "could not detect version_main.therefore, we are assuming it is chrome 108 or higher\n"
     ]
    },
    {
     "name": "stdout",
     "output_type": "stream",
     "text": [
      "Saved to db successfully\n",
      "Done with link 3864: https://www.zoopla.co.uk/for-sale/details/64077972/?search_identifier=99338b42e63b55b2414df54ac6ab7395d2076eb3ffd71a7dc2a89879c00a0ea1\n",
      "Starting extraction for link 3865: https://www.zoopla.co.uk/for-sale/details/64004835/?search_identifier=99338b42e63b55b2414df54ac6ab7395d2076eb3ffd71a7dc2a89879c00a0ea1\n"
     ]
    },
    {
     "name": "stderr",
     "output_type": "stream",
     "text": [
      "could not detect version_main.therefore, we are assuming it is chrome 108 or higher\n"
     ]
    },
    {
     "name": "stdout",
     "output_type": "stream",
     "text": [
      "Saved to db successfully\n",
      "Done with link 3865: https://www.zoopla.co.uk/for-sale/details/64004835/?search_identifier=99338b42e63b55b2414df54ac6ab7395d2076eb3ffd71a7dc2a89879c00a0ea1\n",
      "Starting extraction for link 3866: https://www.zoopla.co.uk/for-sale/details/63999682/?search_identifier=99338b42e63b55b2414df54ac6ab7395d2076eb3ffd71a7dc2a89879c00a0ea1\n"
     ]
    },
    {
     "name": "stderr",
     "output_type": "stream",
     "text": [
      "could not detect version_main.therefore, we are assuming it is chrome 108 or higher\n"
     ]
    },
    {
     "name": "stdout",
     "output_type": "stream",
     "text": [
      "Saved to db successfully\n",
      "Done with link 3866: https://www.zoopla.co.uk/for-sale/details/63999682/?search_identifier=99338b42e63b55b2414df54ac6ab7395d2076eb3ffd71a7dc2a89879c00a0ea1\n",
      "Starting extraction for link 3867: https://www.zoopla.co.uk/for-sale/details/63917814/?search_identifier=99338b42e63b55b2414df54ac6ab7395d2076eb3ffd71a7dc2a89879c00a0ea1\n"
     ]
    },
    {
     "name": "stderr",
     "output_type": "stream",
     "text": [
      "could not detect version_main.therefore, we are assuming it is chrome 108 or higher\n"
     ]
    },
    {
     "name": "stdout",
     "output_type": "stream",
     "text": [
      "Saved to db successfully\n",
      "Done with link 3867: https://www.zoopla.co.uk/for-sale/details/63917814/?search_identifier=99338b42e63b55b2414df54ac6ab7395d2076eb3ffd71a7dc2a89879c00a0ea1\n",
      "Starting extraction for link 3868: https://www.zoopla.co.uk/for-sale/details/61617667/?search_identifier=99338b42e63b55b2414df54ac6ab7395d2076eb3ffd71a7dc2a89879c00a0ea1\n"
     ]
    },
    {
     "name": "stderr",
     "output_type": "stream",
     "text": [
      "could not detect version_main.therefore, we are assuming it is chrome 108 or higher\n"
     ]
    },
    {
     "name": "stdout",
     "output_type": "stream",
     "text": [
      "Saved to db successfully\n",
      "Done with link 3868: https://www.zoopla.co.uk/for-sale/details/61617667/?search_identifier=99338b42e63b55b2414df54ac6ab7395d2076eb3ffd71a7dc2a89879c00a0ea1\n",
      "Starting extraction for link 3869: https://www.zoopla.co.uk/for-sale/details/63762679/?search_identifier=99338b42e63b55b2414df54ac6ab7395d2076eb3ffd71a7dc2a89879c00a0ea1\n"
     ]
    },
    {
     "name": "stderr",
     "output_type": "stream",
     "text": [
      "could not detect version_main.therefore, we are assuming it is chrome 108 or higher\n"
     ]
    },
    {
     "name": "stdout",
     "output_type": "stream",
     "text": [
      "Saved to db successfully\n",
      "Done with link 3869: https://www.zoopla.co.uk/for-sale/details/63762679/?search_identifier=99338b42e63b55b2414df54ac6ab7395d2076eb3ffd71a7dc2a89879c00a0ea1\n",
      "Starting extraction for link 3870: https://www.zoopla.co.uk/new-homes/details/64543630/?search_identifier=99338b42e63b55b2414df54ac6ab7395d2076eb3ffd71a7dc2a89879c00a0ea1\n"
     ]
    },
    {
     "name": "stderr",
     "output_type": "stream",
     "text": [
      "could not detect version_main.therefore, we are assuming it is chrome 108 or higher\n"
     ]
    },
    {
     "name": "stdout",
     "output_type": "stream",
     "text": [
      "Saved to db successfully\n",
      "Done with link 3870: https://www.zoopla.co.uk/new-homes/details/64543630/?search_identifier=99338b42e63b55b2414df54ac6ab7395d2076eb3ffd71a7dc2a89879c00a0ea1\n",
      "Starting extraction for link 3871: https://www.zoopla.co.uk/for-sale/details/63566620/?search_identifier=99338b42e63b55b2414df54ac6ab7395d2076eb3ffd71a7dc2a89879c00a0ea1\n"
     ]
    },
    {
     "name": "stderr",
     "output_type": "stream",
     "text": [
      "could not detect version_main.therefore, we are assuming it is chrome 108 or higher\n"
     ]
    },
    {
     "name": "stdout",
     "output_type": "stream",
     "text": [
      "Saved to db successfully\n",
      "Done with link 3871: https://www.zoopla.co.uk/for-sale/details/63566620/?search_identifier=99338b42e63b55b2414df54ac6ab7395d2076eb3ffd71a7dc2a89879c00a0ea1\n",
      "Starting extraction for link 3872: https://www.zoopla.co.uk/new-homes/details/64543636/?search_identifier=9d11f2ac1446168fd9c8737a04a9495bdb3d3981baaefadc72cec2c077736540\n"
     ]
    },
    {
     "name": "stderr",
     "output_type": "stream",
     "text": [
      "could not detect version_main.therefore, we are assuming it is chrome 108 or higher\n"
     ]
    },
    {
     "name": "stdout",
     "output_type": "stream",
     "text": [
      "Saved to db successfully\n",
      "Done with link 3872: https://www.zoopla.co.uk/new-homes/details/64543636/?search_identifier=9d11f2ac1446168fd9c8737a04a9495bdb3d3981baaefadc72cec2c077736540\n",
      "Starting extraction for link 3873: https://www.zoopla.co.uk/for-sale/details/63306698/?search_identifier=9d11f2ac1446168fd9c8737a04a9495bdb3d3981baaefadc72cec2c077736540\n"
     ]
    },
    {
     "name": "stderr",
     "output_type": "stream",
     "text": [
      "could not detect version_main.therefore, we are assuming it is chrome 108 or higher\n"
     ]
    },
    {
     "name": "stdout",
     "output_type": "stream",
     "text": [
      "Saved to db successfully\n",
      "Done with link 3873: https://www.zoopla.co.uk/for-sale/details/63306698/?search_identifier=9d11f2ac1446168fd9c8737a04a9495bdb3d3981baaefadc72cec2c077736540\n",
      "Starting extraction for link 3874: https://www.zoopla.co.uk/for-sale/details/62715298/?search_identifier=9d11f2ac1446168fd9c8737a04a9495bdb3d3981baaefadc72cec2c077736540\n"
     ]
    },
    {
     "name": "stderr",
     "output_type": "stream",
     "text": [
      "could not detect version_main.therefore, we are assuming it is chrome 108 or higher\n"
     ]
    },
    {
     "name": "stdout",
     "output_type": "stream",
     "text": [
      "Saved to db successfully\n",
      "Done with link 3874: https://www.zoopla.co.uk/for-sale/details/62715298/?search_identifier=9d11f2ac1446168fd9c8737a04a9495bdb3d3981baaefadc72cec2c077736540\n",
      "Starting extraction for link 3875: https://www.zoopla.co.uk/for-sale/details/62551622/?search_identifier=9d11f2ac1446168fd9c8737a04a9495bdb3d3981baaefadc72cec2c077736540\n"
     ]
    },
    {
     "name": "stderr",
     "output_type": "stream",
     "text": [
      "could not detect version_main.therefore, we are assuming it is chrome 108 or higher\n"
     ]
    },
    {
     "name": "stdout",
     "output_type": "stream",
     "text": [
      "Saved to db successfully\n",
      "Done with link 3875: https://www.zoopla.co.uk/for-sale/details/62551622/?search_identifier=9d11f2ac1446168fd9c8737a04a9495bdb3d3981baaefadc72cec2c077736540\n",
      "Starting extraction for link 3876: https://www.zoopla.co.uk/for-sale/details/62508380/?search_identifier=9d11f2ac1446168fd9c8737a04a9495bdb3d3981baaefadc72cec2c077736540\n"
     ]
    },
    {
     "name": "stderr",
     "output_type": "stream",
     "text": [
      "could not detect version_main.therefore, we are assuming it is chrome 108 or higher\n"
     ]
    },
    {
     "name": "stdout",
     "output_type": "stream",
     "text": [
      "Saved to db successfully\n",
      "Done with link 3876: https://www.zoopla.co.uk/for-sale/details/62508380/?search_identifier=9d11f2ac1446168fd9c8737a04a9495bdb3d3981baaefadc72cec2c077736540\n",
      "Starting extraction for link 3877: https://www.zoopla.co.uk/for-sale/details/62498489/?search_identifier=9d11f2ac1446168fd9c8737a04a9495bdb3d3981baaefadc72cec2c077736540\n"
     ]
    },
    {
     "name": "stderr",
     "output_type": "stream",
     "text": [
      "could not detect version_main.therefore, we are assuming it is chrome 108 or higher\n"
     ]
    },
    {
     "name": "stdout",
     "output_type": "stream",
     "text": [
      "Saved to db successfully\n",
      "Done with link 3877: https://www.zoopla.co.uk/for-sale/details/62498489/?search_identifier=9d11f2ac1446168fd9c8737a04a9495bdb3d3981baaefadc72cec2c077736540\n",
      "Starting extraction for link 3878: https://www.zoopla.co.uk/for-sale/details/62451785/?search_identifier=9d11f2ac1446168fd9c8737a04a9495bdb3d3981baaefadc72cec2c077736540\n"
     ]
    },
    {
     "name": "stderr",
     "output_type": "stream",
     "text": [
      "could not detect version_main.therefore, we are assuming it is chrome 108 or higher\n"
     ]
    },
    {
     "name": "stdout",
     "output_type": "stream",
     "text": [
      "Saved to db successfully\n",
      "Done with link 3878: https://www.zoopla.co.uk/for-sale/details/62451785/?search_identifier=9d11f2ac1446168fd9c8737a04a9495bdb3d3981baaefadc72cec2c077736540\n",
      "Starting extraction for link 3879: https://www.zoopla.co.uk/for-sale/details/62419956/?search_identifier=9d11f2ac1446168fd9c8737a04a9495bdb3d3981baaefadc72cec2c077736540\n"
     ]
    },
    {
     "name": "stderr",
     "output_type": "stream",
     "text": [
      "could not detect version_main.therefore, we are assuming it is chrome 108 or higher\n"
     ]
    },
    {
     "name": "stdout",
     "output_type": "stream",
     "text": [
      "Saved to db successfully\n",
      "Done with link 3879: https://www.zoopla.co.uk/for-sale/details/62419956/?search_identifier=9d11f2ac1446168fd9c8737a04a9495bdb3d3981baaefadc72cec2c077736540\n",
      "Starting extraction for link 3880: https://www.zoopla.co.uk/for-sale/details/62221407/?search_identifier=9d11f2ac1446168fd9c8737a04a9495bdb3d3981baaefadc72cec2c077736540\n"
     ]
    },
    {
     "name": "stderr",
     "output_type": "stream",
     "text": [
      "could not detect version_main.therefore, we are assuming it is chrome 108 or higher\n"
     ]
    },
    {
     "name": "stdout",
     "output_type": "stream",
     "text": [
      "Saved to db successfully\n",
      "Done with link 3880: https://www.zoopla.co.uk/for-sale/details/62221407/?search_identifier=9d11f2ac1446168fd9c8737a04a9495bdb3d3981baaefadc72cec2c077736540\n",
      "Starting extraction for link 3881: https://www.zoopla.co.uk/for-sale/details/62039510/?search_identifier=9d11f2ac1446168fd9c8737a04a9495bdb3d3981baaefadc72cec2c077736540\n"
     ]
    },
    {
     "name": "stderr",
     "output_type": "stream",
     "text": [
      "could not detect version_main.therefore, we are assuming it is chrome 108 or higher\n"
     ]
    },
    {
     "name": "stdout",
     "output_type": "stream",
     "text": [
      "Saved to db successfully\n",
      "Done with link 3881: https://www.zoopla.co.uk/for-sale/details/62039510/?search_identifier=9d11f2ac1446168fd9c8737a04a9495bdb3d3981baaefadc72cec2c077736540\n",
      "Starting extraction for link 3882: https://www.zoopla.co.uk/for-sale/details/61909014/?search_identifier=9d11f2ac1446168fd9c8737a04a9495bdb3d3981baaefadc72cec2c077736540\n"
     ]
    },
    {
     "name": "stderr",
     "output_type": "stream",
     "text": [
      "could not detect version_main.therefore, we are assuming it is chrome 108 or higher\n"
     ]
    },
    {
     "name": "stdout",
     "output_type": "stream",
     "text": [
      "Saved to db successfully\n",
      "Done with link 3882: https://www.zoopla.co.uk/for-sale/details/61909014/?search_identifier=9d11f2ac1446168fd9c8737a04a9495bdb3d3981baaefadc72cec2c077736540\n",
      "Starting extraction for link 3883: https://www.zoopla.co.uk/for-sale/details/61664744/?search_identifier=9d11f2ac1446168fd9c8737a04a9495bdb3d3981baaefadc72cec2c077736540\n"
     ]
    },
    {
     "name": "stderr",
     "output_type": "stream",
     "text": [
      "could not detect version_main.therefore, we are assuming it is chrome 108 or higher\n"
     ]
    },
    {
     "name": "stdout",
     "output_type": "stream",
     "text": [
      "Saved to db successfully\n",
      "Done with link 3883: https://www.zoopla.co.uk/for-sale/details/61664744/?search_identifier=9d11f2ac1446168fd9c8737a04a9495bdb3d3981baaefadc72cec2c077736540\n",
      "Starting extraction for link 3884: https://www.zoopla.co.uk/for-sale/details/61615253/?search_identifier=9d11f2ac1446168fd9c8737a04a9495bdb3d3981baaefadc72cec2c077736540\n"
     ]
    },
    {
     "name": "stderr",
     "output_type": "stream",
     "text": [
      "could not detect version_main.therefore, we are assuming it is chrome 108 or higher\n"
     ]
    },
    {
     "name": "stdout",
     "output_type": "stream",
     "text": [
      "Saved to db successfully\n",
      "Done with link 3884: https://www.zoopla.co.uk/for-sale/details/61615253/?search_identifier=9d11f2ac1446168fd9c8737a04a9495bdb3d3981baaefadc72cec2c077736540\n",
      "Starting extraction for link 3885: https://www.zoopla.co.uk/for-sale/details/62217585/?search_identifier=9d11f2ac1446168fd9c8737a04a9495bdb3d3981baaefadc72cec2c077736540\n"
     ]
    },
    {
     "name": "stderr",
     "output_type": "stream",
     "text": [
      "could not detect version_main.therefore, we are assuming it is chrome 108 or higher\n"
     ]
    },
    {
     "name": "stdout",
     "output_type": "stream",
     "text": [
      "Saved to db successfully\n",
      "Done with link 3885: https://www.zoopla.co.uk/for-sale/details/62217585/?search_identifier=9d11f2ac1446168fd9c8737a04a9495bdb3d3981baaefadc72cec2c077736540\n",
      "Starting extraction for link 3886: https://www.zoopla.co.uk/for-sale/details/61346742/?search_identifier=9d11f2ac1446168fd9c8737a04a9495bdb3d3981baaefadc72cec2c077736540\n"
     ]
    },
    {
     "name": "stderr",
     "output_type": "stream",
     "text": [
      "could not detect version_main.therefore, we are assuming it is chrome 108 or higher\n"
     ]
    },
    {
     "name": "stdout",
     "output_type": "stream",
     "text": [
      "Saved to db successfully\n",
      "Done with link 3886: https://www.zoopla.co.uk/for-sale/details/61346742/?search_identifier=9d11f2ac1446168fd9c8737a04a9495bdb3d3981baaefadc72cec2c077736540\n",
      "Starting extraction for link 3887: https://www.zoopla.co.uk/for-sale/details/57077156/?search_identifier=9d11f2ac1446168fd9c8737a04a9495bdb3d3981baaefadc72cec2c077736540\n"
     ]
    },
    {
     "name": "stderr",
     "output_type": "stream",
     "text": [
      "could not detect version_main.therefore, we are assuming it is chrome 108 or higher\n"
     ]
    },
    {
     "name": "stdout",
     "output_type": "stream",
     "text": [
      "Saved to db successfully\n",
      "Done with link 3887: https://www.zoopla.co.uk/for-sale/details/57077156/?search_identifier=9d11f2ac1446168fd9c8737a04a9495bdb3d3981baaefadc72cec2c077736540\n",
      "Starting extraction for link 3888: https://www.zoopla.co.uk/for-sale/details/65219060/?search_identifier=c34a0ff7929789f24cded1ee71b8b77ada04d710afd8ab71c163fa91874aa544\n"
     ]
    },
    {
     "name": "stderr",
     "output_type": "stream",
     "text": [
      "could not detect version_main.therefore, we are assuming it is chrome 108 or higher\n"
     ]
    },
    {
     "name": "stdout",
     "output_type": "stream",
     "text": [
      "Saved to db successfully\n",
      "Done with link 3888: https://www.zoopla.co.uk/for-sale/details/65219060/?search_identifier=c34a0ff7929789f24cded1ee71b8b77ada04d710afd8ab71c163fa91874aa544\n",
      "Starting extraction for link 3889: https://www.zoopla.co.uk/for-sale/details/65217051/?search_identifier=c34a0ff7929789f24cded1ee71b8b77ada04d710afd8ab71c163fa91874aa544\n"
     ]
    },
    {
     "name": "stderr",
     "output_type": "stream",
     "text": [
      "could not detect version_main.therefore, we are assuming it is chrome 108 or higher\n"
     ]
    },
    {
     "name": "stdout",
     "output_type": "stream",
     "text": [
      "Saved to db successfully\n",
      "Done with link 3889: https://www.zoopla.co.uk/for-sale/details/65217051/?search_identifier=c34a0ff7929789f24cded1ee71b8b77ada04d710afd8ab71c163fa91874aa544\n",
      "Starting extraction for link 3890: https://www.zoopla.co.uk/for-sale/details/65210530/?search_identifier=c34a0ff7929789f24cded1ee71b8b77ada04d710afd8ab71c163fa91874aa544\n"
     ]
    },
    {
     "name": "stderr",
     "output_type": "stream",
     "text": [
      "could not detect version_main.therefore, we are assuming it is chrome 108 or higher\n"
     ]
    },
    {
     "name": "stdout",
     "output_type": "stream",
     "text": [
      "Saved to db successfully\n",
      "Done with link 3890: https://www.zoopla.co.uk/for-sale/details/65210530/?search_identifier=c34a0ff7929789f24cded1ee71b8b77ada04d710afd8ab71c163fa91874aa544\n",
      "Starting extraction for link 3891: https://www.zoopla.co.uk/for-sale/details/65204924/?search_identifier=c34a0ff7929789f24cded1ee71b8b77ada04d710afd8ab71c163fa91874aa544\n"
     ]
    },
    {
     "name": "stderr",
     "output_type": "stream",
     "text": [
      "could not detect version_main.therefore, we are assuming it is chrome 108 or higher\n"
     ]
    },
    {
     "name": "stdout",
     "output_type": "stream",
     "text": [
      "Saved to db successfully\n",
      "Done with link 3891: https://www.zoopla.co.uk/for-sale/details/65204924/?search_identifier=c34a0ff7929789f24cded1ee71b8b77ada04d710afd8ab71c163fa91874aa544\n",
      "Starting extraction for link 3892: https://www.zoopla.co.uk/for-sale/details/65204156/?search_identifier=c34a0ff7929789f24cded1ee71b8b77ada04d710afd8ab71c163fa91874aa544\n"
     ]
    },
    {
     "name": "stderr",
     "output_type": "stream",
     "text": [
      "could not detect version_main.therefore, we are assuming it is chrome 108 or higher\n"
     ]
    },
    {
     "name": "stdout",
     "output_type": "stream",
     "text": [
      "Saved to db successfully\n",
      "Done with link 3892: https://www.zoopla.co.uk/for-sale/details/65204156/?search_identifier=c34a0ff7929789f24cded1ee71b8b77ada04d710afd8ab71c163fa91874aa544\n",
      "Starting extraction for link 3893: https://www.zoopla.co.uk/for-sale/details/65202421/?search_identifier=c34a0ff7929789f24cded1ee71b8b77ada04d710afd8ab71c163fa91874aa544\n"
     ]
    },
    {
     "name": "stderr",
     "output_type": "stream",
     "text": [
      "could not detect version_main.therefore, we are assuming it is chrome 108 or higher\n"
     ]
    },
    {
     "name": "stdout",
     "output_type": "stream",
     "text": [
      "Saved to db successfully\n",
      "Done with link 3893: https://www.zoopla.co.uk/for-sale/details/65202421/?search_identifier=c34a0ff7929789f24cded1ee71b8b77ada04d710afd8ab71c163fa91874aa544\n",
      "Starting extraction for link 3894: https://www.zoopla.co.uk/for-sale/details/65200203/?search_identifier=c34a0ff7929789f24cded1ee71b8b77ada04d710afd8ab71c163fa91874aa544\n"
     ]
    },
    {
     "name": "stderr",
     "output_type": "stream",
     "text": [
      "could not detect version_main.therefore, we are assuming it is chrome 108 or higher\n"
     ]
    },
    {
     "name": "stdout",
     "output_type": "stream",
     "text": [
      "Saved to db successfully\n",
      "Done with link 3894: https://www.zoopla.co.uk/for-sale/details/65200203/?search_identifier=c34a0ff7929789f24cded1ee71b8b77ada04d710afd8ab71c163fa91874aa544\n",
      "Starting extraction for link 3895: https://www.zoopla.co.uk/for-sale/details/65194373/?search_identifier=c34a0ff7929789f24cded1ee71b8b77ada04d710afd8ab71c163fa91874aa544\n"
     ]
    },
    {
     "name": "stderr",
     "output_type": "stream",
     "text": [
      "could not detect version_main.therefore, we are assuming it is chrome 108 or higher\n"
     ]
    },
    {
     "name": "stdout",
     "output_type": "stream",
     "text": [
      "Saved to db successfully\n",
      "Done with link 3895: https://www.zoopla.co.uk/for-sale/details/65194373/?search_identifier=c34a0ff7929789f24cded1ee71b8b77ada04d710afd8ab71c163fa91874aa544\n",
      "Starting extraction for link 3896: https://www.zoopla.co.uk/for-sale/details/65190448/?search_identifier=c34a0ff7929789f24cded1ee71b8b77ada04d710afd8ab71c163fa91874aa544\n"
     ]
    },
    {
     "name": "stderr",
     "output_type": "stream",
     "text": [
      "could not detect version_main.therefore, we are assuming it is chrome 108 or higher\n"
     ]
    },
    {
     "name": "stdout",
     "output_type": "stream",
     "text": [
      "Saved to db successfully\n",
      "Done with link 3896: https://www.zoopla.co.uk/for-sale/details/65190448/?search_identifier=c34a0ff7929789f24cded1ee71b8b77ada04d710afd8ab71c163fa91874aa544\n",
      "Starting extraction for link 3897: https://www.zoopla.co.uk/for-sale/details/65190392/?search_identifier=c34a0ff7929789f24cded1ee71b8b77ada04d710afd8ab71c163fa91874aa544\n"
     ]
    },
    {
     "name": "stderr",
     "output_type": "stream",
     "text": [
      "could not detect version_main.therefore, we are assuming it is chrome 108 or higher\n"
     ]
    },
    {
     "name": "stdout",
     "output_type": "stream",
     "text": [
      "Saved to db successfully\n",
      "Done with link 3897: https://www.zoopla.co.uk/for-sale/details/65190392/?search_identifier=c34a0ff7929789f24cded1ee71b8b77ada04d710afd8ab71c163fa91874aa544\n",
      "Starting extraction for link 3898: https://www.zoopla.co.uk/for-sale/details/65184436/?search_identifier=c34a0ff7929789f24cded1ee71b8b77ada04d710afd8ab71c163fa91874aa544\n"
     ]
    },
    {
     "name": "stderr",
     "output_type": "stream",
     "text": [
      "could not detect version_main.therefore, we are assuming it is chrome 108 or higher\n"
     ]
    },
    {
     "name": "stdout",
     "output_type": "stream",
     "text": [
      "Saved to db successfully\n",
      "Done with link 3898: https://www.zoopla.co.uk/for-sale/details/65184436/?search_identifier=c34a0ff7929789f24cded1ee71b8b77ada04d710afd8ab71c163fa91874aa544\n",
      "Starting extraction for link 3899: https://www.zoopla.co.uk/for-sale/details/65183550/?search_identifier=c34a0ff7929789f24cded1ee71b8b77ada04d710afd8ab71c163fa91874aa544\n"
     ]
    },
    {
     "name": "stderr",
     "output_type": "stream",
     "text": [
      "could not detect version_main.therefore, we are assuming it is chrome 108 or higher\n"
     ]
    },
    {
     "name": "stdout",
     "output_type": "stream",
     "text": [
      "Saved to db successfully\n",
      "Done with link 3899: https://www.zoopla.co.uk/for-sale/details/65183550/?search_identifier=c34a0ff7929789f24cded1ee71b8b77ada04d710afd8ab71c163fa91874aa544\n",
      "Starting extraction for link 3900: https://www.zoopla.co.uk/for-sale/details/62348164/?search_identifier=c34a0ff7929789f24cded1ee71b8b77ada04d710afd8ab71c163fa91874aa544\n"
     ]
    },
    {
     "name": "stderr",
     "output_type": "stream",
     "text": [
      "could not detect version_main.therefore, we are assuming it is chrome 108 or higher\n"
     ]
    },
    {
     "name": "stdout",
     "output_type": "stream",
     "text": [
      "Saved to db successfully\n",
      "Done with link 3900: https://www.zoopla.co.uk/for-sale/details/62348164/?search_identifier=c34a0ff7929789f24cded1ee71b8b77ada04d710afd8ab71c163fa91874aa544\n",
      "Starting extraction for link 3901: https://www.zoopla.co.uk/for-sale/details/65178586/?search_identifier=c34a0ff7929789f24cded1ee71b8b77ada04d710afd8ab71c163fa91874aa544\n"
     ]
    },
    {
     "name": "stderr",
     "output_type": "stream",
     "text": [
      "could not detect version_main.therefore, we are assuming it is chrome 108 or higher\n"
     ]
    },
    {
     "name": "stdout",
     "output_type": "stream",
     "text": [
      "Saved to db successfully\n",
      "Done with link 3901: https://www.zoopla.co.uk/for-sale/details/65178586/?search_identifier=c34a0ff7929789f24cded1ee71b8b77ada04d710afd8ab71c163fa91874aa544\n",
      "Starting extraction for link 3902: https://www.zoopla.co.uk/for-sale/details/65166747/?search_identifier=c34a0ff7929789f24cded1ee71b8b77ada04d710afd8ab71c163fa91874aa544\n"
     ]
    },
    {
     "name": "stderr",
     "output_type": "stream",
     "text": [
      "could not detect version_main.therefore, we are assuming it is chrome 108 or higher\n"
     ]
    },
    {
     "name": "stdout",
     "output_type": "stream",
     "text": [
      "Saved to db successfully\n",
      "Done with link 3902: https://www.zoopla.co.uk/for-sale/details/65166747/?search_identifier=c34a0ff7929789f24cded1ee71b8b77ada04d710afd8ab71c163fa91874aa544\n",
      "Starting extraction for link 3903: https://www.zoopla.co.uk/for-sale/details/65160063/?search_identifier=c34a0ff7929789f24cded1ee71b8b77ada04d710afd8ab71c163fa91874aa544\n"
     ]
    },
    {
     "name": "stderr",
     "output_type": "stream",
     "text": [
      "could not detect version_main.therefore, we are assuming it is chrome 108 or higher\n"
     ]
    },
    {
     "name": "stdout",
     "output_type": "stream",
     "text": [
      "Saved to db successfully\n",
      "Done with link 3903: https://www.zoopla.co.uk/for-sale/details/65160063/?search_identifier=c34a0ff7929789f24cded1ee71b8b77ada04d710afd8ab71c163fa91874aa544\n",
      "Starting extraction for link 3904: https://www.zoopla.co.uk/for-sale/details/65158359/?search_identifier=c34a0ff7929789f24cded1ee71b8b77ada04d710afd8ab71c163fa91874aa544\n"
     ]
    },
    {
     "name": "stderr",
     "output_type": "stream",
     "text": [
      "could not detect version_main.therefore, we are assuming it is chrome 108 or higher\n"
     ]
    },
    {
     "name": "stdout",
     "output_type": "stream",
     "text": [
      "Saved to db successfully\n",
      "Done with link 3904: https://www.zoopla.co.uk/for-sale/details/65158359/?search_identifier=c34a0ff7929789f24cded1ee71b8b77ada04d710afd8ab71c163fa91874aa544\n",
      "Starting extraction for link 3905: https://www.zoopla.co.uk/for-sale/details/65156804/?search_identifier=c34a0ff7929789f24cded1ee71b8b77ada04d710afd8ab71c163fa91874aa544\n"
     ]
    },
    {
     "name": "stderr",
     "output_type": "stream",
     "text": [
      "could not detect version_main.therefore, we are assuming it is chrome 108 or higher\n"
     ]
    },
    {
     "name": "stdout",
     "output_type": "stream",
     "text": [
      "Saved to db successfully\n",
      "Done with link 3905: https://www.zoopla.co.uk/for-sale/details/65156804/?search_identifier=c34a0ff7929789f24cded1ee71b8b77ada04d710afd8ab71c163fa91874aa544\n",
      "Starting extraction for link 3906: https://www.zoopla.co.uk/for-sale/details/65153783/?search_identifier=c34a0ff7929789f24cded1ee71b8b77ada04d710afd8ab71c163fa91874aa544\n"
     ]
    },
    {
     "name": "stderr",
     "output_type": "stream",
     "text": [
      "could not detect version_main.therefore, we are assuming it is chrome 108 or higher\n"
     ]
    },
    {
     "name": "stdout",
     "output_type": "stream",
     "text": [
      "Saved to db successfully\n",
      "Done with link 3906: https://www.zoopla.co.uk/for-sale/details/65153783/?search_identifier=c34a0ff7929789f24cded1ee71b8b77ada04d710afd8ab71c163fa91874aa544\n",
      "Starting extraction for link 3907: https://www.zoopla.co.uk/new-homes/details/65153577/?search_identifier=c34a0ff7929789f24cded1ee71b8b77ada04d710afd8ab71c163fa91874aa544\n"
     ]
    },
    {
     "name": "stderr",
     "output_type": "stream",
     "text": [
      "could not detect version_main.therefore, we are assuming it is chrome 108 or higher\n"
     ]
    },
    {
     "name": "stdout",
     "output_type": "stream",
     "text": [
      "Saved to db successfully\n",
      "Done with link 3907: https://www.zoopla.co.uk/new-homes/details/65153577/?search_identifier=c34a0ff7929789f24cded1ee71b8b77ada04d710afd8ab71c163fa91874aa544\n",
      "Starting extraction for link 3908: https://www.zoopla.co.uk/new-homes/details/65153578/?search_identifier=c34a0ff7929789f24cded1ee71b8b77ada04d710afd8ab71c163fa91874aa544\n"
     ]
    },
    {
     "name": "stderr",
     "output_type": "stream",
     "text": [
      "could not detect version_main.therefore, we are assuming it is chrome 108 or higher\n"
     ]
    },
    {
     "name": "stdout",
     "output_type": "stream",
     "text": [
      "Saved to db successfully\n",
      "Done with link 3908: https://www.zoopla.co.uk/new-homes/details/65153578/?search_identifier=c34a0ff7929789f24cded1ee71b8b77ada04d710afd8ab71c163fa91874aa544\n",
      "Starting extraction for link 3909: https://www.zoopla.co.uk/for-sale/details/65145983/?search_identifier=c34a0ff7929789f24cded1ee71b8b77ada04d710afd8ab71c163fa91874aa544\n"
     ]
    },
    {
     "name": "stderr",
     "output_type": "stream",
     "text": [
      "could not detect version_main.therefore, we are assuming it is chrome 108 or higher\n"
     ]
    },
    {
     "name": "stdout",
     "output_type": "stream",
     "text": [
      "Saved to db successfully\n",
      "Done with link 3909: https://www.zoopla.co.uk/for-sale/details/65145983/?search_identifier=c34a0ff7929789f24cded1ee71b8b77ada04d710afd8ab71c163fa91874aa544\n",
      "Starting extraction for link 3910: https://www.zoopla.co.uk/for-sale/details/65145638/?search_identifier=c34a0ff7929789f24cded1ee71b8b77ada04d710afd8ab71c163fa91874aa544\n"
     ]
    },
    {
     "name": "stderr",
     "output_type": "stream",
     "text": [
      "could not detect version_main.therefore, we are assuming it is chrome 108 or higher\n"
     ]
    },
    {
     "name": "stdout",
     "output_type": "stream",
     "text": [
      "Saved to db successfully\n",
      "Done with link 3910: https://www.zoopla.co.uk/for-sale/details/65145638/?search_identifier=c34a0ff7929789f24cded1ee71b8b77ada04d710afd8ab71c163fa91874aa544\n",
      "Starting extraction for link 3911: https://www.zoopla.co.uk/for-sale/details/65145210/?search_identifier=c34a0ff7929789f24cded1ee71b8b77ada04d710afd8ab71c163fa91874aa544\n"
     ]
    },
    {
     "name": "stderr",
     "output_type": "stream",
     "text": [
      "could not detect version_main.therefore, we are assuming it is chrome 108 or higher\n"
     ]
    },
    {
     "name": "stdout",
     "output_type": "stream",
     "text": [
      "Saved to db successfully\n",
      "Done with link 3911: https://www.zoopla.co.uk/for-sale/details/65145210/?search_identifier=c34a0ff7929789f24cded1ee71b8b77ada04d710afd8ab71c163fa91874aa544\n",
      "Starting extraction for link 3912: https://www.zoopla.co.uk/for-sale/details/65143209/?search_identifier=c34a0ff7929789f24cded1ee71b8b77ada04d710afd8ab71c163fa91874aa544\n"
     ]
    },
    {
     "name": "stderr",
     "output_type": "stream",
     "text": [
      "could not detect version_main.therefore, we are assuming it is chrome 108 or higher\n"
     ]
    },
    {
     "name": "stdout",
     "output_type": "stream",
     "text": [
      "Saved to db successfully\n",
      "Done with link 3912: https://www.zoopla.co.uk/for-sale/details/65143209/?search_identifier=c34a0ff7929789f24cded1ee71b8b77ada04d710afd8ab71c163fa91874aa544\n",
      "Starting extraction for link 3913: https://www.zoopla.co.uk/for-sale/details/65142990/?search_identifier=252923761e7ea5c237a536a59281c1848af74306ba2a288e1d1a3856b3cef0ef\n"
     ]
    },
    {
     "name": "stderr",
     "output_type": "stream",
     "text": [
      "could not detect version_main.therefore, we are assuming it is chrome 108 or higher\n"
     ]
    },
    {
     "name": "stdout",
     "output_type": "stream",
     "text": [
      "Saved to db successfully\n",
      "Done with link 3913: https://www.zoopla.co.uk/for-sale/details/65142990/?search_identifier=252923761e7ea5c237a536a59281c1848af74306ba2a288e1d1a3856b3cef0ef\n",
      "Starting extraction for link 3914: https://www.zoopla.co.uk/for-sale/details/65142754/?search_identifier=252923761e7ea5c237a536a59281c1848af74306ba2a288e1d1a3856b3cef0ef\n"
     ]
    },
    {
     "name": "stderr",
     "output_type": "stream",
     "text": [
      "could not detect version_main.therefore, we are assuming it is chrome 108 or higher\n"
     ]
    },
    {
     "name": "stdout",
     "output_type": "stream",
     "text": [
      "Saved to db successfully\n",
      "Done with link 3914: https://www.zoopla.co.uk/for-sale/details/65142754/?search_identifier=252923761e7ea5c237a536a59281c1848af74306ba2a288e1d1a3856b3cef0ef\n",
      "Starting extraction for link 3915: https://www.zoopla.co.uk/for-sale/details/65141037/?search_identifier=252923761e7ea5c237a536a59281c1848af74306ba2a288e1d1a3856b3cef0ef\n"
     ]
    },
    {
     "name": "stderr",
     "output_type": "stream",
     "text": [
      "could not detect version_main.therefore, we are assuming it is chrome 108 or higher\n"
     ]
    },
    {
     "name": "stdout",
     "output_type": "stream",
     "text": [
      "Saved to db successfully\n",
      "Done with link 3915: https://www.zoopla.co.uk/for-sale/details/65141037/?search_identifier=252923761e7ea5c237a536a59281c1848af74306ba2a288e1d1a3856b3cef0ef\n",
      "Starting extraction for link 3916: https://www.zoopla.co.uk/for-sale/details/65139517/?search_identifier=252923761e7ea5c237a536a59281c1848af74306ba2a288e1d1a3856b3cef0ef\n"
     ]
    },
    {
     "name": "stderr",
     "output_type": "stream",
     "text": [
      "could not detect version_main.therefore, we are assuming it is chrome 108 or higher\n"
     ]
    },
    {
     "name": "stdout",
     "output_type": "stream",
     "text": [
      "Saved to db successfully\n",
      "Done with link 3916: https://www.zoopla.co.uk/for-sale/details/65139517/?search_identifier=252923761e7ea5c237a536a59281c1848af74306ba2a288e1d1a3856b3cef0ef\n",
      "Starting extraction for link 3917: https://www.zoopla.co.uk/for-sale/details/65139033/?search_identifier=252923761e7ea5c237a536a59281c1848af74306ba2a288e1d1a3856b3cef0ef\n"
     ]
    },
    {
     "name": "stderr",
     "output_type": "stream",
     "text": [
      "could not detect version_main.therefore, we are assuming it is chrome 108 or higher\n"
     ]
    },
    {
     "name": "stdout",
     "output_type": "stream",
     "text": [
      "Saved to db successfully\n",
      "Done with link 3917: https://www.zoopla.co.uk/for-sale/details/65139033/?search_identifier=252923761e7ea5c237a536a59281c1848af74306ba2a288e1d1a3856b3cef0ef\n",
      "Starting extraction for link 3918: https://www.zoopla.co.uk/for-sale/details/65139025/?search_identifier=252923761e7ea5c237a536a59281c1848af74306ba2a288e1d1a3856b3cef0ef\n"
     ]
    },
    {
     "name": "stderr",
     "output_type": "stream",
     "text": [
      "could not detect version_main.therefore, we are assuming it is chrome 108 or higher\n"
     ]
    },
    {
     "name": "stdout",
     "output_type": "stream",
     "text": [
      "Saved to db successfully\n",
      "Done with link 3918: https://www.zoopla.co.uk/for-sale/details/65139025/?search_identifier=252923761e7ea5c237a536a59281c1848af74306ba2a288e1d1a3856b3cef0ef\n",
      "Starting extraction for link 3919: https://www.zoopla.co.uk/for-sale/details/65132807/?search_identifier=252923761e7ea5c237a536a59281c1848af74306ba2a288e1d1a3856b3cef0ef\n"
     ]
    },
    {
     "name": "stderr",
     "output_type": "stream",
     "text": [
      "could not detect version_main.therefore, we are assuming it is chrome 108 or higher\n"
     ]
    },
    {
     "name": "stdout",
     "output_type": "stream",
     "text": [
      "Saved to db successfully\n",
      "Done with link 3919: https://www.zoopla.co.uk/for-sale/details/65132807/?search_identifier=252923761e7ea5c237a536a59281c1848af74306ba2a288e1d1a3856b3cef0ef\n",
      "Starting extraction for link 3920: https://www.zoopla.co.uk/for-sale/details/65132841/?search_identifier=252923761e7ea5c237a536a59281c1848af74306ba2a288e1d1a3856b3cef0ef\n"
     ]
    },
    {
     "name": "stderr",
     "output_type": "stream",
     "text": [
      "could not detect version_main.therefore, we are assuming it is chrome 108 or higher\n"
     ]
    },
    {
     "name": "stdout",
     "output_type": "stream",
     "text": [
      "Saved to db successfully\n",
      "Done with link 3920: https://www.zoopla.co.uk/for-sale/details/65132841/?search_identifier=252923761e7ea5c237a536a59281c1848af74306ba2a288e1d1a3856b3cef0ef\n",
      "Starting extraction for link 3921: https://www.zoopla.co.uk/for-sale/details/65127041/?search_identifier=252923761e7ea5c237a536a59281c1848af74306ba2a288e1d1a3856b3cef0ef\n"
     ]
    },
    {
     "name": "stderr",
     "output_type": "stream",
     "text": [
      "could not detect version_main.therefore, we are assuming it is chrome 108 or higher\n"
     ]
    },
    {
     "name": "stdout",
     "output_type": "stream",
     "text": [
      "Saved to db successfully\n",
      "Done with link 3921: https://www.zoopla.co.uk/for-sale/details/65127041/?search_identifier=252923761e7ea5c237a536a59281c1848af74306ba2a288e1d1a3856b3cef0ef\n",
      "Starting extraction for link 3922: https://www.zoopla.co.uk/for-sale/details/65123622/?search_identifier=252923761e7ea5c237a536a59281c1848af74306ba2a288e1d1a3856b3cef0ef\n"
     ]
    },
    {
     "name": "stderr",
     "output_type": "stream",
     "text": [
      "could not detect version_main.therefore, we are assuming it is chrome 108 or higher\n"
     ]
    },
    {
     "name": "stdout",
     "output_type": "stream",
     "text": [
      "Saved to db successfully\n",
      "Done with link 3922: https://www.zoopla.co.uk/for-sale/details/65123622/?search_identifier=252923761e7ea5c237a536a59281c1848af74306ba2a288e1d1a3856b3cef0ef\n",
      "Starting extraction for link 3923: https://www.zoopla.co.uk/for-sale/details/65120748/?search_identifier=252923761e7ea5c237a536a59281c1848af74306ba2a288e1d1a3856b3cef0ef\n"
     ]
    },
    {
     "name": "stderr",
     "output_type": "stream",
     "text": [
      "could not detect version_main.therefore, we are assuming it is chrome 108 or higher\n"
     ]
    },
    {
     "name": "stdout",
     "output_type": "stream",
     "text": [
      "Saved to db successfully\n",
      "Done with link 3923: https://www.zoopla.co.uk/for-sale/details/65120748/?search_identifier=252923761e7ea5c237a536a59281c1848af74306ba2a288e1d1a3856b3cef0ef\n",
      "Starting extraction for link 3924: https://www.zoopla.co.uk/for-sale/details/65115509/?search_identifier=252923761e7ea5c237a536a59281c1848af74306ba2a288e1d1a3856b3cef0ef\n"
     ]
    },
    {
     "name": "stderr",
     "output_type": "stream",
     "text": [
      "could not detect version_main.therefore, we are assuming it is chrome 108 or higher\n"
     ]
    },
    {
     "name": "stdout",
     "output_type": "stream",
     "text": [
      "Saved to db successfully\n",
      "Done with link 3924: https://www.zoopla.co.uk/for-sale/details/65115509/?search_identifier=252923761e7ea5c237a536a59281c1848af74306ba2a288e1d1a3856b3cef0ef\n",
      "Starting extraction for link 3925: https://www.zoopla.co.uk/for-sale/details/63505340/?search_identifier=252923761e7ea5c237a536a59281c1848af74306ba2a288e1d1a3856b3cef0ef\n"
     ]
    },
    {
     "name": "stderr",
     "output_type": "stream",
     "text": [
      "could not detect version_main.therefore, we are assuming it is chrome 108 or higher\n"
     ]
    },
    {
     "name": "stdout",
     "output_type": "stream",
     "text": [
      "Saved to db successfully\n",
      "Done with link 3925: https://www.zoopla.co.uk/for-sale/details/63505340/?search_identifier=252923761e7ea5c237a536a59281c1848af74306ba2a288e1d1a3856b3cef0ef\n",
      "Starting extraction for link 3926: https://www.zoopla.co.uk/for-sale/details/65102827/?search_identifier=252923761e7ea5c237a536a59281c1848af74306ba2a288e1d1a3856b3cef0ef\n"
     ]
    },
    {
     "name": "stderr",
     "output_type": "stream",
     "text": [
      "could not detect version_main.therefore, we are assuming it is chrome 108 or higher\n"
     ]
    },
    {
     "name": "stdout",
     "output_type": "stream",
     "text": [
      "Saved to db successfully\n",
      "Done with link 3926: https://www.zoopla.co.uk/for-sale/details/65102827/?search_identifier=252923761e7ea5c237a536a59281c1848af74306ba2a288e1d1a3856b3cef0ef\n",
      "Starting extraction for link 3927: https://www.zoopla.co.uk/for-sale/details/65084093/?search_identifier=252923761e7ea5c237a536a59281c1848af74306ba2a288e1d1a3856b3cef0ef\n"
     ]
    },
    {
     "name": "stderr",
     "output_type": "stream",
     "text": [
      "could not detect version_main.therefore, we are assuming it is chrome 108 or higher\n"
     ]
    },
    {
     "name": "stdout",
     "output_type": "stream",
     "text": [
      "Saved to db successfully\n",
      "Done with link 3927: https://www.zoopla.co.uk/for-sale/details/65084093/?search_identifier=252923761e7ea5c237a536a59281c1848af74306ba2a288e1d1a3856b3cef0ef\n",
      "Starting extraction for link 3928: https://www.zoopla.co.uk/for-sale/details/65081953/?search_identifier=252923761e7ea5c237a536a59281c1848af74306ba2a288e1d1a3856b3cef0ef\n"
     ]
    },
    {
     "name": "stderr",
     "output_type": "stream",
     "text": [
      "could not detect version_main.therefore, we are assuming it is chrome 108 or higher\n"
     ]
    },
    {
     "name": "stdout",
     "output_type": "stream",
     "text": [
      "Saved to db successfully\n",
      "Done with link 3928: https://www.zoopla.co.uk/for-sale/details/65081953/?search_identifier=252923761e7ea5c237a536a59281c1848af74306ba2a288e1d1a3856b3cef0ef\n",
      "Starting extraction for link 3929: https://www.zoopla.co.uk/for-sale/details/65076934/?search_identifier=252923761e7ea5c237a536a59281c1848af74306ba2a288e1d1a3856b3cef0ef\n"
     ]
    },
    {
     "name": "stderr",
     "output_type": "stream",
     "text": [
      "could not detect version_main.therefore, we are assuming it is chrome 108 or higher\n"
     ]
    },
    {
     "name": "stdout",
     "output_type": "stream",
     "text": [
      "Saved to db successfully\n",
      "Done with link 3929: https://www.zoopla.co.uk/for-sale/details/65076934/?search_identifier=252923761e7ea5c237a536a59281c1848af74306ba2a288e1d1a3856b3cef0ef\n",
      "Starting extraction for link 3930: https://www.zoopla.co.uk/for-sale/details/65074372/?search_identifier=252923761e7ea5c237a536a59281c1848af74306ba2a288e1d1a3856b3cef0ef\n"
     ]
    },
    {
     "name": "stderr",
     "output_type": "stream",
     "text": [
      "could not detect version_main.therefore, we are assuming it is chrome 108 or higher\n"
     ]
    },
    {
     "name": "stdout",
     "output_type": "stream",
     "text": [
      "Saved to db successfully\n",
      "Done with link 3930: https://www.zoopla.co.uk/for-sale/details/65074372/?search_identifier=252923761e7ea5c237a536a59281c1848af74306ba2a288e1d1a3856b3cef0ef\n",
      "Starting extraction for link 3931: https://www.zoopla.co.uk/for-sale/details/65073745/?search_identifier=252923761e7ea5c237a536a59281c1848af74306ba2a288e1d1a3856b3cef0ef\n"
     ]
    },
    {
     "name": "stderr",
     "output_type": "stream",
     "text": [
      "could not detect version_main.therefore, we are assuming it is chrome 108 or higher\n"
     ]
    },
    {
     "name": "stdout",
     "output_type": "stream",
     "text": [
      "Saved to db successfully\n",
      "Done with link 3931: https://www.zoopla.co.uk/for-sale/details/65073745/?search_identifier=252923761e7ea5c237a536a59281c1848af74306ba2a288e1d1a3856b3cef0ef\n",
      "Starting extraction for link 3932: https://www.zoopla.co.uk/for-sale/details/65073354/?search_identifier=252923761e7ea5c237a536a59281c1848af74306ba2a288e1d1a3856b3cef0ef\n"
     ]
    },
    {
     "name": "stderr",
     "output_type": "stream",
     "text": [
      "could not detect version_main.therefore, we are assuming it is chrome 108 or higher\n"
     ]
    },
    {
     "name": "stdout",
     "output_type": "stream",
     "text": [
      "Saved to db successfully\n",
      "Done with link 3932: https://www.zoopla.co.uk/for-sale/details/65073354/?search_identifier=252923761e7ea5c237a536a59281c1848af74306ba2a288e1d1a3856b3cef0ef\n",
      "Starting extraction for link 3933: https://www.zoopla.co.uk/for-sale/details/65072919/?search_identifier=252923761e7ea5c237a536a59281c1848af74306ba2a288e1d1a3856b3cef0ef\n"
     ]
    },
    {
     "name": "stderr",
     "output_type": "stream",
     "text": [
      "could not detect version_main.therefore, we are assuming it is chrome 108 or higher\n"
     ]
    },
    {
     "name": "stdout",
     "output_type": "stream",
     "text": [
      "Saved to db successfully\n",
      "Done with link 3933: https://www.zoopla.co.uk/for-sale/details/65072919/?search_identifier=252923761e7ea5c237a536a59281c1848af74306ba2a288e1d1a3856b3cef0ef\n",
      "Starting extraction for link 3934: https://www.zoopla.co.uk/for-sale/details/65071434/?search_identifier=252923761e7ea5c237a536a59281c1848af74306ba2a288e1d1a3856b3cef0ef\n"
     ]
    },
    {
     "name": "stderr",
     "output_type": "stream",
     "text": [
      "could not detect version_main.therefore, we are assuming it is chrome 108 or higher\n"
     ]
    },
    {
     "name": "stdout",
     "output_type": "stream",
     "text": [
      "Saved to db successfully\n",
      "Done with link 3934: https://www.zoopla.co.uk/for-sale/details/65071434/?search_identifier=252923761e7ea5c237a536a59281c1848af74306ba2a288e1d1a3856b3cef0ef\n",
      "Starting extraction for link 3935: https://www.zoopla.co.uk/for-sale/details/65066441/?search_identifier=252923761e7ea5c237a536a59281c1848af74306ba2a288e1d1a3856b3cef0ef\n"
     ]
    },
    {
     "name": "stderr",
     "output_type": "stream",
     "text": [
      "could not detect version_main.therefore, we are assuming it is chrome 108 or higher\n"
     ]
    },
    {
     "name": "stdout",
     "output_type": "stream",
     "text": [
      "Saved to db successfully\n",
      "Done with link 3935: https://www.zoopla.co.uk/for-sale/details/65066441/?search_identifier=252923761e7ea5c237a536a59281c1848af74306ba2a288e1d1a3856b3cef0ef\n",
      "Starting extraction for link 3936: https://www.zoopla.co.uk/for-sale/details/65066445/?search_identifier=252923761e7ea5c237a536a59281c1848af74306ba2a288e1d1a3856b3cef0ef\n"
     ]
    },
    {
     "name": "stderr",
     "output_type": "stream",
     "text": [
      "could not detect version_main.therefore, we are assuming it is chrome 108 or higher\n"
     ]
    },
    {
     "name": "stdout",
     "output_type": "stream",
     "text": [
      "Saved to db successfully\n",
      "Done with link 3936: https://www.zoopla.co.uk/for-sale/details/65066445/?search_identifier=252923761e7ea5c237a536a59281c1848af74306ba2a288e1d1a3856b3cef0ef\n",
      "Starting extraction for link 3937: https://www.zoopla.co.uk/for-sale/details/65052703/?search_identifier=252923761e7ea5c237a536a59281c1848af74306ba2a288e1d1a3856b3cef0ef\n"
     ]
    },
    {
     "name": "stderr",
     "output_type": "stream",
     "text": [
      "could not detect version_main.therefore, we are assuming it is chrome 108 or higher\n"
     ]
    },
    {
     "name": "stdout",
     "output_type": "stream",
     "text": [
      "Saved to db successfully\n",
      "Done with link 3937: https://www.zoopla.co.uk/for-sale/details/65052703/?search_identifier=252923761e7ea5c237a536a59281c1848af74306ba2a288e1d1a3856b3cef0ef\n",
      "Starting extraction for link 3938: https://www.zoopla.co.uk/for-sale/details/65047923/?search_identifier=28264e864fe3d1a79fedfcebd4adb4091722e1058ecc72a79e2eb001626be11d\n"
     ]
    },
    {
     "name": "stderr",
     "output_type": "stream",
     "text": [
      "could not detect version_main.therefore, we are assuming it is chrome 108 or higher\n"
     ]
    },
    {
     "name": "stdout",
     "output_type": "stream",
     "text": [
      "Saved to db successfully\n",
      "Done with link 3938: https://www.zoopla.co.uk/for-sale/details/65047923/?search_identifier=28264e864fe3d1a79fedfcebd4adb4091722e1058ecc72a79e2eb001626be11d\n",
      "Starting extraction for link 3939: https://www.zoopla.co.uk/for-sale/details/65045610/?search_identifier=28264e864fe3d1a79fedfcebd4adb4091722e1058ecc72a79e2eb001626be11d\n"
     ]
    },
    {
     "name": "stderr",
     "output_type": "stream",
     "text": [
      "could not detect version_main.therefore, we are assuming it is chrome 108 or higher\n"
     ]
    },
    {
     "name": "stdout",
     "output_type": "stream",
     "text": [
      "Saved to db successfully\n",
      "Done with link 3939: https://www.zoopla.co.uk/for-sale/details/65045610/?search_identifier=28264e864fe3d1a79fedfcebd4adb4091722e1058ecc72a79e2eb001626be11d\n",
      "Starting extraction for link 3940: https://www.zoopla.co.uk/for-sale/details/65044265/?search_identifier=28264e864fe3d1a79fedfcebd4adb4091722e1058ecc72a79e2eb001626be11d\n"
     ]
    },
    {
     "name": "stderr",
     "output_type": "stream",
     "text": [
      "could not detect version_main.therefore, we are assuming it is chrome 108 or higher\n"
     ]
    },
    {
     "name": "stdout",
     "output_type": "stream",
     "text": [
      "Saved to db successfully\n",
      "Done with link 3940: https://www.zoopla.co.uk/for-sale/details/65044265/?search_identifier=28264e864fe3d1a79fedfcebd4adb4091722e1058ecc72a79e2eb001626be11d\n",
      "Starting extraction for link 3941: https://www.zoopla.co.uk/for-sale/details/65037165/?search_identifier=28264e864fe3d1a79fedfcebd4adb4091722e1058ecc72a79e2eb001626be11d\n"
     ]
    },
    {
     "name": "stderr",
     "output_type": "stream",
     "text": [
      "could not detect version_main.therefore, we are assuming it is chrome 108 or higher\n"
     ]
    },
    {
     "name": "stdout",
     "output_type": "stream",
     "text": [
      "Saved to db successfully\n",
      "Done with link 3941: https://www.zoopla.co.uk/for-sale/details/65037165/?search_identifier=28264e864fe3d1a79fedfcebd4adb4091722e1058ecc72a79e2eb001626be11d\n",
      "Starting extraction for link 3942: https://www.zoopla.co.uk/new-homes/details/65037103/?search_identifier=28264e864fe3d1a79fedfcebd4adb4091722e1058ecc72a79e2eb001626be11d\n"
     ]
    },
    {
     "name": "stderr",
     "output_type": "stream",
     "text": [
      "could not detect version_main.therefore, we are assuming it is chrome 108 or higher\n"
     ]
    },
    {
     "name": "stdout",
     "output_type": "stream",
     "text": [
      "Saved to db successfully\n",
      "Done with link 3942: https://www.zoopla.co.uk/new-homes/details/65037103/?search_identifier=28264e864fe3d1a79fedfcebd4adb4091722e1058ecc72a79e2eb001626be11d\n",
      "Starting extraction for link 3943: https://www.zoopla.co.uk/new-homes/details/65037060/?search_identifier=28264e864fe3d1a79fedfcebd4adb4091722e1058ecc72a79e2eb001626be11d\n"
     ]
    },
    {
     "name": "stderr",
     "output_type": "stream",
     "text": [
      "could not detect version_main.therefore, we are assuming it is chrome 108 or higher\n"
     ]
    },
    {
     "name": "stdout",
     "output_type": "stream",
     "text": [
      "Saved to db successfully\n",
      "Done with link 3943: https://www.zoopla.co.uk/new-homes/details/65037060/?search_identifier=28264e864fe3d1a79fedfcebd4adb4091722e1058ecc72a79e2eb001626be11d\n",
      "Starting extraction for link 3944: https://www.zoopla.co.uk/new-homes/details/65037038/?search_identifier=28264e864fe3d1a79fedfcebd4adb4091722e1058ecc72a79e2eb001626be11d\n"
     ]
    },
    {
     "name": "stderr",
     "output_type": "stream",
     "text": [
      "could not detect version_main.therefore, we are assuming it is chrome 108 or higher\n"
     ]
    },
    {
     "name": "stdout",
     "output_type": "stream",
     "text": [
      "Saved to db successfully\n",
      "Done with link 3944: https://www.zoopla.co.uk/new-homes/details/65037038/?search_identifier=28264e864fe3d1a79fedfcebd4adb4091722e1058ecc72a79e2eb001626be11d\n",
      "Starting extraction for link 3945: https://www.zoopla.co.uk/for-sale/details/65033230/?search_identifier=28264e864fe3d1a79fedfcebd4adb4091722e1058ecc72a79e2eb001626be11d\n"
     ]
    },
    {
     "name": "stderr",
     "output_type": "stream",
     "text": [
      "could not detect version_main.therefore, we are assuming it is chrome 108 or higher\n"
     ]
    },
    {
     "name": "stdout",
     "output_type": "stream",
     "text": [
      "Saved to db successfully\n",
      "Done with link 3945: https://www.zoopla.co.uk/for-sale/details/65033230/?search_identifier=28264e864fe3d1a79fedfcebd4adb4091722e1058ecc72a79e2eb001626be11d\n",
      "Starting extraction for link 3946: https://www.zoopla.co.uk/for-sale/details/65014847/?search_identifier=28264e864fe3d1a79fedfcebd4adb4091722e1058ecc72a79e2eb001626be11d\n"
     ]
    },
    {
     "name": "stderr",
     "output_type": "stream",
     "text": [
      "could not detect version_main.therefore, we are assuming it is chrome 108 or higher\n"
     ]
    },
    {
     "name": "stdout",
     "output_type": "stream",
     "text": [
      "Saved to db successfully\n",
      "Done with link 3946: https://www.zoopla.co.uk/for-sale/details/65014847/?search_identifier=28264e864fe3d1a79fedfcebd4adb4091722e1058ecc72a79e2eb001626be11d\n",
      "Starting extraction for link 3947: https://www.zoopla.co.uk/for-sale/details/65006850/?search_identifier=28264e864fe3d1a79fedfcebd4adb4091722e1058ecc72a79e2eb001626be11d\n"
     ]
    },
    {
     "name": "stderr",
     "output_type": "stream",
     "text": [
      "could not detect version_main.therefore, we are assuming it is chrome 108 or higher\n"
     ]
    },
    {
     "name": "stdout",
     "output_type": "stream",
     "text": [
      "Saved to db successfully\n",
      "Done with link 3947: https://www.zoopla.co.uk/for-sale/details/65006850/?search_identifier=28264e864fe3d1a79fedfcebd4adb4091722e1058ecc72a79e2eb001626be11d\n",
      "Starting extraction for link 3948: https://www.zoopla.co.uk/new-homes/details/65006578/?search_identifier=28264e864fe3d1a79fedfcebd4adb4091722e1058ecc72a79e2eb001626be11d\n"
     ]
    },
    {
     "name": "stderr",
     "output_type": "stream",
     "text": [
      "could not detect version_main.therefore, we are assuming it is chrome 108 or higher\n"
     ]
    },
    {
     "name": "stdout",
     "output_type": "stream",
     "text": [
      "Saved to db successfully\n",
      "Done with link 3948: https://www.zoopla.co.uk/new-homes/details/65006578/?search_identifier=28264e864fe3d1a79fedfcebd4adb4091722e1058ecc72a79e2eb001626be11d\n",
      "Starting extraction for link 3949: https://www.zoopla.co.uk/for-sale/details/65004398/?search_identifier=28264e864fe3d1a79fedfcebd4adb4091722e1058ecc72a79e2eb001626be11d\n"
     ]
    },
    {
     "name": "stderr",
     "output_type": "stream",
     "text": [
      "could not detect version_main.therefore, we are assuming it is chrome 108 or higher\n"
     ]
    },
    {
     "name": "stdout",
     "output_type": "stream",
     "text": [
      "Saved to db successfully\n",
      "Done with link 3949: https://www.zoopla.co.uk/for-sale/details/65004398/?search_identifier=28264e864fe3d1a79fedfcebd4adb4091722e1058ecc72a79e2eb001626be11d\n",
      "Starting extraction for link 3950: https://www.zoopla.co.uk/for-sale/details/65004103/?search_identifier=28264e864fe3d1a79fedfcebd4adb4091722e1058ecc72a79e2eb001626be11d\n"
     ]
    },
    {
     "name": "stderr",
     "output_type": "stream",
     "text": [
      "could not detect version_main.therefore, we are assuming it is chrome 108 or higher\n"
     ]
    },
    {
     "name": "stdout",
     "output_type": "stream",
     "text": [
      "Saved to db successfully\n",
      "Done with link 3950: https://www.zoopla.co.uk/for-sale/details/65004103/?search_identifier=28264e864fe3d1a79fedfcebd4adb4091722e1058ecc72a79e2eb001626be11d\n",
      "Starting extraction for link 3951: https://www.zoopla.co.uk/for-sale/details/64998298/?search_identifier=28264e864fe3d1a79fedfcebd4adb4091722e1058ecc72a79e2eb001626be11d\n"
     ]
    },
    {
     "name": "stderr",
     "output_type": "stream",
     "text": [
      "could not detect version_main.therefore, we are assuming it is chrome 108 or higher\n"
     ]
    },
    {
     "name": "stdout",
     "output_type": "stream",
     "text": [
      "Saved to db successfully\n",
      "Done with link 3951: https://www.zoopla.co.uk/for-sale/details/64998298/?search_identifier=28264e864fe3d1a79fedfcebd4adb4091722e1058ecc72a79e2eb001626be11d\n",
      "Starting extraction for link 3952: https://www.zoopla.co.uk/for-sale/details/64990775/?search_identifier=28264e864fe3d1a79fedfcebd4adb4091722e1058ecc72a79e2eb001626be11d\n"
     ]
    },
    {
     "name": "stderr",
     "output_type": "stream",
     "text": [
      "could not detect version_main.therefore, we are assuming it is chrome 108 or higher\n"
     ]
    },
    {
     "name": "stdout",
     "output_type": "stream",
     "text": [
      "Saved to db successfully\n",
      "Done with link 3952: https://www.zoopla.co.uk/for-sale/details/64990775/?search_identifier=28264e864fe3d1a79fedfcebd4adb4091722e1058ecc72a79e2eb001626be11d\n",
      "Starting extraction for link 3953: https://www.zoopla.co.uk/for-sale/details/64988030/?search_identifier=28264e864fe3d1a79fedfcebd4adb4091722e1058ecc72a79e2eb001626be11d\n"
     ]
    },
    {
     "name": "stderr",
     "output_type": "stream",
     "text": [
      "could not detect version_main.therefore, we are assuming it is chrome 108 or higher\n"
     ]
    },
    {
     "name": "stdout",
     "output_type": "stream",
     "text": [
      "Saved to db successfully\n",
      "Done with link 3953: https://www.zoopla.co.uk/for-sale/details/64988030/?search_identifier=28264e864fe3d1a79fedfcebd4adb4091722e1058ecc72a79e2eb001626be11d\n",
      "Starting extraction for link 3954: https://www.zoopla.co.uk/for-sale/details/64968388/?search_identifier=28264e864fe3d1a79fedfcebd4adb4091722e1058ecc72a79e2eb001626be11d\n"
     ]
    },
    {
     "name": "stderr",
     "output_type": "stream",
     "text": [
      "could not detect version_main.therefore, we are assuming it is chrome 108 or higher\n"
     ]
    },
    {
     "name": "stdout",
     "output_type": "stream",
     "text": [
      "Saved to db successfully\n",
      "Done with link 3954: https://www.zoopla.co.uk/for-sale/details/64968388/?search_identifier=28264e864fe3d1a79fedfcebd4adb4091722e1058ecc72a79e2eb001626be11d\n",
      "Starting extraction for link 3955: https://www.zoopla.co.uk/for-sale/details/64965204/?search_identifier=28264e864fe3d1a79fedfcebd4adb4091722e1058ecc72a79e2eb001626be11d\n"
     ]
    },
    {
     "name": "stderr",
     "output_type": "stream",
     "text": [
      "could not detect version_main.therefore, we are assuming it is chrome 108 or higher\n"
     ]
    },
    {
     "name": "stdout",
     "output_type": "stream",
     "text": [
      "Saved to db successfully\n",
      "Done with link 3955: https://www.zoopla.co.uk/for-sale/details/64965204/?search_identifier=28264e864fe3d1a79fedfcebd4adb4091722e1058ecc72a79e2eb001626be11d\n",
      "Starting extraction for link 3956: https://www.zoopla.co.uk/for-sale/details/64962155/?search_identifier=28264e864fe3d1a79fedfcebd4adb4091722e1058ecc72a79e2eb001626be11d\n"
     ]
    },
    {
     "name": "stderr",
     "output_type": "stream",
     "text": [
      "could not detect version_main.therefore, we are assuming it is chrome 108 or higher\n"
     ]
    },
    {
     "name": "stdout",
     "output_type": "stream",
     "text": [
      "Saved to db successfully\n",
      "Done with link 3956: https://www.zoopla.co.uk/for-sale/details/64962155/?search_identifier=28264e864fe3d1a79fedfcebd4adb4091722e1058ecc72a79e2eb001626be11d\n",
      "Starting extraction for link 3957: https://www.zoopla.co.uk/for-sale/details/64951811/?search_identifier=28264e864fe3d1a79fedfcebd4adb4091722e1058ecc72a79e2eb001626be11d\n"
     ]
    },
    {
     "name": "stderr",
     "output_type": "stream",
     "text": [
      "could not detect version_main.therefore, we are assuming it is chrome 108 or higher\n"
     ]
    },
    {
     "name": "stdout",
     "output_type": "stream",
     "text": [
      "Saved to db successfully\n",
      "Done with link 3957: https://www.zoopla.co.uk/for-sale/details/64951811/?search_identifier=28264e864fe3d1a79fedfcebd4adb4091722e1058ecc72a79e2eb001626be11d\n",
      "Starting extraction for link 3958: https://www.zoopla.co.uk/for-sale/details/64944845/?search_identifier=28264e864fe3d1a79fedfcebd4adb4091722e1058ecc72a79e2eb001626be11d\n"
     ]
    },
    {
     "name": "stderr",
     "output_type": "stream",
     "text": [
      "could not detect version_main.therefore, we are assuming it is chrome 108 or higher\n"
     ]
    },
    {
     "name": "stdout",
     "output_type": "stream",
     "text": [
      "Saved to db successfully\n",
      "Done with link 3958: https://www.zoopla.co.uk/for-sale/details/64944845/?search_identifier=28264e864fe3d1a79fedfcebd4adb4091722e1058ecc72a79e2eb001626be11d\n",
      "Starting extraction for link 3959: https://www.zoopla.co.uk/for-sale/details/64932650/?search_identifier=28264e864fe3d1a79fedfcebd4adb4091722e1058ecc72a79e2eb001626be11d\n"
     ]
    },
    {
     "name": "stderr",
     "output_type": "stream",
     "text": [
      "could not detect version_main.therefore, we are assuming it is chrome 108 or higher\n"
     ]
    },
    {
     "name": "stdout",
     "output_type": "stream",
     "text": [
      "Saved to db successfully\n",
      "Done with link 3959: https://www.zoopla.co.uk/for-sale/details/64932650/?search_identifier=28264e864fe3d1a79fedfcebd4adb4091722e1058ecc72a79e2eb001626be11d\n",
      "Starting extraction for link 3960: https://www.zoopla.co.uk/new-homes/details/64930886/?search_identifier=28264e864fe3d1a79fedfcebd4adb4091722e1058ecc72a79e2eb001626be11d\n"
     ]
    },
    {
     "name": "stderr",
     "output_type": "stream",
     "text": [
      "could not detect version_main.therefore, we are assuming it is chrome 108 or higher\n"
     ]
    },
    {
     "name": "stdout",
     "output_type": "stream",
     "text": [
      "Saved to db successfully\n",
      "Done with link 3960: https://www.zoopla.co.uk/new-homes/details/64930886/?search_identifier=28264e864fe3d1a79fedfcebd4adb4091722e1058ecc72a79e2eb001626be11d\n",
      "Starting extraction for link 3961: https://www.zoopla.co.uk/new-homes/details/64930884/?search_identifier=28264e864fe3d1a79fedfcebd4adb4091722e1058ecc72a79e2eb001626be11d\n"
     ]
    },
    {
     "name": "stderr",
     "output_type": "stream",
     "text": [
      "could not detect version_main.therefore, we are assuming it is chrome 108 or higher\n"
     ]
    },
    {
     "name": "stdout",
     "output_type": "stream",
     "text": [
      "Saved to db successfully\n",
      "Done with link 3961: https://www.zoopla.co.uk/new-homes/details/64930884/?search_identifier=28264e864fe3d1a79fedfcebd4adb4091722e1058ecc72a79e2eb001626be11d\n",
      "Starting extraction for link 3962: https://www.zoopla.co.uk/for-sale/details/64930824/?search_identifier=28264e864fe3d1a79fedfcebd4adb4091722e1058ecc72a79e2eb001626be11d\n"
     ]
    },
    {
     "name": "stderr",
     "output_type": "stream",
     "text": [
      "could not detect version_main.therefore, we are assuming it is chrome 108 or higher\n"
     ]
    },
    {
     "name": "stdout",
     "output_type": "stream",
     "text": [
      "Saved to db successfully\n",
      "Done with link 3962: https://www.zoopla.co.uk/for-sale/details/64930824/?search_identifier=28264e864fe3d1a79fedfcebd4adb4091722e1058ecc72a79e2eb001626be11d\n",
      "Starting extraction for link 3963: https://www.zoopla.co.uk/new-homes/details/64926699/?search_identifier=af1e0484f85146f2fcecc65c3ae08a4b947a9be8a2b013621f94a322d8cbc6a2\n"
     ]
    },
    {
     "name": "stderr",
     "output_type": "stream",
     "text": [
      "could not detect version_main.therefore, we are assuming it is chrome 108 or higher\n"
     ]
    },
    {
     "name": "stdout",
     "output_type": "stream",
     "text": [
      "Saved to db successfully\n",
      "Done with link 3963: https://www.zoopla.co.uk/new-homes/details/64926699/?search_identifier=af1e0484f85146f2fcecc65c3ae08a4b947a9be8a2b013621f94a322d8cbc6a2\n",
      "Starting extraction for link 3964: https://www.zoopla.co.uk/new-homes/details/64926700/?search_identifier=af1e0484f85146f2fcecc65c3ae08a4b947a9be8a2b013621f94a322d8cbc6a2\n"
     ]
    },
    {
     "name": "stderr",
     "output_type": "stream",
     "text": [
      "could not detect version_main.therefore, we are assuming it is chrome 108 or higher\n"
     ]
    },
    {
     "name": "stdout",
     "output_type": "stream",
     "text": [
      "Saved to db successfully\n",
      "Done with link 3964: https://www.zoopla.co.uk/new-homes/details/64926700/?search_identifier=af1e0484f85146f2fcecc65c3ae08a4b947a9be8a2b013621f94a322d8cbc6a2\n",
      "Starting extraction for link 3965: https://www.zoopla.co.uk/for-sale/details/64923895/?search_identifier=af1e0484f85146f2fcecc65c3ae08a4b947a9be8a2b013621f94a322d8cbc6a2\n"
     ]
    },
    {
     "name": "stderr",
     "output_type": "stream",
     "text": [
      "could not detect version_main.therefore, we are assuming it is chrome 108 or higher\n"
     ]
    },
    {
     "name": "stdout",
     "output_type": "stream",
     "text": [
      "Saved to db successfully\n",
      "Done with link 3965: https://www.zoopla.co.uk/for-sale/details/64923895/?search_identifier=af1e0484f85146f2fcecc65c3ae08a4b947a9be8a2b013621f94a322d8cbc6a2\n",
      "Starting extraction for link 3966: https://www.zoopla.co.uk/for-sale/details/64922194/?search_identifier=af1e0484f85146f2fcecc65c3ae08a4b947a9be8a2b013621f94a322d8cbc6a2\n"
     ]
    },
    {
     "name": "stderr",
     "output_type": "stream",
     "text": [
      "could not detect version_main.therefore, we are assuming it is chrome 108 or higher\n"
     ]
    },
    {
     "name": "stdout",
     "output_type": "stream",
     "text": [
      "Saved to db successfully\n",
      "Done with link 3966: https://www.zoopla.co.uk/for-sale/details/64922194/?search_identifier=af1e0484f85146f2fcecc65c3ae08a4b947a9be8a2b013621f94a322d8cbc6a2\n",
      "Starting extraction for link 3967: https://www.zoopla.co.uk/for-sale/details/64920212/?search_identifier=af1e0484f85146f2fcecc65c3ae08a4b947a9be8a2b013621f94a322d8cbc6a2\n"
     ]
    },
    {
     "name": "stderr",
     "output_type": "stream",
     "text": [
      "could not detect version_main.therefore, we are assuming it is chrome 108 or higher\n"
     ]
    },
    {
     "name": "stdout",
     "output_type": "stream",
     "text": [
      "Saved to db successfully\n",
      "Done with link 3967: https://www.zoopla.co.uk/for-sale/details/64920212/?search_identifier=af1e0484f85146f2fcecc65c3ae08a4b947a9be8a2b013621f94a322d8cbc6a2\n",
      "Starting extraction for link 3968: https://www.zoopla.co.uk/for-sale/details/64920070/?search_identifier=af1e0484f85146f2fcecc65c3ae08a4b947a9be8a2b013621f94a322d8cbc6a2\n"
     ]
    },
    {
     "name": "stderr",
     "output_type": "stream",
     "text": [
      "could not detect version_main.therefore, we are assuming it is chrome 108 or higher\n"
     ]
    },
    {
     "name": "stdout",
     "output_type": "stream",
     "text": [
      "Saved to db successfully\n",
      "Done with link 3968: https://www.zoopla.co.uk/for-sale/details/64920070/?search_identifier=af1e0484f85146f2fcecc65c3ae08a4b947a9be8a2b013621f94a322d8cbc6a2\n",
      "Starting extraction for link 3969: https://www.zoopla.co.uk/for-sale/details/64919546/?search_identifier=af1e0484f85146f2fcecc65c3ae08a4b947a9be8a2b013621f94a322d8cbc6a2\n"
     ]
    },
    {
     "name": "stderr",
     "output_type": "stream",
     "text": [
      "could not detect version_main.therefore, we are assuming it is chrome 108 or higher\n"
     ]
    },
    {
     "name": "stdout",
     "output_type": "stream",
     "text": [
      "Saved to db successfully\n",
      "Done with link 3969: https://www.zoopla.co.uk/for-sale/details/64919546/?search_identifier=af1e0484f85146f2fcecc65c3ae08a4b947a9be8a2b013621f94a322d8cbc6a2\n",
      "Starting extraction for link 3970: https://www.zoopla.co.uk/new-homes/details/64293208/?search_identifier=af1e0484f85146f2fcecc65c3ae08a4b947a9be8a2b013621f94a322d8cbc6a2\n"
     ]
    },
    {
     "name": "stderr",
     "output_type": "stream",
     "text": [
      "could not detect version_main.therefore, we are assuming it is chrome 108 or higher\n"
     ]
    },
    {
     "name": "stdout",
     "output_type": "stream",
     "text": [
      "Saved to db successfully\n",
      "Done with link 3970: https://www.zoopla.co.uk/new-homes/details/64293208/?search_identifier=af1e0484f85146f2fcecc65c3ae08a4b947a9be8a2b013621f94a322d8cbc6a2\n",
      "Starting extraction for link 3971: https://www.zoopla.co.uk/new-homes/details/64918542/?search_identifier=af1e0484f85146f2fcecc65c3ae08a4b947a9be8a2b013621f94a322d8cbc6a2\n"
     ]
    },
    {
     "name": "stderr",
     "output_type": "stream",
     "text": [
      "could not detect version_main.therefore, we are assuming it is chrome 108 or higher\n"
     ]
    },
    {
     "name": "stdout",
     "output_type": "stream",
     "text": [
      "Saved to db successfully\n",
      "Done with link 3971: https://www.zoopla.co.uk/new-homes/details/64918542/?search_identifier=af1e0484f85146f2fcecc65c3ae08a4b947a9be8a2b013621f94a322d8cbc6a2\n",
      "Starting extraction for link 3972: https://www.zoopla.co.uk/new-homes/details/64918544/?search_identifier=af1e0484f85146f2fcecc65c3ae08a4b947a9be8a2b013621f94a322d8cbc6a2\n"
     ]
    },
    {
     "name": "stderr",
     "output_type": "stream",
     "text": [
      "could not detect version_main.therefore, we are assuming it is chrome 108 or higher\n"
     ]
    },
    {
     "name": "stdout",
     "output_type": "stream",
     "text": [
      "Saved to db successfully\n",
      "Done with link 3972: https://www.zoopla.co.uk/new-homes/details/64918544/?search_identifier=af1e0484f85146f2fcecc65c3ae08a4b947a9be8a2b013621f94a322d8cbc6a2\n",
      "Starting extraction for link 3973: https://www.zoopla.co.uk/for-sale/details/64904637/?search_identifier=af1e0484f85146f2fcecc65c3ae08a4b947a9be8a2b013621f94a322d8cbc6a2\n"
     ]
    },
    {
     "name": "stderr",
     "output_type": "stream",
     "text": [
      "could not detect version_main.therefore, we are assuming it is chrome 108 or higher\n"
     ]
    },
    {
     "name": "stdout",
     "output_type": "stream",
     "text": [
      "Saved to db successfully\n",
      "Done with link 3973: https://www.zoopla.co.uk/for-sale/details/64904637/?search_identifier=af1e0484f85146f2fcecc65c3ae08a4b947a9be8a2b013621f94a322d8cbc6a2\n",
      "Starting extraction for link 3974: https://www.zoopla.co.uk/for-sale/details/64897460/?search_identifier=af1e0484f85146f2fcecc65c3ae08a4b947a9be8a2b013621f94a322d8cbc6a2\n"
     ]
    },
    {
     "name": "stderr",
     "output_type": "stream",
     "text": [
      "could not detect version_main.therefore, we are assuming it is chrome 108 or higher\n"
     ]
    },
    {
     "name": "stdout",
     "output_type": "stream",
     "text": [
      "Saved to db successfully\n",
      "Done with link 3974: https://www.zoopla.co.uk/for-sale/details/64897460/?search_identifier=af1e0484f85146f2fcecc65c3ae08a4b947a9be8a2b013621f94a322d8cbc6a2\n",
      "Starting extraction for link 3975: https://www.zoopla.co.uk/for-sale/details/64887430/?search_identifier=af1e0484f85146f2fcecc65c3ae08a4b947a9be8a2b013621f94a322d8cbc6a2\n"
     ]
    },
    {
     "name": "stderr",
     "output_type": "stream",
     "text": [
      "could not detect version_main.therefore, we are assuming it is chrome 108 or higher\n"
     ]
    },
    {
     "name": "stdout",
     "output_type": "stream",
     "text": [
      "Saved to db successfully\n",
      "Done with link 3975: https://www.zoopla.co.uk/for-sale/details/64887430/?search_identifier=af1e0484f85146f2fcecc65c3ae08a4b947a9be8a2b013621f94a322d8cbc6a2\n",
      "Starting extraction for link 3976: https://www.zoopla.co.uk/for-sale/details/62355830/?search_identifier=af1e0484f85146f2fcecc65c3ae08a4b947a9be8a2b013621f94a322d8cbc6a2\n"
     ]
    },
    {
     "name": "stderr",
     "output_type": "stream",
     "text": [
      "could not detect version_main.therefore, we are assuming it is chrome 108 or higher\n"
     ]
    },
    {
     "name": "stdout",
     "output_type": "stream",
     "text": [
      "Saved to db successfully\n",
      "Done with link 3976: https://www.zoopla.co.uk/for-sale/details/62355830/?search_identifier=af1e0484f85146f2fcecc65c3ae08a4b947a9be8a2b013621f94a322d8cbc6a2\n",
      "Starting extraction for link 3977: https://www.zoopla.co.uk/for-sale/details/64869355/?search_identifier=af1e0484f85146f2fcecc65c3ae08a4b947a9be8a2b013621f94a322d8cbc6a2\n"
     ]
    },
    {
     "name": "stderr",
     "output_type": "stream",
     "text": [
      "could not detect version_main.therefore, we are assuming it is chrome 108 or higher\n"
     ]
    },
    {
     "name": "stdout",
     "output_type": "stream",
     "text": [
      "Saved to db successfully\n",
      "Done with link 3977: https://www.zoopla.co.uk/for-sale/details/64869355/?search_identifier=af1e0484f85146f2fcecc65c3ae08a4b947a9be8a2b013621f94a322d8cbc6a2\n",
      "Starting extraction for link 3978: https://www.zoopla.co.uk/new-homes/details/64864869/?search_identifier=af1e0484f85146f2fcecc65c3ae08a4b947a9be8a2b013621f94a322d8cbc6a2\n"
     ]
    },
    {
     "name": "stderr",
     "output_type": "stream",
     "text": [
      "could not detect version_main.therefore, we are assuming it is chrome 108 or higher\n"
     ]
    },
    {
     "name": "stdout",
     "output_type": "stream",
     "text": [
      "Saved to db successfully\n",
      "Done with link 3978: https://www.zoopla.co.uk/new-homes/details/64864869/?search_identifier=af1e0484f85146f2fcecc65c3ae08a4b947a9be8a2b013621f94a322d8cbc6a2\n",
      "Starting extraction for link 3979: https://www.zoopla.co.uk/new-homes/details/64864770/?search_identifier=af1e0484f85146f2fcecc65c3ae08a4b947a9be8a2b013621f94a322d8cbc6a2\n"
     ]
    },
    {
     "name": "stderr",
     "output_type": "stream",
     "text": [
      "could not detect version_main.therefore, we are assuming it is chrome 108 or higher\n"
     ]
    },
    {
     "name": "stdout",
     "output_type": "stream",
     "text": [
      "Saved to db successfully\n",
      "Done with link 3979: https://www.zoopla.co.uk/new-homes/details/64864770/?search_identifier=af1e0484f85146f2fcecc65c3ae08a4b947a9be8a2b013621f94a322d8cbc6a2\n",
      "Starting extraction for link 3980: https://www.zoopla.co.uk/new-homes/details/64864746/?search_identifier=af1e0484f85146f2fcecc65c3ae08a4b947a9be8a2b013621f94a322d8cbc6a2\n"
     ]
    },
    {
     "name": "stderr",
     "output_type": "stream",
     "text": [
      "could not detect version_main.therefore, we are assuming it is chrome 108 or higher\n"
     ]
    },
    {
     "name": "stdout",
     "output_type": "stream",
     "text": [
      "Saved to db successfully\n",
      "Done with link 3980: https://www.zoopla.co.uk/new-homes/details/64864746/?search_identifier=af1e0484f85146f2fcecc65c3ae08a4b947a9be8a2b013621f94a322d8cbc6a2\n",
      "Starting extraction for link 3981: https://www.zoopla.co.uk/new-homes/details/64864723/?search_identifier=af1e0484f85146f2fcecc65c3ae08a4b947a9be8a2b013621f94a322d8cbc6a2\n"
     ]
    },
    {
     "name": "stderr",
     "output_type": "stream",
     "text": [
      "could not detect version_main.therefore, we are assuming it is chrome 108 or higher\n"
     ]
    },
    {
     "name": "stdout",
     "output_type": "stream",
     "text": [
      "Saved to db successfully\n",
      "Done with link 3981: https://www.zoopla.co.uk/new-homes/details/64864723/?search_identifier=af1e0484f85146f2fcecc65c3ae08a4b947a9be8a2b013621f94a322d8cbc6a2\n",
      "Starting extraction for link 3982: https://www.zoopla.co.uk/for-sale/details/64861540/?search_identifier=af1e0484f85146f2fcecc65c3ae08a4b947a9be8a2b013621f94a322d8cbc6a2\n"
     ]
    },
    {
     "name": "stderr",
     "output_type": "stream",
     "text": [
      "could not detect version_main.therefore, we are assuming it is chrome 108 or higher\n"
     ]
    },
    {
     "name": "stdout",
     "output_type": "stream",
     "text": [
      "Saved to db successfully\n",
      "Done with link 3982: https://www.zoopla.co.uk/for-sale/details/64861540/?search_identifier=af1e0484f85146f2fcecc65c3ae08a4b947a9be8a2b013621f94a322d8cbc6a2\n",
      "Starting extraction for link 3983: https://www.zoopla.co.uk/for-sale/details/64791306/?search_identifier=af1e0484f85146f2fcecc65c3ae08a4b947a9be8a2b013621f94a322d8cbc6a2\n"
     ]
    },
    {
     "name": "stderr",
     "output_type": "stream",
     "text": [
      "could not detect version_main.therefore, we are assuming it is chrome 108 or higher\n"
     ]
    },
    {
     "name": "stdout",
     "output_type": "stream",
     "text": [
      "Saved to db successfully\n",
      "Done with link 3983: https://www.zoopla.co.uk/for-sale/details/64791306/?search_identifier=af1e0484f85146f2fcecc65c3ae08a4b947a9be8a2b013621f94a322d8cbc6a2\n",
      "Starting extraction for link 3984: https://www.zoopla.co.uk/for-sale/details/64850584/?search_identifier=af1e0484f85146f2fcecc65c3ae08a4b947a9be8a2b013621f94a322d8cbc6a2\n"
     ]
    },
    {
     "name": "stderr",
     "output_type": "stream",
     "text": [
      "could not detect version_main.therefore, we are assuming it is chrome 108 or higher\n"
     ]
    },
    {
     "name": "stdout",
     "output_type": "stream",
     "text": [
      "Saved to db successfully\n",
      "Done with link 3984: https://www.zoopla.co.uk/for-sale/details/64850584/?search_identifier=af1e0484f85146f2fcecc65c3ae08a4b947a9be8a2b013621f94a322d8cbc6a2\n",
      "Starting extraction for link 3985: https://www.zoopla.co.uk/for-sale/details/64823968/?search_identifier=af1e0484f85146f2fcecc65c3ae08a4b947a9be8a2b013621f94a322d8cbc6a2\n"
     ]
    },
    {
     "name": "stderr",
     "output_type": "stream",
     "text": [
      "could not detect version_main.therefore, we are assuming it is chrome 108 or higher\n"
     ]
    },
    {
     "name": "stdout",
     "output_type": "stream",
     "text": [
      "Saved to db successfully\n",
      "Done with link 3985: https://www.zoopla.co.uk/for-sale/details/64823968/?search_identifier=af1e0484f85146f2fcecc65c3ae08a4b947a9be8a2b013621f94a322d8cbc6a2\n",
      "Starting extraction for link 3986: https://www.zoopla.co.uk/for-sale/details/64823380/?search_identifier=af1e0484f85146f2fcecc65c3ae08a4b947a9be8a2b013621f94a322d8cbc6a2\n"
     ]
    },
    {
     "name": "stderr",
     "output_type": "stream",
     "text": [
      "could not detect version_main.therefore, we are assuming it is chrome 108 or higher\n"
     ]
    },
    {
     "name": "stdout",
     "output_type": "stream",
     "text": [
      "Saved to db successfully\n",
      "Done with link 3986: https://www.zoopla.co.uk/for-sale/details/64823380/?search_identifier=af1e0484f85146f2fcecc65c3ae08a4b947a9be8a2b013621f94a322d8cbc6a2\n",
      "Starting extraction for link 3987: https://www.zoopla.co.uk/for-sale/details/64818000/?search_identifier=af1e0484f85146f2fcecc65c3ae08a4b947a9be8a2b013621f94a322d8cbc6a2\n"
     ]
    },
    {
     "name": "stderr",
     "output_type": "stream",
     "text": [
      "could not detect version_main.therefore, we are assuming it is chrome 108 or higher\n"
     ]
    },
    {
     "name": "stdout",
     "output_type": "stream",
     "text": [
      "Saved to db successfully\n",
      "Done with link 3987: https://www.zoopla.co.uk/for-sale/details/64818000/?search_identifier=af1e0484f85146f2fcecc65c3ae08a4b947a9be8a2b013621f94a322d8cbc6a2\n",
      "Starting extraction for link 3988: https://www.zoopla.co.uk/for-sale/details/64807971/?search_identifier=0fed520eeac47c2451ef97fdd5a6309aa9863e8694309e3c636bd0f827633cf4\n"
     ]
    },
    {
     "name": "stderr",
     "output_type": "stream",
     "text": [
      "could not detect version_main.therefore, we are assuming it is chrome 108 or higher\n"
     ]
    },
    {
     "name": "stdout",
     "output_type": "stream",
     "text": [
      "Saved to db successfully\n",
      "Done with link 3988: https://www.zoopla.co.uk/for-sale/details/64807971/?search_identifier=0fed520eeac47c2451ef97fdd5a6309aa9863e8694309e3c636bd0f827633cf4\n",
      "Starting extraction for link 3989: https://www.zoopla.co.uk/for-sale/details/64805833/?search_identifier=0fed520eeac47c2451ef97fdd5a6309aa9863e8694309e3c636bd0f827633cf4\n"
     ]
    },
    {
     "name": "stderr",
     "output_type": "stream",
     "text": [
      "could not detect version_main.therefore, we are assuming it is chrome 108 or higher\n"
     ]
    },
    {
     "name": "stdout",
     "output_type": "stream",
     "text": [
      "Saved to db successfully\n",
      "Done with link 3989: https://www.zoopla.co.uk/for-sale/details/64805833/?search_identifier=0fed520eeac47c2451ef97fdd5a6309aa9863e8694309e3c636bd0f827633cf4\n",
      "Starting extraction for link 3990: https://www.zoopla.co.uk/for-sale/details/64792112/?search_identifier=0fed520eeac47c2451ef97fdd5a6309aa9863e8694309e3c636bd0f827633cf4\n"
     ]
    },
    {
     "name": "stderr",
     "output_type": "stream",
     "text": [
      "could not detect version_main.therefore, we are assuming it is chrome 108 or higher\n"
     ]
    },
    {
     "name": "stdout",
     "output_type": "stream",
     "text": [
      "Saved to db successfully\n",
      "Done with link 3990: https://www.zoopla.co.uk/for-sale/details/64792112/?search_identifier=0fed520eeac47c2451ef97fdd5a6309aa9863e8694309e3c636bd0f827633cf4\n",
      "Starting extraction for link 3991: https://www.zoopla.co.uk/for-sale/details/64788001/?search_identifier=0fed520eeac47c2451ef97fdd5a6309aa9863e8694309e3c636bd0f827633cf4\n"
     ]
    },
    {
     "name": "stderr",
     "output_type": "stream",
     "text": [
      "could not detect version_main.therefore, we are assuming it is chrome 108 or higher\n"
     ]
    },
    {
     "name": "stdout",
     "output_type": "stream",
     "text": [
      "Saved to db successfully\n",
      "Done with link 3991: https://www.zoopla.co.uk/for-sale/details/64788001/?search_identifier=0fed520eeac47c2451ef97fdd5a6309aa9863e8694309e3c636bd0f827633cf4\n",
      "Starting extraction for link 3992: https://www.zoopla.co.uk/for-sale/details/64786544/?search_identifier=0fed520eeac47c2451ef97fdd5a6309aa9863e8694309e3c636bd0f827633cf4\n"
     ]
    },
    {
     "name": "stderr",
     "output_type": "stream",
     "text": [
      "could not detect version_main.therefore, we are assuming it is chrome 108 or higher\n"
     ]
    },
    {
     "name": "stdout",
     "output_type": "stream",
     "text": [
      "Saved to db successfully\n",
      "Done with link 3992: https://www.zoopla.co.uk/for-sale/details/64786544/?search_identifier=0fed520eeac47c2451ef97fdd5a6309aa9863e8694309e3c636bd0f827633cf4\n",
      "Starting extraction for link 3993: https://www.zoopla.co.uk/for-sale/details/64786137/?search_identifier=0fed520eeac47c2451ef97fdd5a6309aa9863e8694309e3c636bd0f827633cf4\n"
     ]
    },
    {
     "name": "stderr",
     "output_type": "stream",
     "text": [
      "could not detect version_main.therefore, we are assuming it is chrome 108 or higher\n"
     ]
    },
    {
     "name": "stdout",
     "output_type": "stream",
     "text": [
      "Saved to db successfully\n",
      "Done with link 3993: https://www.zoopla.co.uk/for-sale/details/64786137/?search_identifier=0fed520eeac47c2451ef97fdd5a6309aa9863e8694309e3c636bd0f827633cf4\n",
      "Starting extraction for link 3994: https://www.zoopla.co.uk/for-sale/details/64230753/?search_identifier=0fed520eeac47c2451ef97fdd5a6309aa9863e8694309e3c636bd0f827633cf4\n"
     ]
    },
    {
     "name": "stderr",
     "output_type": "stream",
     "text": [
      "could not detect version_main.therefore, we are assuming it is chrome 108 or higher\n"
     ]
    },
    {
     "name": "stdout",
     "output_type": "stream",
     "text": [
      "Saved to db successfully\n",
      "Done with link 3994: https://www.zoopla.co.uk/for-sale/details/64230753/?search_identifier=0fed520eeac47c2451ef97fdd5a6309aa9863e8694309e3c636bd0f827633cf4\n",
      "Starting extraction for link 3995: https://www.zoopla.co.uk/for-sale/details/65045367/?search_identifier=0fed520eeac47c2451ef97fdd5a6309aa9863e8694309e3c636bd0f827633cf4\n",
      "An error occurred for link in get_data_func: https://www.zoopla.co.uk/for-sale/details/65045367/?search_identifier=0fed520eeac47c2451ef97fdd5a6309aa9863e8694309e3c636bd0f827633cf4: Message: no such element: Unable to locate element: {\"method\":\"xpath\",\"selector\":\"//p[@data-testid=\"price\"]\"}\n",
      "  (Session info: chrome=115.0.5790.110); For documentation on this error, please visit: https://www.selenium.dev/documentation/webdriver/troubleshooting/errors#no-such-element-exception\n",
      "Stacktrace:\n",
      "Backtrace:\n",
      "\tGetHandleVerifier [0x00E2A813+48355]\n",
      "\t(No symbol) [0x00DBC4B1]\n",
      "\t(No symbol) [0x00CC5358]\n",
      "\t(No symbol) [0x00CF09A5]\n",
      "\t(No symbol) [0x00CF0B3B]\n",
      "\t(No symbol) [0x00D1E232]\n",
      "\t(No symbol) [0x00D0A784]\n",
      "\t(No symbol) [0x00D1C922]\n",
      "\t(No symbol) [0x00D0A536]\n",
      "\t(No symbol) [0x00CE82DC]\n",
      "\t(No symbol) [0x00CE93DD]\n",
      "\tGetHandleVerifier [0x0108AABD+2539405]\n",
      "\tGetHandleVerifier [0x010CA78F+2800735]\n",
      "\tGetHandleVerifier [0x010C456C+2775612]\n",
      "\tGetHandleVerifier [0x00EB51E0+616112]\n",
      "\t(No symbol) [0x00DC5F8C]\n",
      "\t(No symbol) [0x00DC2328]\n",
      "\t(No symbol) [0x00DC240B]\n",
      "\t(No symbol) [0x00DB4FF7]\n",
      "\tBaseThreadInitThunk [0x76A57D59+25]\n",
      "\tRtlInitializeExceptionChain [0x7773B79B+107]\n",
      "\tRtlClearBits [0x7773B71F+191]\n",
      "\n"
     ]
    },
    {
     "name": "stderr",
     "output_type": "stream",
     "text": [
      "could not detect version_main.therefore, we are assuming it is chrome 108 or higher\n"
     ]
    },
    {
     "name": "stdout",
     "output_type": "stream",
     "text": [
      "Saved to db successfully\n",
      "Done with link 3995: https://www.zoopla.co.uk/for-sale/details/65045367/?search_identifier=0fed520eeac47c2451ef97fdd5a6309aa9863e8694309e3c636bd0f827633cf4\n",
      "Starting extraction for link 3996: https://www.zoopla.co.uk/for-sale/details/64754861/?search_identifier=0fed520eeac47c2451ef97fdd5a6309aa9863e8694309e3c636bd0f827633cf4\n"
     ]
    },
    {
     "name": "stderr",
     "output_type": "stream",
     "text": [
      "could not detect version_main.therefore, we are assuming it is chrome 108 or higher\n"
     ]
    },
    {
     "name": "stdout",
     "output_type": "stream",
     "text": [
      "Saved to db successfully\n",
      "Done with link 3996: https://www.zoopla.co.uk/for-sale/details/64754861/?search_identifier=0fed520eeac47c2451ef97fdd5a6309aa9863e8694309e3c636bd0f827633cf4\n",
      "Starting extraction for link 3997: https://www.zoopla.co.uk/for-sale/details/64754852/?search_identifier=0fed520eeac47c2451ef97fdd5a6309aa9863e8694309e3c636bd0f827633cf4\n"
     ]
    },
    {
     "name": "stderr",
     "output_type": "stream",
     "text": [
      "could not detect version_main.therefore, we are assuming it is chrome 108 or higher\n"
     ]
    },
    {
     "name": "stdout",
     "output_type": "stream",
     "text": [
      "Saved to db successfully\n",
      "Done with link 3997: https://www.zoopla.co.uk/for-sale/details/64754852/?search_identifier=0fed520eeac47c2451ef97fdd5a6309aa9863e8694309e3c636bd0f827633cf4\n",
      "Starting extraction for link 3998: https://www.zoopla.co.uk/for-sale/details/64754153/?search_identifier=0fed520eeac47c2451ef97fdd5a6309aa9863e8694309e3c636bd0f827633cf4\n"
     ]
    },
    {
     "name": "stderr",
     "output_type": "stream",
     "text": [
      "could not detect version_main.therefore, we are assuming it is chrome 108 or higher\n"
     ]
    },
    {
     "name": "stdout",
     "output_type": "stream",
     "text": [
      "Saved to db successfully\n",
      "Done with link 3998: https://www.zoopla.co.uk/for-sale/details/64754153/?search_identifier=0fed520eeac47c2451ef97fdd5a6309aa9863e8694309e3c636bd0f827633cf4\n",
      "Starting extraction for link 3999: https://www.zoopla.co.uk/for-sale/details/64749480/?search_identifier=0fed520eeac47c2451ef97fdd5a6309aa9863e8694309e3c636bd0f827633cf4\n"
     ]
    },
    {
     "name": "stderr",
     "output_type": "stream",
     "text": [
      "could not detect version_main.therefore, we are assuming it is chrome 108 or higher\n"
     ]
    },
    {
     "name": "stdout",
     "output_type": "stream",
     "text": [
      "Saved to db successfully\n",
      "Done with link 3999: https://www.zoopla.co.uk/for-sale/details/64749480/?search_identifier=0fed520eeac47c2451ef97fdd5a6309aa9863e8694309e3c636bd0f827633cf4\n",
      "Starting extraction for link 4000: https://www.zoopla.co.uk/for-sale/details/64748176/?search_identifier=0fed520eeac47c2451ef97fdd5a6309aa9863e8694309e3c636bd0f827633cf4\n"
     ]
    },
    {
     "name": "stderr",
     "output_type": "stream",
     "text": [
      "could not detect version_main.therefore, we are assuming it is chrome 108 or higher\n"
     ]
    },
    {
     "name": "stdout",
     "output_type": "stream",
     "text": [
      "Saved to db successfully\n",
      "Done with link 4000: https://www.zoopla.co.uk/for-sale/details/64748176/?search_identifier=0fed520eeac47c2451ef97fdd5a6309aa9863e8694309e3c636bd0f827633cf4\n",
      "Starting extraction for link 4001: https://www.zoopla.co.uk/for-sale/details/64742626/?search_identifier=0fed520eeac47c2451ef97fdd5a6309aa9863e8694309e3c636bd0f827633cf4\n"
     ]
    },
    {
     "name": "stderr",
     "output_type": "stream",
     "text": [
      "could not detect version_main.therefore, we are assuming it is chrome 108 or higher\n"
     ]
    },
    {
     "name": "stdout",
     "output_type": "stream",
     "text": [
      "Saved to db successfully\n",
      "Done with link 4001: https://www.zoopla.co.uk/for-sale/details/64742626/?search_identifier=0fed520eeac47c2451ef97fdd5a6309aa9863e8694309e3c636bd0f827633cf4\n",
      "Starting extraction for link 4002: https://www.zoopla.co.uk/for-sale/details/64741327/?search_identifier=0fed520eeac47c2451ef97fdd5a6309aa9863e8694309e3c636bd0f827633cf4\n"
     ]
    },
    {
     "name": "stderr",
     "output_type": "stream",
     "text": [
      "could not detect version_main.therefore, we are assuming it is chrome 108 or higher\n"
     ]
    },
    {
     "name": "stdout",
     "output_type": "stream",
     "text": [
      "Saved to db successfully\n",
      "Done with link 4002: https://www.zoopla.co.uk/for-sale/details/64741327/?search_identifier=0fed520eeac47c2451ef97fdd5a6309aa9863e8694309e3c636bd0f827633cf4\n",
      "Starting extraction for link 4003: https://www.zoopla.co.uk/for-sale/details/63775443/?search_identifier=0fed520eeac47c2451ef97fdd5a6309aa9863e8694309e3c636bd0f827633cf4\n"
     ]
    },
    {
     "name": "stderr",
     "output_type": "stream",
     "text": [
      "could not detect version_main.therefore, we are assuming it is chrome 108 or higher\n"
     ]
    },
    {
     "name": "stdout",
     "output_type": "stream",
     "text": [
      "Saved to db successfully\n",
      "Done with link 4003: https://www.zoopla.co.uk/for-sale/details/63775443/?search_identifier=0fed520eeac47c2451ef97fdd5a6309aa9863e8694309e3c636bd0f827633cf4\n",
      "Starting extraction for link 4004: https://www.zoopla.co.uk/new-homes/details/64729663/?search_identifier=0fed520eeac47c2451ef97fdd5a6309aa9863e8694309e3c636bd0f827633cf4\n"
     ]
    },
    {
     "name": "stderr",
     "output_type": "stream",
     "text": [
      "could not detect version_main.therefore, we are assuming it is chrome 108 or higher\n"
     ]
    },
    {
     "name": "stdout",
     "output_type": "stream",
     "text": [
      "Saved to db successfully\n",
      "Done with link 4004: https://www.zoopla.co.uk/new-homes/details/64729663/?search_identifier=0fed520eeac47c2451ef97fdd5a6309aa9863e8694309e3c636bd0f827633cf4\n",
      "Starting extraction for link 4005: https://www.zoopla.co.uk/new-homes/details/64729660/?search_identifier=0fed520eeac47c2451ef97fdd5a6309aa9863e8694309e3c636bd0f827633cf4\n"
     ]
    },
    {
     "name": "stderr",
     "output_type": "stream",
     "text": [
      "could not detect version_main.therefore, we are assuming it is chrome 108 or higher\n"
     ]
    },
    {
     "name": "stdout",
     "output_type": "stream",
     "text": [
      "Saved to db successfully\n",
      "Done with link 4005: https://www.zoopla.co.uk/new-homes/details/64729660/?search_identifier=0fed520eeac47c2451ef97fdd5a6309aa9863e8694309e3c636bd0f827633cf4\n",
      "Starting extraction for link 4006: https://www.zoopla.co.uk/for-sale/details/64725002/?search_identifier=0fed520eeac47c2451ef97fdd5a6309aa9863e8694309e3c636bd0f827633cf4\n"
     ]
    },
    {
     "name": "stderr",
     "output_type": "stream",
     "text": [
      "could not detect version_main.therefore, we are assuming it is chrome 108 or higher\n"
     ]
    },
    {
     "name": "stdout",
     "output_type": "stream",
     "text": [
      "Saved to db successfully\n",
      "Done with link 4006: https://www.zoopla.co.uk/for-sale/details/64725002/?search_identifier=0fed520eeac47c2451ef97fdd5a6309aa9863e8694309e3c636bd0f827633cf4\n",
      "Starting extraction for link 4007: https://www.zoopla.co.uk/for-sale/details/64720600/?search_identifier=0fed520eeac47c2451ef97fdd5a6309aa9863e8694309e3c636bd0f827633cf4\n"
     ]
    },
    {
     "name": "stderr",
     "output_type": "stream",
     "text": [
      "could not detect version_main.therefore, we are assuming it is chrome 108 or higher\n"
     ]
    },
    {
     "name": "stdout",
     "output_type": "stream",
     "text": [
      "Saved to db successfully\n",
      "Done with link 4007: https://www.zoopla.co.uk/for-sale/details/64720600/?search_identifier=0fed520eeac47c2451ef97fdd5a6309aa9863e8694309e3c636bd0f827633cf4\n",
      "Starting extraction for link 4008: https://www.zoopla.co.uk/for-sale/details/63775355/?search_identifier=0fed520eeac47c2451ef97fdd5a6309aa9863e8694309e3c636bd0f827633cf4\n"
     ]
    },
    {
     "name": "stderr",
     "output_type": "stream",
     "text": [
      "could not detect version_main.therefore, we are assuming it is chrome 108 or higher\n"
     ]
    },
    {
     "name": "stdout",
     "output_type": "stream",
     "text": [
      "Saved to db successfully\n",
      "Done with link 4008: https://www.zoopla.co.uk/for-sale/details/63775355/?search_identifier=0fed520eeac47c2451ef97fdd5a6309aa9863e8694309e3c636bd0f827633cf4\n",
      "Starting extraction for link 4009: https://www.zoopla.co.uk/for-sale/details/64713102/?search_identifier=0fed520eeac47c2451ef97fdd5a6309aa9863e8694309e3c636bd0f827633cf4\n"
     ]
    },
    {
     "name": "stderr",
     "output_type": "stream",
     "text": [
      "could not detect version_main.therefore, we are assuming it is chrome 108 or higher\n"
     ]
    },
    {
     "name": "stdout",
     "output_type": "stream",
     "text": [
      "Saved to db successfully\n",
      "Done with link 4009: https://www.zoopla.co.uk/for-sale/details/64713102/?search_identifier=0fed520eeac47c2451ef97fdd5a6309aa9863e8694309e3c636bd0f827633cf4\n",
      "Starting extraction for link 4010: https://www.zoopla.co.uk/for-sale/details/63775396/?search_identifier=0fed520eeac47c2451ef97fdd5a6309aa9863e8694309e3c636bd0f827633cf4\n"
     ]
    },
    {
     "name": "stderr",
     "output_type": "stream",
     "text": [
      "could not detect version_main.therefore, we are assuming it is chrome 108 or higher\n"
     ]
    },
    {
     "name": "stdout",
     "output_type": "stream",
     "text": [
      "Saved to db successfully\n",
      "Done with link 4010: https://www.zoopla.co.uk/for-sale/details/63775396/?search_identifier=0fed520eeac47c2451ef97fdd5a6309aa9863e8694309e3c636bd0f827633cf4\n",
      "Starting extraction for link 4011: https://www.zoopla.co.uk/for-sale/details/63775532/?search_identifier=0fed520eeac47c2451ef97fdd5a6309aa9863e8694309e3c636bd0f827633cf4\n"
     ]
    },
    {
     "name": "stderr",
     "output_type": "stream",
     "text": [
      "could not detect version_main.therefore, we are assuming it is chrome 108 or higher\n"
     ]
    },
    {
     "name": "stdout",
     "output_type": "stream",
     "text": [
      "Saved to db successfully\n",
      "Done with link 4011: https://www.zoopla.co.uk/for-sale/details/63775532/?search_identifier=0fed520eeac47c2451ef97fdd5a6309aa9863e8694309e3c636bd0f827633cf4\n",
      "Starting extraction for link 4012: https://www.zoopla.co.uk/for-sale/details/64704105/?search_identifier=0fed520eeac47c2451ef97fdd5a6309aa9863e8694309e3c636bd0f827633cf4\n"
     ]
    },
    {
     "name": "stderr",
     "output_type": "stream",
     "text": [
      "could not detect version_main.therefore, we are assuming it is chrome 108 or higher\n"
     ]
    },
    {
     "name": "stdout",
     "output_type": "stream",
     "text": [
      "Saved to db successfully\n",
      "Done with link 4012: https://www.zoopla.co.uk/for-sale/details/64704105/?search_identifier=0fed520eeac47c2451ef97fdd5a6309aa9863e8694309e3c636bd0f827633cf4\n",
      "Starting extraction for link 4013: https://www.zoopla.co.uk/for-sale/details/65018203/?search_identifier=bab15cd95288864eb3a6d0ef59894157adda3a372c96920ab637b16750309214\n"
     ]
    },
    {
     "name": "stderr",
     "output_type": "stream",
     "text": [
      "could not detect version_main.therefore, we are assuming it is chrome 108 or higher\n"
     ]
    },
    {
     "name": "stdout",
     "output_type": "stream",
     "text": [
      "Saved to db successfully\n",
      "Done with link 4013: https://www.zoopla.co.uk/for-sale/details/65018203/?search_identifier=bab15cd95288864eb3a6d0ef59894157adda3a372c96920ab637b16750309214\n",
      "Starting extraction for link 4014: https://www.zoopla.co.uk/for-sale/details/64675053/?search_identifier=bab15cd95288864eb3a6d0ef59894157adda3a372c96920ab637b16750309214\n"
     ]
    },
    {
     "name": "stderr",
     "output_type": "stream",
     "text": [
      "could not detect version_main.therefore, we are assuming it is chrome 108 or higher\n"
     ]
    },
    {
     "name": "stdout",
     "output_type": "stream",
     "text": [
      "Saved to db successfully\n",
      "Done with link 4014: https://www.zoopla.co.uk/for-sale/details/64675053/?search_identifier=bab15cd95288864eb3a6d0ef59894157adda3a372c96920ab637b16750309214\n",
      "Starting extraction for link 4015: https://www.zoopla.co.uk/for-sale/details/64665730/?search_identifier=bab15cd95288864eb3a6d0ef59894157adda3a372c96920ab637b16750309214\n"
     ]
    },
    {
     "name": "stderr",
     "output_type": "stream",
     "text": [
      "could not detect version_main.therefore, we are assuming it is chrome 108 or higher\n"
     ]
    },
    {
     "name": "stdout",
     "output_type": "stream",
     "text": [
      "Saved to db successfully\n",
      "Done with link 4015: https://www.zoopla.co.uk/for-sale/details/64665730/?search_identifier=bab15cd95288864eb3a6d0ef59894157adda3a372c96920ab637b16750309214\n",
      "Starting extraction for link 4016: https://www.zoopla.co.uk/for-sale/details/64664708/?search_identifier=bab15cd95288864eb3a6d0ef59894157adda3a372c96920ab637b16750309214\n"
     ]
    },
    {
     "name": "stderr",
     "output_type": "stream",
     "text": [
      "could not detect version_main.therefore, we are assuming it is chrome 108 or higher\n"
     ]
    },
    {
     "name": "stdout",
     "output_type": "stream",
     "text": [
      "Saved to db successfully\n",
      "Done with link 4016: https://www.zoopla.co.uk/for-sale/details/64664708/?search_identifier=bab15cd95288864eb3a6d0ef59894157adda3a372c96920ab637b16750309214\n",
      "Starting extraction for link 4017: https://www.zoopla.co.uk/new-homes/details/64661122/?search_identifier=bab15cd95288864eb3a6d0ef59894157adda3a372c96920ab637b16750309214\n"
     ]
    },
    {
     "name": "stderr",
     "output_type": "stream",
     "text": [
      "could not detect version_main.therefore, we are assuming it is chrome 108 or higher\n"
     ]
    },
    {
     "name": "stdout",
     "output_type": "stream",
     "text": [
      "Saved to db successfully\n",
      "Done with link 4017: https://www.zoopla.co.uk/new-homes/details/64661122/?search_identifier=bab15cd95288864eb3a6d0ef59894157adda3a372c96920ab637b16750309214\n",
      "Starting extraction for link 4018: https://www.zoopla.co.uk/new-homes/details/64661119/?search_identifier=bab15cd95288864eb3a6d0ef59894157adda3a372c96920ab637b16750309214\n"
     ]
    },
    {
     "name": "stderr",
     "output_type": "stream",
     "text": [
      "could not detect version_main.therefore, we are assuming it is chrome 108 or higher\n"
     ]
    },
    {
     "name": "stdout",
     "output_type": "stream",
     "text": [
      "Saved to db successfully\n",
      "Done with link 4018: https://www.zoopla.co.uk/new-homes/details/64661119/?search_identifier=bab15cd95288864eb3a6d0ef59894157adda3a372c96920ab637b16750309214\n",
      "Starting extraction for link 4019: https://www.zoopla.co.uk/new-homes/details/64661111/?search_identifier=bab15cd95288864eb3a6d0ef59894157adda3a372c96920ab637b16750309214\n"
     ]
    },
    {
     "name": "stderr",
     "output_type": "stream",
     "text": [
      "could not detect version_main.therefore, we are assuming it is chrome 108 or higher\n"
     ]
    },
    {
     "name": "stdout",
     "output_type": "stream",
     "text": [
      "Saved to db successfully\n",
      "Done with link 4019: https://www.zoopla.co.uk/new-homes/details/64661111/?search_identifier=bab15cd95288864eb3a6d0ef59894157adda3a372c96920ab637b16750309214\n",
      "Starting extraction for link 4020: https://www.zoopla.co.uk/for-sale/details/64657911/?search_identifier=bab15cd95288864eb3a6d0ef59894157adda3a372c96920ab637b16750309214\n"
     ]
    },
    {
     "name": "stderr",
     "output_type": "stream",
     "text": [
      "could not detect version_main.therefore, we are assuming it is chrome 108 or higher\n"
     ]
    },
    {
     "name": "stdout",
     "output_type": "stream",
     "text": [
      "Saved to db successfully\n",
      "Done with link 4020: https://www.zoopla.co.uk/for-sale/details/64657911/?search_identifier=bab15cd95288864eb3a6d0ef59894157adda3a372c96920ab637b16750309214\n",
      "Starting extraction for link 4021: https://www.zoopla.co.uk/for-sale/details/64632341/?search_identifier=bab15cd95288864eb3a6d0ef59894157adda3a372c96920ab637b16750309214\n"
     ]
    },
    {
     "name": "stderr",
     "output_type": "stream",
     "text": [
      "could not detect version_main.therefore, we are assuming it is chrome 108 or higher\n"
     ]
    },
    {
     "name": "stdout",
     "output_type": "stream",
     "text": [
      "Saved to db successfully\n",
      "Done with link 4021: https://www.zoopla.co.uk/for-sale/details/64632341/?search_identifier=bab15cd95288864eb3a6d0ef59894157adda3a372c96920ab637b16750309214\n",
      "Starting extraction for link 4022: https://www.zoopla.co.uk/for-sale/details/64628370/?search_identifier=bab15cd95288864eb3a6d0ef59894157adda3a372c96920ab637b16750309214\n"
     ]
    },
    {
     "name": "stderr",
     "output_type": "stream",
     "text": [
      "could not detect version_main.therefore, we are assuming it is chrome 108 or higher\n"
     ]
    },
    {
     "name": "stdout",
     "output_type": "stream",
     "text": [
      "Saved to db successfully\n",
      "Done with link 4022: https://www.zoopla.co.uk/for-sale/details/64628370/?search_identifier=bab15cd95288864eb3a6d0ef59894157adda3a372c96920ab637b16750309214\n",
      "Starting extraction for link 4023: https://www.zoopla.co.uk/for-sale/details/64626056/?search_identifier=bab15cd95288864eb3a6d0ef59894157adda3a372c96920ab637b16750309214\n"
     ]
    },
    {
     "name": "stderr",
     "output_type": "stream",
     "text": [
      "could not detect version_main.therefore, we are assuming it is chrome 108 or higher\n"
     ]
    },
    {
     "name": "stdout",
     "output_type": "stream",
     "text": [
      "Saved to db successfully\n",
      "Done with link 4023: https://www.zoopla.co.uk/for-sale/details/64626056/?search_identifier=bab15cd95288864eb3a6d0ef59894157adda3a372c96920ab637b16750309214\n",
      "Starting extraction for link 4024: https://www.zoopla.co.uk/for-sale/details/64600870/?search_identifier=bab15cd95288864eb3a6d0ef59894157adda3a372c96920ab637b16750309214\n"
     ]
    },
    {
     "name": "stderr",
     "output_type": "stream",
     "text": [
      "could not detect version_main.therefore, we are assuming it is chrome 108 or higher\n"
     ]
    },
    {
     "name": "stdout",
     "output_type": "stream",
     "text": [
      "Saved to db successfully\n",
      "Done with link 4024: https://www.zoopla.co.uk/for-sale/details/64600870/?search_identifier=bab15cd95288864eb3a6d0ef59894157adda3a372c96920ab637b16750309214\n",
      "Starting extraction for link 4025: https://www.zoopla.co.uk/for-sale/details/64596987/?search_identifier=bab15cd95288864eb3a6d0ef59894157adda3a372c96920ab637b16750309214\n"
     ]
    },
    {
     "name": "stderr",
     "output_type": "stream",
     "text": [
      "could not detect version_main.therefore, we are assuming it is chrome 108 or higher\n"
     ]
    },
    {
     "name": "stdout",
     "output_type": "stream",
     "text": [
      "Saved to db successfully\n",
      "Done with link 4025: https://www.zoopla.co.uk/for-sale/details/64596987/?search_identifier=bab15cd95288864eb3a6d0ef59894157adda3a372c96920ab637b16750309214\n",
      "Starting extraction for link 4026: https://www.zoopla.co.uk/for-sale/details/64596003/?search_identifier=bab15cd95288864eb3a6d0ef59894157adda3a372c96920ab637b16750309214\n"
     ]
    },
    {
     "name": "stderr",
     "output_type": "stream",
     "text": [
      "could not detect version_main.therefore, we are assuming it is chrome 108 or higher\n"
     ]
    },
    {
     "name": "stdout",
     "output_type": "stream",
     "text": [
      "Saved to db successfully\n",
      "Done with link 4026: https://www.zoopla.co.uk/for-sale/details/64596003/?search_identifier=bab15cd95288864eb3a6d0ef59894157adda3a372c96920ab637b16750309214\n",
      "Starting extraction for link 4027: https://www.zoopla.co.uk/for-sale/details/64552538/?search_identifier=bab15cd95288864eb3a6d0ef59894157adda3a372c96920ab637b16750309214\n"
     ]
    },
    {
     "name": "stderr",
     "output_type": "stream",
     "text": [
      "could not detect version_main.therefore, we are assuming it is chrome 108 or higher\n"
     ]
    },
    {
     "name": "stdout",
     "output_type": "stream",
     "text": [
      "Saved to db successfully\n",
      "Done with link 4027: https://www.zoopla.co.uk/for-sale/details/64552538/?search_identifier=bab15cd95288864eb3a6d0ef59894157adda3a372c96920ab637b16750309214\n",
      "Starting extraction for link 4028: https://www.zoopla.co.uk/for-sale/details/64538846/?search_identifier=bab15cd95288864eb3a6d0ef59894157adda3a372c96920ab637b16750309214\n"
     ]
    },
    {
     "name": "stderr",
     "output_type": "stream",
     "text": [
      "could not detect version_main.therefore, we are assuming it is chrome 108 or higher\n"
     ]
    },
    {
     "name": "stdout",
     "output_type": "stream",
     "text": [
      "Saved to db successfully\n",
      "Done with link 4028: https://www.zoopla.co.uk/for-sale/details/64538846/?search_identifier=bab15cd95288864eb3a6d0ef59894157adda3a372c96920ab637b16750309214\n",
      "Starting extraction for link 4029: https://www.zoopla.co.uk/for-sale/details/64538855/?search_identifier=bab15cd95288864eb3a6d0ef59894157adda3a372c96920ab637b16750309214\n"
     ]
    },
    {
     "name": "stderr",
     "output_type": "stream",
     "text": [
      "could not detect version_main.therefore, we are assuming it is chrome 108 or higher\n"
     ]
    },
    {
     "name": "stdout",
     "output_type": "stream",
     "text": [
      "Saved to db successfully\n",
      "Done with link 4029: https://www.zoopla.co.uk/for-sale/details/64538855/?search_identifier=bab15cd95288864eb3a6d0ef59894157adda3a372c96920ab637b16750309214\n",
      "Starting extraction for link 4030: https://www.zoopla.co.uk/for-sale/details/64538836/?search_identifier=bab15cd95288864eb3a6d0ef59894157adda3a372c96920ab637b16750309214\n"
     ]
    },
    {
     "name": "stderr",
     "output_type": "stream",
     "text": [
      "could not detect version_main.therefore, we are assuming it is chrome 108 or higher\n"
     ]
    },
    {
     "name": "stdout",
     "output_type": "stream",
     "text": [
      "Saved to db successfully\n",
      "Done with link 4030: https://www.zoopla.co.uk/for-sale/details/64538836/?search_identifier=bab15cd95288864eb3a6d0ef59894157adda3a372c96920ab637b16750309214\n",
      "Starting extraction for link 4031: https://www.zoopla.co.uk/for-sale/details/64524763/?search_identifier=bab15cd95288864eb3a6d0ef59894157adda3a372c96920ab637b16750309214\n"
     ]
    },
    {
     "name": "stderr",
     "output_type": "stream",
     "text": [
      "could not detect version_main.therefore, we are assuming it is chrome 108 or higher\n"
     ]
    },
    {
     "name": "stdout",
     "output_type": "stream",
     "text": [
      "Saved to db successfully\n",
      "Done with link 4031: https://www.zoopla.co.uk/for-sale/details/64524763/?search_identifier=bab15cd95288864eb3a6d0ef59894157adda3a372c96920ab637b16750309214\n",
      "Starting extraction for link 4032: https://www.zoopla.co.uk/for-sale/details/64524078/?search_identifier=bab15cd95288864eb3a6d0ef59894157adda3a372c96920ab637b16750309214\n"
     ]
    },
    {
     "name": "stderr",
     "output_type": "stream",
     "text": [
      "could not detect version_main.therefore, we are assuming it is chrome 108 or higher\n"
     ]
    },
    {
     "name": "stdout",
     "output_type": "stream",
     "text": [
      "Saved to db successfully\n",
      "Done with link 4032: https://www.zoopla.co.uk/for-sale/details/64524078/?search_identifier=bab15cd95288864eb3a6d0ef59894157adda3a372c96920ab637b16750309214\n",
      "Starting extraction for link 4033: https://www.zoopla.co.uk/for-sale/details/64523696/?search_identifier=bab15cd95288864eb3a6d0ef59894157adda3a372c96920ab637b16750309214\n"
     ]
    },
    {
     "name": "stderr",
     "output_type": "stream",
     "text": [
      "could not detect version_main.therefore, we are assuming it is chrome 108 or higher\n"
     ]
    },
    {
     "name": "stdout",
     "output_type": "stream",
     "text": [
      "Saved to db successfully\n",
      "Done with link 4033: https://www.zoopla.co.uk/for-sale/details/64523696/?search_identifier=bab15cd95288864eb3a6d0ef59894157adda3a372c96920ab637b16750309214\n",
      "Starting extraction for link 4034: https://www.zoopla.co.uk/for-sale/details/64480517/?search_identifier=bab15cd95288864eb3a6d0ef59894157adda3a372c96920ab637b16750309214\n"
     ]
    },
    {
     "name": "stderr",
     "output_type": "stream",
     "text": [
      "could not detect version_main.therefore, we are assuming it is chrome 108 or higher\n"
     ]
    },
    {
     "name": "stdout",
     "output_type": "stream",
     "text": [
      "Saved to db successfully\n",
      "Done with link 4034: https://www.zoopla.co.uk/for-sale/details/64480517/?search_identifier=bab15cd95288864eb3a6d0ef59894157adda3a372c96920ab637b16750309214\n",
      "Starting extraction for link 4035: https://www.zoopla.co.uk/for-sale/details/64471058/?search_identifier=bab15cd95288864eb3a6d0ef59894157adda3a372c96920ab637b16750309214\n"
     ]
    },
    {
     "name": "stderr",
     "output_type": "stream",
     "text": [
      "could not detect version_main.therefore, we are assuming it is chrome 108 or higher\n"
     ]
    },
    {
     "name": "stdout",
     "output_type": "stream",
     "text": [
      "Saved to db successfully\n",
      "Done with link 4035: https://www.zoopla.co.uk/for-sale/details/64471058/?search_identifier=bab15cd95288864eb3a6d0ef59894157adda3a372c96920ab637b16750309214\n",
      "Starting extraction for link 4036: https://www.zoopla.co.uk/for-sale/details/64468676/?search_identifier=bab15cd95288864eb3a6d0ef59894157adda3a372c96920ab637b16750309214\n"
     ]
    },
    {
     "name": "stderr",
     "output_type": "stream",
     "text": [
      "could not detect version_main.therefore, we are assuming it is chrome 108 or higher\n"
     ]
    },
    {
     "name": "stdout",
     "output_type": "stream",
     "text": [
      "Saved to db successfully\n",
      "Done with link 4036: https://www.zoopla.co.uk/for-sale/details/64468676/?search_identifier=bab15cd95288864eb3a6d0ef59894157adda3a372c96920ab637b16750309214\n",
      "Starting extraction for link 4037: https://www.zoopla.co.uk/for-sale/details/64428154/?search_identifier=bab15cd95288864eb3a6d0ef59894157adda3a372c96920ab637b16750309214\n"
     ]
    },
    {
     "name": "stderr",
     "output_type": "stream",
     "text": [
      "could not detect version_main.therefore, we are assuming it is chrome 108 or higher\n"
     ]
    },
    {
     "name": "stdout",
     "output_type": "stream",
     "text": [
      "Saved to db successfully\n",
      "Done with link 4037: https://www.zoopla.co.uk/for-sale/details/64428154/?search_identifier=bab15cd95288864eb3a6d0ef59894157adda3a372c96920ab637b16750309214\n",
      "Starting extraction for link 4038: https://www.zoopla.co.uk/for-sale/details/64418445/?search_identifier=ab5ee44b4dc65918cd11e914a7ec6071de828cb97863f107a873f368159be7a4\n"
     ]
    },
    {
     "name": "stderr",
     "output_type": "stream",
     "text": [
      "could not detect version_main.therefore, we are assuming it is chrome 108 or higher\n"
     ]
    },
    {
     "name": "stdout",
     "output_type": "stream",
     "text": [
      "Saved to db successfully\n",
      "Done with link 4038: https://www.zoopla.co.uk/for-sale/details/64418445/?search_identifier=ab5ee44b4dc65918cd11e914a7ec6071de828cb97863f107a873f368159be7a4\n",
      "Starting extraction for link 4039: https://www.zoopla.co.uk/for-sale/details/64396332/?search_identifier=ab5ee44b4dc65918cd11e914a7ec6071de828cb97863f107a873f368159be7a4\n"
     ]
    },
    {
     "name": "stderr",
     "output_type": "stream",
     "text": [
      "could not detect version_main.therefore, we are assuming it is chrome 108 or higher\n"
     ]
    },
    {
     "name": "stdout",
     "output_type": "stream",
     "text": [
      "Saved to db successfully\n",
      "Done with link 4039: https://www.zoopla.co.uk/for-sale/details/64396332/?search_identifier=ab5ee44b4dc65918cd11e914a7ec6071de828cb97863f107a873f368159be7a4\n",
      "Starting extraction for link 4040: https://www.zoopla.co.uk/for-sale/details/64394745/?search_identifier=ab5ee44b4dc65918cd11e914a7ec6071de828cb97863f107a873f368159be7a4\n"
     ]
    },
    {
     "name": "stderr",
     "output_type": "stream",
     "text": [
      "could not detect version_main.therefore, we are assuming it is chrome 108 or higher\n"
     ]
    },
    {
     "name": "stdout",
     "output_type": "stream",
     "text": [
      "Saved to db successfully\n",
      "Done with link 4040: https://www.zoopla.co.uk/for-sale/details/64394745/?search_identifier=ab5ee44b4dc65918cd11e914a7ec6071de828cb97863f107a873f368159be7a4\n",
      "Starting extraction for link 4041: https://www.zoopla.co.uk/for-sale/details/64372356/?search_identifier=ab5ee44b4dc65918cd11e914a7ec6071de828cb97863f107a873f368159be7a4\n"
     ]
    },
    {
     "name": "stderr",
     "output_type": "stream",
     "text": [
      "could not detect version_main.therefore, we are assuming it is chrome 108 or higher\n"
     ]
    },
    {
     "name": "stdout",
     "output_type": "stream",
     "text": [
      "Saved to db successfully\n",
      "Done with link 4041: https://www.zoopla.co.uk/for-sale/details/64372356/?search_identifier=ab5ee44b4dc65918cd11e914a7ec6071de828cb97863f107a873f368159be7a4\n",
      "Starting extraction for link 4042: https://www.zoopla.co.uk/for-sale/details/64349594/?search_identifier=ab5ee44b4dc65918cd11e914a7ec6071de828cb97863f107a873f368159be7a4\n"
     ]
    },
    {
     "name": "stderr",
     "output_type": "stream",
     "text": [
      "could not detect version_main.therefore, we are assuming it is chrome 108 or higher\n"
     ]
    },
    {
     "name": "stdout",
     "output_type": "stream",
     "text": [
      "Saved to db successfully\n",
      "Done with link 4042: https://www.zoopla.co.uk/for-sale/details/64349594/?search_identifier=ab5ee44b4dc65918cd11e914a7ec6071de828cb97863f107a873f368159be7a4\n",
      "Starting extraction for link 4043: https://www.zoopla.co.uk/for-sale/details/64342175/?search_identifier=ab5ee44b4dc65918cd11e914a7ec6071de828cb97863f107a873f368159be7a4\n"
     ]
    },
    {
     "name": "stderr",
     "output_type": "stream",
     "text": [
      "could not detect version_main.therefore, we are assuming it is chrome 108 or higher\n"
     ]
    },
    {
     "name": "stdout",
     "output_type": "stream",
     "text": [
      "Saved to db successfully\n",
      "Done with link 4043: https://www.zoopla.co.uk/for-sale/details/64342175/?search_identifier=ab5ee44b4dc65918cd11e914a7ec6071de828cb97863f107a873f368159be7a4\n",
      "Starting extraction for link 4044: https://www.zoopla.co.uk/for-sale/details/64297935/?search_identifier=ab5ee44b4dc65918cd11e914a7ec6071de828cb97863f107a873f368159be7a4\n"
     ]
    },
    {
     "name": "stderr",
     "output_type": "stream",
     "text": [
      "could not detect version_main.therefore, we are assuming it is chrome 108 or higher\n"
     ]
    },
    {
     "name": "stdout",
     "output_type": "stream",
     "text": [
      "Saved to db successfully\n",
      "Done with link 4044: https://www.zoopla.co.uk/for-sale/details/64297935/?search_identifier=ab5ee44b4dc65918cd11e914a7ec6071de828cb97863f107a873f368159be7a4\n",
      "Starting extraction for link 4045: https://www.zoopla.co.uk/new-homes/details/64293212/?search_identifier=ab5ee44b4dc65918cd11e914a7ec6071de828cb97863f107a873f368159be7a4\n"
     ]
    },
    {
     "name": "stderr",
     "output_type": "stream",
     "text": [
      "could not detect version_main.therefore, we are assuming it is chrome 108 or higher\n"
     ]
    },
    {
     "name": "stdout",
     "output_type": "stream",
     "text": [
      "Saved to db successfully\n",
      "Done with link 4045: https://www.zoopla.co.uk/new-homes/details/64293212/?search_identifier=ab5ee44b4dc65918cd11e914a7ec6071de828cb97863f107a873f368159be7a4\n",
      "Starting extraction for link 4046: https://www.zoopla.co.uk/for-sale/details/64277631/?search_identifier=ab5ee44b4dc65918cd11e914a7ec6071de828cb97863f107a873f368159be7a4\n"
     ]
    },
    {
     "name": "stderr",
     "output_type": "stream",
     "text": [
      "could not detect version_main.therefore, we are assuming it is chrome 108 or higher\n"
     ]
    },
    {
     "name": "stdout",
     "output_type": "stream",
     "text": [
      "Saved to db successfully\n",
      "Done with link 4046: https://www.zoopla.co.uk/for-sale/details/64277631/?search_identifier=ab5ee44b4dc65918cd11e914a7ec6071de828cb97863f107a873f368159be7a4\n",
      "Starting extraction for link 4047: https://www.zoopla.co.uk/for-sale/details/64275504/?search_identifier=ab5ee44b4dc65918cd11e914a7ec6071de828cb97863f107a873f368159be7a4\n"
     ]
    },
    {
     "name": "stderr",
     "output_type": "stream",
     "text": [
      "could not detect version_main.therefore, we are assuming it is chrome 108 or higher\n"
     ]
    },
    {
     "name": "stdout",
     "output_type": "stream",
     "text": [
      "Saved to db successfully\n",
      "Done with link 4047: https://www.zoopla.co.uk/for-sale/details/64275504/?search_identifier=ab5ee44b4dc65918cd11e914a7ec6071de828cb97863f107a873f368159be7a4\n",
      "Starting extraction for link 4048: https://www.zoopla.co.uk/for-sale/details/64269003/?search_identifier=ab5ee44b4dc65918cd11e914a7ec6071de828cb97863f107a873f368159be7a4\n",
      "An error occurred for link in get_data_func: https://www.zoopla.co.uk/for-sale/details/64269003/?search_identifier=ab5ee44b4dc65918cd11e914a7ec6071de828cb97863f107a873f368159be7a4: Message: no such element: Unable to locate element: {\"method\":\"xpath\",\"selector\":\"//p[@data-testid=\"price\"]\"}\n",
      "  (Session info: chrome=115.0.5790.110); For documentation on this error, please visit: https://www.selenium.dev/documentation/webdriver/troubleshooting/errors#no-such-element-exception\n",
      "Stacktrace:\n",
      "Backtrace:\n",
      "\tGetHandleVerifier [0x00E2A813+48355]\n",
      "\t(No symbol) [0x00DBC4B1]\n",
      "\t(No symbol) [0x00CC5358]\n",
      "\t(No symbol) [0x00CF09A5]\n",
      "\t(No symbol) [0x00CF0B3B]\n",
      "\t(No symbol) [0x00D1E232]\n",
      "\t(No symbol) [0x00D0A784]\n",
      "\t(No symbol) [0x00D1C922]\n",
      "\t(No symbol) [0x00D0A536]\n",
      "\t(No symbol) [0x00CE82DC]\n",
      "\t(No symbol) [0x00CE93DD]\n",
      "\tGetHandleVerifier [0x0108AABD+2539405]\n",
      "\tGetHandleVerifier [0x010CA78F+2800735]\n",
      "\tGetHandleVerifier [0x010C456C+2775612]\n",
      "\tGetHandleVerifier [0x00EB51E0+616112]\n",
      "\t(No symbol) [0x00DC5F8C]\n",
      "\t(No symbol) [0x00DC2328]\n",
      "\t(No symbol) [0x00DC240B]\n",
      "\t(No symbol) [0x00DB4FF7]\n",
      "\tBaseThreadInitThunk [0x76A57D59+25]\n",
      "\tRtlInitializeExceptionChain [0x7773B79B+107]\n",
      "\tRtlClearBits [0x7773B71F+191]\n",
      "\n"
     ]
    },
    {
     "name": "stderr",
     "output_type": "stream",
     "text": [
      "could not detect version_main.therefore, we are assuming it is chrome 108 or higher\n"
     ]
    },
    {
     "name": "stdout",
     "output_type": "stream",
     "text": [
      "Saved to db successfully\n",
      "Done with link 4048: https://www.zoopla.co.uk/for-sale/details/64269003/?search_identifier=ab5ee44b4dc65918cd11e914a7ec6071de828cb97863f107a873f368159be7a4\n",
      "Starting extraction for link 4049: https://www.zoopla.co.uk/for-sale/details/64266774/?search_identifier=ab5ee44b4dc65918cd11e914a7ec6071de828cb97863f107a873f368159be7a4\n"
     ]
    },
    {
     "name": "stderr",
     "output_type": "stream",
     "text": [
      "could not detect version_main.therefore, we are assuming it is chrome 108 or higher\n"
     ]
    },
    {
     "name": "stdout",
     "output_type": "stream",
     "text": [
      "Saved to db successfully\n",
      "Done with link 4049: https://www.zoopla.co.uk/for-sale/details/64266774/?search_identifier=ab5ee44b4dc65918cd11e914a7ec6071de828cb97863f107a873f368159be7a4\n",
      "Starting extraction for link 4050: https://www.zoopla.co.uk/for-sale/details/64252284/?search_identifier=ab5ee44b4dc65918cd11e914a7ec6071de828cb97863f107a873f368159be7a4\n"
     ]
    },
    {
     "name": "stderr",
     "output_type": "stream",
     "text": [
      "could not detect version_main.therefore, we are assuming it is chrome 108 or higher\n"
     ]
    },
    {
     "name": "stdout",
     "output_type": "stream",
     "text": [
      "Saved to db successfully\n",
      "Done with link 4050: https://www.zoopla.co.uk/for-sale/details/64252284/?search_identifier=ab5ee44b4dc65918cd11e914a7ec6071de828cb97863f107a873f368159be7a4\n",
      "Starting extraction for link 4051: https://www.zoopla.co.uk/new-homes/details/64245257/?search_identifier=ab5ee44b4dc65918cd11e914a7ec6071de828cb97863f107a873f368159be7a4\n"
     ]
    },
    {
     "name": "stderr",
     "output_type": "stream",
     "text": [
      "could not detect version_main.therefore, we are assuming it is chrome 108 or higher\n"
     ]
    },
    {
     "name": "stdout",
     "output_type": "stream",
     "text": [
      "Saved to db successfully\n",
      "Done with link 4051: https://www.zoopla.co.uk/new-homes/details/64245257/?search_identifier=ab5ee44b4dc65918cd11e914a7ec6071de828cb97863f107a873f368159be7a4\n",
      "Starting extraction for link 4052: https://www.zoopla.co.uk/new-homes/details/64245062/?search_identifier=ab5ee44b4dc65918cd11e914a7ec6071de828cb97863f107a873f368159be7a4\n"
     ]
    },
    {
     "name": "stderr",
     "output_type": "stream",
     "text": [
      "could not detect version_main.therefore, we are assuming it is chrome 108 or higher\n"
     ]
    },
    {
     "name": "stdout",
     "output_type": "stream",
     "text": [
      "Saved to db successfully\n",
      "Done with link 4052: https://www.zoopla.co.uk/new-homes/details/64245062/?search_identifier=ab5ee44b4dc65918cd11e914a7ec6071de828cb97863f107a873f368159be7a4\n",
      "Starting extraction for link 4053: https://www.zoopla.co.uk/for-sale/details/64243066/?search_identifier=ab5ee44b4dc65918cd11e914a7ec6071de828cb97863f107a873f368159be7a4\n"
     ]
    },
    {
     "name": "stderr",
     "output_type": "stream",
     "text": [
      "could not detect version_main.therefore, we are assuming it is chrome 108 or higher\n"
     ]
    },
    {
     "name": "stdout",
     "output_type": "stream",
     "text": [
      "Saved to db successfully\n",
      "Done with link 4053: https://www.zoopla.co.uk/for-sale/details/64243066/?search_identifier=ab5ee44b4dc65918cd11e914a7ec6071de828cb97863f107a873f368159be7a4\n",
      "Starting extraction for link 4054: https://www.zoopla.co.uk/for-sale/details/64237195/?search_identifier=ab5ee44b4dc65918cd11e914a7ec6071de828cb97863f107a873f368159be7a4\n"
     ]
    },
    {
     "name": "stderr",
     "output_type": "stream",
     "text": [
      "could not detect version_main.therefore, we are assuming it is chrome 108 or higher\n"
     ]
    },
    {
     "name": "stdout",
     "output_type": "stream",
     "text": [
      "Saved to db successfully\n",
      "Done with link 4054: https://www.zoopla.co.uk/for-sale/details/64237195/?search_identifier=ab5ee44b4dc65918cd11e914a7ec6071de828cb97863f107a873f368159be7a4\n",
      "Starting extraction for link 4055: https://www.zoopla.co.uk/for-sale/details/64203545/?search_identifier=ab5ee44b4dc65918cd11e914a7ec6071de828cb97863f107a873f368159be7a4\n"
     ]
    },
    {
     "name": "stderr",
     "output_type": "stream",
     "text": [
      "could not detect version_main.therefore, we are assuming it is chrome 108 or higher\n"
     ]
    },
    {
     "name": "stdout",
     "output_type": "stream",
     "text": [
      "Saved to db successfully\n",
      "Done with link 4055: https://www.zoopla.co.uk/for-sale/details/64203545/?search_identifier=ab5ee44b4dc65918cd11e914a7ec6071de828cb97863f107a873f368159be7a4\n",
      "Starting extraction for link 4056: https://www.zoopla.co.uk/for-sale/details/64118231/?search_identifier=ab5ee44b4dc65918cd11e914a7ec6071de828cb97863f107a873f368159be7a4\n"
     ]
    },
    {
     "name": "stderr",
     "output_type": "stream",
     "text": [
      "could not detect version_main.therefore, we are assuming it is chrome 108 or higher\n"
     ]
    },
    {
     "name": "stdout",
     "output_type": "stream",
     "text": [
      "Saved to db successfully\n",
      "Done with link 4056: https://www.zoopla.co.uk/for-sale/details/64118231/?search_identifier=ab5ee44b4dc65918cd11e914a7ec6071de828cb97863f107a873f368159be7a4\n",
      "Starting extraction for link 4057: https://www.zoopla.co.uk/for-sale/details/64087196/?search_identifier=ab5ee44b4dc65918cd11e914a7ec6071de828cb97863f107a873f368159be7a4\n"
     ]
    },
    {
     "name": "stderr",
     "output_type": "stream",
     "text": [
      "could not detect version_main.therefore, we are assuming it is chrome 108 or higher\n"
     ]
    },
    {
     "name": "stdout",
     "output_type": "stream",
     "text": [
      "Saved to db successfully\n",
      "Done with link 4057: https://www.zoopla.co.uk/for-sale/details/64087196/?search_identifier=ab5ee44b4dc65918cd11e914a7ec6071de828cb97863f107a873f368159be7a4\n",
      "Starting extraction for link 4058: https://www.zoopla.co.uk/for-sale/details/64081140/?search_identifier=ab5ee44b4dc65918cd11e914a7ec6071de828cb97863f107a873f368159be7a4\n"
     ]
    },
    {
     "name": "stderr",
     "output_type": "stream",
     "text": [
      "could not detect version_main.therefore, we are assuming it is chrome 108 or higher\n"
     ]
    },
    {
     "name": "stdout",
     "output_type": "stream",
     "text": [
      "Saved to db successfully\n",
      "Done with link 4058: https://www.zoopla.co.uk/for-sale/details/64081140/?search_identifier=ab5ee44b4dc65918cd11e914a7ec6071de828cb97863f107a873f368159be7a4\n",
      "Starting extraction for link 4059: https://www.zoopla.co.uk/for-sale/details/64040851/?search_identifier=ab5ee44b4dc65918cd11e914a7ec6071de828cb97863f107a873f368159be7a4\n"
     ]
    },
    {
     "name": "stderr",
     "output_type": "stream",
     "text": [
      "could not detect version_main.therefore, we are assuming it is chrome 108 or higher\n"
     ]
    },
    {
     "name": "stdout",
     "output_type": "stream",
     "text": [
      "Saved to db successfully\n",
      "Done with link 4059: https://www.zoopla.co.uk/for-sale/details/64040851/?search_identifier=ab5ee44b4dc65918cd11e914a7ec6071de828cb97863f107a873f368159be7a4\n",
      "Starting extraction for link 4060: https://www.zoopla.co.uk/for-sale/details/64021118/?search_identifier=ab5ee44b4dc65918cd11e914a7ec6071de828cb97863f107a873f368159be7a4\n"
     ]
    },
    {
     "name": "stderr",
     "output_type": "stream",
     "text": [
      "could not detect version_main.therefore, we are assuming it is chrome 108 or higher\n"
     ]
    },
    {
     "name": "stdout",
     "output_type": "stream",
     "text": [
      "Saved to db successfully\n",
      "Done with link 4060: https://www.zoopla.co.uk/for-sale/details/64021118/?search_identifier=ab5ee44b4dc65918cd11e914a7ec6071de828cb97863f107a873f368159be7a4\n",
      "Starting extraction for link 4061: https://www.zoopla.co.uk/for-sale/details/63989807/?search_identifier=ab5ee44b4dc65918cd11e914a7ec6071de828cb97863f107a873f368159be7a4\n"
     ]
    },
    {
     "name": "stderr",
     "output_type": "stream",
     "text": [
      "could not detect version_main.therefore, we are assuming it is chrome 108 or higher\n"
     ]
    },
    {
     "name": "stdout",
     "output_type": "stream",
     "text": [
      "Saved to db successfully\n",
      "Done with link 4061: https://www.zoopla.co.uk/for-sale/details/63989807/?search_identifier=ab5ee44b4dc65918cd11e914a7ec6071de828cb97863f107a873f368159be7a4\n",
      "Starting extraction for link 4062: https://www.zoopla.co.uk/for-sale/details/63951679/?search_identifier=ab5ee44b4dc65918cd11e914a7ec6071de828cb97863f107a873f368159be7a4\n"
     ]
    },
    {
     "name": "stderr",
     "output_type": "stream",
     "text": [
      "could not detect version_main.therefore, we are assuming it is chrome 108 or higher\n"
     ]
    },
    {
     "name": "stdout",
     "output_type": "stream",
     "text": [
      "Saved to db successfully\n",
      "Done with link 4062: https://www.zoopla.co.uk/for-sale/details/63951679/?search_identifier=ab5ee44b4dc65918cd11e914a7ec6071de828cb97863f107a873f368159be7a4\n",
      "Starting extraction for link 4063: https://www.zoopla.co.uk/for-sale/details/63944744/?search_identifier=7d40da13c9c53e14cbf48e4c847205f9997d8cc5e24ab099796a5507e25d9760\n"
     ]
    },
    {
     "name": "stderr",
     "output_type": "stream",
     "text": [
      "could not detect version_main.therefore, we are assuming it is chrome 108 or higher\n"
     ]
    },
    {
     "name": "stdout",
     "output_type": "stream",
     "text": [
      "Saved to db successfully\n",
      "Done with link 4063: https://www.zoopla.co.uk/for-sale/details/63944744/?search_identifier=7d40da13c9c53e14cbf48e4c847205f9997d8cc5e24ab099796a5507e25d9760\n",
      "Starting extraction for link 4064: https://www.zoopla.co.uk/for-sale/details/63869775/?search_identifier=7d40da13c9c53e14cbf48e4c847205f9997d8cc5e24ab099796a5507e25d9760\n"
     ]
    },
    {
     "name": "stderr",
     "output_type": "stream",
     "text": [
      "could not detect version_main.therefore, we are assuming it is chrome 108 or higher\n"
     ]
    },
    {
     "name": "stdout",
     "output_type": "stream",
     "text": [
      "Saved to db successfully\n",
      "Done with link 4064: https://www.zoopla.co.uk/for-sale/details/63869775/?search_identifier=7d40da13c9c53e14cbf48e4c847205f9997d8cc5e24ab099796a5507e25d9760\n",
      "Starting extraction for link 4065: https://www.zoopla.co.uk/for-sale/details/63907604/?search_identifier=7d40da13c9c53e14cbf48e4c847205f9997d8cc5e24ab099796a5507e25d9760\n"
     ]
    },
    {
     "name": "stderr",
     "output_type": "stream",
     "text": [
      "could not detect version_main.therefore, we are assuming it is chrome 108 or higher\n"
     ]
    },
    {
     "name": "stdout",
     "output_type": "stream",
     "text": [
      "Saved to db successfully\n",
      "Done with link 4065: https://www.zoopla.co.uk/for-sale/details/63907604/?search_identifier=7d40da13c9c53e14cbf48e4c847205f9997d8cc5e24ab099796a5507e25d9760\n",
      "Starting extraction for link 4066: https://www.zoopla.co.uk/for-sale/details/60765539/?search_identifier=7d40da13c9c53e14cbf48e4c847205f9997d8cc5e24ab099796a5507e25d9760\n"
     ]
    },
    {
     "name": "stderr",
     "output_type": "stream",
     "text": [
      "could not detect version_main.therefore, we are assuming it is chrome 108 or higher\n"
     ]
    },
    {
     "name": "stdout",
     "output_type": "stream",
     "text": [
      "Saved to db successfully\n",
      "Done with link 4066: https://www.zoopla.co.uk/for-sale/details/60765539/?search_identifier=7d40da13c9c53e14cbf48e4c847205f9997d8cc5e24ab099796a5507e25d9760\n",
      "Starting extraction for link 4067: https://www.zoopla.co.uk/new-homes/details/63895093/?search_identifier=7d40da13c9c53e14cbf48e4c847205f9997d8cc5e24ab099796a5507e25d9760\n"
     ]
    },
    {
     "name": "stderr",
     "output_type": "stream",
     "text": [
      "could not detect version_main.therefore, we are assuming it is chrome 108 or higher\n"
     ]
    },
    {
     "name": "stdout",
     "output_type": "stream",
     "text": [
      "Saved to db successfully\n",
      "Done with link 4067: https://www.zoopla.co.uk/new-homes/details/63895093/?search_identifier=7d40da13c9c53e14cbf48e4c847205f9997d8cc5e24ab099796a5507e25d9760\n",
      "Starting extraction for link 4068: https://www.zoopla.co.uk/for-sale/details/63878632/?search_identifier=7d40da13c9c53e14cbf48e4c847205f9997d8cc5e24ab099796a5507e25d9760\n"
     ]
    },
    {
     "name": "stderr",
     "output_type": "stream",
     "text": [
      "could not detect version_main.therefore, we are assuming it is chrome 108 or higher\n"
     ]
    },
    {
     "name": "stdout",
     "output_type": "stream",
     "text": [
      "Saved to db successfully\n",
      "Done with link 4068: https://www.zoopla.co.uk/for-sale/details/63878632/?search_identifier=7d40da13c9c53e14cbf48e4c847205f9997d8cc5e24ab099796a5507e25d9760\n",
      "Starting extraction for link 4069: https://www.zoopla.co.uk/new-homes/details/63855906/?search_identifier=7d40da13c9c53e14cbf48e4c847205f9997d8cc5e24ab099796a5507e25d9760\n"
     ]
    },
    {
     "name": "stderr",
     "output_type": "stream",
     "text": [
      "could not detect version_main.therefore, we are assuming it is chrome 108 or higher\n"
     ]
    },
    {
     "name": "stdout",
     "output_type": "stream",
     "text": [
      "Saved to db successfully\n",
      "Done with link 4069: https://www.zoopla.co.uk/new-homes/details/63855906/?search_identifier=7d40da13c9c53e14cbf48e4c847205f9997d8cc5e24ab099796a5507e25d9760\n",
      "Starting extraction for link 4070: https://www.zoopla.co.uk/for-sale/details/63837655/?search_identifier=7d40da13c9c53e14cbf48e4c847205f9997d8cc5e24ab099796a5507e25d9760\n"
     ]
    },
    {
     "name": "stderr",
     "output_type": "stream",
     "text": [
      "could not detect version_main.therefore, we are assuming it is chrome 108 or higher\n"
     ]
    },
    {
     "name": "stdout",
     "output_type": "stream",
     "text": [
      "Saved to db successfully\n",
      "Done with link 4070: https://www.zoopla.co.uk/for-sale/details/63837655/?search_identifier=7d40da13c9c53e14cbf48e4c847205f9997d8cc5e24ab099796a5507e25d9760\n",
      "Starting extraction for link 4071: https://www.zoopla.co.uk/new-homes/details/63831085/?search_identifier=7d40da13c9c53e14cbf48e4c847205f9997d8cc5e24ab099796a5507e25d9760\n"
     ]
    },
    {
     "name": "stderr",
     "output_type": "stream",
     "text": [
      "could not detect version_main.therefore, we are assuming it is chrome 108 or higher\n"
     ]
    },
    {
     "name": "stdout",
     "output_type": "stream",
     "text": [
      "Saved to db successfully\n",
      "Done with link 4071: https://www.zoopla.co.uk/new-homes/details/63831085/?search_identifier=7d40da13c9c53e14cbf48e4c847205f9997d8cc5e24ab099796a5507e25d9760\n",
      "Starting extraction for link 4072: https://www.zoopla.co.uk/for-sale/details/63807901/?search_identifier=7d40da13c9c53e14cbf48e4c847205f9997d8cc5e24ab099796a5507e25d9760\n"
     ]
    },
    {
     "name": "stderr",
     "output_type": "stream",
     "text": [
      "could not detect version_main.therefore, we are assuming it is chrome 108 or higher\n"
     ]
    },
    {
     "name": "stdout",
     "output_type": "stream",
     "text": [
      "Saved to db successfully\n",
      "Done with link 4072: https://www.zoopla.co.uk/for-sale/details/63807901/?search_identifier=7d40da13c9c53e14cbf48e4c847205f9997d8cc5e24ab099796a5507e25d9760\n",
      "Starting extraction for link 4073: https://www.zoopla.co.uk/for-sale/details/63788791/?search_identifier=7d40da13c9c53e14cbf48e4c847205f9997d8cc5e24ab099796a5507e25d9760\n"
     ]
    },
    {
     "name": "stderr",
     "output_type": "stream",
     "text": [
      "could not detect version_main.therefore, we are assuming it is chrome 108 or higher\n"
     ]
    },
    {
     "name": "stdout",
     "output_type": "stream",
     "text": [
      "Saved to db successfully\n",
      "Done with link 4073: https://www.zoopla.co.uk/for-sale/details/63788791/?search_identifier=7d40da13c9c53e14cbf48e4c847205f9997d8cc5e24ab099796a5507e25d9760\n",
      "Starting extraction for link 4074: https://www.zoopla.co.uk/for-sale/details/63782808/?search_identifier=7d40da13c9c53e14cbf48e4c847205f9997d8cc5e24ab099796a5507e25d9760\n"
     ]
    },
    {
     "name": "stderr",
     "output_type": "stream",
     "text": [
      "could not detect version_main.therefore, we are assuming it is chrome 108 or higher\n"
     ]
    },
    {
     "name": "stdout",
     "output_type": "stream",
     "text": [
      "Saved to db successfully\n",
      "Done with link 4074: https://www.zoopla.co.uk/for-sale/details/63782808/?search_identifier=7d40da13c9c53e14cbf48e4c847205f9997d8cc5e24ab099796a5507e25d9760\n",
      "Starting extraction for link 4075: https://www.zoopla.co.uk/for-sale/details/56236929/?search_identifier=7d40da13c9c53e14cbf48e4c847205f9997d8cc5e24ab099796a5507e25d9760\n"
     ]
    },
    {
     "name": "stderr",
     "output_type": "stream",
     "text": [
      "could not detect version_main.therefore, we are assuming it is chrome 108 or higher\n"
     ]
    },
    {
     "name": "stdout",
     "output_type": "stream",
     "text": [
      "Saved to db successfully\n",
      "Done with link 4075: https://www.zoopla.co.uk/for-sale/details/56236929/?search_identifier=7d40da13c9c53e14cbf48e4c847205f9997d8cc5e24ab099796a5507e25d9760\n",
      "Starting extraction for link 4076: https://www.zoopla.co.uk/for-sale/details/63754373/?search_identifier=7d40da13c9c53e14cbf48e4c847205f9997d8cc5e24ab099796a5507e25d9760\n"
     ]
    },
    {
     "name": "stderr",
     "output_type": "stream",
     "text": [
      "could not detect version_main.therefore, we are assuming it is chrome 108 or higher\n"
     ]
    },
    {
     "name": "stdout",
     "output_type": "stream",
     "text": [
      "Saved to db successfully\n",
      "Done with link 4076: https://www.zoopla.co.uk/for-sale/details/63754373/?search_identifier=7d40da13c9c53e14cbf48e4c847205f9997d8cc5e24ab099796a5507e25d9760\n",
      "Starting extraction for link 4077: https://www.zoopla.co.uk/new-homes/details/63624668/?search_identifier=7d40da13c9c53e14cbf48e4c847205f9997d8cc5e24ab099796a5507e25d9760\n"
     ]
    },
    {
     "name": "stderr",
     "output_type": "stream",
     "text": [
      "could not detect version_main.therefore, we are assuming it is chrome 108 or higher\n"
     ]
    },
    {
     "name": "stdout",
     "output_type": "stream",
     "text": [
      "Saved to db successfully\n",
      "Done with link 4077: https://www.zoopla.co.uk/new-homes/details/63624668/?search_identifier=7d40da13c9c53e14cbf48e4c847205f9997d8cc5e24ab099796a5507e25d9760\n",
      "Starting extraction for link 4078: https://www.zoopla.co.uk/new-homes/details/63519305/?search_identifier=7d40da13c9c53e14cbf48e4c847205f9997d8cc5e24ab099796a5507e25d9760\n"
     ]
    },
    {
     "name": "stderr",
     "output_type": "stream",
     "text": [
      "could not detect version_main.therefore, we are assuming it is chrome 108 or higher\n"
     ]
    },
    {
     "name": "stdout",
     "output_type": "stream",
     "text": [
      "Saved to db successfully\n",
      "Done with link 4078: https://www.zoopla.co.uk/new-homes/details/63519305/?search_identifier=7d40da13c9c53e14cbf48e4c847205f9997d8cc5e24ab099796a5507e25d9760\n",
      "Starting extraction for link 4079: https://www.zoopla.co.uk/new-homes/details/63519306/?search_identifier=7d40da13c9c53e14cbf48e4c847205f9997d8cc5e24ab099796a5507e25d9760\n"
     ]
    },
    {
     "name": "stderr",
     "output_type": "stream",
     "text": [
      "could not detect version_main.therefore, we are assuming it is chrome 108 or higher\n"
     ]
    },
    {
     "name": "stdout",
     "output_type": "stream",
     "text": [
      "Saved to db successfully\n",
      "Done with link 4079: https://www.zoopla.co.uk/new-homes/details/63519306/?search_identifier=7d40da13c9c53e14cbf48e4c847205f9997d8cc5e24ab099796a5507e25d9760\n",
      "Starting extraction for link 4080: https://www.zoopla.co.uk/for-sale/details/63497459/?search_identifier=7d40da13c9c53e14cbf48e4c847205f9997d8cc5e24ab099796a5507e25d9760\n"
     ]
    },
    {
     "name": "stderr",
     "output_type": "stream",
     "text": [
      "could not detect version_main.therefore, we are assuming it is chrome 108 or higher\n"
     ]
    },
    {
     "name": "stdout",
     "output_type": "stream",
     "text": [
      "Saved to db successfully\n",
      "Done with link 4080: https://www.zoopla.co.uk/for-sale/details/63497459/?search_identifier=7d40da13c9c53e14cbf48e4c847205f9997d8cc5e24ab099796a5507e25d9760\n",
      "Starting extraction for link 4081: https://www.zoopla.co.uk/for-sale/details/63484904/?search_identifier=7d40da13c9c53e14cbf48e4c847205f9997d8cc5e24ab099796a5507e25d9760\n"
     ]
    },
    {
     "name": "stderr",
     "output_type": "stream",
     "text": [
      "could not detect version_main.therefore, we are assuming it is chrome 108 or higher\n"
     ]
    },
    {
     "name": "stdout",
     "output_type": "stream",
     "text": [
      "Saved to db successfully\n",
      "Done with link 4081: https://www.zoopla.co.uk/for-sale/details/63484904/?search_identifier=7d40da13c9c53e14cbf48e4c847205f9997d8cc5e24ab099796a5507e25d9760\n",
      "Starting extraction for link 4082: https://www.zoopla.co.uk/for-sale/details/63455640/?search_identifier=7d40da13c9c53e14cbf48e4c847205f9997d8cc5e24ab099796a5507e25d9760\n"
     ]
    },
    {
     "name": "stderr",
     "output_type": "stream",
     "text": [
      "could not detect version_main.therefore, we are assuming it is chrome 108 or higher\n"
     ]
    },
    {
     "name": "stdout",
     "output_type": "stream",
     "text": [
      "Saved to db successfully\n",
      "Done with link 4082: https://www.zoopla.co.uk/for-sale/details/63455640/?search_identifier=7d40da13c9c53e14cbf48e4c847205f9997d8cc5e24ab099796a5507e25d9760\n",
      "Starting extraction for link 4083: https://www.zoopla.co.uk/for-sale/details/63443322/?search_identifier=7d40da13c9c53e14cbf48e4c847205f9997d8cc5e24ab099796a5507e25d9760\n"
     ]
    },
    {
     "name": "stderr",
     "output_type": "stream",
     "text": [
      "could not detect version_main.therefore, we are assuming it is chrome 108 or higher\n"
     ]
    },
    {
     "name": "stdout",
     "output_type": "stream",
     "text": [
      "Saved to db successfully\n",
      "Done with link 4083: https://www.zoopla.co.uk/for-sale/details/63443322/?search_identifier=7d40da13c9c53e14cbf48e4c847205f9997d8cc5e24ab099796a5507e25d9760\n",
      "Starting extraction for link 4084: https://www.zoopla.co.uk/for-sale/details/63409267/?search_identifier=7d40da13c9c53e14cbf48e4c847205f9997d8cc5e24ab099796a5507e25d9760\n"
     ]
    },
    {
     "name": "stderr",
     "output_type": "stream",
     "text": [
      "could not detect version_main.therefore, we are assuming it is chrome 108 or higher\n"
     ]
    },
    {
     "name": "stdout",
     "output_type": "stream",
     "text": [
      "Saved to db successfully\n",
      "Done with link 4084: https://www.zoopla.co.uk/for-sale/details/63409267/?search_identifier=7d40da13c9c53e14cbf48e4c847205f9997d8cc5e24ab099796a5507e25d9760\n",
      "Starting extraction for link 4085: https://www.zoopla.co.uk/for-sale/details/41238265/?search_identifier=7d40da13c9c53e14cbf48e4c847205f9997d8cc5e24ab099796a5507e25d9760\n"
     ]
    },
    {
     "name": "stderr",
     "output_type": "stream",
     "text": [
      "could not detect version_main.therefore, we are assuming it is chrome 108 or higher\n"
     ]
    },
    {
     "name": "stdout",
     "output_type": "stream",
     "text": [
      "Saved to db successfully\n",
      "Done with link 4085: https://www.zoopla.co.uk/for-sale/details/41238265/?search_identifier=7d40da13c9c53e14cbf48e4c847205f9997d8cc5e24ab099796a5507e25d9760\n",
      "Starting extraction for link 4086: https://www.zoopla.co.uk/for-sale/details/63366516/?search_identifier=7d40da13c9c53e14cbf48e4c847205f9997d8cc5e24ab099796a5507e25d9760\n"
     ]
    },
    {
     "name": "stderr",
     "output_type": "stream",
     "text": [
      "could not detect version_main.therefore, we are assuming it is chrome 108 or higher\n"
     ]
    },
    {
     "name": "stdout",
     "output_type": "stream",
     "text": [
      "Saved to db successfully\n",
      "Done with link 4086: https://www.zoopla.co.uk/for-sale/details/63366516/?search_identifier=7d40da13c9c53e14cbf48e4c847205f9997d8cc5e24ab099796a5507e25d9760\n",
      "Starting extraction for link 4087: https://www.zoopla.co.uk/for-sale/details/63282483/?search_identifier=7d40da13c9c53e14cbf48e4c847205f9997d8cc5e24ab099796a5507e25d9760\n"
     ]
    },
    {
     "name": "stderr",
     "output_type": "stream",
     "text": [
      "could not detect version_main.therefore, we are assuming it is chrome 108 or higher\n"
     ]
    },
    {
     "name": "stdout",
     "output_type": "stream",
     "text": [
      "Saved to db successfully\n",
      "Done with link 4087: https://www.zoopla.co.uk/for-sale/details/63282483/?search_identifier=7d40da13c9c53e14cbf48e4c847205f9997d8cc5e24ab099796a5507e25d9760\n",
      "Starting extraction for link 4088: https://www.zoopla.co.uk/for-sale/details/62882712/?search_identifier=4d805e0e06ec0df367a76d7c67c4c72c1bff5c06b31f144eae7f507f54c88f12\n"
     ]
    },
    {
     "name": "stderr",
     "output_type": "stream",
     "text": [
      "could not detect version_main.therefore, we are assuming it is chrome 108 or higher\n"
     ]
    },
    {
     "name": "stdout",
     "output_type": "stream",
     "text": [
      "Saved to db successfully\n",
      "Done with link 4088: https://www.zoopla.co.uk/for-sale/details/62882712/?search_identifier=4d805e0e06ec0df367a76d7c67c4c72c1bff5c06b31f144eae7f507f54c88f12\n",
      "Starting extraction for link 4089: https://www.zoopla.co.uk/for-sale/details/62866175/?search_identifier=4d805e0e06ec0df367a76d7c67c4c72c1bff5c06b31f144eae7f507f54c88f12\n"
     ]
    },
    {
     "name": "stderr",
     "output_type": "stream",
     "text": [
      "could not detect version_main.therefore, we are assuming it is chrome 108 or higher\n"
     ]
    },
    {
     "name": "stdout",
     "output_type": "stream",
     "text": [
      "Saved to db successfully\n",
      "Done with link 4089: https://www.zoopla.co.uk/for-sale/details/62866175/?search_identifier=4d805e0e06ec0df367a76d7c67c4c72c1bff5c06b31f144eae7f507f54c88f12\n",
      "Starting extraction for link 4090: https://www.zoopla.co.uk/for-sale/details/62844379/?search_identifier=4d805e0e06ec0df367a76d7c67c4c72c1bff5c06b31f144eae7f507f54c88f12\n"
     ]
    },
    {
     "name": "stderr",
     "output_type": "stream",
     "text": [
      "could not detect version_main.therefore, we are assuming it is chrome 108 or higher\n"
     ]
    },
    {
     "name": "stdout",
     "output_type": "stream",
     "text": [
      "Saved to db successfully\n",
      "Done with link 4090: https://www.zoopla.co.uk/for-sale/details/62844379/?search_identifier=4d805e0e06ec0df367a76d7c67c4c72c1bff5c06b31f144eae7f507f54c88f12\n",
      "Starting extraction for link 4091: https://www.zoopla.co.uk/for-sale/details/56722326/?search_identifier=4d805e0e06ec0df367a76d7c67c4c72c1bff5c06b31f144eae7f507f54c88f12\n"
     ]
    },
    {
     "name": "stderr",
     "output_type": "stream",
     "text": [
      "could not detect version_main.therefore, we are assuming it is chrome 108 or higher\n"
     ]
    },
    {
     "name": "stdout",
     "output_type": "stream",
     "text": [
      "Saved to db successfully\n",
      "Done with link 4091: https://www.zoopla.co.uk/for-sale/details/56722326/?search_identifier=4d805e0e06ec0df367a76d7c67c4c72c1bff5c06b31f144eae7f507f54c88f12\n",
      "Starting extraction for link 4092: https://www.zoopla.co.uk/for-sale/details/62737180/?search_identifier=4d805e0e06ec0df367a76d7c67c4c72c1bff5c06b31f144eae7f507f54c88f12\n"
     ]
    },
    {
     "name": "stderr",
     "output_type": "stream",
     "text": [
      "could not detect version_main.therefore, we are assuming it is chrome 108 or higher\n"
     ]
    },
    {
     "name": "stdout",
     "output_type": "stream",
     "text": [
      "Saved to db successfully\n",
      "Done with link 4092: https://www.zoopla.co.uk/for-sale/details/62737180/?search_identifier=4d805e0e06ec0df367a76d7c67c4c72c1bff5c06b31f144eae7f507f54c88f12\n",
      "Starting extraction for link 4093: https://www.zoopla.co.uk/for-sale/details/60563851/?search_identifier=4d805e0e06ec0df367a76d7c67c4c72c1bff5c06b31f144eae7f507f54c88f12\n"
     ]
    },
    {
     "name": "stderr",
     "output_type": "stream",
     "text": [
      "could not detect version_main.therefore, we are assuming it is chrome 108 or higher\n"
     ]
    },
    {
     "name": "stdout",
     "output_type": "stream",
     "text": [
      "Saved to db successfully\n",
      "Done with link 4093: https://www.zoopla.co.uk/for-sale/details/60563851/?search_identifier=4d805e0e06ec0df367a76d7c67c4c72c1bff5c06b31f144eae7f507f54c88f12\n",
      "Starting extraction for link 4094: https://www.zoopla.co.uk/for-sale/details/62715927/?search_identifier=4d805e0e06ec0df367a76d7c67c4c72c1bff5c06b31f144eae7f507f54c88f12\n"
     ]
    },
    {
     "name": "stderr",
     "output_type": "stream",
     "text": [
      "could not detect version_main.therefore, we are assuming it is chrome 108 or higher\n"
     ]
    },
    {
     "name": "stdout",
     "output_type": "stream",
     "text": [
      "Saved to db successfully\n",
      "Done with link 4094: https://www.zoopla.co.uk/for-sale/details/62715927/?search_identifier=4d805e0e06ec0df367a76d7c67c4c72c1bff5c06b31f144eae7f507f54c88f12\n",
      "Starting extraction for link 4095: https://www.zoopla.co.uk/for-sale/details/62706208/?search_identifier=4d805e0e06ec0df367a76d7c67c4c72c1bff5c06b31f144eae7f507f54c88f12\n"
     ]
    },
    {
     "name": "stderr",
     "output_type": "stream",
     "text": [
      "could not detect version_main.therefore, we are assuming it is chrome 108 or higher\n"
     ]
    },
    {
     "name": "stdout",
     "output_type": "stream",
     "text": [
      "Saved to db successfully\n",
      "Done with link 4095: https://www.zoopla.co.uk/for-sale/details/62706208/?search_identifier=4d805e0e06ec0df367a76d7c67c4c72c1bff5c06b31f144eae7f507f54c88f12\n",
      "Starting extraction for link 4096: https://www.zoopla.co.uk/for-sale/details/62663090/?search_identifier=4d805e0e06ec0df367a76d7c67c4c72c1bff5c06b31f144eae7f507f54c88f12\n"
     ]
    },
    {
     "name": "stderr",
     "output_type": "stream",
     "text": [
      "could not detect version_main.therefore, we are assuming it is chrome 108 or higher\n"
     ]
    },
    {
     "name": "stdout",
     "output_type": "stream",
     "text": [
      "Saved to db successfully\n",
      "Done with link 4096: https://www.zoopla.co.uk/for-sale/details/62663090/?search_identifier=4d805e0e06ec0df367a76d7c67c4c72c1bff5c06b31f144eae7f507f54c88f12\n",
      "Starting extraction for link 4097: https://www.zoopla.co.uk/for-sale/details/59344726/?search_identifier=4d805e0e06ec0df367a76d7c67c4c72c1bff5c06b31f144eae7f507f54c88f12\n",
      "An error occurred for link in get_data_func: https://www.zoopla.co.uk/for-sale/details/59344726/?search_identifier=4d805e0e06ec0df367a76d7c67c4c72c1bff5c06b31f144eae7f507f54c88f12: Message: no such element: Unable to locate element: {\"method\":\"xpath\",\"selector\":\"//p[@data-testid=\"price\"]\"}\n",
      "  (Session info: chrome=115.0.5790.110); For documentation on this error, please visit: https://www.selenium.dev/documentation/webdriver/troubleshooting/errors#no-such-element-exception\n",
      "Stacktrace:\n",
      "Backtrace:\n",
      "\tGetHandleVerifier [0x00E2A813+48355]\n",
      "\t(No symbol) [0x00DBC4B1]\n",
      "\t(No symbol) [0x00CC5358]\n",
      "\t(No symbol) [0x00CF09A5]\n",
      "\t(No symbol) [0x00CF0B3B]\n",
      "\t(No symbol) [0x00D1E232]\n",
      "\t(No symbol) [0x00D0A784]\n",
      "\t(No symbol) [0x00D1C922]\n",
      "\t(No symbol) [0x00D0A536]\n",
      "\t(No symbol) [0x00CE82DC]\n",
      "\t(No symbol) [0x00CE93DD]\n",
      "\tGetHandleVerifier [0x0108AABD+2539405]\n",
      "\tGetHandleVerifier [0x010CA78F+2800735]\n",
      "\tGetHandleVerifier [0x010C456C+2775612]\n",
      "\tGetHandleVerifier [0x00EB51E0+616112]\n",
      "\t(No symbol) [0x00DC5F8C]\n",
      "\t(No symbol) [0x00DC2328]\n",
      "\t(No symbol) [0x00DC240B]\n",
      "\t(No symbol) [0x00DB4FF7]\n",
      "\tBaseThreadInitThunk [0x76A57D59+25]\n",
      "\tRtlInitializeExceptionChain [0x7773B79B+107]\n",
      "\tRtlClearBits [0x7773B71F+191]\n",
      "\n"
     ]
    },
    {
     "name": "stderr",
     "output_type": "stream",
     "text": [
      "could not detect version_main.therefore, we are assuming it is chrome 108 or higher\n"
     ]
    },
    {
     "name": "stdout",
     "output_type": "stream",
     "text": [
      "Saved to db successfully\n",
      "Done with link 4097: https://www.zoopla.co.uk/for-sale/details/59344726/?search_identifier=4d805e0e06ec0df367a76d7c67c4c72c1bff5c06b31f144eae7f507f54c88f12\n",
      "Starting extraction for link 4098: https://www.zoopla.co.uk/for-sale/details/62464798/?search_identifier=4d805e0e06ec0df367a76d7c67c4c72c1bff5c06b31f144eae7f507f54c88f12\n"
     ]
    },
    {
     "name": "stderr",
     "output_type": "stream",
     "text": [
      "could not detect version_main.therefore, we are assuming it is chrome 108 or higher\n"
     ]
    },
    {
     "name": "stdout",
     "output_type": "stream",
     "text": [
      "Saved to db successfully\n",
      "Done with link 4098: https://www.zoopla.co.uk/for-sale/details/62464798/?search_identifier=4d805e0e06ec0df367a76d7c67c4c72c1bff5c06b31f144eae7f507f54c88f12\n",
      "Starting extraction for link 4099: https://www.zoopla.co.uk/for-sale/details/62129828/?search_identifier=4d805e0e06ec0df367a76d7c67c4c72c1bff5c06b31f144eae7f507f54c88f12\n"
     ]
    },
    {
     "name": "stderr",
     "output_type": "stream",
     "text": [
      "could not detect version_main.therefore, we are assuming it is chrome 108 or higher\n"
     ]
    },
    {
     "name": "stdout",
     "output_type": "stream",
     "text": [
      "Saved to db successfully\n",
      "Done with link 4099: https://www.zoopla.co.uk/for-sale/details/62129828/?search_identifier=4d805e0e06ec0df367a76d7c67c4c72c1bff5c06b31f144eae7f507f54c88f12\n",
      "Starting extraction for link 4100: https://www.zoopla.co.uk/for-sale/details/62110300/?search_identifier=4d805e0e06ec0df367a76d7c67c4c72c1bff5c06b31f144eae7f507f54c88f12\n"
     ]
    },
    {
     "name": "stderr",
     "output_type": "stream",
     "text": [
      "could not detect version_main.therefore, we are assuming it is chrome 108 or higher\n"
     ]
    },
    {
     "name": "stdout",
     "output_type": "stream",
     "text": [
      "Saved to db successfully\n",
      "Done with link 4100: https://www.zoopla.co.uk/for-sale/details/62110300/?search_identifier=4d805e0e06ec0df367a76d7c67c4c72c1bff5c06b31f144eae7f507f54c88f12\n",
      "Starting extraction for link 4101: https://www.zoopla.co.uk/for-sale/details/52357867/?search_identifier=4d805e0e06ec0df367a76d7c67c4c72c1bff5c06b31f144eae7f507f54c88f12\n"
     ]
    },
    {
     "name": "stderr",
     "output_type": "stream",
     "text": [
      "could not detect version_main.therefore, we are assuming it is chrome 108 or higher\n"
     ]
    },
    {
     "name": "stdout",
     "output_type": "stream",
     "text": [
      "Saved to db successfully\n",
      "Done with link 4101: https://www.zoopla.co.uk/for-sale/details/52357867/?search_identifier=4d805e0e06ec0df367a76d7c67c4c72c1bff5c06b31f144eae7f507f54c88f12\n",
      "Starting extraction for link 4102: https://www.zoopla.co.uk/for-sale/details/62061063/?search_identifier=4d805e0e06ec0df367a76d7c67c4c72c1bff5c06b31f144eae7f507f54c88f12\n"
     ]
    },
    {
     "name": "stderr",
     "output_type": "stream",
     "text": [
      "could not detect version_main.therefore, we are assuming it is chrome 108 or higher\n"
     ]
    },
    {
     "name": "stdout",
     "output_type": "stream",
     "text": [
      "Saved to db successfully\n",
      "Done with link 4102: https://www.zoopla.co.uk/for-sale/details/62061063/?search_identifier=4d805e0e06ec0df367a76d7c67c4c72c1bff5c06b31f144eae7f507f54c88f12\n",
      "Starting extraction for link 4103: https://www.zoopla.co.uk/for-sale/details/61964702/?search_identifier=4d805e0e06ec0df367a76d7c67c4c72c1bff5c06b31f144eae7f507f54c88f12\n"
     ]
    },
    {
     "name": "stderr",
     "output_type": "stream",
     "text": [
      "could not detect version_main.therefore, we are assuming it is chrome 108 or higher\n"
     ]
    },
    {
     "name": "stdout",
     "output_type": "stream",
     "text": [
      "Saved to db successfully\n",
      "Done with link 4103: https://www.zoopla.co.uk/for-sale/details/61964702/?search_identifier=4d805e0e06ec0df367a76d7c67c4c72c1bff5c06b31f144eae7f507f54c88f12\n",
      "Starting extraction for link 4104: https://www.zoopla.co.uk/for-sale/details/61542225/?search_identifier=4d805e0e06ec0df367a76d7c67c4c72c1bff5c06b31f144eae7f507f54c88f12\n"
     ]
    },
    {
     "name": "stderr",
     "output_type": "stream",
     "text": [
      "could not detect version_main.therefore, we are assuming it is chrome 108 or higher\n"
     ]
    },
    {
     "name": "stdout",
     "output_type": "stream",
     "text": [
      "Saved to db successfully\n",
      "Done with link 4104: https://www.zoopla.co.uk/for-sale/details/61542225/?search_identifier=4d805e0e06ec0df367a76d7c67c4c72c1bff5c06b31f144eae7f507f54c88f12\n",
      "Starting extraction for link 4105: https://www.zoopla.co.uk/for-sale/details/61133056/?search_identifier=4d805e0e06ec0df367a76d7c67c4c72c1bff5c06b31f144eae7f507f54c88f12\n"
     ]
    }
   ],
   "source": [
    "# List of property links and corresponding postcodes\n",
    "property_data = pd.read_csv('./Data/property_urls_london.csv', index_col = [0], skiprows=10838, header=None)\n",
    "property_data.columns = ['postcode', 'url']\n",
    "# Initialize a list to store the scraped data\n",
    "# data_list = []\n",
    "\n",
    "# Bad links\n",
    "# bad_links = []\n",
    "\n",
    "# counter\n",
    "count = 10837\n",
    "\n",
    "# Loop through each property link and postcode\n",
    "for row in property_data.itertuples():\n",
    "    count += 1\n",
    "    try:\n",
    "        print(f\"Starting extraction for link {count}: {row.url}\")\n",
    "        data_dict = get_property_info(row.url, row.postcode)\n",
    "        save_to_db(data_dict)\n",
    "        print(f\"Done with link {count}: {row.url}\")\n",
    "#         break\n",
    "    except Exception as ex:\n",
    "        print(f'An error occurred for link {count} {row.url}: {ex}')\n",
    "        bad_link = {'Link':row.url, 'postcode': row.postcode}\n",
    "#         bad_links.append(bad_link)\n",
    "        continue\n",
    "\n",
    "print(\"Completed Data Extraction\")\n",
    "# Convert the list of dictionaries to a DataFrame\n",
    "# df = pd.DataFrame(data_list)\n",
    "\n",
    "# Display the DataFrame\n",
    "# print(df)\n",
    "\n",
    "# Save the DataFrame to a CSV file\n",
    "# df.to_csv(\"./Data/scraped_property_data_for_Brighton.csv\", index=False)\n",
    "\n",
    "# Save Bad Links\n",
    "# pd.DataFrame(bad_links).to_csv(\"./Data/bad_links.csv\", index=False)"
   ]
  },
  {
   "cell_type": "code",
   "execution_count": null,
   "id": "98108f9b",
   "metadata": {},
   "outputs": [],
   "source": [
    "bad_links"
   ]
  },
  {
   "cell_type": "code",
   "execution_count": null,
   "id": "41c686d3",
   "metadata": {},
   "outputs": [],
   "source": [
    "current_links = pd.read_csv('./Data/extracted_data_brighon.csv', usecols=[0])\n",
    "all_the_links = pd.read_csv('./Data/property_urls_updated.csv', index_col = [0])"
   ]
  },
  {
   "cell_type": "code",
   "execution_count": null,
   "id": "5f52028a",
   "metadata": {},
   "outputs": [],
   "source": [
    "all_links = all_the_links['urls'].tolist()\n",
    "links_extracted = current_links['property_link'].tolist()\n",
    "\n",
    "links_to_get_list =  []\n",
    "\n",
    "for link_to_get in all_links:\n",
    "    if link_to_get not in links_extracted:\n",
    "        links_to_get_list.append(True)\n",
    "    else:\n",
    "        links_to_get_list.append(False)\n",
    "links_to_get_list\n",
    "len(links_to_get_list)\n",
    "links_to_get = all_the_links.loc[links_to_get_list]\n",
    "links_to_get"
   ]
  },
  {
   "cell_type": "code",
   "execution_count": null,
   "id": "24aa9d15",
   "metadata": {},
   "outputs": [],
   "source": [
    "# counter\n",
    "count = 0\n",
    "\n",
    "# Loop through each property link and postcode\n",
    "for row in links_to_get.itertuples():\n",
    "    count += 1\n",
    "    try:\n",
    "        data_dict = get_property_info(row.urls, row.postcode)\n",
    "        save_to_db(data_dict)   \n",
    "    except Exception as ex:\n",
    "        print(f'An error occurred for link {count} {row.urls}: {ex}')\n",
    "        continue\n",
    "    finally:\n",
    "        print(f\"Done with link {count}: {row.urls}\")\n",
    "\n",
    "print(\"Completed Data Extraction\")"
   ]
  },
  {
   "cell_type": "code",
   "execution_count": null,
   "id": "6687ad7a",
   "metadata": {},
   "outputs": [],
   "source": []
  }
 ],
 "metadata": {
  "kernelspec": {
   "display_name": "Python 3 (ipykernel)",
   "language": "python",
   "name": "python3"
  },
  "language_info": {
   "codemirror_mode": {
    "name": "ipython",
    "version": 3
   },
   "file_extension": ".py",
   "mimetype": "text/x-python",
   "name": "python",
   "nbconvert_exporter": "python",
   "pygments_lexer": "ipython3",
   "version": "3.9.13"
  }
 },
 "nbformat": 4,
 "nbformat_minor": 5
}
